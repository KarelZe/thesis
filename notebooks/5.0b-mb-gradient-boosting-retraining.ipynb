{
  "cells": [
    {
      "cell_type": "markdown",
      "metadata": {
        "id": "view-in-github",
        "colab_type": "text"
      },
      "source": [
        "<a href=\"https://colab.research.google.com/github/KarelZe/thesis/blob/speedy-transformer/notebooks/5.0b-mb-gradient-boosting-retraining.ipynb\" target=\"_parent\"><img src=\"https://colab.research.google.com/assets/colab-badge.svg\" alt=\"Open In Colab\"/></a>"
      ]
    },
    {
      "cell_type": "code",
      "source": [
        "# !pip install catboost\n",
        "# !pip install wandb\n",
        "# !pip install gcsfs\n",
        "# !pip install google-cloud-storage\n",
        "# !pip install fastparquet"
      ],
      "metadata": {
        "id": "cGxCbjeqVvKR"
      },
      "execution_count": null,
      "outputs": []
    },
    {
      "cell_type": "code",
      "source": [
        "import json\n",
        "import os\n",
        "import pickle\n",
        "from pathlib import Path\n",
        "\n",
        "import gcsfs\n",
        "import google.auth\n",
        "import numpy as np\n",
        "import pandas as pd\n",
        "import wandb\n",
        "from catboost import CatBoostClassifier, Pool\n",
        "from google.colab import auth, output\n",
        "from sklearn.metrics import accuracy_score"
      ],
      "metadata": {
        "id": "CaVEwMkoVl9E"
      },
      "execution_count": null,
      "outputs": []
    },
    {
      "cell_type": "code",
      "execution_count": null,
      "metadata": {
        "id": "DMpV9NTt25pj"
      },
      "outputs": [],
      "source": [
        "# connect to google cloud storage\n",
        "auth.authenticate_user()\n",
        "credentials, _ = google.auth.default()\n",
        "fs = gcsfs.GCSFileSystem(project=\"thesis\", token=credentials)\n",
        "# fs = gcsfs.GCSFileSystem(project=\"thesis\")\n",
        "# fs_prefix = \"gs://\"\n"
      ]
    },
    {
      "cell_type": "code",
      "execution_count": null,
      "metadata": {
        "id": "vFMHPh-nTcSI"
      },
      "outputs": [],
      "source": [
        "\n",
        "\n",
        "# https://github.com/KarelZe/thesis/blob/main/notebooks/\n",
        "# 3.0a-mb-explanatory_data_analysis.ipynb\n",
        "features_categorical = [\n",
        "    (\"bin_root\", 8667),\n",
        "    (\"bin_option_type\", 2),\n",
        "    (\"bin_issue_type\", 6),\n",
        "]\n",
        "\n",
        "features_classical = [\n",
        "    \"TRADE_PRICE\",\n",
        "    \"bid_ex\",\n",
        "    \"ask_ex\",\n",
        "    \"BEST_ASK\",\n",
        "    \"BEST_BID\",\n",
        "    \"price_ex_lag\",\n",
        "    \"price_ex_lead\",\n",
        "    \"price_all_lag\",\n",
        "    \"price_all_lead\",\n",
        "    \"chg_ex_lead\",\n",
        "    \"chg_ex_lag\",\n",
        "    \"chg_all_lead\",\n",
        "    \"chg_all_lag\",\n",
        "    \"prox_ex\",\n",
        "    \"prox_best\",\n",
        "]\n",
        "\n",
        "features_size = [\n",
        "    \"bid_ask_size_ratio_ex\",\n",
        "    \"rel_bid_size_ex\",\n",
        "    \"rel_ask_size_ex\",\n",
        "    \"TRADE_SIZE\",\n",
        "    \"bid_size_ex\",\n",
        "    \"ask_size_ex\",\n",
        "    \"depth_ex\",\n",
        "]\n",
        "\n",
        "features_classical_size = [\n",
        "    *features_classical,\n",
        "    *features_size,\n",
        "]\n"
      ]
    },
    {
      "cell_type": "code",
      "execution_count": null,
      "metadata": {
        "id": "8_7CKpqcONOy"
      },
      "outputs": [],
      "source": [
        "os.environ[\"GCLOUD_PROJECT\"] = \"flowing-mantis-239216\"\n"
      ]
    },
    {
      "cell_type": "code",
      "execution_count": null,
      "metadata": {
        "id": "ah1dofx3TdDj"
      },
      "outputs": [],
      "source": [
        "# see https://wandb.ai/fbv/thesis/runs/kwlaw02g/overview?workspace=user-karelze\n",
        "run = wandb.init(project=\"thesis\", entity=\"fbv\")\n",
        "\n",
        "dataset = \"fbv/thesis/ise_log_standardized:v1\"\n",
        "artifact = run.use_artifact(dataset)\n",
        "data_dir = artifact.download()\n",
        "\n",
        "study = \"fbv/thesis/xl3n4thc.optuna:v99\"\n",
        "artifact = run.use_artifact(study)\n",
        "study_dir = artifact.download()\n",
        "\n",
        "\n",
        "model = \"xl3n4thc_CatBoostClassifier_default.cbm:v9\"\n",
        "model_name = model.split(\"/\")[-1].split(\":\")[0]\n",
        "\n",
        "artifact = run.use_artifact(model)\n",
        "model_dir = artifact.download()\n"
      ]
    },
    {
      "cell_type": "code",
      "execution_count": null,
      "metadata": {
        "id": "VivmC-8L3YUc"
      },
      "outputs": [],
      "source": [
        "model = CatBoostClassifier()\n",
        "model.load_model(fname=Path(model_dir, model_name))\n"
      ]
    },
    {
      "cell_type": "markdown",
      "metadata": {
        "id": "8h_Vxyr_Vc4M"
      },
      "source": [
        "## Accuracy with retraining🎯"
      ]
    },
    {
      "cell_type": "code",
      "execution_count": null,
      "metadata": {
        "id": "B7VXu8rFVc4c"
      },
      "outputs": [],
      "source": [
        "X_train = pd.read_parquet(Path(data_dir, \"train_set_60.parquet\"), engine=\"fastparquet\")\n",
        "y_train= X_train[\"buy_sell\"]\n",
        "X_train = X_train[features_classical_size]\n",
        "\n",
        "X_val= pd.read_parquet(Path(data_dir, \"val_set_20.parquet\"), engine=\"fastparquet\")\n",
        "y_val= X_val[\"buy_sell\"]\n",
        "X_val = X_val[features_classical_size]\n",
        "\n",
        "X_retrain = pd.concat([X_train, X_val])\n",
        "del X_train, X_val\n",
        "\n",
        "y_retrain = pd.concat([y_train, y_val])\n",
        "del y_train, y_val"
      ]
    },
    {
      "cell_type": "code",
      "execution_count": null,
      "metadata": {
        "id": "bvN1WFCjVc4e"
      },
      "outputs": [],
      "source": [
        "weight = np.geomspace(0.001, 1, num=len(y_retrain))\n",
        "# keep ordering of data\n",
        "timestamp = np.linspace(0, 1, len(y_retrain))\n",
        "\n",
        "# save to pool for faster memory access\n",
        "retrain_pool = Pool(\n",
        "            data=X_retrain,\n",
        "            label=y_retrain,\n",
        "            cat_features=None,\n",
        "            weight=weight,\n",
        "            timestamp=timestamp,\n",
        ")\n",
        "\n",
        "model.fit(retrain_pool, verbose=False)"
      ]
    },
    {
      "cell_type": "code",
      "execution_count": null,
      "metadata": {
        "id": "iIeFm3pTVc4f"
      },
      "outputs": [],
      "source": [
        "X_test = pd.read_parquet(Path(data_dir, \"test_set_20.parquet\"), engine=\"fastparquet\")\n",
        "y_test = X_test[\"buy_sell\"]\n",
        "X_test = X_test[features_classical_size]"
      ]
    },
    {
      "cell_type": "code",
      "execution_count": null,
      "metadata": {
        "id": "1p9scNk4Vc4f"
      },
      "outputs": [],
      "source": [
        "acc = model.score(X_test, y_test)\n",
        "print(acc)"
      ]
    },
    {
      "cell_type": "code",
      "execution_count": null,
      "metadata": {
        "id": "jrY6sUe4Vc4g"
      },
      "outputs": [],
      "source": [
        "# without retraining 0.7232624886732101"
      ]
    }
  ],
  "metadata": {
    "accelerator": "GPU",
    "colab": {
      "machine_shape": "hm",
      "name": "Untitled2.ipynb",
      "provenance": [],
      "include_colab_link": true
    },
    "gpuClass": "premium",
    "kernelspec": {
      "display_name": "Python 3",
      "language": "python",
      "name": "python3"
    },
    "language_info": {
      "codemirror_mode": {
        "name": "ipython",
        "version": 3
      },
      "file_extension": ".py",
      "mimetype": "text/x-python",
      "name": "python",
      "nbconvert_exporter": "python",
      "pygments_lexer": "ipython3",
      "version": "3.9.4 (tags/v3.9.4:1f2e308, Apr  6 2021, 13:40:21) [MSC v.1928 64 bit (AMD64)]"
    },
    "vscode": {
      "interpreter": {
        "hash": "f8ea8b642289b706932f10b33ee389827410dbaef0ce2c5bf73615e8d3267d88"
      }
    }
  },
  "nbformat": 4,
  "nbformat_minor": 0
}