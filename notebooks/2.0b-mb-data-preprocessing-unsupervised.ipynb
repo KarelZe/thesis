{
 "cells": [
  {
   "cell_type": "code",
   "execution_count": null,
   "metadata": {
    "id": "EMApm-vLnME4",
    "tags": []
   },
   "outputs": [],
   "source": [
    "import os\n",
    "\n",
    "import gcsfs\n",
    "import pandas as pd\n",
    "import wandb\n",
    "\n",
    "from tqdm.auto import tqdm\n"
   ]
  },
  {
   "cell_type": "code",
   "execution_count": null,
   "metadata": {
    "tags": []
   },
   "outputs": [],
   "source": [
    "exchange = \"ise\"\n",
    "strategy = \"unsupervised\"\n",
    "max_i = 30  # number of partial files\n"
   ]
  },
  {
   "cell_type": "code",
   "execution_count": null,
   "metadata": {
    "colab": {
     "base_uri": "https://localhost:8080/",
     "height": 156
    },
    "id": "1lOR6Vl6qsV4",
    "outputId": "03233ef3-6a55-403f-9f3f-512faf750fcf",
    "tags": []
   },
   "outputs": [],
   "source": [
    "# connect to weights and biases\n",
    "run = wandb.init(project=\"thesis\", job_type=\"dataset-creation\", entity=\"fbv\")\n",
    "dataset = wandb.Artifact(name=f\"{exchange}_{strategy}_raw\", type=\"preprocessed_data\")\n"
   ]
  },
  {
   "cell_type": "code",
   "execution_count": null,
   "metadata": {
    "id": "BrztJtC09T3r",
    "tags": []
   },
   "outputs": [],
   "source": [
    "os.environ[\"GCLOUD_PROJECT\"] = \"flowing-mantis-239216\"\n",
    "\n",
    "fs = gcsfs.GCSFileSystem(project=\"thesis\")\n"
   ]
  },
  {
   "cell_type": "code",
   "execution_count": null,
   "metadata": {
    "colab": {
     "base_uri": "https://localhost:8080/",
     "height": 49,
     "referenced_widgets": [
      "4d7f9360034d4f7b9955aee831d6d7d3",
      "4d8ea07b14f54c7d82bc798e3461d805",
      "4bdec5b3a7e9408fbcb6bd78c9af2f2a",
      "0ca5733765964ec98fac7cc37f3f5b4d",
      "e3e2fcef42d84ec3a253592924d983b0",
      "f0553b0afc414ef2809155781a537297",
      "0158384350754acbacf2a84b4201f243",
      "fa8f5a4c05854076b30393e19a28a37b",
      "e053320ff8be4c0197aad525836ad1da",
      "e9937d0215a44f76824459990e839b81",
      "5dcf12739bb24483a695e0c8c9c5a16c"
     ]
    },
    "id": "EF0_Mz8DYjGz",
    "outputId": "be36b7f7-f906-43f5-8e61-c25a84e89318",
    "tags": []
   },
   "outputs": [],
   "source": [
    "files = [\n",
    "    f\"gs://thesis-bucket-option-trade-classification/data/preprocessed/{'matched' if strategy == 'supervised' else 'unmatched'}_{exchange}_quotes_min_mem_usage_extended_part_{i:04d}.parquet\"\n",
    "    for i in range(0, max_i)\n",
    "]\n",
    "\n",
    "columns = [\n",
    "    \"QUOTE_DATETIME\",\n",
    "    \"ROOT\",\n",
    "    \"EXPIRATION\",\n",
    "    \"STRK_PRC\",\n",
    "    \"OPTION_TYPE\",\n",
    "    \"TRADE_SIZE\",\n",
    "    \"TRADE_PRICE\",\n",
    "    \"BEST_BID\",\n",
    "    \"BEST_ASK\",\n",
    "    \"ask_ex\",\n",
    "    \"bid_ex\",\n",
    "    \"bid_size_ex\",\n",
    "    \"ask_size_ex\",\n",
    "    \"price_all_lead\",\n",
    "    \"price_all_lag\",\n",
    "    \"optionid\",\n",
    "    \"price_ex_lead\",\n",
    "    \"price_ex_lag\",\n",
    "    \"issue_type\",\n",
    "    \"myn\",\n",
    "]\n",
    "\n",
    "dfs = [pd.read_parquet(gc_file, columns=columns) for gc_file in tqdm(files)]\n",
    "df = pd.concat(dfs)\n",
    "\n",
    "del dfs\n"
   ]
  },
  {
   "cell_type": "code",
   "execution_count": null,
   "metadata": {
    "colab": {
     "base_uri": "https://localhost:8080/"
    },
    "id": "MNQsqX_Eh9xa",
    "outputId": "832f87e8-81d0-42ae-b7eb-c8014e7fe30c",
    "tags": []
   },
   "outputs": [],
   "source": [
    "df.memory_usage(deep=True).sum()\n"
   ]
  },
  {
   "cell_type": "code",
   "execution_count": null,
   "metadata": {
    "tags": []
   },
   "outputs": [],
   "source": [
    "df.sort_values(by=\"QUOTE_DATETIME\", inplace=True)\n"
   ]
  },
  {
   "cell_type": "code",
   "execution_count": null,
   "metadata": {
    "tags": []
   },
   "outputs": [],
   "source": [
    "df.head()\n"
   ]
  },
  {
   "cell_type": "code",
   "execution_count": null,
   "metadata": {
    "tags": []
   },
   "outputs": [],
   "source": [
    "columns = [\"buy_sell\", *df.columns.tolist()]\n",
    "labelled_df = pd.read_parquet(\n",
    "    f\"gs://thesis-bucket-option-trade-classification/data/preprocessed/{exchange}_supervised_train.parquet\",\n",
    "    columns=columns,\n",
    ")\n"
   ]
  },
  {
   "cell_type": "code",
   "execution_count": null,
   "metadata": {
    "tags": []
   },
   "outputs": [],
   "source": [
    "labelled_df.head()\n"
   ]
  },
  {
   "cell_type": "code",
   "execution_count": null,
   "metadata": {
    "tags": []
   },
   "outputs": [],
   "source": [
    "# slice labelled dataframe to range of unlabelled\n",
    "date_range = labelled_df.QUOTE_DATETIME.between(\n",
    "    df.QUOTE_DATETIME.min(), df.QUOTE_DATETIME.max()\n",
    ")\n",
    "labelled_df = labelled_df[date_range]\n"
   ]
  },
  {
   "cell_type": "code",
   "execution_count": null,
   "metadata": {
    "tags": []
   },
   "outputs": [],
   "source": [
    "subset = [\n",
    "    \"QUOTE_DATETIME\",\n",
    "    \"ROOT\",\n",
    "    \"OPTION_TYPE\",\n",
    "    \"EXPIRATION\",\n",
    "    \"STRK_PRC\",\n",
    "    \"TRADE_SIZE\",\n",
    "    \"TRADE_PRICE\",\n",
    "    \"BEST_BID\",\n",
    "    \"BEST_ASK\",\n",
    "    \"ask_ex\",\n",
    "    \"bid_ex\",\n",
    "    \"bid_size_ex\",\n",
    "    \"ask_size_ex\",\n",
    "    # Can be different for lobelled and unlabelled trades:\n",
    "    # 'optionid','issue_type', 'myn',\n",
    "    # 'price_all_lead', 'price_all_lag',\n",
    "    # 'price_ex_lead', 'price_ex_lag',\n",
    "]\n",
    "\n",
    "labelled_df[\"duplicated\"] = labelled_df.duplicated(subset=subset)\n"
   ]
  },
  {
   "cell_type": "code",
   "execution_count": null,
   "metadata": {
    "tags": []
   },
   "outputs": [],
   "source": [
    "labelled_df[\"duplicated\"].value_counts()\n"
   ]
  },
  {
   "cell_type": "code",
   "execution_count": null,
   "metadata": {
    "tags": []
   },
   "outputs": [],
   "source": [
    "labelled_df[labelled_df[\"optionid\"] == 83414152.0].head(20).T\n"
   ]
  },
  {
   "cell_type": "code",
   "execution_count": null,
   "metadata": {
    "tags": []
   },
   "outputs": [],
   "source": [
    "labelled_df[\"index_labelled\"] = labelled_df.index\n"
   ]
  },
  {
   "cell_type": "code",
   "execution_count": null,
   "metadata": {
    "tags": []
   },
   "outputs": [],
   "source": [
    "len_labelled_df = len(labelled_df)\n",
    "len_df = len(df)\n"
   ]
  },
  {
   "cell_type": "code",
   "execution_count": null,
   "metadata": {
    "tags": []
   },
   "outputs": [],
   "source": [
    "# merge with indicator and find out which ones can be labelled\n",
    "df_w_indicator = pd.merge(\n",
    "    df,\n",
    "    labelled_df,\n",
    "    on=[\n",
    "        \"QUOTE_DATETIME\",\n",
    "        \"ROOT\",\n",
    "        \"OPTION_TYPE\",\n",
    "        \"EXPIRATION\",\n",
    "        \"STRK_PRC\",\n",
    "        \"TRADE_SIZE\",\n",
    "        \"TRADE_PRICE\",\n",
    "        \"BEST_BID\",\n",
    "        \"BEST_ASK\",\n",
    "        \"ask_ex\",\n",
    "        \"bid_ex\",\n",
    "        \"bid_size_ex\",\n",
    "        \"ask_size_ex\",\n",
    "        # myn seems to be different for labelled and unlabelled trades\n",
    "        # 'issue_type', 'optionid',\n",
    "        # 'price_all_lead', 'price_all_lag',\n",
    "        # 'price_ex_lead', 'price_ex_lag',\n",
    "    ],\n",
    "    how=\"left\",\n",
    "    indicator=\"exists\",\n",
    "    suffixes=(\"_unlabelled\", \"_labelled\"),\n",
    ")\n"
   ]
  },
  {
   "cell_type": "code",
   "execution_count": null,
   "metadata": {
    "tags": []
   },
   "outputs": [],
   "source": [
    "df_w_indicator.head(50)\n"
   ]
  },
  {
   "cell_type": "code",
   "execution_count": null,
   "metadata": {
    "tags": []
   },
   "outputs": [],
   "source": [
    "# interpolate missing indices. index increases 1 -> 2. So filling with float seems ok. will be inserted between int of labelled df.\n",
    "df_w_indicator[\"index_labelled\"].interpolate(\"linear\", inplace=True)\n",
    "df_w_indicator.set_index(keys=\"index_labelled\", drop=True, inplace=True)\n"
   ]
  },
  {
   "cell_type": "code",
   "execution_count": null,
   "metadata": {
    "tags": []
   },
   "outputs": [],
   "source": [
    "df_w_indicator.head()\n"
   ]
  },
  {
   "cell_type": "code",
   "execution_count": null,
   "metadata": {
    "tags": []
   },
   "outputs": [],
   "source": [
    "len(df_w_indicator)\n"
   ]
  },
  {
   "cell_type": "code",
   "execution_count": null,
   "metadata": {
    "tags": []
   },
   "outputs": [],
   "source": [
    "len(df)\n"
   ]
  },
  {
   "cell_type": "code",
   "execution_count": null,
   "metadata": {
    "tags": []
   },
   "outputs": [],
   "source": [
    "len(labelled_df)\n"
   ]
  },
  {
   "cell_type": "code",
   "execution_count": null,
   "metadata": {
    "tags": []
   },
   "outputs": [],
   "source": [
    "# sort columns lexigraphically\n",
    "df_w_indicator.sort_index(axis=1, inplace=True)\n"
   ]
  },
  {
   "cell_type": "code",
   "execution_count": null,
   "metadata": {
    "tags": []
   },
   "outputs": [],
   "source": [
    "df_w_indicator[df_w_indicator[\"exists\"] == \"both\"].head(20).T\n"
   ]
  },
  {
   "cell_type": "markdown",
   "metadata": {},
   "source": [
    "## Creation of Unsupervised Sample"
   ]
  },
  {
   "cell_type": "code",
   "execution_count": null,
   "metadata": {},
   "outputs": [],
   "source": [
    "# use last 6 months. May increase later\n",
    "date_range = df_w_indicator.QUOTE_DATETIME.between(\n",
    "    \"2013-04-24 00:00:00\", \"2013-10-24 16:14:48\"\n",
    ")\n",
    "\n",
    "df_w_indicator = df_w_indicator[date_range]\n"
   ]
  },
  {
   "cell_type": "code",
   "execution_count": null,
   "metadata": {
    "tags": []
   },
   "outputs": [],
   "source": [
    "df_w_indicator.head(5).T\n"
   ]
  },
  {
   "cell_type": "code",
   "execution_count": null,
   "metadata": {
    "tags": []
   },
   "outputs": [],
   "source": [
    "# add fields\n",
    "df_w_indicator[\"buy_sell\"] = 0\n"
   ]
  },
  {
   "cell_type": "code",
   "execution_count": null,
   "metadata": {
    "tags": []
   },
   "outputs": [],
   "source": [
    "# create day_vol of option series. Note optionid is not enough for option series. Use key (p. 8) from paper instead.\n",
    "df_w_indicator[\"day_vol\"] = df_w_indicator.groupby(\n",
    "    [\n",
    "        df_w_indicator[\"QUOTE_DATETIME\"].dt.date,\n",
    "        df_w_indicator[\"OPTION_TYPE\"],\n",
    "        df_w_indicator[\"ROOT\"],\n",
    "        df_w_indicator[\"STRK_PRC\"],\n",
    "        df_w_indicator[\"EXPIRATION\"],\n",
    "    ]\n",
    ")[\"TRADE_SIZE\"].transform(\"sum\")\n"
   ]
  },
  {
   "cell_type": "code",
   "execution_count": null,
   "metadata": {
    "tags": []
   },
   "outputs": [],
   "source": [
    "df_w_indicator\n"
   ]
  },
  {
   "cell_type": "code",
   "execution_count": null,
   "metadata": {
    "tags": []
   },
   "outputs": [],
   "source": [
    "train = df_w_indicator[df_w_indicator[\"exists\"] == \"left_only\"].drop(\n",
    "    columns=[\n",
    "        \"issue_type_labelled\",\n",
    "        \"myn_labelled\",\n",
    "        \"optionid_labelled\",\n",
    "        \"price_all_lag_labelled\",\n",
    "        \"price_all_lead_labelled\",\n",
    "        \"price_ex_lag_labelled\",\n",
    "        \"price_ex_lead_labelled\",\n",
    "        \"exists\",\n",
    "        \"duplicated\",\n",
    "    ]\n",
    ")\n",
    "train.columns = train.columns.str.replace(r\"_unlabelled$\", \"\", regex=True)\n"
   ]
  },
  {
   "cell_type": "code",
   "execution_count": null,
   "metadata": {
    "tags": []
   },
   "outputs": [],
   "source": [
    "train.head().T\n"
   ]
  },
  {
   "cell_type": "code",
   "execution_count": null,
   "metadata": {
    "tags": []
   },
   "outputs": [],
   "source": [
    "train.describe()\n"
   ]
  },
  {
   "cell_type": "code",
   "execution_count": null,
   "metadata": {
    "colab": {
     "base_uri": "https://localhost:8080/"
    },
    "id": "bytUkJvbzip5",
    "outputId": "5e36a245-8fb4-4e16-e0eb-f200b91125e4",
    "tags": []
   },
   "outputs": [],
   "source": [
    "output_path = f\"gs://thesis-bucket-option-trade-classification/data/preprocessed/{exchange}_{strategy}_train.parquet\"\n",
    "train.to_parquet(output_path)\n",
    "dataset.add_reference(output_path, name=\"train_set\")\n"
   ]
  },
  {
   "cell_type": "code",
   "execution_count": null,
   "metadata": {
    "colab": {
     "base_uri": "https://localhost:8080/",
     "height": 150,
     "referenced_widgets": [
      "6b60ea75e39244e0ab6d69223b750362",
      "243cf10365e7450b97bcf859c4f2b09b",
      "16c6dcf2018d48af901c74e40139a055",
      "4a69faec38d14fcaba2f0019d1c4b2cc",
      "155ad65757364fb68df13146405d9fec",
      "4a96056fdf0f47e4b42d0ce556cfd0f3",
      "65fdf2e184c443738ca4f46c9c1d2c74",
      "3aa1c2802ffd4a34812e8a534a19112e"
     ]
    },
    "id": "Yg-tqsd2zWCW",
    "outputId": "c7c30e45-0309-4b4a-dd60-8883d33c12d6",
    "tags": []
   },
   "outputs": [],
   "source": [
    "# Log the artifact to save it as an output of this run\n",
    "run.log_artifact(dataset)\n",
    "wandb.finish()\n"
   ]
  }
 ],
 "metadata": {
  "accelerator": "GPU",
  "colab": {
   "include_colab_link": true,
   "machine_shape": "hm",
   "name": "Untitled2.ipynb",
   "provenance": []
  },
  "gpuClass": "premium",
  "kernelspec": {
   "display_name": "myenv",
   "language": "python",
   "name": "myenv"
  },
  "language_info": {
   "codemirror_mode": {
    "name": "ipython",
    "version": 3
   },
   "file_extension": ".py",
   "mimetype": "text/x-python",
   "name": "python",
   "nbconvert_exporter": "python",
   "pygments_lexer": "ipython3",
   "version": "3.8.6"
  },
  "vscode": {
   "interpreter": {
    "hash": "f8ea8b642289b706932f10b33ee389827410dbaef0ce2c5bf73615e8d3267d88"
   }
  }
 },
 "nbformat": 4,
 "nbformat_minor": 4
}
