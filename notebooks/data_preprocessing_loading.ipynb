{
  "cells": [
    {
      "cell_type": "markdown",
      "metadata": {
        "id": "view-in-github",
        "colab_type": "text"
      },
      "source": [
        "<a href=\"https://colab.research.google.com/github/KarelZe/thesis/blob/main/notebooks/data_preprocessing_loading.ipynb\" target=\"_parent\"><img src=\"https://colab.research.google.com/assets/colab-badge.svg\" alt=\"Open In Colab\"/></a>"
      ]
    },
    {
      "cell_type": "code",
      "source": [
        "!pip install modin"
      ],
      "metadata": {
        "colab": {
          "base_uri": "https://localhost:8080/"
        },
        "id": "LQwYMQAr-0vu",
        "outputId": "bbc7209b-45f5-4fee-b565-0ef20e337a31"
      },
      "execution_count": 40,
      "outputs": [
        {
          "output_type": "stream",
          "name": "stdout",
          "text": [
            "Looking in indexes: https://pypi.org/simple, https://us-python.pkg.dev/colab-wheels/public/simple/\n",
            "Requirement already satisfied: modin in /usr/local/lib/python3.7/dist-packages (0.12.1)\n",
            "Requirement already satisfied: pandas==1.3.5 in /usr/local/lib/python3.7/dist-packages (from modin) (1.3.5)\n",
            "Requirement already satisfied: packaging in /usr/local/lib/python3.7/dist-packages (from modin) (21.3)\n",
            "Requirement already satisfied: fsspec in /usr/local/lib/python3.7/dist-packages (from modin) (2022.10.0)\n",
            "Requirement already satisfied: numpy>=1.16.5 in /usr/local/lib/python3.7/dist-packages (from modin) (1.21.6)\n",
            "Requirement already satisfied: pytz>=2017.3 in /usr/local/lib/python3.7/dist-packages (from pandas==1.3.5->modin) (2022.5)\n",
            "Requirement already satisfied: python-dateutil>=2.7.3 in /usr/local/lib/python3.7/dist-packages (from pandas==1.3.5->modin) (2.8.2)\n",
            "Requirement already satisfied: six>=1.5 in /usr/local/lib/python3.7/dist-packages (from python-dateutil>=2.7.3->pandas==1.3.5->modin) (1.15.0)\n",
            "Requirement already satisfied: pyparsing!=3.0.5,>=2.0.2 in /usr/local/lib/python3.7/dist-packages (from packaging->modin) (3.0.9)\n"
          ]
        }
      ]
    },
    {
      "cell_type": "code",
      "source": [
        "# use gcs fuse to access google cloud storage\n",
        "# https://stackoverflow.com/a/60450255/5755604\n",
        "!echo \"deb http://packages.cloud.google.com/apt gcsfuse-bionic main\" > /etc/apt/sources.list.d/gcsfuse.list\n",
        "!curl https://packages.cloud.google.com/apt/doc/apt-key.gpg | apt-key add -\n",
        "!apt -qq update\n",
        "!apt -qq install gcsfuse\n",
        "\n",
        "# mount google cloud stoarge as drive\n",
        "!mkdir gcs\n",
        "!gcsfuse thesis-bucket-option-trade-classification gcs"
      ],
      "metadata": {
        "colab": {
          "base_uri": "https://localhost:8080/"
        },
        "id": "EMApm-vLnME4",
        "outputId": "588c5b47-729d-4fe7-cb6b-5923f61142ed"
      },
      "execution_count": 41,
      "outputs": [
        {
          "output_type": "stream",
          "name": "stdout",
          "text": [
            "  % Total    % Received % Xferd  Average Speed   Time    Time     Time  Current\n",
            "                                 Dload  Upload   Total   Spent    Left  Speed\n",
            "\r  0     0    0     0    0     0      0      0 --:--:-- --:--:-- --:--:--     0\r100  2537  100  2537    0     0  47867      0 --:--:-- --:--:-- --:--:-- 47867\n",
            "OK\n",
            "33 packages can be upgraded. Run 'apt list --upgradable' to see them.\n",
            "gcsfuse is already the newest version (0.41.7).\n",
            "The following package was automatically installed and is no longer required:\n",
            "  libnvidia-common-460\n",
            "Use 'apt autoremove' to remove it.\n",
            "0 upgraded, 0 newly installed, 0 to remove and 33 not upgraded.\n",
            "mkdir: cannot create directory ‘gcs’: File exists\n",
            "2022/10/28 08:25:47.109418 Start gcsfuse/0.41.7 (Go version go1.18.4) for app \"\" using mount point: /content/gcs\n",
            "2022/10/28 08:25:47.130550 Opening GCS connection...\n",
            "2022/10/28 08:25:47.368553 Mounting file system \"thesis-bucket-option-trade-classification\"...\n",
            "2022/10/28 08:25:47.371478 File system has been successfully mounted.\n"
          ]
        }
      ]
    },
    {
      "cell_type": "code",
      "source": [
        "import glob\n",
        "\n",
        "import modin.pandas as pd\n",
        "import modin.config as cfg\n",
        "from modin.config import ProgressBar\n",
        "from distributed import Client\n",
        "cfg.Engine.put(\"dask\")\n",
        "ProgressBar.enable()\n",
        "\n",
        "# import pandas as pd\n",
        "\n",
        "from tqdm.notebook import tqdm\n"
      ],
      "metadata": {
        "id": "BrztJtC09T3r"
      },
      "execution_count": 42,
      "outputs": []
    },
    {
      "cell_type": "code",
      "execution_count": 43,
      "metadata": {
        "id": "tOtLR4B0R-ql"
      },
      "outputs": [],
      "source": [
        "from google.colab import auth\n",
        "auth.authenticate_user()\n"
      ]
    },
    {
      "cell_type": "code",
      "source": [
        "client = Client()\n",
        "\n",
        "files = glob.glob(\"./gcs/data/preprocessed/matched_ise_quotes_min_mem_usage_part_*.parquet\")\n",
        "\n",
        "columns = ['UNDERLYING_SYMBOL', 'QUOTE_DATETIME', 'SEQUENCE_NUMBER', 'ROOT',\n",
        "       'EXPIRATION', 'STRK_PRC', 'OPTION_TYPE', 'TRADE_SIZE', 'TRADE_PRICE',\n",
        "       'BEST_BID', 'BEST_ASK', 'order_id', 'ask_ex', 'bid_ex', 'bid_size_ex',\n",
        "       'ask_size_ex', 'date', 'price_all_lead', 'price_all_lag', 'optionid',\n",
        "       'day_vol', 'price_ex_lead', 'price_ex_lag', 'buy_sell']\n",
        "\n",
        "df = pd.read_parquet(files, columns=columns)"
      ],
      "metadata": {
        "colab": {
          "base_uri": "https://localhost:8080/"
        },
        "id": "EF0_Mz8DYjGz",
        "outputId": "45e35cb9-013e-49b0-bcd6-a56f92aae0eb"
      },
      "execution_count": 44,
      "outputs": [
        {
          "output_type": "stream",
          "name": "stderr",
          "text": [
            "UserWarning: Port 8787 is already in use.\n",
            "Perhaps you already have a cluster running?\n",
            "Hosting the HTTP server on port 39889 instead\n"
          ]
        }
      ]
    },
    {
      "cell_type": "code",
      "source": [
        "df.memory_usage(deep=True).sum()"
      ],
      "metadata": {
        "id": "MNQsqX_Eh9xa",
        "outputId": "8e448caf-9d95-4c07-b172-1ae4a7781ac5",
        "colab": {
          "base_uri": "https://localhost:8080/",
          "height": 84,
          "referenced_widgets": [
            "eda403b338e14431be26e32423eab864",
            "103a014b9c284a448e77241f1fb56e37",
            "a66cf37d2f9e4bfe852c7681e1d507f3",
            "d89efbc803be40e197db48312481a844",
            "4fa9000ea76a477ea5e889d34a19c008",
            "404ce69f499e4ebabbe29332b4e2a335",
            "b088deef4d954e289520dc5cea703e9c",
            "169fe67faa38461da1e58fe6ee01ffdf",
            "48c634b441f04a98a8b080ac502b5789",
            "3ee296f8bcbe413da1490c3a2a268446",
            "a4e90bb7272144819d5552195d2eba03"
          ]
        }
      },
      "execution_count": 45,
      "outputs": [
        {
          "output_type": "stream",
          "name": "stderr",
          "text": [
            "UserWarning: Distributing <class 'int'> object. This may take some time.\n"
          ]
        },
        {
          "output_type": "display_data",
          "data": {
            "text/plain": [
              "Distributing Dataframe:   0%           Elapsed time: 00:00, estimated remaining time: ?"
            ],
            "application/vnd.jupyter.widget-view+json": {
              "version_major": 2,
              "version_minor": 0,
              "model_id": "eda403b338e14431be26e32423eab864"
            }
          },
          "metadata": {}
        },
        {
          "output_type": "execute_result",
          "data": {
            "text/plain": [
              "5417914446"
            ]
          },
          "metadata": {},
          "execution_count": 45
        }
      ]
    },
    {
      "cell_type": "code",
      "source": [
        "df.head().T"
      ],
      "metadata": {
        "colab": {
          "base_uri": "https://localhost:8080/",
          "height": 802
        },
        "id": "gHnFz65rZnOZ",
        "outputId": "334fa2a1-0b57-46a5-cb12-008bf4940161"
      },
      "execution_count": 61,
      "outputs": [
        {
          "output_type": "execute_result",
          "data": {
            "text/plain": [
              "                                     0                    1  \\\n",
              "UNDERLYING_SYMBOL                 BRCD                 SYMC   \n",
              "QUOTE_DATETIME     2005-05-02 09:30:02  2005-05-02 09:30:03   \n",
              "SEQUENCE_NUMBER                  72515                65366   \n",
              "ROOT                               YNU                  SYQ   \n",
              "EXPIRATION         2006-01-21 00:00:00  2005-06-18 00:00:00   \n",
              "STRK_PRC                           2.5                 15.0   \n",
              "OPTION_TYPE                          C                    C   \n",
              "TRADE_SIZE                          10                   10   \n",
              "TRADE_PRICE                       2.05                  3.9   \n",
              "BEST_BID                           1.9                  3.6   \n",
              "BEST_ASK                           2.1                  3.8   \n",
              "order_id                      53044578             53044590   \n",
              "ask_ex                             2.1                  NaN   \n",
              "bid_ex                             1.9                  NaN   \n",
              "bid_size_ex                      131.0                  NaN   \n",
              "ask_size_ex                       20.0                  NaN   \n",
              "date               2005-05-02 00:00:00  2005-05-02 00:00:00   \n",
              "price_all_lead                     1.9                  4.0   \n",
              "price_all_lag                      1.9                  4.0   \n",
              "optionid                    21060388.0           31624184.0   \n",
              "day_vol                           10.0                 10.0   \n",
              "price_ex_lead                      1.9                  4.6   \n",
              "price_ex_lag                       2.1                  4.0   \n",
              "buy_sell                           1.0                  1.0   \n",
              "\n",
              "                                     2                    3  \\\n",
              "UNDERLYING_SYMBOL                  SPY                 ADRX   \n",
              "QUOTE_DATETIME     2005-05-02 09:30:03  2005-05-02 09:30:03   \n",
              "SEQUENCE_NUMBER                  65373                79195   \n",
              "ROOT                               SWG                  QAX   \n",
              "EXPIRATION         2005-05-21 00:00:00  2005-06-18 00:00:00   \n",
              "STRK_PRC                         105.0                 25.0   \n",
              "OPTION_TYPE                          C                    C   \n",
              "TRADE_SIZE                          50                   10   \n",
              "TRADE_PRICE                       11.2                  0.2   \n",
              "BEST_BID                          11.1                  0.0   \n",
              "BEST_ASK                          11.4                 0.25   \n",
              "order_id                      53044591             53044600   \n",
              "ask_ex                            11.4                 0.25   \n",
              "bid_ex                            11.1                  0.0   \n",
              "bid_size_ex                      300.0                  0.0   \n",
              "ask_size_ex                      300.0                 86.0   \n",
              "date               2005-05-02 00:00:00  2005-05-02 00:00:00   \n",
              "price_all_lead                    11.8                 0.15   \n",
              "price_all_lag                     11.0                 0.15   \n",
              "optionid                    31620976.0           31560072.0   \n",
              "day_vol                           50.0                 10.0   \n",
              "price_ex_lead                     11.9                 0.15   \n",
              "price_ex_lag                      11.0                 0.15   \n",
              "buy_sell                          -1.0                  1.0   \n",
              "\n",
              "                                     4  \n",
              "UNDERLYING_SYMBOL                 ORCL  \n",
              "QUOTE_DATETIME     2005-05-02 09:30:03  \n",
              "SEQUENCE_NUMBER                  95870  \n",
              "ROOT                               ORQ  \n",
              "EXPIRATION         2005-12-17 00:00:00  \n",
              "STRK_PRC                          14.0  \n",
              "OPTION_TYPE                          C  \n",
              "TRADE_SIZE                          15  \n",
              "TRADE_PRICE                       0.25  \n",
              "BEST_BID                           0.3  \n",
              "BEST_ASK                           0.4  \n",
              "order_id                      53044601  \n",
              "ask_ex                            0.45  \n",
              "bid_ex                            0.25  \n",
              "bid_size_ex                     3356.0  \n",
              "ask_size_ex                      399.0  \n",
              "date               2005-05-02 00:00:00  \n",
              "price_all_lead                    0.35  \n",
              "price_all_lag                     0.35  \n",
              "optionid                    25240212.0  \n",
              "day_vol                           17.0  \n",
              "price_ex_lead                     0.35  \n",
              "price_ex_lag                      0.35  \n",
              "buy_sell                          -1.0  "
            ],
            "text/html": [
              "<div>\n",
              "<style scoped>\n",
              "    .dataframe tbody tr th:only-of-type {\n",
              "        vertical-align: middle;\n",
              "    }\n",
              "\n",
              "    .dataframe tbody tr th {\n",
              "        vertical-align: top;\n",
              "    }\n",
              "\n",
              "    .dataframe thead th {\n",
              "        text-align: right;\n",
              "    }\n",
              "</style>\n",
              "<table border=\"1\" class=\"dataframe\">\n",
              "  <thead>\n",
              "    <tr style=\"text-align: right;\">\n",
              "      <th></th>\n",
              "      <th>0</th>\n",
              "      <th>1</th>\n",
              "      <th>2</th>\n",
              "      <th>3</th>\n",
              "      <th>4</th>\n",
              "    </tr>\n",
              "  </thead>\n",
              "  <tbody>\n",
              "    <tr>\n",
              "      <th>UNDERLYING_SYMBOL</th>\n",
              "      <td>BRCD</td>\n",
              "      <td>SYMC</td>\n",
              "      <td>SPY</td>\n",
              "      <td>ADRX</td>\n",
              "      <td>ORCL</td>\n",
              "    </tr>\n",
              "    <tr>\n",
              "      <th>QUOTE_DATETIME</th>\n",
              "      <td>2005-05-02 09:30:02</td>\n",
              "      <td>2005-05-02 09:30:03</td>\n",
              "      <td>2005-05-02 09:30:03</td>\n",
              "      <td>2005-05-02 09:30:03</td>\n",
              "      <td>2005-05-02 09:30:03</td>\n",
              "    </tr>\n",
              "    <tr>\n",
              "      <th>SEQUENCE_NUMBER</th>\n",
              "      <td>72515</td>\n",
              "      <td>65366</td>\n",
              "      <td>65373</td>\n",
              "      <td>79195</td>\n",
              "      <td>95870</td>\n",
              "    </tr>\n",
              "    <tr>\n",
              "      <th>ROOT</th>\n",
              "      <td>YNU</td>\n",
              "      <td>SYQ</td>\n",
              "      <td>SWG</td>\n",
              "      <td>QAX</td>\n",
              "      <td>ORQ</td>\n",
              "    </tr>\n",
              "    <tr>\n",
              "      <th>EXPIRATION</th>\n",
              "      <td>2006-01-21 00:00:00</td>\n",
              "      <td>2005-06-18 00:00:00</td>\n",
              "      <td>2005-05-21 00:00:00</td>\n",
              "      <td>2005-06-18 00:00:00</td>\n",
              "      <td>2005-12-17 00:00:00</td>\n",
              "    </tr>\n",
              "    <tr>\n",
              "      <th>STRK_PRC</th>\n",
              "      <td>2.5</td>\n",
              "      <td>15.0</td>\n",
              "      <td>105.0</td>\n",
              "      <td>25.0</td>\n",
              "      <td>14.0</td>\n",
              "    </tr>\n",
              "    <tr>\n",
              "      <th>OPTION_TYPE</th>\n",
              "      <td>C</td>\n",
              "      <td>C</td>\n",
              "      <td>C</td>\n",
              "      <td>C</td>\n",
              "      <td>C</td>\n",
              "    </tr>\n",
              "    <tr>\n",
              "      <th>TRADE_SIZE</th>\n",
              "      <td>10</td>\n",
              "      <td>10</td>\n",
              "      <td>50</td>\n",
              "      <td>10</td>\n",
              "      <td>15</td>\n",
              "    </tr>\n",
              "    <tr>\n",
              "      <th>TRADE_PRICE</th>\n",
              "      <td>2.05</td>\n",
              "      <td>3.9</td>\n",
              "      <td>11.2</td>\n",
              "      <td>0.2</td>\n",
              "      <td>0.25</td>\n",
              "    </tr>\n",
              "    <tr>\n",
              "      <th>BEST_BID</th>\n",
              "      <td>1.9</td>\n",
              "      <td>3.6</td>\n",
              "      <td>11.1</td>\n",
              "      <td>0.0</td>\n",
              "      <td>0.3</td>\n",
              "    </tr>\n",
              "    <tr>\n",
              "      <th>BEST_ASK</th>\n",
              "      <td>2.1</td>\n",
              "      <td>3.8</td>\n",
              "      <td>11.4</td>\n",
              "      <td>0.25</td>\n",
              "      <td>0.4</td>\n",
              "    </tr>\n",
              "    <tr>\n",
              "      <th>order_id</th>\n",
              "      <td>53044578</td>\n",
              "      <td>53044590</td>\n",
              "      <td>53044591</td>\n",
              "      <td>53044600</td>\n",
              "      <td>53044601</td>\n",
              "    </tr>\n",
              "    <tr>\n",
              "      <th>ask_ex</th>\n",
              "      <td>2.1</td>\n",
              "      <td>NaN</td>\n",
              "      <td>11.4</td>\n",
              "      <td>0.25</td>\n",
              "      <td>0.45</td>\n",
              "    </tr>\n",
              "    <tr>\n",
              "      <th>bid_ex</th>\n",
              "      <td>1.9</td>\n",
              "      <td>NaN</td>\n",
              "      <td>11.1</td>\n",
              "      <td>0.0</td>\n",
              "      <td>0.25</td>\n",
              "    </tr>\n",
              "    <tr>\n",
              "      <th>bid_size_ex</th>\n",
              "      <td>131.0</td>\n",
              "      <td>NaN</td>\n",
              "      <td>300.0</td>\n",
              "      <td>0.0</td>\n",
              "      <td>3356.0</td>\n",
              "    </tr>\n",
              "    <tr>\n",
              "      <th>ask_size_ex</th>\n",
              "      <td>20.0</td>\n",
              "      <td>NaN</td>\n",
              "      <td>300.0</td>\n",
              "      <td>86.0</td>\n",
              "      <td>399.0</td>\n",
              "    </tr>\n",
              "    <tr>\n",
              "      <th>date</th>\n",
              "      <td>2005-05-02 00:00:00</td>\n",
              "      <td>2005-05-02 00:00:00</td>\n",
              "      <td>2005-05-02 00:00:00</td>\n",
              "      <td>2005-05-02 00:00:00</td>\n",
              "      <td>2005-05-02 00:00:00</td>\n",
              "    </tr>\n",
              "    <tr>\n",
              "      <th>price_all_lead</th>\n",
              "      <td>1.9</td>\n",
              "      <td>4.0</td>\n",
              "      <td>11.8</td>\n",
              "      <td>0.15</td>\n",
              "      <td>0.35</td>\n",
              "    </tr>\n",
              "    <tr>\n",
              "      <th>price_all_lag</th>\n",
              "      <td>1.9</td>\n",
              "      <td>4.0</td>\n",
              "      <td>11.0</td>\n",
              "      <td>0.15</td>\n",
              "      <td>0.35</td>\n",
              "    </tr>\n",
              "    <tr>\n",
              "      <th>optionid</th>\n",
              "      <td>21060388.0</td>\n",
              "      <td>31624184.0</td>\n",
              "      <td>31620976.0</td>\n",
              "      <td>31560072.0</td>\n",
              "      <td>25240212.0</td>\n",
              "    </tr>\n",
              "    <tr>\n",
              "      <th>day_vol</th>\n",
              "      <td>10.0</td>\n",
              "      <td>10.0</td>\n",
              "      <td>50.0</td>\n",
              "      <td>10.0</td>\n",
              "      <td>17.0</td>\n",
              "    </tr>\n",
              "    <tr>\n",
              "      <th>price_ex_lead</th>\n",
              "      <td>1.9</td>\n",
              "      <td>4.6</td>\n",
              "      <td>11.9</td>\n",
              "      <td>0.15</td>\n",
              "      <td>0.35</td>\n",
              "    </tr>\n",
              "    <tr>\n",
              "      <th>price_ex_lag</th>\n",
              "      <td>2.1</td>\n",
              "      <td>4.0</td>\n",
              "      <td>11.0</td>\n",
              "      <td>0.15</td>\n",
              "      <td>0.35</td>\n",
              "    </tr>\n",
              "    <tr>\n",
              "      <th>buy_sell</th>\n",
              "      <td>1.0</td>\n",
              "      <td>1.0</td>\n",
              "      <td>-1.0</td>\n",
              "      <td>1.0</td>\n",
              "      <td>-1.0</td>\n",
              "    </tr>\n",
              "  </tbody>\n",
              "</table>\n",
              "</div>"
            ]
          },
          "metadata": {},
          "execution_count": 61
        }
      ]
    },
    {
      "cell_type": "code",
      "source": [
        "# check against some stats from sub panel A.1 in Grauer et al\n",
        "\n",
        "# trade size\n",
        "stats_trade_size = df['TRADE_SIZE'].agg(['mean','median','std'])\n",
        "\n",
        "# moneyness; price underlying / strike\n",
        "# TODO: Request price for underlyings?\n",
        "\n",
        "# time to maturity\n",
        "stats_time_to_maturity = (df['EXPIRATION'] - df['date']).dt.days\n",
        "stats_time_to_maturity = stats_time_to_maturity.agg(['mean','median','std'])\n",
        "\n",
        "# no of observations\n",
        "stats_n = len(df)\n",
        "\n",
        "# trade_size = quote size; TRADE_SIZE\n",
        "stats_trades_with_quote_size_bid = df['bid_size_ex'].eq(df['TRADE_SIZE'])\n",
        "stats_trades_with_quote_size_ask = df['ask_size_ex'].eq(df['TRADE_SIZE'])\n",
        "# either ask or bid must be equal, but not both (XOR)\n",
        "stats_trade_with_quote_size = (stats_trades_with_quote_size_bid ^ stats_trades_with_quote_size_ask).sum() / stats_n\n",
        "\n",
        "# no of buys\n",
        "stats_buy_trades = df['buy_sell'].ge(0).sum() / stats_n\n",
        "\n",
        "# underlyings per day\n",
        "# stats_underlyings_per_day = df.groupby(['UNDERLYING_SYMBOL','date']).count().agg(['mean','median','std'])"
      ],
      "metadata": {
        "id": "i1nNuYKdiZhP",
        "outputId": "ff574a3d-ef53-41b7-b80c-3c31ac68f4f2",
        "colab": {
          "base_uri": "https://localhost:8080/"
        }
      },
      "execution_count": 66,
      "outputs": [
        {
          "output_type": "stream",
          "name": "stderr",
          "text": [
            "UserWarning: User-defined function verification is still under development in Modin. The function provided is not verified.\n",
            "UserWarning: User-defined function verification is still under development in Modin. The function provided is not verified.\n"
          ]
        }
      ]
    },
    {
      "cell_type": "code",
      "source": [
        "stats_trade_size"
      ],
      "metadata": {
        "id": "cjzvdQH9oPD6",
        "outputId": "bc7aff68-9205-4a8f-d446-08d91c71548e",
        "colab": {
          "base_uri": "https://localhost:8080/"
        }
      },
      "execution_count": 53,
      "outputs": [
        {
          "output_type": "execute_result",
          "data": {
            "text/plain": [
              "mean      13.615033\n",
              "median     4.000000\n",
              "std       77.752615\n",
              "Name: TRADE_SIZE, dtype: float64"
            ]
          },
          "metadata": {},
          "execution_count": 53
        }
      ]
    },
    {
      "cell_type": "code",
      "source": [
        "stats_time_to_maturity"
      ],
      "metadata": {
        "id": "PiGOKeFcjs44",
        "outputId": "f7760aca-b2e8-48c8-b140-c272a45e382b",
        "colab": {
          "base_uri": "https://localhost:8080/"
        }
      },
      "execution_count": 54,
      "outputs": [
        {
          "output_type": "execute_result",
          "data": {
            "text/plain": [
              "mean      107.286479\n",
              "median     46.000000\n",
              "std       150.079427\n",
              "dtype: float64"
            ]
          },
          "metadata": {},
          "execution_count": 54
        }
      ]
    },
    {
      "cell_type": "code",
      "source": [
        "stats_n"
      ],
      "metadata": {
        "id": "v9Zh1U1uj7ze",
        "outputId": "babedd84-a9af-47d3-a08b-306017928ece",
        "colab": {
          "base_uri": "https://localhost:8080/"
        }
      },
      "execution_count": 50,
      "outputs": [
        {
          "output_type": "execute_result",
          "data": {
            "text/plain": [
              "49203747"
            ]
          },
          "metadata": {},
          "execution_count": 50
        }
      ]
    },
    {
      "cell_type": "code",
      "source": [
        "# TODO: mismatch Grauer et. al report 22.28 %\n",
        "stats_trades_with_quote_size"
      ],
      "metadata": {
        "id": "CON0vn1FtCIo",
        "outputId": "58447ee7-711e-4460-97e9-58f97d67dcf0",
        "colab": {
          "base_uri": "https://localhost:8080/"
        }
      },
      "execution_count": 68,
      "outputs": [
        {
          "output_type": "execute_result",
          "data": {
            "text/plain": [
              "0.10956509064238543"
            ]
          },
          "metadata": {},
          "execution_count": 68
        }
      ]
    },
    {
      "cell_type": "code",
      "source": [
        "stats_buy_trades"
      ],
      "metadata": {
        "id": "wq2WQ2dRlLZX",
        "outputId": "c3d41870-ee65-4384-d400-6891ca3f2251",
        "colab": {
          "base_uri": "https://localhost:8080/"
        }
      },
      "execution_count": 51,
      "outputs": [
        {
          "output_type": "execute_result",
          "data": {
            "text/plain": [
              "0.4745849741890592"
            ]
          },
          "metadata": {},
          "execution_count": 51
        }
      ]
    }
  ],
  "metadata": {
    "colab": {
      "name": "Untitled2.ipynb",
      "provenance": [],
      "machine_shape": "hm",
      "include_colab_link": true
    },
    "kernelspec": {
      "display_name": "Python 3",
      "name": "python3"
    },
    "language_info": {
      "name": "python"
    },
    "widgets": {
      "application/vnd.jupyter.widget-state+json": {
        "eda403b338e14431be26e32423eab864": {
          "model_module": "@jupyter-widgets/controls",
          "model_name": "HBoxModel",
          "model_module_version": "1.5.0",
          "state": {
            "_dom_classes": [],
            "_model_module": "@jupyter-widgets/controls",
            "_model_module_version": "1.5.0",
            "_model_name": "HBoxModel",
            "_view_count": null,
            "_view_module": "@jupyter-widgets/controls",
            "_view_module_version": "1.5.0",
            "_view_name": "HBoxView",
            "box_style": "",
            "children": [
              "IPY_MODEL_103a014b9c284a448e77241f1fb56e37",
              "IPY_MODEL_a66cf37d2f9e4bfe852c7681e1d507f3",
              "IPY_MODEL_d89efbc803be40e197db48312481a844"
            ],
            "layout": "IPY_MODEL_4fa9000ea76a477ea5e889d34a19c008"
          }
        },
        "103a014b9c284a448e77241f1fb56e37": {
          "model_module": "@jupyter-widgets/controls",
          "model_name": "HTMLModel",
          "model_module_version": "1.5.0",
          "state": {
            "_dom_classes": [],
            "_model_module": "@jupyter-widgets/controls",
            "_model_module_version": "1.5.0",
            "_model_name": "HTMLModel",
            "_view_count": null,
            "_view_module": "@jupyter-widgets/controls",
            "_view_module_version": "1.5.0",
            "_view_name": "HTMLView",
            "description": "",
            "description_tooltip": null,
            "layout": "IPY_MODEL_404ce69f499e4ebabbe29332b4e2a335",
            "placeholder": "​",
            "style": "IPY_MODEL_b088deef4d954e289520dc5cea703e9c",
            "value": "Distributing Dataframe: 100%"
          }
        },
        "a66cf37d2f9e4bfe852c7681e1d507f3": {
          "model_module": "@jupyter-widgets/controls",
          "model_name": "FloatProgressModel",
          "model_module_version": "1.5.0",
          "state": {
            "_dom_classes": [],
            "_model_module": "@jupyter-widgets/controls",
            "_model_module_version": "1.5.0",
            "_model_name": "FloatProgressModel",
            "_view_count": null,
            "_view_module": "@jupyter-widgets/controls",
            "_view_module_version": "1.5.0",
            "_view_name": "ProgressView",
            "bar_style": "success",
            "description": "",
            "description_tooltip": null,
            "layout": "IPY_MODEL_169fe67faa38461da1e58fe6ee01ffdf",
            "max": 1,
            "min": 0,
            "orientation": "horizontal",
            "style": "IPY_MODEL_48c634b441f04a98a8b080ac502b5789",
            "value": 1
          }
        },
        "d89efbc803be40e197db48312481a844": {
          "model_module": "@jupyter-widgets/controls",
          "model_name": "HTMLModel",
          "model_module_version": "1.5.0",
          "state": {
            "_dom_classes": [],
            "_model_module": "@jupyter-widgets/controls",
            "_model_module_version": "1.5.0",
            "_model_name": "HTMLModel",
            "_view_count": null,
            "_view_module": "@jupyter-widgets/controls",
            "_view_module_version": "1.5.0",
            "_view_name": "HTMLView",
            "description": "",
            "description_tooltip": null,
            "layout": "IPY_MODEL_3ee296f8bcbe413da1490c3a2a268446",
            "placeholder": "​",
            "style": "IPY_MODEL_a4e90bb7272144819d5552195d2eba03",
            "value": " Elapsed time: 00:00, estimated remaining time: 00:00"
          }
        },
        "4fa9000ea76a477ea5e889d34a19c008": {
          "model_module": "@jupyter-widgets/base",
          "model_name": "LayoutModel",
          "model_module_version": "1.2.0",
          "state": {
            "_model_module": "@jupyter-widgets/base",
            "_model_module_version": "1.2.0",
            "_model_name": "LayoutModel",
            "_view_count": null,
            "_view_module": "@jupyter-widgets/base",
            "_view_module_version": "1.2.0",
            "_view_name": "LayoutView",
            "align_content": null,
            "align_items": null,
            "align_self": null,
            "border": null,
            "bottom": null,
            "display": null,
            "flex": null,
            "flex_flow": null,
            "grid_area": null,
            "grid_auto_columns": null,
            "grid_auto_flow": null,
            "grid_auto_rows": null,
            "grid_column": null,
            "grid_gap": null,
            "grid_row": null,
            "grid_template_areas": null,
            "grid_template_columns": null,
            "grid_template_rows": null,
            "height": null,
            "justify_content": null,
            "justify_items": null,
            "left": null,
            "margin": null,
            "max_height": null,
            "max_width": null,
            "min_height": null,
            "min_width": null,
            "object_fit": null,
            "object_position": null,
            "order": null,
            "overflow": null,
            "overflow_x": null,
            "overflow_y": null,
            "padding": null,
            "right": null,
            "top": null,
            "visibility": null,
            "width": null
          }
        },
        "404ce69f499e4ebabbe29332b4e2a335": {
          "model_module": "@jupyter-widgets/base",
          "model_name": "LayoutModel",
          "model_module_version": "1.2.0",
          "state": {
            "_model_module": "@jupyter-widgets/base",
            "_model_module_version": "1.2.0",
            "_model_name": "LayoutModel",
            "_view_count": null,
            "_view_module": "@jupyter-widgets/base",
            "_view_module_version": "1.2.0",
            "_view_name": "LayoutView",
            "align_content": null,
            "align_items": null,
            "align_self": null,
            "border": null,
            "bottom": null,
            "display": null,
            "flex": null,
            "flex_flow": null,
            "grid_area": null,
            "grid_auto_columns": null,
            "grid_auto_flow": null,
            "grid_auto_rows": null,
            "grid_column": null,
            "grid_gap": null,
            "grid_row": null,
            "grid_template_areas": null,
            "grid_template_columns": null,
            "grid_template_rows": null,
            "height": null,
            "justify_content": null,
            "justify_items": null,
            "left": null,
            "margin": null,
            "max_height": null,
            "max_width": null,
            "min_height": null,
            "min_width": null,
            "object_fit": null,
            "object_position": null,
            "order": null,
            "overflow": null,
            "overflow_x": null,
            "overflow_y": null,
            "padding": null,
            "right": null,
            "top": null,
            "visibility": null,
            "width": null
          }
        },
        "b088deef4d954e289520dc5cea703e9c": {
          "model_module": "@jupyter-widgets/controls",
          "model_name": "DescriptionStyleModel",
          "model_module_version": "1.5.0",
          "state": {
            "_model_module": "@jupyter-widgets/controls",
            "_model_module_version": "1.5.0",
            "_model_name": "DescriptionStyleModel",
            "_view_count": null,
            "_view_module": "@jupyter-widgets/base",
            "_view_module_version": "1.2.0",
            "_view_name": "StyleView",
            "description_width": ""
          }
        },
        "169fe67faa38461da1e58fe6ee01ffdf": {
          "model_module": "@jupyter-widgets/base",
          "model_name": "LayoutModel",
          "model_module_version": "1.2.0",
          "state": {
            "_model_module": "@jupyter-widgets/base",
            "_model_module_version": "1.2.0",
            "_model_name": "LayoutModel",
            "_view_count": null,
            "_view_module": "@jupyter-widgets/base",
            "_view_module_version": "1.2.0",
            "_view_name": "LayoutView",
            "align_content": null,
            "align_items": null,
            "align_self": null,
            "border": null,
            "bottom": null,
            "display": null,
            "flex": null,
            "flex_flow": null,
            "grid_area": null,
            "grid_auto_columns": null,
            "grid_auto_flow": null,
            "grid_auto_rows": null,
            "grid_column": null,
            "grid_gap": null,
            "grid_row": null,
            "grid_template_areas": null,
            "grid_template_columns": null,
            "grid_template_rows": null,
            "height": null,
            "justify_content": null,
            "justify_items": null,
            "left": null,
            "margin": null,
            "max_height": null,
            "max_width": null,
            "min_height": null,
            "min_width": null,
            "object_fit": null,
            "object_position": null,
            "order": null,
            "overflow": null,
            "overflow_x": null,
            "overflow_y": null,
            "padding": null,
            "right": null,
            "top": null,
            "visibility": null,
            "width": null
          }
        },
        "48c634b441f04a98a8b080ac502b5789": {
          "model_module": "@jupyter-widgets/controls",
          "model_name": "ProgressStyleModel",
          "model_module_version": "1.5.0",
          "state": {
            "_model_module": "@jupyter-widgets/controls",
            "_model_module_version": "1.5.0",
            "_model_name": "ProgressStyleModel",
            "_view_count": null,
            "_view_module": "@jupyter-widgets/base",
            "_view_module_version": "1.2.0",
            "_view_name": "StyleView",
            "bar_color": null,
            "description_width": ""
          }
        },
        "3ee296f8bcbe413da1490c3a2a268446": {
          "model_module": "@jupyter-widgets/base",
          "model_name": "LayoutModel",
          "model_module_version": "1.2.0",
          "state": {
            "_model_module": "@jupyter-widgets/base",
            "_model_module_version": "1.2.0",
            "_model_name": "LayoutModel",
            "_view_count": null,
            "_view_module": "@jupyter-widgets/base",
            "_view_module_version": "1.2.0",
            "_view_name": "LayoutView",
            "align_content": null,
            "align_items": null,
            "align_self": null,
            "border": null,
            "bottom": null,
            "display": null,
            "flex": null,
            "flex_flow": null,
            "grid_area": null,
            "grid_auto_columns": null,
            "grid_auto_flow": null,
            "grid_auto_rows": null,
            "grid_column": null,
            "grid_gap": null,
            "grid_row": null,
            "grid_template_areas": null,
            "grid_template_columns": null,
            "grid_template_rows": null,
            "height": null,
            "justify_content": null,
            "justify_items": null,
            "left": null,
            "margin": null,
            "max_height": null,
            "max_width": null,
            "min_height": null,
            "min_width": null,
            "object_fit": null,
            "object_position": null,
            "order": null,
            "overflow": null,
            "overflow_x": null,
            "overflow_y": null,
            "padding": null,
            "right": null,
            "top": null,
            "visibility": null,
            "width": null
          }
        },
        "a4e90bb7272144819d5552195d2eba03": {
          "model_module": "@jupyter-widgets/controls",
          "model_name": "DescriptionStyleModel",
          "model_module_version": "1.5.0",
          "state": {
            "_model_module": "@jupyter-widgets/controls",
            "_model_module_version": "1.5.0",
            "_model_name": "DescriptionStyleModel",
            "_view_count": null,
            "_view_module": "@jupyter-widgets/base",
            "_view_module_version": "1.2.0",
            "_view_name": "StyleView",
            "description_width": ""
          }
        }
      }
    },
    "gpuClass": "standard"
  },
  "nbformat": 4,
  "nbformat_minor": 0
}