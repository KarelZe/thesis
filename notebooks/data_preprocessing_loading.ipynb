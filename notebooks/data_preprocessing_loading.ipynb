{
  "cells": [
    {
      "cell_type": "markdown",
      "metadata": {
        "id": "view-in-github",
        "colab_type": "text"
      },
      "source": [
        "<a href=\"https://colab.research.google.com/github/KarelZe/thesis/blob/baseline/notebooks/data_preprocessing_loading.ipynb\" target=\"_parent\"><img src=\"https://colab.research.google.com/assets/colab-badge.svg\" alt=\"Open In Colab\"/></a>"
      ]
    },
    {
      "cell_type": "code",
      "source": [
        "!pip install modin"
      ],
      "metadata": {
        "colab": {
          "base_uri": "https://localhost:8080/"
        },
        "id": "LQwYMQAr-0vu",
        "outputId": "674f1e4a-0c9c-4cc6-9575-96d2a06bea16"
      },
      "execution_count": 1,
      "outputs": [
        {
          "output_type": "stream",
          "name": "stdout",
          "text": [
            "Looking in indexes: https://pypi.org/simple, https://us-python.pkg.dev/colab-wheels/public/simple/\n",
            "Collecting modin\n",
            "  Downloading modin-0.16.2-py3-none-any.whl (957 kB)\n",
            "\u001b[K     |████████████████████████████████| 957 kB 4.5 MB/s \n",
            "\u001b[?25hRequirement already satisfied: fsspec in /usr/local/lib/python3.7/dist-packages (from modin) (2022.10.0)\n",
            "Requirement already satisfied: packaging in /usr/local/lib/python3.7/dist-packages (from modin) (21.3)\n",
            "  Downloading modin-0.16.1-py3-none-any.whl (956 kB)\n",
            "\u001b[K     |████████████████████████████████| 956 kB 60.8 MB/s \n",
            "\u001b[?25h  Downloading modin-0.16.0-py3-none-any.whl (956 kB)\n",
            "\u001b[K     |████████████████████████████████| 956 kB 59.6 MB/s \n",
            "\u001b[?25h  Downloading modin-0.12.1-py3-none-any.whl (761 kB)\n",
            "\u001b[K     |████████████████████████████████| 761 kB 68.9 MB/s \n",
            "\u001b[?25hRequirement already satisfied: numpy>=1.16.5 in /usr/local/lib/python3.7/dist-packages (from modin) (1.21.6)\n",
            "Requirement already satisfied: pandas==1.3.5 in /usr/local/lib/python3.7/dist-packages (from modin) (1.3.5)\n",
            "Requirement already satisfied: python-dateutil>=2.7.3 in /usr/local/lib/python3.7/dist-packages (from pandas==1.3.5->modin) (2.8.2)\n",
            "Requirement already satisfied: pytz>=2017.3 in /usr/local/lib/python3.7/dist-packages (from pandas==1.3.5->modin) (2022.5)\n",
            "Requirement already satisfied: six>=1.5 in /usr/local/lib/python3.7/dist-packages (from python-dateutil>=2.7.3->pandas==1.3.5->modin) (1.15.0)\n",
            "Requirement already satisfied: pyparsing!=3.0.5,>=2.0.2 in /usr/local/lib/python3.7/dist-packages (from packaging->modin) (3.0.9)\n",
            "Installing collected packages: modin\n",
            "Successfully installed modin-0.12.1\n"
          ]
        }
      ]
    },
    {
      "cell_type": "code",
      "source": [
        "# use gcs fuse to access google cloud storage\n",
        "# https://stackoverflow.com/a/60450255/5755604\n",
        "!echo \"deb http://packages.cloud.google.com/apt gcsfuse-bionic main\" > /etc/apt/sources.list.d/gcsfuse.list\n",
        "!curl https://packages.cloud.google.com/apt/doc/apt-key.gpg | apt-key add -\n",
        "!apt -qq update\n",
        "!apt -qq install gcsfuse\n",
        "\n",
        "# mount google cloud stoarge as drive\n",
        "!mkdir gcs\n",
        "!gcsfuse thesis-bucket-option-trade-classification gcs"
      ],
      "metadata": {
        "colab": {
          "base_uri": "https://localhost:8080/"
        },
        "id": "EMApm-vLnME4",
        "outputId": "dd6e6900-3a43-469d-9ad7-24896989cdbf"
      },
      "execution_count": 2,
      "outputs": [
        {
          "output_type": "stream",
          "name": "stdout",
          "text": [
            "  % Total    % Received % Xferd  Average Speed   Time    Time     Time  Current\n",
            "                                 Dload  Upload   Total   Spent    Left  Speed\n",
            "\r  0     0    0     0    0     0      0      0 --:--:-- --:--:-- --:--:--     0\r100  2537  100  2537    0     0  50740      0 --:--:-- --:--:-- --:--:-- 50740\n",
            "OK\n",
            "29 packages can be upgraded. Run 'apt list --upgradable' to see them.\n",
            "The following package was automatically installed and is no longer required:\n",
            "  libnvidia-common-460\n",
            "Use 'apt autoremove' to remove it.\n",
            "The following NEW packages will be installed:\n",
            "  gcsfuse\n",
            "0 upgraded, 1 newly installed, 0 to remove and 29 not upgraded.\n",
            "Need to get 13.3 MB of archives.\n",
            "After this operation, 30.7 MB of additional disk space will be used.\n",
            "Selecting previously unselected package gcsfuse.\n",
            "(Reading database ... 123942 files and directories currently installed.)\n",
            "Preparing to unpack .../gcsfuse_0.41.8_amd64.deb ...\n",
            "Unpacking gcsfuse (0.41.8) ...\n",
            "Setting up gcsfuse (0.41.8) ...\n",
            "2022/10/29 14:16:42.913330 Start gcsfuse/0.41.8 (Go version go1.18.4) for app \"\" using mount point: /content/gcs\n",
            "2022/10/29 14:16:42.927358 Opening GCS connection...\n",
            "2022/10/29 14:16:43.260789 Mounting file system \"thesis-bucket-option-trade-classification\"...\n",
            "2022/10/29 14:16:43.261351 File system has been successfully mounted.\n"
          ]
        }
      ]
    },
    {
      "cell_type": "code",
      "source": [
        "import numpy as np\n",
        "import modin.pandas as pd\n",
        "import modin.config as cfg\n",
        "from modin.config import ProgressBar\n",
        "from distributed import Client\n",
        "cfg.Engine.put(\"dask\")\n",
        "ProgressBar.enable()\n",
        "\n",
        "from sklearn.metrics import accuracy_score\n",
        "\n",
        "\n",
        "from tqdm.notebook import tqdm"
      ],
      "metadata": {
        "id": "BrztJtC09T3r"
      },
      "execution_count": 3,
      "outputs": []
    },
    {
      "cell_type": "code",
      "execution_count": 4,
      "metadata": {
        "id": "tOtLR4B0R-ql"
      },
      "outputs": [],
      "source": [
        "from google.colab import auth\n",
        "auth.authenticate_user()\n"
      ]
    },
    {
      "cell_type": "code",
      "source": [
        "client = Client()\n",
        "\n",
        "file_path = \"./gcs/data/preprocessed/matched_ise_quotes_2015.parquet\"\n",
        "\n",
        "df = pd.read_parquet(file_path)"
      ],
      "metadata": {
        "id": "EF0_Mz8DYjGz"
      },
      "execution_count": 5,
      "outputs": []
    },
    {
      "cell_type": "code",
      "source": [
        "df.head().T"
      ],
      "metadata": {
        "colab": {
          "base_uri": "https://localhost:8080/",
          "height": 771
        },
        "id": "gHnFz65rZnOZ",
        "outputId": "cdb54c20-c5ba-42df-e6a0-38fac64b281e"
      },
      "execution_count": 6,
      "outputs": [
        {
          "output_type": "execute_result",
          "data": {
            "text/plain": [
              "                              34736684             34736685  \\\n",
              "UNDERLYING_SYMBOL                 LINE                 LINE   \n",
              "QUOTE_DATETIME     2015-01-02 09:30:00  2015-01-02 09:30:00   \n",
              "SEQUENCE_NUMBER                  74466             67183330   \n",
              "ROOT                              LINE                 LINE   \n",
              "EXPIRATION         2015-04-17 00:00:00  2015-04-17 00:00:00   \n",
              "STRK_PRC                           9.0                 18.0   \n",
              "OPTION_TYPE                          C                    C   \n",
              "TRADE_SIZE                           5                    5   \n",
              "TRADE_PRICE                       2.14                 0.04   \n",
              "BEST_BID                           1.8                  0.0   \n",
              "BEST_ASK                          2.15                  0.5   \n",
              "order_id                    1624705991           1624706010   \n",
              "ask_ex                            2.15                  0.5   \n",
              "bid_ex                             1.8                  0.0   \n",
              "bid_size_ex                       11.0                  0.0   \n",
              "ask_size_ex                       11.0                 31.0   \n",
              "price_all_lead                    2.83                 0.28   \n",
              "price_all_lag                     2.25                 0.21   \n",
              "optionid                   106126248.0          105166752.0   \n",
              "day_vol                           10.0                 10.0   \n",
              "price_ex_lead                     3.29                 0.22   \n",
              "price_ex_lag                       2.3                  0.2   \n",
              "buy_sell                           1.0                 -1.0   \n",
              "\n",
              "                              34736686             34736687  \\\n",
              "UNDERLYING_SYMBOL                 AMZN                  TLT   \n",
              "QUOTE_DATETIME     2015-01-02 09:30:00  2015-01-02 09:30:00   \n",
              "SEQUENCE_NUMBER                8588013              7331304   \n",
              "ROOT                              AMZN                  TLT   \n",
              "EXPIRATION         2015-02-20 00:00:00  2015-01-02 00:00:00   \n",
              "STRK_PRC                         390.0                124.0   \n",
              "OPTION_TYPE                          C                    P   \n",
              "TRADE_SIZE                           1                   20   \n",
              "TRADE_PRICE                       1.42                 0.01   \n",
              "BEST_BID                           0.0                  0.0   \n",
              "BEST_ASK                           0.0                 0.14   \n",
              "order_id                    1624706024           1624706072   \n",
              "ask_ex                             NaN                 0.14   \n",
              "bid_ex                             NaN                  0.0   \n",
              "bid_size_ex                        NaN                  0.0   \n",
              "ask_size_ex                        NaN                 56.0   \n",
              "price_all_lead                     1.3                 0.03   \n",
              "price_all_lag                     1.35                 0.03   \n",
              "optionid                   106064528.0          105919880.0   \n",
              "day_vol                            1.0                 20.0   \n",
              "price_ex_lead                     0.37                  NaN   \n",
              "price_ex_lag                      1.35                 0.04   \n",
              "buy_sell                          -1.0                 -1.0   \n",
              "\n",
              "                              34736688  \n",
              "UNDERLYING_SYMBOL                  TLT  \n",
              "QUOTE_DATETIME     2015-01-02 09:30:00  \n",
              "SEQUENCE_NUMBER                7331305  \n",
              "ROOT                               TLT  \n",
              "EXPIRATION         2015-01-02 00:00:00  \n",
              "STRK_PRC                         126.0  \n",
              "OPTION_TYPE                          P  \n",
              "TRADE_SIZE                          20  \n",
              "TRADE_PRICE                       0.18  \n",
              "BEST_BID                          0.05  \n",
              "BEST_ASK                          0.19  \n",
              "order_id                    1624706073  \n",
              "ask_ex                            0.19  \n",
              "bid_ex                            0.05  \n",
              "bid_size_ex                       80.0  \n",
              "ask_size_ex                       21.0  \n",
              "price_all_lead                    0.15  \n",
              "price_all_lag                     0.42  \n",
              "optionid                   105919880.0  \n",
              "day_vol                           20.0  \n",
              "price_ex_lead                      NaN  \n",
              "price_ex_lag                       0.4  \n",
              "buy_sell                           1.0  "
            ],
            "text/html": [
              "<div>\n",
              "<style scoped>\n",
              "    .dataframe tbody tr th:only-of-type {\n",
              "        vertical-align: middle;\n",
              "    }\n",
              "\n",
              "    .dataframe tbody tr th {\n",
              "        vertical-align: top;\n",
              "    }\n",
              "\n",
              "    .dataframe thead th {\n",
              "        text-align: right;\n",
              "    }\n",
              "</style>\n",
              "<table border=\"1\" class=\"dataframe\">\n",
              "  <thead>\n",
              "    <tr style=\"text-align: right;\">\n",
              "      <th></th>\n",
              "      <th>34736684</th>\n",
              "      <th>34736685</th>\n",
              "      <th>34736686</th>\n",
              "      <th>34736687</th>\n",
              "      <th>34736688</th>\n",
              "    </tr>\n",
              "  </thead>\n",
              "  <tbody>\n",
              "    <tr>\n",
              "      <th>UNDERLYING_SYMBOL</th>\n",
              "      <td>LINE</td>\n",
              "      <td>LINE</td>\n",
              "      <td>AMZN</td>\n",
              "      <td>TLT</td>\n",
              "      <td>TLT</td>\n",
              "    </tr>\n",
              "    <tr>\n",
              "      <th>QUOTE_DATETIME</th>\n",
              "      <td>2015-01-02 09:30:00</td>\n",
              "      <td>2015-01-02 09:30:00</td>\n",
              "      <td>2015-01-02 09:30:00</td>\n",
              "      <td>2015-01-02 09:30:00</td>\n",
              "      <td>2015-01-02 09:30:00</td>\n",
              "    </tr>\n",
              "    <tr>\n",
              "      <th>SEQUENCE_NUMBER</th>\n",
              "      <td>74466</td>\n",
              "      <td>67183330</td>\n",
              "      <td>8588013</td>\n",
              "      <td>7331304</td>\n",
              "      <td>7331305</td>\n",
              "    </tr>\n",
              "    <tr>\n",
              "      <th>ROOT</th>\n",
              "      <td>LINE</td>\n",
              "      <td>LINE</td>\n",
              "      <td>AMZN</td>\n",
              "      <td>TLT</td>\n",
              "      <td>TLT</td>\n",
              "    </tr>\n",
              "    <tr>\n",
              "      <th>EXPIRATION</th>\n",
              "      <td>2015-04-17 00:00:00</td>\n",
              "      <td>2015-04-17 00:00:00</td>\n",
              "      <td>2015-02-20 00:00:00</td>\n",
              "      <td>2015-01-02 00:00:00</td>\n",
              "      <td>2015-01-02 00:00:00</td>\n",
              "    </tr>\n",
              "    <tr>\n",
              "      <th>STRK_PRC</th>\n",
              "      <td>9.0</td>\n",
              "      <td>18.0</td>\n",
              "      <td>390.0</td>\n",
              "      <td>124.0</td>\n",
              "      <td>126.0</td>\n",
              "    </tr>\n",
              "    <tr>\n",
              "      <th>OPTION_TYPE</th>\n",
              "      <td>C</td>\n",
              "      <td>C</td>\n",
              "      <td>C</td>\n",
              "      <td>P</td>\n",
              "      <td>P</td>\n",
              "    </tr>\n",
              "    <tr>\n",
              "      <th>TRADE_SIZE</th>\n",
              "      <td>5</td>\n",
              "      <td>5</td>\n",
              "      <td>1</td>\n",
              "      <td>20</td>\n",
              "      <td>20</td>\n",
              "    </tr>\n",
              "    <tr>\n",
              "      <th>TRADE_PRICE</th>\n",
              "      <td>2.14</td>\n",
              "      <td>0.04</td>\n",
              "      <td>1.42</td>\n",
              "      <td>0.01</td>\n",
              "      <td>0.18</td>\n",
              "    </tr>\n",
              "    <tr>\n",
              "      <th>BEST_BID</th>\n",
              "      <td>1.8</td>\n",
              "      <td>0.0</td>\n",
              "      <td>0.0</td>\n",
              "      <td>0.0</td>\n",
              "      <td>0.05</td>\n",
              "    </tr>\n",
              "    <tr>\n",
              "      <th>BEST_ASK</th>\n",
              "      <td>2.15</td>\n",
              "      <td>0.5</td>\n",
              "      <td>0.0</td>\n",
              "      <td>0.14</td>\n",
              "      <td>0.19</td>\n",
              "    </tr>\n",
              "    <tr>\n",
              "      <th>order_id</th>\n",
              "      <td>1624705991</td>\n",
              "      <td>1624706010</td>\n",
              "      <td>1624706024</td>\n",
              "      <td>1624706072</td>\n",
              "      <td>1624706073</td>\n",
              "    </tr>\n",
              "    <tr>\n",
              "      <th>ask_ex</th>\n",
              "      <td>2.15</td>\n",
              "      <td>0.5</td>\n",
              "      <td>NaN</td>\n",
              "      <td>0.14</td>\n",
              "      <td>0.19</td>\n",
              "    </tr>\n",
              "    <tr>\n",
              "      <th>bid_ex</th>\n",
              "      <td>1.8</td>\n",
              "      <td>0.0</td>\n",
              "      <td>NaN</td>\n",
              "      <td>0.0</td>\n",
              "      <td>0.05</td>\n",
              "    </tr>\n",
              "    <tr>\n",
              "      <th>bid_size_ex</th>\n",
              "      <td>11.0</td>\n",
              "      <td>0.0</td>\n",
              "      <td>NaN</td>\n",
              "      <td>0.0</td>\n",
              "      <td>80.0</td>\n",
              "    </tr>\n",
              "    <tr>\n",
              "      <th>ask_size_ex</th>\n",
              "      <td>11.0</td>\n",
              "      <td>31.0</td>\n",
              "      <td>NaN</td>\n",
              "      <td>56.0</td>\n",
              "      <td>21.0</td>\n",
              "    </tr>\n",
              "    <tr>\n",
              "      <th>price_all_lead</th>\n",
              "      <td>2.83</td>\n",
              "      <td>0.28</td>\n",
              "      <td>1.3</td>\n",
              "      <td>0.03</td>\n",
              "      <td>0.15</td>\n",
              "    </tr>\n",
              "    <tr>\n",
              "      <th>price_all_lag</th>\n",
              "      <td>2.25</td>\n",
              "      <td>0.21</td>\n",
              "      <td>1.35</td>\n",
              "      <td>0.03</td>\n",
              "      <td>0.42</td>\n",
              "    </tr>\n",
              "    <tr>\n",
              "      <th>optionid</th>\n",
              "      <td>106126248.0</td>\n",
              "      <td>105166752.0</td>\n",
              "      <td>106064528.0</td>\n",
              "      <td>105919880.0</td>\n",
              "      <td>105919880.0</td>\n",
              "    </tr>\n",
              "    <tr>\n",
              "      <th>day_vol</th>\n",
              "      <td>10.0</td>\n",
              "      <td>10.0</td>\n",
              "      <td>1.0</td>\n",
              "      <td>20.0</td>\n",
              "      <td>20.0</td>\n",
              "    </tr>\n",
              "    <tr>\n",
              "      <th>price_ex_lead</th>\n",
              "      <td>3.29</td>\n",
              "      <td>0.22</td>\n",
              "      <td>0.37</td>\n",
              "      <td>NaN</td>\n",
              "      <td>NaN</td>\n",
              "    </tr>\n",
              "    <tr>\n",
              "      <th>price_ex_lag</th>\n",
              "      <td>2.3</td>\n",
              "      <td>0.2</td>\n",
              "      <td>1.35</td>\n",
              "      <td>0.04</td>\n",
              "      <td>0.4</td>\n",
              "    </tr>\n",
              "    <tr>\n",
              "      <th>buy_sell</th>\n",
              "      <td>1.0</td>\n",
              "      <td>-1.0</td>\n",
              "      <td>-1.0</td>\n",
              "      <td>-1.0</td>\n",
              "      <td>1.0</td>\n",
              "    </tr>\n",
              "  </tbody>\n",
              "</table>\n",
              "</div>"
            ]
          },
          "metadata": {},
          "execution_count": 6
        }
      ]
    },
    {
      "cell_type": "code",
      "source": [
        "# test if if a lead price is different from the trade price?\n",
        "sum = (df['TRADE_PRICE'] == df['price_ex_lead']).sum()\n",
        "print(sum)"
      ],
      "metadata": {
        "id": "1E0cyFEW7OHh",
        "outputId": "138fe32e-7270-4800-a591-4524519db004",
        "colab": {
          "base_uri": "https://localhost:8080/"
        }
      },
      "execution_count": 20,
      "outputs": [
        {
          "output_type": "stream",
          "name": "stdout",
          "text": [
            "0\n"
          ]
        }
      ]
    },
    {
      "cell_type": "code",
      "source": [
        "# quote rule\n",
        "mid = 0.5 * (df['ask_ex'] + df['bid_ex'])\n",
        "qr = np.where(df['TRADE_PRICE'] > mid, 1, np.where(df['TRADE_PRICE'] < mid, -1, np.nan))\n",
        "df['pred_quote_rule'] = qr"
      ],
      "metadata": {
        "id": "GTr6C0gPEAlh"
      },
      "execution_count": 8,
      "outputs": []
    },
    {
      "cell_type": "code",
      "source": [
        "sum = (df['TRADE_PRICE'] == mid).sum()\n",
        "print(sum)"
      ],
      "metadata": {
        "id": "As1GilUfF2On",
        "outputId": "176b48f3-3b1a-4eea-84c1-3330c6a9b701",
        "colab": {
          "base_uri": "https://localhost:8080/"
        }
      },
      "execution_count": 9,
      "outputs": [
        {
          "output_type": "stream",
          "name": "stdout",
          "text": [
            "632780\n"
          ]
        }
      ]
    },
    {
      "cell_type": "code",
      "source": [
        "# tick rule\n",
        "# FIXME: Disqus with Grauer et al what is used in table 9 ISE or all?\n",
        "tt = np.where(df['TRADE_PRICE'] > df['price_ex_lead'], 1.0, -1.0)\n",
        "df['pred_tick_test'] = tt"
      ],
      "metadata": {
        "id": "FXOz7eU-T0dj"
      },
      "execution_count": 10,
      "outputs": []
    },
    {
      "cell_type": "code",
      "source": [
        "# main idea of our new “trade size rule” is that when the trade size matches exactly either the bid or ask quote size, it is likely that the quote came from a customer, the market maker found it attractive and, therefore, decided to fill it completely.\n",
        "# we propose to classify trades for which the trade size is equal to the quoted bid size as customer buys and those with a trade size equal to the ask size as customer sells.\n",
        "\n",
        "ts_eq_bid = (df['TRADE_SIZE'] == df['bid_size_ex'])\n",
        "ts_eq_ask = (df['TRADE_SIZE'] == df['ask_size_ex'])\n",
        "\n",
        "df['pred_trade_size_quote_rule'] = np.where(ts_eq_bid,1.0, np.where(ts_eq_ask,-1.0, qr))\n",
        "df['pred_trade_size_tick_test'] = np.where(ts_eq_bid,1.0, np.where(ts_eq_ask,-1.0, tt))"
      ],
      "metadata": {
        "id": "uKFUz1AHxFHQ"
      },
      "execution_count": 11,
      "outputs": []
    },
    {
      "cell_type": "code",
      "source": [
        "# reverse tick rule\n",
        "df['pred_rev_tick_test'] = np.where(df['TRADE_PRICE'] > df['price_all_lag'], 1.0, -1.0)"
      ],
      "metadata": {
        "id": "dfsKw6JuBIKd"
      },
      "execution_count": 12,
      "outputs": []
    },
    {
      "cell_type": "code",
      "source": [
        "df.head().T"
      ],
      "metadata": {
        "colab": {
          "base_uri": "https://localhost:8080/",
          "height": 927
        },
        "id": "etb4IaTvUdx5",
        "outputId": "cda64c30-125f-4ad6-df56-b7a76994ac9f"
      },
      "execution_count": 13,
      "outputs": [
        {
          "output_type": "execute_result",
          "data": {
            "text/plain": [
              "                                       34736684             34736685  \\\n",
              "UNDERLYING_SYMBOL                          LINE                 LINE   \n",
              "QUOTE_DATETIME              2015-01-02 09:30:00  2015-01-02 09:30:00   \n",
              "SEQUENCE_NUMBER                           74466             67183330   \n",
              "ROOT                                       LINE                 LINE   \n",
              "EXPIRATION                  2015-04-17 00:00:00  2015-04-17 00:00:00   \n",
              "STRK_PRC                                    9.0                 18.0   \n",
              "OPTION_TYPE                                   C                    C   \n",
              "TRADE_SIZE                                    5                    5   \n",
              "TRADE_PRICE                                2.14                 0.04   \n",
              "BEST_BID                                    1.8                  0.0   \n",
              "BEST_ASK                                   2.15                  0.5   \n",
              "order_id                             1624705991           1624706010   \n",
              "ask_ex                                     2.15                  0.5   \n",
              "bid_ex                                      1.8                  0.0   \n",
              "bid_size_ex                                11.0                  0.0   \n",
              "ask_size_ex                                11.0                 31.0   \n",
              "price_all_lead                             2.83                 0.28   \n",
              "price_all_lag                              2.25                 0.21   \n",
              "optionid                            106126248.0          105166752.0   \n",
              "day_vol                                    10.0                 10.0   \n",
              "price_ex_lead                              3.29                 0.22   \n",
              "price_ex_lag                                2.3                  0.2   \n",
              "buy_sell                                    1.0                 -1.0   \n",
              "pred_quote_rule                             1.0                 -1.0   \n",
              "pred_tick_test                             -1.0                 -1.0   \n",
              "pred_trade_size_quote_rule                  1.0                 -1.0   \n",
              "pred_trade_size_tick_test                  -1.0                 -1.0   \n",
              "pred_rev_tick_test                         -1.0                 -1.0   \n",
              "\n",
              "                                       34736686             34736687  \\\n",
              "UNDERLYING_SYMBOL                          AMZN                  TLT   \n",
              "QUOTE_DATETIME              2015-01-02 09:30:00  2015-01-02 09:30:00   \n",
              "SEQUENCE_NUMBER                         8588013              7331304   \n",
              "ROOT                                       AMZN                  TLT   \n",
              "EXPIRATION                  2015-02-20 00:00:00  2015-01-02 00:00:00   \n",
              "STRK_PRC                                  390.0                124.0   \n",
              "OPTION_TYPE                                   C                    P   \n",
              "TRADE_SIZE                                    1                   20   \n",
              "TRADE_PRICE                                1.42                 0.01   \n",
              "BEST_BID                                    0.0                  0.0   \n",
              "BEST_ASK                                    0.0                 0.14   \n",
              "order_id                             1624706024           1624706072   \n",
              "ask_ex                                      NaN                 0.14   \n",
              "bid_ex                                      NaN                  0.0   \n",
              "bid_size_ex                                 NaN                  0.0   \n",
              "ask_size_ex                                 NaN                 56.0   \n",
              "price_all_lead                              1.3                 0.03   \n",
              "price_all_lag                              1.35                 0.03   \n",
              "optionid                            106064528.0          105919880.0   \n",
              "day_vol                                     1.0                 20.0   \n",
              "price_ex_lead                              0.37                  NaN   \n",
              "price_ex_lag                               1.35                 0.04   \n",
              "buy_sell                                   -1.0                 -1.0   \n",
              "pred_quote_rule                             NaN                 -1.0   \n",
              "pred_tick_test                              1.0                 -1.0   \n",
              "pred_trade_size_quote_rule                  NaN                 -1.0   \n",
              "pred_trade_size_tick_test                   1.0                 -1.0   \n",
              "pred_rev_tick_test                          1.0                 -1.0   \n",
              "\n",
              "                                       34736688  \n",
              "UNDERLYING_SYMBOL                           TLT  \n",
              "QUOTE_DATETIME              2015-01-02 09:30:00  \n",
              "SEQUENCE_NUMBER                         7331305  \n",
              "ROOT                                        TLT  \n",
              "EXPIRATION                  2015-01-02 00:00:00  \n",
              "STRK_PRC                                  126.0  \n",
              "OPTION_TYPE                                   P  \n",
              "TRADE_SIZE                                   20  \n",
              "TRADE_PRICE                                0.18  \n",
              "BEST_BID                                   0.05  \n",
              "BEST_ASK                                   0.19  \n",
              "order_id                             1624706073  \n",
              "ask_ex                                     0.19  \n",
              "bid_ex                                     0.05  \n",
              "bid_size_ex                                80.0  \n",
              "ask_size_ex                                21.0  \n",
              "price_all_lead                             0.15  \n",
              "price_all_lag                              0.42  \n",
              "optionid                            105919880.0  \n",
              "day_vol                                    20.0  \n",
              "price_ex_lead                               NaN  \n",
              "price_ex_lag                                0.4  \n",
              "buy_sell                                    1.0  \n",
              "pred_quote_rule                             1.0  \n",
              "pred_tick_test                             -1.0  \n",
              "pred_trade_size_quote_rule                  1.0  \n",
              "pred_trade_size_tick_test                  -1.0  \n",
              "pred_rev_tick_test                         -1.0  "
            ],
            "text/html": [
              "<div>\n",
              "<style scoped>\n",
              "    .dataframe tbody tr th:only-of-type {\n",
              "        vertical-align: middle;\n",
              "    }\n",
              "\n",
              "    .dataframe tbody tr th {\n",
              "        vertical-align: top;\n",
              "    }\n",
              "\n",
              "    .dataframe thead th {\n",
              "        text-align: right;\n",
              "    }\n",
              "</style>\n",
              "<table border=\"1\" class=\"dataframe\">\n",
              "  <thead>\n",
              "    <tr style=\"text-align: right;\">\n",
              "      <th></th>\n",
              "      <th>34736684</th>\n",
              "      <th>34736685</th>\n",
              "      <th>34736686</th>\n",
              "      <th>34736687</th>\n",
              "      <th>34736688</th>\n",
              "    </tr>\n",
              "  </thead>\n",
              "  <tbody>\n",
              "    <tr>\n",
              "      <th>UNDERLYING_SYMBOL</th>\n",
              "      <td>LINE</td>\n",
              "      <td>LINE</td>\n",
              "      <td>AMZN</td>\n",
              "      <td>TLT</td>\n",
              "      <td>TLT</td>\n",
              "    </tr>\n",
              "    <tr>\n",
              "      <th>QUOTE_DATETIME</th>\n",
              "      <td>2015-01-02 09:30:00</td>\n",
              "      <td>2015-01-02 09:30:00</td>\n",
              "      <td>2015-01-02 09:30:00</td>\n",
              "      <td>2015-01-02 09:30:00</td>\n",
              "      <td>2015-01-02 09:30:00</td>\n",
              "    </tr>\n",
              "    <tr>\n",
              "      <th>SEQUENCE_NUMBER</th>\n",
              "      <td>74466</td>\n",
              "      <td>67183330</td>\n",
              "      <td>8588013</td>\n",
              "      <td>7331304</td>\n",
              "      <td>7331305</td>\n",
              "    </tr>\n",
              "    <tr>\n",
              "      <th>ROOT</th>\n",
              "      <td>LINE</td>\n",
              "      <td>LINE</td>\n",
              "      <td>AMZN</td>\n",
              "      <td>TLT</td>\n",
              "      <td>TLT</td>\n",
              "    </tr>\n",
              "    <tr>\n",
              "      <th>EXPIRATION</th>\n",
              "      <td>2015-04-17 00:00:00</td>\n",
              "      <td>2015-04-17 00:00:00</td>\n",
              "      <td>2015-02-20 00:00:00</td>\n",
              "      <td>2015-01-02 00:00:00</td>\n",
              "      <td>2015-01-02 00:00:00</td>\n",
              "    </tr>\n",
              "    <tr>\n",
              "      <th>STRK_PRC</th>\n",
              "      <td>9.0</td>\n",
              "      <td>18.0</td>\n",
              "      <td>390.0</td>\n",
              "      <td>124.0</td>\n",
              "      <td>126.0</td>\n",
              "    </tr>\n",
              "    <tr>\n",
              "      <th>OPTION_TYPE</th>\n",
              "      <td>C</td>\n",
              "      <td>C</td>\n",
              "      <td>C</td>\n",
              "      <td>P</td>\n",
              "      <td>P</td>\n",
              "    </tr>\n",
              "    <tr>\n",
              "      <th>TRADE_SIZE</th>\n",
              "      <td>5</td>\n",
              "      <td>5</td>\n",
              "      <td>1</td>\n",
              "      <td>20</td>\n",
              "      <td>20</td>\n",
              "    </tr>\n",
              "    <tr>\n",
              "      <th>TRADE_PRICE</th>\n",
              "      <td>2.14</td>\n",
              "      <td>0.04</td>\n",
              "      <td>1.42</td>\n",
              "      <td>0.01</td>\n",
              "      <td>0.18</td>\n",
              "    </tr>\n",
              "    <tr>\n",
              "      <th>BEST_BID</th>\n",
              "      <td>1.8</td>\n",
              "      <td>0.0</td>\n",
              "      <td>0.0</td>\n",
              "      <td>0.0</td>\n",
              "      <td>0.05</td>\n",
              "    </tr>\n",
              "    <tr>\n",
              "      <th>BEST_ASK</th>\n",
              "      <td>2.15</td>\n",
              "      <td>0.5</td>\n",
              "      <td>0.0</td>\n",
              "      <td>0.14</td>\n",
              "      <td>0.19</td>\n",
              "    </tr>\n",
              "    <tr>\n",
              "      <th>order_id</th>\n",
              "      <td>1624705991</td>\n",
              "      <td>1624706010</td>\n",
              "      <td>1624706024</td>\n",
              "      <td>1624706072</td>\n",
              "      <td>1624706073</td>\n",
              "    </tr>\n",
              "    <tr>\n",
              "      <th>ask_ex</th>\n",
              "      <td>2.15</td>\n",
              "      <td>0.5</td>\n",
              "      <td>NaN</td>\n",
              "      <td>0.14</td>\n",
              "      <td>0.19</td>\n",
              "    </tr>\n",
              "    <tr>\n",
              "      <th>bid_ex</th>\n",
              "      <td>1.8</td>\n",
              "      <td>0.0</td>\n",
              "      <td>NaN</td>\n",
              "      <td>0.0</td>\n",
              "      <td>0.05</td>\n",
              "    </tr>\n",
              "    <tr>\n",
              "      <th>bid_size_ex</th>\n",
              "      <td>11.0</td>\n",
              "      <td>0.0</td>\n",
              "      <td>NaN</td>\n",
              "      <td>0.0</td>\n",
              "      <td>80.0</td>\n",
              "    </tr>\n",
              "    <tr>\n",
              "      <th>ask_size_ex</th>\n",
              "      <td>11.0</td>\n",
              "      <td>31.0</td>\n",
              "      <td>NaN</td>\n",
              "      <td>56.0</td>\n",
              "      <td>21.0</td>\n",
              "    </tr>\n",
              "    <tr>\n",
              "      <th>price_all_lead</th>\n",
              "      <td>2.83</td>\n",
              "      <td>0.28</td>\n",
              "      <td>1.3</td>\n",
              "      <td>0.03</td>\n",
              "      <td>0.15</td>\n",
              "    </tr>\n",
              "    <tr>\n",
              "      <th>price_all_lag</th>\n",
              "      <td>2.25</td>\n",
              "      <td>0.21</td>\n",
              "      <td>1.35</td>\n",
              "      <td>0.03</td>\n",
              "      <td>0.42</td>\n",
              "    </tr>\n",
              "    <tr>\n",
              "      <th>optionid</th>\n",
              "      <td>106126248.0</td>\n",
              "      <td>105166752.0</td>\n",
              "      <td>106064528.0</td>\n",
              "      <td>105919880.0</td>\n",
              "      <td>105919880.0</td>\n",
              "    </tr>\n",
              "    <tr>\n",
              "      <th>day_vol</th>\n",
              "      <td>10.0</td>\n",
              "      <td>10.0</td>\n",
              "      <td>1.0</td>\n",
              "      <td>20.0</td>\n",
              "      <td>20.0</td>\n",
              "    </tr>\n",
              "    <tr>\n",
              "      <th>price_ex_lead</th>\n",
              "      <td>3.29</td>\n",
              "      <td>0.22</td>\n",
              "      <td>0.37</td>\n",
              "      <td>NaN</td>\n",
              "      <td>NaN</td>\n",
              "    </tr>\n",
              "    <tr>\n",
              "      <th>price_ex_lag</th>\n",
              "      <td>2.3</td>\n",
              "      <td>0.2</td>\n",
              "      <td>1.35</td>\n",
              "      <td>0.04</td>\n",
              "      <td>0.4</td>\n",
              "    </tr>\n",
              "    <tr>\n",
              "      <th>buy_sell</th>\n",
              "      <td>1.0</td>\n",
              "      <td>-1.0</td>\n",
              "      <td>-1.0</td>\n",
              "      <td>-1.0</td>\n",
              "      <td>1.0</td>\n",
              "    </tr>\n",
              "    <tr>\n",
              "      <th>pred_quote_rule</th>\n",
              "      <td>1.0</td>\n",
              "      <td>-1.0</td>\n",
              "      <td>NaN</td>\n",
              "      <td>-1.0</td>\n",
              "      <td>1.0</td>\n",
              "    </tr>\n",
              "    <tr>\n",
              "      <th>pred_tick_test</th>\n",
              "      <td>-1.0</td>\n",
              "      <td>-1.0</td>\n",
              "      <td>1.0</td>\n",
              "      <td>-1.0</td>\n",
              "      <td>-1.0</td>\n",
              "    </tr>\n",
              "    <tr>\n",
              "      <th>pred_trade_size_quote_rule</th>\n",
              "      <td>1.0</td>\n",
              "      <td>-1.0</td>\n",
              "      <td>NaN</td>\n",
              "      <td>-1.0</td>\n",
              "      <td>1.0</td>\n",
              "    </tr>\n",
              "    <tr>\n",
              "      <th>pred_trade_size_tick_test</th>\n",
              "      <td>-1.0</td>\n",
              "      <td>-1.0</td>\n",
              "      <td>1.0</td>\n",
              "      <td>-1.0</td>\n",
              "      <td>-1.0</td>\n",
              "    </tr>\n",
              "    <tr>\n",
              "      <th>pred_rev_tick_test</th>\n",
              "      <td>-1.0</td>\n",
              "      <td>-1.0</td>\n",
              "      <td>1.0</td>\n",
              "      <td>-1.0</td>\n",
              "      <td>-1.0</td>\n",
              "    </tr>\n",
              "  </tbody>\n",
              "</table>\n",
              "</div>"
            ]
          },
          "metadata": {},
          "execution_count": 13
        }
      ]
    },
    {
      "cell_type": "code",
      "source": [
        "# Discuss with C. Grauer how results were calculated in table 9. Assign randomly (table 3) (?)\n",
        "pred_quote_rule_random = df['pred_quote_rule'].applymap(lambda l: l if not np.isnan(l) else np.random.choice([-1, 1]))\n",
        "\n",
        "acc = accuracy_score(df['buy_sell'], pred_quote_rule_random)\n",
        "print(f\"{acc:.3%}\")"
      ],
      "metadata": {
        "colab": {
          "base_uri": "https://localhost:8080/"
        },
        "id": "MLUaR_bAG_ox",
        "outputId": "b7648d47-05f9-436d-d865-d9552cbdcf75"
      },
      "execution_count": 14,
      "outputs": [
        {
          "output_type": "stream",
          "name": "stdout",
          "text": [
            "56.073%\n"
          ]
        }
      ]
    },
    {
      "cell_type": "code",
      "source": [
        "# Discuss with C. Grauer how results were calculated in table 9. Assign randomly (table 3) (?)\n",
        "pred_trade_size_quote_rule_random = df['pred_trade_size_quote_rule'].applymap(lambda l: l if not np.isnan(l) else np.random.choice([-1, 1]))\n",
        "\n",
        "acc = accuracy_score(df['buy_sell'], pred_trade_size_quote_rule_random)\n",
        "print(f\"{acc:.3%}\")"
      ],
      "metadata": {
        "id": "l82-BShY0Rou",
        "outputId": "7f304c6a-0300-470b-9558-9b1a320fbe3b",
        "colab": {
          "base_uri": "https://localhost:8080/"
        }
      },
      "execution_count": 15,
      "outputs": [
        {
          "output_type": "stream",
          "name": "stdout",
          "text": [
            "65.387%\n"
          ]
        }
      ]
    },
    {
      "cell_type": "code",
      "source": [
        "acc = accuracy_score(df['buy_sell'], df['pred_trade_size_tick_test'])\n",
        "print(f\"{acc:.3%}\")"
      ],
      "metadata": {
        "id": "M4DQhLAH0l27",
        "outputId": "e45e2709-877a-4443-ce2f-08b1b15c2189",
        "colab": {
          "base_uri": "https://localhost:8080/"
        }
      },
      "execution_count": 16,
      "outputs": [
        {
          "output_type": "stream",
          "name": "stdout",
          "text": [
            "54.617%\n"
          ]
        }
      ]
    },
    {
      "cell_type": "code",
      "source": [
        "acc = accuracy_score(df['buy_sell'], df['pred_tick_test'])\n",
        "print(f\"{acc:.3%}\")"
      ],
      "metadata": {
        "colab": {
          "base_uri": "https://localhost:8080/"
        },
        "id": "YNkA2orOrdac",
        "outputId": "5c625a54-9447-4336-f12e-ade3509686f1"
      },
      "execution_count": 17,
      "outputs": [
        {
          "output_type": "stream",
          "name": "stdout",
          "text": [
            "49.181%\n"
          ]
        }
      ]
    },
    {
      "cell_type": "code",
      "source": [
        "acc = accuracy_score(df['buy_sell'], df['pred_rev_tick_test'])\n",
        "print(f\"{acc:.3%}\")"
      ],
      "metadata": {
        "id": "mRGOt63GFsmS",
        "outputId": "acfece1d-7519-4f16-9636-112af66ef8c8",
        "colab": {
          "base_uri": "https://localhost:8080/"
        }
      },
      "execution_count": 18,
      "outputs": [
        {
          "output_type": "stream",
          "name": "stdout",
          "text": [
            "53.864%\n"
          ]
        }
      ]
    }
  ],
  "metadata": {
    "colab": {
      "name": "Untitled2.ipynb",
      "provenance": [],
      "machine_shape": "hm",
      "include_colab_link": true
    },
    "kernelspec": {
      "display_name": "Python 3",
      "name": "python3"
    },
    "language_info": {
      "name": "python"
    },
    "gpuClass": "standard"
  },
  "nbformat": 4,
  "nbformat_minor": 0
}