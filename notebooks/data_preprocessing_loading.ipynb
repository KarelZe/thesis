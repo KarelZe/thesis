{
  "cells": [
    {
      "cell_type": "markdown",
      "metadata": {
        "id": "view-in-github",
        "colab_type": "text"
      },
      "source": [
        "<a href=\"https://colab.research.google.com/github/KarelZe/thesis/blob/main/notebooks/data_preprocessing_loading.ipynb\" target=\"_parent\"><img src=\"https://colab.research.google.com/assets/colab-badge.svg\" alt=\"Open In Colab\"/></a>"
      ]
    },
    {
      "cell_type": "code",
      "source": [
        "!pip install modin"
      ],
      "metadata": {
        "colab": {
          "base_uri": "https://localhost:8080/"
        },
        "id": "LQwYMQAr-0vu",
        "outputId": "99f624a3-0e4a-4c1c-da19-0485a6792a60"
      },
      "execution_count": 76,
      "outputs": [
        {
          "output_type": "stream",
          "name": "stdout",
          "text": [
            "Looking in indexes: https://pypi.org/simple, https://us-python.pkg.dev/colab-wheels/public/simple/\n",
            "Requirement already satisfied: modin in /usr/local/lib/python3.7/dist-packages (0.12.1)\n",
            "Requirement already satisfied: fsspec in /usr/local/lib/python3.7/dist-packages (from modin) (2022.10.0)\n",
            "Requirement already satisfied: pandas==1.3.5 in /usr/local/lib/python3.7/dist-packages (from modin) (1.3.5)\n",
            "Requirement already satisfied: packaging in /usr/local/lib/python3.7/dist-packages (from modin) (21.3)\n",
            "Requirement already satisfied: numpy>=1.16.5 in /usr/local/lib/python3.7/dist-packages (from modin) (1.21.6)\n",
            "Requirement already satisfied: python-dateutil>=2.7.3 in /usr/local/lib/python3.7/dist-packages (from pandas==1.3.5->modin) (2.8.2)\n",
            "Requirement already satisfied: pytz>=2017.3 in /usr/local/lib/python3.7/dist-packages (from pandas==1.3.5->modin) (2022.5)\n",
            "Requirement already satisfied: six>=1.5 in /usr/local/lib/python3.7/dist-packages (from python-dateutil>=2.7.3->pandas==1.3.5->modin) (1.15.0)\n",
            "Requirement already satisfied: pyparsing!=3.0.5,>=2.0.2 in /usr/local/lib/python3.7/dist-packages (from packaging->modin) (3.0.9)\n"
          ]
        }
      ]
    },
    {
      "cell_type": "code",
      "source": [
        "# use gcs fuse to access google cloud storage\n",
        "# https://stackoverflow.com/a/60450255/5755604\n",
        "!echo \"deb http://packages.cloud.google.com/apt gcsfuse-bionic main\" > /etc/apt/sources.list.d/gcsfuse.list\n",
        "!curl https://packages.cloud.google.com/apt/doc/apt-key.gpg | apt-key add -\n",
        "!apt -qq update\n",
        "!apt -qq install gcsfuse\n",
        "\n",
        "# mount google cloud stoarge as drive\n",
        "!mkdir gcs\n",
        "!gcsfuse thesis-bucket-option-trade-classification gcs"
      ],
      "metadata": {
        "colab": {
          "base_uri": "https://localhost:8080/"
        },
        "id": "EMApm-vLnME4",
        "outputId": "b8a1bfce-8217-430f-ff47-7c548782eeb8"
      },
      "execution_count": 77,
      "outputs": [
        {
          "output_type": "stream",
          "name": "stdout",
          "text": [
            "  % Total    % Received % Xferd  Average Speed   Time    Time     Time  Current\n",
            "                                 Dload  Upload   Total   Spent    Left  Speed\n",
            "\r  0     0    0     0    0     0      0      0 --:--:-- --:--:-- --:--:--     0\r100  2537  100  2537    0     0  43741      0 --:--:-- --:--:-- --:--:-- 43741\n",
            "OK\n",
            "34 packages can be upgraded. Run 'apt list --upgradable' to see them.\n",
            "The following package was automatically installed and is no longer required:\n",
            "  libnvidia-common-460\n",
            "Use 'apt autoremove' to remove it.\n",
            "The following packages will be upgraded:\n",
            "  gcsfuse\n",
            "1 upgraded, 0 newly installed, 0 to remove and 33 not upgraded.\n",
            "Need to get 13.3 MB of archives.\n",
            "After this operation, 3,120 kB of additional disk space will be used.\n",
            "(Reading database ... 123947 files and directories currently installed.)\n",
            "Preparing to unpack .../gcsfuse_0.41.8_amd64.deb ...\n",
            "Unpacking gcsfuse (0.41.8) over (0.41.7) ...\n",
            "Setting up gcsfuse (0.41.8) ...\n",
            "mkdir: cannot create directory ‘gcs’: File exists\n",
            "2022/10/28 09:24:31.044597 Start gcsfuse/0.41.8 (Go version go1.18.4) for app \"\" using mount point: /content/gcs\n",
            "2022/10/28 09:24:31.065711 Opening GCS connection...\n",
            "2022/10/28 09:24:31.285282 Mounting file system \"thesis-bucket-option-trade-classification\"...\n",
            "2022/10/28 09:24:31.285919 File system has been successfully mounted.\n"
          ]
        }
      ]
    },
    {
      "cell_type": "code",
      "source": [
        "import glob\n",
        "\n",
        "import modin.pandas as pd\n",
        "import modin.config as cfg\n",
        "from modin.config import ProgressBar\n",
        "from distributed import Client\n",
        "cfg.Engine.put(\"dask\")\n",
        "ProgressBar.enable()\n",
        "\n",
        "from tqdm.notebook import tqdm\n"
      ],
      "metadata": {
        "id": "BrztJtC09T3r"
      },
      "execution_count": 78,
      "outputs": []
    },
    {
      "cell_type": "code",
      "execution_count": 79,
      "metadata": {
        "id": "tOtLR4B0R-ql"
      },
      "outputs": [],
      "source": [
        "from google.colab import auth\n",
        "auth.authenticate_user()\n"
      ]
    },
    {
      "cell_type": "code",
      "source": [
        "client = Client()\n",
        "\n",
        "files = glob.glob(\"./gcs/data/preprocessed/matched_ise_quotes_min_mem_usage_part_*.parquet\")\n",
        "\n",
        "columns = ['UNDERLYING_SYMBOL', 'QUOTE_DATETIME', 'SEQUENCE_NUMBER', 'ROOT',\n",
        "       'EXPIRATION', 'STRK_PRC', 'OPTION_TYPE', 'TRADE_SIZE', 'TRADE_PRICE',\n",
        "       'BEST_BID', 'BEST_ASK', 'order_id', 'ask_ex', 'bid_ex', 'bid_size_ex',\n",
        "       'ask_size_ex', 'price_all_lead', 'price_all_lag', 'optionid',\n",
        "       'day_vol', 'price_ex_lead', 'price_ex_lag', 'buy_sell']\n",
        "\n",
        "df = pd.read_parquet(files, columns=columns)"
      ],
      "metadata": {
        "colab": {
          "base_uri": "https://localhost:8080/"
        },
        "id": "EF0_Mz8DYjGz",
        "outputId": "a259962f-1be9-4959-e443-a8686c5f9d3f"
      },
      "execution_count": 80,
      "outputs": [
        {
          "output_type": "stream",
          "name": "stderr",
          "text": [
            "UserWarning: Port 8787 is already in use.\n",
            "Perhaps you already have a cluster running?\n",
            "Hosting the HTTP server on port 41327 instead\n"
          ]
        }
      ]
    },
    {
      "cell_type": "code",
      "source": [
        "df.memory_usage(deep=True).sum()"
      ],
      "metadata": {
        "colab": {
          "base_uri": "https://localhost:8080/",
          "height": 84,
          "referenced_widgets": [
            "d8ec919fc3df43cdac8dd5699eeece7e",
            "3e87d7f14bda4a51b65f544ae0dbe1fe",
            "42d72cb0456e405892e003d615a7c7ed",
            "94db4bba94344637b5388d9a8bebb26c",
            "de82242867484b0e97081baf88e6c6f0",
            "946bcd4c32764457a38c79545cd4c250",
            "5664736404c84b40be97d5f59ef32911",
            "9e877e75c9c94eb6a92711e69273c6cf",
            "878f77ec9a284da29609f0f61509ecb0",
            "2c414c39623e4900aa82d7eed56db893",
            "4af5652269704437807048f6e7ee3f09"
          ]
        },
        "id": "MNQsqX_Eh9xa",
        "outputId": "94556255-5230-462f-c619-d2c7e726e8c7"
      },
      "execution_count": 81,
      "outputs": [
        {
          "output_type": "stream",
          "name": "stderr",
          "text": [
            "UserWarning: Distributing <class 'int'> object. This may take some time.\n"
          ]
        },
        {
          "output_type": "display_data",
          "data": {
            "text/plain": [
              "Distributing Dataframe:   0%           Elapsed time: 00:00, estimated remaining time: ?"
            ],
            "application/vnd.jupyter.widget-view+json": {
              "version_major": 2,
              "version_minor": 0,
              "model_id": "d8ec919fc3df43cdac8dd5699eeece7e"
            }
          },
          "metadata": {}
        },
        {
          "output_type": "execute_result",
          "data": {
            "text/plain": [
              "5024284470"
            ]
          },
          "metadata": {},
          "execution_count": 81
        }
      ]
    },
    {
      "cell_type": "code",
      "source": [
        "df.head().T"
      ],
      "metadata": {
        "colab": {
          "base_uri": "https://localhost:8080/",
          "height": 771
        },
        "id": "gHnFz65rZnOZ",
        "outputId": "0ba96d24-6bd1-48b6-ed13-520f28d3b58b"
      },
      "execution_count": 82,
      "outputs": [
        {
          "output_type": "execute_result",
          "data": {
            "text/plain": [
              "                                     0                    1  \\\n",
              "UNDERLYING_SYMBOL                 BRCD                 SYMC   \n",
              "QUOTE_DATETIME     2005-05-02 09:30:02  2005-05-02 09:30:03   \n",
              "SEQUENCE_NUMBER                  72515                65366   \n",
              "ROOT                               YNU                  SYQ   \n",
              "EXPIRATION         2006-01-21 00:00:00  2005-06-18 00:00:00   \n",
              "STRK_PRC                           2.5                 15.0   \n",
              "OPTION_TYPE                          C                    C   \n",
              "TRADE_SIZE                          10                   10   \n",
              "TRADE_PRICE                       2.05                  3.9   \n",
              "BEST_BID                           1.9                  3.6   \n",
              "BEST_ASK                           2.1                  3.8   \n",
              "order_id                      53044578             53044590   \n",
              "ask_ex                             2.1                  NaN   \n",
              "bid_ex                             1.9                  NaN   \n",
              "bid_size_ex                      131.0                  NaN   \n",
              "ask_size_ex                       20.0                  NaN   \n",
              "price_all_lead                     1.9                  4.0   \n",
              "price_all_lag                      1.9                  4.0   \n",
              "optionid                    21060388.0           31624184.0   \n",
              "day_vol                           10.0                 10.0   \n",
              "price_ex_lead                      1.9                  4.6   \n",
              "price_ex_lag                       2.1                  4.0   \n",
              "buy_sell                           1.0                  1.0   \n",
              "\n",
              "                                     2                    3  \\\n",
              "UNDERLYING_SYMBOL                  SPY                 ADRX   \n",
              "QUOTE_DATETIME     2005-05-02 09:30:03  2005-05-02 09:30:03   \n",
              "SEQUENCE_NUMBER                  65373                79195   \n",
              "ROOT                               SWG                  QAX   \n",
              "EXPIRATION         2005-05-21 00:00:00  2005-06-18 00:00:00   \n",
              "STRK_PRC                         105.0                 25.0   \n",
              "OPTION_TYPE                          C                    C   \n",
              "TRADE_SIZE                          50                   10   \n",
              "TRADE_PRICE                       11.2                  0.2   \n",
              "BEST_BID                          11.1                  0.0   \n",
              "BEST_ASK                          11.4                 0.25   \n",
              "order_id                      53044591             53044600   \n",
              "ask_ex                            11.4                 0.25   \n",
              "bid_ex                            11.1                  0.0   \n",
              "bid_size_ex                      300.0                  0.0   \n",
              "ask_size_ex                      300.0                 86.0   \n",
              "price_all_lead                    11.8                 0.15   \n",
              "price_all_lag                     11.0                 0.15   \n",
              "optionid                    31620976.0           31560072.0   \n",
              "day_vol                           50.0                 10.0   \n",
              "price_ex_lead                     11.9                 0.15   \n",
              "price_ex_lag                      11.0                 0.15   \n",
              "buy_sell                          -1.0                  1.0   \n",
              "\n",
              "                                     4  \n",
              "UNDERLYING_SYMBOL                 ORCL  \n",
              "QUOTE_DATETIME     2005-05-02 09:30:03  \n",
              "SEQUENCE_NUMBER                  95870  \n",
              "ROOT                               ORQ  \n",
              "EXPIRATION         2005-12-17 00:00:00  \n",
              "STRK_PRC                          14.0  \n",
              "OPTION_TYPE                          C  \n",
              "TRADE_SIZE                          15  \n",
              "TRADE_PRICE                       0.25  \n",
              "BEST_BID                           0.3  \n",
              "BEST_ASK                           0.4  \n",
              "order_id                      53044601  \n",
              "ask_ex                            0.45  \n",
              "bid_ex                            0.25  \n",
              "bid_size_ex                     3356.0  \n",
              "ask_size_ex                      399.0  \n",
              "price_all_lead                    0.35  \n",
              "price_all_lag                     0.35  \n",
              "optionid                    25240212.0  \n",
              "day_vol                           17.0  \n",
              "price_ex_lead                     0.35  \n",
              "price_ex_lag                      0.35  \n",
              "buy_sell                          -1.0  "
            ],
            "text/html": [
              "<div>\n",
              "<style scoped>\n",
              "    .dataframe tbody tr th:only-of-type {\n",
              "        vertical-align: middle;\n",
              "    }\n",
              "\n",
              "    .dataframe tbody tr th {\n",
              "        vertical-align: top;\n",
              "    }\n",
              "\n",
              "    .dataframe thead th {\n",
              "        text-align: right;\n",
              "    }\n",
              "</style>\n",
              "<table border=\"1\" class=\"dataframe\">\n",
              "  <thead>\n",
              "    <tr style=\"text-align: right;\">\n",
              "      <th></th>\n",
              "      <th>0</th>\n",
              "      <th>1</th>\n",
              "      <th>2</th>\n",
              "      <th>3</th>\n",
              "      <th>4</th>\n",
              "    </tr>\n",
              "  </thead>\n",
              "  <tbody>\n",
              "    <tr>\n",
              "      <th>UNDERLYING_SYMBOL</th>\n",
              "      <td>BRCD</td>\n",
              "      <td>SYMC</td>\n",
              "      <td>SPY</td>\n",
              "      <td>ADRX</td>\n",
              "      <td>ORCL</td>\n",
              "    </tr>\n",
              "    <tr>\n",
              "      <th>QUOTE_DATETIME</th>\n",
              "      <td>2005-05-02 09:30:02</td>\n",
              "      <td>2005-05-02 09:30:03</td>\n",
              "      <td>2005-05-02 09:30:03</td>\n",
              "      <td>2005-05-02 09:30:03</td>\n",
              "      <td>2005-05-02 09:30:03</td>\n",
              "    </tr>\n",
              "    <tr>\n",
              "      <th>SEQUENCE_NUMBER</th>\n",
              "      <td>72515</td>\n",
              "      <td>65366</td>\n",
              "      <td>65373</td>\n",
              "      <td>79195</td>\n",
              "      <td>95870</td>\n",
              "    </tr>\n",
              "    <tr>\n",
              "      <th>ROOT</th>\n",
              "      <td>YNU</td>\n",
              "      <td>SYQ</td>\n",
              "      <td>SWG</td>\n",
              "      <td>QAX</td>\n",
              "      <td>ORQ</td>\n",
              "    </tr>\n",
              "    <tr>\n",
              "      <th>EXPIRATION</th>\n",
              "      <td>2006-01-21 00:00:00</td>\n",
              "      <td>2005-06-18 00:00:00</td>\n",
              "      <td>2005-05-21 00:00:00</td>\n",
              "      <td>2005-06-18 00:00:00</td>\n",
              "      <td>2005-12-17 00:00:00</td>\n",
              "    </tr>\n",
              "    <tr>\n",
              "      <th>STRK_PRC</th>\n",
              "      <td>2.5</td>\n",
              "      <td>15.0</td>\n",
              "      <td>105.0</td>\n",
              "      <td>25.0</td>\n",
              "      <td>14.0</td>\n",
              "    </tr>\n",
              "    <tr>\n",
              "      <th>OPTION_TYPE</th>\n",
              "      <td>C</td>\n",
              "      <td>C</td>\n",
              "      <td>C</td>\n",
              "      <td>C</td>\n",
              "      <td>C</td>\n",
              "    </tr>\n",
              "    <tr>\n",
              "      <th>TRADE_SIZE</th>\n",
              "      <td>10</td>\n",
              "      <td>10</td>\n",
              "      <td>50</td>\n",
              "      <td>10</td>\n",
              "      <td>15</td>\n",
              "    </tr>\n",
              "    <tr>\n",
              "      <th>TRADE_PRICE</th>\n",
              "      <td>2.05</td>\n",
              "      <td>3.9</td>\n",
              "      <td>11.2</td>\n",
              "      <td>0.2</td>\n",
              "      <td>0.25</td>\n",
              "    </tr>\n",
              "    <tr>\n",
              "      <th>BEST_BID</th>\n",
              "      <td>1.9</td>\n",
              "      <td>3.6</td>\n",
              "      <td>11.1</td>\n",
              "      <td>0.0</td>\n",
              "      <td>0.3</td>\n",
              "    </tr>\n",
              "    <tr>\n",
              "      <th>BEST_ASK</th>\n",
              "      <td>2.1</td>\n",
              "      <td>3.8</td>\n",
              "      <td>11.4</td>\n",
              "      <td>0.25</td>\n",
              "      <td>0.4</td>\n",
              "    </tr>\n",
              "    <tr>\n",
              "      <th>order_id</th>\n",
              "      <td>53044578</td>\n",
              "      <td>53044590</td>\n",
              "      <td>53044591</td>\n",
              "      <td>53044600</td>\n",
              "      <td>53044601</td>\n",
              "    </tr>\n",
              "    <tr>\n",
              "      <th>ask_ex</th>\n",
              "      <td>2.1</td>\n",
              "      <td>NaN</td>\n",
              "      <td>11.4</td>\n",
              "      <td>0.25</td>\n",
              "      <td>0.45</td>\n",
              "    </tr>\n",
              "    <tr>\n",
              "      <th>bid_ex</th>\n",
              "      <td>1.9</td>\n",
              "      <td>NaN</td>\n",
              "      <td>11.1</td>\n",
              "      <td>0.0</td>\n",
              "      <td>0.25</td>\n",
              "    </tr>\n",
              "    <tr>\n",
              "      <th>bid_size_ex</th>\n",
              "      <td>131.0</td>\n",
              "      <td>NaN</td>\n",
              "      <td>300.0</td>\n",
              "      <td>0.0</td>\n",
              "      <td>3356.0</td>\n",
              "    </tr>\n",
              "    <tr>\n",
              "      <th>ask_size_ex</th>\n",
              "      <td>20.0</td>\n",
              "      <td>NaN</td>\n",
              "      <td>300.0</td>\n",
              "      <td>86.0</td>\n",
              "      <td>399.0</td>\n",
              "    </tr>\n",
              "    <tr>\n",
              "      <th>price_all_lead</th>\n",
              "      <td>1.9</td>\n",
              "      <td>4.0</td>\n",
              "      <td>11.8</td>\n",
              "      <td>0.15</td>\n",
              "      <td>0.35</td>\n",
              "    </tr>\n",
              "    <tr>\n",
              "      <th>price_all_lag</th>\n",
              "      <td>1.9</td>\n",
              "      <td>4.0</td>\n",
              "      <td>11.0</td>\n",
              "      <td>0.15</td>\n",
              "      <td>0.35</td>\n",
              "    </tr>\n",
              "    <tr>\n",
              "      <th>optionid</th>\n",
              "      <td>21060388.0</td>\n",
              "      <td>31624184.0</td>\n",
              "      <td>31620976.0</td>\n",
              "      <td>31560072.0</td>\n",
              "      <td>25240212.0</td>\n",
              "    </tr>\n",
              "    <tr>\n",
              "      <th>day_vol</th>\n",
              "      <td>10.0</td>\n",
              "      <td>10.0</td>\n",
              "      <td>50.0</td>\n",
              "      <td>10.0</td>\n",
              "      <td>17.0</td>\n",
              "    </tr>\n",
              "    <tr>\n",
              "      <th>price_ex_lead</th>\n",
              "      <td>1.9</td>\n",
              "      <td>4.6</td>\n",
              "      <td>11.9</td>\n",
              "      <td>0.15</td>\n",
              "      <td>0.35</td>\n",
              "    </tr>\n",
              "    <tr>\n",
              "      <th>price_ex_lag</th>\n",
              "      <td>2.1</td>\n",
              "      <td>4.0</td>\n",
              "      <td>11.0</td>\n",
              "      <td>0.15</td>\n",
              "      <td>0.35</td>\n",
              "    </tr>\n",
              "    <tr>\n",
              "      <th>buy_sell</th>\n",
              "      <td>1.0</td>\n",
              "      <td>1.0</td>\n",
              "      <td>-1.0</td>\n",
              "      <td>1.0</td>\n",
              "      <td>-1.0</td>\n",
              "    </tr>\n",
              "  </tbody>\n",
              "</table>\n",
              "</div>"
            ]
          },
          "metadata": {},
          "execution_count": 82
        }
      ]
    },
    {
      "cell_type": "code",
      "source": [
        "# check against some stats from sub panel A.1 in Grauer et al\n",
        "# TODO: convert to proper tests\n",
        "\n",
        "# trade size\n",
        "stats_trade_size = df['TRADE_SIZE'].agg(['mean','median','std'])\n",
        "\n",
        "# moneyness; price underlying / strike\n",
        "# TODO: Request price for underlyings?\n",
        "\n",
        "# time to maturity\n",
        "stats_time_to_maturity = (df['EXPIRATION'] - df['QUOTE_DATETIME']).dt.days\n",
        "stats_time_to_maturity = stats_time_to_maturity.agg(['mean','median','std'])\n",
        "\n",
        "# no of observations\n",
        "stats_n = len(df)\n",
        "\n",
        "# trade_size = quote size; TRADE_SIZE\n",
        "stats_trades_with_quote_size_bid = df['bid_size_ex'].eq(df['TRADE_SIZE'])\n",
        "stats_trades_with_quote_size_ask = df['ask_size_ex'].eq(df['TRADE_SIZE'])\n",
        "# either ask or bid must be equal, but not both (XOR)\n",
        "stats_trade_with_quote_size = (stats_trades_with_quote_size_bid ^ stats_trades_with_quote_size_ask).sum() / stats_n\n",
        "\n",
        "# no of buys\n",
        "stats_buy_trades = df['buy_sell'].ge(0).sum() / stats_n\n",
        "\n",
        "# underlyings per day\n",
        "# stats_underlyings_per_day = df.groupby(['UNDERLYING_SYMBOL','QUOTE_DATETIME']).count().agg(['mean','median','std'])"
      ],
      "metadata": {
        "colab": {
          "base_uri": "https://localhost:8080/"
        },
        "id": "i1nNuYKdiZhP",
        "outputId": "85cf325d-8ca8-41f6-d542-f948081c7c1e"
      },
      "execution_count": 83,
      "outputs": [
        {
          "output_type": "stream",
          "name": "stderr",
          "text": [
            "UserWarning: User-defined function verification is still under development in Modin. The function provided is not verified.\n",
            "UserWarning: User-defined function verification is still under development in Modin. The function provided is not verified.\n"
          ]
        }
      ]
    },
    {
      "cell_type": "code",
      "source": [
        "stats_trade_size"
      ],
      "metadata": {
        "colab": {
          "base_uri": "https://localhost:8080/"
        },
        "id": "cjzvdQH9oPD6",
        "outputId": "b0b18c6a-f9bd-49f7-8663-47b851b6bc1b"
      },
      "execution_count": 84,
      "outputs": [
        {
          "output_type": "execute_result",
          "data": {
            "text/plain": [
              "mean      13.615033\n",
              "median     4.000000\n",
              "std       77.752615\n",
              "Name: TRADE_SIZE, dtype: float64"
            ]
          },
          "metadata": {},
          "execution_count": 84
        }
      ]
    },
    {
      "cell_type": "code",
      "source": [
        "stats_time_to_maturity"
      ],
      "metadata": {
        "colab": {
          "base_uri": "https://localhost:8080/"
        },
        "id": "PiGOKeFcjs44",
        "outputId": "af77ee57-8019-45f5-eb26-dc0f20645e15"
      },
      "execution_count": 85,
      "outputs": [
        {
          "output_type": "execute_result",
          "data": {
            "text/plain": [
              "mean      106.286479\n",
              "median     45.000000\n",
              "std       150.079427\n",
              "dtype: float64"
            ]
          },
          "metadata": {},
          "execution_count": 85
        }
      ]
    },
    {
      "cell_type": "code",
      "source": [
        "stats_n"
      ],
      "metadata": {
        "colab": {
          "base_uri": "https://localhost:8080/"
        },
        "id": "v9Zh1U1uj7ze",
        "outputId": "26d33ae0-0d40-4315-a43c-b0985522e1c7"
      },
      "execution_count": 86,
      "outputs": [
        {
          "output_type": "execute_result",
          "data": {
            "text/plain": [
              "49203747"
            ]
          },
          "metadata": {},
          "execution_count": 86
        }
      ]
    },
    {
      "cell_type": "code",
      "source": [
        "# TODO: mismatch Grauer et. al report 22.28 %\n",
        "stats_trades_with_quote_size"
      ],
      "metadata": {
        "colab": {
          "base_uri": "https://localhost:8080/"
        },
        "id": "CON0vn1FtCIo",
        "outputId": "846186b4-86aa-4f4d-a04b-25ed23ec9cdb"
      },
      "execution_count": 87,
      "outputs": [
        {
          "output_type": "execute_result",
          "data": {
            "text/plain": [
              "0.10956509064238543"
            ]
          },
          "metadata": {},
          "execution_count": 87
        }
      ]
    },
    {
      "cell_type": "code",
      "source": [
        "stats_buy_trades"
      ],
      "metadata": {
        "colab": {
          "base_uri": "https://localhost:8080/"
        },
        "id": "wq2WQ2dRlLZX",
        "outputId": "79ef22b4-bc57-4ad2-d754-44379af7c49f"
      },
      "execution_count": 88,
      "outputs": [
        {
          "output_type": "execute_result",
          "data": {
            "text/plain": [
              "0.4745849741890592"
            ]
          },
          "metadata": {},
          "execution_count": 88
        }
      ]
    },
    {
      "cell_type": "code",
      "source": [
        "df.tail()"
      ],
      "metadata": {
        "colab": {
          "base_uri": "https://localhost:8080/",
          "height": 342
        },
        "id": "lNFBFZalzC-_",
        "outputId": "41d7e7c0-f81a-49d3-8ed1-12d3edadcd9e"
      },
      "execution_count": 89,
      "outputs": [
        {
          "output_type": "execute_result",
          "data": {
            "text/plain": [
              "         UNDERLYING_SYMBOL      QUOTE_DATETIME  SEQUENCE_NUMBER  ROOT  \\\n",
              "49203742              SVXY 2017-05-31 16:12:19        225274471  SVXY   \n",
              "49203743               SPY 2017-05-31 16:12:45        190004593   SPY   \n",
              "49203744              ^NDX 2017-05-31 16:13:39         35914334   NDX   \n",
              "49203745               DIA 2017-05-31 16:14:02         72897705   DIA   \n",
              "49203746               DIA 2017-05-31 16:14:02         72897705   DIA   \n",
              "\n",
              "         EXPIRATION  STRK_PRC OPTION_TYPE  TRADE_SIZE  TRADE_PRICE  BEST_BID  \\\n",
              "49203742 2017-06-02     152.0           C           1         3.54      2.72   \n",
              "49203743 2017-12-15     236.0           P           6         7.27      7.22   \n",
              "49203744 2017-06-02    5690.0           P          12         1.00      0.40   \n",
              "49203745 2017-06-02     212.0           C           2         0.05      0.03   \n",
              "49203746 2017-06-09     212.5           C           2         0.16      0.10   \n",
              "\n",
              "          ...  bid_ex  bid_size_ex  ask_size_ex  price_all_lead  \\\n",
              "49203742  ...    2.72         20.0         10.0            4.75   \n",
              "49203743  ...    7.19        753.0       1250.0            7.20   \n",
              "49203744  ...    0.00          0.0         13.0            0.47   \n",
              "49203745  ...    0.00          0.0         22.0            0.03   \n",
              "49203746  ...    0.05         75.0         75.0            0.12   \n",
              "\n",
              "          price_all_lag     optionid  day_vol  price_ex_lead  price_ex_lag  \\\n",
              "49203742           3.00  115528016.0      1.0           5.24          3.85   \n",
              "49203743           7.61  113308776.0      6.0           5.37          9.01   \n",
              "49203744           1.40  115919712.0     83.0           0.47          1.40   \n",
              "49203745           0.01  115563008.0      2.0           0.06          0.14   \n",
              "49203746           0.14  115722392.0      2.0           0.14          0.15   \n",
              "\n",
              "          buy_sell  \n",
              "49203742        -1  \n",
              "49203743         1  \n",
              "49203744        -1  \n",
              "49203745         1  \n",
              "49203746        -1  \n",
              "\n",
              "[5 rows x 23 columns]"
            ],
            "text/html": [
              "<div>\n",
              "<style scoped>\n",
              "    .dataframe tbody tr th:only-of-type {\n",
              "        vertical-align: middle;\n",
              "    }\n",
              "\n",
              "    .dataframe tbody tr th {\n",
              "        vertical-align: top;\n",
              "    }\n",
              "\n",
              "    .dataframe thead th {\n",
              "        text-align: right;\n",
              "    }\n",
              "</style>\n",
              "<table border=\"1\" class=\"dataframe\">\n",
              "  <thead>\n",
              "    <tr style=\"text-align: right;\">\n",
              "      <th></th>\n",
              "      <th>UNDERLYING_SYMBOL</th>\n",
              "      <th>QUOTE_DATETIME</th>\n",
              "      <th>SEQUENCE_NUMBER</th>\n",
              "      <th>ROOT</th>\n",
              "      <th>EXPIRATION</th>\n",
              "      <th>STRK_PRC</th>\n",
              "      <th>OPTION_TYPE</th>\n",
              "      <th>TRADE_SIZE</th>\n",
              "      <th>TRADE_PRICE</th>\n",
              "      <th>BEST_BID</th>\n",
              "      <th>...</th>\n",
              "      <th>bid_ex</th>\n",
              "      <th>bid_size_ex</th>\n",
              "      <th>ask_size_ex</th>\n",
              "      <th>price_all_lead</th>\n",
              "      <th>price_all_lag</th>\n",
              "      <th>optionid</th>\n",
              "      <th>day_vol</th>\n",
              "      <th>price_ex_lead</th>\n",
              "      <th>price_ex_lag</th>\n",
              "      <th>buy_sell</th>\n",
              "    </tr>\n",
              "  </thead>\n",
              "  <tbody>\n",
              "    <tr>\n",
              "      <th>49203742</th>\n",
              "      <td>SVXY</td>\n",
              "      <td>2017-05-31 16:12:19</td>\n",
              "      <td>225274471</td>\n",
              "      <td>SVXY</td>\n",
              "      <td>2017-06-02</td>\n",
              "      <td>152.0</td>\n",
              "      <td>C</td>\n",
              "      <td>1</td>\n",
              "      <td>3.54</td>\n",
              "      <td>2.72</td>\n",
              "      <td>...</td>\n",
              "      <td>2.72</td>\n",
              "      <td>20.0</td>\n",
              "      <td>10.0</td>\n",
              "      <td>4.75</td>\n",
              "      <td>3.00</td>\n",
              "      <td>115528016.0</td>\n",
              "      <td>1.0</td>\n",
              "      <td>5.24</td>\n",
              "      <td>3.85</td>\n",
              "      <td>-1</td>\n",
              "    </tr>\n",
              "    <tr>\n",
              "      <th>49203743</th>\n",
              "      <td>SPY</td>\n",
              "      <td>2017-05-31 16:12:45</td>\n",
              "      <td>190004593</td>\n",
              "      <td>SPY</td>\n",
              "      <td>2017-12-15</td>\n",
              "      <td>236.0</td>\n",
              "      <td>P</td>\n",
              "      <td>6</td>\n",
              "      <td>7.27</td>\n",
              "      <td>7.22</td>\n",
              "      <td>...</td>\n",
              "      <td>7.19</td>\n",
              "      <td>753.0</td>\n",
              "      <td>1250.0</td>\n",
              "      <td>7.20</td>\n",
              "      <td>7.61</td>\n",
              "      <td>113308776.0</td>\n",
              "      <td>6.0</td>\n",
              "      <td>5.37</td>\n",
              "      <td>9.01</td>\n",
              "      <td>1</td>\n",
              "    </tr>\n",
              "    <tr>\n",
              "      <th>49203744</th>\n",
              "      <td>^NDX</td>\n",
              "      <td>2017-05-31 16:13:39</td>\n",
              "      <td>35914334</td>\n",
              "      <td>NDX</td>\n",
              "      <td>2017-06-02</td>\n",
              "      <td>5690.0</td>\n",
              "      <td>P</td>\n",
              "      <td>12</td>\n",
              "      <td>1.00</td>\n",
              "      <td>0.40</td>\n",
              "      <td>...</td>\n",
              "      <td>0.00</td>\n",
              "      <td>0.0</td>\n",
              "      <td>13.0</td>\n",
              "      <td>0.47</td>\n",
              "      <td>1.40</td>\n",
              "      <td>115919712.0</td>\n",
              "      <td>83.0</td>\n",
              "      <td>0.47</td>\n",
              "      <td>1.40</td>\n",
              "      <td>-1</td>\n",
              "    </tr>\n",
              "    <tr>\n",
              "      <th>49203745</th>\n",
              "      <td>DIA</td>\n",
              "      <td>2017-05-31 16:14:02</td>\n",
              "      <td>72897705</td>\n",
              "      <td>DIA</td>\n",
              "      <td>2017-06-02</td>\n",
              "      <td>212.0</td>\n",
              "      <td>C</td>\n",
              "      <td>2</td>\n",
              "      <td>0.05</td>\n",
              "      <td>0.03</td>\n",
              "      <td>...</td>\n",
              "      <td>0.00</td>\n",
              "      <td>0.0</td>\n",
              "      <td>22.0</td>\n",
              "      <td>0.03</td>\n",
              "      <td>0.01</td>\n",
              "      <td>115563008.0</td>\n",
              "      <td>2.0</td>\n",
              "      <td>0.06</td>\n",
              "      <td>0.14</td>\n",
              "      <td>1</td>\n",
              "    </tr>\n",
              "    <tr>\n",
              "      <th>49203746</th>\n",
              "      <td>DIA</td>\n",
              "      <td>2017-05-31 16:14:02</td>\n",
              "      <td>72897705</td>\n",
              "      <td>DIA</td>\n",
              "      <td>2017-06-09</td>\n",
              "      <td>212.5</td>\n",
              "      <td>C</td>\n",
              "      <td>2</td>\n",
              "      <td>0.16</td>\n",
              "      <td>0.10</td>\n",
              "      <td>...</td>\n",
              "      <td>0.05</td>\n",
              "      <td>75.0</td>\n",
              "      <td>75.0</td>\n",
              "      <td>0.12</td>\n",
              "      <td>0.14</td>\n",
              "      <td>115722392.0</td>\n",
              "      <td>2.0</td>\n",
              "      <td>0.14</td>\n",
              "      <td>0.15</td>\n",
              "      <td>-1</td>\n",
              "    </tr>\n",
              "  </tbody>\n",
              "</table>\n",
              "<p>5 rows x 23 columns</p>\n",
              "</div>"
            ]
          },
          "metadata": {},
          "execution_count": 89
        }
      ]
    },
    {
      "cell_type": "markdown",
      "source": [
        "## create subsample 🔢"
      ],
      "metadata": {
        "id": "xemjLrKwyR_P"
      }
    },
    {
      "cell_type": "code",
      "source": [
        "year = 2017 \n",
        "df_sub = df[df['QUOTE_DATETIME'].dt.year == year]\n",
        "df_sub.to_parquet(f\"./gcs/data/preprocessed/matched_ise_quotes_{year}.parquet\")"
      ],
      "metadata": {
        "colab": {
          "base_uri": "https://localhost:8080/"
        },
        "id": "a0so0tniyw_a",
        "outputId": "ffbbe8e8-c3a5-4306-fdd5-ac708e22426f"
      },
      "execution_count": 90,
      "outputs": [
        {
          "output_type": "stream",
          "name": "stderr",
          "text": [
            "UserWarning: `to_parquet` defaulting to pandas implementation.\n"
          ]
        }
      ]
    },
    {
      "cell_type": "code",
      "source": [
        "year = 2015\n",
        "df_sub = df[df['QUOTE_DATETIME'].dt.year == year]\n",
        "df_sub.to_parquet(f\"./gcs/data/preprocessed/matched_ise_quotes_{year}.parquet\")"
      ],
      "metadata": {
        "id": "rPYrzxEj0WgB"
      },
      "execution_count": 91,
      "outputs": []
    }
  ],
  "metadata": {
    "colab": {
      "name": "Untitled2.ipynb",
      "provenance": [],
      "machine_shape": "hm",
      "include_colab_link": true
    },
    "kernelspec": {
      "display_name": "Python 3",
      "name": "python3"
    },
    "language_info": {
      "name": "python"
    },
    "widgets": {
      "application/vnd.jupyter.widget-state+json": {
        "d8ec919fc3df43cdac8dd5699eeece7e": {
          "model_module": "@jupyter-widgets/controls",
          "model_name": "HBoxModel",
          "model_module_version": "1.5.0",
          "state": {
            "_dom_classes": [],
            "_model_module": "@jupyter-widgets/controls",
            "_model_module_version": "1.5.0",
            "_model_name": "HBoxModel",
            "_view_count": null,
            "_view_module": "@jupyter-widgets/controls",
            "_view_module_version": "1.5.0",
            "_view_name": "HBoxView",
            "box_style": "",
            "children": [
              "IPY_MODEL_3e87d7f14bda4a51b65f544ae0dbe1fe",
              "IPY_MODEL_42d72cb0456e405892e003d615a7c7ed",
              "IPY_MODEL_94db4bba94344637b5388d9a8bebb26c"
            ],
            "layout": "IPY_MODEL_de82242867484b0e97081baf88e6c6f0"
          }
        },
        "3e87d7f14bda4a51b65f544ae0dbe1fe": {
          "model_module": "@jupyter-widgets/controls",
          "model_name": "HTMLModel",
          "model_module_version": "1.5.0",
          "state": {
            "_dom_classes": [],
            "_model_module": "@jupyter-widgets/controls",
            "_model_module_version": "1.5.0",
            "_model_name": "HTMLModel",
            "_view_count": null,
            "_view_module": "@jupyter-widgets/controls",
            "_view_module_version": "1.5.0",
            "_view_name": "HTMLView",
            "description": "",
            "description_tooltip": null,
            "layout": "IPY_MODEL_946bcd4c32764457a38c79545cd4c250",
            "placeholder": "​",
            "style": "IPY_MODEL_5664736404c84b40be97d5f59ef32911",
            "value": "Distributing Dataframe: 100%"
          }
        },
        "42d72cb0456e405892e003d615a7c7ed": {
          "model_module": "@jupyter-widgets/controls",
          "model_name": "FloatProgressModel",
          "model_module_version": "1.5.0",
          "state": {
            "_dom_classes": [],
            "_model_module": "@jupyter-widgets/controls",
            "_model_module_version": "1.5.0",
            "_model_name": "FloatProgressModel",
            "_view_count": null,
            "_view_module": "@jupyter-widgets/controls",
            "_view_module_version": "1.5.0",
            "_view_name": "ProgressView",
            "bar_style": "success",
            "description": "",
            "description_tooltip": null,
            "layout": "IPY_MODEL_9e877e75c9c94eb6a92711e69273c6cf",
            "max": 1,
            "min": 0,
            "orientation": "horizontal",
            "style": "IPY_MODEL_878f77ec9a284da29609f0f61509ecb0",
            "value": 1
          }
        },
        "94db4bba94344637b5388d9a8bebb26c": {
          "model_module": "@jupyter-widgets/controls",
          "model_name": "HTMLModel",
          "model_module_version": "1.5.0",
          "state": {
            "_dom_classes": [],
            "_model_module": "@jupyter-widgets/controls",
            "_model_module_version": "1.5.0",
            "_model_name": "HTMLModel",
            "_view_count": null,
            "_view_module": "@jupyter-widgets/controls",
            "_view_module_version": "1.5.0",
            "_view_name": "HTMLView",
            "description": "",
            "description_tooltip": null,
            "layout": "IPY_MODEL_2c414c39623e4900aa82d7eed56db893",
            "placeholder": "​",
            "style": "IPY_MODEL_4af5652269704437807048f6e7ee3f09",
            "value": " Elapsed time: 00:00, estimated remaining time: 00:00"
          }
        },
        "de82242867484b0e97081baf88e6c6f0": {
          "model_module": "@jupyter-widgets/base",
          "model_name": "LayoutModel",
          "model_module_version": "1.2.0",
          "state": {
            "_model_module": "@jupyter-widgets/base",
            "_model_module_version": "1.2.0",
            "_model_name": "LayoutModel",
            "_view_count": null,
            "_view_module": "@jupyter-widgets/base",
            "_view_module_version": "1.2.0",
            "_view_name": "LayoutView",
            "align_content": null,
            "align_items": null,
            "align_self": null,
            "border": null,
            "bottom": null,
            "display": null,
            "flex": null,
            "flex_flow": null,
            "grid_area": null,
            "grid_auto_columns": null,
            "grid_auto_flow": null,
            "grid_auto_rows": null,
            "grid_column": null,
            "grid_gap": null,
            "grid_row": null,
            "grid_template_areas": null,
            "grid_template_columns": null,
            "grid_template_rows": null,
            "height": null,
            "justify_content": null,
            "justify_items": null,
            "left": null,
            "margin": null,
            "max_height": null,
            "max_width": null,
            "min_height": null,
            "min_width": null,
            "object_fit": null,
            "object_position": null,
            "order": null,
            "overflow": null,
            "overflow_x": null,
            "overflow_y": null,
            "padding": null,
            "right": null,
            "top": null,
            "visibility": null,
            "width": null
          }
        },
        "946bcd4c32764457a38c79545cd4c250": {
          "model_module": "@jupyter-widgets/base",
          "model_name": "LayoutModel",
          "model_module_version": "1.2.0",
          "state": {
            "_model_module": "@jupyter-widgets/base",
            "_model_module_version": "1.2.0",
            "_model_name": "LayoutModel",
            "_view_count": null,
            "_view_module": "@jupyter-widgets/base",
            "_view_module_version": "1.2.0",
            "_view_name": "LayoutView",
            "align_content": null,
            "align_items": null,
            "align_self": null,
            "border": null,
            "bottom": null,
            "display": null,
            "flex": null,
            "flex_flow": null,
            "grid_area": null,
            "grid_auto_columns": null,
            "grid_auto_flow": null,
            "grid_auto_rows": null,
            "grid_column": null,
            "grid_gap": null,
            "grid_row": null,
            "grid_template_areas": null,
            "grid_template_columns": null,
            "grid_template_rows": null,
            "height": null,
            "justify_content": null,
            "justify_items": null,
            "left": null,
            "margin": null,
            "max_height": null,
            "max_width": null,
            "min_height": null,
            "min_width": null,
            "object_fit": null,
            "object_position": null,
            "order": null,
            "overflow": null,
            "overflow_x": null,
            "overflow_y": null,
            "padding": null,
            "right": null,
            "top": null,
            "visibility": null,
            "width": null
          }
        },
        "5664736404c84b40be97d5f59ef32911": {
          "model_module": "@jupyter-widgets/controls",
          "model_name": "DescriptionStyleModel",
          "model_module_version": "1.5.0",
          "state": {
            "_model_module": "@jupyter-widgets/controls",
            "_model_module_version": "1.5.0",
            "_model_name": "DescriptionStyleModel",
            "_view_count": null,
            "_view_module": "@jupyter-widgets/base",
            "_view_module_version": "1.2.0",
            "_view_name": "StyleView",
            "description_width": ""
          }
        },
        "9e877e75c9c94eb6a92711e69273c6cf": {
          "model_module": "@jupyter-widgets/base",
          "model_name": "LayoutModel",
          "model_module_version": "1.2.0",
          "state": {
            "_model_module": "@jupyter-widgets/base",
            "_model_module_version": "1.2.0",
            "_model_name": "LayoutModel",
            "_view_count": null,
            "_view_module": "@jupyter-widgets/base",
            "_view_module_version": "1.2.0",
            "_view_name": "LayoutView",
            "align_content": null,
            "align_items": null,
            "align_self": null,
            "border": null,
            "bottom": null,
            "display": null,
            "flex": null,
            "flex_flow": null,
            "grid_area": null,
            "grid_auto_columns": null,
            "grid_auto_flow": null,
            "grid_auto_rows": null,
            "grid_column": null,
            "grid_gap": null,
            "grid_row": null,
            "grid_template_areas": null,
            "grid_template_columns": null,
            "grid_template_rows": null,
            "height": null,
            "justify_content": null,
            "justify_items": null,
            "left": null,
            "margin": null,
            "max_height": null,
            "max_width": null,
            "min_height": null,
            "min_width": null,
            "object_fit": null,
            "object_position": null,
            "order": null,
            "overflow": null,
            "overflow_x": null,
            "overflow_y": null,
            "padding": null,
            "right": null,
            "top": null,
            "visibility": null,
            "width": null
          }
        },
        "878f77ec9a284da29609f0f61509ecb0": {
          "model_module": "@jupyter-widgets/controls",
          "model_name": "ProgressStyleModel",
          "model_module_version": "1.5.0",
          "state": {
            "_model_module": "@jupyter-widgets/controls",
            "_model_module_version": "1.5.0",
            "_model_name": "ProgressStyleModel",
            "_view_count": null,
            "_view_module": "@jupyter-widgets/base",
            "_view_module_version": "1.2.0",
            "_view_name": "StyleView",
            "bar_color": null,
            "description_width": ""
          }
        },
        "2c414c39623e4900aa82d7eed56db893": {
          "model_module": "@jupyter-widgets/base",
          "model_name": "LayoutModel",
          "model_module_version": "1.2.0",
          "state": {
            "_model_module": "@jupyter-widgets/base",
            "_model_module_version": "1.2.0",
            "_model_name": "LayoutModel",
            "_view_count": null,
            "_view_module": "@jupyter-widgets/base",
            "_view_module_version": "1.2.0",
            "_view_name": "LayoutView",
            "align_content": null,
            "align_items": null,
            "align_self": null,
            "border": null,
            "bottom": null,
            "display": null,
            "flex": null,
            "flex_flow": null,
            "grid_area": null,
            "grid_auto_columns": null,
            "grid_auto_flow": null,
            "grid_auto_rows": null,
            "grid_column": null,
            "grid_gap": null,
            "grid_row": null,
            "grid_template_areas": null,
            "grid_template_columns": null,
            "grid_template_rows": null,
            "height": null,
            "justify_content": null,
            "justify_items": null,
            "left": null,
            "margin": null,
            "max_height": null,
            "max_width": null,
            "min_height": null,
            "min_width": null,
            "object_fit": null,
            "object_position": null,
            "order": null,
            "overflow": null,
            "overflow_x": null,
            "overflow_y": null,
            "padding": null,
            "right": null,
            "top": null,
            "visibility": null,
            "width": null
          }
        },
        "4af5652269704437807048f6e7ee3f09": {
          "model_module": "@jupyter-widgets/controls",
          "model_name": "DescriptionStyleModel",
          "model_module_version": "1.5.0",
          "state": {
            "_model_module": "@jupyter-widgets/controls",
            "_model_module_version": "1.5.0",
            "_model_name": "DescriptionStyleModel",
            "_view_count": null,
            "_view_module": "@jupyter-widgets/base",
            "_view_module_version": "1.2.0",
            "_view_name": "StyleView",
            "description_width": ""
          }
        }
      }
    },
    "gpuClass": "standard"
  },
  "nbformat": 4,
  "nbformat_minor": 0
}