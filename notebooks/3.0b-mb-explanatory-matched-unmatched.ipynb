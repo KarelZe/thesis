{
 "cells": [
  {
   "cell_type": "code",
   "execution_count": null,
   "id": "0",
   "metadata": {},
   "outputs": [],
   "source": [
    "from __future__ import annotations\n",
    "\n",
    "import os\n",
    "from pathlib import Path\n",
    "from typing import List\n",
    "\n",
    "import matplotlib.pyplot as plt\n",
    "import numpy as np\n",
    "import pandas as pd\n",
    "import seaborn as sns\n",
    "import wandb\n",
    "from tqdm.auto import tqdm\n",
    "\n",
    "from otc.features.build_features import (\n",
    "    features_classical_size,\n",
    ")"
   ]
  },
  {
   "cell_type": "code",
   "execution_count": null,
   "id": "1",
   "metadata": {},
   "outputs": [],
   "source": [
    "EXCHANGE = \"ise\"\n",
    "STRATEGY = \"supervised\""
   ]
  },
  {
   "cell_type": "code",
   "execution_count": null,
   "id": "2",
   "metadata": {},
   "outputs": [],
   "source": [
    "dataset = f\"fbv/thesis/{EXCHANGE}_{STRATEGY}_none:latest\"\n",
    "\n",
    "os.environ[\"GCLOUD_PROJECT\"] = \"flowing-mantis-239216\"\n",
    "\n",
    "run = wandb.init(project=\"thesis\", entity=\"fbv\")"
   ]
  },
  {
   "cell_type": "code",
   "execution_count": null,
   "id": "3",
   "metadata": {
    "tags": []
   },
   "outputs": [],
   "source": [
    "# download labelled\n",
    "artifact_labelled = run.use_artifact(dataset)\n",
    "artifact_dir_labelled = artifact_labelled.download()\n",
    "\n",
    "# download unlabelled\n",
    "unlabelled_dataset = dataset.replace(\"supervised\", \"unsupervised\")\n",
    "artifact_unlabelled = run.use_artifact(unlabelled_dataset)\n",
    "artifact_dir_unlabelled = artifact_unlabelled.download()\n",
    "\n",
    "x_train_unlabelled = pd.read_parquet(\n",
    "    Path(artifact_dir_unlabelled, \"train_set.parquet\"),\n",
    "    columns=[\"buy_sell\", *features_classical_size],\n",
    ")\n",
    "\n",
    "# labelled data\n",
    "x_train_labelled = pd.read_parquet(\n",
    "    Path(artifact_dir_labelled, \"train_set.parquet\"),\n",
    "    columns=[\"buy_sell\", *features_classical_size],\n",
    ")\n",
    "\n",
    "x_train_unlabelled[\"src\"] = \"unlabelled\"\n",
    "x_train_labelled[\"src\"] = \"labelled\"\n",
    "\n",
    "\n",
    "# load unscaled data\n",
    "# artifact_labelled = run.use_artifact(dataset)\n",
    "# artifact_dir_labelled = artifact_labelled.download()\n",
    "# x_train = pd.concat([x_train_labelled, x_train_unlabelled])\n",
    "# y_train = pd.concat([y_train_labelled, y_train_unlabelled])"
   ]
  },
  {
   "cell_type": "code",
   "execution_count": null,
   "id": "4",
   "metadata": {
    "tags": []
   },
   "outputs": [],
   "source": [
    "x_train_unlabelled.head().T"
   ]
  },
  {
   "cell_type": "code",
   "execution_count": null,
   "id": "5",
   "metadata": {
    "tags": []
   },
   "outputs": [],
   "source": [
    "x_train_unlabelled.index.min()"
   ]
  },
  {
   "cell_type": "code",
   "execution_count": null,
   "id": "6",
   "metadata": {
    "tags": []
   },
   "outputs": [],
   "source": [
    "x_train_unlabelled.index.max()"
   ]
  },
  {
   "cell_type": "code",
   "execution_count": null,
   "id": "7",
   "metadata": {
    "tags": []
   },
   "outputs": [],
   "source": [
    "# slice to same time range as unlabelled trades\n",
    "x_train_labelled = x_train_labelled.iloc[27248577:29510319]"
   ]
  },
  {
   "cell_type": "code",
   "execution_count": null,
   "id": "8",
   "metadata": {
    "tags": []
   },
   "outputs": [],
   "source": [
    "x_train_labelled"
   ]
  },
  {
   "cell_type": "code",
   "execution_count": null,
   "id": "9",
   "metadata": {
    "tags": []
   },
   "outputs": [],
   "source": [
    "data = pd.concat([x_train_labelled, x_train_unlabelled]).sample(frac=0.10)"
   ]
  },
  {
   "cell_type": "code",
   "execution_count": null,
   "id": "10",
   "metadata": {
    "tags": []
   },
   "outputs": [],
   "source": [
    "def plot_kde_src(var_name: str, clip: List[float] | None = None):\n",
    "    \"\"\"Plot kde plots for labelled and unlabelled with regard to the feature 'var_name'.\n",
    "\n",
    "    Args:\n",
    "        var_name (str): name of feature\n",
    "        clip (List[float] | None, optional): clipping range. Defaults to None.\n",
    "    \"\"\"\n",
    "    quantiles = np.linspace(0.1, 1, 9, 0)\n",
    "    stats_unlabelled = data[data[\"src\"] == \"unlabelled\"][var_name].quantile(quantiles)\n",
    "    stats_labelled = data[data[\"src\"] == \"labelled\"][var_name].quantile(quantiles)\n",
    "\n",
    "    _, ax = plt.subplots()\n",
    "    for i in [\"unlabelled\", \"labelled\"]:\n",
    "        sns.kdeplot(\n",
    "            data=data[data[\"src\"] == i][var_name],\n",
    "            clip=clip,\n",
    "            label=str(i),\n",
    "            cumulative=True,\n",
    "            common_grid=True,\n",
    "            # common_norm=True,\n",
    "        )\n",
    "    ax.title.set_text(f\"Distribution of '{var_name}'\")\n",
    "    ax.legend()\n",
    "    sns.move_legend(ax, \"lower center\", bbox_to_anchor=(0.5, -0.3))\n",
    "    plt.show()\n",
    "\n",
    "    stats = pd.concat(\n",
    "        [stats_unlabelled, stats_labelled], keys=[\"unlabelled\", \"labelled\"], axis=1\n",
    "    )\n",
    "    print(stats)"
   ]
  },
  {
   "cell_type": "code",
   "execution_count": null,
   "id": "11",
   "metadata": {
    "tags": []
   },
   "outputs": [],
   "source": [
    "data.columns"
   ]
  },
  {
   "cell_type": "code",
   "execution_count": null,
   "id": "12",
   "metadata": {
    "tags": []
   },
   "outputs": [],
   "source": [
    "keys = data.columns.tolist()\n",
    "keys.remove(\"buy_sell\")\n",
    "keys.remove(\"src\")\n",
    "\n",
    "for key in tqdm(keys):\n",
    "    plot_kde_src(key)"
   ]
  },
  {
   "attachments": {},
   "cell_type": "markdown",
   "id": "13",
   "metadata": {},
   "source": [
    "## Proximity to Quotes"
   ]
  },
  {
   "cell_type": "code",
   "execution_count": null,
   "id": "14",
   "metadata": {
    "tags": []
   },
   "outputs": [],
   "source": [
    "def plot_hist(unlabelled, labelled, title):\n",
    "    fig, ax = plt.subplots()\n",
    "    ax.hist(\n",
    "        unlabelled, bins=50, alpha=0.5, label=\"unlabelled\", density=True, range=[-2, 2]\n",
    "    )\n",
    "    ax.hist(labelled, bins=50, alpha=0.5, label=\"labelled\", density=True, range=[-2, 2])\n",
    "    plt.title(title)\n",
    "    plt.legend()\n",
    "    plt.show()"
   ]
  },
  {
   "cell_type": "code",
   "execution_count": null,
   "id": "15",
   "metadata": {
    "tags": []
   },
   "outputs": [],
   "source": [
    "var_name = \"prox_ex\"\n",
    "unlabelled = data[data[\"src\"] == \"unlabelled\"][var_name]\n",
    "labelled = data[data[\"src\"] == \"labelled\"][var_name]"
   ]
  },
  {
   "cell_type": "code",
   "execution_count": null,
   "id": "16",
   "metadata": {
    "tags": []
   },
   "outputs": [],
   "source": [
    "plot_hist(unlabelled, labelled, var_name)"
   ]
  },
  {
   "cell_type": "code",
   "execution_count": null,
   "id": "17",
   "metadata": {
    "tags": []
   },
   "outputs": [],
   "source": [
    "var_name = \"prox_best\"\n",
    "unlabelled = data[data[\"src\"] == \"unlabelled\"][var_name]\n",
    "labelled = data[data[\"src\"] == \"labelled\"][var_name]"
   ]
  },
  {
   "cell_type": "code",
   "execution_count": null,
   "id": "18",
   "metadata": {
    "tags": []
   },
   "outputs": [],
   "source": [
    "plot_hist(unlabelled, labelled, var_name)"
   ]
  },
  {
   "attachments": {},
   "cell_type": "markdown",
   "id": "19",
   "metadata": {},
   "source": [
    "## Bid Size == Trade Size || Ask Size == Trade Size"
   ]
  },
  {
   "cell_type": "code",
   "execution_count": null,
   "id": "20",
   "metadata": {
    "tags": []
   },
   "outputs": [],
   "source": [
    "var_name = \"rel_bid_size_ex\"\n",
    "\n",
    "unlabelled = data[data[\"src\"] == \"unlabelled\"][var_name]\n",
    "labelled = data[data[\"src\"] == \"labelled\"][var_name]"
   ]
  },
  {
   "cell_type": "code",
   "execution_count": null,
   "id": "21",
   "metadata": {
    "tags": []
   },
   "outputs": [],
   "source": [
    "plot_hist(unlabelled, labelled, var_name)"
   ]
  },
  {
   "cell_type": "code",
   "execution_count": null,
   "id": "22",
   "metadata": {
    "tags": []
   },
   "outputs": [],
   "source": [
    "var_name = \"rel_ask_size_ex\"\n",
    "\n",
    "unlabelled = data[data[\"src\"] == \"unlabelled\"][var_name]\n",
    "labelled = data[data[\"src\"] == \"labelled\"][var_name]"
   ]
  },
  {
   "cell_type": "code",
   "execution_count": null,
   "id": "23",
   "metadata": {
    "tags": []
   },
   "outputs": [],
   "source": [
    "plot_hist(unlabelled, labelled, var_name)"
   ]
  },
  {
   "attachments": {},
   "cell_type": "markdown",
   "id": "24",
   "metadata": {},
   "source": [
    "## Absolute Spread"
   ]
  },
  {
   "cell_type": "code",
   "execution_count": null,
   "id": "25",
   "metadata": {
    "tags": []
   },
   "outputs": [],
   "source": [
    "var_name = \"spread\"\n",
    "\n",
    "data[var_name] = data[\"ask_ex\"] - data[\"bid_ex\"]"
   ]
  },
  {
   "cell_type": "code",
   "execution_count": null,
   "id": "26",
   "metadata": {
    "tags": []
   },
   "outputs": [],
   "source": [
    "unlabelled = data[data[\"src\"] == \"unlabelled\"][var_name]\n",
    "labelled = data[data[\"src\"] == \"labelled\"][var_name]"
   ]
  },
  {
   "cell_type": "code",
   "execution_count": null,
   "id": "27",
   "metadata": {
    "tags": []
   },
   "outputs": [],
   "source": [
    "plot_hist(unlabelled, labelled, var_name)"
   ]
  },
  {
   "attachments": {},
   "cell_type": "markdown",
   "id": "28",
   "metadata": {},
   "source": [
    "## Delta to previous / next trade price"
   ]
  },
  {
   "cell_type": "code",
   "execution_count": null,
   "id": "29",
   "metadata": {
    "tags": []
   },
   "outputs": [],
   "source": [
    "var_name = \"prc_delta\"\n",
    "data[var_name] = data[\"TRADE_PRICE\"] - data[\"price_ex_lead\"]"
   ]
  },
  {
   "cell_type": "code",
   "execution_count": null,
   "id": "30",
   "metadata": {
    "tags": []
   },
   "outputs": [],
   "source": [
    "unlabelled = data[data[\"src\"] == \"unlabelled\"][var_name]\n",
    "labelled = data[data[\"src\"] == \"labelled\"][var_name]"
   ]
  },
  {
   "cell_type": "code",
   "execution_count": null,
   "id": "31",
   "metadata": {
    "tags": []
   },
   "outputs": [],
   "source": [
    "plot_hist(unlabelled, labelled, var_name)"
   ]
  }
 ],
 "metadata": {
  "kernelspec": {
   "display_name": "Python 3 (ipykernel)",
   "language": "python",
   "name": "python3"
  },
  "language_info": {
   "codemirror_mode": {
    "name": "ipython",
    "version": 3
   },
   "file_extension": ".py",
   "mimetype": "text/x-python",
   "name": "python",
   "nbconvert_exporter": "python",
   "pygments_lexer": "ipython3",
   "version": "3.9.7"
  }
 },
 "nbformat": 4,
 "nbformat_minor": 5
}
