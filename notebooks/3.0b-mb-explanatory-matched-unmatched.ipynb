{
 "cells": [
  {
   "cell_type": "code",
   "execution_count": null,
   "id": "d7dc383f-b32d-47c7-b71a-fb15952a1626",
   "metadata": {},
   "outputs": [],
   "source": [
    "from __future__ import annotations\n",
    "\n",
    "import wandb\n",
    "from pathlib import Path\n",
    "import pandas as pd\n",
    "\n",
    "import os\n",
    "\n",
    "from otc.features.build_features import (\n",
    "    features_classical_size,\n",
    ")\n",
    "\n",
    "\n",
    "from typing import List\n",
    "\n",
    "import matplotlib.pyplot as plt\n",
    "import numpy as np\n",
    "import pandas as pd\n",
    "import seaborn as sns\n",
    "\n",
    "from tqdm.auto import tqdm"
   ]
  },
  {
   "cell_type": "code",
   "execution_count": null,
   "id": "77a11cab-b8ac-46e4-96b2-6f77a9eae327",
   "metadata": {},
   "outputs": [],
   "source": [
    "EXCHANGE = \"ise\"\n",
    "STRATEGY = \"supervised\""
   ]
  },
  {
   "cell_type": "code",
   "execution_count": null,
   "id": "c5a14fc8-7c96-4c36-b31b-3794978ba628",
   "metadata": {},
   "outputs": [],
   "source": [
    "dataset = f\"fbv/thesis/{EXCHANGE}_{STRATEGY}_none:latest\"\n",
    "\n",
    "os.environ[\"GCLOUD_PROJECT\"] = \"flowing-mantis-239216\"\n",
    "\n",
    "run = wandb.init(project=\"thesis\", entity=\"fbv\")\n"
   ]
  },
  {
   "cell_type": "code",
   "execution_count": null,
   "id": "45a3a0c7-eb23-4e71-8607-0a8e3d164c8b",
   "metadata": {
    "tags": []
   },
   "outputs": [],
   "source": [
    "# download labelled\n",
    "artifact_labelled = run.use_artifact(dataset)\n",
    "artifact_dir_labelled = artifact_labelled.download()\n",
    "\n",
    "# download unlabelled\n",
    "unlabelled_dataset = dataset.replace(\"supervised\", \"unsupervised\")\n",
    "artifact_unlabelled = run.use_artifact(unlabelled_dataset)\n",
    "artifact_dir_unlabelled = artifact_unlabelled.download()\n",
    "\n",
    "x_train_unlabelled = pd.read_parquet(\n",
    "            Path(artifact_dir_unlabelled, \"train_set.parquet\"), columns=[\"buy_sell\", *features_classical_size]\n",
    "        )\n",
    "\n",
    "# labelled data\n",
    "x_train_labelled = pd.read_parquet(\n",
    "            Path(artifact_dir_labelled, \"train_set.parquet\"), columns=[\"buy_sell\", *features_classical_size]\n",
    ")\n",
    "\n",
    "x_train_unlabelled[\"src\"] = \"unlabelled\"\n",
    "x_train_labelled[\"src\"] = \"labelled\"\n",
    "\n",
    "\n",
    "# load unscaled data\n",
    "# artifact_labelled = run.use_artifact(dataset)\n",
    "# artifact_dir_labelled = artifact_labelled.download()\n",
    "# x_train = pd.concat([x_train_labelled, x_train_unlabelled])\n",
    "# y_train = pd.concat([y_train_labelled, y_train_unlabelled])"
   ]
  },
  {
   "cell_type": "code",
   "execution_count": null,
   "id": "c8cf3f0f-202b-451e-9b8b-1be9deb0293b",
   "metadata": {
    "tags": []
   },
   "outputs": [],
   "source": [
    "x_train_unlabelled.head().T"
   ]
  },
  {
   "cell_type": "code",
   "execution_count": null,
   "id": "129fdf84-e9a3-4a29-8929-c06c4b184318",
   "metadata": {
    "tags": []
   },
   "outputs": [],
   "source": [
    "x_train_unlabelled.index.min()"
   ]
  },
  {
   "cell_type": "code",
   "execution_count": null,
   "id": "6e874db6-74ec-4794-921e-dc9c07b62943",
   "metadata": {
    "tags": []
   },
   "outputs": [],
   "source": [
    "x_train_unlabelled.index.max()"
   ]
  },
  {
   "cell_type": "code",
   "execution_count": null,
   "id": "53b22aae-fbb4-4cf5-a320-f3e4b31bf7c9",
   "metadata": {
    "tags": []
   },
   "outputs": [],
   "source": [
    "# slice to same time range as unlabelled trades\n",
    "x_train_labelled = x_train_labelled.iloc[27248577 : 29510319]"
   ]
  },
  {
   "cell_type": "code",
   "execution_count": null,
   "id": "ac5b942b-9025-414b-8be1-ac3b295e14df",
   "metadata": {
    "tags": []
   },
   "outputs": [],
   "source": [
    "x_train_labelled"
   ]
  },
  {
   "cell_type": "code",
   "execution_count": null,
   "id": "bd90481a-667c-4a30-a579-e143c59e988a",
   "metadata": {
    "tags": []
   },
   "outputs": [],
   "source": [
    "data = pd.concat([x_train_labelled, x_train_unlabelled]).sample(frac=0.10)"
   ]
  },
  {
   "cell_type": "code",
   "execution_count": null,
   "id": "7cf74de4-f83e-4493-8d64-ef5397ce1254",
   "metadata": {
    "tags": []
   },
   "outputs": [],
   "source": [
    "def plot_kde_src(var_name: str, clip: List[float] | None = None):\n",
    "    \"\"\"\n",
    "    Plot kde plots for labelled and unlabelled with regard to the feature 'var_name'.\n",
    "\n",
    "    Args:\n",
    "        var_name (str): name of feature\n",
    "        clip (List[float] | None, optional): clipping range. Defaults to None.\n",
    "    \"\"\"\n",
    "\n",
    "    quantiles = np.linspace(.1, 1, 9, 0)\n",
    "    stats_unlabelled = data[data[\"src\"] == \"unlabelled\"][var_name].quantile(quantiles)\n",
    "    stats_labelled = data[data[\"src\"] == \"labelled\"][var_name].quantile(quantiles)\n",
    "    \n",
    "    _, ax = plt.subplots()\n",
    "    for i in [\"unlabelled\", \"labelled\"]:\n",
    "        sns.kdeplot(\n",
    "            data=data[data[\"src\"] == i][var_name],\n",
    "            clip=clip,\n",
    "            label=str(i),\n",
    "            cumulative=True,\n",
    "            common_grid=True,\n",
    "            # common_norm=True,\n",
    "        )\n",
    "    ax.title.set_text(f\"Distribution of '{var_name}'\")\n",
    "    ax.legend()\n",
    "    sns.move_legend(ax, \"lower center\", bbox_to_anchor=(0.5, -0.3))\n",
    "    plt.show()\n",
    "\n",
    "    stats = pd.concat([stats_unlabelled, stats_labelled], keys=[\"unlabelled\", \"labelled\"], axis=1)\n",
    "    print(stats)"
   ]
  },
  {
   "cell_type": "code",
   "execution_count": null,
   "id": "249ee50a-8eb6-4a23-9f0b-c7f19a319fd4",
   "metadata": {
    "tags": []
   },
   "outputs": [],
   "source": [
    "data.columns"
   ]
  },
  {
   "cell_type": "code",
   "execution_count": null,
   "id": "23cd5f22-9b50-4ff1-86ed-5fb37358f05b",
   "metadata": {
    "tags": []
   },
   "outputs": [],
   "source": [
    "keys = data.columns.tolist()\n",
    "keys.remove(\"buy_sell\")\n",
    "keys.remove(\"src\")\n",
    "\n",
    "for key in tqdm(keys):\n",
    "    plot_kde_src(key)"
   ]
  },
  {
   "attachments": {},
   "cell_type": "markdown",
   "id": "ad322fe1-aec2-4302-9c15-f1e9fb6a6e33",
   "metadata": {},
   "source": [
    "## Proximity to Quotes"
   ]
  },
  {
   "cell_type": "code",
   "execution_count": null,
   "id": "fa97edf4-d3db-44f2-9213-4d547bddaaf3",
   "metadata": {
    "tags": []
   },
   "outputs": [],
   "source": [
    "def plot_hist(unlabelled, labelled, title):\n",
    "    fig, ax = plt.subplots()\n",
    "    ax.hist(unlabelled, bins=50, alpha=0.5, label='unlabelled', density=True, range=[-2,2])\n",
    "    ax.hist(labelled, bins=50, alpha=0.5, label='labelled', density=True, range=[-2,2])\n",
    "    plt.title(title)\n",
    "    plt.legend()\n",
    "    plt.show()"
   ]
  },
  {
   "cell_type": "code",
   "execution_count": null,
   "id": "203ea7e7-6de7-4390-a43d-2643395bf434",
   "metadata": {
    "tags": []
   },
   "outputs": [],
   "source": [
    "var_name = \"prox_ex\"\n",
    "unlabelled = data[data[\"src\"] == \"unlabelled\"][var_name]\n",
    "labelled = data[data[\"src\"] == \"labelled\"][var_name]"
   ]
  },
  {
   "cell_type": "code",
   "execution_count": null,
   "id": "9c8f79c1-8c7d-43b3-8cce-3d492115b8e1",
   "metadata": {
    "tags": []
   },
   "outputs": [],
   "source": [
    "plot_hist(unlabelled, labelled, var_name)"
   ]
  },
  {
   "cell_type": "code",
   "execution_count": null,
   "id": "4bd33a2d-acb5-412b-b0a4-777304f0db95",
   "metadata": {
    "tags": []
   },
   "outputs": [],
   "source": [
    "var_name = \"prox_best\"\n",
    "unlabelled = data[data[\"src\"] == \"unlabelled\"][var_name]\n",
    "labelled = data[data[\"src\"] == \"labelled\"][var_name]"
   ]
  },
  {
   "cell_type": "code",
   "execution_count": null,
   "id": "f1bdb354-4cab-4d71-8746-85bda6dc06d9",
   "metadata": {
    "tags": []
   },
   "outputs": [],
   "source": [
    "plot_hist(unlabelled, labelled, var_name)"
   ]
  },
  {
   "attachments": {},
   "cell_type": "markdown",
   "id": "c04fce28-98ea-493e-8276-d132a2ada5b9",
   "metadata": {},
   "source": [
    "## Bid Size == Trade Size || Ask Size == Trade Size"
   ]
  },
  {
   "cell_type": "code",
   "execution_count": null,
   "id": "49f8ca48-7ff7-443d-acf9-39b05b207835",
   "metadata": {
    "tags": []
   },
   "outputs": [],
   "source": [
    "var_name = \"rel_bid_size_ex\"\n",
    "\n",
    "unlabelled = data[data[\"src\"] == \"unlabelled\"][var_name]\n",
    "labelled = data[data[\"src\"] == \"labelled\"][var_name]"
   ]
  },
  {
   "cell_type": "code",
   "execution_count": null,
   "id": "fa1c88ce-1052-453c-b627-088832ce927a",
   "metadata": {
    "tags": []
   },
   "outputs": [],
   "source": [
    "plot_hist(unlabelled, labelled, var_name)"
   ]
  },
  {
   "cell_type": "code",
   "execution_count": null,
   "id": "cfcd9b0f-f6b8-4cdb-bc68-aa09d324d4d2",
   "metadata": {
    "tags": []
   },
   "outputs": [],
   "source": [
    "var_name = \"rel_ask_size_ex\"\n",
    "\n",
    "unlabelled = data[data[\"src\"] == \"unlabelled\"][var_name]\n",
    "labelled = data[data[\"src\"] == \"labelled\"][var_name]"
   ]
  },
  {
   "cell_type": "code",
   "execution_count": null,
   "id": "01e36c02-0bdc-40e9-90b8-b11a0240a7c6",
   "metadata": {
    "tags": []
   },
   "outputs": [],
   "source": [
    "plot_hist(unlabelled, labelled, var_name)"
   ]
  },
  {
   "attachments": {},
   "cell_type": "markdown",
   "id": "12cc9fbc-56a0-4aff-b6ee-b1857e011b05",
   "metadata": {},
   "source": [
    "## Absolute Spread"
   ]
  },
  {
   "cell_type": "code",
   "execution_count": null,
   "id": "9c488948-02eb-4d34-810f-571eb78e2472",
   "metadata": {
    "tags": []
   },
   "outputs": [],
   "source": [
    "var_name = \"spread\"\n",
    "\n",
    "data[var_name] = data[\"ask_ex\"] - data[\"bid_ex\"] "
   ]
  },
  {
   "cell_type": "code",
   "execution_count": null,
   "id": "0801dd43-86fc-419b-90c6-d12f038beb40",
   "metadata": {
    "tags": []
   },
   "outputs": [],
   "source": [
    "unlabelled = data[data[\"src\"] == \"unlabelled\"][var_name]\n",
    "labelled = data[data[\"src\"] == \"labelled\"][var_name]"
   ]
  },
  {
   "cell_type": "code",
   "execution_count": null,
   "id": "d2ed2505-a384-4a44-a13d-e2649b11804e",
   "metadata": {
    "tags": []
   },
   "outputs": [],
   "source": [
    "plot_hist(unlabelled, labelled, var_name)"
   ]
  },
  {
   "attachments": {},
   "cell_type": "markdown",
   "id": "a1e64883-dcfe-498e-929b-aca29ac5daf8",
   "metadata": {},
   "source": [
    "## Delta to previous / next trade price"
   ]
  },
  {
   "cell_type": "code",
   "execution_count": null,
   "id": "535d9e5b-6d96-4472-9f64-ca1a9528c5ed",
   "metadata": {
    "tags": []
   },
   "outputs": [],
   "source": [
    "var_name = \"prc_delta\"\n",
    "data[var_name] = (data[\"TRADE_PRICE\"] - data[\"price_ex_lead\"])"
   ]
  },
  {
   "cell_type": "code",
   "execution_count": null,
   "id": "793fcff1-0509-4f84-b277-4fb40216bf75",
   "metadata": {
    "tags": []
   },
   "outputs": [],
   "source": [
    "unlabelled = data[data[\"src\"] == \"unlabelled\"][var_name]\n",
    "labelled = data[data[\"src\"] == \"labelled\"][var_name]"
   ]
  },
  {
   "cell_type": "code",
   "execution_count": null,
   "id": "165ccd9d-3cd1-44bc-af1e-7308db9413f5",
   "metadata": {
    "tags": []
   },
   "outputs": [],
   "source": [
    "plot_hist(unlabelled, labelled, var_name)"
   ]
  }
 ],
 "metadata": {
  "kernelspec": {
   "display_name": "Python 3 (ipykernel)",
   "language": "python",
   "name": "python3"
  },
  "language_info": {
   "codemirror_mode": {
    "name": "ipython",
    "version": 3
   },
   "file_extension": ".py",
   "mimetype": "text/x-python",
   "name": "python",
   "nbconvert_exporter": "python",
   "pygments_lexer": "ipython3",
   "version": "3.9.7"
  }
 },
 "nbformat": 4,
 "nbformat_minor": 5
}
