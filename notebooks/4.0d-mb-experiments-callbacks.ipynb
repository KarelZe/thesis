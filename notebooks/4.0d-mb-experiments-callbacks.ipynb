{
 "cells": [
  {
   "cell_type": "code",
   "execution_count": null,
   "metadata": {},
   "outputs": [],
   "source": [
    "!pip install wandb"
   ]
  },
  {
   "cell_type": "code",
   "execution_count": 1,
   "metadata": {},
   "outputs": [
    {
     "name": "stderr",
     "output_type": "stream",
     "text": [
      "c:\\Users\\Markus\\AppData\\Local\\Programs\\Python\\Python39\\lib\\site-packages\\tqdm\\auto.py:22: TqdmWarning: IProgress not found. Please update jupyter and ipywidgets. See https://ipywidgets.readthedocs.io/en/stable/user_install.html\n",
      "  from .autonotebook import tqdm as notebook_tqdm\n"
     ]
    }
   ],
   "source": [
    "import torch\n",
    "import gcsfs\n",
    "\n",
    "from torch import nn, optim\n",
    "import torch.nn.functional as F\n"
   ]
  },
  {
   "cell_type": "code",
   "execution_count": 2,
   "metadata": {},
   "outputs": [
    {
     "name": "stdout",
     "output_type": "stream",
     "text": [
      "Net(\n",
      "  (conv1): Conv2d(3, 6, kernel_size=(5, 5), stride=(1, 1))\n",
      "  (pool): MaxPool2d(kernel_size=2, stride=2, padding=0, dilation=1, ceil_mode=False)\n",
      "  (conv2): Conv2d(6, 16, kernel_size=(5, 5), stride=(1, 1))\n",
      "  (fc1): Linear(in_features=400, out_features=120, bias=True)\n",
      "  (fc2): Linear(in_features=120, out_features=84, bias=True)\n",
      "  (fc3): Linear(in_features=84, out_features=10, bias=True)\n",
      ")\n"
     ]
    }
   ],
   "source": [
    "class Net(nn.Module):\n",
    "    def __init__(self):\n",
    "        super(Net, self).__init__()\n",
    "        self.conv1 = nn.Conv2d(3, 6, 5)\n",
    "        self.pool = nn.MaxPool2d(2, 2)\n",
    "        self.conv2 = nn.Conv2d(6, 16, 5)\n",
    "        self.fc1 = nn.Linear(16 * 5 * 5, 120)\n",
    "        self.fc2 = nn.Linear(120, 84)\n",
    "        self.fc3 = nn.Linear(84, 10)\n",
    "\n",
    "    def forward(self, x):\n",
    "        x = self.pool(F.relu(self.conv1(x)))\n",
    "        x = self.pool(F.relu(self.conv2(x)))\n",
    "        x = x.view(-1, 16 * 5 * 5)\n",
    "        x = F.relu(self.fc1(x))\n",
    "        x = F.relu(self.fc2(x))\n",
    "        x = self.fc3(x)\n",
    "        return x\n",
    "\n",
    "\n",
    "net = Net()\n",
    "print(net)\n"
   ]
  },
  {
   "cell_type": "code",
   "execution_count": 3,
   "metadata": {},
   "outputs": [],
   "source": [
    "optimizer = optim.SGD(net.parameters(), lr=0.001, momentum=0.9)\n"
   ]
  },
  {
   "cell_type": "code",
   "execution_count": 4,
   "metadata": {},
   "outputs": [],
   "source": [
    "# Additional information\n",
    "EPOCH = 5\n",
    "PATH = \"model.pt\"\n",
    "LOSS = 0.4\n",
    "\n",
    "torch.save(\n",
    "    {\n",
    "        \"epoch\": EPOCH,\n",
    "        \"model_state_dict\": net.state_dict(),\n",
    "        \"optimizer_state_dict\": optimizer.state_dict(),\n",
    "        \"loss\": LOSS,\n",
    "    },\n",
    "    PATH,\n",
    ")\n"
   ]
  },
  {
   "cell_type": "code",
   "execution_count": 5,
   "metadata": {},
   "outputs": [],
   "source": [
    "\n",
    "# https://stackoverflow.com/a/72511896/5755604\n",
    "fs = gcsfs.GCSFileSystem(\n",
    "    project=\"flowing-mantis-239216\", token=\"C:/Users/Markus/Downloads/credentials.json\"\n",
    ")\n",
    "with fs.open(\n",
    "    \"gs://thesis-bucket-option-trade-classification/models/model.pt\", \"wb\"\n",
    ") as f:\n",
    "    torch.save(\n",
    "        {\n",
    "            \"epoch\": EPOCH,\n",
    "            \"model_state_dict\": net.state_dict(),\n",
    "            \"optimizer_state_dict\": optimizer.state_dict(),\n",
    "            \"loss\": LOSS,\n",
    "        },\n",
    "        f,\n",
    "    ) # type: ignore\n"
   ]
  },
  {
   "cell_type": "code",
   "execution_count": 6,
   "metadata": {},
   "outputs": [
    {
     "name": "stdout",
     "output_type": "stream",
     "text": [
      "Learning rate set to 0.093437\n",
      "0:\tlearn: 0.6859798\ttotal: 163ms\tremaining: 653ms\n",
      "1:\tlearn: 0.6789196\ttotal: 164ms\tremaining: 246ms\n",
      "2:\tlearn: 0.6719564\ttotal: 164ms\tremaining: 109ms\n",
      "3:\tlearn: 0.6650971\ttotal: 165ms\tremaining: 41.2ms\n",
      "4:\tlearn: 0.6583346\ttotal: 165ms\tremaining: 0us\n"
     ]
    }
   ],
   "source": [
    "from catboost import CatBoostClassifier\n",
    "import os \n",
    "\n",
    "# https://catboost.ai/en/docs/concepts/python-reference_catboost_save_model\n",
    "clf = CatBoostClassifier(iterations=5).fit([[1,2],[3,4]],[5,6])\n",
    "clf.save_model(\"temp.cbm\", format=\"cbm\")\n",
    "fs.put_file(\"temp.cbm\", \"gs://thesis-bucket-option-trade-classification/models/model.cbm\")\n",
    "os.remove(\"temp.cbm\")"
   ]
  },
  {
   "cell_type": "code",
   "execution_count": 7,
   "metadata": {},
   "outputs": [
    {
     "name": "stdout",
     "output_type": "stream",
     "text": [
      "Learning rate set to 0.093437\n",
      "0:\tlearn: 0.6859798\ttotal: 978us\tremaining: 3.91ms\n",
      "1:\tlearn: 0.6789196\ttotal: 1.31ms\tremaining: 1.97ms\n",
      "2:\tlearn: 0.6719564\ttotal: 1.64ms\tremaining: 1.09ms\n",
      "3:\tlearn: 0.6650971\ttotal: 2.06ms\tremaining: 516us\n",
      "4:\tlearn: 0.6583346\ttotal: 2.37ms\tremaining: 0us\n"
     ]
    }
   ],
   "source": [
    "from catboost import CatBoostClassifier\n",
    "import os \n",
    "\n",
    "clf = CatBoostClassifier(iterations=5).fit([[1,2],[3,4]],[5,6])\n",
    "\n",
    "# https://stackoverflow.com/a/74067334/5755604\n",
    "with fs.open(\n",
    "    \"gs://thesis-bucket-option-trade-classification/models/cat.cbm\", \"wb\"\n",
    ") as f:\n",
    "    f.write(clf._serialize_model())\n"
   ]
  },
  {
   "cell_type": "code",
   "execution_count": 8,
   "metadata": {},
   "outputs": [],
   "source": [
    "import time\n",
    "import datetime\n",
    "import copy\n",
    "import numpy as np\n",
    "from dataclasses import dataclass, field\n",
    "from typing import List, Any\n",
    "import warnings\n",
    "\n",
    "\n",
    "class Callback:\n",
    "    \"\"\"\n",
    "    Abstract base class used to build new callbacks.\n",
    "    \"\"\"\n",
    "\n",
    "    def __init__(self):\n",
    "        pass\n",
    "\n",
    "    def set_params(self, params):\n",
    "        self.params = params\n",
    "\n",
    "    def on_epoch_end(self, epoch, epochs, train_loss, valid_loss):\n",
    "        pass\n",
    "\n",
    "    def on_train_end(self, model:Any):\n",
    "        pass\n",
    "\n",
    "\n",
    "\n",
    "class CallbackContainer:\n",
    "    \"\"\"\n",
    "    Container holding a list of callbacks.\n",
    "    \"\"\"\n",
    "\n",
    "    callbacks: List[Callback] = field(default_factory=list)\n",
    "\n",
    "    def append(self, callback):\n",
    "        self.callbacks.append(callback)\n",
    "\n",
    "    def set_params(self, params):\n",
    "        for callback in self.callbacks:\n",
    "            callback.set_params(params)\n",
    "\n",
    "    def on_epoch_end(self, epoch, epochs, train_loss, valid_loss):\n",
    "        for callback in self.callbacks:\n",
    "            callback.on_epoch_end(epoch, epochs, train_loss, valid_loss)\n",
    "\n",
    "\n",
    "    def on_train_end(self, model):\n",
    "        for callback in self.callbacks:\n",
    "            callback.on_train_end(model)\n"
   ]
  },
  {
   "cell_type": "code",
   "execution_count": 9,
   "metadata": {},
   "outputs": [],
   "source": [
    "class PrinterCallback(Callback):\n",
    "    def on_epoch_end(self, epoch, epochs, train_loss, valid_loss):\n",
    "        print(f'[{type(self).__name__}]: End of Epoch. Epoch: {epoch}') "
   ]
  },
  {
   "cell_type": "code",
   "execution_count": 10,
   "metadata": {},
   "outputs": [],
   "source": [
    "import wandb\n",
    "from typing import Any\n",
    "from typing import Callable\n",
    "from typing import Dict\n",
    "from typing import Optional\n",
    "from typing import Sequence\n",
    "from typing import Union"
   ]
  },
  {
   "cell_type": "code",
   "execution_count": 11,
   "metadata": {},
   "outputs": [
    {
     "name": "stderr",
     "output_type": "stream",
     "text": [
      "Failed to detect the name of this notebook, you can set it manually with the WANDB_NOTEBOOK_NAME environment variable to enable code saving.\n",
      "\u001b[34m\u001b[1mwandb\u001b[0m: W&B API key is configured. Use \u001b[1m`wandb login --relogin`\u001b[0m to force relogin\n"
     ]
    },
    {
     "data": {
      "text/plain": [
       "True"
      ]
     },
     "execution_count": 11,
     "metadata": {},
     "output_type": "execute_result"
    }
   ],
   "source": [
    "import wandb\n",
    "wandb.login()"
   ]
  },
  {
   "cell_type": "code",
   "execution_count": 12,
   "metadata": {},
   "outputs": [],
   "source": [
    "class SaveCallback(Callback):\n",
    "\n",
    "    def __init__(self,  wandb_kwargs: Optional[Dict[str, Any]] = None):\n",
    "        self._wandb_kwargs = wandb_kwargs or {}\n",
    "\n",
    "        # create wandb run if it doesn't exist\n",
    "        self._run = wandb.run\n",
    "        if not self._run:\n",
    "            self._run = self._initialize_run()\n",
    "\n",
    "\n",
    "    def _initialize_run(self) -> \"wandb.sdk.wandb_run.Run\":\n",
    "        \"\"\"Initializes Weights & Biases run.\"\"\"\n",
    "        run = wandb.init(**self._wandb_kwargs)\n",
    "        if not isinstance(run, wandb.sdk.wandb_run.Run):\n",
    "            raise RuntimeError(\n",
    "                \"Cannot create a Run. \"\n",
    "                \"Expected wandb.sdk.wandb_run.Run as a return. \"\n",
    "                f\"Got: {type(run)}.\"\n",
    "            )\n",
    "        return run\n",
    "\n",
    "\n",
    "\n",
    "    def on_train_end(self, model):\n",
    "        print(f'[{type(self).__name__}]: Save Model. {model}')\n",
    "\n",
    "        model_artifact = wandb.Artifact(name=\"bla\", type=\"model\")\n",
    "        model_artifact.add_reference(\"foo/bar.txt\", name=\"bla\")\n",
    "        self._run.log_artifact(model_artifact)"
   ]
  },
  {
   "cell_type": "code",
   "execution_count": 13,
   "metadata": {},
   "outputs": [
    {
     "name": "stdout",
     "output_type": "stream",
     "text": [
      "Problem at: C:\\Users\\Markus\\AppData\\Local\\Temp\\ipykernel_8472\\3837039126.py 12 <cell line: 12>\n"
     ]
    },
    {
     "name": "stderr",
     "output_type": "stream",
     "text": [
      "Traceback (most recent call last):\n",
      "  File \"c:\\Users\\Markus\\AppData\\Local\\Programs\\Python\\Python39\\lib\\site-packages\\wandb\\sdk\\wandb_init.py\", line 1078, in init\n",
      "    run = wi.init()\n",
      "  File \"c:\\Users\\Markus\\AppData\\Local\\Programs\\Python\\Python39\\lib\\site-packages\\wandb\\sdk\\wandb_init.py\", line 697, in init\n",
      "    result = handle.wait(\n",
      "  File \"c:\\Users\\Markus\\AppData\\Local\\Programs\\Python\\Python39\\lib\\site-packages\\wandb\\sdk\\lib\\mailbox.py\", line 259, in wait\n",
      "    raise MailboxError(\"transport failed\")\n",
      "wandb.errors.MailboxError: transport failed\n",
      "\u001b[34m\u001b[1mwandb\u001b[0m: \u001b[32m\u001b[41mERROR\u001b[0m Abnormal program exit\n"
     ]
    },
    {
     "ename": "",
     "evalue": "",
     "output_type": "error",
     "traceback": [
      "\u001b[1;31mCanceled future for execute_request message before replies were done"
     ]
    },
    {
     "ename": "",
     "evalue": "",
     "output_type": "error",
     "traceback": [
      "\u001b[1;31mDer Kernel ist beim Ausführen von Code in der aktuellen Zelle oder einer vorherigen Zelle abgestürzt. Bitte überprüfen Sie den Code in der/den Zelle(n), um eine mögliche Fehlerursache zu identifizieren. Klicken Sie <a href='https://aka.ms/vscodeJupyterKernelCrash'>hier</a>, um weitere Informationen zu erhalten. Weitere Details finden Sie in Jupyter <a href='command:jupyter.viewOutput'>log</a>."
     ]
    }
   ],
   "source": [
    "# https://towardsdatascience.com/5-minutes-data-science-design-patterns-i-callback-b5c0738be277\n",
    "def train_with_callback(callback=None):\n",
    "    n_epochs = 3\n",
    "    n_batches = 2\n",
    "    loss = 20\n",
    "    clf = CatBoostClassifier(iterations=5).fit([[1,2],[3,4]],[5,6])\n",
    "    for epoch in range(n_epochs):\n",
    "        callbacks.on_epoch_end(epoch, n_epochs, 5, 6)\n",
    "    callbacks.on_train_end(clf)\n",
    "    return loss\n",
    "\n",
    "run = wandb.init(project=\"thesis\", entity=\"fbv\")\n",
    "\n",
    "# #wandb_kwargs={\"project\": \"thesis\", \"entity\": \"fbv\"}\n",
    "# callbacks = CallbackContainer([PrinterCallback(),SaveCallback(run)])\n",
    "\n",
    "# train_with_callback(callback=callbacks)"
   ]
  },
  {
   "cell_type": "code",
   "execution_count": null,
   "metadata": {},
   "outputs": [],
   "source": [
    "#wandb_kwargs={\"project\": \"thesis\", \"entity\": \"fbv\"}\n",
    "callbacks = CallbackContainer([PrinterCallback(),SaveCallback(run)])\n",
    "\n",
    "train_with_callback(callback=callbacks)"
   ]
  }
 ],
 "metadata": {
  "kernelspec": {
   "display_name": "Python 3.9.4 64-bit",
   "language": "python",
   "name": "python3"
  },
  "language_info": {
   "codemirror_mode": {
    "name": "ipython",
    "version": 3
   },
   "file_extension": ".py",
   "mimetype": "text/x-python",
   "name": "python",
   "nbconvert_exporter": "python",
   "pygments_lexer": "ipython3",
   "version": "3.9.4"
  },
  "orig_nbformat": 4,
  "vscode": {
   "interpreter": {
    "hash": "f8ea8b642289b706932f10b33ee389827410dbaef0ce2c5bf73615e8d3267d88"
   }
  }
 },
 "nbformat": 4,
 "nbformat_minor": 2
}
