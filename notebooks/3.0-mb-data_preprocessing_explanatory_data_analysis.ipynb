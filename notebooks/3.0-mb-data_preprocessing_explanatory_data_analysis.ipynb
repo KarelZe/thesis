{
  "cells": [
    {
      "cell_type": "markdown",
      "metadata": {
        "id": "view-in-github",
        "colab_type": "text"
      },
      "source": [
        "<a href=\"https://colab.research.google.com/github/KarelZe/thesis/blob/feature-engineering/notebooks/3.0-mb-data_preprocessing_explanatory_data_analysis.ipynb\" target=\"_parent\"><img src=\"https://colab.research.google.com/assets/colab-badge.svg\" alt=\"Open In Colab\"/></a>"
      ]
    },
    {
      "cell_type": "code",
      "execution_count": 1,
      "metadata": {
        "colab": {
          "base_uri": "https://localhost:8080/"
        },
        "id": "LQwYMQAr-0vu",
        "outputId": "7664d37f-9234-45ed-af0c-9891a493307e"
      },
      "outputs": [
        {
          "output_type": "stream",
          "name": "stdout",
          "text": [
            "Looking in indexes: https://pypi.org/simple, https://us-python.pkg.dev/colab-wheels/public/simple/\n",
            "Requirement already satisfied: gcsfs==2022.10.0 in /usr/local/lib/python3.7/dist-packages (2022.10.0)\n",
            "Requirement already satisfied: fsspec==2022.10.0 in /usr/local/lib/python3.7/dist-packages (from gcsfs==2022.10.0) (2022.10.0)\n",
            "Requirement already satisfied: requests in /usr/local/lib/python3.7/dist-packages (from gcsfs==2022.10.0) (2.23.0)\n",
            "Requirement already satisfied: aiohttp!=4.0.0a0,!=4.0.0a1 in /usr/local/lib/python3.7/dist-packages (from gcsfs==2022.10.0) (3.8.3)\n",
            "Requirement already satisfied: decorator>4.1.2 in /usr/local/lib/python3.7/dist-packages (from gcsfs==2022.10.0) (4.4.2)\n",
            "Requirement already satisfied: google-cloud-storage in /usr/local/lib/python3.7/dist-packages (from gcsfs==2022.10.0) (2.5.0)\n",
            "Requirement already satisfied: google-auth>=1.2 in /usr/local/lib/python3.7/dist-packages (from gcsfs==2022.10.0) (2.14.1)\n",
            "Requirement already satisfied: google-auth-oauthlib in /usr/local/lib/python3.7/dist-packages (from gcsfs==2022.10.0) (0.4.6)\n",
            "Requirement already satisfied: multidict<7.0,>=4.5 in /usr/local/lib/python3.7/dist-packages (from aiohttp!=4.0.0a0,!=4.0.0a1->gcsfs==2022.10.0) (6.0.2)\n",
            "Requirement already satisfied: typing-extensions>=3.7.4 in /usr/local/lib/python3.7/dist-packages (from aiohttp!=4.0.0a0,!=4.0.0a1->gcsfs==2022.10.0) (4.1.1)\n",
            "Requirement already satisfied: attrs>=17.3.0 in /usr/local/lib/python3.7/dist-packages (from aiohttp!=4.0.0a0,!=4.0.0a1->gcsfs==2022.10.0) (22.1.0)\n",
            "Requirement already satisfied: charset-normalizer<3.0,>=2.0 in /usr/local/lib/python3.7/dist-packages (from aiohttp!=4.0.0a0,!=4.0.0a1->gcsfs==2022.10.0) (2.1.1)\n",
            "Requirement already satisfied: asynctest==0.13.0 in /usr/local/lib/python3.7/dist-packages (from aiohttp!=4.0.0a0,!=4.0.0a1->gcsfs==2022.10.0) (0.13.0)\n",
            "Requirement already satisfied: yarl<2.0,>=1.0 in /usr/local/lib/python3.7/dist-packages (from aiohttp!=4.0.0a0,!=4.0.0a1->gcsfs==2022.10.0) (1.8.1)\n",
            "Requirement already satisfied: frozenlist>=1.1.1 in /usr/local/lib/python3.7/dist-packages (from aiohttp!=4.0.0a0,!=4.0.0a1->gcsfs==2022.10.0) (1.3.3)\n",
            "Requirement already satisfied: async-timeout<5.0,>=4.0.0a3 in /usr/local/lib/python3.7/dist-packages (from aiohttp!=4.0.0a0,!=4.0.0a1->gcsfs==2022.10.0) (4.0.2)\n",
            "Requirement already satisfied: aiosignal>=1.1.2 in /usr/local/lib/python3.7/dist-packages (from aiohttp!=4.0.0a0,!=4.0.0a1->gcsfs==2022.10.0) (1.3.1)\n",
            "Requirement already satisfied: cachetools<6.0,>=2.0.0 in /usr/local/lib/python3.7/dist-packages (from google-auth>=1.2->gcsfs==2022.10.0) (5.2.0)\n",
            "Requirement already satisfied: pyasn1-modules>=0.2.1 in /usr/local/lib/python3.7/dist-packages (from google-auth>=1.2->gcsfs==2022.10.0) (0.2.8)\n",
            "Requirement already satisfied: six>=1.9.0 in /usr/local/lib/python3.7/dist-packages (from google-auth>=1.2->gcsfs==2022.10.0) (1.15.0)\n",
            "Requirement already satisfied: rsa<5,>=3.1.4 in /usr/local/lib/python3.7/dist-packages (from google-auth>=1.2->gcsfs==2022.10.0) (4.9)\n",
            "Requirement already satisfied: pyasn1<0.5.0,>=0.4.6 in /usr/local/lib/python3.7/dist-packages (from pyasn1-modules>=0.2.1->google-auth>=1.2->gcsfs==2022.10.0) (0.4.8)\n",
            "Requirement already satisfied: idna>=2.0 in /usr/local/lib/python3.7/dist-packages (from yarl<2.0,>=1.0->aiohttp!=4.0.0a0,!=4.0.0a1->gcsfs==2022.10.0) (2.10)\n",
            "Requirement already satisfied: requests-oauthlib>=0.7.0 in /usr/local/lib/python3.7/dist-packages (from google-auth-oauthlib->gcsfs==2022.10.0) (1.3.1)\n",
            "Requirement already satisfied: oauthlib>=3.0.0 in /usr/local/lib/python3.7/dist-packages (from requests-oauthlib>=0.7.0->google-auth-oauthlib->gcsfs==2022.10.0) (3.2.2)\n",
            "Requirement already satisfied: urllib3!=1.25.0,!=1.25.1,<1.26,>=1.21.1 in /usr/local/lib/python3.7/dist-packages (from requests->gcsfs==2022.10.0) (1.24.3)\n",
            "Requirement already satisfied: chardet<4,>=3.0.2 in /usr/local/lib/python3.7/dist-packages (from requests->gcsfs==2022.10.0) (3.0.4)\n",
            "Requirement already satisfied: certifi>=2017.4.17 in /usr/local/lib/python3.7/dist-packages (from requests->gcsfs==2022.10.0) (2022.9.24)\n",
            "Requirement already satisfied: google-cloud-core<3.0dev,>=2.3.0 in /usr/local/lib/python3.7/dist-packages (from google-cloud-storage->gcsfs==2022.10.0) (2.3.2)\n",
            "Requirement already satisfied: google-api-core!=2.0.*,!=2.1.*,!=2.2.*,!=2.3.0,<3.0.0dev,>=1.31.5 in /usr/local/lib/python3.7/dist-packages (from google-cloud-storage->gcsfs==2022.10.0) (2.8.2)\n",
            "Requirement already satisfied: google-resumable-media>=2.3.2 in /usr/local/lib/python3.7/dist-packages (from google-cloud-storage->gcsfs==2022.10.0) (2.4.0)\n",
            "Requirement already satisfied: googleapis-common-protos<2.0dev,>=1.56.2 in /usr/local/lib/python3.7/dist-packages (from google-api-core!=2.0.*,!=2.1.*,!=2.2.*,!=2.3.0,<3.0.0dev,>=1.31.5->google-cloud-storage->gcsfs==2022.10.0) (1.57.0)\n",
            "Requirement already satisfied: protobuf<5.0.0dev,>=3.15.0 in /usr/local/lib/python3.7/dist-packages (from google-api-core!=2.0.*,!=2.1.*,!=2.2.*,!=2.3.0,<3.0.0dev,>=1.31.5->google-cloud-storage->gcsfs==2022.10.0) (3.19.6)\n",
            "Requirement already satisfied: google-crc32c<2.0dev,>=1.0 in /usr/local/lib/python3.7/dist-packages (from google-resumable-media>=2.3.2->google-cloud-storage->gcsfs==2022.10.0) (1.5.0)\n",
            "Looking in indexes: https://pypi.org/simple, https://us-python.pkg.dev/colab-wheels/public/simple/\n",
            "\u001b[31mERROR: Could not find a version that satisfies the requirement scikit-learn==1.1.3 (from versions: 0.9, 0.10, 0.11, 0.12, 0.12.1, 0.13, 0.13.1, 0.14, 0.14.1, 0.15.0b1, 0.15.0b2, 0.15.0, 0.15.1, 0.15.2, 0.16b1, 0.16.0, 0.16.1, 0.17b1, 0.17, 0.17.1, 0.18, 0.18.1, 0.18.2, 0.19b2, 0.19.0, 0.19.1, 0.19.2, 0.20rc1, 0.20.0, 0.20.1, 0.20.2, 0.20.3, 0.20.4, 0.21rc2, 0.21.0, 0.21.1, 0.21.2, 0.21.3, 0.22rc2.post1, 0.22rc3, 0.22, 0.22.1, 0.22.2, 0.22.2.post1, 0.23.0rc1, 0.23.0, 0.23.1, 0.23.2, 0.24.dev0, 0.24.0rc1, 0.24.0, 0.24.1, 0.24.2, 1.0rc1, 1.0rc2, 1.0, 1.0.1, 1.0.2)\u001b[0m\n",
            "\u001b[31mERROR: No matching distribution found for scikit-learn==1.1.3\u001b[0m\n",
            "Looking in indexes: https://pypi.org/simple, https://us-python.pkg.dev/colab-wheels/public/simple/\n",
            "Requirement already satisfied: pandas-datareader in /usr/local/lib/python3.7/dist-packages (0.9.0)\n",
            "Requirement already satisfied: requests>=2.19.0 in /usr/local/lib/python3.7/dist-packages (from pandas-datareader) (2.23.0)\n",
            "Requirement already satisfied: lxml in /usr/local/lib/python3.7/dist-packages (from pandas-datareader) (4.9.1)\n",
            "Requirement already satisfied: pandas>=0.23 in /usr/local/lib/python3.7/dist-packages (from pandas-datareader) (1.3.5)\n",
            "Requirement already satisfied: pytz>=2017.3 in /usr/local/lib/python3.7/dist-packages (from pandas>=0.23->pandas-datareader) (2022.6)\n",
            "Requirement already satisfied: numpy>=1.17.3 in /usr/local/lib/python3.7/dist-packages (from pandas>=0.23->pandas-datareader) (1.21.6)\n",
            "Requirement already satisfied: python-dateutil>=2.7.3 in /usr/local/lib/python3.7/dist-packages (from pandas>=0.23->pandas-datareader) (2.8.2)\n",
            "Requirement already satisfied: six>=1.5 in /usr/local/lib/python3.7/dist-packages (from python-dateutil>=2.7.3->pandas>=0.23->pandas-datareader) (1.15.0)\n",
            "Requirement already satisfied: chardet<4,>=3.0.2 in /usr/local/lib/python3.7/dist-packages (from requests>=2.19.0->pandas-datareader) (3.0.4)\n",
            "Requirement already satisfied: idna<3,>=2.5 in /usr/local/lib/python3.7/dist-packages (from requests>=2.19.0->pandas-datareader) (2.10)\n",
            "Requirement already satisfied: urllib3!=1.25.0,!=1.25.1,<1.26,>=1.21.1 in /usr/local/lib/python3.7/dist-packages (from requests>=2.19.0->pandas-datareader) (1.24.3)\n",
            "Requirement already satisfied: certifi>=2017.4.17 in /usr/local/lib/python3.7/dist-packages (from requests>=2.19.0->pandas-datareader) (2022.9.24)\n",
            "Looking in indexes: https://pypi.org/simple, https://us-python.pkg.dev/colab-wheels/public/simple/\n",
            "Requirement already satisfied: seaborn==0.12.1 in /usr/local/lib/python3.7/dist-packages (0.12.1)\n",
            "Requirement already satisfied: matplotlib!=3.6.1,>=3.1 in /usr/local/lib/python3.7/dist-packages (from seaborn==0.12.1) (3.2.2)\n",
            "Requirement already satisfied: numpy>=1.17 in /usr/local/lib/python3.7/dist-packages (from seaborn==0.12.1) (1.21.6)\n",
            "Requirement already satisfied: typing_extensions in /usr/local/lib/python3.7/dist-packages (from seaborn==0.12.1) (4.1.1)\n",
            "Requirement already satisfied: pandas>=0.25 in /usr/local/lib/python3.7/dist-packages (from seaborn==0.12.1) (1.3.5)\n",
            "Requirement already satisfied: kiwisolver>=1.0.1 in /usr/local/lib/python3.7/dist-packages (from matplotlib!=3.6.1,>=3.1->seaborn==0.12.1) (1.4.4)\n",
            "Requirement already satisfied: python-dateutil>=2.1 in /usr/local/lib/python3.7/dist-packages (from matplotlib!=3.6.1,>=3.1->seaborn==0.12.1) (2.8.2)\n",
            "Requirement already satisfied: cycler>=0.10 in /usr/local/lib/python3.7/dist-packages (from matplotlib!=3.6.1,>=3.1->seaborn==0.12.1) (0.11.0)\n",
            "Requirement already satisfied: pyparsing!=2.0.4,!=2.1.2,!=2.1.6,>=2.0.1 in /usr/local/lib/python3.7/dist-packages (from matplotlib!=3.6.1,>=3.1->seaborn==0.12.1) (3.0.9)\n",
            "Requirement already satisfied: pytz>=2017.3 in /usr/local/lib/python3.7/dist-packages (from pandas>=0.25->seaborn==0.12.1) (2022.6)\n",
            "Requirement already satisfied: six>=1.5 in /usr/local/lib/python3.7/dist-packages (from python-dateutil>=2.1->matplotlib!=3.6.1,>=3.1->seaborn==0.12.1) (1.15.0)\n"
          ]
        }
      ],
      "source": [
        "!pip install gcsfs==2022.10.0\n",
        "!pip install scikit-learn==1.1.3\n",
        "# !pip install SciencePlots==1.0.9\n",
        "!pip install pandas-datareader\n",
        "!pip install seaborn==0.12.1"
      ]
    },
    {
      "cell_type": "code",
      "execution_count": 2,
      "metadata": {
        "id": "EMApm-vLnME4"
      },
      "outputs": [],
      "source": [
        "import os\n",
        "import random\n",
        "\n",
        "from dateutil.relativedelta import *\n",
        "\n",
        "import gcsfs\n",
        "import google.auth\n",
        "from google.colab import auth\n",
        "\n",
        "import numpy as np\n",
        "from numpy.testing import assert_almost_equal\n",
        "from matplotlib.colors import LinearSegmentedColormap\n",
        "import matplotlib.pyplot as plt\n",
        "from pandas._testing.asserters import assert_almost_equal\n",
        "import pandas as pd\n",
        "import pandas_datareader.data as web\n",
        "\n",
        "from scipy import stats\n",
        "from scipy.stats import kurtosis, skew\n",
        "\n",
        "import seaborn as sns\n",
        "from typing import List, Tuple, Optional, Union"
      ]
    },
    {
      "cell_type": "code",
      "source": [
        "# set N used in n-largest or smallest\n",
        "N = 10"
      ],
      "metadata": {
        "id": "pCyUwI-YTE8A"
      },
      "execution_count": 3,
      "outputs": []
    },
    {
      "cell_type": "code",
      "execution_count": 4,
      "metadata": {
        "id": "BRFyckmGEHXL"
      },
      "outputs": [],
      "source": [
        "# set style\n",
        "plt.style.use('seaborn-notebook')\n",
        "\n",
        "# set ratio of figure\n",
        "ratio = (16,9)\n",
        "\n",
        "# plt.style.use(['science','nature', 'no-latex'])"
      ]
    },
    {
      "cell_type": "code",
      "execution_count": 5,
      "metadata": {
        "id": "BrztJtC09T3r"
      },
      "outputs": [],
      "source": [
        "# connect to google cloud storage\n",
        "auth.authenticate_user()\n",
        "credentials, _ = google.auth.default()\n",
        "fs = gcsfs.GCSFileSystem(project=\"thesis\", token=credentials)\n",
        "fs_prefix = \"gs://\"\n"
      ]
    },
    {
      "cell_type": "code",
      "execution_count": 6,
      "metadata": {
        "id": "a-f2aByNtJTK"
      },
      "outputs": [],
      "source": [
        "# set fixed seed\n",
        "def seed_everything(seed):\n",
        "    \"\"\"\n",
        "    Seeds basic parameters for reproducibility of results.\n",
        "    \"\"\"\n",
        "    os.environ[\"PYTHONHASHSEED\"] = str(seed)\n",
        "    random.seed(seed)\n",
        "    # pandas and numpy as discussed here: https://stackoverflow.com/a/52375474/5755604\n",
        "    np.random.seed(seed)\n",
        "\n",
        "\n",
        "seed = 42\n",
        "seed_everything(seed)\n"
      ]
    },
    {
      "cell_type": "code",
      "execution_count": null,
      "metadata": {
        "id": "EF0_Mz8DYjGz"
      },
      "outputs": [],
      "source": [
        "# replace with sampled data set later\n",
        "files = fs.glob(\n",
        "    \"thesis-bucket-option-trade-classification/data/preprocessed/matched_ise_quotes_min_mem_usage_part_*.parquet\",\n",
        "    recursive=True,\n",
        ")\n",
        "files = [fs_prefix + sub for sub in files]\n",
        "\n",
        "columns = [\n",
        "    \"UNDERLYING_SYMBOL\",\n",
        "    \"QUOTE_DATETIME\",\n",
        "    \"SEQUENCE_NUMBER\",\n",
        "    \"ROOT\",\n",
        "    \"EXPIRATION\",\n",
        "    \"STRK_PRC\",\n",
        "    \"OPTION_TYPE\",\n",
        "    \"TRADE_SIZE\",\n",
        "    \"TRADE_PRICE\",\n",
        "    \"BEST_BID\",\n",
        "    \"BEST_ASK\",\n",
        "    \"order_id\",\n",
        "    \"ask_ex\",\n",
        "    \"bid_ex\",\n",
        "    \"bid_size_ex\",\n",
        "    \"ask_size_ex\",\n",
        "    \"price_all_lead\",\n",
        "    \"price_all_lag\",\n",
        "    \"optionid\",\n",
        "    \"day_vol\",\n",
        "    \"price_ex_lead\",\n",
        "    \"price_ex_lag\",\n",
        "    \"buy_sell\",\n",
        "]\n",
        "\n",
        "dfs = []\n",
        "for gc_file in files:\n",
        "    df = pd.read_parquet(gc_file, columns=columns)\n",
        "    dfs.append(df)\n",
        "data = pd.concat(dfs)\n"
      ]
    },
    {
      "cell_type": "code",
      "source": [
        "data = data.sample(frac=0.1, axis=0, random_state=seed)"
      ],
      "metadata": {
        "id": "WD-ieL-RFEzJ"
      },
      "execution_count": null,
      "outputs": []
    },
    {
      "cell_type": "markdown",
      "source": [
        "## Notes on data set 🗃️"
      ],
      "metadata": {
        "id": "NDz5ZzVl_QGD"
      }
    },
    {
      "cell_type": "markdown",
      "source": [
        "**Overview on ticker symbols in 🇺:**\n",
        "- `others` probably identified by `.`. Index probably identified by `^` e. g., `^NDX` for Nasdq. The `SPY` ETF is however just `SPY`.\n",
        "- 5th letter has a special meaning as found in [this table](https://en.wikipedia.org/wiki/Ticker_symbol):\n",
        "\n",
        "| Letter                  | Letter contd.              | Letter contd.                                    |\n",
        "|--------------------------------|-------------------------------------|------------------------------------------------|\n",
        "| A – Class \"A\"                  | K – Nonvoting (common)              | U – Units                                      |\n",
        "| B – Class \"B\"                  | L – Miscellaneous                   | V – Pending issue and distribution             |\n",
        "| C – NextShares                 | M – fourth class – preferred shares | W – Warrants                                   |\n",
        "| D – New issue or reverse split | N – third class – preferred shares  | X – Mutual fund                                |\n",
        "| E – Delinquent SEC filings     | O – second class – preferred shares | Y – American depositary receipt (ADR)          |\n",
        "| F – Foreign                    | P – first class preferred shares    | Z – Miscellaneous situations                   |\n",
        "| G – first convertible bond     | Q – In bankruptcy                   | Special codes                                  |\n",
        "| H – second convertible bond    | R – Rights                          | PK – A Pink Sheet, indicating over-the-counter |\n",
        "| I – third convertible bond     | S – Shares of beneficial interest   | SC – Nasdaq Small Cap                          |\n",
        "| J – Voting share – special     | T – With warrants or rights         | NM – Nasdaq National Market                    |\n",
        "\n",
        "\n",
        "**Coverage:**\n",
        "\n",
        "*\tOptions on U.S. listed Stock, ETFs, and Indices disseminated over the Options Price Reporting Authority (OPRA) market data feed \n",
        "*\tGlobal Trading Hours (GTH) trades are included if between 03:00am-09:15am U.S. Eastern, and for the 16:15pm 17:00pm Curb session.  GTH trades outside of these time ranges will *not* be included. \n",
        "\n",
        "Found [here.](https://datashop.cboe.com/documents/Option_Trades_Layout.pdf)\n",
        "\n",
        "**Exchange Identifier:**\n",
        "\n",
        "- 5 = Chicago Board Options Exchange (CBOE)\n",
        "- 6 = International Securities Exchange (ISE)\n",
        "\n",
        "Found [here.](https://datashop.cboe.com/documents/livevol_exchange_ids.csv)"
      ],
      "metadata": {
        "id": "yAWnmnei39o5"
      }
    },
    {
      "cell_type": "markdown",
      "source": [
        "Adapted from the cboe data shop found at [option trades](https://datashop.cboe.com/documents/Option_Trades_Layout.pdf) and [option quotes](https://datashop.cboe.com/documents/Option_Quotes_Layout.pdf).\n",
        "\n",
        "|     Column Label                                                          |     Data   Type     |     Description                                                                                                                                                                                                         |\n",
        "|---------------------------------------------------------------------------|---------------------|-------------------------------------------------------------------------------------------------------------------------------------------------------------------------------------------------------------------------|\n",
        "|     underlying_symbol                                                     |     string          |     The underlying stock or index.  An index will utilize a caret (^) prefix,   i.e. ^NDX,^SPX,^VIX…etc.  Underlyings   with classes may utilize a dot (.) instead of a slash or space, i.e. BRK.B,   RDS.A, RDS.B.     |\n",
        "|     quote_datetime                                                        |     datetime        |     The trading date and timestamp of the trade in   U.S. Eastern time. Ex:  yyyymm-dd   hh:mm:ss.000                                                                                                                   |\n",
        "|     sequence_number                                                       |     integer         |     Trade Sequence Number for the execution reported   by OPRA                                                                                                                                                          |\n",
        "|     root                                                                  |     string          |     The option trading class symbol.  Non-standard roots may end with a digit                                                                                                                                           |\n",
        "|     expiration                                                            |     date            |     The explicit expiration date of the option:   yyyy-mm-dd                                                                                                                                                            |\n",
        "|     strike                                                                |     numeric         |     The exercise/strike price of the option                                                                                                                                                                             |\n",
        "|     option_type                                                           |     string          |     C for Call options, P for Put options                                                                                                                                                                               |\n",
        "|     exchange_id                                                           |     integer         |     An identifier for the options exchange the trade   was executed on.  For a mapping, please   see Exchange ID   Mappings                                                                                             |\n",
        "|     trade_size                                                            |     integer         |     The trade quantity                                                                                                                                                                                                  |\n",
        "|     trade_price                                                           |     numeric         |     The trade price                                                                                                                                                                                                     |\n",
        "|     trade_condition_id                                                    |     integer         |     The trade or sale condition of the execution.  For a mapping, please see Trade   Condition ID Mapping                                                                                                               |\n",
        "|     canceled_trade_condition_id                                           |     integer         |     This field is no longer supported and will default   to 0 (zero).  See IDs 40-43 in the   Trade Condition ID Mapping file above                                                                                     |\n",
        "|     best_bid                                                              |     numeric         |     The best bid price (NBB) at the time of the trade                                                                                                                                                                   |\n",
        "|     best_ask                                                              |     numeric         |     The best ask/offer price (NBO) at the time of the   trade                                                                                                                                                           |\n",
        "|     bid_size              |     integer         |     The largest size from an options exchange   participant on the best bid price (NBB)                                                                                                                                   |\n",
        "|     bid                   |     numeric         |     The best bid price (NBB) at the interval time   stamp                                                                                                                                                                 |\n",
        "|     ask_size              |     integer         |     The largest size from an options exchange   participant on the best offer price (NBO)                                                                                                                                 |\n",
        "|     ask                   |     numeric         |     The best offer price (NBO) at the interval time   stamp                                                                                                                                                               |"
      ],
      "metadata": {
        "id": "amt068Np3EFV"
      }
    },
    {
      "cell_type": "markdown",
      "source": [
        "## Dtypes, distributions, and memory consumption 🔭"
      ],
      "metadata": {
        "id": "iQ4euCPwEjW0"
      }
    },
    {
      "cell_type": "code",
      "source": [
        "data.head()"
      ],
      "metadata": {
        "id": "RO2KMtPiTACz"
      },
      "execution_count": null,
      "outputs": []
    },
    {
      "cell_type": "code",
      "source": [
        "data.describe()"
      ],
      "metadata": {
        "id": "aqk_p5ocEjDU"
      },
      "execution_count": null,
      "outputs": []
    },
    {
      "cell_type": "code",
      "source": [
        "data.info()"
      ],
      "metadata": {
        "id": "hfQwaYDo6Zqj"
      },
      "execution_count": null,
      "outputs": []
    },
    {
      "cell_type": "code",
      "source": [
        "print(data.shape)"
      ],
      "metadata": {
        "id": "AQALJAsMTElF"
      },
      "execution_count": null,
      "outputs": []
    },
    {
      "cell_type": "code",
      "source": [
        "print(data.shape)\n",
        "# drop identical rows, if present \n",
        "data.drop_duplicates(inplace=True)\n",
        "print(data.shape)"
      ],
      "metadata": {
        "id": "_vilf7lRTL9D"
      },
      "execution_count": null,
      "outputs": []
    },
    {
      "cell_type": "code",
      "source": [
        "data.nunique()"
      ],
      "metadata": {
        "id": "6iDCXTOo63QM"
      },
      "execution_count": null,
      "outputs": []
    },
    {
      "cell_type": "code",
      "source": [
        "data.head().T"
      ],
      "metadata": {
        "id": "l0aNIyjVhU_l"
      },
      "execution_count": null,
      "outputs": []
    },
    {
      "cell_type": "markdown",
      "source": [
        "## Basic features🧸"
      ],
      "metadata": {
        "id": "JvmC00M4ggXa"
      }
    },
    {
      "cell_type": "markdown",
      "source": [
        "### Correlations 🎲"
      ],
      "metadata": {
        "id": "apYQeTxc_A85"
      }
    },
    {
      "cell_type": "code",
      "source": [
        "corr = data.corr()\n",
        "sns.heatmap(corr, xticklabels=corr.columns.values, yticklabels=corr.columns.values)"
      ],
      "metadata": {
        "id": "xnCgvNWigo4v"
      },
      "execution_count": null,
      "outputs": []
    },
    {
      "cell_type": "code",
      "source": [
        "sample = data.sample(n=1000, random_state=seed)\n",
        "sns.pairplot(sample, vars=[\"STRK_PRC\",\"TRADE_SIZE\", \"TRADE_PRICE\", \"BEST_BID\", \"BEST_ASK\", \"ask_ex\", \"bid_ex\", \"ask_size_ex\", \"bid_size_ex\", \"price_all_lag\", \"price_all_lead\", \"day_vol\"])"
      ],
      "metadata": {
        "id": "GfS9_g8lLwCk"
      },
      "execution_count": null,
      "outputs": []
    },
    {
      "cell_type": "markdown",
      "source": [
        "### Correlation with target 🎲"
      ],
      "metadata": {
        "id": "dhBUygocshi6"
      }
    },
    {
      "cell_type": "code",
      "source": [
        "sort_criteria = corr[\"buy_sell\"].abs().sort_values(ascending=False)\n",
        "corr_target = corr.sort_values(\"buy_sell\", ascending=False)[\"buy_sell\"]\n",
        "corr_target.loc[sort_criteria.index].to_frame()"
      ],
      "metadata": {
        "id": "qeid5BACbK4h"
      },
      "execution_count": null,
      "outputs": []
    },
    {
      "cell_type": "markdown",
      "source": [
        "**Observation:**\n",
        "* Overall correlations are relatively low. Typical for financial data.\n",
        "* Size related features like `ask_size_ex` or `bid_size_ex` have the highest correlation with the target. Thus, can be promising to be included in the model. Consider when constructing feature sets, that size features are included.\n",
        "* Features like `optionid`, `order_id`, and `SEQUENCE_NUMBER` are also among the features with the highest correlations. Remove misleading columns."
      ],
      "metadata": {
        "id": "-0DAc8QweT3x"
      }
    },
    {
      "cell_type": "code",
      "source": [
        "# remove some columns, which will NOT be used in model\n",
        "data.drop(columns=[\"optionid\",\"SEQUENCE_NUMBER\", \"order_id\"], inplace=True)"
      ],
      "metadata": {
        "id": "UGdvq8OImPBy"
      },
      "execution_count": null,
      "outputs": []
    },
    {
      "cell_type": "code",
      "source": [
        "# just keep ROOT\n",
        "data.drop(columns=\"UNDERLYING_SYMBOL\", inplace=True)"
      ],
      "metadata": {
        "id": "Y6S7H1-FOl5W"
      },
      "execution_count": null,
      "outputs": []
    },
    {
      "cell_type": "markdown",
      "source": [
        "### Collinearity of features 🎲"
      ],
      "metadata": {
        "id": "jh83FQtksq0p"
      }
    },
    {
      "cell_type": "code",
      "source": [
        "# adapted from here: https://www.kaggle.com/code/willkoehrsen/featuretools-for-good\n",
        "\n",
        "# Select upper triangle of correlation matrix\n",
        "upper = corr.where(np.triu(np.ones(corr.shape), k=1).astype(bool))\n",
        "\n",
        "# Find index of feature columns with correlation greater than 0.95\n",
        "to_drop = [column for column in upper.columns if any(abs(upper[column]) > 0.975)]\n",
        "\n",
        "print(to_drop)"
      ],
      "metadata": {
        "id": "ZXMC40PcnsR1"
      },
      "execution_count": null,
      "outputs": []
    },
    {
      "cell_type": "code",
      "source": [
        "# Set the threshold\n",
        "threshold = 0.975\n",
        "\n",
        "# Empty dictionary to hold correlated variables\n",
        "above_threshold_vars = {}\n",
        "\n",
        "# For each column, record the variables that are above the threshold\n",
        "for col in corr:\n",
        "    above_threshold_vars[col] = list(corr.index[corr[col] > threshold])"
      ],
      "metadata": {
        "id": "HJ1kEvpmpPho"
      },
      "execution_count": null,
      "outputs": []
    },
    {
      "cell_type": "code",
      "source": [
        "correlating_cols = pd.Series(above_threshold_vars)\n",
        "correlating_cols"
      ],
      "metadata": {
        "id": "l151G9vXqPQI"
      },
      "execution_count": null,
      "outputs": []
    },
    {
      "cell_type": "markdown",
      "source": [
        "**Observations:**\n",
        "* Some columns are highly correlated. This is very intuitive.\n",
        "* It seems problematic to include both `BEST_BID` and `bid_ex`. This is also true for `BEST_ASK` and `ask_ex`. `price_all_lead` and `price_all_lag` seem to be less problematic.\n",
        "* Define feature sets as such, that the number of highly correlated variables is minimized. But maintain groups so that a comparsion with classical rules is still possible."
      ],
      "metadata": {
        "id": "tL1pblZKriNJ"
      }
    },
    {
      "cell_type": "markdown",
      "source": [
        "## Preparation 🥗"
      ],
      "metadata": {
        "id": "KBSJWMKGhFlP"
      }
    },
    {
      "cell_type": "markdown",
      "source": [
        "### Visualization helper 🐜"
      ],
      "metadata": {
        "id": "l4ZbZXdlKbRT"
      }
    },
    {
      "cell_type": "code",
      "source": [
        "def plot_kde_target(var_name:str, clip:Optional[List[float]]=None):\n",
        "  \"\"\"\n",
        "  Plot kde plots for buys (+1) and sells (-1) with regard to \\\n",
        "  the feature 'var_name'.\n",
        "\n",
        "  Args:\n",
        "      var_name (str): name of the feature\n",
        "      clip (Optional[List[float]], optional): clipping range. Defaults to None.\n",
        "  \"\"\"\n",
        "  corr_var = data[\"buy_sell\"].corr(data[var_name])\n",
        "\n",
        "  median_sell = data[data['buy_sell'] == -1][var_name].median()\n",
        "  median_buy = data[data['buy_sell'] == 1][var_name].median()\n",
        "\n",
        "  fig, ax = plt.subplots()\n",
        "  for i in [-1,1]:\n",
        "    sns.kdeplot(data=data[data[\"buy_sell\"]==i], x=var_name, clip=clip, label=str(i), cumulative=False, common_grid=True)\n",
        "  ax.title.set_text(f\"Distribution of '{var_name}'\")\n",
        "  ax.legend()\n",
        "  sns.move_legend(ax, \"lower center\", bbox_to_anchor=(0.5, -0.3))\n",
        "  plt.show()\n",
        "  print(f\"The correlation between {var_name} and the 'buy_sell' is {corr_var: 0.4f}\")\n",
        "  print(f'Median value of sells = {median_sell: 0.4f}') \n",
        "  print(f'Median value of buys = {median_buy: 0.4f}')  "
      ],
      "metadata": {
        "id": "_jLvcBEyKfDi"
      },
      "execution_count": null,
      "outputs": []
    },
    {
      "cell_type": "code",
      "source": [
        "def plot_kde_target_comparsion(var_name:str, clip:Optional[List[float]]=None, years:List[int]=[2006, 2015, 2016])->None:\n",
        "    \"\"\"\n",
        "    Plot several kde plots side by side for the feature.\n",
        "\n",
        "    Args:\n",
        "        var_name (str): name of the feature\n",
        "        clip (Optional[List[float]], optional): clipping range. Defaults to None.\n",
        "        years (List[int], optional): years to compare. Defaults to [2006, 2015, 2016].\n",
        "    \"\"\"\n",
        "    years = [2006, 2015, 2016]\n",
        "    f, ax = plt.subplots(nrows=1, ncols=len(years), figsize=(18, 4))\n",
        "\n",
        "    f.suptitle(f\"Distribution of `{var_name}`\")\n",
        "\n",
        "    for y, year in enumerate(years):\n",
        "      for i in [-1,1]:\n",
        "          sns.kdeplot(data=data[(data[\"buy_sell\"]==i) & (data[\"year\"] == year)], x=var_name, clip=clip, label=\"_\" * y + str(i), cumulative=False, common_grid=True, ax=ax[y])\n",
        "          ax[y].xaxis.label.set_text(str(year))\n",
        "\n",
        "    f.legend()"
      ],
      "metadata": {
        "id": "kmkh8Ze7Xys_"
      },
      "execution_count": null,
      "outputs": []
    },
    {
      "cell_type": "code",
      "source": [
        "us_rec = web.DataReader(\"USREC\", \"fred\", data[\"date\"].min(), data[\"date\"].max())\n",
        "\n",
        "\n",
        "def plot_recessions()->None:\n",
        "    \"\"\"\n",
        "    Add recession indicator to plot and entry to legend.\n",
        "    \"\"\"\n",
        "    l = 0\n",
        "    month = relativedelta(months=+1)\n",
        "    for i, (date, val) in enumerate(us_rec[\"USREC\"].items()):\n",
        "        if val == 1:\n",
        "            # if boolean = 1 -> print bar until next month\n",
        "            # _ labels are ignored in legend https://stackoverflow.com/a/44633022/5755604\n",
        "            plt.axvspan(date, date + month, edgecolor=\"none\", alpha=0.25, label =  \"_\"*l + \"recession\")\n",
        "            l += 1"
      ],
      "metadata": {
        "id": "k9QXRQrxOCJ3"
      },
      "execution_count": null,
      "outputs": []
    },
    {
      "cell_type": "code",
      "source": [
        "def plot_time_series(feature: Union[str, List[str]], aggregation:Union[str, List[str]]=\"count\")->pd.Series:\n",
        "    \"\"\"\n",
        "    Plot feature over time. Aggregate using 'aggregation'.\n",
        "\n",
        "    Args:\n",
        "        feature (str): feature to plot.\n",
        "        aggregation (str, optional): aggregation operation. Defaults to \"count\".\n",
        "    \n",
        "    Returns:\n",
        "        pd.Series: time series\n",
        "    \"\"\"\n",
        "\n",
        "    if isinstance(feature, str):\n",
        "      feature = [feature]\n",
        "    if isinstance(aggregation, str):\n",
        "      aggregation = [aggregation]\n",
        "\n",
        "    time_series = data[feature].groupby(data[\"date\"]).agg(aggregation)\n",
        "    time_series.columns = time_series.columns.to_flat_index()\n",
        "\n",
        "    ax = sns.lineplot(data=time_series)\n",
        "    ax.yaxis.label.set_text(' / '.join(aggregation))\n",
        "    ax.title.set_text(f\"'{' / '.join(feature)}' over time\")\n",
        "    plot_recessions()\n",
        "    ax.legend()\n",
        "    plt.show()\n",
        "    \n",
        "    return time_series"
      ],
      "metadata": {
        "id": "HHFM5-flQo-9"
      },
      "execution_count": null,
      "outputs": []
    },
    {
      "cell_type": "markdown",
      "source": [
        "### Time features ⏰"
      ],
      "metadata": {
        "id": "P3up1N46inpz"
      }
    },
    {
      "cell_type": "code",
      "source": [
        "# apply positional encoding to dates\n",
        "data[\"date_month_sin\"] = np.sin(2 * np.pi * data[\"QUOTE_DATETIME\"].dt.year / 12)\n",
        "data[\"date_month_cos\"] = np.cos(2 * np.pi * data[\"QUOTE_DATETIME\"].dt.year / 12)\n",
        "\n",
        "# time (daily)\n",
        "seconds_in_day = 24*60*60\n",
        "seconds = (data[\"QUOTE_DATETIME\"] - data[\"QUOTE_DATETIME\"].dt.normalize()).dt.total_seconds()\n",
        "\n",
        "data[\"date_time_sin\"] = np.sin(2*  np.pi* seconds / seconds_in_day)\n",
        "data[\"date_time_cos\"] = np.cos(2 * np.pi* seconds / seconds_in_day)\n",
        "\n",
        "# year min-max scaled\n",
        "data[\"date_year_min\"] = (data[\"QUOTE_DATETIME\"].dt.year - 2005) / (2017 - 2005)\n",
        "\n",
        "# time to maturity\n",
        "data[\"ttm\"] = (\n",
        "    data[\"EXPIRATION\"].dt.to_period(\"M\")\n",
        "    - data[\"QUOTE_DATETIME\"].dt.to_period(\"M\")\n",
        ").apply(lambda x: x.n)\n",
        "\n",
        "# day, month and year\n",
        "data[\"day\"] = data[\"QUOTE_DATETIME\"].dt.day\n",
        "data[\"month\"] = data[\"QUOTE_DATETIME\"].dt.month\n",
        "data[\"year\"] = data[\"QUOTE_DATETIME\"].dt.year\n",
        "data[\"date\"] = data[\"QUOTE_DATETIME\"].dt.date"
      ],
      "metadata": {
        "id": "XACNa17ehnr_"
      },
      "execution_count": null,
      "outputs": []
    },
    {
      "cell_type": "markdown",
      "source": [
        "### Binned features 🥫"
      ],
      "metadata": {
        "id": "GGWJjuPciwh7"
      }
    },
    {
      "cell_type": "markdown",
      "source": [
        "Bin features similarily to how they are used in the robustness tests."
      ],
      "metadata": {
        "id": "W6vEtB7T-KNy"
      }
    },
    {
      "cell_type": "code",
      "source": [
        "bins_tradesize = [0, 1, 3, 5, 11, np.inf]\n",
        "trade_size_labels = [\"(0,1]\", \"(1,3]\", \"(3,5]\", \"(5,11]\", \">11\"]\n",
        "data[\"TRADE_SIZE_binned\"] = pd.cut(\n",
        "    data[\"TRADE_SIZE\"], bins_tradesize, labels=trade_size_labels\n",
        ")\n",
        "\n",
        "bins_years = [2004, 2007, 2010, 2011, 2012, 2013, 2014, 2015, 2016, 2017]\n",
        "year_labels = [\n",
        "    \"2005-2007\",\n",
        "    \"2008-2010\",\n",
        "    \"2011\",\n",
        "    \"2012\",\n",
        "    \"2013\",\n",
        "    \"2014\",\n",
        "    \"2015\",\n",
        "    \"2016\",\n",
        "    \"2017\",\n",
        "]\n",
        "data[\"year_binned\"] = pd.cut(data[\"year\"], bins_years, labels=year_labels)\n",
        "\n",
        "bins_ttm = [-1, 1, 2, 3, 6, 12, np.inf]\n",
        "ttm_labels = [\n",
        "    \"ttm <= 1 month\",\n",
        "    \"ttm (1-2] month\",\n",
        "    \"ttm (2-3] month\",\n",
        "    \"ttm (3-6] month\",\n",
        "    \"ttm (6-12] month\",\n",
        "    \"ttm > 12 month\",\n",
        "]\n",
        "data[\"ttm_binned\"] = pd.cut(data[\"ttm\"], bins_ttm, labels=ttm_labels)"
      ],
      "metadata": {
        "id": "5HML91_Bit9A"
      },
      "execution_count": null,
      "outputs": []
    },
    {
      "cell_type": "markdown",
      "source": [
        "### Trade features 💴\n",
        "Construct features that are used in classical rules."
      ],
      "metadata": {
        "id": "fNul91d8XCzv"
      }
    },
    {
      "cell_type": "code",
      "source": [
        "# Degree how much trade size is filled\n",
        "data[\"rel_bid_size_ex\"] = data[\"TRADE_SIZE\"] / data[\"bid_size_ex\"]\n",
        "data[\"rel_ask_size_ex\"] = data[\"TRADE_SIZE\"] / data[\"ask_size_ex\"]\n",
        "\n",
        "# spread in $ between ask and bid\n",
        "data['spread_ex'] = data['ask_ex'] - data['bid_ex']\n",
        "\n",
        "# Calculate change similar to tick rule\n",
        "data[\"chg_lead_ex\"] = data[\"TRADE_PRICE\"] - data[\"price_ex_lead\"]\n",
        "\n",
        "# Calculate change similar to reverse tick rule\n",
        "data[\"chg_lag_ex\"] = data[\"TRADE_PRICE\"]- data[\"price_ex_lag\"]\n",
        "\n",
        "# Midspread\n",
        "mid = 0.5 * (data[\"ask_ex\"] + data[\"bid_ex\"])\n",
        "\n",
        "# Absolute distance from mid\n",
        "data[\"abs_mid_ex\"] = data[\"TRADE_PRICE\"] - mid\n",
        "data[\"mid_ex\"] = mid"
      ],
      "metadata": {
        "id": "B4CnoIjyWDo1"
      },
      "execution_count": null,
      "outputs": []
    },
    {
      "cell_type": "markdown",
      "source": [
        "### Underlying features 🫀"
      ],
      "metadata": {
        "id": "M6gxVMmgNwQs"
      }
    },
    {
      "cell_type": "code",
      "source": [
        "data[\"symbol_is_index\"] = data['UNDERLYING_SYMBOL'].str.startswith(\"^\")\n",
        "\n",
        "# special code from 5th character in symbol\n",
        "data[\"special_code\"] = data['UNDERLYING_SYMBOL'].str[4]\n",
        "\n",
        "# Security type similar to Grauer et. al p. 35\n",
        "data['security_type'] = np.where(data[\"symbol_is_index\"],\"index option\", np.where(data[\"special_code\"].notnull(),\"other\", \"stock option\"))\n",
        "data['security_type'] = data['security_type'].astype(\"category\")"
      ],
      "metadata": {
        "id": "PaBwUMFzNsnu"
      },
      "execution_count": null,
      "outputs": []
    },
    {
      "cell_type": "markdown",
      "source": [
        "### Categorical features 🎰"
      ],
      "metadata": {
        "id": "A0KFTHrDK5Uo"
      }
    },
    {
      "cell_type": "code",
      "source": [
        "# binarize\n",
        "\n",
        "# select categorical e. g., option type and strings e. g., ticker\n",
        "cat_columns = data.select_dtypes(include=[\"category\", \"object\"]).columns.tolist()\n",
        "print(cat_columns)\n",
        "\n",
        "cat_columns_bin = [\"bin_\" + x for x in cat_columns]\n",
        "\n",
        "# binarize categorical similar to Borisov et al.\n",
        "data[cat_columns_bin] = data[cat_columns].apply(lambda x: pd.factorize(x)[0])"
      ],
      "metadata": {
        "id": "6rbpLrGVKlqY"
      },
      "execution_count": null,
      "outputs": []
    },
    {
      "cell_type": "markdown",
      "source": [
        "## General overview 🌄"
      ],
      "metadata": {
        "id": "9vmqZlzAPHLF"
      }
    },
    {
      "cell_type": "markdown",
      "source": [
        "### Trade price and sizes 🤝"
      ],
      "metadata": {
        "id": "ryHukUSOiFvs"
      }
    },
    {
      "cell_type": "markdown",
      "source": [
        "#### Trades over time ⌚"
      ],
      "metadata": {
        "id": "TGlJU8wrm_J4"
      }
    },
    {
      "cell_type": "code",
      "source": [
        "trades_per_day = plot_time_series(\"TRADE_PRICE\", \"count\")"
      ],
      "metadata": {
        "id": "CNdxNP8VnJ8m"
      },
      "execution_count": null,
      "outputs": []
    },
    {
      "cell_type": "code",
      "source": [
        "trades_per_day.nlargest(N)"
      ],
      "metadata": {
        "id": "C5GRI4vE08RB"
      },
      "execution_count": null,
      "outputs": []
    },
    {
      "cell_type": "code",
      "source": [
        "trades_per_day.nsmallest(N)"
      ],
      "metadata": {
        "id": "DmK1pdA63P55"
      },
      "execution_count": null,
      "outputs": []
    },
    {
      "cell_type": "markdown",
      "source": [
        "**Observation:**\n",
        "* Number of trades increases over time.\n",
        "* There is no obvious explanation why the number of trades spikes at certain days."
      ],
      "metadata": {
        "id": "u4rLQllo9yWs"
      }
    },
    {
      "cell_type": "markdown",
      "source": [
        "#### Trade size"
      ],
      "metadata": {
        "id": "YvBsMmZ0Rwro"
      }
    },
    {
      "cell_type": "code",
      "source": [
        "# Think about outliers\n",
        "ax = sns.histplot(data, x=\"TRADE_SIZE\", bins=50)\n",
        "ax.title.set_text(\"Histogram of trade size\")"
      ],
      "metadata": {
        "id": "f-YPNDG3fzDO"
      },
      "execution_count": null,
      "outputs": []
    },
    {
      "cell_type": "markdown",
      "source": [
        "**Observation:**\n",
        "* highly skewed with few outliers.\n",
        "* Similar to the price, $\\log(\\cdot)$ transform helps a little bit."
      ],
      "metadata": {
        "id": "txa7AqLShrZn"
      }
    },
    {
      "cell_type": "code",
      "source": [
        "trades_over_time = plot_time_series(\"TRADE_SIZE\", [\"mean\", \"median\"])"
      ],
      "metadata": {
        "id": "3oGv6NbNZ8mR"
      },
      "execution_count": null,
      "outputs": []
    },
    {
      "cell_type": "code",
      "source": [
        "trade_ask_bid_size = plot_time_series([\"TRADE_SIZE\", \"ask_size_ex\", \"bid_size_ex\"], \"mean\")\n"
      ],
      "metadata": {
        "id": "_fm0mKy9nGWr"
      },
      "execution_count": null,
      "outputs": []
    },
    {
      "cell_type": "markdown",
      "source": [
        "**Observation:**\n",
        "* There is a slow downward trend in `TRADE_SIZE`.\n",
        "* Controversely, the average number of trades per day increases over time.\n",
        "* Market share of ISE has decrease over time, as reported in https://www.sifma.org/wp-content/uploads/2022/03/SIFMA-Insights-Market-Structure-Compendium-March-2022.pdf. "
      ],
      "metadata": {
        "id": "IKBxGSqe-FBC"
      }
    },
    {
      "cell_type": "code",
      "source": [
        "data[\"TRADE_SIZE\"].describe()"
      ],
      "metadata": {
        "id": "PfPmlqkdhhiQ"
      },
      "execution_count": null,
      "outputs": []
    },
    {
      "cell_type": "code",
      "source": [
        "data[data[\"TRADE_SIZE\"].max()==data[\"TRADE_SIZE\"]]"
      ],
      "metadata": {
        "id": "dmKu4OXF-p9P"
      },
      "execution_count": null,
      "outputs": []
    },
    {
      "cell_type": "code",
      "source": [
        "data.nlargest(N, \"TRADE_SIZE\", keep='first').T"
      ],
      "metadata": {
        "id": "ZL3iVg-mgrv1"
      },
      "execution_count": null,
      "outputs": []
    },
    {
      "cell_type": "code",
      "source": [
        "# const not really needed here, due to the trade size being >=1\n",
        "const = 1\n",
        "data['log_trade_size'] = np.log(data[\"TRADE_SIZE\"]+const)\n",
        "ax = sns.histplot(data, x=\"log_trade_size\", bins=50)\n",
        "ax.title.set_text(f\"Histogram of trade size (log) with const = {const}\")"
      ],
      "metadata": {
        "id": "eL3Lxj2yhrB4"
      },
      "execution_count": null,
      "outputs": []
    },
    {
      "cell_type": "code",
      "source": [
        "fig, ax = plt.subplots()\n",
        "\n",
        "for i in [-1,1]:\n",
        "  sns.kdeplot(data=data[data[\"buy_sell\"]==i], x=\"log_trade_size\", clip=[0, 6], label=str(i), cumulative=False)\n",
        "# clip=[-0.5, 0.5]\n",
        "ax.title.set_text(\"Distribution of buys and sells\")"
      ],
      "metadata": {
        "id": "ijg2JT_BrcHr"
      },
      "execution_count": null,
      "outputs": []
    },
    {
      "cell_type": "markdown",
      "source": [
        "#### Trade price"
      ],
      "metadata": {
        "id": "kro_boa2VSpD"
      }
    },
    {
      "cell_type": "code",
      "source": [
        "# Think about outliers\n",
        "ax = sns.histplot(data, x=\"TRADE_PRICE\", bins=50)\n",
        "ax.title.set_text(\"Histogram of trade price\")"
      ],
      "metadata": {
        "id": "c2bA2XcPg0qg"
      },
      "execution_count": null,
      "outputs": []
    },
    {
      "cell_type": "code",
      "source": [
        "ax = sns.boxplot(data = data, x=\"buy_sell\", y = \"TRADE_PRICE\")\n",
        "ax.title.set_text(\"Box plot of 'TRADE_PRICE' for buys (1) and sells (-1)\")"
      ],
      "metadata": {
        "id": "CULpt3OGoMBS"
      },
      "execution_count": null,
      "outputs": []
    },
    {
      "cell_type": "markdown",
      "source": [
        "**Observations:**\n",
        "* Very few very large trade prices, many very small trade prices.\n",
        "* Scaling can problematic, if outliers affect scaling much. Try $\\log(\\cdot)$ transform. Could improve results.\n",
        "* Trade price is hardly informative, as distribution is very similar."
      ],
      "metadata": {
        "id": "nKm00we7oQmJ"
      }
    },
    {
      "cell_type": "code",
      "source": [
        "const = 1e-2\n",
        "data['log_trade_price'] = np.log(data[\"TRADE_PRICE\"] + const)\n",
        "#data['log_trade_price'].replace([np.inf, -np.inf], np.nan, inplace=True)"
      ],
      "metadata": {
        "id": "k47VwHkJoYHj"
      },
      "execution_count": null,
      "outputs": []
    },
    {
      "cell_type": "code",
      "source": [
        "fig, ax = plt.subplots()\n",
        "\n",
        "sns.histplot(data, x=\"log_trade_price\", bins=50, stat='density', label=\"log price\")\n",
        "\n",
        "# extract the limits for the x-axis and fit normal distributon\n",
        "x0, x1 = ax.get_xlim()  \n",
        "x_pdf = np.linspace(x0, x1, 100)\n",
        "y_pdf = stats.norm.pdf(x_pdf)\n",
        "\n",
        "pdf = pd.DataFrame({'x':x_pdf,'y':y_pdf})\n",
        "sns.lineplot(data = pdf,x='x', y='y',label=\"pdf\", color=\"r\")\n",
        "\n",
        "\n",
        "ax.title.set_text(\"Distribution of log prices\")                                                   \n",
        "ax.legend()"
      ],
      "metadata": {
        "id": "cULJ2a5voezf"
      },
      "execution_count": null,
      "outputs": []
    },
    {
      "cell_type": "code",
      "source": [
        "ax = sns.boxplot(data=data, x=\"buy_sell\", y=\"log_trade_price\")\n",
        "ax.title.set_text(\"Box plot of log prices for buys (1) and sells (-1)\")"
      ],
      "metadata": {
        "id": "9DpqVxM3o8G8"
      },
      "execution_count": null,
      "outputs": []
    },
    {
      "cell_type": "code",
      "source": [
        "data.nlargest(N, \"TRADE_PRICE\", keep='first').T"
      ],
      "metadata": {
        "id": "lwtkIErXg8iZ"
      },
      "execution_count": null,
      "outputs": []
    },
    {
      "cell_type": "code",
      "source": [
        "trade_price_over_time = plot_time_series(\"TRADE_PRICE\",['mean','median'])"
      ],
      "metadata": {
        "id": "5HndBdq-hKmJ"
      },
      "execution_count": null,
      "outputs": []
    },
    {
      "cell_type": "code",
      "source": [
        "trade_price_over_time = plot_time_series([\"TRADE_PRICE\", \"price_ex_lead\", \"price_ex_lag\"],'mean')"
      ],
      "metadata": {
        "id": "DhvRYVA-pjzX"
      },
      "execution_count": null,
      "outputs": []
    },
    {
      "cell_type": "code",
      "source": [
        "trade_price_over_time = plot_time_series([\"TRADE_PRICE\", \"price_ex_lead\", \"price_ex_lag\"],'median')"
      ],
      "metadata": {
        "id": "bTNiMADmqxI4"
      },
      "execution_count": null,
      "outputs": []
    },
    {
      "cell_type": "markdown",
      "source": [
        "### Time to Maturity ⌚"
      ],
      "metadata": {
        "id": "S5rHAylRzt1d"
      }
    },
    {
      "cell_type": "code",
      "source": [
        "ttm_over_time = plot_time_series(\"ttm\", \"mean\")"
      ],
      "metadata": {
        "id": "YOtWJYd1mRAx"
      },
      "execution_count": null,
      "outputs": []
    },
    {
      "cell_type": "code",
      "source": [
        "sample = data.sample(n=1000, random_state=seed)\n",
        "\n",
        "plot = sns.displot(data = sample, \n",
        "                x = \"ttm\", \n",
        "                y = \"TRADE_PRICE\", kind=\"kde\", hue=\"OPTION_TYPE\")\n",
        "plot.figure.subplots_adjust(top=0.9)\n",
        "plot.figure.suptitle(\"Trade Price vs. Time to Maturity\");"
      ],
      "metadata": {
        "id": "V3JpC7CymaZ3"
      },
      "execution_count": null,
      "outputs": []
    },
    {
      "cell_type": "code",
      "source": [
        "ax = sns.scatterplot(data = sample, \n",
        "                x = \"ttm\", \n",
        "                y = \"bid_ex\",\n",
        "                hue= \"OPTION_TYPE\")\n",
        "ax.title.set_text(\"Scatter plot of time to maturity (months) and bid (ex)\")"
      ],
      "metadata": {
        "id": "s-qb_kBSmj4i"
      },
      "execution_count": null,
      "outputs": []
    },
    {
      "cell_type": "code",
      "source": [
        "ax = sns.histplot(data = data[data[\"bid_ex\"]==0.0], \n",
        "                  x = \"ttm\", bins=50)\n",
        "ax.title.set_text(\"Count of transactions with regard to time to maturity (months)\")"
      ],
      "metadata": {
        "id": "WIiLkBmymu6n"
      },
      "execution_count": null,
      "outputs": []
    },
    {
      "cell_type": "code",
      "source": [
        "# TODO: ask of zero plausible?\n",
        "sns.histplot(data = data[data[\"ask_ex\"]==0.0], \n",
        "                x = \"ttm\", bins=50)"
      ],
      "metadata": {
        "id": "HIPLWci8m2MD"
      },
      "execution_count": null,
      "outputs": []
    },
    {
      "cell_type": "markdown",
      "source": [
        "### Buy Sell 👛"
      ],
      "metadata": {
        "id": "9of8S3X52_WS"
      }
    },
    {
      "cell_type": "code",
      "source": [
        "ratio_buy_sell = data[\"buy_sell\"].value_counts() / data[\"buy_sell\"].count()\n",
        "ratio_buy_sell"
      ],
      "metadata": {
        "id": "EpSh473iHU3W"
      },
      "execution_count": null,
      "outputs": []
    },
    {
      "cell_type": "markdown",
      "source": [
        "**Observation:**\n",
        "* Ratios similar to the one reported in Grauer et. al. Yet not identical as calculation is done on a sample.\n",
        "* As both classes have a $\\approx~0.5$ probability, I would not rebalance. Rebalancing through sampling etc. itself has a bias.\n",
        "* Ratios seem to be stable over time (see below). Thus, distribution is similar for training, validation, and test set."
      ],
      "metadata": {
        "id": "deJhfCrxHy8Y"
      }
    },
    {
      "cell_type": "markdown",
      "source": [
        "#### By option type"
      ],
      "metadata": {
        "id": "IYXjbdNOScZ5"
      }
    },
    {
      "cell_type": "code",
      "source": [
        "ax = sns.countplot(data=data,x=\"OPTION_TYPE\", hue=\"buy_sell\")\n",
        "ax.title.set_text(\"Distribution of Buy / Sell indicator with regard to option type\")\n",
        "sns.move_legend(ax, \"lower center\", bbox_to_anchor=(0.5, -0.3))"
      ],
      "metadata": {
        "id": "r4zDI-vV4QHT"
      },
      "execution_count": null,
      "outputs": []
    },
    {
      "cell_type": "markdown",
      "source": [
        "#### By year"
      ],
      "metadata": {
        "id": "3pOzIcdrSjaU"
      }
    },
    {
      "cell_type": "code",
      "source": [
        "ax = sns.countplot(data=data,x=\"year_binned\", hue=\"buy_sell\")\n",
        "ax.title.set_text(\"Distribution of Buy / Sell indicator with regard to year (binned)\")\n",
        "# sns.move_legend(ax, \"lower center\", bbox_to_anchor=(0.5, -0.3))\n",
        "ax.set_xticklabels(ax.get_xticklabels(), rotation=40, ha=\"center\")\n",
        "plt.tight_layout()\n",
        "plt.show()"
      ],
      "metadata": {
        "id": "L1rT2d3m2-8L"
      },
      "execution_count": null,
      "outputs": []
    },
    {
      "cell_type": "markdown",
      "source": [
        "#### By time time to maturity"
      ],
      "metadata": {
        "id": "LO_Y_3LlSoOq"
      }
    },
    {
      "cell_type": "code",
      "source": [
        "ax = sns.countplot(data=data,x=\"ttm_binned\", hue=\"buy_sell\")\n",
        "ax.title.set_text(\"Distribution of Buy / Sell indicator with regard to time to maturity (binned)\")\n",
        "ax.set_xticklabels(ax.get_xticklabels(), rotation=40, ha=\"center\")\n",
        "plt.tight_layout()\n",
        "plt.show()"
      ],
      "metadata": {
        "id": "mhZopwr-4ITf"
      },
      "execution_count": null,
      "outputs": []
    },
    {
      "cell_type": "markdown",
      "source": [
        "#### Over time"
      ],
      "metadata": {
        "id": "VKOYYMjdSwmq"
      }
    },
    {
      "cell_type": "code",
      "source": [
        "trades_over_time = data.groupby(data['date'])[\"buy_sell\"].value_counts().unstack(fill_value=0)\n",
        "ax = trades_over_time.plot(kind=\"line\", figsize=ratio, title=\"buy / sell count over time\", xlabel=\"date\", ylabel=\"sell (-1) / buy (1)\")\n",
        "plot_recessions()\n",
        "ax.legend()\n",
        "plt.show()"
      ],
      "metadata": {
        "id": "gR6c5UUC3WHf"
      },
      "execution_count": null,
      "outputs": []
    },
    {
      "cell_type": "markdown",
      "source": [
        "### $n$ most frequent symbols, indices, and special codes 🔢"
      ],
      "metadata": {
        "id": "uNN4ksMGlTQm"
      }
    },
    {
      "cell_type": "code",
      "source": [
        "alphanumeric_symbols = data[~data['UNDERLYING_SYMBOL'].str.isalpha()]\n",
        "alphanumeric_symbols.drop_duplicates(inplace=True)"
      ],
      "metadata": {
        "id": "KMockPnQZsU5"
      },
      "execution_count": null,
      "outputs": []
    },
    {
      "cell_type": "code",
      "source": [
        "overlong_symbols = data[data['UNDERLYING_SYMBOL'].str.len()>=5]\n",
        "overlong_symbols.drop_duplicates(inplace=True)"
      ],
      "metadata": {
        "id": "Oa1PvtWPdo0q"
      },
      "execution_count": null,
      "outputs": []
    },
    {
      "cell_type": "code",
      "source": [
        "most_frequent_symbols = data[\"UNDERLYING_SYMBOL\"].value_counts().head(N).reset_index(name=\"Count\")\n",
        "most_frequent_symbols.rename(columns={'index':'Symbol'}, inplace=True)\n",
        "\n",
        "ax = sns.barplot(data=most_frequent_symbols, x=\"Symbol\", y=\"Count\")\n",
        "ax.title.set_text(f\"{N} most frequently traded symbols\")\n",
        "most_frequent_symbols"
      ],
      "metadata": {
        "id": "qLVCUu8WOqGG"
      },
      "execution_count": null,
      "outputs": []
    },
    {
      "cell_type": "code",
      "source": [
        "list_freq_symbols = most_frequent_symbols.Symbol.tolist()"
      ],
      "metadata": {
        "id": "balcupvypq5_"
      },
      "execution_count": null,
      "outputs": []
    },
    {
      "cell_type": "code",
      "source": [
        "frequent_symbols_over_time = data[data[\"UNDERLYING_SYMBOL\"].isin(list_freq_symbols)]"
      ],
      "metadata": {
        "id": "vxI2kyFypzmb"
      },
      "execution_count": null,
      "outputs": []
    },
    {
      "cell_type": "code",
      "source": [
        "frequent_symbols_trades_per_day = frequent_symbols_over_time.groupby([frequent_symbols_over_time.QUOTE_DATETIME.dt.to_period('m'), \"UNDERLYING_SYMBOL\"])[\"TRADE_SIZE\"].count().reset_index().rename(columns={\"TRADE_SIZE\": \"count\", \"QUOTE_DATETIME\": \"date\", \"UNDERLYING_SYMBOL\": \"Symbol\"})\n"
      ],
      "metadata": {
        "id": "Ui_bSf3JrdjE"
      },
      "execution_count": null,
      "outputs": []
    },
    {
      "cell_type": "code",
      "source": [
        "frequent_symbols_over_time = frequent_symbols_trades_per_day.groupby([\"date\", \"Symbol\"])['count'].first().unstack()"
      ],
      "metadata": {
        "id": "r9NQn8JojaHq"
      },
      "execution_count": null,
      "outputs": []
    },
    {
      "cell_type": "code",
      "source": [
        "frequent_symbols_over_time.plot(kind=\"line\", title=f\"{N} most frequently traded underlyings over time\")"
      ],
      "metadata": {
        "id": "xKynCukCly3K"
      },
      "execution_count": null,
      "outputs": []
    },
    {
      "cell_type": "code",
      "source": [
        "most_frequent_indices = data[data[\"symbol_is_index\"]][\"UNDERLYING_SYMBOL\"].value_counts().head(N).reset_index(name=\"Count\")\n",
        "most_frequent_indices.rename(columns={'index':'Symbol'}, inplace=True)\n",
        "\n",
        "ax = sns.barplot(data=most_frequent_indices, x=\"Symbol\", y=\"Count\")\n",
        "ax.title.set_text(f\"{N} most frequently traded indices (symbols with ^)\")"
      ],
      "metadata": {
        "id": "6nWH3zsQSP6i"
      },
      "execution_count": null,
      "outputs": []
    },
    {
      "cell_type": "code",
      "source": [
        "ax = sns.countplot(data=data,x=\"symbol_is_index\", hue=\"buy_sell\")\n",
        "ax.title.set_text(\"Distribution of Buy / Sell indicator with regard to whether underlying is an index\")\n",
        "sns.move_legend(ax, \"lower center\", bbox_to_anchor=(0.5, -0.3))"
      ],
      "metadata": {
        "id": "S-Kd5_JSOO6R"
      },
      "execution_count": null,
      "outputs": []
    },
    {
      "cell_type": "code",
      "source": [
        "ratios_is_index = data.groupby(['symbol_is_index', \"buy_sell\"])['buy_sell'].count() / data.groupby([\"symbol_is_index\"])[\"buy_sell\"].count()\n",
        "ratios_is_index"
      ],
      "metadata": {
        "id": "9ZPOB0DDPlaA"
      },
      "execution_count": null,
      "outputs": []
    },
    {
      "cell_type": "markdown",
      "source": [
        "**Observation:**\n",
        "- Feature can be important, as it's much more likely for trade to be sell, rather than buy, if and only if the underlying is no index option.\n",
        "- Difference isn't too pronounced and could be due to sampling effects."
      ],
      "metadata": {
        "id": "cvLHx_iNOtgo"
      }
    },
    {
      "cell_type": "code",
      "source": [
        "data[\"special_code\"].value_counts(dropna=False)"
      ],
      "metadata": {
        "id": "7cm4CSLELZLy"
      },
      "execution_count": null,
      "outputs": []
    },
    {
      "cell_type": "markdown",
      "source": [
        "**Observation:**\n",
        "* `L`: Misc. (compare Google Shares)\n",
        "* `B`: Class \"B\"\n",
        "* `A`: Class \"A\"\n",
        "* `K`: \"Non-voting\"\n",
        "* `X`: \"Mutual funds\"\n",
        "* `Y`: \"ADRs\"\n",
        "\n",
        "Grauer et al. also include ETFs in `others`. Not sure how they are identified."
      ],
      "metadata": {
        "id": "0pKJCD3mXTT9"
      }
    },
    {
      "cell_type": "code",
      "source": [
        "ax = sns.countplot(data=data,x=\"security_type\")\n",
        "ax.title.set_text(\"No. of transactions by security type\")\n",
        "ax.xaxis.label.set_text(\"security type\")"
      ],
      "metadata": {
        "id": "hI-NvLxx_p1P"
      },
      "execution_count": null,
      "outputs": []
    },
    {
      "cell_type": "code",
      "source": [
        "ax = sns.countplot(data=data, x = \"special_code\")\n",
        "ax.title.set_text(\"No. of special codes in trades\")"
      ],
      "metadata": {
        "id": "7lBhI1eNtPwY"
      },
      "execution_count": null,
      "outputs": []
    },
    {
      "cell_type": "code",
      "source": [
        "ax = sns.countplot(data=data, x = \"ttm_binned\")\n",
        "ax.title.set_text(\"No. of trades by time to maturity (binned)\")\n",
        "ax.set_xticklabels(ax.get_xticklabels(), rotation=40, ha=\"center\")"
      ],
      "metadata": {
        "id": "cvcz7uXdGElM"
      },
      "execution_count": null,
      "outputs": []
    },
    {
      "cell_type": "code",
      "source": [
        "ax = sns.scatterplot(data = sample, \n",
        "                x = \"ttm\", \n",
        "                y = \"bid_ex\",\n",
        "                hue= \"OPTION_TYPE\")\n",
        "ax.title.set_text(\"Scatter plot of time to maturity (months) and bid (ex)\")"
      ],
      "metadata": {
        "id": "vCaz459vUzIM"
      },
      "execution_count": null,
      "outputs": []
    },
    {
      "cell_type": "code",
      "source": [
        "ax = sns.histplot(data = data[data[\"bid_ex\"]==0.0], \n",
        "                  x = \"ttm\", bins=50)\n",
        "ax.title.set_text(\"Count of transactions with regard to time to maturity (months)\")"
      ],
      "metadata": {
        "id": "fkEKGH4-RDHc"
      },
      "execution_count": null,
      "outputs": []
    },
    {
      "cell_type": "code",
      "source": [
        "# TODO: ask of zero plausible?\n",
        "sns.histplot(data = data[data[\"ask_ex\"]==0.0], \n",
        "                x = \"ttm\", bins=50)"
      ],
      "metadata": {
        "id": "YNF09VisR6ox"
      },
      "execution_count": null,
      "outputs": []
    },
    {
      "cell_type": "code",
      "source": [
        "trades_over_time = data[[\"TRADE_SIZE\", \"ask_size_ex\", \"bid_size_ex\"]].groupby(data['date']).agg(['mean'])\n",
        "trades_over_time.plot(kind=\"line\", figsize=ratio, title=\"Trade size over time (mean)\", xlabel=\"Timestamp\", ylabel=\"contracts\")"
      ],
      "metadata": {
        "id": "9ZKB1--iVUGn"
      },
      "execution_count": null,
      "outputs": []
    },
    {
      "cell_type": "markdown",
      "source": [
        "###  Ask, bid, and mid"
      ],
      "metadata": {
        "id": "puN3bdGmUPLh"
      }
    },
    {
      "cell_type": "code",
      "source": [
        "bid_ask_over_time = plot_time_series([\"bid_ex\", \"ask_ex\", \"BEST_ASK\", \"BEST_BID\"],'mean')"
      ],
      "metadata": {
        "id": "ObXgSwSxq2E_"
      },
      "execution_count": null,
      "outputs": []
    },
    {
      "cell_type": "code",
      "source": [
        "ax = sns.histplot(data, x=\"bid_ex\", bins=50)\n",
        "ax.title.set_text(\"Histogram of bid (exchange)\")"
      ],
      "metadata": {
        "id": "KwtMkQfIUPLi"
      },
      "execution_count": null,
      "outputs": []
    },
    {
      "cell_type": "code",
      "source": [
        "const = 1\n",
        "data['log_bid_ex'] = np.log(data[\"bid_ex\"]+const)\n",
        "ax = sns.histplot(data, x=\"log_bid_ex\", bins=50)\n",
        "ax.title.set_text(f\"Histogram of bid exchange (log) with const = {const}\")"
      ],
      "metadata": {
        "id": "3w88oBOpUPLj"
      },
      "execution_count": null,
      "outputs": []
    },
    {
      "cell_type": "code",
      "source": [
        "fig, ax = plt.subplots()\n",
        "\n",
        "for i in [-1,1]:\n",
        "  sns.kdeplot(data=data[data[\"buy_sell\"]==i], x=\"log_bid_ex\", clip=[0, 5], label=str(i), cumulative=False)\n",
        "ax.title.set_text(f\"Distribution of buys and sells after (log) with const = {const}\")"
      ],
      "metadata": {
        "id": "hlsQokLcUPLj"
      },
      "execution_count": null,
      "outputs": []
    },
    {
      "cell_type": "code",
      "source": [
        "const = 1e-2\n",
        "data['log_bid_ex'] = np.log(data[\"bid_ex\"]+const)\n",
        "ax = sns.histplot(data, x=\"log_bid_ex\", bins=50)\n",
        "ax.title.set_text(\"Histogram of bid exchange (log)\")"
      ],
      "metadata": {
        "id": "_JBE-ymdUPLk"
      },
      "execution_count": null,
      "outputs": []
    },
    {
      "cell_type": "code",
      "source": [
        "fig, ax = plt.subplots()\n",
        "\n",
        "for i in [-1,1]:\n",
        "  sns.kdeplot(data=data[data[\"buy_sell\"]==i], x=\"log_bid_ex\", clip=[-5, 6], label=str(i), cumulative=False)\n",
        "\n",
        "ax.title.set_text(f\"Distribution of buys and sells after (log) with const = {const}\")"
      ],
      "metadata": {
        "id": "biafaSUqUPLk"
      },
      "execution_count": null,
      "outputs": []
    },
    {
      "cell_type": "markdown",
      "source": [
        "**Observation:**\n",
        "- One can choose different constants, but small constants, e. g., `const=1e-2` gives fuzzy results. Better choose larger constant like `const=1`."
      ],
      "metadata": {
        "id": "vesyvNMPUPLk"
      }
    },
    {
      "cell_type": "markdown",
      "source": [
        "**Observation:**\n",
        "- log on size seems to worsen results.\n",
        "- `TODO:` investigate further, what the reason is. e. g., some skewness, but outliers...."
      ],
      "metadata": {
        "id": "fnrbwIFTYHr_"
      }
    },
    {
      "cell_type": "markdown",
      "source": [
        "# NaNs 🪲"
      ],
      "metadata": {
        "id": "UUbWmbEtS2Ve"
      }
    },
    {
      "cell_type": "code",
      "source": [
        "def visualize_nan():\n",
        "    \"\"\"\n",
        "    Visualize NaN values in a heatmap to learn about patterns.\n",
        "    \"\"\"\n",
        "    plt.subplots()\n",
        "    sns.heatmap(data.head(50).isnull(), cbar=False)\n",
        "    plt.xlabel(\"feature\")\n",
        "    plt.ylabel(\"row\")\n",
        "    plt.title(\"Missing values (colored in bright beige)\")\n",
        "    plt.show()"
      ],
      "metadata": {
        "id": "lYGJpMvzEhyc"
      },
      "execution_count": null,
      "outputs": []
    },
    {
      "cell_type": "code",
      "source": [
        "visualize_nan()"
      ],
      "metadata": {
        "id": "glhx2wHHEtkU"
      },
      "execution_count": null,
      "outputs": []
    },
    {
      "cell_type": "code",
      "source": [
        "isna_vals = data.isna().sum().sort_values(ascending=False)\n",
        "isna_vals = isna_vals.loc[lambda x: x > 0]\n",
        "\n",
        "ax = isna_vals.T.plot(kind=\"bar\", figsize=ratio, legend=False, \n",
        "                      xlabel=\"No. of missing values\", \n",
        "                      ylabel=\"feature\", \n",
        "                      title=\"Missing values\")"
      ],
      "metadata": {
        "id": "2JOoXJtHIKXE"
      },
      "execution_count": null,
      "outputs": []
    },
    {
      "cell_type": "code",
      "source": [
        "isna_vals_over_time = data[isna_vals.index.tolist()].groupby(data['QUOTE_DATETIME'].dt.date).agg(lambda x: x.isnull().sum())\n",
        "isna_vals_over_time.plot(kind=\"line\", figsize=ratio, title=\"Missing values over time\", xlabel=\"Timestamp\", ylabel=\"No. of missing values\")"
      ],
      "metadata": {
        "id": "swu5wGjNLZbF"
      },
      "execution_count": null,
      "outputs": []
    },
    {
      "cell_type": "code",
      "source": [
        "# adapted from: https://github.com/ResidentMario/missingno/blob/master/missingno/missingno.py\n",
        "\n",
        "isna_data = data.iloc[:, [i for i, n in enumerate(np.var(data.isnull(), axis='rows')) if n > 0]]\n",
        "\n",
        "corr_mat = isna_data.isnull().corr()\n",
        "mask = np.zeros_like(corr_mat)\n",
        "mask[np.triu_indices_from(mask)] = True\n",
        "\n",
        "fig, ax = plt.subplots(figsize=(9,9)) \n",
        "ax = sns.heatmap(corr_mat, mask=mask, annot=False, annot_kws={'size':10}, ax=ax)\n",
        "ax.title.set_text(\"Correlation between missing features\")"
      ],
      "metadata": {
        "id": "Bk7kdwU0Nh9X"
      },
      "execution_count": null,
      "outputs": []
    },
    {
      "cell_type": "code",
      "source": [
        "# TODO: Check if there is a pattern between the missing values"
      ],
      "metadata": {
        "id": "Dokt9B3BEvor"
      },
      "execution_count": null,
      "outputs": []
    },
    {
      "cell_type": "markdown",
      "source": [
        "# Correlations of engineered features 🎲"
      ],
      "metadata": {
        "id": "hB5ZELdNm8fG"
      }
    },
    {
      "cell_type": "code",
      "source": [
        "foo"
      ],
      "metadata": {
        "id": "WwYnaW2zwJ9e"
      },
      "execution_count": null,
      "outputs": []
    },
    {
      "cell_type": "markdown",
      "source": [
        "## ($\\log$) mid spread ✔️"
      ],
      "metadata": {
        "id": "__FSlpusukZu"
      }
    },
    {
      "cell_type": "code",
      "source": [
        "ax = sns.histplot(data, x=\"mid_ex\", bins=50)\n",
        "ax.title.set_text(\"Histogram of mid spread\")"
      ],
      "metadata": {
        "id": "0UhJldoe12jV"
      },
      "execution_count": null,
      "outputs": []
    },
    {
      "cell_type": "code",
      "source": [
        "data[\"mid_ex\"].describe()"
      ],
      "metadata": {
        "id": "Qqe32iDU2XN8"
      },
      "execution_count": null,
      "outputs": []
    },
    {
      "cell_type": "code",
      "source": [
        "mean_spread = data[\"spread_ex\"].groupby(data['date']).agg(['mean'])"
      ],
      "metadata": {
        "id": "ianOpocmBMtn"
      },
      "execution_count": null,
      "outputs": []
    },
    {
      "cell_type": "code",
      "source": [
        "ax = sns.lineplot(mean_spread)\n",
        "ax.title.set_text(\"Abs. spread (mean) over time\")\n",
        "ax.yaxis.label.set_text(\"spread\")\n",
        "plot_recessions()\n",
        "plt.show()"
      ],
      "metadata": {
        "id": "otcz1wN6zpAY"
      },
      "execution_count": null,
      "outputs": []
    },
    {
      "cell_type": "code",
      "source": [
        "fig, ax = plt.subplots()\n",
        "\n",
        "for i in [-1,1]:\n",
        "  sns.kdeplot(data=data[data[\"buy_sell\"]==i], x=\"spread_ex\", clip=[-1,1], label=str(i), cumulative=False)\n",
        "ax.title.set_text(f\"Distribution of buys and sells\")"
      ],
      "metadata": {
        "id": "qnnnEwwRVZ5n"
      },
      "execution_count": null,
      "outputs": []
    },
    {
      "cell_type": "code",
      "source": [
        "# quotient rule\n",
        "const = 1\n",
        "data[\"log_mid_ex\"] = np.log(data[\"mid_ex\"]+const)\n",
        "\n",
        "for i in [-1,1]:\n",
        "  sns.kdeplot(data=data[data[\"buy_sell\"]==i], x=\"log_mid_ex\", label=str(i), cumulative=False)\n",
        "ax.title.set_text(f\"Distribution of buys and sells after log with const = {const}\")"
      ],
      "metadata": {
        "id": "f7hZFWs81x_W"
      },
      "execution_count": null,
      "outputs": []
    },
    {
      "cell_type": "markdown",
      "source": [
        "## bid-ask-ratio"
      ],
      "metadata": {
        "id": "1GowqDYXH5w1"
      }
    },
    {
      "cell_type": "code",
      "source": [
        "data[\"bid_ask_ratio_ex\"] = data[\"ask_ex\"] / data[\"bid_ex\"]"
      ],
      "metadata": {
        "id": "UfgNcG-cH-2d"
      },
      "execution_count": null,
      "outputs": []
    },
    {
      "cell_type": "code",
      "source": [
        "ax = sns.histplot(data, x=\"bid_ask_ratio_ex\", bins=50)\n",
        "ax.title.set_text(\"Histogram of bid-ask ratio\")"
      ],
      "metadata": {
        "id": "LXWL_itTIa1n"
      },
      "execution_count": null,
      "outputs": []
    },
    {
      "cell_type": "code",
      "source": [
        "fig, ax = plt.subplots()\n",
        "\n",
        "for i in [-1,1]:\n",
        "  sns.kdeplot(data=data[data[\"buy_sell\"]==i], x=\"bid_ask_ratio_ex\", clip=[0.6,3], label=str(i), cumulative=False)\n",
        "ax.title.set_text(f\"Distribution of buys and sells\")"
      ],
      "metadata": {
        "id": "jy8b4CxNIs5V"
      },
      "execution_count": null,
      "outputs": []
    },
    {
      "cell_type": "code",
      "source": [
        "data[\"log_bid_ask_ratio_ex\"] = np.log(data[\"ask_ex\"]+1e-2) - np.log(data[\"bid_ex\"]+1e-2)"
      ],
      "metadata": {
        "id": "ukXN5685Jc00"
      },
      "execution_count": null,
      "outputs": []
    },
    {
      "cell_type": "code",
      "source": [
        "fig, ax = plt.subplots()\n",
        "\n",
        "for i in [-1,1]:\n",
        "  sns.kdeplot(data=data[data[\"buy_sell\"]==i], x=\"log_bid_ask_ratio_ex\",clip=[-0.5, 1], label=str(i), cumulative=False)\n",
        "ax.title.set_text(f\"Distribution of buys and sells\")"
      ],
      "metadata": {
        "id": "iFJPtZvyJ09B"
      },
      "execution_count": null,
      "outputs": []
    },
    {
      "cell_type": "markdown",
      "source": [
        "**Observation:**\n",
        "- Distribution is the same. This is expected due to $\\log$ laws and the $\\log$ being a monotonous function."
      ],
      "metadata": {
        "id": "pGzo2A9wMPeV"
      }
    },
    {
      "cell_type": "markdown",
      "source": [
        "## distance of trade price from mid ✔️"
      ],
      "metadata": {
        "id": "sr9pHOhQvnbX"
      }
    },
    {
      "cell_type": "code",
      "source": [
        "fig, ax = plt.subplots()\n",
        "\n",
        "for i in [-1,1]:\n",
        "  sns.kdeplot(data=data[data[\"buy_sell\"]==i], x=\"abs_mid_ex\", clip=[-0.5,0.5], label=str(i), cumulative=False)\n",
        "ax.title.set_text(f\"Distribution of buys and sells\")"
      ],
      "metadata": {
        "id": "aWTLBXUlvmvT"
      },
      "execution_count": null,
      "outputs": []
    },
    {
      "cell_type": "code",
      "source": [
        "# quotient rule\n",
        "data[\"log_abs_mid_ex\"] = np.log((data[\"TRADE_PRICE\"] / data[\"mid_ex\"])+1)\n",
        "\n",
        "for i in [-1,1]:\n",
        "  sns.kdeplot(data=data[data[\"buy_sell\"]==i], x=\"log_abs_mid_ex\", clip=[0.5,1], label=str(i), cumulative=False)"
      ],
      "metadata": {
        "id": "HwwWisvDwu3r"
      },
      "execution_count": null,
      "outputs": []
    },
    {
      "cell_type": "code",
      "source": [
        "data[[\"STRK_PRC\"]].hist(figsize=ratio, bins=50)"
      ],
      "metadata": {
        "id": "mYBbBM25itQ2"
      },
      "execution_count": null,
      "outputs": []
    },
    {
      "cell_type": "code",
      "source": [
        "fig, ax = plt.subplots()\n",
        "\n",
        "data['log_strike_price'] = np.log(data[\"STRK_PRC\"])\n",
        "\n",
        "ax = sns.histplot(data, x= \"log_strike_price\", bins=50, stat='density', label=\"log strike price\")\n",
        "ax.title.set_text(\"Histogram of strike price (log)\")\n",
        "\n",
        "# extract the limits for the x-axis and fit normal distributon\n",
        "x0, x1 = ax.get_xlim()  \n",
        "x_pdf = np.linspace(x0, x1, 100)\n",
        "y_pdf = stats.norm.pdf(x=x_pdf)\n",
        "\n",
        "pdf = pd.DataFrame({'x':x_pdf,'y':y_pdf})\n",
        "sns.lineplot(data = pdf,x='x', y='y',label=\"pdf\", color=\"r\")"
      ],
      "metadata": {
        "id": "f50_wvs3OcG1"
      },
      "execution_count": null,
      "outputs": []
    },
    {
      "cell_type": "code",
      "source": [
        "fig, ax = plt.subplots()\n",
        "\n",
        "for i in [-1,1]:\n",
        "  sns.kdeplot(data=data[data[\"buy_sell\"]==i], x=\"spread_ex\",clip=[-0.1, 0.5], label=str(i), cumulative=False)\n",
        "\n",
        "# ax.title.set_text(\"Difference between $P_{t}$ and $P_{t}^{mid}$ with $x \\in(-0.5, 0.5)$ (quote rule)\")\n",
        "# ax.xaxis.label.set_text(\"$x = P_{t} - P_{t}^{mid}$\")\n",
        "ax.legend()\n",
        "plt.show()"
      ],
      "metadata": {
        "id": "fzMD8IhYpVO_"
      },
      "execution_count": null,
      "outputs": []
    },
    {
      "cell_type": "markdown",
      "source": [
        "### Quote rule"
      ],
      "metadata": {
        "id": "W1UfI2Vonr8X"
      }
    },
    {
      "cell_type": "code",
      "source": [
        "fig, ax = plt.subplots()\n",
        "\n",
        "for i in [-1,1]:\n",
        "  sns.kdeplot(data=data[data[\"buy_sell\"]==i], x=\"abs_mid_ex\",clip=[-0.5, 0.5], label=str(i), cumulative=False)\n",
        "\n",
        "ax.title.set_text(\"Difference between $P_{t}$ and $P_{t}^{mid}$ with $x \\in(-0.5, 0.5)$ (quote rule)\")\n",
        "ax.xaxis.label.set_text(\"$x = P_{t} - P_{t}^{mid}$\")\n",
        "ax.legend()\n",
        "#sns.move_legend(ax, \"lower center\", bbox_to_anchor=(0.5, -0.3))\n",
        "plt.show()"
      ],
      "metadata": {
        "id": "XQ4hw-BwnuNC"
      },
      "execution_count": null,
      "outputs": []
    },
    {
      "cell_type": "code",
      "source": [
        "years = [2005, 2006, 2014, 2016]\n",
        "f, ax = plt.subplots(nrows=1, ncols=len(years), figsize=(18, 4))\n",
        "\n",
        "f.suptitle(\"Distribution of buy and sells with regard to `abs_mid_ex`\")\n",
        "\n",
        "for y, year in enumerate(years):\n",
        "  for i in [-1,1]:\n",
        "    sns.kdeplot(data=data[(data[\"buy_sell\"]==i) & (data[\"year\"] == year)], x=\"abs_mid_ex\", clip=[-1, 1], label=\"_\" * y + str(i), cumulative=False, common_grid=True, ax=ax[y])\n",
        "    ax[y].xaxis.label.set_text(str(year))\n",
        "\n",
        "f.legend()"
      ],
      "metadata": {
        "id": "BB-q_9atnxUG"
      },
      "execution_count": null,
      "outputs": []
    },
    {
      "cell_type": "markdown",
      "source": [
        "**Observations:**\n",
        "- `TODO:` Analyze effects that lead to a fuzzy distribution at the beginning of the sample, but largely overlapping distributions at the end."
      ],
      "metadata": {
        "id": "bTl8P23bpJHf"
      }
    },
    {
      "cell_type": "markdown",
      "source": [
        "### day vol"
      ],
      "metadata": {
        "id": "hLRExixQqaN3"
      }
    },
    {
      "cell_type": "code",
      "source": [
        "fig, ax = plt.subplots()\n",
        "\n",
        "for i in [-1,1]:\n",
        "  sns.kdeplot(data=data[data[\"buy_sell\"]==i], x=\"day_vol\", clip=[0, 500], label=str(i), cumulative=False)\n",
        "# clip=[-0.5, 0.5]\n",
        "# ax.title.set_text(\"Difference between $P_{t}$ and $P_{t}^{mid}$ with $x \\in(-0.5, 0.5)$ (quote rule)\")\n",
        "# ax.xaxis.label.set_text(\"$x = P_{t} - P_{t}^{mid}$\")\n",
        "ax.legend()\n",
        "#sns.move_legend(ax, \"lower center\", bbox_to_anchor=(0.5, -0.3))\n",
        "plt.show()"
      ],
      "metadata": {
        "id": "mE9ZWoqcqZAp"
      },
      "execution_count": null,
      "outputs": []
    },
    {
      "cell_type": "code",
      "source": [
        "years = [2005, 2006, 2014, 2016]\n",
        "f, ax = plt.subplots(nrows=1, ncols=len(years), figsize=(18, 4))\n",
        "\n",
        "f.suptitle(\"Distribution of buy and sells with regard to `day_vol`\")\n",
        "\n",
        "for y, year in enumerate(years):\n",
        "  for i in [-1,1]:\n",
        "    sns.kdeplot(data=data[(data[\"buy_sell\"]==i) & (data[\"year\"] == year)], x=\"day_vol\", clip=[0, 200], label=\"_\" * y + str(i), cumulative=False, common_grid=True, ax=ax[y])\n",
        "    ax[y].xaxis.label.set_text(str(year))\n",
        "\n",
        "f.legend()"
      ],
      "metadata": {
        "id": "BOADZlXkqgWZ"
      },
      "execution_count": null,
      "outputs": []
    },
    {
      "cell_type": "markdown",
      "source": [
        "### year"
      ],
      "metadata": {
        "id": "f-ht8RFdqi7-"
      }
    },
    {
      "cell_type": "code",
      "source": [
        "fig, ax = plt.subplots()\n",
        "\n",
        "for i in [-1,1]:\n",
        "  sns.kdeplot(data=data[data[\"buy_sell\"]==i], x=\"year\", label=str(i), cumulative=False)"
      ],
      "metadata": {
        "id": "zlepAf-uqkYO"
      },
      "execution_count": null,
      "outputs": []
    },
    {
      "cell_type": "code",
      "source": [],
      "metadata": {
        "id": "sktmJZf8qmU_"
      },
      "execution_count": null,
      "outputs": []
    },
    {
      "cell_type": "markdown",
      "source": [
        "### tick test"
      ],
      "metadata": {
        "id": "9B3xZM35nyy8"
      }
    },
    {
      "cell_type": "code",
      "source": [
        "fig, ax = plt.subplots()\n",
        "\n",
        "for i in [-1,1]:\n",
        "  sns.kdeplot(data=data[data[\"buy_sell\"]==i], x=\"chg_lead_ex\", clip=[-5, 5], label=str(i), cumulative=False, common_grid=True)\n",
        "\n",
        "ax.title.set_text(\"Density plot of change from $P_{t-1}$ to $P_{t}$ cropped at -5 and 5 (tick test)\")\n",
        "ax.xaxis.label.set_text(\"$x = P_{t} - P_{t-1}$\")\n",
        "ax.legend()\n",
        "sns.move_legend(ax, \"lower center\", bbox_to_anchor=(0.5, -0.3))\n",
        "plt.show()"
      ],
      "metadata": {
        "id": "P-Ybd8Zon0dk"
      },
      "execution_count": null,
      "outputs": []
    },
    {
      "cell_type": "code",
      "source": [
        "\n",
        "years = [2005, 2014, 2016, 2017]\n",
        "f, ax = plt.subplots(nrows=1, ncols=len(years), figsize=(18, 4))\n",
        "\n",
        "f.suptitle(\"Distribution of buy and sells with regard to `chg_lead_ex`\")\n",
        "\n",
        "for y, year in enumerate(years):\n",
        "  for i in [-1,1]:\n",
        "    sns.kdeplot(data=data[(data[\"buy_sell\"]==i) & (data[\"year\"] == year)], x=\"chg_lead_ex\", clip=[-2, 2], label=\"_\" * y + str(i), cumulative=False, common_grid=True, ax=ax[y])\n",
        "    ax[y].xaxis.label.set_text(str(year))\n",
        "\n",
        "f.legend()"
      ],
      "metadata": {
        "id": "WQaFo3pMn3UO"
      },
      "execution_count": null,
      "outputs": []
    },
    {
      "cell_type": "markdown",
      "source": [
        "### trade size"
      ],
      "metadata": {
        "id": "FS1qobQCrPPw"
      }
    },
    {
      "cell_type": "code",
      "source": [
        "fig, ax = plt.subplots()\n",
        "\n",
        "for i in [-1,1]:\n",
        "  sns.kdeplot(data=data[data[\"buy_sell\"]==i], x=\"TRADE_SIZE\", clip=[0, 40], label=str(i), cumulative=False)\n",
        "# clip=[-0.5, 0.5]\n",
        "ax.title.set_text(\"Distribution of buys and sells\")\n",
        "# ax.xaxis.label.set_text(\"$x = P_{t} - P_{t}^{mid}$\")\n",
        "ax.legend()\n",
        "#sns.move_legend(ax, \"lower center\", bbox_to_anchor=(0.5, -0.3))\n",
        "plt.show()"
      ],
      "metadata": {
        "id": "rWp0lwd3rRgA"
      },
      "execution_count": null,
      "outputs": []
    },
    {
      "cell_type": "code",
      "source": [
        "years = [2006, 2015, 2016]\n",
        "f, ax = plt.subplots(nrows=1, ncols=len(years), figsize=(18, 4))\n",
        "\n",
        "f.suptitle(\"Distribution of buy and sells with regard to `TRADE_SIZE`\")\n",
        "\n",
        "for y, year in enumerate(years):\n",
        "  for i in [-1,1]:\n",
        "    sns.kdeplot(data=data[(data[\"buy_sell\"]==i) & (data[\"year\"] == year)], x=\"TRADE_SIZE\", clip=[0, 40], label=\"_\" * y + str(i), cumulative=False, common_grid=True, ax=ax[y])\n",
        "    ax[y].xaxis.label.set_text(str(year))\n",
        "\n",
        "f.legend()"
      ],
      "metadata": {
        "id": "ErxeddperS6j"
      },
      "execution_count": null,
      "outputs": []
    },
    {
      "cell_type": "markdown",
      "source": [
        "### Reverse tick test"
      ],
      "metadata": {
        "id": "NitsvWNqn8qa"
      }
    },
    {
      "cell_type": "code",
      "source": [
        "fig, ax = plt.subplots()\n",
        "\n",
        "for i in [-1,1]:\n",
        "  sns.kdeplot(data=data[data[\"buy_sell\"]==i], x=\"chg_lag_ex\", clip=[-5, 5], label=str(i), cumulative=False, common_grid=True)\n",
        "\n",
        "ax.title.set_text(\"Density plot of change from $P_{t}$ to $P_{t+1}$ cropped at -5 and 5 (reverse tick test)\")\n",
        "ax.xaxis.label.set_text(\"$x = P_{t} - P_{t+1}$\")\n",
        "ax.legend()\n",
        "#sns.move_legend(ax, \"lower center\", bbox_to_anchor=(0.5, -0.3))\n",
        "plt.show()"
      ],
      "metadata": {
        "id": "7ZTIvSLmn7u1"
      },
      "execution_count": null,
      "outputs": []
    },
    {
      "cell_type": "code",
      "source": [],
      "metadata": {
        "id": "ih6r4FW5oCxA"
      },
      "execution_count": null,
      "outputs": []
    },
    {
      "cell_type": "code",
      "source": [
        "fig, ax = plt.subplots()\n",
        "\n",
        "for i in [-1,1]:\n",
        "  sns.kdeplot(data=data[data[\"buy_sell\"]==i], x=\"TRADE_SIZE\", clip=[0, 40], label=str(i), cumulative=False)\n",
        "# clip=[-0.5, 0.5]\n",
        "ax.title.set_text(\"Distribution of buys and sells\")\n",
        "# ax.xaxis.label.set_text(\"$x = P_{t} - P_{t}^{mid}$\")\n",
        "ax.legend()\n",
        "#sns.move_legend(ax, \"lower center\", bbox_to_anchor=(0.5, -0.3))\n",
        "plt.show()"
      ],
      "metadata": {
        "id": "aytrDQY1gIvy"
      },
      "execution_count": null,
      "outputs": []
    },
    {
      "cell_type": "markdown",
      "source": [
        "# Bid, Ask, and Spread 🛍️"
      ],
      "metadata": {
        "id": "8V9_eVXpLYvM"
      }
    },
    {
      "cell_type": "markdown",
      "source": [
        "## ($\\log$) bid ex ✔️"
      ],
      "metadata": {
        "id": "DWj2qz0q0SRz"
      }
    },
    {
      "cell_type": "code",
      "source": [
        "ax = sns.histplot(data, x=\"bid_ex\", bins=50)\n",
        "ax.title.set_text(\"Histogram of bid (exchange)\")"
      ],
      "metadata": {
        "id": "WR0RR2etQp3h"
      },
      "execution_count": null,
      "outputs": []
    },
    {
      "cell_type": "code",
      "source": [
        "fig, ax = plt.subplots()\n",
        "\n",
        "for i in [-1,1]:\n",
        "  sns.kdeplot(data=data[data[\"buy_sell\"]==i], x=\"bid_ex\", clip=[0, 10], label=str(i), cumulative=False)\n",
        "\n",
        "ax.title.set_text(\"Distribution of buys and sells\")"
      ],
      "metadata": {
        "id": "F_cVxQk1h7YB"
      },
      "execution_count": null,
      "outputs": []
    },
    {
      "cell_type": "code",
      "source": [
        "const = 1\n",
        "data['log_bid_ex'] = np.log(data[\"bid_ex\"]+const)\n",
        "ax = sns.histplot(data, x=\"log_bid_ex\", bins=50)\n",
        "ax.title.set_text(f\"Histogram of bid exchange (log) with const = {const}\")"
      ],
      "metadata": {
        "id": "S5dgiYqPQ0mc"
      },
      "execution_count": null,
      "outputs": []
    },
    {
      "cell_type": "code",
      "source": [
        "fig, ax = plt.subplots()\n",
        "\n",
        "for i in [-1,1]:\n",
        "  sns.kdeplot(data=data[data[\"buy_sell\"]==i], x=\"log_bid_ex\", clip=[0, 5], label=str(i), cumulative=False)\n",
        "ax.title.set_text(f\"Distribution of buys and sells after (log) with const = {const}\")"
      ],
      "metadata": {
        "id": "rsDJDWGWZbsZ"
      },
      "execution_count": null,
      "outputs": []
    },
    {
      "cell_type": "code",
      "source": [
        "const = 1e-2\n",
        "data['log_bid_ex'] = np.log(data[\"bid_ex\"]+const)\n",
        "ax = sns.histplot(data, x=\"log_bid_ex\", bins=50)\n",
        "ax.title.set_text(\"Histogram of bid exchange (log)\")"
      ],
      "metadata": {
        "id": "KHZ53wZ1hxjB"
      },
      "execution_count": null,
      "outputs": []
    },
    {
      "cell_type": "code",
      "source": [
        "fig, ax = plt.subplots()\n",
        "\n",
        "for i in [-1,1]:\n",
        "  sns.kdeplot(data=data[data[\"buy_sell\"]==i], x=\"log_bid_ex\", clip=[-5, 6], label=str(i), cumulative=False)\n",
        "\n",
        "ax.title.set_text(f\"Distribution of buys and sells after (log) with const = {const}\")"
      ],
      "metadata": {
        "id": "yBSJeovnZ7Ar"
      },
      "execution_count": null,
      "outputs": []
    },
    {
      "cell_type": "markdown",
      "source": [
        "**Observation:**\n",
        "- One can choose different constants, but small constants, e. g., `const=1e-2` gives fuzzy results. Better choose larger constant like `const=1`."
      ],
      "metadata": {
        "id": "yTVcSwxLMzuD"
      }
    },
    {
      "cell_type": "markdown",
      "source": [
        "## ($\\log$) ask ex ✔️"
      ],
      "metadata": {
        "id": "xxZYtT-UtpMK"
      }
    },
    {
      "cell_type": "code",
      "source": [
        "fig, ax = plt.subplots()\n",
        "\n",
        "for i in [-1,1]:\n",
        "  sns.kdeplot(data=data[data[\"buy_sell\"]==i], x=\"ask_ex\", clip=[0, 10], label=str(i), cumulative=False)\n",
        "\n",
        "ax.title.set_text(\"Distribution of buys and sells\")"
      ],
      "metadata": {
        "id": "AAa19IQ100Q5"
      },
      "execution_count": null,
      "outputs": []
    },
    {
      "cell_type": "code",
      "source": [
        "const = 1\n",
        "data['log_ask_ex'] = np.log(data[\"ask_ex\"]+const)\n",
        "ax = sns.histplot(data, x=\"log_bid_ex\", bins=50)\n",
        "ax.title.set_text(\"Histogram of bid exchange (log)\")"
      ],
      "metadata": {
        "id": "HbpZtnABtth0"
      },
      "execution_count": null,
      "outputs": []
    },
    {
      "cell_type": "code",
      "source": [
        "fig, ax = plt.subplots()\n",
        "\n",
        "for i in [-1,1]:\n",
        "  sns.kdeplot(data=data[data[\"buy_sell\"]==i], x=\"log_bid_ex\", clip=[0, 5], label=str(i), cumulative=False)\n",
        "ax.title.set_text(f\"Distribution of buys and sells after (log) with const = {const}\")"
      ],
      "metadata": {
        "id": "JG3XIxHutoNu"
      },
      "execution_count": null,
      "outputs": []
    },
    {
      "cell_type": "code",
      "source": [
        "const = 1e-2\n",
        "data['log_ask_ex'] = np.log(data[\"ask_ex\"]+const)\n",
        "ax = sns.histplot(data, x=\"log_bid_ex\", bins=50)\n",
        "ax.title.set_text(\"Histogram of bid exchange (log)\")"
      ],
      "metadata": {
        "id": "zCOFSiMruI6t"
      },
      "execution_count": null,
      "outputs": []
    },
    {
      "cell_type": "code",
      "source": [
        "fig, ax = plt.subplots()\n",
        "\n",
        "for i in [-1,1]:\n",
        "  sns.kdeplot(data=data[data[\"buy_sell\"]==i], x=\"log_ask_ex\", clip=[-5, 6], label=str(i), cumulative=False)\n",
        "ax.title.set_text(f\"Distribution of buys and sells after (log) with const = {const}\")"
      ],
      "metadata": {
        "id": "Kp43uxihuN95"
      },
      "execution_count": null,
      "outputs": []
    },
    {
      "cell_type": "code",
      "source": [
        "years = [2006, 2015, 2016]\n",
        "f, ax = plt.subplots(nrows=1, ncols=len(years), figsize=(18, 4))\n",
        "\n",
        "f.suptitle(\"Distribution of buy and sells with regard to `TRADE_SIZE`\")\n",
        "\n",
        "for y, year in enumerate(years):\n",
        "  for i in [-1,1]:\n",
        "    sns.kdeplot(data=data[(data[\"buy_sell\"]==i) & (data[\"year\"] == year)], x=\"TRADE_SIZE\", clip=[0, 40], label=\"_\" * y + str(i), cumulative=False, common_grid=True, ax=ax[y])\n",
        "    ax[y].xaxis.label.set_text(str(year))\n",
        "\n",
        "f.legend()"
      ],
      "metadata": {
        "id": "tq_vpgrUggYl"
      },
      "execution_count": null,
      "outputs": []
    },
    {
      "cell_type": "markdown",
      "source": [
        "### Date features ⏰"
      ],
      "metadata": {
        "id": "FMQUmSMyJhvu"
      }
    },
    {
      "cell_type": "code",
      "source": [
        "date_cols = data.columns[data.columns.str.startswith(\"date_\")].tolist()\n",
        "\n",
        "date_target_cols = [*date_cols, \"buy_sell\", \"day\",\"month\" , \"year\"]\n",
        "\n",
        "corr = data[date_target_cols].corr()\n",
        "sns.heatmap(corr, xticklabels=corr.columns.values, yticklabels=corr.columns.values)"
      ],
      "metadata": {
        "id": "bqpsshaKKGkk"
      },
      "execution_count": null,
      "outputs": []
    },
    {
      "cell_type": "code",
      "source": [
        "sort_criteria = corr[\"buy_sell\"].abs().sort_values(ascending=False)\n",
        "corr_target = corr.sort_values(\"buy_sell\", ascending=False)[\"buy_sell\"]\n",
        "corr_target.loc[sort_criteria.index].to_frame()"
      ],
      "metadata": {
        "id": "acUQZ26sJkA3"
      },
      "execution_count": null,
      "outputs": []
    },
    {
      "cell_type": "markdown",
      "source": [
        "**Observation:**\n",
        "* Correlation with date features is relatively high if compared with other classical features.\n",
        "* For day correlation is highest, if the day is not mapped to a unit circle. But $\\sin$ and $\\cos$ have a greater feature importance together."
      ],
      "metadata": {
        "id": "p_ZbWfiHJ3Xo"
      }
    },
    {
      "cell_type": "code",
      "source": [
        "kde_target_plot(\"day\")"
      ],
      "metadata": {
        "id": "66fd_LFzJsCR"
      },
      "execution_count": null,
      "outputs": []
    },
    {
      "cell_type": "code",
      "source": [
        "kde_target_plot(\"date_year_min\")"
      ],
      "metadata": {
        "id": "56ubrreXJx__"
      },
      "execution_count": null,
      "outputs": []
    },
    {
      "cell_type": "markdown",
      "source": [
        "**Observation:**\n",
        "* Judging from the plot there seems to be a seasonal pattern e. g., more buys \n",
        "at the beginning of the month and more sells towards the end of the month. \n",
        "* Due to the distributions it could make sense to include date features in some feature sets."
      ],
      "metadata": {
        "id": "Z2eZbCikKOpB"
      }
    },
    {
      "cell_type": "markdown",
      "source": [
        "**Observation:**\n",
        "- log on size seems to worsen results.\n",
        "- `TODO:` investigate further, what the reason is. e. g., some skewness, but outliers...."
      ],
      "metadata": {
        "id": "kVOMLthxh85H"
      }
    },
    {
      "cell_type": "code",
      "source": [
        "sns.kdeplot(data=data[data[\"buy_sell\"]==i], x=\"log_trade_size\", clip=[0, 6], label=str(i), cumulative=False)\n",
        "# clip=[-0.5, 0.5]\n",
        "ax.title.set_text(\"Distribution of buys and sells\")\n"
      ],
      "metadata": {
        "id": "3eSTU2gmh75O"
      },
      "execution_count": null,
      "outputs": []
    },
    {
      "cell_type": "code",
      "source": [],
      "metadata": {
        "id": "kGulHyZWgepd"
      },
      "execution_count": null,
      "outputs": []
    }
  ],
  "metadata": {
    "colab": {
      "name": "Untitled2.ipynb",
      "provenance": [],
      "toc_visible": true,
      "machine_shape": "hm",
      "include_colab_link": true
    },
    "gpuClass": "premium",
    "kernelspec": {
      "display_name": "Python 3.9.4 64-bit",
      "language": "python",
      "name": "python3"
    },
    "language_info": {
      "name": "python",
      "version": "3.9.4"
    },
    "vscode": {
      "interpreter": {
        "hash": "f8ea8b642289b706932f10b33ee389827410dbaef0ce2c5bf73615e8d3267d88"
      }
    }
  },
  "nbformat": 4,
  "nbformat_minor": 0
}