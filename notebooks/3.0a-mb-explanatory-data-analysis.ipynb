{
 "cells": [
  {
   "cell_type": "code",
   "execution_count": null,
   "metadata": {
    "id": "EMApm-vLnME4"
   },
   "outputs": [],
   "source": [
    "from __future__ import annotations\n",
    "\n",
    "import os\n",
    "import random\n",
    "import warnings\n",
    "\n",
    "import dateutil.relativedelta as relativedelta\n",
    "\n",
    "warnings.simplefilter(action=\"ignore\", category=FutureWarning)\n",
    "\n",
    "from typing import Any, List\n",
    "\n",
    "import matplotlib.pyplot as plt\n",
    "import numpy as np\n",
    "import pandas as pd\n",
    "import pandas_datareader.data as web\n",
    "import seaborn as sns\n",
    "from scipy import stats\n",
    "from scipy.cluster import hierarchy\n",
    "from sklearn.manifold import TSNE\n",
    "from sklearn.preprocessing import StandardScaler"
   ]
  },
  {
   "cell_type": "code",
   "execution_count": null,
   "metadata": {
    "id": "BRFyckmGEHXL"
   },
   "outputs": [],
   "source": [
    "# set N used in n-largest or smallest\n",
    "N = 10\n",
    "\n",
    "# set style\n",
    "plt.style.use(\"seaborn-notebook\")\n",
    "\n",
    "# set ratio of figure\n",
    "ratio = (16, 9)\n"
   ]
  },
  {
   "cell_type": "code",
   "execution_count": null,
   "metadata": {
    "id": "a-f2aByNtJTK"
   },
   "outputs": [],
   "source": [
    "# set fixed seed\n",
    "def seed_everything(seed) -> None:\n",
    "    \"\"\"\n",
    "    Seeds basic parameters for reproducibility of results.\n",
    "    \"\"\"\n",
    "    os.environ[\"PYTHONHASHSEED\"] = str(seed)\n",
    "    random.seed(seed)\n",
    "    # pandas and numpy as discussed here: https://stackoverflow.com/a/52375474/5755604\n",
    "    np.random.seed(seed)\n",
    "\n",
    "\n",
    "seed = 42\n",
    "seed_everything(seed)\n"
   ]
  },
  {
   "cell_type": "markdown",
   "metadata": {
    "id": "9MOW2bJSmY8x"
   },
   "source": [
    "This notebook performs an eda on the training set only to avoid data leakage. ⚠️"
   ]
  },
  {
   "cell_type": "code",
   "execution_count": null,
   "metadata": {
    "id": "EF0_Mz8DYjGz"
   },
   "outputs": [],
   "source": [
    "data = pd.read_parquet(\n",
    "    \"gs://thesis-bucket-option-trade-classification/data/preprocessed/train_set_extended_60.parquet\"\n",
    ").sample(frac=0.1, axis=0, random_state=seed)\n"
   ]
  },
  {
   "cell_type": "markdown",
   "metadata": {
    "id": "NDz5ZzVl_QGD"
   },
   "source": [
    "## Notes on data set 🗃️"
   ]
  },
  {
   "cell_type": "markdown",
   "metadata": {
    "id": "yAWnmnei39o5"
   },
   "source": [
    "**Overview on ticker symbols:**\n",
    "- `others` identified by issue type.\n",
    "- 5th letter has a special meaning as found in [this table](https://en.wikipedia.org/wiki/Ticker_symbol):\n",
    "\n",
    "| Letter                  | Letter contd.              | Letter contd.                                    |\n",
    "|--------------------------------|-------------------------------------|------------------------------------------------|\n",
    "| A – Class \"A\"                  | K – Nonvoting (common)              | U – Units                                      |\n",
    "| B – Class \"B\"                  | L – Miscellaneous                   | V – Pending issue and distribution             |\n",
    "| C – NextShares                 | M – fourth class – preferred shares | W – Warrants                                   |\n",
    "| D – New issue or reverse split | N – third class – preferred shares  | X – Mutual fund                                |\n",
    "| E – Delinquent SEC filings     | O – second class – preferred shares | Y – American depositary receipt (ADR)          |\n",
    "| F – Foreign                    | P – first class preferred shares    | Z – Miscellaneous situations                   |\n",
    "| G – first convertible bond     | Q – In bankruptcy                   | Special codes                                  |\n",
    "| H – second convertible bond    | R – Rights                          | PK – A Pink Sheet, indicating over-the-counter |\n",
    "| I – third convertible bond     | S – Shares of beneficial interest   | SC – Nasdaq Small Cap                          |\n",
    "| J – Voting share – special     | T – With warrants or rights         | NM – Nasdaq National Market                    |\n",
    "\n",
    "\n",
    "**Coverage:**\n",
    "\n",
    "*\tOptions on U.S. listed Stock, ETFs, and Indices disseminated over the Options Price Reporting Authority (OPRA) market data feed \n",
    "*\tGlobal Trading Hours (GTH) trades are included if between 03:00am-09:15am U.S. Eastern, and for the 16:15pm 17:00pm Curb session.  GTH trades outside of these time ranges will *not* be included. \n",
    "\n",
    "Found [here.](https://datashop.cboe.com/documents/Option_Trades_Layout.pdf)\n",
    "\n",
    "**Exchange Identifier:**\n",
    "\n",
    "- 5 = Chicago Board Options Exchange (CBOE)\n",
    "- 6 = International Securities Exchange (ISE)\n",
    "\n",
    "Found [here.](https://datashop.cboe.com/documents/livevol_exchange_ids.csv)\n",
    "\n",
    "\n",
    "**Issue Types:**\n",
    "\n",
    "Issue Type = the type of security: \n",
    "- 0 = Common Stock \n",
    "- A = Market index \n",
    "- 7 = Mutual or investment trust fund \n",
    "- F = ADR/ADS \n",
    "- % = Exchange-traded fund \n",
    "- (blank) = Unspecified\n",
    "\n",
    "Received from supervisor."
   ]
  },
  {
   "cell_type": "markdown",
   "metadata": {
    "id": "amt068Np3EFV"
   },
   "source": [
    "Adapted from the cboe data shop found at [option trades](https://datashop.cboe.com/documents/Option_Trades_Layout.pdf) and [option quotes](https://datashop.cboe.com/documents/Option_Quotes_Layout.pdf).\n",
    "\n",
    "|     Column Label                                                          |     Data   Type     |     Description                                                                                                                                                                                                         |\n",
    "|---------------------------------------------------------------------------|---------------------|-------------------------------------------------------------------------------------------------------------------------------------------------------------------------------------------------------------------------|\n",
    "|     underlying_symbol                                                     |     string          |     The underlying stock or index.  An index will utilize a caret (^) prefix,   i.e. ^NDX,^SPX,^VIX…etc.  Underlyings   with classes may utilize a dot (.) instead of a slash or space, i.e. BRK.B,   RDS.A, RDS.B.     |\n",
    "|     quote_datetime                                                        |     datetime        |     The trading date and timestamp of the trade in   U.S. Eastern time. Ex:  yyyymm-dd   hh:mm:ss.000                                                                                                                   |\n",
    "|     sequence_number                                                       |     integer         |     Trade Sequence Number for the execution reported   by OPRA                                                                                                                                                          |\n",
    "|     root                                                                  |     string          |     The option trading class symbol.  Non-standard roots may end with a digit                                                                                                                                           |\n",
    "|     expiration                                                            |     date            |     The explicit expiration date of the option:   yyyy-mm-dd                                                                                                                                                            |\n",
    "|     strike                                                                |     numeric         |     The exercise/strike price of the option                                                                                                                                                                             |\n",
    "|     option_type                                                           |     string          |     C for Call options, P for Put options                                                                                                                                                                               |\n",
    "|     exchange_id                                                           |     integer         |     An identifier for the options exchange the trade   was executed on.  For a mapping, please   see Exchange ID   Mappings                                                                                             |\n",
    "|     trade_size                                                            |     integer         |     The trade quantity                                                                                                                                                                                                  |\n",
    "|     trade_price                                                           |     numeric         |     The trade price                                                                                                                                                                                                     |\n",
    "|     trade_condition_id                                                    |     integer         |     The trade or sale condition of the execution.  For a mapping, please see Trade   Condition ID Mapping                                                                                                               |\n",
    "|     canceled_trade_condition_id                                           |     integer         |     This field is no longer supported and will default   to 0 (zero).  See IDs 40-43 in the   Trade Condition ID Mapping file above                                                                                     |\n",
    "|     best_bid                                                              |     numeric         |     The best bid price (NBB) at the time of the trade                                                                                                                                                                   |\n",
    "|     best_ask                                                              |     numeric         |     The best ask/offer price (NBO) at the time of the   trade                                                                                                                                                           |\n",
    "|     bid_size              |     integer         |     The largest size from an options exchange   participant on the best bid price (NBB)                                                                                                                                   |\n",
    "|     bid                   |     numeric         |     The best bid price (NBB) at the interval time   stamp                                                                                                                                                                 |\n",
    "|     ask_size              |     integer         |     The largest size from an options exchange   participant on the best offer price (NBO)                                                                                                                                 |\n",
    "|     ask                   |     numeric         |     The best offer price (NBO) at the interval time   stamp                                                                                                                                                               |"
   ]
  },
  {
   "cell_type": "markdown",
   "metadata": {
    "id": "iQ4euCPwEjW0"
   },
   "source": [
    "## Dtypes, distributions, and memory consumption 🔭"
   ]
  },
  {
   "cell_type": "code",
   "execution_count": null,
   "metadata": {
    "colab": {
     "base_uri": "https://localhost:8080/",
     "height": 236
    },
    "id": "RO2KMtPiTACz",
    "outputId": "f2d1f1a8-0731-4e65-95f7-62f006641f41"
   },
   "outputs": [],
   "source": [
    "data.head()\n"
   ]
  },
  {
   "cell_type": "code",
   "execution_count": null,
   "metadata": {
    "colab": {
     "base_uri": "https://localhost:8080/",
     "height": 300
    },
    "id": "aqk_p5ocEjDU",
    "outputId": "8b78aa0f-cb00-4d7a-bcb3-a3aa3c1716f6"
   },
   "outputs": [],
   "source": [
    "data.describe()\n"
   ]
  },
  {
   "cell_type": "code",
   "execution_count": null,
   "metadata": {
    "colab": {
     "base_uri": "https://localhost:8080/"
    },
    "id": "hfQwaYDo6Zqj",
    "outputId": "3095bf4b-1098-40f0-da5f-f0a7e210a7c1"
   },
   "outputs": [],
   "source": [
    "data.info()\n"
   ]
  },
  {
   "cell_type": "code",
   "execution_count": null,
   "metadata": {
    "colab": {
     "base_uri": "https://localhost:8080/"
    },
    "id": "AQALJAsMTElF",
    "outputId": "5d3b9d82-83ad-4b74-f9ab-71e211bba302"
   },
   "outputs": [],
   "source": [
    "print(data.shape)\n"
   ]
  },
  {
   "cell_type": "code",
   "execution_count": null,
   "metadata": {
    "colab": {
     "base_uri": "https://localhost:8080/"
    },
    "id": "_vilf7lRTL9D",
    "outputId": "40456f7d-8378-4943-b2b7-bc6c2e28083f"
   },
   "outputs": [],
   "source": [
    "print(data.shape)\n",
    "# drop identical rows, if present\n",
    "data.drop_duplicates(inplace=True)\n",
    "print(data.shape)\n"
   ]
  },
  {
   "cell_type": "markdown",
   "metadata": {
    "id": "wyqaDfoVwhGc"
   },
   "source": [
    "**Observation:**\n",
    "- Shape matches the shape reported in table 1 (panel A) of Grauer et al. paper.\n",
    "- No duplicates"
   ]
  },
  {
   "cell_type": "code",
   "execution_count": null,
   "metadata": {
    "colab": {
     "base_uri": "https://localhost:8080/"
    },
    "id": "6iDCXTOo63QM",
    "outputId": "fdd237ec-d488-453c-9641-cd1703dd4c27"
   },
   "outputs": [],
   "source": [
    "data.nunique()\n"
   ]
  },
  {
   "cell_type": "code",
   "execution_count": null,
   "metadata": {
    "colab": {
     "base_uri": "https://localhost:8080/",
     "height": 739
    },
    "id": "l0aNIyjVhU_l",
    "outputId": "26c485d7-e8c5-4c48-f211-2dd6e8cf279d"
   },
   "outputs": [],
   "source": [
    "data.head().T\n"
   ]
  },
  {
   "cell_type": "markdown",
   "metadata": {
    "id": "JvmC00M4ggXa"
   },
   "source": [
    "## Basic features🧸"
   ]
  },
  {
   "cell_type": "markdown",
   "metadata": {
    "id": "_mwfnC3c11S3"
   },
   "source": [
    "Analysis of numerical features without any feature engineering."
   ]
  },
  {
   "cell_type": "markdown",
   "metadata": {
    "id": "apYQeTxc_A85"
   },
   "source": [
    "### Correlations 🎲"
   ]
  },
  {
   "cell_type": "code",
   "execution_count": null,
   "metadata": {
    "colab": {
     "base_uri": "https://localhost:8080/",
     "height": 430
    },
    "id": "xnCgvNWigo4v",
    "outputId": "577879b8-4b4b-48cb-c894-14abb39cbdca"
   },
   "outputs": [],
   "source": [
    "corr: pd.DataFrame = data.corr()\n",
    "sns.heatmap(corr, xticklabels=corr.columns.values, yticklabels=corr.columns.values)  # type: ignore\n"
   ]
  },
  {
   "cell_type": "markdown",
   "metadata": {
    "id": "zCx-OV5A1nbW"
   },
   "source": [
    "**Observation:**\n",
    "* There are many highly correlated columns. The correlations are intuitive e. g., between `price_all_lead` and `price_ex_lead`.\n",
    "* Few columns show a weak correlation with target (see also below)."
   ]
  },
  {
   "cell_type": "code",
   "execution_count": null,
   "metadata": {
    "colab": {
     "base_uri": "https://localhost:8080/",
     "height": 1000
    },
    "id": "GfS9_g8lLwCk",
    "outputId": "069d5158-9b9e-47d8-82d2-ad804883fe32"
   },
   "outputs": [],
   "source": [
    "sample = data.sample(n=1000, random_state=seed)\n",
    "sns.pairplot(\n",
    "    sample,\n",
    "    vars=[\n",
    "        \"STRK_PRC\",\n",
    "        \"TRADE_SIZE\",\n",
    "        \"TRADE_PRICE\",\n",
    "        \"BEST_BID\",\n",
    "        \"BEST_ASK\",\n",
    "        \"ask_ex\",\n",
    "        \"bid_ex\",\n",
    "        \"ask_size_ex\",\n",
    "        \"bid_size_ex\",\n",
    "        \"price_all_lag\",\n",
    "        \"price_all_lead\",\n",
    "        \"day_vol\",\n",
    "    ],\n",
    ")\n"
   ]
  },
  {
   "cell_type": "markdown",
   "metadata": {
    "id": "dhBUygocshi6"
   },
   "source": [
    "### Correlation with target 🎲"
   ]
  },
  {
   "cell_type": "code",
   "execution_count": null,
   "metadata": {
    "colab": {
     "base_uri": "https://localhost:8080/",
     "height": 582
    },
    "id": "qeid5BACbK4h",
    "outputId": "ec4ddbd4-e684-43ce-af4a-ed47242e5409"
   },
   "outputs": [],
   "source": [
    "sort_criteria = corr[\"buy_sell\"].abs().sort_values(ascending=False)\n",
    "corr_target = corr.sort_values(\"buy_sell\", ascending=False)[\"buy_sell\"]\n",
    "corr_target.loc[sort_criteria.index].to_frame()\n"
   ]
  },
  {
   "cell_type": "markdown",
   "metadata": {
    "id": "-0DAc8QweT3x"
   },
   "source": [
    "**Observation:**\n",
    "* Overall correlations are relatively low. Typical for financial data due to low signal-to-noise ratio.\n",
    "* Size-related features like `ask_size_ex` or `bid_size_ex` have the highest correlation with the target. Thus, can be promising to be included in the model. Consider size features when constructing feature sets.\n",
    "* Features like `optionid`, `order_id`, and `SEQUENCE_NUMBER` are also among the features with the highest correlations. Remove them, as the correlation is misleading."
   ]
  },
  {
   "cell_type": "code",
   "execution_count": null,
   "metadata": {
    "id": "UGdvq8OImPBy"
   },
   "outputs": [],
   "source": [
    "# remove some columns, which will NOT be used in model\n",
    "data.drop(columns=[\"optionid\"], inplace=True)\n"
   ]
  },
  {
   "cell_type": "markdown",
   "metadata": {
    "id": "jh83FQtksq0p"
   },
   "source": [
    "### Collinearity of features 🎲"
   ]
  },
  {
   "cell_type": "code",
   "execution_count": null,
   "metadata": {
    "colab": {
     "base_uri": "https://localhost:8080/"
    },
    "id": "ZXMC40PcnsR1",
    "outputId": "e3e6475e-7392-4b6f-d9a4-041225178134"
   },
   "outputs": [],
   "source": [
    "# adapted from here: https://www.kaggle.com/code/willkoehrsen/featuretools-for-good\n",
    "threshold = 0.975\n",
    "# Select upper triangle of correlation matrix\n",
    "upper = corr.where(np.triu(np.ones(corr.shape), k=1).astype(bool))\n",
    "\n",
    "# Find index of feature columns with correlation greater than 0.975\n",
    "to_drop = [column for column in upper.columns if any(abs(upper[column]) > threshold)]\n",
    "\n",
    "print(to_drop)\n"
   ]
  },
  {
   "cell_type": "markdown",
   "metadata": {
    "id": "cCy-QCa7whGl"
   },
   "source": [
    "**Observation:**\n",
    "- Columns suggested for removal are intuitive\n",
    "- Do not blindly remove columns, but preserve a pattern or groups"
   ]
  },
  {
   "cell_type": "code",
   "execution_count": null,
   "metadata": {
    "id": "HJ1kEvpmpPho"
   },
   "outputs": [],
   "source": [
    "# Set the threshold\n",
    "threshold = 0.975\n",
    "\n",
    "# Empty dictionary to hold correlated variables\n",
    "above_threshold_vars = {}\n",
    "\n",
    "# For each column, record the variables that are above the threshold\n",
    "for col in corr:\n",
    "    above_threshold_vars[col] = list(corr.index[corr[col] > threshold])\n"
   ]
  },
  {
   "cell_type": "code",
   "execution_count": null,
   "metadata": {
    "colab": {
     "base_uri": "https://localhost:8080/"
    },
    "id": "l151G9vXqPQI",
    "outputId": "f6ed1077-2bb0-4c97-c07a-00d927f2d7df"
   },
   "outputs": [],
   "source": [
    "pd.Series(above_threshold_vars)\n"
   ]
  },
  {
   "cell_type": "markdown",
   "metadata": {
    "id": "tL1pblZKriNJ"
   },
   "source": [
    "**Observations:**\n",
    "* Some columns are highly correlated. This is very intuitive.\n",
    "* It seems problematic to include both `BEST_BID` and `bid_ex`. This is also true for `BEST_ASK` and `ask_ex`. `price_all_lead` and `price_all_lag` seem to be less problematic.\n",
    "* Define feature sets so that the number of highly correlated variables is minimized. But maintain groups so that a comparsion with classical rules is still possible."
   ]
  },
  {
   "cell_type": "markdown",
   "metadata": {
    "id": "NCtxwwaFY9HS"
   },
   "source": [
    "## $t$-SNE\n",
    "\n",
    "Project data down using [t-SNE](https://lvdmaaten.github.io/tsne/). Also look at [umap algorithm](https://github.com/lmcinnes/umap), which is a similar effort. \n",
    "\n",
    "This [post](https://distill.pub/2016/misread-tsne/) gives some intuition on the parameters."
   ]
  },
  {
   "cell_type": "code",
   "execution_count": null,
   "metadata": {
    "colab": {
     "base_uri": "https://localhost:8080/",
     "height": 236
    },
    "id": "A7NuFKhNijdn",
    "outputId": "961ce721-3552-4f58-8cd2-285b61298486"
   },
   "outputs": [],
   "source": [
    "data.head()\n"
   ]
  },
  {
   "cell_type": "code",
   "execution_count": null,
   "metadata": {
    "id": "jQxIPgGun_Ih"
   },
   "outputs": [],
   "source": [
    "sample = data.select_dtypes(include=np.number).fillna(0).drop(columns=[\"buy_sell\"])\n"
   ]
  },
  {
   "cell_type": "code",
   "execution_count": null,
   "metadata": {
    "id": "1Qm5AT8YY9HS"
   },
   "outputs": [],
   "source": [
    "tsne = TSNE(\n",
    "    n_components=2,\n",
    "    init=\"random\",\n",
    "    random_state=0,\n",
    "    perplexity=30,\n",
    "    learning_rate=\"auto\",\n",
    "    n_iter=300,\n",
    ")\n",
    "Y = tsne.fit_transform(sample)\n"
   ]
  },
  {
   "cell_type": "code",
   "execution_count": null,
   "metadata": {
    "id": "vdqORozgk0GZ"
   },
   "outputs": [],
   "source": [
    "dims = pd.DataFrame(Y, columns=[\"x\", \"y\"], index=data.index)\n",
    "dims[\"class\"] = data[\"buy_sell\"]\n"
   ]
  },
  {
   "cell_type": "code",
   "execution_count": null,
   "metadata": {
    "id": "lCROet2zpKoN"
   },
   "outputs": [],
   "source": [
    "dims[\"class\"] = data.buy_sell\n"
   ]
  },
  {
   "cell_type": "code",
   "execution_count": null,
   "metadata": {
    "colab": {
     "base_uri": "https://localhost:8080/",
     "height": 557
    },
    "id": "bv80agonloiS",
    "outputId": "d1c49f02-3f00-4440-927e-457671043067"
   },
   "outputs": [],
   "source": [
    "fig, ax = plt.subplots(1, figsize=ratio)\n",
    "scatter = plt.scatter(dims[\"x\"], dims[\"y\"], c=dims[\"class\"], cmap=plt.cm.rainbow)\n",
    "plt.setp(ax, xticks=[], yticks=[])\n",
    "plt.title(\"t-SNE of dataset\")\n",
    "plt.legend(handles=scatter.legend_elements()[0], labels=[\"-1\", \"1\"])\n"
   ]
  },
  {
   "cell_type": "code",
   "execution_count": null,
   "metadata": {
    "id": "4G3EmKH9tfir"
   },
   "outputs": [],
   "source": [
    "del sample\n",
    "del dims\n"
   ]
  },
  {
   "cell_type": "markdown",
   "metadata": {
    "id": "knWT_eurs_yl"
   },
   "source": [
    "Unfortunately, **no** clear pattern visible."
   ]
  },
  {
   "cell_type": "markdown",
   "metadata": {
    "id": "KBSJWMKGhFlP"
   },
   "source": [
    "## Preparation 🥗"
   ]
  },
  {
   "cell_type": "markdown",
   "metadata": {
    "id": "P3up1N46inpz"
   },
   "source": [
    "### Time features ⏰"
   ]
  },
  {
   "cell_type": "code",
   "execution_count": null,
   "metadata": {
    "id": "XACNa17ehnr_"
   },
   "outputs": [],
   "source": [
    "# apply positional encoding to dates\n",
    "data[\"date_month_sin\"] = np.sin(2 * np.pi * data[\"QUOTE_DATETIME\"].dt.month / 12)\n",
    "data[\"date_month_cos\"] = np.cos(2 * np.pi * data[\"QUOTE_DATETIME\"].dt.month / 12)\n",
    "\n",
    "days_in_month = 31  # at max :-)\n",
    "data[\"date_day_sin\"] = np.sin(2 * np.pi * data[\"QUOTE_DATETIME\"].dt.day / days_in_month)\n",
    "data[\"date_day_cos\"] = np.cos(2 * np.pi * data[\"QUOTE_DATETIME\"].dt.day / days_in_month)\n",
    "\n",
    "# time (daily)\n",
    "seconds_in_day = 24 * 60 * 60\n",
    "seconds = (\n",
    "    data[\"QUOTE_DATETIME\"] - data[\"QUOTE_DATETIME\"].dt.normalize()\n",
    ").dt.total_seconds()\n",
    "\n",
    "data[\"date_time_sin\"] = np.sin(2 * np.pi * seconds / seconds_in_day)\n",
    "data[\"date_time_cos\"] = np.cos(2 * np.pi * seconds / seconds_in_day)\n",
    "\n",
    "# weekday\n",
    "days_in_week = 7\n",
    "data[\"date_weekday_sin\"] = np.sin(\n",
    "    2 * np.pi * data[\"QUOTE_DATETIME\"].dt.dayofweek / days_in_week\n",
    ")\n",
    "data[\"date_weekday_cos\"] = np.cos(\n",
    "    2 * np.pi * data[\"QUOTE_DATETIME\"].dt.dayofweek / days_in_week\n",
    ")\n",
    "\n",
    "# time to maturity\n",
    "data[\"ttm\"] = (\n",
    "    data[\"EXPIRATION\"].dt.to_period(\"M\") - data[\"QUOTE_DATETIME\"].dt.to_period(\"M\")\n",
    ").apply(lambda x: x.n)\n",
    "\n",
    "# day, month and year\n",
    "data[\"day\"] = data[\"QUOTE_DATETIME\"].dt.day\n",
    "data[\"month\"] = data[\"QUOTE_DATETIME\"].dt.month\n",
    "data[\"year\"] = data[\"QUOTE_DATETIME\"].dt.year\n",
    "data[\"date\"] = data[\"QUOTE_DATETIME\"].dt.date\n"
   ]
  },
  {
   "cell_type": "markdown",
   "metadata": {
    "id": "GGWJjuPciwh7"
   },
   "source": [
    "### Binned features 🥫"
   ]
  },
  {
   "cell_type": "markdown",
   "metadata": {
    "id": "W6vEtB7T-KNy"
   },
   "source": [
    "Bin features similarily to how they are used in the robustness tests."
   ]
  },
  {
   "cell_type": "code",
   "execution_count": null,
   "metadata": {
    "id": "5HML91_Bit9A"
   },
   "outputs": [],
   "source": [
    "bins_tradesize = [0, 1, 3, 5, 11, np.inf]\n",
    "trade_size_labels = [\"(0,1]\", \"(1,3]\", \"(3,5]\", \"(5,11]\", \">11\"]\n",
    "data[\"TRADE_SIZE_binned\"] = pd.cut(\n",
    "    data[\"TRADE_SIZE\"], bins_tradesize, labels=trade_size_labels\n",
    ")\n",
    "\n",
    "bins_years = [2004, 2007, 2010, 2011, 2012, 2013, 2014, 2015, 2016, 2017]\n",
    "year_labels = [\n",
    "    \"2005-2007\",\n",
    "    \"2008-2010\",\n",
    "    \"2011\",\n",
    "    \"2012\",\n",
    "    \"2013\",\n",
    "    \"2014\",\n",
    "    \"2015\",\n",
    "    \"2016\",\n",
    "    \"2017\",\n",
    "]\n",
    "data[\"year_binned\"] = pd.cut(data[\"year\"], bins_years, labels=year_labels)\n",
    "\n",
    "bins_ttm = [-1, 1, 2, 3, 6, 12, np.inf]\n",
    "ttm_labels = [\n",
    "    \"ttm <= 1 month\",\n",
    "    \"ttm (1-2] month\",\n",
    "    \"ttm (2-3] month\",\n",
    "    \"ttm (3-6] month\",\n",
    "    \"ttm (6-12] month\",\n",
    "    \"ttm > 12 month\",\n",
    "]\n",
    "data[\"ttm_binned\"] = pd.cut(data[\"ttm\"], bins_ttm, labels=ttm_labels)\n"
   ]
  },
  {
   "cell_type": "markdown",
   "metadata": {
    "id": "fNul91d8XCzv"
   },
   "source": [
    "### Trade features 💴\n",
    "Construct features that are used in classical rules."
   ]
  },
  {
   "cell_type": "code",
   "execution_count": null,
   "metadata": {
    "id": "B4CnoIjyWDo1"
   },
   "outputs": [],
   "source": [
    "# Calculate change similar to (reverse) tick rule\n",
    "data[\"chg_ex_lead\"] = data[\"TRADE_PRICE\"] - data[\"price_ex_lead\"]\n",
    "data[\"chg_ex_lag\"] = data[\"TRADE_PRICE\"] - data[\"price_ex_lag\"]\n",
    "data[\"chg_all_lead\"] = data[\"TRADE_PRICE\"] - data[\"price_all_lead\"]\n",
    "data[\"chg_all_lag\"] = data[\"TRADE_PRICE\"] - data[\"price_all_lag\"]\n",
    "\n",
    "# Midspread\n",
    "mid_ex = 0.5 * (data[\"ask_ex\"] + data[\"bid_ex\"])\n",
    "mid_best = 0.5 * (data[\"BEST_ASK\"] + data[\"BEST_BID\"])\n",
    "data[\"mid_ex\"] = mid_ex\n",
    "data[\"mid_best\"] = mid_best\n",
    "\n",
    "# spread (abs)\n",
    "spread_ex = data[\"ask_ex\"] - data[\"bid_ex\"]\n",
    "spread_best = data[\"BEST_ASK\"] - data[\"BEST_BID\"]\n",
    "\n",
    "# depth rule (usually only applied to mid spread transactions)\n",
    "data[\"bid_ask_size_ratio_ex\"] = data[\"bid_size_ex\"] / data[\"ask_size_ex\"]\n",
    "\n",
    "# Degree how much trade size is filled -> similar to trade size rule\n",
    "# Trade size rule would just classify if\n",
    "data[\"rel_bid_size_ex\"] = data[\"TRADE_SIZE\"] / data[\"bid_size_ex\"]\n",
    "data[\"rel_ask_size_ex\"] = data[\"TRADE_SIZE\"] / data[\"ask_size_ex\"]\n",
    "\n",
    "# EMO / CLNV / quote rule\n",
    "data[\"prox_ex\"] = (data[\"TRADE_PRICE\"] - mid_ex) / (0.5 * spread_ex)\n",
    "data[\"prox_best\"] = (data[\"TRADE_PRICE\"] - mid_best) / (0.5 * spread_best)\n",
    "\n",
    "# custom\n",
    "data[\"price_rel_nbo\"] = (data[\"TRADE_PRICE\"] - data[\"BEST_ASK\"]) / (\n",
    "    data[\"BEST_ASK\"] - mid_best\n",
    ")\n",
    "data[\"price_rel_nbb\"] = (data[\"TRADE_PRICE\"] - data[\"BEST_BID\"]) / (\n",
    "    mid_best - data[\"BEST_BID\"]\n",
    ")\n",
    "data[\"bid_ask_ratio_ex\"] = data[\"bid_ex\"] / data[\"ask_ex\"]\n",
    "data[\"depth_ex\"] = data[\"bid_size_ex\"] - data[\"ask_size_ex\"]\n",
    "\n",
    "data[\"abs_mid_ex\"] = data[\"TRADE_PRICE\"] - mid_ex\n",
    "data[\"abs_mid_BEST\"] = data[\"TRADE_PRICE\"] - mid_best\n",
    "\n",
    "data[\"spread_ex\"] = spread_ex\n",
    "data[\"spread_best\"] = spread_best\n"
   ]
  },
  {
   "cell_type": "markdown",
   "metadata": {
    "id": "M6gxVMmgNwQs"
   },
   "source": [
    "### Underlying features 🫀"
   ]
  },
  {
   "cell_type": "code",
   "execution_count": null,
   "metadata": {
    "id": "PaBwUMFzNsnu"
   },
   "outputs": [],
   "source": [
    "data[\"symbol_is_index\"] = data[\"ROOT\"].str.startswith(\"^\").astype(int)\n"
   ]
  },
  {
   "cell_type": "code",
   "execution_count": null,
   "metadata": {
    "colab": {
     "base_uri": "https://localhost:8080/",
     "height": 236
    },
    "id": "dWCeS44oY9Hj",
    "outputId": "38f6ccc8-9606-40b2-cfda-40bab25d4152"
   },
   "outputs": [],
   "source": [
    "data.head()\n"
   ]
  },
  {
   "cell_type": "markdown",
   "metadata": {
    "id": "A0KFTHrDK5Uo"
   },
   "source": [
    "### Categorical features 🎰"
   ]
  },
  {
   "cell_type": "markdown",
   "metadata": {
    "id": "l4ZbZXdlKbRT"
   },
   "source": [
    "### Visualization helper 🐜"
   ]
  },
  {
   "cell_type": "code",
   "execution_count": null,
   "metadata": {
    "id": "_jLvcBEyKfDi"
   },
   "outputs": [],
   "source": [
    "def plot_kde_target(var_name: str, clip: List[float] | None = None):\n",
    "    \"\"\"\n",
    "    Plot kde plots for buys (+1) and sells (-1) with regard to the feature 'var_name'.\n",
    "\n",
    "    Args:\n",
    "        var_name (str): name of feature\n",
    "        clip (List[float] | None, optional): clipping range. Defaults to None.\n",
    "    \"\"\"\n",
    "    corr_var = data[\"buy_sell\"].corr(data[var_name])\n",
    "\n",
    "    median_sell = data[data[\"buy_sell\"] == -1][var_name].median()\n",
    "    median_buy = data[data[\"buy_sell\"] == 1][var_name].median()\n",
    "\n",
    "    _, ax = plt.subplots()\n",
    "    for i in [-1, 1]:\n",
    "        sns.kdeplot(\n",
    "            data=data[data[\"buy_sell\"] == i],\n",
    "            x=var_name,\n",
    "            clip=clip,\n",
    "            label=str(i),\n",
    "            cumulative=False,\n",
    "            common_grid=True,\n",
    "        )\n",
    "    ax.title.set_text(f\"Distribution of '{var_name}'\")\n",
    "    ax.legend()\n",
    "    sns.move_legend(ax, \"lower center\", bbox_to_anchor=(0.5, -0.3))\n",
    "    plt.show()\n",
    "    print(\n",
    "        f\"The correlation between '{var_name}' and the 'buy_sell' is {corr_var: 0.4f}\"\n",
    "    )\n",
    "    print(f\"Median value of sells = {median_sell: 0.4f}\")\n",
    "    print(f\"Median value of buys = {median_buy: 0.4f}\")\n"
   ]
  },
  {
   "cell_type": "code",
   "execution_count": null,
   "metadata": {
    "id": "kmkh8Ze7Xys_"
   },
   "outputs": [],
   "source": [
    "def plot_kde_target_comparsion(\n",
    "    var_name: str,\n",
    "    clip: float | None = None,\n",
    "    years: List[int] = [2006, 2010, 2013],\n",
    ") -> None:\n",
    "    \"\"\"\n",
    "    Plot several kde plots side by side for the feature.\n",
    "\n",
    "    Args:\n",
    "        var_name (str): name of the feature\n",
    "        clip (float | None, optional): clipping range. Defaults to None.\n",
    "        years (List[int], optional): years to compare. Defaults to [2006, 2010, 2013].\n",
    "    \"\"\"\n",
    "    fig, ax = plt.subplots(nrows=1, ncols=len(years), figsize=(18, 4))\n",
    "\n",
    "    fig.suptitle(f\"Distribution of `{var_name}`\")\n",
    "\n",
    "    for y, year in enumerate(years):\n",
    "        for i in [-1, 1]:\n",
    "            sns.kdeplot(\n",
    "                data=data[(data[\"buy_sell\"] == i) & (data[\"year\"] == year)],\n",
    "                x=var_name,\n",
    "                clip=clip,\n",
    "                # supress any other but first label using '_'\n",
    "                # see https://stackoverflow.com/a/44633022/5755604\n",
    "                label=\"_\" * y + str(i),\n",
    "                cumulative=False,\n",
    "                common_grid=True,\n",
    "                ax=ax[y],\n",
    "            )\n",
    "            ax[y].xaxis.label.set_text(str(year))\n",
    "\n",
    "    fig.legend()\n"
   ]
  },
  {
   "cell_type": "code",
   "execution_count": null,
   "metadata": {
    "id": "k9QXRQrxOCJ3"
   },
   "outputs": [],
   "source": [
    "us_rec = web.DataReader(\"USREC\", \"fred\", data[\"date\"].min(), data[\"date\"].max())\n",
    "\n",
    "\n",
    "def plot_recessions() -> None:\n",
    "    \"\"\"\n",
    "    Add recession indicator to plot and entry to legend.\n",
    "    \"\"\"\n",
    "    l = 0\n",
    "    month = relativedelta.relativedelta(months=+1)\n",
    "    for date, val in us_rec[\"USREC\"].items():\n",
    "        if val == 1:\n",
    "            # if boolean = 1 -> print bar until next month\n",
    "            # '_' labels are ignored in legend https://stackoverflow.com/a/44633022/5755604\n",
    "            plt.axvspan(\n",
    "                date,\n",
    "                date + month,\n",
    "                edgecolor=\"none\",\n",
    "                alpha=0.25,\n",
    "                label=\"_\" * l + \"recession\",\n",
    "            )\n",
    "            l += 1\n"
   ]
  },
  {
   "cell_type": "code",
   "execution_count": null,
   "metadata": {
    "id": "HHFM5-flQo-9"
   },
   "outputs": [],
   "source": [
    "def plot_time_series(\n",
    "    feature: str | List[str], aggregation: str | List[Any] = \"count\"\n",
    ") -> pd.DataFrame:\n",
    "    \"\"\"\n",
    "    Plot feature over time. Aggregate using 'aggregation'.\n",
    "\n",
    "    Args:\n",
    "        feature (str | List[str]): features to plot.\n",
    "        aggregation (str | List[Any], optional): aggregation operation. Defaults to \"count\".\n",
    "\n",
    "    Returns:\n",
    "        pd.DataFrame: time series\n",
    "    \"\"\"\n",
    "    if isinstance(feature, str):\n",
    "        feature = [feature]\n",
    "    if isinstance(aggregation, str):\n",
    "        aggregation = [aggregation]\n",
    "\n",
    "    time_series = data[feature].groupby(data[\"date\"]).agg(aggregation)\n",
    "    time_series.columns = time_series.columns.to_flat_index()\n",
    "\n",
    "    ax = sns.lineplot(data=time_series)\n",
    "    ax.yaxis.label.set_text(\" / \".join(aggregation))\n",
    "    ax.title.set_text(f\"'{' / '.join(feature)}' over time\")\n",
    "    plot_recessions()\n",
    "    ax.legend()\n",
    "    plt.show()\n",
    "\n",
    "    return time_series\n"
   ]
  },
  {
   "cell_type": "code",
   "execution_count": null,
   "metadata": {
    "colab": {
     "base_uri": "https://localhost:8080/"
    },
    "id": "6rbpLrGVKlqY",
    "outputId": "1a470d5b-be8d-417c-a779-15778e71cbf4"
   },
   "outputs": [],
   "source": [
    "# select categorical e. g., option type and strings e. g., ticker\n",
    "cat_columns = data.select_dtypes(include=[\"category\", \"object\"]).columns.tolist()\n",
    "print(cat_columns)\n",
    "\n",
    "# assign \"bin_\" column prefix\n",
    "cat_columns_bin = [\"bin_\" + x for x in cat_columns]\n",
    "\n",
    "# binarize categorical similar to Borisov et al.\n",
    "data[cat_columns_bin] = data[cat_columns].apply(lambda x: pd.factorize(x)[0])  # type: ignore\n"
   ]
  },
  {
   "cell_type": "markdown",
   "metadata": {
    "id": "9vmqZlzAPHLF"
   },
   "source": [
    "## General overview 🌄"
   ]
  },
  {
   "cell_type": "markdown",
   "metadata": {
    "id": "ryHukUSOiFvs"
   },
   "source": [
    "### Trade price and sizes 🤝"
   ]
  },
  {
   "cell_type": "markdown",
   "metadata": {
    "id": "TGlJU8wrm_J4"
   },
   "source": [
    "#### Trades over time ⌚"
   ]
  },
  {
   "cell_type": "code",
   "execution_count": null,
   "metadata": {
    "colab": {
     "base_uri": "https://localhost:8080/",
     "height": 380
    },
    "id": "CNdxNP8VnJ8m",
    "outputId": "ec1aecfd-2817-4ed4-dce1-775d44d5b325"
   },
   "outputs": [],
   "source": [
    "trades_per_day = plot_time_series(\"TRADE_PRICE\", \"count\")\n"
   ]
  },
  {
   "cell_type": "code",
   "execution_count": null,
   "metadata": {
    "colab": {
     "base_uri": "https://localhost:8080/"
    },
    "id": "C5GRI4vE08RB",
    "outputId": "857d0e7b-6d45-4811-c15f-07679580b616"
   },
   "outputs": [],
   "source": [
    "trades_per_day.iloc[:, 0].nlargest(N)\n"
   ]
  },
  {
   "cell_type": "code",
   "execution_count": null,
   "metadata": {
    "colab": {
     "base_uri": "https://localhost:8080/"
    },
    "id": "DmK1pdA63P55",
    "outputId": "db1f51cc-75e9-41da-8fd3-483bdf75ee07"
   },
   "outputs": [],
   "source": [
    "trades_per_day.iloc[:, 0].nsmallest(N)\n"
   ]
  },
  {
   "cell_type": "markdown",
   "metadata": {
    "id": "u4rLQllo9yWs"
   },
   "source": [
    "**Observation:**\n",
    "* Number of trades increases over time.\n",
    "* There is no obvious explanation why the number of trades spikes at certain days."
   ]
  },
  {
   "cell_type": "markdown",
   "metadata": {
    "id": "YvBsMmZ0Rwro"
   },
   "source": [
    "#### Trade size"
   ]
  },
  {
   "cell_type": "code",
   "execution_count": null,
   "metadata": {
    "colab": {
     "base_uri": "https://localhost:8080/",
     "height": 381
    },
    "id": "f-YPNDG3fzDO",
    "outputId": "adb9ba84-973c-4db9-f90a-5c0c56642d15"
   },
   "outputs": [],
   "source": [
    "ax = sns.histplot(data, x=\"TRADE_SIZE\", bins=50)  # type: ignore\n",
    "ax.title.set_text(\"Histogram of trade size\")\n"
   ]
  },
  {
   "cell_type": "markdown",
   "metadata": {
    "id": "txa7AqLShrZn"
   },
   "source": [
    "**Observation:**\n",
    "* highly skewed with few outliers.\n",
    "* Similar to the price, $\\log(\\cdot)$ transform could help."
   ]
  },
  {
   "cell_type": "code",
   "execution_count": null,
   "metadata": {
    "colab": {
     "base_uri": "https://localhost:8080/",
     "height": 380
    },
    "id": "3oGv6NbNZ8mR",
    "outputId": "c4cb8988-e100-4499-a278-934ea968eeb2"
   },
   "outputs": [],
   "source": [
    "trades_over_time = plot_time_series(\"TRADE_SIZE\", [\"mean\", \"median\"])\n"
   ]
  },
  {
   "cell_type": "code",
   "execution_count": null,
   "metadata": {
    "colab": {
     "base_uri": "https://localhost:8080/",
     "height": 380
    },
    "id": "_fm0mKy9nGWr",
    "outputId": "aa8b4cb6-eda1-4d48-8213-be05f6e3debe"
   },
   "outputs": [],
   "source": [
    "trade_ask_bid_size = plot_time_series(\n",
    "    [\"TRADE_SIZE\", \"ask_size_ex\", \"bid_size_ex\"], \"mean\"\n",
    ")\n"
   ]
  },
  {
   "cell_type": "markdown",
   "metadata": {
    "id": "IKBxGSqe-FBC"
   },
   "source": [
    "**Observation:**\n",
    "* There is a slow downward trend in `TRADE_SIZE` (mean).\n",
    "* Controversely, the number of trades per day (mean) increases over time.\n",
    "* Market share of ISE has decrease over time, as reported in https://www.sifma.org/wp-content/uploads/2022/03/SIFMA-Insights-Market-Structure-Compendium-March-2022.pdf. "
   ]
  },
  {
   "cell_type": "code",
   "execution_count": null,
   "metadata": {
    "colab": {
     "base_uri": "https://localhost:8080/"
    },
    "id": "PfPmlqkdhhiQ",
    "outputId": "21cc85d6-6f43-4e66-a4b1-c76a8839da50"
   },
   "outputs": [],
   "source": [
    "data[\"TRADE_SIZE\"].describe()\n"
   ]
  },
  {
   "cell_type": "code",
   "execution_count": null,
   "metadata": {
    "colab": {
     "base_uri": "https://localhost:8080/",
     "height": 110
    },
    "id": "dmKu4OXF-p9P",
    "outputId": "cc65a9b2-552a-43c8-8df6-eb3597916f40"
   },
   "outputs": [],
   "source": [
    "data[data[\"TRADE_SIZE\"].max() == data[\"TRADE_SIZE\"]]\n"
   ]
  },
  {
   "cell_type": "code",
   "execution_count": null,
   "metadata": {
    "colab": {
     "base_uri": "https://localhost:8080/",
     "height": 424
    },
    "id": "ZL3iVg-mgrv1",
    "outputId": "97444ae1-612f-4be5-c17a-c91576e8b27f"
   },
   "outputs": [],
   "source": [
    "data.nlargest(N, \"TRADE_SIZE\", keep=\"first\").T\n"
   ]
  },
  {
   "cell_type": "code",
   "execution_count": null,
   "metadata": {
    "colab": {
     "base_uri": "https://localhost:8080/",
     "height": 381
    },
    "id": "eL3Lxj2yhrB4",
    "outputId": "e7b356fb-afaa-4424-af70-4d2edda48726"
   },
   "outputs": [],
   "source": [
    "data[\"log_trade_size\"] = np.log1p(data[\"TRADE_SIZE\"])\n",
    "ax = sns.histplot(data, x=\"log_trade_size\", bins=50)  # type: ignore\n",
    "ax.title.set_text(f\"Histogram of trade size (log1p)\")\n"
   ]
  },
  {
   "cell_type": "code",
   "execution_count": null,
   "metadata": {
    "colab": {
     "base_uri": "https://localhost:8080/",
     "height": 483
    },
    "id": "BQGC_grZ2quQ",
    "outputId": "b73c0027-f7d8-4e19-b8b0-1569b010323d"
   },
   "outputs": [],
   "source": [
    "plot_kde_target(\"log_trade_size\", clip=[0, 6])\n"
   ]
  },
  {
   "cell_type": "markdown",
   "metadata": {
    "id": "0TbVsjVrwhG_"
   },
   "source": [
    "**Observation:**\n",
    "- Size features do hardly profit from a $\\log$ transform. Might want to keep as-is."
   ]
  },
  {
   "cell_type": "markdown",
   "metadata": {
    "id": "kro_boa2VSpD"
   },
   "source": [
    "#### Trade price"
   ]
  },
  {
   "cell_type": "code",
   "execution_count": null,
   "metadata": {
    "colab": {
     "base_uri": "https://localhost:8080/",
     "height": 381
    },
    "id": "c2bA2XcPg0qg",
    "outputId": "bfaa6076-a60b-41f5-dabd-9df36dc53404"
   },
   "outputs": [],
   "source": [
    "ax = sns.histplot(data, x=\"TRADE_PRICE\", bins=50)  # type: ignore\n",
    "ax.title.set_text(\"Histogram of trade price\")\n"
   ]
  },
  {
   "cell_type": "code",
   "execution_count": null,
   "metadata": {
    "colab": {
     "base_uri": "https://localhost:8080/",
     "height": 381
    },
    "id": "CULpt3OGoMBS",
    "outputId": "25a6a024-47e6-4025-bbc8-d3d318365673"
   },
   "outputs": [],
   "source": [
    "ax = sns.boxplot(data=data, x=\"buy_sell\", y=\"TRADE_PRICE\")\n",
    "ax.title.set_text(\"Box plot of 'TRADE_PRICE' for buys (1) and sells (-1)\")\n"
   ]
  },
  {
   "cell_type": "markdown",
   "metadata": {
    "id": "nKm00we7oQmJ"
   },
   "source": [
    "**Observations:**\n",
    "* Very few, very large trade prices, many very small trade prices.\n",
    "* Scaling can be problematic, if outliers affect scaling much. Try $\\log(\\cdot)$ transform to correct skewness of distribution. Could improve results.\n",
    "* Trade price is hardly informative, as distribution is very similar."
   ]
  },
  {
   "cell_type": "code",
   "execution_count": null,
   "metadata": {
    "id": "k47VwHkJoYHj"
   },
   "outputs": [],
   "source": [
    "data[\"log_trade_price\"] = np.log1p(data[\"TRADE_PRICE\"])\n"
   ]
  },
  {
   "cell_type": "code",
   "execution_count": null,
   "metadata": {
    "colab": {
     "base_uri": "https://localhost:8080/",
     "height": 398
    },
    "id": "cULJ2a5voezf",
    "outputId": "fff08c96-14cb-4031-a6be-900624f406f2"
   },
   "outputs": [],
   "source": [
    "fig, ax = plt.subplots()\n",
    "\n",
    "sns.histplot(data, x=\"log_trade_price\", bins=50, stat=\"density\", label=\"log price\")  # type: ignore\n",
    "\n",
    "# extract the limits for the x-axis and fit normal distributon\n",
    "x0, x1 = ax.get_xlim()\n",
    "x_pdf = np.linspace(x0, x1, 100)\n",
    "y_pdf = stats.norm.pdf(x_pdf)\n",
    "\n",
    "pdf = pd.DataFrame({\"x\": x_pdf, \"y\": y_pdf})\n",
    "sns.lineplot(data=pdf, x=\"x\", y=\"y\", label=\"pdf\", color=\"r\")\n",
    "\n",
    "\n",
    "ax.title.set_text(\"Distribution of log prices\")\n",
    "ax.legend()\n"
   ]
  },
  {
   "cell_type": "code",
   "execution_count": null,
   "metadata": {
    "colab": {
     "base_uri": "https://localhost:8080/",
     "height": 381
    },
    "id": "9DpqVxM3o8G8",
    "outputId": "b9ad92e2-da89-4dfc-9a67-98aa8b5440b4"
   },
   "outputs": [],
   "source": [
    "ax = sns.boxplot(data=data, x=\"buy_sell\", y=\"log_trade_price\")\n",
    "ax.title.set_text(\"Box plot of log prices for buys (1) and sells (-1)\")\n"
   ]
  },
  {
   "cell_type": "code",
   "execution_count": null,
   "metadata": {
    "colab": {
     "base_uri": "https://localhost:8080/",
     "height": 424
    },
    "id": "lwtkIErXg8iZ",
    "outputId": "b9a4e4c9-3e4f-496d-fac9-a5b5c22e36f4"
   },
   "outputs": [],
   "source": [
    "data.nlargest(N, \"TRADE_PRICE\", keep=\"first\").T\n"
   ]
  },
  {
   "cell_type": "code",
   "execution_count": null,
   "metadata": {
    "colab": {
     "base_uri": "https://localhost:8080/",
     "height": 380
    },
    "id": "5HndBdq-hKmJ",
    "outputId": "2f721ab4-3827-441b-ca08-6c627a4b457d"
   },
   "outputs": [],
   "source": [
    "trade_price_over_time = plot_time_series(\"TRADE_PRICE\", [\"mean\", \"median\"])\n"
   ]
  },
  {
   "cell_type": "code",
   "execution_count": null,
   "metadata": {
    "colab": {
     "base_uri": "https://localhost:8080/",
     "height": 380
    },
    "id": "DhvRYVA-pjzX",
    "outputId": "86cf5bfa-9a17-4481-a346-e1d8bbda25f4"
   },
   "outputs": [],
   "source": [
    "trade_price_over_time = plot_time_series(\n",
    "    [\"TRADE_PRICE\", \"price_ex_lead\", \"price_ex_lag\"], \"mean\"\n",
    ")\n"
   ]
  },
  {
   "cell_type": "code",
   "execution_count": null,
   "metadata": {
    "colab": {
     "base_uri": "https://localhost:8080/",
     "height": 380
    },
    "id": "bTNiMADmqxI4",
    "outputId": "1440ed7d-2dfa-42dc-8778-e519b3e0cb3a"
   },
   "outputs": [],
   "source": [
    "trade_price_over_time = plot_time_series(\n",
    "    [\"TRADE_PRICE\", \"price_ex_lead\", \"price_ex_lag\"], \"median\"\n",
    ")\n"
   ]
  },
  {
   "cell_type": "markdown",
   "metadata": {
    "id": "Z234Di7gwhHD"
   },
   "source": [
    "**Observation:**\n",
    "* `TRADE_PRICE` remains roughly constant over time. Median decreases over time.\n",
    "* Large difference between median and mean. "
   ]
  },
  {
   "cell_type": "markdown",
   "metadata": {
    "id": "S5rHAylRzt1d"
   },
   "source": [
    "### Time to maturity ⌚"
   ]
  },
  {
   "cell_type": "code",
   "execution_count": null,
   "metadata": {
    "colab": {
     "base_uri": "https://localhost:8080/",
     "height": 380
    },
    "id": "YOtWJYd1mRAx",
    "outputId": "ca0c87b0-b957-4b70-cde4-bc028a206521"
   },
   "outputs": [],
   "source": [
    "ttm_over_time = plot_time_series(\"ttm\", \"mean\")\n"
   ]
  },
  {
   "cell_type": "code",
   "execution_count": null,
   "metadata": {
    "colab": {
     "base_uri": "https://localhost:8080/",
     "height": 380
    },
    "id": "WIiLkBmymu6n",
    "outputId": "9a1b8ae7-4002-425f-d843-c728654c9222"
   },
   "outputs": [],
   "source": [
    "ax = sns.histplot(data=data[data[\"bid_ex\"] == 0.0], x=\"ttm\", bins=50)  # type: ignore\n",
    "ax.title.set_text(\"Count of transactions with regard to time to maturity (months)\")\n"
   ]
  },
  {
   "cell_type": "markdown",
   "metadata": {
    "id": "uEYVInVtwhHF"
   },
   "source": [
    "**Observation:**\n",
    "- Most options have a short time-to-maturity\n",
    "- Binning or cut-off could be helpful"
   ]
  },
  {
   "cell_type": "code",
   "execution_count": null,
   "metadata": {
    "colab": {
     "base_uri": "https://localhost:8080/",
     "height": 381
    },
    "id": "HIPLWci8m2MD",
    "outputId": "808cf9b4-1954-4ff4-f19e-0bfbf7c1db02"
   },
   "outputs": [],
   "source": [
    "# TODO: ask of zero plausible?\n",
    "sns.histplot(data=data[data[\"ask_ex\"] == 0.0], x=\"ttm\", bins=50)  # type: ignore\n"
   ]
  },
  {
   "cell_type": "markdown",
   "metadata": {
    "id": "q5WCxCtC6N1r"
   },
   "source": [
    "### Strike price"
   ]
  },
  {
   "cell_type": "code",
   "execution_count": null,
   "metadata": {
    "colab": {
     "base_uri": "https://localhost:8080/",
     "height": 381
    },
    "id": "shLvgI6_6pob",
    "outputId": "922e91ab-de04-4135-b03c-3d4b07adcdf0"
   },
   "outputs": [],
   "source": [
    "ax = sns.histplot(data, x=\"STRK_PRC\", bins=50)  # type: ignore\n",
    "ax.title.set_text(\"Histogram of strike price\")\n"
   ]
  },
  {
   "cell_type": "code",
   "execution_count": null,
   "metadata": {
    "colab": {
     "base_uri": "https://localhost:8080/",
     "height": 381
    },
    "id": "FF4T32MV7MRf",
    "outputId": "0473dab3-ee9b-42a3-9be3-b25ade066846"
   },
   "outputs": [],
   "source": [
    "ax = sns.boxplot(data=data, x=\"buy_sell\", y=\"STRK_PRC\")\n",
    "ax.title.set_text(\"Box plot of strike prices for buys (1) and sells (-1)\")\n"
   ]
  },
  {
   "cell_type": "code",
   "execution_count": null,
   "metadata": {
    "colab": {
     "base_uri": "https://localhost:8080/",
     "height": 380
    },
    "id": "v0YTFt-Y6QlA",
    "outputId": "f0b3388f-d801-4b31-cb53-b74b13a1cff6"
   },
   "outputs": [],
   "source": [
    "strike_over_time = plot_time_series(\"STRK_PRC\", \"mean\")\n"
   ]
  },
  {
   "cell_type": "markdown",
   "metadata": {
    "id": "ai93sNiywhHI"
   },
   "source": [
    "**Observation:**\n",
    "- Distribution of strike price is highly skewed\n",
    "- Average strike price grows over time. Thus, very large and previously unobserved trade prices could be part of the test set, but not in the train set.\n",
    "- Try $\\log$"
   ]
  },
  {
   "cell_type": "code",
   "execution_count": null,
   "metadata": {
    "id": "E4zueI8_6_zh"
   },
   "outputs": [],
   "source": [
    "data[\"log_strk_prc\"] = np.log1p(data[\"STRK_PRC\"])\n"
   ]
  },
  {
   "cell_type": "code",
   "execution_count": null,
   "metadata": {
    "colab": {
     "base_uri": "https://localhost:8080/",
     "height": 381
    },
    "id": "HsYMWQOs6jUt",
    "outputId": "b3eab404-16e8-46ce-a9a5-8d78b217d58e"
   },
   "outputs": [],
   "source": [
    "ax = sns.histplot(data, x=\"log_strk_prc\", bins=50)  # type: ignore\n",
    "ax.title.set_text(\"Histogram of strike price (log1p)\")\n"
   ]
  },
  {
   "cell_type": "code",
   "execution_count": null,
   "metadata": {
    "colab": {
     "base_uri": "https://localhost:8080/",
     "height": 381
    },
    "id": "ubhwxzaO7jD0",
    "outputId": "fbf6839f-2903-4a0d-db26-c6b89843d797"
   },
   "outputs": [],
   "source": [
    "ax = sns.boxplot(data=data, x=\"buy_sell\", y=\"log_strk_prc\")\n",
    "ax.title.set_text(\"Box plot of strike prices for buys (1) and sells (-1)\")\n"
   ]
  },
  {
   "cell_type": "markdown",
   "metadata": {
    "id": "9of8S3X52_WS"
   },
   "source": [
    "### Buy Sell 👛"
   ]
  },
  {
   "cell_type": "code",
   "execution_count": null,
   "metadata": {
    "colab": {
     "base_uri": "https://localhost:8080/"
    },
    "id": "EpSh473iHU3W",
    "outputId": "76566198-8e47-420a-8884-cef391e1b477"
   },
   "outputs": [],
   "source": [
    "ratio_buy_sell = data[\"buy_sell\"].value_counts() / data[\"buy_sell\"].count()\n",
    "ratio_buy_sell.head()\n"
   ]
  },
  {
   "cell_type": "markdown",
   "metadata": {
    "id": "deJhfCrxHy8Y"
   },
   "source": [
    "**Observation:**\n",
    "* Ratios similar to the one reported in Grauer et. al. Yet not identical as calculation is done on a sample.\n",
    "* As both classes have a $\\approx~0.5$ probability, I would not rebalance. Rebalancing through sampling etc. itself has a bias.\n",
    "* Ratios seem to be stable over time (see below). Thus, distribution is similar for training, validation, and test set.\n",
    "* With regard to time-to-maturity the distribution changes slightly for longer periods."
   ]
  },
  {
   "cell_type": "markdown",
   "metadata": {
    "id": "IYXjbdNOScZ5"
   },
   "source": [
    "#### By option type"
   ]
  },
  {
   "cell_type": "code",
   "execution_count": null,
   "metadata": {
    "colab": {
     "base_uri": "https://localhost:8080/",
     "height": 431
    },
    "id": "r4zDI-vV4QHT",
    "outputId": "128120ff-5846-4e26-b121-3c90cbfc5633"
   },
   "outputs": [],
   "source": [
    "ax = sns.countplot(data=data, x=\"OPTION_TYPE\", hue=\"buy_sell\")\n",
    "ax.title.set_text(\"Distribution of Buy / Sell indicator with regard to option type\")\n",
    "sns.move_legend(ax, \"lower center\", bbox_to_anchor=(0.5, -0.3))\n"
   ]
  },
  {
   "cell_type": "markdown",
   "metadata": {
    "id": "3pOzIcdrSjaU"
   },
   "source": [
    "#### By year"
   ]
  },
  {
   "cell_type": "code",
   "execution_count": null,
   "metadata": {
    "colab": {
     "base_uri": "https://localhost:8080/",
     "height": 405
    },
    "id": "L1rT2d3m2-8L",
    "outputId": "bf6a4809-5585-4e6a-94d2-c7969cb3292a"
   },
   "outputs": [],
   "source": [
    "ax = sns.countplot(data=data, x=\"year_binned\", hue=\"buy_sell\")\n",
    "ax.title.set_text(\"Distribution of Buy / Sell indicator with regard to year (binned)\")\n",
    "ax.set_xticklabels(ax.get_xticklabels(), rotation=40, ha=\"center\")\n",
    "plt.tight_layout()\n",
    "plt.show()\n"
   ]
  },
  {
   "cell_type": "markdown",
   "metadata": {
    "id": "LO_Y_3LlSoOq"
   },
   "source": [
    "#### By time time to maturity"
   ]
  },
  {
   "cell_type": "code",
   "execution_count": null,
   "metadata": {
    "colab": {
     "base_uri": "https://localhost:8080/",
     "height": 405
    },
    "id": "mhZopwr-4ITf",
    "outputId": "341b30a7-6a9c-44d9-ba4d-fe45145dd8b9"
   },
   "outputs": [],
   "source": [
    "ax = sns.countplot(data=data, x=\"ttm_binned\", hue=\"buy_sell\")\n",
    "ax.title.set_text(\n",
    "    \"Distribution of Buy / Sell indicator with regard to time to maturity (binned)\"\n",
    ")\n",
    "ax.set_xticklabels(ax.get_xticklabels(), rotation=40, ha=\"center\")\n",
    "plt.tight_layout()\n",
    "plt.show()\n"
   ]
  },
  {
   "cell_type": "code",
   "execution_count": null,
   "metadata": {
    "colab": {
     "base_uri": "https://localhost:8080/",
     "height": 380
    },
    "id": "vCaz459vUzIM",
    "outputId": "e91328c8-9367-41ee-ba13-56a6161f356d"
   },
   "outputs": [],
   "source": [
    "ax = sns.scatterplot(data=sample, x=\"ttm\", y=\"bid_ex\", hue=\"OPTION_TYPE\")\n",
    "ax.title.set_text(\"Scatter plot of time to maturity (months) and bid (ex)\")\n"
   ]
  },
  {
   "cell_type": "code",
   "execution_count": null,
   "metadata": {
    "colab": {
     "base_uri": "https://localhost:8080/",
     "height": 380
    },
    "id": "fkEKGH4-RDHc",
    "outputId": "4cf0dd8f-4d50-42a0-9c54-be7e81e59b11"
   },
   "outputs": [],
   "source": [
    "ax = sns.histplot(data=data[data[\"bid_ex\"] == 0.0], x=\"ttm\", bins=50)  # type: ignore\n",
    "ax.title.set_text(\"Count of transactions with regard to time to maturity (months)\")\n"
   ]
  },
  {
   "cell_type": "code",
   "execution_count": null,
   "metadata": {
    "colab": {
     "base_uri": "https://localhost:8080/",
     "height": 381
    },
    "id": "YNF09VisR6ox",
    "outputId": "ee9fcbd9-3632-43a8-995d-8d38f9889a3b"
   },
   "outputs": [],
   "source": [
    "# TODO: ask of zero plausible?\n",
    "sns.histplot(data=data[data[\"ask_ex\"] == 0.0], x=\"ttm\", bins=50)  # type: ignore\n"
   ]
  },
  {
   "cell_type": "markdown",
   "metadata": {
    "id": "VKOYYMjdSwmq"
   },
   "source": [
    "#### Over time"
   ]
  },
  {
   "cell_type": "code",
   "execution_count": null,
   "metadata": {
    "colab": {
     "base_uri": "https://localhost:8080/",
     "height": 571
    },
    "id": "gR6c5UUC3WHf",
    "outputId": "f92abde5-5df1-446b-ce09-e1a78f0b8a3c"
   },
   "outputs": [],
   "source": [
    "trades_over_time = (\n",
    "    data.groupby(data[\"date\"])[\"buy_sell\"].value_counts().unstack(fill_value=0)\n",
    ")\n",
    "ax = trades_over_time.plot(\n",
    "    kind=\"line\",\n",
    "    figsize=ratio,\n",
    "    title=\"buy / sell count over time\",\n",
    "    xlabel=\"date\",\n",
    "    ylabel=\"sell (-1) / buy (1)\",\n",
    ")\n",
    "plot_recessions()\n",
    "ax.legend()\n",
    "plt.show()\n"
   ]
  },
  {
   "cell_type": "markdown",
   "metadata": {
    "id": "uNN4ksMGlTQm"
   },
   "source": [
    "### $n$ most frequent symbols, indices, and special codes 🔢"
   ]
  },
  {
   "cell_type": "markdown",
   "metadata": {
    "id": "waAefSrZY9Ij"
   },
   "source": [
    "See how frequent symbols are, as they can lead to an explosion in cardinality."
   ]
  },
  {
   "cell_type": "code",
   "execution_count": null,
   "metadata": {
    "colab": {
     "base_uri": "https://localhost:8080/",
     "height": 381
    },
    "id": "znjnZIdMY9Ik",
    "outputId": "cced72f2-2128-44cf-b594-16b625a6b26e"
   },
   "outputs": [],
   "source": [
    "frequency_symbols = data[\"ROOT\"].value_counts().reset_index(name=\"Count\")\n",
    "frequency_symbols.rename(columns={\"index\": \"Symbol\"}, inplace=True)\n",
    "frequency_symbols.sort_values(\"Count\", ascending=True)\n",
    "sns.histplot(data=frequency_symbols, x=\"Count\", bins=200)\n"
   ]
  },
  {
   "cell_type": "code",
   "execution_count": null,
   "metadata": {
    "colab": {
     "base_uri": "https://localhost:8080/"
    },
    "id": "5aRfobVAY9Il",
    "outputId": "e19feb4f-4591-487a-dd33-a1af7b1666b6"
   },
   "outputs": [],
   "source": [
    "frequency_symbols[frequency_symbols[\"Count\"] <= 5].count()\n"
   ]
  },
  {
   "cell_type": "code",
   "execution_count": null,
   "metadata": {
    "colab": {
     "base_uri": "https://localhost:8080/",
     "height": 424
    },
    "id": "cLvzcvrQY9Im",
    "outputId": "dcdddacf-a78f-43a7-9c3c-fdf89d4b14c1"
   },
   "outputs": [],
   "source": [
    "frequency_symbols\n"
   ]
  },
  {
   "cell_type": "code",
   "execution_count": null,
   "metadata": {
    "colab": {
     "base_uri": "https://localhost:8080/",
     "height": 726
    },
    "id": "qLVCUu8WOqGG",
    "outputId": "8058bfb0-031a-4d61-ebda-b84cb7e9d5a7"
   },
   "outputs": [],
   "source": [
    "most_frequent_symbols = data[\"ROOT\"].value_counts().head(N).reset_index(name=\"Count\")\n",
    "most_frequent_symbols.rename(columns={\"index\": \"Symbol\"}, inplace=True)\n",
    "\n",
    "ax = sns.barplot(data=most_frequent_symbols, x=\"Symbol\", y=\"Count\")\n",
    "ax.title.set_text(f\"{N} most frequently traded symbols\")\n",
    "\n",
    "most_frequent_symbols.head(N)\n"
   ]
  },
  {
   "cell_type": "code",
   "execution_count": null,
   "metadata": {
    "id": "balcupvypq5_"
   },
   "outputs": [],
   "source": [
    "list_freq_symbols = most_frequent_symbols.Symbol.tolist()\n"
   ]
  },
  {
   "cell_type": "code",
   "execution_count": null,
   "metadata": {
    "id": "vxI2kyFypzmb"
   },
   "outputs": [],
   "source": [
    "frequent_symbols_over_time = data[data[\"ROOT\"].isin(list_freq_symbols)]\n"
   ]
  },
  {
   "cell_type": "code",
   "execution_count": null,
   "metadata": {
    "id": "Ui_bSf3JrdjE"
   },
   "outputs": [],
   "source": [
    "frequent_symbols_trades_per_day = (\n",
    "    frequent_symbols_over_time.groupby(\n",
    "        [frequent_symbols_over_time.QUOTE_DATETIME.dt.to_period(\"m\"), \"ROOT\"]\n",
    "    )[\"TRADE_SIZE\"]\n",
    "    .count()\n",
    "    .reset_index()\n",
    "    .rename(columns={\"TRADE_SIZE\": \"count\", \"QUOTE_DATETIME\": \"date\", \"ROOT\": \"Symbol\"})\n",
    ")\n"
   ]
  },
  {
   "cell_type": "code",
   "execution_count": null,
   "metadata": {
    "id": "r9NQn8JojaHq"
   },
   "outputs": [],
   "source": [
    "frequent_symbols_over_time = (\n",
    "    frequent_symbols_trades_per_day.groupby([\"date\", \"Symbol\"])[\"count\"]\n",
    "    .first()\n",
    "    .unstack()\n",
    ")\n"
   ]
  },
  {
   "cell_type": "code",
   "execution_count": null,
   "metadata": {
    "colab": {
     "base_uri": "https://localhost:8080/",
     "height": 397
    },
    "id": "xKynCukCly3K",
    "outputId": "5f968ff8-407c-4c00-e44c-d909380719dd"
   },
   "outputs": [],
   "source": [
    "frequent_symbols_over_time.plot(\n",
    "    kind=\"line\", title=f\"{N} most frequently traded underlyings over time\"\n",
    ")\n"
   ]
  },
  {
   "cell_type": "code",
   "execution_count": null,
   "metadata": {
    "id": "SvzXOQXJY9Ir"
   },
   "outputs": [],
   "source": [
    "root_time_train = pd.read_parquet(\n",
    "    \"gs://thesis-bucket-option-trade-classification/data/preprocessed/train_set_extended_60.parquet\",\n",
    "    columns=[\"QUOTE_DATETIME\", \"ROOT\"],\n",
    ")\n",
    "root_time_val = pd.read_parquet(\n",
    "    \"gs://thesis-bucket-option-trade-classification/data/preprocessed/val_set_extended_20.parquet\",\n",
    "    columns=[\"QUOTE_DATETIME\", \"ROOT\"],\n",
    ")\n",
    "root_time_test = pd.read_parquet(\n",
    "    \"gs://thesis-bucket-option-trade-classification/data/preprocessed/test_set_extended_20.parquet\",\n",
    "    columns=[\"QUOTE_DATETIME\", \"ROOT\"],\n",
    ")\n",
    "\n",
    "roots_over_time = pd.concat([root_time_train, root_time_val, root_time_test])\n"
   ]
  },
  {
   "cell_type": "code",
   "execution_count": null,
   "metadata": {
    "id": "f1GkQvJQY9Is"
   },
   "outputs": [],
   "source": [
    "# randomly sample N symbols and check when they appear for the first and last time\n",
    "roots_sample = (\n",
    "    roots_over_time.groupby(\"ROOT\")[\"QUOTE_DATETIME\"]\n",
    "    .agg([\"min\", \"max\"])\n",
    "    .reset_index()\n",
    "    .sample(N)\n",
    "    .T\n",
    ")\n"
   ]
  },
  {
   "cell_type": "code",
   "execution_count": null,
   "metadata": {
    "id": "9Myp0ocfY9It"
   },
   "outputs": [],
   "source": [
    "# see 2.0-mb-data_preprocessing_loading_splitting.ipynb\n",
    "dti = pd.date_range(\"2005-05-02\", \"2017-05-31\", freq=\"d\")\n",
    "plot_df = pd.DataFrame(index=dti)\n",
    "\n",
    "for i, col in enumerate(roots_sample.columns):\n",
    "    plot_df[roots_sample.iloc[0, i]] = np.where(\n",
    "        np.logical_and(\n",
    "            plot_df.index >= roots_sample.iloc[1, i],\n",
    "            plot_df.index <= roots_sample.iloc[2, i],\n",
    "        ),\n",
    "        i / N,\n",
    "        np.nan,\n",
    "    )\n"
   ]
  },
  {
   "cell_type": "code",
   "execution_count": null,
   "metadata": {
    "colab": {
     "base_uri": "https://localhost:8080/",
     "height": 383
    },
    "id": "gz4UzN30Y9Iu",
    "outputId": "fa727147-f8b8-444f-e29e-082165c6bb77"
   },
   "outputs": [],
   "source": [
    "ax = plot_df.plot(legend=False, style=\".\")\n",
    "ax.set_yticks(np.linspace(0, (N - 1) / N, N))\n",
    "ax.set_yticklabels(plot_df.columns)\n",
    "# beginning of validation and test set\n",
    "ax.axvline(\"2013-10-25\", color=\"gray\")\n",
    "ax.axvline(\"2015-11-06\", color=\"gray\")\n",
    "ax.set_title(\"roots over time (min / max appearance)\")\n"
   ]
  },
  {
   "cell_type": "code",
   "execution_count": null,
   "metadata": {
    "colab": {
     "base_uri": "https://localhost:8080/",
     "height": 431
    },
    "id": "S-Kd5_JSOO6R",
    "outputId": "6dad31cd-2920-4226-e668-6910c0ce98b3"
   },
   "outputs": [],
   "source": [
    "# TODO: investigate why there is no True group\n",
    "ax = sns.countplot(data=data, x=\"symbol_is_index\", hue=\"buy_sell\")\n",
    "ax.title.set_text(\n",
    "    \"Distribution of Buy / Sell indicator with regard to whether underlying is an index\"\n",
    ")\n",
    "sns.move_legend(ax, \"lower center\", bbox_to_anchor=(0.5, -0.3))\n"
   ]
  },
  {
   "cell_type": "code",
   "execution_count": null,
   "metadata": {
    "colab": {
     "base_uri": "https://localhost:8080/"
    },
    "id": "9ZPOB0DDPlaA",
    "outputId": "dd796dd9-5e4e-4500-df78-39f3e06ae8aa"
   },
   "outputs": [],
   "source": [
    "ratios_is_index = (\n",
    "    data.groupby([\"symbol_is_index\", \"buy_sell\"])[\"buy_sell\"].count()\n",
    "    / data.groupby([\"symbol_is_index\"])[\"buy_sell\"].count()\n",
    ")\n",
    "ratios_is_index.head()\n"
   ]
  },
  {
   "cell_type": "markdown",
   "metadata": {
    "id": "cvLHx_iNOtgo"
   },
   "source": [
    "**Observation:**\n",
    "- Feature can be important, as it's much more likely for trade to be sell, rather than buy, if and only if the underlying is no index option.\n",
    "- Difference isn't too pronounced and could be due to sampling effects."
   ]
  },
  {
   "cell_type": "code",
   "execution_count": null,
   "metadata": {
    "colab": {
     "base_uri": "https://localhost:8080/"
    },
    "id": "7cm4CSLELZLy",
    "outputId": "3d3531b2-a7d0-4610-e5c1-b7eb1d764d3a"
   },
   "outputs": [],
   "source": [
    "data[\"issue_type\"].value_counts(dropna=False)\n"
   ]
  },
  {
   "cell_type": "code",
   "execution_count": null,
   "metadata": {
    "colab": {
     "base_uri": "https://localhost:8080/",
     "height": 380
    },
    "id": "hI-NvLxx_p1P",
    "outputId": "237340be-a1bb-4b4a-8159-b7720477c445"
   },
   "outputs": [],
   "source": [
    "ax = sns.countplot(data=data, x=\"issue_type\")\n",
    "ax.title.set_text(\"No. of transactions by issue type\")\n",
    "ax.xaxis.label.set_text(\"issue type\")\n"
   ]
  },
  {
   "cell_type": "markdown",
   "metadata": {
    "id": "puN3bdGmUPLh"
   },
   "source": [
    "###  Ask and bid👨‍⚖️"
   ]
  },
  {
   "cell_type": "code",
   "execution_count": null,
   "metadata": {
    "colab": {
     "base_uri": "https://localhost:8080/",
     "height": 380
    },
    "id": "ObXgSwSxq2E_",
    "outputId": "30df67d5-2601-4921-cf1b-a0c21db8f55a"
   },
   "outputs": [],
   "source": [
    "bid_ask_over_time = plot_time_series(\n",
    "    [\"bid_ex\", \"ask_ex\", \"BEST_ASK\", \"BEST_BID\"], \"mean\"\n",
    ")\n"
   ]
  },
  {
   "cell_type": "markdown",
   "metadata": {
    "id": "bS2PiyAl8XYP"
   },
   "source": [
    "#### Ask"
   ]
  },
  {
   "cell_type": "code",
   "execution_count": null,
   "metadata": {
    "colab": {
     "base_uri": "https://localhost:8080/",
     "height": 381
    },
    "id": "KwtMkQfIUPLi",
    "outputId": "88b78791-b8fd-40ce-ccc7-8410ddf4a763"
   },
   "outputs": [],
   "source": [
    "ax = sns.histplot(data, x=\"ask_ex\", bins=50)  # type: ignore\n",
    "ax.title.set_text(\"Histogram of ask (exchange)\")\n"
   ]
  },
  {
   "cell_type": "markdown",
   "metadata": {
    "id": "MrinpS5KwhHX"
   },
   "source": [
    "**Observation:**\n",
    "* Distribution is highly skewed, try correction with $\\log$"
   ]
  },
  {
   "cell_type": "code",
   "execution_count": null,
   "metadata": {
    "colab": {
     "base_uri": "https://localhost:8080/",
     "height": 381
    },
    "id": "t9Od_ss68Uf7",
    "outputId": "0dbb2688-1e93-4e5d-82bc-51889dd8011e"
   },
   "outputs": [],
   "source": [
    "data[\"log_ask_ex\"] = np.log1p(data[\"ask_ex\"])\n",
    "ax = sns.histplot(data, x=\"log_ask_ex\", bins=50)  # type: ignore\n",
    "ax.title.set_text(f\"Histogram of ask exchange (log1p)\")\n"
   ]
  },
  {
   "cell_type": "code",
   "execution_count": null,
   "metadata": {
    "colab": {
     "base_uri": "https://localhost:8080/",
     "height": 483
    },
    "id": "JHc4tuDw8UHG",
    "outputId": "1d102fa7-b1b9-4871-e7d8-f726bb262b33"
   },
   "outputs": [],
   "source": [
    "plot_kde_target(\"log_ask_ex\", clip=[0, 5])\n"
   ]
  },
  {
   "cell_type": "markdown",
   "metadata": {
    "id": "hneiYOS1whHY"
   },
   "source": [
    "**Observation:**\n",
    "* Applying a $\\log$ transform leads to a easily distinguishable distribution"
   ]
  },
  {
   "cell_type": "markdown",
   "metadata": {
    "id": "7jVN_izn8a43"
   },
   "source": [
    "#### Bid"
   ]
  },
  {
   "cell_type": "code",
   "execution_count": null,
   "metadata": {
    "colab": {
     "base_uri": "https://localhost:8080/",
     "height": 381
    },
    "id": "qap6DPAb8if7",
    "outputId": "d0f16e78-d0d2-46f1-aef1-2f8979f9f989"
   },
   "outputs": [],
   "source": [
    "ax = sns.histplot(data, x=\"bid_ex\", bins=50)  # type: ignore\n",
    "ax.title.set_text(\"Histogram of bid (exchange)\")\n"
   ]
  },
  {
   "cell_type": "code",
   "execution_count": null,
   "metadata": {
    "colab": {
     "base_uri": "https://localhost:8080/",
     "height": 381
    },
    "id": "3w88oBOpUPLj",
    "outputId": "cf90db94-d616-4191-836e-56c0d784cd43"
   },
   "outputs": [],
   "source": [
    "data[\"log_bid_ex\"] = np.log1p(data[\"bid_ex\"])\n",
    "ax = sns.histplot(data, x=\"log_bid_ex\", bins=50)  # type: ignore\n",
    "ax.title.set_text(f\"Histogram of bid exchange (log1p)\")\n"
   ]
  },
  {
   "cell_type": "code",
   "execution_count": null,
   "metadata": {
    "colab": {
     "base_uri": "https://localhost:8080/",
     "height": 483
    },
    "id": "hlsQokLcUPLj",
    "outputId": "5b8d9db8-5d10-4b9c-a907-cf5f666defcb"
   },
   "outputs": [],
   "source": [
    "plot_kde_target(\"log_bid_ex\", clip=[0, 5])\n"
   ]
  },
  {
   "cell_type": "code",
   "execution_count": null,
   "metadata": {
    "colab": {
     "base_uri": "https://localhost:8080/",
     "height": 381
    },
    "id": "_JBE-ymdUPLk",
    "outputId": "cd61daed-cfeb-45da-9fa4-a31278e884a6"
   },
   "outputs": [],
   "source": [
    "data[\"log_bid_ex\"] = np.log1p(data[\"bid_ex\"])\n",
    "ax = sns.histplot(data, x=\"log_bid_ex\", bins=50)  # type: ignore\n",
    "ax.title.set_text(\"Histogram of bid exchange (log1p)\")\n"
   ]
  },
  {
   "cell_type": "code",
   "execution_count": null,
   "metadata": {
    "colab": {
     "base_uri": "https://localhost:8080/",
     "height": 483
    },
    "id": "biafaSUqUPLk",
    "outputId": "8d4404c6-79e4-4e6e-eed7-11d14e58d4d7"
   },
   "outputs": [],
   "source": [
    "plot_kde_target(\"log_bid_ex\", clip=[-5, 6])\n"
   ]
  },
  {
   "cell_type": "markdown",
   "metadata": {
    "id": "vesyvNMPUPLk"
   },
   "source": [
    "**Observation:**\n",
    "- One can choose different constants, but small constants, e. g., `const=1e-2` gives fuzzy, yet distributions that are easier to distinguish. Also note the higher correlation with the target. \n"
   ]
  },
  {
   "cell_type": "markdown",
   "metadata": {
    "id": "fnrbwIFTYHr_"
   },
   "source": [
    "**Observation:**\n",
    "- log on size seems to worsen results.\n",
    "- `TODO:` investigate further, what the reason is. e. g., how many outliers..."
   ]
  },
  {
   "cell_type": "markdown",
   "metadata": {
    "id": "UUbWmbEtS2Ve"
   },
   "source": [
    "# NaNs 🪲"
   ]
  },
  {
   "cell_type": "code",
   "execution_count": null,
   "metadata": {
    "id": "lYGJpMvzEhyc"
   },
   "outputs": [],
   "source": [
    "def visualize_nan():\n",
    "    \"\"\"\n",
    "    Visualize NaN values in a heatmap to learn about patterns.\n",
    "    \"\"\"\n",
    "    plt.subplots()\n",
    "    sns.heatmap(data.head(50).isnull(), cbar=False)\n",
    "    plt.xlabel(\"feature\")\n",
    "    plt.ylabel(\"row\")\n",
    "    plt.title(\"Missing values (colored in bright beige)\")\n",
    "    plt.show()\n"
   ]
  },
  {
   "cell_type": "code",
   "execution_count": null,
   "metadata": {
    "colab": {
     "base_uri": "https://localhost:8080/",
     "height": 470
    },
    "id": "glhx2wHHEtkU",
    "outputId": "a26fefb3-fff4-4910-c8bb-01972d6d81a7"
   },
   "outputs": [],
   "source": [
    "visualize_nan()\n"
   ]
  },
  {
   "cell_type": "code",
   "execution_count": null,
   "metadata": {
    "colab": {
     "base_uri": "https://localhost:8080/",
     "height": 668
    },
    "id": "2JOoXJtHIKXE",
    "outputId": "32053749-fa94-4608-c354-6dfa65e7a326"
   },
   "outputs": [],
   "source": [
    "isna_vals = data.isna().sum().sort_values(ascending=False)\n",
    "isna_vals = isna_vals.loc[lambda x: x > 0]\n",
    "\n",
    "ax = isna_vals.T.plot(\n",
    "    kind=\"bar\",\n",
    "    figsize=ratio,\n",
    "    legend=False,\n",
    "    xlabel=\"No. of missing values\",\n",
    "    ylabel=\"feature\",\n",
    "    title=\"Missing values\",\n",
    ")\n"
   ]
  },
  {
   "cell_type": "code",
   "execution_count": null,
   "metadata": {
    "colab": {
     "base_uri": "https://localhost:8080/",
     "height": 588
    },
    "id": "swu5wGjNLZbF",
    "outputId": "b04cb287-4483-48bb-f41f-77cca1c34bb8"
   },
   "outputs": [],
   "source": [
    "isna_vals_over_time = (\n",
    "    data[isna_vals.index.tolist()]\n",
    "    .groupby(data[\"QUOTE_DATETIME\"].dt.date)\n",
    "    .agg(lambda x: x.isnull().sum())\n",
    ")\n",
    "isna_vals_over_time.plot(\n",
    "    kind=\"line\",\n",
    "    figsize=ratio,\n",
    "    title=\"Missing values over time\",\n",
    "    xlabel=\"Timestamp\",\n",
    "    ylabel=\"No. of missing values\",\n",
    ")\n"
   ]
  },
  {
   "cell_type": "code",
   "execution_count": null,
   "metadata": {
    "colab": {
     "base_uri": "https://localhost:8080/",
     "height": 654
    },
    "id": "Bk7kdwU0Nh9X",
    "outputId": "761bca49-09cf-4dac-c9be-09f9604a693b"
   },
   "outputs": [],
   "source": [
    "# adapted from: https://github.com/ResidentMario/missingno/blob/master/missingno/missingno.py\n",
    "\n",
    "isna_data = data.iloc[\n",
    "    :, [i for i, n in enumerate(np.var(data.isnull(), axis=\"rows\")) if n > 0]\n",
    "]\n",
    "\n",
    "corr_mat = isna_data.isnull().corr()\n",
    "mask = np.zeros_like(corr_mat)\n",
    "mask[np.triu_indices_from(mask)] = True\n",
    "\n",
    "fig, ax = plt.subplots(figsize=(9, 9))\n",
    "ax = sns.heatmap(corr_mat, mask=mask, annot=False, annot_kws={\"size\": 10}, ax=ax)\n",
    "ax.title.set_text(\"Correlation between missing features\")\n"
   ]
  },
  {
   "cell_type": "code",
   "execution_count": null,
   "metadata": {
    "colab": {
     "base_uri": "https://localhost:8080/",
     "height": 446
    },
    "id": "Dokt9B3BEvor",
    "outputId": "bc9ccd5a-4d1f-488b-c4bf-b2978744a414"
   },
   "outputs": [],
   "source": [
    "# adapted from: https://github.com/ResidentMario/missingno/blob/master/missingno/missingno.py\n",
    "\n",
    "# sample down for performance reasons\n",
    "isna_data = data.sample(frac=0.05)\n",
    "\n",
    "plt.figure()\n",
    "ax0 = plt.gca()\n",
    "\n",
    "# Link the hierarchical output matrix, figure out orientation, construct base dendrogram.\n",
    "x = np.transpose(isna_data.isnull().astype(int).values)\n",
    "z = hierarchy.linkage(x, \"average\")\n",
    "\n",
    "hierarchy.dendrogram(\n",
    "    z,\n",
    "    labels=isna_data.columns.tolist(),\n",
    "    distance_sort=False,\n",
    "    link_color_func=lambda c: \"black\",\n",
    "    ax=ax0,\n",
    ")\n",
    "\n",
    "# Remove extraneous default visual elements.\n",
    "ax0.set_aspect(\"auto\")\n",
    "ax0.set_title(\"Dendrogram of missing values\")\n",
    "\n",
    "ax0\n"
   ]
  },
  {
   "cell_type": "markdown",
   "metadata": {
    "id": "dXduwXBWwhHl"
   },
   "source": [
    "**Observation:**\n",
    "- Note that also important features like `price_all_lead` or `price_ex_lag` are missing. This has an impact, whether it is possible to calculate the classical rules like the trade rule. Consider this when reporting results.\n",
    "- Missing values become more of a problem towards the end of the data set. At the same time the number of trades also increases."
   ]
  },
  {
   "cell_type": "markdown",
   "metadata": {
    "id": "hB5ZELdNm8fG"
   },
   "source": [
    "# Correlations of engineered features 🎲"
   ]
  },
  {
   "cell_type": "markdown",
   "metadata": {
    "id": "Wq61_ag29Sxe"
   },
   "source": [
    "### Correlations 🎲"
   ]
  },
  {
   "cell_type": "code",
   "execution_count": null,
   "metadata": {
    "colab": {
     "base_uri": "https://localhost:8080/",
     "height": 482
    },
    "id": "WwYnaW2zwJ9e",
    "outputId": "2c430d9f-a63d-470b-e658-e5aaadc2cb3c"
   },
   "outputs": [],
   "source": [
    "corr = data.corr()\n",
    "\n",
    "sns.heatmap(corr, xticklabels=corr.columns.values, yticklabels=corr.columns.values)  # type: ignore\n"
   ]
  },
  {
   "cell_type": "markdown",
   "metadata": {
    "id": "8KUisq6b5TeN"
   },
   "source": [
    "### Correlation with target 🎲"
   ]
  },
  {
   "cell_type": "code",
   "execution_count": null,
   "metadata": {
    "colab": {
     "base_uri": "https://localhost:8080/",
     "height": 1000
    },
    "id": "TeyU4_ev4gzx",
    "outputId": "2b1d054d-f525-401d-8c18-2dcd560e33f1"
   },
   "outputs": [],
   "source": [
    "sort_criteria = corr[\"buy_sell\"].abs().sort_values(ascending=False)\n",
    "corr_target = corr.sort_values(\"buy_sell\", ascending=False)[\"buy_sell\"]\n",
    "corr_target.loc[sort_criteria.index].to_frame()\n"
   ]
  },
  {
   "cell_type": "code",
   "execution_count": null,
   "metadata": {
    "colab": {
     "base_uri": "https://localhost:8080/"
    },
    "id": "KP4WCZV54j_0",
    "outputId": "fe13968d-59a7-47f6-b377-7aedbdad4fd5"
   },
   "outputs": [],
   "source": [
    "# adapted from here: https://www.kaggle.com/code/willkoehrsen/featuretools-for-good\n",
    "\n",
    "# Select upper triangle of correlation matrix\n",
    "upper = corr.where(np.triu(np.ones(corr.shape), k=1).astype(bool))\n",
    "\n",
    "# Find index of feature columns with correlation greater than 0.95\n",
    "to_drop = [column for column in upper.columns if any(abs(upper[column]) > 0.975)]\n",
    "\n",
    "print(to_drop)\n"
   ]
  },
  {
   "cell_type": "markdown",
   "metadata": {
    "id": "0DFHkf2rwhHn"
   },
   "source": [
    "**Observation:**\n",
    "- Newly engineered features have a high correlation with the target, which is positive. Investigate if the correlation is due to randomness or whether a pattern is observable.\n",
    "- `_ex` and `BEST_` features seem to be rather redundant, even if a high threshold for correlation is chosen."
   ]
  },
  {
   "cell_type": "markdown",
   "metadata": {
    "id": "1_T0SJq85dBz"
   },
   "source": [
    "### Collinearity of features🎲"
   ]
  },
  {
   "cell_type": "code",
   "execution_count": null,
   "metadata": {
    "colab": {
     "base_uri": "https://localhost:8080/"
    },
    "id": "2AzhGW0P4qf0",
    "outputId": "0e925abf-372e-453a-ec82-9a6f1e6d64c4"
   },
   "outputs": [],
   "source": [
    "# Set the threshold\n",
    "threshold = 0.975\n",
    "\n",
    "# Empty dictionary to hold correlated variables\n",
    "above_threshold_vars = {}\n",
    "\n",
    "# For each column, record the variables that are above the threshold\n",
    "for col in corr:\n",
    "    above_threshold_vars[col] = list(corr.index[corr[col] > threshold])\n",
    "\n",
    "pd.Series(above_threshold_vars)\n"
   ]
  },
  {
   "cell_type": "markdown",
   "metadata": {
    "id": "Si_KbJ4L9vXX"
   },
   "source": [
    "# Analyses of engineered features"
   ]
  },
  {
   "cell_type": "code",
   "execution_count": null,
   "metadata": {
    "colab": {
     "base_uri": "https://localhost:8080/",
     "height": 110
    },
    "id": "Ia0PqSQ1-Ky1",
    "outputId": "249d3820-8779-4b3d-b399-68cf926d8562"
   },
   "outputs": [],
   "source": [
    "corr_target.loc[sort_criteria.index].to_frame().T\n"
   ]
  },
  {
   "cell_type": "markdown",
   "metadata": {
    "id": "8ZqYGILc-F35"
   },
   "source": [
    "### What works ✔️"
   ]
  },
  {
   "cell_type": "markdown",
   "metadata": {
    "id": "eqCs_1OnhisK"
   },
   "source": [
    "#### Trade price vs distance from mid\n",
    "\n",
    "Similar to `EMO`, where the applied rule depends on whether the trade is at the ask or bid. Similarily `CLVN` uses percentage bounds e. g., $~20~\\%$ of spread."
   ]
  },
  {
   "cell_type": "code",
   "execution_count": null,
   "metadata": {
    "colab": {
     "base_uri": "https://localhost:8080/",
     "height": 483
    },
    "id": "A1y0c6y0hqtB",
    "outputId": "0fddf5eb-a51d-4082-84fe-619bb690532c"
   },
   "outputs": [],
   "source": [
    "plot_kde_target(\"prox_ex\", clip=[-2, 2])\n"
   ]
  },
  {
   "cell_type": "code",
   "execution_count": null,
   "metadata": {
    "colab": {
     "base_uri": "https://localhost:8080/",
     "height": 312
    },
    "id": "eblbyBtLh32U",
    "outputId": "3b7b6db7-db3e-4534-c778-fa2389f7aa02"
   },
   "outputs": [],
   "source": [
    "plot_kde_target_comparsion(\"prox_ex\", years=[2006, 2010, 2013], clip=[-2, 2])\n"
   ]
  },
  {
   "cell_type": "markdown",
   "metadata": {
    "id": "Jc3nlqEai9aa"
   },
   "source": [
    "#### Depth\n",
    "\n",
    "Implicitly used in depth rule. Depth rule would assign a buy if `bid_ask_size_ratio_ex` is above one and a sell if it is below zero. But only used for mid-spread trades."
   ]
  },
  {
   "cell_type": "code",
   "execution_count": null,
   "metadata": {
    "colab": {
     "base_uri": "https://localhost:8080/",
     "height": 483
    },
    "id": "WugmHPe5jAXi",
    "outputId": "1ef9dd30-5f93-4468-933b-cb9cb69db9d7"
   },
   "outputs": [],
   "source": [
    "plot_kde_target(\"bid_ask_size_ratio_ex\", clip=[0, 100])\n"
   ]
  },
  {
   "cell_type": "code",
   "execution_count": null,
   "metadata": {
    "colab": {
     "base_uri": "https://localhost:8080/",
     "height": 312
    },
    "id": "EelrGS3ijA2d",
    "outputId": "b23088da-5cea-4eb6-e642-6d966bb95741"
   },
   "outputs": [],
   "source": [
    "plot_kde_target_comparsion(\n",
    "    \"bid_ask_size_ratio_ex\", years=[2006, 2010, 2013], clip=[0, 100]\n",
    ")\n"
   ]
  },
  {
   "cell_type": "markdown",
   "metadata": {
    "id": "La0E9-xeDznH"
   },
   "source": [
    "#### $\\log$ bid ex"
   ]
  },
  {
   "cell_type": "code",
   "execution_count": null,
   "metadata": {
    "colab": {
     "base_uri": "https://localhost:8080/",
     "height": 483
    },
    "id": "azwaPAaR-hMH",
    "outputId": "da0d0833-13b6-45be-ee1f-c4d1de93a19e"
   },
   "outputs": [],
   "source": [
    "plot_kde_target(\"log_bid_ex\")\n"
   ]
  },
  {
   "cell_type": "code",
   "execution_count": null,
   "metadata": {
    "colab": {
     "base_uri": "https://localhost:8080/",
     "height": 312
    },
    "id": "bD0Vrrue-3bI",
    "outputId": "6d5ecd65-97ff-47c5-e0c7-c978999d6ded"
   },
   "outputs": [],
   "source": [
    "plot_kde_target_comparsion(\"log_bid_ex\", years=[2006, 2010, 2013])\n"
   ]
  },
  {
   "cell_type": "markdown",
   "metadata": {
    "id": "nMDoG_7ZwhHu"
   },
   "source": [
    "**Observation:**\n",
    "- Application of the $\\log$ leads to highly differentiable distributions, that remain stable over time."
   ]
  },
  {
   "cell_type": "markdown",
   "metadata": {
    "id": "mAnyPoUuDvmW"
   },
   "source": [
    "#### $\\log$ trade price"
   ]
  },
  {
   "cell_type": "code",
   "execution_count": null,
   "metadata": {
    "colab": {
     "base_uri": "https://localhost:8080/",
     "height": 483
    },
    "id": "7UYh_BnU_MeW",
    "outputId": "56e56a26-1e71-461a-81c0-8d2828c343cb"
   },
   "outputs": [],
   "source": [
    "plot_kde_target(\"log_trade_price\")\n"
   ]
  },
  {
   "cell_type": "code",
   "execution_count": null,
   "metadata": {
    "colab": {
     "base_uri": "https://localhost:8080/",
     "height": 312
    },
    "id": "83OwlI_H_X6e",
    "outputId": "68ed276e-fdcf-411b-b50e-0cbe6e92905b"
   },
   "outputs": [],
   "source": [
    "plot_kde_target_comparsion(\"log_trade_price\", years=[2006, 2010, 2013])\n"
   ]
  },
  {
   "cell_type": "markdown",
   "metadata": {
    "id": "KNqBQJWwwhHv"
   },
   "source": [
    "**Observation:**\n",
    "- Application of the $\\log$ leads to highly differentiable distributions, that remain stable over time."
   ]
  },
  {
   "cell_type": "markdown",
   "metadata": {
    "id": "gpdek3I2DsIS"
   },
   "source": [
    "#### Ask size"
   ]
  },
  {
   "cell_type": "code",
   "execution_count": null,
   "metadata": {
    "colab": {
     "base_uri": "https://localhost:8080/",
     "height": 483
    },
    "id": "mhljYe2-_xlb",
    "outputId": "8e6edcc4-4447-4e1e-ff44-a7a0b9cee687"
   },
   "outputs": [],
   "source": [
    "plot_kde_target(\"ask_size_ex\", clip=[0, 2000])\n"
   ]
  },
  {
   "cell_type": "code",
   "execution_count": null,
   "metadata": {
    "colab": {
     "base_uri": "https://localhost:8080/",
     "height": 312
    },
    "id": "6WLZVYMTAISn",
    "outputId": "ae4d16da-5c95-4985-e41f-1a0c7f6214e7"
   },
   "outputs": [],
   "source": [
    "plot_kde_target_comparsion(\"ask_size_ex\", years=[2006, 2010, 2013], clip=[0, 2000])\n"
   ]
  },
  {
   "cell_type": "markdown",
   "metadata": {
    "id": "NC-jnOsVDo4b"
   },
   "source": [
    "#### Bid size"
   ]
  },
  {
   "cell_type": "code",
   "execution_count": null,
   "metadata": {
    "colab": {
     "base_uri": "https://localhost:8080/",
     "height": 483
    },
    "id": "7auGIaX5AtuF",
    "outputId": "102c88e5-b9c8-441a-b467-6880fdc96409"
   },
   "outputs": [],
   "source": [
    "plot_kde_target(\"bid_size_ex\", clip=[0, 1000])\n"
   ]
  },
  {
   "cell_type": "code",
   "execution_count": null,
   "metadata": {
    "colab": {
     "base_uri": "https://localhost:8080/",
     "height": 312
    },
    "id": "k4d6zmPJBbQe",
    "outputId": "d7444269-ae64-42fd-faf1-2c399a697ba7"
   },
   "outputs": [],
   "source": [
    "plot_kde_target_comparsion(\"bid_size_ex\", years=[2006, 2010, 2013], clip=[0, 1000])\n"
   ]
  },
  {
   "cell_type": "markdown",
   "metadata": {
    "id": "VL6hJO_ADgrS"
   },
   "source": [
    "#### Quote rule"
   ]
  },
  {
   "cell_type": "code",
   "execution_count": null,
   "metadata": {
    "colab": {
     "base_uri": "https://localhost:8080/",
     "height": 483
    },
    "id": "y8nKJs-xCHvF",
    "outputId": "8123dcb6-26ea-42d9-aeba-97b37d033c7b"
   },
   "outputs": [],
   "source": [
    "plot_kde_target(\"abs_mid_ex\", clip=[-0.5, 0.5])\n"
   ]
  },
  {
   "cell_type": "code",
   "execution_count": null,
   "metadata": {
    "colab": {
     "base_uri": "https://localhost:8080/",
     "height": 312
    },
    "id": "YkRp65M7CN7M",
    "outputId": "e3c2b158-d139-4f2c-8951-6339dcd78100"
   },
   "outputs": [],
   "source": [
    "plot_kde_target_comparsion(\"abs_mid_ex\", years=[2006, 2010, 2013], clip=[-0.5, 0.5])\n"
   ]
  },
  {
   "cell_type": "markdown",
   "metadata": {
    "id": "xHh4GiFOwhHy"
   },
   "source": [
    "**Observation:**\n",
    "- Compared with tick rule or reverse tick rule, quote rule is the only classical rule, where distributions are somewhat distinguishable\n",
    "- On can clearly see that the quote rule works better at the beginning of the data set and its performance worsens over time."
   ]
  },
  {
   "cell_type": "markdown",
   "metadata": {
    "id": "JljvKUsVEL6H"
   },
   "source": [
    "#### Day of the month"
   ]
  },
  {
   "cell_type": "code",
   "execution_count": null,
   "metadata": {
    "colab": {
     "base_uri": "https://localhost:8080/",
     "height": 483
    },
    "id": "wvhCypnJD6_y",
    "outputId": "0ac7f3c4-449b-4442-9369-56ee57ce0441"
   },
   "outputs": [],
   "source": [
    "plot_kde_target(\"day\")\n"
   ]
  },
  {
   "cell_type": "code",
   "execution_count": null,
   "metadata": {
    "colab": {
     "base_uri": "https://localhost:8080/",
     "height": 483
    },
    "id": "j2pP-JoWGT3a",
    "outputId": "89da927d-9628-4f45-fc27-5755cb81f4d6"
   },
   "outputs": [],
   "source": [
    "plot_kde_target(\"year\")\n"
   ]
  },
  {
   "cell_type": "markdown",
   "metadata": {
    "id": "GU6-LKPrGftY"
   },
   "source": [
    "**Observation:**\n",
    "* Judging from the plot there seems to be a seasonal pattern e. g., more buys \n",
    "at the beginning of the month and more sells towards the end of the month. \n",
    "* Due to the distributions it could make sense to include date features in some feature sets. But do not include in the most basic data set."
   ]
  },
  {
   "cell_type": "markdown",
   "metadata": {
    "id": "KDAoxtxJ-TkV"
   },
   "source": [
    "## What doesn't ❌"
   ]
  },
  {
   "cell_type": "markdown",
   "metadata": {
    "id": "vm-KQmTLFAhR"
   },
   "source": [
    "#### tick rule"
   ]
  },
  {
   "cell_type": "code",
   "execution_count": null,
   "metadata": {
    "colab": {
     "base_uri": "https://localhost:8080/",
     "height": 483
    },
    "id": "HgyVpqkhAn2A",
    "outputId": "a9ad17e6-fb4a-428d-e75f-8e18b0e46f0f"
   },
   "outputs": [],
   "source": [
    "plot_kde_target(\"chg_ex_lead\", clip=[-5, 5])\n"
   ]
  },
  {
   "cell_type": "code",
   "execution_count": null,
   "metadata": {
    "colab": {
     "base_uri": "https://localhost:8080/",
     "height": 312
    },
    "id": "QjY46fg-Fn4q",
    "outputId": "d3a069e2-3f0c-41a1-e0b1-ed78b0178507"
   },
   "outputs": [],
   "source": [
    "plot_kde_target_comparsion(\"chg_ex_lead\", years=[2006, 2010, 2013], clip=[-5, 5])\n"
   ]
  },
  {
   "cell_type": "markdown",
   "metadata": {
    "id": "s_60zom2whH1"
   },
   "source": [
    "**Observation:**\n",
    "- Distributions are hardly distinguishable. \n",
    "- Results seem to worsen over time, which is consistent to the observations of Grauer et. al."
   ]
  },
  {
   "cell_type": "markdown",
   "metadata": {
    "id": "Vc3gKTf7FHID"
   },
   "source": [
    "#### reverse tick rule"
   ]
  },
  {
   "cell_type": "code",
   "execution_count": null,
   "metadata": {
    "colab": {
     "base_uri": "https://localhost:8080/",
     "height": 312
    },
    "id": "V-XTdok0FKJw",
    "outputId": "01b29cc6-f889-4b98-9718-eec0047b016e"
   },
   "outputs": [],
   "source": [
    "plot_kde_target_comparsion(\"chg_ex_lag\", years=[2006, 2010, 2013], clip=[-5, 5])\n"
   ]
  },
  {
   "cell_type": "code",
   "execution_count": null,
   "metadata": {
    "colab": {
     "base_uri": "https://localhost:8080/",
     "height": 312
    },
    "id": "1egDxKiVF3x_",
    "outputId": "4460c8ce-13fb-4d30-b6ad-1dab281233cf"
   },
   "outputs": [],
   "source": [
    "plot_kde_target_comparsion(\"chg_ex_lag\", years=[2006, 2010, 2013], clip=[-5, 5])\n"
   ]
  },
  {
   "cell_type": "markdown",
   "metadata": {
    "id": "d7F0yjcxwhH2"
   },
   "source": [
    "**Observation:**\n",
    "- Distributions are hardly distinguishable. \n",
    "- Results worsen over time."
   ]
  },
  {
   "cell_type": "code",
   "execution_count": null,
   "metadata": {
    "colab": {
     "base_uri": "https://localhost:8080/",
     "height": 483
    },
    "id": "mCid1bvHUPuu",
    "outputId": "9f615b6f-4162-44e4-f699-9f2a910c0454"
   },
   "outputs": [],
   "source": [
    "plot_kde_target(\"log_bid_ex\", clip=[-5, 8])\n"
   ]
  },
  {
   "cell_type": "code",
   "execution_count": null,
   "metadata": {
    "id": "UY_U1fSnU9w-"
   },
   "outputs": [],
   "source": [
    "data.replace([np.inf, -np.inf], np.nan, inplace=True)\n"
   ]
  },
  {
   "cell_type": "code",
   "execution_count": null,
   "metadata": {
    "id": "7DuDX2elUTE7"
   },
   "outputs": [],
   "source": [
    "scaler = StandardScaler()\n",
    "data[\"log_bid_ex_scaled\"] = scaler.fit_transform(\n",
    "    X=data[\"log_bid_ex\"].values.reshape(-1, 1)\n",
    ")\n"
   ]
  },
  {
   "cell_type": "code",
   "execution_count": null,
   "metadata": {
    "colab": {
     "base_uri": "https://localhost:8080/"
    },
    "id": "zsdRVJVTWGUe",
    "outputId": "83bbe197-c18e-4f44-b29c-5c250586b2da"
   },
   "outputs": [],
   "source": [
    "data[\"log_bid_ex_scaled\"].describe()\n"
   ]
  },
  {
   "cell_type": "code",
   "execution_count": null,
   "metadata": {
    "colab": {
     "base_uri": "https://localhost:8080/",
     "height": 483
    },
    "id": "cJVUGKqMUjWY",
    "outputId": "88145966-8677-476b-ee33-a8bc0ef55999"
   },
   "outputs": [],
   "source": [
    "plot_kde_target(\"log_bid_ex_scaled\", clip=[-5, 5])\n"
   ]
  },
  {
   "cell_type": "markdown",
   "metadata": {
    "id": "TDCrqcp8Y9Js"
   },
   "source": [
    "Results as expected. Scaling using `StandardScaler` does not affect distribution of data."
   ]
  },
  {
   "cell_type": "markdown",
   "metadata": {
    "id": "F781YhmiGY_u"
   },
   "source": [
    "# Conclusion 🔗\n",
    "\n",
    "**Observation:**\n",
    "* $log$ transform makes no difference for gbms as shown in `3.0b-mb-comparsion-transformations.ipynb`. This is consistent with literature, as trees don't consider distributions. $log$\n",
    "* Imputation makes hardly any differnce for gbms as shown in `3.0b-mb-comparsion-transformations.ipynb`. Passing missing values to the model yields slightly better results. This is also expected.\n",
    "* Incorporating highly correlated columns is no problem for gbms and neural nets from a theoretical standpoint.\n",
    "- Features of Grauer et. al seem to work. \n",
    "- Binning gives mixed results e. g., for trade size and ttm.\n",
    "- Theoretically, highly correlated columns don't matter for gradient boosting and neural networks.\n"
   ]
  }
 ],
 "metadata": {
  "colab": {
   "machine_shape": "hm",
   "name": "Untitled2.ipynb",
   "provenance": []
  },
  "gpuClass": "premium",
  "kernelspec": {
   "display_name": "Python 3",
   "language": "python",
   "name": "python3"
  },
  "language_info": {
   "codemirror_mode": {
    "name": "ipython",
    "version": 3
   },
   "file_extension": ".py",
   "mimetype": "text/x-python",
   "name": "python",
   "nbconvert_exporter": "python",
   "pygments_lexer": "ipython3",
   "version": "3.9.4 (tags/v3.9.4:1f2e308, Apr  6 2021, 13:40:21) [MSC v.1928 64 bit (AMD64)]"
  },
  "vscode": {
   "interpreter": {
    "hash": "f8ea8b642289b706932f10b33ee389827410dbaef0ce2c5bf73615e8d3267d88"
   }
  }
 },
 "nbformat": 4,
 "nbformat_minor": 4
}
