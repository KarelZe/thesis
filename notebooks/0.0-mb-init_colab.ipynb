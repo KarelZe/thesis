{
  "cells": [
    {
      "cell_type": "markdown",
      "metadata": {
        "id": "view-in-github",
        "colab_type": "text"
      },
      "source": [
        "<a href=\"https://colab.research.google.com/github/KarelZe/thesis/blob/main/notebooks/init_colab.ipynb\" target=\"_parent\"><img src=\"https://colab.research.google.com/assets/colab-badge.svg\" alt=\"Open In Colab\"/></a>"
      ]
    },
    {
      "cell_type": "code",
      "execution_count": null,
      "metadata": {
        "id": "tOtLR4B0R-ql"
      },
      "outputs": [],
      "source": [
        "from google.colab import drive\n",
        "from google.colab import auth\n",
        "drive.mount(\"/content/drive\")\n",
        "auth.authenticate_user()"
      ]
    },
    {
      "cell_type": "code",
      "execution_count": null,
      "metadata": {
        "id": "4qXS1TPPOZdw"
      },
      "outputs": [],
      "source": [
        "# Install colab_ssh on google colab\n",
        "!pip install colab_ssh --upgrade\n",
        "!pip install python-dotenv --quiet\n",
        "\n",
        "import dotenv\n",
        "import os\n",
        "from colab_ssh import launch_ssh, init_git\n",
        "\n",
        "dotenv.load_dotenv(\n",
        "        os.path.join('/content/drive/MyDrive/vscode-ssh', '.env')\n",
        ")\n",
        "\n",
        "username = os.getenv('USERNAME')\n",
        "password = os.getenv('PASSWORD')\n",
        "email = os.getenv('EMAIL')\n",
        "github_token = os.getenv('GITHUB_TOKEN')\n",
        "ngrok_token = os.getenv('NGROK_TOKEN')\n",
        "\n",
        "launch_ssh(ngrok_token,password)\n",
        "\n",
        "github_url = \"https://github.com/KarelZe/thesis.git\"\n",
        "init_git(github_url,personal_token=github_token, email=email,username=username)"
      ]
    },
    {
      "cell_type": "code",
      "source": [
        "# use gcs fuse to access google cloud storage\n",
        "# https://stackoverflow.com/a/60450255/5755604\n",
        "!echo \"deb http://packages.cloud.google.com/apt gcsfuse-bionic main\" > /etc/apt/sources.list.d/gcsfuse.list\n",
        "!curl https://packages.cloud.google.com/apt/doc/apt-key.gpg | apt-key add -\n",
        "!apt -qq update\n",
        "!apt -qq install gcsfuse\n",
        "\n",
        "# mount google cloud stoarge as drive\n",
        "!mkdir gcs\n",
        "!gcsfuse thesis-bucket-option-trade-classification gcs"
      ],
      "metadata": {
        "id": "EEaH7B-Mn0n8"
      },
      "execution_count": null,
      "outputs": []
    },
    {
      "cell_type": "code",
      "execution_count": null,
      "metadata": {
        "id": "yAV2A4CTnzWW"
      },
      "outputs": [],
      "source": [
        "# prevent time out\n",
        "while True: pass"
      ]
    }
  ],
  "metadata": {
    "colab": {
      "name": "Untitled2.ipynb",
      "provenance": [],
      "include_colab_link": true
    },
    "kernelspec": {
      "display_name": "Python 3",
      "name": "python3"
    },
    "language_info": {
      "name": "python"
    }
  },
  "nbformat": 4,
  "nbformat_minor": 0
}