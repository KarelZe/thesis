{
 "cells": [
  {
   "cell_type": "code",
   "execution_count": 55,
   "metadata": {
    "id": "CaVEwMkoVl9E"
   },
   "outputs": [],
   "source": [
    "import json\n",
    "import os\n",
    "import pickle\n",
    "from pathlib import Path\n",
    "\n",
    "import gcsfs\n",
    "import numpy as np\n",
    "import pandas as pd\n",
    "import wandb\n",
    "from catboost import CatBoostClassifier, Pool\n",
    "from sklearn.metrics import accuracy_score"
   ]
  },
  {
   "cell_type": "code",
   "execution_count": 31,
   "metadata": {
    "id": "DMpV9NTt25pj"
   },
   "outputs": [],
   "source": [
    "features_classical = [\n",
    "    \"TRADE_PRICE\",\n",
    "    \"bid_ex\",\n",
    "    \"ask_ex\",\n",
    "    \"BEST_ASK\",\n",
    "    \"BEST_BID\",\n",
    "    \"price_ex_lag\",\n",
    "    \"price_ex_lead\",\n",
    "    \"price_all_lag\",\n",
    "    \"price_all_lead\",\n",
    "    \"chg_ex_lead\",\n",
    "    \"chg_ex_lag\",\n",
    "    \"chg_all_lead\",\n",
    "    \"chg_all_lag\",\n",
    "    \"prox_ex\",\n",
    "    \"prox_best\",\n",
    "]\n",
    "\n",
    "features_size = [\n",
    "    \"bid_ask_size_ratio_ex\",\n",
    "    \"rel_bid_size_ex\",\n",
    "    \"rel_ask_size_ex\",\n",
    "    \"TRADE_SIZE\",\n",
    "    \"bid_size_ex\",\n",
    "    \"ask_size_ex\",\n",
    "    \"depth_ex\",\n",
    "]\n",
    "\n",
    "columns = [*features_classical, *features_size, \"buy_sell\"]"
   ]
  },
  {
   "cell_type": "code",
   "execution_count": 32,
   "metadata": {
    "tags": []
   },
   "outputs": [
    {
     "data": {
      "text/html": [
       "Finishing last run (ID:2qwwarhh) before initializing another..."
      ],
      "text/plain": [
       "<IPython.core.display.HTML object>"
      ]
     },
     "metadata": {},
     "output_type": "display_data"
    },
    {
     "data": {
      "text/html": [
       "Waiting for W&B process to finish... <strong style=\"color:green\">(success).</strong>"
      ],
      "text/plain": [
       "<IPython.core.display.HTML object>"
      ]
     },
     "metadata": {},
     "output_type": "display_data"
    },
    {
     "data": {
      "text/html": [
       "Synced <strong style=\"color:#cdcd00\">chocolate-cherry-1068</strong>: <a href=\"https://wandb.ai/fbv/thesis/runs/2qwwarhh\" target=\"_blank\">https://wandb.ai/fbv/thesis/runs/2qwwarhh</a><br/>Synced 5 W&B file(s), 0 media file(s), 0 artifact file(s) and 0 other file(s)"
      ],
      "text/plain": [
       "<IPython.core.display.HTML object>"
      ]
     },
     "metadata": {},
     "output_type": "display_data"
    },
    {
     "data": {
      "text/html": [
       "Find logs at: <code>./wandb/run-20230402_140019-2qwwarhh/logs</code>"
      ],
      "text/plain": [
       "<IPython.core.display.HTML object>"
      ]
     },
     "metadata": {},
     "output_type": "display_data"
    },
    {
     "data": {
      "text/html": [
       "Successfully finished last run (ID:2qwwarhh). Initializing new run:<br/>"
      ],
      "text/plain": [
       "<IPython.core.display.HTML object>"
      ]
     },
     "metadata": {},
     "output_type": "display_data"
    },
    {
     "data": {
      "text/html": [
       "wandb version 0.14.0 is available!  To upgrade, please run:\n",
       " $ pip install wandb --upgrade"
      ],
      "text/plain": [
       "<IPython.core.display.HTML object>"
      ]
     },
     "metadata": {},
     "output_type": "display_data"
    },
    {
     "data": {
      "text/html": [
       "Tracking run with wandb version 0.13.5"
      ],
      "text/plain": [
       "<IPython.core.display.HTML object>"
      ]
     },
     "metadata": {},
     "output_type": "display_data"
    },
    {
     "data": {
      "text/html": [
       "Run data is saved locally in <code>/pfs/data5/home/kit/stud/uloak/thesis/notebooks/wandb/run-20230402_153636-3kjuhlrn</code>"
      ],
      "text/plain": [
       "<IPython.core.display.HTML object>"
      ]
     },
     "metadata": {},
     "output_type": "display_data"
    },
    {
     "data": {
      "text/html": [
       "Syncing run <strong><a href=\"https://wandb.ai/fbv/thesis/runs/3kjuhlrn\" target=\"_blank\">usual-feather-1077</a></strong> to <a href=\"https://wandb.ai/fbv/thesis\" target=\"_blank\">Weights & Biases</a> (<a href=\"https://wandb.me/run\" target=\"_blank\">docs</a>)<br/>"
      ],
      "text/plain": [
       "<IPython.core.display.HTML object>"
      ]
     },
     "metadata": {},
     "output_type": "display_data"
    },
    {
     "name": "stderr",
     "output_type": "stream",
     "text": [
      "\u001b[34m\u001b[1mwandb\u001b[0m: Downloading large artifact ise_supervised_log_standardized:latest, 5414.39MB. 3 files... \n",
      "\u001b[34m\u001b[1mwandb\u001b[0m:   3 of 3 files downloaded.  \n",
      "Done. 0:0:0.0\n",
      "\u001b[34m\u001b[1mwandb\u001b[0m: Downloading large artifact ise_unsupervised_log_standardized:latest, 1374.53MB. 1 files... \n",
      "/pfs/data5/home/kit/stud/uloak/thesis/thesis/lib/python3.8/site-packages/google/auth/_default.py:78: UserWarning: Your application has authenticated using end user credentials from Google Cloud SDK without a quota project. You might receive a \"quota exceeded\" or \"API not enabled\" error. See the following page for troubleshooting: https://cloud.google.com/docs/authentication/adc-troubleshooting/user-creds. \n",
      "  warnings.warn(_CLOUD_SDK_CREDENTIALS_WARNING)\n",
      "\u001b[34m\u001b[1mwandb\u001b[0m:   1 of 1 files downloaded.  \n",
      "Done. 0:0:25.4\n"
     ]
    }
   ],
   "source": [
    "os.environ[\"GCLOUD_PROJECT\"] = \"flowing-mantis-239216\"\n",
    "\n",
    "# unlabelled data\n",
    "dataset = \"fbv/thesis/ise_supervised_log_standardized:latest\"\n",
    "\n",
    "run = wandb.init(project=\"thesis\", entity=\"fbv\")\n",
    "\n",
    "\n",
    "artifact_labelled = run.use_artifact(dataset)\n",
    "artifact_dir_labelled = artifact_labelled.download()\n",
    "\n",
    "unlabelled_dataset = dataset.replace(\"supervised\", \"unsupervised\")\n",
    "artifact_unlabelled = run.use_artifact(unlabelled_dataset)\n",
    "artifact_dir_unlabelled = artifact_unlabelled.download()\n",
    "\n",
    "x_train_unlabelled = pd.read_parquet(\n",
    "            Path(artifact_dir_unlabelled, \"train_set.parquet\"), columns=columns\n",
    "        )\n",
    "y_train_unlabelled = x_train_unlabelled[\"buy_sell\"]\n",
    "x_train_unlabelled.drop(columns=[\"buy_sell\"], inplace=True)\n",
    "\n",
    "# labelled data\n",
    "x_train_labelled = pd.read_parquet(\n",
    "            Path(artifact_dir_labelled, \"train_set.parquet\"), columns=columns\n",
    "        )\n",
    "y_train_labelled = x_train_labelled[\"buy_sell\"]\n",
    "x_train_labelled.drop(columns=[\"buy_sell\"], inplace=True)\n",
    "\n",
    "# x_train = pd.concat([x_train_labelled, x_train_unlabelled])\n",
    "# y_train = pd.concat([y_train_labelled, y_train_unlabelled])\n"
   ]
  },
  {
   "cell_type": "code",
   "execution_count": 33,
   "metadata": {
    "tags": []
   },
   "outputs": [
    {
     "data": {
      "text/html": [
       "<div>\n",
       "<style scoped>\n",
       "    .dataframe tbody tr th:only-of-type {\n",
       "        vertical-align: middle;\n",
       "    }\n",
       "\n",
       "    .dataframe tbody tr th {\n",
       "        vertical-align: top;\n",
       "    }\n",
       "\n",
       "    .dataframe thead th {\n",
       "        text-align: right;\n",
       "    }\n",
       "</style>\n",
       "<table border=\"1\" class=\"dataframe\">\n",
       "  <thead>\n",
       "    <tr style=\"text-align: right;\">\n",
       "      <th></th>\n",
       "      <th>TRADE_PRICE</th>\n",
       "      <th>bid_ex</th>\n",
       "      <th>ask_ex</th>\n",
       "      <th>BEST_ASK</th>\n",
       "      <th>BEST_BID</th>\n",
       "      <th>price_ex_lag</th>\n",
       "      <th>price_ex_lead</th>\n",
       "      <th>price_all_lag</th>\n",
       "      <th>price_all_lead</th>\n",
       "      <th>chg_ex_lead</th>\n",
       "      <th>...</th>\n",
       "      <th>chg_all_lag</th>\n",
       "      <th>prox_ex</th>\n",
       "      <th>prox_best</th>\n",
       "      <th>bid_ask_size_ratio_ex</th>\n",
       "      <th>rel_bid_size_ex</th>\n",
       "      <th>rel_ask_size_ex</th>\n",
       "      <th>TRADE_SIZE</th>\n",
       "      <th>bid_size_ex</th>\n",
       "      <th>ask_size_ex</th>\n",
       "      <th>depth_ex</th>\n",
       "    </tr>\n",
       "    <tr>\n",
       "      <th>index</th>\n",
       "      <th></th>\n",
       "      <th></th>\n",
       "      <th></th>\n",
       "      <th></th>\n",
       "      <th></th>\n",
       "      <th></th>\n",
       "      <th></th>\n",
       "      <th></th>\n",
       "      <th></th>\n",
       "      <th></th>\n",
       "      <th></th>\n",
       "      <th></th>\n",
       "      <th></th>\n",
       "      <th></th>\n",
       "      <th></th>\n",
       "      <th></th>\n",
       "      <th></th>\n",
       "      <th></th>\n",
       "      <th></th>\n",
       "      <th></th>\n",
       "      <th></th>\n",
       "    </tr>\n",
       "  </thead>\n",
       "  <tbody>\n",
       "    <tr>\n",
       "      <th>0</th>\n",
       "      <td>-0.075434</td>\n",
       "      <td>-0.087708</td>\n",
       "      <td>-0.069536</td>\n",
       "      <td>-0.078667</td>\n",
       "      <td>-0.103398</td>\n",
       "      <td>-0.002769</td>\n",
       "      <td>-0.050296</td>\n",
       "      <td>-0.115317</td>\n",
       "      <td>-0.103454</td>\n",
       "      <td>0.047950</td>\n",
       "      <td>...</td>\n",
       "      <td>0.051327</td>\n",
       "      <td>0.601985</td>\n",
       "      <td>0.556092</td>\n",
       "      <td>-0.056979</td>\n",
       "      <td>-0.080504</td>\n",
       "      <td>0.050436</td>\n",
       "      <td>0.478473</td>\n",
       "      <td>0.337472</td>\n",
       "      <td>-0.750214</td>\n",
       "      <td>0.077184</td>\n",
       "    </tr>\n",
       "    <tr>\n",
       "      <th>1</th>\n",
       "      <td>0.435948</td>\n",
       "      <td>-1.223989</td>\n",
       "      <td>-1.288634</td>\n",
       "      <td>0.394075</td>\n",
       "      <td>0.391067</td>\n",
       "      <td>0.512701</td>\n",
       "      <td>0.650744</td>\n",
       "      <td>0.473783</td>\n",
       "      <td>0.481490</td>\n",
       "      <td>-0.279372</td>\n",
       "      <td>...</td>\n",
       "      <td>-0.032141</td>\n",
       "      <td>0.027207</td>\n",
       "      <td>2.151443</td>\n",
       "      <td>-0.078490</td>\n",
       "      <td>-0.105558</td>\n",
       "      <td>-0.108600</td>\n",
       "      <td>0.478473</td>\n",
       "      <td>-2.212652</td>\n",
       "      <td>-2.475971</td>\n",
       "      <td>0.005799</td>\n",
       "    </tr>\n",
       "    <tr>\n",
       "      <th>2</th>\n",
       "      <td>1.419895</td>\n",
       "      <td>1.436811</td>\n",
       "      <td>1.424212</td>\n",
       "      <td>1.420280</td>\n",
       "      <td>1.427649</td>\n",
       "      <td>1.456726</td>\n",
       "      <td>1.539712</td>\n",
       "      <td>1.420566</td>\n",
       "      <td>1.490898</td>\n",
       "      <td>-0.279372</td>\n",
       "      <td>...</td>\n",
       "      <td>0.068020</td>\n",
       "      <td>-0.355982</td>\n",
       "      <td>-0.330215</td>\n",
       "      <td>-0.075206</td>\n",
       "      <td>-0.050857</td>\n",
       "      <td>-0.055588</td>\n",
       "      <td>1.894671</td>\n",
       "      <td>0.767981</td>\n",
       "      <td>0.759048</td>\n",
       "      <td>0.005799</td>\n",
       "    </tr>\n",
       "    <tr>\n",
       "      <th>3</th>\n",
       "      <td>-1.081623</td>\n",
       "      <td>-1.223989</td>\n",
       "      <td>-1.048194</td>\n",
       "      <td>-1.060732</td>\n",
       "      <td>-1.244545</td>\n",
       "      <td>-1.072063</td>\n",
       "      <td>-1.035663</td>\n",
       "      <td>-1.115611</td>\n",
       "      <td>-1.096692</td>\n",
       "      <td>0.009441</td>\n",
       "      <td>...</td>\n",
       "      <td>0.017940</td>\n",
       "      <td>0.716941</td>\n",
       "      <td>0.662449</td>\n",
       "      <td>-0.078490</td>\n",
       "      <td>-0.105558</td>\n",
       "      <td>-0.071615</td>\n",
       "      <td>0.478473</td>\n",
       "      <td>-2.212652</td>\n",
       "      <td>0.055485</td>\n",
       "      <td>-0.049509</td>\n",
       "    </tr>\n",
       "    <tr>\n",
       "      <th>4</th>\n",
       "      <td>-1.037590</td>\n",
       "      <td>-0.985846</td>\n",
       "      <td>-0.888270</td>\n",
       "      <td>-0.938194</td>\n",
       "      <td>-0.963346</td>\n",
       "      <td>-0.899164</td>\n",
       "      <td>-0.864847</td>\n",
       "      <td>-0.942207</td>\n",
       "      <td>-0.924511</td>\n",
       "      <td>-0.048321</td>\n",
       "      <td>...</td>\n",
       "      <td>-0.032141</td>\n",
       "      <td>-1.122351</td>\n",
       "      <td>-2.102823</td>\n",
       "      <td>-0.050867</td>\n",
       "      <td>-0.104091</td>\n",
       "      <td>-0.096643</td>\n",
       "      <td>0.824408</td>\n",
       "      <td>2.027528</td>\n",
       "      <td>0.920231</td>\n",
       "      <td>1.907473</td>\n",
       "    </tr>\n",
       "    <tr>\n",
       "      <th>...</th>\n",
       "      <td>...</td>\n",
       "      <td>...</td>\n",
       "      <td>...</td>\n",
       "      <td>...</td>\n",
       "      <td>...</td>\n",
       "      <td>...</td>\n",
       "      <td>...</td>\n",
       "      <td>...</td>\n",
       "      <td>...</td>\n",
       "      <td>...</td>\n",
       "      <td>...</td>\n",
       "      <td>...</td>\n",
       "      <td>...</td>\n",
       "      <td>...</td>\n",
       "      <td>...</td>\n",
       "      <td>...</td>\n",
       "      <td>...</td>\n",
       "      <td>...</td>\n",
       "      <td>...</td>\n",
       "      <td>...</td>\n",
       "      <td>...</td>\n",
       "    </tr>\n",
       "    <tr>\n",
       "      <th>29510315</th>\n",
       "      <td>-1.127530</td>\n",
       "      <td>-1.074832</td>\n",
       "      <td>-1.101197</td>\n",
       "      <td>-1.132246</td>\n",
       "      <td>-1.094749</td>\n",
       "      <td>-1.062727</td>\n",
       "      <td>-1.026440</td>\n",
       "      <td>-1.106247</td>\n",
       "      <td>-1.087394</td>\n",
       "      <td>-0.013664</td>\n",
       "      <td>...</td>\n",
       "      <td>-0.002092</td>\n",
       "      <td>-1.122351</td>\n",
       "      <td>-1.039256</td>\n",
       "      <td>-0.073058</td>\n",
       "      <td>0.222651</td>\n",
       "      <td>0.417444</td>\n",
       "      <td>1.758366</td>\n",
       "      <td>-0.236296</td>\n",
       "      <td>-0.607759</td>\n",
       "      <td>0.016731</td>\n",
       "    </tr>\n",
       "    <tr>\n",
       "      <th>29510316</th>\n",
       "      <td>-0.771314</td>\n",
       "      <td>-0.749411</td>\n",
       "      <td>-0.782200</td>\n",
       "      <td>-0.793812</td>\n",
       "      <td>-0.767935</td>\n",
       "      <td>-0.637977</td>\n",
       "      <td>-0.774127</td>\n",
       "      <td>-0.680256</td>\n",
       "      <td>-0.870226</td>\n",
       "      <td>0.040248</td>\n",
       "      <td>...</td>\n",
       "      <td>-0.038818</td>\n",
       "      <td>1.176762</td>\n",
       "      <td>1.087873</td>\n",
       "      <td>-0.076848</td>\n",
       "      <td>-0.072737</td>\n",
       "      <td>-0.092697</td>\n",
       "      <td>-1.095431</td>\n",
       "      <td>-0.960311</td>\n",
       "      <td>-0.750214</td>\n",
       "      <td>-0.000632</td>\n",
       "    </tr>\n",
       "    <tr>\n",
       "      <th>29510317</th>\n",
       "      <td>-1.054988</td>\n",
       "      <td>-1.020555</td>\n",
       "      <td>-1.039609</td>\n",
       "      <td>-1.052116</td>\n",
       "      <td>-1.040240</td>\n",
       "      <td>-0.939860</td>\n",
       "      <td>-0.990324</td>\n",
       "      <td>-0.983021</td>\n",
       "      <td>-1.059976</td>\n",
       "      <td>0.001740</td>\n",
       "      <td>...</td>\n",
       "      <td>-0.022125</td>\n",
       "      <td>-0.202704</td>\n",
       "      <td>-0.188403</td>\n",
       "      <td>-0.076375</td>\n",
       "      <td>-0.104593</td>\n",
       "      <td>-0.107998</td>\n",
       "      <td>-1.095431</td>\n",
       "      <td>0.833145</td>\n",
       "      <td>1.078677</td>\n",
       "      <td>-0.115106</td>\n",
       "    </tr>\n",
       "    <tr>\n",
       "      <th>29510318</th>\n",
       "      <td>-1.118191</td>\n",
       "      <td>-1.065592</td>\n",
       "      <td>-1.092181</td>\n",
       "      <td>-1.113920</td>\n",
       "      <td>-1.085470</td>\n",
       "      <td>-1.072063</td>\n",
       "      <td>-1.035663</td>\n",
       "      <td>-1.115611</td>\n",
       "      <td>-1.096692</td>\n",
       "      <td>-0.005962</td>\n",
       "      <td>...</td>\n",
       "      <td>0.004585</td>\n",
       "      <td>-1.122351</td>\n",
       "      <td>-1.039257</td>\n",
       "      <td>-0.073642</td>\n",
       "      <td>0.222651</td>\n",
       "      <td>0.360937</td>\n",
       "      <td>1.464354</td>\n",
       "      <td>-0.402614</td>\n",
       "      <td>-0.723844</td>\n",
       "      <td>0.012230</td>\n",
       "    </tr>\n",
       "    <tr>\n",
       "      <th>29510319</th>\n",
       "      <td>-1.127530</td>\n",
       "      <td>-1.074832</td>\n",
       "      <td>-1.092181</td>\n",
       "      <td>-1.104871</td>\n",
       "      <td>-1.094749</td>\n",
       "      <td>-1.062727</td>\n",
       "      <td>-0.981483</td>\n",
       "      <td>-1.106247</td>\n",
       "      <td>-1.042078</td>\n",
       "      <td>-0.032918</td>\n",
       "      <td>...</td>\n",
       "      <td>-0.002092</td>\n",
       "      <td>-1.122351</td>\n",
       "      <td>-1.039257</td>\n",
       "      <td>-0.073798</td>\n",
       "      <td>0.222651</td>\n",
       "      <td>0.345790</td>\n",
       "      <td>1.435043</td>\n",
       "      <td>-0.419195</td>\n",
       "      <td>-0.723844</td>\n",
       "      <td>0.011587</td>\n",
       "    </tr>\n",
       "  </tbody>\n",
       "</table>\n",
       "<p>29510320 rows × 22 columns</p>\n",
       "</div>"
      ],
      "text/plain": [
       "          TRADE_PRICE    bid_ex    ask_ex  BEST_ASK  BEST_BID  price_ex_lag  \\\n",
       "index                                                                         \n",
       "0           -0.075434 -0.087708 -0.069536 -0.078667 -0.103398     -0.002769   \n",
       "1            0.435948 -1.223989 -1.288634  0.394075  0.391067      0.512701   \n",
       "2            1.419895  1.436811  1.424212  1.420280  1.427649      1.456726   \n",
       "3           -1.081623 -1.223989 -1.048194 -1.060732 -1.244545     -1.072063   \n",
       "4           -1.037590 -0.985846 -0.888270 -0.938194 -0.963346     -0.899164   \n",
       "...               ...       ...       ...       ...       ...           ...   \n",
       "29510315    -1.127530 -1.074832 -1.101197 -1.132246 -1.094749     -1.062727   \n",
       "29510316    -0.771314 -0.749411 -0.782200 -0.793812 -0.767935     -0.637977   \n",
       "29510317    -1.054988 -1.020555 -1.039609 -1.052116 -1.040240     -0.939860   \n",
       "29510318    -1.118191 -1.065592 -1.092181 -1.113920 -1.085470     -1.072063   \n",
       "29510319    -1.127530 -1.074832 -1.092181 -1.104871 -1.094749     -1.062727   \n",
       "\n",
       "          price_ex_lead  price_all_lag  price_all_lead  chg_ex_lead  ...  \\\n",
       "index                                                                ...   \n",
       "0             -0.050296      -0.115317       -0.103454     0.047950  ...   \n",
       "1              0.650744       0.473783        0.481490    -0.279372  ...   \n",
       "2              1.539712       1.420566        1.490898    -0.279372  ...   \n",
       "3             -1.035663      -1.115611       -1.096692     0.009441  ...   \n",
       "4             -0.864847      -0.942207       -0.924511    -0.048321  ...   \n",
       "...                 ...            ...             ...          ...  ...   \n",
       "29510315      -1.026440      -1.106247       -1.087394    -0.013664  ...   \n",
       "29510316      -0.774127      -0.680256       -0.870226     0.040248  ...   \n",
       "29510317      -0.990324      -0.983021       -1.059976     0.001740  ...   \n",
       "29510318      -1.035663      -1.115611       -1.096692    -0.005962  ...   \n",
       "29510319      -0.981483      -1.106247       -1.042078    -0.032918  ...   \n",
       "\n",
       "          chg_all_lag   prox_ex  prox_best  bid_ask_size_ratio_ex  \\\n",
       "index                                                               \n",
       "0            0.051327  0.601985   0.556092              -0.056979   \n",
       "1           -0.032141  0.027207   2.151443              -0.078490   \n",
       "2            0.068020 -0.355982  -0.330215              -0.075206   \n",
       "3            0.017940  0.716941   0.662449              -0.078490   \n",
       "4           -0.032141 -1.122351  -2.102823              -0.050867   \n",
       "...               ...       ...        ...                    ...   \n",
       "29510315    -0.002092 -1.122351  -1.039256              -0.073058   \n",
       "29510316    -0.038818  1.176762   1.087873              -0.076848   \n",
       "29510317    -0.022125 -0.202704  -0.188403              -0.076375   \n",
       "29510318     0.004585 -1.122351  -1.039257              -0.073642   \n",
       "29510319    -0.002092 -1.122351  -1.039257              -0.073798   \n",
       "\n",
       "          rel_bid_size_ex  rel_ask_size_ex  TRADE_SIZE  bid_size_ex  \\\n",
       "index                                                                 \n",
       "0               -0.080504         0.050436    0.478473     0.337472   \n",
       "1               -0.105558        -0.108600    0.478473    -2.212652   \n",
       "2               -0.050857        -0.055588    1.894671     0.767981   \n",
       "3               -0.105558        -0.071615    0.478473    -2.212652   \n",
       "4               -0.104091        -0.096643    0.824408     2.027528   \n",
       "...                   ...              ...         ...          ...   \n",
       "29510315         0.222651         0.417444    1.758366    -0.236296   \n",
       "29510316        -0.072737        -0.092697   -1.095431    -0.960311   \n",
       "29510317        -0.104593        -0.107998   -1.095431     0.833145   \n",
       "29510318         0.222651         0.360937    1.464354    -0.402614   \n",
       "29510319         0.222651         0.345790    1.435043    -0.419195   \n",
       "\n",
       "          ask_size_ex  depth_ex  \n",
       "index                            \n",
       "0           -0.750214  0.077184  \n",
       "1           -2.475971  0.005799  \n",
       "2            0.759048  0.005799  \n",
       "3            0.055485 -0.049509  \n",
       "4            0.920231  1.907473  \n",
       "...               ...       ...  \n",
       "29510315    -0.607759  0.016731  \n",
       "29510316    -0.750214 -0.000632  \n",
       "29510317     1.078677 -0.115106  \n",
       "29510318    -0.723844  0.012230  \n",
       "29510319    -0.723844  0.011587  \n",
       "\n",
       "[29510320 rows x 22 columns]"
      ]
     },
     "execution_count": 33,
     "metadata": {},
     "output_type": "execute_result"
    }
   ],
   "source": [
    "x_train_labelled"
   ]
  },
  {
   "cell_type": "code",
   "execution_count": 42,
   "metadata": {
    "tags": []
   },
   "outputs": [
    {
     "data": {
      "text/plain": [
       "Float64Index([27248602.333333332, 27248602.666666668,         27248603.2,\n",
       "                      27248603.4,         27248603.6,         27248603.8,\n",
       "                      27248603.0, 27248600.666666668, 27248600.333333332,\n",
       "                    27248599.625,\n",
       "              ...\n",
       "              29510317.833333332,         29510319.0,         29510319.0,\n",
       "                      29510319.0,         29510319.0,         29510319.0,\n",
       "                      29510319.0,         29510319.0,         29510319.0,\n",
       "                      29510319.0],\n",
       "             dtype='float64', name='index_labelled', length=13069819)"
      ]
     },
     "execution_count": 42,
     "metadata": {},
     "output_type": "execute_result"
    }
   ],
   "source": [
    "x_train_unlabelled.index"
   ]
  },
  {
   "cell_type": "code",
   "execution_count": 45,
   "metadata": {
    "tags": []
   },
   "outputs": [
    {
     "data": {
      "text/plain": [
       "Float64Index([27248602.333333332, 27248602.666666668,         27248603.2,\n",
       "                      27248603.4,         27248603.6,         27248603.8,\n",
       "                      27248603.0, 27248600.666666668, 27248600.333333332,\n",
       "                    27248599.625,\n",
       "              ...\n",
       "              29510317.833333332,         29510319.0,         29510319.0,\n",
       "                      29510319.0,         29510319.0,         29510319.0,\n",
       "                      29510319.0,         29510319.0,         29510319.0,\n",
       "                      29510319.0],\n",
       "             dtype='float64', name='index_labelled', length=13069819)"
      ]
     },
     "execution_count": 45,
     "metadata": {},
     "output_type": "execute_result"
    }
   ],
   "source": [
    "y_train_unlabelled.index"
   ]
  },
  {
   "cell_type": "code",
   "execution_count": 35,
   "metadata": {
    "tags": []
   },
   "outputs": [
    {
     "data": {
      "text/plain": [
       "index\n",
       "0    1\n",
       "1    1\n",
       "2   -1\n",
       "3    1\n",
       "4   -1\n",
       "Name: buy_sell, dtype: int8"
      ]
     },
     "execution_count": 35,
     "metadata": {},
     "output_type": "execute_result"
    }
   ],
   "source": [
    "y_train_labelled.head()"
   ]
  },
  {
   "cell_type": "code",
   "execution_count": 46,
   "metadata": {
    "tags": []
   },
   "outputs": [],
   "source": [
    "x_train = pd.concat([x_train_labelled, x_train_unlabelled])\n",
    "y_train = pd.concat([y_train_labelled, y_train_unlabelled])"
   ]
  },
  {
   "cell_type": "code",
   "execution_count": 13,
   "metadata": {},
   "outputs": [],
   "source": [
    "kwargs_cat = {\n",
    "            \"iterations\": 2000,\n",
    "            \"grow_policy\": \"Lossguide\",\n",
    "            \"border_count\": 254,\n",
    "            \"logging_level\": \"Silent\",\n",
    "            \"task_type\": \"GPU\",\n",
    "            \"random_seed\": 42,\n",
    "            \"eval_metric\": \"Accuracy\",\n",
    "            \"early_stopping_rounds\": 100,\n",
    "}\n",
    "\n",
    "        # callback only works for CPU, thus removed. See: https://bit.ly/3FjiuFx\n",
    "clf = CatBoostClassifier(**kwargs_cat) "
   ]
  },
  {
   "cell_type": "code",
   "execution_count": 14,
   "metadata": {
    "tags": []
   },
   "outputs": [
    {
     "name": "stderr",
     "output_type": "stream",
     "text": [
      "/pfs/data5/home/kit/stud/uloak/thesis/thesis/lib/python3.8/site-packages/catboost/core.py:1419: FutureWarning: iteritems is deprecated and will be removed in a future version. Use .items instead.\n",
      "  self._init_pool(data, label, cat_features, text_features, embedding_features, embedding_features_data, pairs, weight,\n"
     ]
    },
    {
     "data": {
      "text/plain": [
       "<catboost.core.CatBoostClassifier at 0x1472e90c54c0>"
      ]
     },
     "execution_count": 14,
     "metadata": {},
     "output_type": "execute_result"
    }
   ],
   "source": [
    "clf.fit(x_train_labelled,y_train_labelled)"
   ]
  },
  {
   "cell_type": "code",
   "execution_count": 15,
   "metadata": {
    "tags": []
   },
   "outputs": [],
   "source": [
    "probas = clf.predict_proba(x_train_unlabelled)"
   ]
  },
  {
   "cell_type": "code",
   "execution_count": 16,
   "metadata": {
    "tags": []
   },
   "outputs": [
    {
     "data": {
      "text/plain": [
       "array([[0.30712112, 0.69287888],\n",
       "       [0.44133104, 0.55866896],\n",
       "       [0.63892883, 0.36107117],\n",
       "       ...,\n",
       "       [0.91906896, 0.08093104],\n",
       "       [0.92493636, 0.07506364],\n",
       "       [0.89514812, 0.10485188]])"
      ]
     },
     "execution_count": 16,
     "metadata": {},
     "output_type": "execute_result"
    }
   ],
   "source": [
    "probas"
   ]
  },
  {
   "cell_type": "code",
   "execution_count": 26,
   "metadata": {
    "tags": []
   },
   "outputs": [],
   "source": [
    "foo = pd.DataFrame([[1,2],[3,4]], index=[8,9])\n",
    "bar = pd.DataFrame([[1,2],[3,4]], index=[7.1, 10.1])"
   ]
  },
  {
   "cell_type": "code",
   "execution_count": 27,
   "metadata": {
    "tags": []
   },
   "outputs": [
    {
     "data": {
      "text/html": [
       "<div>\n",
       "<style scoped>\n",
       "    .dataframe tbody tr th:only-of-type {\n",
       "        vertical-align: middle;\n",
       "    }\n",
       "\n",
       "    .dataframe tbody tr th {\n",
       "        vertical-align: top;\n",
       "    }\n",
       "\n",
       "    .dataframe thead th {\n",
       "        text-align: right;\n",
       "    }\n",
       "</style>\n",
       "<table border=\"1\" class=\"dataframe\">\n",
       "  <thead>\n",
       "    <tr style=\"text-align: right;\">\n",
       "      <th></th>\n",
       "      <th>0</th>\n",
       "      <th>1</th>\n",
       "    </tr>\n",
       "  </thead>\n",
       "  <tbody>\n",
       "    <tr>\n",
       "      <th>8</th>\n",
       "      <td>1</td>\n",
       "      <td>2</td>\n",
       "    </tr>\n",
       "    <tr>\n",
       "      <th>9</th>\n",
       "      <td>3</td>\n",
       "      <td>4</td>\n",
       "    </tr>\n",
       "  </tbody>\n",
       "</table>\n",
       "</div>"
      ],
      "text/plain": [
       "   0  1\n",
       "8  1  2\n",
       "9  3  4"
      ]
     },
     "execution_count": 27,
     "metadata": {},
     "output_type": "execute_result"
    }
   ],
   "source": [
    "foo"
   ]
  },
  {
   "cell_type": "code",
   "execution_count": 28,
   "metadata": {
    "tags": []
   },
   "outputs": [
    {
     "data": {
      "text/html": [
       "<div>\n",
       "<style scoped>\n",
       "    .dataframe tbody tr th:only-of-type {\n",
       "        vertical-align: middle;\n",
       "    }\n",
       "\n",
       "    .dataframe tbody tr th {\n",
       "        vertical-align: top;\n",
       "    }\n",
       "\n",
       "    .dataframe thead th {\n",
       "        text-align: right;\n",
       "    }\n",
       "</style>\n",
       "<table border=\"1\" class=\"dataframe\">\n",
       "  <thead>\n",
       "    <tr style=\"text-align: right;\">\n",
       "      <th></th>\n",
       "      <th>0</th>\n",
       "      <th>1</th>\n",
       "    </tr>\n",
       "  </thead>\n",
       "  <tbody>\n",
       "    <tr>\n",
       "      <th>7.1</th>\n",
       "      <td>1</td>\n",
       "      <td>2</td>\n",
       "    </tr>\n",
       "    <tr>\n",
       "      <th>10.1</th>\n",
       "      <td>3</td>\n",
       "      <td>4</td>\n",
       "    </tr>\n",
       "  </tbody>\n",
       "</table>\n",
       "</div>"
      ],
      "text/plain": [
       "      0  1\n",
       "7.1   1  2\n",
       "10.1  3  4"
      ]
     },
     "execution_count": 28,
     "metadata": {},
     "output_type": "execute_result"
    }
   ],
   "source": [
    "bar"
   ]
  },
  {
   "cell_type": "code",
   "execution_count": 29,
   "metadata": {
    "tags": []
   },
   "outputs": [
    {
     "data": {
      "text/html": [
       "<div>\n",
       "<style scoped>\n",
       "    .dataframe tbody tr th:only-of-type {\n",
       "        vertical-align: middle;\n",
       "    }\n",
       "\n",
       "    .dataframe tbody tr th {\n",
       "        vertical-align: top;\n",
       "    }\n",
       "\n",
       "    .dataframe thead th {\n",
       "        text-align: right;\n",
       "    }\n",
       "</style>\n",
       "<table border=\"1\" class=\"dataframe\">\n",
       "  <thead>\n",
       "    <tr style=\"text-align: right;\">\n",
       "      <th></th>\n",
       "      <th>0</th>\n",
       "      <th>1</th>\n",
       "    </tr>\n",
       "  </thead>\n",
       "  <tbody>\n",
       "    <tr>\n",
       "      <th>7.1</th>\n",
       "      <td>1</td>\n",
       "      <td>2</td>\n",
       "    </tr>\n",
       "    <tr>\n",
       "      <th>8.0</th>\n",
       "      <td>1</td>\n",
       "      <td>2</td>\n",
       "    </tr>\n",
       "    <tr>\n",
       "      <th>9.0</th>\n",
       "      <td>3</td>\n",
       "      <td>4</td>\n",
       "    </tr>\n",
       "    <tr>\n",
       "      <th>10.1</th>\n",
       "      <td>3</td>\n",
       "      <td>4</td>\n",
       "    </tr>\n",
       "  </tbody>\n",
       "</table>\n",
       "</div>"
      ],
      "text/plain": [
       "      0  1\n",
       "7.1   1  2\n",
       "8.0   1  2\n",
       "9.0   3  4\n",
       "10.1  3  4"
      ]
     },
     "execution_count": 29,
     "metadata": {},
     "output_type": "execute_result"
    }
   ],
   "source": [
    "mix = pd.concat([foo, bar])\n",
    "\n",
    "mix.sort_index()"
   ]
  },
  {
   "cell_type": "code",
   "execution_count": null,
   "metadata": {
    "id": "vFMHPh-nTcSI"
   },
   "outputs": [],
   "source": [
    "\n",
    "\n",
    "# https://github.com/KarelZe/thesis/blob/main/notebooks/\n",
    "# 3.0a-mb-explanatory_data_analysis.ipynb\n",
    "features_categorical = [\n",
    "    (\"bin_root\", 8667),\n",
    "    (\"bin_option_type\", 2),\n",
    "    (\"bin_issue_type\", 6),\n",
    "]\n",
    "\n",
    "features_classical = [\n",
    "    \"TRADE_PRICE\",\n",
    "    \"bid_ex\",\n",
    "    \"ask_ex\",\n",
    "    \"BEST_ASK\",\n",
    "    \"BEST_BID\",\n",
    "    \"price_ex_lag\",\n",
    "    \"price_ex_lead\",\n",
    "    \"price_all_lag\",\n",
    "    \"price_all_lead\",\n",
    "    \"chg_ex_lead\",\n",
    "    \"chg_ex_lag\",\n",
    "    \"chg_all_lead\",\n",
    "    \"chg_all_lag\",\n",
    "    \"prox_ex\",\n",
    "    \"prox_best\",\n",
    "]\n",
    "\n",
    "features_size = [\n",
    "    \"bid_ask_size_ratio_ex\",\n",
    "    \"rel_bid_size_ex\",\n",
    "    \"rel_ask_size_ex\",\n",
    "    \"TRADE_SIZE\",\n",
    "    \"bid_size_ex\",\n",
    "    \"ask_size_ex\",\n",
    "    \"depth_ex\",\n",
    "]\n",
    "\n",
    "features_classical_size = [\n",
    "    *features_classical,\n",
    "    *features_size,\n",
    "]\n"
   ]
  },
  {
   "cell_type": "code",
   "execution_count": null,
   "metadata": {},
   "outputs": [],
   "source": []
  },
  {
   "cell_type": "code",
   "execution_count": null,
   "metadata": {
    "id": "8_7CKpqcONOy"
   },
   "outputs": [],
   "source": [
    "os.environ[\"GCLOUD_PROJECT\"] = \"flowing-mantis-239216\"\n"
   ]
  },
  {
   "cell_type": "code",
   "execution_count": null,
   "metadata": {
    "id": "ah1dofx3TdDj"
   },
   "outputs": [],
   "source": [
    "# see https://wandb.ai/fbv/thesis/runs/kwlaw02g/overview?workspace=user-karelze\n",
    "run = wandb.init(project=\"thesis\", entity=\"fbv\")\n",
    "\n",
    "dataset = \"fbv/thesis/ise_log_standardized:v2\"\n",
    "artifact = run.use_artifact(dataset)\n",
    "data_dir = artifact.download()\n",
    "\n",
    "study = \"fbv/thesis/xl3n4thc.optuna:v99\"\n",
    "artifact = run.use_artifact(study)\n",
    "study_dir = artifact.download()\n",
    "\n",
    "\n",
    "model = \"xl3n4thc_CatBoostClassifier_default.cbm:v9\"\n",
    "model_name = model.split(\"/\")[-1].split(\":\")[0]\n",
    "\n",
    "artifact = run.use_artifact(model)\n",
    "model_dir = artifact.download()\n"
   ]
  },
  {
   "cell_type": "code",
   "execution_count": null,
   "metadata": {
    "id": "VivmC-8L3YUc"
   },
   "outputs": [],
   "source": [
    "model = CatBoostClassifier()\n",
    "model.load_model(fname=Path(model_dir, model_name))\n",
    "\n",
    "# copy parameter, but overwrite device to gpu, if no gpu is available.\n",
    "params = model.get_params()\n",
    "# params[\"task_type\"] = \"CPU\"\n",
    "\n",
    "model_for_refit = CatBoostClassifier(**params)"
   ]
  },
  {
   "cell_type": "markdown",
   "metadata": {
    "id": "8h_Vxyr_Vc4M"
   },
   "source": [
    "## Accuracy with retraining🎯"
   ]
  },
  {
   "cell_type": "code",
   "execution_count": null,
   "metadata": {
    "id": "B7VXu8rFVc4c"
   },
   "outputs": [],
   "source": [
    "X_train = pd.read_parquet(Path(data_dir, \"train_set_60.parquet\"), engine=\"fastparquet\")\n",
    "y_train= X_train[\"buy_sell\"]\n",
    "X_train = X_train[features_classical_size]\n",
    "\n",
    "X_val= pd.read_parquet(Path(data_dir, \"val_set_20.parquet\"), engine=\"fastparquet\")\n",
    "y_val= X_val[\"buy_sell\"]\n",
    "X_val = X_val[features_classical_size]\n",
    "\n",
    "X_retrain = pd.concat([X_train, X_val])\n",
    "del X_train, X_val\n",
    "\n",
    "y_retrain = pd.concat([y_train, y_val])\n",
    "del y_train, y_val"
   ]
  },
  {
   "cell_type": "code",
   "execution_count": null,
   "metadata": {
    "id": "bvN1WFCjVc4e"
   },
   "outputs": [],
   "source": [
    "weight = np.geomspace(0.001, 1, num=len(y_retrain))\n",
    "# keep ordering of data\n",
    "timestamp = np.linspace(0, 1, len(y_retrain))\n",
    "\n",
    "# save to pool for faster memory access\n",
    "retrain_pool = Pool(\n",
    "            data=X_retrain,\n",
    "            label=y_retrain,\n",
    "            cat_features=None,\n",
    "            weight=weight,\n",
    "            timestamp=timestamp,\n",
    ")\n",
    "\n",
    "model_for_refit.fit(retrain_pool, verbose=False)"
   ]
  },
  {
   "cell_type": "code",
   "execution_count": null,
   "metadata": {
    "id": "iIeFm3pTVc4f"
   },
   "outputs": [],
   "source": [
    "X_test = pd.read_parquet(Path(data_dir, \"test_set_20.parquet\"), engine=\"fastparquet\")\n",
    "y_test = X_test[\"buy_sell\"]\n",
    "X_test = X_test[features_classical_size]"
   ]
  },
  {
   "cell_type": "code",
   "execution_count": null,
   "metadata": {
    "id": "1p9scNk4Vc4f"
   },
   "outputs": [],
   "source": [
    "acc = model_for_refit.score(X_test, y_test)\n",
    "print(acc)"
   ]
  },
  {
   "cell_type": "code",
   "execution_count": null,
   "metadata": {
    "id": "jrY6sUe4Vc4g"
   },
   "outputs": [],
   "source": [
    "# without retraining: 0.7232624886732101\n",
    "# with retraining (unweighted): 0.7294596725716052\n",
    "# with retraining (weighted): 0.7393542370915156"
   ]
  }
 ],
 "metadata": {
  "accelerator": "GPU",
  "colab": {
   "include_colab_link": true,
   "machine_shape": "hm",
   "name": "Untitled2.ipynb",
   "provenance": []
  },
  "gpuClass": "premium",
  "kernelspec": {
   "display_name": "myenv",
   "language": "python",
   "name": "myenv"
  },
  "language_info": {
   "codemirror_mode": {
    "name": "ipython",
    "version": 3
   },
   "file_extension": ".py",
   "mimetype": "text/x-python",
   "name": "python",
   "nbconvert_exporter": "python",
   "pygments_lexer": "ipython3",
   "version": "3.8.6"
  },
  "vscode": {
   "interpreter": {
    "hash": "f8ea8b642289b706932f10b33ee389827410dbaef0ce2c5bf73615e8d3267d88"
   }
  }
 },
 "nbformat": 4,
 "nbformat_minor": 4
}
