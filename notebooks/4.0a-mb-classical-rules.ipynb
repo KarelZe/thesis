{
 "cells": [
  {
   "cell_type": "markdown",
   "metadata": {
    "id": "dVyCdlcSfP4M"
   },
   "source": [
    "Run `pip install .` first to install all dependencies."
   ]
  },
  {
   "cell_type": "code",
   "execution_count": 2,
   "metadata": {
    "id": "7WXF7w4VyVgG"
   },
   "outputs": [],
   "source": [
    "import numpy as np\n",
    "import pandas as pd\n",
    "\n",
    "from sklearn.metrics import accuracy_score\n",
    "\n",
    "import sys\n",
    "\n",
    "sys.path.append(\"..\")\n",
    "from otc.models.classical_classifier import ClassicalClassifier\n"
   ]
  },
  {
   "cell_type": "code",
   "execution_count": 3,
   "metadata": {
    "id": "WmXtH-PEqyQE"
   },
   "outputs": [
    {
     "name": "stderr",
     "output_type": "stream",
     "text": [
      "/pfs/data5/home/kit/stud/uloak/thesis/thesis/lib64/python3.8/site-packages/google/auth/_default.py:83: UserWarning: Your application has authenticated using end user credentials from Google Cloud SDK without a quota project. You might receive a \"quota exceeded\" or \"API not enabled\" error. We recommend you rerun `gcloud auth application-default login` and make sure a quota project is added. Or you can use service accounts instead. For more information about service accounts, see https://cloud.google.com/docs/authentication/\n",
      "  warnings.warn(_CLOUD_SDK_CREDENTIALS_WARNING)\n"
     ]
    }
   ],
   "source": [
    "columns = [\n",
    "    \"buy_sell\",\n",
    "    \"EXPIRATION\",\n",
    "    \"QUOTE_DATETIME\",\n",
    "    \"TRADE_PRICE\",\n",
    "    \"price_ex_lag\",\n",
    "    \"price_all_lag\",\n",
    "    \"price_ex_lead\",\n",
    "    \"price_all_lead\",\n",
    "    \"TRADE_SIZE\",\n",
    "    \"ask_size_ex\",\n",
    "    \"bid_size_ex\",\n",
    "    \"BEST_BID\",\n",
    "    \"BEST_ASK\",\n",
    "    \"bid_ex\",\n",
    "    \"ask_ex\",\n",
    "]\n",
    "\n",
    "train = pd.read_parquet(\n",
    "    f\"gs://thesis-bucket-option-trade-classification/data/preprocessed/train_set_60.parquet\",\n",
    "    engine=\"fastparquet\",\n",
    "    columns=columns,\n",
    ")\n",
    "val = pd.read_parquet(\n",
    "    f\"gs://thesis-bucket-option-trade-classification/data/preprocessed/val_set_20.parquet\",\n",
    "    engine=\"fastparquet\",\n",
    "    columns=columns,\n",
    ")\n",
    "test = pd.read_parquet(\n",
    "    f\"gs://thesis-bucket-option-trade-classification/data/preprocessed/test_set_20.parquet\",\n",
    "    engine=\"fastparquet\",\n",
    "    columns=columns,\n",
    ")\n",
    "\n",
    "X_print = pd.concat([train, val, test])\n"
   ]
  },
  {
   "cell_type": "code",
   "execution_count": 4,
   "metadata": {},
   "outputs": [],
   "source": [
    "test_index = test.index\n",
    "del train, val, test"
   ]
  },
  {
   "cell_type": "markdown",
   "metadata": {
    "id": "h3vzAVSc_DfD"
   },
   "source": [
    "### Robustness Checks"
   ]
  },
  {
   "cell_type": "code",
   "execution_count": 5,
   "metadata": {
    "id": "3evMG-KVA2eX"
   },
   "outputs": [],
   "source": [
    "# add baseline results\n",
    "X_print[\"rule\"] = \"Baseline\"\n",
    "X_print[\"buy_sell_predicted\"] = 0\n",
    "\n",
    "# # prepare columns for printing\n",
    "# self.X_[\"ttm\"] = (\n",
    "#     self.X_[\"EXPIRATION\"].dt.to_period(\"M\")\n",
    "#     - self.X_[\"QUOTE_DATETIME\"].dt.to_period(\"M\")\n",
    "# ).apply(lambda x: x.n)\n",
    "\n",
    "X_print[\"year\"] = X_print[\"QUOTE_DATETIME\"].dt.year\n",
    "\n",
    "bins_tradesize = [-1, 1, 3, 5, 11, np.inf]\n",
    "trade_size_labels = [\"(0,1]\", \"(1,3]\", \"(3,5]\", \"(5,11]\", \">11\"]\n",
    "X_print[\"TRADE_SIZE_binned\"] = pd.cut(\n",
    "    X_print[\"TRADE_SIZE\"], bins_tradesize, labels=trade_size_labels\n",
    ")\n",
    "\n",
    "bins_years = [2004, 2007, 2010, 2011, 2012, 2013, 2014, 2015, 2016, 2017]\n",
    "year_labels = [\n",
    "    \"2005-2007\",\n",
    "    \"2008-2010\",\n",
    "    \"2011\",\n",
    "    \"2012\",\n",
    "    \"2013\",\n",
    "    \"2014\",\n",
    "    \"2015\",\n",
    "    \"2016\",\n",
    "    \"2017\",\n",
    "]\n",
    "X_print[\"year_binned\"] = pd.cut(X_print[\"year\"], bins_years, labels=year_labels)\n",
    "\n",
    "bins_ttm = [-1, 1, 2, 3, 6, 12, np.inf]\n",
    "ttm_labels = [\n",
    "    \"ttm <= 1 month\",\n",
    "    \"ttm (1-2] month\",\n",
    "    \"ttm (2-3] month\",\n",
    "    \"ttm (3-6] month\",\n",
    "    \"ttm (6-12] month\",\n",
    "    \"ttm > 12 month\",\n",
    "]\n",
    "# X_print[\"ttm_binned\"] = pd.cut(X_print[\"ttm\"], bins_ttm, labels=ttm_labels)\n",
    "\n",
    "# TODO: Security type\n",
    "# TODO: Moneyness\n",
    "# TODO: time from previous trade; same underlying or any?\n"
   ]
  },
  {
   "cell_type": "code",
   "execution_count": 6,
   "metadata": {
    "id": "clDZ4Z95_0jj"
   },
   "outputs": [],
   "source": [
    "def check_robustness(criterion: str = \"year_binned\") -> pd.DataFrame:\n",
    "    \"\"\"\n",
    "    Check robustness of rules by calculating the accuracy for a given\n",
    "    criterion and rules.\n",
    "\n",
    "    Example:\n",
    "    rule\t\tBaseline\n",
    "    TRADE_SIZE_binned\n",
    "    (0,1]\t  0.710966\n",
    "    (1,3]\t  0.717664\n",
    "    (3,5]\t  0.715195\n",
    "    (5,11]\t0.699428\n",
    "    >11\t  \t0.688348\n",
    "\n",
    "    Args:\n",
    "        criterion (str, optional): criterion to check robustness for.\n",
    "        Defaults to \"year_binned\".\n",
    "\n",
    "    Returns:\n",
    "        pd.DataFrame: DataFrame with accuracy of rules. Rule in columns and\n",
    "        criterion values in rows.\n",
    "    \"\"\"\n",
    "\n",
    "    # fill others randomly with equal weights\n",
    "    X_print[\"buy_sell_predicted\"] = X_print[\"buy_sell_predicted\"].map(\n",
    "        lambda l: l if not np.isnan(l) else np.random.choice([-1, 1])\n",
    "    )\n",
    "\n",
    "    # cuculate average over columns if multiple subsets are combined\n",
    "    results = (\n",
    "        X_print.groupby([\"rule\", criterion])[[\"buy_sell\", \"buy_sell_predicted\"]]\n",
    "        .apply(lambda x: accuracy_score(x[\"buy_sell\"], x[\"buy_sell_predicted\"]))\n",
    "        .unstack(level=0)\n",
    "        # .assign(avg=lambda x: x.mean(axis=1))\n",
    "        .mul(100)\n",
    "    )\n",
    "    return results\n"
   ]
  },
  {
   "cell_type": "code",
   "execution_count": 7,
   "metadata": {
    "id": "bbI1lWosVoCj"
   },
   "outputs": [],
   "source": [
    "def combine_results(revised: pd.DataFrame, base: pd.DataFrame) -> pd.DataFrame:\n",
    "    \"\"\"\n",
    "    Generate print layout like in Grauer et al.\n",
    "\n",
    "    Example:\n",
    "    TRADE_SIZE_binned\t(0,1]\t(1,3]\t(3,5]\t(5,11]\t>11\n",
    "    rule\n",
    "    tick rule (all)\t62.29 (10.38)\t62.91 (10.27)\t63.54 (11.08)\t58.64 (5.62)\t55.41 (-0.94)\n",
    "    \"\"\"\n",
    "    combo = base.copy()\n",
    "    for i, col in enumerate(combo.columns):\n",
    "        col_other = revised.columns[i]\n",
    "        combo[col] = (\n",
    "            revised[col_other].round(2).astype(str)\n",
    "            + \" (\"\n",
    "            + (revised[col_other] - base[col]).round(2).astype(str)\n",
    "            + \")\"\n",
    "        )\n",
    "    return combo.T\n"
   ]
  },
  {
   "cell_type": "markdown",
   "metadata": {
    "id": "2P3UVsQb2T_V"
   },
   "source": [
    "## Classical Rules"
   ]
  },
  {
   "cell_type": "code",
   "execution_count": 8,
   "metadata": {},
   "outputs": [],
   "source": [
    "seed = 42"
   ]
  },
  {
   "cell_type": "markdown",
   "metadata": {
    "id": "cI7clPs5-M-4"
   },
   "source": [
    "### Tick Rule"
   ]
  },
  {
   "cell_type": "code",
   "execution_count": 9,
   "metadata": {
    "colab": {
     "base_uri": "https://localhost:8080/",
     "height": 238
    },
    "id": "M9T7xikNvoje",
    "outputId": "4a9f94fa-e01a-4d93-9d71-e5c24645c13e"
   },
   "outputs": [
    {
     "data": {
      "text/html": [
       "<div>\n",
       "<style scoped>\n",
       "    .dataframe tbody tr th:only-of-type {\n",
       "        vertical-align: middle;\n",
       "    }\n",
       "\n",
       "    .dataframe tbody tr th {\n",
       "        vertical-align: top;\n",
       "    }\n",
       "\n",
       "    .dataframe thead th {\n",
       "        text-align: right;\n",
       "    }\n",
       "</style>\n",
       "<table border=\"1\" class=\"dataframe\">\n",
       "  <thead>\n",
       "    <tr style=\"text-align: right;\">\n",
       "      <th>rule</th>\n",
       "      <th>tradesize + tick (all)</th>\n",
       "    </tr>\n",
       "    <tr>\n",
       "      <th>TRADE_SIZE_binned</th>\n",
       "      <th></th>\n",
       "    </tr>\n",
       "  </thead>\n",
       "  <tbody>\n",
       "    <tr>\n",
       "      <th>(0,1]</th>\n",
       "      <td>62.344979</td>\n",
       "    </tr>\n",
       "    <tr>\n",
       "      <th>(1,3]</th>\n",
       "      <td>63.012207</td>\n",
       "    </tr>\n",
       "    <tr>\n",
       "      <th>(3,5]</th>\n",
       "      <td>63.612356</td>\n",
       "    </tr>\n",
       "    <tr>\n",
       "      <th>(5,11]</th>\n",
       "      <td>58.701591</td>\n",
       "    </tr>\n",
       "    <tr>\n",
       "      <th>&gt;11</th>\n",
       "      <td>55.441527</td>\n",
       "    </tr>\n",
       "  </tbody>\n",
       "</table>\n",
       "</div>"
      ],
      "text/plain": [
       "rule               tradesize + tick (all)\n",
       "TRADE_SIZE_binned                        \n",
       "(0,1]                           62.344979\n",
       "(1,3]                           63.012207\n",
       "(3,5]                           63.612356\n",
       "(5,11]                          58.701591\n",
       ">11                             55.441527"
      ]
     },
     "execution_count": 9,
     "metadata": {},
     "output_type": "execute_result"
    }
   ],
   "source": [
    "clf = ClassicalClassifier(\n",
    "    layers=[\n",
    "        (\"trade_size\", \"ex\"),\n",
    "        (\"tick\", \"all\"),\n",
    "    ],\n",
    "    random_state=seed,\n",
    ")\n",
    "clf.fit(X=X_print.loc[0:1, :], y=X_print[\"buy_sell\"].loc[0:1])\n",
    "X_print[\"buy_sell_predicted\"] = clf.predict(X_print)\n",
    "X_print[\"rule\"] = \"tradesize + tick (all)\"\n",
    "\n",
    "result = check_robustness(\"TRADE_SIZE_binned\")\n",
    "result\n"
   ]
  },
  {
   "cell_type": "code",
   "execution_count": 9,
   "metadata": {
    "id": "7NZ981TwUP1H"
   },
   "outputs": [],
   "source": [
    "# see p. 30\n",
    "np.testing.assert_allclose(\n",
    "    result.iloc[:, 0].tolist(), [62.29, 62.92, 63.54, 58.64, 55.42], atol=0.5\n",
    ")\n"
   ]
  },
  {
   "cell_type": "code",
   "execution_count": 10,
   "metadata": {
    "colab": {
     "base_uri": "https://localhost:8080/",
     "height": 363
    },
    "id": "7c2mJUlIbT3L",
    "outputId": "a09cf0c2-5199-4cf4-d161-084b2f9943e5"
   },
   "outputs": [
    {
     "data": {
      "text/html": [
       "<div>\n",
       "<style scoped>\n",
       "    .dataframe tbody tr th:only-of-type {\n",
       "        vertical-align: middle;\n",
       "    }\n",
       "\n",
       "    .dataframe tbody tr th {\n",
       "        vertical-align: top;\n",
       "    }\n",
       "\n",
       "    .dataframe thead th {\n",
       "        text-align: right;\n",
       "    }\n",
       "</style>\n",
       "<table border=\"1\" class=\"dataframe\">\n",
       "  <thead>\n",
       "    <tr style=\"text-align: right;\">\n",
       "      <th>rule</th>\n",
       "      <th>tradesize + tick (all)</th>\n",
       "    </tr>\n",
       "    <tr>\n",
       "      <th>year_binned</th>\n",
       "      <th></th>\n",
       "    </tr>\n",
       "  </thead>\n",
       "  <tbody>\n",
       "    <tr>\n",
       "      <th>2005-2007</th>\n",
       "      <td>64.478336</td>\n",
       "    </tr>\n",
       "    <tr>\n",
       "      <th>2008-2010</th>\n",
       "      <td>61.403698</td>\n",
       "    </tr>\n",
       "    <tr>\n",
       "      <th>2011</th>\n",
       "      <td>58.807349</td>\n",
       "    </tr>\n",
       "    <tr>\n",
       "      <th>2012</th>\n",
       "      <td>58.727782</td>\n",
       "    </tr>\n",
       "    <tr>\n",
       "      <th>2013</th>\n",
       "      <td>59.791531</td>\n",
       "    </tr>\n",
       "    <tr>\n",
       "      <th>2014</th>\n",
       "      <td>62.262026</td>\n",
       "    </tr>\n",
       "    <tr>\n",
       "      <th>2015</th>\n",
       "      <td>58.650873</td>\n",
       "    </tr>\n",
       "    <tr>\n",
       "      <th>2016</th>\n",
       "      <td>58.414971</td>\n",
       "    </tr>\n",
       "    <tr>\n",
       "      <th>2017</th>\n",
       "      <td>59.195714</td>\n",
       "    </tr>\n",
       "  </tbody>\n",
       "</table>\n",
       "</div>"
      ],
      "text/plain": [
       "rule         tradesize + tick (all)\n",
       "year_binned                        \n",
       "2005-2007                 64.478336\n",
       "2008-2010                 61.403698\n",
       "2011                      58.807349\n",
       "2012                      58.727782\n",
       "2013                      59.791531\n",
       "2014                      62.262026\n",
       "2015                      58.650873\n",
       "2016                      58.414971\n",
       "2017                      59.195714"
      ]
     },
     "execution_count": 10,
     "metadata": {},
     "output_type": "execute_result"
    }
   ],
   "source": [
    "# TODO: result is not consistent with p. 36;\n",
    "# Group result on p. 35 is not consistent with p. 31.\n",
    "result = check_robustness(\"year_binned\")\n",
    "result\n"
   ]
  },
  {
   "cell_type": "code",
   "execution_count": 11,
   "metadata": {
    "id": "zfv4ggqncnxy"
   },
   "outputs": [],
   "source": [
    "# see p. 36\n",
    "np.testing.assert_allclose(\n",
    "    result.iloc[:, 0].tolist(),\n",
    "    [65.44, 62.26, 59.18, 58.94, 59.74, 61.87, 58.49, 58.48, 59.36],\n",
    "    atol=1.0,\n",
    ")\n"
   ]
  },
  {
   "cell_type": "code",
   "execution_count": 12,
   "metadata": {
    "colab": {
     "base_uri": "https://localhost:8080/",
     "height": 238
    },
    "id": "HvGSYadW2J_e",
    "outputId": "1e5a3ef7-141e-41ca-8540-56c55114eb3c"
   },
   "outputs": [
    {
     "data": {
      "text/html": [
       "<div>\n",
       "<style scoped>\n",
       "    .dataframe tbody tr th:only-of-type {\n",
       "        vertical-align: middle;\n",
       "    }\n",
       "\n",
       "    .dataframe tbody tr th {\n",
       "        vertical-align: top;\n",
       "    }\n",
       "\n",
       "    .dataframe thead th {\n",
       "        text-align: right;\n",
       "    }\n",
       "</style>\n",
       "<table border=\"1\" class=\"dataframe\">\n",
       "  <thead>\n",
       "    <tr style=\"text-align: right;\">\n",
       "      <th>rule</th>\n",
       "      <th>tradesize + tick (all)</th>\n",
       "    </tr>\n",
       "    <tr>\n",
       "      <th>TRADE_SIZE_binned</th>\n",
       "      <th></th>\n",
       "    </tr>\n",
       "  </thead>\n",
       "  <tbody>\n",
       "    <tr>\n",
       "      <th>(0,1]</th>\n",
       "      <td>59.203776</td>\n",
       "    </tr>\n",
       "    <tr>\n",
       "      <th>(1,3]</th>\n",
       "      <td>59.717659</td>\n",
       "    </tr>\n",
       "    <tr>\n",
       "      <th>(3,5]</th>\n",
       "      <td>60.103457</td>\n",
       "    </tr>\n",
       "    <tr>\n",
       "      <th>(5,11]</th>\n",
       "      <td>55.583810</td>\n",
       "    </tr>\n",
       "    <tr>\n",
       "      <th>&gt;11</th>\n",
       "      <td>51.631437</td>\n",
       "    </tr>\n",
       "  </tbody>\n",
       "</table>\n",
       "</div>"
      ],
      "text/plain": [
       "rule               tradesize + tick (all)\n",
       "TRADE_SIZE_binned                        \n",
       "(0,1]                           59.203776\n",
       "(1,3]                           59.717659\n",
       "(3,5]                           60.103457\n",
       "(5,11]                          55.583810\n",
       ">11                             51.631437"
      ]
     },
     "execution_count": 12,
     "metadata": {},
     "output_type": "execute_result"
    }
   ],
   "source": [
    "clf = ClassicalClassifier(\n",
    "    layers=[\n",
    "        (\"trade_size\", \"ex\"),\n",
    "        (\"tick\", \"ex\"),\n",
    "    ],\n",
    "    random_state=seed,\n",
    ")\n",
    "clf.fit(X=X_print.loc[0:1, :], y=X_print[\"buy_sell\"].loc[0:1])\n",
    "X_print[\"buy_sell_predicted\"] = clf.predict(X_print)\n",
    "X_print[\"rule\"] = \"tradesize + tick (all)\"\n",
    "\n",
    "result = check_robustness(\"TRADE_SIZE_binned\")\n",
    "result\n"
   ]
  },
  {
   "cell_type": "markdown",
   "metadata": {
    "id": "RTBwBZVb-M-8"
   },
   "source": [
    "### Reverse Tick Rule"
   ]
  },
  {
   "cell_type": "code",
   "execution_count": 13,
   "metadata": {
    "colab": {
     "base_uri": "https://localhost:8080/",
     "height": 238
    },
    "id": "jS6bJaKT6xrJ",
    "outputId": "f98314cf-56ad-4e56-d18d-b6576bd6a4c6"
   },
   "outputs": [
    {
     "data": {
      "text/html": [
       "<div>\n",
       "<style scoped>\n",
       "    .dataframe tbody tr th:only-of-type {\n",
       "        vertical-align: middle;\n",
       "    }\n",
       "\n",
       "    .dataframe tbody tr th {\n",
       "        vertical-align: top;\n",
       "    }\n",
       "\n",
       "    .dataframe thead th {\n",
       "        text-align: right;\n",
       "    }\n",
       "</style>\n",
       "<table border=\"1\" class=\"dataframe\">\n",
       "  <thead>\n",
       "    <tr style=\"text-align: right;\">\n",
       "      <th>rule</th>\n",
       "      <th>tradesize + tick (all)</th>\n",
       "    </tr>\n",
       "    <tr>\n",
       "      <th>TRADE_SIZE_binned</th>\n",
       "      <th></th>\n",
       "    </tr>\n",
       "  </thead>\n",
       "  <tbody>\n",
       "    <tr>\n",
       "      <th>(0,1]</th>\n",
       "      <td>63.129104</td>\n",
       "    </tr>\n",
       "    <tr>\n",
       "      <th>(1,3]</th>\n",
       "      <td>63.532943</td>\n",
       "    </tr>\n",
       "    <tr>\n",
       "      <th>(3,5]</th>\n",
       "      <td>64.520294</td>\n",
       "    </tr>\n",
       "    <tr>\n",
       "      <th>(5,11]</th>\n",
       "      <td>59.128625</td>\n",
       "    </tr>\n",
       "    <tr>\n",
       "      <th>&gt;11</th>\n",
       "      <td>54.608586</td>\n",
       "    </tr>\n",
       "  </tbody>\n",
       "</table>\n",
       "</div>"
      ],
      "text/plain": [
       "rule               tradesize + tick (all)\n",
       "TRADE_SIZE_binned                        \n",
       "(0,1]                           63.129104\n",
       "(1,3]                           63.532943\n",
       "(3,5]                           64.520294\n",
       "(5,11]                          59.128625\n",
       ">11                             54.608586"
      ]
     },
     "execution_count": 13,
     "metadata": {},
     "output_type": "execute_result"
    }
   ],
   "source": [
    "clf = ClassicalClassifier(\n",
    "    layers=[\n",
    "        (\"trade_size\", \"ex\"),\n",
    "        (\"rev_tick\", \"all\"),\n",
    "    ],\n",
    "    random_state=seed,\n",
    ")\n",
    "clf.fit(X=X_print.loc[0:1, :], y=X_print[\"buy_sell\"].loc[0:1])\n",
    "X_print[\"buy_sell_predicted\"] = clf.predict(X_print)\n",
    "X_print[\"rule\"] = \"tradesize + tick (all)\"\n",
    "\n",
    "result = check_robustness(\"TRADE_SIZE_binned\")\n",
    "result\n"
   ]
  },
  {
   "cell_type": "code",
   "execution_count": 14,
   "metadata": {
    "id": "c4ZWyV5AVkP7"
   },
   "outputs": [],
   "source": [
    "# see p. 30\n",
    "np.testing.assert_allclose(\n",
    "    result.iloc[:, 0].tolist(), [63.51, 63.87, 64.94, 59.53, 55.05], atol=0.5\n",
    ")\n"
   ]
  },
  {
   "cell_type": "markdown",
   "metadata": {
    "id": "SxREIkYM-M-9"
   },
   "source": [
    "### Quote Rule"
   ]
  },
  {
   "cell_type": "code",
   "execution_count": 15,
   "metadata": {
    "colab": {
     "base_uri": "https://localhost:8080/",
     "height": 238
    },
    "id": "YfGH1ifE6ID3",
    "outputId": "e05f433d-97d7-4b1a-97aa-cf954cd8aeaa"
   },
   "outputs": [
    {
     "data": {
      "text/html": [
       "<div>\n",
       "<style scoped>\n",
       "    .dataframe tbody tr th:only-of-type {\n",
       "        vertical-align: middle;\n",
       "    }\n",
       "\n",
       "    .dataframe tbody tr th {\n",
       "        vertical-align: top;\n",
       "    }\n",
       "\n",
       "    .dataframe thead th {\n",
       "        text-align: right;\n",
       "    }\n",
       "</style>\n",
       "<table border=\"1\" class=\"dataframe\">\n",
       "  <thead>\n",
       "    <tr style=\"text-align: right;\">\n",
       "      <th>rule</th>\n",
       "      <th>Tradesize + Quote (NBBO) + Quote (ISE)</th>\n",
       "    </tr>\n",
       "    <tr>\n",
       "      <th>TRADE_SIZE_binned</th>\n",
       "      <th></th>\n",
       "    </tr>\n",
       "  </thead>\n",
       "  <tbody>\n",
       "    <tr>\n",
       "      <th>(0,1]</th>\n",
       "      <td>74.944263</td>\n",
       "    </tr>\n",
       "    <tr>\n",
       "      <th>(1,3]</th>\n",
       "      <td>78.279335</td>\n",
       "    </tr>\n",
       "    <tr>\n",
       "      <th>(3,5]</th>\n",
       "      <td>79.981987</td>\n",
       "    </tr>\n",
       "    <tr>\n",
       "      <th>(5,11]</th>\n",
       "      <td>72.592750</td>\n",
       "    </tr>\n",
       "    <tr>\n",
       "      <th>&gt;11</th>\n",
       "      <td>69.586900</td>\n",
       "    </tr>\n",
       "  </tbody>\n",
       "</table>\n",
       "</div>"
      ],
      "text/plain": [
       "rule               Tradesize + Quote (NBBO) + Quote (ISE)\n",
       "TRADE_SIZE_binned                                        \n",
       "(0,1]                                           74.944263\n",
       "(1,3]                                           78.279335\n",
       "(3,5]                                           79.981987\n",
       "(5,11]                                          72.592750\n",
       ">11                                             69.586900"
      ]
     },
     "execution_count": 15,
     "metadata": {},
     "output_type": "execute_result"
    }
   ],
   "source": [
    "clf = ClassicalClassifier(\n",
    "    layers=[\n",
    "        (\"trade_size\", \"ex\"),\n",
    "        (\"quote\", \"best\"),\n",
    "        (\"quote\", \"ex\"),\n",
    "    ],\n",
    "    random_state=seed,\n",
    ")\n",
    "clf.fit(X=X_print.loc[0:1, :], y=X_print[\"buy_sell\"].loc[0:1])\n",
    "X_print[\"buy_sell_predicted\"] = clf.predict(X_print)\n",
    "X_print[\"rule\"] = \"Tradesize + Quote (NBBO) + Quote (ISE)\"\n",
    "\n",
    "result = check_robustness(\"TRADE_SIZE_binned\")\n",
    "result\n"
   ]
  },
  {
   "cell_type": "code",
   "execution_count": 16,
   "metadata": {
    "id": "DJpEh47mV5Df"
   },
   "outputs": [],
   "source": [
    "# see p. 30\n",
    "np.testing.assert_allclose(\n",
    "    result.iloc[:, 0].tolist(), [74.94, 78.28, 79.97, 72.59, 69.58], atol=0.5\n",
    ")\n"
   ]
  },
  {
   "cell_type": "markdown",
   "metadata": {
    "id": "uJJcakjf-M-_"
   },
   "source": [
    "### LR Algorithm"
   ]
  },
  {
   "cell_type": "code",
   "execution_count": 17,
   "metadata": {
    "colab": {
     "base_uri": "https://localhost:8080/",
     "height": 238
    },
    "id": "9yZwCiD0RNf-",
    "outputId": "4a7266df-45e9-4d61-e01d-c6f75f91b92a"
   },
   "outputs": [
    {
     "data": {
      "text/html": [
       "<div>\n",
       "<style scoped>\n",
       "    .dataframe tbody tr th:only-of-type {\n",
       "        vertical-align: middle;\n",
       "    }\n",
       "\n",
       "    .dataframe tbody tr th {\n",
       "        vertical-align: top;\n",
       "    }\n",
       "\n",
       "    .dataframe thead th {\n",
       "        text-align: right;\n",
       "    }\n",
       "</style>\n",
       "<table border=\"1\" class=\"dataframe\">\n",
       "  <thead>\n",
       "    <tr style=\"text-align: right;\">\n",
       "      <th>rule</th>\n",
       "      <th>Tradesize + LR (NBBO)</th>\n",
       "    </tr>\n",
       "    <tr>\n",
       "      <th>TRADE_SIZE_binned</th>\n",
       "      <th></th>\n",
       "    </tr>\n",
       "  </thead>\n",
       "  <tbody>\n",
       "    <tr>\n",
       "      <th>(0,1]</th>\n",
       "      <td>74.434941</td>\n",
       "    </tr>\n",
       "    <tr>\n",
       "      <th>(1,3]</th>\n",
       "      <td>77.766009</td>\n",
       "    </tr>\n",
       "    <tr>\n",
       "      <th>(3,5]</th>\n",
       "      <td>79.458024</td>\n",
       "    </tr>\n",
       "    <tr>\n",
       "      <th>(5,11]</th>\n",
       "      <td>72.208690</td>\n",
       "    </tr>\n",
       "    <tr>\n",
       "      <th>&gt;11</th>\n",
       "      <td>69.256442</td>\n",
       "    </tr>\n",
       "  </tbody>\n",
       "</table>\n",
       "</div>"
      ],
      "text/plain": [
       "rule               Tradesize + LR (NBBO)\n",
       "TRADE_SIZE_binned                       \n",
       "(0,1]                          74.434941\n",
       "(1,3]                          77.766009\n",
       "(3,5]                          79.458024\n",
       "(5,11]                         72.208690\n",
       ">11                            69.256442"
      ]
     },
     "execution_count": 17,
     "metadata": {},
     "output_type": "execute_result"
    }
   ],
   "source": [
    "clf = ClassicalClassifier(\n",
    "    layers=[\n",
    "        (\"trade_size\", \"ex\"),\n",
    "        (\"lr\", \"best\"),\n",
    "    ],\n",
    "    random_state=seed,\n",
    ")\n",
    "clf.fit(X=X_print.loc[0:1, :], y=X_print[\"buy_sell\"].loc[0:1])\n",
    "X_print[\"buy_sell_predicted\"] = clf.predict(X_print)\n",
    "X_print[\"rule\"] = \"Tradesize + LR (NBBO)\"\n",
    "\n",
    "result = check_robustness(\"TRADE_SIZE_binned\")\n",
    "result\n"
   ]
  },
  {
   "cell_type": "code",
   "execution_count": 18,
   "metadata": {
    "id": "QnI1K38FW5Xp"
   },
   "outputs": [],
   "source": [
    "# see p. 30\n",
    "np.testing.assert_allclose(\n",
    "    result.iloc[:, 0].tolist(), [74.09, 77.31, 78.96, 71.57, 68.40], atol=1\n",
    ")\n"
   ]
  },
  {
   "cell_type": "markdown",
   "metadata": {
    "id": "cgXs3bHs-M_C"
   },
   "source": [
    "### Reverse LR Algorithm"
   ]
  },
  {
   "cell_type": "code",
   "execution_count": 19,
   "metadata": {
    "colab": {
     "base_uri": "https://localhost:8080/",
     "height": 238
    },
    "id": "NkcFZrSeT88P",
    "outputId": "69d13517-933c-47c9-8825-32e9ca9f1855"
   },
   "outputs": [
    {
     "data": {
      "text/html": [
       "<div>\n",
       "<style scoped>\n",
       "    .dataframe tbody tr th:only-of-type {\n",
       "        vertical-align: middle;\n",
       "    }\n",
       "\n",
       "    .dataframe tbody tr th {\n",
       "        vertical-align: top;\n",
       "    }\n",
       "\n",
       "    .dataframe thead th {\n",
       "        text-align: right;\n",
       "    }\n",
       "</style>\n",
       "<table border=\"1\" class=\"dataframe\">\n",
       "  <thead>\n",
       "    <tr style=\"text-align: right;\">\n",
       "      <th>rule</th>\n",
       "      <th>Tradesize + rev. LR (NBBO)</th>\n",
       "    </tr>\n",
       "    <tr>\n",
       "      <th>TRADE_SIZE_binned</th>\n",
       "      <th></th>\n",
       "    </tr>\n",
       "  </thead>\n",
       "  <tbody>\n",
       "    <tr>\n",
       "      <th>(0,1]</th>\n",
       "      <td>74.592932</td>\n",
       "    </tr>\n",
       "    <tr>\n",
       "      <th>(1,3]</th>\n",
       "      <td>77.927223</td>\n",
       "    </tr>\n",
       "    <tr>\n",
       "      <th>(3,5]</th>\n",
       "      <td>79.656313</td>\n",
       "    </tr>\n",
       "    <tr>\n",
       "      <th>(5,11]</th>\n",
       "      <td>72.351442</td>\n",
       "    </tr>\n",
       "    <tr>\n",
       "      <th>&gt;11</th>\n",
       "      <td>69.327030</td>\n",
       "    </tr>\n",
       "  </tbody>\n",
       "</table>\n",
       "</div>"
      ],
      "text/plain": [
       "rule               Tradesize + rev. LR (NBBO)\n",
       "TRADE_SIZE_binned                            \n",
       "(0,1]                               74.592932\n",
       "(1,3]                               77.927223\n",
       "(3,5]                               79.656313\n",
       "(5,11]                              72.351442\n",
       ">11                                 69.327030"
      ]
     },
     "execution_count": 19,
     "metadata": {},
     "output_type": "execute_result"
    }
   ],
   "source": [
    "clf = ClassicalClassifier(\n",
    "    layers=[\n",
    "        (\"trade_size\", \"ex\"),\n",
    "        (\"rev_lr\", \"best\"),\n",
    "    ],\n",
    "    random_state=seed,\n",
    ")\n",
    "clf.fit(X=X_print.loc[0:1, :], y=X_print[\"buy_sell\"].loc[0:1])\n",
    "X_print[\"buy_sell_predicted\"] = clf.predict(X_print)\n",
    "X_print[\"rule\"] = \"Tradesize + rev. LR (NBBO)\"\n",
    "\n",
    "result_ts = check_robustness(\"TRADE_SIZE_binned\")\n",
    "result_ts\n"
   ]
  },
  {
   "cell_type": "code",
   "execution_count": 20,
   "metadata": {
    "id": "whSQVanrXRUg"
   },
   "outputs": [],
   "source": [
    "# see p. 30\n",
    "np.testing.assert_allclose(\n",
    "    result_ts.iloc[:, 0].tolist(), [74.64, 77.95, 79.68, 72.38, 69.33], atol=0.5\n",
    ")\n"
   ]
  },
  {
   "cell_type": "code",
   "execution_count": 21,
   "metadata": {
    "colab": {
     "base_uri": "https://localhost:8080/",
     "height": 238
    },
    "id": "pyHODL9IaLd_",
    "outputId": "93316ade-feb8-4581-8aa5-4a4f35e4a23d"
   },
   "outputs": [
    {
     "data": {
      "text/html": [
       "<div>\n",
       "<style scoped>\n",
       "    .dataframe tbody tr th:only-of-type {\n",
       "        vertical-align: middle;\n",
       "    }\n",
       "\n",
       "    .dataframe tbody tr th {\n",
       "        vertical-align: top;\n",
       "    }\n",
       "\n",
       "    .dataframe thead th {\n",
       "        text-align: right;\n",
       "    }\n",
       "</style>\n",
       "<table border=\"1\" class=\"dataframe\">\n",
       "  <thead>\n",
       "    <tr style=\"text-align: right;\">\n",
       "      <th>rule</th>\n",
       "      <th>reverse LR (NBBO)</th>\n",
       "    </tr>\n",
       "    <tr>\n",
       "      <th>TRADE_SIZE_binned</th>\n",
       "      <th></th>\n",
       "    </tr>\n",
       "  </thead>\n",
       "  <tbody>\n",
       "    <tr>\n",
       "      <th>(0,1]</th>\n",
       "      <td>59.769889</td>\n",
       "    </tr>\n",
       "    <tr>\n",
       "      <th>(1,3]</th>\n",
       "      <td>62.717707</td>\n",
       "    </tr>\n",
       "    <tr>\n",
       "      <th>(3,5]</th>\n",
       "      <td>63.160616</td>\n",
       "    </tr>\n",
       "    <tr>\n",
       "      <th>(5,11]</th>\n",
       "      <td>64.665735</td>\n",
       "    </tr>\n",
       "    <tr>\n",
       "      <th>&gt;11</th>\n",
       "      <td>70.000512</td>\n",
       "    </tr>\n",
       "  </tbody>\n",
       "</table>\n",
       "</div>"
      ],
      "text/plain": [
       "rule               reverse LR (NBBO)\n",
       "TRADE_SIZE_binned                   \n",
       "(0,1]                      59.769889\n",
       "(1,3]                      62.717707\n",
       "(3,5]                      63.160616\n",
       "(5,11]                     64.665735\n",
       ">11                        70.000512"
      ]
     },
     "execution_count": 21,
     "metadata": {},
     "output_type": "execute_result"
    }
   ],
   "source": [
    "clf = ClassicalClassifier(\n",
    "    layers=[\n",
    "        (\"rev_lr\", \"best\"),\n",
    "    ],\n",
    "    random_state=seed,\n",
    ")\n",
    "clf.fit(X=X_print.loc[0:1, :], y=X_print[\"buy_sell\"].loc[0:1])\n",
    "X_print[\"buy_sell_predicted\"] = clf.predict(X_print)\n",
    "X_print[\"rule\"] = \"reverse LR (NBBO)\"\n",
    "\n",
    "result = check_robustness(\"TRADE_SIZE_binned\")\n",
    "result\n"
   ]
  },
  {
   "cell_type": "code",
   "execution_count": 22,
   "metadata": {
    "id": "JA6nG5HmX9lD"
   },
   "outputs": [],
   "source": [
    "# see p. 30\n",
    "np.testing.assert_allclose(\n",
    "    result.iloc[:, 0].tolist(), [59.48, 62.43, 62.83, 64.43, 69.91], atol=0.5\n",
    ")\n"
   ]
  },
  {
   "cell_type": "code",
   "execution_count": 23,
   "metadata": {
    "colab": {
     "base_uri": "https://localhost:8080/",
     "height": 112
    },
    "id": "9MLdi1VxaRcp",
    "outputId": "3aca9887-b66b-4d86-8c13-194470ec8189"
   },
   "outputs": [
    {
     "data": {
      "text/html": [
       "<div>\n",
       "<style scoped>\n",
       "    .dataframe tbody tr th:only-of-type {\n",
       "        vertical-align: middle;\n",
       "    }\n",
       "\n",
       "    .dataframe tbody tr th {\n",
       "        vertical-align: top;\n",
       "    }\n",
       "\n",
       "    .dataframe thead th {\n",
       "        text-align: right;\n",
       "    }\n",
       "</style>\n",
       "<table border=\"1\" class=\"dataframe\">\n",
       "  <thead>\n",
       "    <tr style=\"text-align: right;\">\n",
       "      <th>TRADE_SIZE_binned</th>\n",
       "      <th>(0,1]</th>\n",
       "      <th>(1,3]</th>\n",
       "      <th>(3,5]</th>\n",
       "      <th>(5,11]</th>\n",
       "      <th>&gt;11</th>\n",
       "    </tr>\n",
       "    <tr>\n",
       "      <th>rule</th>\n",
       "      <th></th>\n",
       "      <th></th>\n",
       "      <th></th>\n",
       "      <th></th>\n",
       "      <th></th>\n",
       "    </tr>\n",
       "  </thead>\n",
       "  <tbody>\n",
       "    <tr>\n",
       "      <th>reverse LR (NBBO)</th>\n",
       "      <td>74.59 (14.82)</td>\n",
       "      <td>77.93 (15.21)</td>\n",
       "      <td>79.66 (16.5)</td>\n",
       "      <td>72.35 (7.69)</td>\n",
       "      <td>69.33 (-0.67)</td>\n",
       "    </tr>\n",
       "  </tbody>\n",
       "</table>\n",
       "</div>"
      ],
      "text/plain": [
       "TRADE_SIZE_binned          (0,1]          (1,3]         (3,5]        (5,11]  \\\n",
       "rule                                                                          \n",
       "reverse LR (NBBO)  74.59 (14.82)  77.93 (15.21)  79.66 (16.5)  72.35 (7.69)   \n",
       "\n",
       "TRADE_SIZE_binned            >11  \n",
       "rule                              \n",
       "reverse LR (NBBO)  69.33 (-0.67)  "
      ]
     },
     "execution_count": 23,
     "metadata": {},
     "output_type": "execute_result"
    }
   ],
   "source": [
    "combine_results(result_ts, result)\n"
   ]
  },
  {
   "cell_type": "markdown",
   "metadata": {
    "id": "lrpR2Vxa-M_E"
   },
   "source": [
    "### EMO Algorithm"
   ]
  },
  {
   "cell_type": "code",
   "execution_count": 24,
   "metadata": {
    "colab": {
     "base_uri": "https://localhost:8080/",
     "height": 238
    },
    "id": "gBaoiwnZYIAv",
    "outputId": "fd1dcffe-f002-4588-b279-71d909fbe278"
   },
   "outputs": [
    {
     "data": {
      "text/html": [
       "<div>\n",
       "<style scoped>\n",
       "    .dataframe tbody tr th:only-of-type {\n",
       "        vertical-align: middle;\n",
       "    }\n",
       "\n",
       "    .dataframe tbody tr th {\n",
       "        vertical-align: top;\n",
       "    }\n",
       "\n",
       "    .dataframe thead th {\n",
       "        text-align: right;\n",
       "    }\n",
       "</style>\n",
       "<table border=\"1\" class=\"dataframe\">\n",
       "  <thead>\n",
       "    <tr style=\"text-align: right;\">\n",
       "      <th>rule</th>\n",
       "      <th>Tradesize + EMO (NBBO)</th>\n",
       "    </tr>\n",
       "    <tr>\n",
       "      <th>TRADE_SIZE_binned</th>\n",
       "      <th></th>\n",
       "    </tr>\n",
       "  </thead>\n",
       "  <tbody>\n",
       "    <tr>\n",
       "      <th>(0,1]</th>\n",
       "      <td>67.820610</td>\n",
       "    </tr>\n",
       "    <tr>\n",
       "      <th>(1,3]</th>\n",
       "      <td>70.778904</td>\n",
       "    </tr>\n",
       "    <tr>\n",
       "      <th>(3,5]</th>\n",
       "      <td>72.683370</td>\n",
       "    </tr>\n",
       "    <tr>\n",
       "      <th>(5,11]</th>\n",
       "      <td>65.987162</td>\n",
       "    </tr>\n",
       "    <tr>\n",
       "      <th>&gt;11</th>\n",
       "      <td>63.062609</td>\n",
       "    </tr>\n",
       "  </tbody>\n",
       "</table>\n",
       "</div>"
      ],
      "text/plain": [
       "rule               Tradesize + EMO (NBBO)\n",
       "TRADE_SIZE_binned                        \n",
       "(0,1]                           67.820610\n",
       "(1,3]                           70.778904\n",
       "(3,5]                           72.683370\n",
       "(5,11]                          65.987162\n",
       ">11                             63.062609"
      ]
     },
     "execution_count": 24,
     "metadata": {},
     "output_type": "execute_result"
    }
   ],
   "source": [
    "clf = ClassicalClassifier(\n",
    "    layers=[(\"trade_size\", \"ex\"), (\"emo\", \"best\")],\n",
    "    random_state=seed,\n",
    ")\n",
    "clf.fit(X=X_print.loc[0:1, :], y=X_print[\"buy_sell\"].loc[0:1])\n",
    "X_print[\"buy_sell_predicted\"] = clf.predict(X_print)\n",
    "X_print[\"rule\"] = \"Tradesize + EMO (NBBO)\"\n",
    "\n",
    "check_robustness(\"TRADE_SIZE_binned\")\n"
   ]
  },
  {
   "cell_type": "markdown",
   "metadata": {},
   "source": [
    "## CLNV Method"
   ]
  },
  {
   "cell_type": "code",
   "execution_count": 25,
   "metadata": {},
   "outputs": [
    {
     "data": {
      "text/html": [
       "<div>\n",
       "<style scoped>\n",
       "    .dataframe tbody tr th:only-of-type {\n",
       "        vertical-align: middle;\n",
       "    }\n",
       "\n",
       "    .dataframe tbody tr th {\n",
       "        vertical-align: top;\n",
       "    }\n",
       "\n",
       "    .dataframe thead th {\n",
       "        text-align: right;\n",
       "    }\n",
       "</style>\n",
       "<table border=\"1\" class=\"dataframe\">\n",
       "  <thead>\n",
       "    <tr style=\"text-align: right;\">\n",
       "      <th>rule</th>\n",
       "      <th>CLNV (ex)</th>\n",
       "    </tr>\n",
       "    <tr>\n",
       "      <th>year_binned</th>\n",
       "      <th></th>\n",
       "    </tr>\n",
       "  </thead>\n",
       "  <tbody>\n",
       "    <tr>\n",
       "      <th>2005-2007</th>\n",
       "      <td>57.188115</td>\n",
       "    </tr>\n",
       "    <tr>\n",
       "      <th>2008-2010</th>\n",
       "      <td>57.980047</td>\n",
       "    </tr>\n",
       "    <tr>\n",
       "      <th>2011</th>\n",
       "      <td>64.178287</td>\n",
       "    </tr>\n",
       "    <tr>\n",
       "      <th>2012</th>\n",
       "      <td>66.067017</td>\n",
       "    </tr>\n",
       "    <tr>\n",
       "      <th>2013</th>\n",
       "      <td>62.792854</td>\n",
       "    </tr>\n",
       "    <tr>\n",
       "      <th>2014</th>\n",
       "      <td>55.800243</td>\n",
       "    </tr>\n",
       "    <tr>\n",
       "      <th>2015</th>\n",
       "      <td>53.646344</td>\n",
       "    </tr>\n",
       "    <tr>\n",
       "      <th>2016</th>\n",
       "      <td>55.219678</td>\n",
       "    </tr>\n",
       "    <tr>\n",
       "      <th>2017</th>\n",
       "      <td>54.149427</td>\n",
       "    </tr>\n",
       "  </tbody>\n",
       "</table>\n",
       "</div>"
      ],
      "text/plain": [
       "rule         CLNV (ex)\n",
       "year_binned           \n",
       "2005-2007    57.188115\n",
       "2008-2010    57.980047\n",
       "2011         64.178287\n",
       "2012         66.067017\n",
       "2013         62.792854\n",
       "2014         55.800243\n",
       "2015         53.646344\n",
       "2016         55.219678\n",
       "2017         54.149427"
      ]
     },
     "execution_count": 25,
     "metadata": {},
     "output_type": "execute_result"
    }
   ],
   "source": [
    "clf = ClassicalClassifier(\n",
    "    layers=[(\"clnv\", \"ex\")],\n",
    "    random_state=seed,\n",
    ")\n",
    "clf.fit(X=X_print.loc[0:1, :], y=X_print[\"buy_sell\"].loc[0:1])\n",
    "X_print[\"buy_sell_predicted\"] = clf.predict(X_print)\n",
    "X_print[\"rule\"] = \"CLNV (ex)\"\n",
    "\n",
    "check_robustness(\"year_binned\")"
   ]
  },
  {
   "cell_type": "code",
   "execution_count": 26,
   "metadata": {},
   "outputs": [
    {
     "data": {
      "text/html": [
       "<div>\n",
       "<style scoped>\n",
       "    .dataframe tbody tr th:only-of-type {\n",
       "        vertical-align: middle;\n",
       "    }\n",
       "\n",
       "    .dataframe tbody tr th {\n",
       "        vertical-align: top;\n",
       "    }\n",
       "\n",
       "    .dataframe thead th {\n",
       "        text-align: right;\n",
       "    }\n",
       "</style>\n",
       "<table border=\"1\" class=\"dataframe\">\n",
       "  <thead>\n",
       "    <tr style=\"text-align: right;\">\n",
       "      <th>rule</th>\n",
       "      <th>Tradesize + CLNV (ex)</th>\n",
       "    </tr>\n",
       "    <tr>\n",
       "      <th>year_binned</th>\n",
       "      <th></th>\n",
       "    </tr>\n",
       "  </thead>\n",
       "  <tbody>\n",
       "    <tr>\n",
       "      <th>2005-2007</th>\n",
       "      <td>76.818694</td>\n",
       "    </tr>\n",
       "    <tr>\n",
       "      <th>2008-2010</th>\n",
       "      <td>72.686674</td>\n",
       "    </tr>\n",
       "    <tr>\n",
       "      <th>2011</th>\n",
       "      <td>71.257758</td>\n",
       "    </tr>\n",
       "    <tr>\n",
       "      <th>2012</th>\n",
       "      <td>70.889375</td>\n",
       "    </tr>\n",
       "    <tr>\n",
       "      <th>2013</th>\n",
       "      <td>68.800751</td>\n",
       "    </tr>\n",
       "    <tr>\n",
       "      <th>2014</th>\n",
       "      <td>67.014615</td>\n",
       "    </tr>\n",
       "    <tr>\n",
       "      <th>2015</th>\n",
       "      <td>61.507266</td>\n",
       "    </tr>\n",
       "    <tr>\n",
       "      <th>2016</th>\n",
       "      <td>62.270877</td>\n",
       "    </tr>\n",
       "    <tr>\n",
       "      <th>2017</th>\n",
       "      <td>62.561512</td>\n",
       "    </tr>\n",
       "  </tbody>\n",
       "</table>\n",
       "</div>"
      ],
      "text/plain": [
       "rule         Tradesize + CLNV (ex)\n",
       "year_binned                       \n",
       "2005-2007                76.818694\n",
       "2008-2010                72.686674\n",
       "2011                     71.257758\n",
       "2012                     70.889375\n",
       "2013                     68.800751\n",
       "2014                     67.014615\n",
       "2015                     61.507266\n",
       "2016                     62.270877\n",
       "2017                     62.561512"
      ]
     },
     "execution_count": 26,
     "metadata": {},
     "output_type": "execute_result"
    }
   ],
   "source": [
    "clf = ClassicalClassifier(\n",
    "    layers=[(\"trade_size\", \"ex\"), (\"clnv\", \"ex\")],\n",
    "    random_state=seed,\n",
    ")\n",
    "clf.fit(X=X_print.loc[0:1, :], y=X_print[\"buy_sell\"].loc[0:1])\n",
    "X_print[\"buy_sell_predicted\"] = clf.predict(X_print)\n",
    "X_print[\"rule\"] = \"Tradesize + CLNV (ex)\"\n",
    "\n",
    "check_robustness(\"year_binned\")"
   ]
  },
  {
   "cell_type": "code",
   "execution_count": 27,
   "metadata": {},
   "outputs": [
    {
     "data": {
      "text/html": [
       "<div>\n",
       "<style scoped>\n",
       "    .dataframe tbody tr th:only-of-type {\n",
       "        vertical-align: middle;\n",
       "    }\n",
       "\n",
       "    .dataframe tbody tr th {\n",
       "        vertical-align: top;\n",
       "    }\n",
       "\n",
       "    .dataframe thead th {\n",
       "        text-align: right;\n",
       "    }\n",
       "</style>\n",
       "<table border=\"1\" class=\"dataframe\">\n",
       "  <thead>\n",
       "    <tr style=\"text-align: right;\">\n",
       "      <th>rule</th>\n",
       "      <th>Tradesize + depth + CLNV (ex)</th>\n",
       "    </tr>\n",
       "    <tr>\n",
       "      <th>year_binned</th>\n",
       "      <th></th>\n",
       "    </tr>\n",
       "  </thead>\n",
       "  <tbody>\n",
       "    <tr>\n",
       "      <th>2005-2007</th>\n",
       "      <td>77.897405</td>\n",
       "    </tr>\n",
       "    <tr>\n",
       "      <th>2008-2010</th>\n",
       "      <td>73.921200</td>\n",
       "    </tr>\n",
       "    <tr>\n",
       "      <th>2011</th>\n",
       "      <td>72.729964</td>\n",
       "    </tr>\n",
       "    <tr>\n",
       "      <th>2012</th>\n",
       "      <td>71.927874</td>\n",
       "    </tr>\n",
       "    <tr>\n",
       "      <th>2013</th>\n",
       "      <td>69.768904</td>\n",
       "    </tr>\n",
       "    <tr>\n",
       "      <th>2014</th>\n",
       "      <td>68.076920</td>\n",
       "    </tr>\n",
       "    <tr>\n",
       "      <th>2015</th>\n",
       "      <td>62.563060</td>\n",
       "    </tr>\n",
       "    <tr>\n",
       "      <th>2016</th>\n",
       "      <td>62.944881</td>\n",
       "    </tr>\n",
       "    <tr>\n",
       "      <th>2017</th>\n",
       "      <td>63.067855</td>\n",
       "    </tr>\n",
       "  </tbody>\n",
       "</table>\n",
       "</div>"
      ],
      "text/plain": [
       "rule         Tradesize + depth + CLNV (ex)\n",
       "year_binned                               \n",
       "2005-2007                        77.897405\n",
       "2008-2010                        73.921200\n",
       "2011                             72.729964\n",
       "2012                             71.927874\n",
       "2013                             69.768904\n",
       "2014                             68.076920\n",
       "2015                             62.563060\n",
       "2016                             62.944881\n",
       "2017                             63.067855"
      ]
     },
     "execution_count": 27,
     "metadata": {},
     "output_type": "execute_result"
    }
   ],
   "source": [
    "clf = ClassicalClassifier(\n",
    "    layers=[(\"trade_size\", \"ex\"), (\"depth\",\"ex\"), (\"clnv\", \"ex\")],\n",
    "    random_state=seed,\n",
    ")\n",
    "clf.fit(X=X_print.loc[0:1, :], y=X_print[\"buy_sell\"].loc[0:1])\n",
    "X_print[\"buy_sell_predicted\"] = clf.predict(X_print)\n",
    "X_print[\"rule\"] = \"Tradesize + depth + CLNV (ex)\"\n",
    "\n",
    "check_robustness(\"year_binned\")"
   ]
  },
  {
   "cell_type": "markdown",
   "metadata": {},
   "source": [
    "# Reverse CLNV method"
   ]
  },
  {
   "cell_type": "code",
   "execution_count": 10,
   "metadata": {},
   "outputs": [
    {
     "data": {
      "text/html": [
       "<div>\n",
       "<style scoped>\n",
       "    .dataframe tbody tr th:only-of-type {\n",
       "        vertical-align: middle;\n",
       "    }\n",
       "\n",
       "    .dataframe tbody tr th {\n",
       "        vertical-align: top;\n",
       "    }\n",
       "\n",
       "    .dataframe thead th {\n",
       "        text-align: right;\n",
       "    }\n",
       "</style>\n",
       "<table border=\"1\" class=\"dataframe\">\n",
       "  <thead>\n",
       "    <tr style=\"text-align: right;\">\n",
       "      <th>rule</th>\n",
       "      <th>Rev. CLNV (ex)</th>\n",
       "    </tr>\n",
       "    <tr>\n",
       "      <th>year_binned</th>\n",
       "      <th></th>\n",
       "    </tr>\n",
       "  </thead>\n",
       "  <tbody>\n",
       "    <tr>\n",
       "      <th>2005-2007</th>\n",
       "      <td>57.883226</td>\n",
       "    </tr>\n",
       "    <tr>\n",
       "      <th>2008-2010</th>\n",
       "      <td>58.975710</td>\n",
       "    </tr>\n",
       "    <tr>\n",
       "      <th>2011</th>\n",
       "      <td>64.954371</td>\n",
       "    </tr>\n",
       "    <tr>\n",
       "      <th>2012</th>\n",
       "      <td>66.348056</td>\n",
       "    </tr>\n",
       "    <tr>\n",
       "      <th>2013</th>\n",
       "      <td>63.072901</td>\n",
       "    </tr>\n",
       "    <tr>\n",
       "      <th>2014</th>\n",
       "      <td>55.992405</td>\n",
       "    </tr>\n",
       "    <tr>\n",
       "      <th>2015</th>\n",
       "      <td>53.750526</td>\n",
       "    </tr>\n",
       "    <tr>\n",
       "      <th>2016</th>\n",
       "      <td>55.534062</td>\n",
       "    </tr>\n",
       "    <tr>\n",
       "      <th>2017</th>\n",
       "      <td>54.542281</td>\n",
       "    </tr>\n",
       "  </tbody>\n",
       "</table>\n",
       "</div>"
      ],
      "text/plain": [
       "rule         Rev. CLNV (ex)\n",
       "year_binned                \n",
       "2005-2007         57.883226\n",
       "2008-2010         58.975710\n",
       "2011              64.954371\n",
       "2012              66.348056\n",
       "2013              63.072901\n",
       "2014              55.992405\n",
       "2015              53.750526\n",
       "2016              55.534062\n",
       "2017              54.542281"
      ]
     },
     "execution_count": 10,
     "metadata": {},
     "output_type": "execute_result"
    }
   ],
   "source": [
    "clf = ClassicalClassifier(\n",
    "    layers=[(\"rev_clnv\", \"ex\")],\n",
    "    random_state=seed,\n",
    ")\n",
    "clf.fit(X=X_print.loc[0:1, :], y=X_print[\"buy_sell\"].loc[0:1])\n",
    "X_print[\"buy_sell_predicted\"] = clf.predict(X_print)\n",
    "X_print[\"rule\"] = \"Rev. CLNV (ex)\"\n",
    "\n",
    "check_robustness(\"year_binned\")"
   ]
  },
  {
   "cell_type": "code",
   "execution_count": 11,
   "metadata": {},
   "outputs": [
    {
     "data": {
      "text/html": [
       "<div>\n",
       "<style scoped>\n",
       "    .dataframe tbody tr th:only-of-type {\n",
       "        vertical-align: middle;\n",
       "    }\n",
       "\n",
       "    .dataframe tbody tr th {\n",
       "        vertical-align: top;\n",
       "    }\n",
       "\n",
       "    .dataframe thead th {\n",
       "        text-align: right;\n",
       "    }\n",
       "</style>\n",
       "<table border=\"1\" class=\"dataframe\">\n",
       "  <thead>\n",
       "    <tr style=\"text-align: right;\">\n",
       "      <th>rule</th>\n",
       "      <th>Tradesize + Rev. CLNV (ex)</th>\n",
       "    </tr>\n",
       "    <tr>\n",
       "      <th>year_binned</th>\n",
       "      <th></th>\n",
       "    </tr>\n",
       "  </thead>\n",
       "  <tbody>\n",
       "    <tr>\n",
       "      <th>2005-2007</th>\n",
       "      <td>77.502189</td>\n",
       "    </tr>\n",
       "    <tr>\n",
       "      <th>2008-2010</th>\n",
       "      <td>73.666484</td>\n",
       "    </tr>\n",
       "    <tr>\n",
       "      <th>2011</th>\n",
       "      <td>72.015556</td>\n",
       "    </tr>\n",
       "    <tr>\n",
       "      <th>2012</th>\n",
       "      <td>71.022424</td>\n",
       "    </tr>\n",
       "    <tr>\n",
       "      <th>2013</th>\n",
       "      <td>68.690161</td>\n",
       "    </tr>\n",
       "    <tr>\n",
       "      <th>2014</th>\n",
       "      <td>66.726046</td>\n",
       "    </tr>\n",
       "    <tr>\n",
       "      <th>2015</th>\n",
       "      <td>61.269082</td>\n",
       "    </tr>\n",
       "    <tr>\n",
       "      <th>2016</th>\n",
       "      <td>62.200235</td>\n",
       "    </tr>\n",
       "    <tr>\n",
       "      <th>2017</th>\n",
       "      <td>62.650107</td>\n",
       "    </tr>\n",
       "  </tbody>\n",
       "</table>\n",
       "</div>"
      ],
      "text/plain": [
       "rule         Tradesize + Rev. CLNV (ex)\n",
       "year_binned                            \n",
       "2005-2007                     77.502189\n",
       "2008-2010                     73.666484\n",
       "2011                          72.015556\n",
       "2012                          71.022424\n",
       "2013                          68.690161\n",
       "2014                          66.726046\n",
       "2015                          61.269082\n",
       "2016                          62.200235\n",
       "2017                          62.650107"
      ]
     },
     "execution_count": 11,
     "metadata": {},
     "output_type": "execute_result"
    }
   ],
   "source": [
    "clf = ClassicalClassifier(\n",
    "    layers=[(\"trade_size\", \"ex\"), (\"rev_clnv\", \"ex\")],\n",
    "    random_state=seed,\n",
    ")\n",
    "clf.fit(X=X_print.loc[0:1, :], y=X_print[\"buy_sell\"].loc[0:1])\n",
    "X_print[\"buy_sell_predicted\"] = clf.predict(X_print)\n",
    "X_print[\"rule\"] = \"Tradesize + Rev. CLNV (ex)\"\n",
    "\n",
    "check_robustness(\"year_binned\")"
   ]
  },
  {
   "cell_type": "code",
   "execution_count": 12,
   "metadata": {},
   "outputs": [
    {
     "data": {
      "text/html": [
       "<div>\n",
       "<style scoped>\n",
       "    .dataframe tbody tr th:only-of-type {\n",
       "        vertical-align: middle;\n",
       "    }\n",
       "\n",
       "    .dataframe tbody tr th {\n",
       "        vertical-align: top;\n",
       "    }\n",
       "\n",
       "    .dataframe thead th {\n",
       "        text-align: right;\n",
       "    }\n",
       "</style>\n",
       "<table border=\"1\" class=\"dataframe\">\n",
       "  <thead>\n",
       "    <tr style=\"text-align: right;\">\n",
       "      <th>rule</th>\n",
       "      <th>Tradesize + depth + Rev. CLNV (ex)</th>\n",
       "    </tr>\n",
       "    <tr>\n",
       "      <th>year_binned</th>\n",
       "      <th></th>\n",
       "    </tr>\n",
       "  </thead>\n",
       "  <tbody>\n",
       "    <tr>\n",
       "      <th>2005-2007</th>\n",
       "      <td>78.279793</td>\n",
       "    </tr>\n",
       "    <tr>\n",
       "      <th>2008-2010</th>\n",
       "      <td>74.606757</td>\n",
       "    </tr>\n",
       "    <tr>\n",
       "      <th>2011</th>\n",
       "      <td>73.238227</td>\n",
       "    </tr>\n",
       "    <tr>\n",
       "      <th>2012</th>\n",
       "      <td>72.070993</td>\n",
       "    </tr>\n",
       "    <tr>\n",
       "      <th>2013</th>\n",
       "      <td>69.706701</td>\n",
       "    </tr>\n",
       "    <tr>\n",
       "      <th>2014</th>\n",
       "      <td>67.827731</td>\n",
       "    </tr>\n",
       "    <tr>\n",
       "      <th>2015</th>\n",
       "      <td>62.354422</td>\n",
       "    </tr>\n",
       "    <tr>\n",
       "      <th>2016</th>\n",
       "      <td>62.887485</td>\n",
       "    </tr>\n",
       "    <tr>\n",
       "      <th>2017</th>\n",
       "      <td>63.179526</td>\n",
       "    </tr>\n",
       "  </tbody>\n",
       "</table>\n",
       "</div>"
      ],
      "text/plain": [
       "rule         Tradesize + depth + Rev. CLNV (ex)\n",
       "year_binned                                    \n",
       "2005-2007                             78.279793\n",
       "2008-2010                             74.606757\n",
       "2011                                  73.238227\n",
       "2012                                  72.070993\n",
       "2013                                  69.706701\n",
       "2014                                  67.827731\n",
       "2015                                  62.354422\n",
       "2016                                  62.887485\n",
       "2017                                  63.179526"
      ]
     },
     "execution_count": 12,
     "metadata": {},
     "output_type": "execute_result"
    }
   ],
   "source": [
    "clf = ClassicalClassifier(\n",
    "    layers=[(\"trade_size\", \"ex\"), (\"depth\",\"ex\"), (\"rev_clnv\", \"ex\")],\n",
    "    random_state=seed,\n",
    ")\n",
    "clf.fit(X=X_print.loc[0:1, :], y=X_print[\"buy_sell\"].loc[0:1])\n",
    "X_print[\"buy_sell_predicted\"] = clf.predict(X_print)\n",
    "X_print[\"rule\"] = \"Tradesize + depth + Rev. CLNV (ex)\"\n",
    "\n",
    "check_robustness(\"year_binned\")"
   ]
  },
  {
   "cell_type": "markdown",
   "metadata": {},
   "source": [
    "### Reverse LR Algorithm"
   ]
  },
  {
   "cell_type": "code",
   "execution_count": 13,
   "metadata": {},
   "outputs": [
    {
     "data": {
      "text/html": [
       "<div>\n",
       "<style scoped>\n",
       "    .dataframe tbody tr th:only-of-type {\n",
       "        vertical-align: middle;\n",
       "    }\n",
       "\n",
       "    .dataframe tbody tr th {\n",
       "        vertical-align: top;\n",
       "    }\n",
       "\n",
       "    .dataframe thead th {\n",
       "        text-align: right;\n",
       "    }\n",
       "</style>\n",
       "<table border=\"1\" class=\"dataframe\">\n",
       "  <thead>\n",
       "    <tr style=\"text-align: right;\">\n",
       "      <th>rule</th>\n",
       "      <th>Tradesize + depth + rev. lr (NBBO)</th>\n",
       "    </tr>\n",
       "    <tr>\n",
       "      <th>TRADE_SIZE_binned</th>\n",
       "      <th></th>\n",
       "    </tr>\n",
       "  </thead>\n",
       "  <tbody>\n",
       "    <tr>\n",
       "      <th>(0,1]</th>\n",
       "      <td>75.165731</td>\n",
       "    </tr>\n",
       "    <tr>\n",
       "      <th>(1,3]</th>\n",
       "      <td>78.555216</td>\n",
       "    </tr>\n",
       "    <tr>\n",
       "      <th>(3,5]</th>\n",
       "      <td>80.229544</td>\n",
       "    </tr>\n",
       "    <tr>\n",
       "      <th>(5,11]</th>\n",
       "      <td>72.853984</td>\n",
       "    </tr>\n",
       "    <tr>\n",
       "      <th>&gt;11</th>\n",
       "      <td>69.683070</td>\n",
       "    </tr>\n",
       "  </tbody>\n",
       "</table>\n",
       "</div>"
      ],
      "text/plain": [
       "rule               Tradesize + depth + rev. lr (NBBO)\n",
       "TRADE_SIZE_binned                                    \n",
       "(0,1]                                       75.165731\n",
       "(1,3]                                       78.555216\n",
       "(3,5]                                       80.229544\n",
       "(5,11]                                      72.853984\n",
       ">11                                         69.683070"
      ]
     },
     "execution_count": 13,
     "metadata": {},
     "output_type": "execute_result"
    }
   ],
   "source": [
    "clf = ClassicalClassifier(\n",
    "    layers=[(\"trade_size\", \"ex\"), (\"depth\", \"ex\"), (\"rev_lr\", \"best\")],\n",
    "    random_state=seed,\n",
    ")\n",
    "clf.fit(X=X_print.loc[0:1, :], y=X_print[\"buy_sell\"].loc[0:1])\n",
    "X_print[\"buy_sell_predicted\"] = clf.predict(X_print)\n",
    "X_print[\"rule\"] = \"Tradesize + depth + rev. lr (NBBO)\"\n",
    "\n",
    "result = check_robustness(\"TRADE_SIZE_binned\")\n",
    "result"
   ]
  },
  {
   "cell_type": "code",
   "execution_count": 14,
   "metadata": {
    "id": "FpTGrkpcZKIc"
   },
   "outputs": [],
   "source": [
    "# see p. 30\n",
    "np.testing.assert_allclose(\n",
    "    result.iloc[:, 0].tolist(), [75.43, 78.83, 80.52, 73.23, 70.22], atol=0.6\n",
    ")\n"
   ]
  },
  {
   "cell_type": "code",
   "execution_count": 15,
   "metadata": {
    "colab": {
     "base_uri": "https://localhost:8080/",
     "height": 363
    },
    "id": "psbeg_kLLyNd",
    "outputId": "c4b18a4f-bd2d-45f3-c84a-65d519c5906a"
   },
   "outputs": [
    {
     "data": {
      "text/html": [
       "<div>\n",
       "<style scoped>\n",
       "    .dataframe tbody tr th:only-of-type {\n",
       "        vertical-align: middle;\n",
       "    }\n",
       "\n",
       "    .dataframe tbody tr th {\n",
       "        vertical-align: top;\n",
       "    }\n",
       "\n",
       "    .dataframe thead th {\n",
       "        text-align: right;\n",
       "    }\n",
       "</style>\n",
       "<table border=\"1\" class=\"dataframe\">\n",
       "  <thead>\n",
       "    <tr style=\"text-align: right;\">\n",
       "      <th>rule</th>\n",
       "      <th>Tradesize + depth + rev. lr (NBBO)</th>\n",
       "    </tr>\n",
       "    <tr>\n",
       "      <th>year_binned</th>\n",
       "      <th></th>\n",
       "    </tr>\n",
       "  </thead>\n",
       "  <tbody>\n",
       "    <tr>\n",
       "      <th>2005-2007</th>\n",
       "      <td>81.285217</td>\n",
       "    </tr>\n",
       "    <tr>\n",
       "      <th>2008-2010</th>\n",
       "      <td>80.457831</td>\n",
       "    </tr>\n",
       "    <tr>\n",
       "      <th>2011</th>\n",
       "      <td>79.535931</td>\n",
       "    </tr>\n",
       "    <tr>\n",
       "      <th>2012</th>\n",
       "      <td>77.863734</td>\n",
       "    </tr>\n",
       "    <tr>\n",
       "      <th>2013</th>\n",
       "      <td>76.129620</td>\n",
       "    </tr>\n",
       "    <tr>\n",
       "      <th>2014</th>\n",
       "      <td>71.616233</td>\n",
       "    </tr>\n",
       "    <tr>\n",
       "      <th>2015</th>\n",
       "      <td>64.875378</td>\n",
       "    </tr>\n",
       "    <tr>\n",
       "      <th>2016</th>\n",
       "      <td>66.768590</td>\n",
       "    </tr>\n",
       "    <tr>\n",
       "      <th>2017</th>\n",
       "      <td>68.192941</td>\n",
       "    </tr>\n",
       "  </tbody>\n",
       "</table>\n",
       "</div>"
      ],
      "text/plain": [
       "rule         Tradesize + depth + rev. lr (NBBO)\n",
       "year_binned                                    \n",
       "2005-2007                             81.285217\n",
       "2008-2010                             80.457831\n",
       "2011                                  79.535931\n",
       "2012                                  77.863734\n",
       "2013                                  76.129620\n",
       "2014                                  71.616233\n",
       "2015                                  64.875378\n",
       "2016                                  66.768590\n",
       "2017                                  68.192941"
      ]
     },
     "execution_count": 15,
     "metadata": {},
     "output_type": "execute_result"
    }
   ],
   "source": [
    "check_robustness(\"year_binned\")\n"
   ]
  },
  {
   "cell_type": "code",
   "execution_count": 16,
   "metadata": {},
   "outputs": [
    {
     "data": {
      "text/html": [
       "<div>\n",
       "<style scoped>\n",
       "    .dataframe tbody tr th:only-of-type {\n",
       "        vertical-align: middle;\n",
       "    }\n",
       "\n",
       "    .dataframe tbody tr th {\n",
       "        vertical-align: top;\n",
       "    }\n",
       "\n",
       "    .dataframe thead th {\n",
       "        text-align: right;\n",
       "    }\n",
       "</style>\n",
       "<table border=\"1\" class=\"dataframe\">\n",
       "  <thead>\n",
       "    <tr style=\"text-align: right;\">\n",
       "      <th>rule</th>\n",
       "      <th>Tradesize + depth + rev. lr (NBBO)</th>\n",
       "    </tr>\n",
       "    <tr>\n",
       "      <th>year_binned</th>\n",
       "      <th></th>\n",
       "    </tr>\n",
       "  </thead>\n",
       "  <tbody>\n",
       "    <tr>\n",
       "      <th>2015</th>\n",
       "      <td>63.369714</td>\n",
       "    </tr>\n",
       "    <tr>\n",
       "      <th>2016</th>\n",
       "      <td>66.768590</td>\n",
       "    </tr>\n",
       "    <tr>\n",
       "      <th>2017</th>\n",
       "      <td>68.192941</td>\n",
       "    </tr>\n",
       "  </tbody>\n",
       "</table>\n",
       "</div>"
      ],
      "text/plain": [
       "rule         Tradesize + depth + rev. lr (NBBO)\n",
       "year_binned                                    \n",
       "2015                                  63.369714\n",
       "2016                                  66.768590\n",
       "2017                                  68.192941"
      ]
     },
     "execution_count": 16,
     "metadata": {},
     "output_type": "execute_result"
    }
   ],
   "source": [
    "# accuracy on test set only\n",
    "X_print = X_print.iloc[test_index]\n",
    "check_robustness(\"year_binned\")"
   ]
  },
  {
   "cell_type": "code",
   "execution_count": 18,
   "metadata": {},
   "outputs": [
    {
     "name": "stdout",
     "output_type": "stream",
     "text": [
      "0.6684498502064984\n"
     ]
    }
   ],
   "source": [
    "# overall accuracy score on test set\n",
    "print(accuracy_score(X_print[\"buy_sell\"], X_print[\"buy_sell_predicted\"]))"
   ]
  }
 ],
 "metadata": {
  "colab": {
   "include_colab_link": true,
   "machine_shape": "hm",
   "name": "Untitled2.ipynb",
   "provenance": []
  },
  "gpuClass": "premium",
  "kernelspec": {
   "display_name": "Python (thesis)",
   "language": "python",
   "name": "thesis"
  },
  "language_info": {
   "codemirror_mode": {
    "name": "ipython",
    "version": 3
   },
   "file_extension": ".py",
   "mimetype": "text/x-python",
   "name": "python",
   "nbconvert_exporter": "python",
   "pygments_lexer": "ipython3",
   "version": "3.8.6"
  },
  "vscode": {
   "interpreter": {
    "hash": "e7370f93d1d0cde622a1f8e1c04877d8463912d04d973331ad4851f04de6915a"
   }
  }
 },
 "nbformat": 4,
 "nbformat_minor": 4
}
