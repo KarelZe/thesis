{
 "cells": [
  {
   "cell_type": "code",
   "execution_count": 59,
   "metadata": {},
   "outputs": [],
   "source": [
    "import os\n",
    "import sys\n",
    "from pathlib import Path\n",
    "\n",
    "import pandas as pd\n",
    "from sklearn.metrics import accuracy_score\n",
    "import wandb\n",
    "from tqdm.auto import tqdm\n",
    "\n",
    "sys.path.append(\"..\")\n",
    "from otc.features.build_features import features_classical_size\n",
    "from otc.models.classical_classifier import ClassicalClassifier\n"
   ]
  },
  {
   "cell_type": "code",
   "execution_count": 60,
   "metadata": {},
   "outputs": [],
   "source": [
    "# set here globally\n",
    "seed = 42\n",
    "\n",
    "exchange = \"ise\" # \"cboe\"\n",
    "models = \"classical\"\n",
    "subset = \"test\" # \"all\" # \"test\"\n",
    "strategy =  \"supervised\" # \"transfer\"\n"
   ]
  },
  {
   "cell_type": "code",
   "execution_count": 61,
   "metadata": {},
   "outputs": [],
   "source": [
    "# key used for files and artefacts\n",
    "key = f\"{exchange}_{models}_{strategy}_{subset}\"\n",
    "\n",
    "dataset = f\"fbv/thesis/{exchange}_{strategy}_none:latest\"\n"
   ]
  },
  {
   "cell_type": "code",
   "execution_count": 62,
   "metadata": {},
   "outputs": [
    {
     "data": {
      "text/html": [
       "Finishing last run (ID:1jdhfgzn) before initializing another..."
      ],
      "text/plain": [
       "<IPython.core.display.HTML object>"
      ]
     },
     "metadata": {},
     "output_type": "display_data"
    },
    {
     "data": {
      "text/html": [
       "Waiting for W&B process to finish... <strong style=\"color:green\">(success).</strong>"
      ],
      "text/plain": [
       "<IPython.core.display.HTML object>"
      ]
     },
     "metadata": {},
     "output_type": "display_data"
    },
    {
     "data": {
      "text/html": [
       "Synced <strong style=\"color:#cdcd00\">emissary-picard-1188</strong>: <a href=\"https://wandb.ai/fbv/thesis/runs/1jdhfgzn\" target=\"_blank\">https://wandb.ai/fbv/thesis/runs/1jdhfgzn</a><br/>Synced 4 W&B file(s), 0 media file(s), 0 artifact file(s) and 0 other file(s)"
      ],
      "text/plain": [
       "<IPython.core.display.HTML object>"
      ]
     },
     "metadata": {},
     "output_type": "display_data"
    },
    {
     "data": {
      "text/html": [
       "Find logs at: <code>./wandb/run-20230406_103731-1jdhfgzn/logs</code>"
      ],
      "text/plain": [
       "<IPython.core.display.HTML object>"
      ]
     },
     "metadata": {},
     "output_type": "display_data"
    },
    {
     "data": {
      "text/html": [
       "Successfully finished last run (ID:1jdhfgzn). Initializing new run:<br/>"
      ],
      "text/plain": [
       "<IPython.core.display.HTML object>"
      ]
     },
     "metadata": {},
     "output_type": "display_data"
    },
    {
     "data": {
      "text/html": [
       "wandb version 0.14.1 is available!  To upgrade, please run:\n",
       " $ pip install wandb --upgrade"
      ],
      "text/plain": [
       "<IPython.core.display.HTML object>"
      ]
     },
     "metadata": {},
     "output_type": "display_data"
    },
    {
     "data": {
      "text/html": [
       "Tracking run with wandb version 0.13.5"
      ],
      "text/plain": [
       "<IPython.core.display.HTML object>"
      ]
     },
     "metadata": {},
     "output_type": "display_data"
    },
    {
     "data": {
      "text/html": [
       "Run data is saved locally in <code>/pfs/data5/home/kit/stud/uloak/thesis/notebooks/wandb/run-20230406_103813-h3lo9s0d</code>"
      ],
      "text/plain": [
       "<IPython.core.display.HTML object>"
      ]
     },
     "metadata": {},
     "output_type": "display_data"
    },
    {
     "data": {
      "text/html": [
       "Syncing run <strong><a href=\"https://wandb.ai/fbv/thesis/runs/h3lo9s0d\" target=\"_blank\">jem-hadar-phaser-1189</a></strong> to <a href=\"https://wandb.ai/fbv/thesis\" target=\"_blank\">Weights & Biases</a> (<a href=\"https://wandb.me/run\" target=\"_blank\">docs</a>)<br/>"
      ],
      "text/plain": [
       "<IPython.core.display.HTML object>"
      ]
     },
     "metadata": {},
     "output_type": "display_data"
    },
    {
     "name": "stderr",
     "output_type": "stream",
     "text": [
      "\u001b[34m\u001b[1mwandb\u001b[0m: Downloading large artifact ise_supervised_none:latest, 4203.92MB. 3 files... \n",
      "\u001b[34m\u001b[1mwandb\u001b[0m:   3 of 3 files downloaded.  \n",
      "Done. 0:0:0.0\n"
     ]
    }
   ],
   "source": [
    "os.environ[\"GCLOUD_PROJECT\"] = \"flowing-mantis-239216\"\n",
    "run = wandb.init(project=\"thesis\", entity=\"fbv\")\n",
    "\n",
    "# load unscaled data\n",
    "artifact = run.use_artifact(dataset)\n",
    "data_dir = artifact.download()\n"
   ]
  },
  {
   "cell_type": "code",
   "execution_count": 63,
   "metadata": {},
   "outputs": [],
   "source": [
    "columns = [\n",
    "    *features_classical_size,\n",
    "    \"buy_sell\",\n",
    "]\n"
   ]
  },
  {
   "cell_type": "code",
   "execution_count": 64,
   "metadata": {},
   "outputs": [],
   "source": [
    "if subset == \"all\":\n",
    "    train = pd.read_parquet(\n",
    "        Path(data_dir, \"train_set.parquet\"), engine=\"fastparquet\", columns=columns\n",
    "    )\n",
    "    val = pd.read_parquet(\n",
    "        Path(data_dir, \"val_set.parquet\"), engine=\"fastparquet\", columns=columns\n",
    "    )\n",
    "    test = pd.read_parquet(\n",
    "        Path(data_dir, \"test_set.parquet\"), engine=\"fastparquet\", columns=columns\n",
    "    )\n",
    "    data = pd.concat([train, val, test])\n",
    "    del train, val, test\n",
    "\n",
    "elif subset == \"val\":\n",
    "    data = pd.read_parquet(\n",
    "        Path(data_dir, \"val_set.parquet\"), engine=\"fastparquet\", columns=columns\n",
    "    )    \n",
    "    \n",
    "elif subset == \"test\":\n",
    "    data = pd.read_parquet(\n",
    "        Path(data_dir, \"test_set.parquet\"), engine=\"fastparquet\", columns=columns\n",
    "    )\n",
    "\n",
    "y_test = data[\"buy_sell\"].astype(\"int8\")\n",
    "X_test = data.drop(columns=\"buy_sell\")\n",
    "\n",
    "del data\n"
   ]
  },
  {
   "cell_type": "code",
   "execution_count": 65,
   "metadata": {},
   "outputs": [
    {
     "name": "stderr",
     "output_type": "stream",
     "text": [
      "100%|██████████| 39/39 [00:00<00:00, 118363.14it/s]\n"
     ]
    }
   ],
   "source": [
    "rules = [ #classical\n",
    "    [(\"tick\", \"all\")],\n",
    "    [(\"tick\", \"ex\")],\n",
    "    [(\"tick\", \"all\"), (\"tick\", \"ex\")], \n",
    "    [(\"tick\", \"ex\"), (\"tick\", \"all\")], \n",
    "    [(\"rev_tick\", \"all\")],\n",
    "    [(\"rev_tick\", \"ex\")],\n",
    "    [(\"rev_tick\", \"all\"), (\"rev_tick\", \"ex\")], \n",
    "    [(\"rev_tick\", \"ex\"), (\"rev_tick\", \"all\")], \n",
    "    [(\"quote\", \"best\")],\n",
    "    [(\"quote\", \"ex\")],\n",
    "    [(\"quote\", \"best\"), (\"quote\", \"ex\")],  # murjajev\n",
    "    [(\"quote\", \"ex\"), (\"quote\", \"best\")], \n",
    "    [(\"lr\", \"ex\")],\n",
    "    [(\"lr\", \"best\")],\n",
    "    [(\"lr\", \"ex\"), (\"lr\", \"best\")],\n",
    "    [(\"lr\", \"best\"), (\"lr\", \"ex\")],\n",
    "    [(\"rev_lr\", \"ex\")],\n",
    "    [(\"rev_lr\", \"best\")],\n",
    "    [(\"rev_lr\", \"ex\"), (\"rev_lr\", \"best\")],\n",
    "    [(\"rev_lr\", \"best\"), (\"rev_lr\", \"ex\")],    \n",
    "    [(\"emo\", \"ex\")],\n",
    "    [(\"emo\", \"best\")],\n",
    "    [(\"emo\", \"ex\"), (\"emo\", \"best\")],\n",
    "    [(\"emo\", \"best\"), (\"emo\", \"ex\")],       \n",
    "    [(\"rev_emo\", \"ex\")],\n",
    "    [(\"rev_emo\", \"best\")],\n",
    "    [(\"rev_emo\", \"ex\"), (\"rev_emo\", \"best\")],\n",
    "    [(\"rev_emo\", \"best\"), (\"rev_emo\", \"ex\")],   \n",
    "    [(\"clnv\", \"ex\")],\n",
    "    [(\"clnv\", \"best\")],\n",
    "    [(\"clnv\", \"ex\"), (\"clnv\", \"best\")],\n",
    "    [(\"clnv\", \"best\"), (\"clnv\", \"ex\")],   \n",
    "    [(\"rev_clnv\", \"ex\")],\n",
    "    [(\"rev_clnv\", \"best\")],\n",
    "    [(\"rev_clnv\", \"ex\"), (\"rev_clnv\", \"best\")],\n",
    "    [(\"rev_clnv\", \"best\"), (\"rev_clnv\", \"ex\")],\n",
    "    [ # advanced rules\n",
    "        (\"trade_size\", \"ex\"),\n",
    "        (\"quote\", \"best\"),\n",
    "        (\"quote\", \"ex\"),\n",
    "    ], \n",
    "    [(\"trade_size\", \"ex\"), (\"rev_lr\", \"best\")],    \n",
    "    [\n",
    "        (\"trade_size\", \"ex\"),\n",
    "        (\"quote\", \"best\"),\n",
    "        (\"quote\", \"ex\"),\n",
    "        (\"depth\", \"best\"),\n",
    "        (\"depth\", \"ex\"),\n",
    "        (\"rev_tick\", \"all\"),\n",
    "    ],  # p. 13 grauer\n",
    "]\n",
    "\n",
    "# generate names for array\n",
    "names = []\n",
    "for r in tqdm(rules):\n",
    "    name = \"->\".join(\"%s(%s)\" % tup for tup in r)\n",
    "    names.append(name)\n"
   ]
  },
  {
   "cell_type": "code",
   "execution_count": 66,
   "metadata": {},
   "outputs": [
    {
     "name": "stderr",
     "output_type": "stream",
     "text": [
      "100%|██████████| 39/39 [00:45<00:00,  1.16s/it]\n"
     ]
    }
   ],
   "source": [
    "results = []\n",
    "\n",
    "for rule in tqdm(rules):\n",
    "    clf = ClassicalClassifier(layers=rule, random_state=seed, strategy=\"const\")\n",
    "    # fit is only used to set sklearn attributes, no leakage\n",
    "    clf.fit(X=X_test.head(5), y=y_test.head(5))\n",
    "    result = clf.predict(X_test).astype(int)\n",
    "    results.append(result)\n"
   ]
  },
  {
   "cell_type": "code",
   "execution_count": 67,
   "metadata": {},
   "outputs": [],
   "source": [
    "results = pd.DataFrame(dict(zip(names, results)), index=X_test.index)\n"
   ]
  },
  {
   "cell_type": "code",
   "execution_count": 68,
   "metadata": {},
   "outputs": [],
   "source": [
    "output_path = (\n",
    "    f\"gs://thesis-bucket-option-trade-classification/data/results/{key}.parquet\"\n",
    ")\n",
    "results.to_parquet(output_path)\n"
   ]
  },
  {
   "cell_type": "code",
   "execution_count": 69,
   "metadata": {
    "tags": []
   },
   "outputs": [
    {
     "name": "stderr",
     "output_type": "stream",
     "text": [
      "/pfs/data5/home/kit/stud/uloak/thesis/thesis/lib/python3.8/site-packages/google/auth/_default.py:78: UserWarning: Your application has authenticated using end user credentials from Google Cloud SDK without a quota project. You might receive a \"quota exceeded\" or \"API not enabled\" error. See the following page for troubleshooting: https://cloud.google.com/docs/authentication/adc-troubleshooting/user-creds. \n",
      "  warnings.warn(_CLOUD_SDK_CREDENTIALS_WARNING)\n"
     ]
    },
    {
     "data": {
      "text/html": [
       "Waiting for W&B process to finish... <strong style=\"color:green\">(success).</strong>"
      ],
      "text/plain": [
       "<IPython.core.display.HTML object>"
      ]
     },
     "metadata": {},
     "output_type": "display_data"
    },
    {
     "data": {
      "text/html": [
       "Synced <strong style=\"color:#cdcd00\">jem-hadar-phaser-1189</strong>: <a href=\"https://wandb.ai/fbv/thesis/runs/h3lo9s0d\" target=\"_blank\">https://wandb.ai/fbv/thesis/runs/h3lo9s0d</a><br/>Synced 5 W&B file(s), 0 media file(s), 0 artifact file(s) and 0 other file(s)"
      ],
      "text/plain": [
       "<IPython.core.display.HTML object>"
      ]
     },
     "metadata": {},
     "output_type": "display_data"
    },
    {
     "data": {
      "text/html": [
       "Find logs at: <code>./wandb/run-20230406_103813-h3lo9s0d/logs</code>"
      ],
      "text/plain": [
       "<IPython.core.display.HTML object>"
      ]
     },
     "metadata": {},
     "output_type": "display_data"
    }
   ],
   "source": [
    "# Log the artifact to save it as an output of this run\n",
    "result_set = wandb.Artifact(name=key, type=\"results\")\n",
    "result_set.add_reference(output_path, name=\"results\")\n",
    "run.log_artifact(result_set)\n",
    "\n",
    "wandb.finish()\n"
   ]
  },
  {
   "cell_type": "markdown",
   "metadata": {},
   "source": [
    "## Selection of benchmark🧮\n",
    "run on `subset = val`, `exchange = ise`, and `strategy = random`."
   ]
  },
  {
   "cell_type": "code",
   "execution_count": 12,
   "metadata": {},
   "outputs": [
    {
     "name": "stderr",
     "output_type": "stream",
     "text": [
      "100%|██████████| 39/39 [00:33<00:00,  1.16it/s]\n"
     ]
    }
   ],
   "source": [
    "scores = []\n",
    "for name in tqdm(names):\n",
    "    scores.append((name,accuracy_score(y_test, results[name])))\n",
    "    "
   ]
  },
  {
   "cell_type": "code",
   "execution_count": 17,
   "metadata": {
    "tags": []
   },
   "outputs": [],
   "source": [
    "scores = pd.DataFrame(scores)\n",
    "scores_df = scores.sort_values(by=1, ascending=False).set_index(0, drop=True)"
   ]
  },
  {
   "cell_type": "code",
   "execution_count": 32,
   "metadata": {
    "tags": []
   },
   "outputs": [
    {
     "data": {
      "text/html": [
       "<div>\n",
       "<style scoped>\n",
       "    .dataframe tbody tr th:only-of-type {\n",
       "        vertical-align: middle;\n",
       "    }\n",
       "\n",
       "    .dataframe tbody tr th {\n",
       "        vertical-align: top;\n",
       "    }\n",
       "\n",
       "    .dataframe thead th {\n",
       "        text-align: right;\n",
       "    }\n",
       "</style>\n",
       "<table border=\"1\" class=\"dataframe\">\n",
       "  <thead>\n",
       "    <tr style=\"text-align: right;\">\n",
       "      <th></th>\n",
       "      <th>1</th>\n",
       "    </tr>\n",
       "    <tr>\n",
       "      <th>0</th>\n",
       "      <th></th>\n",
       "    </tr>\n",
       "  </thead>\n",
       "  <tbody>\n",
       "    <tr>\n",
       "      <th>trade_size(ex)-&gt;quote(best)-&gt;quote(ex)-&gt;depth(best)-&gt;depth(ex)-&gt;rev_tick(all)</th>\n",
       "      <td>0.688359</td>\n",
       "    </tr>\n",
       "    <tr>\n",
       "      <th>trade_size(ex)-&gt;quote(best)-&gt;quote(ex)</th>\n",
       "      <td>0.683255</td>\n",
       "    </tr>\n",
       "    <tr>\n",
       "      <th>trade_size(ex)-&gt;rev_lr(best)</th>\n",
       "      <td>0.681468</td>\n",
       "    </tr>\n",
       "    <tr>\n",
       "      <th>quote(best)-&gt;quote(ex)</th>\n",
       "      <td>0.586736</td>\n",
       "    </tr>\n",
       "    <tr>\n",
       "      <th>rev_lr(best)-&gt;rev_lr(ex)</th>\n",
       "      <td>0.586463</td>\n",
       "    </tr>\n",
       "    <tr>\n",
       "      <th>rev_lr(best)</th>\n",
       "      <td>0.586426</td>\n",
       "    </tr>\n",
       "    <tr>\n",
       "      <th>lr(best)-&gt;lr(ex)</th>\n",
       "      <td>0.585902</td>\n",
       "    </tr>\n",
       "    <tr>\n",
       "      <th>lr(best)</th>\n",
       "      <td>0.585895</td>\n",
       "    </tr>\n",
       "    <tr>\n",
       "      <th>quote(best)</th>\n",
       "      <td>0.585451</td>\n",
       "    </tr>\n",
       "    <tr>\n",
       "      <th>quote(ex)-&gt;quote(best)</th>\n",
       "      <td>0.578577</td>\n",
       "    </tr>\n",
       "    <tr>\n",
       "      <th>rev_lr(ex)-&gt;rev_lr(best)</th>\n",
       "      <td>0.576739</td>\n",
       "    </tr>\n",
       "    <tr>\n",
       "      <th>rev_lr(ex)</th>\n",
       "      <td>0.576446</td>\n",
       "    </tr>\n",
       "    <tr>\n",
       "      <th>lr(ex)-&gt;lr(best)</th>\n",
       "      <td>0.575586</td>\n",
       "    </tr>\n",
       "    <tr>\n",
       "      <th>lr(ex)</th>\n",
       "      <td>0.575541</td>\n",
       "    </tr>\n",
       "    <tr>\n",
       "      <th>quote(ex)</th>\n",
       "      <td>0.575112</td>\n",
       "    </tr>\n",
       "    <tr>\n",
       "      <th>rev_clnv(best)-&gt;rev_clnv(ex)</th>\n",
       "      <td>0.565991</td>\n",
       "    </tr>\n",
       "    <tr>\n",
       "      <th>rev_clnv(best)</th>\n",
       "      <td>0.565935</td>\n",
       "    </tr>\n",
       "    <tr>\n",
       "      <th>clnv(best)-&gt;clnv(ex)</th>\n",
       "      <td>0.563454</td>\n",
       "    </tr>\n",
       "    <tr>\n",
       "      <th>clnv(best)</th>\n",
       "      <td>0.563415</td>\n",
       "    </tr>\n",
       "    <tr>\n",
       "      <th>rev_clnv(ex)-&gt;rev_clnv(best)</th>\n",
       "      <td>0.554454</td>\n",
       "    </tr>\n",
       "    <tr>\n",
       "      <th>rev_clnv(ex)</th>\n",
       "      <td>0.553904</td>\n",
       "    </tr>\n",
       "    <tr>\n",
       "      <th>clnv(ex)-&gt;clnv(best)</th>\n",
       "      <td>0.552497</td>\n",
       "    </tr>\n",
       "    <tr>\n",
       "      <th>clnv(ex)</th>\n",
       "      <td>0.552333</td>\n",
       "    </tr>\n",
       "    <tr>\n",
       "      <th>rev_emo(best)-&gt;rev_emo(ex)</th>\n",
       "      <td>0.548279</td>\n",
       "    </tr>\n",
       "    <tr>\n",
       "      <th>rev_emo(best)</th>\n",
       "      <td>0.548209</td>\n",
       "    </tr>\n",
       "    <tr>\n",
       "      <th>emo(best)-&gt;emo(ex)</th>\n",
       "      <td>0.548162</td>\n",
       "    </tr>\n",
       "    <tr>\n",
       "      <th>emo(best)</th>\n",
       "      <td>0.548136</td>\n",
       "    </tr>\n",
       "    <tr>\n",
       "      <th>tick(all)</th>\n",
       "      <td>0.545442</td>\n",
       "    </tr>\n",
       "    <tr>\n",
       "      <th>tick(all)-&gt;tick(ex)</th>\n",
       "      <td>0.545350</td>\n",
       "    </tr>\n",
       "    <tr>\n",
       "      <th>rev_tick(all)</th>\n",
       "      <td>0.544050</td>\n",
       "    </tr>\n",
       "    <tr>\n",
       "      <th>rev_tick(all)-&gt;rev_tick(ex)</th>\n",
       "      <td>0.543967</td>\n",
       "    </tr>\n",
       "    <tr>\n",
       "      <th>emo(ex)-&gt;emo(best)</th>\n",
       "      <td>0.537296</td>\n",
       "    </tr>\n",
       "    <tr>\n",
       "      <th>emo(ex)</th>\n",
       "      <td>0.537163</td>\n",
       "    </tr>\n",
       "    <tr>\n",
       "      <th>rev_emo(ex)-&gt;rev_emo(best)</th>\n",
       "      <td>0.537000</td>\n",
       "    </tr>\n",
       "    <tr>\n",
       "      <th>rev_emo(ex)</th>\n",
       "      <td>0.536375</td>\n",
       "    </tr>\n",
       "    <tr>\n",
       "      <th>tick(ex)-&gt;tick(all)</th>\n",
       "      <td>0.509756</td>\n",
       "    </tr>\n",
       "    <tr>\n",
       "      <th>rev_tick(ex)-&gt;rev_tick(all)</th>\n",
       "      <td>0.509436</td>\n",
       "    </tr>\n",
       "    <tr>\n",
       "      <th>tick(ex)</th>\n",
       "      <td>0.505518</td>\n",
       "    </tr>\n",
       "    <tr>\n",
       "      <th>rev_tick(ex)</th>\n",
       "      <td>0.503026</td>\n",
       "    </tr>\n",
       "  </tbody>\n",
       "</table>\n",
       "</div>"
      ],
      "text/plain": [
       "                                                           1\n",
       "0                                                           \n",
       "trade_size(ex)->quote(best)->quote(ex)->depth(b...  0.688359\n",
       "trade_size(ex)->quote(best)->quote(ex)              0.683255\n",
       "trade_size(ex)->rev_lr(best)                        0.681468\n",
       "quote(best)->quote(ex)                              0.586736\n",
       "rev_lr(best)->rev_lr(ex)                            0.586463\n",
       "rev_lr(best)                                        0.586426\n",
       "lr(best)->lr(ex)                                    0.585902\n",
       "lr(best)                                            0.585895\n",
       "quote(best)                                         0.585451\n",
       "quote(ex)->quote(best)                              0.578577\n",
       "rev_lr(ex)->rev_lr(best)                            0.576739\n",
       "rev_lr(ex)                                          0.576446\n",
       "lr(ex)->lr(best)                                    0.575586\n",
       "lr(ex)                                              0.575541\n",
       "quote(ex)                                           0.575112\n",
       "rev_clnv(best)->rev_clnv(ex)                        0.565991\n",
       "rev_clnv(best)                                      0.565935\n",
       "clnv(best)->clnv(ex)                                0.563454\n",
       "clnv(best)                                          0.563415\n",
       "rev_clnv(ex)->rev_clnv(best)                        0.554454\n",
       "rev_clnv(ex)                                        0.553904\n",
       "clnv(ex)->clnv(best)                                0.552497\n",
       "clnv(ex)                                            0.552333\n",
       "rev_emo(best)->rev_emo(ex)                          0.548279\n",
       "rev_emo(best)                                       0.548209\n",
       "emo(best)->emo(ex)                                  0.548162\n",
       "emo(best)                                           0.548136\n",
       "tick(all)                                           0.545442\n",
       "tick(all)->tick(ex)                                 0.545350\n",
       "rev_tick(all)                                       0.544050\n",
       "rev_tick(all)->rev_tick(ex)                         0.543967\n",
       "emo(ex)->emo(best)                                  0.537296\n",
       "emo(ex)                                             0.537163\n",
       "rev_emo(ex)->rev_emo(best)                          0.537000\n",
       "rev_emo(ex)                                         0.536375\n",
       "tick(ex)->tick(all)                                 0.509756\n",
       "rev_tick(ex)->rev_tick(all)                         0.509436\n",
       "tick(ex)                                            0.505518\n",
       "rev_tick(ex)                                        0.503026"
      ]
     },
     "execution_count": 32,
     "metadata": {},
     "output_type": "execute_result"
    }
   ],
   "source": [
    "scores_df"
   ]
  },
  {
   "cell_type": "code",
   "execution_count": 20,
   "metadata": {
    "tags": []
   },
   "outputs": [],
   "source": [
    "scores_df.style.to_latex(\n",
    "    f\"../reports/content/hyperparam-classical-{key}.tex\",\n",
    "    siunitx=True,\n",
    "    position_float=\"centering\",\n",
    "    hrules=True,\n",
    "    clines=\"skip-last;data\",\n",
    "    label=f\"tab:hyperparam-classical-{key}\",\n",
    "    caption=(f\"long-hyperparam-classical-{key}\", f\"short-hyperparam-classical-{key}\"),\n",
    "    convert_css=True,\n",
    ")"
   ]
  }
 ],
 "metadata": {
  "kernelspec": {
   "display_name": "myenv",
   "language": "python",
   "name": "myenv"
  },
  "language_info": {
   "codemirror_mode": {
    "name": "ipython",
    "version": 3
   },
   "file_extension": ".py",
   "mimetype": "text/x-python",
   "name": "python",
   "nbconvert_exporter": "python",
   "pygments_lexer": "ipython3",
   "version": "3.8.6"
  }
 },
 "nbformat": 4,
 "nbformat_minor": 4
}
