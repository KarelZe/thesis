{
 "cells": [
  {
   "cell_type": "code",
   "execution_count": null,
   "metadata": {},
   "outputs": [],
   "source": [
    "import json\n",
    "import os\n",
    "import pickle\n",
    "from pathlib import Path\n",
    "\n",
    "import gcsfs\n",
    "import numpy as np\n",
    "import pandas as pd\n",
    "import wandb\n",
    "\n",
    "from tqdm.notebook import tqdm\n",
    "\n",
    "sys.path.append(\"..\")\n",
    "from otc.models.classical_classifier import ClassicalClassifier"
   ]
  },
  {
   "cell_type": "code",
   "execution_count": null,
   "metadata": {},
   "outputs": [],
   "source": [
    "seed = 42"
   ]
  },
  {
   "cell_type": "code",
   "execution_count": null,
   "metadata": {},
   "outputs": [],
   "source": [
    "run = wandb.init(project=\"thesis\", entity=\"fbv\")\n",
    "\n",
    "# load unscaled data\n",
    "dataset = \"fbv/thesis/train_val_test_ultra:v0\"\n",
    "artifact = run.use_artifact(dataset)\n",
    "data_dir = artifact.download()\n",
    "\n",
    "# create artefact for results\n",
    "dataset = wandb.Artifact(name=\"results_classical_cf\", type=\"results\")"
   ]
  },
  {
   "cell_type": "code",
   "execution_count": null,
   "metadata": {},
   "outputs": [],
   "source": [
    "# https://github.com/KarelZe/thesis/blob/main/notebooks/\n",
    "# 3.0a-mb-explanatory_data_analysis.ipynb\n",
    "features_categorical = [\n",
    "    (\"bin_root\", 8667),\n",
    "    (\"bin_option_type\", 2),\n",
    "    (\"bin_issue_type\", 6),\n",
    "]\n",
    "\n",
    "features_classical = [\n",
    "    \"TRADE_PRICE\",\n",
    "    \"bid_ex\",\n",
    "    \"ask_ex\",\n",
    "    \"BEST_ASK\",\n",
    "    \"BEST_BID\",\n",
    "    \"price_ex_lag\",\n",
    "    \"price_ex_lead\",\n",
    "    \"price_all_lag\",\n",
    "    \"price_all_lead\",\n",
    "    \"chg_ex_lead\",\n",
    "    \"chg_ex_lag\",\n",
    "    \"chg_all_lead\",\n",
    "    \"chg_all_lag\",\n",
    "    \"prox_ex\",\n",
    "    \"prox_best\",\n",
    "]\n",
    "\n",
    "features_size = [\n",
    "    \"bid_ask_size_ratio_ex\",\n",
    "    \"rel_bid_size_ex\",\n",
    "    \"rel_ask_size_ex\",\n",
    "    \"TRADE_SIZE\",\n",
    "    \"bid_size_ex\",\n",
    "    \"ask_size_ex\",\n",
    "    \"depth_ex\",\n",
    "]\n",
    "\n",
    "\n",
    "features_classical_size = [\n",
    "    *features_classical,\n",
    "    *features_size,\n",
    "    \"buy_sell\",\n",
    "]"
   ]
  },
  {
   "cell_type": "code",
   "execution_count": null,
   "metadata": {},
   "outputs": [],
   "source": [
    "X_test = pd.read_parquet(Path(data_dir, \"test_set_20.parquet\"),engine=\"fastparquet\", columns=features_classical_size)\n",
    "y_test= X_test[\"buy_sell\"]\n",
    "X_test = X_test[features_classical_size]"
   ]
  },
  {
   "cell_type": "code",
   "execution_count": null,
   "metadata": {},
   "outputs": [],
   "source": [
    "X_test.head()"
   ]
  },
  {
   "cell_type": "code",
   "execution_count": 20,
   "metadata": {},
   "outputs": [],
   "source": [
    "# rules\n",
    "rules = [\n",
    "    [(\"tick\", \"all\")],\n",
    "    [(\"tick\", \"ex\")],\n",
    "    [(\"quote\", \"best\")],\n",
    "    [(\"quote\", \"ex\")],\n",
    "    [(\"lr\", \"ex\")],\n",
    "    [(\"lr\", \"best\")],\n",
    "    [(\"rev_lr\", \"ex\")],\n",
    "    [(\"rev_lr\", \"best\")],\n",
    "    [(\"emo\", \"ex\")],\n",
    "    [(\"emo\", \"best\")],\n",
    "    [(\"rev_emo\", \"ex\")],\n",
    "    [(\"rev_emo\", \"best\")],\n",
    "    [(\"clnv\", \"ex\")],\n",
    "    [(\"clnv\", \"best\")],\n",
    "    [(\"rev_clnv\", \"ex\")],\n",
    "    [(\"rev_clnv\", \"best\")],\n",
    "    [(\"trade_size\", \"ex\"), (\"tick\", \"all\")], # classical + trade size\n",
    "    [(\"trade_size\", \"ex\"), (\"quote\", \"best\")], # classical + trade size\n",
    "    [(\"trade_size\", \"ex\"), (\"quote\", \"best\"), (\"quote\", \"ex\")], # classical + trade size\n",
    "    [(\"quote\", \"best\"), (\"quote\", \"ex\")], # murjajev\n",
    "    [(\"trade_size\", \"ex\"), (\"depth\", \"ex\"), (\"quote\", \"best\"), (\"rev_lr\", \"ex\")], # p. 13 grauer\n",
    "]\n",
    "\n",
    "# generate names for array\n",
    "names = []\n",
    "for r in rules:\n",
    "    name = \"->\".join(\"%s_%s\" % tup for tup in r)\n",
    "    names.append(name)\n"
   ]
  },
  {
   "cell_type": "code",
   "execution_count": 21,
   "metadata": {},
   "outputs": [
    {
     "data": {
      "text/plain": [
       "['tick_all',\n",
       " 'tick_ex',\n",
       " 'quote_best',\n",
       " 'quote_ex',\n",
       " 'lr_ex',\n",
       " 'lr_best',\n",
       " 'rev_lr_ex',\n",
       " 'rev_lr_best',\n",
       " 'emo_ex',\n",
       " 'emo_best',\n",
       " 'rev_emo_ex',\n",
       " 'rev_emo_best',\n",
       " 'clnv_ex',\n",
       " 'clnv_best',\n",
       " 'rev_clnv_ex',\n",
       " 'rev_clnv_best',\n",
       " 'trade_size_ex->tick_all',\n",
       " 'trade_size_ex->quote_best',\n",
       " 'trade_size_ex->quote_best->quote_best',\n",
       " 'quote_best->quote_ex',\n",
       " 'trade_size_ex->depth_ex->quote_best->rev_lr_ex']"
      ]
     },
     "execution_count": 21,
     "metadata": {},
     "output_type": "execute_result"
    }
   ],
   "source": [
    "names"
   ]
  },
  {
   "cell_type": "code",
   "execution_count": 22,
   "metadata": {},
   "outputs": [
    {
     "data": {
      "text/plain": [
       "[[('tick', 'all')],\n",
       " [('tick', 'ex')],\n",
       " [('quote', 'best')],\n",
       " [('quote', 'ex')],\n",
       " [('lr', 'ex')],\n",
       " [('lr', 'best')],\n",
       " [('rev_lr', 'ex')],\n",
       " [('rev_lr', 'best')],\n",
       " [('emo', 'ex')],\n",
       " [('emo', 'best')],\n",
       " [('rev_emo', 'ex')],\n",
       " [('rev_emo', 'best')],\n",
       " [('clnv', 'ex')],\n",
       " [('clnv', 'best')],\n",
       " [('rev_clnv', 'ex')],\n",
       " [('rev_clnv', 'best')],\n",
       " [('trade_size', 'ex'), ('tick', 'all')],\n",
       " [('trade_size', 'ex'), ('quote', 'best')],\n",
       " [('trade_size', 'ex'), ('quote', 'best'), ('quote', 'best')],\n",
       " [('quote', 'best'), ('quote', 'ex')],\n",
       " [('trade_size', 'ex'), ('depth', 'ex'), ('quote', 'best'), ('rev_lr', 'ex')]]"
      ]
     },
     "execution_count": 22,
     "metadata": {},
     "output_type": "execute_result"
    }
   ],
   "source": [
    "rules"
   ]
  },
  {
   "cell_type": "code",
   "execution_count": null,
   "metadata": {},
   "outputs": [],
   "source": [
    "results = []\n",
    "\n",
    "for rule in tqdm(rules):\n",
    "    clf = ClassicalClassifier(\n",
    "    layers=rule,\n",
    "        random_state=seed,\n",
    "    )\n",
    "    # fit is only used to set sklearn attributes, no leakage\n",
    "    clf.fit(X=X_test.loc[0:1, :], y=X_test[\"buy_sell\"].loc[0:1])\n",
    "    result = clf.predict(X_test)\n",
    "    results.append(result)\n"
   ]
  },
  {
   "cell_type": "code",
   "execution_count": null,
   "metadata": {},
   "outputs": [],
   "source": [
    "results_classical_clf = pd.DataFrame(dict(zip(names, results)), index=X_test.index)\n",
    "\n",
    "output_path = f\"gs://thesis-bucket-option-trade-classification/data/results/classical_clf_ise.parquet\"\n",
    "results_classical_clf.to_parquet(output_path)"
   ]
  },
  {
   "cell_type": "code",
   "execution_count": null,
   "metadata": {},
   "outputs": [],
   "source": [
    "# Log the artifact to save it as an output of this run\n",
    "dataset.add_reference(output_path, name=\"results_classical_clf_ise\")\n",
    "run.log_artifact(dataset)\n",
    "\n",
    "wandb.finish()"
   ]
  }
 ],
 "metadata": {
  "kernelspec": {
   "display_name": "Python 3",
   "language": "python",
   "name": "python3"
  },
  "language_info": {
   "codemirror_mode": {
    "name": "ipython",
    "version": 3
   },
   "file_extension": ".py",
   "mimetype": "text/x-python",
   "name": "python",
   "nbconvert_exporter": "python",
   "pygments_lexer": "ipython3",
   "version": "3.9.4"
  },
  "orig_nbformat": 4
 },
 "nbformat": 4,
 "nbformat_minor": 2
}
