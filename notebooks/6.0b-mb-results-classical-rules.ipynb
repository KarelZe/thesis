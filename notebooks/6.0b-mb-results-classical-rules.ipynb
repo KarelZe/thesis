{
 "cells": [
  {
   "cell_type": "code",
   "execution_count": null,
   "metadata": {},
   "outputs": [],
   "source": [
    "import os\n",
    "import sys\n",
    "from pathlib import Path\n",
    "\n",
    "import pandas as pd\n",
    "import wandb\n",
    "from tqdm.auto import tqdm\n",
    "\n",
    "sys.path.append(\"..\")\n",
    "from otc.features.build_features import features_classical_size\n",
    "from otc.models.classical_classifier import ClassicalClassifier\n"
   ]
  },
  {
   "cell_type": "code",
   "execution_count": null,
   "metadata": {},
   "outputs": [],
   "source": [
    "# set here globally\n",
    "seed = 42\n",
    "\n",
    "exchange = \"cboe\" # \"ise\"\n",
    "models = \"classical\"\n",
    "subset = \"all\" # \"test\"\n",
    "strategy = \"supervised\" # \"transfer\"\n"
   ]
  },
  {
   "cell_type": "code",
   "execution_count": null,
   "metadata": {},
   "outputs": [],
   "source": [
    "# key used for files and artefacts\n",
    "key = f\"{exchange}_{models}_{strategy}_{subset}\"\n",
    "\n",
    "dataset = f\"fbv/thesis/{exchange}_{strategy}_none:latest\"\n"
   ]
  },
  {
   "cell_type": "code",
   "execution_count": null,
   "metadata": {},
   "outputs": [],
   "source": [
    "os.environ[\"GCLOUD_PROJECT\"] = \"flowing-mantis-239216\"\n",
    "run = wandb.init(project=\"thesis\", entity=\"fbv\")\n",
    "\n",
    "# load unscaled data\n",
    "artifact = run.use_artifact(dataset)\n",
    "data_dir = artifact.download()\n"
   ]
  },
  {
   "cell_type": "code",
   "execution_count": null,
   "metadata": {},
   "outputs": [],
   "source": [
    "columns = [\n",
    "    *features_classical_size,\n",
    "    \"buy_sell\",\n",
    "]\n"
   ]
  },
  {
   "cell_type": "code",
   "execution_count": null,
   "metadata": {},
   "outputs": [],
   "source": [
    "if subset == \"all\":\n",
    "    train = pd.read_parquet(\n",
    "        Path(data_dir, \"train_set.parquet\"), engine=\"fastparquet\", columns=columns\n",
    "    )\n",
    "    val = pd.read_parquet(\n",
    "        Path(data_dir, \"val_set.parquet\"), engine=\"fastparquet\", columns=columns\n",
    "    )\n",
    "    test = pd.read_parquet(\n",
    "        Path(data_dir, \"test_set.parquet\"), engine=\"fastparquet\", columns=columns\n",
    "    )\n",
    "    data = pd.concat([train, val, test])\n",
    "    del train, val, test\n",
    "\n",
    "elif subset == \"test\":\n",
    "    data = pd.read_parquet(\n",
    "        Path(data_dir, \"test_set.parquet\"), engine=\"fastparquet\", columns=columns\n",
    "    )\n",
    "\n",
    "y_test = data[\"buy_sell\"].astype(\"int8\")\n",
    "X_test = data.drop(columns=\"buy_sell\")\n",
    "\n",
    "del data\n"
   ]
  },
  {
   "cell_type": "code",
   "execution_count": null,
   "metadata": {},
   "outputs": [],
   "source": [
    "# rules\n",
    "rules = [\n",
    "    [(\"tick\", \"all\")],\n",
    "    [(\"tick\", \"ex\")],\n",
    "    [(\"quote\", \"best\")],\n",
    "    [(\"quote\", \"ex\")],\n",
    "    [(\"lr\", \"ex\")],\n",
    "    [(\"lr\", \"best\")],\n",
    "    [(\"rev_lr\", \"ex\")],\n",
    "    [(\"rev_lr\", \"best\")],\n",
    "    [(\"emo\", \"ex\")],\n",
    "    [(\"emo\", \"best\")],\n",
    "    [(\"rev_emo\", \"ex\")],\n",
    "    [(\"rev_emo\", \"best\")],\n",
    "    [(\"clnv\", \"ex\")],\n",
    "    [(\"clnv\", \"best\")],\n",
    "    [(\"rev_clnv\", \"ex\")],\n",
    "    [(\"rev_clnv\", \"best\")],\n",
    "    [(\"trade_size\", \"ex\"), (\"tick\", \"all\")],\n",
    "    [(\"trade_size\", \"ex\"), (\"quote\", \"best\")],\n",
    "    [\n",
    "        (\"trade_size\", \"ex\"),\n",
    "        (\"quote\", \"best\"),\n",
    "        (\"quote\", \"ex\"),\n",
    "    ],  # classical + trade size\n",
    "    [(\"quote\", \"best\"), (\"quote\", \"ex\")],  # murjajev\n",
    "    [\n",
    "        (\"trade_size\", \"ex\"),\n",
    "        (\"quote\", \"best\"),\n",
    "        (\"quote\", \"ex\"),\n",
    "        (\"depth\", \"best\"),\n",
    "        (\"depth\", \"ex\"),\n",
    "        (\"rev_tick\", \"all\"),\n",
    "    ],  # p. 13 grauer\n",
    "]\n",
    "\n",
    "# generate names for array\n",
    "names = []\n",
    "for r in tqdm(rules):\n",
    "    name = \"->\".join(\"%s(%s)\" % tup for tup in r)\n",
    "    names.append(name)\n"
   ]
  },
  {
   "cell_type": "code",
   "execution_count": null,
   "metadata": {},
   "outputs": [],
   "source": [
    "names\n"
   ]
  },
  {
   "cell_type": "code",
   "execution_count": null,
   "metadata": {},
   "outputs": [],
   "source": [
    "rules\n"
   ]
  },
  {
   "cell_type": "code",
   "execution_count": null,
   "metadata": {},
   "outputs": [],
   "source": [
    "results = []\n",
    "\n",
    "for rule in tqdm(rules):\n",
    "    clf = ClassicalClassifier(layers=rule, random_state=seed, strategy=\"const\")\n",
    "    # fit is only used to set sklearn attributes, no leakage\n",
    "    clf.fit(X=X_test.head(5), y=y_test.head(5))\n",
    "    result = clf.predict(X_test)\n",
    "    results.append(result)\n"
   ]
  },
  {
   "cell_type": "code",
   "execution_count": null,
   "metadata": {},
   "outputs": [],
   "source": [
    "results = pd.DataFrame(dict(zip(names, results)), index=X_test.index)\n"
   ]
  },
  {
   "cell_type": "code",
   "execution_count": null,
   "metadata": {},
   "outputs": [],
   "source": [
    "output_path = (\n",
    "    f\"gs://thesis-bucket-option-trade-classification/data/results/{key}.parquet\"\n",
    ")\n",
    "results.to_parquet(output_path)\n"
   ]
  },
  {
   "cell_type": "code",
   "execution_count": null,
   "metadata": {
    "tags": []
   },
   "outputs": [],
   "source": [
    "# Log the artifact to save it as an output of this run\n",
    "result_set = wandb.Artifact(name=key, type=\"results\")\n",
    "result_set.add_reference(output_path, name=\"results\")\n",
    "run.log_artifact(result_set)\n",
    "\n",
    "wandb.finish()\n"
   ]
  }
 ],
 "metadata": {
  "kernelspec": {
   "display_name": "myenv",
   "language": "python",
   "name": "myenv"
  },
  "language_info": {
   "codemirror_mode": {
    "name": "ipython",
    "version": 3
   },
   "file_extension": ".py",
   "mimetype": "text/x-python",
   "name": "python",
   "nbconvert_exporter": "python",
   "pygments_lexer": "ipython3",
   "version": "3.8.6"
  }
 },
 "nbformat": 4,
 "nbformat_minor": 4
}
