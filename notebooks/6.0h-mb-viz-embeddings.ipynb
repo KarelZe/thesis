{
 "cells": [
  {
   "cell_type": "code",
   "execution_count": null,
   "metadata": {},
   "outputs": [],
   "source": [
    "import pickle\n",
    "\n",
    "import torch\n",
    "\n",
    "\n"
   ]
  },
  {
   "cell_type": "code",
   "execution_count": null,
   "metadata": {},
   "outputs": [],
   "source": [
    "with open(\"scalers.sklearn\", 'rb') as f:\n",
    "    scalers = pickle.load(f)"
   ]
  },
  {
   "cell_type": "code",
   "execution_count": null,
   "metadata": {},
   "outputs": [],
   "source": [
    "embeddings = torch.load(\"embeddings.ptx\", map_location=torch.device('cpu'))"
   ]
  },
  {
   "cell_type": "code",
   "execution_count": null,
   "metadata": {},
   "outputs": [],
   "source": [
    "embeddings"
   ]
  },
  {
   "cell_type": "code",
   "execution_count": null,
   "metadata": {},
   "outputs": [],
   "source": [
    "def pairwise_similarity(matrix_of_vectors):\n",
    "    '''\n",
    "    Computes cosine similarities for between all vectors, extremely useful for comparing\n",
    "    similarities between embeddings when doing deep embedding learning.\n",
    "\n",
    "    input:\n",
    "        matrix_of_vectors: tensor with shape (n_vectors, vector_size)\n",
    "\n",
    "    output:\n",
    "        similarities : tensor with shape (n_vector, n_vectors)\n",
    "    Each row[i, j] is the similarity of the ith element against the jth vector, eg,\n",
    "    row[0,0] is 1 and row[0,42] is the similarity between the first\n",
    "    element in the input and the 43th element in the input.\n",
    "    '''\n",
    "\n",
    "    dot_product = matrix_of_vectors@matrix_of_vectors.t()\n",
    "    norms = torch.sqrt(torch.einsum('ii->i', dot_product))\n",
    "    similarities = dot_product/(norms[None]*norms[..., None])\n",
    "\n",
    "    return similarities"
   ]
  },
  {
   "cell_type": "code",
   "execution_count": null,
   "metadata": {},
   "outputs": [],
   "source": [
    "similarities = pairwise_similarity(embeddings.weight)#  - torch.eye(embeddings.weight.shape[0]) "
   ]
  },
  {
   "cell_type": "code",
   "execution_count": null,
   "metadata": {},
   "outputs": [],
   "source": [
    "similarities"
   ]
  },
  {
   "cell_type": "code",
   "execution_count": null,
   "metadata": {},
   "outputs": [],
   "source": [
    "import json\n",
    "import pandas as pd\n",
    "\n",
    "with open('MSFT-state.txt') as f:\n",
    "    d = json.load(f)#[0]['projections']"
   ]
  },
  {
   "cell_type": "code",
   "execution_count": null,
   "metadata": {},
   "outputs": [],
   "source": [
    "tsne_projections = pd.DataFrame(d[0]['projections'])\n",
    "label = pd.read_csv('metadata.tsv', sep='\\t')"
   ]
  },
  {
   "cell_type": "code",
   "execution_count": null,
   "metadata": {},
   "outputs": [],
   "source": [
    "label.tail()"
   ]
  },
  {
   "cell_type": "code",
   "execution_count": null,
   "metadata": {},
   "outputs": [],
   "source": [
    "idx = label.index[label[\"label\"] == \"MSFT\"].tolist()[0]\n",
    "print(idx)"
   ]
  },
  {
   "cell_type": "code",
   "execution_count": null,
   "metadata": {},
   "outputs": [],
   "source": [
    "idx_similiarities = similarities[idx].abs().tolist()"
   ]
  },
  {
   "cell_type": "code",
   "execution_count": null,
   "metadata": {},
   "outputs": [],
   "source": [
    "idx_similiarities"
   ]
  },
  {
   "cell_type": "code",
   "execution_count": null,
   "metadata": {},
   "outputs": [],
   "source": [
    "import matplotlib.pyplot as plt\n",
    "import matplotlib as mpl\n",
    "from matplotlib import rc\n",
    "import torch\n",
    "import pandas as pd\n",
    "import matplotlib.dates as mdates\n",
    "import matplotlib.ticker as ticker\n",
    "from matplotlib.ticker import FormatStrFormatter, StrMethodFormatter, PercentFormatter\n",
    "import numpy as np"
   ]
  },
  {
   "cell_type": "code",
   "execution_count": null,
   "metadata": {},
   "outputs": [],
   "source": [
    "params = {\n",
    "    \"pgf.texsystem\": \"xelatex\",\n",
    "    \"pgf.rcfonts\": False,\n",
    "    \"font.serif\": [],\n",
    "    \"font.family\": \"serif\",\n",
    "    \"font.sans-serif\": [],\n",
    "    \"axes.labelsize\": 11,\n",
    "}\n",
    "\n",
    "plt.rcParams.update(params)\n",
    "rc(\"text\", usetex=True)\n",
    "\n",
    "plt.rc('text.latex', preamble=r'\\usepackage{amsmath}\\usepackage[utf8]{inputenc}')\n",
    "\n",
    "CM = 1 / 2.54\n",
    "# cmap = plt.cm.get_cmap(\"viridis\")\n",
    "# cmap = mpl.colormaps.get_cmap(\"plasma\")\n",
    "# plt.style.use(['science','nature'])\n",
    "\n",
    "# Bright color scheme\n",
    "# color-blind safe\n",
    "# from Paul Tot's website: https://personal.sron.nl/~pault/\n",
    "# Set color cycle\n",
    "# mpl.rcParams['axes.prop_cycle'] = mpl.cycler('color', ['4477AA', 'EE6677', '228833', 'CCBB44', '66CCEE', 'AA3377', 'BBBBBB'])\n",
    "\n",
    "\n"
   ]
  },
  {
   "cell_type": "code",
   "execution_count": null,
   "metadata": {},
   "outputs": [],
   "source": [
    "idx_distance = np.array([1- i for i in idx_similiarities])"
   ]
  },
  {
   "cell_type": "code",
   "execution_count": null,
   "metadata": {},
   "outputs": [],
   "source": [
    "idx_distance "
   ]
  },
  {
   "cell_type": "code",
   "execution_count": null,
   "metadata": {},
   "outputs": [],
   "source": [
    "idx_similiarities"
   ]
  },
  {
   "cell_type": "code",
   "execution_count": null,
   "metadata": {},
   "outputs": [],
   "source": [
    "zorder = [int(o * 1000) for o in idx_similiarities]"
   ]
  },
  {
   "cell_type": "code",
   "execution_count": null,
   "metadata": {},
   "outputs": [],
   "source": [
    "idx_labels = np.array(idx_similiarities) > 0.41"
   ]
  },
  {
   "cell_type": "code",
   "execution_count": null,
   "metadata": {},
   "outputs": [],
   "source": [
    "tsne_projections.head()"
   ]
  },
  {
   "cell_type": "code",
   "execution_count": null,
   "metadata": {},
   "outputs": [],
   "source": [
    "fig, ax = plt.subplots(figsize=(12 * CM, 8 * CM))\n",
    "\n",
    "ax.scatter(tsne_projections['tsne-0'][~idx_labels], tsne_projections['tsne-1'][~idx_labels], c=\"whitesmoke\", s=5) \n",
    "\n",
    "sc = ax.scatter(tsne_projections['tsne-0'][idx_labels], tsne_projections['tsne-1'][idx_labels], cmap='Blues_r', c=idx_distance[idx_labels], s=10, zorder=1000, marker=\"o\", edgecolors=\"grey\", linewidth=0.5)\n",
    "\n",
    "ax.set_xlabel('$t$-SNE Axis 1')\n",
    "ax.set_ylabel('$t$-SNE Axis 0')\n",
    "\n",
    "\n",
    "for i, cond in enumerate(idx_labels):\n",
    "    if cond:\n",
    "        l = label['label'].iloc[i]\n",
    "        factor = 1.3 if l == 'MSFT' else 1\n",
    "\n",
    "        ax.annotate(r\"\\texttt{\"+l+r\"}\", (tsne_projections['tsne-0'].iloc[i]-1e-7, tsne_projections['tsne-1'].iloc[i]+1e-7), fontsize= 6 * factor, ha=\"right\", zorder=2000)#\"xx-small\")\n",
    "\n",
    "fig.colorbar(sc)\n",
    "\n",
    "fig.tight_layout()\n",
    "\n",
    "plt.savefig('../reports/Graphs/tsne-MSFT.pdf', bbox_inches='tight')"
   ]
  },
  {
   "cell_type": "code",
   "execution_count": null,
   "metadata": {},
   "outputs": [],
   "source": []
  }
 ],
 "metadata": {
  "kernelspec": {
   "display_name": "Python 3",
   "language": "python",
   "name": "python3"
  },
  "language_info": {
   "codemirror_mode": {
    "name": "ipython",
    "version": 3
   },
   "file_extension": ".py",
   "mimetype": "text/x-python",
   "name": "python",
   "nbconvert_exporter": "python",
   "pygments_lexer": "ipython3",
   "version": "3.9.4"
  }
 },
 "nbformat": 4,
 "nbformat_minor": 2
}
