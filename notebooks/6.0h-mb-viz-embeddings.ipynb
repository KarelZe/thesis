{
 "cells": [
  {
   "cell_type": "code",
   "execution_count": null,
   "metadata": {},
   "outputs": [],
   "source": [
    "\n",
    "import json\n",
    "\n",
    "from adjustText import adjust_text\n",
    "\n",
    "import numpy as np\n",
    "import pandas as pd\n",
    "import matplotlib.pyplot as plt\n",
    "from matplotlib import rc\n",
    "import torch\n"
   ]
  },
  {
   "cell_type": "code",
   "execution_count": null,
   "metadata": {},
   "outputs": [],
   "source": [
    "params = {\n",
    "    \"pgf.texsystem\": \"xelatex\",\n",
    "    \"pgf.rcfonts\": False,\n",
    "    \"font.serif\": [],\n",
    "    \"font.family\": \"serif\",\n",
    "    \"font.sans-serif\": [],\n",
    "    \"axes.labelsize\": 11,\n",
    "}\n",
    "\n",
    "plt.rcParams.update(params)\n",
    "rc(\"text\", usetex=True)\n",
    "\n",
    "plt.rc('text.latex', preamble=r'\\usepackage{amsmath}\\usepackage[utf8]{inputenc}')\n",
    "\n",
    "CM = 1 / 2.54"
   ]
  },
  {
   "cell_type": "code",
   "execution_count": null,
   "metadata": {},
   "outputs": [],
   "source": [
    "# embeddings_np = np.loadtxt(\"../models/embeddings_ml.npy\") # probably lower precision\n",
    "# embeddings = torch.from_numpy(embeddings_np)\n",
    "embeddings = torch.load(\"../models/embeddings_ml.ptx\")"
   ]
  },
  {
   "cell_type": "code",
   "execution_count": null,
   "metadata": {},
   "outputs": [],
   "source": [
    "def pairwise_similarity(matrix_of_vectors):\n",
    "    '''\n",
    "    Computes cosine similarities for between all vectors, extremely useful for comparing\n",
    "    similarities between embeddings when doing deep embedding learning.\n",
    "\n",
    "    Adapted from: https://github.com/dalisson/pairwise_cosine_distance_pytorch/blob/master/pairwise_cosine_similarity.py\n",
    "\n",
    "    input:\n",
    "        matrix_of_vectors: tensor with shape (n_vectors, vector_size)\n",
    "\n",
    "    output:\n",
    "        similarities : tensor with shape (n_vector, n_vectors)\n",
    "    Each row[i, j] is the similarity of the ith element against the jth vector, eg,\n",
    "    row[0,0] is 1 and row[0,42] is the similarity between the first\n",
    "    element in the input and the 43th element in the input.\n",
    "    '''\n",
    "\n",
    "    dot_product = matrix_of_vectors@matrix_of_vectors.t()\n",
    "    norms = torch.sqrt(torch.einsum('ii->i', dot_product))\n",
    "    similarities = dot_product/(norms[None]*norms[..., None])\n",
    "\n",
    "    return similarities"
   ]
  },
  {
   "cell_type": "code",
   "execution_count": null,
   "metadata": {},
   "outputs": [],
   "source": [
    "key = 'JPM'\n",
    "\n",
    "# generated using https://projector.tensorflow.org/\n",
    "with open(f'../models/state_{key}.txt') as f:\n",
    "    d = json.load(f)"
   ]
  },
  {
   "cell_type": "code",
   "execution_count": null,
   "metadata": {},
   "outputs": [],
   "source": [
    "tsne_projections = pd.DataFrame(d[0]['projections'])\n",
    "label = pd.read_csv('../models/metadata.tsv', sep='\\t', header=None)"
   ]
  },
  {
   "cell_type": "code",
   "execution_count": null,
   "metadata": {},
   "outputs": [],
   "source": [
    "idx = label.index[label[0] == key].tolist()[0]\n",
    "print(idx)"
   ]
  },
  {
   "cell_type": "code",
   "execution_count": null,
   "metadata": {},
   "outputs": [],
   "source": [
    "similarities = pairwise_similarity(embeddings) \n",
    "idx_similiarities = similarities[idx].tolist()"
   ]
  },
  {
   "cell_type": "code",
   "execution_count": null,
   "metadata": {},
   "outputs": [],
   "source": [
    "idx_distance = np.array([1- i for i in idx_similiarities])"
   ]
  },
  {
   "cell_type": "code",
   "execution_count": null,
   "metadata": {},
   "outputs": [],
   "source": [
    "zorder = [int(o * 1000) for o in idx_similiarities]"
   ]
  },
  {
   "cell_type": "code",
   "execution_count": null,
   "metadata": {},
   "outputs": [],
   "source": [
    "results = pd.Series(idx_distance, index=label[0].tolist())"
   ]
  },
  {
   "cell_type": "code",
   "execution_count": null,
   "metadata": {},
   "outputs": [],
   "source": [
    "results.sort_values(ascending=True).head(11)"
   ]
  },
  {
   "cell_type": "code",
   "execution_count": null,
   "metadata": {},
   "outputs": [],
   "source": [
    "# filter for most similar underlyings\n",
    "# top n labels\n",
    "idx_labels = np.argpartition(idx_similiarities, -11)[-11:]\n",
    "mask = np.zeros(len(idx_similiarities), dtype=bool)\n",
    "mask[idx_labels] = True"
   ]
  },
  {
   "cell_type": "code",
   "execution_count": null,
   "metadata": {},
   "outputs": [],
   "source": [
    "label[mask]"
   ]
  },
  {
   "cell_type": "code",
   "execution_count": null,
   "metadata": {},
   "outputs": [],
   "source": [
    "fig, ax = plt.subplots(figsize=(12 * CM, 8 * CM))\n",
    "\n",
    "ax.scatter(tsne_projections['tsne-0'][~mask], tsne_projections['tsne-1'][~mask], c=\"whitesmoke\", s=5) \n",
    "\n",
    "sc = ax.scatter(tsne_projections['tsne-0'][mask], tsne_projections['tsne-1'][mask], cmap='Blues_r', c=idx_distance[mask], s=10, zorder=1000, marker=\"o\", edgecolors=\"grey\", linewidth=0.5)\n",
    "\n",
    "ax.set_xlabel('$t$-SNE Axis 1')\n",
    "ax.set_ylabel('$t$-SNE Axis 2')\n",
    "\n",
    "texts = []\n",
    "\n",
    "for i, cond in enumerate(mask):\n",
    "\n",
    "    if cond:\n",
    "        l = label[0].iloc[i]\n",
    "        factor = 1.5 if l == key else 1\n",
    "\n",
    "        texts.append(ax.text(tsne_projections['tsne-0'].iloc[i], tsne_projections['tsne-1'].iloc[i], r\"\\texttt{\"+l+r\"}\",fontsize= 7 * factor, zorder=2000, ha=\"left\", va=\"top\"))\n",
    "\n",
    "adjust_text(texts, ax=ax, min_arrow_len=1, arrowprops=dict(arrowstyle=\"-\", color='k', lw=0.5))\n",
    "\n",
    "fig.colorbar(sc)\n",
    "\n",
    "fig.tight_layout()\n",
    "\n",
    "plt.savefig(f'../reports/Graphs/categorical_embeddings_{key}.pdf', bbox_inches='tight')"
   ]
  }
 ],
 "metadata": {
  "kernelspec": {
   "display_name": "Python 3 (ipykernel)",
   "language": "python",
   "name": "python3"
  },
  "language_info": {
   "codemirror_mode": {
    "name": "ipython",
    "version": 3
   },
   "file_extension": ".py",
   "mimetype": "text/x-python",
   "name": "python",
   "nbconvert_exporter": "python",
   "pygments_lexer": "ipython3",
   "version": "3.9.4"
  }
 },
 "nbformat": 4,
 "nbformat_minor": 4
}
