{
 "cells": [
  {
   "attachments": {},
   "cell_type": "markdown",
   "metadata": {},
   "source": [
    "This notebook visualizes embeddings of Transformer. Similar functionality to [this initiative.](https://projector.tensorflow.org/)"
   ]
  },
  {
   "cell_type": "code",
   "execution_count": null,
   "metadata": {},
   "outputs": [],
   "source": [
    "import json\n",
    "\n",
    "import matplotlib.pyplot as plt\n",
    "import numpy as np\n",
    "import pandas as pd\n",
    "import torch\n",
    "from adjustText import adjust_text\n",
    "from matplotlib import rc\n",
    "\n"
   ]
  },
  {
   "cell_type": "code",
   "execution_count": null,
   "metadata": {},
   "outputs": [],
   "source": [
    "params = {\n",
    "    \"pgf.texsystem\": \"xelatex\",\n",
    "    \"pgf.rcfonts\": False,\n",
    "    \"font.serif\": [],\n",
    "    \"font.family\": \"serif\",\n",
    "    \"font.sans-serif\": [],\n",
    "    \"axes.labelsize\": 11,\n",
    "}\n",
    "\n",
    "plt.rcParams.update(params)\n",
    "rc(\"text\", usetex=True)\n",
    "\n",
    "plt.rc(\"text.latex\", preamble=r\"\\usepackage{amsmath}\\usepackage[utf8]{inputenc}\")\n",
    "\n",
    "CM = 1 / 2.54\n"
   ]
  },
  {
   "cell_type": "code",
   "execution_count": null,
   "metadata": {},
   "outputs": [],
   "source": [
    "# embeddings_np = np.loadtxt(\"../models/embeddings_ml.npy\") # probably lower precision\n",
    "# embeddings = torch.from_numpy(embeddings_np)\n",
    "\n",
    "# load embeddings from FTTokenizer\n",
    "embeddings = torch.load(\"../models/embeddings_ml.ptx\")\n"
   ]
  },
  {
   "cell_type": "code",
   "execution_count": null,
   "metadata": {},
   "outputs": [],
   "source": [
    "def pairwise_similarity(matrix_of_vectors: torch.Tensor):\n",
    "    \"\"\"\n",
    "    Computes cosine similarities for between all vectors, extremely useful for comparing\n",
    "    similarities between embeddings when doing deep embedding learning.\n",
    "\n",
    "    Adapted from: https://github.com/dalisson/pairwise_cosine_distance_pytorch/blob/master/pairwise_cosine_similarity.py\n",
    "\n",
    "    input:\n",
    "        matrix_of_vectors: tensor with shape (n_vectors, vector_size)\n",
    "\n",
    "    output:\n",
    "        similarities : tensor with shape (n_vector, n_vectors)\n",
    "    Each row[i, j] is the similarity of the ith element against the jth vector, eg,\n",
    "    row[0,0] is 1 and row[0,42] is the similarity between the first\n",
    "    element in the input and the 43th element in the input.\n",
    "    \"\"\"\n",
    "\n",
    "    dot_product = matrix_of_vectors @ matrix_of_vectors.t()\n",
    "    norms = torch.sqrt(torch.einsum(\"ii->i\", dot_product))\n",
    "    similarities = dot_product / (norms[None] * norms[..., None])\n",
    "\n",
    "    return similarities\n"
   ]
  },
  {
   "cell_type": "code",
   "execution_count": null,
   "metadata": {},
   "outputs": [],
   "source": [
    "key = \"JPM\"\n",
    "\n",
    "# generated using https://projector.tensorflow.org/ using \"save as bookmark\" option.\n",
    "with open(f\"../models/state_{key}.txt\") as f:\n",
    "    d = json.load(f)\n"
   ]
  },
  {
   "cell_type": "code",
   "execution_count": null,
   "metadata": {},
   "outputs": [],
   "source": [
    "# labels generated from scalers\n",
    "tsne_projections = pd.DataFrame(d[0][\"projections\"])\n",
    "label = pd.read_csv(\"../models/metadata.tsv\", sep=\"\\t\", header=None)\n"
   ]
  },
  {
   "cell_type": "code",
   "execution_count": null,
   "metadata": {},
   "outputs": [],
   "source": [
    "idx = label.index[label[0] == key].tolist()[0]\n",
    "print(idx)\n"
   ]
  },
  {
   "cell_type": "code",
   "execution_count": null,
   "metadata": {},
   "outputs": [],
   "source": [
    "similarities = pairwise_similarity(embeddings)\n",
    "idx_similiarities = similarities[idx].tolist()\n"
   ]
  },
  {
   "cell_type": "code",
   "execution_count": null,
   "metadata": {},
   "outputs": [],
   "source": [
    "idx_distance = np.array([1 - i for i in idx_similiarities])\n"
   ]
  },
  {
   "cell_type": "code",
   "execution_count": null,
   "metadata": {},
   "outputs": [],
   "source": [
    "zorder = [int(o * 1000) for o in idx_similiarities]\n"
   ]
  },
  {
   "cell_type": "code",
   "execution_count": null,
   "metadata": {},
   "outputs": [],
   "source": [
    "results = pd.Series(idx_distance, index=label[0].tolist())\n",
    "results.sort_values(ascending=True).head(11)\n"
   ]
  },
  {
   "cell_type": "code",
   "execution_count": null,
   "metadata": {},
   "outputs": [],
   "source": [
    "# filter for 10 most similar underlyings\n",
    "idx_labels = np.argpartition(idx_similiarities, -11)[-11:]\n",
    "mask = np.zeros(len(idx_similiarities), dtype=bool)\n",
    "mask[idx_labels] = True\n"
   ]
  },
  {
   "cell_type": "code",
   "execution_count": null,
   "metadata": {},
   "outputs": [],
   "source": [
    "label[mask]\n"
   ]
  },
  {
   "cell_type": "code",
   "execution_count": null,
   "metadata": {},
   "outputs": [],
   "source": [
    "fig, ax = plt.subplots(figsize=(12 * CM, 8 * CM))\n",
    "\n",
    "# all non-near points in white-grey\n",
    "ax.scatter(\n",
    "    tsne_projections[\"tsne-0\"][~mask],\n",
    "    tsne_projections[\"tsne-1\"][~mask],\n",
    "    c=\"whitesmoke\",\n",
    "    s=5,\n",
    ")\n",
    "\n",
    "# all near points in color\n",
    "sc = ax.scatter(\n",
    "    tsne_projections[\"tsne-0\"][mask],\n",
    "    tsne_projections[\"tsne-1\"][mask],\n",
    "    cmap=\"Blues_r\",\n",
    "    c=idx_distance[mask],\n",
    "    s=10,\n",
    "    zorder=1000,\n",
    "    marker=\"o\",\n",
    "    edgecolors=\"grey\",\n",
    "    linewidth=0.5,\n",
    ")\n",
    "\n",
    "ax.set_xlabel(\"$t$-SNE Axis 1\")\n",
    "ax.set_ylabel(\"$t$-SNE Axis 2\")\n",
    "\n",
    "texts = []\n",
    "\n",
    "for i, cond in enumerate(mask):\n",
    "\n",
    "    if cond:\n",
    "        l = label[0].iloc[i]\n",
    "        factor = 1.5 if l == key else 1\n",
    "\n",
    "        # annotate labels with underlyings\n",
    "        texts.append(\n",
    "            ax.text(\n",
    "                tsne_projections[\"tsne-0\"].iloc[i],\n",
    "                tsne_projections[\"tsne-1\"].iloc[i],\n",
    "                r\"\\texttt{\" + l + r\"}\",\n",
    "                fontsize=7 * factor,\n",
    "                zorder=2000,\n",
    "                ha=\"left\",\n",
    "                va=\"top\",\n",
    "            )\n",
    "        )\n",
    "\n",
    "# adjust labels automatically to avoid overlap\n",
    "adjust_text(\n",
    "    texts, ax=ax, min_arrow_len=1, arrowprops=dict(arrowstyle=\"-\", color=\"k\", lw=0.5)\n",
    ")\n",
    "\n",
    "fig.colorbar(sc)\n",
    "\n",
    "fig.tight_layout()\n",
    "\n",
    "plt.savefig(f\"../reports/Graphs/categorical_embeddings_{key}.pdf\", bbox_inches=\"tight\")\n"
   ]
  }
 ],
 "metadata": {
  "kernelspec": {
   "display_name": "Python 3 (ipykernel)",
   "language": "python",
   "name": "python3"
  },
  "language_info": {
   "codemirror_mode": {
    "name": "ipython",
    "version": 3
   },
   "file_extension": ".py",
   "mimetype": "text/x-python",
   "name": "python",
   "nbconvert_exporter": "python",
   "pygments_lexer": "ipython3",
   "version": "3.9.4"
  }
 },
 "nbformat": 4,
 "nbformat_minor": 4
}
