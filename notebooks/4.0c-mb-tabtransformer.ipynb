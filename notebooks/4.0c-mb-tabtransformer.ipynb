{
 "cells": [
  {
   "cell_type": "code",
   "execution_count": null,
   "metadata": {
    "id": "7WXF7w4VyVgG"
   },
   "outputs": [],
   "source": [
    "import os\n",
    "from pathlib import Path\n",
    "from typing import List, Optional\n",
    "\n",
    "import gcsfs\n",
    "import google.auth\n",
    "import numpy as np\n",
    "import pandas as pd\n",
    "import torch\n",
    "import wandb\n",
    "from google.colab import auth, output\n",
    "from sklearn.metrics import accuracy_score\n",
    "from torch import nn\n",
    "from tqdm.notebook import tqdm\n"
   ]
  },
  {
   "cell_type": "code",
   "execution_count": null,
   "metadata": {
    "id": "DMpV9NTt25pj"
   },
   "outputs": [],
   "source": [
    "# connect to google cloud storage\n",
    "# auth.authenticate_user()\n",
    "#credentials, _ = google.auth.default()\n",
    "os.environ[\"GCLOUD_PROJECT\"] = \"flowing-mantis-239216\"\n",
    "fs = gcsfs.GCSFileSystem(project=\"thesis\")\n",
    "fs_prefix = \"gs://\""
   ]
  },
  {
   "cell_type": "code",
   "execution_count": null,
   "metadata": {
    "id": "vFMHPh-nTcSI"
   },
   "outputs": [],
   "source": [
    "features_classical_size = [\n",
    "    'TRADE_PRICE', 'bid_ask_size_ratio_ex', 'rel_bid_size_ex',\n",
    "       'rel_ask_size_ex', 'TRADE_SIZE', 'bid_size_ex', 'ask_size_ex',\n",
    "       'rel_ask_ex', 'rel_bid_ex', 'BEST_rel_bid', 'BEST_rel_ask',\n",
    "       'bid_ask_ratio_ex', 'chg_ex_lead', 'chg_ex_lag', 'chg_all_lead',\n",
    "       'chg_all_lag', 'ask_ex', 'bid_ex', 'BEST_ASK', 'BEST_BID',\n",
    "       'price_all_lag', 'price_all_lead', 'price_ex_lag', 'price_ex_lead'\n",
    "]"
   ]
  },
  {
   "cell_type": "code",
   "execution_count": null,
   "metadata": {
    "colab": {
     "base_uri": "https://localhost:8080/",
     "height": 225
    },
    "id": "ah1dofx3TdDj",
    "outputId": "fb566d1a-ccae-4ba5-c113-6eb2f30e1c49"
   },
   "outputs": [],
   "source": [
    "# see https://wandb.ai/fbv/thesis/runs/kwlaw02g/overview?workspace=user-karelze\n",
    "# for refs\n",
    "\n",
    "run = wandb.init(project=\"thesis\",entity=\"fbv\")\n",
    "\n",
    "dataset = \"fbv/thesis/classical_size_features_log_normalized:v0\"\n",
    "artifact = run.use_artifact(dataset)\n",
    "data_dir = artifact.download()\n",
    "\n",
    "model = \"fbv/thesis/3lfsbuby_TabTransformer_default_trial_82.pth:v0\"\n",
    "artifact = run.use_artifact(model)\n",
    "model_dir = artifact.download()"
   ]
  },
  {
   "cell_type": "code",
   "execution_count": null,
   "metadata": {
    "id": "WmXtH-PEqyQE"
   },
   "outputs": [],
   "source": [
    "X_test = pd.read_parquet(Path(data_dir, \"test_set_20.parquet\"), engine=\"fastparquet\")\n",
    "\n",
    "y_test = X_test[\"buy_sell\"]\n",
    "X_test = X_test[features_classical_size]\n"
   ]
  },
  {
   "cell_type": "code",
   "execution_count": null,
   "metadata": {
    "colab": {
     "base_uri": "https://localhost:8080/",
     "height": 300
    },
    "id": "ypC-A70pYQ7z",
    "outputId": "69af7468-67d4-4901-882e-33eab47a5b8a"
   },
   "outputs": [],
   "source": [
    "X_test.head()"
   ]
  },
  {
   "cell_type": "markdown",
   "metadata": {
    "id": "zMIOV1jA_ImH"
   },
   "source": [
    "## TabTransformer Baseline 🦾"
   ]
  },
  {
   "cell_type": "code",
   "execution_count": null,
   "metadata": {},
   "outputs": [],
   "source": [
    "import sys\n",
    "\n",
    "sys.path.append(\"..\")\n",
    "from otc.models.tabtransformer import TabTransformer\n",
    "from otc.data.dataset import TabDataset\n",
    "from otc.data.dataloader import TabDataLoader"
   ]
  },
  {
   "cell_type": "code",
   "execution_count": null,
   "metadata": {
    "id": "_QQ7sa9OJA2X"
   },
   "outputs": [],
   "source": [
    "# https://wandb.ai/fbv/thesis/runs/4fmccjm7/files/wandb-summary.json\n",
    "# https://wandb.ai/fbv/thesis/artifacts/model/3lfsbuby_TabTransformer_default_trial_82.pth/3a1937a3e6ec748d45a3/metadata\n",
    "params = {  \"dim\": 32,\n",
    "  \"depth\": 3,\n",
    "  \"heads\": 2,\n",
    "  \"weight_decay\": 0.00835620489462654,\n",
    "  \"lr\": 0.0015514372468568292,\n",
    "  \"dropout\": 0.1,\n",
    "  \"batch_size\": 32768}\n",
    "\n",
    "training_data = TabDataset(X_test, y_test, [], [])\n",
    "\n",
    "use_cuda = torch.cuda.is_available()\n",
    "device = torch.device(\"cuda\" if use_cuda else \"cpu\")        \n",
    "\n",
    "# differentiate between continous features only and mixed.\n",
    "test_loader = TabDataLoader(\n",
    "training_data.x_cat, training_data.x_cont, training_data.y, batch_size=params['batch_size'], device=device\n",
    ")\n",
    "\n",
    "       \n",
    "model = TabTransformer(\n",
    "            cat_cardinalities=[],\n",
    "            num_continuous=len(features_classical_size),\n",
    "            dim_out=1,\n",
    "            mlp_act=nn.ReLU,\n",
    "            dim=params[\"dim\"],\n",
    "            depth=params[\"depth\"],\n",
    "            heads=params[\"heads\"],\n",
    "            attn_dropout=params[\"dropout\"],\n",
    "            ff_dropout=params[\"dropout\"],\n",
    "            mlp_hidden_mults=(4, 2),\n",
    "        ).to(device)\n",
    "\n",
    "\n",
    "model.load_state_dict(torch.load(Path(model_dir,\"3lfsbuby_TabTransformer_default_trial_82.pth\")))\n",
    "model.eval()\n",
    "\n",
    "y_pred, y_true = [], []\n",
    "\n",
    "for x_cat, x_cont, targets in test_loader:\n",
    "  output = model(x_cat, x_cont)\n",
    "\n",
    "  # map between zero and one, sigmoid is otherwise included in loss already\n",
    "  # https://stackoverflow.com/a/66910866/5755604\n",
    "  output = torch.sigmoid(output.squeeze())\n",
    "  y_pred.append(output.detach().cpu().numpy())\n",
    "  y_true.append(targets.detach().cpu().numpy())  # type: ignore\n",
    "\n",
    "# round prediction to nearest int\n",
    "y_pred = np.rint(np.concatenate(y_pred))\n",
    "y_true = np.concatenate(y_true)\n",
    "\n",
    "# map zeros back to -1\n",
    "y_pred[y_pred == 0] = -1\n",
    "y_true[y_true == 0] = -1"
   ]
  },
  {
   "cell_type": "code",
   "execution_count": null,
   "metadata": {
    "colab": {
     "base_uri": "https://localhost:8080/"
    },
    "id": "xD8uTBuBN9ai",
    "outputId": "de97533b-2724-43b1-98d5-d2e724893f95"
   },
   "outputs": [],
   "source": [
    "accuracy_score(y_true, y_pred)"
   ]
  },
  {
   "cell_type": "code",
   "execution_count": null,
   "metadata": {
    "id": "AMoxcj4YZXOs"
   },
   "outputs": [],
   "source": [
    "# load default data to use unscaled version with all possible columns\n",
    "test_orig = pd.read_parquet(\n",
    "    f\"gs://thesis-bucket-option-trade-classification/data/preprocessed/test_set_extended_20.parquet\",\n",
    "    engine=\"fastparquet\",\n",
    ")"
   ]
  },
  {
   "cell_type": "code",
   "execution_count": null,
   "metadata": {
    "id": "3evMG-KVA2eX"
   },
   "outputs": [],
   "source": [
    "# Copy unscaled columns\n",
    "X_print = test_orig.copy()\n",
    "\n",
    "# add baseline results\n",
    "X_print[\"rule\"] = \"Baseline\"\n",
    "X_print[\"buy_sell_predicted\"] = y_pred\n",
    "\n",
    "# prepare columns for printing\n",
    "X_print[\"ttm\"] = (\n",
    "    X_print[\"EXPIRATION\"].dt.to_period(\"M\")\n",
    "    - X_print[\"QUOTE_DATETIME\"].dt.to_period(\"M\")\n",
    ").apply(lambda x: x.n)\n",
    "X_print[\"year\"] = X_print[\"QUOTE_DATETIME\"].dt.year\n",
    "\n",
    "bins_tradesize = [-np.inf, 1, 3, 5, 11, np.inf]\n",
    "trade_size_labels = [\"(0,1]\", \"(1,3]\", \"(3,5]\", \"(5,11]\", \">11\"]\n",
    "X_print[\"TRADE_SIZE_binned\"] = pd.cut(\n",
    "    X_print[\"TRADE_SIZE\"], bins_tradesize, labels=trade_size_labels\n",
    ")\n",
    "\n",
    "bins_years = [2004, 2007, 2010, 2011, 2012, 2013, 2014, 2015, 2016, 2017]\n",
    "year_labels = [\n",
    "    \"2005-2007\",\n",
    "    \"2008-2010\",\n",
    "    \"2011\",\n",
    "    \"2012\",\n",
    "    \"2013\",\n",
    "    \"2014\",\n",
    "    \"2015\",\n",
    "    \"2016\",\n",
    "    \"2017\",\n",
    "]\n",
    "X_print[\"year_binned\"] = pd.cut(X_print[\"year\"], bins_years, labels=year_labels)\n",
    "\n",
    "bins_ttm = [-np.inf, 1, 2, 3, 6, 12, np.inf]\n",
    "ttm_labels = [\n",
    "    \"ttm <= 1 month\",\n",
    "    \"ttm (1-2] month\",\n",
    "    \"ttm (2-3] month\",\n",
    "    \"ttm (3-6] month\",\n",
    "    \"ttm (6-12] month\",\n",
    "    \"ttm > 12 month\",\n",
    "]\n",
    "X_print[\"ttm_binned\"] = pd.cut(X_print[\"ttm\"], bins_ttm, labels=ttm_labels)\n",
    "\n",
    "\n",
    "bins_myn = [-np.inf, 0.7, 0.9, 1.1, 1.3, np.inf]\n",
    "myn_labels = [\n",
    "    \"mny <=0.7\",\n",
    "    \"mny (0.7-0.9]\",\n",
    "    \"mny (0.9-1.1]\",\n",
    "    \"mny (1.1-1.3]\",\n",
    "    \"mny > 1.3\",\n",
    "]\n",
    "X_print[\"myn_binned\"] = pd.cut(X_print[\"myn\"], bins_myn, labels=myn_labels)\n",
    "\n",
    "X_print[\"issue_type_binned\"] = X_print[\"issue_type\"].replace(\n",
    "    {\"0\": 'Stock options', 'A': 'Index options', '7': 'Others',\n",
    "     'F': 'Others', '%': 'Others', ' ': 'Others'})\n",
    "\n",
    "\n",
    "# TODO: time from previous trade; same underlying or any?\n"
   ]
  },
  {
   "cell_type": "code",
   "execution_count": null,
   "metadata": {
    "id": "clDZ4Z95_0jj"
   },
   "outputs": [],
   "source": [
    "def check_robustness(criterion: str = \"year_binned\") -> pd.DataFrame:\n",
    "    \"\"\"\n",
    "    Check robustness of rules by calculating the accuracy for a given\n",
    "    criterion and rules.\n",
    "\n",
    "    Example:\n",
    "    rule\t\tBaseline\n",
    "    TRADE_SIZE_binned\n",
    "    (0,1]\t  0.710966\n",
    "    (1,3]\t  0.717664\n",
    "    (3,5]\t  0.715195\n",
    "    (5,11]\t0.699428\n",
    "    >11\t  \t0.688348\n",
    "\n",
    "    Args:\n",
    "        criterion (str, optional): criterion to check robustness for.\n",
    "        Defaults to \"year_binned\".\n",
    "\n",
    "    Returns:\n",
    "        pd.DataFrame: DataFrame with accuracy of rules. Rule in columns and\n",
    "        criterion values in rows.\n",
    "    \"\"\"\n",
    "\n",
    "    # fill others randomly with equal weight for every class.\n",
    "    X_print[\"buy_sell_predicted\"] = X_print[\"buy_sell_predicted\"].map(\n",
    "        lambda l: l if not np.isnan(l) else np.random.choice([-1, 1])\n",
    "    )\n",
    "\n",
    "    # cuculate average over columns if multiple subsets are combined\n",
    "    results = (\n",
    "        X_print.groupby([\"rule\", criterion])[[\"buy_sell\", \"buy_sell_predicted\"]]\n",
    "        .apply(lambda x: accuracy_score(x[\"buy_sell\"], x[\"buy_sell_predicted\"]))\n",
    "        .unstack(level=0)\n",
    "        .assign(avg=lambda x: x.mean(axis=1))\n",
    "    )\n",
    "    return results\n"
   ]
  },
  {
   "cell_type": "code",
   "execution_count": null,
   "metadata": {
    "colab": {
     "base_uri": "https://localhost:8080/",
     "height": 175
    },
    "id": "4KRw_J0IJiFU",
    "outputId": "374fac9f-97cb-4338-bf79-b289332a0b40"
   },
   "outputs": [],
   "source": [
    "check_robustness(\"year_binned\")\n"
   ]
  },
  {
   "cell_type": "code",
   "execution_count": null,
   "metadata": {
    "colab": {
     "base_uri": "https://localhost:8080/",
     "height": 143
    },
    "id": "fCey7G_tE6zt",
    "outputId": "95762483-bc9e-406c-9024-ee7d8b968e68"
   },
   "outputs": [],
   "source": [
    "check_robustness(\"OPTION_TYPE\")\n"
   ]
  },
  {
   "cell_type": "code",
   "execution_count": null,
   "metadata": {
    "colab": {
     "base_uri": "https://localhost:8080/",
     "height": 175
    },
    "id": "AGbchxWfds_Y",
    "outputId": "6b5646cb-65e4-4e59-979a-febc33b9be67"
   },
   "outputs": [],
   "source": [
    "check_robustness(\"issue_type_binned\")"
   ]
  },
  {
   "cell_type": "code",
   "execution_count": null,
   "metadata": {
    "colab": {
     "base_uri": "https://localhost:8080/",
     "height": 238
    },
    "id": "Zpg1yY2MEGFa",
    "outputId": "63d6b69b-4238-4831-a6a1-8cfc9f4ec39f"
   },
   "outputs": [],
   "source": [
    "check_robustness(\"TRADE_SIZE_binned\")\n"
   ]
  },
  {
   "cell_type": "code",
   "execution_count": null,
   "metadata": {
    "colab": {
     "base_uri": "https://localhost:8080/",
     "height": 269
    },
    "id": "8624JR8wEN4D",
    "outputId": "e7037e24-d07d-485f-a393-d513cbc07143"
   },
   "outputs": [],
   "source": [
    "check_robustness(\"ttm_binned\")\n"
   ]
  },
  {
   "cell_type": "code",
   "execution_count": null,
   "metadata": {
    "colab": {
     "base_uri": "https://localhost:8080/",
     "height": 238
    },
    "id": "Z7Vn96hibEvM",
    "outputId": "4034575f-4c21-4f91-e621-817db6f3b332"
   },
   "outputs": [],
   "source": [
    "check_robustness(\"myn_binned\")\n"
   ]
  },
  {
   "cell_type": "markdown",
   "metadata": {},
   "source": [
    "## Shap attributions"
   ]
  },
  {
   "cell_type": "code",
   "execution_count": null,
   "metadata": {},
   "outputs": [],
   "source": [
    "import shap"
   ]
  },
  {
   "cell_type": "code",
   "execution_count": null,
   "metadata": {},
   "outputs": [],
   "source": [
    "class TabModel:\n",
    "    \n",
    "    def __init__(self,model):\n",
    "        self._model = model\n",
    "        \n",
    "    \n",
    "    def predict(self,X:np.ndarray):\n",
    "        \n",
    "\n",
    "        \n",
    "        # TODO: infer correct cat columns\n",
    "        X = pd.DataFrame(X)\n",
    "        y = pd.Series(range(len(X)))\n",
    "        test_data = TabDataset(X, y, [], [])\n",
    "\n",
    "        use_cuda = torch.cuda.is_available()\n",
    "        device = torch.device(\"cuda\" if use_cuda else \"cpu\")        \n",
    "\n",
    "        # differentiate between continous features only and mixed.\n",
    "        sample_loader = TabDataLoader(\n",
    "        test_data.x_cat, test_data.x_cont, batch_size=params['batch_size'], device=device\n",
    "        )\n",
    "\n",
    "        y_pred= []\n",
    "\n",
    "        for x_cat, x_cont in sample_loader:\n",
    "          output = self._model(x_cat, x_cont)\n",
    "\n",
    "          # map between zero and one, sigmoid is otherwise included in loss already\n",
    "          # https://stackoverflow.com/a/66910866/5755604\n",
    "          output = torch.sigmoid(output.squeeze())\n",
    "          y_pred.append(output.detach().cpu().numpy())\n",
    "\n",
    "        # get probabilities\n",
    "        return y_pred[0].reshape(-1,1)"
   ]
  },
  {
   "cell_type": "code",
   "execution_count": null,
   "metadata": {},
   "outputs": [],
   "source": [
    "def get_probilistic_predictions(model, X):\n",
    "    #X_sample = X_test.sample(n=50)\n",
    "\n",
    "    tabmodel = TabModel(model)\n",
    "    return tabmodel.predict(X)\n",
    "    "
   ]
  },
  {
   "cell_type": "code",
   "execution_count": null,
   "metadata": {},
   "outputs": [],
   "source": [
    "f = lambda x: get_probilistic_predictions(model, x)\n",
    "X_sample = X_test.sample(n=50)\n",
    "\n",
    "kernelshap = shap.KernelExplainer(f, shap.sample(X_test, 52));\n",
    "shap_values = kernelshap.shap_values(X_sample, nsamples=256);  # nsamples = no. of feature coalitions\n",
    "#print(shap_values.shape, shap_values.dtype)\n",
    "\n",
    "shap_values"
   ]
  },
  {
   "cell_type": "code",
   "execution_count": null,
   "metadata": {},
   "outputs": [],
   "source": [
    "shap_values = pd.DataFrame(shap_values[0], columns=X_test.columns)"
   ]
  },
  {
   "cell_type": "code",
   "execution_count": null,
   "metadata": {},
   "outputs": [],
   "source": [
    "import matplotlib.pyplot as plt"
   ]
  },
  {
   "cell_type": "code",
   "execution_count": null,
   "metadata": {},
   "outputs": [],
   "source": [
    "attrs_abs = np.abs(shap_values)\n",
    "attrs_abs -= np.min(attrs_abs)\n",
    "attrs_abs /= np.max(attrs_abs)\n",
    "plt.ioff()\n",
    "plt.matshow(attrs_abs)\n",
    "plt.xticks(np.arange(len(X_test.columns)), X_test.columns, rotation=90)\n",
    "plt.show()"
   ]
  }
 ],
 "metadata": {
  "accelerator": "GPU",
  "colab": {
   "include_colab_link": true,
   "machine_shape": "hm",
   "name": "Untitled2.ipynb",
   "provenance": []
  },
  "gpuClass": "premium",
  "kernelspec": {
   "display_name": "Python 3",
   "language": "python",
   "name": "python3"
  },
  "language_info": {
   "codemirror_mode": {
    "name": "ipython",
    "version": 3
   },
   "file_extension": ".py",
   "mimetype": "text/x-python",
   "name": "python",
   "nbconvert_exporter": "python",
   "pygments_lexer": "ipython3",
   "version": "3.9.4 (tags/v3.9.4:1f2e308, Apr  6 2021, 13:40:21) [MSC v.1928 64 bit (AMD64)]"
  },
  "vscode": {
   "interpreter": {
    "hash": "f8ea8b642289b706932f10b33ee389827410dbaef0ce2c5bf73615e8d3267d88"
   }
  }
 },
 "nbformat": 4,
 "nbformat_minor": 4
}
