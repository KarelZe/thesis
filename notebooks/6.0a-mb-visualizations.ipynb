{
  "cells": [
    {
      "cell_type": "code",
      "execution_count": 4,
      "metadata": {
        "id": "KqA-31WTmVb2",
        "tags": []
      },
      "outputs": [],
      "source": [
        "import numpy as np\n",
        "import matplotlib as mpl\n",
        "import matplotlib.pyplot as plt\n",
        "from matplotlib import rc\n",
        "import torch\n",
        "import pandas as pd\n",
        "import matplotlib.dates as mdates\n",
        "import matplotlib.ticker as ticker\n",
        "from matplotlib.ticker import FormatStrFormatter, StrMethodFormatter, PercentFormatter\n",
        "\n",
        "\n",
        "import json\n",
        "import os\n",
        "import pickle\n",
        "from pathlib import Path\n",
        "import optuna\n",
        "import wandb\n",
        "\n",
        "os.environ[\"GCLOUD_PROJECT\"] = \"flowing-mantis-239216\""
      ]
    },
    {
      "cell_type": "code",
      "execution_count": 5,
      "metadata": {
        "id": "V_c4GpJmndXz",
        "tags": []
      },
      "outputs": [],
      "source": [
        "params = {\n",
        "    \"pgf.texsystem\": \"xelatex\",\n",
        "    \"pgf.rcfonts\": False,\n",
        "    \"font.serif\": [],\n",
        "    \"font.family\": \"serif\",\n",
        "    \"font.sans-serif\": [],\n",
        "    \"axes.labelsize\": 11,\n",
        "}\n",
        "\n",
        "plt.rcParams.update(params)\n",
        "rc(\"text\", usetex=True)\n",
        "\n",
        "plt.rc('text.latex', preamble=r'\\usepackage{amsmath}\\usepackage[utf8]{inputenc}')\n",
        "\n",
        "CM = 1 / 2.54\n",
        "# cmap = plt.cm.get_cmap(\"viridis\")\n",
        "cmap = mpl.colormaps.get_cmap(\"plasma\")\n",
        "# plt.style.use(['science','nature'])\n",
        "\n",
        "# Bright color scheme\n",
        "# color-blind safe\n",
        "# from Paul Tot's website: https://personal.sron.nl/~pault/\n",
        "# Set color cycle\n",
        "# mpl.rcParams['axes.prop_cycle'] = mpl.cycler('color', ['4477AA', 'EE6677', '228833', 'CCBB44', '66CCEE', 'AA3377', 'BBBBBB'])\n",
        "\n",
        "\n",
        "# Standard SciencePlots color cycle\n",
        "mpl.rcParams[\"axes.prop_cycle\"] = mpl.cycler(\n",
        "    \"color\", [\"0C5DA5\", \"00B945\", \"FF9500\", \"FF2C00\", \"845B97\", \"474747\", \"9e9e9e\"]\n",
        ")\n"
      ]
    },
    {
      "cell_type": "markdown",
      "metadata": {
        "id": "kNTG2a_kf5gS"
      },
      "source": [
        "## Comparsion of Accuracies"
      ]
    },
    {
      "cell_type": "code",
      "execution_count": null,
      "metadata": {
        "id": "zHPbG4S7f5gU"
      },
      "outputs": [],
      "source": []
    },
    {
      "cell_type": "code",
      "execution_count": null,
      "metadata": {
        "tags": [],
        "id": "zPtje60Kf5gU"
      },
      "outputs": [],
      "source": [
        "plt.figure(figsize=(8*CM,8*CM))  \n",
        "    \n",
        "# plot orientation line\n",
        "x = np.linspace(0, 10, num=100)\n",
        "y = np.linspace(0, 10, num=100)\n",
        "plt.plot(x,y,'--', c=\"black\", linewidth=0.5)\n",
        "    \n",
        "# Preparing dataset\n",
        "x = [x for x in range(10)]\n",
        "y = [5, 2, 4, 8, 5, 6, 8, 7, 1, 3]\n",
        "text = [\"first\", \"second\", \"third\", \"fourth\", \"fifth\",\n",
        "        \"sixth\", \"seventh\", \"eighth\", \"ninth\", \"tenth\"]\n",
        "\n",
        "# plotting scatter plot\n",
        "plt.scatter(x, y, zorder=10)\n",
        "  \n",
        "# Loop for annotation of all points\n",
        "for i in range(len(x)):\n",
        "    plt.annotate(text[i], (x[i]-0.8, y[i] + 0.4))\n",
        "\n",
        "\n",
        "# adjusting the scale of the axes\n",
        "plt.xlim((0, 10))\n",
        "plt.ylim((0, 10))\n",
        "\n",
        "plt.ylabel(\"Validation Accuracy\")\n",
        "plt.xlabel(\"Training Accuracy\")\n",
        "\n",
        "plt.tight_layout()\n",
        "# plt.show()\n",
        "plt.savefig(\"../reports/Graphs/training-validation-accuracy.pdf\", bbox_inches=\"tight\")"
      ]
    },
    {
      "cell_type": "markdown",
      "metadata": {
        "id": "vVE2JK9Af5gW"
      },
      "source": [
        "## Cross-Entropy Loss"
      ]
    },
    {
      "cell_type": "code",
      "execution_count": null,
      "metadata": {
        "tags": [],
        "id": "JcOCYG4Of5gW"
      },
      "outputs": [],
      "source": [
        "# 100 linearly spaced numbers\n",
        "x = np.linspace(-2,2,100)\n",
        "# the function, which is y = x^2 here\n",
        "y = np.log(1 + np.exp(-2*x))\n",
        "\n",
        "# setting the axes at the centre\n",
        "fig = plt.figure(figsize=(12 * CM, 6 * CM))\n",
        "ax = fig.add_subplot(1, 1, 1)\n",
        "\n",
        "ax.xaxis.set_ticks_position('bottom')\n",
        "ax.yaxis.set_ticks_position('left')\n",
        "\n",
        "ax.set_xlabel(\"Margin $y-F_m(\\mathbf{x})$\")\n",
        "ax.set_ylabel(\"Loss\")\n",
        "\n",
        "# plot the function\n",
        "plt.plot(x,y, label=\"cross-entropy loss\")\n",
        "plt.legend(frameon=False)\n",
        "plt.savefig(\"../reports/Graphs/cross-entropy-loss.pdf\", bbox_inches=\"tight\")\n",
        "# show the p"
      ]
    },
    {
      "cell_type": "markdown",
      "metadata": {
        "id": "h9mAHJU1f5gX"
      },
      "source": [
        "## Histogram Decision Tree"
      ]
    },
    {
      "cell_type": "code",
      "execution_count": null,
      "metadata": {
        "tags": [],
        "id": "nC57KvgPf5gX"
      },
      "outputs": [],
      "source": [
        "from sklearn.tree import DecisionTreeRegressor\n",
        "\n",
        "# Create a random dataset\n",
        "rng = np.random.RandomState(1)\n",
        "X = np.sort(5 * rng.rand(80, 1), axis=0)\n",
        "y = np.sin(X).ravel()\n",
        "y[::5] += 3 * (0.6 - rng.rand(16))\n",
        "\n",
        "# Fit regression model\n",
        "regr_1 = DecisionTreeRegressor(max_depth=1)\n",
        "# regr_2 = DecisionTreeRegressor(max_depth=5)\n",
        "regr_1.fit(X, y)\n",
        "# regr_2.fit(X, y)\n",
        "\n",
        "# Predict\n",
        "X_test = np.arange(0.0, 5.0, 0.01)[:, np.newaxis]\n",
        "y_1 = regr_1.predict(X_test)\n",
        "# y_2 = regr_2.predict(X_test)\n",
        "\n",
        "# Plot the results\n",
        "plt.figure(figsize=(8*CM,6*CM))\n",
        "plt.scatter(X, y, s=20, c=\"yellowgreen\", edgecolors=\"black\", linewidth=0.5, label=\"Data\")\n",
        "plt.plot(X_test, y_1, color=\"cornflowerblue\", label=\"Approximation\", linewidth=1)\n",
        "# plt.plot(X_test, y_2, color=\"yellowgreen\", label=\"max_depth=5\", linewidth=2)\n",
        "plt.xlabel(\"Feature\")\n",
        "plt.ylabel(\"Target\")\n",
        "plt.legend(frameon=False)\n",
        "plt.tight_layout()\n",
        "# plt.show()\n",
        "\n",
        "plt.savefig(\"../reports/Graphs/dt-decision-boundary.pdf\", bbox_inches=\"tight\")"
      ]
    },
    {
      "cell_type": "markdown",
      "metadata": {
        "id": "rdBVk3fyf5gZ"
      },
      "source": [
        "## Train-Test Split"
      ]
    },
    {
      "cell_type": "code",
      "execution_count": null,
      "metadata": {
        "tags": [],
        "id": "6Wfu05Wrf5gZ"
      },
      "outputs": [],
      "source": [
        "def to_mpl(start: str, end: str):\n",
        "    mpl_start = mdates.date2num(pd.to_datetime(start))\n",
        "    mpl_end = mdates.date2num(pd.to_datetime(end))\n",
        "    return mpl_start, mpl_end - mpl_start\n"
      ]
    },
    {
      "cell_type": "code",
      "execution_count": null,
      "metadata": {
        "tags": [],
        "id": "P6d0dXM-f5ga"
      },
      "outputs": [],
      "source": [
        "def to_pos(span: tuple):\n",
        "    return span[0] + 0.5 * span[1]\n"
      ]
    },
    {
      "cell_type": "code",
      "execution_count": null,
      "metadata": {
        "tags": [],
        "id": "cpm8MpP5f5gb"
      },
      "outputs": [],
      "source": [
        "fig, (ax, bx) = plt.subplots(\n",
        "    2, 1, sharey=\"none\", sharex=\"col\", figsize=(12 * CM, 6 * CM)\n",
        ")\n",
        "\n",
        "# ise\n",
        "ax.broken_barh([to_mpl(\"2005-05-02\", \"2017-05-31\")], (1, 5), facecolors=\"lightgray\")\n",
        "\n",
        "# ise pretraining\n",
        "span = [to_mpl(\"2012-10-23\", \"2013-10-24\")]\n",
        "ax.broken_barh(span, (2.5, 1), facecolors=(168/255,209/255,238/255), edgecolor=\"black\", linewidth=0.8)\n",
        "\n",
        "ax.text(\n",
        "    x=to_pos(span[0]),\n",
        "    y=3,\n",
        "    s=\"train\",\n",
        "    ha=\"center\",\n",
        "    va=\"center\",\n",
        "    color=\"black\",\n",
        "    fontsize=\"small\",\n",
        ")\n",
        "\n",
        "spans = [\n",
        "    to_mpl(\"2005-05-02\", \"2013-10-24\"),\n",
        "    to_mpl(\"2013-10-25\", \"2015-11-05\"),\n",
        "    to_mpl(\"2015-11-06\", \"2017-05-31\"),\n",
        "]\n",
        "\n",
        "# ise supervised\n",
        "ax.broken_barh(\n",
        "    spans,\n",
        "    (1.2, 1),\n",
        "    facecolors=((168/255,209/255,238/255), (204/255,212/255,151/255), (239/255,171/255,170/255)),\n",
        "    edgecolor=\"black\",\n",
        "    linewidth=0.8,\n",
        ")\n",
        "\n",
        "# add text labels manually\n",
        "labels = [\"train\", \"val\", \"test\"]\n",
        "for i, s in enumerate(spans):\n",
        "    ax.text(\n",
        "        x=to_pos(s),\n",
        "        y=1.7,\n",
        "        s=labels[i],\n",
        "        ha=\"center\",\n",
        "        va=\"center\",\n",
        "        color=\"black\",\n",
        "        fontsize=\"small\",\n",
        "    )\n",
        "\n",
        "ax.xaxis_date()\n",
        "plt.setp(ax.get_xticklabels(), visible=True)\n",
        "\n",
        "# cboe\n",
        "bx.broken_barh([to_mpl(\"2011-01-01\", \"2017-10-31\")], (1, 3), facecolors=\"lightgray\")\n",
        "\n",
        "spans = [\n",
        "    to_mpl(\"2015-11-06\", \"2017-10-31\"),\n",
        "]\n",
        "\n",
        "# cboe supervised\n",
        "bx.broken_barh(\n",
        "    spans,\n",
        "    (1.85, 1),\n",
        "    facecolors=(239/255,171/255,170/255),\n",
        "    edgecolor=\"black\",\n",
        "    linewidth=0.8,\n",
        ")\n",
        "\n",
        "# add text labels manually\n",
        "labels = [\"test\"]\n",
        "for i, s in enumerate(spans):\n",
        "    bx.text(\n",
        "        x=to_pos(s),\n",
        "        y=2.35,\n",
        "        s=labels[i],\n",
        "        ha=\"center\",\n",
        "        va=\"center\",\n",
        "        color=\"black\",\n",
        "        fontsize=\"small\",\n",
        "    )\n",
        "\n",
        "\n",
        "\n",
        "# Modify y-axis tick labels\n",
        "ax.set_yticks([1.7, 3], labels=[\"ISE\\n Supervised\", \"ISE\\n Pretraining\"])\n",
        "bx.set_yticks([2.35], labels=[\"CBOE\"])\n",
        "\n",
        "ax.set_ylim(1, 3.7)\n",
        "bx.set_ylim(1, 3.7)\n",
        "\n",
        "# into to date\n",
        "bx.xaxis_date()\n",
        "\n",
        "plt.xlabel(\"Date\")\n",
        "\n",
        "# plt.show()\n",
        "plt.savefig(\"../reports/Graphs/train-test-split.pdf\", bbox_inches=\"tight\")\n"
      ]
    },
    {
      "cell_type": "markdown",
      "metadata": {
        "id": "SyA46Ie6f5gc"
      },
      "source": [
        "## Attention"
      ]
    },
    {
      "cell_type": "code",
      "execution_count": null,
      "metadata": {
        "id": "hiz8Mtuzf5ge"
      },
      "outputs": [],
      "source": [
        "# code from https://d2l.ai/d2l-en.pdf\n",
        "def show_heatmaps(matrices, xlabel, ylabel, titles=None, figsize=(2.5, 2.5), cmap=cmap):\n",
        "    num_rows, num_cols, _, _ = matrices.shape\n",
        "    fig, axes = plt.subplots(\n",
        "        num_rows, num_cols, figsize=figsize, sharex=True, sharey=True, squeeze=False\n",
        "    )\n",
        "    for i, (row_axes, row_matrices) in enumerate(zip(axes, matrices)):\n",
        "        for j, (ax, matrix) in enumerate(zip(row_axes, row_matrices)):\n",
        "            pcm = ax.imshow(matrix.detach().numpy(), cmap=cmap)\n",
        "            if i == num_rows - 1:\n",
        "                ax.set_xlabel(xlabel)\n",
        "            if j == 0:\n",
        "                ax.set_ylabel(ylabel)\n",
        "            if titles:\n",
        "                ax.set_title(titles[j])\n",
        "    fig.colorbar(pcm, ax=axes)\n",
        "    plt.savefig(\"../reports/Graphs/attention-maps.pdf\", bbox_inches=\"tight\")\n"
      ]
    },
    {
      "cell_type": "code",
      "execution_count": null,
      "metadata": {
        "id": "EMBPYiltf5ge"
      },
      "outputs": [],
      "source": [
        "# attention_weights = torch.eye(10).reshape((1, 1, 10, 10))\n",
        "attention_weights = torch.rand(size=(2, 4, 10, 10))\n",
        "show_heatmaps(\n",
        "    attention_weights, xlabel=\"Keys\", ylabel=\"Queries\", figsize=(12 * CM, 6 * CM)\n",
        ")\n"
      ]
    },
    {
      "cell_type": "code",
      "execution_count": null,
      "metadata": {
        "id": "7LeO039jmYXY"
      },
      "outputs": [],
      "source": [
        "# Code from https://www.tensorflow.org/tutorials/text/transformer\n",
        "def get_angles(pos, i, d_model):\n",
        "    angle_rates = 1 / np.power(10000, (2 * (i // 2)) / np.float32(d_model))\n",
        "    return pos * angle_rates\n",
        "\n",
        "\n",
        "def positional_encoding(position, d_model):\n",
        "    angle_rads = get_angles(\n",
        "        np.arange(position)[:, np.newaxis], np.arange(d_model)[np.newaxis, :], d_model\n",
        "    )\n",
        "\n",
        "    # apply sin to even indices in the array; 2i\n",
        "    angle_rads[:, 0::2] = np.sin(angle_rads[:, 0::2])\n",
        "\n",
        "    # apply cos to odd indices in the array; 2i+1\n",
        "    angle_rads[:, 1::2] = np.cos(angle_rads[:, 1::2])\n",
        "\n",
        "    pos_encoding = angle_rads[np.newaxis, ...]\n",
        "\n",
        "    return pos_encoding\n"
      ]
    },
    {
      "cell_type": "code",
      "execution_count": null,
      "metadata": {
        "id": "jXDCDLyhmhJ2"
      },
      "outputs": [],
      "source": [
        "tokens = 64\n",
        "dimensions = 96\n",
        "\n",
        "\n",
        "pos_encoding = positional_encoding(tokens, dimensions)\n",
        "print(pos_encoding.shape)\n",
        "\n",
        "plt.figure(figsize=(12 * CM, 6 * CM))\n",
        "plt.pcolormesh(pos_encoding[0], cmap=cmap)\n",
        "plt.xlabel(\"Embedding dimension $d_e$\")\n",
        "plt.xlim((0, dimensions))\n",
        "plt.ylim((tokens, 0))\n",
        "plt.ylabel(\"token position $t$\")\n",
        "plt.colorbar()\n",
        "plt.savefig(\"../reports/Graphs/positional-encoding.pdf\", bbox_inches=\"tight\")\n"
      ]
    },
    {
      "cell_type": "markdown",
      "metadata": {
        "id": "KLKHwCjOf5gg"
      },
      "source": [
        "## Semi-Supervised Decision Boundary"
      ]
    },
    {
      "cell_type": "code",
      "execution_count": null,
      "metadata": {
        "tags": [],
        "id": "7f4rU7X8f5gg"
      },
      "outputs": [],
      "source": [
        "# Authors: Clay Woolam   <clay@woolam.org>\n",
        "#          Oliver Rausch <rauscho@ethz.ch>\n",
        "# License: BSD\n",
        "\n",
        "# import numpy as np\n",
        "# import matplotlib.pyplot as plt\n",
        "from sklearn import datasets\n",
        "from sklearn.svm import SVC\n",
        "from sklearn.semi_supervised import LabelSpreading\n",
        "from sklearn.semi_supervised import SelfTrainingClassifier\n",
        "\n",
        "from matplotlib.ticker import MaxNLocator # needed for integer only on axis\n",
        "from matplotlib.lines import Line2D # for creating the custom legend\n",
        "\n",
        "iris = datasets.load_iris()\n",
        "\n",
        "X = iris.data[:, :2]\n",
        "y = iris.target\n",
        "\n",
        "# mask = y[y<2]\n",
        "\n",
        "# y = y[-mask]\n",
        "# X = X[-mask]\n",
        "\n",
        "# print(mask.astype(bool))\n",
        "\n",
        "# step size in the mesh\n",
        "h = 0.1\n",
        "\n",
        "rng = np.random.RandomState(0)\n",
        "y_rand = rng.rand(y.shape[0])\n",
        "y_30 = np.copy(y)\n",
        "y_30[y_rand < 0.3] = -1  # set random samples to be unlabeled\n",
        "y_50 = np.copy(y)\n",
        "y_50[y_rand < 0.5] = -1\n",
        "# we create an instance of SVM and fit out data. We do not scale our\n",
        "# data since we want to plot the support vectors\n",
        "# ls30 = (LabelSpreading().fit(X, y_30), y_30, \"Label Spreading 30% data\")\n",
        "# ls50 = (LabelSpreading().fit(X, y_50), y_50, \"Label Spreading 50% data\")\n",
        "# ls100 = (LabelSpreading().fit(X, y), y, \"Label Spreading 100% data\")\n",
        "\n",
        "# the base classifier for self-training is identical to the SVC\n",
        "base_classifier = SVC(kernel=\"rbf\", gamma=0.5, probability=True)\n",
        "st30 = (\n",
        "    SelfTrainingClassifier(base_classifier).fit(X, y_30),\n",
        "    y_30,\n",
        "    \"Semi-Supervised Classifier\",\n",
        ")\n",
        "# st50 = (\n",
        "#     SelfTrainingClassifier(base_classifier).fit(X, y_50),\n",
        "#     y_50,\n",
        "#     \"Self-training 50% data\",\n",
        "# )\n",
        "\n",
        "rbf_svc = (base_classifier.fit(X, y), y, \"Supervised Classifier\")\n",
        "\n",
        "# create a mesh to plot in\n",
        "x_min, x_max = X[:, 0].min() - 1, X[:, 0].max() + 1\n",
        "y_min, y_max = X[:, 1].min() - 1, X[:, 1].max() + 1\n",
        "xx, yy = np.meshgrid(np.arange(x_min, x_max, h), np.arange(y_min, y_max, h))\n",
        "\n",
        "PROB_DOT_SCALE = 40 # modifier to scale the probability dots\n",
        "PROB_DOT_SCALE_POWER = 3 # exponential used to increase/decrease size of prob dots\n",
        "TRUE_DOT_SIZE = 50 #\n",
        "\n",
        "redish = '#d73027'\n",
        "orangeish = '#fc8d59'\n",
        "yellowish = '#fee090'\n",
        "blueish = '#4575b4'\n",
        "colormap = np.array([redish,blueish,orangeish])\n",
        "\n",
        "color_map = {-1: (1, 1, 1), 0: (0, 0, 0.9), 1: (1, 0, 0), 2: (0.8, 0.6, 0)}\n",
        "\n",
        "ax = plt.figure(figsize=(12*CM, 6*CM))\n",
        "\n",
        "classifiers = (rbf_svc, st30)\n",
        "for i, (clf, y_train, title) in enumerate(classifiers):\n",
        "    # Plot the decision boundary. For that, we will assign a color to each\n",
        "    # point in the mesh [x_min, x_max]x[y_min, y_max].\n",
        "    plt.subplot(1, 2, i+1)\n",
        "    Z = clf.predict(np.c_[xx.ravel(), yy.ravel()])\n",
        "    \n",
        "    z_proba =  clf.predict_proba(np.c_[xx.ravel(), yy.ravel()])\n",
        "    # the size of each probability dot\n",
        "    Z_size = np.max(Z_proba, axis=1) \n",
        "    \n",
        "    Z = Z.reshape(xx.shape)\n",
        "    \n",
        "    tri = plt.tricontourf(xx.flatten(), yy.flatten(), z_proba[:,1], levels=14, cmap=\"RdBu_r\")\n",
        "    plt.contour(xx, yy, z_proba[:,1].reshape(xx.shape), 15, linewidths=0.5, colors=\"k\")\n",
        "    \n",
        "    \n",
        "    # Plot also the training points\n",
        "    colors = [color_map[y] for y in y_train]\n",
        "\n",
        "    \n",
        "    plt.scatter(X[:, 0], X[:, 1], c=colors, s=20, edgecolors=\"black\", linewidth=0.5, zorder=10)\n",
        "\n",
        "    plt.title(title, y=-0.3)\n",
        "\n",
        "plt.savefig(\"../reports/Graphs/semi-supervised-decision-boundary.pdf\", bbox_inches=\"tight\")\n",
        "# plt.suptitle(\"Unlabeled points are colored white\", y=0.1)\n",
        "plt.show()"
      ]
    },
    {
      "cell_type": "markdown",
      "metadata": {
        "id": "jGL-HbYlf5gi"
      },
      "source": [
        "## Hyperparameter Search Space"
      ]
    },
    {
      "cell_type": "code",
      "execution_count": null,
      "metadata": {
        "tags": [],
        "id": "0mBAljLdf5gi"
      },
      "outputs": [],
      "source": [
        "# set study globally here\n",
        "# study = \"2qzvvdbw.optuna:v49\"\n",
        "# study = \"30sl6vqf.optuna:v49\"\n",
        "# study = \"2w28suql.optuna:v49\"\n",
        "\n",
        "# study = \"17malsep.optuna:v49\"\n",
        "# study = \"2a9iqsn0.optuna:v49\"\n",
        "study = \"3laathab.optuna:v49\"\n"
      ]
    },
    {
      "cell_type": "code",
      "execution_count": null,
      "metadata": {
        "tags": [],
        "id": "xO_7X5Mlf5gi"
      },
      "outputs": [],
      "source": [
        "# see https://wandb.ai/fbv/thesis/runs/kwlaw02g/overview?workspace=user-karelze\n",
        "run = wandb.init(project=\"thesis\", entity=\"fbv\")\n",
        "\n",
        "# model_name = model.split(\"/\")[-1].split(\":\")[0]\n",
        "# study_id = model_name.split(\"_\")[0]\n",
        "\n",
        "study_id = study.split(\".\")[0]\n",
        "\n",
        "\n",
        "artifact = run.use_artifact(study)\n",
        "study_dir = artifact.download()\n",
        "\n",
        "# artifact = run.use_artifact(model)\n",
        "# model_dir = artifact.download()\n",
        "\n",
        "study_name, version = study.split(\":\")"
      ]
    },
    {
      "cell_type": "code",
      "execution_count": null,
      "metadata": {
        "tags": [],
        "id": "mf8yf8LBf5gj"
      },
      "outputs": [],
      "source": [
        "file  = open(f\"./artifacts/{study_id}.optuna:{version}/{study_id}.optuna\",'rb')\n",
        "study = pickle.load(file)\n",
        "\n",
        "sampler = study.sampler\n",
        "storage = f\"sqlite:///../{study_id}.db\"\n",
        "\n",
        "study = optuna.load_study(study_name=study_id, storage=storage,sampler=sampler)"
      ]
    },
    {
      "cell_type": "code",
      "execution_count": null,
      "metadata": {
        "tags": [],
        "id": "uG5plnddf5gj"
      },
      "outputs": [],
      "source": [
        "LUT_LABELS = {\"Objective Value\": \"Accuracy\", \"bagging_temperature\": \"Bagging Temp.\", \"depth\":\"Depth\", \"l2_leaf_reg\": \"$\\ell_2$ Leaf Reg.\" , \"learning_rate\" : \"$\\eta$\", \"random_strength\": \"Rand. Str.\", \"\":\"\"}"
      ]
    },
    {
      "cell_type": "code",
      "execution_count": null,
      "metadata": {
        "tags": [],
        "id": "ia3zNhBbf5gk"
      },
      "outputs": [],
      "source": [
        "from typing import Callable\n",
        "from typing import Dict\n",
        "from typing import List\n",
        "from typing import Optional\n",
        "from typing import Sequence\n",
        "from typing import Tuple\n",
        "from typing import Union\n",
        "\n",
        "import numpy as np\n",
        "\n",
        "from optuna._experimental import experimental_func\n",
        "from optuna._imports import try_import\n",
        "from optuna.logging import get_logger\n",
        "from optuna.study import Study\n",
        "from optuna.trial import FrozenTrial\n",
        "from optuna.visualization._contour import _AxisInfo\n",
        "from optuna.visualization._contour import _ContourInfo\n",
        "from optuna.visualization._contour import _get_contour_info\n",
        "from optuna.visualization._contour import _SubContourInfo\n",
        "from optuna.visualization.matplotlib._matplotlib_imports import _imports\n",
        "\n",
        "\n",
        "with try_import() as _optuna_imports:\n",
        "    import scipy\n",
        "\n",
        "if _imports.is_successful():\n",
        "    from optuna.visualization.matplotlib._matplotlib_imports import Axes\n",
        "    from optuna.visualization.matplotlib._matplotlib_imports import Colormap\n",
        "    from optuna.visualization.matplotlib._matplotlib_imports import ContourSet\n",
        "    from optuna.visualization.matplotlib._matplotlib_imports import plt\n",
        "\n",
        "_logger = get_logger(__name__)\n",
        "\n",
        "\n",
        "CONTOUR_POINT_NUM = 100\n",
        "\n",
        "\n",
        "def plot_contour(\n",
        "    study: Study,\n",
        "    params: Optional[List[str]] = None,\n",
        "    *,\n",
        "    target: Optional[Callable[[FrozenTrial], float]] = None,\n",
        "    target_name: str = \"Objective Value\",\n",
        ") -> \"Axes\":\n",
        "    \"\"\"Plot the parameter relationship as contour plot in a study with Matplotlib.\n",
        "\n",
        "    Note that, if a parameter contains missing values, a trial with missing values is not plotted.\n",
        "\n",
        "    .. seealso::\n",
        "        Please refer to :func:`optuna.visualization.plot_contour` for an example.\n",
        "\n",
        "    Warnings:\n",
        "        Output figures of this Matplotlib-based\n",
        "        :func:`~optuna.visualization.matplotlib.plot_contour` function would be different from\n",
        "        those of the Plotly-based :func:`~optuna.visualization.plot_contour`.\n",
        "\n",
        "    Example:\n",
        "\n",
        "        The following code snippet shows how to plot the parameter relationship as contour plot.\n",
        "\n",
        "        .. plot::\n",
        "\n",
        "            import optuna\n",
        "\n",
        "\n",
        "            def objective(trial):\n",
        "                x = trial.suggest_float(\"x\", -100, 100)\n",
        "                y = trial.suggest_categorical(\"y\", [-1, 0, 1])\n",
        "                return x ** 2 + y\n",
        "\n",
        "\n",
        "            sampler = optuna.samplers.TPESampler(seed=10)\n",
        "            study = optuna.create_study(sampler=sampler)\n",
        "            study.optimize(objective, n_trials=30)\n",
        "\n",
        "            optuna.visualization.matplotlib.plot_contour(study, params=[\"x\", \"y\"])\n",
        "\n",
        "    Args:\n",
        "        study:\n",
        "            A :class:`~optuna.study.Study` object whose trials are plotted for their target values.\n",
        "        params:\n",
        "            Parameter list to visualize. The default is all parameters.\n",
        "        target:\n",
        "            A function to specify the value to display. If it is :obj:`None` and ``study`` is being\n",
        "            used for single-objective optimization, the objective values are plotted.\n",
        "\n",
        "            .. note::\n",
        "                Specify this argument if ``study`` is being used for multi-objective optimization.\n",
        "        target_name:\n",
        "            Target's name to display on the color bar.\n",
        "\n",
        "    Returns:\n",
        "        A :class:`matplotlib.axes.Axes` object.\n",
        "\n",
        "    .. note::\n",
        "        The colormap is reversed when the ``target`` argument isn't :obj:`None` or ``direction``\n",
        "        of :class:`~optuna.study.Study` is ``minimize``.\n",
        "    \"\"\"\n",
        "\n",
        "    _imports.check()\n",
        "    info = _get_contour_info(study, params, target, target_name)\n",
        "    return _get_contour_plot(info)\n",
        "\n",
        "\n",
        "\n",
        "def _get_contour_plot(info: _ContourInfo) -> \"Axes\":\n",
        "\n",
        "    sorted_params = info.sorted_params\n",
        "    sub_plot_infos = info.sub_plot_infos\n",
        "    reverse_scale = info.reverse_scale\n",
        "    target_name = info.target_name\n",
        "\n",
        "    if len(sorted_params) <= 1:\n",
        "        _, ax = plt.subplots()\n",
        "        return ax\n",
        "    n_params = len(sorted_params)\n",
        "\n",
        "    if n_params == 2:\n",
        "        # Set up the graph style.\n",
        "        fig, axs = plt.subplots()\n",
        "        cmap = _set_cmap(reverse_scale)\n",
        "\n",
        "        cs = _generate_contour_subplot(sub_plot_infos[0][0], axs, cmap)\n",
        "        if isinstance(cs, ContourSet):\n",
        "            axcb = fig.colorbar(cs)\n",
        "            axcb.set_label(\"Accuracy\")\n",
        "    else:\n",
        "        # Set up the graph style.\n",
        "        fig, axs = plt.subplots(n_params, n_params, figsize=(15 *CM, 15 *CM))\n",
        "        cmap = _set_cmap(reverse_scale)\n",
        "\n",
        "        # Prepare data and draw contour plots.\n",
        "        cs_list = []\n",
        "        for x_i in range(len(sorted_params)):\n",
        "            for y_i in range(len(sorted_params)):\n",
        "                ax = axs[y_i, x_i]\n",
        "                cs = _generate_contour_subplot(sub_plot_infos[y_i][x_i], ax, cmap)\n",
        "                if isinstance(cs, ContourSet):\n",
        "                    cs_list.append(cs)\n",
        "        if cs_list:\n",
        "            axcb = fig.colorbar(cs_list[0], ax=axs, aspect=50)\n",
        "            axcb.set_label(\"Accuracy\")\n",
        "\n",
        "    return axs\n",
        "\n",
        "\n",
        "def _set_cmap(reverse_scale: bool) -> \"Colormap\":\n",
        "    cmap = \"Blues_r\" if not reverse_scale else \"Blues\"\n",
        "    return plt.get_cmap(cmap)\n",
        "\n",
        "\n",
        "class _LabelEncoder:\n",
        "    def __init__(self) -> None:\n",
        "        self.labels: List[str] = []\n",
        "\n",
        "    def fit(self, labels: List[str]) -> \"_LabelEncoder\":\n",
        "        self.labels = sorted(set(labels))\n",
        "        return self\n",
        "\n",
        "    def transform(self, labels: List[str]) -> List[int]:\n",
        "        return [self.labels.index(label) for label in labels]\n",
        "\n",
        "    def fit_transform(self, labels: List[str]) -> List[int]:\n",
        "        return self.fit(labels).transform(labels)\n",
        "\n",
        "    def get_labels(self) -> List[str]:\n",
        "        return self.labels\n",
        "\n",
        "    def get_indices(self) -> List[int]:\n",
        "        return list(range(len(self.labels)))\n",
        "\n",
        "\n",
        "def _calculate_griddata(\n",
        "    xaxis: _AxisInfo,\n",
        "    yaxis: _AxisInfo,\n",
        "    z_values_dict: Dict[Tuple[int, int], float],\n",
        ") -> Tuple[\n",
        "    np.ndarray,\n",
        "    np.ndarray,\n",
        "    np.ndarray,\n",
        "    List[int],\n",
        "    List[str],\n",
        "    List[int],\n",
        "    List[str],\n",
        "    List[Union[int, float]],\n",
        "    List[Union[int, float]],\n",
        "    List[Union[int, float]],\n",
        "]:\n",
        "\n",
        "    x_values = []\n",
        "    y_values = []\n",
        "    z_values = []\n",
        "    for x_value, y_value in zip(xaxis.values, yaxis.values):\n",
        "        if x_value is not None and y_value is not None:\n",
        "            x_values.append(x_value)\n",
        "            y_values.append(y_value)\n",
        "            x_i = xaxis.indices.index(x_value)\n",
        "            y_i = yaxis.indices.index(y_value)\n",
        "            z_values.append(z_values_dict[(x_i, y_i)])\n",
        "\n",
        "    # Return empty values when x or y has no value.\n",
        "    if len(x_values) == 0 or len(y_values) == 0:\n",
        "        return np.array([]), np.array([]), np.array([]), [], [], [], [], [], []\n",
        "\n",
        "    def _calculate_axis_data(\n",
        "        axis: _AxisInfo,\n",
        "        values: Sequence[Union[str, float]],\n",
        "    ) -> Tuple[np.ndarray, List[str], List[int], List[Union[int, float]]]:\n",
        "\n",
        "        # Convert categorical values to int.\n",
        "        cat_param_labels = []  # type: List[str]\n",
        "        cat_param_pos = []  # type: List[int]\n",
        "        returned_values: Sequence[Union[int, float]]\n",
        "        if axis.is_cat:\n",
        "            enc = _LabelEncoder()\n",
        "            returned_values = enc.fit_transform(list(map(str, values)))\n",
        "            cat_param_labels = enc.get_labels()\n",
        "            cat_param_pos = enc.get_indices()\n",
        "        else:\n",
        "            returned_values = list(map(lambda x: float(x), values))\n",
        "\n",
        "        # For x and y, create 1-D array of evenly spaced coordinates on linear or log scale.\n",
        "        if axis.is_log:\n",
        "            ci = np.logspace(np.log10(axis.range[0]), np.log10(axis.range[1]), CONTOUR_POINT_NUM)\n",
        "        else:\n",
        "            ci = np.linspace(axis.range[0], axis.range[1], CONTOUR_POINT_NUM)\n",
        "\n",
        "        return ci, cat_param_labels, cat_param_pos, list(returned_values)\n",
        "\n",
        "    xi, cat_param_labels_x, cat_param_pos_x, transformed_x_values = _calculate_axis_data(\n",
        "        xaxis,\n",
        "        x_values,\n",
        "    )\n",
        "    yi, cat_param_labels_y, cat_param_pos_y, transformed_y_values = _calculate_axis_data(\n",
        "        yaxis,\n",
        "        y_values,\n",
        "    )\n",
        "\n",
        "    # Calculate grid data points.\n",
        "    zi: np.ndarray = np.array([])\n",
        "    # Create irregularly spaced map of trial values\n",
        "    # and interpolate it with Plotly's interpolation formulation.\n",
        "    if xaxis.name != yaxis.name:\n",
        "        zmap = _create_zmap(transformed_x_values, transformed_y_values, z_values, xi, yi)\n",
        "        zi = _interpolate_zmap(zmap, CONTOUR_POINT_NUM)\n",
        "\n",
        "    return (\n",
        "        xi,\n",
        "        yi,\n",
        "        zi,\n",
        "        cat_param_pos_x,\n",
        "        cat_param_labels_x,\n",
        "        cat_param_pos_y,\n",
        "        cat_param_labels_y,\n",
        "        transformed_x_values,\n",
        "        transformed_y_values,\n",
        "        z_values,\n",
        "    )\n",
        "\n",
        "\n",
        "def _generate_contour_subplot(info: _SubContourInfo, ax: \"Axes\", cmap: \"Colormap\") -> \"ContourSet\":\n",
        "\n",
        "    if len(info.xaxis.indices) < 2 or len(info.yaxis.indices) < 2:\n",
        "        ax.label_outer()\n",
        "        return ax\n",
        "\n",
        "    # replace with lut values\n",
        "    ax.set(xlabel=LUT_LABELS[info.xaxis.name], ylabel=LUT_LABELS[info.yaxis.name])\n",
        "    ax.set_xlim(info.xaxis.range[0], info.xaxis.range[1])\n",
        "    ax.set_ylim(info.yaxis.range[0], info.yaxis.range[1])\n",
        "\n",
        "    ax.tick_params(axis='both', which='major', labelsize=\"small\")\n",
        "    # ax.tick_params(axis='both', which='minor', labelsize=\"x-small\")\n",
        "    \n",
        "    if info.xaxis.name == info.yaxis.name:\n",
        "        ax.label_outer()\n",
        "        return ax\n",
        "\n",
        "    (\n",
        "        xi,\n",
        "        yi,\n",
        "        zi,\n",
        "        x_cat_param_pos,\n",
        "        x_cat_param_label,\n",
        "        y_cat_param_pos,\n",
        "        y_cat_param_label,\n",
        "        x_values,\n",
        "        y_values,\n",
        "        z_values,\n",
        "    ) = _calculate_griddata(info.xaxis, info.yaxis, info.z_values)\n",
        "    \n",
        "    # https://stackoverflow.com/a/55929839/5755604\n",
        "    max_value = max(z_values)\n",
        "    order = np.argsort(z_values)\n",
        "#             print(order)\n",
        "#             print(np.take(x_values, order))\n",
        "            \n",
        "#             print(np.arrange(x_values[order]))\n",
        "            \n",
        "    colors = ['black' if z < max_value else 'white' for z in z_values]\n",
        "            # marker = [\"o\" if z != max_value else \"x\" for z in z_values]\n",
        "    x_values = np.take(x_values, order)\n",
        "    y_values = np.take(y_values, order)\n",
        "    colors = np.take(colors, order)\n",
        "    \n",
        "    # print(x_values)\n",
        "    \n",
        "    cs = None\n",
        "    if len(zi) > 0:\n",
        "        if info.xaxis.is_log:\n",
        "            ax.set_xscale(\"log\")\n",
        "            ax.tick_params(axis='x', which='major', labelsize=\"xx-small\")\n",
        "        if info.yaxis.is_log:\n",
        "            ax.set_yscale(\"log\")\n",
        "            ax.tick_params(axis='y', which='major', labelsize=\"xx-small\")\n",
        "        if info.xaxis.name != info.yaxis.name:\n",
        "            # Contour the gridded data.\n",
        "            ax.contour(xi, yi, zi, 15, linewidths=0.5, colors=\"k\")\n",
        "            cs = ax.contourf(xi, yi, zi, 15, cmap=cmap.reversed())\n",
        "            # Plot data points.\n",
        "\n",
        "            ax.scatter(\n",
        "                x_values,\n",
        "                y_values,\n",
        "                marker=\"o\",\n",
        "                c=colors,\n",
        "                s=10,\n",
        "                edgecolors=\"grey\",\n",
        "                linewidth=0.5,\n",
        "            )\n",
        "    if info.xaxis.is_cat:\n",
        "        ax.set_xticks(x_cat_param_pos)\n",
        "        ax.set_xticklabels(x_cat_param_label)\n",
        "    if info.yaxis.is_cat:\n",
        "        ax.set_yticks(y_cat_param_pos)\n",
        "        ax.set_yticklabels(y_cat_param_label)\n",
        "    ax.label_outer()\n",
        "    return cs\n",
        "\n",
        "\n",
        "def _create_zmap(\n",
        "    x_values: List[Union[int, float]],\n",
        "    y_values: List[Union[int, float]],\n",
        "    z_values: List[float],\n",
        "    xi: np.ndarray,\n",
        "    yi: np.ndarray,\n",
        ") -> Dict[Tuple[int, int], float]:\n",
        "\n",
        "    # Creates z-map from trial values and params.\n",
        "    # z-map is represented by hashmap of coordinate and trial value pairs.\n",
        "    #\n",
        "    # Coordinates are represented by tuple of integers, where the first item\n",
        "    # indicates x-axis index and the second item indicates y-axis index\n",
        "    # and refer to a position of trial value on irregular param grid.\n",
        "    #\n",
        "    # Since params were resampled either with linspace or logspace\n",
        "    # original params might not be on the x and y axes anymore\n",
        "    # so we are going with close approximations of trial value positions.\n",
        "    zmap = dict()\n",
        "    for x, y, z in zip(x_values, y_values, z_values):\n",
        "        xindex = int(np.argmin(np.abs(xi - x)))\n",
        "        yindex = int(np.argmin(np.abs(yi - y)))\n",
        "        zmap[(xindex, yindex)] = z\n",
        "\n",
        "    return zmap\n",
        "\n",
        "\n",
        "def _interpolate_zmap(zmap: Dict[Tuple[int, int], float], contour_plot_num: int) -> np.ndarray:\n",
        "\n",
        "    # Implements interpolation formulation used in Plotly\n",
        "    # to interpolate heatmaps and contour plots\n",
        "    # https://github.com/plotly/plotly.js/blob/95b3bd1bb19d8dc226627442f8f66bce9576def8/src/traces/heatmap/interp2d.js#L15-L20\n",
        "    # citing their doc:\n",
        "    #\n",
        "    # > Fill in missing data from a 2D array using an iterative\n",
        "    # > poisson equation solver with zero-derivative BC at edges.\n",
        "    # > Amazingly, this just amounts to repeatedly averaging all the existing\n",
        "    # > nearest neighbors\n",
        "    #\n",
        "    # Plotly's algorithm is equivalent to solve the following linear simultaneous equation.\n",
        "    # It is discretization form of the Poisson equation.\n",
        "    #\n",
        "    #     z[x, y] = zmap[(x, y)]                                  (if zmap[(x, y)] is given)\n",
        "    # 4 * z[x, y] = z[x-1, y] + z[x+1, y] + z[x, y-1] + z[x, y+1] (if zmap[(x, y)] is not given)\n",
        "\n",
        "    a_data = []\n",
        "    a_row = []\n",
        "    a_col = []\n",
        "    b = np.zeros(contour_plot_num**2)\n",
        "    for x in range(contour_plot_num):\n",
        "        for y in range(contour_plot_num):\n",
        "            grid_index = y * contour_plot_num + x\n",
        "            if (x, y) in zmap:\n",
        "                a_data.append(1)\n",
        "                a_row.append(grid_index)\n",
        "                a_col.append(grid_index)\n",
        "                b[grid_index] = zmap[(x, y)]\n",
        "            else:\n",
        "                for dx, dy in ((-1, 0), (1, 0), (0, -1), (0, 1)):\n",
        "                    if 0 <= x + dx < contour_plot_num and 0 <= y + dy < contour_plot_num:\n",
        "                        a_data.append(1)\n",
        "                        a_row.append(grid_index)\n",
        "                        a_col.append(grid_index)\n",
        "                        a_data.append(-1)\n",
        "                        a_row.append(grid_index)\n",
        "                        a_col.append(grid_index + dy * contour_plot_num + dx)\n",
        "\n",
        "    z = scipy.sparse.linalg.spsolve(scipy.sparse.csc_matrix((a_data, (a_row, a_col))), b)\n",
        "\n",
        "    return z.reshape((contour_plot_num, contour_plot_num))"
      ]
    },
    {
      "cell_type": "code",
      "execution_count": null,
      "metadata": {
        "tags": [],
        "id": "zfsZaU3Af5gl"
      },
      "outputs": [],
      "source": [
        "axes = plot_contour(study)\n",
        "plt.savefig(f\"../reports/Graphs/{study_id}-hyperparam-search-space.pdf\", bbox_inches=\"tight\")"
      ]
    },
    {
      "cell_type": "markdown",
      "metadata": {
        "id": "roRmlg_nf5gl"
      },
      "source": [
        "## Training and Validation Loss of GBM"
      ]
    },
    {
      "cell_type": "code",
      "execution_count": null,
      "metadata": {
        "tags": [],
        "id": "1aJWetuuf5gm"
      },
      "outputs": [],
      "source": [
        "run = wandb.init(project=\"thesis\", entity=\"fbv\")\n",
        "\n",
        "model = \"3laathab_CatBoostClassifier_default.cbm:v7\"\n",
        "\n",
        "model_name = model.split(\"/\")[-1].split(\":\")[0]\n",
        "study_id = model_name.split(\"_\")[0]\n",
        "\n",
        "artifact = run.use_artifact(model)\n",
        "model_dir = artifact.download()"
      ]
    },
    {
      "cell_type": "code",
      "execution_count": null,
      "metadata": {
        "tags": [],
        "id": "i6BsBFvcf5gm"
      },
      "outputs": [],
      "source": [
        "# visualize learning curves\n",
        "with open(Path(model_dir,model_name[:-4]+\"_training.json\"), 'r') as j:\n",
        "     contents = json.loads(j.read())\n",
        "    \n",
        "# extract relevant keys\n",
        "iterations = contents.get(\"iterations\")\n",
        "test_metrics = [d['name'] for d in contents['meta']['test_metrics'] ]\n",
        "test_results = [d['test'] for d in iterations]\n",
        "learn_metrics = [d['name'] for d in contents['meta']['learn_metrics'] ]\n",
        "learn_results = [d['learn'] for d in iterations]\n",
        "\n",
        "metrics_learn = pd.DataFrame(learn_results, columns=learn_metrics).add_suffix(\" (train)\")\n",
        "metrics_test = pd.DataFrame(test_results, columns=test_metrics).add_suffix(\" (val)\")\n",
        "\n",
        "learning_metrics = pd.concat([metrics_learn, metrics_test], axis=1)"
      ]
    },
    {
      "cell_type": "code",
      "source": [
        "# viz transformer\n",
        "run = wandb.init(project=\"thesis\", entity=\"fbv\")\n",
        "\n",
        "model = \"fbv/thesis/viz_fttransformer:latest\"\n",
        "\n",
        "artifact = run.use_artifact(model)\n",
        "model_dir = artifact.download()\n",
        "\n",
        "learning_metrics = pd.read_parquet(Path(model_dir, \"results\"))"
      ],
      "metadata": {
        "colab": {
          "base_uri": "https://localhost:8080/",
          "height": 292,
          "referenced_widgets": [
            "ec1c65e7c8724950adb42599d71f0fb5",
            "5d33952b2c21408ea3fc487d728544cc",
            "3eb75b0338134349a141b6a9b6e71ab3",
            "01bde722a4664c489431f550801c1474",
            "43451dab996f493280e12cc41726d48e",
            "79256c57048c4e239671ecff98899bea",
            "e4518267516c4ceeb1bbb2310ec212e8",
            "6f15d2b0da34489187c971f75d9baec5"
          ]
        },
        "id": "1UBq2BTQg0jl",
        "outputId": "1e255a66-5d37-4936-9d28-ad248e954fac"
      },
      "execution_count": 66,
      "outputs": [
        {
          "output_type": "display_data",
          "data": {
            "text/plain": [
              "<IPython.core.display.HTML object>"
            ],
            "text/html": [
              "Finishing last run (ID:8h38e8rc) before initializing another..."
            ]
          },
          "metadata": {}
        },
        {
          "output_type": "display_data",
          "data": {
            "text/plain": [
              "<IPython.core.display.HTML object>"
            ],
            "text/html": [
              "Waiting for W&B process to finish... <strong style=\"color:green\">(success).</strong>"
            ]
          },
          "metadata": {}
        },
        {
          "output_type": "display_data",
          "data": {
            "text/plain": [
              "VBox(children=(Label(value='0.001 MB of 0.001 MB uploaded (0.000 MB deduped)\\r'), FloatProgress(value=1.0, max…"
            ],
            "application/vnd.jupyter.widget-view+json": {
              "version_major": 2,
              "version_minor": 0,
              "model_id": "ec1c65e7c8724950adb42599d71f0fb5"
            }
          },
          "metadata": {}
        },
        {
          "output_type": "display_data",
          "data": {
            "text/plain": [
              "<IPython.core.display.HTML object>"
            ],
            "text/html": [
              " View run <strong style=\"color:#cdcd00\">worthy-universe-1500</strong> at: <a href='https://wandb.ai/fbv/thesis/runs/8h38e8rc' target=\"_blank\">https://wandb.ai/fbv/thesis/runs/8h38e8rc</a><br/>Synced 5 W&B file(s), 0 media file(s), 0 artifact file(s) and 0 other file(s)"
            ]
          },
          "metadata": {}
        },
        {
          "output_type": "display_data",
          "data": {
            "text/plain": [
              "<IPython.core.display.HTML object>"
            ],
            "text/html": [
              "Find logs at: <code>./wandb/run-20230506_063040-8h38e8rc/logs</code>"
            ]
          },
          "metadata": {}
        },
        {
          "output_type": "display_data",
          "data": {
            "text/plain": [
              "<IPython.core.display.HTML object>"
            ],
            "text/html": [
              "Successfully finished last run (ID:8h38e8rc). Initializing new run:<br/>"
            ]
          },
          "metadata": {}
        },
        {
          "output_type": "display_data",
          "data": {
            "text/plain": [
              "<IPython.core.display.HTML object>"
            ],
            "text/html": [
              "Tracking run with wandb version 0.15.2"
            ]
          },
          "metadata": {}
        },
        {
          "output_type": "display_data",
          "data": {
            "text/plain": [
              "<IPython.core.display.HTML object>"
            ],
            "text/html": [
              "Run data is saved locally in <code>/content/wandb/run-20230506_063146-zxjolobq</code>"
            ]
          },
          "metadata": {}
        },
        {
          "output_type": "display_data",
          "data": {
            "text/plain": [
              "<IPython.core.display.HTML object>"
            ],
            "text/html": [
              "Syncing run <strong><a href='https://wandb.ai/fbv/thesis/runs/zxjolobq' target=\"_blank\">splendid-glade-1501</a></strong> to <a href='https://wandb.ai/fbv/thesis' target=\"_blank\">Weights & Biases</a> (<a href='https://wandb.me/run' target=\"_blank\">docs</a>)<br/>"
            ]
          },
          "metadata": {}
        },
        {
          "output_type": "display_data",
          "data": {
            "text/plain": [
              "<IPython.core.display.HTML object>"
            ],
            "text/html": [
              " View project at <a href='https://wandb.ai/fbv/thesis' target=\"_blank\">https://wandb.ai/fbv/thesis</a>"
            ]
          },
          "metadata": {}
        },
        {
          "output_type": "display_data",
          "data": {
            "text/plain": [
              "<IPython.core.display.HTML object>"
            ],
            "text/html": [
              " View run at <a href='https://wandb.ai/fbv/thesis/runs/zxjolobq' target=\"_blank\">https://wandb.ai/fbv/thesis/runs/zxjolobq</a>"
            ]
          },
          "metadata": {}
        },
        {
          "output_type": "stream",
          "name": "stderr",
          "text": [
            "\u001b[34m\u001b[1mwandb\u001b[0m:   1 of 1 files downloaded.  \n"
          ]
        }
      ]
    },
    {
      "cell_type": "code",
      "source": [
        "loss_default = learning_metrics[[\"default_train_loss\", \"activation_train_loss\"]].dropna().reset_index(drop=True)\n",
        "loss_default.plot()"
      ],
      "metadata": {
        "colab": {
          "base_uri": "https://localhost:8080/",
          "height": 446
        },
        "id": "3UZwQK-Ah9n_",
        "outputId": "b6f15f3d-1712-4860-d7c1-39c9729923c6"
      },
      "execution_count": 74,
      "outputs": [
        {
          "output_type": "execute_result",
          "data": {
            "text/plain": [
              "<Axes: >"
            ]
          },
          "metadata": {},
          "execution_count": 74
        },
        {
          "output_type": "display_data",
          "data": {
            "text/plain": [
              "<Figure size 640x480 with 1 Axes>"
            ],
            "image/png": "[encoded data removed]"
          },
          "metadata": {}
        }
      ]
    },
    {
      "cell_type": "code",
      "source": [
        "# viz gradient boosting\n",
        "run = wandb.init(project=\"thesis\", entity=\"fbv\")\n",
        "model = \"exp_weighting:v0\"\n",
        "\n",
        "artifact = run.use_artifact(model)\n",
        "model_dir = artifact.download()"
      ],
      "metadata": {
        "id": "FNsp-_q3yEO0"
      },
      "execution_count": null,
      "outputs": []
    },
    {
      "cell_type": "code",
      "execution_count": null,
      "metadata": {
        "tags": [],
        "id": "IILG4fssf5gn"
      },
      "outputs": [],
      "source": [
        "fig, (ax2, ax1) = plt.subplots(2, 1, figsize=(12*CM,8*CM), sharex=True)\n",
        "\n",
        "# plot accuracy\n",
        "ax1.plot(learning_metrics.index,learning_metrics[\"default_learn_acc\"],'--', label=\"Accuracy (Train)\", linewidth=1)\n",
        "ax1.plot(learning_metrics.index,learning_metrics[\"default_val_acc\"],'--', label=\"Accuracy (Val)\",linewidth=1)\n",
        "ax1.yaxis.set_major_formatter(PercentFormatter(1.0,decimals=2))\n",
        "ax1.set_ylabel(\"Accuracy\")\n",
        "ax1.xaxis.set_major_formatter(StrMethodFormatter('{x:,.0f}'))\n",
        "# ax1.set_ylim(0.57, 0.8)\n",
        "ax1.set_xlabel(\"Iterations\")\n",
        "\n",
        "# plot log loss\n",
        "ax2.plot(learning_metrics.index,learning_metrics[\"default_learn_log\"], label=\"Log Loss (Train)\",linewidth=1)    \n",
        "ax2.plot(learning_metrics.index,learning_metrics[\"default_val_log\"], label=\"Log Loss (Val)\",linewidth=1)   \n",
        "ax2.set_ylabel(\"Log Loss\")\n",
        "# ax2.set_ylim(0.5, 0.7)\n",
        "\n",
        "plt.tight_layout()\n",
        "ax1.legend(frameon=False, loc='upper right')\n",
        "ax2.legend(frameon=False, loc='upper right')\n",
        "\n",
        "plt.savefig(f\"../reports/Graphs/gbm-train-val-loss-acc.pdf\", bbox_inches=\"tight\")"
      ]
    },
    {
      "cell_type": "code",
      "execution_count": null,
      "metadata": {
        "id": "9bzql0oSf5gn"
      },
      "outputs": [],
      "source": [
        "fig, (ax2, ax1) = plt.subplots(2, 1, figsize=(12*CM,8*CM), sharex=True)\n",
        "\n",
        "# [\"default\", \"depth\", \"early_stopping\", \"border_count\", \"grow_policy\", \"exp_weighting\"]\n",
        "\n",
        "# plot accuracy\n",
        "ax1.plot(learning_metrics.index,learning_metrics[\"default_val_acc\"],'--', label=\"default\", linewidth=1, zorder=100)\n",
        "ax1.plot(learning_metrics.index,learning_metrics[\"early_stopping_val_acc\"],'--', label=\"early stopping\", linewidth=1)\n",
        "ax1.plot(learning_metrics.index,learning_metrics[\"grow_policy_val_acc\"],'--', label=\"grow policy\", linewidth=1)\n",
        "ax1.plot(learning_metrics.index,learning_metrics[\"exp_weighting_val_acc\"],'--', label=\"sample weighting\", linewidth=1)\n",
        "\n",
        "ax1.yaxis.set_major_formatter(PercentFormatter(1.0,decimals=2))\n",
        "ax1.set_ylabel(\"Accuracy (Val)\")\n",
        "ax1.xaxis.set_major_formatter(StrMethodFormatter('{x:,.0f}'))\n",
        "ax1.set_ylim(0.57, 0.64)\n",
        "ax1.set_xlabel(\"Iterations\")\n",
        "\n",
        "# plot log loss\n",
        "ax2.plot(learning_metrics.index,learning_metrics[\"default_val_log\"], label=\"default\", linewidth=1, zorder=100)\n",
        "ax2.plot(learning_metrics.index,learning_metrics[\"early_stopping_val_log\"], label=\"early stopping\", linewidth=1)\n",
        "ax2.plot(learning_metrics.index,learning_metrics[\"grow_policy_val_log\"], label=\"grow policy\", linewidth=1)\n",
        "ax2.plot(learning_metrics.index,learning_metrics[\"exp_weighting_val_log\"], label=\"sample weighting\", linewidth=1)\n",
        "ax2.set_ylabel(\"Log Loss (Val)\")\n",
        "ax2.set_ylim(0.55, 0.7)\n",
        "\n",
        "plt.tight_layout()\n",
        "ax1.legend(frameon=False, loc='lower right')\n",
        "ax2.legend(frameon=False, loc='lower right')\n",
        "\n",
        "plt.savefig(f\"../reports/Graphs/gbm-optimisations-loss-acc.pdf\", bbox_inches=\"tight\")"
      ]
    }
  ],
  "metadata": {
    "colab": {
      "provenance": []
    },
    "kernelspec": {
      "display_name": "Python 3",
      "language": "python",
      "name": "python3"
    },
    "language_info": {
      "codemirror_mode": {
        "name": "ipython",
        "version": 3
      },
      "file_extension": ".py",
      "mimetype": "text/x-python",
      "name": "python",
      "nbconvert_exporter": "python",
      "pygments_lexer": "ipython3",
      "version": "3.9.4"
    },
    "widgets": {
      "application/vnd.jupyter.widget-state+json": {
        "ec1c65e7c8724950adb42599d71f0fb5": {
          "model_module": "@jupyter-widgets/controls",
          "model_name": "VBoxModel",
          "model_module_version": "1.5.0",
          "state": {
            "_dom_classes": [],
            "_model_module": "@jupyter-widgets/controls",
            "_model_module_version": "1.5.0",
            "_model_name": "VBoxModel",
            "_view_count": null,
            "_view_module": "@jupyter-widgets/controls",
            "_view_module_version": "1.5.0",
            "_view_name": "VBoxView",
            "box_style": "",
            "children": [
              "IPY_MODEL_5d33952b2c21408ea3fc487d728544cc",
              "IPY_MODEL_3eb75b0338134349a141b6a9b6e71ab3"
            ],
            "layout": "IPY_MODEL_01bde722a4664c489431f550801c1474"
          }
        },
        "5d33952b2c21408ea3fc487d728544cc": {
          "model_module": "@jupyter-widgets/controls",
          "model_name": "LabelModel",
          "model_module_version": "1.5.0",
          "state": {
            "_dom_classes": [],
            "_model_module": "@jupyter-widgets/controls",
            "_model_module_version": "1.5.0",
            "_model_name": "LabelModel",
            "_view_count": null,
            "_view_module": "@jupyter-widgets/controls",
            "_view_module_version": "1.5.0",
            "_view_name": "LabelView",
            "description": "",
            "description_tooltip": null,
            "layout": "IPY_MODEL_43451dab996f493280e12cc41726d48e",
            "placeholder": "​",
            "style": "IPY_MODEL_79256c57048c4e239671ecff98899bea",
            "value": "0.001 MB of 0.001 MB uploaded (0.000 MB deduped)\r"
          }
        },
        "3eb75b0338134349a141b6a9b6e71ab3": {
          "model_module": "@jupyter-widgets/controls",
          "model_name": "FloatProgressModel",
          "model_module_version": "1.5.0",
          "state": {
            "_dom_classes": [],
            "_model_module": "@jupyter-widgets/controls",
            "_model_module_version": "1.5.0",
            "_model_name": "FloatProgressModel",
            "_view_count": null,
            "_view_module": "@jupyter-widgets/controls",
            "_view_module_version": "1.5.0",
            "_view_name": "ProgressView",
            "bar_style": "",
            "description": "",
            "description_tooltip": null,
            "layout": "IPY_MODEL_e4518267516c4ceeb1bbb2310ec212e8",
            "max": 1,
            "min": 0,
            "orientation": "horizontal",
            "style": "IPY_MODEL_6f15d2b0da34489187c971f75d9baec5",
            "value": 1
          }
        },
        "01bde722a4664c489431f550801c1474": {
          "model_module": "@jupyter-widgets/base",
          "model_name": "LayoutModel",
          "model_module_version": "1.2.0",
          "state": {
            "_model_module": "@jupyter-widgets/base",
            "_model_module_version": "1.2.0",
            "_model_name": "LayoutModel",
            "_view_count": null,
            "_view_module": "@jupyter-widgets/base",
            "_view_module_version": "1.2.0",
            "_view_name": "LayoutView",
            "align_content": null,
            "align_items": null,
            "align_self": null,
            "border": null,
            "bottom": null,
            "display": null,
            "flex": null,
            "flex_flow": null,
            "grid_area": null,
            "grid_auto_columns": null,
            "grid_auto_flow": null,
            "grid_auto_rows": null,
            "grid_column": null,
            "grid_gap": null,
            "grid_row": null,
            "grid_template_areas": null,
            "grid_template_columns": null,
            "grid_template_rows": null,
            "height": null,
            "justify_content": null,
            "justify_items": null,
            "left": null,
            "margin": null,
            "max_height": null,
            "max_width": null,
            "min_height": null,
            "min_width": null,
            "object_fit": null,
            "object_position": null,
            "order": null,
            "overflow": null,
            "overflow_x": null,
            "overflow_y": null,
            "padding": null,
            "right": null,
            "top": null,
            "visibility": null,
            "width": null
          }
        },
        "43451dab996f493280e12cc41726d48e": {
          "model_module": "@jupyter-widgets/base",
          "model_name": "LayoutModel",
          "model_module_version": "1.2.0",
          "state": {
            "_model_module": "@jupyter-widgets/base",
            "_model_module_version": "1.2.0",
            "_model_name": "LayoutModel",
            "_view_count": null,
            "_view_module": "@jupyter-widgets/base",
            "_view_module_version": "1.2.0",
            "_view_name": "LayoutView",
            "align_content": null,
            "align_items": null,
            "align_self": null,
            "border": null,
            "bottom": null,
            "display": null,
            "flex": null,
            "flex_flow": null,
            "grid_area": null,
            "grid_auto_columns": null,
            "grid_auto_flow": null,
            "grid_auto_rows": null,
            "grid_column": null,
            "grid_gap": null,
            "grid_row": null,
            "grid_template_areas": null,
            "grid_template_columns": null,
            "grid_template_rows": null,
            "height": null,
            "justify_content": null,
            "justify_items": null,
            "left": null,
            "margin": null,
            "max_height": null,
            "max_width": null,
            "min_height": null,
            "min_width": null,
            "object_fit": null,
            "object_position": null,
            "order": null,
            "overflow": null,
            "overflow_x": null,
            "overflow_y": null,
            "padding": null,
            "right": null,
            "top": null,
            "visibility": null,
            "width": null
          }
        },
        "79256c57048c4e239671ecff98899bea": {
          "model_module": "@jupyter-widgets/controls",
          "model_name": "DescriptionStyleModel",
          "model_module_version": "1.5.0",
          "state": {
            "_model_module": "@jupyter-widgets/controls",
            "_model_module_version": "1.5.0",
            "_model_name": "DescriptionStyleModel",
            "_view_count": null,
            "_view_module": "@jupyter-widgets/base",
            "_view_module_version": "1.2.0",
            "_view_name": "StyleView",
            "description_width": ""
          }
        },
        "e4518267516c4ceeb1bbb2310ec212e8": {
          "model_module": "@jupyter-widgets/base",
          "model_name": "LayoutModel",
          "model_module_version": "1.2.0",
          "state": {
            "_model_module": "@jupyter-widgets/base",
            "_model_module_version": "1.2.0",
            "_model_name": "LayoutModel",
            "_view_count": null,
            "_view_module": "@jupyter-widgets/base",
            "_view_module_version": "1.2.0",
            "_view_name": "LayoutView",
            "align_content": null,
            "align_items": null,
            "align_self": null,
            "border": null,
            "bottom": null,
            "display": null,
            "flex": null,
            "flex_flow": null,
            "grid_area": null,
            "grid_auto_columns": null,
            "grid_auto_flow": null,
            "grid_auto_rows": null,
            "grid_column": null,
            "grid_gap": null,
            "grid_row": null,
            "grid_template_areas": null,
            "grid_template_columns": null,
            "grid_template_rows": null,
            "height": null,
            "justify_content": null,
            "justify_items": null,
            "left": null,
            "margin": null,
            "max_height": null,
            "max_width": null,
            "min_height": null,
            "min_width": null,
            "object_fit": null,
            "object_position": null,
            "order": null,
            "overflow": null,
            "overflow_x": null,
            "overflow_y": null,
            "padding": null,
            "right": null,
            "top": null,
            "visibility": null,
            "width": null
          }
        },
        "6f15d2b0da34489187c971f75d9baec5": {
          "model_module": "@jupyter-widgets/controls",
          "model_name": "ProgressStyleModel",
          "model_module_version": "1.5.0",
          "state": {
            "_model_module": "@jupyter-widgets/controls",
            "_model_module_version": "1.5.0",
            "_model_name": "ProgressStyleModel",
            "_view_count": null,
            "_view_module": "@jupyter-widgets/base",
            "_view_module_version": "1.2.0",
            "_view_name": "StyleView",
            "bar_color": null,
            "description_width": ""
          }
        }
      }
    }
  },
  "nbformat": 4,
  "nbformat_minor": 0
}