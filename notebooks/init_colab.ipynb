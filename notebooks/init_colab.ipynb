{
  "cells": [
    {
      "cell_type": "markdown",
      "metadata": {
        "colab_type": "text",
        "id": "view-in-github"
      },
      "source": [
        "<a href=\"https://colab.research.google.com/github/KarelZe/seminar-ml-stocks-with-options/blob/main/init_colab.ipynb\" target=\"_parent\"><img src=\"https://colab.research.google.com/assets/colab-badge.svg\" alt=\"Open In Colab\"/></a>"
      ]
    },
    {
      "cell_type": "code",
      "execution_count": null,
      "metadata": {
        "colab": {
          "base_uri": "https://localhost:8080/"
        },
        "id": "tOtLR4B0R-ql",
        "outputId": "e89bde49-7b4b-4f61-ddab-acb073579aec"
      },
      "outputs": [],
      "source": [
        "from google.colab import drive\n",
        "drive.mount(\"/content/drive\")"
      ]
    },
    {
      "cell_type": "code",
      "execution_count": null,
      "metadata": {
        "colab": {
          "base_uri": "https://localhost:8080/",
          "height": 312
        },
        "id": "4qXS1TPPOZdw",
        "outputId": "74e6ae07-cb1d-439b-9837-4e311acdd235"
      },
      "outputs": [],
      "source": [
        "# Install colab_ssh on google colab\n",
        "!pip install colab_ssh --upgrade\n",
        "!pip install python-dotenv --quiet\n",
        "\n",
        "import dotenv\n",
        "import os\n",
        "from colab_ssh import launch_ssh, init_git\n",
        "\n",
        "dotenv.load_dotenv(\n",
        "        os.path.join('/content/drive/MyDrive/vscode-ssh', '.env')\n",
        ")\n",
        "\n",
        "username = os.getenv('USERNAME')\n",
        "password = os.getenv('PASSWORD')\n",
        "email = os.getenv('EMAIL')\n",
        "github_token = os.getenv('GITHUB_TOKEN')\n",
        "ngrok_token = os.getenv('NGROK_TOKEN')\n",
        "\n",
        "launch_ssh(ngrok_token,password)\n",
        "\n",
        "github_url = \"https://github.com/KarelZe/thesis.git\"\n",
        "init_git(github_url,personal_token=github_token, email=email,username=username)"
      ]
    },
    {
      "cell_type": "code",
      "execution_count": null,
      "metadata": {},
      "outputs": [],
      "source": [
        "# prevent time out.\n",
        "while True: pass"
      ]
    }
  ],
  "metadata": {
    "colab": {
      "authorship_tag": "ABX9TyO8EH+KKPnuZ1nO0fAutcSy",
      "include_colab_link": true,
      "name": "Untitled2.ipynb",
      "provenance": []
    },
    "kernelspec": {
      "display_name": "Python 3",
      "name": "python3"
    },
    "language_info": {
      "name": "python"
    }
  },
  "nbformat": 4,
  "nbformat_minor": 0
}
