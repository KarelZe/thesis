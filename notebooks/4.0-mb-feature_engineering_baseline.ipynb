{
  "cells": [
    {
      "cell_type": "markdown",
      "metadata": {
        "id": "view-in-github",
        "colab_type": "text"
      },
      "source": [
        "<a href=\"https://colab.research.google.com/github/KarelZe/thesis/blob/baseline/notebooks/3.0-mb-feature_engineering_baseline.ipynb\" target=\"_parent\"><img src=\"https://colab.research.google.com/assets/colab-badge.svg\" alt=\"Open In Colab\"/></a>"
      ]
    },
    {
      "cell_type": "code",
      "execution_count": null,
      "metadata": {
        "colab": {
          "base_uri": "https://localhost:8080/"
        },
        "id": "LQwYMQAr-0vu",
        "outputId": "96b4428a-8363-448f-b103-4cdc9dc11eba"
      },
      "outputs": [
        {
          "name": "stdout",
          "output_type": "stream",
          "text": [
            "Requirement already satisfied: catboost==1.1 in /usr/local/lib/python3.8/dist-packages (1.1)\n",
            "Requirement already satisfied: scipy in /usr/local/lib/python3.8/dist-packages (from catboost==1.1) (1.8.1)\n",
            "Requirement already satisfied: graphviz in /usr/local/lib/python3.8/dist-packages (from catboost==1.1) (0.20.1)\n",
            "Requirement already satisfied: matplotlib in /usr/lib/python3/dist-packages (from catboost==1.1) (3.1.2)\n",
            "Requirement already satisfied: pandas>=0.24.0 in /usr/local/lib/python3.8/dist-packages (from catboost==1.1) (1.5.1)\n",
            "Requirement already satisfied: six in /usr/lib/python3/dist-packages (from catboost==1.1) (1.14.0)\n",
            "Requirement already satisfied: numpy>=1.16.0 in /usr/local/lib/python3.8/dist-packages (from catboost==1.1) (1.23.4)\n",
            "Requirement already satisfied: plotly in /usr/local/lib/python3.8/dist-packages (from catboost==1.1) (5.11.0)\n",
            "Requirement already satisfied: pytz>=2020.1 in /usr/local/lib/python3.8/dist-packages (from pandas>=0.24.0->catboost==1.1) (2022.6)\n",
            "Requirement already satisfied: python-dateutil>=2.8.1 in /usr/local/lib/python3.8/dist-packages (from pandas>=0.24.0->catboost==1.1) (2.8.2)\n",
            "Requirement already satisfied: tenacity>=6.2.0 in /usr/local/lib/python3.8/dist-packages (from plotly->catboost==1.1) (8.1.0)\n",
            "Requirement already satisfied: gcsfs==2022.10.0 in /usr/local/lib/python3.8/dist-packages (2022.10.0)\n",
            "Requirement already satisfied: aiohttp!=4.0.0a0,!=4.0.0a1 in /usr/local/lib/python3.8/dist-packages (from gcsfs==2022.10.0) (3.8.3)\n",
            "Requirement already satisfied: google-cloud-storage in /usr/local/lib/python3.8/dist-packages (from gcsfs==2022.10.0) (2.6.0)\n",
            "Requirement already satisfied: fsspec==2022.10.0 in /usr/local/lib/python3.8/dist-packages (from gcsfs==2022.10.0) (2022.10.0)\n",
            "Requirement already satisfied: requests in /usr/lib/python3/dist-packages (from gcsfs==2022.10.0) (2.22.0)\n",
            "Requirement already satisfied: google-auth-oauthlib in /usr/lib/python3/dist-packages (from gcsfs==2022.10.0) (0.4.1)\n",
            "Requirement already satisfied: decorator>4.1.2 in /usr/lib/python3/dist-packages (from gcsfs==2022.10.0) (4.4.2)\n",
            "Requirement already satisfied: google-auth>=1.2 in /usr/lib/python3/dist-packages (from gcsfs==2022.10.0) (1.5.1)\n",
            "Requirement already satisfied: yarl<2.0,>=1.0 in /usr/local/lib/python3.8/dist-packages (from aiohttp!=4.0.0a0,!=4.0.0a1->gcsfs==2022.10.0) (1.8.1)\n",
            "Requirement already satisfied: multidict<7.0,>=4.5 in /usr/local/lib/python3.8/dist-packages (from aiohttp!=4.0.0a0,!=4.0.0a1->gcsfs==2022.10.0) (6.0.2)\n",
            "Requirement already satisfied: charset-normalizer<3.0,>=2.0 in /usr/local/lib/python3.8/dist-packages (from aiohttp!=4.0.0a0,!=4.0.0a1->gcsfs==2022.10.0) (2.1.1)\n",
            "Requirement already satisfied: aiosignal>=1.1.2 in /usr/local/lib/python3.8/dist-packages (from aiohttp!=4.0.0a0,!=4.0.0a1->gcsfs==2022.10.0) (1.3.1)\n",
            "Requirement already satisfied: frozenlist>=1.1.1 in /usr/local/lib/python3.8/dist-packages (from aiohttp!=4.0.0a0,!=4.0.0a1->gcsfs==2022.10.0) (1.3.3)\n",
            "Requirement already satisfied: attrs>=17.3.0 in /usr/lib/python3/dist-packages (from aiohttp!=4.0.0a0,!=4.0.0a1->gcsfs==2022.10.0) (19.3.0)\n",
            "Requirement already satisfied: async-timeout<5.0,>=4.0.0a3 in /usr/local/lib/python3.8/dist-packages (from aiohttp!=4.0.0a0,!=4.0.0a1->gcsfs==2022.10.0) (4.0.2)\n",
            "Requirement already satisfied: google-api-core!=2.0.*,!=2.1.*,!=2.2.*,!=2.3.0,<3.0.0dev,>=1.31.5 in /usr/local/lib/python3.8/dist-packages (from google-cloud-storage->gcsfs==2022.10.0) (2.10.2)\n",
            "Requirement already satisfied: google-cloud-core<3.0dev,>=2.3.0 in /usr/local/lib/python3.8/dist-packages (from google-cloud-storage->gcsfs==2022.10.0) (2.3.2)\n",
            "Requirement already satisfied: google-resumable-media>=2.3.2 in /usr/local/lib/python3.8/dist-packages (from google-cloud-storage->gcsfs==2022.10.0) (2.4.0)\n",
            "Requirement already satisfied: idna>=2.0 in /usr/lib/python3/dist-packages (from yarl<2.0,>=1.0->aiohttp!=4.0.0a0,!=4.0.0a1->gcsfs==2022.10.0) (2.8)\n",
            "Requirement already satisfied: protobuf!=3.20.0,!=3.20.1,!=4.21.0,!=4.21.1,!=4.21.2,!=4.21.3,!=4.21.4,!=4.21.5,<5.0.0dev,>=3.19.5 in /usr/local/lib/python3.8/dist-packages (from google-api-core!=2.0.*,!=2.1.*,!=2.2.*,!=2.3.0,<3.0.0dev,>=1.31.5->google-cloud-storage->gcsfs==2022.10.0) (4.21.9)\n",
            "Requirement already satisfied: googleapis-common-protos<2.0dev,>=1.56.2 in /usr/local/lib/python3.8/dist-packages (from google-api-core!=2.0.*,!=2.1.*,!=2.2.*,!=2.3.0,<3.0.0dev,>=1.31.5->google-cloud-storage->gcsfs==2022.10.0) (1.56.4)\n",
            "Requirement already satisfied: google-crc32c<2.0dev,>=1.0 in /usr/local/lib/python3.8/dist-packages (from google-resumable-media>=2.3.2->google-cloud-storage->gcsfs==2022.10.0) (1.5.0)\n",
            "Requirement already satisfied: ipywidgets==8.0.2 in /usr/local/lib/python3.8/dist-packages (8.0.2)\n",
            "Requirement already satisfied: widgetsnbextension~=4.0 in /usr/local/lib/python3.8/dist-packages (from ipywidgets==8.0.2) (4.0.3)\n",
            "Requirement already satisfied: ipython>=6.1.0 in /usr/lib/python3/dist-packages (from ipywidgets==8.0.2) (7.13.0)\n",
            "Requirement already satisfied: traitlets>=4.3.1 in /usr/local/lib/python3.8/dist-packages (from ipywidgets==8.0.2) (5.3.0)\n",
            "Requirement already satisfied: jupyterlab-widgets~=3.0 in /usr/local/lib/python3.8/dist-packages (from ipywidgets==8.0.2) (3.0.3)\n",
            "Requirement already satisfied: ipykernel>=4.5.1 in /usr/lib/python3/dist-packages (from ipywidgets==8.0.2) (5.2.0)\n",
            "Requirement already satisfied: pexpect in /usr/lib/python3/dist-packages (from ipython>=6.1.0->ipywidgets==8.0.2) (4.6.0)\n",
            "Requirement already satisfied: numpy==1.23.4 in /usr/local/lib/python3.8/dist-packages (1.23.4)\n",
            "Requirement already satisfied: pandas==1.5.1 in /usr/local/lib/python3.8/dist-packages (1.5.1)\n",
            "Requirement already satisfied: pytz>=2020.1 in /usr/local/lib/python3.8/dist-packages (from pandas==1.5.1) (2022.6)\n",
            "Requirement already satisfied: numpy>=1.20.3; python_version < \"3.10\" in /usr/local/lib/python3.8/dist-packages (from pandas==1.5.1) (1.23.4)\n",
            "Requirement already satisfied: python-dateutil>=2.8.1 in /usr/local/lib/python3.8/dist-packages (from pandas==1.5.1) (2.8.2)\n",
            "Requirement already satisfied: six>=1.5 in /usr/lib/python3/dist-packages (from python-dateutil>=2.8.1->pandas==1.5.1) (1.14.0)\n",
            "Requirement already satisfied: fastparquet in /usr/local/lib/python3.8/dist-packages (0.8.3)\n",
            "Requirement already satisfied: packaging in /usr/lib/python3/dist-packages (from fastparquet) (20.3)\n",
            "Requirement already satisfied: numpy>=1.18 in /usr/local/lib/python3.8/dist-packages (from fastparquet) (1.23.4)\n",
            "Requirement already satisfied: fsspec in /usr/local/lib/python3.8/dist-packages (from fastparquet) (2022.10.0)\n",
            "Requirement already satisfied: cramjam>=2.3.0 in /usr/local/lib/python3.8/dist-packages (from fastparquet) (2.6.2)\n",
            "Requirement already satisfied: pandas>=1.1.0 in /usr/local/lib/python3.8/dist-packages (from fastparquet) (1.5.1)\n",
            "Requirement already satisfied: python-dateutil>=2.8.1 in /usr/local/lib/python3.8/dist-packages (from pandas>=1.1.0->fastparquet) (2.8.2)\n",
            "Requirement already satisfied: pytz>=2020.1 in /usr/local/lib/python3.8/dist-packages (from pandas>=1.1.0->fastparquet) (2022.6)\n",
            "Requirement already satisfied: six>=1.5 in /usr/lib/python3/dist-packages (from python-dateutil>=2.8.1->pandas>=1.1.0->fastparquet) (1.14.0)\n",
            "Requirement already satisfied: optuna==3.0.3 in /usr/local/lib/python3.8/dist-packages (3.0.3)\n",
            "Requirement already satisfied: importlib-metadata<5.0.0 in /usr/local/lib/python3.8/dist-packages (from optuna==3.0.3) (4.12.0)\n",
            "Requirement already satisfied: colorlog in /usr/local/lib/python3.8/dist-packages (from optuna==3.0.3) (6.7.0)\n",
            "Requirement already satisfied: scipy<1.9.0,>=1.7.0 in /usr/local/lib/python3.8/dist-packages (from optuna==3.0.3) (1.8.1)\n",
            "Requirement already satisfied: alembic>=1.5.0 in /usr/local/lib/python3.8/dist-packages (from optuna==3.0.3) (1.8.1)\n",
            "Requirement already satisfied: packaging>=20.0 in /usr/lib/python3/dist-packages (from optuna==3.0.3) (20.3)\n",
            "Requirement already satisfied: cliff in /usr/local/lib/python3.8/dist-packages (from optuna==3.0.3) (4.0.0)\n",
            "Requirement already satisfied: sqlalchemy>=1.3.0 in /usr/local/lib/python3.8/dist-packages (from optuna==3.0.3) (1.4.43)\n",
            "Requirement already satisfied: numpy in /usr/local/lib/python3.8/dist-packages (from optuna==3.0.3) (1.23.4)\n",
            "Requirement already satisfied: PyYAML in /usr/local/lib/python3.8/dist-packages (from optuna==3.0.3) (6.0)\n",
            "Requirement already satisfied: cmaes>=0.8.2 in /usr/local/lib/python3.8/dist-packages (from optuna==3.0.3) (0.9.0)\n",
            "Requirement already satisfied: tqdm in /usr/local/lib/python3.8/dist-packages (from optuna==3.0.3) (4.64.1)\n",
            "Requirement already satisfied: zipp>=0.5 in /usr/lib/python3/dist-packages (from importlib-metadata<5.0.0->optuna==3.0.3) (1.0.0)\n",
            "Requirement already satisfied: Mako in /usr/lib/python3/dist-packages (from alembic>=1.5.0->optuna==3.0.3) (1.1.0)\n",
            "Requirement already satisfied: importlib-resources; python_version < \"3.9\" in /usr/local/lib/python3.8/dist-packages (from alembic>=1.5.0->optuna==3.0.3) (5.10.0)\n",
            "Requirement already satisfied: autopage>=0.4.0 in /usr/local/lib/python3.8/dist-packages (from cliff->optuna==3.0.3) (0.5.1)\n",
            "Requirement already satisfied: cmd2>=1.0.0 in /usr/local/lib/python3.8/dist-packages (from cliff->optuna==3.0.3) (2.4.2)\n",
            "Requirement already satisfied: PrettyTable>=0.7.2 in /usr/local/lib/python3.8/dist-packages (from cliff->optuna==3.0.3) (3.5.0)\n",
            "Requirement already satisfied: stevedore>=2.0.1 in /usr/local/lib/python3.8/dist-packages (from cliff->optuna==3.0.3) (4.1.1)\n",
            "Requirement already satisfied: greenlet!=0.4.17; python_version >= \"3\" and (platform_machine == \"aarch64\" or (platform_machine == \"ppc64le\" or (platform_machine == \"x86_64\" or (platform_machine == \"amd64\" or (platform_machine == \"AMD64\" or (platform_machine == \"win32\" or platform_machine == \"WIN32\")))))) in /usr/local/lib/python3.8/dist-packages (from sqlalchemy>=1.3.0->optuna==3.0.3) (2.0.1)\n",
            "Requirement already satisfied: pyperclip>=1.6 in /usr/local/lib/python3.8/dist-packages (from cmd2>=1.0.0->cliff->optuna==3.0.3) (1.8.2)\n",
            "Requirement already satisfied: attrs>=16.3.0 in /usr/lib/python3/dist-packages (from cmd2>=1.0.0->cliff->optuna==3.0.3) (19.3.0)\n",
            "Requirement already satisfied: wcwidth>=0.1.7 in /usr/lib/python3/dist-packages (from cmd2>=1.0.0->cliff->optuna==3.0.3) (0.1.8)\n",
            "Requirement already satisfied: pbr!=2.1.0,>=2.0.0 in /usr/local/lib/python3.8/dist-packages (from stevedore>=2.0.1->cliff->optuna==3.0.3) (5.11.0)\n",
            "Requirement already satisfied: scikit-learn==1.1.3 in /usr/local/lib/python3.8/dist-packages (1.1.3)\n",
            "Requirement already satisfied: threadpoolctl>=2.0.0 in /usr/local/lib/python3.8/dist-packages (from scikit-learn==1.1.3) (3.1.0)\n",
            "Requirement already satisfied: scipy>=1.3.2 in /usr/local/lib/python3.8/dist-packages (from scikit-learn==1.1.3) (1.8.1)\n",
            "Requirement already satisfied: joblib>=1.0.0 in /usr/local/lib/python3.8/dist-packages (from scikit-learn==1.1.3) (1.2.0)\n",
            "Requirement already satisfied: numpy>=1.17.3 in /usr/local/lib/python3.8/dist-packages (from scikit-learn==1.1.3) (1.23.4)\n",
            "Requirement already satisfied: seaborn==0.12.1 in /usr/local/lib/python3.8/dist-packages (0.12.1)\n",
            "Requirement already satisfied: numpy>=1.17 in /usr/local/lib/python3.8/dist-packages (from seaborn==0.12.1) (1.23.4)\n",
            "Requirement already satisfied: pandas>=0.25 in /usr/local/lib/python3.8/dist-packages (from seaborn==0.12.1) (1.5.1)\n",
            "Requirement already satisfied: matplotlib!=3.6.1,>=3.1 in /usr/lib/python3/dist-packages (from seaborn==0.12.1) (3.1.2)\n",
            "Requirement already satisfied: python-dateutil>=2.8.1 in /usr/local/lib/python3.8/dist-packages (from pandas>=0.25->seaborn==0.12.1) (2.8.2)\n",
            "Requirement already satisfied: pytz>=2020.1 in /usr/local/lib/python3.8/dist-packages (from pandas>=0.25->seaborn==0.12.1) (2022.6)\n",
            "Requirement already satisfied: six>=1.5 in /usr/lib/python3/dist-packages (from python-dateutil>=2.8.1->pandas>=0.25->seaborn==0.12.1) (1.14.0)\n",
            "Requirement already satisfied: wandb==0.13.4 in /usr/local/lib/python3.8/dist-packages (0.13.4)\n",
            "Requirement already satisfied: protobuf!=4.0.*,!=4.21.0,<5,>=3.12.0 in /usr/local/lib/python3.8/dist-packages (from wandb==0.13.4) (4.21.9)\n",
            "Requirement already satisfied: shortuuid>=0.5.0 in /usr/local/lib/python3.8/dist-packages (from wandb==0.13.4) (1.0.10)\n",
            "Requirement already satisfied: promise<3,>=2.0 in /usr/local/lib/python3.8/dist-packages (from wandb==0.13.4) (2.3)\n",
            "Requirement already satisfied: Click!=8.0.0,>=7.0 in /usr/local/lib/python3.8/dist-packages (from wandb==0.13.4) (8.1.3)\n",
            "Requirement already satisfied: psutil>=5.0.0 in /usr/local/lib/python3.8/dist-packages (from wandb==0.13.4) (5.9.4)\n",
            "Requirement already satisfied: docker-pycreds>=0.4.0 in /usr/local/lib/python3.8/dist-packages (from wandb==0.13.4) (0.4.0)\n",
            "Requirement already satisfied: pathtools in /usr/local/lib/python3.8/dist-packages (from wandb==0.13.4) (0.1.2)\n",
            "Requirement already satisfied: setuptools in /usr/lib/python3/dist-packages (from wandb==0.13.4) (45.2.0)\n",
            "Requirement already satisfied: GitPython>=1.0.0 in /usr/local/lib/python3.8/dist-packages (from wandb==0.13.4) (3.1.29)\n",
            "Requirement already satisfied: requests<3,>=2.0.0 in /usr/lib/python3/dist-packages (from wandb==0.13.4) (2.22.0)\n",
            "Requirement already satisfied: sentry-sdk>=1.0.0 in /usr/local/lib/python3.8/dist-packages (from wandb==0.13.4) (1.10.1)\n",
            "Requirement already satisfied: setproctitle in /usr/local/lib/python3.8/dist-packages (from wandb==0.13.4) (1.3.2)\n",
            "Requirement already satisfied: six>=1.13.0 in /usr/lib/python3/dist-packages (from wandb==0.13.4) (1.14.0)\n",
            "Requirement already satisfied: PyYAML in /usr/local/lib/python3.8/dist-packages (from wandb==0.13.4) (6.0)\n",
            "Requirement already satisfied: gitdb<5,>=4.0.1 in /usr/local/lib/python3.8/dist-packages (from GitPython>=1.0.0->wandb==0.13.4) (4.0.9)\n",
            "Requirement already satisfied: certifi in /usr/lib/python3/dist-packages (from sentry-sdk>=1.0.0->wandb==0.13.4) (2019.11.28)\n",
            "Requirement already satisfied: urllib3>=1.26.11; python_version >= \"3.6\" in /usr/local/lib/python3.8/dist-packages (from sentry-sdk>=1.0.0->wandb==0.13.4) (1.26.12)\n",
            "Requirement already satisfied: smmap<6,>=3.0.1 in /usr/local/lib/python3.8/dist-packages (from gitdb<5,>=4.0.1->GitPython>=1.0.0->wandb==0.13.4) (5.0.0)\n"
          ]
        }
      ],
      "source": [
        "!pip install catboost==1.1\n",
        "!pip install gcsfs==2022.10.0\n",
        "!pip install ipywidgets==8.0.2\n",
        "!pip install numpy==1.23.4\n",
        "!pip install pandas==1.5.1\n",
        "!pip install fastparquet\n",
        "!pip install optuna==3.0.3\n",
        "!pip install scikit-learn==1.1.3\n",
        "!pip install seaborn==0.12.1\n",
        "!pip install wandb==0.13.4\n"
      ]
    },
    {
      "cell_type": "code",
      "execution_count": null,
      "metadata": {
        "id": "7WXF7w4VyVgG",
        "outputId": "6a5348df-fe3e-4c9b-acf8-eaaa9dfbe154"
      },
      "outputs": [
        {
          "name": "stderr",
          "output_type": "stream",
          "text": [
            "/usr/lib/python3/dist-packages/requests/__init__.py:89: RequestsDependencyWarning: urllib3 (1.26.12) or chardet (3.0.4) doesn't match a supported version!\n",
            "  warnings.warn(\"urllib3 ({}) or chardet ({}) doesn't match a supported \"\n"
          ]
        }
      ],
      "source": [
        "import os\n",
        "import random\n",
        "\n",
        "from catboost import CatBoostClassifier, Pool\n",
        "\n",
        "import gcsfs\n",
        "\n",
        "# import google.auth\n",
        "# from google.colab import auth, output\n",
        "\n",
        "import numpy as np\n",
        "import pandas as pd\n",
        "import optuna\n",
        "from optuna.integration.wandb import WeightsAndBiasesCallback\n",
        "\n",
        "from sklearn.preprocessing import StandardScaler\n",
        "from sklearn.metrics import accuracy_score\n",
        "\n",
        "import seaborn as sns\n",
        "\n",
        "from tqdm.notebook import tqdm\n",
        "import wandb\n"
      ]
    },
    {
      "cell_type": "code",
      "execution_count": null,
      "metadata": {
        "id": "A-eGOVujp_TN",
        "outputId": "ffe63cb3-0839-4fd0-ace0-09b8bc4fc9f9"
      },
      "outputs": [
        {
          "name": "stderr",
          "output_type": "stream",
          "text": [
            "/usr/lib/python3/dist-packages/google/auth/_default.py:66: UserWarning: Your application has authenticated using end user credentials from Google Cloud SDK. We recommend that most server applications use service accounts instead. If your application continues to use end user credentials from Cloud SDK, you might receive a \"quota exceeded\" or \"API not enabled\" error. For more information about service accounts, see https://cloud.google.com/docs/authentication/.\n",
            "  warnings.warn(_CLOUD_SDK_CREDENTIALS_WARNING)\n"
          ]
        }
      ],
      "source": [
        "import google.auth\n",
        "os.environ[\"GOOGLE_APPLICATION_CREDENTIALS\"]=\"/root/.config/gcloud/application_default_credentials.json\"\n",
        "\n",
        "# credentials, _ = google.auth.default()\n",
        "# fs = gcsfs.GCSFileSystem(project=\"thesis\", token=credentials)\n",
        "\n",
        "fs = gcsfs.GCSFileSystem(project=\"thesis\")\n",
        "fs_prefix = \"gs://\""
      ]
    },
    {
      "cell_type": "code",
      "execution_count": null,
      "metadata": {
        "id": "EF0_Mz8DYjGz"
      },
      "outputs": [],
      "source": [
        "# set fixed seed\n",
        "def seed_everything(seed):\n",
        "    \"\"\"\n",
        "    Seeds basic parameters for reproducibility of results\n",
        "    \"\"\"\n",
        "    os.environ[\"PYTHONHASHSEED\"] = str(seed)\n",
        "    random.seed(seed)\n",
        "\n",
        "\n",
        "seed = 42\n",
        "seed_everything(seed)\n"
      ]
    },
    {
      "cell_type": "code",
      "execution_count": null,
      "metadata": {
        "id": "WmXtH-PEqyQE"
      },
      "outputs": [],
      "source": [
        "train = pd.read_parquet(\n",
        "    f\"gs://thesis-bucket-option-trade-classification/data/preprocessed/train_set_60.parquet\",\n",
        "    engine=\"fastparquet\",\n",
        ")\n",
        "val = pd.read_parquet(\n",
        "    f\"gs://thesis-bucket-option-trade-classification/data/preprocessed/val_set_20.parquet\",\n",
        "    engine=\"fastparquet\",\n",
        ")\n",
        "test = pd.read_parquet(\n",
        "    f\"gs://thesis-bucket-option-trade-classification/data/preprocessed/test_set_20.parquet\",\n",
        "    engine=\"fastparquet\",\n",
        ")\n"
      ]
    },
    {
      "cell_type": "code",
      "execution_count": null,
      "metadata": {
        "id": "MYosl7qJwYFS",
        "outputId": "12f6e7ec-043d-4128-ebde-7836dd591188"
      },
      "outputs": [
        {
          "data": {
            "text/html": [
              "<div>\n",
              "<style scoped>\n",
              "    .dataframe tbody tr th:only-of-type {\n",
              "        vertical-align: middle;\n",
              "    }\n",
              "\n",
              "    .dataframe tbody tr th {\n",
              "        vertical-align: top;\n",
              "    }\n",
              "\n",
              "    .dataframe thead th {\n",
              "        text-align: right;\n",
              "    }\n",
              "</style>\n",
              "<table border=\"1\" class=\"dataframe\">\n",
              "  <thead>\n",
              "    <tr style=\"text-align: right;\">\n",
              "      <th></th>\n",
              "      <th>UNDERLYING_SYMBOL</th>\n",
              "      <th>QUOTE_DATETIME</th>\n",
              "      <th>SEQUENCE_NUMBER</th>\n",
              "      <th>ROOT</th>\n",
              "      <th>EXPIRATION</th>\n",
              "      <th>STRK_PRC</th>\n",
              "      <th>OPTION_TYPE</th>\n",
              "      <th>TRADE_SIZE</th>\n",
              "      <th>TRADE_PRICE</th>\n",
              "      <th>BEST_BID</th>\n",
              "      <th>...</th>\n",
              "      <th>bid_ex</th>\n",
              "      <th>bid_size_ex</th>\n",
              "      <th>ask_size_ex</th>\n",
              "      <th>price_all_lead</th>\n",
              "      <th>price_all_lag</th>\n",
              "      <th>optionid</th>\n",
              "      <th>day_vol</th>\n",
              "      <th>price_ex_lead</th>\n",
              "      <th>price_ex_lag</th>\n",
              "      <th>buy_sell</th>\n",
              "    </tr>\n",
              "  </thead>\n",
              "  <tbody>\n",
              "    <tr>\n",
              "      <th>0</th>\n",
              "      <td>BRCD</td>\n",
              "      <td>2005-05-02 09:30:02</td>\n",
              "      <td>72515</td>\n",
              "      <td>YNU</td>\n",
              "      <td>2006-01-21</td>\n",
              "      <td>2.5</td>\n",
              "      <td>C</td>\n",
              "      <td>10</td>\n",
              "      <td>2.05</td>\n",
              "      <td>1.90</td>\n",
              "      <td>...</td>\n",
              "      <td>1.90</td>\n",
              "      <td>131.0</td>\n",
              "      <td>20.0</td>\n",
              "      <td>1.90</td>\n",
              "      <td>1.90</td>\n",
              "      <td>21060388.0</td>\n",
              "      <td>10.0</td>\n",
              "      <td>1.90</td>\n",
              "      <td>2.10</td>\n",
              "      <td>1</td>\n",
              "    </tr>\n",
              "    <tr>\n",
              "      <th>1</th>\n",
              "      <td>SYMC</td>\n",
              "      <td>2005-05-02 09:30:03</td>\n",
              "      <td>65366</td>\n",
              "      <td>SYQ</td>\n",
              "      <td>2005-06-18</td>\n",
              "      <td>15.0</td>\n",
              "      <td>C</td>\n",
              "      <td>10</td>\n",
              "      <td>3.90</td>\n",
              "      <td>3.60</td>\n",
              "      <td>...</td>\n",
              "      <td>NaN</td>\n",
              "      <td>NaN</td>\n",
              "      <td>NaN</td>\n",
              "      <td>4.00</td>\n",
              "      <td>4.00</td>\n",
              "      <td>31624184.0</td>\n",
              "      <td>10.0</td>\n",
              "      <td>4.60</td>\n",
              "      <td>4.00</td>\n",
              "      <td>1</td>\n",
              "    </tr>\n",
              "    <tr>\n",
              "      <th>2</th>\n",
              "      <td>SPY</td>\n",
              "      <td>2005-05-02 09:30:03</td>\n",
              "      <td>65373</td>\n",
              "      <td>SWG</td>\n",
              "      <td>2005-05-21</td>\n",
              "      <td>105.0</td>\n",
              "      <td>C</td>\n",
              "      <td>50</td>\n",
              "      <td>11.20</td>\n",
              "      <td>11.10</td>\n",
              "      <td>...</td>\n",
              "      <td>11.10</td>\n",
              "      <td>300.0</td>\n",
              "      <td>300.0</td>\n",
              "      <td>11.80</td>\n",
              "      <td>11.00</td>\n",
              "      <td>31620976.0</td>\n",
              "      <td>50.0</td>\n",
              "      <td>11.90</td>\n",
              "      <td>11.00</td>\n",
              "      <td>-1</td>\n",
              "    </tr>\n",
              "    <tr>\n",
              "      <th>3</th>\n",
              "      <td>ADRX</td>\n",
              "      <td>2005-05-02 09:30:03</td>\n",
              "      <td>79195</td>\n",
              "      <td>QAX</td>\n",
              "      <td>2005-06-18</td>\n",
              "      <td>25.0</td>\n",
              "      <td>C</td>\n",
              "      <td>10</td>\n",
              "      <td>0.20</td>\n",
              "      <td>0.00</td>\n",
              "      <td>...</td>\n",
              "      <td>0.00</td>\n",
              "      <td>0.0</td>\n",
              "      <td>86.0</td>\n",
              "      <td>0.15</td>\n",
              "      <td>0.15</td>\n",
              "      <td>31560072.0</td>\n",
              "      <td>10.0</td>\n",
              "      <td>0.15</td>\n",
              "      <td>0.15</td>\n",
              "      <td>1</td>\n",
              "    </tr>\n",
              "    <tr>\n",
              "      <th>4</th>\n",
              "      <td>ORCL</td>\n",
              "      <td>2005-05-02 09:30:03</td>\n",
              "      <td>95870</td>\n",
              "      <td>ORQ</td>\n",
              "      <td>2005-12-17</td>\n",
              "      <td>14.0</td>\n",
              "      <td>C</td>\n",
              "      <td>15</td>\n",
              "      <td>0.25</td>\n",
              "      <td>0.30</td>\n",
              "      <td>...</td>\n",
              "      <td>0.25</td>\n",
              "      <td>3356.0</td>\n",
              "      <td>399.0</td>\n",
              "      <td>0.35</td>\n",
              "      <td>0.35</td>\n",
              "      <td>25240212.0</td>\n",
              "      <td>17.0</td>\n",
              "      <td>0.35</td>\n",
              "      <td>0.35</td>\n",
              "      <td>-1</td>\n",
              "    </tr>\n",
              "    <tr>\n",
              "      <th>5</th>\n",
              "      <td>YHOO</td>\n",
              "      <td>2005-05-02 09:30:03</td>\n",
              "      <td>73595</td>\n",
              "      <td>YHQ</td>\n",
              "      <td>2005-10-22</td>\n",
              "      <td>35.0</td>\n",
              "      <td>P</td>\n",
              "      <td>26</td>\n",
              "      <td>3.00</td>\n",
              "      <td>2.95</td>\n",
              "      <td>...</td>\n",
              "      <td>2.90</td>\n",
              "      <td>1133.0</td>\n",
              "      <td>256.0</td>\n",
              "      <td>3.10</td>\n",
              "      <td>3.40</td>\n",
              "      <td>24020608.0</td>\n",
              "      <td>46.0</td>\n",
              "      <td>3.10</td>\n",
              "      <td>3.40</td>\n",
              "      <td>-1</td>\n",
              "    </tr>\n",
              "    <tr>\n",
              "      <th>6</th>\n",
              "      <td>MATK</td>\n",
              "      <td>2005-05-02 09:30:03</td>\n",
              "      <td>80182</td>\n",
              "      <td>KQT</td>\n",
              "      <td>2005-09-17</td>\n",
              "      <td>65.0</td>\n",
              "      <td>C</td>\n",
              "      <td>2</td>\n",
              "      <td>0.55</td>\n",
              "      <td>0.30</td>\n",
              "      <td>...</td>\n",
              "      <td>0.30</td>\n",
              "      <td>56.0</td>\n",
              "      <td>10.0</td>\n",
              "      <td>0.45</td>\n",
              "      <td>0.45</td>\n",
              "      <td>23989792.0</td>\n",
              "      <td>2.0</td>\n",
              "      <td>0.65</td>\n",
              "      <td>0.45</td>\n",
              "      <td>1</td>\n",
              "    </tr>\n",
              "    <tr>\n",
              "      <th>7</th>\n",
              "      <td>VTSS</td>\n",
              "      <td>2005-05-02 09:30:04</td>\n",
              "      <td>80469</td>\n",
              "      <td>VQT</td>\n",
              "      <td>2005-10-22</td>\n",
              "      <td>5.0</td>\n",
              "      <td>P</td>\n",
              "      <td>10</td>\n",
              "      <td>2.75</td>\n",
              "      <td>2.70</td>\n",
              "      <td>...</td>\n",
              "      <td>2.70</td>\n",
              "      <td>10.0</td>\n",
              "      <td>52.0</td>\n",
              "      <td>2.90</td>\n",
              "      <td>2.90</td>\n",
              "      <td>24019950.0</td>\n",
              "      <td>40.0</td>\n",
              "      <td>2.90</td>\n",
              "      <td>2.90</td>\n",
              "      <td>-1</td>\n",
              "    </tr>\n",
              "    <tr>\n",
              "      <th>8</th>\n",
              "      <td>ADRX</td>\n",
              "      <td>2005-05-02 09:30:04</td>\n",
              "      <td>80342</td>\n",
              "      <td>QAX</td>\n",
              "      <td>2005-09-17</td>\n",
              "      <td>25.0</td>\n",
              "      <td>C</td>\n",
              "      <td>1</td>\n",
              "      <td>0.60</td>\n",
              "      <td>0.45</td>\n",
              "      <td>...</td>\n",
              "      <td>0.45</td>\n",
              "      <td>94.0</td>\n",
              "      <td>25.0</td>\n",
              "      <td>0.55</td>\n",
              "      <td>0.50</td>\n",
              "      <td>23983374.0</td>\n",
              "      <td>11.0</td>\n",
              "      <td>0.65</td>\n",
              "      <td>0.50</td>\n",
              "      <td>1</td>\n",
              "    </tr>\n",
              "    <tr>\n",
              "      <th>9</th>\n",
              "      <td>IVGN</td>\n",
              "      <td>2005-05-02 09:30:04</td>\n",
              "      <td>97063</td>\n",
              "      <td>IUV</td>\n",
              "      <td>2005-08-20</td>\n",
              "      <td>65.0</td>\n",
              "      <td>C</td>\n",
              "      <td>10</td>\n",
              "      <td>11.00</td>\n",
              "      <td>0.00</td>\n",
              "      <td>...</td>\n",
              "      <td>NaN</td>\n",
              "      <td>NaN</td>\n",
              "      <td>NaN</td>\n",
              "      <td>13.80</td>\n",
              "      <td>9.90</td>\n",
              "      <td>23797976.0</td>\n",
              "      <td>10.0</td>\n",
              "      <td>13.80</td>\n",
              "      <td>9.90</td>\n",
              "      <td>1</td>\n",
              "    </tr>\n",
              "  </tbody>\n",
              "</table>\n",
              "<p>10 rows × 23 columns</p>\n",
              "</div>"
            ],
            "text/plain": [
              "  UNDERLYING_SYMBOL      QUOTE_DATETIME  SEQUENCE_NUMBER ROOT EXPIRATION  \\\n",
              "0              BRCD 2005-05-02 09:30:02            72515  YNU 2006-01-21   \n",
              "1              SYMC 2005-05-02 09:30:03            65366  SYQ 2005-06-18   \n",
              "2               SPY 2005-05-02 09:30:03            65373  SWG 2005-05-21   \n",
              "3              ADRX 2005-05-02 09:30:03            79195  QAX 2005-06-18   \n",
              "4              ORCL 2005-05-02 09:30:03            95870  ORQ 2005-12-17   \n",
              "5              YHOO 2005-05-02 09:30:03            73595  YHQ 2005-10-22   \n",
              "6              MATK 2005-05-02 09:30:03            80182  KQT 2005-09-17   \n",
              "7              VTSS 2005-05-02 09:30:04            80469  VQT 2005-10-22   \n",
              "8              ADRX 2005-05-02 09:30:04            80342  QAX 2005-09-17   \n",
              "9              IVGN 2005-05-02 09:30:04            97063  IUV 2005-08-20   \n",
              "\n",
              "   STRK_PRC OPTION_TYPE  TRADE_SIZE  TRADE_PRICE  BEST_BID  ...  bid_ex  \\\n",
              "0       2.5           C          10         2.05      1.90  ...    1.90   \n",
              "1      15.0           C          10         3.90      3.60  ...     NaN   \n",
              "2     105.0           C          50        11.20     11.10  ...   11.10   \n",
              "3      25.0           C          10         0.20      0.00  ...    0.00   \n",
              "4      14.0           C          15         0.25      0.30  ...    0.25   \n",
              "5      35.0           P          26         3.00      2.95  ...    2.90   \n",
              "6      65.0           C           2         0.55      0.30  ...    0.30   \n",
              "7       5.0           P          10         2.75      2.70  ...    2.70   \n",
              "8      25.0           C           1         0.60      0.45  ...    0.45   \n",
              "9      65.0           C          10        11.00      0.00  ...     NaN   \n",
              "\n",
              "   bid_size_ex  ask_size_ex  price_all_lead  price_all_lag    optionid  \\\n",
              "0        131.0         20.0            1.90           1.90  21060388.0   \n",
              "1          NaN          NaN            4.00           4.00  31624184.0   \n",
              "2        300.0        300.0           11.80          11.00  31620976.0   \n",
              "3          0.0         86.0            0.15           0.15  31560072.0   \n",
              "4       3356.0        399.0            0.35           0.35  25240212.0   \n",
              "5       1133.0        256.0            3.10           3.40  24020608.0   \n",
              "6         56.0         10.0            0.45           0.45  23989792.0   \n",
              "7         10.0         52.0            2.90           2.90  24019950.0   \n",
              "8         94.0         25.0            0.55           0.50  23983374.0   \n",
              "9          NaN          NaN           13.80           9.90  23797976.0   \n",
              "\n",
              "   day_vol  price_ex_lead  price_ex_lag  buy_sell  \n",
              "0     10.0           1.90          2.10         1  \n",
              "1     10.0           4.60          4.00         1  \n",
              "2     50.0          11.90         11.00        -1  \n",
              "3     10.0           0.15          0.15         1  \n",
              "4     17.0           0.35          0.35        -1  \n",
              "5     46.0           3.10          3.40        -1  \n",
              "6      2.0           0.65          0.45         1  \n",
              "7     40.0           2.90          2.90        -1  \n",
              "8     11.0           0.65          0.50         1  \n",
              "9     10.0          13.80          9.90         1  \n",
              "\n",
              "[10 rows x 23 columns]"
            ]
          },
          "execution_count": 7,
          "metadata": {},
          "output_type": "execute_result"
        }
      ],
      "source": [
        "train.head(10)\n"
      ]
    },
    {
      "cell_type": "code",
      "execution_count": null,
      "metadata": {
        "id": "N2ZHX3MpqzKD"
      },
      "outputs": [],
      "source": [
        "# randomly sample frac of rows\n",
        "# frac = 0.02\n",
        "\n",
        "# train = train.sample(frac=frac, random_state=seed)\n",
        "# val = val.sample(frac=frac, random_state=seed)\n",
        "# test = test.sample(frac=frac, random_state=seed)\n",
        "\n",
        "# unify for common preprocessing\n",
        "X = pd.concat([train, val, test])\n"
      ]
    },
    {
      "cell_type": "code",
      "execution_count": null,
      "metadata": {
        "id": "KWBd4uykoHcl"
      },
      "outputs": [],
      "source": [
        "# isolate target\n",
        "y = X[[\"buy_sell\"]]\n",
        "X = X.drop([\"buy_sell\"], axis=1)\n"
      ]
    },
    {
      "cell_type": "code",
      "execution_count": null,
      "metadata": {
        "id": "G4RRb08pyo6p"
      },
      "outputs": [],
      "source": [
        "# calculate days to maturity\n",
        "X[\"time_to_maturity\"] = (X[\"EXPIRATION\"] - X[\"QUOTE_DATETIME\"]).dt.days\n"
      ]
    },
    {
      "cell_type": "code",
      "execution_count": null,
      "metadata": {
        "id": "BJDU5Wy02WWT"
      },
      "outputs": [],
      "source": [
        "# apply positional encoding to dates\n",
        "X[\"date_month_sin\"] = np.sin(2 * np.pi * X[\"QUOTE_DATETIME\"].dt.year / 12)\n",
        "X[\"date_month_cos\"] = np.cos(2 * np.pi * X[\"QUOTE_DATETIME\"].dt.year / 12)\n",
        "\n",
        "# apply positional encoding to dates\n",
        "X[\"date_month_sin\"] = np.sin(2 * np.pi * X[\"QUOTE_DATETIME\"].dt.year / 12)\n",
        "X[\"date_month_cos\"] = np.cos(2 * np.pi * X[\"QUOTE_DATETIME\"].dt.year / 12)\n",
        "\n",
        "seconds_in_day = 24 * 60 * 60\n",
        "\n",
        "seconds = (X[\"QUOTE_DATETIME\"] - X[\"QUOTE_DATETIME\"].dt.normalize()).dt.total_seconds()\n",
        "\n",
        "X[\"date_time_sin\"] = np.sin(2 * np.pi * seconds / seconds_in_day)\n",
        "X[\"date_time_cos\"] = np.cos(2 * np.pi * seconds / seconds_in_day)\n",
        "\n",
        "# add year\n",
        "X[\"date_year\"] = (X[\"QUOTE_DATETIME\"].dt.year - 2005) / (2017 - 2005)\n",
        "\n",
        "date_columns = [\n",
        "    \"date_month_sin\",\n",
        "    \"date_month_cos\",\n",
        "    \"date_time_sin\",\n",
        "    \"date_time_cos\",\n",
        "    \"date_year\",\n",
        "]\n"
      ]
    },
    {
      "cell_type": "code",
      "execution_count": null,
      "metadata": {
        "id": "W9om1Qh4oHcm"
      },
      "outputs": [],
      "source": [
        "feature_set_date = [\n",
        "    \"date_month_sin\",\n",
        "    \"date_month_cos\",\n",
        "    \"date_time_sin\",\n",
        "    \"date_time_cos\" \"date_year\",\n",
        "]\n",
        "feature_set_option = [\n",
        "    \"STRK_PRC\",\n",
        "    \"ROOT\",\n",
        "    \"price_underlying\",\n",
        "    \"time_to_maturity\",\n",
        "    \"moneyness\",\n",
        "    \"delta\",\n",
        "    \"option-type\",\n",
        "    \"security_type\",\n",
        "]\n",
        "\n",
        "# features of classical rules\n",
        "feature_set_1 = [\n",
        "    \"TRADE_PRICE\",\n",
        "    \"price_ex_lag\",\n",
        "    \"chg_ex_lag\",\n",
        "    \"price_ex_lead\",\n",
        "    \"chg_ex_lead\",\n",
        "    \"bid_ex\",\n",
        "    \"ask_ex\",\n",
        "    \"midpoint_ex\",\n",
        "    \"rel_mid_ex\",\n",
        "    \"rel_bid_dist_ex\",\n",
        "    \"rel_ask_dist_ext\",\n",
        "]\n",
        "\n",
        "# features of classical rules enhanced for date features\n",
        "feature_set_2 = [*feature_set_1, *feature_set_date]\n",
        "\n",
        "# features of classical rules enhanced for date features and option features\n",
        "feature_set_4 = [*feature_set_1, *feature_set_date, *feature_set_option]\n",
        "\n",
        "# FIXME: adjust as needed\n",
        "feature_sets = [feature_set_1, feature_set_2]\n",
        "ignored_features = [x for x in X.columns.tolist() if x not in feature_set_2]\n",
        "X.drop(columns=ignored_features, inplace=True)\n"
      ]
    },
    {
      "cell_type": "code",
      "execution_count": null,
      "metadata": {
        "id": "ZdrzoUygoHcm"
      },
      "outputs": [],
      "source": [
        "# Calculate change similar to tick rule\n",
        "X[\"chg_ex_lead\"] = X[\"TRADE_PRICE\"] - X[\"price_ex_lead\"]\n",
        "\n",
        "# Calculate change similar to reverse tick rule\n",
        "X[\"chg_ex_lag\"] = X[\"TRADE_PRICE\"] - X[\"price_ex_lag\"]\n",
        "\n",
        "# Midspread\n",
        "mid = 0.5 * (X[\"ask_ex\"] + X[\"bid_ex\"])\n",
        "X[\"midpoint_ex\"] = mid\n",
        "\n",
        "# distance metrics\n",
        "X[\"rel_mid_ex\"] = (X[\"TRADE_PRICE\"] - mid) / (X[\"ask_ex\"] - mid)\n",
        "X[\"rel_bid_dist_ex\"] = (X[\"TRADE_PRICE\"] - X[\"bid_ex\"]) / (mid - X[\"bid_ex\"])\n",
        "X[\"rel_ask_dist_ex\"] = (X[\"ask_ex\"] - X[\"TRADE_PRICE\"]) / (X[\"ask_ex\"] - mid)\n"
      ]
    },
    {
      "cell_type": "code",
      "execution_count": null,
      "metadata": {
        "id": "hAZa9rO8oHcn"
      },
      "outputs": [],
      "source": [
        "# log transform\n",
        "log_columns = [\n",
        "    \"TRADE_PRICE\",\n",
        "    \"price_ex_lag\",\n",
        "    \"price_ex_lead\",\n",
        "    \"bid_ex\",\n",
        "    \"ask_ex\",\n",
        "    \"midpoint_ex\",\n",
        "]\n",
        "\n",
        "X[log_columns] = np.log(X[log_columns] + 1e-5)\n"
      ]
    },
    {
      "cell_type": "code",
      "execution_count": null,
      "metadata": {
        "id": "6KmaiY0m5i8X",
        "outputId": "0501b042-3e24-499e-c12d-8a1053b45409"
      },
      "outputs": [
        {
          "name": "stdout",
          "output_type": "stream",
          "text": [
            "[]\n"
          ]
        }
      ],
      "source": [
        "# binarize\n",
        "\n",
        "# select categorical e. g., option type and strings e. g., ticker\n",
        "cat_columns = X.select_dtypes(include=[\"category\", \"object\"]).columns.tolist()\n",
        "print(cat_columns)\n",
        "\n",
        "# binarize categorical similar to Borisov et al.\n",
        "X[cat_columns] = X[cat_columns].apply(lambda x: pd.factorize(x)[0])\n"
      ]
    },
    {
      "cell_type": "code",
      "execution_count": null,
      "metadata": {
        "id": "ngZUqSLW_M_8"
      },
      "outputs": [],
      "source": [
        "# treat inf as nan\n",
        "X.replace([np.inf, -np.inf], np.nan, inplace=True)\n"
      ]
    },
    {
      "cell_type": "code",
      "execution_count": null,
      "metadata": {
        "id": "BIXLmMcZ5-aC"
      },
      "outputs": [],
      "source": [
        "# separate again for training scaling\n",
        "X_train = X.loc[train.index, :]\n",
        "X_val = X.loc[val.index, :]\n",
        "X_test = X.loc[test.index, :]\n",
        "\n",
        "y_train = y.loc[train.index, :]\n",
        "y_val = y.loc[val.index, :]\n",
        "y_test = y.loc[test.index, :]\n"
      ]
    },
    {
      "cell_type": "code",
      "execution_count": null,
      "metadata": {
        "id": "tV5a5st_2vrt"
      },
      "outputs": [],
      "source": [
        "# Standardize numerical values, if not standardized otherwise\n",
        "num_columns = X_train.select_dtypes(include=[np.number]).columns.tolist()\n",
        "num_columns = [\n",
        "    x for x in num_columns if x not in [*cat_columns, *date_columns, *log_columns]\n",
        "]\n",
        "# use scaler due to outlying observations > dataset notebook.\n",
        "scaler = StandardScaler()\n",
        "\n",
        "X_train[num_columns] = scaler.fit_transform(X_train[num_columns])\n",
        "X_val[num_columns] = scaler.transform(X_val[num_columns])\n",
        "X_test[num_columns] = scaler.transform(X_test[num_columns])\n"
      ]
    },
    {
      "cell_type": "markdown",
      "metadata": {
        "id": "zMIOV1jA_ImH"
      },
      "source": [
        "## CatBoost Baseline 🐈‍⬛"
      ]
    },
    {
      "cell_type": "markdown",
      "metadata": {
        "id": "MmbM8by1WO5J"
      },
      "source": [
        "### Hyperparameter Search Baseline🗃️"
      ]
    },
    {
      "cell_type": "code",
      "execution_count": null,
      "metadata": {
        "id": "Z4hMoRaVQa64"
      },
      "outputs": [],
      "source": [
        "def objective(trial: optuna.Trial, features: list, cat_features: list = None):\n",
        "    # See docs for recommendations on tuning hyperparameters\n",
        "    #  https://catboost.ai/en/docs/concepts/parameter-tuning\n",
        "\n",
        "    ignored_features = [x for x in X_train.columns.tolist() if x not in features]\n",
        "\n",
        "    iterations = trial.suggest_int(\"iterations\", 100, 1500, log=False)\n",
        "    learning_rate = trial.suggest_float(\"learning_rate\", 0.005, 1, log=True)\n",
        "    depth = trial.suggest_int(\"depth\", 1, 8, log=False)\n",
        "    grow_policy = trial.suggest_categorical(\n",
        "        \"grow_policy\", [\"SymmetricTree\", \"Depthwise\"]\n",
        "    )\n",
        "    params = {\n",
        "        \"iterations\": iterations,\n",
        "        \"depth\": depth,\n",
        "        \"grow_policy\": grow_policy,\n",
        "        \"learning_rate\": learning_rate,\n",
        "        \"od_type\": \"Iter\",\n",
        "        \"logging_level\": \"Silent\",\n",
        "        \"task_type\": \"GPU\",\n",
        "        \"cat_features\": cat_features,\n",
        "        \"ignored_features\": ignored_features,\n",
        "    }\n",
        "\n",
        "    model = CatBoostClassifier(**params)\n",
        "\n",
        "    model.fit(\n",
        "        X_train,\n",
        "        y_train,\n",
        "    )\n",
        "\n",
        "    y_pred = model.predict(X_val, prediction_type=\"Class\")\n",
        "    return accuracy_score(y_val, y_pred)\n"
      ]
    },
    {
      "cell_type": "code",
      "execution_count": null,
      "metadata": {
        "id": "UgdvLxBI3Cs3",
        "outputId": "77febc83-d538-4324-dd19-f8daa8b61aaf"
      },
      "outputs": [
        {
          "data": {
            "application/vnd.jupyter.widget-view+json": {
              "model_id": "c39fe69d86134ff69c50a6fe993f0795",
              "version_major": 2,
              "version_minor": 0
            },
            "text/plain": [
              "  0%|          | 0/2 [00:00<?, ?it/s]"
            ]
          },
          "metadata": {},
          "output_type": "display_data"
        },
        {
          "name": "stderr",
          "output_type": "stream",
          "text": [
            "Failed to detect the name of this notebook, you can set it manually with the WANDB_NOTEBOOK_NAME environment variable to enable code saving.\n",
            "\u001b[34m\u001b[1mwandb\u001b[0m: Logging into wandb.ai. (Learn how to deploy a W&B server locally: https://wandb.me/wandb-server)\n",
            "\u001b[34m\u001b[1mwandb\u001b[0m: You can find your API key in your browser here: https://wandb.ai/authorize\n",
            "\u001b[34m\u001b[1mwandb\u001b[0m: Paste an API key from your profile and hit enter, or press ctrl+c to quit:\u001b[34m\u001b[1mwandb\u001b[0m: Paste an API key from your profile and hit enter, or press ctrl+c to quit:\u001b[34m\u001b[1mwandb\u001b[0m: Paste an API key from your profile and hit enter, or press ctrl+c to quit:\u001b[34m\u001b[1mwandb\u001b[0m: Paste an API key from your profile and hit enter, or press ctrl+c to quit:\u001b[34m\u001b[1mwandb\u001b[0m: Appending key for api.wandb.ai to your netrc file: /root/.netrc\n"
          ]
        },
        {
          "data": {
            "text/html": [
              "wandb version 0.13.5 is available!  To upgrade, please run:\n",
              " $ pip install wandb --upgrade"
            ],
            "text/plain": [
              "<IPython.core.display.HTML object>"
            ]
          },
          "metadata": {},
          "output_type": "display_data"
        },
        {
          "data": {
            "text/html": [
              "Tracking run with wandb version 0.13.4"
            ],
            "text/plain": [
              "<IPython.core.display.HTML object>"
            ]
          },
          "metadata": {},
          "output_type": "display_data"
        },
        {
          "data": {
            "text/html": [
              "Run data is saved locally in <code>/root/thesis/notebooks/wandb/run-20221112_132643-riandt8r</code>"
            ],
            "text/plain": [
              "<IPython.core.display.HTML object>"
            ]
          },
          "metadata": {},
          "output_type": "display_data"
        },
        {
          "data": {
            "text/html": [
              "Syncing run <strong><a href=\"https://wandb.ai/fbv/thesis/runs/riandt8r\" target=\"_blank\">noble-thunder-51</a></strong> to <a href=\"https://wandb.ai/fbv/thesis\" target=\"_blank\">Weights & Biases</a> (<a href=\"https://wandb.me/run\" target=\"_blank\">docs</a>)<br/>"
            ],
            "text/plain": [
              "<IPython.core.display.HTML object>"
            ]
          },
          "metadata": {},
          "output_type": "display_data"
        },
        {
          "name": "stderr",
          "output_type": "stream",
          "text": [
            "<ipython-input-20-ad03fda8721d>:12: ExperimentalWarning: WeightsAndBiasesCallback is experimental (supported from v2.9.0). The interface can change in the future.\n",
            "  wandbc = WeightsAndBiasesCallback(wandb_kwargs=wandb_kwargs)\n"
          ]
        },
        {
          "data": {
            "text/html": [
              "Finishing last run (ID:riandt8r) before initializing another..."
            ],
            "text/plain": [
              "<IPython.core.display.HTML object>"
            ]
          },
          "metadata": {},
          "output_type": "display_data"
        },
        {
          "data": {
            "text/html": [
              "Waiting for W&B process to finish... <strong style=\"color:green\">(success).</strong>"
            ],
            "text/plain": [
              "<IPython.core.display.HTML object>"
            ]
          },
          "metadata": {},
          "output_type": "display_data"
        },
        {
          "data": {
            "text/html": [
              "Synced <strong style=\"color:#cdcd00\">noble-thunder-51</strong>: <a href=\"https://wandb.ai/fbv/thesis/runs/riandt8r\" target=\"_blank\">https://wandb.ai/fbv/thesis/runs/riandt8r</a><br/>Synced 5 W&B file(s), 0 media file(s), 0 artifact file(s) and 0 other file(s)"
            ],
            "text/plain": [
              "<IPython.core.display.HTML object>"
            ]
          },
          "metadata": {},
          "output_type": "display_data"
        },
        {
          "data": {
            "text/html": [
              "Find logs at: <code>./wandb/run-20221112_132643-riandt8r/logs</code>"
            ],
            "text/plain": [
              "<IPython.core.display.HTML object>"
            ]
          },
          "metadata": {},
          "output_type": "display_data"
        },
        {
          "data": {
            "text/html": [
              "Successfully finished last run (ID:riandt8r). Initializing new run:<br/>"
            ],
            "text/plain": [
              "<IPython.core.display.HTML object>"
            ]
          },
          "metadata": {},
          "output_type": "display_data"
        },
        {
          "data": {
            "application/vnd.jupyter.widget-view+json": {
              "model_id": "2e3baca7860e4abf9263fce877b0cf72",
              "version_major": 2,
              "version_minor": 0
            },
            "text/plain": [
              "VBox(children=(Label(value='Waiting for wandb.init()...\\r'), FloatProgress(value=0.01667087626798699, max=1.0)…"
            ]
          },
          "metadata": {},
          "output_type": "display_data"
        },
        {
          "data": {
            "text/html": [
              "wandb version 0.13.5 is available!  To upgrade, please run:\n",
              " $ pip install wandb --upgrade"
            ],
            "text/plain": [
              "<IPython.core.display.HTML object>"
            ]
          },
          "metadata": {},
          "output_type": "display_data"
        },
        {
          "data": {
            "text/html": [
              "Tracking run with wandb version 0.13.4"
            ],
            "text/plain": [
              "<IPython.core.display.HTML object>"
            ]
          },
          "metadata": {},
          "output_type": "display_data"
        },
        {
          "data": {
            "text/html": [
              "Run data is saved locally in <code>/root/thesis/notebooks/wandb/run-20221112_132645-8lbgasf1</code>"
            ],
            "text/plain": [
              "<IPython.core.display.HTML object>"
            ]
          },
          "metadata": {},
          "output_type": "display_data"
        },
        {
          "data": {
            "text/html": [
              "Syncing run <strong><a href=\"https://wandb.ai/fbv/thesis/runs/8lbgasf1\" target=\"_blank\">astral-spaceship-52</a></strong> to <a href=\"https://wandb.ai/fbv/thesis\" target=\"_blank\">Weights & Biases</a> (<a href=\"https://wandb.me/run\" target=\"_blank\">docs</a>)<br/>"
            ],
            "text/plain": [
              "<IPython.core.display.HTML object>"
            ]
          },
          "metadata": {},
          "output_type": "display_data"
        },
        {
          "name": "stderr",
          "output_type": "stream",
          "text": [
            "\u001b[32m[I 2022-11-12 13:26:51,591]\u001b[0m A new study created in memory with name: baseline_gbm\u001b[0m\n",
            "/usr/local/lib/python3.8/dist-packages/catboost/core.py:1419: FutureWarning: iteritems is deprecated and will be removed in a future version. Use .items instead.\n",
            "  self._init_pool(data, label, cat_features, text_features, embedding_features, embedding_features_data, pairs, weight,\n",
            "\u001b[32m[I 2022-11-12 13:27:54,125]\u001b[0m Trial 0 finished with value: 0.6178872116756041 and parameters: {'iterations': 624, 'learning_rate': 0.7701798297509621, 'depth': 6, 'grow_policy': 'SymmetricTree'}. Best is trial 0 with value: 0.6178872116756041.\u001b[0m\n",
            "/usr/local/lib/python3.8/dist-packages/catboost/core.py:1419: FutureWarning: iteritems is deprecated and will be removed in a future version. Use .items instead.\n",
            "  self._init_pool(data, label, cat_features, text_features, embedding_features, embedding_features_data, pairs, weight,\n",
            "\u001b[32m[I 2022-11-12 13:28:35,502]\u001b[0m Trial 1 finished with value: 0.60666257045596 and parameters: {'iterations': 318, 'learning_rate': 0.006801773068059042, 'depth': 7, 'grow_policy': 'Depthwise'}. Best is trial 0 with value: 0.6178872116756041.\u001b[0m\n",
            "/usr/local/lib/python3.8/dist-packages/catboost/core.py:1419: FutureWarning: iteritems is deprecated and will be removed in a future version. Use .items instead.\n",
            "  self._init_pool(data, label, cat_features, text_features, embedding_features, embedding_features_data, pairs, weight,\n",
            "\u001b[32m[I 2022-11-12 13:28:55,832]\u001b[0m Trial 2 finished with value: 0.6150019970807125 and parameters: {'iterations': 128, 'learning_rate': 0.8526320769491548, 'depth': 7, 'grow_policy': 'SymmetricTree'}. Best is trial 0 with value: 0.6178872116756041.\u001b[0m\n",
            "/usr/local/lib/python3.8/dist-packages/catboost/core.py:1419: FutureWarning: iteritems is deprecated and will be removed in a future version. Use .items instead.\n",
            "  self._init_pool(data, label, cat_features, text_features, embedding_features, embedding_features_data, pairs, weight,\n",
            "\u001b[32m[I 2022-11-12 13:29:32,632]\u001b[0m Trial 3 finished with value: 0.60277998517268 and parameters: {'iterations': 356, 'learning_rate': 0.02506343151217439, 'depth': 5, 'grow_policy': 'SymmetricTree'}. Best is trial 0 with value: 0.6178872116756041.\u001b[0m\n",
            "/usr/local/lib/python3.8/dist-packages/catboost/core.py:1419: FutureWarning: iteritems is deprecated and will be removed in a future version. Use .items instead.\n",
            "  self._init_pool(data, label, cat_features, text_features, embedding_features, embedding_features_data, pairs, weight,\n",
            "\u001b[32m[I 2022-11-12 13:30:35,623]\u001b[0m Trial 4 finished with value: 0.6029463831378242 and parameters: {'iterations': 957, 'learning_rate': 0.010470069436968722, 'depth': 3, 'grow_policy': 'Depthwise'}. Best is trial 0 with value: 0.6178872116756041.\u001b[0m\n",
            "/usr/local/lib/python3.8/dist-packages/catboost/core.py:1419: FutureWarning: iteritems is deprecated and will be removed in a future version. Use .items instead.\n",
            "  self._init_pool(data, label, cat_features, text_features, embedding_features, embedding_features_data, pairs, weight,\n",
            "\u001b[32m[I 2022-11-12 13:32:14,707]\u001b[0m Trial 5 finished with value: 0.6046451476939592 and parameters: {'iterations': 1200, 'learning_rate': 0.014402084889402762, 'depth': 5, 'grow_policy': 'SymmetricTree'}. Best is trial 0 with value: 0.6178872116756041.\u001b[0m\n",
            "/usr/local/lib/python3.8/dist-packages/catboost/core.py:1419: FutureWarning: iteritems is deprecated and will be removed in a future version. Use .items instead.\n",
            "  self._init_pool(data, label, cat_features, text_features, embedding_features, embedding_features_data, pairs, weight,\n",
            "\u001b[32m[I 2022-11-12 13:33:04,619]\u001b[0m Trial 6 finished with value: 0.5896698393822283 and parameters: {'iterations': 951, 'learning_rate': 0.012341022039945061, 'depth': 1, 'grow_policy': 'Depthwise'}. Best is trial 0 with value: 0.6178872116756041.\u001b[0m\n",
            "/usr/local/lib/python3.8/dist-packages/catboost/core.py:1419: FutureWarning: iteritems is deprecated and will be removed in a future version. Use .items instead.\n",
            "  self._init_pool(data, label, cat_features, text_features, embedding_features, embedding_features_data, pairs, weight,\n",
            "\u001b[32m[I 2022-11-12 13:34:07,606]\u001b[0m Trial 7 finished with value: 0.5848419590573535 and parameters: {'iterations': 1232, 'learning_rate': 0.02511281655997384, 'depth': 1, 'grow_policy': 'SymmetricTree'}. Best is trial 0 with value: 0.6178872116756041.\u001b[0m\n",
            "/usr/local/lib/python3.8/dist-packages/catboost/core.py:1419: FutureWarning: iteritems is deprecated and will be removed in a future version. Use .items instead.\n",
            "  self._init_pool(data, label, cat_features, text_features, embedding_features, embedding_features_data, pairs, weight,\n",
            "\u001b[32m[I 2022-11-12 13:34:29,780]\u001b[0m Trial 8 finished with value: 0.5835069103467903 and parameters: {'iterations': 270, 'learning_rate': 0.0689266113392399, 'depth': 1, 'grow_policy': 'SymmetricTree'}. Best is trial 0 with value: 0.6178872116756041.\u001b[0m\n",
            "/usr/local/lib/python3.8/dist-packages/catboost/core.py:1419: FutureWarning: iteritems is deprecated and will be removed in a future version. Use .items instead.\n",
            "  self._init_pool(data, label, cat_features, text_features, embedding_features, embedding_features_data, pairs, weight,\n",
            "\u001b[32m[I 2022-11-12 13:35:56,251]\u001b[0m Trial 9 finished with value: 0.6066939989224817 and parameters: {'iterations': 1028, 'learning_rate': 0.026075133487058314, 'depth': 5, 'grow_policy': 'SymmetricTree'}. Best is trial 0 with value: 0.6178872116756041.\u001b[0m\n",
            "/usr/local/lib/python3.8/dist-packages/catboost/core.py:1419: FutureWarning: iteritems is deprecated and will be removed in a future version. Use .items instead.\n",
            "  self._init_pool(data, label, cat_features, text_features, embedding_features, embedding_features_data, pairs, weight,\n",
            "\u001b[32m[I 2022-11-12 13:37:10,114]\u001b[0m Trial 10 finished with value: 0.6187108612610179 and parameters: {'iterations': 624, 'learning_rate': 0.7006698789278818, 'depth': 8, 'grow_policy': 'Depthwise'}. Best is trial 10 with value: 0.6187108612610179.\u001b[0m\n",
            "/usr/local/lib/python3.8/dist-packages/catboost/core.py:1419: FutureWarning: iteritems is deprecated and will be removed in a future version. Use .items instead.\n",
            "  self._init_pool(data, label, cat_features, text_features, embedding_features, embedding_features_data, pairs, weight,\n",
            "\u001b[32m[I 2022-11-12 13:38:23,917]\u001b[0m Trial 11 finished with value: 0.619013754378499 and parameters: {'iterations': 622, 'learning_rate': 0.6131036819923589, 'depth': 8, 'grow_policy': 'Depthwise'}. Best is trial 11 with value: 0.619013754378499.\u001b[0m\n",
            "/usr/local/lib/python3.8/dist-packages/catboost/core.py:1419: FutureWarning: iteritems is deprecated and will be removed in a future version. Use .items instead.\n",
            "  self._init_pool(data, label, cat_features, text_features, embedding_features, embedding_features_data, pairs, weight,\n",
            "\u001b[32m[I 2022-11-12 13:39:35,489]\u001b[0m Trial 12 finished with value: 0.6197756658435934 and parameters: {'iterations': 607, 'learning_rate': 0.3288763011908869, 'depth': 8, 'grow_policy': 'Depthwise'}. Best is trial 12 with value: 0.6197756658435934.\u001b[0m\n",
            "/usr/local/lib/python3.8/dist-packages/catboost/core.py:1419: FutureWarning: iteritems is deprecated and will be removed in a future version. Use .items instead.\n",
            "  self._init_pool(data, label, cat_features, text_features, embedding_features, embedding_features_data, pairs, weight,\n",
            "\u001b[32m[I 2022-11-12 13:40:50,353]\u001b[0m Trial 13 finished with value: 0.6198483886706583 and parameters: {'iterations': 637, 'learning_rate': 0.2589539879005528, 'depth': 8, 'grow_policy': 'Depthwise'}. Best is trial 13 with value: 0.6198483886706583.\u001b[0m\n",
            "/usr/local/lib/python3.8/dist-packages/catboost/core.py:1419: FutureWarning: iteritems is deprecated and will be removed in a future version. Use .items instead.\n",
            "  self._init_pool(data, label, cat_features, text_features, embedding_features, embedding_features_data, pairs, weight,\n",
            "\u001b[32m[I 2022-11-12 13:41:41,593]\u001b[0m Trial 14 finished with value: 0.6124948394763102 and parameters: {'iterations': 751, 'learning_rate': 0.2411550738505611, 'depth': 3, 'grow_policy': 'Depthwise'}. Best is trial 13 with value: 0.6198483886706583.\u001b[0m\n",
            "/usr/local/lib/python3.8/dist-packages/catboost/core.py:1419: FutureWarning: iteritems is deprecated and will be removed in a future version. Use .items instead.\n",
            "  self._init_pool(data, label, cat_features, text_features, embedding_features, embedding_features_data, pairs, weight,\n",
            "\u001b[32m[I 2022-11-12 13:42:33,099]\u001b[0m Trial 15 finished with value: 0.6189514059966938 and parameters: {'iterations': 469, 'learning_rate': 0.193025375786691, 'depth': 7, 'grow_policy': 'Depthwise'}. Best is trial 13 with value: 0.6198483886706583.\u001b[0m\n",
            "/usr/local/lib/python3.8/dist-packages/catboost/core.py:1419: FutureWarning: iteritems is deprecated and will be removed in a future version. Use .items instead.\n",
            "  self._init_pool(data, label, cat_features, text_features, embedding_features, embedding_features_data, pairs, weight,\n",
            "\u001b[32m[I 2022-11-12 13:44:06,618]\u001b[0m Trial 16 finished with value: 0.6199669828194101 and parameters: {'iterations': 823, 'learning_rate': 0.2704966733913418, 'depth': 8, 'grow_policy': 'Depthwise'}. Best is trial 16 with value: 0.6199669828194101.\u001b[0m\n",
            "/usr/local/lib/python3.8/dist-packages/catboost/core.py:1419: FutureWarning: iteritems is deprecated and will be removed in a future version. Use .items instead.\n",
            "  self._init_pool(data, label, cat_features, text_features, embedding_features, embedding_features_data, pairs, weight,\n",
            "\u001b[32m[I 2022-11-12 13:46:05,588]\u001b[0m Trial 17 finished with value: 0.6189219100248773 and parameters: {'iterations': 1455, 'learning_rate': 0.11114192545876088, 'depth': 6, 'grow_policy': 'Depthwise'}. Best is trial 16 with value: 0.6199669828194101.\u001b[0m\n",
            "/usr/local/lib/python3.8/dist-packages/catboost/core.py:1419: FutureWarning: iteritems is deprecated and will be removed in a future version. Use .items instead.\n",
            "  self._init_pool(data, label, cat_features, text_features, embedding_features, embedding_features_data, pairs, weight,\n",
            "\u001b[32m[I 2022-11-12 13:46:59,132]\u001b[0m Trial 18 finished with value: 0.6091639305762465 and parameters: {'iterations': 796, 'learning_rate': 0.09487975191696654, 'depth': 3, 'grow_policy': 'Depthwise'}. Best is trial 16 with value: 0.6199669828194101.\u001b[0m\n",
            "/usr/local/lib/python3.8/dist-packages/catboost/core.py:1419: FutureWarning: iteritems is deprecated and will be removed in a future version. Use .items instead.\n",
            "  self._init_pool(data, label, cat_features, text_features, embedding_features, embedding_features_data, pairs, weight,\n",
            "\u001b[32m[I 2022-11-12 13:48:33,969]\u001b[0m Trial 19 finished with value: 0.6196879916101251 and parameters: {'iterations': 1098, 'learning_rate': 0.4033297224450787, 'depth': 6, 'grow_policy': 'Depthwise'}. Best is trial 16 with value: 0.6199669828194101.\u001b[0m\n",
            "/usr/local/lib/python3.8/dist-packages/catboost/core.py:1419: FutureWarning: iteritems is deprecated and will be removed in a future version. Use .items instead.\n",
            "  self._init_pool(data, label, cat_features, text_features, embedding_features, embedding_features_data, pairs, weight,\n",
            "\u001b[32m[I 2022-11-12 13:50:12,089]\u001b[0m Trial 20 finished with value: 0.619802313928476 and parameters: {'iterations': 870, 'learning_rate': 0.15471572051453847, 'depth': 8, 'grow_policy': 'Depthwise'}. Best is trial 16 with value: 0.6199669828194101.\u001b[0m\n",
            "/usr/local/lib/python3.8/dist-packages/catboost/core.py:1419: FutureWarning: iteritems is deprecated and will be removed in a future version. Use .items instead.\n",
            "  self._init_pool(data, label, cat_features, text_features, embedding_features, embedding_features_data, pairs, weight,\n",
            "\u001b[32m[I 2022-11-12 13:51:44,732]\u001b[0m Trial 21 finished with value: 0.6198087216740774 and parameters: {'iterations': 832, 'learning_rate': 0.16421566827260736, 'depth': 8, 'grow_policy': 'Depthwise'}. Best is trial 16 with value: 0.6199669828194101.\u001b[0m\n",
            "/usr/local/lib/python3.8/dist-packages/catboost/core.py:1419: FutureWarning: iteritems is deprecated and will be removed in a future version. Use .items instead.\n",
            "  self._init_pool(data, label, cat_features, text_features, embedding_features, embedding_features_data, pairs, weight,\n",
            "\u001b[32m[I 2022-11-12 13:53:00,185]\u001b[0m Trial 22 finished with value: 0.6167408354744188 and parameters: {'iterations': 738, 'learning_rate': 0.0542750915274989, 'depth': 7, 'grow_policy': 'Depthwise'}. Best is trial 16 with value: 0.6199669828194101.\u001b[0m\n",
            "/usr/local/lib/python3.8/dist-packages/catboost/core.py:1419: FutureWarning: iteritems is deprecated and will be removed in a future version. Use .items instead.\n",
            "  self._init_pool(data, label, cat_features, text_features, embedding_features, embedding_features_data, pairs, weight,\n",
            "\u001b[32m[I 2022-11-12 13:54:01,050]\u001b[0m Trial 23 finished with value: 0.6197074182674249 and parameters: {'iterations': 500, 'learning_rate': 0.39150307945647644, 'depth': 8, 'grow_policy': 'Depthwise'}. Best is trial 16 with value: 0.6199669828194101.\u001b[0m\n",
            "/usr/local/lib/python3.8/dist-packages/catboost/core.py:1419: FutureWarning: iteritems is deprecated and will be removed in a future version. Use .items instead.\n",
            "  self._init_pool(data, label, cat_features, text_features, embedding_features, embedding_features_data, pairs, weight,\n",
            "\u001b[32m[I 2022-11-12 13:55:22,470]\u001b[0m Trial 24 finished with value: 0.6193049508175013 and parameters: {'iterations': 829, 'learning_rate': 0.13785102719246858, 'depth': 7, 'grow_policy': 'Depthwise'}. Best is trial 16 with value: 0.6199669828194101.\u001b[0m\n",
            "/usr/local/lib/python3.8/dist-packages/catboost/core.py:1419: FutureWarning: iteritems is deprecated and will be removed in a future version. Use .items instead.\n",
            "  self._init_pool(data, label, cat_features, text_features, embedding_features, embedding_features_data, pairs, weight,\n"
          ]
        },
        {
          "name": "stdout",
          "output_type": "stream",
          "text": [
            "{'od_type': 'Iter', 'task_type': 'GPU', 'cat_features': [], 'iterations': 823, 'learning_rate': 0.2704966733913418, 'depth': 8, 'grow_policy': 'Depthwise'}\n"
          ]
        },
        {
          "data": {
            "application/vnd.jupyter.widget-view+json": {
              "model_id": "8c37f112a8e5440981cb5440bdce9ca0",
              "version_major": 2,
              "version_minor": 0
            },
            "text/plain": [
              "MetricVisualizer(layout=Layout(align_self='stretch', height='500px'))"
            ]
          },
          "metadata": {},
          "output_type": "display_data"
        },
        {
          "name": "stderr",
          "output_type": "stream",
          "text": [
            "\u001b[34m\u001b[1mwandb\u001b[0m: Currently logged in as: \u001b[33mkarelze\u001b[0m (\u001b[33mfbv\u001b[0m). Use \u001b[1m`wandb login --relogin`\u001b[0m to force relogin\n"
          ]
        },
        {
          "name": "stdout",
          "output_type": "stream",
          "text": [
            "Accuracy (train): 0.7762152697768103, (val) 0.6126783247630584, and (test) 0.5902354755467077\n"
          ]
        },
        {
          "data": {
            "text/html": [
              "wandb version 0.13.5 is available!  To upgrade, please run:\n",
              " $ pip install wandb --upgrade"
            ],
            "text/plain": [
              "<IPython.core.display.HTML object>"
            ]
          },
          "metadata": {},
          "output_type": "display_data"
        },
        {
          "data": {
            "text/html": [
              "Tracking run with wandb version 0.13.4"
            ],
            "text/plain": [
              "<IPython.core.display.HTML object>"
            ]
          },
          "metadata": {},
          "output_type": "display_data"
        },
        {
          "data": {
            "text/html": [
              "Run data is saved locally in <code>/root/thesis/notebooks/wandb/run-20221112_135751-1evh1qyz</code>"
            ],
            "text/plain": [
              "<IPython.core.display.HTML object>"
            ]
          },
          "metadata": {},
          "output_type": "display_data"
        },
        {
          "data": {
            "text/html": [
              "Syncing run <strong><a href=\"https://wandb.ai/fbv/thesis/runs/1evh1qyz\" target=\"_blank\">restful-sea-53</a></strong> to <a href=\"https://wandb.ai/fbv/thesis\" target=\"_blank\">Weights & Biases</a> (<a href=\"https://wandb.me/run\" target=\"_blank\">docs</a>)<br/>"
            ],
            "text/plain": [
              "<IPython.core.display.HTML object>"
            ]
          },
          "metadata": {},
          "output_type": "display_data"
        },
        {
          "name": "stderr",
          "output_type": "stream",
          "text": [
            "<ipython-input-20-ad03fda8721d>:12: ExperimentalWarning: WeightsAndBiasesCallback is experimental (supported from v2.9.0). The interface can change in the future.\n",
            "  wandbc = WeightsAndBiasesCallback(wandb_kwargs=wandb_kwargs)\n"
          ]
        },
        {
          "data": {
            "text/html": [
              "Finishing last run (ID:1evh1qyz) before initializing another..."
            ],
            "text/plain": [
              "<IPython.core.display.HTML object>"
            ]
          },
          "metadata": {},
          "output_type": "display_data"
        },
        {
          "data": {
            "text/html": [
              "Waiting for W&B process to finish... <strong style=\"color:green\">(success).</strong>"
            ],
            "text/plain": [
              "<IPython.core.display.HTML object>"
            ]
          },
          "metadata": {},
          "output_type": "display_data"
        },
        {
          "data": {
            "text/html": [
              "Synced <strong style=\"color:#cdcd00\">restful-sea-53</strong>: <a href=\"https://wandb.ai/fbv/thesis/runs/1evh1qyz\" target=\"_blank\">https://wandb.ai/fbv/thesis/runs/1evh1qyz</a><br/>Synced 5 W&B file(s), 0 media file(s), 0 artifact file(s) and 0 other file(s)"
            ],
            "text/plain": [
              "<IPython.core.display.HTML object>"
            ]
          },
          "metadata": {},
          "output_type": "display_data"
        },
        {
          "data": {
            "text/html": [
              "Find logs at: <code>./wandb/run-20221112_135751-1evh1qyz/logs</code>"
            ],
            "text/plain": [
              "<IPython.core.display.HTML object>"
            ]
          },
          "metadata": {},
          "output_type": "display_data"
        },
        {
          "data": {
            "text/html": [
              "Successfully finished last run (ID:1evh1qyz). Initializing new run:<br/>"
            ],
            "text/plain": [
              "<IPython.core.display.HTML object>"
            ]
          },
          "metadata": {},
          "output_type": "display_data"
        },
        {
          "data": {
            "application/vnd.jupyter.widget-view+json": {
              "model_id": "f779d240f93f43dfb3d99a88d270e511",
              "version_major": 2,
              "version_minor": 0
            },
            "text/plain": [
              "VBox(children=(Label(value='Waiting for wandb.init()...\\r'), FloatProgress(value=0.016671125249316295, max=1.0…"
            ]
          },
          "metadata": {},
          "output_type": "display_data"
        },
        {
          "data": {
            "text/html": [
              "wandb version 0.13.5 is available!  To upgrade, please run:\n",
              " $ pip install wandb --upgrade"
            ],
            "text/plain": [
              "<IPython.core.display.HTML object>"
            ]
          },
          "metadata": {},
          "output_type": "display_data"
        },
        {
          "data": {
            "text/html": [
              "Tracking run with wandb version 0.13.4"
            ],
            "text/plain": [
              "<IPython.core.display.HTML object>"
            ]
          },
          "metadata": {},
          "output_type": "display_data"
        },
        {
          "data": {
            "text/html": [
              "Run data is saved locally in <code>/root/thesis/notebooks/wandb/run-20221112_135757-1va505iy</code>"
            ],
            "text/plain": [
              "<IPython.core.display.HTML object>"
            ]
          },
          "metadata": {},
          "output_type": "display_data"
        },
        {
          "data": {
            "text/html": [
              "Syncing run <strong><a href=\"https://wandb.ai/fbv/thesis/runs/1va505iy\" target=\"_blank\">major-water-54</a></strong> to <a href=\"https://wandb.ai/fbv/thesis\" target=\"_blank\">Weights & Biases</a> (<a href=\"https://wandb.me/run\" target=\"_blank\">docs</a>)<br/>"
            ],
            "text/plain": [
              "<IPython.core.display.HTML object>"
            ]
          },
          "metadata": {},
          "output_type": "display_data"
        },
        {
          "name": "stderr",
          "output_type": "stream",
          "text": [
            "\u001b[32m[I 2022-11-12 13:58:04,508]\u001b[0m A new study created in memory with name: baseline_gbm\u001b[0m\n",
            "/usr/local/lib/python3.8/dist-packages/catboost/core.py:1419: FutureWarning: iteritems is deprecated and will be removed in a future version. Use .items instead.\n",
            "  self._init_pool(data, label, cat_features, text_features, embedding_features, embedding_features_data, pairs, weight,\n",
            "\u001b[32m[I 2022-11-12 13:59:07,088]\u001b[0m Trial 0 finished with value: 0.6112391247589086 and parameters: {'iterations': 624, 'learning_rate': 0.7701798297509621, 'depth': 6, 'grow_policy': 'SymmetricTree'}. Best is trial 0 with value: 0.6112391247589086.\u001b[0m\n",
            "/usr/local/lib/python3.8/dist-packages/catboost/core.py:1419: FutureWarning: iteritems is deprecated and will be removed in a future version. Use .items instead.\n",
            "  self._init_pool(data, label, cat_features, text_features, embedding_features, embedding_features_data, pairs, weight,\n",
            "\u001b[32m[I 2022-11-12 13:59:49,467]\u001b[0m Trial 1 finished with value: 0.5973822223302611 and parameters: {'iterations': 318, 'learning_rate': 0.006801773068059042, 'depth': 7, 'grow_policy': 'Depthwise'}. Best is trial 0 with value: 0.6112391247589086.\u001b[0m\n",
            "/usr/local/lib/python3.8/dist-packages/catboost/core.py:1419: FutureWarning: iteritems is deprecated and will be removed in a future version. Use .items instead.\n",
            "  self._init_pool(data, label, cat_features, text_features, embedding_features, embedding_features_data, pairs, weight,\n",
            "\u001b[32m[I 2022-11-12 14:00:10,093]\u001b[0m Trial 2 finished with value: 0.60380878432759 and parameters: {'iterations': 128, 'learning_rate': 0.8526320769491548, 'depth': 7, 'grow_policy': 'SymmetricTree'}. Best is trial 0 with value: 0.6112391247589086.\u001b[0m\n",
            "/usr/local/lib/python3.8/dist-packages/catboost/core.py:1419: FutureWarning: iteritems is deprecated and will be removed in a future version. Use .items instead.\n",
            "  self._init_pool(data, label, cat_features, text_features, embedding_features, embedding_features_data, pairs, weight,\n",
            "\u001b[32m[I 2022-11-12 14:00:47,748]\u001b[0m Trial 3 finished with value: 0.5934880420787499 and parameters: {'iterations': 356, 'learning_rate': 0.02506343151217439, 'depth': 5, 'grow_policy': 'SymmetricTree'}. Best is trial 0 with value: 0.6112391247589086.\u001b[0m\n",
            "/usr/local/lib/python3.8/dist-packages/catboost/core.py:1419: FutureWarning: iteritems is deprecated and will be removed in a future version. Use .items instead.\n",
            "  self._init_pool(data, label, cat_features, text_features, embedding_features, embedding_features_data, pairs, weight,\n",
            "\u001b[32m[I 2022-11-12 14:01:51,852]\u001b[0m Trial 4 finished with value: 0.5957693012231369 and parameters: {'iterations': 957, 'learning_rate': 0.010470069436968722, 'depth': 3, 'grow_policy': 'Depthwise'}. Best is trial 0 with value: 0.6112391247589086.\u001b[0m\n",
            "/usr/local/lib/python3.8/dist-packages/catboost/core.py:1419: FutureWarning: iteritems is deprecated and will be removed in a future version. Use .items instead.\n",
            "  self._init_pool(data, label, cat_features, text_features, embedding_features, embedding_features_data, pairs, weight,\n",
            "\u001b[32m[I 2022-11-12 14:03:32,049]\u001b[0m Trial 5 finished with value: 0.5959599062272201 and parameters: {'iterations': 1200, 'learning_rate': 0.014402084889402762, 'depth': 5, 'grow_policy': 'SymmetricTree'}. Best is trial 0 with value: 0.6112391247589086.\u001b[0m\n",
            "/usr/local/lib/python3.8/dist-packages/catboost/core.py:1419: FutureWarning: iteritems is deprecated and will be removed in a future version. Use .items instead.\n",
            "  self._init_pool(data, label, cat_features, text_features, embedding_features, embedding_features_data, pairs, weight,\n",
            "\u001b[32m[I 2022-11-12 14:04:22,424]\u001b[0m Trial 6 finished with value: 0.5896850959193747 and parameters: {'iterations': 951, 'learning_rate': 0.012341022039945061, 'depth': 1, 'grow_policy': 'Depthwise'}. Best is trial 0 with value: 0.6112391247589086.\u001b[0m\n",
            "/usr/local/lib/python3.8/dist-packages/catboost/core.py:1419: FutureWarning: iteritems is deprecated and will be removed in a future version. Use .items instead.\n",
            "  self._init_pool(data, label, cat_features, text_features, embedding_features, embedding_features_data, pairs, weight,\n",
            "\u001b[32m[I 2022-11-12 14:05:26,451]\u001b[0m Trial 7 finished with value: 0.5849115288667414 and parameters: {'iterations': 1232, 'learning_rate': 0.02511281655997384, 'depth': 1, 'grow_policy': 'SymmetricTree'}. Best is trial 0 with value: 0.6112391247589086.\u001b[0m\n",
            "/usr/local/lib/python3.8/dist-packages/catboost/core.py:1419: FutureWarning: iteritems is deprecated and will be removed in a future version. Use .items instead.\n",
            "  self._init_pool(data, label, cat_features, text_features, embedding_features, embedding_features_data, pairs, weight,\n",
            "\u001b[32m[I 2022-11-12 14:05:49,328]\u001b[0m Trial 8 finished with value: 0.5834783297672025 and parameters: {'iterations': 270, 'learning_rate': 0.0689266113392399, 'depth': 1, 'grow_policy': 'SymmetricTree'}. Best is trial 0 with value: 0.6112391247589086.\u001b[0m\n",
            "/usr/local/lib/python3.8/dist-packages/catboost/core.py:1419: FutureWarning: iteritems is deprecated and will be removed in a future version. Use .items instead.\n",
            "  self._init_pool(data, label, cat_features, text_features, embedding_features, embedding_features_data, pairs, weight,\n",
            "\u001b[32m[I 2022-11-12 14:07:16,547]\u001b[0m Trial 9 finished with value: 0.5980848367209796 and parameters: {'iterations': 1028, 'learning_rate': 0.026075133487058314, 'depth': 5, 'grow_policy': 'SymmetricTree'}. Best is trial 0 with value: 0.6112391247589086.\u001b[0m\n",
            "/usr/local/lib/python3.8/dist-packages/catboost/core.py:1419: FutureWarning: iteritems is deprecated and will be removed in a future version. Use .items instead.\n",
            "  self._init_pool(data, label, cat_features, text_features, embedding_features, embedding_features_data, pairs, weight,\n",
            "\u001b[32m[I 2022-11-12 14:08:33,726]\u001b[0m Trial 10 finished with value: 0.6098098923590278 and parameters: {'iterations': 624, 'learning_rate': 0.7006698789278818, 'depth': 8, 'grow_policy': 'Depthwise'}. Best is trial 0 with value: 0.6112391247589086.\u001b[0m\n",
            "/usr/local/lib/python3.8/dist-packages/catboost/core.py:1419: FutureWarning: iteritems is deprecated and will be removed in a future version. Use .items instead.\n",
            "  self._init_pool(data, label, cat_features, text_features, embedding_features, embedding_features_data, pairs, weight,\n",
            "\u001b[32m[I 2022-11-12 14:09:50,668]\u001b[0m Trial 11 finished with value: 0.6080215210747193 and parameters: {'iterations': 622, 'learning_rate': 0.6131036819923589, 'depth': 8, 'grow_policy': 'Depthwise'}. Best is trial 0 with value: 0.6112391247589086.\u001b[0m\n",
            "/usr/local/lib/python3.8/dist-packages/catboost/core.py:1419: FutureWarning: iteritems is deprecated and will be removed in a future version. Use .items instead.\n",
            "  self._init_pool(data, label, cat_features, text_features, embedding_features, embedding_features_data, pairs, weight,\n",
            "\u001b[32m[I 2022-11-12 14:11:05,860]\u001b[0m Trial 12 finished with value: 0.612068571828438 and parameters: {'iterations': 609, 'learning_rate': 0.34339065628088383, 'depth': 8, 'grow_policy': 'Depthwise'}. Best is trial 12 with value: 0.612068571828438.\u001b[0m\n",
            "/usr/local/lib/python3.8/dist-packages/catboost/core.py:1419: FutureWarning: iteritems is deprecated and will be removed in a future version. Use .items instead.\n",
            "  self._init_pool(data, label, cat_features, text_features, embedding_features, embedding_features_data, pairs, weight,\n",
            "\u001b[32m[I 2022-11-12 14:12:07,327]\u001b[0m Trial 13 finished with value: 0.6112062723489199 and parameters: {'iterations': 638, 'learning_rate': 0.2598888902821737, 'depth': 6, 'grow_policy': 'Depthwise'}. Best is trial 12 with value: 0.612068571828438.\u001b[0m\n",
            "/usr/local/lib/python3.8/dist-packages/catboost/core.py:1419: FutureWarning: iteritems is deprecated and will be removed in a future version. Use .items instead.\n",
            "  self._init_pool(data, label, cat_features, text_features, embedding_features, embedding_features_data, pairs, weight,\n",
            "\u001b[32m[I 2022-11-12 14:13:01,008]\u001b[0m Trial 14 finished with value: 0.5978707366496909 and parameters: {'iterations': 727, 'learning_rate': 0.2257849425211082, 'depth': 3, 'grow_policy': 'SymmetricTree'}. Best is trial 12 with value: 0.612068571828438.\u001b[0m\n",
            "/usr/local/lib/python3.8/dist-packages/catboost/core.py:1419: FutureWarning: iteritems is deprecated and will be removed in a future version. Use .items instead.\n",
            "  self._init_pool(data, label, cat_features, text_features, embedding_features, embedding_features_data, pairs, weight,\n",
            "\u001b[32m[I 2022-11-12 14:13:52,624]\u001b[0m Trial 15 finished with value: 0.6115901268235249 and parameters: {'iterations': 449, 'learning_rate': 0.3301466521629901, 'depth': 7, 'grow_policy': 'Depthwise'}. Best is trial 12 with value: 0.612068571828438.\u001b[0m\n",
            "/usr/local/lib/python3.8/dist-packages/catboost/core.py:1419: FutureWarning: iteritems is deprecated and will be removed in a future version. Use .items instead.\n",
            "  self._init_pool(data, label, cat_features, text_features, embedding_features, embedding_features_data, pairs, weight,\n",
            "\u001b[32m[I 2022-11-12 14:14:46,310]\u001b[0m Trial 16 finished with value: 0.6115731412121685 and parameters: {'iterations': 474, 'learning_rate': 0.18113416901622695, 'depth': 7, 'grow_policy': 'Depthwise'}. Best is trial 12 with value: 0.612068571828438.\u001b[0m\n",
            "/usr/local/lib/python3.8/dist-packages/catboost/core.py:1419: FutureWarning: iteritems is deprecated and will be removed in a future version. Use .items instead.\n",
            "  self._init_pool(data, label, cat_features, text_features, embedding_features, embedding_features_data, pairs, weight,\n",
            "\u001b[32m[I 2022-11-12 14:17:30,000]\u001b[0m Trial 17 finished with value: 0.6137827963422147 and parameters: {'iterations': 1455, 'learning_rate': 0.11327366684690808, 'depth': 8, 'grow_policy': 'Depthwise'}. Best is trial 17 with value: 0.6137827963422147.\u001b[0m\n",
            "/usr/local/lib/python3.8/dist-packages/catboost/core.py:1419: FutureWarning: iteritems is deprecated and will be removed in a future version. Use .items instead.\n",
            "  self._init_pool(data, label, cat_features, text_features, embedding_features, embedding_features_data, pairs, weight,\n",
            "\u001b[32m[I 2022-11-12 14:20:06,609]\u001b[0m Trial 18 finished with value: 0.6134887520162785 and parameters: {'iterations': 1386, 'learning_rate': 0.09487975191696654, 'depth': 8, 'grow_policy': 'Depthwise'}. Best is trial 17 with value: 0.6137827963422147.\u001b[0m\n",
            "/usr/local/lib/python3.8/dist-packages/catboost/core.py:1419: FutureWarning: iteritems is deprecated and will be removed in a future version. Use .items instead.\n",
            "  self._init_pool(data, label, cat_features, text_features, embedding_features, embedding_features_data, pairs, weight,\n",
            "\u001b[32m[I 2022-11-12 14:21:49,660]\u001b[0m Trial 19 finished with value: 0.6036451325391322 and parameters: {'iterations': 1489, 'learning_rate': 0.07260882626936431, 'depth': 4, 'grow_policy': 'Depthwise'}. Best is trial 17 with value: 0.6137827963422147.\u001b[0m\n",
            "/usr/local/lib/python3.8/dist-packages/catboost/core.py:1419: FutureWarning: iteritems is deprecated and will be removed in a future version. Use .items instead.\n",
            "  self._init_pool(data, label, cat_features, text_features, embedding_features, embedding_features_data, pairs, weight,\n",
            "\u001b[32m[I 2022-11-12 14:23:58,443]\u001b[0m Trial 20 finished with value: 0.6115830071061898 and parameters: {'iterations': 1499, 'learning_rate': 0.101810016516983, 'depth': 6, 'grow_policy': 'Depthwise'}. Best is trial 17 with value: 0.6137827963422147.\u001b[0m\n",
            "/usr/local/lib/python3.8/dist-packages/catboost/core.py:1419: FutureWarning: iteritems is deprecated and will be removed in a future version. Use .items instead.\n",
            "  self._init_pool(data, label, cat_features, text_features, embedding_features, embedding_features_data, pairs, weight,\n",
            "\u001b[32m[I 2022-11-12 14:26:31,124]\u001b[0m Trial 21 finished with value: 0.614002999028362 and parameters: {'iterations': 1352, 'learning_rate': 0.12935198419478558, 'depth': 8, 'grow_policy': 'Depthwise'}. Best is trial 21 with value: 0.614002999028362.\u001b[0m\n",
            "/usr/local/lib/python3.8/dist-packages/catboost/core.py:1419: FutureWarning: iteritems is deprecated and will be removed in a future version. Use .items instead.\n",
            "  self._init_pool(data, label, cat_features, text_features, embedding_features, embedding_features_data, pairs, weight,\n",
            "\u001b[32m[I 2022-11-12 14:29:02,710]\u001b[0m Trial 22 finished with value: 0.6140093050637159 and parameters: {'iterations': 1340, 'learning_rate': 0.12216952524150139, 'depth': 8, 'grow_policy': 'Depthwise'}. Best is trial 22 with value: 0.6140093050637159.\u001b[0m\n",
            "/usr/local/lib/python3.8/dist-packages/catboost/core.py:1419: FutureWarning: iteritems is deprecated and will be removed in a future version. Use .items instead.\n",
            "  self._init_pool(data, label, cat_features, text_features, embedding_features, embedding_features_data, pairs, weight,\n",
            "\u001b[32m[I 2022-11-12 14:31:31,270]\u001b[0m Trial 23 finished with value: 0.6133796169205575 and parameters: {'iterations': 1296, 'learning_rate': 0.15033647522082177, 'depth': 8, 'grow_policy': 'Depthwise'}. Best is trial 22 with value: 0.6140093050637159.\u001b[0m\n",
            "/usr/local/lib/python3.8/dist-packages/catboost/core.py:1419: FutureWarning: iteritems is deprecated and will be removed in a future version. Use .items instead.\n",
            "  self._init_pool(data, label, cat_features, text_features, embedding_features, embedding_features_data, pairs, weight,\n",
            "\u001b[32m[I 2022-11-12 14:33:25,335]\u001b[0m Trial 24 finished with value: 0.6103345138163709 and parameters: {'iterations': 1138, 'learning_rate': 0.04552624302686266, 'depth': 7, 'grow_policy': 'Depthwise'}. Best is trial 22 with value: 0.6140093050637159.\u001b[0m\n",
            "/usr/local/lib/python3.8/dist-packages/catboost/core.py:1419: FutureWarning: iteritems is deprecated and will be removed in a future version. Use .items instead.\n",
            "  self._init_pool(data, label, cat_features, text_features, embedding_features, embedding_features_data, pairs, weight,\n"
          ]
        },
        {
          "name": "stdout",
          "output_type": "stream",
          "text": [
            "{'od_type': 'Iter', 'task_type': 'GPU', 'cat_features': [], 'iterations': 1340, 'learning_rate': 0.12216952524150139, 'depth': 8, 'grow_policy': 'Depthwise'}\n"
          ]
        },
        {
          "data": {
            "application/vnd.jupyter.widget-view+json": {
              "model_id": "484ef48eadb5434781401c701083b9b7",
              "version_major": 2,
              "version_minor": 0
            },
            "text/plain": [
              "MetricVisualizer(layout=Layout(align_self='stretch', height='500px'))"
            ]
          },
          "metadata": {},
          "output_type": "display_data"
        },
        {
          "name": "stdout",
          "output_type": "stream",
          "text": [
            "Accuracy (train): 0.7751827157414762, (val) 0.6133232694433632, and (test) 0.5917529814707102\n"
          ]
        }
      ],
      "source": [
        "studies = []\n",
        "\n",
        "for features in tqdm(feature_sets):\n",
        "\n",
        "    # FIXME: Change later if needed\n",
        "    cat_features = None\n",
        "\n",
        "    # connect to weights and biases\n",
        "    run = wandb.init(project=\"thesis\", job_type=\"baseline\", entity=\"fbv\")\n",
        "\n",
        "    wandb_kwargs = {\"project\": \"thesis\"}\n",
        "    wandbc = WeightsAndBiasesCallback(wandb_kwargs=wandb_kwargs)\n",
        "\n",
        "    # Implement hyperparameter search\n",
        "    study = optuna.create_study(\n",
        "        direction=\"maximize\",\n",
        "        sampler=optuna.samplers.TPESampler(seed=seed),\n",
        "        study_name=\"baseline_gbm\",\n",
        "    )\n",
        "\n",
        "    study.optimize(\n",
        "        lambda trial: objective(trial, features, cat_features),\n",
        "        n_trials=25,\n",
        "        callbacks=[wandbc],\n",
        "    )\n",
        "    studies.append(study)\n",
        "\n",
        "    # fit classifier using best parameter combination\n",
        "    trial = study.best_trial\n",
        "    static_params = {\"od_type\": \"Iter\", \"task_type\": \"GPU\", \"cat_features\": cat_columns}\n",
        "    params = {**static_params, **trial.params}\n",
        "    print(params)\n",
        "\n",
        "    model = CatBoostClassifier(**params)\n",
        "    model.fit(X_train, y_train, plot=True, verbose=False)\n",
        "\n",
        "    # plot accuracy for train, val and test\n",
        "    acc_train = model.score(X_train, y_train)\n",
        "    acc_val = model.score(X_val, y_val)\n",
        "    acc_test = model.score(X_test, y_test)\n",
        "\n",
        "    print(f\"Accuracy (train): {acc_train}, (val) {acc_val}, and (test) {acc_test}\")\n",
        "\n",
        "    run.finish()\n"
      ]
    },
    {
      "cell_type": "code",
      "execution_count": null,
      "metadata": {
        "id": "ujM_aozLILeQ",
        "outputId": "cfde78b6-8c2f-42e3-fbdd-97d85d8a5f60"
      },
      "outputs": [
        {
          "data": {
            "application/vnd.jupyter.widget-view+json": {
              "model_id": "e30582912cf14bb39383c9fbd4069dcf",
              "version_major": 2,
              "version_minor": 0
            },
            "text/plain": [
              "  0%|          | 0/2 [00:00<?, ?it/s]"
            ]
          },
          "metadata": {},
          "output_type": "display_data"
        },
        {
          "name": "stderr",
          "output_type": "stream",
          "text": [
            "<ipython-input-21-e122d82789ba>:2: ExperimentalWarning: plot_optimization_history is experimental (supported from v2.2.0). The interface can change in the future.\n",
            "  ax_history = optuna.visualization.matplotlib.plot_optimization_history(study)\n",
            "<ipython-input-21-e122d82789ba>:3: ExperimentalWarning: plot_param_importances is experimental (supported from v2.2.0). The interface can change in the future.\n",
            "  ax_param_importance = optuna.visualization.matplotlib.plot_param_importances(study)\n",
            "<ipython-input-21-e122d82789ba>:4: ExperimentalWarning: plot_contour is experimental (supported from v2.2.0). The interface can change in the future.\n",
            "  fig_contour = optuna.visualization.matplotlib.plot_contour(\n",
            "\u001b[33m[W 2022-11-12 14:37:06,740]\u001b[0m Output figures of this Matplotlib-based `plot_contour` function would be different from those of the Plotly-based `plot_contour`.\u001b[0m\n",
            "<ipython-input-21-e122d82789ba>:2: ExperimentalWarning: plot_optimization_history is experimental (supported from v2.2.0). The interface can change in the future.\n",
            "  ax_history = optuna.visualization.matplotlib.plot_optimization_history(study)\n",
            "<ipython-input-21-e122d82789ba>:3: ExperimentalWarning: plot_param_importances is experimental (supported from v2.2.0). The interface can change in the future.\n",
            "  ax_param_importance = optuna.visualization.matplotlib.plot_param_importances(study)\n",
            "<ipython-input-21-e122d82789ba>:4: ExperimentalWarning: plot_contour is experimental (supported from v2.2.0). The interface can change in the future.\n",
            "  fig_contour = optuna.visualization.matplotlib.plot_contour(\n",
            "\u001b[33m[W 2022-11-12 14:37:10,099]\u001b[0m Output figures of this Matplotlib-based `plot_contour` function would be different from those of the Plotly-based `plot_contour`.\u001b[0m\n"
          ]
        },
        {
          "data": {
            "image/png": "[encoded data removed]",
            "text/plain": [
              "<Figure size 432x288 with 1 Axes>"
            ]
          },
          "metadata": {},
          "output_type": "display_data"
        },
        {
          "data": {
            "image/png": "[encoded data removed]",
            "text/plain": [
              "<Figure size 432x288 with 1 Axes>"
            ]
          },
          "metadata": {},
          "output_type": "display_data"
        },
        {
          "data": {
            "image/png": "[encoded data removed]",
            "text/plain": [
              "<Figure size 432x288 with 17 Axes>"
            ]
          },
          "metadata": {},
          "output_type": "display_data"
        },
        {
          "data": {
            "image/png": "[encoded data removed]",
            "text/plain": [
              "<Figure size 432x288 with 1 Axes>"
            ]
          },
          "metadata": {},
          "output_type": "display_data"
        },
        {
          "data": {
            "image/png": "[encoded data removed]",
            "text/plain": [
              "<Figure size 432x288 with 1 Axes>"
            ]
          },
          "metadata": {},
          "output_type": "display_data"
        },
        {
          "data": {
            "image/png": "[encoded data removed]",
            "text/plain": [
              "<Figure size 432x288 with 17 Axes>"
            ]
          },
          "metadata": {},
          "output_type": "display_data"
        }
      ],
      "source": [
        "for study in tqdm(studies):\n",
        "    ax_history = optuna.visualization.matplotlib.plot_optimization_history(study)\n",
        "    ax_param_importance = optuna.visualization.matplotlib.plot_param_importances(study)\n",
        "    fig_contour = optuna.visualization.matplotlib.plot_contour(\n",
        "        study, [\"iterations\", \"depth\", \"grow_policy\", \"learning_rate\"]\n",
        "    )\n"
      ]
    },
    {
      "cell_type": "markdown",
      "metadata": {
        "id": "h3vzAVSc_DfD"
      },
      "source": [
        "### Robustness Baseline🥊"
      ]
    },
    {
      "cell_type": "code",
      "execution_count": null,
      "metadata": {
        "id": "3evMG-KVA2eX"
      },
      "outputs": [],
      "source": [
        "# Copy unscaled columns\n",
        "X_print = test.copy()\n",
        "# X_print = pd.concat([train, val, test])\n",
        "\n",
        "# add baseline results\n",
        "X_print[\"rule\"] = \"Baseline\"\n",
        "X_print[\"buy_sell_predicted\"] = 0  # model.predict(X_test)\n",
        "\n",
        "# prepare columns for printing\n",
        "X_print[\"ttm\"] = (\n",
        "    X_print[\"EXPIRATION\"].dt.to_period(\"M\")\n",
        "    - X_print[\"QUOTE_DATETIME\"].dt.to_period(\"M\")\n",
        ").apply(lambda x: x.n)\n",
        "X_print[\"year\"] = X_print[\"QUOTE_DATETIME\"].dt.year\n",
        "\n",
        "bins_tradesize = [-np.inf, 1, 3, 5, 11, np.inf]\n",
        "trade_size_labels = [\"(0,1]\", \"(1,3]\", \"(3,5]\", \"(5,11]\", \">11\"]\n",
        "X_print[\"TRADE_SIZE_binned\"] = pd.cut(\n",
        "    X_print[\"TRADE_SIZE\"], bins_tradesize, labels=trade_size_labels\n",
        ")\n",
        "\n",
        "bins_years = [2004, 2007, 2010, 2011, 2012, 2013, 2014, 2015, 2016, 2017]\n",
        "year_labels = [\n",
        "    \"2005-2007\",\n",
        "    \"2008-2010\",\n",
        "    \"2011\",\n",
        "    \"2012\",\n",
        "    \"2013\",\n",
        "    \"2014\",\n",
        "    \"2015\",\n",
        "    \"2016\",\n",
        "    \"2017\",\n",
        "]\n",
        "X_print[\"year_binned\"] = pd.cut(X_print[\"year\"], bins_years, labels=year_labels)\n",
        "\n",
        "bins_ttm = [-np.inf, 1, 2, 3, 6, 12, np.inf]\n",
        "ttm_labels = [\n",
        "    \"ttm <= 1 month\",\n",
        "    \"ttm (1-2] month\",\n",
        "    \"ttm (2-3] month\",\n",
        "    \"ttm (3-6] month\",\n",
        "    \"ttm (6-12] month\",\n",
        "    \"ttm > 12 month\",\n",
        "]\n",
        "X_print[\"ttm_binned\"] = pd.cut(X_print[\"ttm\"], bins_ttm, labels=ttm_labels)\n",
        "\n",
        "# TODO: Security type\n",
        "# TODO: Moneyness\n",
        "# TODO: time from previous trade; same underlying or any?\n"
      ]
    },
    {
      "cell_type": "code",
      "execution_count": null,
      "metadata": {
        "id": "clDZ4Z95_0jj"
      },
      "outputs": [],
      "source": [
        "def check_robustness(criterion: str = \"year_binned\") -> pd.DataFrame:\n",
        "    \"\"\"\n",
        "    Check robustness of rules by calculating the accuracy for a given\n",
        "    criterion and rules.\n",
        "\n",
        "    Example:\n",
        "    rule\t\tBaseline\n",
        "    TRADE_SIZE_binned\n",
        "    (0,1]\t  0.710966\n",
        "    (1,3]\t  0.717664\n",
        "    (3,5]\t  0.715195\n",
        "    (5,11]\t0.699428\n",
        "    >11\t  \t0.688348\n",
        "\n",
        "    Args:\n",
        "        criterion (str, optional): criterion to check robustness for.\n",
        "        Defaults to \"year_binned\".\n",
        "\n",
        "    Returns:\n",
        "        pd.DataFrame: DataFrame with accuracy of rules. Rule in columns and\n",
        "        criterion values in rows.\n",
        "    \"\"\"\n",
        "\n",
        "    # fill others randomly with equal weight for every class.\n",
        "    X_print[\"buy_sell_predicted\"] = X_print[\"buy_sell_predicted\"].map(\n",
        "        lambda l: l if not np.isnan(l) else np.random.choice([-1, 1])\n",
        "    )\n",
        "\n",
        "    # cuculate average over columns if multiple subsets are combined\n",
        "    results = (\n",
        "        X_print.groupby([\"rule\", criterion])[[\"buy_sell\", \"buy_sell_predicted\"]]\n",
        "        .apply(lambda x: accuracy_score(x[\"buy_sell\"], x[\"buy_sell_predicted\"]))\n",
        "        .unstack(level=0)\n",
        "        .assign(avg=lambda x: x.mean(axis=1))\n",
        "    )\n",
        "    return results\n"
      ]
    },
    {
      "cell_type": "code",
      "execution_count": null,
      "metadata": {
        "id": "4KRw_J0IJiFU",
        "outputId": "073e5fba-bf29-4eb7-c4ac-18bc2a027967"
      },
      "outputs": [
        {
          "data": {
            "text/html": [
              "<div>\n",
              "<style scoped>\n",
              "    .dataframe tbody tr th:only-of-type {\n",
              "        vertical-align: middle;\n",
              "    }\n",
              "\n",
              "    .dataframe tbody tr th {\n",
              "        vertical-align: top;\n",
              "    }\n",
              "\n",
              "    .dataframe thead th {\n",
              "        text-align: right;\n",
              "    }\n",
              "</style>\n",
              "<table border=\"1\" class=\"dataframe\">\n",
              "  <thead>\n",
              "    <tr style=\"text-align: right;\">\n",
              "      <th>rule</th>\n",
              "      <th>Baseline</th>\n",
              "      <th>avg</th>\n",
              "    </tr>\n",
              "    <tr>\n",
              "      <th>year_binned</th>\n",
              "      <th></th>\n",
              "      <th></th>\n",
              "    </tr>\n",
              "  </thead>\n",
              "  <tbody>\n",
              "    <tr>\n",
              "      <th>2015</th>\n",
              "      <td>0.0</td>\n",
              "      <td>0.0</td>\n",
              "    </tr>\n",
              "    <tr>\n",
              "      <th>2016</th>\n",
              "      <td>0.0</td>\n",
              "      <td>0.0</td>\n",
              "    </tr>\n",
              "    <tr>\n",
              "      <th>2017</th>\n",
              "      <td>0.0</td>\n",
              "      <td>0.0</td>\n",
              "    </tr>\n",
              "  </tbody>\n",
              "</table>\n",
              "</div>"
            ],
            "text/plain": [
              "rule         Baseline  avg\n",
              "year_binned               \n",
              "2015              0.0  0.0\n",
              "2016              0.0  0.0\n",
              "2017              0.0  0.0"
            ]
          },
          "execution_count": 24,
          "metadata": {},
          "output_type": "execute_result"
        }
      ],
      "source": [
        "check_robustness(\"year_binned\")\n"
      ]
    },
    {
      "cell_type": "code",
      "execution_count": null,
      "metadata": {
        "id": "fCey7G_tE6zt",
        "outputId": "7880ba07-7573-4b84-f389-1ddc056d8ab0"
      },
      "outputs": [
        {
          "data": {
            "text/html": [
              "<div>\n",
              "<style scoped>\n",
              "    .dataframe tbody tr th:only-of-type {\n",
              "        vertical-align: middle;\n",
              "    }\n",
              "\n",
              "    .dataframe tbody tr th {\n",
              "        vertical-align: top;\n",
              "    }\n",
              "\n",
              "    .dataframe thead th {\n",
              "        text-align: right;\n",
              "    }\n",
              "</style>\n",
              "<table border=\"1\" class=\"dataframe\">\n",
              "  <thead>\n",
              "    <tr style=\"text-align: right;\">\n",
              "      <th>rule</th>\n",
              "      <th>Baseline</th>\n",
              "      <th>avg</th>\n",
              "    </tr>\n",
              "    <tr>\n",
              "      <th>OPTION_TYPE</th>\n",
              "      <th></th>\n",
              "      <th></th>\n",
              "    </tr>\n",
              "  </thead>\n",
              "  <tbody>\n",
              "    <tr>\n",
              "      <th>C</th>\n",
              "      <td>0.0</td>\n",
              "      <td>0.0</td>\n",
              "    </tr>\n",
              "    <tr>\n",
              "      <th>P</th>\n",
              "      <td>0.0</td>\n",
              "      <td>0.0</td>\n",
              "    </tr>\n",
              "  </tbody>\n",
              "</table>\n",
              "</div>"
            ],
            "text/plain": [
              "rule         Baseline  avg\n",
              "OPTION_TYPE               \n",
              "C                 0.0  0.0\n",
              "P                 0.0  0.0"
            ]
          },
          "execution_count": 25,
          "metadata": {},
          "output_type": "execute_result"
        }
      ],
      "source": [
        "check_robustness(\"OPTION_TYPE\")\n"
      ]
    },
    {
      "cell_type": "code",
      "execution_count": null,
      "metadata": {
        "id": "Zpg1yY2MEGFa",
        "outputId": "358e3f60-1f32-463e-c6b2-f416391cf4df"
      },
      "outputs": [
        {
          "data": {
            "text/html": [
              "<div>\n",
              "<style scoped>\n",
              "    .dataframe tbody tr th:only-of-type {\n",
              "        vertical-align: middle;\n",
              "    }\n",
              "\n",
              "    .dataframe tbody tr th {\n",
              "        vertical-align: top;\n",
              "    }\n",
              "\n",
              "    .dataframe thead th {\n",
              "        text-align: right;\n",
              "    }\n",
              "</style>\n",
              "<table border=\"1\" class=\"dataframe\">\n",
              "  <thead>\n",
              "    <tr style=\"text-align: right;\">\n",
              "      <th>rule</th>\n",
              "      <th>Baseline</th>\n",
              "      <th>avg</th>\n",
              "    </tr>\n",
              "    <tr>\n",
              "      <th>TRADE_SIZE_binned</th>\n",
              "      <th></th>\n",
              "      <th></th>\n",
              "    </tr>\n",
              "  </thead>\n",
              "  <tbody>\n",
              "    <tr>\n",
              "      <th>(0,1]</th>\n",
              "      <td>0.0</td>\n",
              "      <td>0.0</td>\n",
              "    </tr>\n",
              "    <tr>\n",
              "      <th>(1,3]</th>\n",
              "      <td>0.0</td>\n",
              "      <td>0.0</td>\n",
              "    </tr>\n",
              "    <tr>\n",
              "      <th>(3,5]</th>\n",
              "      <td>0.0</td>\n",
              "      <td>0.0</td>\n",
              "    </tr>\n",
              "    <tr>\n",
              "      <th>(5,11]</th>\n",
              "      <td>0.0</td>\n",
              "      <td>0.0</td>\n",
              "    </tr>\n",
              "    <tr>\n",
              "      <th>&gt;11</th>\n",
              "      <td>0.0</td>\n",
              "      <td>0.0</td>\n",
              "    </tr>\n",
              "  </tbody>\n",
              "</table>\n",
              "</div>"
            ],
            "text/plain": [
              "rule               Baseline  avg\n",
              "TRADE_SIZE_binned               \n",
              "(0,1]                   0.0  0.0\n",
              "(1,3]                   0.0  0.0\n",
              "(3,5]                   0.0  0.0\n",
              "(5,11]                  0.0  0.0\n",
              ">11                     0.0  0.0"
            ]
          },
          "execution_count": 26,
          "metadata": {},
          "output_type": "execute_result"
        }
      ],
      "source": [
        "check_robustness(\"TRADE_SIZE_binned\")\n"
      ]
    },
    {
      "cell_type": "code",
      "execution_count": null,
      "metadata": {
        "id": "8624JR8wEN4D",
        "outputId": "d3bfb646-877e-4665-8309-25b1d0feb485"
      },
      "outputs": [
        {
          "data": {
            "text/html": [
              "<div>\n",
              "<style scoped>\n",
              "    .dataframe tbody tr th:only-of-type {\n",
              "        vertical-align: middle;\n",
              "    }\n",
              "\n",
              "    .dataframe tbody tr th {\n",
              "        vertical-align: top;\n",
              "    }\n",
              "\n",
              "    .dataframe thead th {\n",
              "        text-align: right;\n",
              "    }\n",
              "</style>\n",
              "<table border=\"1\" class=\"dataframe\">\n",
              "  <thead>\n",
              "    <tr style=\"text-align: right;\">\n",
              "      <th>rule</th>\n",
              "      <th>Baseline</th>\n",
              "      <th>avg</th>\n",
              "    </tr>\n",
              "    <tr>\n",
              "      <th>ttm_binned</th>\n",
              "      <th></th>\n",
              "      <th></th>\n",
              "    </tr>\n",
              "  </thead>\n",
              "  <tbody>\n",
              "    <tr>\n",
              "      <th>ttm &lt;= 1 month</th>\n",
              "      <td>0.0</td>\n",
              "      <td>0.0</td>\n",
              "    </tr>\n",
              "    <tr>\n",
              "      <th>ttm (1-2] month</th>\n",
              "      <td>0.0</td>\n",
              "      <td>0.0</td>\n",
              "    </tr>\n",
              "    <tr>\n",
              "      <th>ttm (2-3] month</th>\n",
              "      <td>0.0</td>\n",
              "      <td>0.0</td>\n",
              "    </tr>\n",
              "    <tr>\n",
              "      <th>ttm (3-6] month</th>\n",
              "      <td>0.0</td>\n",
              "      <td>0.0</td>\n",
              "    </tr>\n",
              "    <tr>\n",
              "      <th>ttm (6-12] month</th>\n",
              "      <td>0.0</td>\n",
              "      <td>0.0</td>\n",
              "    </tr>\n",
              "    <tr>\n",
              "      <th>ttm &gt; 12 month</th>\n",
              "      <td>0.0</td>\n",
              "      <td>0.0</td>\n",
              "    </tr>\n",
              "  </tbody>\n",
              "</table>\n",
              "</div>"
            ],
            "text/plain": [
              "rule              Baseline  avg\n",
              "ttm_binned                     \n",
              "ttm <= 1 month         0.0  0.0\n",
              "ttm (1-2] month        0.0  0.0\n",
              "ttm (2-3] month        0.0  0.0\n",
              "ttm (3-6] month        0.0  0.0\n",
              "ttm (6-12] month       0.0  0.0\n",
              "ttm > 12 month         0.0  0.0"
            ]
          },
          "execution_count": 27,
          "metadata": {},
          "output_type": "execute_result"
        }
      ],
      "source": [
        "check_robustness(\"ttm_binned\")\n"
      ]
    }
  ],
  "metadata": {
    "colab": {
      "machine_shape": "hm",
      "name": "Untitled2.ipynb",
      "provenance": [],
      "include_colab_link": true
    },
    "gpuClass": "premium",
    "kernelspec": {
      "display_name": "Python 3.8.10 64-bit",
      "language": "python",
      "name": "python3"
    },
    "language_info": {
      "codemirror_mode": {
        "name": "ipython",
        "version": 3
      },
      "file_extension": ".py",
      "mimetype": "text/x-python",
      "name": "python",
      "nbconvert_exporter": "python",
      "pygments_lexer": "ipython3",
      "version": "3.8.10"
    },
    "vscode": {
      "interpreter": {
        "hash": "e7370f93d1d0cde622a1f8e1c04877d8463912d04d973331ad4851f04de6915a"
      }
    }
  },
  "nbformat": 4,
  "nbformat_minor": 0
}