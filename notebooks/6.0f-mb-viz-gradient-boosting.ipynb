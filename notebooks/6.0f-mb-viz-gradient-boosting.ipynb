{
 "cells": [
  {
   "cell_type": "code",
   "execution_count": null,
   "metadata": {
    "colab_type": "text",
    "id": "view-in-github"
   },
   "outputs": [],
   "source": [
    "import os\n",
    "import sys\n",
    "from pathlib import Path\n",
    "\n",
    "import numpy as np\n",
    "import pandas as pd\n",
    "import wandb\n",
    "from catboost import CatBoostClassifier, Pool\n",
    "from tqdm.auto import tqdm\n",
    "\n",
    "sys.path.append(\"..\")\n",
    "from otc.features.build_features import (\n",
    "    features_categorical,\n",
    "    features_classical,\n",
    ")\n"
   ]
  },
  {
   "attachments": {},
   "cell_type": "markdown",
   "metadata": {},
   "source": [
    "- growth strategy \n",
    "- early stopping\n",
    "- sample weighting\n",
    "- border count"
   ]
  },
  {
   "cell_type": "code",
   "execution_count": null,
   "metadata": {},
   "outputs": [],
   "source": [
    "# set globally here\n",
    "EXCHANGE = \"ise\"  # \"cboe\"\n",
    "STRATEGY = \"supervised\"  # \"transfer\"\n",
    "SUBSET = \"test\"  # \"all\""
   ]
  },
  {
   "cell_type": "code",
   "execution_count": null,
   "metadata": {},
   "outputs": [],
   "source": [
    "# key used for files and artefacts\n",
    "key = f\"{EXCHANGE}_gbm_{STRATEGY}_{SUBSET}\"\n",
    "dataset = f\"fbv/thesis/{EXCHANGE}_{STRATEGY}_log_standardized_clipped:latest\"\n"
   ]
  },
  {
   "cell_type": "code",
   "execution_count": null,
   "metadata": {
    "id": "8_7CKpqcONOy"
   },
   "outputs": [],
   "source": [
    "# set project name. Required to access files and artefacts\n",
    "os.environ[\"GCLOUD_PROJECT\"] = \"flowing-mantis-239216\"\n"
   ]
  },
  {
   "cell_type": "code",
   "execution_count": null,
   "metadata": {
    "colab": {
     "base_uri": "https://localhost:8080/",
     "height": 208
    },
    "id": "ah1dofx3TdDj",
    "outputId": "0bd418dd-6b5d-4fa8-9142-89b22d255e2f"
   },
   "outputs": [],
   "source": [
    "# see https://wandb.ai/fbv/thesis/runs/kwlaw02g/overview?workspace=user-karelze\n",
    "run = wandb.init(project=\"thesis\", entity=\"fbv\")\n",
    "\n",
    "artifact = run.use_artifact(dataset)\n",
    "data_dir = artifact.download()\n"
   ]
  },
  {
   "cell_type": "code",
   "execution_count": null,
   "metadata": {
    "id": "WmXtH-PEqyQE"
   },
   "outputs": [],
   "source": [
    "\n",
    "train = pd.read_parquet(Path(data_dir, \"train_set.parquet\"), engine=\"fastparquet\")\n",
    "y_train = train[\"buy_sell\"]\n",
    "X_train = train.drop(columns=\"buy_sell\")\n",
    "timestamp_train = np.linspace(0, 1, len(y_train))\n",
    "weights_exp_train = np.geomspace(0.001, 1, num=len(y_train))\n",
    "\n",
    "cat_features_sub = [tup[0] for tup in features_categorical if tup[0] in features_classical]\n",
    "\n",
    "train_pool_uni = Pool(\n",
    "            data=X_train.loc[:, features_classical],\n",
    "            label=y_train,\n",
    "            cat_features=cat_features_sub,\n",
    "            timestamp=timestamp_train,\n",
    ")\n",
    "\n",
    "train_pool_exp = Pool(\n",
    "            data=X_train.loc[:, features_classical],\n",
    "            label=y_train,\n",
    "            cat_features=cat_features_sub,\n",
    "            timestamp=timestamp_train,\n",
    "            weight=weights_exp_train,\n",
    ")\n",
    "\n",
    "val = pd.read_parquet(Path(data_dir, \"val_set.parquet\"), engine=\"fastparquet\")\n",
    "y_val = val[\"buy_sell\"]\n",
    "X_val = val.drop(columns=\"buy_sell\")\n",
    "timestamp_val = np.linspace(0, 1, len(y_val))\n",
    "\n",
    "val_pool_uni = Pool(\n",
    "            data=X_val.loc[:, features_classical],\n",
    "            label=y_val,\n",
    "            cat_features=cat_features_sub,\n",
    "            timestamp=timestamp_val,\n",
    ")   "
   ]
  },
  {
   "attachments": {},
   "cell_type": "markdown",
   "metadata": {
    "id": "zMIOV1jA_ImH"
   },
   "source": [
    "## CatBoost 🐈‍⬛"
   ]
  },
  {
   "cell_type": "code",
   "execution_count": null,
   "metadata": {},
   "outputs": [],
   "source": [
    "kwargs_depth = {\"depth\": 12}\n",
    "\n",
    "\n",
    "kwargs_earl_stopping = {\n",
    "    \"early_stopping_rounds\": 100,\n",
    "}\n",
    "\n",
    "kwargs_growth_strategy = {\n",
    "    \"grow_policy\": \"Lossguide\",\n",
    "}\n",
    "\n",
    "\n",
    "kwargs_border_count = {\n",
    "    \"border_count\": 254,\n",
    "}\n",
    "\n",
    "kwargs_shared = {\n",
    "    \"iterations\": 2000,\n",
    "    \"logging_level\": \"Silent\",\n",
    "    \"task_type\": \"GPU\",\n",
    "    \"random_seed\": 42,\n",
    "    \"eval_metric\": \"Accuracy\",\n",
    "}\n",
    "\n",
    "\n",
    "# complete config\n",
    "settings = [kwargs_depth, kwargs_earl_stopping, kwargs_border_count, kwargs_growth_strategy]\n",
    "settings = [setting.update(kwargs_shared) for setting in settings] \n",
    "# set pools\n",
    "pools = [train_pool_uni, train_pool_uni, train_pool_uni, train_pool_exp]\n",
    "identifier = [\"depth\", \"early_stopping\", \"border_count\", \"grow_policy\"]"
   ]
  },
  {
   "cell_type": "code",
   "execution_count": null,
   "metadata": {},
   "outputs": [],
   "source": [
    "results = []\n",
    "\n",
    "for setting, i in tqdm(enumerate(settings)):\n",
    "    clf = CatBoostClassifier(**setting)\n",
    "    clf.fit(pools[i], eval_set=val_pool_uni)\n",
    "    result = clf.get_evals_result()\n",
    "    results.append(result)"
   ]
  },
  {
   "cell_type": "code",
   "execution_count": null,
   "metadata": {},
   "outputs": [],
   "source": [
    "results"
   ]
  },
  {
   "cell_type": "code",
   "execution_count": null,
   "metadata": {
    "tags": []
   },
   "outputs": [],
   "source": [
    "results = pd.concat(results, axis=1)\n",
    "output_path = (\n",
    "    f\"gs://thesis-bucket-option-trade-classification/data/results/{key}-viz-losses.parquet\"\n",
    ")\n",
    "results.to_parquet(output_path)\n",
    "\n",
    "# Log the artifact to save it as an output of this run\n",
    "result_set = wandb.Artifact(name=key, type=\"results\")\n",
    "result_set.add_reference(output_path, name=\"results\")\n",
    "run.log_artifact(result_set)\n",
    "\n",
    "wandb.finish()\n"
   ]
  }
 ],
 "metadata": {
  "accelerator": "GPU",
  "colab": {
   "include_colab_link": true,
   "machine_shape": "hm",
   "name": "Untitled2.ipynb",
   "provenance": []
  },
  "gpuClass": "premium",
  "kernelspec": {
   "display_name": "Python 3",
   "language": "python",
   "name": "python3"
  },
  "language_info": {
   "codemirror_mode": {
    "name": "ipython",
    "version": 3
   },
   "file_extension": ".py",
   "mimetype": "text/x-python",
   "name": "python",
   "nbconvert_exporter": "python",
   "pygments_lexer": "ipython3",
   "version": "3.9.4"
  }
 },
 "nbformat": 4,
 "nbformat_minor": 4
}
