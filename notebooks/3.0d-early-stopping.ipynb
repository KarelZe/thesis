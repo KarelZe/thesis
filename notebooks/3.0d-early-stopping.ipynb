{
 "cells": [
  {
   "cell_type": "markdown",
   "metadata": {
    "colab_type": "text",
    "id": "view-in-github"
   },
   "source": [
    "<a href=\"https://colab.research.google.com/github/KarelZe/thesis/blob/intermediate-results/notebooks/4.0b-mb-gbm_baseline.ipynb\" target=\"_parent\"><img src=\"https://colab.research.google.com/assets/colab-badge.svg\" alt=\"Open In Colab\"/></a>"
   ]
  },
  {
   "cell_type": "code",
   "execution_count": 1,
   "metadata": {
    "colab": {
     "base_uri": "https://localhost:8080/",
     "height": 1000
    },
    "id": "nxXvpIDU2_t7",
    "outputId": "99aa8862-bc31-414c-f9ef-f8f06802b64e"
   },
   "outputs": [
    {
     "name": "stdout",
     "output_type": "stream",
     "text": [
      "Requirement already satisfied: catboost==1.1 in /pfs/data5/home/kit/stud/uloak/.local/lib/python3.8/site-packages (1.1)\n",
      "Requirement already satisfied: plotly in /pfs/data5/software_uc2/bwhpc/common/jupyter/base/2022-03-30/lib/python3.8/site-packages (from catboost==1.1) (5.6.0)\n",
      "Requirement already satisfied: six in /pfs/data5/software_uc2/bwhpc/common/jupyter/base/2022-03-30/lib/python3.8/site-packages (from catboost==1.1) (1.16.0)\n",
      "Requirement already satisfied: numpy>=1.16.0 in /pfs/data5/software_uc2/bwhpc/common/jupyter/base/2022-03-30/lib/python3.8/site-packages (from catboost==1.1) (1.22.3)\n",
      "Requirement already satisfied: pandas>=0.24.0 in /pfs/data5/software_uc2/bwhpc/common/jupyter/base/2022-03-30/lib/python3.8/site-packages (from catboost==1.1) (1.4.1)\n",
      "Requirement already satisfied: matplotlib in /pfs/data5/software_uc2/bwhpc/common/jupyter/base/2022-03-30/lib/python3.8/site-packages (from catboost==1.1) (3.5.1)\n",
      "Requirement already satisfied: graphviz in /pfs/data5/home/kit/stud/uloak/.local/lib/python3.8/site-packages (from catboost==1.1) (0.20.1)\n",
      "Requirement already satisfied: scipy in /pfs/data5/software_uc2/bwhpc/common/jupyter/base/2022-03-30/lib/python3.8/site-packages (from catboost==1.1) (1.8.0)\n",
      "Requirement already satisfied: pytz>=2020.1 in /pfs/data5/software_uc2/bwhpc/common/jupyter/base/2022-03-30/lib/python3.8/site-packages (from pandas>=0.24.0->catboost==1.1) (2022.1)\n",
      "Requirement already satisfied: python-dateutil>=2.8.1 in /pfs/data5/software_uc2/bwhpc/common/jupyter/base/2022-03-30/lib/python3.8/site-packages (from pandas>=0.24.0->catboost==1.1) (2.8.2)\n",
      "Requirement already satisfied: fonttools>=4.22.0 in /pfs/data5/software_uc2/bwhpc/common/jupyter/base/2022-03-30/lib/python3.8/site-packages (from matplotlib->catboost==1.1) (4.31.2)\n",
      "Requirement already satisfied: packaging>=20.0 in /pfs/data5/software_uc2/bwhpc/common/jupyter/base/2022-03-30/lib/python3.8/site-packages (from matplotlib->catboost==1.1) (21.3)\n",
      "Requirement already satisfied: pyparsing>=2.2.1 in /pfs/data5/software_uc2/bwhpc/common/jupyter/base/2022-03-30/lib/python3.8/site-packages (from matplotlib->catboost==1.1) (3.0.7)\n",
      "Requirement already satisfied: cycler>=0.10 in /pfs/data5/software_uc2/bwhpc/common/jupyter/base/2022-03-30/lib/python3.8/site-packages (from matplotlib->catboost==1.1) (0.11.0)\n",
      "Requirement already satisfied: pillow>=6.2.0 in /pfs/data5/software_uc2/bwhpc/common/jupyter/base/2022-03-30/lib/python3.8/site-packages (from matplotlib->catboost==1.1) (9.0.1)\n",
      "Requirement already satisfied: kiwisolver>=1.0.1 in /pfs/data5/software_uc2/bwhpc/common/jupyter/base/2022-03-30/lib/python3.8/site-packages (from matplotlib->catboost==1.1) (1.4.2)\n",
      "Requirement already satisfied: tenacity>=6.2.0 in /pfs/data5/software_uc2/bwhpc/common/jupyter/base/2022-03-30/lib/python3.8/site-packages (from plotly->catboost==1.1) (8.0.1)\n",
      "\u001b[33mWARNING: You are using pip version 22.0.4; however, version 22.3.1 is available.\n",
      "You should consider upgrading via the '/opt/bwhpc/common/jupyter/base/2022-03-30/bin/python3.8 -m pip install --upgrade pip' command.\u001b[0m\u001b[33m\n",
      "\u001b[0mCollecting gcsfs\n",
      "  Using cached gcsfs-2022.11.0-py2.py3-none-any.whl (26 kB)\n",
      "Collecting google-auth>=1.2\n",
      "  Using cached google_auth-2.15.0-py2.py3-none-any.whl (177 kB)\n",
      "Collecting google-auth-oauthlib\n",
      "  Using cached google_auth_oauthlib-0.7.1-py2.py3-none-any.whl (19 kB)\n",
      "Requirement already satisfied: aiohttp!=4.0.0a0,!=4.0.0a1 in /pfs/data5/software_uc2/bwhpc/common/jupyter/base/2022-03-30/lib/python3.8/site-packages (from gcsfs) (3.8.1)\n",
      "Collecting google-cloud-storage\n",
      "  Using cached google_cloud_storage-2.7.0-py2.py3-none-any.whl (110 kB)\n",
      "Requirement already satisfied: decorator>4.1.2 in /pfs/data5/software_uc2/bwhpc/common/jupyter/base/2022-03-30/lib/python3.8/site-packages (from gcsfs) (5.1.1)\n",
      "Requirement already satisfied: requests in /pfs/data5/software_uc2/bwhpc/common/jupyter/base/2022-03-30/lib/python3.8/site-packages (from gcsfs) (2.27.1)\n",
      "Collecting fsspec==2022.11.0\n",
      "  Using cached fsspec-2022.11.0-py3-none-any.whl (139 kB)\n",
      "Requirement already satisfied: frozenlist>=1.1.1 in /pfs/data5/software_uc2/bwhpc/common/jupyter/base/2022-03-30/lib/python3.8/site-packages (from aiohttp!=4.0.0a0,!=4.0.0a1->gcsfs) (1.3.0)\n",
      "Requirement already satisfied: yarl<2.0,>=1.0 in /pfs/data5/software_uc2/bwhpc/common/jupyter/base/2022-03-30/lib/python3.8/site-packages (from aiohttp!=4.0.0a0,!=4.0.0a1->gcsfs) (1.7.2)\n",
      "Requirement already satisfied: async-timeout<5.0,>=4.0.0a3 in /pfs/data5/software_uc2/bwhpc/common/jupyter/base/2022-03-30/lib/python3.8/site-packages (from aiohttp!=4.0.0a0,!=4.0.0a1->gcsfs) (4.0.2)\n",
      "Requirement already satisfied: attrs>=17.3.0 in /pfs/data5/software_uc2/bwhpc/common/jupyter/base/2022-03-30/lib/python3.8/site-packages (from aiohttp!=4.0.0a0,!=4.0.0a1->gcsfs) (21.4.0)\n",
      "Requirement already satisfied: multidict<7.0,>=4.5 in /pfs/data5/software_uc2/bwhpc/common/jupyter/base/2022-03-30/lib/python3.8/site-packages (from aiohttp!=4.0.0a0,!=4.0.0a1->gcsfs) (6.0.2)\n",
      "Requirement already satisfied: charset-normalizer<3.0,>=2.0 in /pfs/data5/software_uc2/bwhpc/common/jupyter/base/2022-03-30/lib/python3.8/site-packages (from aiohttp!=4.0.0a0,!=4.0.0a1->gcsfs) (2.0.12)\n",
      "Requirement already satisfied: aiosignal>=1.1.2 in /pfs/data5/software_uc2/bwhpc/common/jupyter/base/2022-03-30/lib/python3.8/site-packages (from aiohttp!=4.0.0a0,!=4.0.0a1->gcsfs) (1.2.0)\n",
      "Requirement already satisfied: six>=1.9.0 in /pfs/data5/software_uc2/bwhpc/common/jupyter/base/2022-03-30/lib/python3.8/site-packages (from google-auth>=1.2->gcsfs) (1.16.0)\n",
      "Collecting cachetools<6.0,>=2.0.0\n",
      "  Using cached cachetools-5.2.0-py3-none-any.whl (9.3 kB)\n",
      "Collecting rsa<5,>=3.1.4\n",
      "  Using cached rsa-4.9-py3-none-any.whl (34 kB)\n",
      "Collecting pyasn1-modules>=0.2.1\n",
      "  Using cached pyasn1_modules-0.2.8-py2.py3-none-any.whl (155 kB)\n",
      "Collecting requests-oauthlib>=0.7.0\n",
      "  Using cached requests_oauthlib-1.3.1-py2.py3-none-any.whl (23 kB)\n",
      "Collecting google-api-core!=2.0.*,!=2.1.*,!=2.2.*,!=2.3.0,<3.0.0dev,>=1.31.5\n",
      "  Using cached google_api_core-2.11.0-py3-none-any.whl (120 kB)\n",
      "Collecting google-cloud-core<3.0dev,>=2.3.0\n",
      "  Using cached google_cloud_core-2.3.2-py2.py3-none-any.whl (29 kB)\n",
      "Collecting google-resumable-media>=2.3.2\n",
      "  Using cached google_resumable_media-2.4.0-py2.py3-none-any.whl (77 kB)\n",
      "Requirement already satisfied: urllib3<1.27,>=1.21.1 in /pfs/data5/software_uc2/bwhpc/common/jupyter/base/2022-03-30/lib/python3.8/site-packages (from requests->gcsfs) (1.26.9)\n",
      "Requirement already satisfied: idna<4,>=2.5 in /pfs/data5/software_uc2/bwhpc/common/jupyter/base/2022-03-30/lib/python3.8/site-packages (from requests->gcsfs) (3.3)\n",
      "Requirement already satisfied: certifi>=2017.4.17 in /pfs/data5/software_uc2/bwhpc/common/jupyter/base/2022-03-30/lib/python3.8/site-packages (from requests->gcsfs) (2021.10.8)\n",
      "Collecting googleapis-common-protos<2.0dev,>=1.56.2\n",
      "  Using cached googleapis_common_protos-1.57.0-py2.py3-none-any.whl (217 kB)\n",
      "Collecting protobuf!=3.20.0,!=3.20.1,!=4.21.0,!=4.21.1,!=4.21.2,!=4.21.3,!=4.21.4,!=4.21.5,<5.0.0dev,>=3.19.5\n",
      "  Using cached protobuf-4.21.11-cp37-abi3-manylinux2014_x86_64.whl (409 kB)\n",
      "Collecting google-crc32c<2.0dev,>=1.0\n",
      "  Using cached google_crc32c-1.5.0-cp38-cp38-manylinux_2_17_x86_64.manylinux2014_x86_64.whl (32 kB)\n",
      "Collecting pyasn1<0.5.0,>=0.4.6\n",
      "  Using cached pyasn1-0.4.8-py2.py3-none-any.whl (77 kB)\n",
      "Requirement already satisfied: oauthlib>=3.0.0 in /pfs/data5/software_uc2/bwhpc/common/jupyter/base/2022-03-30/lib/python3.8/site-packages (from requests-oauthlib>=0.7.0->google-auth-oauthlib->gcsfs) (3.2.0)\n",
      "\u001b[31mERROR: Will not install to the user site because it will lack sys.path precedence to fsspec in /pfs/data5/software_uc2/bwhpc/common/jupyter/base/2022-03-30/lib/python3.8/site-packages\u001b[0m\u001b[31m\n",
      "\u001b[0m\u001b[33mWARNING: You are using pip version 22.0.4; however, version 22.3.1 is available.\n",
      "You should consider upgrading via the '/opt/bwhpc/common/jupyter/base/2022-03-30/bin/python3.8 -m pip install --upgrade pip' command.\u001b[0m\u001b[33m\n",
      "\u001b[0mCollecting numpy==1.23.4\n",
      "  Using cached numpy-1.23.4-cp38-cp38-manylinux_2_17_x86_64.manylinux2014_x86_64.whl (17.1 MB)\n",
      "\u001b[31mERROR: Will not install to the user site because it will lack sys.path precedence to numpy in /pfs/data5/software_uc2/bwhpc/common/jupyter/base/2022-03-30/lib/python3.8/site-packages\u001b[0m\u001b[31m\n",
      "\u001b[0m\u001b[33mWARNING: You are using pip version 22.0.4; however, version 22.3.1 is available.\n",
      "You should consider upgrading via the '/opt/bwhpc/common/jupyter/base/2022-03-30/bin/python3.8 -m pip install --upgrade pip' command.\u001b[0m\u001b[33m\n",
      "\u001b[0mCollecting pandas==1.5.1\n",
      "  Using cached pandas-1.5.1-cp38-cp38-manylinux_2_17_x86_64.manylinux2014_x86_64.whl (12.2 MB)\n",
      "Requirement already satisfied: pytz>=2020.1 in /pfs/data5/software_uc2/bwhpc/common/jupyter/base/2022-03-30/lib/python3.8/site-packages (from pandas==1.5.1) (2022.1)\n",
      "Requirement already satisfied: python-dateutil>=2.8.1 in /pfs/data5/software_uc2/bwhpc/common/jupyter/base/2022-03-30/lib/python3.8/site-packages (from pandas==1.5.1) (2.8.2)\n",
      "Requirement already satisfied: numpy>=1.20.3 in /pfs/data5/software_uc2/bwhpc/common/jupyter/base/2022-03-30/lib/python3.8/site-packages (from pandas==1.5.1) (1.22.3)\n",
      "Requirement already satisfied: six>=1.5 in /pfs/data5/software_uc2/bwhpc/common/jupyter/base/2022-03-30/lib/python3.8/site-packages (from python-dateutil>=2.8.1->pandas==1.5.1) (1.16.0)\n",
      "\u001b[31mERROR: Will not install to the user site because it will lack sys.path precedence to pandas in /pfs/data5/software_uc2/bwhpc/common/jupyter/base/2022-03-30/lib/python3.8/site-packages\u001b[0m\u001b[31m\n",
      "\u001b[0m\u001b[33mWARNING: You are using pip version 22.0.4; however, version 22.3.1 is available.\n",
      "You should consider upgrading via the '/opt/bwhpc/common/jupyter/base/2022-03-30/bin/python3.8 -m pip install --upgrade pip' command.\u001b[0m\u001b[33m\n",
      "\u001b[0mRequirement already satisfied: scikit-learn==1.1.3 in /pfs/data5/home/kit/stud/uloak/.local/lib/python3.8/site-packages (1.1.3)\n",
      "Requirement already satisfied: threadpoolctl>=2.0.0 in /pfs/data5/home/kit/stud/uloak/.local/lib/python3.8/site-packages (from scikit-learn==1.1.3) (3.1.0)\n",
      "Requirement already satisfied: numpy>=1.17.3 in /pfs/data5/software_uc2/bwhpc/common/jupyter/base/2022-03-30/lib/python3.8/site-packages (from scikit-learn==1.1.3) (1.22.3)\n",
      "Requirement already satisfied: scipy>=1.3.2 in /pfs/data5/software_uc2/bwhpc/common/jupyter/base/2022-03-30/lib/python3.8/site-packages (from scikit-learn==1.1.3) (1.8.0)\n",
      "Requirement already satisfied: joblib>=1.0.0 in /pfs/data5/home/kit/stud/uloak/.local/lib/python3.8/site-packages (from scikit-learn==1.1.3) (1.2.0)\n",
      "\u001b[33mWARNING: You are using pip version 22.0.4; however, version 22.3.1 is available.\n",
      "You should consider upgrading via the '/opt/bwhpc/common/jupyter/base/2022-03-30/bin/python3.8 -m pip install --upgrade pip' command.\u001b[0m\u001b[33m\n",
      "\u001b[0mCollecting fastparquet\n",
      "  Using cached fastparquet-2022.12.0-cp38-cp38-manylinux_2_17_x86_64.manylinux2014_x86_64.whl (1.6 MB)\n",
      "Requirement already satisfied: numpy>=1.20.3 in /pfs/data5/software_uc2/bwhpc/common/jupyter/base/2022-03-30/lib/python3.8/site-packages (from fastparquet) (1.22.3)\n",
      "Collecting cramjam>=2.3\n",
      "  Using cached cramjam-2.6.2-cp38-cp38-manylinux_2_17_x86_64.manylinux2014_x86_64.whl (2.0 MB)\n",
      "Requirement already satisfied: packaging in /pfs/data5/software_uc2/bwhpc/common/jupyter/base/2022-03-30/lib/python3.8/site-packages (from fastparquet) (21.3)\n",
      "Collecting pandas>=1.5.0\n",
      "  Using cached pandas-1.5.2-cp38-cp38-manylinux_2_17_x86_64.manylinux2014_x86_64.whl (12.2 MB)\n",
      "Requirement already satisfied: fsspec in /pfs/data5/software_uc2/bwhpc/common/jupyter/base/2022-03-30/lib/python3.8/site-packages (from fastparquet) (2022.2.0)\n",
      "Requirement already satisfied: pytz>=2020.1 in /pfs/data5/software_uc2/bwhpc/common/jupyter/base/2022-03-30/lib/python3.8/site-packages (from pandas>=1.5.0->fastparquet) (2022.1)\n",
      "Requirement already satisfied: python-dateutil>=2.8.1 in /pfs/data5/software_uc2/bwhpc/common/jupyter/base/2022-03-30/lib/python3.8/site-packages (from pandas>=1.5.0->fastparquet) (2.8.2)\n",
      "Requirement already satisfied: pyparsing!=3.0.5,>=2.0.2 in /pfs/data5/software_uc2/bwhpc/common/jupyter/base/2022-03-30/lib/python3.8/site-packages (from packaging->fastparquet) (3.0.7)\n",
      "Requirement already satisfied: six>=1.5 in /pfs/data5/software_uc2/bwhpc/common/jupyter/base/2022-03-30/lib/python3.8/site-packages (from python-dateutil>=2.8.1->pandas>=1.5.0->fastparquet) (1.16.0)\n",
      "\u001b[31mERROR: Will not install to the user site because it will lack sys.path precedence to pandas in /pfs/data5/software_uc2/bwhpc/common/jupyter/base/2022-03-30/lib/python3.8/site-packages\u001b[0m\u001b[31m\n",
      "\u001b[0m\u001b[33mWARNING: You are using pip version 22.0.4; however, version 22.3.1 is available.\n",
      "You should consider upgrading via the '/opt/bwhpc/common/jupyter/base/2022-03-30/bin/python3.8 -m pip install --upgrade pip' command.\u001b[0m\u001b[33m\n",
      "\u001b[0mDefaulting to user installation because normal site-packages is not writeable\n",
      "Requirement already satisfied: ipywidgets in /pfs/data5/software_uc2/bwhpc/common/jupyter/base/2022-03-30/lib/python3.8/site-packages (7.7.0)\n",
      "Collecting ipywidgets\n",
      "  Downloading ipywidgets-8.0.3-py3-none-any.whl (137 kB)\n",
      "\u001b[2K     \u001b[90m━━━━━━━━━━━━━━━━━━━━━━━━━━━━━━━━━━━━━━━\u001b[0m \u001b[32m137.9/137.9 KB\u001b[0m \u001b[31m7.8 MB/s\u001b[0m eta \u001b[36m0:00:00\u001b[0m\n",
      "\u001b[?25hCollecting widgetsnbextension~=4.0\n",
      "  Downloading widgetsnbextension-4.0.4-py3-none-any.whl (2.0 MB)\n",
      "\u001b[2K     \u001b[90m━━━━━━━━━━━━━━━━━━━━━━━━━━━━━━━━━━━━━━━━\u001b[0m \u001b[32m2.0/2.0 MB\u001b[0m \u001b[31m41.8 MB/s\u001b[0m eta \u001b[36m0:00:00\u001b[0ma \u001b[36m0:00:01\u001b[0m\n",
      "\u001b[?25hRequirement already satisfied: traitlets>=4.3.1 in /pfs/data5/software_uc2/bwhpc/common/jupyter/base/2022-03-30/lib/python3.8/site-packages (from ipywidgets) (5.1.1)\n",
      "Requirement already satisfied: ipython>=6.1.0 in /pfs/data5/software_uc2/bwhpc/common/jupyter/base/2022-03-30/lib/python3.8/site-packages (from ipywidgets) (8.2.0)\n",
      "Requirement already satisfied: ipykernel>=4.5.1 in /pfs/data5/software_uc2/bwhpc/common/jupyter/base/2022-03-30/lib/python3.8/site-packages (from ipywidgets) (6.11.0)\n",
      "Collecting jupyterlab-widgets~=3.0\n",
      "  Downloading jupyterlab_widgets-3.0.4-py3-none-any.whl (384 kB)\n",
      "\u001b[2K     \u001b[90m━━━━━━━━━━━━━━━━━━━━━━━━━━━━━━━━━━━━━━\u001b[0m \u001b[32m384.3/384.3 KB\u001b[0m \u001b[31m48.8 MB/s\u001b[0m eta \u001b[36m0:00:00\u001b[0m\n",
      "\u001b[?25hRequirement already satisfied: nest-asyncio in /pfs/data5/software_uc2/bwhpc/common/jupyter/base/2022-03-30/lib/python3.8/site-packages (from ipykernel>=4.5.1->ipywidgets) (1.5.4)\n",
      "Requirement already satisfied: tornado>=6.1 in /pfs/data5/software_uc2/bwhpc/common/jupyter/base/2022-03-30/lib/python3.8/site-packages (from ipykernel>=4.5.1->ipywidgets) (6.1)\n",
      "Requirement already satisfied: jupyter-client>=6.1.12 in /pfs/data5/software_uc2/bwhpc/common/jupyter/base/2022-03-30/lib/python3.8/site-packages (from ipykernel>=4.5.1->ipywidgets) (7.2.1)\n",
      "Requirement already satisfied: setuptools>=60 in /pfs/data5/software_uc2/bwhpc/common/jupyter/base/2022-03-30/lib/python3.8/site-packages (from ipykernel>=4.5.1->ipywidgets) (61.2.0)\n",
      "Requirement already satisfied: psutil in /pfs/data5/software_uc2/bwhpc/common/jupyter/base/2022-03-30/lib/python3.8/site-packages (from ipykernel>=4.5.1->ipywidgets) (5.9.0)\n",
      "Requirement already satisfied: matplotlib-inline>=0.1 in /pfs/data5/software_uc2/bwhpc/common/jupyter/base/2022-03-30/lib/python3.8/site-packages (from ipykernel>=4.5.1->ipywidgets) (0.1.3)\n",
      "Requirement already satisfied: debugpy>=1.0 in /pfs/data5/software_uc2/bwhpc/common/jupyter/base/2022-03-30/lib/python3.8/site-packages (from ipykernel>=4.5.1->ipywidgets) (1.6.0)\n",
      "Requirement already satisfied: stack-data in /pfs/data5/software_uc2/bwhpc/common/jupyter/base/2022-03-30/lib/python3.8/site-packages (from ipython>=6.1.0->ipywidgets) (0.2.0)\n",
      "Requirement already satisfied: pexpect>4.3 in /pfs/data5/software_uc2/bwhpc/common/jupyter/base/2022-03-30/lib/python3.8/site-packages (from ipython>=6.1.0->ipywidgets) (4.8.0)\n",
      "Requirement already satisfied: pygments>=2.4.0 in /pfs/data5/software_uc2/bwhpc/common/jupyter/base/2022-03-30/lib/python3.8/site-packages (from ipython>=6.1.0->ipywidgets) (2.11.2)\n",
      "Requirement already satisfied: pickleshare in /pfs/data5/software_uc2/bwhpc/common/jupyter/base/2022-03-30/lib/python3.8/site-packages (from ipython>=6.1.0->ipywidgets) (0.7.5)\n",
      "Requirement already satisfied: prompt-toolkit!=3.0.0,!=3.0.1,<3.1.0,>=2.0.0 in /pfs/data5/software_uc2/bwhpc/common/jupyter/base/2022-03-30/lib/python3.8/site-packages (from ipython>=6.1.0->ipywidgets) (3.0.28)\n",
      "Requirement already satisfied: backcall in /pfs/data5/software_uc2/bwhpc/common/jupyter/base/2022-03-30/lib/python3.8/site-packages (from ipython>=6.1.0->ipywidgets) (0.2.0)\n",
      "Requirement already satisfied: decorator in /pfs/data5/software_uc2/bwhpc/common/jupyter/base/2022-03-30/lib/python3.8/site-packages (from ipython>=6.1.0->ipywidgets) (5.1.1)\n",
      "Requirement already satisfied: jedi>=0.16 in /pfs/data5/software_uc2/bwhpc/common/jupyter/base/2022-03-30/lib/python3.8/site-packages (from ipython>=6.1.0->ipywidgets) (0.18.1)\n",
      "Requirement already satisfied: parso<0.9.0,>=0.8.0 in /pfs/data5/software_uc2/bwhpc/common/jupyter/base/2022-03-30/lib/python3.8/site-packages (from jedi>=0.16->ipython>=6.1.0->ipywidgets) (0.8.3)\n",
      "Requirement already satisfied: python-dateutil>=2.8.2 in /pfs/data5/software_uc2/bwhpc/common/jupyter/base/2022-03-30/lib/python3.8/site-packages (from jupyter-client>=6.1.12->ipykernel>=4.5.1->ipywidgets) (2.8.2)\n",
      "Requirement already satisfied: pyzmq>=22.3 in /pfs/data5/software_uc2/bwhpc/common/jupyter/base/2022-03-30/lib/python3.8/site-packages (from jupyter-client>=6.1.12->ipykernel>=4.5.1->ipywidgets) (22.3.0)\n",
      "Requirement already satisfied: entrypoints in /pfs/data5/software_uc2/bwhpc/common/jupyter/base/2022-03-30/lib/python3.8/site-packages (from jupyter-client>=6.1.12->ipykernel>=4.5.1->ipywidgets) (0.4)\n",
      "Requirement already satisfied: jupyter-core>=4.9.2 in /pfs/data5/software_uc2/bwhpc/common/jupyter/base/2022-03-30/lib/python3.8/site-packages (from jupyter-client>=6.1.12->ipykernel>=4.5.1->ipywidgets) (4.9.2)\n",
      "Requirement already satisfied: ptyprocess>=0.5 in /pfs/data5/software_uc2/bwhpc/common/jupyter/base/2022-03-30/lib/python3.8/site-packages (from pexpect>4.3->ipython>=6.1.0->ipywidgets) (0.7.0)\n",
      "Requirement already satisfied: wcwidth in /pfs/data5/software_uc2/bwhpc/common/jupyter/base/2022-03-30/lib/python3.8/site-packages (from prompt-toolkit!=3.0.0,!=3.0.1,<3.1.0,>=2.0.0->ipython>=6.1.0->ipywidgets) (0.2.5)\n",
      "Requirement already satisfied: asttokens in /pfs/data5/software_uc2/bwhpc/common/jupyter/base/2022-03-30/lib/python3.8/site-packages (from stack-data->ipython>=6.1.0->ipywidgets) (2.0.5)\n",
      "Requirement already satisfied: executing in /pfs/data5/software_uc2/bwhpc/common/jupyter/base/2022-03-30/lib/python3.8/site-packages (from stack-data->ipython>=6.1.0->ipywidgets) (0.8.3)\n",
      "Requirement already satisfied: pure-eval in /pfs/data5/software_uc2/bwhpc/common/jupyter/base/2022-03-30/lib/python3.8/site-packages (from stack-data->ipython>=6.1.0->ipywidgets) (0.2.2)\n",
      "Requirement already satisfied: six>=1.5 in /pfs/data5/software_uc2/bwhpc/common/jupyter/base/2022-03-30/lib/python3.8/site-packages (from python-dateutil>=2.8.2->jupyter-client>=6.1.12->ipykernel>=4.5.1->ipywidgets) (1.16.0)\n",
      "\u001b[31mERROR: Will not install to the user site because it will lack sys.path precedence to ipywidgets in /pfs/data5/software_uc2/bwhpc/common/jupyter/base/2022-03-30/lib/python3.8/site-packages\u001b[0m\u001b[31m\n",
      "\u001b[0m\u001b[33mWARNING: You are using pip version 22.0.4; however, version 22.3.1 is available.\n",
      "You should consider upgrading via the '/opt/bwhpc/common/jupyter/base/2022-03-30/bin/python3.8 -m pip install --upgrade pip' command.\u001b[0m\u001b[33m\n",
      "\u001b[0mEnabling notebook extension jupyter-js-widgets/extension...\n",
      "      - Validating: \u001b[32mOK\u001b[0m\n"
     ]
    }
   ],
   "source": [
    "!pip install --user catboost==1.1\n",
    "!pip install --user gcsfs\n",
    "# !pip install ipywidgets==8.0.2\n",
    "!pip install --user  numpy==1.23.4\n",
    "!pip install --user pandas==1.5.1\n",
    "!pip install --user scikit-learn==1.1.3\n",
    "!pip install --user fastparquet\n",
    "!pip install -U ipywidgets\n",
    "!jupyter nbextension enable --py widgetsnbextension"
   ]
  },
  {
   "cell_type": "markdown",
   "metadata": {
    "id": "Gtz4jE9f2en7"
   },
   "source": [
    "Run `pip install .` first to install all dependencies."
   ]
  },
  {
   "cell_type": "code",
   "execution_count": 2,
   "metadata": {
    "id": "7WXF7w4VyVgG"
   },
   "outputs": [],
   "source": [
    "from catboost import CatBoostClassifier, Pool, metrics\n",
    "\n",
    "#import gcsfs\n",
    "# import google.auth\n",
    "# from google.colab import auth, output\n",
    "\n",
    "import numpy as np\n",
    "import pandas as pd\n",
    "\n",
    "import os\n",
    "from pathlib import Path\n",
    "\n",
    "from sklearn.metrics import accuracy_score\n",
    "\n",
    "#from tqdm.notebook import tqdm\n",
    "# import wandb\n",
    "\n",
    "from typing import List, Optional"
   ]
  },
  {
   "cell_type": "code",
   "execution_count": 4,
   "metadata": {
    "id": "vFMHPh-nTcSI"
   },
   "outputs": [],
   "source": [
    "features_classical_size = [\n",
    "    'TRADE_PRICE', 'bid_ask_size_ratio_ex', 'rel_bid_size_ex',\n",
    "       'rel_ask_size_ex', 'TRADE_SIZE', 'bid_size_ex', 'ask_size_ex',\n",
    "       'rel_ask_ex', 'rel_bid_ex', 'BEST_rel_bid', 'BEST_rel_ask',\n",
    "       'bid_ask_ratio_ex', 'chg_ex_lead', 'chg_ex_lag', 'chg_all_lead',\n",
    "       'chg_all_lag', 'ask_ex', 'bid_ex', 'BEST_ASK', 'BEST_BID',\n",
    "       'price_all_lag', 'price_all_lead', 'price_ex_lag', 'price_ex_lead'\n",
    "]"
   ]
  },
  {
   "cell_type": "code",
   "execution_count": 5,
   "metadata": {
    "id": "WmXtH-PEqyQE"
   },
   "outputs": [],
   "source": [
    "# output_path = (\n",
    "#     f\"gs://thesis-bucket-option-trade-classification/data/classical_size_features_log_normalized/train_set_60.parquet\"\n",
    "# )\n",
    "\n",
    "# output_path = (\n",
    "#     f\"gs://thesis-bucket-option-trade-classification/data/classical_size_features_log_normalized/val_set_20.parquet\"\n",
    "# )\n",
    "\n",
    "X_train = pd.read_parquet(\"../artifacts/classical_size_features_log_normalized:v0/train_set_60.parquet\", engine=\"pyarrow\")\n",
    "y_train = X_train[\"buy_sell\"]\n",
    "X_train = X_train[features_classical_size]\n",
    "\n",
    "X_val = pd.read_parquet(\"../artifacts/classical_size_features_log_normalized:v0/test_set_20.parquet\", engine=\"pyarrow\")\n",
    "y_val = X_val[\"buy_sell\"]\n",
    "X_val = X_val[features_classical_size]"
   ]
  },
  {
   "cell_type": "markdown",
   "metadata": {
    "id": "zMIOV1jA_ImH"
   },
   "source": [
    "## CatBoost Baseline 🐈‍⬛"
   ]
  },
  {
   "cell_type": "code",
   "execution_count": 16,
   "metadata": {
    "colab": {
     "base_uri": "https://localhost:8080/"
    },
    "id": "VivmC-8L3YUc",
    "outputId": "58a523f6-2648-4457-e5ba-594de2368810"
   },
   "outputs": [
    {
     "data": {
      "application/vnd.jupyter.widget-view+json": {
       "model_id": "806e541a18674f38bc47e7554671c21a",
       "version_major": 2,
       "version_minor": 0
      },
      "text/plain": [
       "MetricVisualizer(layout=Layout(align_self='stretch', height='500px'))"
      ]
     },
     "metadata": {},
     "output_type": "display_data"
    }
   ],
   "source": [
    "model = CatBoostClassifier(task_type=\"GPU\", iterations=2000, learning_rate=0.002, custom_loss=[metrics.Accuracy()],\n",
    "    random_seed=42,\n",
    "    logging_level='Silent')\n",
    "model.fit(X_train, y_train, eval_set=(X_val, y_val), plot=True);"
   ]
  },
  {
   "cell_type": "code",
   "execution_count": 17,
   "metadata": {
    "colab": {
     "base_uri": "https://localhost:8080/"
    },
    "id": "hlLETHiJZSoH",
    "outputId": "93834981-4747-4f1d-9e0d-44637a8e514d"
   },
   "outputs": [
    {
     "name": "stdout",
     "output_type": "stream",
     "text": [
      "0.6920612891894764\n"
     ]
    }
   ],
   "source": [
    "acc = model.score(X_val, y_val)\n",
    "\n",
    "print(acc)"
   ]
  },
  {
   "cell_type": "code",
   "execution_count": 18,
   "metadata": {},
   "outputs": [
    {
     "data": {
      "application/vnd.jupyter.widget-view+json": {
       "model_id": "61f5ad6b62ca4d39820ff0f665ef7a33",
       "version_major": 2,
       "version_minor": 0
      },
      "text/plain": [
       "MetricVisualizer(layout=Layout(align_self='stretch', height='500px'))"
      ]
     },
     "metadata": {},
     "output_type": "display_data"
    }
   ],
   "source": [
    "eval_metrics = model.eval_metrics(Pool(X_val,y_val), [metrics.Accuracy()], plot=True)"
   ]
  }
 ],
 "metadata": {
  "accelerator": "GPU",
  "colab": {
   "include_colab_link": true,
   "machine_shape": "hm",
   "name": "Untitled2.ipynb",
   "provenance": []
  },
  "gpuClass": "premium",
  "kernelspec": {
   "display_name": "Python 3 (ipykernel)",
   "language": "python",
   "name": "python3"
  },
  "language_info": {
   "codemirror_mode": {
    "name": "ipython",
    "version": 3
   },
   "file_extension": ".py",
   "mimetype": "text/x-python",
   "name": "python",
   "nbconvert_exporter": "python",
   "pygments_lexer": "ipython3",
   "version": "3.8.6"
  },
  "vscode": {
   "interpreter": {
    "hash": "e7370f93d1d0cde622a1f8e1c04877d8463912d04d973331ad4851f04de6915a"
   }
  },
  "widgets": {
   "application/vnd.jupyter.widget-state+json": {
    "04733f6f5edb4633a5909e32b93caa88": {
     "model_module": "@jupyter-widgets/base",
     "model_module_version": "2.0.0",
     "model_name": "LayoutModel",
     "state": {
      "_model_module": "@jupyter-widgets/base",
      "_model_module_version": "2.0.0",
      "_model_name": "LayoutModel",
      "_view_count": null,
      "_view_module": "@jupyter-widgets/base",
      "_view_module_version": "2.0.0",
      "_view_name": "LayoutView",
      "align_content": null,
      "align_items": null,
      "align_self": null,
      "border_bottom": null,
      "border_left": null,
      "border_right": null,
      "border_top": null,
      "bottom": null,
      "display": null,
      "flex": null,
      "flex_flow": null,
      "grid_area": null,
      "grid_auto_columns": null,
      "grid_auto_flow": null,
      "grid_auto_rows": null,
      "grid_column": null,
      "grid_gap": null,
      "grid_row": null,
      "grid_template_areas": null,
      "grid_template_columns": null,
      "grid_template_rows": null,
      "height": null,
      "justify_content": null,
      "justify_items": null,
      "left": null,
      "margin": null,
      "max_height": null,
      "max_width": null,
      "min_height": null,
      "min_width": null,
      "object_fit": null,
      "object_position": null,
      "order": null,
      "overflow": null,
      "padding": null,
      "right": null,
      "top": null,
      "visibility": null,
      "width": null
     }
    },
    "57e94d9325394f259dc3672ede2c381a": {
     "model_module": "@jupyter-widgets/controls",
     "model_module_version": "2.0.0",
     "model_name": "LabelModel",
     "state": {
      "_dom_classes": [],
      "_model_module": "@jupyter-widgets/controls",
      "_model_module_version": "2.0.0",
      "_model_name": "LabelModel",
      "_view_count": null,
      "_view_module": "@jupyter-widgets/controls",
      "_view_module_version": "2.0.0",
      "_view_name": "LabelView",
      "description": "",
      "description_allow_html": false,
      "layout": "IPY_MODEL_04733f6f5edb4633a5909e32b93caa88",
      "placeholder": "​",
      "style": "IPY_MODEL_64f0506d7bd74dd38933c679796fd518",
      "tabbable": null,
      "tooltip": null,
      "value": "0.001 MB of 0.009 MB uploaded (0.000 MB deduped)\r"
     }
    },
    "64f0506d7bd74dd38933c679796fd518": {
     "model_module": "@jupyter-widgets/controls",
     "model_module_version": "2.0.0",
     "model_name": "LabelStyleModel",
     "state": {
      "_model_module": "@jupyter-widgets/controls",
      "_model_module_version": "2.0.0",
      "_model_name": "LabelStyleModel",
      "_view_count": null,
      "_view_module": "@jupyter-widgets/base",
      "_view_module_version": "2.0.0",
      "_view_name": "StyleView",
      "background": null,
      "description_width": "",
      "font_family": null,
      "font_size": null,
      "font_style": null,
      "font_variant": null,
      "font_weight": null,
      "text_color": null,
      "text_decoration": null
     }
    },
    "6a520c64bab74350a4116a91f59b94a9": {
     "model_module": "@jupyter-widgets/controls",
     "model_module_version": "2.0.0",
     "model_name": "ProgressStyleModel",
     "state": {
      "_model_module": "@jupyter-widgets/controls",
      "_model_module_version": "2.0.0",
      "_model_name": "ProgressStyleModel",
      "_view_count": null,
      "_view_module": "@jupyter-widgets/base",
      "_view_module_version": "2.0.0",
      "_view_name": "StyleView",
      "bar_color": null,
      "description_width": ""
     }
    },
    "6ff39ed6b5474f6595c4d202efa3147f": {
     "model_module": "@jupyter-widgets/base",
     "model_module_version": "2.0.0",
     "model_name": "LayoutModel",
     "state": {
      "_model_module": "@jupyter-widgets/base",
      "_model_module_version": "2.0.0",
      "_model_name": "LayoutModel",
      "_view_count": null,
      "_view_module": "@jupyter-widgets/base",
      "_view_module_version": "2.0.0",
      "_view_name": "LayoutView",
      "align_content": null,
      "align_items": null,
      "align_self": null,
      "border_bottom": null,
      "border_left": null,
      "border_right": null,
      "border_top": null,
      "bottom": null,
      "display": null,
      "flex": null,
      "flex_flow": null,
      "grid_area": null,
      "grid_auto_columns": null,
      "grid_auto_flow": null,
      "grid_auto_rows": null,
      "grid_column": null,
      "grid_gap": null,
      "grid_row": null,
      "grid_template_areas": null,
      "grid_template_columns": null,
      "grid_template_rows": null,
      "height": null,
      "justify_content": null,
      "justify_items": null,
      "left": null,
      "margin": null,
      "max_height": null,
      "max_width": null,
      "min_height": null,
      "min_width": null,
      "object_fit": null,
      "object_position": null,
      "order": null,
      "overflow": null,
      "padding": null,
      "right": null,
      "top": null,
      "visibility": null,
      "width": null
     }
    },
    "8a10a2a6fdb24628817c8ca98ca7578a": {
     "model_module": "@jupyter-widgets/controls",
     "model_module_version": "2.0.0",
     "model_name": "FloatProgressModel",
     "state": {
      "_dom_classes": [],
      "_model_module": "@jupyter-widgets/controls",
      "_model_module_version": "2.0.0",
      "_model_name": "FloatProgressModel",
      "_view_count": null,
      "_view_module": "@jupyter-widgets/controls",
      "_view_module_version": "2.0.0",
      "_view_name": "ProgressView",
      "bar_style": "",
      "description": "",
      "description_allow_html": false,
      "layout": "IPY_MODEL_6ff39ed6b5474f6595c4d202efa3147f",
      "max": 1,
      "min": 0,
      "orientation": "horizontal",
      "style": "IPY_MODEL_6a520c64bab74350a4116a91f59b94a9",
      "tabbable": null,
      "tooltip": null,
      "value": 0.09913177272227718
     }
    },
    "ca6998b21369476486a74258bf8f5a57": {
     "model_module": "@jupyter-widgets/base",
     "model_module_version": "2.0.0",
     "model_name": "LayoutModel",
     "state": {
      "_model_module": "@jupyter-widgets/base",
      "_model_module_version": "2.0.0",
      "_model_name": "LayoutModel",
      "_view_count": null,
      "_view_module": "@jupyter-widgets/base",
      "_view_module_version": "2.0.0",
      "_view_name": "LayoutView",
      "align_content": null,
      "align_items": null,
      "align_self": null,
      "border_bottom": null,
      "border_left": null,
      "border_right": null,
      "border_top": null,
      "bottom": null,
      "display": null,
      "flex": null,
      "flex_flow": null,
      "grid_area": null,
      "grid_auto_columns": null,
      "grid_auto_flow": null,
      "grid_auto_rows": null,
      "grid_column": null,
      "grid_gap": null,
      "grid_row": null,
      "grid_template_areas": null,
      "grid_template_columns": null,
      "grid_template_rows": null,
      "height": null,
      "justify_content": null,
      "justify_items": null,
      "left": null,
      "margin": null,
      "max_height": null,
      "max_width": null,
      "min_height": null,
      "min_width": null,
      "object_fit": null,
      "object_position": null,
      "order": null,
      "overflow": null,
      "padding": null,
      "right": null,
      "top": null,
      "visibility": null,
      "width": null
     }
    },
    "ed225b1960a642aeaa6ab1080595974c": {
     "model_module": "@jupyter-widgets/controls",
     "model_module_version": "2.0.0",
     "model_name": "VBoxModel",
     "state": {
      "_dom_classes": [],
      "_model_module": "@jupyter-widgets/controls",
      "_model_module_version": "2.0.0",
      "_model_name": "VBoxModel",
      "_view_count": null,
      "_view_module": "@jupyter-widgets/controls",
      "_view_module_version": "2.0.0",
      "_view_name": "VBoxView",
      "box_style": "",
      "children": [
       "IPY_MODEL_57e94d9325394f259dc3672ede2c381a",
       "IPY_MODEL_8a10a2a6fdb24628817c8ca98ca7578a"
      ],
      "layout": "IPY_MODEL_ca6998b21369476486a74258bf8f5a57",
      "tabbable": null,
      "tooltip": null
     }
    }
   }
  }
 },
 "nbformat": 4,
 "nbformat_minor": 4
}
