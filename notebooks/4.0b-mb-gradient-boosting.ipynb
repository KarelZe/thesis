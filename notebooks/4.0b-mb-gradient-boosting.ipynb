{
 "cells": [
  {
   "cell_type": "code",
   "execution_count": 1,
   "metadata": {
    "colab_type": "text",
    "id": "view-in-github"
   },
   "outputs": [],
   "source": [
    "import json\n",
    "import os\n",
    "import pickle\n",
    "from pathlib import Path\n",
    "\n",
    "import gcsfs\n",
    "import google.auth\n",
    "import numpy as np\n",
    "import optuna\n",
    "import pandas as pd\n",
    "import wandb\n",
    "from catboost import CatBoostClassifier\n",
    "\n",
    "from tqdm.notebook import tqdm\n"
   ]
  },
  {
   "cell_type": "code",
   "execution_count": 2,
   "metadata": {},
   "outputs": [],
   "source": [
    "# set globally here\n",
    "exchange = \"ise\"\n",
    "features = \"classical\"\n",
    "strategy = \"supervised\"\n",
    "subset = \"test\"\n",
    "\n",
    "model = \"xl3n4thc_CatBoostClassifier_default.cbm:v9\"\n",
    "\n",
    "# set for \"classical\", \"classical-size\", and \"ml\" accordingly\n",
    "models = [\n",
    "(\"classical-size\", \"xl3n4thc_CatBoostClassifier_default.cbm:v9\"),\n",
    "(\"classical-size\", \"xl3n4thc_CatBoostClassifier_default.cbm:v9\"),\n",
    "(\"classical-size\", \"xl3n4thc_CatBoostClassifier_default.cbm:v9\"),\n",
    "]\n"
   ]
  },
  {
   "cell_type": "code",
   "execution_count": 3,
   "metadata": {},
   "outputs": [],
   "source": [
    "# key used for files and artefacts\n",
    "key = f\"{exchange}_gbm_{strategy}_{subset}\"\n",
    "dataset = f\"fbv/thesis/{exchange}_{strategy}_log_standardized:latest\"\n",
    "study_id = model.split(\"_\")[0]"
   ]
  },
  {
   "cell_type": "code",
   "execution_count": 4,
   "metadata": {
    "id": "DMpV9NTt25pj"
   },
   "outputs": [
    {
     "name": "stderr",
     "output_type": "stream",
     "text": [
      "/home/kit/stud/uloak/.local/lib/python3.8/site-packages/google/auth/_default.py:83: UserWarning: Your application has authenticated using end user credentials from Google Cloud SDK without a quota project. You might receive a \"quota exceeded\" or \"API not enabled\" error. We recommend you rerun `gcloud auth application-default login` and make sure a quota project is added. Or you can use service accounts instead. For more information about service accounts, see https://cloud.google.com/docs/authentication/\n",
      "  warnings.warn(_CLOUD_SDK_CREDENTIALS_WARNING)\n"
     ]
    }
   ],
   "source": [
    "fs = gcsfs.GCSFileSystem(project=\"thesis\")\n",
    "fs_prefix = \"gs://\"\n"
   ]
  },
  {
   "cell_type": "code",
   "execution_count": 5,
   "metadata": {
    "id": "vFMHPh-nTcSI"
   },
   "outputs": [],
   "source": [
    "features_date = [\n",
    "    \"date_month_sin\",\n",
    "    \"date_month_cos\",\n",
    "    \"date_time_sin\",\n",
    "    \"date_time_cos\",\n",
    "    \"date_weekday_sin\",\n",
    "    \"date_weekday_cos\",\n",
    "    \"date_day_sin\",\n",
    "    \"date_day_cos\",\n",
    "]\n",
    "\n",
    "features_option = [\n",
    "    \"STRK_PRC\",\n",
    "    \"ttm\",\n",
    "    \"bin_option_type\",\n",
    "    \"bin_issue_type\",\n",
    "    \"bin_root\",\n",
    "    \"myn\",\n",
    "    \"day_vol\",\n",
    "]\n",
    "\n",
    "# https://github.com/KarelZe/thesis/blob/main/notebooks/\n",
    "# 3.0a-mb-explanatory_data_analysis.ipynb\n",
    "features_categorical = [\n",
    "    (\"bin_root\", 8667),\n",
    "    (\"bin_option_type\", 2),\n",
    "    (\"bin_issue_type\", 6),\n",
    "]\n",
    "\n",
    "features_classical = [\n",
    "    \"TRADE_PRICE\",\n",
    "    \"bid_ex\",\n",
    "    \"ask_ex\",\n",
    "    \"BEST_ASK\",\n",
    "    \"BEST_BID\",\n",
    "    \"price_ex_lag\",\n",
    "    \"price_ex_lead\",\n",
    "    \"price_all_lag\",\n",
    "    \"price_all_lead\",\n",
    "    \"chg_ex_lead\",\n",
    "    \"chg_ex_lag\",\n",
    "    \"chg_all_lead\",\n",
    "    \"chg_all_lag\",\n",
    "    \"prox_ex\",\n",
    "    \"prox_best\",\n",
    "]\n",
    "\n",
    "features_size = [\n",
    "    \"bid_ask_size_ratio_ex\",\n",
    "    \"rel_bid_size_ex\",\n",
    "    \"rel_ask_size_ex\",\n",
    "    \"TRADE_SIZE\",\n",
    "    \"bid_size_ex\",\n",
    "    \"ask_size_ex\",\n",
    "    \"depth_ex\",\n",
    "]\n",
    "\n",
    "features_classical_size = [\n",
    "    *features_classical,\n",
    "    *features_size,\n",
    "]\n",
    "\n",
    "features_ml = [*features_classical_size, *features_date, *features_option]\n",
    "\n",
    "features_unused = [\n",
    "    \"price_rel_nbb\",\n",
    "    \"price_rel_nbo\",\n",
    "    \"date_year\",\n",
    "    \"mid_ex\",\n",
    "    \"mid_best\",\n",
    "    \"spread_ex\",\n",
    "    \"spread_best\",\n",
    "]\n"
   ]
  },
  {
   "cell_type": "code",
   "execution_count": 6,
   "metadata": {
    "id": "8_7CKpqcONOy"
   },
   "outputs": [],
   "source": [
    "os.environ[\"GCLOUD_PROJECT\"] = \"flowing-mantis-239216\"\n"
   ]
  },
  {
   "cell_type": "code",
   "execution_count": 7,
   "metadata": {
    "colab": {
     "base_uri": "https://localhost:8080/",
     "height": 208
    },
    "id": "ah1dofx3TdDj",
    "outputId": "0bd418dd-6b5d-4fa8-9142-89b22d255e2f"
   },
   "outputs": [
    {
     "name": "stderr",
     "output_type": "stream",
     "text": [
      "Failed to detect the name of this notebook, you can set it manually with the WANDB_NOTEBOOK_NAME environment variable to enable code saving.\n",
      "\u001b[34m\u001b[1mwandb\u001b[0m: Currently logged in as: \u001b[33mkarelze\u001b[0m (\u001b[33mfbv\u001b[0m). Use \u001b[1m`wandb login --relogin`\u001b[0m to force relogin\n"
     ]
    },
    {
     "data": {
      "text/html": [
       "wandb version 0.14.0 is available!  To upgrade, please run:\n",
       " $ pip install wandb --upgrade"
      ],
      "text/plain": [
       "<IPython.core.display.HTML object>"
      ]
     },
     "metadata": {},
     "output_type": "display_data"
    },
    {
     "data": {
      "text/html": [
       "Tracking run with wandb version 0.13.5"
      ],
      "text/plain": [
       "<IPython.core.display.HTML object>"
      ]
     },
     "metadata": {},
     "output_type": "display_data"
    },
    {
     "data": {
      "text/html": [
       "Run data is saved locally in <code>/pfs/data5/home/kit/stud/uloak/thesis/notebooks/wandb/run-20230317_205655-l2qdxduo</code>"
      ],
      "text/plain": [
       "<IPython.core.display.HTML object>"
      ]
     },
     "metadata": {},
     "output_type": "display_data"
    },
    {
     "data": {
      "text/html": [
       "Syncing run <strong><a href=\"https://wandb.ai/fbv/thesis/runs/l2qdxduo\" target=\"_blank\">rich-galaxy-838</a></strong> to <a href=\"https://wandb.ai/fbv/thesis\" target=\"_blank\">Weights & Biases</a> (<a href=\"https://wandb.me/run\" target=\"_blank\">docs</a>)<br/>"
      ],
      "text/plain": [
       "<IPython.core.display.HTML object>"
      ]
     },
     "metadata": {},
     "output_type": "display_data"
    },
    {
     "name": "stderr",
     "output_type": "stream",
     "text": [
      "\u001b[34m\u001b[1mwandb\u001b[0m: Downloading large artifact ise_supervised_log_standardized:latest, 3813.29MB. 3 files... \n",
      "\u001b[34m\u001b[1mwandb\u001b[0m:   3 of 3 files downloaded.  \n",
      "Done. 0:0:0.0\n"
     ]
    }
   ],
   "source": [
    "# see https://wandb.ai/fbv/thesis/runs/kwlaw02g/overview?workspace=user-karelze\n",
    "run = wandb.init(project=\"thesis\", entity=\"fbv\")\n",
    "\n",
    "artifact = run.use_artifact(dataset)\n",
    "data_dir = artifact.download()\n",
    "\n"
   ]
  },
  {
   "cell_type": "code",
   "execution_count": 8,
   "metadata": {
    "id": "WmXtH-PEqyQE"
   },
   "outputs": [],
   "source": [
    "if subset == \"all\":\n",
    "    train = pd.read_parquet(\n",
    "        Path(data_dir, \"train_set_60.parquet\"), engine=\"fastparquet\"\n",
    "    )\n",
    "    val = pd.read_parquet(\n",
    "        Path(data_dir, \"val_set_20.parquet\"), engine=\"fastparquet\"\n",
    "    )\n",
    "    test = pd.read_parquet(\n",
    "        Path(data_dir, \"test_set_20.parquet\"), engine=\"fastparquet\"\n",
    "    )\n",
    "    data = pd.concat([train,val,test])\n",
    "    del train, val, test\n",
    "    \n",
    "elif subset == \"test\":\n",
    "    data = pd.read_parquet(\n",
    "        Path(data_dir, \"test_set_20.parquet\"), engine=\"fastparquet\"\n",
    "    )\n",
    "\n",
    "y_test= data[\"buy_sell\"]\n",
    "X_test = data.drop(columns=\"buy_sell\")"
   ]
  },
  {
   "cell_type": "markdown",
   "metadata": {
    "id": "zMIOV1jA_ImH"
   },
   "source": [
    "## CatBoost Baseline 🐈‍⬛"
   ]
  },
  {
   "cell_type": "code",
   "execution_count": 14,
   "metadata": {},
   "outputs": [
    {
     "name": "stderr",
     "output_type": "stream",
     "text": [
      "\u001b[34m\u001b[1mwandb\u001b[0m:   2 of 2 files downloaded.  \n"
     ]
    },
    {
     "data": {
      "image/png": "[encoded data removed]",
      "text/plain": [
       "<Figure size 432x288 with 1 Axes>"
      ]
     },
     "metadata": {
      "needs_background": "light"
     },
     "output_type": "display_data"
    }
   ],
   "source": [
    "import matplotlib.pyplot as plt\n",
    "from sklearn.metrics import RocCurveDisplay\n",
    "\n",
    "model = \"xl3n4thc_CatBoostClassifier_default.cbm:v9\"\n",
    "model_name = model.split(\"/\")[-1].split(\":\")[0]\n",
    "    \n",
    "artifact = run.use_artifact(model)\n",
    "model_dir = artifact.download()\n",
    "    \n",
    "clf = CatBoostClassifier()\n",
    "clf.load_model(fname=Path(model_dir, model_name))\n",
    "\n",
    "RocCurveDisplay.from_estimator(\n",
    "clf, X_test, y_test, response_method=\"predict_proba\")\n",
    "\n",
    "plt.plot([0, 1], [0, 1], 'k--', label=\"random\")\n",
    "\n",
    "plt.show()"
   ]
  },
  {
   "cell_type": "code",
   "execution_count": 18,
   "metadata": {},
   "outputs": [
    {
     "data": {
      "image/png": "[encoded data removed]",
      "text/plain": [
       "<Figure size 432x288 with 1 Axes>"
      ]
     },
     "metadata": {
      "needs_background": "light"
     },
     "output_type": "display_data"
    }
   ],
   "source": [
    "from sklearn.metrics import precision_recall_curve\n",
    "from sklearn.metrics import PrecisionRecallDisplay\n",
    "\n",
    "PrecisionRecallDisplay.from_estimator(clf, X_test, y_test, pos_label=clf.classes_[1])\n",
    "plt.show()"
   ]
  },
  {
   "cell_type": "code",
   "execution_count": 12,
   "metadata": {},
   "outputs": [
    {
     "data": {
      "image/png": "[encoded data removed]",
      "text/plain": [
       "<Figure size 432x288 with 2 Axes>"
      ]
     },
     "metadata": {
      "needs_background": "light"
     },
     "output_type": "display_data"
    }
   ],
   "source": [
    "from sklearn.metrics import ConfusionMatrixDisplay\n",
    "ConfusionMatrixDisplay.from_estimator(clf, X_test, y_test)\n",
    "plt.show()"
   ]
  },
  {
   "cell_type": "code",
   "execution_count": 10,
   "metadata": {},
   "outputs": [
    {
     "data": {
      "application/vnd.jupyter.widget-view+json": {
       "model_id": "7cc495c289c34feda5c4c61546b863b5",
       "version_major": 2,
       "version_minor": 0
      },
      "text/plain": [
       "  0%|          | 0/3 [00:00<?, ?it/s]"
      ]
     },
     "metadata": {},
     "output_type": "display_data"
    },
    {
     "name": "stderr",
     "output_type": "stream",
     "text": [
      "\u001b[34m\u001b[1mwandb\u001b[0m:   2 of 2 files downloaded.  \n",
      "\u001b[34m\u001b[1mwandb\u001b[0m:   2 of 2 files downloaded.  \n",
      "\u001b[34m\u001b[1mwandb\u001b[0m:   2 of 2 files downloaded.  \n"
     ]
    }
   ],
   "source": [
    "results = []\n",
    "\n",
    "feature_map = {\"classical\": features_classical, \"classical-size\": features_classical_size, \"ml\": features_ml}\n",
    "\n",
    "for feature_str, model in tqdm(models):\n",
    "\n",
    "    model_name = model.split(\"/\")[-1].split(\":\")[0]\n",
    "    \n",
    "    artifact = run.use_artifact(model)\n",
    "    model_dir = artifact.download()\n",
    "    \n",
    "    model = CatBoostClassifier()\n",
    "    model.load_model(fname=Path(model_dir, model_name))\n",
    "    \n",
    "    fs = feature_map.get(feature_str)\n",
    "    \n",
    "    result = model.predict(X_test.loc[:,fs])\n",
    "    results.append(result)"
   ]
  },
  {
   "cell_type": "code",
   "execution_count": 11,
   "metadata": {},
   "outputs": [],
   "source": [
    "# results = pd.DataFrame(dict(zip([f[0] for f in models], results)), index=X_test.index)\n",
    "output_path = f\"gs://thesis-bucket-option-trade-classification/data/results/{key}.parquet\"\n",
    "results.to_parquet(output_path)\n",
    "\n",
    "# Log the artifact to save it as an output of this run\n",
    "result_set = wandb.Artifact(name=key, type=\"results\")\n",
    "result_set.add_reference(output_path, name=\"results\")\n",
    "run.log_artifact(result_set)\n",
    "\n",
    "wandb.finish()"
   ]
  },
  {
   "cell_type": "code",
   "execution_count": null,
   "metadata": {},
   "outputs": [],
   "source": []
  }
 ],
 "metadata": {
  "accelerator": "GPU",
  "colab": {
   "include_colab_link": true,
   "machine_shape": "hm",
   "name": "Untitled2.ipynb",
   "provenance": []
  },
  "gpuClass": "premium",
  "kernelspec": {
   "display_name": "mykernel",
   "language": "python",
   "name": "mykernel"
  },
  "language_info": {
   "codemirror_mode": {
    "name": "ipython",
    "version": 3
   },
   "file_extension": ".py",
   "mimetype": "text/x-python",
   "name": "python",
   "nbconvert_exporter": "python",
   "pygments_lexer": "ipython3",
   "version": "3.8.6"
  },
  "vscode": {
   "interpreter": {
    "hash": "e7370f93d1d0cde622a1f8e1c04877d8463912d04d973331ad4851f04de6915a"
   }
  }
 },
 "nbformat": 4,
 "nbformat_minor": 4
}
