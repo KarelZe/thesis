{
  "cells": [
    {
      "cell_type": "code",
      "execution_count": 2,
      "metadata": {
        "colab_type": "text",
        "id": "view-in-github"
      },
      "outputs": [],
      "source": [
        "import json\n",
        "import os\n",
        "import pickle\n",
        "from pathlib import Path\n",
        "\n",
        "import gcsfs\n",
        "import google.auth\n",
        "import numpy as np\n",
        "import optuna\n",
        "import pandas as pd\n",
        "import wandb\n",
        "from catboost import CatBoostClassifier\n",
        "from google.colab import auth, output\n",
        "from sklearn.metrics import accuracy_score\n"
      ]
    },
    {
      "cell_type": "code",
      "execution_count": 3,
      "metadata": {
        "id": "DMpV9NTt25pj"
      },
      "outputs": [],
      "source": [
        "# connect to google cloud storage\n",
        "auth.authenticate_user()\n",
        "credentials, _ = google.auth.default()\n",
        "fs = gcsfs.GCSFileSystem(project=\"thesis\", token=credentials)\n",
        "# fs = gcsfs.GCSFileSystem(project=\"thesis\")\n",
        "# fs_prefix = \"gs://\"\n"
      ]
    },
    {
      "cell_type": "code",
      "execution_count": 4,
      "metadata": {
        "id": "vFMHPh-nTcSI"
      },
      "outputs": [],
      "source": [
        "features_date = [\n",
        "    \"date_month_sin\",\n",
        "    \"date_month_cos\",\n",
        "    \"date_time_sin\",\n",
        "    \"date_time_cos\",\n",
        "    \"date_weekday_sin\",\n",
        "    \"date_weekday_cos\",\n",
        "    \"date_day_sin\",\n",
        "    \"date_day_cos\",\n",
        "]\n",
        "\n",
        "features_option = [\n",
        "    \"STRK_PRC\",\n",
        "    \"ttm\",\n",
        "    \"bin_option_type\",\n",
        "    \"bin_issue_type\",\n",
        "    \"bin_root\",\n",
        "    \"myn\",\n",
        "    \"day_vol\",\n",
        "]\n",
        "\n",
        "# https://github.com/KarelZe/thesis/blob/main/notebooks/\n",
        "# 3.0a-mb-explanatory_data_analysis.ipynb\n",
        "features_categorical = [\n",
        "    (\"bin_root\", 8667),\n",
        "    (\"bin_option_type\", 2),\n",
        "    (\"bin_issue_type\", 6),\n",
        "]\n",
        "\n",
        "features_classical = [\n",
        "    \"TRADE_PRICE\",\n",
        "    \"bid_ex\",\n",
        "    \"ask_ex\",\n",
        "    \"BEST_ASK\",\n",
        "    \"BEST_BID\",\n",
        "    \"price_ex_lag\",\n",
        "    \"price_ex_lead\",\n",
        "    \"price_all_lag\",\n",
        "    \"price_all_lead\",\n",
        "    \"chg_ex_lead\",\n",
        "    \"chg_ex_lag\",\n",
        "    \"chg_all_lead\",\n",
        "    \"chg_all_lag\",\n",
        "    \"prox_ex\",\n",
        "    \"prox_best\",\n",
        "]\n",
        "\n",
        "features_size = [\n",
        "    \"bid_ask_size_ratio_ex\",\n",
        "    \"rel_bid_size_ex\",\n",
        "    \"rel_ask_size_ex\",\n",
        "    \"TRADE_SIZE\",\n",
        "    \"bid_size_ex\",\n",
        "    \"ask_size_ex\",\n",
        "    \"depth_ex\",\n",
        "]\n",
        "\n",
        "features_classical_size = [\n",
        "    *features_classical,\n",
        "    *features_size,\n",
        "]\n",
        "\n",
        "features_ml = [*features_classical_size, *features_date, *features_option]\n",
        "\n",
        "features_unused = [\n",
        "    \"price_rel_nbb\",\n",
        "    \"price_rel_nbo\",\n",
        "    \"date_year\",\n",
        "    \"mid_ex\",\n",
        "    \"mid_best\",\n",
        "    \"spread_ex\",\n",
        "    \"spread_best\",\n",
        "]\n"
      ]
    },
    {
      "cell_type": "code",
      "execution_count": 5,
      "metadata": {
        "id": "8_7CKpqcONOy"
      },
      "outputs": [],
      "source": [
        "os.environ[\"GCLOUD_PROJECT\"] = \"flowing-mantis-239216\"\n"
      ]
    },
    {
      "cell_type": "code",
      "execution_count": 7,
      "metadata": {
        "colab": {
          "base_uri": "https://localhost:8080/",
          "height": 208
        },
        "id": "ah1dofx3TdDj",
        "outputId": "0bd418dd-6b5d-4fa8-9142-89b22d255e2f"
      },
      "outputs": [
        {
          "name": "stderr",
          "output_type": "stream",
          "text": [
            "\u001b[34m\u001b[1mwandb\u001b[0m: Currently logged in as: \u001b[33mkarelze\u001b[0m (\u001b[33mfbv\u001b[0m). Use \u001b[1m`wandb login --relogin`\u001b[0m to force relogin\n"
          ]
        },
        {
          "data": {
            "text/html": [
              "Tracking run with wandb version 0.13.9"
            ],
            "text/plain": [
              "<IPython.core.display.HTML object>"
            ]
          },
          "metadata": {},
          "output_type": "display_data"
        },
        {
          "data": {
            "text/html": [
              "Run data is saved locally in <code>/content/wandb/run-20230118_202458-ytfc3bgk</code>"
            ],
            "text/plain": [
              "<IPython.core.display.HTML object>"
            ]
          },
          "metadata": {},
          "output_type": "display_data"
        },
        {
          "data": {
            "text/html": [
              "Syncing run <strong><a href=\"https://wandb.ai/fbv/thesis/runs/ytfc3bgk\" target=\"_blank\">super-wildflower-715</a></strong> to <a href=\"https://wandb.ai/fbv/thesis\" target=\"_blank\">Weights & Biases</a> (<a href=\"https://wandb.me/run\" target=\"_blank\">docs</a>)<br/>"
            ],
            "text/plain": [
              "<IPython.core.display.HTML object>"
            ]
          },
          "metadata": {},
          "output_type": "display_data"
        },
        {
          "data": {
            "text/html": [
              " View project at <a href=\"https://wandb.ai/fbv/thesis\" target=\"_blank\">https://wandb.ai/fbv/thesis</a>"
            ],
            "text/plain": [
              "<IPython.core.display.HTML object>"
            ]
          },
          "metadata": {},
          "output_type": "display_data"
        },
        {
          "data": {
            "text/html": [
              " View run at <a href=\"https://wandb.ai/fbv/thesis/runs/ytfc3bgk\" target=\"_blank\">https://wandb.ai/fbv/thesis/runs/ytfc3bgk</a>"
            ],
            "text/plain": [
              "<IPython.core.display.HTML object>"
            ]
          },
          "metadata": {},
          "output_type": "display_data"
        },
        {
          "name": "stderr",
          "output_type": "stream",
          "text": [
            "\u001b[34m\u001b[1mwandb\u001b[0m: Downloading large artifact ise_log_standardized:v1, 3813.29MB. 3 files... \n",
            "\u001b[34m\u001b[1mwandb\u001b[0m:   3 of 3 files downloaded.  \n",
            "Done. 0:0:0.1\n",
            "\u001b[34m\u001b[1mwandb\u001b[0m:   1 of 1 files downloaded.  \n",
            "\u001b[34m\u001b[1mwandb\u001b[0m:   2 of 2 files downloaded.  \n"
          ]
        }
      ],
      "source": [
        "# see https://wandb.ai/fbv/thesis/runs/kwlaw02g/overview?workspace=user-karelze\n",
        "run = wandb.init(project=\"thesis\", entity=\"fbv\")\n",
        "\n",
        "dataset = \"fbv/thesis/ise_log_standardized:v1\"\n",
        "artifact = run.use_artifact(dataset)\n",
        "data_dir = artifact.download()\n",
        "\n",
        "study = \"fbv/thesis/xl3n4thc.optuna:v99\"\n",
        "artifact = run.use_artifact(study)\n",
        "study_dir = artifact.download()\n",
        "\n",
        "\n",
        "model = \"xl3n4thc_CatBoostClassifier_default.cbm:v9\"\n",
        "model_name = model.split(\"/\")[-1].split(\":\")[0]\n",
        "\n",
        "artifact = run.use_artifact(model)\n",
        "model_dir = artifact.download()\n"
      ]
    },
    {
      "cell_type": "code",
      "execution_count": 8,
      "metadata": {
        "id": "WmXtH-PEqyQE"
      },
      "outputs": [],
      "source": [
        "X_test = pd.read_parquet(Path(data_dir, \"test_set_20.parquet\"), engine=\"fastparquet\")\n",
        "\n",
        "y_test = X_test[\"buy_sell\"]\n",
        "# y_test[y_test<0] = 0\n",
        "X_test = X_test[features_classical_size]\n"
      ]
    },
    {
      "cell_type": "markdown",
      "metadata": {
        "id": "zMIOV1jA_ImH"
      },
      "source": [
        "## CatBoost Baseline 🐈‍⬛"
      ]
    },
    {
      "cell_type": "markdown",
      "metadata": {
        "id": "yLN65NSTQs49"
      },
      "source": [
        "## Visualize study"
      ]
    },
    {
      "cell_type": "code",
      "execution_count": 9,
      "metadata": {
        "id": "X6yt3z98QrsN"
      },
      "outputs": [],
      "source": [
        "%%script false --no-raise-error\n",
        "file  = open(\"./artifacts/xl3n4thc.optuna:v99/xl3n4thc.optuna\",'rb')\n",
        "study = pickle.load(file)\n",
        "\n",
        "#optuna.visualization.matplotlib.plot_optimization_history(study)\n",
        "optuna.visualization.matplotlib.plot_param_importances(study)\n",
        "optuna.visualization.matplotlib.plot_slice(study)\n",
        "optuna.visualization.matplotlib.plot_contour(\n",
        "     study, [\"learning_rate\", \"depth\", \"bagging_temperature\", \"l2_leaf_reg\"]\n",
        ")"
      ]
    },
    {
      "cell_type": "markdown",
      "metadata": {
        "id": "2UnP6IydONPA"
      },
      "source": [
        "### Learning Curves Baseline 📉"
      ]
    },
    {
      "cell_type": "code",
      "execution_count": 10,
      "metadata": {
        "id": "wwt7Kn8lONPC"
      },
      "outputs": [],
      "source": [
        "%%script false --no-raise-error\n",
        "# visualize learning curves\n",
        "with open(Path(model_dir,model_name[:-4]+\"_training.json\"), 'r') as j:\n",
        "     contents = json.loads(j.read())\n",
        "\n",
        "# extract relevant keys\n",
        "test_metrics = [d['name'] for d in contents['meta']['test_metrics'] ]\n",
        "test_results = [d['test'] for d in iterations]\n",
        "learn_metrics = [d['name'] for d in contents['meta']['learn_metrics'] ]\n",
        "learn_results = [d['learn'] for d in iterations]\n",
        "\n",
        "metrics_learn = pd.DataFrame(learn_results, columns=learn_metrics).add_prefix(\"learn_\")\n",
        "metrics_test = pd.DataFrame(test_results, columns=test_metrics).add_prefix(\"test_\")\n",
        "\n",
        "learning_metrics = pd.concat([metrics_learn, metrics_test], axis=1)\n",
        "\n",
        "df.head()"
      ]
    },
    {
      "cell_type": "code",
      "execution_count": 11,
      "metadata": {
        "id": "ctjb901EONPF"
      },
      "outputs": [],
      "source": [
        "%%script false --no-raise-error\n",
        "learning_metrics.plot(kind=\"line\", figsize=(16,9))"
      ]
    },
    {
      "cell_type": "markdown",
      "metadata": {
        "id": "i7QUdErfONPH"
      },
      "source": [
        "### Accuracy Baseline 🎯"
      ]
    },
    {
      "cell_type": "code",
      "execution_count": 12,
      "metadata": {
        "colab": {
          "base_uri": "https://localhost:8080/"
        },
        "id": "VivmC-8L3YUc",
        "outputId": "40d5f78c-d3ae-4164-ab1e-2c16cc187b10"
      },
      "outputs": [
        {
          "data": {
            "text/plain": [
              "<catboost.core.CatBoostClassifier at 0x7fa0ced2a370>"
            ]
          },
          "execution_count": 12,
          "metadata": {},
          "output_type": "execute_result"
        }
      ],
      "source": [
        "model = CatBoostClassifier()\n",
        "model.load_model(fname=Path(model_dir, model_name))\n"
      ]
    },
    {
      "cell_type": "code",
      "execution_count": 13,
      "metadata": {
        "colab": {
          "base_uri": "https://localhost:8080/"
        },
        "id": "hlLETHiJZSoH",
        "outputId": "c94d6177-650e-4ad3-a608-4aba488f75ec"
      },
      "outputs": [
        {
          "name": "stderr",
          "output_type": "stream",
          "text": [
            "/usr/local/lib/python3.8/dist-packages/catboost/core.py:1419: FutureWarning: iteritems is deprecated and will be removed in a future version. Use .items instead.\n",
            "  self._init_pool(data, label, cat_features, text_features, embedding_features, embedding_features_data, pairs, weight,\n"
          ]
        },
        {
          "name": "stdout",
          "output_type": "stream",
          "text": [
            "0.7232624886732101\n"
          ]
        }
      ],
      "source": [
        "acc = model.score(X_test, y_test)\n",
        "print(acc)\n"
      ]
    }
  ],
  "metadata": {
    "accelerator": "GPU",
    "colab": {
      "include_colab_link": true,
      "machine_shape": "hm",
      "name": "Untitled2.ipynb",
      "provenance": []
    },
    "gpuClass": "premium",
    "kernelspec": {
      "display_name": "Python 3",
      "language": "python",
      "name": "python3"
    },
    "language_info": {
      "codemirror_mode": {
        "name": "ipython",
        "version": 3
      },
      "file_extension": ".py",
      "mimetype": "text/x-python",
      "name": "python",
      "nbconvert_exporter": "python",
      "pygments_lexer": "ipython3",
      "version": "3.8.10"
    },
    "vscode": {
      "interpreter": {
        "hash": "e7370f93d1d0cde622a1f8e1c04877d8463912d04d973331ad4851f04de6915a"
      }
    }
  },
  "nbformat": 4,
  "nbformat_minor": 0
}
