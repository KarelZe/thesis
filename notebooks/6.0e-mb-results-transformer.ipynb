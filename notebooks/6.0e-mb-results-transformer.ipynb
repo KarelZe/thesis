{
 "cells": [
  {
   "cell_type": "code",
   "execution_count": 1,
   "metadata": {
    "colab_type": "text",
    "id": "view-in-github"
   },
   "outputs": [
    {
     "name": "stderr",
     "output_type": "stream",
     "text": [
      "/home/kit/stud/uloak/.local/lib/python3.9/site-packages/tqdm/auto.py:21: TqdmWarning: IProgress not found. Please update jupyter and ipywidgets. See https://ipywidgets.readthedocs.io/en/stable/user_install.html\n",
      "  from .autonotebook import tqdm as notebook_tqdm\n"
     ]
    }
   ],
   "source": [
    "import os\n",
    "import sys\n",
    "import pickle\n",
    "from pathlib import Path\n",
    "\n",
    "import pandas as pd\n",
    "import wandb\n",
    "\n",
    "from tqdm.auto import tqdm\n",
    "\n",
    "sys.path.append(\"..\")\n",
    "from otc.features.build_features import (\n",
    "    features_categorical,\n",
    "    features_classical,\n",
    "    features_classical_size,\n",
    "    features_ml,\n",
    ")\n"
   ]
  },
  {
   "cell_type": "code",
   "execution_count": 2,
   "metadata": {},
   "outputs": [],
   "source": [
    "# set globally here\n",
    "EXCHANGE = \"cboe\" # \"ise\"  # \"cboe\"\n",
    "STRATEGY = \"transfer\"  # \"supervised\"\n",
    "SUBSET = \"test\"  # \"all\"\n",
    "\n",
    "\n",
    "# ise-trained models, supervised/semisupervised\n",
    "models = [\n",
    "    (\"classical\", \"2tcgk6lh_TransformerClassifier_default.pkl:latest\"),\n",
    "    (\"classical-size\", \"2q55rbmr_TransformerClassifier_default.pkl:latest\"),\n",
    "    (\"ml\", \"23bpisj6_TransformerClassifier_default.pkl:latest\"),\n",
    "]"
   ]
  },
  {
   "cell_type": "code",
   "execution_count": 3,
   "metadata": {},
   "outputs": [],
   "source": [
    "# key used for files and artefacts\n",
    "key = f\"{EXCHANGE}_fttransformer_{STRATEGY}_{SUBSET}\"\n",
    "dataset = f\"fbv/thesis/{EXCHANGE}_{STRATEGY}_log_standardized_clipped:latest\"\n"
   ]
  },
  {
   "cell_type": "code",
   "execution_count": 4,
   "metadata": {
    "id": "8_7CKpqcONOy"
   },
   "outputs": [],
   "source": [
    "# set project name. Required to access files and artefacts\n",
    "os.environ[\"GCLOUD_PROJECT\"] = \"flowing-mantis-239216\"\n"
   ]
  },
  {
   "cell_type": "code",
   "execution_count": 5,
   "metadata": {
    "colab": {
     "base_uri": "https://localhost:8080/",
     "height": 208
    },
    "id": "ah1dofx3TdDj",
    "outputId": "0bd418dd-6b5d-4fa8-9142-89b22d255e2f"
   },
   "outputs": [
    {
     "name": "stderr",
     "output_type": "stream",
     "text": [
      "Failed to detect the name of this notebook, you can set it manually with the WANDB_NOTEBOOK_NAME environment variable to enable code saving.\n",
      "\u001b[34m\u001b[1mwandb\u001b[0m: Currently logged in as: \u001b[33mkarelze\u001b[0m (\u001b[33mfbv\u001b[0m). Use \u001b[1m`wandb login --relogin`\u001b[0m to force relogin\n"
     ]
    },
    {
     "data": {
      "text/html": [
       "wandb version 0.15.0 is available!  To upgrade, please run:\n",
       " $ pip install wandb --upgrade"
      ],
      "text/plain": [
       "<IPython.core.display.HTML object>"
      ]
     },
     "metadata": {},
     "output_type": "display_data"
    },
    {
     "data": {
      "text/html": [
       "Tracking run with wandb version 0.13.5"
      ],
      "text/plain": [
       "<IPython.core.display.HTML object>"
      ]
     },
     "metadata": {},
     "output_type": "display_data"
    },
    {
     "data": {
      "text/html": [
       "Run data is saved locally in <code>/pfs/data5/home/kit/stud/uloak/thesis/notebooks/wandb/run-20230428_150141-19rultqr</code>"
      ],
      "text/plain": [
       "<IPython.core.display.HTML object>"
      ]
     },
     "metadata": {},
     "output_type": "display_data"
    },
    {
     "data": {
      "text/html": [
       "Syncing run <strong><a href=\"https://wandb.ai/fbv/thesis/runs/19rultqr\" target=\"_blank\">eager-glitter-1426</a></strong> to <a href=\"https://wandb.ai/fbv/thesis\" target=\"_blank\">Weights & Biases</a> (<a href=\"https://wandb.me/run\" target=\"_blank\">docs</a>)<br/>"
      ],
      "text/plain": [
       "<IPython.core.display.HTML object>"
      ]
     },
     "metadata": {},
     "output_type": "display_data"
    },
    {
     "name": "stderr",
     "output_type": "stream",
     "text": [
      "\u001b[34m\u001b[1mwandb\u001b[0m: Downloading large artifact cboe_transfer_log_standardized_clipped:latest, 1404.96MB. 1 files... \n",
      "/pfs/data5/home/kit/stud/uloak/thesis/standard/lib64/python3.9/site-packages/google/auth/_default.py:78: UserWarning: Your application has authenticated using end user credentials from Google Cloud SDK without a quota project. You might receive a \"quota exceeded\" or \"API not enabled\" error. See the following page for troubleshooting: https://cloud.google.com/docs/authentication/adc-troubleshooting/user-creds. \n",
      "  warnings.warn(_CLOUD_SDK_CREDENTIALS_WARNING)\n",
      "\u001b[34m\u001b[1mwandb\u001b[0m:   1 of 1 files downloaded.  \n",
      "Done. 0:0:34.2\n"
     ]
    }
   ],
   "source": [
    "# see https://wandb.ai/fbv/thesis/runs/kwlaw02g/overview?workspace=user-karelze\n",
    "run = wandb.init(project=\"thesis\", entity=\"fbv\")\n",
    "\n",
    "artifact = run.use_artifact(dataset)\n",
    "data_dir = artifact.download()\n"
   ]
  },
  {
   "cell_type": "code",
   "execution_count": 6,
   "metadata": {
    "id": "WmXtH-PEqyQE"
   },
   "outputs": [],
   "source": [
    "if SUBSET == \"all\":\n",
    "    train = pd.read_parquet(Path(data_dir, \"train_set.parquet\"), engine=\"fastparquet\")\n",
    "    val = pd.read_parquet(Path(data_dir, \"val_set.parquet\"), engine=\"fastparquet\")\n",
    "    test = pd.read_parquet(Path(data_dir, \"test_set.parquet\"), engine=\"fastparquet\")\n",
    "    data = pd.concat([train, val, test])\n",
    "\n",
    "elif SUBSET == \"test\":\n",
    "    data = pd.read_parquet(Path(data_dir, \"test_set.parquet\"), engine=\"fastparquet\")\n",
    "\n",
    "y_test = data[\"buy_sell\"]\n",
    "X_test = data.drop(columns=\"buy_sell\")\n"
   ]
  },
  {
   "cell_type": "code",
   "execution_count": 7,
   "metadata": {},
   "outputs": [
    {
     "data": {
      "text/html": [
       "<div>\n",
       "<style scoped>\n",
       "    .dataframe tbody tr th:only-of-type {\n",
       "        vertical-align: middle;\n",
       "    }\n",
       "\n",
       "    .dataframe tbody tr th {\n",
       "        vertical-align: top;\n",
       "    }\n",
       "\n",
       "    .dataframe thead th {\n",
       "        text-align: right;\n",
       "    }\n",
       "</style>\n",
       "<table border=\"1\" class=\"dataframe\">\n",
       "  <thead>\n",
       "    <tr style=\"text-align: right;\">\n",
       "      <th></th>\n",
       "      <th>TRADE_PRICE</th>\n",
       "      <th>bid_ask_size_ratio_ex</th>\n",
       "      <th>rel_bid_size_ex</th>\n",
       "      <th>rel_ask_size_ex</th>\n",
       "      <th>depth_ex</th>\n",
       "      <th>prox_ex</th>\n",
       "      <th>prox_best</th>\n",
       "      <th>spread_ex</th>\n",
       "      <th>spread_best</th>\n",
       "      <th>bid_ask_ratio_ex</th>\n",
       "      <th>...</th>\n",
       "      <th>ask_size_ex</th>\n",
       "      <th>day_vol</th>\n",
       "      <th>myn</th>\n",
       "      <th>STRK_PRC</th>\n",
       "      <th>mid_ex</th>\n",
       "      <th>mid_best</th>\n",
       "      <th>ttm</th>\n",
       "      <th>option_type</th>\n",
       "      <th>issue_type</th>\n",
       "      <th>root</th>\n",
       "    </tr>\n",
       "    <tr>\n",
       "      <th>index</th>\n",
       "      <th></th>\n",
       "      <th></th>\n",
       "      <th></th>\n",
       "      <th></th>\n",
       "      <th></th>\n",
       "      <th></th>\n",
       "      <th></th>\n",
       "      <th></th>\n",
       "      <th></th>\n",
       "      <th></th>\n",
       "      <th></th>\n",
       "      <th></th>\n",
       "      <th></th>\n",
       "      <th></th>\n",
       "      <th></th>\n",
       "      <th></th>\n",
       "      <th></th>\n",
       "      <th></th>\n",
       "      <th></th>\n",
       "      <th></th>\n",
       "      <th></th>\n",
       "    </tr>\n",
       "  </thead>\n",
       "  <tbody>\n",
       "    <tr>\n",
       "      <th>24700819</th>\n",
       "      <td>-0.194992</td>\n",
       "      <td>-1.132221</td>\n",
       "      <td>-0.546407</td>\n",
       "      <td>-0.601251</td>\n",
       "      <td>0.031570</td>\n",
       "      <td>0.027829</td>\n",
       "      <td>-2.592491</td>\n",
       "      <td>-0.490244</td>\n",
       "      <td>-0.000670</td>\n",
       "      <td>-3.523268</td>\n",
       "      <td>...</td>\n",
       "      <td>-2.475971</td>\n",
       "      <td>-0.737846</td>\n",
       "      <td>0.028751</td>\n",
       "      <td>-0.160605</td>\n",
       "      <td>-1.258131</td>\n",
       "      <td>-0.110520</td>\n",
       "      <td>-0.400391</td>\n",
       "      <td>0</td>\n",
       "      <td>0</td>\n",
       "      <td>1607</td>\n",
       "    </tr>\n",
       "    <tr>\n",
       "      <th>24700261</th>\n",
       "      <td>-0.771314</td>\n",
       "      <td>-0.856403</td>\n",
       "      <td>-0.188454</td>\n",
       "      <td>-0.434394</td>\n",
       "      <td>-0.994811</td>\n",
       "      <td>-1.215208</td>\n",
       "      <td>-1.134365</td>\n",
       "      <td>0.443898</td>\n",
       "      <td>0.000182</td>\n",
       "      <td>-1.012208</td>\n",
       "      <td>...</td>\n",
       "      <td>-0.629152</td>\n",
       "      <td>-0.102104</td>\n",
       "      <td>0.335588</td>\n",
       "      <td>-1.824558</td>\n",
       "      <td>-0.627286</td>\n",
       "      <td>-0.671108</td>\n",
       "      <td>-0.781149</td>\n",
       "      <td>0</td>\n",
       "      <td>1</td>\n",
       "      <td>431</td>\n",
       "    </tr>\n",
       "    <tr>\n",
       "      <th>24700842</th>\n",
       "      <td>-0.379865</td>\n",
       "      <td>-1.132221</td>\n",
       "      <td>-0.546407</td>\n",
       "      <td>-0.601251</td>\n",
       "      <td>0.031570</td>\n",
       "      <td>0.027829</td>\n",
       "      <td>-1.134363</td>\n",
       "      <td>-0.490244</td>\n",
       "      <td>-0.001367</td>\n",
       "      <td>-3.523268</td>\n",
       "      <td>...</td>\n",
       "      <td>-2.475971</td>\n",
       "      <td>-0.213252</td>\n",
       "      <td>0.292805</td>\n",
       "      <td>-0.467925</td>\n",
       "      <td>-1.258131</td>\n",
       "      <td>-0.353600</td>\n",
       "      <td>-0.781149</td>\n",
       "      <td>0</td>\n",
       "      <td>0</td>\n",
       "      <td>1541</td>\n",
       "    </tr>\n",
       "    <tr>\n",
       "      <th>24695039</th>\n",
       "      <td>-0.389286</td>\n",
       "      <td>-1.132221</td>\n",
       "      <td>-0.546407</td>\n",
       "      <td>-0.601251</td>\n",
       "      <td>0.031570</td>\n",
       "      <td>0.027829</td>\n",
       "      <td>1.174336</td>\n",
       "      <td>-0.490244</td>\n",
       "      <td>-0.001290</td>\n",
       "      <td>-3.523268</td>\n",
       "      <td>...</td>\n",
       "      <td>-2.475971</td>\n",
       "      <td>-1.347493</td>\n",
       "      <td>0.163824</td>\n",
       "      <td>0.413737</td>\n",
       "      <td>-1.258131</td>\n",
       "      <td>-0.412468</td>\n",
       "      <td>-0.781149</td>\n",
       "      <td>0</td>\n",
       "      <td>0</td>\n",
       "      <td>1388</td>\n",
       "    </tr>\n",
       "    <tr>\n",
       "      <th>24700841</th>\n",
       "      <td>-0.509259</td>\n",
       "      <td>-1.129773</td>\n",
       "      <td>3.749029</td>\n",
       "      <td>-0.316837</td>\n",
       "      <td>-0.994811</td>\n",
       "      <td>1.270865</td>\n",
       "      <td>1.174335</td>\n",
       "      <td>-0.303416</td>\n",
       "      <td>-0.001754</td>\n",
       "      <td>0.339901</td>\n",
       "      <td>...</td>\n",
       "      <td>0.849378</td>\n",
       "      <td>0.780720</td>\n",
       "      <td>0.248633</td>\n",
       "      <td>-0.508474</td>\n",
       "      <td>-0.514207</td>\n",
       "      <td>-0.519243</td>\n",
       "      <td>-0.781149</td>\n",
       "      <td>0</td>\n",
       "      <td>0</td>\n",
       "      <td>7821</td>\n",
       "    </tr>\n",
       "  </tbody>\n",
       "</table>\n",
       "<p>5 rows × 34 columns</p>\n",
       "</div>"
      ],
      "text/plain": [
       "          TRADE_PRICE  bid_ask_size_ratio_ex  rel_bid_size_ex  \\\n",
       "index                                                           \n",
       "24700819    -0.194992              -1.132221        -0.546407   \n",
       "24700261    -0.771314              -0.856403        -0.188454   \n",
       "24700842    -0.379865              -1.132221        -0.546407   \n",
       "24695039    -0.389286              -1.132221        -0.546407   \n",
       "24700841    -0.509259              -1.129773         3.749029   \n",
       "\n",
       "          rel_ask_size_ex  depth_ex   prox_ex  prox_best  spread_ex  \\\n",
       "index                                                                 \n",
       "24700819        -0.601251  0.031570  0.027829  -2.592491  -0.490244   \n",
       "24700261        -0.434394 -0.994811 -1.215208  -1.134365   0.443898   \n",
       "24700842        -0.601251  0.031570  0.027829  -1.134363  -0.490244   \n",
       "24695039        -0.601251  0.031570  0.027829   1.174336  -0.490244   \n",
       "24700841        -0.316837 -0.994811  1.270865   1.174335  -0.303416   \n",
       "\n",
       "          spread_best  bid_ask_ratio_ex  ...  ask_size_ex   day_vol       myn  \\\n",
       "index                                    ...                                    \n",
       "24700819    -0.000670         -3.523268  ...    -2.475971 -0.737846  0.028751   \n",
       "24700261     0.000182         -1.012208  ...    -0.629152 -0.102104  0.335588   \n",
       "24700842    -0.001367         -3.523268  ...    -2.475971 -0.213252  0.292805   \n",
       "24695039    -0.001290         -3.523268  ...    -2.475971 -1.347493  0.163824   \n",
       "24700841    -0.001754          0.339901  ...     0.849378  0.780720  0.248633   \n",
       "\n",
       "          STRK_PRC    mid_ex  mid_best       ttm  option_type  issue_type  \\\n",
       "index                                                                       \n",
       "24700819 -0.160605 -1.258131 -0.110520 -0.400391            0           0   \n",
       "24700261 -1.824558 -0.627286 -0.671108 -0.781149            0           1   \n",
       "24700842 -0.467925 -1.258131 -0.353600 -0.781149            0           0   \n",
       "24695039  0.413737 -1.258131 -0.412468 -0.781149            0           0   \n",
       "24700841 -0.508474 -0.514207 -0.519243 -0.781149            0           0   \n",
       "\n",
       "          root  \n",
       "index           \n",
       "24700819  1607  \n",
       "24700261   431  \n",
       "24700842  1541  \n",
       "24695039  1388  \n",
       "24700841  7821  \n",
       "\n",
       "[5 rows x 34 columns]"
      ]
     },
     "execution_count": 7,
     "metadata": {},
     "output_type": "execute_result"
    }
   ],
   "source": [
    "X_test.head()"
   ]
  },
  {
   "cell_type": "markdown",
   "metadata": {
    "id": "zMIOV1jA_ImH"
   },
   "source": [
    "## FT-Transformer"
   ]
  },
  {
   "cell_type": "code",
   "execution_count": 8,
   "metadata": {},
   "outputs": [
    {
     "name": "stderr",
     "output_type": "stream",
     "text": [
      "  0%|          | 0/3 [00:00<?, ?it/s]\u001b[34m\u001b[1mwandb\u001b[0m:   1 of 1 files downloaded.  \n",
      " 33%|███▎      | 1/3 [02:12<04:25, 132.97s/it]\u001b[34m\u001b[1mwandb\u001b[0m:   1 of 1 files downloaded.  \n",
      " 67%|██████▋   | 2/3 [05:19<02:44, 164.27s/it]\u001b[34m\u001b[1mwandb\u001b[0m:   1 of 1 files downloaded.  \n",
      "100%|██████████| 3/3 [09:27<00:00, 189.11s/it]\n"
     ]
    }
   ],
   "source": [
    "results = []\n",
    "\n",
    "FEATURE_MAP = {\n",
    "    \"classical\": features_classical,\n",
    "    \"classical-size\": features_classical_size,\n",
    "    \"ml\": features_ml,\n",
    "    \"semi-classical\": features_classical,\n",
    "    \"semi-classical-size\": features_classical_size,\n",
    "    \"semi-ml\": features_ml,\n",
    "}\n",
    "\n",
    "for feature_str, model in tqdm(models):\n",
    "\n",
    "    model_name = model.split(\"/\")[-1].split(\":\")[0]\n",
    "\n",
    "    artifact = run.use_artifact(model)\n",
    "    model_dir = artifact.download()\n",
    "    \n",
    "    with open(Path(model_dir, model_name), 'rb') as f:\n",
    "        model = pickle.load(f)\n",
    "\n",
    "    fs = FEATURE_MAP.get(feature_str)\n",
    "    # filter categorical features that are in subset and get cardinality\n",
    "    cat_features_sub = [tup[0] for tup in features_categorical if tup[0] in fs]\n",
    "    \n",
    "    result = pd.Series(\n",
    "        data=model.predict(X_test.loc[:, fs]),\n",
    "        index=X_test.index,\n",
    "        name=f\"fttransformer({feature_str})\",\n",
    "    )\n",
    "    results.append(result)"
   ]
  },
  {
   "cell_type": "code",
   "execution_count": 9,
   "metadata": {
    "tags": []
   },
   "outputs": [
    {
     "name": "stderr",
     "output_type": "stream",
     "text": [
      "/pfs/data5/home/kit/stud/uloak/thesis/standard/lib64/python3.9/site-packages/google/auth/_default.py:78: UserWarning: Your application has authenticated using end user credentials from Google Cloud SDK without a quota project. You might receive a \"quota exceeded\" or \"API not enabled\" error. See the following page for troubleshooting: https://cloud.google.com/docs/authentication/adc-troubleshooting/user-creds. \n",
      "  warnings.warn(_CLOUD_SDK_CREDENTIALS_WARNING)\n"
     ]
    },
    {
     "data": {
      "text/html": [
       "Waiting for W&B process to finish... <strong style=\"color:green\">(success).</strong>"
      ],
      "text/plain": [
       "<IPython.core.display.HTML object>"
      ]
     },
     "metadata": {},
     "output_type": "display_data"
    },
    {
     "data": {
      "text/html": [
       "Synced <strong style=\"color:#cdcd00\">eager-glitter-1426</strong>: <a href=\"https://wandb.ai/fbv/thesis/runs/19rultqr\" target=\"_blank\">https://wandb.ai/fbv/thesis/runs/19rultqr</a><br/>Synced 5 W&B file(s), 0 media file(s), 0 artifact file(s) and 0 other file(s)"
      ],
      "text/plain": [
       "<IPython.core.display.HTML object>"
      ]
     },
     "metadata": {},
     "output_type": "display_data"
    },
    {
     "data": {
      "text/html": [
       "Find logs at: <code>./wandb/run-20230428_150141-19rultqr/logs</code>"
      ],
      "text/plain": [
       "<IPython.core.display.HTML object>"
      ]
     },
     "metadata": {},
     "output_type": "display_data"
    }
   ],
   "source": [
    "results = pd.concat(results, axis=1)\n",
    "output_path = (\n",
    "    f\"gs://thesis-bucket-option-trade-classification/data/results/{key}.parquet\"\n",
    ")\n",
    "results.to_parquet(output_path)\n",
    "\n",
    "# Log the artifact to save it as an output of this run\n",
    "result_set = wandb.Artifact(name=key, type=\"results\")\n",
    "result_set.add_reference(output_path, name=\"results\")\n",
    "run.log_artifact(result_set)\n",
    "\n",
    "wandb.finish()\n"
   ]
  }
 ],
 "metadata": {
  "accelerator": "GPU",
  "colab": {
   "include_colab_link": true,
   "machine_shape": "hm",
   "name": "Untitled2.ipynb",
   "provenance": []
  },
  "gpuClass": "premium",
  "kernelspec": {
   "display_name": "“py”",
   "language": "python",
   "name": "myenv2"
  },
  "language_info": {
   "codemirror_mode": {
    "name": "ipython",
    "version": 3
   },
   "file_extension": ".py",
   "mimetype": "text/x-python",
   "name": "python",
   "nbconvert_exporter": "python",
   "pygments_lexer": "ipython3",
   "version": "3.9.7"
  }
 },
 "nbformat": 4,
 "nbformat_minor": 4
}
