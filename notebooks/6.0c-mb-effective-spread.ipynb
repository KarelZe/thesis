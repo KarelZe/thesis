{
 "cells": [
  {
   "cell_type": "code",
   "execution_count": 1,
   "metadata": {},
   "outputs": [],
   "source": [
    "import os\n",
    "import sys\n",
    "\n",
    "from pathlib import Path\n",
    "\n",
    "import pandas as pd\n",
    "import wandb\n",
    "\n",
    "\n",
    "sys.path.append(\"..\")\n",
    "from otc.metrics.metrics import effective_spread\n"
   ]
  },
  {
   "cell_type": "code",
   "execution_count": null,
   "metadata": {},
   "outputs": [],
   "source": [
    "os.environ[\"GCLOUD_PROJECT\"] = \"flowing-mantis-239216\"\n",
    "\n",
    "run = wandb.init(project=\"thesis\", entity=\"fbv\")\n",
    "\n",
    "dataset = \"fbv/thesis/train_val_test_ultra:v0\"\n",
    "results = \"fbv/thesis/results_classical_clf:v0\"\n",
    "fname_dataset = \"test_set_extended_20\"\n",
    "fname_results = \"results_classical_clf_ise\"\n",
    "\n",
    "\n",
    "# load unscaled data\n",
    "artifact = run.use_artifact(dataset) # type: ignore\n",
    "data_dir = artifact.download()\n",
    "\n",
    "# load results\n",
    "artifact = run.use_artifact(results) # type: ignore\n",
    "results_dir = artifact.download()\n"
   ]
  },
  {
   "cell_type": "code",
   "execution_count": null,
   "metadata": {},
   "outputs": [],
   "source": [
    "columns = [\"TRADE_PRICE\", \"bid_ex\", \"ask_ex\", \"buy_sell\"]\n",
    "\n",
    "eval_data = pd.read_parquet(\n",
    "    Path(data_dir, fname_dataset), engine=\"fastparquet\", columns=columns\n",
    ")\n",
    "results_data = pd.read_parquet(\n",
    "    Path(results_dir, fname_results), engine=\"fastparquet\"\n",
    ")\n",
    "\n",
    "results_col = [results_data.columns.tolist(), \"buy_sell\"]\n",
    "\n",
    "composed_data = pd.concat([eval_data, results_data], axis=1)\n",
    "composed_data[\"mid\"] = (composed_data[\"bid_ex\"] + composed_data[\"ask_ex\"]) / 2\n",
    "\n",
    "del eval_data, results_data\n"
   ]
  },
  {
   "cell_type": "code",
   "execution_count": null,
   "metadata": {},
   "outputs": [],
   "source": [
    "results = []\n",
    "for col in results_col:\n",
    "    results.append(\n",
    "        {\n",
    "            f\"eff_{composed_data[col]}\": effective_spread(\n",
    "                composed_data[col], composed_data[\"TRADE_PRICE\"], composed_data[\"mid\"] # type: ignore\n",
    "            )\n",
    "        }\n",
    "    )\n"
   ]
  },
  {
   "cell_type": "code",
   "execution_count": null,
   "metadata": {},
   "outputs": [],
   "source": [
    "results_df = pd.DataFrame(results)"
   ]
  }
 ],
 "metadata": {
  "kernelspec": {
   "display_name": "Python 3",
   "language": "python",
   "name": "python3"
  },
  "language_info": {
   "codemirror_mode": {
    "name": "ipython",
    "version": 3
   },
   "file_extension": ".py",
   "mimetype": "text/x-python",
   "name": "python",
   "nbconvert_exporter": "python",
   "pygments_lexer": "ipython3",
   "version": "3.9.4"
  },
  "orig_nbformat": 4,
  "vscode": {
   "interpreter": {
    "hash": "f8ea8b642289b706932f10b33ee389827410dbaef0ce2c5bf73615e8d3267d88"
   }
  }
 },
 "nbformat": 4,
 "nbformat_minor": 2
}
