{
 "cells": [
  {
   "cell_type": "code",
   "execution_count": null,
   "metadata": {
    "id": "EMApm-vLnME4",
    "tags": []
   },
   "outputs": [],
   "source": [
    "import os\n",
    "import sys\n",
    "\n",
    "import gcsfs\n",
    "import numpy as np\n",
    "import pandas as pd\n",
    "import wandb\n",
    "from catboost import CatBoostClassifier, Pool\n",
    "from numpy.testing import assert_almost_equal\n",
    "from pandas._testing.asserters import assert_almost_equal\n",
    "from sklearn.metrics import roc_auc_score\n",
    "from sklearn.model_selection import cross_val_predict\n",
    "from tqdm.auto import tqdm\n",
    "\n",
    "sys.path.append(\"..\")\n"
   ]
  },
  {
   "cell_type": "code",
   "execution_count": null,
   "metadata": {
    "tags": []
   },
   "outputs": [],
   "source": [
    "EXCHANGE = \"cboe\"  # \"ise\"\n",
    "STRATEGY = \"transfer\"  # \"supervised\"\n",
    "max_i = 50 if EXCHANGE == \"ise\" else 38  # number of partial files\n"
   ]
  },
  {
   "cell_type": "code",
   "execution_count": null,
   "metadata": {
    "colab": {
     "base_uri": "https://localhost:8080/",
     "height": 156
    },
    "id": "1lOR6Vl6qsV4",
    "outputId": "03233ef3-6a55-403f-9f3f-512faf750fcf",
    "tags": []
   },
   "outputs": [],
   "source": [
    "# connect to weights and biases\n",
    "run = wandb.init(project=\"thesis\", job_type=\"dataset-creation\", entity=\"fbv\")\n",
    "dataset = wandb.Artifact(name=f\"{EXCHANGE}_{STRATEGY}_raw\", type=\"preprocessed_data\")\n"
   ]
  },
  {
   "cell_type": "code",
   "execution_count": null,
   "metadata": {
    "id": "BrztJtC09T3r",
    "tags": []
   },
   "outputs": [],
   "source": [
    "os.environ[\"GCLOUD_PROJECT\"] = \"flowing-mantis-239216\"\n",
    "\n",
    "fs = gcsfs.GCSFileSystem(project=\"thesis\")\n"
   ]
  },
  {
   "cell_type": "code",
   "execution_count": null,
   "metadata": {
    "colab": {
     "base_uri": "https://localhost:8080/",
     "height": 49,
     "referenced_widgets": [
      "4d7f9360034d4f7b9955aee831d6d7d3",
      "4d8ea07b14f54c7d82bc798e3461d805",
      "4bdec5b3a7e9408fbcb6bd78c9af2f2a",
      "0ca5733765964ec98fac7cc37f3f5b4d",
      "e3e2fcef42d84ec3a253592924d983b0",
      "f0553b0afc414ef2809155781a537297",
      "0158384350754acbacf2a84b4201f243",
      "fa8f5a4c05854076b30393e19a28a37b",
      "e053320ff8be4c0197aad525836ad1da",
      "e9937d0215a44f76824459990e839b81",
      "5dcf12739bb24483a695e0c8c9c5a16c"
     ]
    },
    "id": "EF0_Mz8DYjGz",
    "outputId": "be36b7f7-f906-43f5-8e61-c25a84e89318",
    "tags": []
   },
   "outputs": [],
   "source": [
    "files = [\n",
    "    f\"gs://thesis-bucket-option-trade-classification/data/preprocessed/{'unmatched' if STRATEGY == 'unsupervised' else 'matched'}_{EXCHANGE}_quotes_min_mem_usage_extended_part_{i:04d}.parquet\"\n",
    "    for i in range(0, max_i)\n",
    "]\n",
    "\n",
    "# asks = [f\"ASK_{i}\" for i in range(1, 17)]\n",
    "# bids = [f\"BID_{i}\" for i in range(1, 17)]\n",
    "\n",
    "columns = [\n",
    "    \"QUOTE_DATETIME\",\n",
    "    \"ROOT\",\n",
    "    \"EXPIRATION\",\n",
    "    \"STRK_PRC\",\n",
    "    \"OPTION_TYPE\",\n",
    "    \"TRADE_SIZE\",\n",
    "    \"TRADE_PRICE\",\n",
    "    \"BEST_BID\",\n",
    "    \"BEST_ASK\",\n",
    "    \"ask_ex\",\n",
    "    \"bid_ex\",\n",
    "    \"bid_size_ex\",\n",
    "    \"ask_size_ex\",\n",
    "    \"price_all_lead\",\n",
    "    \"price_all_lag\",\n",
    "    \"optionid\",\n",
    "    \"day_vol\",\n",
    "    \"price_ex_lead\",\n",
    "    \"price_ex_lag\",\n",
    "    \"issue_type\",\n",
    "    \"myn\",\n",
    "    # *asks,\n",
    "    # *bids,\n",
    "    \"buy_sell\",\n",
    "]\n",
    "\n",
    "dfs = [pd.read_parquet(gc_file, columns=columns) for gc_file in tqdm(files)]\n",
    "df = pd.concat(dfs)\n",
    "\n",
    "del dfs\n"
   ]
  },
  {
   "cell_type": "code",
   "execution_count": null,
   "metadata": {
    "colab": {
     "base_uri": "https://localhost:8080/"
    },
    "id": "MNQsqX_Eh9xa",
    "outputId": "832f87e8-81d0-42ae-b7eb-c8014e7fe30c",
    "tags": []
   },
   "outputs": [],
   "source": [
    "df.memory_usage(deep=True).sum()\n"
   ]
  },
  {
   "cell_type": "code",
   "execution_count": null,
   "metadata": {
    "colab": {
     "base_uri": "https://localhost:8080/",
     "height": 739
    },
    "id": "gHnFz65rZnOZ",
    "outputId": "e5d3b5d7-3e01-4483-ba82-97793c5ebc68",
    "tags": []
   },
   "outputs": [],
   "source": [
    "df.head().T\n"
   ]
  },
  {
   "cell_type": "code",
   "execution_count": null,
   "metadata": {
    "tags": []
   },
   "outputs": [],
   "source": [
    "len(df)\n"
   ]
  },
  {
   "cell_type": "code",
   "execution_count": null,
   "metadata": {
    "id": "i1nNuYKdiZhP",
    "tags": []
   },
   "outputs": [],
   "source": [
    "# check against some stats from sub panel A.1 in Grauer et al\n",
    "\n",
    "# trade size\n",
    "stats_trade_size = df[\"TRADE_SIZE\"].agg([\"mean\", \"median\", \"std\"])\n",
    "\n",
    "# time to maturity\n",
    "stats_time_to_maturity = (df[\"EXPIRATION\"] - df[\"QUOTE_DATETIME\"]).dt.days\n",
    "stats_time_to_maturity = stats_time_to_maturity.agg([\"mean\", \"median\", \"std\"])\n",
    "\n",
    "# no of observations\n",
    "stats_n = len(df)\n",
    "\n",
    "# trade_size = quote size; TRADE_SIZE\n",
    "stats_trades_with_quote_size_bid = df[\"bid_size_ex\"].eq(df[\"TRADE_SIZE\"])\n",
    "stats_trades_with_quote_size_ask = df[\"ask_size_ex\"].eq(df[\"TRADE_SIZE\"])\n",
    "\n",
    "# ask or bid\n",
    "stats_trade_with_quote_size = (\n",
    "    stats_trades_with_quote_size_bid | stats_trades_with_quote_size_ask\n",
    ").sum() / stats_n\n",
    "\n",
    "\n",
    "# no of buys\n",
    "stats_buy_trades = df[\"buy_sell\"].ge(0).sum() / stats_n\n",
    "\n",
    "\n",
    "if EXCHANGE == \"ise\" and (STRATEGY == \"supervised\" or STRATEGY == \"transfer\"):\n",
    "    assert stats_n == 49203747\n",
    "    assert_almost_equal(stats_trade_with_quote_size, 0.2281, atol=0.01)\n",
    "    assert_almost_equal(stats_trade_size.values.tolist(), [13.62, 4.0, 77.75], atol=0.1)\n",
    "    assert_almost_equal(stats_buy_trades, 0.4746, atol=0.01)\n",
    "\n",
    "if EXCHANGE == \"cboe\" and (STRATEGY == \"supervised\" or STRATEGY == \"transfer\"):\n",
    "    assert stats_n == 37155412\n",
    "    assert_almost_equal(stats_trade_with_quote_size, 0.1397, atol=0.01)\n",
    "    assert_almost_equal(\n",
    "        stats_trade_size.values.tolist(), [18.14, 5.0, 223.24], atol=0.1\n",
    "    )\n",
    "    assert_almost_equal(stats_buy_trades, 0.4500, atol=0.01)\n"
   ]
  },
  {
   "cell_type": "markdown",
   "metadata": {
    "id": "q3R43DPSpkZm"
   },
   "source": [
    "## train-test-split ⚗️"
   ]
  },
  {
   "cell_type": "code",
   "execution_count": null,
   "metadata": {
    "tags": []
   },
   "outputs": [],
   "source": [
    "df.sort_values(by=\"QUOTE_DATETIME\", inplace=True)\n"
   ]
  },
  {
   "cell_type": "code",
   "execution_count": null,
   "metadata": {
    "colab": {
     "base_uri": "https://localhost:8080/"
    },
    "id": "oomOnGZ6tqyz",
    "outputId": "f458db0f-3772-4dba-f975-ab7f4dc31ec8",
    "tags": []
   },
   "outputs": [],
   "source": [
    "# indices\n",
    "\n",
    "if EXCHANGE == \"ise\" and STRATEGY == \"supervised\":\n",
    "    train_range = df.QUOTE_DATETIME.between(\n",
    "        \"2005-05-02 00:00:01\", \"2013-10-24 23:59:00\"\n",
    "    )\n",
    "    val_range = df.QUOTE_DATETIME.between(\"2013-10-25 00:00:01\", \"2015-11-05 23:59:00\")\n",
    "    test_range = df.QUOTE_DATETIME.between(\"2015-11-06 00:00:01\", \"2017-05-31 23:59:00\")\n",
    "\n",
    "if EXCHANGE == \"cboe\" and STRATEGY == \"supervised\":\n",
    "    train_range = df.QUOTE_DATETIME.between(\n",
    "        \"2011-01-01 00:00:01\", \"2015-06-15 23:59:00\"\n",
    "    )\n",
    "    val_range = df.QUOTE_DATETIME.between(\"2015-06-16 00:00:01\", \"2016-10-12 23:59:00\")\n",
    "    test_range = df.QUOTE_DATETIME.between(\"2016-10-13 00:00:01\", \"2017-10-31 23:59:00\")\n",
    "\n",
    "\n",
    "if EXCHANGE == \"cboe\" and STRATEGY == \"transfer\":\n",
    "    # use everything after *ISE* validation set for transfer learning\n",
    "    test_range = df.QUOTE_DATETIME.between(\"2015-11-06 00:00:01\", \"2017-10-31 23:59:00\")\n"
   ]
  },
  {
   "cell_type": "code",
   "execution_count": null,
   "metadata": {
    "colab": {
     "base_uri": "https://localhost:8080/"
    },
    "id": "yQeNJzzbt-xd",
    "outputId": "7e96f4d9-1625-44ef-8390-6adff529ccca",
    "tags": []
   },
   "outputs": [],
   "source": [
    "if STRATEGY == \"supervised\":\n",
    "\n",
    "    train = df[train_range]\n",
    "\n",
    "    len_train = len(train)\n",
    "    print(f\"train ratio: {len_train / len(df)}\")\n",
    "\n",
    "    val = df[val_range]\n",
    "    len_val = len(val)\n",
    "    print(f\"val ratio: {len_val / len(df)}\")\n",
    "\n",
    "    test = df[test_range]\n",
    "    len_test = len(test)\n",
    "    print(f\"test ratio: {len_test / len(df)}\")\n",
    "\n",
    "    # check if total is sum of its parts\n",
    "    assert len_train + len_val + len_test == len(df)\n",
    "\n",
    "    output_path = f\"gs://thesis-bucket-option-trade-classification/data/preprocessed/{EXCHANGE}_{STRATEGY}_train.parquet\"\n",
    "    train.to_parquet(output_path)\n",
    "    dataset.add_reference(output_path, name=\"train_set\")\n",
    "\n",
    "    output_path = f\"gs://thesis-bucket-option-trade-classification/data/preprocessed/{EXCHANGE}_{STRATEGY}_val.parquet\"\n",
    "    val.to_parquet(output_path)\n",
    "    dataset.add_reference(output_path, name=\"val_set\")\n",
    "\n",
    "    output_path = f\"gs://thesis-bucket-option-trade-classification/data/preprocessed/{EXCHANGE}_{STRATEGY}_test.parquet\"\n",
    "    test.to_parquet(output_path)\n",
    "    dataset.add_reference(output_path, name=\"test_set\")\n",
    "\n",
    "\n",
    "elif STRATEGY == \"transfer\":\n",
    "    test = df[test_range]\n",
    "    len_test = len(test)\n",
    "    print(f\"test ratio: {len_test / len(df)}\")\n",
    "\n",
    "    output_path = f\"gs://thesis-bucket-option-trade-classification/data/preprocessed/{EXCHANGE}_{STRATEGY}_test.parquet\"\n",
    "    test.to_parquet(output_path)\n",
    "    dataset.add_reference(output_path, name=\"test_set\")\n"
   ]
  },
  {
   "cell_type": "code",
   "execution_count": null,
   "metadata": {
    "colab": {
     "base_uri": "https://localhost:8080/",
     "height": 150,
     "referenced_widgets": [
      "6b60ea75e39244e0ab6d69223b750362",
      "243cf10365e7450b97bcf859c4f2b09b",
      "16c6dcf2018d48af901c74e40139a055",
      "4a69faec38d14fcaba2f0019d1c4b2cc",
      "155ad65757364fb68df13146405d9fec",
      "4a96056fdf0f47e4b42d0ce556cfd0f3",
      "65fdf2e184c443738ca4f46c9c1d2c74",
      "3aa1c2802ffd4a34812e8a534a19112e"
     ]
    },
    "id": "Yg-tqsd2zWCW",
    "outputId": "c7c30e45-0309-4b4a-dd60-8883d33c12d6",
    "tags": []
   },
   "outputs": [],
   "source": [
    "# Log the artifact to save it as an output of this run\n",
    "run.log_artifact(dataset)\n",
    "\n",
    "wandb.finish()\n"
   ]
  },
  {
   "cell_type": "markdown",
   "metadata": {},
   "source": [
    "## Relevant length of dataset⏲️"
   ]
  },
  {
   "cell_type": "code",
   "execution_count": null,
   "metadata": {},
   "outputs": [],
   "source": [
    "train = pd.read_parquet(\n",
    "    \"gs://thesis-bucket-option-trade-classification/data/ise_log_standardized/train_set.parquet\",\n",
    "    engine=\"fastparquet\",\n",
    ")\n",
    "val = pd.read_parquet(\n",
    "    \"gs://thesis-bucket-option-trade-classification/data/ise_log_standardized/val_set.parquet\",\n",
    "    engine=\"fastparquet\",\n",
    ")\n"
   ]
  },
  {
   "cell_type": "code",
   "execution_count": null,
   "metadata": {},
   "outputs": [],
   "source": [
    "val = pd.read_parquet(\n",
    "    \"gs://thesis-bucket-option-trade-classification/data/ise_log_standardized/val_set_20.parquet\",\n",
    "    engine=\"fastparquet\",\n",
    ")\n"
   ]
  },
  {
   "cell_type": "code",
   "execution_count": null,
   "metadata": {},
   "outputs": [],
   "source": [
    "y_train = train[\"buy_sell\"]\n",
    "X_train = train.drop(columns=[\"buy_sell\"])\n"
   ]
  },
  {
   "cell_type": "code",
   "execution_count": null,
   "metadata": {},
   "outputs": [],
   "source": [
    "y_val = val[\"buy_sell\"]\n",
    "X_val = val.drop(columns=[\"buy_sell\"])\n"
   ]
  },
  {
   "cell_type": "code",
   "execution_count": null,
   "metadata": {},
   "outputs": [],
   "source": [
    "X_train.head()\n"
   ]
  },
  {
   "cell_type": "code",
   "execution_count": null,
   "metadata": {},
   "outputs": [],
   "source": [
    "results_p = []\n",
    "percentages = np.linspace(0.1, 1, 10)\n",
    "\n",
    "\n",
    "# go back from last element\n",
    "for p in tqdm(percentages):\n",
    "    # keep ordering of data\n",
    "    length = int(len(y_train) * p)\n",
    "    timestamp = np.linspace(0, 1, length)\n",
    "    # keep weight fixed\n",
    "    for strategy in [\"uniform\", \"exponential\"]:\n",
    "\n",
    "        if strategy == \"uniform\":\n",
    "            weight = np.ones(length)\n",
    "        else:\n",
    "            weight = np.geomspace(0.001, 1, num=len(y_train))[-length:]\n",
    "\n",
    "        train_pool = Pool(\n",
    "            data=X_train.iloc[-length:],\n",
    "            label=y_train.iloc[-length:],\n",
    "            # cat_features=cat_features,\n",
    "            weight=weight,\n",
    "            timestamp=np.linspace(0, 1, length),\n",
    "        )\n",
    "        val_pool = Pool(data=X_val.iloc[-length:], label=y_val.iloc[-length:])\n",
    "\n",
    "        kwargs_cat = {\n",
    "            # \"iterations\": 1000,\n",
    "            # \"grow_policy\": \"symmetric\",\n",
    "            # \"border_count\": 254,\n",
    "            \"logging_level\": \"Silent\",\n",
    "            \"task_type\": \"GPU\",\n",
    "            \"random_seed\": 42,\n",
    "            \"eval_metric\": \"Accuracy\",\n",
    "            # \"early_stopping_rounds\": 100,\n",
    "        }\n",
    "\n",
    "        clf = CatBoostClassifier(**kwargs_cat)\n",
    "        clf.fit(\n",
    "            train_pool,\n",
    "            eval_set=val_pool,\n",
    "        )\n",
    "\n",
    "        train_acc = clf.score(train_pool)\n",
    "        val_acc = clf.score(val_pool)\n",
    "\n",
    "        res = {\n",
    "            \"start\": -length,\n",
    "            \"end\": -1,\n",
    "            \"train_acc\": train_acc,\n",
    "            \"val_acc\": val_acc,\n",
    "            \"strategy\": strategy,\n",
    "        }\n",
    "        print(res)\n",
    "        results_p.append(res)\n"
   ]
  },
  {
   "cell_type": "code",
   "execution_count": null,
   "metadata": {},
   "outputs": [],
   "source": [
    "results_df = pd.DataFrame(results_p)\n"
   ]
  },
  {
   "cell_type": "code",
   "execution_count": null,
   "metadata": {},
   "outputs": [],
   "source": [
    "results_df\n"
   ]
  },
  {
   "cell_type": "code",
   "execution_count": null,
   "metadata": {},
   "outputs": [],
   "source": [
    "results_df.to_csv(\"learning_curves_gbm_default_params.csv\")\n"
   ]
  },
  {
   "cell_type": "markdown",
   "metadata": {
    "id": "UOspvsQK-8M_"
   },
   "source": [
    "## Time consistency"
   ]
  },
  {
   "cell_type": "markdown",
   "metadata": {
    "id": "J-hxu_wjL7Fm"
   },
   "source": [
    "Check if features maintain their predictive power over time, buy training on the first $10~\\%$ of the training set and predicting the last $10~\\%$ feature by feature. Remove features or further investigate features where accuracy is just above or below $0.5$. Technique found in this [notebook](https://www.kaggle.com/code/cdeotte/xgb-fraud-with-magic-0-9600/notebook)."
   ]
  },
  {
   "cell_type": "code",
   "execution_count": null,
   "metadata": {
    "id": "fQKrj-MM_zof"
   },
   "outputs": [],
   "source": [
    "data = pd.read_parquet(\n",
    "    \"gs://thesis-bucket-option-trade-classification/data/classical_size_features_log_normalized/train_set_extended_60.parquet\",\n",
    "    engine=\"fastparquet\",\n",
    ")\n"
   ]
  },
  {
   "cell_type": "code",
   "execution_count": null,
   "metadata": {
    "id": "CBjuAm9RAAsc"
   },
   "outputs": [],
   "source": [
    "# try to predict last 10 % in training set using first 10 % of features. Accuracy should be above 50 %.\n",
    "label = data[\"buy_sell\"]\n",
    "data.drop(columns=[\"buy_sell\"], inplace=True)\n"
   ]
  },
  {
   "cell_type": "code",
   "execution_count": null,
   "metadata": {
    "id": "bQ8x13b5AAWh"
   },
   "outputs": [],
   "source": [
    "y_train = label.iloc[0 : len(label) // 10]\n",
    "y_test = label.iloc[-len(data) // 10 :]\n",
    "\n",
    "X_train = data.iloc[0 : len(data) // 10, :]\n",
    "X_test = data.iloc[-len(data) // 10 :, :]\n",
    "\n",
    "del label, data\n"
   ]
  },
  {
   "cell_type": "code",
   "execution_count": null,
   "metadata": {
    "colab": {
     "base_uri": "https://localhost:8080/"
    },
    "id": "MEg4AXjnCoRA",
    "outputId": "133ee134-95cb-4a5d-eb18-c78c7930ca7f"
   },
   "outputs": [],
   "source": [
    "y_train.shape\n"
   ]
  },
  {
   "cell_type": "code",
   "execution_count": null,
   "metadata": {
    "id": "o44OSLkuAAKH"
   },
   "outputs": [],
   "source": [
    "params = {\n",
    "    \"od_type\": \"Iter\",\n",
    "    \"logging_level\": \"Silent\",\n",
    "    \"loss_function\": \"Logloss\",\n",
    "    \"task_type\": \"GPU\",\n",
    "    \"cat_features\": None,\n",
    "    \"random_seed\": 42,\n",
    "    \"eval_metric\": \"Accuracy\",\n",
    "    \"iterations\": 1000,\n",
    "    \"early_stopping_rounds\": 100,\n",
    "}\n"
   ]
  },
  {
   "cell_type": "code",
   "execution_count": null,
   "metadata": {
    "id": "0rRXKldLDe-l"
   },
   "outputs": [],
   "source": [
    "columns = X_train.columns\n"
   ]
  },
  {
   "cell_type": "code",
   "execution_count": null,
   "metadata": {
    "colab": {
     "base_uri": "https://localhost:8080/",
     "height": 49,
     "referenced_widgets": [
      "5e4255817f55481d815611a610152e84",
      "db85fcda291a498b8d6f1af311e89c97",
      "d17b479d7afe400098f922dce91ce07c",
      "3c8c6a19d33d40a893840c3b4d033598",
      "d035807c8e97483383a9351c38f8e93d",
      "57b5edfc9b2243249d0f3ded33c32604",
      "071d718148f94b3f88c11990d458b450",
      "ed49555193e443d881581298ba9fc24d",
      "502bf1412298408ab975b97bcf34e4ef",
      "86eaba536b2649aea0d60fa774bb2d26",
      "45d84ceaee4f4a86b93edc2e4a90a4fd"
     ]
    },
    "id": "JvX5ALTEDc9N",
    "outputId": "666aeba8-095c-4ab7-e989-ee3f576d8332"
   },
   "outputs": [],
   "source": [
    "results = []\n",
    "for col in tqdm(columns):\n",
    "    model = CatBoostClassifier(**params)\n",
    "    model.fit(X_train[[col]], y_train, eval_set=(X_test[[col]], y_test))\n",
    "    acc = model.score(X_test[[col]], y_test)\n",
    "    results.append([col, acc])\n"
   ]
  },
  {
   "cell_type": "code",
   "execution_count": null,
   "metadata": {
    "colab": {
     "base_uri": "https://localhost:8080/",
     "height": 802
    },
    "id": "XDffpHXdGLhs",
    "outputId": "bd39459a-bfc2-434a-f87b-61fccb8fa9a5"
   },
   "outputs": [],
   "source": [
    "results_df = pd.DataFrame(results, columns=[\"feature\", \"accuracy\"])\n",
    "results_df.sort_values(by=\"accuracy\")\n"
   ]
  },
  {
   "cell_type": "markdown",
   "metadata": {
    "id": "_q91p5YWKKNr"
   },
   "source": [
    "Few features are actually consistent over time and are more informative than a random guess. These include entire includes features related to the proximity of the quote and relative bid size.\n",
    "\n",
    "Some features like `chg_ex_lead` are hard to exclude. Better weight observations, as suggested in `3.0c-feature-engineering.ipynb`."
   ]
  }
 ],
 "metadata": {
  "accelerator": "GPU",
  "colab": {
   "include_colab_link": true,
   "machine_shape": "hm",
   "name": "Untitled2.ipynb",
   "provenance": []
  },
  "gpuClass": "premium",
  "kernelspec": {
   "display_name": "myenv",
   "language": "python",
   "name": "myenv"
  },
  "language_info": {
   "codemirror_mode": {
    "name": "ipython",
    "version": 3
   },
   "file_extension": ".py",
   "mimetype": "text/x-python",
   "name": "python",
   "nbconvert_exporter": "python",
   "pygments_lexer": "ipython3",
   "version": "3.8.6"
  },
  "vscode": {
   "interpreter": {
    "hash": "f8ea8b642289b706932f10b33ee389827410dbaef0ce2c5bf73615e8d3267d88"
   }
  }
 },
 "nbformat": 4,
 "nbformat_minor": 4
}
