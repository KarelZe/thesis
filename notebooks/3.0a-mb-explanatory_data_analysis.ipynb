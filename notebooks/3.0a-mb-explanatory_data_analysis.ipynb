{
  "cells": [
    {
      "cell_type": "code",
      "execution_count": null,
      "metadata": {
        "id": "EMApm-vLnME4"
      },
      "outputs": [],
      "source": [
        "import os\n",
        "import random\n",
        "\n",
        "from catboost import CatBoostClassifier\n",
        "\n",
        "import dateutil.relativedelta as relativedelta\n",
        "\n",
        "\n",
        "import numpy as np\n",
        "import matplotlib.pyplot as plt\n",
        "import pandas as pd\n",
        "import pandas_datareader.data as web\n",
        "\n",
        "from scipy import stats\n",
        "\n",
        "from sklearn.preprocessing import OrdinalEncoder\n",
        "from sklearn.preprocessing import StandardScaler\n",
        "from sklearn.model_selection import cross_validate\n",
        "\n",
        "import seaborn as sns\n",
        "from typing import Any, List, Optional, Union, Tuple\n"
      ]
    },
    {
      "cell_type": "code",
      "execution_count": null,
      "metadata": {
        "id": "pCyUwI-YTE8A"
      },
      "outputs": [],
      "source": [
        "# set N used in n-largest or smallest\n",
        "N = 10\n"
      ]
    },
    {
      "cell_type": "code",
      "execution_count": null,
      "metadata": {
        "id": "BRFyckmGEHXL"
      },
      "outputs": [],
      "source": [
        "# set style\n",
        "plt.style.use(\"seaborn-notebook\")\n",
        "\n",
        "# set ratio of figure\n",
        "ratio = (16, 9)\n"
      ]
    },
    {
      "cell_type": "code",
      "execution_count": null,
      "metadata": {
        "id": "a-f2aByNtJTK"
      },
      "outputs": [],
      "source": [
        "# set fixed seed\n",
        "def seed_everything(seed) -> None:\n",
        "    \"\"\"\n",
        "    Seeds basic parameters for reproducibility of results.\n",
        "    \"\"\"\n",
        "    os.environ[\"PYTHONHASHSEED\"] = str(seed)\n",
        "    random.seed(seed)\n",
        "    # pandas and numpy as discussed here: https://stackoverflow.com/a/52375474/5755604\n",
        "    np.random.seed(seed)\n",
        "\n",
        "\n",
        "seed = 42\n",
        "seed_everything(seed)\n"
      ]
    },
    {
      "cell_type": "markdown",
      "metadata": {
        "id": "9MOW2bJSmY8x"
      },
      "source": [
        "This notebook performs an eda on the training set only to avoid data leakage. ⚠️"
      ]
    },
    {
      "cell_type": "code",
      "execution_count": null,
      "metadata": {
        "id": "EF0_Mz8DYjGz"
      },
      "outputs": [],
      "source": [
        "data = pd.read_parquet(\n",
        "    \"gs://thesis-bucket-option-trade-classification/data/preprocessed/train_set_extended_60.parquet\"\n",
        ")\n"
      ]
    },
    {
      "cell_type": "code",
      "execution_count": null,
      "metadata": {
        "id": "WD-ieL-RFEzJ"
      },
      "outputs": [],
      "source": [
        "data = data.sample(frac=0.1, axis=0, random_state=seed)\n"
      ]
    },
    {
      "cell_type": "markdown",
      "metadata": {
        "id": "NDz5ZzVl_QGD"
      },
      "source": [
        "## Notes on data set 🗃️"
      ]
    },
    {
      "cell_type": "markdown",
      "metadata": {
        "id": "yAWnmnei39o5"
      },
      "source": [
        "**Overview on ticker symbols:**\n",
        "- `others` identified by issue type.\n",
        "- 5th letter has a special meaning as found in [this table](https://en.wikipedia.org/wiki/Ticker_symbol):\n",
        "\n",
        "| Letter                  | Letter contd.              | Letter contd.                                    |\n",
        "|--------------------------------|-------------------------------------|------------------------------------------------|\n",
        "| A – Class \"A\"                  | K – Nonvoting (common)              | U – Units                                      |\n",
        "| B – Class \"B\"                  | L – Miscellaneous                   | V – Pending issue and distribution             |\n",
        "| C – NextShares                 | M – fourth class – preferred shares | W – Warrants                                   |\n",
        "| D – New issue or reverse split | N – third class – preferred shares  | X – Mutual fund                                |\n",
        "| E – Delinquent SEC filings     | O – second class – preferred shares | Y – American depositary receipt (ADR)          |\n",
        "| F – Foreign                    | P – first class preferred shares    | Z – Miscellaneous situations                   |\n",
        "| G – first convertible bond     | Q – In bankruptcy                   | Special codes                                  |\n",
        "| H – second convertible bond    | R – Rights                          | PK – A Pink Sheet, indicating over-the-counter |\n",
        "| I – third convertible bond     | S – Shares of beneficial interest   | SC – Nasdaq Small Cap                          |\n",
        "| J – Voting share – special     | T – With warrants or rights         | NM – Nasdaq National Market                    |\n",
        "\n",
        "\n",
        "**Coverage:**\n",
        "\n",
        "*\tOptions on U.S. listed Stock, ETFs, and Indices disseminated over the Options Price Reporting Authority (OPRA) market data feed \n",
        "*\tGlobal Trading Hours (GTH) trades are included if between 03:00am-09:15am U.S. Eastern, and for the 16:15pm 17:00pm Curb session.  GTH trades outside of these time ranges will *not* be included. \n",
        "\n",
        "Found [here.](https://datashop.cboe.com/documents/Option_Trades_Layout.pdf)\n",
        "\n",
        "**Exchange Identifier:**\n",
        "\n",
        "- 5 = Chicago Board Options Exchange (CBOE)\n",
        "- 6 = International Securities Exchange (ISE)\n",
        "\n",
        "Found [here.](https://datashop.cboe.com/documents/livevol_exchange_ids.csv)\n",
        "\n",
        "\n",
        "**Issue Types:**\n",
        "\n",
        "Issue Type = the type of security: \n",
        "- 0 = Common Stock \n",
        "- A = Market index \n",
        "- 7 = Mutual or investment trust fund \n",
        "- F = ADR/ADS \n",
        "- % = Exchange-traded fund \n",
        "- (blank) = Unspecified\n",
        "\n",
        "Received from supervisor."
      ]
    },
    {
      "cell_type": "markdown",
      "metadata": {
        "id": "amt068Np3EFV"
      },
      "source": [
        "Adapted from the cboe data shop found at [option trades](https://datashop.cboe.com/documents/Option_Trades_Layout.pdf) and [option quotes](https://datashop.cboe.com/documents/Option_Quotes_Layout.pdf).\n",
        "\n",
        "|     Column Label                                                          |     Data   Type     |     Description                                                                                                                                                                                                         |\n",
        "|---------------------------------------------------------------------------|---------------------|-------------------------------------------------------------------------------------------------------------------------------------------------------------------------------------------------------------------------|\n",
        "|     underlying_symbol                                                     |     string          |     The underlying stock or index.  An index will utilize a caret (^) prefix,   i.e. ^NDX,^SPX,^VIX…etc.  Underlyings   with classes may utilize a dot (.) instead of a slash or space, i.e. BRK.B,   RDS.A, RDS.B.     |\n",
        "|     quote_datetime                                                        |     datetime        |     The trading date and timestamp of the trade in   U.S. Eastern time. Ex:  yyyymm-dd   hh:mm:ss.000                                                                                                                   |\n",
        "|     sequence_number                                                       |     integer         |     Trade Sequence Number for the execution reported   by OPRA                                                                                                                                                          |\n",
        "|     root                                                                  |     string          |     The option trading class symbol.  Non-standard roots may end with a digit                                                                                                                                           |\n",
        "|     expiration                                                            |     date            |     The explicit expiration date of the option:   yyyy-mm-dd                                                                                                                                                            |\n",
        "|     strike                                                                |     numeric         |     The exercise/strike price of the option                                                                                                                                                                             |\n",
        "|     option_type                                                           |     string          |     C for Call options, P for Put options                                                                                                                                                                               |\n",
        "|     exchange_id                                                           |     integer         |     An identifier for the options exchange the trade   was executed on.  For a mapping, please   see Exchange ID   Mappings                                                                                             |\n",
        "|     trade_size                                                            |     integer         |     The trade quantity                                                                                                                                                                                                  |\n",
        "|     trade_price                                                           |     numeric         |     The trade price                                                                                                                                                                                                     |\n",
        "|     trade_condition_id                                                    |     integer         |     The trade or sale condition of the execution.  For a mapping, please see Trade   Condition ID Mapping                                                                                                               |\n",
        "|     canceled_trade_condition_id                                           |     integer         |     This field is no longer supported and will default   to 0 (zero).  See IDs 40-43 in the   Trade Condition ID Mapping file above                                                                                     |\n",
        "|     best_bid                                                              |     numeric         |     The best bid price (NBB) at the time of the trade                                                                                                                                                                   |\n",
        "|     best_ask                                                              |     numeric         |     The best ask/offer price (NBO) at the time of the   trade                                                                                                                                                           |\n",
        "|     bid_size              |     integer         |     The largest size from an options exchange   participant on the best bid price (NBB)                                                                                                                                   |\n",
        "|     bid                   |     numeric         |     The best bid price (NBB) at the interval time   stamp                                                                                                                                                                 |\n",
        "|     ask_size              |     integer         |     The largest size from an options exchange   participant on the best offer price (NBO)                                                                                                                                 |\n",
        "|     ask                   |     numeric         |     The best offer price (NBO) at the interval time   stamp                                                                                                                                                               |"
      ]
    },
    {
      "cell_type": "markdown",
      "metadata": {
        "id": "iQ4euCPwEjW0"
      },
      "source": [
        "## Dtypes, distributions, and memory consumption 🔭"
      ]
    },
    {
      "cell_type": "code",
      "execution_count": null,
      "metadata": {
        "colab": {
          "base_uri": "https://localhost:8080/",
          "height": 236
        },
        "id": "RO2KMtPiTACz",
        "outputId": "662aad68-6b0b-4179-f7aa-d96aade98976"
      },
      "outputs": [],
      "source": [
        "data.head()\n"
      ]
    },
    {
      "cell_type": "code",
      "execution_count": null,
      "metadata": {
        "colab": {
          "base_uri": "https://localhost:8080/",
          "height": 300
        },
        "id": "aqk_p5ocEjDU",
        "outputId": "43b32b53-f41c-48e8-c2af-78c5a6b3229f"
      },
      "outputs": [],
      "source": [
        "data.describe()\n"
      ]
    },
    {
      "cell_type": "code",
      "execution_count": null,
      "metadata": {
        "colab": {
          "base_uri": "https://localhost:8080/"
        },
        "id": "hfQwaYDo6Zqj",
        "outputId": "d88d9d62-c49d-480d-ede8-ae2b4ec6b2b4"
      },
      "outputs": [],
      "source": [
        "data.info()\n"
      ]
    },
    {
      "cell_type": "code",
      "execution_count": null,
      "metadata": {
        "colab": {
          "base_uri": "https://localhost:8080/"
        },
        "id": "AQALJAsMTElF",
        "outputId": "0c0a8390-5fd3-4d47-b6e9-7fd26aa99f7f"
      },
      "outputs": [],
      "source": [
        "print(data.shape)\n"
      ]
    },
    {
      "cell_type": "code",
      "execution_count": null,
      "metadata": {
        "colab": {
          "base_uri": "https://localhost:8080/"
        },
        "id": "_vilf7lRTL9D",
        "outputId": "741df0e0-9890-4234-9404-770d13bc438f"
      },
      "outputs": [],
      "source": [
        "print(data.shape)\n",
        "# drop identical rows, if present\n",
        "data.drop_duplicates(inplace=True)\n",
        "print(data.shape)\n"
      ]
    },
    {
      "cell_type": "markdown",
      "metadata": {
        "id": "wyqaDfoVwhGc"
      },
      "source": [
        "**Observation:**\n",
        "- Shape matches the shape reported in table 1 (panel A) of Grauer et al. paper.\n",
        "- No duplicates"
      ]
    },
    {
      "cell_type": "code",
      "execution_count": null,
      "metadata": {
        "colab": {
          "base_uri": "https://localhost:8080/"
        },
        "id": "6iDCXTOo63QM",
        "outputId": "2304f8fa-4cbd-4b0c-e537-40dc3ecf088a"
      },
      "outputs": [],
      "source": [
        "data.nunique()\n"
      ]
    },
    {
      "cell_type": "code",
      "execution_count": null,
      "metadata": {
        "colab": {
          "base_uri": "https://localhost:8080/",
          "height": 739
        },
        "id": "l0aNIyjVhU_l",
        "outputId": "df4cb28a-9aa0-40e9-9a88-0401b4065ce9"
      },
      "outputs": [],
      "source": [
        "data.head().T\n"
      ]
    },
    {
      "cell_type": "markdown",
      "metadata": {
        "id": "JvmC00M4ggXa"
      },
      "source": [
        "## Basic features🧸"
      ]
    },
    {
      "cell_type": "markdown",
      "metadata": {
        "id": "_mwfnC3c11S3"
      },
      "source": [
        "Analysis of numerical features without any feature engineering."
      ]
    },
    {
      "cell_type": "markdown",
      "metadata": {
        "id": "apYQeTxc_A85"
      },
      "source": [
        "### Correlations 🎲"
      ]
    },
    {
      "cell_type": "code",
      "execution_count": null,
      "metadata": {
        "colab": {
          "base_uri": "https://localhost:8080/",
          "height": 430
        },
        "id": "xnCgvNWigo4v",
        "outputId": "9c2f9a81-bbc5-48e8-aaed-13b96f6e74a3"
      },
      "outputs": [],
      "source": [
        "corr: pd.DataFrame = data.corr()\n",
        "sns.heatmap(corr, xticklabels=corr.columns.values, yticklabels=corr.columns.values)  # type: ignore\n"
      ]
    },
    {
      "cell_type": "markdown",
      "metadata": {
        "id": "zCx-OV5A1nbW"
      },
      "source": [
        "**Observation:**\n",
        "* There are many highly correlated columns. The correlations are intuitive e. g., between `price_all_lead` and `price_ex_lead`.\n",
        "* Few columns show a weak correlation with target (see also below)."
      ]
    },
    {
      "cell_type": "code",
      "execution_count": null,
      "metadata": {
        "colab": {
          "base_uri": "https://localhost:8080/",
          "height": 1000
        },
        "id": "GfS9_g8lLwCk",
        "outputId": "c764233a-f33f-4ed7-8b98-c386e1ab65ec"
      },
      "outputs": [],
      "source": [
        "sample = data.sample(n=1000, random_state=seed)\n",
        "sns.pairplot(\n",
        "    sample,\n",
        "    vars=[\n",
        "        \"STRK_PRC\",\n",
        "        \"TRADE_SIZE\",\n",
        "        \"TRADE_PRICE\",\n",
        "        \"BEST_BID\",\n",
        "        \"BEST_ASK\",\n",
        "        \"ask_ex\",\n",
        "        \"bid_ex\",\n",
        "        \"ask_size_ex\",\n",
        "        \"bid_size_ex\",\n",
        "        \"price_all_lag\",\n",
        "        \"price_all_lead\",\n",
        "        \"day_vol\",\n",
        "    ],\n",
        ")\n"
      ]
    },
    {
      "cell_type": "markdown",
      "metadata": {
        "id": "dhBUygocshi6"
      },
      "source": [
        "### Correlation with target 🎲"
      ]
    },
    {
      "cell_type": "code",
      "execution_count": null,
      "metadata": {
        "colab": {
          "base_uri": "https://localhost:8080/",
          "height": 582
        },
        "id": "qeid5BACbK4h",
        "outputId": "ca09f033-f1fc-49b5-9142-18a07b2daeec"
      },
      "outputs": [],
      "source": [
        "sort_criteria = corr[\"buy_sell\"].abs().sort_values(ascending=False)\n",
        "corr_target = corr.sort_values(\"buy_sell\", ascending=False)[\"buy_sell\"]\n",
        "corr_target.loc[sort_criteria.index].to_frame()\n"
      ]
    },
    {
      "cell_type": "markdown",
      "metadata": {
        "id": "-0DAc8QweT3x"
      },
      "source": [
        "**Observation:**\n",
        "* Overall correlations are relatively low. Typical for financial data due to low signal-to-noise ratio.\n",
        "* Size-related features like `ask_size_ex` or `bid_size_ex` have the highest correlation with the target. Thus, can be promising to be included in the model. Consider size features when constructing feature sets.\n",
        "* Features like `optionid`, `order_id`, and `SEQUENCE_NUMBER` are also among the features with the highest correlations. Remove them, as the correlation is misleading."
      ]
    },
    {
      "cell_type": "code",
      "execution_count": null,
      "metadata": {
        "id": "UGdvq8OImPBy"
      },
      "outputs": [],
      "source": [
        "# remove some columns, which will NOT be used in model\n",
        "data.drop(columns=[\"optionid\"], inplace=True)\n"
      ]
    },
    {
      "cell_type": "markdown",
      "metadata": {
        "id": "jh83FQtksq0p"
      },
      "source": [
        "### Collinearity of features 🎲"
      ]
    },
    {
      "cell_type": "code",
      "execution_count": null,
      "metadata": {
        "colab": {
          "base_uri": "https://localhost:8080/"
        },
        "id": "ZXMC40PcnsR1",
        "outputId": "0fad2d65-988b-4641-ecb9-a0cc496db15a"
      },
      "outputs": [],
      "source": [
        "# adapted from here: https://www.kaggle.com/code/willkoehrsen/featuretools-for-good\n",
        "threshold = 0.975\n",
        "# Select upper triangle of correlation matrix\n",
        "upper = corr.where(np.triu(np.ones(corr.shape), k=1).astype(bool))\n",
        "\n",
        "# Find index of feature columns with correlation greater than 0.975\n",
        "to_drop = [column for column in upper.columns if any(abs(upper[column]) > threshold)]\n",
        "\n",
        "print(to_drop)\n"
      ]
    },
    {
      "cell_type": "markdown",
      "metadata": {
        "id": "cCy-QCa7whGl"
      },
      "source": [
        "**Observation:**\n",
        "- Columns suggested for removal are intuitive\n",
        "- Do not blindly remove columns, but preserve a pattern or groups"
      ]
    },
    {
      "cell_type": "code",
      "execution_count": null,
      "metadata": {
        "id": "HJ1kEvpmpPho"
      },
      "outputs": [],
      "source": [
        "# Set the threshold\n",
        "threshold = 0.975\n",
        "\n",
        "# Empty dictionary to hold correlated variables\n",
        "above_threshold_vars = {}\n",
        "\n",
        "# For each column, record the variables that are above the threshold\n",
        "for col in corr:\n",
        "    above_threshold_vars[col] = list(corr.index[corr[col] > threshold])\n"
      ]
    },
    {
      "cell_type": "code",
      "execution_count": null,
      "metadata": {
        "colab": {
          "base_uri": "https://localhost:8080/"
        },
        "id": "l151G9vXqPQI",
        "outputId": "45d43cbc-b2f2-4cf3-ae57-7473df53562d"
      },
      "outputs": [],
      "source": [
        "pd.Series(above_threshold_vars)\n"
      ]
    },
    {
      "cell_type": "markdown",
      "metadata": {
        "id": "tL1pblZKriNJ"
      },
      "source": [
        "**Observations:**\n",
        "* Some columns are highly correlated. This is very intuitive.\n",
        "* It seems problematic to include both `BEST_BID` and `bid_ex`. This is also true for `BEST_ASK` and `ask_ex`. `price_all_lead` and `price_all_lag` seem to be less problematic.\n",
        "* Define feature sets so that the number of highly correlated variables is minimized. But maintain groups so that a comparsion with classical rules is still possible."
      ]
    },
    {
      "cell_type": "markdown",
      "metadata": {
        "id": "KBSJWMKGhFlP"
      },
      "source": [
        "## Preparation 🥗"
      ]
    },
    {
      "cell_type": "markdown",
      "metadata": {
        "id": "P3up1N46inpz"
      },
      "source": [
        "### Time features ⏰"
      ]
    },
    {
      "cell_type": "code",
      "execution_count": null,
      "metadata": {
        "id": "XACNa17ehnr_"
      },
      "outputs": [],
      "source": [
        "# apply positional encoding to dates\n",
        "data[\"date_month_sin\"] = np.sin(2 * np.pi * data[\"QUOTE_DATETIME\"].dt.year / 12)\n",
        "data[\"date_month_cos\"] = np.cos(2 * np.pi * data[\"QUOTE_DATETIME\"].dt.year / 12)\n",
        "\n",
        "# time (daily)\n",
        "seconds_in_day = 24 * 60 * 60\n",
        "seconds = (\n",
        "    data[\"QUOTE_DATETIME\"] - data[\"QUOTE_DATETIME\"].dt.normalize()\n",
        ").dt.total_seconds()\n",
        "\n",
        "data[\"date_time_sin\"] = np.sin(2 * np.pi * seconds / seconds_in_day)\n",
        "data[\"date_time_cos\"] = np.cos(2 * np.pi * seconds / seconds_in_day)\n",
        "\n",
        "# year min-max scaled\n",
        "data[\"date_year_min\"] = (data[\"QUOTE_DATETIME\"].dt.year - 2005) / (2017 - 2005)\n",
        "\n",
        "# time to maturity\n",
        "data[\"ttm\"] = (\n",
        "    data[\"EXPIRATION\"].dt.to_period(\"M\") - data[\"QUOTE_DATETIME\"].dt.to_period(\"M\")\n",
        ").apply(lambda x: x.n)\n",
        "\n",
        "# day, month and year\n",
        "data[\"day\"] = data[\"QUOTE_DATETIME\"].dt.day\n",
        "data[\"month\"] = data[\"QUOTE_DATETIME\"].dt.month\n",
        "data[\"year\"] = data[\"QUOTE_DATETIME\"].dt.year\n",
        "data[\"date\"] = data[\"QUOTE_DATETIME\"].dt.date\n"
      ]
    },
    {
      "cell_type": "markdown",
      "metadata": {
        "id": "GGWJjuPciwh7"
      },
      "source": [
        "### Binned features 🥫"
      ]
    },
    {
      "cell_type": "markdown",
      "metadata": {
        "id": "W6vEtB7T-KNy"
      },
      "source": [
        "Bin features similarily to how they are used in the robustness tests."
      ]
    },
    {
      "cell_type": "code",
      "execution_count": null,
      "metadata": {
        "id": "5HML91_Bit9A"
      },
      "outputs": [],
      "source": [
        "bins_tradesize = [0, 1, 3, 5, 11, np.inf]\n",
        "trade_size_labels = [\"(0,1]\", \"(1,3]\", \"(3,5]\", \"(5,11]\", \">11\"]\n",
        "data[\"TRADE_SIZE_binned\"] = pd.cut(\n",
        "    data[\"TRADE_SIZE\"], bins_tradesize, labels=trade_size_labels\n",
        ")\n",
        "\n",
        "bins_years = [2004, 2007, 2010, 2011, 2012, 2013, 2014, 2015, 2016, 2017]\n",
        "year_labels = [\n",
        "    \"2005-2007\",\n",
        "    \"2008-2010\",\n",
        "    \"2011\",\n",
        "    \"2012\",\n",
        "    \"2013\",\n",
        "    \"2014\",\n",
        "    \"2015\",\n",
        "    \"2016\",\n",
        "    \"2017\",\n",
        "]\n",
        "data[\"year_binned\"] = pd.cut(data[\"year\"], bins_years, labels=year_labels)\n",
        "\n",
        "bins_ttm = [-1, 1, 2, 3, 6, 12, np.inf]\n",
        "ttm_labels = [\n",
        "    \"ttm <= 1 month\",\n",
        "    \"ttm (1-2] month\",\n",
        "    \"ttm (2-3] month\",\n",
        "    \"ttm (3-6] month\",\n",
        "    \"ttm (6-12] month\",\n",
        "    \"ttm > 12 month\",\n",
        "]\n",
        "data[\"ttm_binned\"] = pd.cut(data[\"ttm\"], bins_ttm, labels=ttm_labels)\n"
      ]
    },
    {
      "cell_type": "markdown",
      "metadata": {
        "id": "fNul91d8XCzv"
      },
      "source": [
        "### Trade features 💴\n",
        "Construct features that are used in classical rules."
      ]
    },
    {
      "cell_type": "code",
      "execution_count": null,
      "metadata": {
        "id": "B4CnoIjyWDo1"
      },
      "outputs": [],
      "source": [
        "# spread in $ between ask and bid\n",
        "data[\"spread_ex\"] = data[\"ask_ex\"] - data[\"bid_ex\"]\n",
        "\n",
        "# Calculate change similar to tick rule\n",
        "data[\"chg_lead_ex\"] = data[\"TRADE_PRICE\"] - data[\"price_ex_lead\"]\n",
        "\n",
        "# Calculate change similar to reverse tick rule\n",
        "data[\"chg_lag_ex\"] = data[\"TRADE_PRICE\"] - data[\"price_ex_lag\"]\n",
        "\n",
        "# Midspread\n",
        "mid_ex = 0.5 * (data[\"ask_ex\"] + data[\"bid_ex\"])\n",
        "mid_best = 0.5 * (data[\"BEST_ASK\"] + data[\"BEST_BID\"])\n",
        "\n",
        "# ratio of bid-ask\n",
        "data[\"bid_ask_ratio_ex\"] = data[\"bid_ex\"] / data[\"ask_ex\"]\n",
        "\n",
        "# Absolute distance from mid\n",
        "data[\"abs_mid_ex\"] = data[\"TRADE_PRICE\"] - mid_ex\n",
        "data[\"mid_ex\"] = mid_ex\n",
        "\n",
        "# Absolute distance from mid\n",
        "data[\"abs_mid_BEST\"] = data[\"TRADE_PRICE\"] - mid_best\n",
        "data[\"mid_best\"] = mid_best\n",
        "\n",
        "# depth rule (usually only applied to mid spread transactions)\n",
        "data[\"bid_ask_size_ratio_ex\"] = data[\"bid_size_ex\"] / data[\"ask_size_ex\"]\n",
        "\n",
        "# Degree how much trade size is filled -> similar to trade size rule\n",
        "# Trade size rule would just classify if\n",
        "data[\"rel_bid_size_ex\"] = data[\"TRADE_SIZE\"] / data[\"bid_size_ex\"]\n",
        "data[\"rel_ask_size_ex\"] = data[\"TRADE_SIZE\"] / data[\"ask_size_ex\"]\n",
        "\n",
        "# EMO / CLNV\n",
        "data[\"rel_ask_ex\"] = (data[\"TRADE_PRICE\"] - mid_ex) / (data[\"ask_ex\"] - mid_ex)\n",
        "data[\"rel_bid_ex\"] = (mid_ex - data[\"TRADE_PRICE\"]) / (mid_ex - data[\"bid_ex\"])\n",
        "\n",
        "# EMO / CLNV\n",
        "data[\"BEST_rel_bid\"] = (data[\"TRADE_PRICE\"] - mid_best) / (data[\"BEST_ASK\"] - mid_best)\n",
        "data[\"BEST_rel_ask\"] = (mid_best - data[\"TRADE_PRICE\"]) / (mid_best - data[\"BEST_BID\"])\n"
      ]
    },
    {
      "cell_type": "markdown",
      "metadata": {
        "id": "M6gxVMmgNwQs"
      },
      "source": [
        "### Underlying features 🫀"
      ]
    },
    {
      "cell_type": "code",
      "execution_count": null,
      "metadata": {
        "id": "PaBwUMFzNsnu"
      },
      "outputs": [],
      "source": [
        "data[\"symbol_is_index\"] = data[\"ROOT\"].str.startswith(\"^\").astype(int)\n",
        "\n",
        "\n",
        "# TODO: Add majority class @ day\n"
      ]
    },
    {
      "cell_type": "markdown",
      "metadata": {
        "id": "A0KFTHrDK5Uo"
      },
      "source": [
        "### Categorical features 🎰"
      ]
    },
    {
      "cell_type": "markdown",
      "metadata": {
        "id": "l4ZbZXdlKbRT"
      },
      "source": [
        "### Visualization helper 🐜"
      ]
    },
    {
      "cell_type": "code",
      "execution_count": null,
      "metadata": {
        "id": "_jLvcBEyKfDi"
      },
      "outputs": [],
      "source": [
        "def plot_kde_target(var_name: str, clip: Optional[List[float]] = None):\n",
        "    \"\"\"\n",
        "  Plot kde plots for buys (+1) and sells (-1) with regard to \\\n",
        "  the feature 'var_name'.\n",
        "\n",
        "   Args:\n",
        "      var_name (str): name of the feature\n",
        "      clip (Optional[List[float]], optional): clipping range. Defaults to None.\n",
        "  \"\"\"\n",
        "    corr_var = data[\"buy_sell\"].corr(data[var_name])\n",
        "\n",
        "    median_sell = data[data[\"buy_sell\"] == -1][var_name].median()\n",
        "    median_buy = data[data[\"buy_sell\"] == 1][var_name].median()\n",
        "\n",
        "    _, ax = plt.subplots()\n",
        "    for i in [-1, 1]:\n",
        "        sns.kdeplot(\n",
        "            data=data[data[\"buy_sell\"] == i],\n",
        "            x=var_name,\n",
        "            clip=clip,\n",
        "            label=str(i),\n",
        "            cumulative=False,\n",
        "            common_grid=True,\n",
        "        )\n",
        "    ax.title.set_text(f\"Distribution of '{var_name}'\")\n",
        "    ax.legend()\n",
        "    sns.move_legend(ax, \"lower center\", bbox_to_anchor=(0.5, -0.3))\n",
        "    plt.show()\n",
        "    print(\n",
        "        f\"The correlation between '{var_name}' and the 'buy_sell' is {corr_var: 0.4f}\"\n",
        "    )\n",
        "    print(f\"Median value of sells = {median_sell: 0.4f}\")\n",
        "    print(f\"Median value of buys = {median_buy: 0.4f}\")\n"
      ]
    },
    {
      "cell_type": "code",
      "execution_count": null,
      "metadata": {
        "id": "kmkh8Ze7Xys_"
      },
      "outputs": [],
      "source": [
        "def plot_kde_target_comparsion(\n",
        "    var_name: str,\n",
        "    clip: Optional[List[float]] = None,\n",
        "    years: List[int] = [2006, 2010, 2013],\n",
        ") -> None:\n",
        "    \"\"\"\n",
        "    Plot several kde plots side by side for the feature.\n",
        "\n",
        "    Args:\n",
        "        var_name (str): name of the feature\n",
        "        clip (Optional[List[float]], optional): clipping range. Defaults to None.\n",
        "        years (List[int], optional): years to compare. Defaults to [2006, 2010, 2013].\n",
        "    \"\"\"\n",
        "    fig, ax = plt.subplots(nrows=1, ncols=len(years), figsize=(18, 4))\n",
        "\n",
        "    fig.suptitle(f\"Distribution of `{var_name}`\")\n",
        "\n",
        "    for y, year in enumerate(years):\n",
        "        for i in [-1, 1]:\n",
        "            sns.kdeplot(\n",
        "                data=data[(data[\"buy_sell\"] == i) & (data[\"year\"] == year)],\n",
        "                x=var_name,\n",
        "                clip=clip,\n",
        "                # supress any other but first label using '_'\n",
        "                # see https://stackoverflow.com/a/44633022/5755604\n",
        "                label=\"_\" * y + str(i),\n",
        "                cumulative=False,\n",
        "                common_grid=True,\n",
        "                ax=ax[y],\n",
        "            )\n",
        "            ax[y].xaxis.label.set_text(str(year))\n",
        "\n",
        "    fig.legend()\n"
      ]
    },
    {
      "cell_type": "code",
      "execution_count": null,
      "metadata": {
        "id": "k9QXRQrxOCJ3"
      },
      "outputs": [],
      "source": [
        "us_rec = web.DataReader(\"USREC\", \"fred\", data[\"date\"].min(), data[\"date\"].max())\n",
        "\n",
        "\n",
        "def plot_recessions() -> None:\n",
        "    \"\"\"\n",
        "    Add recession indicator to plot and entry to legend.\n",
        "    \"\"\"\n",
        "    l = 0\n",
        "    month = relativedelta.relativedelta(months=+1)\n",
        "    for date, val in us_rec[\"USREC\"].items():\n",
        "        if val == 1:\n",
        "            # if boolean = 1 -> print bar until next month\n",
        "            # '_' labels are ignored in legend https://stackoverflow.com/a/44633022/5755604\n",
        "            plt.axvspan(\n",
        "                date,\n",
        "                date + month,\n",
        "                edgecolor=\"none\",\n",
        "                alpha=0.25,\n",
        "                label=\"_\" * l + \"recession\",\n",
        "            )\n",
        "            l += 1\n"
      ]
    },
    {
      "cell_type": "code",
      "execution_count": null,
      "metadata": {
        "id": "HHFM5-flQo-9"
      },
      "outputs": [],
      "source": [
        "def plot_time_series(\n",
        "    feature: Union[str, List[str]], aggregation: Union[str, List[Any]] = \"count\"\n",
        ") -> pd.DataFrame:\n",
        "    \"\"\"\n",
        "    Plot feature over time. Aggregate using 'aggregation'.\n",
        "\n",
        "    Args:\n",
        "        feature (Union[str, List[str]]): feature to plot.\n",
        "        aggregation (Union[str, List[Any]], optional): aggregation operation. Defaults to \"count\".\n",
        "\n",
        "    Returns:\n",
        "        pd.DataFrame: time series\n",
        "    \"\"\"\n",
        "    if isinstance(feature, str):\n",
        "        feature = [feature]\n",
        "    if isinstance(aggregation, str):\n",
        "        aggregation = [aggregation]\n",
        "\n",
        "    time_series = data[feature].groupby(data[\"date\"]).agg(aggregation)\n",
        "    time_series.columns = time_series.columns.to_flat_index()\n",
        "\n",
        "    ax = sns.lineplot(data=time_series)\n",
        "    ax.yaxis.label.set_text(\" / \".join(aggregation))\n",
        "    ax.title.set_text(f\"'{' / '.join(feature)}' over time\")\n",
        "    plot_recessions()\n",
        "    ax.legend()\n",
        "    plt.show()\n",
        "\n",
        "    return time_series\n"
      ]
    },
    {
      "cell_type": "code",
      "execution_count": null,
      "metadata": {
        "colab": {
          "base_uri": "https://localhost:8080/"
        },
        "id": "6rbpLrGVKlqY",
        "outputId": "731055dd-9eca-40d7-b316-04b1ee43b925"
      },
      "outputs": [],
      "source": [
        "# select categorical e. g., option type and strings e. g., ticker\n",
        "cat_columns = data.select_dtypes(include=[\"category\", \"object\"]).columns.tolist()\n",
        "print(cat_columns)\n",
        "\n",
        "# assign \"bin_\" column prefix\n",
        "cat_columns_bin = [\"bin_\" + x for x in cat_columns]\n",
        "\n",
        "# binarize categorical similar to Borisov et al.\n",
        "data[cat_columns_bin] = data[cat_columns].apply(lambda x: pd.factorize(x)[0])  # type: ignore\n"
      ]
    },
    {
      "cell_type": "markdown",
      "metadata": {
        "id": "9vmqZlzAPHLF"
      },
      "source": [
        "## General overview 🌄"
      ]
    },
    {
      "cell_type": "markdown",
      "metadata": {
        "id": "ryHukUSOiFvs"
      },
      "source": [
        "### Trade price and sizes 🤝"
      ]
    },
    {
      "cell_type": "markdown",
      "metadata": {
        "id": "TGlJU8wrm_J4"
      },
      "source": [
        "#### Trades over time ⌚"
      ]
    },
    {
      "cell_type": "code",
      "execution_count": null,
      "metadata": {
        "colab": {
          "base_uri": "https://localhost:8080/",
          "height": 380
        },
        "id": "CNdxNP8VnJ8m",
        "outputId": "c4d767cd-63ff-4d96-e9d7-19a80cfb6e27"
      },
      "outputs": [],
      "source": [
        "trades_per_day = plot_time_series(\"TRADE_PRICE\", \"count\")\n"
      ]
    },
    {
      "cell_type": "code",
      "execution_count": null,
      "metadata": {
        "colab": {
          "base_uri": "https://localhost:8080/"
        },
        "id": "C5GRI4vE08RB",
        "outputId": "cc07e28a-18d7-4d5e-a92b-d235e242f98b"
      },
      "outputs": [],
      "source": [
        "trades_per_day.iloc[:, 0].nlargest(N)\n"
      ]
    },
    {
      "cell_type": "code",
      "execution_count": null,
      "metadata": {
        "colab": {
          "base_uri": "https://localhost:8080/"
        },
        "id": "DmK1pdA63P55",
        "outputId": "48df5c85-73ff-4c80-8749-14bbf9cf5700"
      },
      "outputs": [],
      "source": [
        "trades_per_day.iloc[:, 0].nsmallest(N)\n"
      ]
    },
    {
      "cell_type": "markdown",
      "metadata": {
        "id": "u4rLQllo9yWs"
      },
      "source": [
        "**Observation:**\n",
        "* Number of trades increases over time.\n",
        "* There is no obvious explanation why the number of trades spikes at certain days."
      ]
    },
    {
      "cell_type": "markdown",
      "metadata": {
        "id": "YvBsMmZ0Rwro"
      },
      "source": [
        "#### Trade size"
      ]
    },
    {
      "cell_type": "code",
      "execution_count": null,
      "metadata": {
        "colab": {
          "base_uri": "https://localhost:8080/",
          "height": 0
        },
        "id": "f-YPNDG3fzDO",
        "outputId": "278639a1-b7b5-4c49-a8e3-52f2792db090"
      },
      "outputs": [],
      "source": [
        "ax = sns.histplot(data, x=\"TRADE_SIZE\", bins=50)  # type: ignore\n",
        "ax.title.set_text(\"Histogram of trade size\")\n"
      ]
    },
    {
      "cell_type": "markdown",
      "metadata": {
        "id": "txa7AqLShrZn"
      },
      "source": [
        "**Observation:**\n",
        "* highly skewed with few outliers.\n",
        "* Similar to the price, $\\log(\\cdot)$ transform could help."
      ]
    },
    {
      "cell_type": "code",
      "execution_count": null,
      "metadata": {
        "colab": {
          "base_uri": "https://localhost:8080/",
          "height": 0
        },
        "id": "3oGv6NbNZ8mR",
        "outputId": "0e7c9734-0e9d-4913-9efe-e6e627f04287"
      },
      "outputs": [],
      "source": [
        "trades_over_time = plot_time_series(\"TRADE_SIZE\", [\"mean\", \"median\"])\n"
      ]
    },
    {
      "cell_type": "code",
      "execution_count": null,
      "metadata": {
        "colab": {
          "base_uri": "https://localhost:8080/",
          "height": 0
        },
        "id": "_fm0mKy9nGWr",
        "outputId": "25cdb2d4-33a1-4bbf-9ce4-739c878063e7"
      },
      "outputs": [],
      "source": [
        "trade_ask_bid_size = plot_time_series(\n",
        "    [\"TRADE_SIZE\", \"ask_size_ex\", \"bid_size_ex\"], \"mean\"\n",
        ")\n"
      ]
    },
    {
      "cell_type": "markdown",
      "metadata": {
        "id": "IKBxGSqe-FBC"
      },
      "source": [
        "**Observation:**\n",
        "* There is a slow downward trend in `TRADE_SIZE` (mean).\n",
        "* Controversely, the number of trades per day (mean) increases over time.\n",
        "* Market share of ISE has decrease over time, as reported in https://www.sifma.org/wp-content/uploads/2022/03/SIFMA-Insights-Market-Structure-Compendium-March-2022.pdf. "
      ]
    },
    {
      "cell_type": "code",
      "execution_count": null,
      "metadata": {
        "colab": {
          "base_uri": "https://localhost:8080/"
        },
        "id": "PfPmlqkdhhiQ",
        "outputId": "14ab6aec-5fa0-43fb-b978-b768dbf72ffd"
      },
      "outputs": [],
      "source": [
        "data[\"TRADE_SIZE\"].describe()\n"
      ]
    },
    {
      "cell_type": "code",
      "execution_count": null,
      "metadata": {
        "colab": {
          "base_uri": "https://localhost:8080/",
          "height": 0
        },
        "id": "dmKu4OXF-p9P",
        "outputId": "3d9e5b8f-7f88-466d-951b-550ac248f0cd"
      },
      "outputs": [],
      "source": [
        "data[data[\"TRADE_SIZE\"].max() == data[\"TRADE_SIZE\"]]\n"
      ]
    },
    {
      "cell_type": "code",
      "execution_count": null,
      "metadata": {
        "colab": {
          "base_uri": "https://localhost:8080/",
          "height": 0
        },
        "id": "ZL3iVg-mgrv1",
        "outputId": "bf24ac48-8332-4432-9702-ffde6ae8b14f"
      },
      "outputs": [],
      "source": [
        "data.nlargest(N, \"TRADE_SIZE\", keep=\"first\").T\n"
      ]
    },
    {
      "cell_type": "code",
      "execution_count": null,
      "metadata": {
        "colab": {
          "base_uri": "https://localhost:8080/",
          "height": 0
        },
        "id": "eL3Lxj2yhrB4",
        "outputId": "dfa9963a-f837-410a-f9fe-3093ec72c6dd"
      },
      "outputs": [],
      "source": [
        "data[\"log_trade_size\"] = np.log1p(data[\"TRADE_SIZE\"])\n",
        "ax = sns.histplot(data, x=\"log_trade_size\", bins=50)  # type: ignore\n",
        "ax.title.set_text(f\"Histogram of trade size (log1p)\")\n"
      ]
    },
    {
      "cell_type": "code",
      "execution_count": null,
      "metadata": {
        "colab": {
          "base_uri": "https://localhost:8080/",
          "height": 0
        },
        "id": "BQGC_grZ2quQ",
        "outputId": "1602d89b-3db1-4090-c909-a5ae67ff2641"
      },
      "outputs": [],
      "source": [
        "plot_kde_target(\"log_trade_size\", clip=[0, 6])\n"
      ]
    },
    {
      "cell_type": "markdown",
      "metadata": {
        "id": "0TbVsjVrwhG_"
      },
      "source": [
        "**Observation:**\n",
        "- Size features do hardly profit from a $\\log$ transform. Might want to keep as-is."
      ]
    },
    {
      "cell_type": "markdown",
      "metadata": {
        "id": "kro_boa2VSpD"
      },
      "source": [
        "#### Trade price"
      ]
    },
    {
      "cell_type": "code",
      "execution_count": null,
      "metadata": {
        "colab": {
          "base_uri": "https://localhost:8080/",
          "height": 0
        },
        "id": "c2bA2XcPg0qg",
        "outputId": "0a3454a6-2967-40a1-a1fb-cba3c255400c"
      },
      "outputs": [],
      "source": [
        "ax = sns.histplot(data, x=\"TRADE_PRICE\", bins=50)  # type: ignore\n",
        "ax.title.set_text(\"Histogram of trade price\")\n"
      ]
    },
    {
      "cell_type": "code",
      "execution_count": null,
      "metadata": {
        "colab": {
          "base_uri": "https://localhost:8080/",
          "height": 0
        },
        "id": "CULpt3OGoMBS",
        "outputId": "a19ee86a-6084-486f-d3b8-5d5cd2afef44"
      },
      "outputs": [],
      "source": [
        "ax = sns.boxplot(data=data, x=\"buy_sell\", y=\"TRADE_PRICE\")\n",
        "ax.title.set_text(\"Box plot of 'TRADE_PRICE' for buys (1) and sells (-1)\")\n"
      ]
    },
    {
      "cell_type": "markdown",
      "metadata": {
        "id": "nKm00we7oQmJ"
      },
      "source": [
        "**Observations:**\n",
        "* Very few, very large trade prices, many very small trade prices.\n",
        "* Scaling can be problematic, if outliers affect scaling much. Try $\\log(\\cdot)$ transform to correct skewness of distribution. Could improve results.\n",
        "* Trade price is hardly informative, as distribution is very similar."
      ]
    },
    {
      "cell_type": "code",
      "execution_count": null,
      "metadata": {
        "id": "k47VwHkJoYHj"
      },
      "outputs": [],
      "source": [
        "data[\"log_trade_price\"] = np.log1p(data[\"TRADE_PRICE\"])"
      ]
    },
    {
      "cell_type": "code",
      "execution_count": null,
      "metadata": {
        "colab": {
          "base_uri": "https://localhost:8080/",
          "height": 0
        },
        "id": "cULJ2a5voezf",
        "outputId": "d4bc9889-894b-4e06-93a0-912b3c158827"
      },
      "outputs": [],
      "source": [
        "fig, ax = plt.subplots()\n",
        "\n",
        "sns.histplot(data, x=\"log_trade_price\", bins=50, stat=\"density\", label=\"log price\")  # type: ignore\n",
        "\n",
        "# extract the limits for the x-axis and fit normal distributon\n",
        "x0, x1 = ax.get_xlim()\n",
        "x_pdf = np.linspace(x0, x1, 100)\n",
        "y_pdf = stats.norm.pdf(x_pdf)\n",
        "\n",
        "pdf = pd.DataFrame({\"x\": x_pdf, \"y\": y_pdf})\n",
        "sns.lineplot(data=pdf, x=\"x\", y=\"y\", label=\"pdf\", color=\"r\")\n",
        "\n",
        "\n",
        "ax.title.set_text(\"Distribution of log prices\")\n",
        "ax.legend()\n"
      ]
    },
    {
      "cell_type": "code",
      "execution_count": null,
      "metadata": {
        "colab": {
          "base_uri": "https://localhost:8080/",
          "height": 0
        },
        "id": "9DpqVxM3o8G8",
        "outputId": "c738d9a1-f706-4d1a-88ac-129cdb132427"
      },
      "outputs": [],
      "source": [
        "ax = sns.boxplot(data=data, x=\"buy_sell\", y=\"log_trade_price\")\n",
        "ax.title.set_text(\"Box plot of log prices for buys (1) and sells (-1)\")\n"
      ]
    },
    {
      "cell_type": "code",
      "execution_count": null,
      "metadata": {
        "colab": {
          "base_uri": "https://localhost:8080/",
          "height": 0
        },
        "id": "lwtkIErXg8iZ",
        "outputId": "8eed0e33-6b2a-4ed7-e9df-6b758205647a"
      },
      "outputs": [],
      "source": [
        "data.nlargest(N, \"TRADE_PRICE\", keep=\"first\").T\n"
      ]
    },
    {
      "cell_type": "code",
      "execution_count": null,
      "metadata": {
        "colab": {
          "base_uri": "https://localhost:8080/",
          "height": 0
        },
        "id": "5HndBdq-hKmJ",
        "outputId": "c46ba6df-7427-4edb-91de-80053e24b558"
      },
      "outputs": [],
      "source": [
        "trade_price_over_time = plot_time_series(\"TRADE_PRICE\", [\"mean\", \"median\"])\n"
      ]
    },
    {
      "cell_type": "code",
      "execution_count": null,
      "metadata": {
        "colab": {
          "base_uri": "https://localhost:8080/",
          "height": 0
        },
        "id": "DhvRYVA-pjzX",
        "outputId": "b75777aa-a4a0-4b5d-f1d0-ae657b2746c2"
      },
      "outputs": [],
      "source": [
        "trade_price_over_time = plot_time_series(\n",
        "    [\"TRADE_PRICE\", \"price_ex_lead\", \"price_ex_lag\"], \"mean\"\n",
        ")\n"
      ]
    },
    {
      "cell_type": "code",
      "execution_count": null,
      "metadata": {
        "colab": {
          "base_uri": "https://localhost:8080/",
          "height": 0
        },
        "id": "bTNiMADmqxI4",
        "outputId": "cf085115-02c6-4946-91ad-4764f6fa1465"
      },
      "outputs": [],
      "source": [
        "trade_price_over_time = plot_time_series(\n",
        "    [\"TRADE_PRICE\", \"price_ex_lead\", \"price_ex_lag\"], \"median\"\n",
        ")\n"
      ]
    },
    {
      "cell_type": "markdown",
      "metadata": {
        "id": "Z234Di7gwhHD"
      },
      "source": [
        "**Observation:**\n",
        "* `TRADE_PRICE` remains roughly constant over time. Median decreases over time.\n",
        "* Large difference between median and mean. "
      ]
    },
    {
      "cell_type": "markdown",
      "metadata": {
        "id": "S5rHAylRzt1d"
      },
      "source": [
        "### Time to maturity ⌚"
      ]
    },
    {
      "cell_type": "code",
      "execution_count": null,
      "metadata": {
        "colab": {
          "base_uri": "https://localhost:8080/",
          "height": 0
        },
        "id": "YOtWJYd1mRAx",
        "outputId": "a5eec728-f9e0-4b2a-cf48-3e4eb1736e65"
      },
      "outputs": [],
      "source": [
        "ttm_over_time = plot_time_series(\"ttm\", \"mean\")\n"
      ]
    },
    {
      "cell_type": "code",
      "execution_count": null,
      "metadata": {
        "colab": {
          "base_uri": "https://localhost:8080/",
          "height": 0
        },
        "id": "V3JpC7CymaZ3",
        "outputId": "7dc4b7f3-6ee5-4208-a19c-eeb7967b7d83"
      },
      "outputs": [],
      "source": [
        "sample = data.sample(n=1000, random_state=seed)\n",
        "\n",
        "plot = sns.displot(data=sample, x=\"ttm\", y=\"TRADE_PRICE\", kind=\"kde\", hue=\"OPTION_TYPE\")\n",
        "plot.figure.subplots_adjust(top=0.9)\n",
        "plot.figure.suptitle(\"Trade Price vs. Time to Maturity\")\n"
      ]
    },
    {
      "cell_type": "code",
      "execution_count": null,
      "metadata": {
        "colab": {
          "base_uri": "https://localhost:8080/",
          "height": 0
        },
        "id": "s-qb_kBSmj4i",
        "outputId": "1d36966c-9950-442e-f01c-53f0d6832778"
      },
      "outputs": [],
      "source": [
        "ax = sns.scatterplot(data=sample, x=\"ttm\", y=\"bid_ex\", hue=\"OPTION_TYPE\")\n",
        "ax.title.set_text(\"Scatter plot of time to maturity (months) and bid (ex)\")\n"
      ]
    },
    {
      "cell_type": "code",
      "execution_count": null,
      "metadata": {
        "colab": {
          "base_uri": "https://localhost:8080/",
          "height": 0
        },
        "id": "WIiLkBmymu6n",
        "outputId": "c6721f03-d54a-4fa5-9cd5-188bc0a8c22e"
      },
      "outputs": [],
      "source": [
        "ax = sns.histplot(data=data[data[\"bid_ex\"] == 0.0], x=\"ttm\", bins=50)  # type: ignore\n",
        "ax.title.set_text(\"Count of transactions with regard to time to maturity (months)\")\n"
      ]
    },
    {
      "cell_type": "markdown",
      "metadata": {
        "id": "uEYVInVtwhHF"
      },
      "source": [
        "**Observation:**\n",
        "- Most options have a short time-to-maturity\n",
        "- Binning or cut-off could be helpful"
      ]
    },
    {
      "cell_type": "code",
      "execution_count": null,
      "metadata": {
        "colab": {
          "base_uri": "https://localhost:8080/",
          "height": 0
        },
        "id": "HIPLWci8m2MD",
        "outputId": "1482c05e-1f5a-4c1a-9526-b0ba6d4b3739"
      },
      "outputs": [],
      "source": [
        "# TODO: ask of zero plausible?\n",
        "sns.histplot(data=data[data[\"ask_ex\"] == 0.0], x=\"ttm\", bins=50)  # type: ignore\n"
      ]
    },
    {
      "cell_type": "markdown",
      "metadata": {
        "id": "q5WCxCtC6N1r"
      },
      "source": [
        "### Strike price"
      ]
    },
    {
      "cell_type": "code",
      "execution_count": null,
      "metadata": {
        "colab": {
          "base_uri": "https://localhost:8080/",
          "height": 381
        },
        "id": "shLvgI6_6pob",
        "outputId": "c9d22b4d-a97e-44e8-8463-8cf6204dbd79"
      },
      "outputs": [],
      "source": [
        "ax = sns.histplot(data, x=\"STRK_PRC\", bins=50)  # type: ignore\n",
        "ax.title.set_text(\"Histogram of strike price\")\n"
      ]
    },
    {
      "cell_type": "code",
      "execution_count": null,
      "metadata": {
        "colab": {
          "base_uri": "https://localhost:8080/",
          "height": 381
        },
        "id": "FF4T32MV7MRf",
        "outputId": "e1662066-f4e9-4e8b-f959-a1e0e648c968"
      },
      "outputs": [],
      "source": [
        "ax = sns.boxplot(data=data, x=\"buy_sell\", y=\"STRK_PRC\")\n",
        "ax.title.set_text(\"Box plot of strike prices for buys (1) and sells (-1)\")\n"
      ]
    },
    {
      "cell_type": "code",
      "execution_count": null,
      "metadata": {
        "colab": {
          "base_uri": "https://localhost:8080/",
          "height": 380
        },
        "id": "v0YTFt-Y6QlA",
        "outputId": "595a7e94-f772-4992-9f77-7ff6b67a7655"
      },
      "outputs": [],
      "source": [
        "strike_over_time = plot_time_series(\"STRK_PRC\", \"mean\")\n"
      ]
    },
    {
      "cell_type": "markdown",
      "metadata": {
        "id": "ai93sNiywhHI"
      },
      "source": [
        "**Observation:**\n",
        "- Distribution of strike price is highly skewed\n",
        "- Average strike price grows over time. Thus, very large and previously unobserved trade prices could be part of the test set, but not in the train set.\n",
        "- Try $\\log$"
      ]
    },
    {
      "cell_type": "code",
      "execution_count": null,
      "metadata": {
        "id": "E4zueI8_6_zh"
      },
      "outputs": [],
      "source": [
        "data[\"log_strk_prc\"] = np.log1p(data[\"STRK_PRC\"])\n"
      ]
    },
    {
      "cell_type": "code",
      "execution_count": null,
      "metadata": {
        "colab": {
          "base_uri": "https://localhost:8080/",
          "height": 381
        },
        "id": "HsYMWQOs6jUt",
        "outputId": "54916530-d8d2-49bc-f980-23c9c96f6a41"
      },
      "outputs": [],
      "source": [
        "ax = sns.histplot(data, x=\"log_strk_prc\", bins=50)  # type: ignore\n",
        "ax.title.set_text(\"Histogram of strike price (log1p)\")\n"
      ]
    },
    {
      "cell_type": "code",
      "execution_count": null,
      "metadata": {
        "colab": {
          "base_uri": "https://localhost:8080/",
          "height": 381
        },
        "id": "ubhwxzaO7jD0",
        "outputId": "19f9e4de-b156-4f2a-db22-f023f4f3645e"
      },
      "outputs": [],
      "source": [
        "ax = sns.boxplot(data=data, x=\"buy_sell\", y=\"log_strk_prc\")\n",
        "ax.title.set_text(\"Box plot of strike prices for buys (1) and sells (-1)\")\n"
      ]
    },
    {
      "cell_type": "markdown",
      "metadata": {
        "id": "9of8S3X52_WS"
      },
      "source": [
        "### Buy Sell 👛"
      ]
    },
    {
      "cell_type": "code",
      "execution_count": null,
      "metadata": {
        "colab": {
          "base_uri": "https://localhost:8080/"
        },
        "id": "EpSh473iHU3W",
        "outputId": "71698ccf-dd30-4a4a-e775-4e9fd7ecffaf"
      },
      "outputs": [],
      "source": [
        "ratio_buy_sell = data[\"buy_sell\"].value_counts() / data[\"buy_sell\"].count()\n",
        "ratio_buy_sell.head()\n"
      ]
    },
    {
      "cell_type": "markdown",
      "metadata": {
        "id": "deJhfCrxHy8Y"
      },
      "source": [
        "**Observation:**\n",
        "* Ratios similar to the one reported in Grauer et. al. Yet not identical as calculation is done on a sample.\n",
        "* As both classes have a $\\approx~0.5$ probability, I would not rebalance. Rebalancing through sampling etc. itself has a bias.\n",
        "* Ratios seem to be stable over time (see below). Thus, distribution is similar for training, validation, and test set.\n",
        "* With regard to time-to-maturity the distribution changes slightly for longer periods."
      ]
    },
    {
      "cell_type": "markdown",
      "metadata": {
        "id": "IYXjbdNOScZ5"
      },
      "source": [
        "#### By option type"
      ]
    },
    {
      "cell_type": "code",
      "execution_count": null,
      "metadata": {
        "colab": {
          "base_uri": "https://localhost:8080/",
          "height": 0
        },
        "id": "r4zDI-vV4QHT",
        "outputId": "c04aa7ab-6fe3-4d66-cb71-806ed77740f6"
      },
      "outputs": [],
      "source": [
        "ax = sns.countplot(data=data, x=\"OPTION_TYPE\", hue=\"buy_sell\")\n",
        "ax.title.set_text(\"Distribution of Buy / Sell indicator with regard to option type\")\n",
        "sns.move_legend(ax, \"lower center\", bbox_to_anchor=(0.5, -0.3))\n"
      ]
    },
    {
      "cell_type": "markdown",
      "metadata": {
        "id": "3pOzIcdrSjaU"
      },
      "source": [
        "#### By year"
      ]
    },
    {
      "cell_type": "code",
      "execution_count": null,
      "metadata": {
        "colab": {
          "base_uri": "https://localhost:8080/",
          "height": 0
        },
        "id": "L1rT2d3m2-8L",
        "outputId": "55b3cb6d-f987-45ca-b13f-f0edf634365d"
      },
      "outputs": [],
      "source": [
        "ax = sns.countplot(data=data, x=\"year_binned\", hue=\"buy_sell\")\n",
        "ax.title.set_text(\"Distribution of Buy / Sell indicator with regard to year (binned)\")\n",
        "ax.set_xticklabels(ax.get_xticklabels(), rotation=40, ha=\"center\")\n",
        "plt.tight_layout()\n",
        "plt.show()\n"
      ]
    },
    {
      "cell_type": "markdown",
      "metadata": {
        "id": "LO_Y_3LlSoOq"
      },
      "source": [
        "#### By time time to maturity"
      ]
    },
    {
      "cell_type": "code",
      "execution_count": null,
      "metadata": {
        "colab": {
          "base_uri": "https://localhost:8080/",
          "height": 0
        },
        "id": "mhZopwr-4ITf",
        "outputId": "978a9f2a-92d6-42ed-8465-65070e8d7a3e"
      },
      "outputs": [],
      "source": [
        "ax = sns.countplot(data=data, x=\"ttm_binned\", hue=\"buy_sell\")\n",
        "ax.title.set_text(\n",
        "    \"Distribution of Buy / Sell indicator with regard to time to maturity (binned)\"\n",
        ")\n",
        "ax.set_xticklabels(ax.get_xticklabels(), rotation=40, ha=\"center\")\n",
        "plt.tight_layout()\n",
        "plt.show()\n"
      ]
    },
    {
      "cell_type": "code",
      "execution_count": null,
      "metadata": {
        "colab": {
          "base_uri": "https://localhost:8080/",
          "height": 0
        },
        "id": "vCaz459vUzIM",
        "outputId": "2d9d390b-9620-41c7-d4cb-c68d6b540619"
      },
      "outputs": [],
      "source": [
        "ax = sns.scatterplot(data=sample, x=\"ttm\", y=\"bid_ex\", hue=\"OPTION_TYPE\")\n",
        "ax.title.set_text(\"Scatter plot of time to maturity (months) and bid (ex)\")\n"
      ]
    },
    {
      "cell_type": "code",
      "execution_count": null,
      "metadata": {
        "colab": {
          "base_uri": "https://localhost:8080/",
          "height": 0
        },
        "id": "fkEKGH4-RDHc",
        "outputId": "7930d7b5-57c6-41bb-ce6b-ce8c5d121aa6"
      },
      "outputs": [],
      "source": [
        "ax = sns.histplot(data=data[data[\"bid_ex\"] == 0.0], x=\"ttm\", bins=50)  # type: ignore\n",
        "ax.title.set_text(\"Count of transactions with regard to time to maturity (months)\")\n"
      ]
    },
    {
      "cell_type": "code",
      "execution_count": null,
      "metadata": {
        "colab": {
          "base_uri": "https://localhost:8080/",
          "height": 0
        },
        "id": "YNF09VisR6ox",
        "outputId": "af42d9d3-5d9c-4e99-dc74-416b32991ef6"
      },
      "outputs": [],
      "source": [
        "# TODO: ask of zero plausible?\n",
        "sns.histplot(data=data[data[\"ask_ex\"] == 0.0], x=\"ttm\", bins=50)  # type: ignore\n"
      ]
    },
    {
      "cell_type": "markdown",
      "metadata": {
        "id": "VKOYYMjdSwmq"
      },
      "source": [
        "#### Over time"
      ]
    },
    {
      "cell_type": "code",
      "execution_count": null,
      "metadata": {
        "colab": {
          "base_uri": "https://localhost:8080/",
          "height": 0
        },
        "id": "gR6c5UUC3WHf",
        "outputId": "5eb43d24-e3e8-4a96-ca78-7068b92cd5d3"
      },
      "outputs": [],
      "source": [
        "trades_over_time = (\n",
        "    data.groupby(data[\"date\"])[\"buy_sell\"].value_counts().unstack(fill_value=0)\n",
        ")\n",
        "ax = trades_over_time.plot(\n",
        "    kind=\"line\",\n",
        "    figsize=ratio,\n",
        "    title=\"buy / sell count over time\",\n",
        "    xlabel=\"date\",\n",
        "    ylabel=\"sell (-1) / buy (1)\",\n",
        ")\n",
        "plot_recessions()\n",
        "ax.legend()\n",
        "plt.show()\n"
      ]
    },
    {
      "cell_type": "markdown",
      "metadata": {
        "id": "uNN4ksMGlTQm"
      },
      "source": [
        "### $n$ most frequent symbols, indices, and special codes 🔢"
      ]
    },
    {
      "cell_type": "code",
      "execution_count": null,
      "metadata": {
        "colab": {
          "base_uri": "https://localhost:8080/",
          "height": 726
        },
        "id": "qLVCUu8WOqGG",
        "outputId": "f6a79e71-1f9e-4d85-c42b-9ce6e6180dac"
      },
      "outputs": [],
      "source": [
        "most_frequent_symbols = data[\"ROOT\"].value_counts().head(N).reset_index(name=\"Count\")\n",
        "most_frequent_symbols.rename(columns={\"index\": \"Symbol\"}, inplace=True)\n",
        "\n",
        "ax = sns.barplot(data=most_frequent_symbols, x=\"Symbol\", y=\"Count\")\n",
        "ax.title.set_text(f\"{N} most frequently traded symbols\")\n",
        "\n",
        "most_frequent_symbols.head(N)\n"
      ]
    },
    {
      "cell_type": "code",
      "execution_count": null,
      "metadata": {
        "id": "balcupvypq5_"
      },
      "outputs": [],
      "source": [
        "list_freq_symbols = most_frequent_symbols.Symbol.tolist()\n"
      ]
    },
    {
      "cell_type": "code",
      "execution_count": null,
      "metadata": {
        "id": "vxI2kyFypzmb"
      },
      "outputs": [],
      "source": [
        "frequent_symbols_over_time = data[data[\"ROOT\"].isin(list_freq_symbols)]\n"
      ]
    },
    {
      "cell_type": "code",
      "execution_count": null,
      "metadata": {
        "id": "Ui_bSf3JrdjE"
      },
      "outputs": [],
      "source": [
        "frequent_symbols_trades_per_day = (\n",
        "    frequent_symbols_over_time.groupby(\n",
        "        [frequent_symbols_over_time.QUOTE_DATETIME.dt.to_period(\"m\"), \"ROOT\"]\n",
        "    )[\"TRADE_SIZE\"]\n",
        "    .count()\n",
        "    .reset_index()\n",
        "    .rename(columns={\"TRADE_SIZE\": \"count\", \"QUOTE_DATETIME\": \"date\", \"ROOT\": \"Symbol\"})\n",
        ")\n"
      ]
    },
    {
      "cell_type": "code",
      "execution_count": null,
      "metadata": {
        "id": "r9NQn8JojaHq"
      },
      "outputs": [],
      "source": [
        "frequent_symbols_over_time = (\n",
        "    frequent_symbols_trades_per_day.groupby([\"date\", \"Symbol\"])[\"count\"]\n",
        "    .first()\n",
        "    .unstack()\n",
        ")\n"
      ]
    },
    {
      "cell_type": "code",
      "execution_count": null,
      "metadata": {
        "colab": {
          "base_uri": "https://localhost:8080/",
          "height": 397
        },
        "id": "xKynCukCly3K",
        "outputId": "b3e77ca1-bc78-4d3e-aadd-5686dd45dc60"
      },
      "outputs": [],
      "source": [
        "frequent_symbols_over_time.plot(\n",
        "    kind=\"line\", title=f\"{N} most frequently traded underlyings over time\"\n",
        ")\n"
      ]
    },
    {
      "cell_type": "code",
      "execution_count": null,
      "metadata": {
        "colab": {
          "base_uri": "https://localhost:8080/",
          "height": 431
        },
        "id": "S-Kd5_JSOO6R",
        "outputId": "a3080250-c32a-4209-9c48-ae0cee18a099"
      },
      "outputs": [],
      "source": [
        "# TODO: investigate why there is no True group\n",
        "ax = sns.countplot(data=data, x=\"symbol_is_index\", hue=\"buy_sell\")\n",
        "ax.title.set_text(\n",
        "    \"Distribution of Buy / Sell indicator with regard to whether underlying is an index\"\n",
        ")\n",
        "sns.move_legend(ax, \"lower center\", bbox_to_anchor=(0.5, -0.3))\n"
      ]
    },
    {
      "cell_type": "code",
      "execution_count": null,
      "metadata": {
        "colab": {
          "base_uri": "https://localhost:8080/"
        },
        "id": "9ZPOB0DDPlaA",
        "outputId": "8d96cb47-c3c5-4c32-ead8-016675207e6a"
      },
      "outputs": [],
      "source": [
        "ratios_is_index = (\n",
        "    data.groupby([\"symbol_is_index\", \"buy_sell\"])[\"buy_sell\"].count()\n",
        "    / data.groupby([\"symbol_is_index\"])[\"buy_sell\"].count()\n",
        ")\n",
        "ratios_is_index.head()\n"
      ]
    },
    {
      "cell_type": "markdown",
      "metadata": {
        "id": "cvLHx_iNOtgo"
      },
      "source": [
        "**Observation:**\n",
        "- Feature can be important, as it's much more likely for trade to be sell, rather than buy, if and only if the underlying is no index option.\n",
        "- Difference isn't too pronounced and could be due to sampling effects."
      ]
    },
    {
      "cell_type": "code",
      "execution_count": null,
      "metadata": {
        "colab": {
          "base_uri": "https://localhost:8080/"
        },
        "id": "7cm4CSLELZLy",
        "outputId": "71bcb060-7c7c-4fd5-8c22-fbba461049fe"
      },
      "outputs": [],
      "source": [
        "data[\"issue_type\"].value_counts(dropna=False)\n"
      ]
    },
    {
      "cell_type": "code",
      "execution_count": null,
      "metadata": {
        "colab": {
          "base_uri": "https://localhost:8080/",
          "height": 380
        },
        "id": "hI-NvLxx_p1P",
        "outputId": "73b50f20-0f05-47a8-e3ba-91a31e8f87ff"
      },
      "outputs": [],
      "source": [
        "ax = sns.countplot(data=data, x=\"issue_type\")\n",
        "ax.title.set_text(\"No. of transactions by issue type\")\n",
        "ax.xaxis.label.set_text(\"issue type\")\n"
      ]
    },
    {
      "cell_type": "markdown",
      "metadata": {
        "id": "puN3bdGmUPLh"
      },
      "source": [
        "###  Ask and bid👨‍⚖️"
      ]
    },
    {
      "cell_type": "code",
      "execution_count": null,
      "metadata": {
        "colab": {
          "base_uri": "https://localhost:8080/",
          "height": 0
        },
        "id": "ObXgSwSxq2E_",
        "outputId": "c2c82a98-459f-4d72-8059-57df09b9fb03"
      },
      "outputs": [],
      "source": [
        "bid_ask_over_time = plot_time_series(\n",
        "    [\"bid_ex\", \"ask_ex\", \"BEST_ASK\", \"BEST_BID\"], \"mean\"\n",
        ")\n"
      ]
    },
    {
      "cell_type": "markdown",
      "metadata": {
        "id": "bS2PiyAl8XYP"
      },
      "source": [
        "#### Ask"
      ]
    },
    {
      "cell_type": "code",
      "execution_count": null,
      "metadata": {
        "colab": {
          "base_uri": "https://localhost:8080/",
          "height": 0
        },
        "id": "KwtMkQfIUPLi",
        "outputId": "b0786039-61b6-4d1a-a85a-1e3a21202baf"
      },
      "outputs": [],
      "source": [
        "ax = sns.histplot(data, x=\"ask_ex\", bins=50)  # type: ignore\n",
        "ax.title.set_text(\"Histogram of ask (exchange)\")\n"
      ]
    },
    {
      "cell_type": "markdown",
      "metadata": {
        "id": "MrinpS5KwhHX"
      },
      "source": [
        "**Observation:**\n",
        "* Distribution is highly skewed, try correction with $\\log$"
      ]
    },
    {
      "cell_type": "code",
      "execution_count": null,
      "metadata": {
        "colab": {
          "base_uri": "https://localhost:8080/",
          "height": 0
        },
        "id": "t9Od_ss68Uf7",
        "outputId": "99436c65-67e0-4d44-a57c-3de339c717f4"
      },
      "outputs": [],
      "source": [
        "data[\"log_ask_ex\"] = np.log1p(data[\"ask_ex\"])\n",
        "ax = sns.histplot(data, x=\"log_ask_ex\", bins=50)  # type: ignore\n",
        "ax.title.set_text(f\"Histogram of ask exchange (log1p)\")\n"
      ]
    },
    {
      "cell_type": "code",
      "execution_count": null,
      "metadata": {
        "colab": {
          "base_uri": "https://localhost:8080/",
          "height": 0
        },
        "id": "JHc4tuDw8UHG",
        "outputId": "32e524cc-7a3d-46dc-a44e-078a90b49923"
      },
      "outputs": [],
      "source": [
        "plot_kde_target(\"log_ask_ex\", clip=[0, 5])\n"
      ]
    },
    {
      "cell_type": "markdown",
      "metadata": {
        "id": "hneiYOS1whHY"
      },
      "source": [
        "**Observation:**\n",
        "* Applying a $\\log$ transform leads to a easily distinguishable distribution"
      ]
    },
    {
      "cell_type": "markdown",
      "metadata": {
        "id": "7jVN_izn8a43"
      },
      "source": [
        "#### Bid"
      ]
    },
    {
      "cell_type": "code",
      "execution_count": null,
      "metadata": {
        "colab": {
          "base_uri": "https://localhost:8080/",
          "height": 0
        },
        "id": "qap6DPAb8if7",
        "outputId": "5246143f-b87b-4873-c393-ca39795c01f7"
      },
      "outputs": [],
      "source": [
        "ax = sns.histplot(data, x=\"bid_ex\", bins=50)  # type: ignore\n",
        "ax.title.set_text(\"Histogram of bid (exchange)\")\n"
      ]
    },
    {
      "cell_type": "code",
      "execution_count": null,
      "metadata": {
        "colab": {
          "base_uri": "https://localhost:8080/",
          "height": 0
        },
        "id": "3w88oBOpUPLj",
        "outputId": "2a6bbbdf-7ec1-4dc2-f312-918520c80a25"
      },
      "outputs": [],
      "source": [
        "data[\"log_bid_ex\"] = np.log1p(data[\"bid_ex\"])\n",
        "ax = sns.histplot(data, x=\"log_bid_ex\", bins=50)  # type: ignore\n",
        "ax.title.set_text(f\"Histogram of bid exchange (log1p)\")\n"
      ]
    },
    {
      "cell_type": "code",
      "execution_count": null,
      "metadata": {
        "colab": {
          "base_uri": "https://localhost:8080/",
          "height": 0
        },
        "id": "hlsQokLcUPLj",
        "outputId": "7a8842a2-3561-4e4b-9ff0-3823670c0202"
      },
      "outputs": [],
      "source": [
        "plot_kde_target(\"log_bid_ex\", clip=[0, 5])\n"
      ]
    },
    {
      "cell_type": "code",
      "execution_count": null,
      "metadata": {
        "colab": {
          "base_uri": "https://localhost:8080/",
          "height": 0
        },
        "id": "_JBE-ymdUPLk",
        "outputId": "c2f0c913-def2-43cf-b7db-aa671bca7627"
      },
      "outputs": [],
      "source": [
        "data[\"log_bid_ex\"] = np.log1p(data[\"bid_ex\"])\n",
        "ax = sns.histplot(data, x=\"log_bid_ex\", bins=50)  # type: ignore\n",
        "ax.title.set_text(\"Histogram of bid exchange (log1p)\")\n"
      ]
    },
    {
      "cell_type": "code",
      "execution_count": null,
      "metadata": {
        "colab": {
          "base_uri": "https://localhost:8080/",
          "height": 0
        },
        "id": "biafaSUqUPLk",
        "outputId": "4ca80f51-4f62-4865-a4fb-462a61cad792"
      },
      "outputs": [],
      "source": [
        "plot_kde_target(\"log_bid_ex\", clip=[-5, 6])\n"
      ]
    },
    {
      "cell_type": "markdown",
      "metadata": {
        "id": "vesyvNMPUPLk"
      },
      "source": [
        "**Observation:**\n",
        "- One can choose different constants, but small constants, e. g., `const=1e-2` gives fuzzy, yet distributions that are easier to distinguish. Also note the higher correlation with the target. \n"
      ]
    },
    {
      "cell_type": "markdown",
      "metadata": {
        "id": "fnrbwIFTYHr_"
      },
      "source": [
        "**Observation:**\n",
        "- log on size seems to worsen results.\n",
        "- `TODO:` investigate further, what the reason is. e. g., how many outliers..."
      ]
    },
    {
      "cell_type": "markdown",
      "metadata": {
        "id": "UUbWmbEtS2Ve"
      },
      "source": [
        "# NaNs 🪲"
      ]
    },
    {
      "cell_type": "code",
      "execution_count": null,
      "metadata": {
        "id": "lYGJpMvzEhyc"
      },
      "outputs": [],
      "source": [
        "def visualize_nan():\n",
        "    \"\"\"\n",
        "    Visualize NaN values in a heatmap to learn about patterns.\n",
        "    \"\"\"\n",
        "    plt.subplots()\n",
        "    sns.heatmap(data.head(50).isnull(), cbar=False)\n",
        "    plt.xlabel(\"feature\")\n",
        "    plt.ylabel(\"row\")\n",
        "    plt.title(\"Missing values (colored in bright beige)\")\n",
        "    plt.show()\n"
      ]
    },
    {
      "cell_type": "code",
      "execution_count": null,
      "metadata": {
        "colab": {
          "base_uri": "https://localhost:8080/",
          "height": 491
        },
        "id": "glhx2wHHEtkU",
        "outputId": "7cb5466a-9ae4-4290-9661-2891530b3471"
      },
      "outputs": [],
      "source": [
        "visualize_nan()\n"
      ]
    },
    {
      "cell_type": "code",
      "execution_count": null,
      "metadata": {
        "colab": {
          "base_uri": "https://localhost:8080/",
          "height": 668
        },
        "id": "2JOoXJtHIKXE",
        "outputId": "440a42cc-c98e-4f89-e151-ffbc06b25b5a"
      },
      "outputs": [],
      "source": [
        "isna_vals = data.isna().sum().sort_values(ascending=False)\n",
        "isna_vals = isna_vals.loc[lambda x: x > 0]\n",
        "\n",
        "ax = isna_vals.T.plot(\n",
        "    kind=\"bar\",\n",
        "    figsize=ratio,\n",
        "    legend=False,\n",
        "    xlabel=\"No. of missing values\",\n",
        "    ylabel=\"feature\",\n",
        "    title=\"Missing values\",\n",
        ")\n"
      ]
    },
    {
      "cell_type": "code",
      "execution_count": null,
      "metadata": {
        "colab": {
          "base_uri": "https://localhost:8080/",
          "height": 588
        },
        "id": "swu5wGjNLZbF",
        "outputId": "36eac165-9bb2-40c5-cb7e-471f1deb005f"
      },
      "outputs": [],
      "source": [
        "isna_vals_over_time = (\n",
        "    data[isna_vals.index.tolist()]\n",
        "    .groupby(data[\"QUOTE_DATETIME\"].dt.date)\n",
        "    .agg(lambda x: x.isnull().sum())\n",
        ")\n",
        "isna_vals_over_time.plot(\n",
        "    kind=\"line\",\n",
        "    figsize=ratio,\n",
        "    title=\"Missing values over time\",\n",
        "    xlabel=\"Timestamp\",\n",
        "    ylabel=\"No. of missing values\",\n",
        ")\n"
      ]
    },
    {
      "cell_type": "code",
      "execution_count": null,
      "metadata": {
        "colab": {
          "base_uri": "https://localhost:8080/",
          "height": 654
        },
        "id": "Bk7kdwU0Nh9X",
        "outputId": "b939f8a4-e95c-4293-cc88-d3c5b684d0bf"
      },
      "outputs": [],
      "source": [
        "# adapted from: https://github.com/ResidentMario/missingno/blob/master/missingno/missingno.py\n",
        "\n",
        "isna_data = data.iloc[\n",
        "    :, [i for i, n in enumerate(np.var(data.isnull(), axis=\"rows\")) if n > 0]\n",
        "]\n",
        "\n",
        "corr_mat = isna_data.isnull().corr()\n",
        "mask = np.zeros_like(corr_mat)\n",
        "mask[np.triu_indices_from(mask)] = True\n",
        "\n",
        "fig, ax = plt.subplots(figsize=(9, 9))\n",
        "ax = sns.heatmap(corr_mat, mask=mask, annot=False, annot_kws={\"size\": 10}, ax=ax)\n",
        "ax.title.set_text(\"Correlation between missing features\")\n"
      ]
    },
    {
      "cell_type": "code",
      "execution_count": null,
      "metadata": {
        "id": "Dokt9B3BEvor"
      },
      "outputs": [],
      "source": [
        "# TODO: Check if there is a pattern between the missing values\n"
      ]
    },
    {
      "cell_type": "markdown",
      "metadata": {
        "id": "dXduwXBWwhHl"
      },
      "source": [
        "**Observation:**\n",
        "- Note that also important features like `price_all_lead` or `price_ex_lag` are missing. This has an impact, whether it is possible to calculate the classical rules like the trade rule. Consider this when reporting results.\n",
        "- Missing values become more of a problem towards the end of the data set. At the same time the number of trades also increases."
      ]
    },
    {
      "cell_type": "markdown",
      "metadata": {
        "id": "hB5ZELdNm8fG"
      },
      "source": [
        "# Correlations of engineered features 🎲"
      ]
    },
    {
      "cell_type": "markdown",
      "metadata": {
        "id": "Wq61_ag29Sxe"
      },
      "source": [
        "### Correlations 🎲"
      ]
    },
    {
      "cell_type": "code",
      "execution_count": null,
      "metadata": {
        "colab": {
          "base_uri": "https://localhost:8080/",
          "height": 482
        },
        "id": "WwYnaW2zwJ9e",
        "outputId": "83bdfcf7-cdac-4778-d82a-5a3b093195b7"
      },
      "outputs": [],
      "source": [
        "corr = data.corr()\n",
        "\n",
        "sns.heatmap(corr, xticklabels=corr.columns.values, yticklabels=corr.columns.values)  # type: ignore\n"
      ]
    },
    {
      "cell_type": "markdown",
      "metadata": {
        "id": "8KUisq6b5TeN"
      },
      "source": [
        "### Correlation with target 🎲"
      ]
    },
    {
      "cell_type": "code",
      "execution_count": null,
      "metadata": {
        "colab": {
          "base_uri": "https://localhost:8080/",
          "height": 1000
        },
        "id": "TeyU4_ev4gzx",
        "outputId": "b1b1ffb3-3892-4edb-9e43-e1f82761275c"
      },
      "outputs": [],
      "source": [
        "sort_criteria = corr[\"buy_sell\"].abs().sort_values(ascending=False)\n",
        "corr_target = corr.sort_values(\"buy_sell\", ascending=False)[\"buy_sell\"]\n",
        "corr_target.loc[sort_criteria.index].to_frame()\n"
      ]
    },
    {
      "cell_type": "code",
      "execution_count": null,
      "metadata": {
        "colab": {
          "base_uri": "https://localhost:8080/"
        },
        "id": "KP4WCZV54j_0",
        "outputId": "2752905f-55cb-4de0-ba30-83b9b70740be"
      },
      "outputs": [],
      "source": [
        "# adapted from here: https://www.kaggle.com/code/willkoehrsen/featuretools-for-good\n",
        "\n",
        "# Select upper triangle of correlation matrix\n",
        "upper = corr.where(np.triu(np.ones(corr.shape), k=1).astype(bool))\n",
        "\n",
        "# Find index of feature columns with correlation greater than 0.95\n",
        "to_drop = [column for column in upper.columns if any(abs(upper[column]) > 0.975)]\n",
        "\n",
        "print(to_drop)\n"
      ]
    },
    {
      "cell_type": "markdown",
      "metadata": {
        "id": "0DFHkf2rwhHn"
      },
      "source": [
        "**Observation:**\n",
        "- Newly engineered features have a high correlation with the target, which is positive. Investigate if the correlation is due to randomness or whether a pattern is observable.\n",
        "- `_ex` and `BEST_` features seem to be rather redundant, even if a high threshold for correlation is chosen."
      ]
    },
    {
      "cell_type": "markdown",
      "metadata": {
        "id": "1_T0SJq85dBz"
      },
      "source": [
        "### Collinearity of features🎲"
      ]
    },
    {
      "cell_type": "code",
      "execution_count": null,
      "metadata": {
        "colab": {
          "base_uri": "https://localhost:8080/"
        },
        "id": "2AzhGW0P4qf0",
        "outputId": "8987970c-424b-4e6a-8cf0-38904108e4b9"
      },
      "outputs": [],
      "source": [
        "# Set the threshold\n",
        "threshold = 0.975\n",
        "\n",
        "# Empty dictionary to hold correlated variables\n",
        "above_threshold_vars = {}\n",
        "\n",
        "# For each column, record the variables that are above the threshold\n",
        "for col in corr:\n",
        "    above_threshold_vars[col] = list(corr.index[corr[col] > threshold])\n",
        "\n",
        "pd.Series(above_threshold_vars)\n"
      ]
    },
    {
      "cell_type": "markdown",
      "metadata": {
        "id": "Si_KbJ4L9vXX"
      },
      "source": [
        "# Analyses of engineered features"
      ]
    },
    {
      "cell_type": "code",
      "execution_count": null,
      "metadata": {
        "colab": {
          "base_uri": "https://localhost:8080/",
          "height": 110
        },
        "id": "Ia0PqSQ1-Ky1",
        "outputId": "2539918c-099e-458a-c88d-c2390f8be6f4"
      },
      "outputs": [],
      "source": [
        "corr_target.loc[sort_criteria.index].to_frame().T\n"
      ]
    },
    {
      "cell_type": "markdown",
      "metadata": {
        "id": "8ZqYGILc-F35"
      },
      "source": [
        "### What works ✔️"
      ]
    },
    {
      "cell_type": "markdown",
      "metadata": {
        "id": "eqCs_1OnhisK"
      },
      "source": [
        "#### Trade price vs distance from mid to ask\n",
        "\n",
        "Similar to `EMO`, where the applied rule depends on whether the trade is at the ask or bid. Similarily `CLVN` uses percentage bounds e. g., $~20~\\%$ of spread."
      ]
    },
    {
      "cell_type": "code",
      "execution_count": null,
      "metadata": {
        "colab": {
          "base_uri": "https://localhost:8080/",
          "height": 483
        },
        "id": "A1y0c6y0hqtB",
        "outputId": "481e001f-18c9-412a-e6b7-ad77e7d3ddc2"
      },
      "outputs": [],
      "source": [
        "plot_kde_target(\"rel_ask_ex\", clip=[-2, 2])\n"
      ]
    },
    {
      "cell_type": "code",
      "execution_count": null,
      "metadata": {
        "colab": {
          "base_uri": "https://localhost:8080/",
          "height": 312
        },
        "id": "eblbyBtLh32U",
        "outputId": "d3d2056f-dbd2-4d1c-cf61-565e47e02dd8"
      },
      "outputs": [],
      "source": [
        "plot_kde_target_comparsion(\"rel_ask_ex\", years=[2006, 2010, 2013], clip=[-2, 2])\n"
      ]
    },
    {
      "cell_type": "markdown",
      "metadata": {
        "id": "Jc3nlqEai9aa"
      },
      "source": [
        "#### Depth\n",
        "\n",
        "Implicitly used in depth rule. Depth rule would assign a buy if `bid_ask_size_ratio_ex` is above one and a sell if it is below zero. But only used for mid-spread trades."
      ]
    },
    {
      "cell_type": "code",
      "execution_count": null,
      "metadata": {
        "colab": {
          "base_uri": "https://localhost:8080/",
          "height": 483
        },
        "id": "WugmHPe5jAXi",
        "outputId": "88ad1f87-f181-4046-8343-2b7bfd56dfc4"
      },
      "outputs": [],
      "source": [
        "plot_kde_target(\"bid_ask_size_ratio_ex\", clip=[0, 100])\n"
      ]
    },
    {
      "cell_type": "code",
      "execution_count": null,
      "metadata": {
        "colab": {
          "base_uri": "https://localhost:8080/",
          "height": 312
        },
        "id": "EelrGS3ijA2d",
        "outputId": "9f7ed148-30a3-4b98-fd34-4793002c9ce1"
      },
      "outputs": [],
      "source": [
        "plot_kde_target_comparsion(\n",
        "    \"bid_ask_size_ratio_ex\", years=[2006, 2010, 2013], clip=[0, 100]\n",
        ")\n"
      ]
    },
    {
      "cell_type": "markdown",
      "metadata": {
        "id": "La0E9-xeDznH"
      },
      "source": [
        "#### $\\log$ bid ex"
      ]
    },
    {
      "cell_type": "code",
      "execution_count": null,
      "metadata": {
        "colab": {
          "base_uri": "https://localhost:8080/",
          "height": 483
        },
        "id": "azwaPAaR-hMH",
        "outputId": "bf0804c1-98af-4d4a-cf4b-262aec0594b0"
      },
      "outputs": [],
      "source": [
        "plot_kde_target(\"log_bid_ex\")\n"
      ]
    },
    {
      "cell_type": "code",
      "execution_count": null,
      "metadata": {
        "colab": {
          "base_uri": "https://localhost:8080/",
          "height": 312
        },
        "id": "bD0Vrrue-3bI",
        "outputId": "4ee75235-d8bb-498c-ef75-b2f2e3264ffb"
      },
      "outputs": [],
      "source": [
        "plot_kde_target_comparsion(\"log_bid_ex\", years=[2006, 2010, 2013])\n"
      ]
    },
    {
      "cell_type": "markdown",
      "metadata": {
        "id": "nMDoG_7ZwhHu"
      },
      "source": [
        "**Observation:**\n",
        "- Application of the $\\log$ leads to highly differentiable distributions, that remain stable over time."
      ]
    },
    {
      "cell_type": "markdown",
      "metadata": {
        "id": "mAnyPoUuDvmW"
      },
      "source": [
        "#### $\\log$ trade price"
      ]
    },
    {
      "cell_type": "code",
      "execution_count": null,
      "metadata": {
        "colab": {
          "base_uri": "https://localhost:8080/",
          "height": 483
        },
        "id": "7UYh_BnU_MeW",
        "outputId": "b63f52f2-8cb7-4a8a-e7ea-fd477fcb9e2f"
      },
      "outputs": [],
      "source": [
        "plot_kde_target(\"log_trade_price\")\n"
      ]
    },
    {
      "cell_type": "code",
      "execution_count": null,
      "metadata": {
        "colab": {
          "base_uri": "https://localhost:8080/",
          "height": 312
        },
        "id": "83OwlI_H_X6e",
        "outputId": "4cdd3201-e5c4-4f1d-fcb8-4803e9f1e002"
      },
      "outputs": [],
      "source": [
        "plot_kde_target_comparsion(\"log_trade_price\", years=[2006, 2010, 2013])\n"
      ]
    },
    {
      "cell_type": "markdown",
      "metadata": {
        "id": "KNqBQJWwwhHv"
      },
      "source": [
        "**Observation:**\n",
        "- Application of the $\\log$ leads to highly differentiable distributions, that remain stable over time."
      ]
    },
    {
      "cell_type": "markdown",
      "metadata": {
        "id": "gpdek3I2DsIS"
      },
      "source": [
        "#### Ask size"
      ]
    },
    {
      "cell_type": "code",
      "execution_count": null,
      "metadata": {
        "colab": {
          "base_uri": "https://localhost:8080/",
          "height": 483
        },
        "id": "mhljYe2-_xlb",
        "outputId": "09a3635e-4b72-4a40-b115-fb0ea12cd12d"
      },
      "outputs": [],
      "source": [
        "plot_kde_target(\"ask_size_ex\", clip=[0, 2000])\n"
      ]
    },
    {
      "cell_type": "code",
      "execution_count": null,
      "metadata": {
        "colab": {
          "base_uri": "https://localhost:8080/",
          "height": 312
        },
        "id": "6WLZVYMTAISn",
        "outputId": "be7c6a21-90dd-452e-84d0-138cf699399f"
      },
      "outputs": [],
      "source": [
        "plot_kde_target_comparsion(\"ask_size_ex\", years=[2006, 2010, 2013], clip=[0, 2000])\n"
      ]
    },
    {
      "cell_type": "markdown",
      "metadata": {
        "id": "NC-jnOsVDo4b"
      },
      "source": [
        "#### Bid size"
      ]
    },
    {
      "cell_type": "code",
      "execution_count": null,
      "metadata": {
        "colab": {
          "base_uri": "https://localhost:8080/",
          "height": 483
        },
        "id": "7auGIaX5AtuF",
        "outputId": "baa2a426-cafa-40d7-b06b-77a66e6a3196"
      },
      "outputs": [],
      "source": [
        "plot_kde_target(\"bid_size_ex\", clip=[0, 1000])\n"
      ]
    },
    {
      "cell_type": "code",
      "execution_count": null,
      "metadata": {
        "colab": {
          "base_uri": "https://localhost:8080/",
          "height": 312
        },
        "id": "k4d6zmPJBbQe",
        "outputId": "35704d89-e3fa-416d-b52f-7d2ddb9a15ba"
      },
      "outputs": [],
      "source": [
        "plot_kde_target_comparsion(\"bid_size_ex\", years=[2006, 2010, 2013], clip=[0, 1000])\n"
      ]
    },
    {
      "cell_type": "markdown",
      "metadata": {
        "id": "VL6hJO_ADgrS"
      },
      "source": [
        "#### Quote rule"
      ]
    },
    {
      "cell_type": "code",
      "execution_count": null,
      "metadata": {
        "colab": {
          "base_uri": "https://localhost:8080/",
          "height": 483
        },
        "id": "y8nKJs-xCHvF",
        "outputId": "3dc5b391-a08a-4e1a-d656-4f12491f9910"
      },
      "outputs": [],
      "source": [
        "plot_kde_target(\"abs_mid_ex\", clip=[-0.5, 0.5])\n"
      ]
    },
    {
      "cell_type": "code",
      "execution_count": null,
      "metadata": {
        "colab": {
          "base_uri": "https://localhost:8080/",
          "height": 312
        },
        "id": "YkRp65M7CN7M",
        "outputId": "d794a933-afaf-4a62-906b-06d0b602c90b"
      },
      "outputs": [],
      "source": [
        "plot_kde_target_comparsion(\"abs_mid_ex\", years=[2006, 2010, 2013], clip=[-0.5, 0.5])\n"
      ]
    },
    {
      "cell_type": "markdown",
      "metadata": {
        "id": "xHh4GiFOwhHy"
      },
      "source": [
        "**Observation:**\n",
        "- Compared with tick rule or reverse tick rule, quote rule is the only classical rule, where distributions are somewhat distinguishable\n",
        "- On can clearly see that the quote rule works better at the beginning of the data set and its performance worsens over time."
      ]
    },
    {
      "cell_type": "markdown",
      "metadata": {
        "id": "JljvKUsVEL6H"
      },
      "source": [
        "#### Day of the month"
      ]
    },
    {
      "cell_type": "code",
      "execution_count": null,
      "metadata": {
        "colab": {
          "base_uri": "https://localhost:8080/",
          "height": 483
        },
        "id": "wvhCypnJD6_y",
        "outputId": "3d3f837b-e984-4f35-ab7b-d9c2e65968da"
      },
      "outputs": [],
      "source": [
        "plot_kde_target(\"day\")\n"
      ]
    },
    {
      "cell_type": "code",
      "execution_count": null,
      "metadata": {
        "colab": {
          "base_uri": "https://localhost:8080/",
          "height": 483
        },
        "id": "j2pP-JoWGT3a",
        "outputId": "c56c0913-eee4-429d-f94f-b5de49f683a8"
      },
      "outputs": [],
      "source": [
        "plot_kde_target(\"date_year_min\")\n"
      ]
    },
    {
      "cell_type": "markdown",
      "metadata": {
        "id": "GU6-LKPrGftY"
      },
      "source": [
        "**Observation:**\n",
        "* Judging from the plot there seems to be a seasonal pattern e. g., more buys \n",
        "at the beginning of the month and more sells towards the end of the month. \n",
        "* Due to the distributions it could make sense to include date features in some feature sets. But do not include in the most basic data set."
      ]
    },
    {
      "cell_type": "markdown",
      "metadata": {
        "id": "KDAoxtxJ-TkV"
      },
      "source": [
        "## What doesn't ❌"
      ]
    },
    {
      "cell_type": "markdown",
      "metadata": {
        "id": "vm-KQmTLFAhR"
      },
      "source": [
        "#### tick rule"
      ]
    },
    {
      "cell_type": "code",
      "execution_count": null,
      "metadata": {
        "colab": {
          "base_uri": "https://localhost:8080/",
          "height": 483
        },
        "id": "HgyVpqkhAn2A",
        "outputId": "176eaa7d-5bc1-42a1-d74e-324e6b034bc7"
      },
      "outputs": [],
      "source": [
        "plot_kde_target(\"chg_lead_ex\", clip=[-5, 5])\n"
      ]
    },
    {
      "cell_type": "code",
      "execution_count": null,
      "metadata": {
        "colab": {
          "base_uri": "https://localhost:8080/",
          "height": 312
        },
        "id": "QjY46fg-Fn4q",
        "outputId": "914c510b-a3fc-488c-c36e-1f492220397a"
      },
      "outputs": [],
      "source": [
        "plot_kde_target_comparsion(\"chg_lead_ex\", years=[2006, 2010, 2013], clip=[-5, 5])\n"
      ]
    },
    {
      "cell_type": "markdown",
      "metadata": {
        "id": "s_60zom2whH1"
      },
      "source": [
        "**Observation:**\n",
        "- Distributions are hardly distinguishable. \n",
        "- Results seem to worsen over time, which is consistent to the observations of Grauer et. al."
      ]
    },
    {
      "cell_type": "markdown",
      "metadata": {
        "id": "Vc3gKTf7FHID"
      },
      "source": [
        "#### reverse tick rule"
      ]
    },
    {
      "cell_type": "code",
      "execution_count": null,
      "metadata": {
        "colab": {
          "base_uri": "https://localhost:8080/",
          "height": 0
        },
        "id": "V-XTdok0FKJw",
        "outputId": "b34d87e9-f49e-428f-cb0c-6edec05dd224"
      },
      "outputs": [],
      "source": [
        "plot_kde_target_comparsion(\"chg_lag_ex\", years=[2006, 2010, 2013], clip=[-5, 5])\n"
      ]
    },
    {
      "cell_type": "code",
      "execution_count": null,
      "metadata": {
        "colab": {
          "base_uri": "https://localhost:8080/",
          "height": 0
        },
        "id": "1egDxKiVF3x_",
        "outputId": "8b65ede4-13f4-49b4-bf0f-7ab92c4cd747"
      },
      "outputs": [],
      "source": [
        "plot_kde_target_comparsion(\"chg_lag_ex\", years=[2006, 2010, 2013], clip=[-5, 5])\n"
      ]
    },
    {
      "cell_type": "markdown",
      "metadata": {
        "id": "d7F0yjcxwhH2"
      },
      "source": [
        "**Observation:**\n",
        "- Distributions are hardly distinguishable. \n",
        "- Results worsen over time."
      ]
    },
    {
      "cell_type": "markdown",
      "metadata": {
        "id": "wlNFddp8T4X1"
      },
      "source": [
        "# Impact of scaling 🔢"
      ]
    },
    {
      "cell_type": "code",
      "execution_count": null,
      "metadata": {
        "colab": {
          "base_uri": "https://localhost:8080/",
          "height": 483
        },
        "id": "mCid1bvHUPuu",
        "outputId": "8ab03c1e-5a97-46f4-ffca-148c2eb4b0ac"
      },
      "outputs": [],
      "source": [
        "plot_kde_target(\"log_bid_ex\", clip=[-5, 8])\n"
      ]
    },
    {
      "cell_type": "code",
      "execution_count": null,
      "metadata": {
        "id": "UY_U1fSnU9w-"
      },
      "outputs": [],
      "source": [
        "data.replace([np.inf, -np.inf], np.nan, inplace=True)\n"
      ]
    },
    {
      "cell_type": "code",
      "execution_count": null,
      "metadata": {
        "id": "7DuDX2elUTE7"
      },
      "outputs": [],
      "source": [
        "scaler = StandardScaler()\n",
        "data[\"log_bid_ex_scaled\"] = scaler.fit_transform(\n",
        "    X=data[\"log_bid_ex\"].values.reshape(-1, 1)\n",
        ")\n"
      ]
    },
    {
      "cell_type": "code",
      "execution_count": null,
      "metadata": {
        "colab": {
          "base_uri": "https://localhost:8080/"
        },
        "id": "zsdRVJVTWGUe",
        "outputId": "3e0aa23d-c651-4c14-a55b-a5e7d625d9b6"
      },
      "outputs": [],
      "source": [
        "data[\"log_bid_ex_scaled\"].describe()\n"
      ]
    },
    {
      "cell_type": "code",
      "execution_count": null,
      "metadata": {
        "colab": {
          "base_uri": "https://localhost:8080/",
          "height": 483
        },
        "id": "cJVUGKqMUjWY",
        "outputId": "68f48192-46e5-42c7-ab8d-d235d2da6f09"
      },
      "outputs": [],
      "source": [
        "plot_kde_target(\"log_bid_ex_scaled\", clip=[-5, 5])\n"
      ]
    },
    {
      "cell_type": "code",
      "execution_count": null,
      "metadata": {
        "id": "H9idngk2J7qA"
      },
      "outputs": [],
      "source": [
        "del data\n"
      ]
    },
    {
      "cell_type": "markdown",
      "metadata": {
        "id": "60o0lQs6RS0m"
      },
      "source": [
        "# Cross-validation⛑️"
      ]
    },
    {
      "cell_type": "code",
      "execution_count": null,
      "metadata": {
        "id": "MJ0BUK3jkmdb"
      },
      "outputs": [],
      "source": [
        "oe_option_type = OrdinalEncoder(\n",
        "    unknown_value=-1, dtype=int, handle_unknown=\"use_encoded_value\"\n",
        ")\n",
        "oe_root = OrdinalEncoder(\n",
        "    unknown_value=-1, dtype=int, handle_unknown=\"use_encoded_value\"\n",
        ")\n",
        "oe_issue_type = OrdinalEncoder(\n",
        "    unknown_value=-1, dtype=int, handle_unknown=\"use_encoded_value\"\n",
        ")\n"
      ]
    },
    {
      "cell_type": "code",
      "execution_count": null,
      "metadata": {
        "id": "r5NCpF3z9P5b"
      },
      "outputs": [],
      "source": [
        "def transform(data: pd.DataFrame) -> Tuple[pd.DataFrame, pd.Series]:\n",
        "\n",
        "    # date features\n",
        "    x = pd.DataFrame(\n",
        "        data={\"date_year\": data[\"QUOTE_DATETIME\"].dt.year}, index=data.index\n",
        "    )\n",
        "\n",
        "    x[\"date_month_sin\"] = np.sin(2 * np.pi * data[\"QUOTE_DATETIME\"].dt.year / 12)\n",
        "    x[\"date_month_cos\"] = np.cos(2 * np.pi * data[\"QUOTE_DATETIME\"].dt.year / 12)\n",
        "\n",
        "    seconds_in_day = 24 * 60 * 60\n",
        "    seconds = (\n",
        "        data[\"QUOTE_DATETIME\"] - data[\"QUOTE_DATETIME\"].dt.normalize()\n",
        "    ).dt.total_seconds()\n",
        "\n",
        "    x[\"date_time_sin\"] = np.sin(2 * np.pi * seconds / seconds_in_day)\n",
        "    x[\"date_time_cos\"] = np.cos(2 * np.pi * seconds / seconds_in_day)\n",
        "\n",
        "    # option features\n",
        "    x[\"ttm\"] = (\n",
        "        data[\"EXPIRATION\"].dt.to_period(\"M\") - data[\"QUOTE_DATETIME\"].dt.to_period(\"M\")\n",
        "    ).apply(lambda x: x.n)\n",
        "    x[[\"myn\", \"day_vol\"]] = data[[\"myn\", \"day_vol\"]]\n",
        "    x[\"log_strk_prc\"] = np.log1p(data[\"STRK_PRC\"])\n",
        "\n",
        "    # binarize\n",
        "    # \"bin_OPTION_TYPE\", \"bin_issue_type\", \"bin_ROOT\",\n",
        "\n",
        "    # size features\n",
        "    x[\"bid_ask_size_ratio_ex\"] = data[\"bid_size_ex\"] / data[\"ask_size_ex\"]\n",
        "    x[\"rel_bid_size_ex\"] = data[\"TRADE_SIZE\"] / data[\"bid_size_ex\"]\n",
        "    x[\"rel_ask_size_ex\"] = data[\"TRADE_SIZE\"] / data[\"ask_size_ex\"]\n",
        "    x[[\"TRADE_SIZE\", \"bid_size_ex\", \"ask_size_ex\"]] = data[\n",
        "        [\"TRADE_SIZE\", \"bid_size_ex\", \"ask_size_ex\"]\n",
        "    ]\n",
        "\n",
        "    # classical\n",
        "    mid_ex = 0.5 * (data[\"ask_ex\"] + data[\"bid_ex\"])\n",
        "    mid_best = 0.5 * (data[\"BEST_ASK\"] + data[\"BEST_BID\"])\n",
        "    x[\"rel_ask_ex\"] = (data[\"TRADE_PRICE\"] - mid_ex) / (data[\"ask_ex\"] - mid_ex)\n",
        "    x[\"rel_bid_ex\"] = (mid_ex - data[\"TRADE_PRICE\"]) / (mid_ex - data[\"bid_ex\"])\n",
        "    x[\"BEST_rel_bid\"] = (data[\"TRADE_PRICE\"] - mid_best) / (data[\"BEST_ASK\"] - mid_best)\n",
        "    x[\"BEST_rel_ask\"] = (mid_best - data[\"TRADE_PRICE\"]) / (mid_best - data[\"BEST_BID\"])\n",
        "    x[\"bid_ask_ratio_ex\"] = data[\"bid_ex\"] / data[\"ask_ex\"]\n",
        "\n",
        "    x[\"chg_ex_lead\"] = data[\"TRADE_PRICE\"] - data[\"price_ex_lead\"]\n",
        "    x[\"chg_ex_lag\"] = data[\"TRADE_PRICE\"] - data[\"price_ex_lag\"]\n",
        "    x[\"chg_all_lead\"] = data[\"TRADE_PRICE\"] - data[\"price_all_lead\"]\n",
        "    x[\"chg_all_lag\"] = data[\"TRADE_PRICE\"] - data[\"price_all_lag\"]\n",
        "\n",
        "    x[\n",
        "        [\n",
        "            \"log_ask_ex\",\n",
        "            \"log_bid_ex\",\n",
        "            \"log_BEST_ASK\",\n",
        "            \"log_BEST_BID\",\n",
        "            \"log_trade_price\",\n",
        "            \"log_price_all_lag\",\n",
        "            \"log_price_all_lead\",\n",
        "            \"log_price_ex_lag\",\n",
        "            \"log_price_ex_lead\",\n",
        "        ]\n",
        "    ] = np.log1p(\n",
        "        data[\n",
        "            [\n",
        "                \"ask_ex\",\n",
        "                \"bid_ex\",\n",
        "                \"BEST_ASK\",\n",
        "                \"BEST_BID\",\n",
        "                \"TRADE_PRICE\",\n",
        "                \"price_all_lag\",\n",
        "                \"price_all_lead\",\n",
        "                \"price_ex_lag\",\n",
        "                \"price_ex_lead\",\n",
        "            ]\n",
        "        ]\n",
        "    )\n",
        "\n",
        "    # https://stackoverflow.com/questions/70727291/how-do-i-know-whether-a-sklearn-scaler-is-already-fitted-or-not\n",
        "\n",
        "    if not hasattr(oe_option_type, \"n_features_in_\"):\n",
        "        oe_option_type.fit(data[\"OPTION_TYPE\"].astype(str).values.reshape(-1, 1))\n",
        "    x[\"bin_option_type\"] = oe_option_type.transform(\n",
        "        data[\"OPTION_TYPE\"].astype(str).values.reshape(-1, 1)\n",
        "    )\n",
        "\n",
        "    if not hasattr(oe_root, \"n_features_in_\"):\n",
        "        oe_root.fit(data[\"ROOT\"].astype(str).values.reshape(-1, 1))\n",
        "    x[\"bin_root\"] = oe_root.transform(data[\"ROOT\"].astype(str).values.reshape(-1, 1))\n",
        "\n",
        "    if not hasattr(oe_issue_type, \"n_features_in_\"):\n",
        "        oe_issue_type.fit(data[\"issue_type\"].astype(str).values.reshape(-1, 1))\n",
        "    x[\"bin_issue_type\"] = oe_issue_type.transform(\n",
        "        data[\"issue_type\"].astype(str).values.reshape(-1, 1)\n",
        "    )\n",
        "\n",
        "    x.replace([np.inf, -np.inf], np.nan, inplace=True)\n",
        "\n",
        "    y = data[\"buy_sell\"]\n",
        "    return x, y\n"
      ]
    },
    {
      "cell_type": "code",
      "execution_count": null,
      "metadata": {
        "id": "I2AtIJTW5x94"
      },
      "outputs": [],
      "source": [
        "train = pd.read_parquet(\n",
        "    \"gs://thesis-bucket-option-trade-classification/data/preprocessed/train_set_extended_60.parquet\"\n",
        ")\n",
        "x_train, y_train = transform(train)\n",
        "\n",
        "del train\n"
      ]
    },
    {
      "cell_type": "code",
      "execution_count": null,
      "metadata": {
        "id": "koZ_6245-lIM"
      },
      "outputs": [],
      "source": [
        "val = pd.read_parquet(\n",
        "    \"gs://thesis-bucket-option-trade-classification/data/preprocessed/val_set_extended_20.parquet\"\n",
        ")\n",
        "x_val, y_val = transform(val)\n",
        "\n",
        "del val\n"
      ]
    },
    {
      "cell_type": "code",
      "execution_count": null,
      "metadata": {
        "id": "B_dIB3C7-s8r"
      },
      "outputs": [],
      "source": [
        "test = pd.read_parquet(\n",
        "    \"gs://thesis-bucket-option-trade-classification/data/preprocessed/test_set_extended_20.parquet\"\n",
        ")\n",
        "x_test, y_test = transform(test)\n",
        "\n",
        "del test\n"
      ]
    },
    {
      "cell_type": "code",
      "execution_count": null,
      "metadata": {
        "id": "Jc1yrYD7TsqB"
      },
      "outputs": [],
      "source": [
        "classical_features = [\n",
        "    \"BEST_rel_bid\",\n",
        "    \"BEST_rel_ask\",\n",
        "    \"rel_ask_ex\",\n",
        "    \"rel_bid_ex\",\n",
        "    \"bid_ask_ratio_ex\",\n",
        "    \"log_ask_ex\",\n",
        "    \"log_bid_ex\",\n",
        "    \"log_BEST_ASK\",\n",
        "    \"log_BEST_BID\",\n",
        "    \"chg_ex_lag\",\n",
        "    \"chg_ex_lead\",\n",
        "    \"chg_all_lag\",\n",
        "    \"chg_all_lead\",\n",
        "    \"log_trade_price\",\n",
        "    \"log_price_all_lag\",\n",
        "    \"log_price_all_lead\",\n",
        "    \"log_price_ex_lag\",\n",
        "    \"log_price_ex_lead\",\n",
        "]\n",
        "\n",
        "size_features = [\n",
        "    \"TRADE_SIZE\",\n",
        "    \"bid_ask_size_ratio_ex\",\n",
        "    \"rel_bid_size_ex\",\n",
        "    \"rel_ask_size_ex\",\n",
        "    \"bid_size_ex\",\n",
        "    \"ask_size_ex\",\n",
        "]\n",
        "option_features = [\n",
        "    \"bin_option_type\",\n",
        "    \"bin_issue_type\",\n",
        "    \"bin_root\",\n",
        "    \"myn\",\n",
        "    \"log_strk_prc\",\n",
        "    \"ttm\",\n",
        "    \"day_vol\",\n",
        "]\n",
        "date_features = [\n",
        "    \"date_time_cos\",\n",
        "    \"date_time_sin\",\n",
        "    \"date_month_cos\",\n",
        "    \"date_month_sin\",\n",
        "    \"date_year\",\n",
        "]\n",
        "\n",
        "cat_features = [\"bin_root\", \"bin_issue_type\", \"bin_option_type\"]\n"
      ]
    },
    {
      "cell_type": "code",
      "execution_count": null,
      "metadata": {
        "id": "uwtNdpvFCLmj"
      },
      "outputs": [],
      "source": [
        "def evaluate(\n",
        "    features: List[str], cat_features: Optional[List[str]]\n",
        ") -> Tuple[pd.DataFrame, pd.DataFrame, pd.DataFrame]:\n",
        "\n",
        "    params = {\n",
        "        \"od_type\": \"Iter\",\n",
        "        \"logging_level\": \"Silent\",\n",
        "        \"depth\": 8,\n",
        "        \"loss_function\": \"Logloss\",\n",
        "        \"task_type\": \"GPU\",\n",
        "        \"cat_features\": cat_features,\n",
        "        \"random_seed\": 42,\n",
        "    }\n",
        "\n",
        "    res = cross_validate(\n",
        "        CatBoostClassifier(**params),\n",
        "        x_train[features],\n",
        "        y_train,\n",
        "        cv=3,\n",
        "        return_estimator=True,\n",
        "    )\n",
        "    results_cv = pd.DataFrame(res[\"test_score\"], columns=[\"test_score_cv\"])\n",
        "    print(res)\n",
        "\n",
        "    oos = []\n",
        "    feature_importances = []\n",
        "    for i, model in enumerate(res[\"estimator\"]):\n",
        "\n",
        "        oos.append(\n",
        "            [\n",
        "                i,\n",
        "                model.score(x_train[features], y_train),\n",
        "                model.score(x_val[features], y_val),\n",
        "                model.score(x_test[features], y_test),\n",
        "            ]\n",
        "        )\n",
        "\n",
        "        feature_importance = model.get_feature_importance(prettified=True).add_prefix(\n",
        "            f\"fold_{i}_\"\n",
        "        )\n",
        "        feature_importances.append(feature_importance)\n",
        "\n",
        "    results_oos = pd.DataFrame(\n",
        "        data=oos, columns=[\"fold\", \"acc_train\", \"acc_val\", \"acc_test\"]\n",
        "    )\n",
        "    results_fi = pd.concat(feature_importances, axis=1)\n",
        "\n",
        "    return results_cv, results_oos, results_fi\n"
      ]
    },
    {
      "cell_type": "code",
      "execution_count": null,
      "metadata": {
        "colab": {
          "base_uri": "https://localhost:8080/"
        },
        "id": "jW_6nldIPmny",
        "outputId": "a62caeb7-b888-4e02-9f31-684b49f0274c"
      },
      "outputs": [],
      "source": [
        "results_cv, results_oos, results_fi = evaluate(classical_features, [])\n"
      ]
    },
    {
      "cell_type": "code",
      "execution_count": null,
      "metadata": {
        "colab": {
          "base_uri": "https://localhost:8080/",
          "height": 143
        },
        "id": "hVbszoC2QWvO",
        "outputId": "f4c8ca44-760c-4597-fa1c-7fa9493607e6"
      },
      "outputs": [],
      "source": [
        "results_cv\n"
      ]
    },
    {
      "cell_type": "code",
      "execution_count": null,
      "metadata": {
        "colab": {
          "base_uri": "https://localhost:8080/",
          "height": 143
        },
        "id": "q1GovnsAP1Zp",
        "outputId": "62f22903-41b8-4e25-82c2-1b95e1a9a15c"
      },
      "outputs": [],
      "source": [
        "results_oos\n"
      ]
    },
    {
      "cell_type": "code",
      "execution_count": null,
      "metadata": {
        "colab": {
          "base_uri": "https://localhost:8080/",
          "height": 614
        },
        "id": "rfCLBWI4Q0ol",
        "outputId": "1d4000ee-a023-4b06-e1b9-58ddf9b2c70c"
      },
      "outputs": [],
      "source": [
        "results_fi\n"
      ]
    },
    {
      "cell_type": "code",
      "execution_count": null,
      "metadata": {
        "colab": {
          "base_uri": "https://localhost:8080/"
        },
        "id": "7pKhIygQB6N8",
        "outputId": "b69b5a01-1269-47dc-a8ad-45b8bbf8203e"
      },
      "outputs": [],
      "source": [
        "results_cv, results_oos, results_fi = evaluate(\n",
        "    [*classical_features, *size_features], []\n",
        ")\n"
      ]
    },
    {
      "cell_type": "code",
      "execution_count": null,
      "metadata": {
        "colab": {
          "base_uri": "https://localhost:8080/",
          "height": 143
        },
        "id": "1GwuHPEZCBUf",
        "outputId": "2ef2e785-bb26-4b2b-ca51-a9043d011514"
      },
      "outputs": [],
      "source": [
        "results_cv\n"
      ]
    },
    {
      "cell_type": "code",
      "execution_count": null,
      "metadata": {
        "colab": {
          "base_uri": "https://localhost:8080/",
          "height": 143
        },
        "id": "eg0APGEcCF-Y",
        "outputId": "5fce7da6-e599-4bf5-d099-418cd083a8a2"
      },
      "outputs": [],
      "source": [
        "results_oos\n"
      ]
    },
    {
      "cell_type": "code",
      "execution_count": null,
      "metadata": {
        "colab": {
          "base_uri": "https://localhost:8080/",
          "height": 802
        },
        "id": "vjJ0r5P4CHO5",
        "outputId": "8ace8cec-c2fd-4e7b-c329-c34e86451369"
      },
      "outputs": [],
      "source": [
        "results_fi\n"
      ]
    },
    {
      "cell_type": "code",
      "execution_count": null,
      "metadata": {
        "colab": {
          "base_uri": "https://localhost:8080/"
        },
        "id": "CYig_w59CPii",
        "outputId": "fb19737e-5054-45d7-c3b7-2537501ee892"
      },
      "outputs": [],
      "source": [
        "results_cv, results_oos, results_fi = evaluate(\n",
        "    [*classical_features, *size_features, *date_features, *option_features],\n",
        "    cat_features,\n",
        ")\n"
      ]
    },
    {
      "cell_type": "code",
      "execution_count": null,
      "metadata": {
        "colab": {
          "base_uri": "https://localhost:8080/",
          "height": 143
        },
        "id": "0N0wdz83CTnD",
        "outputId": "40482a84-72c1-416f-eca5-7aec1c0f8dd4"
      },
      "outputs": [],
      "source": [
        "results_cv\n"
      ]
    },
    {
      "cell_type": "code",
      "execution_count": null,
      "metadata": {
        "colab": {
          "base_uri": "https://localhost:8080/",
          "height": 143
        },
        "id": "Vhw-JeLPDW1D",
        "outputId": "f613b490-efb8-4b6f-8a94-6d0d5766f0f0"
      },
      "outputs": [],
      "source": [
        "results_oos\n"
      ]
    },
    {
      "cell_type": "code",
      "execution_count": null,
      "metadata": {
        "colab": {
          "base_uri": "https://localhost:8080/",
          "height": 1000
        },
        "id": "Zp451jorEDpx",
        "outputId": "67cfa81e-1c5d-4441-88a2-797fdb17a842"
      },
      "outputs": [],
      "source": [
        "results_fi\n"
      ]
    },
    {
      "cell_type": "markdown",
      "metadata": {
        "id": "F781YhmiGY_u"
      },
      "source": [
        "# Conclusion 🔗\n",
        "\n",
        "**Observation:**\n",
        "- log \n",
        "- Features of Grauer et. al seem to work\n",
        "- Binning gives mixed results e. g., for trade size and ttm\n",
        "- Highly correlated columns don't matter \n",
        "\n",
        "- log on size seems to worsen results, but improves results for prices\n",
        "- `TODO:` investigate further, what the reason is. e. g., some skewness, but outliers...\n",
        "- `TODO:` investigate further, if there is an economic intuition behind it\n",
        "- Classical features have hardly any importance. But keep them for comparsion\n",
        "- Features of Grauer et. al seem to work\n",
        "- Binning gives mixed results e. g., for trade size and ttm\n",
        "- `TODO:` update [feature proposal](https://github.com/KarelZe/thesis/blob/main/references/obsidian/%F0%9F%8D%ACImplementation/%F0%9F%A7%AAFeature%20Engineering/%F0%9F%A7%83Feature%20Sets.md) accordingly\n",
        "- `TODO:` Correlation is a common method for feature selection https://en.wikipedia.org/wiki/Feature_selection#Filter_method\n",
        "- `TODO:` Remove highly correlated columns if possible\n",
        "- `TODO:` Results are not suprising, when compared with feature importances of first gbm (taken from [this notebook](https://github.com/KarelZe/thesis/blob/d0e078a8030e1ba47b761b4a1abfc699a629ca0a/notebooks/3.0-mb-feature_engineering_baseline.ipynb)):\n"
      ]
    }
  ],
  "metadata": {
    "accelerator": "GPU",
    "colab": {
      "include_colab_link": true,
      "machine_shape": "hm",
      "name": "Untitled2.ipynb",
      "provenance": []
    },
    "gpuClass": "premium",
    "kernelspec": {
      "display_name": "Python 3.9.4 64-bit",
      "language": "python",
      "name": "python3"
    },
    "language_info": {
      "codemirror_mode": {
        "name": "ipython",
        "version": 3
      },
      "file_extension": ".py",
      "mimetype": "text/x-python",
      "name": "python",
      "nbconvert_exporter": "python",
      "pygments_lexer": "ipython3",
      "version": "3.9.4"
    },
    "vscode": {
      "interpreter": {
        "hash": "f8ea8b642289b706932f10b33ee389827410dbaef0ce2c5bf73615e8d3267d88"
      }
    }
  },
  "nbformat": 4,
  "nbformat_minor": 0
}
