{
  "cells": [
    {
      "cell_type": "code",
      "execution_count": 1,
      "metadata": {
        "id": "KqA-31WTmVb2"
      },
      "outputs": [],
      "source": [
        "import numpy as np\n",
        "import matplotlib as mpl\n",
        "import matplotlib.pyplot as plt\n",
        "from matplotlib import rc\n",
        "import torch\n",
        "import pandas as pd\n",
        "import matplotlib.dates as mdates\n"
      ]
    },
    {
      "cell_type": "code",
      "execution_count": 39,
      "metadata": {
        "id": "V_c4GpJmndXz"
      },
      "outputs": [],
      "source": [
        "params = {\n",
        "    \"pgf.texsystem\": \"xelatex\",\n",
        "    \"pgf.rcfonts\": False,\n",
        "    \"font.serif\": [],\n",
        "    \"font.sans-serif\": [],\n",
        "    \"axes.labelsize\": 11,\n",
        "}\n",
        "plt.rcParams.update(params)\n",
        "rc(\"text\", usetex=True)\n",
        "\n",
        "CM = 1 / 2.54\n",
        "cmap = plt.cm.get_cmap(\"viridis\")\n",
        "\n",
        "# plt.style.use(['science','nature'])\n",
        "\n",
        "# Bright color scheme\n",
        "# color-blind safe\n",
        "# from Paul Tot's website: https://personal.sron.nl/~pault/\n",
        "# Set color cycle\n",
        "# mpl.rcParams['axes.prop_cycle'] = mpl.cycler('color', ['4477AA', 'EE6677', '228833', 'CCBB44', '66CCEE', 'AA3377', 'BBBBBB'])\n",
        "\n",
        "\n",
        "# Standard SciencePlots color cycle\n",
        "mpl.rcParams['axes.prop_cycle'] =  mpl.cycler('color', ['0C5DA5', '00B945', 'FF9500', 'FF2C00', '845B97', '474747', '9e9e9e'])"
      ]
    },
    {
      "cell_type": "code",
      "execution_count": 3,
      "metadata": {},
      "outputs": [],
      "source": [
        "results_df = pd.read_csv(\"../data/results/learning_curves_gbm_default_params.csv\")\n",
        "train_sizes = results_df.start.abs()\n",
        "train_acc = results_df.train_acc\n",
        "val_acc = results_df.val_acc"
      ]
    },
    {
      "cell_type": "code",
      "execution_count": 62,
      "metadata": {},
      "outputs": [
        {
          "data": {
            "image/png": "[encoded data removed]",
            "text/plain": [
              "<Figure size 226.772x226.772 with 1 Axes>"
            ]
          },
          "metadata": {
            "needs_background": "light"
          },
          "output_type": "display_data"
        }
      ],
      "source": [
        "fig, ax = plt.subplots(figsize=(8*CM,8*CM))\n",
        "# ax.plot(x,y)\n",
        "\n",
        "ax.plot(train_sizes, train_acc,\".-\", label = 'Train', color = 'C3')\n",
        "ax.plot(train_sizes, val_acc,\".-\", label = 'Val', color=\"C0\")\n",
        "\n",
        "plt.ylabel('Accuracy') #, fontsize = \"small\")\n",
        "plt.xlabel('Number of Training Samples (Most Recent)') # , fontsize = \"small\")\n",
        "\n",
        "xmax = train_sizes[np.argmax(val_acc)]\n",
        "ymax = val_acc.max()\n",
        "    # text= \"x={:.3f}, y={:.3f}\".format(xmax, ymax)\n",
        "if not ax:\n",
        "    ax=plt.gca()\n",
        "\n",
        "ax.fill_between(\n",
        "        train_sizes,\n",
        "        train_acc + 0.03, # .mean(axis=1) - fit_times.std(axis=1),\n",
        "        train_acc - 0.05, # fit_times.mean(axis=1) + fit_times.std(axis=1),\n",
        "        alpha=0.3,\n",
        "        color=\"C3\",\n",
        ")\n",
        "\n",
        "ax.fill_between(\n",
        "        train_sizes,\n",
        "        val_acc + 0.05, # .mean(axis=1) - fit_times.std(axis=1),\n",
        "        val_acc - 0.05, # fit_times.mean(axis=1) + fit_times.std(axis=1),\n",
        "        alpha=0.3,\n",
        ")\n",
        "\n",
        "# bbox_props = dict(boxstyle=\"square,pad=0.3\", fc=\"w\", ec=\"k\", lw=0.72)\n",
        "# arrowprops=dict(arrowstyle=\"->\",connectionstyle=\"angle,angleA=0,angleB=60\")\n",
        "# kw = dict(xycoords='data',textcoords=\"axes fraction\",\n",
        "# arrowprops=arrowprops, bbox=bbox_props, ha=\"right\", va=\"top\")\n",
        "# ax.annotate(\"*\", xy=(xmax, ymax))#, xytext=(0.94,0.96),**kw)\n",
        "\n",
        "# max\n",
        "ax.plot(xmax, ymax, '*', color=\"black\")\n",
        "ax.text(xmax+0.01, ymax+0.01, f\"{ymax:.3f}\")\n",
        "#ax.ticklabel_format(useOffset=False, style='plain')\n",
        "ax.yaxis.set_major_formatter(mpl.ticker.StrMethodFormatter('{x:,.2f}'))\n",
        "\n",
        "ax.xaxis.set_major_formatter(mpl.ticker.StrMethodFormatter('{x:,.0f}'))\n",
        "# title = 'Learning curves for a ' + str(estimator).split('(')[0] + ' model'\n",
        "# plt.title(title, fontsize = 18, y = 1.03)\n",
        "plt.legend(loc='lower right', frameon=False)\n",
        "plt.ylim(0.6,1)\n",
        "# plt.show()\n",
        "plt.savefig(\"../reports/Graphs/learning-curves-gradient-boosting.pdf\", bbox_inches=\"tight\")"
      ]
    },
    {
      "cell_type": "code",
      "execution_count": 35,
      "metadata": {},
      "outputs": [],
      "source": [
        "def to_mpl(start: str, end: str):\n",
        "    mpl_start = mdates.date2num(pd.to_datetime(start))\n",
        "    mpl_end = mdates.date2num(pd.to_datetime(end))\n",
        "    return mpl_start, mpl_end - mpl_start\n"
      ]
    },
    {
      "cell_type": "code",
      "execution_count": 36,
      "metadata": {},
      "outputs": [],
      "source": [
        "def to_pos(span: tuple):\n",
        "    return span[0] + 0.5 * span[1]\n"
      ]
    },
    {
      "cell_type": "code",
      "execution_count": 64,
      "metadata": {},
      "outputs": [
        {
          "data": {
            "image/png": "[encoded data removed]",
            "text/plain": [
              "<Figure size 340.157x170.079 with 2 Axes>"
            ]
          },
          "metadata": {
            "needs_background": "light"
          },
          "output_type": "display_data"
        }
      ],
      "source": [
        "fig, (ax, bx) = plt.subplots(\n",
        "    2, 1, sharey=\"none\", sharex=\"col\", figsize=(12 * CM, 6 * CM)\n",
        ")\n",
        "\n",
        "# ise\n",
        "ax.broken_barh([to_mpl(\"2005-05-02\", \"2017-05-31\")], (1, 2.5), facecolors=\"#D6DCE5\")\n",
        "\n",
        "# ise pretraining\n",
        "span = [to_mpl(\"2012-10-23\", \"2013-10-24\")]\n",
        "ax.broken_barh(span, (2.5, 1), facecolors=\"C0\", edgecolor=\"black\", linewidth=0.8)\n",
        "\n",
        "ax.text(\n",
        "    x=to_pos(span[0]),\n",
        "    y=3,\n",
        "    s=\"train\",\n",
        "    ha=\"center\",\n",
        "    va=\"center\",\n",
        "    color=\"black\",\n",
        "    fontsize=\"small\",\n",
        ")\n",
        "\n",
        "spans = [\n",
        "    to_mpl(\"2005-05-02\", \"2013-10-24\"),\n",
        "    to_mpl(\"2013-10-25\", \"2015-11-05\"),\n",
        "    to_mpl(\"2015-11-06\", \"2017-05-31\"),\n",
        "]\n",
        "\n",
        "# ise supervised\n",
        "ax.broken_barh(\n",
        "    spans,\n",
        "    (1.2, 1),\n",
        "    facecolors=(\"C0\", \"C1\", \"C3\"),\n",
        "    edgecolor=\"black\",\n",
        "    linewidth=0.8,\n",
        ")\n",
        "\n",
        "# add text labels manually\n",
        "labels = [\"train\", \"val\", \"test\"]\n",
        "for i, s in enumerate(spans):\n",
        "    ax.text(\n",
        "        x=to_pos(s),\n",
        "        y=1.7,\n",
        "        s=labels[i],\n",
        "        ha=\"center\",\n",
        "        va=\"center\",\n",
        "        color=\"black\",\n",
        "        fontsize=\"small\",\n",
        "    )\n",
        "\n",
        "ax.xaxis_date()\n",
        "plt.setp(ax.get_xticklabels(), visible=True)\n",
        "\n",
        "# cboe\n",
        "bx.broken_barh([to_mpl(\"2011-01-01\", \"2017-10-31\")], (1, 5), facecolors=\"#D6DCE5\")\n",
        "\n",
        "# Modify y-axis tick labels\n",
        "bx.set_yticks([1.7, 3], labels=[\"CBOE Supervised\", \"CBOE Pretraining\"])\n",
        "\n",
        "ax.set_yticks([1.7, 3], labels=[\"ISE Supervised\", \"ISE Pretraining\"])\n",
        "\n",
        "ax.set_ylim(1, 3.7)\n",
        "bx.set_ylim(1, 3.7)\n",
        "\n",
        "# into to date\n",
        "bx.xaxis_date()\n",
        "\n",
        "plt.xlabel(\"Date\")\n",
        "\n",
        "# plt.show()\n",
        "plt.savefig(\"../reports/Graphs/train-test-split.pdf\", bbox_inches=\"tight\")\n"
      ]
    },
    {
      "cell_type": "code",
      "execution_count": 101,
      "metadata": {},
      "outputs": [
        {
          "name": "stdout",
          "output_type": "stream",
          "text": [
            "0.8\n"
          ]
        }
      ],
      "source": [
        "print(plt.rcParams[\"axes.linewidth\"])\n"
      ]
    },
    {
      "cell_type": "code",
      "execution_count": 5,
      "metadata": {},
      "outputs": [],
      "source": [
        "# code from https://d2l.ai/d2l-en.pdf\n",
        "def show_heatmaps(matrices, xlabel, ylabel, titles=None, figsize=(2.5, 2.5), cmap=cmap):\n",
        "    num_rows, num_cols, _, _ = matrices.shape\n",
        "    fig, axes = plt.subplots(\n",
        "        num_rows, num_cols, figsize=figsize, sharex=True, sharey=True, squeeze=False\n",
        "    )\n",
        "    for i, (row_axes, row_matrices) in enumerate(zip(axes, matrices)):\n",
        "        for j, (ax, matrix) in enumerate(zip(row_axes, row_matrices)):\n",
        "            pcm = ax.imshow(matrix.detach().numpy(), cmap=cmap)\n",
        "            if i == num_rows - 1:\n",
        "                ax.set_xlabel(xlabel)\n",
        "            if j == 0:\n",
        "                ax.set_ylabel(ylabel)\n",
        "            if titles:\n",
        "                ax.set_title(titles[j])\n",
        "    fig.colorbar(pcm, ax=axes)\n",
        "    plt.savefig(\"../reports/Graphs/attention-maps.pdf\", bbox_inches=\"tight\")\n"
      ]
    },
    {
      "cell_type": "code",
      "execution_count": 6,
      "metadata": {},
      "outputs": [
        {
          "data": {
            "image/png": "[encoded data removed]",
            "text/plain": [
              "<Figure size 340.157x170.079 with 9 Axes>"
            ]
          },
          "metadata": {
            "needs_background": "light"
          },
          "output_type": "display_data"
        }
      ],
      "source": [
        "# attention_weights = torch.eye(10).reshape((1, 1, 10, 10))\n",
        "attention_weights = torch.rand(size=(2, 4, 10, 10))\n",
        "show_heatmaps(\n",
        "    attention_weights, xlabel=\"Keys\", ylabel=\"Queries\", figsize=(12 * CM, 6 * CM)\n",
        ")\n"
      ]
    },
    {
      "cell_type": "code",
      "execution_count": 7,
      "metadata": {
        "id": "7LeO039jmYXY"
      },
      "outputs": [],
      "source": [
        "# Code from https://www.tensorflow.org/tutorials/text/transformer\n",
        "def get_angles(pos, i, d_model):\n",
        "    angle_rates = 1 / np.power(10000, (2 * (i // 2)) / np.float32(d_model))\n",
        "    return pos * angle_rates\n",
        "\n",
        "\n",
        "def positional_encoding(position, d_model):\n",
        "    angle_rads = get_angles(\n",
        "        np.arange(position)[:, np.newaxis], np.arange(d_model)[np.newaxis, :], d_model\n",
        "    )\n",
        "\n",
        "    # apply sin to even indices in the array; 2i\n",
        "    angle_rads[:, 0::2] = np.sin(angle_rads[:, 0::2])\n",
        "\n",
        "    # apply cos to odd indices in the array; 2i+1\n",
        "    angle_rads[:, 1::2] = np.cos(angle_rads[:, 1::2])\n",
        "\n",
        "    pos_encoding = angle_rads[np.newaxis, ...]\n",
        "\n",
        "    return pos_encoding\n"
      ]
    },
    {
      "cell_type": "code",
      "execution_count": 8,
      "metadata": {
        "colab": {
          "base_uri": "https://localhost:8080/",
          "height": 580
        },
        "id": "jXDCDLyhmhJ2",
        "outputId": "aef336ef-da01-4833-e5eb-856af7afca1b"
      },
      "outputs": [
        {
          "name": "stdout",
          "output_type": "stream",
          "text": [
            "(1, 64, 96)\n"
          ]
        },
        {
          "data": {
            "image/png": "[encoded data removed]",
            "text/plain": [
              "<Figure size 340.157x170.079 with 2 Axes>"
            ]
          },
          "metadata": {
            "needs_background": "light"
          },
          "output_type": "display_data"
        }
      ],
      "source": [
        "tokens = 64\n",
        "dimensions = 96\n",
        "\n",
        "\n",
        "pos_encoding = positional_encoding(tokens, dimensions)\n",
        "print(pos_encoding.shape)\n",
        "\n",
        "plt.figure(figsize=(12 * CM, 6 * CM))\n",
        "plt.pcolormesh(pos_encoding[0], cmap=cmap)\n",
        "plt.xlabel(\"Embedding dimension $d_e$\")\n",
        "plt.xlim((0, dimensions))\n",
        "plt.ylim((tokens, 0))\n",
        "plt.ylabel(\"token position $t$\")\n",
        "plt.colorbar()\n",
        "plt.savefig(\"../reports/Graphs/positional-encoding.pdf\", bbox_inches=\"tight\")\n"
      ]
    }
  ],
  "metadata": {
    "colab": {
      "authorship_tag": "ABX9TyMzakCmj4ncGOCn8/01TeqE",
      "provenance": []
    },
    "kernelspec": {
      "display_name": "Python 3",
      "language": "python",
      "name": "python3"
    },
    "language_info": {
      "codemirror_mode": {
        "name": "ipython",
        "version": 3
      },
      "file_extension": ".py",
      "mimetype": "text/x-python",
      "name": "python",
      "nbconvert_exporter": "python",
      "pygments_lexer": "ipython3",
      "version": "3.9.4"
    },
    "vscode": {
      "interpreter": {
        "hash": "f8ea8b642289b706932f10b33ee389827410dbaef0ce2c5bf73615e8d3267d88"
      }
    }
  },
  "nbformat": 4,
  "nbformat_minor": 0
}
