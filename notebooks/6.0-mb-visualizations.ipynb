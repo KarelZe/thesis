{
  "cells": [
    {
      "cell_type": "code",
      "execution_count": 2,
      "metadata": {
        "id": "KqA-31WTmVb2"
      },
      "outputs": [],
      "source": [
        "import numpy as np\n",
        "import matplotlib.pyplot as plt\n",
        "from matplotlib import rc\n",
        "import torch\n",
        "import pandas as pd\n",
        "import matplotlib.dates as mdates\n"
      ]
    },
    {
      "cell_type": "code",
      "execution_count": 3,
      "metadata": {
        "id": "V_c4GpJmndXz"
      },
      "outputs": [],
      "source": [
        "params = {\n",
        "    \"pgf.texsystem\": \"xelatex\",\n",
        "    \"pgf.rcfonts\": False,\n",
        "    \"font.serif\": [],\n",
        "    \"font.sans-serif\": [],\n",
        "    \"axes.labelsize\": 11,\n",
        "}\n",
        "plt.rcParams.update(params)\n",
        "rc(\"text\", usetex=True)\n",
        "\n",
        "CM = 1 / 2.54\n",
        "cmap = plt.cm.get_cmap(\"viridis\")"
      ]
    },
    {
      "cell_type": "code",
      "execution_count": 4,
      "metadata": {},
      "outputs": [],
      "source": [
        "def to_mpl(start: str, end: str):\n",
        "    mpl_start = mdates.date2num(pd.to_datetime(start))\n",
        "    mpl_end = mdates.date2num(pd.to_datetime(end))\n",
        "    return mpl_start, mpl_end - mpl_start\n"
      ]
    },
    {
      "cell_type": "code",
      "execution_count": 23,
      "metadata": {},
      "outputs": [
        {
          "data": {
            "image/png": "[encoded data removed]",
            "text/plain": [
              "<Figure size 340.157x170.079 with 2 Axes>"
            ]
          },
          "metadata": {
            "needs_background": "light"
          },
          "output_type": "display_data"
        }
      ],
      "source": [
        "fig, (ax, bx) = plt.subplots(2, 1,sharey=\"none\", sharex=\"col\", figsize=(12 * CM, 6 * CM))\n",
        "\n",
        "# ise\n",
        "ise_tot = [to_mpl(\"2005-05-02\", \"2017-05-31\")]\n",
        "ax.broken_barh(ise_tot, (1, 5), facecolors=\"#D6DCE5\")\n",
        "\n",
        "# ise semi\n",
        "ax.broken_barh([to_mpl(\"2012-10-23\", \"2013-10-24\")], (2.5, 1), facecolors=\"#EDAECD\",edgecolor='black', linewidth=0.8)\n",
        "\n",
        "ax.text(sum(ise_tot[0]) * 0.5 ,1, \"pretraining\", color = 'black')\n",
        "\n",
        "# print(foo.axes)\n",
        "\n",
        "# for idx,each_bar in enumerate(foo.axes.patches): \n",
        "#     print(each_bar)\n",
        "#     plt.text(each_bar.get_x() + each_bar.get_width() / 2.0, 20, \"pretraining\", color='red', ha='center', va='center', rotation='vertical')\n",
        "\n",
        "\n",
        "# ise supervised\n",
        "ax.broken_barh(\n",
        "    [\n",
        "        to_mpl(\"2005-05-02\", \"2013-10-24\"),\n",
        "        to_mpl(\"2013-10-25\", \"2015-11-05\"),\n",
        "        to_mpl(\"2015-11-06\", \"2017-05-31\"),\n",
        "    ],\n",
        "    (1.2, 1),\n",
        "    facecolors=(\"#A8D1EE\", \"#A9D18E\", \"#D2C3AE\"), edgecolor=\"black\",linewidth=0.8\n",
        ")\n",
        "ax.xaxis_date()\n",
        "plt.setp(ax.get_xticklabels(), visible=True)\n",
        "# CBOE\n",
        "# ax.broken_barh([(10, 50), (100, 20), (130, 10)], (20, 9),\n",
        "#                 facecolors=('tab:orange', 'tab:green', 'tab:red'))\n",
        "# cboe\n",
        "bx.broken_barh([to_mpl(\"2011-01-01\", \"2017-10-31\")], (1, 5),facecolors=\"#D6DCE5\")\n",
        "# ax.set_xlim(to_mpl(\"2005-01-01\", \"2018-12-31\"))\n",
        "# ax.set_xlabel('seconds since start')\n",
        "# Modify y-axis tick labels\n",
        "bx.set_yticks(\n",
        "    [1.7,3], labels=[\"CBOE Supervised\",\"CBOE Pretraining\"]\n",
        ") \n",
        "\n",
        "ax.set_yticks(\n",
        "    [1.7,3], labels=[\"ISE Supervised\",\"ISE Pretraining\"]\n",
        ") \n",
        "\n",
        "ax.set_ylim(1, 3.7)\n",
        "bx.set_ylim(1, 3.7)\n",
        "\n",
        "# into to date\n",
        "bx.xaxis_date()\n",
        "plt.show()\n",
        "\n",
        "\n",
        "# plt.savefig(\"../reports/Graphs/train-test-split.pdf\", bbox_inches=\"tight\")\n"
      ]
    },
    {
      "cell_type": "code",
      "execution_count": 101,
      "metadata": {},
      "outputs": [
        {
          "name": "stdout",
          "output_type": "stream",
          "text": [
            "0.8\n"
          ]
        }
      ],
      "source": [
        "print(plt.rcParams['axes.linewidth'] )"
      ]
    },
    {
      "cell_type": "code",
      "execution_count": 5,
      "metadata": {},
      "outputs": [],
      "source": [
        "# code from https://d2l.ai/d2l-en.pdf\n",
        "def show_heatmaps(matrices, xlabel, ylabel, titles=None, figsize=(2.5, 2.5), cmap=cmap):\n",
        "    num_rows, num_cols, _, _ = matrices.shape\n",
        "    fig, axes = plt.subplots(\n",
        "        num_rows, num_cols, figsize=figsize, sharex=True, sharey=True, squeeze=False\n",
        "    )\n",
        "    for i, (row_axes, row_matrices) in enumerate(zip(axes, matrices)):\n",
        "        for j, (ax, matrix) in enumerate(zip(row_axes, row_matrices)):\n",
        "            pcm = ax.imshow(matrix.detach().numpy(), cmap=cmap)\n",
        "            if i == num_rows - 1:\n",
        "                ax.set_xlabel(xlabel)\n",
        "            if j == 0:\n",
        "                ax.set_ylabel(ylabel)\n",
        "            if titles:\n",
        "                ax.set_title(titles[j])\n",
        "    fig.colorbar(pcm, ax=axes)\n",
        "    plt.savefig(\"../reports/Graphs/attention-maps.pdf\", bbox_inches=\"tight\")\n"
      ]
    },
    {
      "cell_type": "code",
      "execution_count": 6,
      "metadata": {},
      "outputs": [
        {
          "data": {
            "image/png": "[encoded data removed]",
            "text/plain": [
              "<Figure size 340.157x170.079 with 9 Axes>"
            ]
          },
          "metadata": {
            "needs_background": "light"
          },
          "output_type": "display_data"
        }
      ],
      "source": [
        "# attention_weights = torch.eye(10).reshape((1, 1, 10, 10))\n",
        "attention_weights = torch.rand(size=(2, 4, 10, 10))\n",
        "show_heatmaps(\n",
        "    attention_weights, xlabel=\"Keys\", ylabel=\"Queries\", figsize=(12 * CM, 6 * CM)\n",
        ")\n"
      ]
    },
    {
      "cell_type": "code",
      "execution_count": 7,
      "metadata": {
        "id": "7LeO039jmYXY"
      },
      "outputs": [],
      "source": [
        "# Code from https://www.tensorflow.org/tutorials/text/transformer\n",
        "def get_angles(pos, i, d_model):\n",
        "    angle_rates = 1 / np.power(10000, (2 * (i // 2)) / np.float32(d_model))\n",
        "    return pos * angle_rates\n",
        "\n",
        "\n",
        "def positional_encoding(position, d_model):\n",
        "    angle_rads = get_angles(\n",
        "        np.arange(position)[:, np.newaxis], np.arange(d_model)[np.newaxis, :], d_model\n",
        "    )\n",
        "\n",
        "    # apply sin to even indices in the array; 2i\n",
        "    angle_rads[:, 0::2] = np.sin(angle_rads[:, 0::2])\n",
        "\n",
        "    # apply cos to odd indices in the array; 2i+1\n",
        "    angle_rads[:, 1::2] = np.cos(angle_rads[:, 1::2])\n",
        "\n",
        "    pos_encoding = angle_rads[np.newaxis, ...]\n",
        "\n",
        "    return pos_encoding\n"
      ]
    },
    {
      "cell_type": "code",
      "execution_count": 8,
      "metadata": {
        "colab": {
          "base_uri": "https://localhost:8080/",
          "height": 580
        },
        "id": "jXDCDLyhmhJ2",
        "outputId": "aef336ef-da01-4833-e5eb-856af7afca1b"
      },
      "outputs": [
        {
          "name": "stdout",
          "output_type": "stream",
          "text": [
            "(1, 64, 96)\n"
          ]
        },
        {
          "data": {
            "image/png": "[encoded data removed]",
            "text/plain": [
              "<Figure size 340.157x170.079 with 2 Axes>"
            ]
          },
          "metadata": {
            "needs_background": "light"
          },
          "output_type": "display_data"
        }
      ],
      "source": [
        "tokens = 64\n",
        "dimensions = 96\n",
        "\n",
        "\n",
        "pos_encoding = positional_encoding(tokens, dimensions)\n",
        "print(pos_encoding.shape)\n",
        "\n",
        "plt.figure(figsize=(12 * CM, 6 * CM))\n",
        "plt.pcolormesh(pos_encoding[0], cmap=cmap)\n",
        "plt.xlabel(\"Embedding dimension $d_e$\")\n",
        "plt.xlim((0, dimensions))\n",
        "plt.ylim((tokens, 0))\n",
        "plt.ylabel(\"token position $t$\")\n",
        "plt.colorbar()\n",
        "plt.savefig(\"../reports/Graphs/positional-encoding.pdf\", bbox_inches=\"tight\")\n"
      ]
    }
  ],
  "metadata": {
    "colab": {
      "authorship_tag": "ABX9TyMzakCmj4ncGOCn8/01TeqE",
      "provenance": []
    },
    "kernelspec": {
      "display_name": "Python 3",
      "language": "python",
      "name": "python3"
    },
    "language_info": {
      "codemirror_mode": {
        "name": "ipython",
        "version": 3
      },
      "file_extension": ".py",
      "mimetype": "text/x-python",
      "name": "python",
      "nbconvert_exporter": "python",
      "pygments_lexer": "ipython3",
      "version": "3.9.4"
    },
    "vscode": {
      "interpreter": {
        "hash": "f8ea8b642289b706932f10b33ee389827410dbaef0ce2c5bf73615e8d3267d88"
      }
    }
  },
  "nbformat": 4,
  "nbformat_minor": 0
}
