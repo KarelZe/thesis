{
  "cells": [
    {
      "cell_type": "markdown",
      "metadata": {
        "id": "170uxVS5gwZl"
      },
      "source": [
        "Run `pip install .` first to install all dependencies."
      ]
    },
    {
      "cell_type": "code",
      "execution_count": 1,
      "metadata": {
        "colab": {
          "base_uri": "https://localhost:8080/"
        },
        "id": "Fc0zs5GkiZS2",
        "outputId": "06936fa9-fb50-45f3-f7f5-327c31043c30"
      },
      "outputs": [
        {
          "name": "stdout",
          "output_type": "stream",
          "text": [
            "Looking in indexes: https://pypi.org/simple, https://us-python.pkg.dev/colab-wheels/public/simple/\n",
            "Requirement already satisfied: gcsfs==2022.10.0 in /usr/local/lib/python3.7/dist-packages (2022.10.0)\n",
            "Requirement already satisfied: requests in /usr/local/lib/python3.7/dist-packages (from gcsfs==2022.10.0) (2.23.0)\n",
            "Requirement already satisfied: decorator>4.1.2 in /usr/local/lib/python3.7/dist-packages (from gcsfs==2022.10.0) (4.4.2)\n",
            "Requirement already satisfied: aiohttp!=4.0.0a0,!=4.0.0a1 in /usr/local/lib/python3.7/dist-packages (from gcsfs==2022.10.0) (3.8.3)\n",
            "Requirement already satisfied: google-auth>=1.2 in /usr/local/lib/python3.7/dist-packages (from gcsfs==2022.10.0) (2.14.1)\n",
            "Requirement already satisfied: google-cloud-storage in /usr/local/lib/python3.7/dist-packages (from gcsfs==2022.10.0) (2.5.0)\n",
            "Requirement already satisfied: google-auth-oauthlib in /usr/local/lib/python3.7/dist-packages (from gcsfs==2022.10.0) (0.4.6)\n",
            "Requirement already satisfied: fsspec==2022.10.0 in /usr/local/lib/python3.7/dist-packages (from gcsfs==2022.10.0) (2022.10.0)\n",
            "Requirement already satisfied: asynctest==0.13.0 in /usr/local/lib/python3.7/dist-packages (from aiohttp!=4.0.0a0,!=4.0.0a1->gcsfs==2022.10.0) (0.13.0)\n",
            "Requirement already satisfied: aiosignal>=1.1.2 in /usr/local/lib/python3.7/dist-packages (from aiohttp!=4.0.0a0,!=4.0.0a1->gcsfs==2022.10.0) (1.3.1)\n",
            "Requirement already satisfied: multidict<7.0,>=4.5 in /usr/local/lib/python3.7/dist-packages (from aiohttp!=4.0.0a0,!=4.0.0a1->gcsfs==2022.10.0) (6.0.2)\n",
            "Requirement already satisfied: typing-extensions>=3.7.4 in /usr/local/lib/python3.7/dist-packages (from aiohttp!=4.0.0a0,!=4.0.0a1->gcsfs==2022.10.0) (4.1.1)\n",
            "Requirement already satisfied: attrs>=17.3.0 in /usr/local/lib/python3.7/dist-packages (from aiohttp!=4.0.0a0,!=4.0.0a1->gcsfs==2022.10.0) (22.1.0)\n",
            "Requirement already satisfied: frozenlist>=1.1.1 in /usr/local/lib/python3.7/dist-packages (from aiohttp!=4.0.0a0,!=4.0.0a1->gcsfs==2022.10.0) (1.3.3)\n",
            "Requirement already satisfied: yarl<2.0,>=1.0 in /usr/local/lib/python3.7/dist-packages (from aiohttp!=4.0.0a0,!=4.0.0a1->gcsfs==2022.10.0) (1.8.1)\n",
            "Requirement already satisfied: charset-normalizer<3.0,>=2.0 in /usr/local/lib/python3.7/dist-packages (from aiohttp!=4.0.0a0,!=4.0.0a1->gcsfs==2022.10.0) (2.1.1)\n",
            "Requirement already satisfied: async-timeout<5.0,>=4.0.0a3 in /usr/local/lib/python3.7/dist-packages (from aiohttp!=4.0.0a0,!=4.0.0a1->gcsfs==2022.10.0) (4.0.2)\n",
            "Requirement already satisfied: rsa<5,>=3.1.4 in /usr/local/lib/python3.7/dist-packages (from google-auth>=1.2->gcsfs==2022.10.0) (4.9)\n",
            "Requirement already satisfied: pyasn1-modules>=0.2.1 in /usr/local/lib/python3.7/dist-packages (from google-auth>=1.2->gcsfs==2022.10.0) (0.2.8)\n",
            "Requirement already satisfied: six>=1.9.0 in /usr/local/lib/python3.7/dist-packages (from google-auth>=1.2->gcsfs==2022.10.0) (1.15.0)\n",
            "Requirement already satisfied: cachetools<6.0,>=2.0.0 in /usr/local/lib/python3.7/dist-packages (from google-auth>=1.2->gcsfs==2022.10.0) (5.2.0)\n",
            "Requirement already satisfied: pyasn1<0.5.0,>=0.4.6 in /usr/local/lib/python3.7/dist-packages (from pyasn1-modules>=0.2.1->google-auth>=1.2->gcsfs==2022.10.0) (0.4.8)\n",
            "Requirement already satisfied: idna>=2.0 in /usr/local/lib/python3.7/dist-packages (from yarl<2.0,>=1.0->aiohttp!=4.0.0a0,!=4.0.0a1->gcsfs==2022.10.0) (2.10)\n",
            "Requirement already satisfied: requests-oauthlib>=0.7.0 in /usr/local/lib/python3.7/dist-packages (from google-auth-oauthlib->gcsfs==2022.10.0) (1.3.1)\n",
            "Requirement already satisfied: oauthlib>=3.0.0 in /usr/local/lib/python3.7/dist-packages (from requests-oauthlib>=0.7.0->google-auth-oauthlib->gcsfs==2022.10.0) (3.2.2)\n",
            "Requirement already satisfied: urllib3!=1.25.0,!=1.25.1,<1.26,>=1.21.1 in /usr/local/lib/python3.7/dist-packages (from requests->gcsfs==2022.10.0) (1.24.3)\n",
            "Requirement already satisfied: chardet<4,>=3.0.2 in /usr/local/lib/python3.7/dist-packages (from requests->gcsfs==2022.10.0) (3.0.4)\n",
            "Requirement already satisfied: certifi>=2017.4.17 in /usr/local/lib/python3.7/dist-packages (from requests->gcsfs==2022.10.0) (2022.9.24)\n",
            "Requirement already satisfied: google-resumable-media>=2.3.2 in /usr/local/lib/python3.7/dist-packages (from google-cloud-storage->gcsfs==2022.10.0) (2.4.0)\n",
            "Requirement already satisfied: google-api-core!=2.0.*,!=2.1.*,!=2.2.*,!=2.3.0,<3.0.0dev,>=1.31.5 in /usr/local/lib/python3.7/dist-packages (from google-cloud-storage->gcsfs==2022.10.0) (2.8.2)\n",
            "Requirement already satisfied: google-cloud-core<3.0dev,>=2.3.0 in /usr/local/lib/python3.7/dist-packages (from google-cloud-storage->gcsfs==2022.10.0) (2.3.2)\n",
            "Requirement already satisfied: googleapis-common-protos<2.0dev,>=1.56.2 in /usr/local/lib/python3.7/dist-packages (from google-api-core!=2.0.*,!=2.1.*,!=2.2.*,!=2.3.0,<3.0.0dev,>=1.31.5->google-cloud-storage->gcsfs==2022.10.0) (1.56.4)\n",
            "Requirement already satisfied: protobuf<5.0.0dev,>=3.15.0 in /usr/local/lib/python3.7/dist-packages (from google-api-core!=2.0.*,!=2.1.*,!=2.2.*,!=2.3.0,<3.0.0dev,>=1.31.5->google-cloud-storage->gcsfs==2022.10.0) (3.19.6)\n",
            "Requirement already satisfied: google-crc32c<2.0dev,>=1.0 in /usr/local/lib/python3.7/dist-packages (from google-resumable-media>=2.3.2->google-cloud-storage->gcsfs==2022.10.0) (1.5.0)\n",
            "Looking in indexes: https://pypi.org/simple, https://us-python.pkg.dev/colab-wheels/public/simple/\n",
            "Requirement already satisfied: wandb==0.13.4 in /usr/local/lib/python3.7/dist-packages (0.13.4)\n",
            "Requirement already satisfied: GitPython>=1.0.0 in /usr/local/lib/python3.7/dist-packages (from wandb==0.13.4) (3.1.29)\n",
            "Requirement already satisfied: PyYAML in /usr/local/lib/python3.7/dist-packages (from wandb==0.13.4) (6.0)\n",
            "Requirement already satisfied: Click!=8.0.0,>=7.0 in /usr/local/lib/python3.7/dist-packages (from wandb==0.13.4) (7.1.2)\n",
            "Requirement already satisfied: setuptools in /usr/local/lib/python3.7/dist-packages (from wandb==0.13.4) (57.4.0)\n",
            "Requirement already satisfied: psutil>=5.0.0 in /usr/local/lib/python3.7/dist-packages (from wandb==0.13.4) (5.4.8)\n",
            "Requirement already satisfied: protobuf!=4.0.*,!=4.21.0,<5,>=3.12.0 in /usr/local/lib/python3.7/dist-packages (from wandb==0.13.4) (3.19.6)\n",
            "Requirement already satisfied: pathtools in /usr/local/lib/python3.7/dist-packages (from wandb==0.13.4) (0.1.2)\n",
            "Requirement already satisfied: requests<3,>=2.0.0 in /usr/local/lib/python3.7/dist-packages (from wandb==0.13.4) (2.23.0)\n",
            "Requirement already satisfied: shortuuid>=0.5.0 in /usr/local/lib/python3.7/dist-packages (from wandb==0.13.4) (1.0.11)\n",
            "Requirement already satisfied: six>=1.13.0 in /usr/local/lib/python3.7/dist-packages (from wandb==0.13.4) (1.15.0)\n",
            "Requirement already satisfied: setproctitle in /usr/local/lib/python3.7/dist-packages (from wandb==0.13.4) (1.3.2)\n",
            "Requirement already satisfied: promise<3,>=2.0 in /usr/local/lib/python3.7/dist-packages (from wandb==0.13.4) (2.3)\n",
            "Requirement already satisfied: docker-pycreds>=0.4.0 in /usr/local/lib/python3.7/dist-packages (from wandb==0.13.4) (0.4.0)\n",
            "Requirement already satisfied: sentry-sdk>=1.0.0 in /usr/local/lib/python3.7/dist-packages (from wandb==0.13.4) (1.9.0)\n",
            "Requirement already satisfied: gitdb<5,>=4.0.1 in /usr/local/lib/python3.7/dist-packages (from GitPython>=1.0.0->wandb==0.13.4) (4.0.9)\n",
            "Requirement already satisfied: typing-extensions>=3.7.4.3 in /usr/local/lib/python3.7/dist-packages (from GitPython>=1.0.0->wandb==0.13.4) (4.1.1)\n",
            "Requirement already satisfied: smmap<6,>=3.0.1 in /usr/local/lib/python3.7/dist-packages (from gitdb<5,>=4.0.1->GitPython>=1.0.0->wandb==0.13.4) (5.0.0)\n",
            "Requirement already satisfied: urllib3!=1.25.0,!=1.25.1,<1.26,>=1.21.1 in /usr/local/lib/python3.7/dist-packages (from requests<3,>=2.0.0->wandb==0.13.4) (1.24.3)\n",
            "Requirement already satisfied: certifi>=2017.4.17 in /usr/local/lib/python3.7/dist-packages (from requests<3,>=2.0.0->wandb==0.13.4) (2022.9.24)\n",
            "Requirement already satisfied: chardet<4,>=3.0.2 in /usr/local/lib/python3.7/dist-packages (from requests<3,>=2.0.0->wandb==0.13.4) (3.0.4)\n",
            "Requirement already satisfied: idna<3,>=2.5 in /usr/local/lib/python3.7/dist-packages (from requests<3,>=2.0.0->wandb==0.13.4) (2.10)\n",
            "Looking in indexes: https://pypi.org/simple, https://us-python.pkg.dev/colab-wheels/public/simple/\n",
            "Requirement already satisfied: fastparquet in /usr/local/lib/python3.7/dist-packages (0.8.1)\n",
            "Requirement already satisfied: numpy>=1.18 in /usr/local/lib/python3.7/dist-packages (from fastparquet) (1.21.6)\n",
            "Requirement already satisfied: cramjam>=2.3.0 in /usr/local/lib/python3.7/dist-packages (from fastparquet) (2.6.2)\n",
            "Requirement already satisfied: fsspec in /usr/local/lib/python3.7/dist-packages (from fastparquet) (2022.10.0)\n",
            "Requirement already satisfied: pandas>=1.1.0 in /usr/local/lib/python3.7/dist-packages (from fastparquet) (1.3.5)\n",
            "Requirement already satisfied: python-dateutil>=2.7.3 in /usr/local/lib/python3.7/dist-packages (from pandas>=1.1.0->fastparquet) (2.8.2)\n",
            "Requirement already satisfied: pytz>=2017.3 in /usr/local/lib/python3.7/dist-packages (from pandas>=1.1.0->fastparquet) (2022.6)\n",
            "Requirement already satisfied: six>=1.5 in /usr/local/lib/python3.7/dist-packages (from python-dateutil>=2.7.3->pandas>=1.1.0->fastparquet) (1.15.0)\n"
          ]
        }
      ],
      "source": [
        "!pip install gcsfs==2022.10.0\n",
        "!pip install wandb==0.13.4\n",
        "!pip install fastparquet"
      ]
    },
    {
      "cell_type": "code",
      "execution_count": 2,
      "metadata": {
        "id": "7WXF7w4VyVgG"
      },
      "outputs": [],
      "source": [
        "import pandas as pd\n",
        "\n",
        "import wandb\n",
        "\n",
        "from sklearn.preprocessing import MinMaxScaler\n"
      ]
    },
    {
      "cell_type": "code",
      "execution_count": 3,
      "metadata": {
        "colab": {
          "base_uri": "https://localhost:8080/",
          "height": 104
        },
        "id": "KftC_bFhgwZt",
        "outputId": "44d273ed-1b52-4ab9-8c7c-023c56ba0e1b"
      },
      "outputs": [
        {
          "name": "stderr",
          "output_type": "stream",
          "text": [
            "\u001b[34m\u001b[1mwandb\u001b[0m: Currently logged in as: \u001b[33mkarelze\u001b[0m (\u001b[33mfbv\u001b[0m). Use \u001b[1m`wandb login --relogin`\u001b[0m to force relogin\n"
          ]
        },
        {
          "data": {
            "text/html": [
              "wandb version 0.13.5 is available!  To upgrade, please run:\n",
              " $ pip install wandb --upgrade"
            ],
            "text/plain": [
              "<IPython.core.display.HTML object>"
            ]
          },
          "metadata": {},
          "output_type": "display_data"
        },
        {
          "data": {
            "text/html": [
              "Tracking run with wandb version 0.13.4"
            ],
            "text/plain": [
              "<IPython.core.display.HTML object>"
            ]
          },
          "metadata": {},
          "output_type": "display_data"
        },
        {
          "data": {
            "text/html": [
              "Run data is saved locally in <code>/content/wandb/run-20221118_121303-me4q3v00</code>"
            ],
            "text/plain": [
              "<IPython.core.display.HTML object>"
            ]
          },
          "metadata": {},
          "output_type": "display_data"
        },
        {
          "data": {
            "text/html": [
              "Syncing run <strong><a href=\"https://wandb.ai/fbv/thesis/runs/me4q3v00\" target=\"_blank\">smooth-thunder-182</a></strong> to <a href=\"https://wandb.ai/fbv/thesis\" target=\"_blank\">Weights & Biases</a> (<a href=\"https://wandb.me/run\" target=\"_blank\">docs</a>)<br/>"
            ],
            "text/plain": [
              "<IPython.core.display.HTML object>"
            ]
          },
          "metadata": {},
          "output_type": "display_data"
        }
      ],
      "source": [
        "name = \"classical_size_features_normalized\"\n",
        "\n",
        "# connect to weights and biases\n",
        "run = wandb.init(project=\"thesis\", job_type=\"dataset-creation\", entity=\"fbv\")\n",
        "\n",
        "dataset = wandb.Artifact(name=name, type=\"preprocessed_data\")\n"
      ]
    },
    {
      "cell_type": "code",
      "execution_count": 5,
      "metadata": {
        "id": "yJViJH1yl_S7"
      },
      "outputs": [],
      "source": [
        "# reduce number of imported cols due to memory issues\n",
        "columns = [\n",
        "    \"QUOTE_DATETIME\",\n",
        "    \"ROOT\",\n",
        "    \"EXPIRATION\",\n",
        "    \"STRK_PRC\",\n",
        "    \"OPTION_TYPE\",\n",
        "    \"TRADE_SIZE\",\n",
        "    \"TRADE_PRICE\",\n",
        "    \"BEST_BID\",\n",
        "    \"BEST_ASK\",\n",
        "    \"ask_ex\",\n",
        "    \"bid_ex\",\n",
        "    \"bid_size_ex\",\n",
        "    \"ask_size_ex\",\n",
        "    \"price_all_lead\",\n",
        "    \"price_all_lag\",\n",
        "    \"price_ex_lead\",\n",
        "    \"price_ex_lag\",\n",
        "    \"buy_sell\",\n",
        "]\n"
      ]
    },
    {
      "cell_type": "code",
      "execution_count": 6,
      "metadata": {
        "id": "WmXtH-PEqyQE"
      },
      "outputs": [],
      "source": [
        "train = pd.read_parquet(\n",
        "    f\"gs://thesis-bucket-option-trade-classification/data/preprocessed/train_set_extended_60.parquet\",\n",
        "    engine=\"fastparquet\",\n",
        "    columns=columns,\n",
        ")\n",
        "val = pd.read_parquet(\n",
        "    f\"gs://thesis-bucket-option-trade-classification/data/preprocessed/val_set_extended_20.parquet\",\n",
        "    engine=\"fastparquet\",\n",
        "    columns=columns,\n",
        ")\n",
        "test = pd.read_parquet(\n",
        "    f\"gs://thesis-bucket-option-trade-classification/data/preprocessed/test_set_extended_20.parquet\",\n",
        "    engine=\"fastparquet\",\n",
        "    columns=columns,\n",
        ")\n"
      ]
    },
    {
      "cell_type": "code",
      "execution_count": null,
      "metadata": {},
      "outputs": [],
      "source": [
        "# oe_option_type = OrdinalEncoder(\n",
        "#     unknown_value=-1, dtype=int, handle_unknown=\"use_encoded_value\"\n",
        "# )\n",
        "# oe_root = OrdinalEncoder(\n",
        "#     unknown_value=-1, dtype=int, handle_unknown=\"use_encoded_value\"\n",
        "# )\n",
        "# oe_issue_type = OrdinalEncoder(\n",
        "#     unknown_value=-1, dtype=int, handle_unknown=\"use_encoded_value\"\n",
        "# )\n",
        "\n",
        "min_max_scaler = MinMaxScaler(feature_range=[-1, 1])\n",
        "\n",
        "\n",
        "def transform(data: pd.DataFrame) -> pd.DataFrame:\n",
        "\n",
        "    # # date features\n",
        "    x = pd.DataFrame(data={\"TRADE_PRICE\": data[\"TRADE_PRICE\"]}, index=data.index)\n",
        "\n",
        "    # x[\"date_month_sin\"] = np.sin(2 * np.pi * data[\"QUOTE_DATETIME\"].dt.year / 12)\n",
        "    # x[\"date_month_cos\"] = np.cos(2 * np.pi * data[\"QUOTE_DATETIME\"].dt.year / 12)\n",
        "\n",
        "    # seconds_in_day = 24 * 60 * 60\n",
        "    # seconds = (\n",
        "    #     data[\"QUOTE_DATETIME\"] - data[\"QUOTE_DATETIME\"].dt.normalize()\n",
        "    # ).dt.total_seconds()\n",
        "\n",
        "    # x[\"date_time_sin\"] = np.sin(2 * np.pi * seconds / seconds_in_day)\n",
        "    # x[\"date_time_cos\"] = np.cos(2 * np.pi * seconds / seconds_in_day)\n",
        "\n",
        "    # option features\n",
        "    # x[\"ttm\"] = (\n",
        "    #     data[\"EXPIRATION\"].dt.to_period(\"M\") - data[\"QUOTE_DATETIME\"].dt.to_period(\"M\")\n",
        "    # ).apply(lambda x: x.n)\n",
        "    # x[[\"myn\", \"day_vol\"]] = data[[\"myn\", \"day_vol\"]]\n",
        "    # x[\"log_strk_prc\"] = np.log1p(data[\"STRK_PRC\"])\n",
        "\n",
        "    # binarize\n",
        "    # \"bin_OPTION_TYPE\", \"bin_issue_type\", \"bin_ROOT\",\n",
        "\n",
        "    # size features\n",
        "    x[\"bid_ask_size_ratio_ex\"] = data[\"bid_size_ex\"] / data[\"ask_size_ex\"]\n",
        "    x[\"rel_bid_size_ex\"] = data[\"TRADE_SIZE\"] / data[\"bid_size_ex\"]\n",
        "    x[\"rel_ask_size_ex\"] = data[\"TRADE_SIZE\"] / data[\"ask_size_ex\"]\n",
        "    x[[\"TRADE_SIZE\", \"bid_size_ex\", \"ask_size_ex\"]] = data[\n",
        "        [\"TRADE_SIZE\", \"bid_size_ex\", \"ask_size_ex\"]\n",
        "    ]\n",
        "\n",
        "    # classical\n",
        "    mid_ex = 0.5 * (data[\"ask_ex\"] + data[\"bid_ex\"])\n",
        "    mid_best = 0.5 * (data[\"BEST_ASK\"] + data[\"BEST_BID\"])\n",
        "    x[\"rel_ask_ex\"] = (data[\"TRADE_PRICE\"] - mid_ex) / (data[\"ask_ex\"] - mid_ex)\n",
        "    x[\"rel_bid_ex\"] = (mid_ex - data[\"TRADE_PRICE\"]) / (mid_ex - data[\"bid_ex\"])\n",
        "    x[\"BEST_rel_bid\"] = (data[\"TRADE_PRICE\"] - mid_best) / (data[\"BEST_ASK\"] - mid_best)\n",
        "    x[\"BEST_rel_ask\"] = (mid_best - data[\"TRADE_PRICE\"]) / (mid_best - data[\"BEST_BID\"])\n",
        "    x[\"bid_ask_ratio_ex\"] = data[\"bid_ex\"] / data[\"ask_ex\"]\n",
        "\n",
        "    x[\"chg_ex_lead\"] = data[\"TRADE_PRICE\"] - data[\"price_ex_lead\"]\n",
        "    x[\"chg_ex_lag\"] = data[\"TRADE_PRICE\"] - data[\"price_ex_lag\"]\n",
        "    x[\"chg_all_lead\"] = data[\"TRADE_PRICE\"] - data[\"price_all_lead\"]\n",
        "    x[\"chg_all_lag\"] = data[\"TRADE_PRICE\"] - data[\"price_all_lag\"]\n",
        "\n",
        "    # x[\n",
        "    #     [\n",
        "    #         \"log_ask_ex\",\n",
        "    #         \"log_bid_ex\",\n",
        "    #         \"log_BEST_ASK\",\n",
        "    #         \"log_BEST_BID\",\n",
        "    #         \"log_trade_price\",\n",
        "    #         \"log_price_all_lag\",\n",
        "    #         \"log_price_all_lead\",\n",
        "    #         \"log_price_ex_lag\",\n",
        "    #         \"log_price_ex_lead\",\n",
        "    #     ]\n",
        "    # ] = np.log1p(\n",
        "    #     data[\n",
        "    #         [\n",
        "    #             \"ask_ex\",\n",
        "    #             \"bid_ex\",\n",
        "    #             \"BEST_ASK\",\n",
        "    #             \"BEST_BID\",\n",
        "    #             \"TRADE_PRICE\",\n",
        "    #             \"price_all_lag\",\n",
        "    #             \"price_all_lead\",\n",
        "    #             \"price_ex_lag\",\n",
        "    #             \"price_ex_lead\",\n",
        "    #         ]\n",
        "    #     ]\n",
        "    # )\n",
        "\n",
        "    x[\n",
        "        [\n",
        "            \"ask_ex\",\n",
        "            \"bid_ex\",\n",
        "            \"BEST_ASK\",\n",
        "            \"BEST_BID\",\n",
        "            \"TRADE_PRICE\",\n",
        "            \"price_all_lag\",\n",
        "            \"price_all_lead\",\n",
        "            \"price_ex_lag\",\n",
        "            \"price_ex_lead\",\n",
        "        ]\n",
        "    ] = data[\n",
        "        [\n",
        "            \"ask_ex\",\n",
        "            \"bid_ex\",\n",
        "            \"BEST_ASK\",\n",
        "            \"BEST_BID\",\n",
        "            \"TRADE_PRICE\",\n",
        "            \"price_all_lag\",\n",
        "            \"price_all_lead\",\n",
        "            \"price_ex_lag\",\n",
        "            \"price_ex_lead\",\n",
        "        ]\n",
        "    ]\n",
        "\n",
        "    # impute with zeros\n",
        "    x.fillna(0, inplace=True)\n",
        "\n",
        "    # scale to [-1, 1]\n",
        "    if not hasattr(min_max_scaler, \"n_features_in_\"):\n",
        "        min_max_scaler.fit(x)\n",
        "    x[x.columns] = min_max_scaler.transform(x)\n",
        "\n",
        "    # https://stackoverflow.com/questions/70727291/how-do-i-know-whether-a-sklearn-scaler-is-already-fitted-or-not\n",
        "\n",
        "    # if not hasattr(oe_option_type, \"n_features_in_\"):\n",
        "    #     oe_option_type.fit(data[\"OPTION_TYPE\"].astype(str).values.reshape(-1, 1))\n",
        "    # x[\"bin_option_type\"] = oe_option_type.transform(\n",
        "    #     data[\"OPTION_TYPE\"].astype(str).values.reshape(-1, 1)\n",
        "    # )\n",
        "\n",
        "    # if not hasattr(oe_root, \"n_features_in_\"):\n",
        "    #     oe_root.fit(data[\"ROOT\"].astype(str).values.reshape(-1, 1))\n",
        "    # x[\"bin_root\"] = oe_root.transform(data[\"ROOT\"].astype(str).values.reshape(-1, 1))\n",
        "\n",
        "    # if not hasattr(oe_issue_type, \"n_features_in_\"):\n",
        "    #     oe_issue_type.fit(data[\"issue_type\"].astype(str).values.reshape(-1, 1))\n",
        "    # x[\"bin_issue_type\"] = oe_issue_type.transform(\n",
        "    #     data[\"issue_type\"].astype(str).values.reshape(-1, 1)\n",
        "    # )\n",
        "\n",
        "    # x.replace([np.inf, -np.inf], np.nan, inplace=True)\n",
        "\n",
        "    x[\"buy_sell\"] = data[\"buy_sell\"]\n",
        "    return x\n"
      ]
    },
    {
      "cell_type": "code",
      "execution_count": 20,
      "metadata": {
        "colab": {
          "base_uri": "https://localhost:8080/"
        },
        "id": "v4rfdI7Sjgi9",
        "outputId": "c56e09c9-723e-46a4-8333-ab174359448f"
      },
      "outputs": [
        {
          "data": {
            "text/plain": [
              "[<ManifestEntry ref: gs://thesis-bucket-option-trade-classification/data/fe_w_trade_size_data/train_set_60.parquet/train_set_60.parquet>]"
            ]
          },
          "execution_count": 20,
          "metadata": {},
          "output_type": "execute_result"
        }
      ],
      "source": [
        "output_path = (\n",
        "    f\"gs://thesis-bucket-option-trade-classification/data/{name}/train_set_60.parquet\"\n",
        ")\n",
        "train = transform(train)\n",
        "train.to_parquet(output_path)\n",
        "dataset.add_reference(output_path)\n"
      ]
    },
    {
      "cell_type": "code",
      "execution_count": 21,
      "metadata": {
        "colab": {
          "base_uri": "https://localhost:8080/"
        },
        "id": "sbrlb_jujbfT",
        "outputId": "28fe11ed-789c-409c-b8b4-8331a6750d86"
      },
      "outputs": [
        {
          "data": {
            "text/plain": [
              "[<ManifestEntry ref: gs://thesis-bucket-option-trade-classification/data/fe_w_trade_size_data/val_set_20.parquet/val_set_20.parquet>]"
            ]
          },
          "execution_count": 21,
          "metadata": {},
          "output_type": "execute_result"
        }
      ],
      "source": [
        "output_path = (\n",
        "    f\"gs://thesis-bucket-option-trade-classification/data/{name}/val_set_20.parquet\"\n",
        ")\n",
        "val = transform(val)\n",
        "val.to_parquet(output_path)\n",
        "dataset.add_reference(output_path)\n"
      ]
    },
    {
      "cell_type": "code",
      "execution_count": 22,
      "metadata": {
        "colab": {
          "base_uri": "https://localhost:8080/"
        },
        "id": "_ExID71sjVhw",
        "outputId": "cad5d7ed-5bf7-4d2a-fd9d-27abb6647e1a"
      },
      "outputs": [
        {
          "data": {
            "text/plain": [
              "[<ManifestEntry ref: gs://thesis-bucket-option-trade-classification/data/fe_w_trade_size_data/test_set_20.parquet/test_set_20.parquet>]"
            ]
          },
          "execution_count": 22,
          "metadata": {},
          "output_type": "execute_result"
        }
      ],
      "source": [
        "output_path = (\n",
        "    f\"gs://thesis-bucket-option-trade-classification/data/{name}/test_set_20.parquet\"\n",
        ")\n",
        "test = transform(test)\n",
        "test.to_parquet(output_path)\n",
        "dataset.add_reference(output_path)\n"
      ]
    },
    {
      "cell_type": "code",
      "execution_count": 23,
      "metadata": {
        "colab": {
          "base_uri": "https://localhost:8080/",
          "height": 150,
          "referenced_widgets": [
            "5ee8a10d4e9a471f97b30fdaf98f7ab2",
            "b9880d2c8c2142c0b8df11b80134316e",
            "8dadafb6544f46f897ec0d100363b46d",
            "aad40f461a284ca09e60d8aeb39e7d0e",
            "fa1edf9a54fc4c3c823782a9ed250cf9",
            "3f66842063a3417e900cc4643d5fbe9f",
            "e5b495949b7f45bdac204eae7d9e677f",
            "cc90b395b8864f209b646aba4464dcd3"
          ]
        },
        "id": "73iNZeBusW6k",
        "outputId": "f424ea86-49c4-47d4-9d2a-1f6d1d7a2477"
      },
      "outputs": [
        {
          "data": {
            "text/html": [
              "Waiting for W&B process to finish... <strong style=\"color:green\">(success).</strong>"
            ],
            "text/plain": [
              "<IPython.core.display.HTML object>"
            ]
          },
          "metadata": {},
          "output_type": "display_data"
        },
        {
          "data": {
            "application/vnd.jupyter.widget-view+json": {
              "model_id": "5ee8a10d4e9a471f97b30fdaf98f7ab2",
              "version_major": 2,
              "version_minor": 0
            },
            "text/plain": [
              "VBox(children=(Label(value='0.001 MB of 0.001 MB uploaded (0.000 MB deduped)\\r'), FloatProgress(value=1.0, max…"
            ]
          },
          "metadata": {},
          "output_type": "display_data"
        },
        {
          "data": {
            "text/html": [
              "Synced <strong style=\"color:#cdcd00\">smooth-thunder-182</strong>: <a href=\"https://wandb.ai/fbv/thesis/runs/me4q3v00\" target=\"_blank\">https://wandb.ai/fbv/thesis/runs/me4q3v00</a><br/>Synced 5 W&B file(s), 0 media file(s), 0 artifact file(s) and 0 other file(s)"
            ],
            "text/plain": [
              "<IPython.core.display.HTML object>"
            ]
          },
          "metadata": {},
          "output_type": "display_data"
        },
        {
          "data": {
            "text/html": [
              "Find logs at: <code>./wandb/run-20221118_121303-me4q3v00/logs</code>"
            ],
            "text/plain": [
              "<IPython.core.display.HTML object>"
            ]
          },
          "metadata": {},
          "output_type": "display_data"
        }
      ],
      "source": [
        "run.log_artifact(dataset)\n",
        "run.finish()\n"
      ]
    }
  ],
  "metadata": {
    "colab": {
      "machine_shape": "hm",
      "name": "Untitled2.ipynb",
      "provenance": []
    },
    "gpuClass": "premium",
    "kernelspec": {
      "display_name": "Python 3.9.4 64-bit",
      "language": "python",
      "name": "python3"
    },
    "language_info": {
      "codemirror_mode": {
        "name": "ipython",
        "version": 3
      },
      "file_extension": ".py",
      "mimetype": "text/x-python",
      "name": "python",
      "nbconvert_exporter": "python",
      "pygments_lexer": "ipython3",
      "version": "3.9.4"
    },
    "vscode": {
      "interpreter": {
        "hash": "f8ea8b642289b706932f10b33ee389827410dbaef0ce2c5bf73615e8d3267d88"
      }
    },
    "widgets": {
      "application/vnd.jupyter.widget-state+json": {
        "3f66842063a3417e900cc4643d5fbe9f": {
          "model_module": "@jupyter-widgets/controls",
          "model_module_version": "1.5.0",
          "model_name": "DescriptionStyleModel",
          "state": {
            "_model_module": "@jupyter-widgets/controls",
            "_model_module_version": "1.5.0",
            "_model_name": "DescriptionStyleModel",
            "_view_count": null,
            "_view_module": "@jupyter-widgets/base",
            "_view_module_version": "1.2.0",
            "_view_name": "StyleView",
            "description_width": ""
          }
        },
        "5ee8a10d4e9a471f97b30fdaf98f7ab2": {
          "model_module": "@jupyter-widgets/controls",
          "model_module_version": "1.5.0",
          "model_name": "VBoxModel",
          "state": {
            "_dom_classes": [],
            "_model_module": "@jupyter-widgets/controls",
            "_model_module_version": "1.5.0",
            "_model_name": "VBoxModel",
            "_view_count": null,
            "_view_module": "@jupyter-widgets/controls",
            "_view_module_version": "1.5.0",
            "_view_name": "VBoxView",
            "box_style": "",
            "children": [
              "IPY_MODEL_b9880d2c8c2142c0b8df11b80134316e",
              "IPY_MODEL_8dadafb6544f46f897ec0d100363b46d"
            ],
            "layout": "IPY_MODEL_aad40f461a284ca09e60d8aeb39e7d0e"
          }
        },
        "8dadafb6544f46f897ec0d100363b46d": {
          "model_module": "@jupyter-widgets/controls",
          "model_module_version": "1.5.0",
          "model_name": "FloatProgressModel",
          "state": {
            "_dom_classes": [],
            "_model_module": "@jupyter-widgets/controls",
            "_model_module_version": "1.5.0",
            "_model_name": "FloatProgressModel",
            "_view_count": null,
            "_view_module": "@jupyter-widgets/controls",
            "_view_module_version": "1.5.0",
            "_view_name": "ProgressView",
            "bar_style": "",
            "description": "",
            "description_tooltip": null,
            "layout": "IPY_MODEL_e5b495949b7f45bdac204eae7d9e677f",
            "max": 1,
            "min": 0,
            "orientation": "horizontal",
            "style": "IPY_MODEL_cc90b395b8864f209b646aba4464dcd3",
            "value": 0.06791292001893043
          }
        },
        "aad40f461a284ca09e60d8aeb39e7d0e": {
          "model_module": "@jupyter-widgets/base",
          "model_module_version": "1.2.0",
          "model_name": "LayoutModel",
          "state": {
            "_model_module": "@jupyter-widgets/base",
            "_model_module_version": "1.2.0",
            "_model_name": "LayoutModel",
            "_view_count": null,
            "_view_module": "@jupyter-widgets/base",
            "_view_module_version": "1.2.0",
            "_view_name": "LayoutView",
            "align_content": null,
            "align_items": null,
            "align_self": null,
            "border": null,
            "bottom": null,
            "display": null,
            "flex": null,
            "flex_flow": null,
            "grid_area": null,
            "grid_auto_columns": null,
            "grid_auto_flow": null,
            "grid_auto_rows": null,
            "grid_column": null,
            "grid_gap": null,
            "grid_row": null,
            "grid_template_areas": null,
            "grid_template_columns": null,
            "grid_template_rows": null,
            "height": null,
            "justify_content": null,
            "justify_items": null,
            "left": null,
            "margin": null,
            "max_height": null,
            "max_width": null,
            "min_height": null,
            "min_width": null,
            "object_fit": null,
            "object_position": null,
            "order": null,
            "overflow": null,
            "overflow_x": null,
            "overflow_y": null,
            "padding": null,
            "right": null,
            "top": null,
            "visibility": null,
            "width": null
          }
        },
        "b9880d2c8c2142c0b8df11b80134316e": {
          "model_module": "@jupyter-widgets/controls",
          "model_module_version": "1.5.0",
          "model_name": "LabelModel",
          "state": {
            "_dom_classes": [],
            "_model_module": "@jupyter-widgets/controls",
            "_model_module_version": "1.5.0",
            "_model_name": "LabelModel",
            "_view_count": null,
            "_view_module": "@jupyter-widgets/controls",
            "_view_module_version": "1.5.0",
            "_view_name": "LabelView",
            "description": "",
            "description_tooltip": null,
            "layout": "IPY_MODEL_fa1edf9a54fc4c3c823782a9ed250cf9",
            "placeholder": "​",
            "style": "IPY_MODEL_3f66842063a3417e900cc4643d5fbe9f",
            "value": "0.001 MB of 0.008 MB uploaded (0.000 MB deduped)\r"
          }
        },
        "cc90b395b8864f209b646aba4464dcd3": {
          "model_module": "@jupyter-widgets/controls",
          "model_module_version": "1.5.0",
          "model_name": "ProgressStyleModel",
          "state": {
            "_model_module": "@jupyter-widgets/controls",
            "_model_module_version": "1.5.0",
            "_model_name": "ProgressStyleModel",
            "_view_count": null,
            "_view_module": "@jupyter-widgets/base",
            "_view_module_version": "1.2.0",
            "_view_name": "StyleView",
            "bar_color": null,
            "description_width": ""
          }
        },
        "e5b495949b7f45bdac204eae7d9e677f": {
          "model_module": "@jupyter-widgets/base",
          "model_module_version": "1.2.0",
          "model_name": "LayoutModel",
          "state": {
            "_model_module": "@jupyter-widgets/base",
            "_model_module_version": "1.2.0",
            "_model_name": "LayoutModel",
            "_view_count": null,
            "_view_module": "@jupyter-widgets/base",
            "_view_module_version": "1.2.0",
            "_view_name": "LayoutView",
            "align_content": null,
            "align_items": null,
            "align_self": null,
            "border": null,
            "bottom": null,
            "display": null,
            "flex": null,
            "flex_flow": null,
            "grid_area": null,
            "grid_auto_columns": null,
            "grid_auto_flow": null,
            "grid_auto_rows": null,
            "grid_column": null,
            "grid_gap": null,
            "grid_row": null,
            "grid_template_areas": null,
            "grid_template_columns": null,
            "grid_template_rows": null,
            "height": null,
            "justify_content": null,
            "justify_items": null,
            "left": null,
            "margin": null,
            "max_height": null,
            "max_width": null,
            "min_height": null,
            "min_width": null,
            "object_fit": null,
            "object_position": null,
            "order": null,
            "overflow": null,
            "overflow_x": null,
            "overflow_y": null,
            "padding": null,
            "right": null,
            "top": null,
            "visibility": null,
            "width": null
          }
        },
        "fa1edf9a54fc4c3c823782a9ed250cf9": {
          "model_module": "@jupyter-widgets/base",
          "model_module_version": "1.2.0",
          "model_name": "LayoutModel",
          "state": {
            "_model_module": "@jupyter-widgets/base",
            "_model_module_version": "1.2.0",
            "_model_name": "LayoutModel",
            "_view_count": null,
            "_view_module": "@jupyter-widgets/base",
            "_view_module_version": "1.2.0",
            "_view_name": "LayoutView",
            "align_content": null,
            "align_items": null,
            "align_self": null,
            "border": null,
            "bottom": null,
            "display": null,
            "flex": null,
            "flex_flow": null,
            "grid_area": null,
            "grid_auto_columns": null,
            "grid_auto_flow": null,
            "grid_auto_rows": null,
            "grid_column": null,
            "grid_gap": null,
            "grid_row": null,
            "grid_template_areas": null,
            "grid_template_columns": null,
            "grid_template_rows": null,
            "height": null,
            "justify_content": null,
            "justify_items": null,
            "left": null,
            "margin": null,
            "max_height": null,
            "max_width": null,
            "min_height": null,
            "min_width": null,
            "object_fit": null,
            "object_position": null,
            "order": null,
            "overflow": null,
            "overflow_x": null,
            "overflow_y": null,
            "padding": null,
            "right": null,
            "top": null,
            "visibility": null,
            "width": null
          }
        }
      }
    }
  },
  "nbformat": 4,
  "nbformat_minor": 0
}
