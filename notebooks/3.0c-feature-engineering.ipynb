{
 "cells": [
  {
   "cell_type": "markdown",
   "metadata": {
    "id": "170uxVS5gwZl"
   },
   "source": [
    "Run `pip install .` first to install all dependencies."
   ]
  },
  {
   "cell_type": "code",
   "execution_count": 1,
   "metadata": {
    "colab": {
     "base_uri": "https://localhost:8080/"
    },
    "id": "Fc0zs5GkiZS2",
    "outputId": "8986f8a4-c69d-4ea6-95e8-a587cc28389a"
   },
   "outputs": [
    {
     "name": "stdout",
     "output_type": "stream",
     "text": [
      "Defaulting to user installation because normal site-packages is not writeable\n",
      "Collecting gcsfs==2022.10.0\n",
      "  Using cached gcsfs-2022.10.0-py2.py3-none-any.whl (25 kB)\n",
      "Collecting google-auth>=1.2\n",
      "  Using cached google_auth-2.15.0-py2.py3-none-any.whl (177 kB)\n",
      "Requirement already satisfied: aiohttp!=4.0.0a0,!=4.0.0a1 in /pfs/data5/software_uc2/bwhpc/common/jupyter/base/2022-03-30/lib/python3.8/site-packages (from gcsfs==2022.10.0) (3.8.1)\n",
      "Collecting google-auth-oauthlib\n",
      "  Using cached google_auth_oauthlib-0.8.0-py2.py3-none-any.whl (19 kB)\n",
      "Collecting google-cloud-storage\n",
      "  Using cached google_cloud_storage-2.7.0-py2.py3-none-any.whl (110 kB)\n",
      "Collecting fsspec==2022.10.0\n",
      "  Using cached fsspec-2022.10.0-py3-none-any.whl (138 kB)\n",
      "Requirement already satisfied: decorator>4.1.2 in /pfs/data5/software_uc2/bwhpc/common/jupyter/base/2022-03-30/lib/python3.8/site-packages (from gcsfs==2022.10.0) (5.1.1)\n",
      "Requirement already satisfied: requests in /pfs/data5/software_uc2/bwhpc/common/jupyter/base/2022-03-30/lib/python3.8/site-packages (from gcsfs==2022.10.0) (2.27.1)\n",
      "Requirement already satisfied: frozenlist>=1.1.1 in /pfs/data5/software_uc2/bwhpc/common/jupyter/base/2022-03-30/lib/python3.8/site-packages (from aiohttp!=4.0.0a0,!=4.0.0a1->gcsfs==2022.10.0) (1.3.0)\n",
      "Requirement already satisfied: aiosignal>=1.1.2 in /pfs/data5/software_uc2/bwhpc/common/jupyter/base/2022-03-30/lib/python3.8/site-packages (from aiohttp!=4.0.0a0,!=4.0.0a1->gcsfs==2022.10.0) (1.2.0)\n",
      "Requirement already satisfied: yarl<2.0,>=1.0 in /pfs/data5/software_uc2/bwhpc/common/jupyter/base/2022-03-30/lib/python3.8/site-packages (from aiohttp!=4.0.0a0,!=4.0.0a1->gcsfs==2022.10.0) (1.7.2)\n",
      "Requirement already satisfied: charset-normalizer<3.0,>=2.0 in /pfs/data5/software_uc2/bwhpc/common/jupyter/base/2022-03-30/lib/python3.8/site-packages (from aiohttp!=4.0.0a0,!=4.0.0a1->gcsfs==2022.10.0) (2.0.12)\n",
      "Requirement already satisfied: attrs>=17.3.0 in /pfs/data5/software_uc2/bwhpc/common/jupyter/base/2022-03-30/lib/python3.8/site-packages (from aiohttp!=4.0.0a0,!=4.0.0a1->gcsfs==2022.10.0) (21.4.0)\n",
      "Requirement already satisfied: multidict<7.0,>=4.5 in /pfs/data5/software_uc2/bwhpc/common/jupyter/base/2022-03-30/lib/python3.8/site-packages (from aiohttp!=4.0.0a0,!=4.0.0a1->gcsfs==2022.10.0) (6.0.2)\n",
      "Requirement already satisfied: async-timeout<5.0,>=4.0.0a3 in /pfs/data5/software_uc2/bwhpc/common/jupyter/base/2022-03-30/lib/python3.8/site-packages (from aiohttp!=4.0.0a0,!=4.0.0a1->gcsfs==2022.10.0) (4.0.2)\n",
      "Requirement already satisfied: six>=1.9.0 in /pfs/data5/software_uc2/bwhpc/common/jupyter/base/2022-03-30/lib/python3.8/site-packages (from google-auth>=1.2->gcsfs==2022.10.0) (1.16.0)\n",
      "Collecting rsa<5,>=3.1.4\n",
      "  Using cached rsa-4.9-py3-none-any.whl (34 kB)\n",
      "Collecting cachetools<6.0,>=2.0.0\n",
      "  Using cached cachetools-5.2.0-py3-none-any.whl (9.3 kB)\n",
      "Collecting pyasn1-modules>=0.2.1\n",
      "  Using cached pyasn1_modules-0.2.8-py2.py3-none-any.whl (155 kB)\n",
      "Collecting requests-oauthlib>=0.7.0\n",
      "  Using cached requests_oauthlib-1.3.1-py2.py3-none-any.whl (23 kB)\n",
      "Collecting google-resumable-media>=2.3.2\n",
      "  Using cached google_resumable_media-2.4.0-py2.py3-none-any.whl (77 kB)\n",
      "Collecting google-cloud-core<3.0dev,>=2.3.0\n",
      "  Using cached google_cloud_core-2.3.2-py2.py3-none-any.whl (29 kB)\n",
      "Collecting google-api-core!=2.0.*,!=2.1.*,!=2.2.*,!=2.3.0,<3.0.0dev,>=1.31.5\n",
      "  Using cached google_api_core-2.11.0-py3-none-any.whl (120 kB)\n",
      "Requirement already satisfied: certifi>=2017.4.17 in /pfs/data5/software_uc2/bwhpc/common/jupyter/base/2022-03-30/lib/python3.8/site-packages (from requests->gcsfs==2022.10.0) (2021.10.8)\n",
      "Requirement already satisfied: idna<4,>=2.5 in /pfs/data5/software_uc2/bwhpc/common/jupyter/base/2022-03-30/lib/python3.8/site-packages (from requests->gcsfs==2022.10.0) (3.3)\n",
      "Requirement already satisfied: urllib3<1.27,>=1.21.1 in /pfs/data5/software_uc2/bwhpc/common/jupyter/base/2022-03-30/lib/python3.8/site-packages (from requests->gcsfs==2022.10.0) (1.26.9)\n",
      "Collecting googleapis-common-protos<2.0dev,>=1.56.2\n",
      "  Using cached googleapis_common_protos-1.57.0-py2.py3-none-any.whl (217 kB)\n",
      "Collecting protobuf!=3.20.0,!=3.20.1,!=4.21.0,!=4.21.1,!=4.21.2,!=4.21.3,!=4.21.4,!=4.21.5,<5.0.0dev,>=3.19.5\n",
      "  Using cached protobuf-4.21.11-cp37-abi3-manylinux2014_x86_64.whl (409 kB)\n",
      "Collecting google-crc32c<2.0dev,>=1.0\n",
      "  Using cached google_crc32c-1.5.0-cp38-cp38-manylinux_2_17_x86_64.manylinux2014_x86_64.whl (32 kB)\n",
      "Collecting pyasn1<0.5.0,>=0.4.6\n",
      "  Using cached pyasn1-0.4.8-py2.py3-none-any.whl (77 kB)\n",
      "Requirement already satisfied: oauthlib>=3.0.0 in /pfs/data5/software_uc2/bwhpc/common/jupyter/base/2022-03-30/lib/python3.8/site-packages (from requests-oauthlib>=0.7.0->google-auth-oauthlib->gcsfs==2022.10.0) (3.2.0)\n",
      "\u001b[31mERROR: Will not install to the user site because it will lack sys.path precedence to fsspec in /pfs/data5/software_uc2/bwhpc/common/jupyter/base/2022-03-30/lib/python3.8/site-packages\u001b[0m\u001b[31m\n",
      "\u001b[0m\u001b[33mWARNING: You are using pip version 22.0.4; however, version 22.3.1 is available.\n",
      "You should consider upgrading via the '/opt/bwhpc/common/jupyter/base/2022-03-30/bin/python3.8 -m pip install --upgrade pip' command.\u001b[0m\u001b[33m\n",
      "\u001b[0mDefaulting to user installation because normal site-packages is not writeable\n",
      "Collecting wandb==0.13.4\n",
      "  Using cached wandb-0.13.4-py2.py3-none-any.whl (1.9 MB)\n",
      "Requirement already satisfied: PyYAML in /pfs/data5/software_uc2/bwhpc/common/jupyter/base/2022-03-30/lib/python3.8/site-packages (from wandb==0.13.4) (6.0)\n",
      "Requirement already satisfied: setuptools in /pfs/data5/software_uc2/bwhpc/common/jupyter/base/2022-03-30/lib/python3.8/site-packages (from wandb==0.13.4) (61.2.0)\n",
      "Collecting docker-pycreds>=0.4.0\n",
      "  Using cached docker_pycreds-0.4.0-py2.py3-none-any.whl (9.0 kB)\n",
      "Requirement already satisfied: psutil>=5.0.0 in /pfs/data5/software_uc2/bwhpc/common/jupyter/base/2022-03-30/lib/python3.8/site-packages (from wandb==0.13.4) (5.9.0)\n",
      "Collecting setproctitle\n",
      "  Using cached setproctitle-1.3.2-cp38-cp38-manylinux_2_5_x86_64.manylinux1_x86_64.manylinux_2_17_x86_64.manylinux2014_x86_64.whl (31 kB)\n",
      "Collecting pathtools\n",
      "  Using cached pathtools-0.1.2-py3-none-any.whl\n",
      "Collecting promise<3,>=2.0\n",
      "  Using cached promise-2.3-py3-none-any.whl\n",
      "Requirement already satisfied: six>=1.13.0 in /pfs/data5/software_uc2/bwhpc/common/jupyter/base/2022-03-30/lib/python3.8/site-packages (from wandb==0.13.4) (1.16.0)\n",
      "Requirement already satisfied: Click!=8.0.0,>=7.0 in /pfs/data5/software_uc2/bwhpc/common/jupyter/base/2022-03-30/lib/python3.8/site-packages (from wandb==0.13.4) (8.1.1)\n",
      "Requirement already satisfied: requests<3,>=2.0.0 in /pfs/data5/software_uc2/bwhpc/common/jupyter/base/2022-03-30/lib/python3.8/site-packages (from wandb==0.13.4) (2.27.1)\n",
      "Collecting shortuuid>=0.5.0\n",
      "  Using cached shortuuid-1.0.11-py3-none-any.whl (10 kB)\n",
      "Collecting protobuf!=4.0.*,!=4.21.0,<5,>=3.12.0\n",
      "  Using cached protobuf-4.21.11-cp37-abi3-manylinux2014_x86_64.whl (409 kB)\n",
      "Collecting sentry-sdk>=1.0.0\n",
      "  Using cached sentry_sdk-1.11.1-py2.py3-none-any.whl (168 kB)\n",
      "Requirement already satisfied: GitPython>=1.0.0 in /pfs/data5/home/kit/stud/uloak/.local/lib/python3.8/site-packages (from wandb==0.13.4) (3.1.29)\n",
      "Requirement already satisfied: gitdb<5,>=4.0.1 in /pfs/data5/home/kit/stud/uloak/.local/lib/python3.8/site-packages (from GitPython>=1.0.0->wandb==0.13.4) (4.0.10)\n",
      "Requirement already satisfied: charset-normalizer~=2.0.0 in /pfs/data5/software_uc2/bwhpc/common/jupyter/base/2022-03-30/lib/python3.8/site-packages (from requests<3,>=2.0.0->wandb==0.13.4) (2.0.12)\n",
      "Requirement already satisfied: idna<4,>=2.5 in /pfs/data5/software_uc2/bwhpc/common/jupyter/base/2022-03-30/lib/python3.8/site-packages (from requests<3,>=2.0.0->wandb==0.13.4) (3.3)\n",
      "Requirement already satisfied: certifi>=2017.4.17 in /pfs/data5/software_uc2/bwhpc/common/jupyter/base/2022-03-30/lib/python3.8/site-packages (from requests<3,>=2.0.0->wandb==0.13.4) (2021.10.8)\n",
      "Requirement already satisfied: urllib3<1.27,>=1.21.1 in /pfs/data5/software_uc2/bwhpc/common/jupyter/base/2022-03-30/lib/python3.8/site-packages (from requests<3,>=2.0.0->wandb==0.13.4) (1.26.9)\n",
      "Collecting urllib3<1.27,>=1.21.1\n",
      "  Using cached urllib3-1.26.13-py2.py3-none-any.whl (140 kB)\n",
      "Collecting smmap<6,>=3.0.1\n",
      "  Using cached smmap-5.0.0-py3-none-any.whl (24 kB)\n",
      "\u001b[31mERROR: Will not install to the user site because it will lack sys.path precedence to urllib3 in /pfs/data5/software_uc2/bwhpc/common/jupyter/base/2022-03-30/lib/python3.8/site-packages\u001b[0m\u001b[31m\n",
      "\u001b[0m\u001b[33mWARNING: You are using pip version 22.0.4; however, version 22.3.1 is available.\n",
      "You should consider upgrading via the '/opt/bwhpc/common/jupyter/base/2022-03-30/bin/python3.8 -m pip install --upgrade pip' command.\u001b[0m\u001b[33m\n",
      "\u001b[0mDefaulting to user installation because normal site-packages is not writeable\n",
      "Requirement already satisfied: numpy in /pfs/data5/software_uc2/bwhpc/common/jupyter/base/2022-03-30/lib/python3.8/site-packages (1.22.3)\n",
      "\u001b[33mWARNING: You are using pip version 22.0.4; however, version 22.3.1 is available.\n",
      "You should consider upgrading via the '/opt/bwhpc/common/jupyter/base/2022-03-30/bin/python3.8 -m pip install --upgrade pip' command.\u001b[0m\u001b[33m\n",
      "\u001b[0mDefaulting to user installation because normal site-packages is not writeable\n",
      "Requirement already satisfied: pandas in /pfs/data5/software_uc2/bwhpc/common/jupyter/base/2022-03-30/lib/python3.8/site-packages (1.4.1)\n",
      "Requirement already satisfied: numpy>=1.18.5 in /pfs/data5/software_uc2/bwhpc/common/jupyter/base/2022-03-30/lib/python3.8/site-packages (from pandas) (1.22.3)\n",
      "Requirement already satisfied: pytz>=2020.1 in /pfs/data5/software_uc2/bwhpc/common/jupyter/base/2022-03-30/lib/python3.8/site-packages (from pandas) (2022.1)\n",
      "Requirement already satisfied: python-dateutil>=2.8.1 in /pfs/data5/software_uc2/bwhpc/common/jupyter/base/2022-03-30/lib/python3.8/site-packages (from pandas) (2.8.2)\n",
      "Requirement already satisfied: six>=1.5 in /pfs/data5/software_uc2/bwhpc/common/jupyter/base/2022-03-30/lib/python3.8/site-packages (from python-dateutil>=2.8.1->pandas) (1.16.0)\n",
      "\u001b[33mWARNING: You are using pip version 22.0.4; however, version 22.3.1 is available.\n",
      "You should consider upgrading via the '/opt/bwhpc/common/jupyter/base/2022-03-30/bin/python3.8 -m pip install --upgrade pip' command.\u001b[0m\u001b[33m\n",
      "\u001b[0m"
     ]
    }
   ],
   "source": [
    "!pip install gcsfs==2022.10.0\n",
    "!pip install wandb==0.13.4\n",
    "#!pip install fastparquet\n",
    "!pip install numpy\n",
    "!pip install pandas"
   ]
  },
  {
   "cell_type": "code",
   "execution_count": 2,
   "metadata": {
    "id": "7WXF7w4VyVgG"
   },
   "outputs": [],
   "source": [
    "import gcsfs\n",
    "import numpy as np\n",
    "import pandas as pd\n",
    "\n",
    "import wandb\n",
    "\n",
    "from sklearn.preprocessing import MinMaxScaler\n"
   ]
  },
  {
   "cell_type": "code",
   "execution_count": 3,
   "metadata": {
    "colab": {
     "base_uri": "https://localhost:8080/",
     "height": 173
    },
    "id": "KftC_bFhgwZt",
    "outputId": "1b3746cf-1517-47aa-d205-15afd510c785"
   },
   "outputs": [
    {
     "name": "stderr",
     "output_type": "stream",
     "text": [
      "Failed to detect the name of this notebook, you can set it manually with the WANDB_NOTEBOOK_NAME environment variable to enable code saving.\n",
      "\u001b[34m\u001b[1mwandb\u001b[0m: Currently logged in as: \u001b[33mkarelze\u001b[0m (\u001b[33mfbv\u001b[0m). Use \u001b[1m`wandb login --relogin`\u001b[0m to force relogin\n"
     ]
    },
    {
     "data": {
      "text/html": [
       "wandb version 0.13.6 is available!  To upgrade, please run:\n",
       " $ pip install wandb --upgrade"
      ],
      "text/plain": [
       "<IPython.core.display.HTML object>"
      ]
     },
     "metadata": {},
     "output_type": "display_data"
    },
    {
     "data": {
      "text/html": [
       "Tracking run with wandb version 0.13.5"
      ],
      "text/plain": [
       "<IPython.core.display.HTML object>"
      ]
     },
     "metadata": {},
     "output_type": "display_data"
    },
    {
     "data": {
      "text/html": [
       "Run data is saved locally in <code>/pfs/data5/home/kit/stud/uloak/thesis/notebooks/wandb/run-20221213_131639-koksnjh2</code>"
      ],
      "text/plain": [
       "<IPython.core.display.HTML object>"
      ]
     },
     "metadata": {},
     "output_type": "display_data"
    },
    {
     "data": {
      "text/html": [
       "Syncing run <strong><a href=\"https://wandb.ai/fbv/thesis/runs/koksnjh2\" target=\"_blank\">sleek-dew-491</a></strong> to <a href=\"https://wandb.ai/fbv/thesis\" target=\"_blank\">Weights & Biases</a> (<a href=\"https://wandb.me/run\" target=\"_blank\">docs</a>)<br/>"
      ],
      "text/plain": [
       "<IPython.core.display.HTML object>"
      ]
     },
     "metadata": {},
     "output_type": "display_data"
    }
   ],
   "source": [
    "name = \"classical_size_features_accuracy_branch\"\n",
    "\n",
    "# connect to weights and biases\n",
    "run = wandb.init(project=\"thesis\", job_type=\"dataset-creation\", entity=\"fbv\")\n",
    "\n",
    "dataset = wandb.Artifact(name=name, type=\"preprocessed_data\")\n"
   ]
  },
  {
   "cell_type": "code",
   "execution_count": 4,
   "metadata": {
    "id": "Xk8VWtSQces7"
   },
   "outputs": [
    {
     "name": "stderr",
     "output_type": "stream",
     "text": [
      "/pfs/data5/home/kit/stud/uloak/thesis/thesis/lib64/python3.8/site-packages/google/auth/_default.py:83: UserWarning: Your application has authenticated using end user credentials from Google Cloud SDK without a quota project. You might receive a \"quota exceeded\" or \"API not enabled\" error. We recommend you rerun `gcloud auth application-default login` and make sure a quota project is added. Or you can use service accounts instead. For more information about service accounts, see https://cloud.google.com/docs/authentication/\n",
      "  warnings.warn(_CLOUD_SDK_CREDENTIALS_WARNING)\n"
     ]
    }
   ],
   "source": [
    "# import google.auth\n",
    "# from google.colab import auth\n",
    "# # connect to google cloud storage\n",
    "# auth.authenticate_user()\n",
    "# credentials, _ = google.auth.default()\n",
    "fs = gcsfs.GCSFileSystem(project=\"thesis\")"
   ]
  },
  {
   "cell_type": "code",
   "execution_count": 5,
   "metadata": {
    "id": "yJViJH1yl_S7"
   },
   "outputs": [],
   "source": [
    "# reduce number of imported cols due to memory issues\n",
    "columns = [\n",
    "    \"QUOTE_DATETIME\",\n",
    "    \"ROOT\",\n",
    "    \"EXPIRATION\",\n",
    "    \"STRK_PRC\",\n",
    "    \"OPTION_TYPE\",\n",
    "    \"TRADE_SIZE\",\n",
    "    \"TRADE_PRICE\",\n",
    "    \"BEST_BID\",\n",
    "    \"BEST_ASK\",\n",
    "    \"ask_ex\",\n",
    "    \"bid_ex\",\n",
    "    \"bid_size_ex\",\n",
    "    \"ask_size_ex\",\n",
    "    \"price_all_lead\",\n",
    "    \"price_all_lag\",\n",
    "    \"price_ex_lead\",\n",
    "    \"price_ex_lag\",\n",
    "    \"buy_sell\",\n",
    "]\n"
   ]
  },
  {
   "cell_type": "code",
   "execution_count": 88,
   "metadata": {
    "id": "WmXtH-PEqyQE"
   },
   "outputs": [],
   "source": [
    "train = pd.read_parquet(\n",
    "    f\"gs://thesis-bucket-option-trade-classification/data/preprocessed/train_set_extended_60.parquet\",\n",
    "    engine=\"fastparquet\",\n",
    "    columns=columns,\n",
    ")\n",
    "val = pd.read_parquet(\n",
    "    f\"gs://thesis-bucket-option-trade-classification/data/preprocessed/val_set_extended_20.parquet\",\n",
    "    engine=\"fastparquet\",\n",
    "    columns=columns,\n",
    ")"
   ]
  },
  {
   "cell_type": "code",
   "execution_count": 89,
   "metadata": {
    "id": "-f1NBeZNcXpY"
   },
   "outputs": [],
   "source": [
    "# oe_option_type = OrdinalEncoder(\n",
    "#     unknown_value=-1, dtype=int, handle_unknown=\"use_encoded_value\"\n",
    "# )\n",
    "# oe_root = OrdinalEncoder(\n",
    "#     unknown_value=-1, dtype=int, handle_unknown=\"use_encoded_value\"\n",
    "# )\n",
    "# oe_issue_type = OrdinalEncoder(\n",
    "#     unknown_value=-1, dtype=int, handle_unknown=\"use_encoded_value\"\n",
    "# )\n",
    "\n",
    "min_max_scaler = MinMaxScaler(feature_range=[-1, 1])\n",
    "\n",
    "\n",
    "def transform(data: pd.DataFrame) -> pd.DataFrame:\n",
    "\n",
    "    # # date features\n",
    "    x = pd.DataFrame(data={\"TRADE_PRICE\": data[\"TRADE_PRICE\"]}, index=data.index)\n",
    "\n",
    "    # x[\"date_month_sin\"] = np.sin(2 * np.pi * data[\"QUOTE_DATETIME\"].dt.year / 12)\n",
    "    # x[\"date_month_cos\"] = np.cos(2 * np.pi * data[\"QUOTE_DATETIME\"].dt.year / 12)\n",
    "\n",
    "    # seconds_in_day = 24 * 60 * 60\n",
    "    # seconds = (\n",
    "    #     data[\"QUOTE_DATETIME\"] - data[\"QUOTE_DATETIME\"].dt.normalize()\n",
    "    # ).dt.total_seconds()\n",
    "\n",
    "    # x[\"date_time_sin\"] = np.sin(2 * np.pi * seconds / seconds_in_day)\n",
    "    # x[\"date_time_cos\"] = np.cos(2 * np.pi * seconds / seconds_in_day)\n",
    "\n",
    "    # option features\n",
    "    # x[\"ttm\"] = (\n",
    "    #     data[\"EXPIRATION\"].dt.to_period(\"M\") - data[\"QUOTE_DATETIME\"].dt.to_period(\"M\")\n",
    "    # ).apply(lambda x: x.n)\n",
    "    # x[[\"myn\", \"day_vol\"]] = data[[\"myn\", \"day_vol\"]]\n",
    "    # x[\"log_strk_prc\"] = np.log1p(data[\"STRK_PRC\"])\n",
    "\n",
    "    # binarize\n",
    "    # \"bin_OPTION_TYPE\", \"bin_issue_type\", \"bin_ROOT\",\n",
    "\n",
    "    # size features\n",
    "    x[\"bid_ask_size_ratio_ex\"] = np.log1p(data[\"bid_size_ex\"]) / np.log1p(data[\"ask_size_ex\"])\n",
    "    x[\"rel_bid_size_ex\"] = np.log1p(data[\"TRADE_SIZE\"]) / np.log1p(data[\"bid_size_ex\"])\n",
    "    x[\"rel_ask_size_ex\"] = np.log1p(data[\"TRADE_SIZE\"]) / np.log1p(data[\"ask_size_ex\"])\n",
    "     \n",
    "    \n",
    "    # classical\n",
    "    mid_ex = 0.5 * (data[\"ask_ex\"] + data[\"bid_ex\"])\n",
    "    mid_best = 0.5 * (data[\"BEST_ASK\"] + data[\"BEST_BID\"])\n",
    "    x[\"rel_ask_ex\"] = (data[\"TRADE_PRICE\"] - mid_ex) / (data[\"ask_ex\"] - mid_ex)\n",
    "    x[\"rel_bid_ex\"] = (mid_ex - data[\"TRADE_PRICE\"]) / (mid_ex - data[\"bid_ex\"])\n",
    "    x[\"BEST_rel_bid\"] = (data[\"TRADE_PRICE\"] - mid_best) / (data[\"BEST_ASK\"] - mid_best)\n",
    "    x[\"BEST_rel_ask\"] = (mid_best - data[\"TRADE_PRICE\"]) / (mid_best - data[\"BEST_BID\"])\n",
    "\n",
    "    # some uncovered comparsions\n",
    "    # x[\"ask_ex_best_ratio\"] = data[\"ask_ex\"] / data[\"BEST_ASK\"]\n",
    "    # x[\"bid_ex_best_ratio\"] = data[\"bid_ex\"] / data[\"BEST_BID\"]\n",
    "    # x[\"mid_ex_best_ratio\"] = mid_ex / mid_best\n",
    "    x[\"ask_ex_best_ratio\"] = (data[\"ask_ex\"] - data[\"BEST_ASK\"]) / data[\"BEST_ASK\"]\n",
    "    x[\"bid_ex_best_ratio\"] = (data[\"bid_ex\"] - data[\"BEST_BID\"]) / data[\"BEST_BID\"]\n",
    "    x[\"mid_ex_best_ratio\"] = (mid_ex - mid_best) / mid_best\n",
    "    \n",
    "    x[\"bid_ask_ratio_ex\"] = data[\"bid_ex\"] / data[\"ask_ex\"]\n",
    "    # x[\"price_norm_size\"] = data[\"TRADE_PRICE\"] / data[\"TRADE_SIZE\"]\n",
    "    x[\"price_rel_nbb\"] = (data[\"BEST_ASK\"] - data[\"TRADE_PRICE\"]) / (data[\"BEST_ASK\"] - mid_best)\n",
    "    x[\"price_rel_nbo\"] = (data[\"TRADE_PRICE\"] - data[\"BEST_BID\"]) / (mid_best - data[\"BEST_BID\"])\n",
    "    # x[\"price_eq_ask_eq_bid\"] = (data[\"TRADE_PRICE\"] == data[\"ask_ex\"]) & (data[\"TRADE_PRICE\"] == data[\"bid_ex\"])\n",
    "    \n",
    "    # calculate log returns\n",
    "    x[\"chg_ex_lead\"] = np.log(data[\"TRADE_PRICE\"]) - np.log(data[\"price_ex_lead\"])\n",
    "    x[\"chg_ex_lag\"] = np.log(data[\"TRADE_PRICE\"]) - np.log(data[\"price_ex_lag\"])\n",
    "    x[\"chg_all_lead\"] = np.log(data[\"TRADE_PRICE\"]) - np.log(data[\"price_all_lead\"])\n",
    "    x[\"chg_all_lag\"] = np.log(data[\"TRADE_PRICE\"]) - np.log(data[\"price_all_lag\"])\n",
    "\n",
    "    # log transformed features\n",
    "    x[\n",
    "         [\n",
    "             \"ask_ex\",\n",
    "             \"bid_ex\",\n",
    "             \"BEST_ASK\",\n",
    "             \"BEST_BID\",\n",
    "             \"TRADE_PRICE\",\n",
    "             \"price_all_lag\",\n",
    "             \"price_all_lead\",\n",
    "             \"price_ex_lag\",\n",
    "             \"price_ex_lead\",\n",
    "             \"TRADE_SIZE\", \n",
    "             \"bid_size_ex\", \n",
    "             \"ask_size_ex\",\n",
    "         ]\n",
    "     ] = np.log1p(data[\n",
    "         [\n",
    "             \"ask_ex\",\n",
    "             \"bid_ex\",\n",
    "             \"BEST_ASK\",\n",
    "             \"BEST_BID\",\n",
    "             \"TRADE_PRICE\",\n",
    "             \"price_all_lag\",\n",
    "             \"price_all_lead\",\n",
    "             \"price_ex_lag\",\n",
    "             \"price_ex_lead\",\n",
    "             \"TRADE_SIZE\", \n",
    "             \"bid_size_ex\", \n",
    "             \"ask_size_ex\"\n",
    "         ]\n",
    "     ]\n",
    "    )\n",
    "\n",
    "    # impute with zeros\n",
    "    x.replace([np.inf, -np.inf], np.nan, inplace=True)\n",
    "    x.fillna(0, inplace=True)\n",
    "\n",
    "    # scale to [-1, 1]\n",
    "    if not hasattr(min_max_scaler, \"n_features_in_\"):\n",
    "        min_max_scaler.fit(x)\n",
    "    x[x.columns] = min_max_scaler.transform(x)\n",
    "\n",
    "    # https://stackoverflow.com/questions/70727291/how-do-i-know-whether-a-sklearn-scaler-is-already-fitted-or-not\n",
    "\n",
    "    # if not hasattr(oe_option_type, \"n_features_in_\"):\n",
    "    #     oe_option_type.fit(data[\"OPTION_TYPE\"].astype(str).values.reshape(-1, 1))\n",
    "    # x[\"bin_option_type\"] = oe_option_type.transform(\n",
    "    #     data[\"OPTION_TYPE\"].astype(str).values.reshape(-1, 1)\n",
    "    # )\n",
    "\n",
    "    # if not hasattr(oe_root, \"n_features_in_\"):\n",
    "    #     oe_root.fit(data[\"ROOT\"].astype(str).values.reshape(-1, 1))\n",
    "    # x[\"bin_root\"] = oe_root.transform(data[\"ROOT\"].astype(str).values.reshape(-1, 1))\n",
    "\n",
    "    # if not hasattr(oe_issue_type, \"n_features_in_\"):\n",
    "    #     oe_issue_type.fit(data[\"issue_type\"].astype(str).values.reshape(-1, 1))\n",
    "    # x[\"bin_issue_type\"] = oe_issue_type.transform(\n",
    "    #     data[\"issue_type\"].astype(str).values.reshape(-1, 1)\n",
    "    # )\n",
    "\n",
    "    # x.replace([np.inf, -np.inf], np.nan, inplace=True)\n",
    "\n",
    "    x[\"buy_sell\"] = data[\"buy_sell\"]\n",
    "    return x\n"
   ]
  },
  {
   "cell_type": "code",
   "execution_count": 90,
   "metadata": {
    "id": "v4rfdI7Sjgi9"
   },
   "outputs": [],
   "source": [
    "train = transform(train)\n",
    "\n",
    "X_train = train.sample(frac=0.1)\n",
    "y_train = X_train.buy_sell\n",
    "X_train.drop(columns=[\"buy_sell\"], inplace=True)\n",
    "\n",
    "del train"
   ]
  },
  {
   "cell_type": "code",
   "execution_count": 91,
   "metadata": {
    "id": "sbrlb_jujbfT"
   },
   "outputs": [],
   "source": [
    "val = transform(val)\n",
    "\n",
    "X_val = val.sample(frac=0.1)\n",
    "y_val = X_val.buy_sell\n",
    "X_val.drop(columns=[\"buy_sell\"], inplace=True)\n",
    "\n",
    "del val"
   ]
  },
  {
   "cell_type": "code",
   "execution_count": 92,
   "metadata": {},
   "outputs": [],
   "source": [
    "from catboost import CatBoostClassifier, Pool"
   ]
  },
  {
   "cell_type": "code",
   "execution_count": 93,
   "metadata": {},
   "outputs": [
    {
     "data": {
      "application/vnd.jupyter.widget-view+json": {
       "model_id": "d1f64f9944c449a8a9cff5b492555d1a",
       "version_major": 2,
       "version_minor": 0
      },
      "text/plain": [
       "MetricVisualizer(layout=Layout(align_self='stretch', height='500px'))"
      ]
     },
     "metadata": {},
     "output_type": "display_data"
    },
    {
     "name": "stdout",
     "output_type": "stream",
     "text": [
      "0.7437643983583965\n"
     ]
    }
   ],
   "source": [
    "params = {\n",
    "        \"od_type\": \"Iter\",\n",
    "        \"logging_level\": \"Silent\",\n",
    "        \"loss_function\": \"Logloss\",\n",
    "        \"task_type\": \"GPU\",\n",
    "        \"cat_features\": None,\n",
    "        \"random_seed\": 42,\n",
    "        \"eval_metric\":\"Accuracy\",\n",
    "        \"iterations\":5000,\n",
    "        \"early_stopping_rounds\":100,\n",
    "}\n",
    "\n",
    "model = CatBoostClassifier(**params)\n",
    "train_pool = Pool(X_train, y_train,weight = X_train.index.values)\n",
    "model.fit(train_pool, eval_set=(X_val,y_val), plot=True)\n",
    "\n",
    "print(model.score(X_val, y_val))"
   ]
  },
  {
   "cell_type": "code",
   "execution_count": 94,
   "metadata": {},
   "outputs": [
    {
     "data": {
      "text/plain": [
       "Int64Index([ 3270119, 20276892, 15367926, 10141227, 10023404, 24897572,\n",
       "            13717543, 28566683, 24550419, 24475766,\n",
       "            ...\n",
       "            10575720, 21170997, 24888253, 16342752,  7689455, 19003383,\n",
       "            18992470,  9532168,  8361689, 25583424],\n",
       "           dtype='int64', length=2951032)"
      ]
     },
     "execution_count": 94,
     "metadata": {},
     "output_type": "execute_result"
    }
   ],
   "source": [
    "X_train.index"
   ]
  },
  {
   "cell_type": "code",
   "execution_count": 95,
   "metadata": {},
   "outputs": [],
   "source": [
    "# 0.7333797810178145 (logs applied) to     x[\"bid_ask_size_ratio_ex\"] x[\"rel_bid_size_ex\"]   x[\"rel_ask_size_ex\"] \n",
    "# 0.7331946683482763 (all from above + log returns)\n",
    "# 0.734859665271541 (all above + compare mids, ask, and bid at exchange with nation wide)\n",
    "# 0.7349013664773161 (all above + trade_price == bid_ex == ask_ex)\n",
    "# 0.7351464881990674 (price normed size)\n",
    "# 0.7352807457396116 (all above +  x[\"price_rel_nbo\"] +  x[\"price_rel_nbb\"])\n",
    "# 0.74296292 (some removed, see above, max. iterations reached. Actually there is no reason to stop ensemble)\n",
    "# 0.745053067 convert some ratios to percentages (all other things the same as above)"
   ]
  },
  {
   "cell_type": "code",
   "execution_count": 96,
   "metadata": {},
   "outputs": [
    {
     "data": {
      "text/html": [
       "<div>\n",
       "<style scoped>\n",
       "    .dataframe tbody tr th:only-of-type {\n",
       "        vertical-align: middle;\n",
       "    }\n",
       "\n",
       "    .dataframe tbody tr th {\n",
       "        vertical-align: top;\n",
       "    }\n",
       "\n",
       "    .dataframe thead th {\n",
       "        text-align: right;\n",
       "    }\n",
       "</style>\n",
       "<table border=\"1\" class=\"dataframe\">\n",
       "  <thead>\n",
       "    <tr style=\"text-align: right;\">\n",
       "      <th></th>\n",
       "      <th>Feature Id</th>\n",
       "      <th>Importances</th>\n",
       "    </tr>\n",
       "  </thead>\n",
       "  <tbody>\n",
       "    <tr>\n",
       "      <th>0</th>\n",
       "      <td>rel_ask_ex</td>\n",
       "      <td>11.093848</td>\n",
       "    </tr>\n",
       "    <tr>\n",
       "      <th>1</th>\n",
       "      <td>bid_ask_size_ratio_ex</td>\n",
       "      <td>11.085414</td>\n",
       "    </tr>\n",
       "    <tr>\n",
       "      <th>2</th>\n",
       "      <td>bid_size_ex</td>\n",
       "      <td>10.901654</td>\n",
       "    </tr>\n",
       "    <tr>\n",
       "      <th>3</th>\n",
       "      <td>ask_size_ex</td>\n",
       "      <td>10.351576</td>\n",
       "    </tr>\n",
       "    <tr>\n",
       "      <th>4</th>\n",
       "      <td>rel_bid_ex</td>\n",
       "      <td>8.065134</td>\n",
       "    </tr>\n",
       "    <tr>\n",
       "      <th>5</th>\n",
       "      <td>rel_bid_size_ex</td>\n",
       "      <td>5.684643</td>\n",
       "    </tr>\n",
       "    <tr>\n",
       "      <th>6</th>\n",
       "      <td>rel_ask_size_ex</td>\n",
       "      <td>4.790550</td>\n",
       "    </tr>\n",
       "    <tr>\n",
       "      <th>7</th>\n",
       "      <td>BEST_rel_bid</td>\n",
       "      <td>4.397296</td>\n",
       "    </tr>\n",
       "    <tr>\n",
       "      <th>8</th>\n",
       "      <td>BEST_rel_ask</td>\n",
       "      <td>4.126625</td>\n",
       "    </tr>\n",
       "    <tr>\n",
       "      <th>9</th>\n",
       "      <td>bid_ask_ratio_ex</td>\n",
       "      <td>3.944464</td>\n",
       "    </tr>\n",
       "    <tr>\n",
       "      <th>10</th>\n",
       "      <td>price_rel_nbo</td>\n",
       "      <td>2.886569</td>\n",
       "    </tr>\n",
       "    <tr>\n",
       "      <th>11</th>\n",
       "      <td>TRADE_SIZE</td>\n",
       "      <td>2.778840</td>\n",
       "    </tr>\n",
       "    <tr>\n",
       "      <th>12</th>\n",
       "      <td>price_rel_nbb</td>\n",
       "      <td>2.772427</td>\n",
       "    </tr>\n",
       "    <tr>\n",
       "      <th>13</th>\n",
       "      <td>ask_ex</td>\n",
       "      <td>1.761734</td>\n",
       "    </tr>\n",
       "    <tr>\n",
       "      <th>14</th>\n",
       "      <td>chg_all_lag</td>\n",
       "      <td>1.601556</td>\n",
       "    </tr>\n",
       "    <tr>\n",
       "      <th>15</th>\n",
       "      <td>ask_ex_best_ratio</td>\n",
       "      <td>1.459197</td>\n",
       "    </tr>\n",
       "    <tr>\n",
       "      <th>16</th>\n",
       "      <td>chg_all_lead</td>\n",
       "      <td>1.448899</td>\n",
       "    </tr>\n",
       "    <tr>\n",
       "      <th>17</th>\n",
       "      <td>BEST_ASK</td>\n",
       "      <td>1.327730</td>\n",
       "    </tr>\n",
       "    <tr>\n",
       "      <th>18</th>\n",
       "      <td>bid_ex_best_ratio</td>\n",
       "      <td>1.312623</td>\n",
       "    </tr>\n",
       "    <tr>\n",
       "      <th>19</th>\n",
       "      <td>TRADE_PRICE</td>\n",
       "      <td>1.251061</td>\n",
       "    </tr>\n",
       "    <tr>\n",
       "      <th>20</th>\n",
       "      <td>bid_ex</td>\n",
       "      <td>1.081661</td>\n",
       "    </tr>\n",
       "    <tr>\n",
       "      <th>21</th>\n",
       "      <td>chg_ex_lead</td>\n",
       "      <td>1.019473</td>\n",
       "    </tr>\n",
       "    <tr>\n",
       "      <th>22</th>\n",
       "      <td>BEST_BID</td>\n",
       "      <td>0.978881</td>\n",
       "    </tr>\n",
       "    <tr>\n",
       "      <th>23</th>\n",
       "      <td>price_all_lead</td>\n",
       "      <td>0.888152</td>\n",
       "    </tr>\n",
       "    <tr>\n",
       "      <th>24</th>\n",
       "      <td>mid_ex_best_ratio</td>\n",
       "      <td>0.865070</td>\n",
       "    </tr>\n",
       "    <tr>\n",
       "      <th>25</th>\n",
       "      <td>price_ex_lead</td>\n",
       "      <td>0.836523</td>\n",
       "    </tr>\n",
       "    <tr>\n",
       "      <th>26</th>\n",
       "      <td>chg_ex_lag</td>\n",
       "      <td>0.631808</td>\n",
       "    </tr>\n",
       "    <tr>\n",
       "      <th>27</th>\n",
       "      <td>price_ex_lag</td>\n",
       "      <td>0.356934</td>\n",
       "    </tr>\n",
       "    <tr>\n",
       "      <th>28</th>\n",
       "      <td>price_all_lag</td>\n",
       "      <td>0.299660</td>\n",
       "    </tr>\n",
       "  </tbody>\n",
       "</table>\n",
       "</div>"
      ],
      "text/plain": [
       "               Feature Id  Importances\n",
       "0              rel_ask_ex    11.093848\n",
       "1   bid_ask_size_ratio_ex    11.085414\n",
       "2             bid_size_ex    10.901654\n",
       "3             ask_size_ex    10.351576\n",
       "4              rel_bid_ex     8.065134\n",
       "5         rel_bid_size_ex     5.684643\n",
       "6         rel_ask_size_ex     4.790550\n",
       "7            BEST_rel_bid     4.397296\n",
       "8            BEST_rel_ask     4.126625\n",
       "9        bid_ask_ratio_ex     3.944464\n",
       "10          price_rel_nbo     2.886569\n",
       "11             TRADE_SIZE     2.778840\n",
       "12          price_rel_nbb     2.772427\n",
       "13                 ask_ex     1.761734\n",
       "14            chg_all_lag     1.601556\n",
       "15      ask_ex_best_ratio     1.459197\n",
       "16           chg_all_lead     1.448899\n",
       "17               BEST_ASK     1.327730\n",
       "18      bid_ex_best_ratio     1.312623\n",
       "19            TRADE_PRICE     1.251061\n",
       "20                 bid_ex     1.081661\n",
       "21            chg_ex_lead     1.019473\n",
       "22               BEST_BID     0.978881\n",
       "23         price_all_lead     0.888152\n",
       "24      mid_ex_best_ratio     0.865070\n",
       "25          price_ex_lead     0.836523\n",
       "26             chg_ex_lag     0.631808\n",
       "27           price_ex_lag     0.356934\n",
       "28          price_all_lag     0.299660"
      ]
     },
     "execution_count": 96,
     "metadata": {},
     "output_type": "execute_result"
    }
   ],
   "source": [
    "feature_importance = model.get_feature_importance(prettified=True)\n",
    "feature_importance\n"
   ]
  },
  {
   "cell_type": "code",
   "execution_count": null,
   "metadata": {},
   "outputs": [],
   "source": []
  }
 ],
 "metadata": {
  "colab": {
   "machine_shape": "hm",
   "name": "Untitled2.ipynb",
   "provenance": []
  },
  "gpuClass": "premium",
  "kernelspec": {
   "display_name": "Python (thesis)",
   "language": "python",
   "name": "thesis"
  },
  "language_info": {
   "codemirror_mode": {
    "name": "ipython",
    "version": 3
   },
   "file_extension": ".py",
   "mimetype": "text/x-python",
   "name": "python",
   "nbconvert_exporter": "python",
   "pygments_lexer": "ipython3",
   "version": "3.8.6"
  },
  "vscode": {
   "interpreter": {
    "hash": "e7370f93d1d0cde622a1f8e1c04877d8463912d04d973331ad4851f04de6915a"
   }
  }
 },
 "nbformat": 4,
 "nbformat_minor": 4
}
