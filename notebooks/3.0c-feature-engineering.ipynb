{
 "cells": [
  {
   "cell_type": "code",
   "execution_count": 1,
   "metadata": {
    "id": "7WXF7w4VyVgG",
    "tags": []
   },
   "outputs": [],
   "source": [
    "import os\n",
    "import gc\n",
    "\n",
    "import gcsfs\n",
    "\n",
    "import numpy as np\n",
    "import numpy.typing as npt\n",
    "import pandas as pd\n",
    "\n",
    "from pathlib import Path\n",
    "\n",
    "import wandb\n",
    "\n",
    "from catboost import CatBoostClassifier, Pool\n",
    "\n",
    "from sklearn.preprocessing import StandardScaler, OrdinalEncoder, PowerTransformer\n",
    "from sklearn.exceptions import NotFittedError\n",
    "# from sklearn.model_selection import cross_validate, ShuffleSplit\n",
    "from sklearn.model_selection import train_test_split\n",
    "from sklearn.metrics import matthews_corrcoef\n",
    "\n",
    "import pickle\n",
    "import google.auth"
   ]
  },
  {
   "cell_type": "code",
   "execution_count": 2,
   "metadata": {
    "tags": []
   },
   "outputs": [
    {
     "name": "stderr",
     "output_type": "stream",
     "text": [
      "/pfs/data5/home/kit/stud/uloak/thesis/thesis/lib/python3.8/site-packages/google/auth/_default.py:78: UserWarning: Your application has authenticated using end user credentials from Google Cloud SDK without a quota project. You might receive a \"quota exceeded\" or \"API not enabled\" error. See the following page for troubleshooting: https://cloud.google.com/docs/authentication/adc-troubleshooting/user-creds. \n",
      "  warnings.warn(_CLOUD_SDK_CREDENTIALS_WARNING)\n"
     ]
    }
   ],
   "source": [
    "credentials, _ = google.auth.default()\n",
    "fs = gcsfs.GCSFileSystem(project=\"thesis\", token=credentials)"
   ]
  },
  {
   "cell_type": "code",
   "execution_count": 3,
   "metadata": {
    "colab": {
     "base_uri": "https://localhost:8080/",
     "height": 191
    },
    "id": "KftC_bFhgwZt",
    "outputId": "933d7b6d-400b-4f98-fa1f-a9cae72bb733",
    "tags": []
   },
   "outputs": [
    {
     "name": "stderr",
     "output_type": "stream",
     "text": [
      "Failed to detect the name of this notebook, you can set it manually with the WANDB_NOTEBOOK_NAME environment variable to enable code saving.\n",
      "/opt/bwhpc/common/devel/python/3.8.6_intel_19.1/python_intel_packages/lib/python3.8/site-packages/IPython/html.py:12: ShimWarning: The `IPython.html` package has been deprecated since IPython 4.0. You should import from `notebook` instead. `IPython.html.widgets` has moved to `ipywidgets`.\n",
      "  warn(\"The `IPython.html` package has been deprecated since IPython 4.0. \"\n",
      "\u001b[34m\u001b[1mwandb\u001b[0m: Currently logged in as: \u001b[33mkarelze\u001b[0m (\u001b[33mfbv\u001b[0m). Use \u001b[1m`wandb login --relogin`\u001b[0m to force relogin\n"
     ]
    },
    {
     "data": {
      "text/html": [
       "wandb version 0.14.0 is available!  To upgrade, please run:\n",
       " $ pip install wandb --upgrade"
      ],
      "text/plain": [
       "<IPython.core.display.HTML object>"
      ]
     },
     "metadata": {},
     "output_type": "display_data"
    },
    {
     "data": {
      "text/html": [
       "Tracking run with wandb version 0.13.5"
      ],
      "text/plain": [
       "<IPython.core.display.HTML object>"
      ]
     },
     "metadata": {},
     "output_type": "display_data"
    },
    {
     "data": {
      "text/html": [
       "Run data is saved locally in <code>/pfs/data5/home/kit/stud/uloak/thesis/notebooks/wandb/run-20230329_155409-3ve6ha35</code>"
      ],
      "text/plain": [
       "<IPython.core.display.HTML object>"
      ]
     },
     "metadata": {},
     "output_type": "display_data"
    },
    {
     "data": {
      "text/html": [
       "Syncing run <strong><a href=\"https://wandb.ai/fbv/thesis/runs/3ve6ha35\" target=\"_blank\">eager-cosmos-916</a></strong> to <a href=\"https://wandb.ai/fbv/thesis\" target=\"_blank\">Weights & Biases</a> (<a href=\"https://wandb.me/run\" target=\"_blank\">docs</a>)<br/>"
      ],
      "text/plain": [
       "<IPython.core.display.HTML object>"
      ]
     },
     "metadata": {},
     "output_type": "display_data"
    }
   ],
   "source": [
    "# connect to weights and biases\n",
    "run = wandb.init(project=\"thesis\", job_type=\"dataset-creation\", entity=\"fbv\")"
   ]
  },
  {
   "cell_type": "code",
   "execution_count": 4,
   "metadata": {
    "tags": []
   },
   "outputs": [],
   "source": [
    "# set here globally\n",
    "seed = 42\n",
    "\n",
    "exchange = \"cboe\" # \"ise\"\n",
    "strategy = \"supervised\" # \"transfer\" # \"unsupervised\""
   ]
  },
  {
   "cell_type": "code",
   "execution_count": 5,
   "metadata": {
    "id": "Xk8VWtSQces7",
    "tags": []
   },
   "outputs": [
    {
     "data": {
      "text/html": [
       "Finishing last run (ID:3ve6ha35) before initializing another..."
      ],
      "text/plain": [
       "<IPython.core.display.HTML object>"
      ]
     },
     "metadata": {},
     "output_type": "display_data"
    },
    {
     "data": {
      "text/html": [
       "Waiting for W&B process to finish... <strong style=\"color:green\">(success).</strong>"
      ],
      "text/plain": [
       "<IPython.core.display.HTML object>"
      ]
     },
     "metadata": {},
     "output_type": "display_data"
    },
    {
     "data": {
      "text/html": [
       "Synced <strong style=\"color:#cdcd00\">eager-cosmos-916</strong>: <a href=\"https://wandb.ai/fbv/thesis/runs/3ve6ha35\" target=\"_blank\">https://wandb.ai/fbv/thesis/runs/3ve6ha35</a><br/>Synced 4 W&B file(s), 0 media file(s), 0 artifact file(s) and 0 other file(s)"
      ],
      "text/plain": [
       "<IPython.core.display.HTML object>"
      ]
     },
     "metadata": {},
     "output_type": "display_data"
    },
    {
     "data": {
      "text/html": [
       "Find logs at: <code>./wandb/run-20230329_155409-3ve6ha35/logs</code>"
      ],
      "text/plain": [
       "<IPython.core.display.HTML object>"
      ]
     },
     "metadata": {},
     "output_type": "display_data"
    },
    {
     "data": {
      "text/html": [
       "Successfully finished last run (ID:3ve6ha35). Initializing new run:<br/>"
      ],
      "text/plain": [
       "<IPython.core.display.HTML object>"
      ]
     },
     "metadata": {},
     "output_type": "display_data"
    },
    {
     "data": {
      "text/html": [
       "wandb version 0.14.0 is available!  To upgrade, please run:\n",
       " $ pip install wandb --upgrade"
      ],
      "text/plain": [
       "<IPython.core.display.HTML object>"
      ]
     },
     "metadata": {},
     "output_type": "display_data"
    },
    {
     "data": {
      "text/html": [
       "Tracking run with wandb version 0.13.5"
      ],
      "text/plain": [
       "<IPython.core.display.HTML object>"
      ]
     },
     "metadata": {},
     "output_type": "display_data"
    },
    {
     "data": {
      "text/html": [
       "Run data is saved locally in <code>/pfs/data5/home/kit/stud/uloak/thesis/notebooks/wandb/run-20230329_155410-hl2a70rr</code>"
      ],
      "text/plain": [
       "<IPython.core.display.HTML object>"
      ]
     },
     "metadata": {},
     "output_type": "display_data"
    },
    {
     "data": {
      "text/html": [
       "Syncing run <strong><a href=\"https://wandb.ai/fbv/thesis/runs/hl2a70rr\" target=\"_blank\">sweet-sky-917</a></strong> to <a href=\"https://wandb.ai/fbv/thesis\" target=\"_blank\">Weights & Biases</a> (<a href=\"https://wandb.me/run\" target=\"_blank\">docs</a>)<br/>"
      ],
      "text/plain": [
       "<IPython.core.display.HTML object>"
      ]
     },
     "metadata": {},
     "output_type": "display_data"
    },
    {
     "name": "stderr",
     "output_type": "stream",
     "text": [
      "\u001b[34m\u001b[1mwandb\u001b[0m: Downloading large artifact cboe_supervised_raw:latest, 1937.19MB. 3 files... \n",
      "\u001b[34m\u001b[1mwandb\u001b[0m:   3 of 3 files downloaded.  \n",
      "Done. 0:0:0.0\n"
     ]
    }
   ],
   "source": [
    "dataset = f\"fbv/thesis/{exchange}_{strategy}_raw:latest\"\n",
    "\n",
    "os.environ[\"GCLOUD_PROJECT\"] = \"flowing-mantis-239216\"\n",
    "run = wandb.init(project=\"thesis\", entity=\"fbv\")\n",
    "\n",
    "# load unscaled data\n",
    "artifact = run.use_artifact(dataset)\n",
    "data_dir = artifact.download()"
   ]
  },
  {
   "cell_type": "code",
   "execution_count": 6,
   "metadata": {
    "id": "yJViJH1yl_S7",
    "tags": []
   },
   "outputs": [],
   "source": [
    "# reduce number of imported cols due to memory issues\n",
    "columns = [\n",
    "    \"QUOTE_DATETIME\",\n",
    "    \"ROOT\",\n",
    "    \"EXPIRATION\",\n",
    "    \"STRK_PRC\",\n",
    "    \"OPTION_TYPE\",\n",
    "    \"issue_type\",\n",
    "    \"TRADE_SIZE\",\n",
    "    \"TRADE_PRICE\",\n",
    "    \"BEST_BID\",\n",
    "    \"BEST_ASK\",\n",
    "    \"ask_ex\",\n",
    "    \"bid_ex\",\n",
    "    \"bid_size_ex\",\n",
    "    \"ask_size_ex\",\n",
    "    \"price_all_lead\",\n",
    "    \"price_all_lag\",\n",
    "    \"price_ex_lead\",\n",
    "    \"price_ex_lag\",\n",
    "    \"buy_sell\",\n",
    "    \"day_vol\",\n",
    "    \"myn\",\n",
    "]\n"
   ]
  },
  {
   "cell_type": "code",
   "execution_count": 7,
   "metadata": {
    "id": "WmXtH-PEqyQE",
    "outputId": "8c68b54f-0331-444a-d3d8-83a6e2a9e7c3",
    "tags": []
   },
   "outputs": [],
   "source": [
    "if strategy == \"supervised\":\n",
    "    train = pd.read_parquet(\n",
    "        Path(data_dir, \"train_set\"), engine=\"fastparquet\", columns=columns\n",
    "    )\n",
    "    val = pd.read_parquet(\n",
    "        Path(data_dir, \"val_set\"), engine=\"fastparquet\", columns=columns\n",
    "    )\n",
    "    test = pd.read_parquet(\n",
    "        Path(data_dir, \"test_set\"), engine=\"fastparquet\", columns=columns\n",
    "    )\n",
    "    \n",
    "elif strategy == \"unsupervised\":\n",
    "    # load unlabelled training set\n",
    "    train = pd.read_parquet(\n",
    "        Path(data_dir, \"train_set\"), engine=\"fastparquet\", columns=columns\n",
    "    )\n",
    "\n",
    "elif strategy == \"transfer\":\n",
    "    # load test set\n",
    "    test = pd.read_parquet(\n",
    "        Path(data_dir, \"test_set\"), engine=\"fastparquet\", columns=columns\n",
    "    )\n"
   ]
  },
  {
   "cell_type": "code",
   "execution_count": 8,
   "metadata": {
    "id": "CZoGJyq_ivfG",
    "tags": []
   },
   "outputs": [],
   "source": [
    "num_features = [\n",
    "    \"STRK_PRC\",\n",
    "    \"TRADE_SIZE\",\n",
    "    \"TRADE_PRICE\",\n",
    "    \"BEST_BID\",\n",
    "    \"BEST_ASK\",\n",
    "    \"ask_ex\",\n",
    "    \"bid_ex\",\n",
    "    \"bid_size_ex\",\n",
    "    \"ask_size_ex\",\n",
    "    \"price_all_lead\",\n",
    "    \"price_all_lag\",\n",
    "    \"price_ex_lead\",\n",
    "    \"price_ex_lag\",\n",
    "    \"day_vol\",\n",
    "    \"myn\",\n",
    "]\n"
   ]
  },
  {
   "cell_type": "markdown",
   "metadata": {
    "id": "e3_ot886ivfK"
   },
   "source": [
    "## Box Cox Test"
   ]
  },
  {
   "cell_type": "code",
   "execution_count": 13,
   "metadata": {
    "colab": {
     "base_uri": "https://localhost:8080/"
    },
    "id": "v0MseONFivfL",
    "outputId": "3a3cf373-d246-4c42-cb9d-13c41570f7d1",
    "tags": []
   },
   "outputs": [
    {
     "data": {
      "text/plain": [
       "STRK_PRC          5.000000e-01\n",
       "TRADE_SIZE        1.000000e+00\n",
       "TRADE_PRICE       1.000000e-02\n",
       "BEST_BID          0.000000e+00\n",
       "BEST_ASK          0.000000e+00\n",
       "ask_ex            0.000000e+00\n",
       "bid_ex            0.000000e+00\n",
       "bid_size_ex       0.000000e+00\n",
       "ask_size_ex       0.000000e+00\n",
       "price_all_lead    1.000000e-02\n",
       "price_all_lag     1.000000e-02\n",
       "price_ex_lead     1.000000e-02\n",
       "price_ex_lag      1.000000e-02\n",
       "day_vol           1.000000e+00\n",
       "myn               3.725289e-07\n",
       "dtype: float64"
      ]
     },
     "execution_count": 13,
     "metadata": {},
     "output_type": "execute_result"
    }
   ],
   "source": [
    "train[num_features].min()\n"
   ]
  },
  {
   "cell_type": "code",
   "execution_count": 14,
   "metadata": {
    "colab": {
     "base_uri": "https://localhost:8080/"
    },
    "id": "owNjZgepivfN",
    "outputId": "2535b4d5-88ec-47ac-e0c6-310d12a0a6b7",
    "tags": []
   },
   "outputs": [
    {
     "data": {
      "text/html": [
       "<style>#sk-container-id-1 {color: black;background-color: white;}#sk-container-id-1 pre{padding: 0;}#sk-container-id-1 div.sk-toggleable {background-color: white;}#sk-container-id-1 label.sk-toggleable__label {cursor: pointer;display: block;width: 100%;margin-bottom: 0;padding: 0.3em;box-sizing: border-box;text-align: center;}#sk-container-id-1 label.sk-toggleable__label-arrow:before {content: \"▸\";float: left;margin-right: 0.25em;color: #696969;}#sk-container-id-1 label.sk-toggleable__label-arrow:hover:before {color: black;}#sk-container-id-1 div.sk-estimator:hover label.sk-toggleable__label-arrow:before {color: black;}#sk-container-id-1 div.sk-toggleable__content {max-height: 0;max-width: 0;overflow: hidden;text-align: left;background-color: #f0f8ff;}#sk-container-id-1 div.sk-toggleable__content pre {margin: 0.2em;color: black;border-radius: 0.25em;background-color: #f0f8ff;}#sk-container-id-1 input.sk-toggleable__control:checked~div.sk-toggleable__content {max-height: 200px;max-width: 100%;overflow: auto;}#sk-container-id-1 input.sk-toggleable__control:checked~label.sk-toggleable__label-arrow:before {content: \"▾\";}#sk-container-id-1 div.sk-estimator input.sk-toggleable__control:checked~label.sk-toggleable__label {background-color: #d4ebff;}#sk-container-id-1 div.sk-label input.sk-toggleable__control:checked~label.sk-toggleable__label {background-color: #d4ebff;}#sk-container-id-1 input.sk-hidden--visually {border: 0;clip: rect(1px 1px 1px 1px);clip: rect(1px, 1px, 1px, 1px);height: 1px;margin: -1px;overflow: hidden;padding: 0;position: absolute;width: 1px;}#sk-container-id-1 div.sk-estimator {font-family: monospace;background-color: #f0f8ff;border: 1px dotted black;border-radius: 0.25em;box-sizing: border-box;margin-bottom: 0.5em;}#sk-container-id-1 div.sk-estimator:hover {background-color: #d4ebff;}#sk-container-id-1 div.sk-parallel-item::after {content: \"\";width: 100%;border-bottom: 1px solid gray;flex-grow: 1;}#sk-container-id-1 div.sk-label:hover label.sk-toggleable__label {background-color: #d4ebff;}#sk-container-id-1 div.sk-serial::before {content: \"\";position: absolute;border-left: 1px solid gray;box-sizing: border-box;top: 0;bottom: 0;left: 50%;z-index: 0;}#sk-container-id-1 div.sk-serial {display: flex;flex-direction: column;align-items: center;background-color: white;padding-right: 0.2em;padding-left: 0.2em;position: relative;}#sk-container-id-1 div.sk-item {position: relative;z-index: 1;}#sk-container-id-1 div.sk-parallel {display: flex;align-items: stretch;justify-content: center;background-color: white;position: relative;}#sk-container-id-1 div.sk-item::before, #sk-container-id-1 div.sk-parallel-item::before {content: \"\";position: absolute;border-left: 1px solid gray;box-sizing: border-box;top: 0;bottom: 0;left: 50%;z-index: -1;}#sk-container-id-1 div.sk-parallel-item {display: flex;flex-direction: column;z-index: 1;position: relative;background-color: white;}#sk-container-id-1 div.sk-parallel-item:first-child::after {align-self: flex-end;width: 50%;}#sk-container-id-1 div.sk-parallel-item:last-child::after {align-self: flex-start;width: 50%;}#sk-container-id-1 div.sk-parallel-item:only-child::after {width: 0;}#sk-container-id-1 div.sk-dashed-wrapped {border: 1px dashed gray;margin: 0 0.4em 0.5em 0.4em;box-sizing: border-box;padding-bottom: 0.4em;background-color: white;}#sk-container-id-1 div.sk-label label {font-family: monospace;font-weight: bold;display: inline-block;line-height: 1.2em;}#sk-container-id-1 div.sk-label-container {text-align: center;}#sk-container-id-1 div.sk-container {/* jupyter's `normalize.less` sets `[hidden] { display: none; }` but bootstrap.min.css set `[hidden] { display: none !important; }` so we also need the `!important` here to be able to override the default hidden behavior on the sphinx rendered scikit-learn.org. See: https://github.com/scikit-learn/scikit-learn/issues/21755 */display: inline-block !important;position: relative;}#sk-container-id-1 div.sk-text-repr-fallback {display: none;}</style><div id=\"sk-container-id-1\" class=\"sk-top-container\"><div class=\"sk-text-repr-fallback\"><pre>PowerTransformer(method=&#x27;box-cox&#x27;)</pre><b>In a Jupyter environment, please rerun this cell to show the HTML representation or trust the notebook. <br />On GitHub, the HTML representation is unable to render, please try loading this page with nbviewer.org.</b></div><div class=\"sk-container\" hidden><div class=\"sk-item\"><div class=\"sk-estimator sk-toggleable\"><input class=\"sk-toggleable__control sk-hidden--visually\" id=\"sk-estimator-id-1\" type=\"checkbox\" checked><label for=\"sk-estimator-id-1\" class=\"sk-toggleable__label sk-toggleable__label-arrow\">PowerTransformer</label><div class=\"sk-toggleable__content\"><pre>PowerTransformer(method=&#x27;box-cox&#x27;)</pre></div></div></div></div></div>"
      ],
      "text/plain": [
       "PowerTransformer(method='box-cox')"
      ]
     },
     "execution_count": 14,
     "metadata": {},
     "output_type": "execute_result"
    }
   ],
   "source": [
    "box_cox = PowerTransformer(method=\"box-cox\")\n",
    "# add constant as box cox works only on positive data\n",
    "box_cox.fit(train[num_features] + 0.01)\n"
   ]
  },
  {
   "cell_type": "code",
   "execution_count": 15,
   "metadata": {
    "colab": {
     "base_uri": "https://localhost:8080/"
    },
    "id": "rfV5iVfuivfN",
    "outputId": "60a15dc2-6eac-45ef-e520-74208d0182a4",
    "tags": []
   },
   "outputs": [
    {
     "data": {
      "text/plain": [
       "STRK_PRC         -0.082968\n",
       "TRADE_SIZE       -0.204893\n",
       "TRADE_PRICE       0.060425\n",
       "BEST_BID          0.110299\n",
       "BEST_ASK          0.056837\n",
       "ask_ex            0.049090\n",
       "bid_ex            0.113067\n",
       "bid_size_ex       0.140284\n",
       "ask_size_ex       0.029876\n",
       "price_all_lead    0.054975\n",
       "price_all_lag     0.049097\n",
       "price_ex_lead     0.053774\n",
       "price_ex_lag      0.042910\n",
       "day_vol          -0.116017\n",
       "myn              -0.109716\n",
       "dtype: float64"
      ]
     },
     "execution_count": 15,
     "metadata": {},
     "output_type": "execute_result"
    }
   ],
   "source": [
    "lambdas = pd.Series(data=box_cox.lambdas_, index=num_features)\n",
    "lambdas\n"
   ]
  },
  {
   "cell_type": "markdown",
   "metadata": {
    "id": "E7gne62JXAMc"
   },
   "source": [
    "Use smallest possible constant for Box-Cox test. All $\\lambda \\approx 0 \\implies \\log(\\cdot)$ for price, size, and quotes."
   ]
  },
  {
   "cell_type": "code",
   "execution_count": 9,
   "metadata": {
    "id": "-f1NBeZNcXpY",
    "tags": []
   },
   "outputs": [],
   "source": [
    "if strategy == \"supervised\":\n",
    "    scaler = StandardScaler()\n",
    "    oe_option_type = OrdinalEncoder(\n",
    "        unknown_value=-1, dtype=int, handle_unknown=\"use_encoded_value\"\n",
    "    )\n",
    "    oe_root = OrdinalEncoder(\n",
    "        unknown_value=-1, dtype=int, handle_unknown=\"use_encoded_value\"\n",
    "    )\n",
    "    oe_issue_type = OrdinalEncoder(\n",
    "       unknown_value=-1, dtype=int, handle_unknown=\"use_encoded_value\"\n",
    "    )\n",
    "\n",
    "else:\n",
    "    # if mode transfer or mode unsupervised -> use scaler from ise supervised dataset\n",
    "    # if mode supervised -> fit scaler on ise / cboe training set and apply on validation and test set\n",
    "\n",
    "    # TODO: Fix if I get unlabelled CBOE dataset\n",
    "    artifact = run.use_artifact(\"fbv/thesis/ise_supervised_log_standardized_scaler:latest\")\n",
    "    scaler_dir = artifact.download()\n",
    "    scalers = pickle.load(open(Path(scaler_dir,\"ise_supervised_scalers.sklearn\"), 'rb'))\n",
    "    \n",
    "    # set fitted scalers\n",
    "    scaler = scalers[\"scaler\"]\n",
    "    oe_option_type = scalers[\"oe_option_type\"]\n",
    "    oe_root = scalers[\"oe_root\"]\n",
    "    oe_issue_type = scalers[\"oe_issue_type\"]\n",
    "\n",
    "\n",
    "def transform(data: pd.DataFrame) -> pd.DataFrame:\n",
    "    \"\"\"\n",
    "    Create features, impute, and scale.\n",
    "\n",
    "    Args:\n",
    "        data (pd.DataFrame): input data frame.\n",
    "    Returns:\n",
    "        pd.DataFrame: updated data frame.\n",
    "    \"\"\"\n",
    "\n",
    "    # set up df, overwrite later\n",
    "    x = pd.DataFrame(data={\"TRADE_PRICE\": data[\"TRADE_PRICE\"]}, index=data.index)\n",
    "\n",
    "    # size features\n",
    "    x[\"bid_ask_size_ratio_ex\"] = data[\"bid_size_ex\"] / data[\"ask_size_ex\"]\n",
    "    x[\"rel_bid_size_ex\"] = data[\"TRADE_SIZE\"] / data[\"bid_size_ex\"]\n",
    "    x[\"rel_ask_size_ex\"] = data[\"TRADE_SIZE\"] / data[\"ask_size_ex\"]\n",
    "    x[\"depth_ex\"] = data[\"bid_size_ex\"] - data[\"ask_size_ex\"]\n",
    "\n",
    "    # classical\n",
    "    mid_ex = 0.5 * (data[\"ask_ex\"] + data[\"bid_ex\"])\n",
    "    mid_best = 0.5 * (data[\"BEST_ASK\"] + data[\"BEST_BID\"])\n",
    "\n",
    "    spread_ex = data[\"ask_ex\"] - data[\"bid_ex\"]\n",
    "    spread_best = data[\"BEST_ASK\"] - data[\"BEST_BID\"]\n",
    "\n",
    "    x[\"prox_ex\"] = (data[\"TRADE_PRICE\"] - mid_ex) / (0.5 * spread_ex)\n",
    "    x[\"prox_best\"] = (data[\"TRADE_PRICE\"] - mid_best) / (0.5 * spread_best)\n",
    "\n",
    "    # custom features\n",
    "    x[\"spread_ex\"] = spread_ex\n",
    "    x[\"spread_best\"] = spread_best\n",
    "    x[\"bid_ask_ratio_ex\"] = data[\"bid_ex\"] / data[\"ask_ex\"]\n",
    "    # x[\"price_rel_nbo\"] = (data[\"TRADE_PRICE\"] - data[\"BEST_ASK\"]) / (\n",
    "    #     data[\"BEST_ASK\"] - mid_best\n",
    "    # )\n",
    "    # x[\"price_rel_nbb\"] = (data[\"TRADE_PRICE\"] - data[\"BEST_BID\"]) / (\n",
    "    #     mid_best - data[\"BEST_BID\"]\n",
    "    # )\n",
    "\n",
    "    # calculate change\n",
    "    x[\"chg_ex_lead\"] = data[\"TRADE_PRICE\"] - data[\"price_ex_lead\"]\n",
    "    x[\"chg_ex_lag\"] = data[\"TRADE_PRICE\"] - data[\"price_ex_lag\"]\n",
    "    x[\"chg_all_lead\"] = data[\"TRADE_PRICE\"] - data[\"price_all_lead\"]\n",
    "    x[\"chg_all_lag\"] = data[\"TRADE_PRICE\"] - data[\"price_all_lag\"]\n",
    "\n",
    "    # asks = [f\"ASK_{i}\" for i in range(1, 17)]\n",
    "    # bids = [f\"BID_{i}\" for i in range(1, 17)]\n",
    "    \n",
    "    # log transformed features\n",
    "    x[\n",
    "        [\n",
    "            \"ask_ex\",\n",
    "            \"bid_ex\",\n",
    "            \"BEST_ASK\",\n",
    "            \"BEST_BID\",\n",
    "            \"TRADE_PRICE\",\n",
    "            \"price_all_lag\",\n",
    "            \"price_all_lead\",\n",
    "            \"price_ex_lag\",\n",
    "            \"price_ex_lead\",\n",
    "            \"TRADE_SIZE\",\n",
    "            \"bid_size_ex\",\n",
    "            \"ask_size_ex\",\n",
    "            \"day_vol\",\n",
    "            \"myn\",\n",
    "            \"STRK_PRC\",\n",
    "            # *asks,\n",
    "            # *bids\n",
    "        ]\n",
    "    ] = np.log1p(\n",
    "        data[\n",
    "            [\n",
    "                \"ask_ex\",\n",
    "                \"bid_ex\",\n",
    "                \"BEST_ASK\",\n",
    "                \"BEST_BID\",\n",
    "                \"TRADE_PRICE\",\n",
    "                \"price_all_lag\",\n",
    "                \"price_all_lead\",\n",
    "                \"price_ex_lag\",\n",
    "                \"price_ex_lead\",\n",
    "                \"TRADE_SIZE\",\n",
    "                \"bid_size_ex\",\n",
    "                \"ask_size_ex\",\n",
    "                \"day_vol\",\n",
    "                \"myn\",\n",
    "                \"STRK_PRC\",\n",
    "                # *asks,\n",
    "                # *bids\n",
    "            ]\n",
    "        ]\n",
    "    )\n",
    "    x[\"mid_ex\"] = np.log1p(mid_ex)\n",
    "    x[\"mid_best\"] = np.log1p(mid_best)\n",
    "\n",
    "    x[\"ttm\"] = (\n",
    "        data[\"EXPIRATION\"].dt.to_period(\"M\") - data[\"QUOTE_DATETIME\"].dt.to_period(\"M\")\n",
    "    ).apply(lambda x: x.n)\n",
    "\n",
    "    # save num columns for scaler\n",
    "    num_cols = x.columns.tolist()\n",
    "\n",
    "#     # date features\n",
    "#     x[\"date_year\"] = data[\"QUOTE_DATETIME\"].dt.year\n",
    "\n",
    "#     months_in_year = 12\n",
    "#     x[\"date_month_sin\"] = sin_encode(data[\"QUOTE_DATETIME\"].dt.month, months_in_year)\n",
    "#     x[\"date_month_cos\"] = cos_encode(data[\"QUOTE_DATETIME\"].dt.month, months_in_year)\n",
    "\n",
    "#     days_in_month = 31  # at max :-)\n",
    "#     x[\"date_day_sin\"] = sin_encode(data[\"QUOTE_DATETIME\"].dt.day, days_in_month)\n",
    "#     x[\"date_day_cos\"] = cos_encode(data[\"QUOTE_DATETIME\"].dt.day, days_in_month)\n",
    "\n",
    "#     days_in_week = 7\n",
    "#     x[\"date_weekday_sin\"] = sin_encode(\n",
    "#         data[\"QUOTE_DATETIME\"].dt.dayofweek, days_in_week\n",
    "#     )\n",
    "#     x[\"date_weekday_cos\"] = cos_encode(\n",
    "#         data[\"QUOTE_DATETIME\"].dt.dayofweek, days_in_week\n",
    "#     )\n",
    "\n",
    "#     seconds_in_day = 24 * 60 * 60\n",
    "#     seconds = (\n",
    "#         data[\"QUOTE_DATETIME\"] - data[\"QUOTE_DATETIME\"].dt.normalize()\n",
    "#     ).dt.total_seconds()\n",
    "\n",
    "#     x[\"date_time_sin\"] = sin_encode(seconds, seconds_in_day)\n",
    "#     x[\"date_time_cos\"] = cos_encode(seconds, seconds_in_day)\n",
    "\n",
    "    # impute with zeros\n",
    "    x.replace([np.inf, -np.inf], np.nan, inplace=True)\n",
    "    x.fillna(0, inplace=True)\n",
    "\n",
    "    # standardize continous columns (w/o date features)\n",
    "    # bin encode categorical features\n",
    "    try:\n",
    "        x[num_cols] = scaler.transform(x[num_cols])\n",
    "        x[\"bin_option_type\"] = oe_option_type.transform(\n",
    "            data[\"OPTION_TYPE\"].astype(str).values.reshape(-1, 1)\n",
    "        )\n",
    "        x[\"bin_issue_type\"] = oe_issue_type.transform(\n",
    "            data[\"issue_type\"].astype(str).values.reshape(-1, 1)\n",
    "        )\n",
    "        x[\"bin_root\"] = oe_root.transform(\n",
    "            data[\"ROOT\"].astype(str).values.reshape(-1, 1)\n",
    "        )\n",
    "        print(\"transform (val + test)\")\n",
    "    except NotFittedError as e:\n",
    "        x[num_cols] = scaler.fit_transform(x[num_cols])\n",
    "        x[\"bin_option_type\"] = oe_option_type.fit_transform(\n",
    "            data[\"OPTION_TYPE\"].astype(str).values.reshape(-1, 1)\n",
    "        )\n",
    "        x[\"bin_issue_type\"] = oe_issue_type.fit_transform(\n",
    "            data[\"issue_type\"].astype(str).values.reshape(-1, 1)\n",
    "        )\n",
    "        x[\"bin_root\"] = oe_root.fit_transform(\n",
    "            data[\"ROOT\"].astype(str).values.reshape(-1, 1)\n",
    "        )\n",
    "        print(\"fit_transform (train)\")\n",
    "\n",
    "    x[\"buy_sell\"] = data[\"buy_sell\"].astype(\"int8\")\n",
    "    return x\n"
   ]
  },
  {
   "cell_type": "markdown",
   "metadata": {
    "id": "3gKBgTbBivfS"
   },
   "source": [
    "## Write to file"
   ]
  },
  {
   "cell_type": "code",
   "execution_count": 10,
   "metadata": {
    "colab": {
     "base_uri": "https://localhost:8080/"
    },
    "id": "0b-3AOjcivfT",
    "outputId": "241094f0-0cda-44a8-e377-d5809d6ca1bd",
    "tags": []
   },
   "outputs": [
    {
     "name": "stderr",
     "output_type": "stream",
     "text": [
      "/pfs/data5/home/kit/stud/uloak/thesis/thesis/lib/python3.8/site-packages/pandas/core/internals/blocks.py:351: RuntimeWarning: divide by zero encountered in log1p\n",
      "  result = func(self.values, **kwargs)\n",
      "/pfs/data5/home/kit/stud/uloak/thesis/thesis/lib/python3.8/site-packages/pandas/core/internals/blocks.py:351: RuntimeWarning: invalid value encountered in log1p\n",
      "  result = func(self.values, **kwargs)\n"
     ]
    },
    {
     "name": "stdout",
     "output_type": "stream",
     "text": [
      "fit_transform (train)\n"
     ]
    },
    {
     "name": "stderr",
     "output_type": "stream",
     "text": [
      "/pfs/data5/home/kit/stud/uloak/thesis/thesis/lib/python3.8/site-packages/google/auth/_default.py:78: UserWarning: Your application has authenticated using end user credentials from Google Cloud SDK without a quota project. You might receive a \"quota exceeded\" or \"API not enabled\" error. See the following page for troubleshooting: https://cloud.google.com/docs/authentication/adc-troubleshooting/user-creds. \n",
      "  warnings.warn(_CLOUD_SDK_CREDENTIALS_WARNING)\n"
     ]
    },
    {
     "name": "stdout",
     "output_type": "stream",
     "text": [
      "transform (val + test)\n",
      "transform (val + test)\n"
     ]
    },
    {
     "data": {
      "text/plain": [
       "<wandb.sdk.wandb_artifacts.Artifact at 0x14986acd4fd0>"
      ]
     },
     "execution_count": 10,
     "metadata": {},
     "output_type": "execute_result"
    }
   ],
   "source": [
    "name = f\"{exchange}_{strategy}_log_standardized\"\n",
    "\n",
    "dataset = wandb.Artifact(name=name, type=\"preprocessed_data\")\n",
    "\n",
    "if strategy == \"supervised\" or strategy == \"unsupervised\":\n",
    "    output_path = (\n",
    "        f\"gs://thesis-bucket-option-trade-classification/data/preprocessed/{exchange}_{strategy}_train_log_standardized.parquet\"\n",
    "    )\n",
    "    train = transform(train)\n",
    "    train.to_parquet(output_path)\n",
    "    del train\n",
    "    gc.collect()\n",
    "\n",
    "    dataset.add_reference(output_path)\n",
    "\n",
    "if strategy == \"supervised\":\n",
    "    output_path = (\n",
    "        f\"gs://thesis-bucket-option-trade-classification/data/preprocessed/{exchange}_{strategy}_val_log_standardized.parquet\"\n",
    "    )\n",
    "    val = transform(val)\n",
    "    val.to_parquet(output_path)\n",
    "    del val\n",
    "    gc.collect()\n",
    "    dataset.add_reference(output_path)\n",
    "\n",
    "if strategy == \"supervised\" or strategy == \"transfer\":\n",
    "    output_path = (\n",
    "        f\"gs://thesis-bucket-option-trade-classification/data/preprocessed/{exchange}_{strategy}_test_log_standardized.parquet\"\n",
    "    )\n",
    "\n",
    "    test = transform(test)\n",
    "    test.to_parquet(output_path)\n",
    "    del test\n",
    "    gc.collect()\n",
    "    dataset.add_reference(output_path)\n",
    "\n",
    "run.log_artifact(dataset)\n"
   ]
  },
  {
   "cell_type": "code",
   "execution_count": 11,
   "metadata": {
    "tags": []
   },
   "outputs": [
    {
     "name": "stderr",
     "output_type": "stream",
     "text": [
      "/pfs/data5/home/kit/stud/uloak/thesis/thesis/lib/python3.8/site-packages/google/auth/_default.py:78: UserWarning: Your application has authenticated using end user credentials from Google Cloud SDK without a quota project. You might receive a \"quota exceeded\" or \"API not enabled\" error. See the following page for troubleshooting: https://cloud.google.com/docs/authentication/adc-troubleshooting/user-creds. \n",
      "  warnings.warn(_CLOUD_SDK_CREDENTIALS_WARNING)\n"
     ]
    }
   ],
   "source": [
    "# save scaler to pickle\n",
    "\n",
    "if strategy == \"supervised\":\n",
    "    \n",
    "    scalers = {\"scaler\": scaler, \"oe_option_type\": oe_option_type,\"oe_root\": oe_root, \"oe_issue_type\": oe_issue_type}    \n",
    "    uri_scalers = f\"gs://thesis-bucket-option-trade-classification/data/preprocessed/{exchange}_{strategy}_scalers.sklearn\"\n",
    "    with fs.open(uri_scalers, \"wb\") as f:\n",
    "        pickle.dump(scalers, f, protocol=4)  # type: ignore\n",
    "\n",
    "    # log scaler to wandb\n",
    "    scaler = wandb.Artifact(name=f\"{name}_scaler\", type=\"scaler\")\n",
    "    scaler.add_reference(uri_scalers)\n",
    "    run.log_artifact(scaler)    "
   ]
  },
  {
   "cell_type": "code",
   "execution_count": 12,
   "metadata": {
    "tags": []
   },
   "outputs": [
    {
     "data": {
      "text/html": [
       "Waiting for W&B process to finish... <strong style=\"color:green\">(success).</strong>"
      ],
      "text/plain": [
       "<IPython.core.display.HTML object>"
      ]
     },
     "metadata": {},
     "output_type": "display_data"
    },
    {
     "data": {
      "text/html": [
       "Synced <strong style=\"color:#cdcd00\">sweet-sky-917</strong>: <a href=\"https://wandb.ai/fbv/thesis/runs/hl2a70rr\" target=\"_blank\">https://wandb.ai/fbv/thesis/runs/hl2a70rr</a><br/>Synced 5 W&B file(s), 0 media file(s), 0 artifact file(s) and 0 other file(s)"
      ],
      "text/plain": [
       "<IPython.core.display.HTML object>"
      ]
     },
     "metadata": {},
     "output_type": "display_data"
    },
    {
     "data": {
      "text/html": [
       "Find logs at: <code>./wandb/run-20230329_155410-hl2a70rr/logs</code>"
      ],
      "text/plain": [
       "<IPython.core.display.HTML object>"
      ]
     },
     "metadata": {},
     "output_type": "display_data"
    }
   ],
   "source": [
    "run.finish()"
   ]
  },
  {
   "cell_type": "markdown",
   "metadata": {
    "id": "H8u4au_6XAMx"
   },
   "source": [
    "## Adversarial Validation\n",
    "> Adversarial Validation is a technique allowing you to easily estimate the degree of difference between your training and test data. This technique was long rumored among Kaggle participants and transmitted from team to team until it emerged publicly thanks to a post by Zygmunt Zając (https://www.kaggle.com/zygmunt) on his FastML blog. (adapted from Banchawicz et. al)"
   ]
  },
  {
   "cell_type": "code",
   "execution_count": 2,
   "metadata": {},
   "outputs": [],
   "source": [
    "features_classical = [\n",
    "    \"TRADE_PRICE\",\n",
    "    \"bid_ex\",\n",
    "    \"ask_ex\",\n",
    "    \"BEST_ASK\",\n",
    "    \"BEST_BID\",\n",
    "    \"price_ex_lag\",\n",
    "    \"price_ex_lead\",\n",
    "    \"price_all_lag\",\n",
    "    \"price_all_lead\",\n",
    "    \"chg_ex_lead\",\n",
    "    \"chg_ex_lag\",\n",
    "    \"chg_all_lead\",\n",
    "    \"chg_all_lag\",\n",
    "    \"prox_ex\",\n",
    "    \"prox_best\",\n",
    "]\n",
    "\n",
    "features_size = [\n",
    "    \"bid_ask_size_ratio_ex\",\n",
    "    \"rel_bid_size_ex\",\n",
    "    \"rel_ask_size_ex\",\n",
    "    \"TRADE_SIZE\",\n",
    "    \"bid_size_ex\",\n",
    "    \"ask_size_ex\",\n",
    "    \"depth_ex\",\n",
    "]\n",
    "\n",
    "features_classical_size = [\n",
    "    *features_classical,\n",
    "    *features_size,\n",
    "    \"buy_sell\", # add here and remove later\n",
    "]"
   ]
  },
  {
   "cell_type": "code",
   "execution_count": 3,
   "metadata": {},
   "outputs": [
    {
     "name": "stderr",
     "output_type": "stream",
     "text": [
      "/home/kit/stud/uloak/.local/lib/python3.8/site-packages/google/auth/_default.py:83: UserWarning: Your application has authenticated using end user credentials from Google Cloud SDK without a quota project. You might receive a \"quota exceeded\" or \"API not enabled\" error. We recommend you rerun `gcloud auth application-default login` and make sure a quota project is added. Or you can use service accounts instead. For more information about service accounts, see https://cloud.google.com/docs/authentication/\n",
      "  warnings.warn(_CLOUD_SDK_CREDENTIALS_WARNING)\n"
     ]
    }
   ],
   "source": [
    "train = pd.read_parquet(\n",
    "    \"gs://thesis-bucket-option-trade-classification/data/ise_log_standardized/train_set_60.parquet\",\n",
    "    engine=\"fastparquet\", columns=features_classical_size,\n",
    ")\n",
    "val = pd.read_parquet(\n",
    "    \"gs://thesis-bucket-option-trade-classification/data/ise_log_standardized/val_set_20.parquet\",\n",
    "    engine=\"fastparquet\", columns=features_classical_size,\n",
    ")"
   ]
  },
  {
   "cell_type": "code",
   "execution_count": 115,
   "metadata": {
    "id": "GKpvTE4EXAM0",
    "outputId": "222f6a61-548f-4f1c-8064-caffcdfe637e"
   },
   "outputs": [],
   "source": [
    "X = pd.concat([train, val])\n",
    "X.drop(columns=[\"buy_sell\"], inplace=True)\n",
    "# assign zeros to train set and ones to test set\n",
    "y = [0] * len(train) + [1] * len(val)"
   ]
  },
  {
   "cell_type": "code",
   "execution_count": 5,
   "metadata": {},
   "outputs": [
    {
     "data": {
      "text/plain": [
       "Index(['TRADE_PRICE', 'bid_ex', 'ask_ex', 'BEST_ASK', 'BEST_BID',\n",
       "       'price_ex_lag', 'price_ex_lead', 'price_all_lag', 'price_all_lead',\n",
       "       'chg_ex_lead', 'chg_ex_lag', 'chg_all_lead', 'chg_all_lag', 'prox_ex',\n",
       "       'prox_best', 'bid_ask_size_ratio_ex', 'rel_bid_size_ex',\n",
       "       'rel_ask_size_ex', 'TRADE_SIZE', 'bid_size_ex', 'ask_size_ex',\n",
       "       'depth_ex'],\n",
       "      dtype='object')"
      ]
     },
     "execution_count": 5,
     "metadata": {},
     "output_type": "execute_result"
    }
   ],
   "source": [
    "X.columns"
   ]
  },
  {
   "cell_type": "code",
   "execution_count": 6,
   "metadata": {
    "id": "tperioc56aCt"
   },
   "outputs": [],
   "source": [
    "# perform cv with catboost classifier\n",
    "clf = CatBoostClassifier(\n",
    "    task_type=\"GPU\",\n",
    "    logging_level=\"Silent\",\n",
    "\trandom_seed= 42,\n",
    "    eval_metric=\"Accuracy\",\n",
    ")"
   ]
  },
  {
   "cell_type": "code",
   "execution_count": 7,
   "metadata": {},
   "outputs": [
    {
     "data": {
      "text/plain": [
       "<catboost.core.CatBoostClassifier at 0x14e7e5828490>"
      ]
     },
     "execution_count": 7,
     "metadata": {},
     "output_type": "execute_result"
    }
   ],
   "source": [
    "X_train, X_test, y_train, y_test = train_test_split(X, y, test_size=0.2, random_state=42, shuffle=True)\n",
    "clf.fit(X_train, y_train, eval_set=(X_test,y_test))"
   ]
  },
  {
   "cell_type": "code",
   "execution_count": 9,
   "metadata": {},
   "outputs": [],
   "source": [
    "y_pred = clf.predict(X_test)"
   ]
  },
  {
   "cell_type": "code",
   "execution_count": 10,
   "metadata": {},
   "outputs": [
    {
     "name": "stdout",
     "output_type": "stream",
     "text": [
      "0.3789492800772903\n"
     ]
    }
   ],
   "source": [
    "# use mcc as data is imbalanced 3/4 train set, 1/4 val set\n",
    "print(matthews_corrcoef(y_test, y_pred))"
   ]
  },
  {
   "cell_type": "code",
   "execution_count": 11,
   "metadata": {},
   "outputs": [
    {
     "data": {
      "text/html": [
       "<div>\n",
       "<style scoped>\n",
       "    .dataframe tbody tr th:only-of-type {\n",
       "        vertical-align: middle;\n",
       "    }\n",
       "\n",
       "    .dataframe tbody tr th {\n",
       "        vertical-align: top;\n",
       "    }\n",
       "\n",
       "    .dataframe thead th {\n",
       "        text-align: right;\n",
       "    }\n",
       "</style>\n",
       "<table border=\"1\" class=\"dataframe\">\n",
       "  <thead>\n",
       "    <tr style=\"text-align: right;\">\n",
       "      <th></th>\n",
       "      <th>Feature Id</th>\n",
       "      <th>Importances</th>\n",
       "    </tr>\n",
       "  </thead>\n",
       "  <tbody>\n",
       "    <tr>\n",
       "      <th>0</th>\n",
       "      <td>prox_best</td>\n",
       "      <td>19.640974</td>\n",
       "    </tr>\n",
       "    <tr>\n",
       "      <th>1</th>\n",
       "      <td>prox_ex</td>\n",
       "      <td>13.733821</td>\n",
       "    </tr>\n",
       "    <tr>\n",
       "      <th>2</th>\n",
       "      <td>chg_all_lag</td>\n",
       "      <td>9.785274</td>\n",
       "    </tr>\n",
       "    <tr>\n",
       "      <th>3</th>\n",
       "      <td>chg_all_lead</td>\n",
       "      <td>9.090985</td>\n",
       "    </tr>\n",
       "    <tr>\n",
       "      <th>4</th>\n",
       "      <td>bid_size_ex</td>\n",
       "      <td>6.777612</td>\n",
       "    </tr>\n",
       "    <tr>\n",
       "      <th>5</th>\n",
       "      <td>ask_size_ex</td>\n",
       "      <td>5.955042</td>\n",
       "    </tr>\n",
       "    <tr>\n",
       "      <th>6</th>\n",
       "      <td>price_ex_lead</td>\n",
       "      <td>5.087272</td>\n",
       "    </tr>\n",
       "    <tr>\n",
       "      <th>7</th>\n",
       "      <td>ask_ex</td>\n",
       "      <td>4.229072</td>\n",
       "    </tr>\n",
       "    <tr>\n",
       "      <th>8</th>\n",
       "      <td>chg_ex_lead</td>\n",
       "      <td>3.645325</td>\n",
       "    </tr>\n",
       "    <tr>\n",
       "      <th>9</th>\n",
       "      <td>chg_ex_lag</td>\n",
       "      <td>3.624959</td>\n",
       "    </tr>\n",
       "    <tr>\n",
       "      <th>10</th>\n",
       "      <td>BEST_BID</td>\n",
       "      <td>3.348719</td>\n",
       "    </tr>\n",
       "    <tr>\n",
       "      <th>11</th>\n",
       "      <td>price_ex_lag</td>\n",
       "      <td>2.789820</td>\n",
       "    </tr>\n",
       "    <tr>\n",
       "      <th>12</th>\n",
       "      <td>rel_ask_size_ex</td>\n",
       "      <td>2.645417</td>\n",
       "    </tr>\n",
       "    <tr>\n",
       "      <th>13</th>\n",
       "      <td>TRADE_SIZE</td>\n",
       "      <td>2.316541</td>\n",
       "    </tr>\n",
       "    <tr>\n",
       "      <th>14</th>\n",
       "      <td>bid_ex</td>\n",
       "      <td>1.797051</td>\n",
       "    </tr>\n",
       "    <tr>\n",
       "      <th>15</th>\n",
       "      <td>rel_bid_size_ex</td>\n",
       "      <td>1.650464</td>\n",
       "    </tr>\n",
       "    <tr>\n",
       "      <th>16</th>\n",
       "      <td>BEST_ASK</td>\n",
       "      <td>0.953776</td>\n",
       "    </tr>\n",
       "    <tr>\n",
       "      <th>17</th>\n",
       "      <td>price_all_lead</td>\n",
       "      <td>0.900991</td>\n",
       "    </tr>\n",
       "    <tr>\n",
       "      <th>18</th>\n",
       "      <td>price_all_lag</td>\n",
       "      <td>0.793407</td>\n",
       "    </tr>\n",
       "    <tr>\n",
       "      <th>19</th>\n",
       "      <td>depth_ex</td>\n",
       "      <td>0.685164</td>\n",
       "    </tr>\n",
       "    <tr>\n",
       "      <th>20</th>\n",
       "      <td>bid_ask_size_ratio_ex</td>\n",
       "      <td>0.375362</td>\n",
       "    </tr>\n",
       "    <tr>\n",
       "      <th>21</th>\n",
       "      <td>TRADE_PRICE</td>\n",
       "      <td>0.172951</td>\n",
       "    </tr>\n",
       "  </tbody>\n",
       "</table>\n",
       "</div>"
      ],
      "text/plain": [
       "               Feature Id  Importances\n",
       "0               prox_best    19.640974\n",
       "1                 prox_ex    13.733821\n",
       "2             chg_all_lag     9.785274\n",
       "3            chg_all_lead     9.090985\n",
       "4             bid_size_ex     6.777612\n",
       "5             ask_size_ex     5.955042\n",
       "6           price_ex_lead     5.087272\n",
       "7                  ask_ex     4.229072\n",
       "8             chg_ex_lead     3.645325\n",
       "9              chg_ex_lag     3.624959\n",
       "10               BEST_BID     3.348719\n",
       "11           price_ex_lag     2.789820\n",
       "12        rel_ask_size_ex     2.645417\n",
       "13             TRADE_SIZE     2.316541\n",
       "14                 bid_ex     1.797051\n",
       "15        rel_bid_size_ex     1.650464\n",
       "16               BEST_ASK     0.953776\n",
       "17         price_all_lead     0.900991\n",
       "18          price_all_lag     0.793407\n",
       "19               depth_ex     0.685164\n",
       "20  bid_ask_size_ratio_ex     0.375362\n",
       "21            TRADE_PRICE     0.172951"
      ]
     },
     "execution_count": 11,
     "metadata": {},
     "output_type": "execute_result"
    }
   ],
   "source": [
    "feature_importance = clf.get_feature_importance(prettified=True, type=\"FeatureImportance\")\n",
    "feature_importance"
   ]
  },
  {
   "cell_type": "code",
   "execution_count": 12,
   "metadata": {},
   "outputs": [],
   "source": [
    "feature_importance.to_csv(\"feature_importance_gbm_classical_size.csv\")"
   ]
  },
  {
   "cell_type": "markdown",
   "metadata": {},
   "source": [
    "## Kolmogorov Smirnov"
   ]
  },
  {
   "cell_type": "code",
   "execution_count": 114,
   "metadata": {},
   "outputs": [
    {
     "data": {
      "text/html": [
       "<div>\n",
       "<style scoped>\n",
       "    .dataframe tbody tr th:only-of-type {\n",
       "        vertical-align: middle;\n",
       "    }\n",
       "\n",
       "    .dataframe tbody tr th {\n",
       "        vertical-align: top;\n",
       "    }\n",
       "\n",
       "    .dataframe thead th {\n",
       "        text-align: right;\n",
       "    }\n",
       "</style>\n",
       "<table border=\"1\" class=\"dataframe\">\n",
       "  <thead>\n",
       "    <tr style=\"text-align: right;\">\n",
       "      <th></th>\n",
       "      <th>col</th>\n",
       "      <th>static</th>\n",
       "      <th>pvalue</th>\n",
       "    </tr>\n",
       "  </thead>\n",
       "  <tbody>\n",
       "    <tr>\n",
       "      <th>0</th>\n",
       "      <td>TRADE_PRICE</td>\n",
       "      <td>0.383333</td>\n",
       "      <td>0.009918</td>\n",
       "    </tr>\n",
       "    <tr>\n",
       "      <th>1</th>\n",
       "      <td>bid_ex</td>\n",
       "      <td>0.316667</td>\n",
       "      <td>0.053969</td>\n",
       "    </tr>\n",
       "    <tr>\n",
       "      <th>2</th>\n",
       "      <td>ask_ex</td>\n",
       "      <td>0.333333</td>\n",
       "      <td>0.036511</td>\n",
       "    </tr>\n",
       "    <tr>\n",
       "      <th>3</th>\n",
       "      <td>BEST_ASK</td>\n",
       "      <td>0.358333</td>\n",
       "      <td>0.019509</td>\n",
       "    </tr>\n",
       "    <tr>\n",
       "      <th>4</th>\n",
       "      <td>BEST_BID</td>\n",
       "      <td>0.333333</td>\n",
       "      <td>0.036511</td>\n",
       "    </tr>\n",
       "    <tr>\n",
       "      <th>5</th>\n",
       "      <td>price_ex_lag</td>\n",
       "      <td>0.350000</td>\n",
       "      <td>0.024173</td>\n",
       "    </tr>\n",
       "    <tr>\n",
       "      <th>6</th>\n",
       "      <td>price_ex_lead</td>\n",
       "      <td>0.416667</td>\n",
       "      <td>0.003717</td>\n",
       "    </tr>\n",
       "    <tr>\n",
       "      <th>7</th>\n",
       "      <td>price_all_lag</td>\n",
       "      <td>0.383333</td>\n",
       "      <td>0.009918</td>\n",
       "    </tr>\n",
       "    <tr>\n",
       "      <th>8</th>\n",
       "      <td>price_all_lead</td>\n",
       "      <td>0.425000</td>\n",
       "      <td>0.002866</td>\n",
       "    </tr>\n",
       "    <tr>\n",
       "      <th>9</th>\n",
       "      <td>chg_ex_lead</td>\n",
       "      <td>0.350000</td>\n",
       "      <td>0.024173</td>\n",
       "    </tr>\n",
       "    <tr>\n",
       "      <th>10</th>\n",
       "      <td>chg_ex_lag</td>\n",
       "      <td>0.491667</td>\n",
       "      <td>0.000288</td>\n",
       "    </tr>\n",
       "    <tr>\n",
       "      <th>11</th>\n",
       "      <td>chg_all_lead</td>\n",
       "      <td>0.308333</td>\n",
       "      <td>0.065092</td>\n",
       "    </tr>\n",
       "    <tr>\n",
       "      <th>12</th>\n",
       "      <td>chg_all_lag</td>\n",
       "      <td>0.525000</td>\n",
       "      <td>0.000078</td>\n",
       "    </tr>\n",
       "    <tr>\n",
       "      <th>13</th>\n",
       "      <td>prox_ex</td>\n",
       "      <td>0.366667</td>\n",
       "      <td>0.015657</td>\n",
       "    </tr>\n",
       "    <tr>\n",
       "      <th>14</th>\n",
       "      <td>prox_best</td>\n",
       "      <td>0.333333</td>\n",
       "      <td>0.036511</td>\n",
       "    </tr>\n",
       "    <tr>\n",
       "      <th>15</th>\n",
       "      <td>bid_ask_size_ratio_ex</td>\n",
       "      <td>0.183333</td>\n",
       "      <td>0.570597</td>\n",
       "    </tr>\n",
       "    <tr>\n",
       "      <th>16</th>\n",
       "      <td>rel_bid_size_ex</td>\n",
       "      <td>0.208333</td>\n",
       "      <td>0.409009</td>\n",
       "    </tr>\n",
       "    <tr>\n",
       "      <th>17</th>\n",
       "      <td>rel_ask_size_ex</td>\n",
       "      <td>0.258333</td>\n",
       "      <td>0.179445</td>\n",
       "    </tr>\n",
       "    <tr>\n",
       "      <th>18</th>\n",
       "      <td>TRADE_SIZE</td>\n",
       "      <td>0.183333</td>\n",
       "      <td>0.570597</td>\n",
       "    </tr>\n",
       "    <tr>\n",
       "      <th>19</th>\n",
       "      <td>bid_size_ex</td>\n",
       "      <td>0.225000</td>\n",
       "      <td>0.317704</td>\n",
       "    </tr>\n",
       "    <tr>\n",
       "      <th>20</th>\n",
       "      <td>ask_size_ex</td>\n",
       "      <td>0.325000</td>\n",
       "      <td>0.044509</td>\n",
       "    </tr>\n",
       "    <tr>\n",
       "      <th>21</th>\n",
       "      <td>depth_ex</td>\n",
       "      <td>0.225000</td>\n",
       "      <td>0.317704</td>\n",
       "    </tr>\n",
       "  </tbody>\n",
       "</table>\n",
       "</div>"
      ],
      "text/plain": [
       "                      col    static    pvalue\n",
       "0             TRADE_PRICE  0.383333  0.009918\n",
       "1                  bid_ex  0.316667  0.053969\n",
       "2                  ask_ex  0.333333  0.036511\n",
       "3                BEST_ASK  0.358333  0.019509\n",
       "4                BEST_BID  0.333333  0.036511\n",
       "5            price_ex_lag  0.350000  0.024173\n",
       "6           price_ex_lead  0.416667  0.003717\n",
       "7           price_all_lag  0.383333  0.009918\n",
       "8          price_all_lead  0.425000  0.002866\n",
       "9             chg_ex_lead  0.350000  0.024173\n",
       "10             chg_ex_lag  0.491667  0.000288\n",
       "11           chg_all_lead  0.308333  0.065092\n",
       "12            chg_all_lag  0.525000  0.000078\n",
       "13                prox_ex  0.366667  0.015657\n",
       "14              prox_best  0.333333  0.036511\n",
       "15  bid_ask_size_ratio_ex  0.183333  0.570597\n",
       "16        rel_bid_size_ex  0.208333  0.409009\n",
       "17        rel_ask_size_ex  0.258333  0.179445\n",
       "18             TRADE_SIZE  0.183333  0.570597\n",
       "19            bid_size_ex  0.225000  0.317704\n",
       "20            ask_size_ex  0.325000  0.044509\n",
       "21               depth_ex  0.225000  0.317704"
      ]
     },
     "execution_count": 114,
     "metadata": {},
     "output_type": "execute_result"
    }
   ],
   "source": [
    "from scipy.stats import ks_2samp\n",
    "\n",
    "cols = train.columns.tolist()\n",
    "# cols.remove(\"buy_sell\")\n",
    "results = []\n",
    "\n",
    "for col in cols: \n",
    "    res = ks_2samp(train[col], val[col])\n",
    "    \n",
    "    results.append({\"col\":col, \"static\": res.statistic, \"pvalue\":res.pvalue})\n",
    "\n",
    "results = pd.DataFrame(results)\n",
    "results.to_csv(\"kolmogorov_smirnov.csv\")"
   ]
  },
  {
   "cell_type": "code",
   "execution_count": 43,
   "metadata": {},
   "outputs": [],
   "source": [
    "from numpy.fft import fft, ifft,fftshift\n"
   ]
  },
  {
   "cell_type": "code",
   "execution_count": 56,
   "metadata": {},
   "outputs": [
    {
     "name": "stdout",
     "output_type": "stream",
     "text": [
      "2\n",
      "(120, 2)\n"
     ]
    }
   ],
   "source": [
    "# data = numpy.arange(5*4).reshape(5, 4)\n",
    "# print data\n",
    "# ##[[ 0  1  2  3]\n",
    "# ## [ 4  5  6  7]\n",
    "# ## [ 8  9 10 11]\n",
    "# ## [12 13 14 15]\n",
    "# ## [16 17 18 19]]\n",
    "\n",
    "l = 2 ** int(np.log2(foo.shape[1] * 2 - 1))\n",
    "print(l)\n",
    "fftx = fft(foo, n = l, axis = 1)\n",
    "ret = ifft(fftx * np.conjugate(fftx), axis = 1).real\n",
    "# ret = fftshift(ret, axes=1)\n",
    "\n",
    "print(ret.shape)\n",
    "# dataFT = fft(foo, axis=1)\n",
    "# dataAC = ifft(dataFT * np.conjugate(dataFT), axis=1).real"
   ]
  },
  {
   "cell_type": "code",
   "execution_count": 39,
   "metadata": {},
   "outputs": [
    {
     "data": {
      "text/plain": [
       "(100, 23)"
      ]
     },
     "execution_count": 39,
     "metadata": {},
     "output_type": "execute_result"
    }
   ],
   "source": [
    "dataAC.shape"
   ]
  },
  {
   "cell_type": "markdown",
   "metadata": {},
   "source": [
    "## Auto-Correlation"
   ]
  },
  {
   "cell_type": "code",
   "execution_count": 13,
   "metadata": {},
   "outputs": [],
   "source": [
    "import matplotlib.pyplot as plt"
   ]
  },
  {
   "cell_type": "code",
   "execution_count": null,
   "metadata": {},
   "outputs": [],
   "source": [
    "cols = train.columns.tolist()\n",
    "# cols.remove(\"buy_sell\")\n",
    "\n",
    "CM = 1 / 2.54\n",
    "\n",
    "(fig, ax) = plt.subplots(nrows=(len(cols) //4) + 1, ncols=4, sharey=True, constrained_layout=True, figsize=(14*CM, 14 *CM))\n",
    "\n",
    "for i, col in enumerate(cols):\n",
    "    \n",
    "    r = i // 4\n",
    "    c = i % 4\n",
    "    \n",
    "    ax[r][c].acorr(X[col], usevlines=True, normed=True, maxlags=20, lw=1)\n",
    "    ax[r][c].set_title(col)\n",
    "\n",
    " \n",
    "\n",
    "# remove empty plots\n",
    "fig.delaxes(ax[5][2])\n",
    "fig.delaxes(ax[5][3])\n",
    "\n",
    "plt.savefig(\n",
    "    f\"auto_corr_features.pdf\",\n",
    "    bbox_inches=\"tight\",\n",
    ")"
   ]
  }
 ],
 "metadata": {
  "accelerator": "GPU",
  "colab": {
   "machine_shape": "hm",
   "name": "Untitled2.ipynb",
   "provenance": []
  },
  "gpuClass": "premium",
  "kernelspec": {
   "display_name": "myenv",
   "language": "python",
   "name": "myenv"
  },
  "language_info": {
   "codemirror_mode": {
    "name": "ipython",
    "version": 3
   },
   "file_extension": ".py",
   "mimetype": "text/x-python",
   "name": "python",
   "nbconvert_exporter": "python",
   "pygments_lexer": "ipython3",
   "version": "3.8.6"
  },
  "vscode": {
   "interpreter": {
    "hash": "f8ea8b642289b706932f10b33ee389827410dbaef0ce2c5bf73615e8d3267d88"
   }
  },
  "widgets": {
   "application/vnd.jupyter.widget-state+json": {
    "1a4b7cb45af740c2a478d9c373ca5f29": {
     "model_module": "@jupyter-widgets/controls",
     "model_module_version": "1.5.0",
     "model_name": "LabelModel",
     "state": {
      "_dom_classes": [],
      "_model_module": "@jupyter-widgets/controls",
      "_model_module_version": "1.5.0",
      "_model_name": "LabelModel",
      "_view_count": null,
      "_view_module": "@jupyter-widgets/controls",
      "_view_module_version": "1.5.0",
      "_view_name": "LabelView",
      "description": "",
      "description_tooltip": null,
      "layout": "IPY_MODEL_d3dc706c028543b984c8c5d03c24f423",
      "placeholder": "​",
      "style": "IPY_MODEL_bb64f157b299411a8b928170ad21eea0",
      "value": "0.009 MB of 0.009 MB uploaded (0.000 MB deduped)\r"
     }
    },
    "59a979cc57ab4d6eac3625bc79aa1fd5": {
     "model_module": "@jupyter-widgets/controls",
     "model_module_version": "1.5.0",
     "model_name": "ProgressStyleModel",
     "state": {
      "_model_module": "@jupyter-widgets/controls",
      "_model_module_version": "1.5.0",
      "_model_name": "ProgressStyleModel",
      "_view_count": null,
      "_view_module": "@jupyter-widgets/base",
      "_view_module_version": "1.2.0",
      "_view_name": "StyleView",
      "bar_color": null,
      "description_width": ""
     }
    },
    "7fe0647ce12c4bf692a7ac53012382e3": {
     "model_module": "@jupyter-widgets/base",
     "model_module_version": "1.2.0",
     "model_name": "LayoutModel",
     "state": {
      "_model_module": "@jupyter-widgets/base",
      "_model_module_version": "1.2.0",
      "_model_name": "LayoutModel",
      "_view_count": null,
      "_view_module": "@jupyter-widgets/base",
      "_view_module_version": "1.2.0",
      "_view_name": "LayoutView",
      "align_content": null,
      "align_items": null,
      "align_self": null,
      "border": null,
      "bottom": null,
      "display": null,
      "flex": null,
      "flex_flow": null,
      "grid_area": null,
      "grid_auto_columns": null,
      "grid_auto_flow": null,
      "grid_auto_rows": null,
      "grid_column": null,
      "grid_gap": null,
      "grid_row": null,
      "grid_template_areas": null,
      "grid_template_columns": null,
      "grid_template_rows": null,
      "height": null,
      "justify_content": null,
      "justify_items": null,
      "left": null,
      "margin": null,
      "max_height": null,
      "max_width": null,
      "min_height": null,
      "min_width": null,
      "object_fit": null,
      "object_position": null,
      "order": null,
      "overflow": null,
      "overflow_x": null,
      "overflow_y": null,
      "padding": null,
      "right": null,
      "top": null,
      "visibility": null,
      "width": null
     }
    },
    "81bd7aeb297846c48d10d478f88ccf0d": {
     "model_module": "@jupyter-widgets/base",
     "model_module_version": "1.2.0",
     "model_name": "LayoutModel",
     "state": {
      "_model_module": "@jupyter-widgets/base",
      "_model_module_version": "1.2.0",
      "_model_name": "LayoutModel",
      "_view_count": null,
      "_view_module": "@jupyter-widgets/base",
      "_view_module_version": "1.2.0",
      "_view_name": "LayoutView",
      "align_content": null,
      "align_items": null,
      "align_self": null,
      "border": null,
      "bottom": null,
      "display": null,
      "flex": null,
      "flex_flow": null,
      "grid_area": null,
      "grid_auto_columns": null,
      "grid_auto_flow": null,
      "grid_auto_rows": null,
      "grid_column": null,
      "grid_gap": null,
      "grid_row": null,
      "grid_template_areas": null,
      "grid_template_columns": null,
      "grid_template_rows": null,
      "height": null,
      "justify_content": null,
      "justify_items": null,
      "left": null,
      "margin": null,
      "max_height": null,
      "max_width": null,
      "min_height": null,
      "min_width": null,
      "object_fit": null,
      "object_position": null,
      "order": null,
      "overflow": null,
      "overflow_x": null,
      "overflow_y": null,
      "padding": null,
      "right": null,
      "top": null,
      "visibility": null,
      "width": null
     }
    },
    "bb64f157b299411a8b928170ad21eea0": {
     "model_module": "@jupyter-widgets/controls",
     "model_module_version": "1.5.0",
     "model_name": "DescriptionStyleModel",
     "state": {
      "_model_module": "@jupyter-widgets/controls",
      "_model_module_version": "1.5.0",
      "_model_name": "DescriptionStyleModel",
      "_view_count": null,
      "_view_module": "@jupyter-widgets/base",
      "_view_module_version": "1.2.0",
      "_view_name": "StyleView",
      "description_width": ""
     }
    },
    "d3dc706c028543b984c8c5d03c24f423": {
     "model_module": "@jupyter-widgets/base",
     "model_module_version": "1.2.0",
     "model_name": "LayoutModel",
     "state": {
      "_model_module": "@jupyter-widgets/base",
      "_model_module_version": "1.2.0",
      "_model_name": "LayoutModel",
      "_view_count": null,
      "_view_module": "@jupyter-widgets/base",
      "_view_module_version": "1.2.0",
      "_view_name": "LayoutView",
      "align_content": null,
      "align_items": null,
      "align_self": null,
      "border": null,
      "bottom": null,
      "display": null,
      "flex": null,
      "flex_flow": null,
      "grid_area": null,
      "grid_auto_columns": null,
      "grid_auto_flow": null,
      "grid_auto_rows": null,
      "grid_column": null,
      "grid_gap": null,
      "grid_row": null,
      "grid_template_areas": null,
      "grid_template_columns": null,
      "grid_template_rows": null,
      "height": null,
      "justify_content": null,
      "justify_items": null,
      "left": null,
      "margin": null,
      "max_height": null,
      "max_width": null,
      "min_height": null,
      "min_width": null,
      "object_fit": null,
      "object_position": null,
      "order": null,
      "overflow": null,
      "overflow_x": null,
      "overflow_y": null,
      "padding": null,
      "right": null,
      "top": null,
      "visibility": null,
      "width": null
     }
    },
    "ee5e1708a46e4482ac3cf3503b93768c": {
     "model_module": "@jupyter-widgets/controls",
     "model_module_version": "1.5.0",
     "model_name": "VBoxModel",
     "state": {
      "_dom_classes": [],
      "_model_module": "@jupyter-widgets/controls",
      "_model_module_version": "1.5.0",
      "_model_name": "VBoxModel",
      "_view_count": null,
      "_view_module": "@jupyter-widgets/controls",
      "_view_module_version": "1.5.0",
      "_view_name": "VBoxView",
      "box_style": "",
      "children": [
       "IPY_MODEL_1a4b7cb45af740c2a478d9c373ca5f29",
       "IPY_MODEL_f20cba5b85034b5da27053bc8aa3654d"
      ],
      "layout": "IPY_MODEL_7fe0647ce12c4bf692a7ac53012382e3"
     }
    },
    "f20cba5b85034b5da27053bc8aa3654d": {
     "model_module": "@jupyter-widgets/controls",
     "model_module_version": "1.5.0",
     "model_name": "FloatProgressModel",
     "state": {
      "_dom_classes": [],
      "_model_module": "@jupyter-widgets/controls",
      "_model_module_version": "1.5.0",
      "_model_name": "FloatProgressModel",
      "_view_count": null,
      "_view_module": "@jupyter-widgets/controls",
      "_view_module_version": "1.5.0",
      "_view_name": "ProgressView",
      "bar_style": "",
      "description": "",
      "description_tooltip": null,
      "layout": "IPY_MODEL_81bd7aeb297846c48d10d478f88ccf0d",
      "max": 1,
      "min": 0,
      "orientation": "horizontal",
      "style": "IPY_MODEL_59a979cc57ab4d6eac3625bc79aa1fd5",
      "value": 1
     }
    }
   }
  }
 },
 "nbformat": 4,
 "nbformat_minor": 4
}
