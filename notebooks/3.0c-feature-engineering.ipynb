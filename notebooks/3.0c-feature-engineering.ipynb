{
  "cells": [
    {
      "cell_type": "markdown",
      "metadata": {
        "id": "170uxVS5gwZl"
      },
      "source": [
        "Run `pip install .` first to install all dependencies."
      ]
    },
    {
      "cell_type": "code",
      "execution_count": 16,
      "metadata": {
        "colab": {
          "base_uri": "https://localhost:8080/"
        },
        "id": "Fc0zs5GkiZS2",
        "outputId": "1f3feaad-6217-445f-de8f-4264adfaaf38"
      },
      "outputs": [
        {
          "name": "stdout",
          "output_type": "stream",
          "text": [
            "Requirement already satisfied: gcsfs==2022.10.0 in /usr/local/lib/python3.8/dist-packages (2022.10.0)\n",
            "Requirement already satisfied: requests in /usr/lib/python3/dist-packages (from gcsfs==2022.10.0) (2.22.0)\n",
            "Requirement already satisfied: google-auth-oauthlib in /usr/lib/python3/dist-packages (from gcsfs==2022.10.0) (0.4.1)\n",
            "Requirement already satisfied: aiohttp!=4.0.0a0,!=4.0.0a1 in /usr/local/lib/python3.8/dist-packages (from gcsfs==2022.10.0) (3.8.3)\n",
            "Requirement already satisfied: google-cloud-storage in /usr/local/lib/python3.8/dist-packages (from gcsfs==2022.10.0) (2.7.0)\n",
            "Requirement already satisfied: decorator>4.1.2 in /usr/lib/python3/dist-packages (from gcsfs==2022.10.0) (4.4.2)\n",
            "Requirement already satisfied: google-auth>=1.2 in /usr/local/lib/python3.8/dist-packages (from gcsfs==2022.10.0) (2.15.0)\n",
            "Requirement already satisfied: fsspec==2022.10.0 in /usr/local/lib/python3.8/dist-packages (from gcsfs==2022.10.0) (2022.10.0)\n",
            "Requirement already satisfied: frozenlist>=1.1.1 in /usr/local/lib/python3.8/dist-packages (from aiohttp!=4.0.0a0,!=4.0.0a1->gcsfs==2022.10.0) (1.3.3)\n",
            "Requirement already satisfied: async-timeout<5.0,>=4.0.0a3 in /usr/local/lib/python3.8/dist-packages (from aiohttp!=4.0.0a0,!=4.0.0a1->gcsfs==2022.10.0) (4.0.2)\n",
            "Requirement already satisfied: charset-normalizer<3.0,>=2.0 in /usr/local/lib/python3.8/dist-packages (from aiohttp!=4.0.0a0,!=4.0.0a1->gcsfs==2022.10.0) (2.1.1)\n",
            "Requirement already satisfied: multidict<7.0,>=4.5 in /usr/local/lib/python3.8/dist-packages (from aiohttp!=4.0.0a0,!=4.0.0a1->gcsfs==2022.10.0) (6.0.3)\n",
            "Requirement already satisfied: attrs>=17.3.0 in /usr/lib/python3/dist-packages (from aiohttp!=4.0.0a0,!=4.0.0a1->gcsfs==2022.10.0) (19.3.0)\n",
            "Requirement already satisfied: yarl<2.0,>=1.0 in /usr/local/lib/python3.8/dist-packages (from aiohttp!=4.0.0a0,!=4.0.0a1->gcsfs==2022.10.0) (1.8.2)\n",
            "Requirement already satisfied: aiosignal>=1.1.2 in /usr/local/lib/python3.8/dist-packages (from aiohttp!=4.0.0a0,!=4.0.0a1->gcsfs==2022.10.0) (1.3.1)\n",
            "Requirement already satisfied: google-cloud-core<3.0dev,>=2.3.0 in /usr/local/lib/python3.8/dist-packages (from google-cloud-storage->gcsfs==2022.10.0) (2.3.2)\n",
            "Requirement already satisfied: google-api-core!=2.0.*,!=2.1.*,!=2.2.*,!=2.3.0,<3.0.0dev,>=1.31.5 in /usr/local/lib/python3.8/dist-packages (from google-cloud-storage->gcsfs==2022.10.0) (2.11.0)\n",
            "Requirement already satisfied: google-resumable-media>=2.3.2 in /usr/local/lib/python3.8/dist-packages (from google-cloud-storage->gcsfs==2022.10.0) (2.4.0)\n",
            "Requirement already satisfied: cachetools<6.0,>=2.0.0 in /usr/lib/python3/dist-packages (from google-auth>=1.2->gcsfs==2022.10.0) (4.0.0)\n",
            "Requirement already satisfied: rsa<5,>=3.1.4; python_version >= \"3.6\" in /usr/lib/python3/dist-packages (from google-auth>=1.2->gcsfs==2022.10.0) (4.0)\n",
            "Requirement already satisfied: pyasn1-modules>=0.2.1 in /usr/lib/python3/dist-packages (from google-auth>=1.2->gcsfs==2022.10.0) (0.2.1)\n",
            "Requirement already satisfied: six>=1.9.0 in /usr/lib/python3/dist-packages (from google-auth>=1.2->gcsfs==2022.10.0) (1.14.0)\n",
            "Requirement already satisfied: idna>=2.0 in /usr/lib/python3/dist-packages (from yarl<2.0,>=1.0->aiohttp!=4.0.0a0,!=4.0.0a1->gcsfs==2022.10.0) (2.8)\n",
            "Requirement already satisfied: protobuf!=3.20.0,!=3.20.1,!=4.21.0,!=4.21.1,!=4.21.2,!=4.21.3,!=4.21.4,!=4.21.5,<5.0.0dev,>=3.19.5 in /usr/local/lib/python3.8/dist-packages (from google-api-core!=2.0.*,!=2.1.*,!=2.2.*,!=2.3.0,<3.0.0dev,>=1.31.5->google-cloud-storage->gcsfs==2022.10.0) (4.21.12)\n",
            "Requirement already satisfied: googleapis-common-protos<2.0dev,>=1.56.2 in /usr/local/lib/python3.8/dist-packages (from google-api-core!=2.0.*,!=2.1.*,!=2.2.*,!=2.3.0,<3.0.0dev,>=1.31.5->google-cloud-storage->gcsfs==2022.10.0) (1.57.0)\n",
            "Requirement already satisfied: google-crc32c<2.0dev,>=1.0 in /usr/local/lib/python3.8/dist-packages (from google-resumable-media>=2.3.2->google-cloud-storage->gcsfs==2022.10.0) (1.5.0)\n",
            "Requirement already satisfied: google-auth==2.15.0 in /usr/local/lib/python3.8/dist-packages (2.15.0)\n",
            "Requirement already satisfied: pyasn1-modules>=0.2.1 in /usr/lib/python3/dist-packages (from google-auth==2.15.0) (0.2.1)\n",
            "Requirement already satisfied: six>=1.9.0 in /usr/lib/python3/dist-packages (from google-auth==2.15.0) (1.14.0)\n",
            "Requirement already satisfied: cachetools<6.0,>=2.0.0 in /usr/lib/python3/dist-packages (from google-auth==2.15.0) (4.0.0)\n",
            "Requirement already satisfied: rsa<5,>=3.1.4; python_version >= \"3.6\" in /usr/lib/python3/dist-packages (from google-auth==2.15.0) (4.0)\n",
            "Requirement already satisfied: psutil==5.9.4 in /usr/local/lib/python3.8/dist-packages (5.9.4)\n",
            "Requirement already satisfied: wandb in /usr/local/lib/python3.8/dist-packages (0.13.4)\n",
            "Requirement already satisfied: docker-pycreds>=0.4.0 in /usr/local/lib/python3.8/dist-packages (from wandb) (0.4.0)\n",
            "Requirement already satisfied: psutil>=5.0.0 in /usr/local/lib/python3.8/dist-packages (from wandb) (5.9.4)\n",
            "Requirement already satisfied: Click!=8.0.0,>=7.0 in /usr/local/lib/python3.8/dist-packages (from wandb) (8.1.3)\n",
            "Requirement already satisfied: protobuf!=4.0.*,!=4.21.0,<5,>=3.12.0 in /usr/local/lib/python3.8/dist-packages (from wandb) (4.21.12)\n",
            "Requirement already satisfied: pathtools in /usr/local/lib/python3.8/dist-packages (from wandb) (0.1.2)\n",
            "Requirement already satisfied: requests<3,>=2.0.0 in /usr/lib/python3/dist-packages (from wandb) (2.22.0)\n",
            "Requirement already satisfied: promise<3,>=2.0 in /usr/local/lib/python3.8/dist-packages (from wandb) (2.3)\n",
            "Requirement already satisfied: setuptools in /usr/lib/python3/dist-packages (from wandb) (45.2.0)\n",
            "Requirement already satisfied: six>=1.13.0 in /usr/lib/python3/dist-packages (from wandb) (1.14.0)\n",
            "Requirement already satisfied: setproctitle in /usr/local/lib/python3.8/dist-packages (from wandb) (1.3.2)\n",
            "Requirement already satisfied: sentry-sdk>=1.0.0 in /usr/local/lib/python3.8/dist-packages (from wandb) (1.12.0)\n",
            "Requirement already satisfied: PyYAML in /usr/local/lib/python3.8/dist-packages (from wandb) (6.0)\n",
            "Requirement already satisfied: shortuuid>=0.5.0 in /usr/local/lib/python3.8/dist-packages (from wandb) (1.0.11)\n",
            "Requirement already satisfied: GitPython>=1.0.0 in /usr/local/lib/python3.8/dist-packages (from wandb) (3.1.29)\n",
            "Requirement already satisfied: urllib3>=1.26.11; python_version >= \"3.6\" in /usr/local/lib/python3.8/dist-packages (from sentry-sdk>=1.0.0->wandb) (1.26.13)\n",
            "Requirement already satisfied: certifi in /usr/lib/python3/dist-packages (from sentry-sdk>=1.0.0->wandb) (2019.11.28)\n",
            "Requirement already satisfied: gitdb<5,>=4.0.1 in /usr/local/lib/python3.8/dist-packages (from GitPython>=1.0.0->wandb) (4.0.10)\n",
            "Requirement already satisfied: smmap<6,>=3.0.1 in /usr/local/lib/python3.8/dist-packages (from gitdb<5,>=4.0.1->GitPython>=1.0.0->wandb) (5.0.0)\n",
            "Requirement already satisfied: fastparquet in /usr/local/lib/python3.8/dist-packages (2022.12.0)\n",
            "Requirement already satisfied: cramjam>=2.3 in /usr/local/lib/python3.8/dist-packages (from fastparquet) (2.6.2)\n",
            "Requirement already satisfied: numpy>=1.20.3 in /usr/local/lib/python3.8/dist-packages (from fastparquet) (1.23.5)\n",
            "Requirement already satisfied: pandas>=1.5.0 in /usr/local/lib/python3.8/dist-packages (from fastparquet) (1.5.2)\n",
            "Requirement already satisfied: packaging in /usr/lib/python3/dist-packages (from fastparquet) (20.3)\n",
            "Requirement already satisfied: fsspec in /usr/local/lib/python3.8/dist-packages (from fastparquet) (2022.10.0)\n",
            "Requirement already satisfied: python-dateutil>=2.8.1 in /usr/local/lib/python3.8/dist-packages (from pandas>=1.5.0->fastparquet) (2.8.2)\n",
            "Requirement already satisfied: pytz>=2020.1 in /usr/local/lib/python3.8/dist-packages (from pandas>=1.5.0->fastparquet) (2022.7)\n",
            "Requirement already satisfied: six>=1.5 in /usr/lib/python3/dist-packages (from python-dateutil>=2.8.1->pandas>=1.5.0->fastparquet) (1.14.0)\n",
            "Requirement already satisfied: numpy in /usr/local/lib/python3.8/dist-packages (1.23.5)\n",
            "Requirement already satisfied: pandas in /usr/local/lib/python3.8/dist-packages (1.5.2)\n",
            "Requirement already satisfied: numpy>=1.20.3; python_version < \"3.10\" in /usr/local/lib/python3.8/dist-packages (from pandas) (1.23.5)\n",
            "Requirement already satisfied: pytz>=2020.1 in /usr/local/lib/python3.8/dist-packages (from pandas) (2022.7)\n",
            "Requirement already satisfied: python-dateutil>=2.8.1 in /usr/local/lib/python3.8/dist-packages (from pandas) (2.8.2)\n",
            "Requirement already satisfied: six>=1.5 in /usr/lib/python3/dist-packages (from python-dateutil>=2.8.1->pandas) (1.14.0)\n",
            "Requirement already satisfied: catboost in /usr/local/lib/python3.8/dist-packages (1.1.1)\n",
            "Requirement already satisfied: pandas>=0.24.0 in /usr/local/lib/python3.8/dist-packages (from catboost) (1.5.2)\n",
            "Requirement already satisfied: plotly in /usr/local/lib/python3.8/dist-packages (from catboost) (5.11.0)\n",
            "Requirement already satisfied: matplotlib in /usr/lib/python3/dist-packages (from catboost) (3.1.2)\n",
            "Requirement already satisfied: six in /usr/lib/python3/dist-packages (from catboost) (1.14.0)\n",
            "Requirement already satisfied: numpy>=1.16.0 in /usr/local/lib/python3.8/dist-packages (from catboost) (1.23.5)\n",
            "Requirement already satisfied: graphviz in /usr/local/lib/python3.8/dist-packages (from catboost) (0.20.1)\n",
            "Requirement already satisfied: scipy in /usr/lib/python3/dist-packages (from catboost) (1.3.3)\n",
            "Requirement already satisfied: pytz>=2020.1 in /usr/local/lib/python3.8/dist-packages (from pandas>=0.24.0->catboost) (2022.7)\n",
            "Requirement already satisfied: python-dateutil>=2.8.1 in /usr/local/lib/python3.8/dist-packages (from pandas>=0.24.0->catboost) (2.8.2)\n",
            "Requirement already satisfied: tenacity>=6.2.0 in /usr/local/lib/python3.8/dist-packages (from plotly->catboost) (8.1.0)\n"
          ]
        }
      ],
      "source": [
        "!pip install gcsfs==2022.10.0\n",
        "!pip install google-auth==2.15.0\n",
        "!pip install psutil==5.9.4\n",
        "!pip install wandb\n",
        "!pip install fastparquet\n",
        "!pip install numpy\n",
        "!pip install pandas\n",
        "!pip install catboost"
      ]
    },
    {
      "cell_type": "code",
      "execution_count": 17,
      "metadata": {
        "id": "7WXF7w4VyVgG"
      },
      "outputs": [],
      "source": [
        "import os\n",
        "\n",
        "from catboost import CatBoostClassifier, Pool\n",
        "import numpy as np\n",
        "\n",
        "import gcsfs\n",
        "import numpy as np\n",
        "import pandas as pd\n",
        "\n",
        "import wandb\n",
        "\n",
        "from sklearn.preprocessing import StandardScaler, MinMaxScaler\n",
        "from sklearn.exceptions import NotFittedError\n"
      ]
    },
    {
      "cell_type": "code",
      "execution_count": 18,
      "metadata": {
        "colab": {
          "base_uri": "https://localhost:8080/",
          "height": 104
        },
        "id": "KftC_bFhgwZt",
        "outputId": "67b2e2e9-4025-47fa-f42f-8b5ca225582a"
      },
      "outputs": [
        {
          "data": {
            "text/html": [
              "Finishing last run (ID:3gwwxvx1) before initializing another..."
            ],
            "text/plain": [
              "<IPython.core.display.HTML object>"
            ]
          },
          "metadata": {},
          "output_type": "display_data"
        },
        {
          "data": {
            "text/html": [
              "Waiting for W&B process to finish... <strong style=\"color:green\">(success).</strong>"
            ],
            "text/plain": [
              "<IPython.core.display.HTML object>"
            ]
          },
          "metadata": {},
          "output_type": "display_data"
        },
        {
          "data": {
            "application/vnd.jupyter.widget-view+json": {
              "model_id": "386f3b29d2534007a0b46f269c2fa403",
              "version_major": 2,
              "version_minor": 0
            },
            "text/plain": [
              "VBox(children=(Label(value='0.001 MB of 0.001 MB uploaded (0.000 MB deduped)\\r'), FloatProgress(value=1.0, max…"
            ]
          },
          "metadata": {},
          "output_type": "display_data"
        },
        {
          "data": {
            "text/html": [
              "Synced <strong style=\"color:#cdcd00\">lunar-brook-556</strong>: <a href=\"https://wandb.ai/fbv/thesis/runs/3gwwxvx1\" target=\"_blank\">https://wandb.ai/fbv/thesis/runs/3gwwxvx1</a><br/>Synced 5 W&B file(s), 0 media file(s), 0 artifact file(s) and 0 other file(s)"
            ],
            "text/plain": [
              "<IPython.core.display.HTML object>"
            ]
          },
          "metadata": {},
          "output_type": "display_data"
        },
        {
          "data": {
            "text/html": [
              "Find logs at: <code>./wandb/run-20221218_114244-3gwwxvx1/logs</code>"
            ],
            "text/plain": [
              "<IPython.core.display.HTML object>"
            ]
          },
          "metadata": {},
          "output_type": "display_data"
        },
        {
          "data": {
            "text/html": [
              "Successfully finished last run (ID:3gwwxvx1). Initializing new run:<br/>"
            ],
            "text/plain": [
              "<IPython.core.display.HTML object>"
            ]
          },
          "metadata": {},
          "output_type": "display_data"
        },
        {
          "data": {
            "application/vnd.jupyter.widget-view+json": {
              "model_id": "b258c61e1d374f8d977b295bfc544c83",
              "version_major": 2,
              "version_minor": 0
            },
            "text/plain": [
              "VBox(children=(Label(value='Waiting for wandb.init()...\\r'), FloatProgress(value=0.016669662514080603, max=1.0…"
            ]
          },
          "metadata": {},
          "output_type": "display_data"
        },
        {
          "data": {
            "text/html": [
              "wandb version 0.13.7 is available!  To upgrade, please run:\n",
              " $ pip install wandb --upgrade"
            ],
            "text/plain": [
              "<IPython.core.display.HTML object>"
            ]
          },
          "metadata": {},
          "output_type": "display_data"
        },
        {
          "data": {
            "text/html": [
              "Tracking run with wandb version 0.13.4"
            ],
            "text/plain": [
              "<IPython.core.display.HTML object>"
            ]
          },
          "metadata": {},
          "output_type": "display_data"
        },
        {
          "data": {
            "text/html": [
              "Run data is saved locally in <code>/root/thesis/notebooks/wandb/run-20221218_121805-3f0rjnq2</code>"
            ],
            "text/plain": [
              "<IPython.core.display.HTML object>"
            ]
          },
          "metadata": {},
          "output_type": "display_data"
        },
        {
          "data": {
            "text/html": [
              "Syncing run <strong><a href=\"https://wandb.ai/fbv/thesis/runs/3f0rjnq2\" target=\"_blank\">serene-resonance-559</a></strong> to <a href=\"https://wandb.ai/fbv/thesis\" target=\"_blank\">Weights & Biases</a> (<a href=\"https://wandb.me/run\" target=\"_blank\">docs</a>)<br/>"
            ],
            "text/plain": [
              "<IPython.core.display.HTML object>"
            ]
          },
          "metadata": {},
          "output_type": "display_data"
        }
      ],
      "source": [
        "# connect to weights and biases\n",
        "run = wandb.init(project=\"thesis\", job_type=\"dataset-creation\", entity=\"fbv\")\n"
      ]
    },
    {
      "cell_type": "code",
      "execution_count": 19,
      "metadata": {
        "id": "Xk8VWtSQces7"
      },
      "outputs": [],
      "source": [
        "# import google.auth\n",
        "# from google.colab import auth\n",
        "# # connect to google cloud storage\n",
        "# auth.authenticate_user()\n",
        "# credentials, _ = google.auth.default()\n",
        "fs = gcsfs.GCSFileSystem(project=\"thesis\")\n",
        "#fs = gcsfs.GCSFileSystem(project=\"thesis\", credentials=credentials)"
      ]
    },
    {
      "cell_type": "code",
      "execution_count": 20,
      "metadata": {
        "id": "yJViJH1yl_S7"
      },
      "outputs": [],
      "source": [
        "# reduce number of imported cols due to memory issues\n",
        "columns = [\n",
        "    \"QUOTE_DATETIME\",\n",
        "    \"ROOT\",\n",
        "    \"EXPIRATION\",\n",
        "    \"STRK_PRC\",\n",
        "    \"OPTION_TYPE\",\n",
        "    \"TRADE_SIZE\",\n",
        "    \"TRADE_PRICE\",\n",
        "    \"BEST_BID\",\n",
        "    \"BEST_ASK\",\n",
        "    \"ask_ex\",\n",
        "    \"bid_ex\",\n",
        "    \"bid_size_ex\",\n",
        "    \"ask_size_ex\",\n",
        "    \"price_all_lead\",\n",
        "    \"price_all_lag\",\n",
        "    \"price_ex_lead\",\n",
        "    \"price_ex_lag\",\n",
        "    \"buy_sell\",\n",
        "]\n"
      ]
    },
    {
      "cell_type": "code",
      "execution_count": 6,
      "metadata": {
        "id": "WmXtH-PEqyQE"
      },
      "outputs": [
        {
          "name": "stderr",
          "output_type": "stream",
          "text": [
            "/usr/lib/python3/dist-packages/google/auth/_default.py:66: UserWarning: Your application has authenticated using end user credentials from Google Cloud SDK. We recommend that most server applications use service accounts instead. If your application continues to use end user credentials from Cloud SDK, you might receive a \"quota exceeded\" or \"API not enabled\" error. For more information about service accounts, see https://cloud.google.com/docs/authentication/.\n",
            "  warnings.warn(_CLOUD_SDK_CREDENTIALS_WARNING)\n"
          ]
        }
      ],
      "source": [
        "train = pd.read_parquet(\n",
        "    f\"gs://thesis-bucket-option-trade-classification/data/preprocessed/train_set_extended_60.parquet\",\n",
        "    engine=\"fastparquet\",\n",
        "    columns=columns,\n",
        ")\n",
        "val = pd.read_parquet(\n",
        "    f\"gs://thesis-bucket-option-trade-classification/data/preprocessed/val_set_extended_20.parquet\",\n",
        "    engine=\"fastparquet\",\n",
        "    columns=columns,\n",
        ")"
      ]
    },
    {
      "cell_type": "code",
      "execution_count": 21,
      "metadata": {
        "id": "-f1NBeZNcXpY"
      },
      "outputs": [],
      "source": [
        "scaler = MinMaxScaler(feature_range=[-1, 1])\n",
        "\n",
        "def transform(data: pd.DataFrame) -> pd.DataFrame:\n",
        "\n",
        "    # # date features\n",
        "    x = pd.DataFrame(data={\"TRADE_PRICE\": data[\"TRADE_PRICE\"]}, index=data.index)\n",
        "\n",
        "    # TODO: speak with caroline\n",
        "    # x[\"bid_ex\"].replace({0.0:np.NaN}, inplace=True)\n",
        "    # x[\"ask_ex\"].replace({0.0:np.NaN}, inplace=True)\n",
        "\n",
        "    # size features\n",
        "    x[\"bid_ask_size_ratio_ex\"] = data[\"bid_size_ex\"] / data[\"ask_size_ex\"]\n",
        "    x[\"rel_bid_size_ex\"] = data[\"TRADE_SIZE\"] / data[\"bid_size_ex\"]\n",
        "    x[\"rel_ask_size_ex\"] = data[\"TRADE_SIZE\"] / data[\"ask_size_ex\"]\n",
        "    x[\"depth_ex\"] = data[\"bid_size_ex\"] - data[\"ask_size_ex\"]\n",
        "    \n",
        "    # classical\n",
        "    mid_ex = 0.5 * (data[\"ask_ex\"] + data[\"bid_ex\"])\n",
        "    mid_best = 0.5 * (data[\"BEST_ASK\"] + data[\"BEST_BID\"])\n",
        "    spread_ex = (data[\"ask_ex\"] - data[\"bid_ex\"])\n",
        "    spread_best = (data[\"BEST_ASK\"] - data[\"BEST_BID\"])\n",
        "    \n",
        "    x[\"prox_ex\"] = (data[\"TRADE_PRICE\"] - mid_ex) / (0.5 * spread_ex) \n",
        "    x[\"prox_best\"] = (data[\"TRADE_PRICE\"] - mid_best) / (0.5 * spread_best)  \n",
        "\n",
        "    x[\"spread_ex\"] = spread_ex\n",
        "    x[\"spread_best\"] = spread_best\n",
        "\n",
        "    x[\"bid_ask_ratio_ex\"] = data[\"bid_ex\"] / data[\"ask_ex\"]\n",
        "    x[\"price_rel_nbb\"] = (data[\"BEST_ASK\"] - data[\"TRADE_PRICE\"]) / (data[\"BEST_ASK\"] - mid_best)\n",
        "    x[\"price_rel_nbo\"] = (data[\"TRADE_PRICE\"] - data[\"BEST_BID\"]) / (mid_best - data[\"BEST_BID\"])\n",
        "    \n",
        "    \n",
        "    # calculate change\n",
        "    x[\"chg_ex_lead\"] = data[\"TRADE_PRICE\"] - data[\"price_ex_lead\"]\n",
        "    x[\"chg_ex_lag\"] = data[\"TRADE_PRICE\"] - data[\"price_ex_lag\"]\n",
        "    x[\"chg_all_lead\"] = data[\"TRADE_PRICE\"] - data[\"price_all_lead\"]\n",
        "    x[\"chg_all_lag\"] = data[\"TRADE_PRICE\"] - data[\"price_all_lag\"]\n",
        "\n",
        "    # log transformed features\n",
        "    x[\n",
        "         [\n",
        "             \"ask_ex\",\n",
        "             \"bid_ex\",\n",
        "             \"BEST_ASK\",\n",
        "             \"BEST_BID\",\n",
        "             \"TRADE_PRICE\",\n",
        "             \"price_all_lag\",\n",
        "             \"price_all_lead\",\n",
        "             \"price_ex_lag\",\n",
        "             \"price_ex_lead\",\n",
        "             \"TRADE_SIZE\", \n",
        "             \"bid_size_ex\", \n",
        "             \"ask_size_ex\",\n",
        "         ]\n",
        "     ] = np.log1p(data[\n",
        "         [\n",
        "             \"ask_ex\",\n",
        "             \"bid_ex\",\n",
        "             \"BEST_ASK\",\n",
        "             \"BEST_BID\",\n",
        "             \"TRADE_PRICE\",\n",
        "             \"price_all_lag\",\n",
        "             \"price_all_lead\",\n",
        "             \"price_ex_lag\",\n",
        "             \"price_ex_lead\",\n",
        "             \"TRADE_SIZE\", \n",
        "             \"bid_size_ex\", \n",
        "             \"ask_size_ex\"\n",
        "         ]\n",
        "     ]\n",
        "     )\n",
        "\n",
        "    # impute with zeros\n",
        "    x.replace([np.inf, -np.inf], np.nan, inplace=True)\n",
        "    x.fillna(0, inplace=True)\n",
        "\n",
        "    # scale to [-1, 1]\n",
        "    try:\n",
        "        x[x.columns] = scaler.transform(x)\n",
        "        print(\"try\")\n",
        "    except NotFittedError as e:\n",
        "        x[x.columns] = scaler.fit_transform(x)\n",
        "        print(\"except\")\n",
        "\n",
        "    x[\"buy_sell\"] = data[\"buy_sell\"]\n",
        "    return x\n"
      ]
    },
    {
      "cell_type": "code",
      "execution_count": 9,
      "metadata": {
        "id": "v4rfdI7Sjgi9"
      },
      "outputs": [
        {
          "name": "stdout",
          "output_type": "stream",
          "text": [
            "except\n"
          ]
        }
      ],
      "source": [
        "X_train = transform(train)\n",
        "y_train = X_train.buy_sell\n",
        "X_train.drop(columns=[\"buy_sell\"], inplace=True)\n",
        "\n",
        "del train"
      ]
    },
    {
      "cell_type": "code",
      "execution_count": 10,
      "metadata": {
        "id": "-kWMoN7W3Htf"
      },
      "outputs": [
        {
          "name": "stdout",
          "output_type": "stream",
          "text": [
            "try\n"
          ]
        }
      ],
      "source": [
        "X_val = transform(val)\n",
        "y_val = X_val.buy_sell\n",
        "X_val.drop(columns=[\"buy_sell\"], inplace=True)\n",
        "del val"
      ]
    },
    {
      "attachments": {},
      "cell_type": "markdown",
      "metadata": {},
      "source": [
        "## Sanity Check with `catboost`"
      ]
    },
    {
      "cell_type": "code",
      "execution_count": 11,
      "metadata": {
        "id": "fJ71ORhw3Hqe"
      },
      "outputs": [
        {
          "name": "stdout",
          "output_type": "stream",
          "text": [
            "0.7521829816176018\n"
          ]
        }
      ],
      "source": [
        "params = {\n",
        "        \"od_type\": \"Iter\",\n",
        "        \"logging_level\": \"Silent\",\n",
        "        \"loss_function\": \"Logloss\",\n",
        "        \"task_type\": \"GPU\",\n",
        "        \"cat_features\": None,\n",
        "        \"random_seed\": 42,\n",
        "        \"eval_metric\":\"Accuracy\",\n",
        "       \"iterations\":2000,\n",
        "       \"early_stopping_rounds\":100,\n",
        "       \"grow_policy\":\"Lossguide\",\n",
        "}\n",
        "\n",
        "\n",
        "weight = np.geomspace(0.001, 1, num=len(y_train))\n",
        "# keep ordering of data\n",
        "timestamp = np.linspace(0, 1, len(y_train))\n",
        "\n",
        "model = CatBoostClassifier(**params)\n",
        "train_pool = Pool(X_train, y_train,weight = weight, timestamp=timestamp)\n",
        "model.fit(train_pool, eval_set=(X_val,y_val))\n",
        "\n",
        "print(model.score(X_val, y_val))"
      ]
    },
    {
      "cell_type": "code",
      "execution_count": 14,
      "metadata": {},
      "outputs": [
        {
          "data": {
            "text/html": [
              "<div>\n",
              "<style scoped>\n",
              "    .dataframe tbody tr th:only-of-type {\n",
              "        vertical-align: middle;\n",
              "    }\n",
              "\n",
              "    .dataframe tbody tr th {\n",
              "        vertical-align: top;\n",
              "    }\n",
              "\n",
              "    .dataframe thead th {\n",
              "        text-align: right;\n",
              "    }\n",
              "</style>\n",
              "<table border=\"1\" class=\"dataframe\">\n",
              "  <thead>\n",
              "    <tr style=\"text-align: right;\">\n",
              "      <th></th>\n",
              "      <th>Feature Id</th>\n",
              "      <th>Importances</th>\n",
              "    </tr>\n",
              "  </thead>\n",
              "  <tbody>\n",
              "    <tr>\n",
              "      <th>0</th>\n",
              "      <td>prox_ex</td>\n",
              "      <td>15.528679</td>\n",
              "    </tr>\n",
              "    <tr>\n",
              "      <th>1</th>\n",
              "      <td>ask_size_ex</td>\n",
              "      <td>14.496162</td>\n",
              "    </tr>\n",
              "    <tr>\n",
              "      <th>2</th>\n",
              "      <td>bid_size_ex</td>\n",
              "      <td>11.419066</td>\n",
              "    </tr>\n",
              "    <tr>\n",
              "      <th>3</th>\n",
              "      <td>prox_best</td>\n",
              "      <td>11.275916</td>\n",
              "    </tr>\n",
              "    <tr>\n",
              "      <th>4</th>\n",
              "      <td>price_rel_nbo</td>\n",
              "      <td>10.073817</td>\n",
              "    </tr>\n",
              "    <tr>\n",
              "      <th>5</th>\n",
              "      <td>bid_ask_size_ratio_ex</td>\n",
              "      <td>7.577764</td>\n",
              "    </tr>\n",
              "    <tr>\n",
              "      <th>6</th>\n",
              "      <td>price_rel_nbb</td>\n",
              "      <td>7.139597</td>\n",
              "    </tr>\n",
              "    <tr>\n",
              "      <th>7</th>\n",
              "      <td>rel_bid_size_ex</td>\n",
              "      <td>4.310755</td>\n",
              "    </tr>\n",
              "    <tr>\n",
              "      <th>8</th>\n",
              "      <td>spread_ex</td>\n",
              "      <td>3.742201</td>\n",
              "    </tr>\n",
              "    <tr>\n",
              "      <th>9</th>\n",
              "      <td>rel_ask_size_ex</td>\n",
              "      <td>2.975100</td>\n",
              "    </tr>\n",
              "    <tr>\n",
              "      <th>10</th>\n",
              "      <td>spread_best</td>\n",
              "      <td>2.442900</td>\n",
              "    </tr>\n",
              "    <tr>\n",
              "      <th>11</th>\n",
              "      <td>TRADE_SIZE</td>\n",
              "      <td>1.306663</td>\n",
              "    </tr>\n",
              "    <tr>\n",
              "      <th>12</th>\n",
              "      <td>depth_ex</td>\n",
              "      <td>1.156391</td>\n",
              "    </tr>\n",
              "    <tr>\n",
              "      <th>13</th>\n",
              "      <td>bid_ask_ratio_ex</td>\n",
              "      <td>1.072108</td>\n",
              "    </tr>\n",
              "    <tr>\n",
              "      <th>14</th>\n",
              "      <td>chg_all_lead</td>\n",
              "      <td>0.833733</td>\n",
              "    </tr>\n",
              "    <tr>\n",
              "      <th>15</th>\n",
              "      <td>price_all_lead</td>\n",
              "      <td>0.734273</td>\n",
              "    </tr>\n",
              "    <tr>\n",
              "      <th>16</th>\n",
              "      <td>chg_all_lag</td>\n",
              "      <td>0.687418</td>\n",
              "    </tr>\n",
              "    <tr>\n",
              "      <th>17</th>\n",
              "      <td>TRADE_PRICE</td>\n",
              "      <td>0.552098</td>\n",
              "    </tr>\n",
              "    <tr>\n",
              "      <th>18</th>\n",
              "      <td>bid_ex</td>\n",
              "      <td>0.478588</td>\n",
              "    </tr>\n",
              "    <tr>\n",
              "      <th>19</th>\n",
              "      <td>chg_ex_lead</td>\n",
              "      <td>0.467584</td>\n",
              "    </tr>\n",
              "    <tr>\n",
              "      <th>20</th>\n",
              "      <td>price_ex_lead</td>\n",
              "      <td>0.414822</td>\n",
              "    </tr>\n",
              "    <tr>\n",
              "      <th>21</th>\n",
              "      <td>ask_ex</td>\n",
              "      <td>0.397716</td>\n",
              "    </tr>\n",
              "    <tr>\n",
              "      <th>22</th>\n",
              "      <td>BEST_BID</td>\n",
              "      <td>0.298615</td>\n",
              "    </tr>\n",
              "    <tr>\n",
              "      <th>23</th>\n",
              "      <td>chg_ex_lag</td>\n",
              "      <td>0.254398</td>\n",
              "    </tr>\n",
              "    <tr>\n",
              "      <th>24</th>\n",
              "      <td>price_ex_lag</td>\n",
              "      <td>0.137283</td>\n",
              "    </tr>\n",
              "    <tr>\n",
              "      <th>25</th>\n",
              "      <td>BEST_ASK</td>\n",
              "      <td>0.128004</td>\n",
              "    </tr>\n",
              "    <tr>\n",
              "      <th>26</th>\n",
              "      <td>price_all_lag</td>\n",
              "      <td>0.098351</td>\n",
              "    </tr>\n",
              "  </tbody>\n",
              "</table>\n",
              "</div>"
            ],
            "text/plain": [
              "               Feature Id  Importances\n",
              "0                 prox_ex    15.528679\n",
              "1             ask_size_ex    14.496162\n",
              "2             bid_size_ex    11.419066\n",
              "3               prox_best    11.275916\n",
              "4           price_rel_nbo    10.073817\n",
              "5   bid_ask_size_ratio_ex     7.577764\n",
              "6           price_rel_nbb     7.139597\n",
              "7         rel_bid_size_ex     4.310755\n",
              "8               spread_ex     3.742201\n",
              "9         rel_ask_size_ex     2.975100\n",
              "10            spread_best     2.442900\n",
              "11             TRADE_SIZE     1.306663\n",
              "12               depth_ex     1.156391\n",
              "13       bid_ask_ratio_ex     1.072108\n",
              "14           chg_all_lead     0.833733\n",
              "15         price_all_lead     0.734273\n",
              "16            chg_all_lag     0.687418\n",
              "17            TRADE_PRICE     0.552098\n",
              "18                 bid_ex     0.478588\n",
              "19            chg_ex_lead     0.467584\n",
              "20          price_ex_lead     0.414822\n",
              "21                 ask_ex     0.397716\n",
              "22               BEST_BID     0.298615\n",
              "23             chg_ex_lag     0.254398\n",
              "24           price_ex_lag     0.137283\n",
              "25               BEST_ASK     0.128004\n",
              "26          price_all_lag     0.098351"
            ]
          },
          "execution_count": 14,
          "metadata": {},
          "output_type": "execute_result"
        }
      ],
      "source": [
        "feature_importance = model.get_feature_importance(prettified=True)\n",
        "feature_importance"
      ]
    },
    {
      "cell_type": "code",
      "execution_count": 16,
      "metadata": {},
      "outputs": [],
      "source": [
        "# 0.7333797810178145 (logs applied) to     x[\"bid_ask_size_ratio_ex\"] x[\"rel_bid_size_ex\"]   x[\"rel_ask_size_ex\"] \n",
        "# 0.7331946683482763 (all from above + log returns)\n",
        "# 0.734859665271541 (all above + compare mids, ask, and bid at exchange with nation wide)\n",
        "# 0.7349013664773161 (all above + trade_price == bid_ex == ask_ex)\n",
        "# 0.7351464881990674 (price normed size)\n",
        "# 0.7352807457396116 (all above +  x[\"price_rel_nbo\"] +  x[\"price_rel_nbb\"])\n",
        "# 0.74296292 (some removed, see above, max. iterations reached. Actually there is no reason to stop ensemble)\n",
        "# 0.745053067 convert some ratios to percentages (all other things the same as above)\n",
        "# 0.7434765583282902 without any scaler, zero imputer, symmetric tree\n",
        "# 0.7445394305242655 \"grow_policy\" = \"Lossguide\" -> trained for 5000 iterations\n",
        "# 0.7450428963013065 impute with -999 instead of 0 -> trained for 5000 iterations\n",
        "# 0.7436240382023729 TODO: ask Caroline: What happens with LR if bid_ex = 0 or ask_ex is?   x[\"bid_ex\"].replace({0.0:np.NaN}, inplace=True) and  x[\"ask_ex\"].replace({0.0:np.NaN}, inplace=True)\n",
        "# 0.7447164063731647 chg from previous trade to successive trade\n",
        "# 0.7445821488326205 chg from previous trade + no trade indicator\n",
        "# 0.7476558328290199 \"spread\" feature ex\n",
        "# 0.747136093410701 \"spread\" feature best ex + fixed typo\n",
        "# 0.7475317463142745 removed features with low importance + impute with -1"
      ]
    },
    {
      "cell_type": "markdown",
      "metadata": {
        "id": "TCs4uyjKVX8L"
      },
      "source": [
        "## Sanity Check against `lightgbm`"
      ]
    },
    {
      "cell_type": "code",
      "execution_count": 17,
      "metadata": {
        "colab": {
          "base_uri": "https://localhost:8080/"
        },
        "id": "xrMmNJHcFkPB",
        "outputId": "961c05e6-930e-406d-f6c8-27be5bc528ff"
      },
      "outputs": [],
      "source": [
        "%%script false --no-raise-error\n",
        "!pip install lightgbm"
      ]
    },
    {
      "cell_type": "code",
      "execution_count": 18,
      "metadata": {
        "id": "C-am9nv7GpgH"
      },
      "outputs": [],
      "source": [
        "%%script false --no-raise-error\n",
        "import lightgbm as lgb"
      ]
    },
    {
      "cell_type": "code",
      "execution_count": 19,
      "metadata": {
        "id": "5U4QJeVlFuW1"
      },
      "outputs": [],
      "source": [
        "%%script false --no-raise-error\n",
        "lgb_params = {\n",
        "                    'objective':'binary',\n",
        "                    'boosting_type':'gbdt',\n",
        "                    'metric':None,\n",
        "                    'n_jobs':-1,\n",
        "                    'learning_rate':0.01,\n",
        "                    'num_leaves': 2**8,\n",
        "                    'max_depth':-1,\n",
        "                    'tree_learner':'serial',\n",
        "                    'colsample_bytree': 0.7,\n",
        "                    'subsample_freq':1,\n",
        "                    'subsample':0.7,\n",
        "                    'n_estimators':200,\n",
        "                    'max_bin':255,\n",
        "                    'verbose':-1,\n",
        "                    'seed': 42,\n",
        "                    'eval_metric':'accuracy',\n",
        "                    \"device\": \"cpu\",\n",
        "                }"
      ]
    },
    {
      "cell_type": "code",
      "execution_count": 20,
      "metadata": {
        "id": "FmChQhURHSLv"
      },
      "outputs": [],
      "source": [
        "%%script false --no-raise-error\n",
        "# create dataset for lightgbm\n",
        "# if you want to re-use data, remember to set free_raw_data=False\n",
        "lgb_train = lgb.Dataset(X_train, y_train,weight=X_train.index.values, free_raw_data=False)\n",
        "lgb_eval = lgb.Dataset(X_val, y_val, reference=lgb_train, free_raw_data=False)"
      ]
    },
    {
      "cell_type": "code",
      "execution_count": 21,
      "metadata": {
        "colab": {
          "base_uri": "https://localhost:8080/"
        },
        "id": "v3So6hg2GfOl",
        "outputId": "3c999a72-5b4b-4fd4-d679-181d6262ba84"
      },
      "outputs": [],
      "source": [
        "%%script false --no-raise-error\n",
        "bst = lgb.LGBMClassifier(**lgb_params)\n",
        "bst = lgb.train(lgb_params,\n",
        "                train_set=lgb_train,\n",
        "                valid_sets=lgb_eval,\n",
        "                early_stopping_rounds=100\n",
        ")"
      ]
    },
    {
      "cell_type": "code",
      "execution_count": 22,
      "metadata": {
        "colab": {
          "base_uri": "https://localhost:8080/"
        },
        "id": "qoEhMRLg3HZF",
        "outputId": "fc8df7eb-9e39-423d-b670-094979e7850f"
      },
      "outputs": [],
      "source": [
        "%%script false --no-raise-error\n",
        "pred = bst.predict(X_val)\n",
        "pred = np.rint(pred)\n",
        "pred[pred==0]=-1\n",
        "print((y_val == pred).mean())"
      ]
    },
    {
      "attachments": {},
      "cell_type": "markdown",
      "metadata": {},
      "source": [
        "## Write to file"
      ]
    },
    {
      "cell_type": "code",
      "execution_count": 22,
      "metadata": {},
      "outputs": [],
      "source": [
        "train = pd.read_parquet(\n",
        "    f\"gs://thesis-bucket-option-trade-classification/data/preprocessed/train_set_extended_60.parquet\",\n",
        "    engine=\"fastparquet\",\n",
        "    columns=columns,\n",
        ")\n",
        "val = pd.read_parquet(\n",
        "    f\"gs://thesis-bucket-option-trade-classification/data/preprocessed/val_set_extended_20.parquet\",\n",
        "    engine=\"fastparquet\",\n",
        "    columns=columns,\n",
        ")\n",
        "test = pd.read_parquet(\n",
        "    f\"gs://thesis-bucket-option-trade-classification/data/preprocessed/test_set_extended_20.parquet\",\n",
        "    engine=\"fastparquet\",\n",
        "    columns=columns,\n",
        ")"
      ]
    },
    {
      "cell_type": "code",
      "execution_count": 23,
      "metadata": {},
      "outputs": [
        {
          "name": "stdout",
          "output_type": "stream",
          "text": [
            "except\n",
            "try\n",
            "try\n"
          ]
        }
      ],
      "source": [
        "os.environ[\"GCLOUD_PROJECT\"] = \"flowing-mantis-239216\"\n",
        "\n",
        "name = \"ise_classic_size_log_normalized\"\n",
        "#dataset = wandb.Artifact(name=name, type=\"preprocessed_data\")\n",
        "\n",
        "# reset scaler\n",
        "scaler = MinMaxScaler(feature_range=[-1, 1])\n",
        "\n",
        "output_path = (\n",
        "    f\"gs://thesis-bucket-option-trade-classification/data/{name}/train_set_60.parquet\"\n",
        ")\n",
        "train = transform(train)\n",
        "train.to_parquet(output_path)\n",
        "#dataset.add_reference(output_path)\n",
        "\n",
        "del train\n",
        "output_path = (\n",
        "    f\"gs://thesis-bucket-option-trade-classification/data/{name}/val_set_20.parquet\"\n",
        ")\n",
        "val = transform(val)\n",
        "val.to_parquet(output_path)\n",
        "#dataset.add_reference(output_path)\n",
        "\n",
        "del val\n",
        "output_path = (\n",
        "    f\"gs://thesis-bucket-option-trade-classification/data/{name}/test_set_20.parquet\"\n",
        ")\n",
        "test = transform(test)\n",
        "test.to_parquet(output_path)\n",
        "#dataset.add_reference(output_path)"
      ]
    },
    {
      "cell_type": "code",
      "execution_count": 24,
      "metadata": {},
      "outputs": [
        {
          "data": {
            "text/html": [
              "<div>\n",
              "<style scoped>\n",
              "    .dataframe tbody tr th:only-of-type {\n",
              "        vertical-align: middle;\n",
              "    }\n",
              "\n",
              "    .dataframe tbody tr th {\n",
              "        vertical-align: top;\n",
              "    }\n",
              "\n",
              "    .dataframe thead th {\n",
              "        text-align: right;\n",
              "    }\n",
              "</style>\n",
              "<table border=\"1\" class=\"dataframe\">\n",
              "  <thead>\n",
              "    <tr style=\"text-align: right;\">\n",
              "      <th></th>\n",
              "      <th>TRADE_PRICE</th>\n",
              "      <th>bid_ask_size_ratio_ex</th>\n",
              "      <th>rel_bid_size_ex</th>\n",
              "      <th>rel_ask_size_ex</th>\n",
              "      <th>depth_ex</th>\n",
              "      <th>prox_ex</th>\n",
              "      <th>prox_best</th>\n",
              "      <th>spread_ex</th>\n",
              "      <th>spread_best</th>\n",
              "      <th>bid_ask_ratio_ex</th>\n",
              "      <th>...</th>\n",
              "      <th>BEST_ASK</th>\n",
              "      <th>BEST_BID</th>\n",
              "      <th>price_all_lag</th>\n",
              "      <th>price_all_lead</th>\n",
              "      <th>price_ex_lag</th>\n",
              "      <th>price_ex_lead</th>\n",
              "      <th>TRADE_SIZE</th>\n",
              "      <th>bid_size_ex</th>\n",
              "      <th>ask_size_ex</th>\n",
              "      <th>buy_sell</th>\n",
              "    </tr>\n",
              "  </thead>\n",
              "  <tbody>\n",
              "    <tr>\n",
              "      <th>count</th>\n",
              "      <td>9.861576e+06</td>\n",
              "      <td>9.861576e+06</td>\n",
              "      <td>9.861576e+06</td>\n",
              "      <td>9.861576e+06</td>\n",
              "      <td>9.861576e+06</td>\n",
              "      <td>9.861576e+06</td>\n",
              "      <td>9.861576e+06</td>\n",
              "      <td>9.861576e+06</td>\n",
              "      <td>9.861576e+06</td>\n",
              "      <td>9.861576e+06</td>\n",
              "      <td>...</td>\n",
              "      <td>9.861576e+06</td>\n",
              "      <td>9.861576e+06</td>\n",
              "      <td>9.861576e+06</td>\n",
              "      <td>9.861576e+06</td>\n",
              "      <td>9.861576e+06</td>\n",
              "      <td>9.861576e+06</td>\n",
              "      <td>9.861576e+06</td>\n",
              "      <td>9.861576e+06</td>\n",
              "      <td>9.861576e+06</td>\n",
              "      <td>9.861576e+06</td>\n",
              "    </tr>\n",
              "    <tr>\n",
              "      <th>mean</th>\n",
              "      <td>-7.061342e-01</td>\n",
              "      <td>-9.998360e-01</td>\n",
              "      <td>-9.998290e-01</td>\n",
              "      <td>-9.998783e-01</td>\n",
              "      <td>-1.517021e-04</td>\n",
              "      <td>-4.496103e-01</td>\n",
              "      <td>-2.217283e-01</td>\n",
              "      <td>-3.360071e-01</td>\n",
              "      <td>-9.974931e-01</td>\n",
              "      <td>-7.037069e-01</td>\n",
              "      <td>...</td>\n",
              "      <td>-8.189535e-01</td>\n",
              "      <td>-7.144768e-01</td>\n",
              "      <td>-7.731023e-01</td>\n",
              "      <td>-8.203375e-01</td>\n",
              "      <td>-7.321574e-01</td>\n",
              "      <td>-7.479942e-01</td>\n",
              "      <td>-8.128382e-01</td>\n",
              "      <td>-4.204213e-01</td>\n",
              "      <td>-3.656733e-01</td>\n",
              "      <td>-2.805495e-02</td>\n",
              "    </tr>\n",
              "    <tr>\n",
              "      <th>std</th>\n",
              "      <td>2.711683e-01</td>\n",
              "      <td>1.158564e-03</td>\n",
              "      <td>1.354047e-03</td>\n",
              "      <td>8.864031e-04</td>\n",
              "      <td>3.358728e-03</td>\n",
              "      <td>6.287550e-04</td>\n",
              "      <td>7.700381e-04</td>\n",
              "      <td>6.190585e-03</td>\n",
              "      <td>7.246308e-06</td>\n",
              "      <td>1.178656e-01</td>\n",
              "      <td>...</td>\n",
              "      <td>1.602128e-01</td>\n",
              "      <td>2.718154e-01</td>\n",
              "      <td>2.112202e-01</td>\n",
              "      <td>1.696631e-01</td>\n",
              "      <td>2.708560e-01</td>\n",
              "      <td>2.639858e-01</td>\n",
              "      <td>1.995284e-01</td>\n",
              "      <td>3.001729e-01</td>\n",
              "      <td>2.637453e-01</td>\n",
              "      <td>9.996064e-01</td>\n",
              "    </tr>\n",
              "    <tr>\n",
              "      <th>min</th>\n",
              "      <td>-1.000000e+00</td>\n",
              "      <td>-1.000000e+00</td>\n",
              "      <td>-1.000000e+00</td>\n",
              "      <td>-1.000000e+00</td>\n",
              "      <td>-1.027665e-01</td>\n",
              "      <td>-5.057553e-01</td>\n",
              "      <td>-3.200000e-01</td>\n",
              "      <td>-1.061782e+00</td>\n",
              "      <td>-9.978192e-01</td>\n",
              "      <td>-1.000000e+00</td>\n",
              "      <td>...</td>\n",
              "      <td>-1.000000e+00</td>\n",
              "      <td>-1.000000e+00</td>\n",
              "      <td>-1.000000e+00</td>\n",
              "      <td>-1.000000e+00</td>\n",
              "      <td>-1.000000e+00</td>\n",
              "      <td>-1.000000e+00</td>\n",
              "      <td>-1.000000e+00</td>\n",
              "      <td>-1.000000e+00</td>\n",
              "      <td>-1.000000e+00</td>\n",
              "      <td>-1.000000e+00</td>\n",
              "    </tr>\n",
              "    <tr>\n",
              "      <th>25%</th>\n",
              "      <td>-9.195079e-01</td>\n",
              "      <td>-9.999950e-01</td>\n",
              "      <td>-9.999933e-01</td>\n",
              "      <td>-9.999936e-01</td>\n",
              "      <td>-4.050061e-04</td>\n",
              "      <td>-4.499189e-01</td>\n",
              "      <td>-2.219634e-01</td>\n",
              "      <td>-3.387931e-01</td>\n",
              "      <td>-9.974964e-01</td>\n",
              "      <td>-7.333333e-01</td>\n",
              "      <td>...</td>\n",
              "      <td>-9.448681e-01</td>\n",
              "      <td>-9.294147e-01</td>\n",
              "      <td>-9.397130e-01</td>\n",
              "      <td>-9.544227e-01</td>\n",
              "      <td>-9.518099e-01</td>\n",
              "      <td>-9.648794e-01</td>\n",
              "      <td>-1.000000e+00</td>\n",
              "      <td>-5.834429e-01</td>\n",
              "      <td>-5.544227e-01</td>\n",
              "      <td>-1.000000e+00</td>\n",
              "    </tr>\n",
              "    <tr>\n",
              "      <th>50%</th>\n",
              "      <td>-7.777990e-01</td>\n",
              "      <td>-9.999808e-01</td>\n",
              "      <td>-9.999701e-01</td>\n",
              "      <td>-9.999773e-01</td>\n",
              "      <td>-5.000075e-06</td>\n",
              "      <td>-4.495944e-01</td>\n",
              "      <td>-2.217390e-01</td>\n",
              "      <td>-3.382184e-01</td>\n",
              "      <td>-9.974957e-01</td>\n",
              "      <td>-6.525424e-01</td>\n",
              "      <td>...</td>\n",
              "      <td>-8.607004e-01</td>\n",
              "      <td>-7.878170e-01</td>\n",
              "      <td>-8.287887e-01</td>\n",
              "      <td>-8.662185e-01</td>\n",
              "      <td>-8.065964e-01</td>\n",
              "      <td>-8.251519e-01</td>\n",
              "      <td>-8.643808e-01</td>\n",
              "      <td>-4.034553e-01</td>\n",
              "      <td>-3.925944e-01</td>\n",
              "      <td>-1.000000e+00</td>\n",
              "    </tr>\n",
              "    <tr>\n",
              "      <th>75%</th>\n",
              "      <td>-5.676084e-01</td>\n",
              "      <td>-9.999556e-01</td>\n",
              "      <td>-9.998640e-01</td>\n",
              "      <td>-9.998918e-01</td>\n",
              "      <td>2.650040e-04</td>\n",
              "      <td>-4.493566e-01</td>\n",
              "      <td>-2.215071e-01</td>\n",
              "      <td>-3.363218e-01</td>\n",
              "      <td>-9.974932e-01</td>\n",
              "      <td>-6.220183e-01</td>\n",
              "      <td>...</td>\n",
              "      <td>-7.362892e-01</td>\n",
              "      <td>-5.769865e-01</td>\n",
              "      <td>-6.658070e-01</td>\n",
              "      <td>-7.341432e-01</td>\n",
              "      <td>-5.959212e-01</td>\n",
              "      <td>-6.147051e-01</td>\n",
              "      <td>-6.664538e-01</td>\n",
              "      <td>-2.222069e-01</td>\n",
              "      <td>-1.915243e-01</td>\n",
              "      <td>1.000000e+00</td>\n",
              "    </tr>\n",
              "    <tr>\n",
              "      <th>max</th>\n",
              "      <td>1.096489e+00</td>\n",
              "      <td>-8.631786e-01</td>\n",
              "      <td>-6.186268e-02</td>\n",
              "      <td>-3.209091e-01</td>\n",
              "      <td>1.369371e-01</td>\n",
              "      <td>-4.067200e-01</td>\n",
              "      <td>1.930437e-01</td>\n",
              "      <td>1.895977e+00</td>\n",
              "      <td>-9.972290e-01</td>\n",
              "      <td>-1.000000e-01</td>\n",
              "      <td>...</td>\n",
              "      <td>2.405476e-01</td>\n",
              "      <td>1.096545e+00</td>\n",
              "      <td>5.909646e-01</td>\n",
              "      <td>2.682220e-01</td>\n",
              "      <td>1.029699e+00</td>\n",
              "      <td>1.000336e+00</td>\n",
              "      <td>9.747139e-01</td>\n",
              "      <td>6.547516e-01</td>\n",
              "      <td>6.051181e-01</td>\n",
              "      <td>1.000000e+00</td>\n",
              "    </tr>\n",
              "  </tbody>\n",
              "</table>\n",
              "<p>8 rows × 28 columns</p>\n",
              "</div>"
            ],
            "text/plain": [
              "        TRADE_PRICE  bid_ask_size_ratio_ex  rel_bid_size_ex  rel_ask_size_ex  \\\n",
              "count  9.861576e+06           9.861576e+06     9.861576e+06     9.861576e+06   \n",
              "mean  -7.061342e-01          -9.998360e-01    -9.998290e-01    -9.998783e-01   \n",
              "std    2.711683e-01           1.158564e-03     1.354047e-03     8.864031e-04   \n",
              "min   -1.000000e+00          -1.000000e+00    -1.000000e+00    -1.000000e+00   \n",
              "25%   -9.195079e-01          -9.999950e-01    -9.999933e-01    -9.999936e-01   \n",
              "50%   -7.777990e-01          -9.999808e-01    -9.999701e-01    -9.999773e-01   \n",
              "75%   -5.676084e-01          -9.999556e-01    -9.998640e-01    -9.998918e-01   \n",
              "max    1.096489e+00          -8.631786e-01    -6.186268e-02    -3.209091e-01   \n",
              "\n",
              "           depth_ex       prox_ex     prox_best     spread_ex   spread_best  \\\n",
              "count  9.861576e+06  9.861576e+06  9.861576e+06  9.861576e+06  9.861576e+06   \n",
              "mean  -1.517021e-04 -4.496103e-01 -2.217283e-01 -3.360071e-01 -9.974931e-01   \n",
              "std    3.358728e-03  6.287550e-04  7.700381e-04  6.190585e-03  7.246308e-06   \n",
              "min   -1.027665e-01 -5.057553e-01 -3.200000e-01 -1.061782e+00 -9.978192e-01   \n",
              "25%   -4.050061e-04 -4.499189e-01 -2.219634e-01 -3.387931e-01 -9.974964e-01   \n",
              "50%   -5.000075e-06 -4.495944e-01 -2.217390e-01 -3.382184e-01 -9.974957e-01   \n",
              "75%    2.650040e-04 -4.493566e-01 -2.215071e-01 -3.363218e-01 -9.974932e-01   \n",
              "max    1.369371e-01 -4.067200e-01  1.930437e-01  1.895977e+00 -9.972290e-01   \n",
              "\n",
              "       bid_ask_ratio_ex  ...      BEST_ASK      BEST_BID  price_all_lag  \\\n",
              "count      9.861576e+06  ...  9.861576e+06  9.861576e+06   9.861576e+06   \n",
              "mean      -7.037069e-01  ... -8.189535e-01 -7.144768e-01  -7.731023e-01   \n",
              "std        1.178656e-01  ...  1.602128e-01  2.718154e-01   2.112202e-01   \n",
              "min       -1.000000e+00  ... -1.000000e+00 -1.000000e+00  -1.000000e+00   \n",
              "25%       -7.333333e-01  ... -9.448681e-01 -9.294147e-01  -9.397130e-01   \n",
              "50%       -6.525424e-01  ... -8.607004e-01 -7.878170e-01  -8.287887e-01   \n",
              "75%       -6.220183e-01  ... -7.362892e-01 -5.769865e-01  -6.658070e-01   \n",
              "max       -1.000000e-01  ...  2.405476e-01  1.096545e+00   5.909646e-01   \n",
              "\n",
              "       price_all_lead  price_ex_lag  price_ex_lead    TRADE_SIZE  \\\n",
              "count    9.861576e+06  9.861576e+06   9.861576e+06  9.861576e+06   \n",
              "mean    -8.203375e-01 -7.321574e-01  -7.479942e-01 -8.128382e-01   \n",
              "std      1.696631e-01  2.708560e-01   2.639858e-01  1.995284e-01   \n",
              "min     -1.000000e+00 -1.000000e+00  -1.000000e+00 -1.000000e+00   \n",
              "25%     -9.544227e-01 -9.518099e-01  -9.648794e-01 -1.000000e+00   \n",
              "50%     -8.662185e-01 -8.065964e-01  -8.251519e-01 -8.643808e-01   \n",
              "75%     -7.341432e-01 -5.959212e-01  -6.147051e-01 -6.664538e-01   \n",
              "max      2.682220e-01  1.029699e+00   1.000336e+00  9.747139e-01   \n",
              "\n",
              "        bid_size_ex   ask_size_ex      buy_sell  \n",
              "count  9.861576e+06  9.861576e+06  9.861576e+06  \n",
              "mean  -4.204213e-01 -3.656733e-01 -2.805495e-02  \n",
              "std    3.001729e-01  2.637453e-01  9.996064e-01  \n",
              "min   -1.000000e+00 -1.000000e+00 -1.000000e+00  \n",
              "25%   -5.834429e-01 -5.544227e-01 -1.000000e+00  \n",
              "50%   -4.034553e-01 -3.925944e-01 -1.000000e+00  \n",
              "75%   -2.222069e-01 -1.915243e-01  1.000000e+00  \n",
              "max    6.547516e-01  6.051181e-01  1.000000e+00  \n",
              "\n",
              "[8 rows x 28 columns]"
            ]
          },
          "execution_count": 24,
          "metadata": {},
          "output_type": "execute_result"
        }
      ],
      "source": [
        "test.describe()"
      ]
    },
    {
      "cell_type": "code",
      "execution_count": 26,
      "metadata": {},
      "outputs": [
        {
          "data": {
            "text/plain": [
              "Index(['TRADE_PRICE', 'bid_ask_size_ratio_ex', 'rel_bid_size_ex',\n",
              "       'rel_ask_size_ex', 'depth_ex', 'prox_ex', 'prox_best', 'spread_ex',\n",
              "       'spread_best', 'bid_ask_ratio_ex', 'price_rel_nbb', 'price_rel_nbo',\n",
              "       'chg_ex_lead', 'chg_ex_lag', 'chg_all_lead', 'chg_all_lag', 'ask_ex',\n",
              "       'bid_ex', 'BEST_ASK', 'BEST_BID', 'price_all_lag', 'price_all_lead',\n",
              "       'price_ex_lag', 'price_ex_lead', 'TRADE_SIZE', 'bid_size_ex',\n",
              "       'ask_size_ex', 'buy_sell'],\n",
              "      dtype='object')"
            ]
          },
          "execution_count": 26,
          "metadata": {},
          "output_type": "execute_result"
        }
      ],
      "source": [
        "test.columns"
      ]
    },
    {
      "cell_type": "code",
      "execution_count": null,
      "metadata": {},
      "outputs": [],
      "source": [
        "#run.log_artifact(dataset)\n",
        "#run.finish()"
      ]
    }
  ],
  "metadata": {
    "accelerator": "GPU",
    "colab": {
      "machine_shape": "hm",
      "name": "Untitled2.ipynb",
      "provenance": []
    },
    "gpuClass": "premium",
    "kernelspec": {
      "display_name": "Python 3",
      "language": "python",
      "name": "python3"
    },
    "language_info": {
      "codemirror_mode": {
        "name": "ipython",
        "version": 3
      },
      "file_extension": ".py",
      "mimetype": "text/x-python",
      "name": "python",
      "nbconvert_exporter": "python",
      "pygments_lexer": "ipython3",
      "version": "3.8.10"
    },
    "vscode": {
      "interpreter": {
        "hash": "e7370f93d1d0cde622a1f8e1c04877d8463912d04d973331ad4851f04de6915a"
      }
    }
  },
  "nbformat": 4,
  "nbformat_minor": 0
}
