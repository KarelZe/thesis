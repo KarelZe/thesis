{
  "cells": [
    {
      "cell_type": "markdown",
      "metadata": {
        "id": "170uxVS5gwZl"
      },
      "source": [
        "Run `pip install .` first to install all dependencies."
      ]
    },
    {
      "cell_type": "code",
      "execution_count": 1,
      "metadata": {
        "colab": {
          "base_uri": "https://localhost:8080/"
        },
        "id": "Fc0zs5GkiZS2",
        "outputId": "1f3feaad-6217-445f-de8f-4264adfaaf38"
      },
      "outputs": [
        {
          "output_type": "stream",
          "name": "stdout",
          "text": [
            "Looking in indexes: https://pypi.org/simple, https://us-python.pkg.dev/colab-wheels/public/simple/\n",
            "Requirement already satisfied: gcsfs==2022.10.0 in /usr/local/lib/python3.8/dist-packages (2022.10.0)\n",
            "Requirement already satisfied: requests in /usr/local/lib/python3.8/dist-packages (from gcsfs==2022.10.0) (2.23.0)\n",
            "Requirement already satisfied: aiohttp!=4.0.0a0,!=4.0.0a1 in /usr/local/lib/python3.8/dist-packages (from gcsfs==2022.10.0) (3.8.3)\n",
            "Requirement already satisfied: google-auth-oauthlib in /usr/local/lib/python3.8/dist-packages (from gcsfs==2022.10.0) (0.4.6)\n",
            "Requirement already satisfied: google-cloud-storage in /usr/local/lib/python3.8/dist-packages (from gcsfs==2022.10.0) (2.5.0)\n",
            "Requirement already satisfied: fsspec==2022.10.0 in /usr/local/lib/python3.8/dist-packages (from gcsfs==2022.10.0) (2022.10.0)\n",
            "Requirement already satisfied: google-auth>=1.2 in /usr/local/lib/python3.8/dist-packages (from gcsfs==2022.10.0) (2.15.0)\n",
            "Requirement already satisfied: decorator>4.1.2 in /usr/local/lib/python3.8/dist-packages (from gcsfs==2022.10.0) (4.4.2)\n",
            "Requirement already satisfied: frozenlist>=1.1.1 in /usr/local/lib/python3.8/dist-packages (from aiohttp!=4.0.0a0,!=4.0.0a1->gcsfs==2022.10.0) (1.3.3)\n",
            "Requirement already satisfied: attrs>=17.3.0 in /usr/local/lib/python3.8/dist-packages (from aiohttp!=4.0.0a0,!=4.0.0a1->gcsfs==2022.10.0) (22.1.0)\n",
            "Requirement already satisfied: yarl<2.0,>=1.0 in /usr/local/lib/python3.8/dist-packages (from aiohttp!=4.0.0a0,!=4.0.0a1->gcsfs==2022.10.0) (1.8.2)\n",
            "Requirement already satisfied: aiosignal>=1.1.2 in /usr/local/lib/python3.8/dist-packages (from aiohttp!=4.0.0a0,!=4.0.0a1->gcsfs==2022.10.0) (1.3.1)\n",
            "Requirement already satisfied: async-timeout<5.0,>=4.0.0a3 in /usr/local/lib/python3.8/dist-packages (from aiohttp!=4.0.0a0,!=4.0.0a1->gcsfs==2022.10.0) (4.0.2)\n",
            "Requirement already satisfied: multidict<7.0,>=4.5 in /usr/local/lib/python3.8/dist-packages (from aiohttp!=4.0.0a0,!=4.0.0a1->gcsfs==2022.10.0) (6.0.3)\n",
            "Requirement already satisfied: charset-normalizer<3.0,>=2.0 in /usr/local/lib/python3.8/dist-packages (from aiohttp!=4.0.0a0,!=4.0.0a1->gcsfs==2022.10.0) (2.1.1)\n",
            "Requirement already satisfied: six>=1.9.0 in /usr/local/lib/python3.8/dist-packages (from google-auth>=1.2->gcsfs==2022.10.0) (1.15.0)\n",
            "Requirement already satisfied: cachetools<6.0,>=2.0.0 in /usr/local/lib/python3.8/dist-packages (from google-auth>=1.2->gcsfs==2022.10.0) (5.2.0)\n",
            "Requirement already satisfied: pyasn1-modules>=0.2.1 in /usr/local/lib/python3.8/dist-packages (from google-auth>=1.2->gcsfs==2022.10.0) (0.2.8)\n",
            "Requirement already satisfied: rsa<5,>=3.1.4 in /usr/local/lib/python3.8/dist-packages (from google-auth>=1.2->gcsfs==2022.10.0) (4.9)\n",
            "Requirement already satisfied: pyasn1<0.5.0,>=0.4.6 in /usr/local/lib/python3.8/dist-packages (from pyasn1-modules>=0.2.1->google-auth>=1.2->gcsfs==2022.10.0) (0.4.8)\n",
            "Requirement already satisfied: idna>=2.0 in /usr/local/lib/python3.8/dist-packages (from yarl<2.0,>=1.0->aiohttp!=4.0.0a0,!=4.0.0a1->gcsfs==2022.10.0) (2.10)\n",
            "Requirement already satisfied: requests-oauthlib>=0.7.0 in /usr/local/lib/python3.8/dist-packages (from google-auth-oauthlib->gcsfs==2022.10.0) (1.3.1)\n",
            "Requirement already satisfied: oauthlib>=3.0.0 in /usr/local/lib/python3.8/dist-packages (from requests-oauthlib>=0.7.0->google-auth-oauthlib->gcsfs==2022.10.0) (3.2.2)\n",
            "Requirement already satisfied: certifi>=2017.4.17 in /usr/local/lib/python3.8/dist-packages (from requests->gcsfs==2022.10.0) (2022.12.7)\n",
            "Requirement already satisfied: chardet<4,>=3.0.2 in /usr/local/lib/python3.8/dist-packages (from requests->gcsfs==2022.10.0) (3.0.4)\n",
            "Requirement already satisfied: urllib3!=1.25.0,!=1.25.1,<1.26,>=1.21.1 in /usr/local/lib/python3.8/dist-packages (from requests->gcsfs==2022.10.0) (1.24.3)\n",
            "Requirement already satisfied: google-resumable-media>=2.3.2 in /usr/local/lib/python3.8/dist-packages (from google-cloud-storage->gcsfs==2022.10.0) (2.4.0)\n",
            "Requirement already satisfied: google-cloud-core<3.0dev,>=2.3.0 in /usr/local/lib/python3.8/dist-packages (from google-cloud-storage->gcsfs==2022.10.0) (2.3.2)\n",
            "Requirement already satisfied: google-api-core!=2.0.*,!=2.1.*,!=2.2.*,!=2.3.0,<3.0.0dev,>=1.31.5 in /usr/local/lib/python3.8/dist-packages (from google-cloud-storage->gcsfs==2022.10.0) (2.8.2)\n",
            "Requirement already satisfied: googleapis-common-protos<2.0dev,>=1.56.2 in /usr/local/lib/python3.8/dist-packages (from google-api-core!=2.0.*,!=2.1.*,!=2.2.*,!=2.3.0,<3.0.0dev,>=1.31.5->google-cloud-storage->gcsfs==2022.10.0) (1.57.0)\n",
            "Requirement already satisfied: protobuf<5.0.0dev,>=3.15.0 in /usr/local/lib/python3.8/dist-packages (from google-api-core!=2.0.*,!=2.1.*,!=2.2.*,!=2.3.0,<3.0.0dev,>=1.31.5->google-cloud-storage->gcsfs==2022.10.0) (3.19.6)\n",
            "Requirement already satisfied: google-crc32c<2.0dev,>=1.0 in /usr/local/lib/python3.8/dist-packages (from google-resumable-media>=2.3.2->google-cloud-storage->gcsfs==2022.10.0) (1.5.0)\n",
            "Looking in indexes: https://pypi.org/simple, https://us-python.pkg.dev/colab-wheels/public/simple/\n",
            "Requirement already satisfied: wandb==0.13.4 in /usr/local/lib/python3.8/dist-packages (0.13.4)\n",
            "Requirement already satisfied: setuptools in /usr/local/lib/python3.8/dist-packages (from wandb==0.13.4) (57.4.0)\n",
            "Requirement already satisfied: requests<3,>=2.0.0 in /usr/local/lib/python3.8/dist-packages (from wandb==0.13.4) (2.23.0)\n",
            "Requirement already satisfied: sentry-sdk>=1.0.0 in /usr/local/lib/python3.8/dist-packages (from wandb==0.13.4) (1.9.0)\n",
            "Requirement already satisfied: PyYAML in /usr/local/lib/python3.8/dist-packages (from wandb==0.13.4) (6.0)\n",
            "Requirement already satisfied: promise<3,>=2.0 in /usr/local/lib/python3.8/dist-packages (from wandb==0.13.4) (2.3)\n",
            "Requirement already satisfied: docker-pycreds>=0.4.0 in /usr/local/lib/python3.8/dist-packages (from wandb==0.13.4) (0.4.0)\n",
            "Requirement already satisfied: protobuf!=4.0.*,!=4.21.0,<5,>=3.12.0 in /usr/local/lib/python3.8/dist-packages (from wandb==0.13.4) (3.19.6)\n",
            "Requirement already satisfied: setproctitle in /usr/local/lib/python3.8/dist-packages (from wandb==0.13.4) (1.3.2)\n",
            "Requirement already satisfied: pathtools in /usr/local/lib/python3.8/dist-packages (from wandb==0.13.4) (0.1.2)\n",
            "Requirement already satisfied: Click!=8.0.0,>=7.0 in /usr/local/lib/python3.8/dist-packages (from wandb==0.13.4) (7.1.2)\n",
            "Requirement already satisfied: GitPython>=1.0.0 in /usr/local/lib/python3.8/dist-packages (from wandb==0.13.4) (3.1.29)\n",
            "Requirement already satisfied: six>=1.13.0 in /usr/local/lib/python3.8/dist-packages (from wandb==0.13.4) (1.15.0)\n",
            "Requirement already satisfied: psutil>=5.0.0 in /usr/local/lib/python3.8/dist-packages (from wandb==0.13.4) (5.4.8)\n",
            "Requirement already satisfied: shortuuid>=0.5.0 in /usr/local/lib/python3.8/dist-packages (from wandb==0.13.4) (1.0.11)\n",
            "Requirement already satisfied: gitdb<5,>=4.0.1 in /usr/local/lib/python3.8/dist-packages (from GitPython>=1.0.0->wandb==0.13.4) (4.0.10)\n",
            "Requirement already satisfied: smmap<6,>=3.0.1 in /usr/local/lib/python3.8/dist-packages (from gitdb<5,>=4.0.1->GitPython>=1.0.0->wandb==0.13.4) (5.0.0)\n",
            "Requirement already satisfied: idna<3,>=2.5 in /usr/local/lib/python3.8/dist-packages (from requests<3,>=2.0.0->wandb==0.13.4) (2.10)\n",
            "Requirement already satisfied: urllib3!=1.25.0,!=1.25.1,<1.26,>=1.21.1 in /usr/local/lib/python3.8/dist-packages (from requests<3,>=2.0.0->wandb==0.13.4) (1.24.3)\n",
            "Requirement already satisfied: chardet<4,>=3.0.2 in /usr/local/lib/python3.8/dist-packages (from requests<3,>=2.0.0->wandb==0.13.4) (3.0.4)\n",
            "Requirement already satisfied: certifi>=2017.4.17 in /usr/local/lib/python3.8/dist-packages (from requests<3,>=2.0.0->wandb==0.13.4) (2022.12.7)\n",
            "Looking in indexes: https://pypi.org/simple, https://us-python.pkg.dev/colab-wheels/public/simple/\n",
            "Requirement already satisfied: fastparquet in /usr/local/lib/python3.8/dist-packages (2022.12.0)\n",
            "Requirement already satisfied: numpy>=1.20.3 in /usr/local/lib/python3.8/dist-packages (from fastparquet) (1.21.6)\n",
            "Requirement already satisfied: pandas>=1.5.0 in /usr/local/lib/python3.8/dist-packages (from fastparquet) (1.5.2)\n",
            "Requirement already satisfied: packaging in /usr/local/lib/python3.8/dist-packages (from fastparquet) (21.3)\n",
            "Requirement already satisfied: fsspec in /usr/local/lib/python3.8/dist-packages (from fastparquet) (2022.10.0)\n",
            "Requirement already satisfied: cramjam>=2.3 in /usr/local/lib/python3.8/dist-packages (from fastparquet) (2.6.2)\n",
            "Requirement already satisfied: pytz>=2020.1 in /usr/local/lib/python3.8/dist-packages (from pandas>=1.5.0->fastparquet) (2022.6)\n",
            "Requirement already satisfied: python-dateutil>=2.8.1 in /usr/local/lib/python3.8/dist-packages (from pandas>=1.5.0->fastparquet) (2.8.2)\n",
            "Requirement already satisfied: six>=1.5 in /usr/local/lib/python3.8/dist-packages (from python-dateutil>=2.8.1->pandas>=1.5.0->fastparquet) (1.15.0)\n",
            "Requirement already satisfied: pyparsing!=3.0.5,>=2.0.2 in /usr/local/lib/python3.8/dist-packages (from packaging->fastparquet) (3.0.9)\n",
            "Looking in indexes: https://pypi.org/simple, https://us-python.pkg.dev/colab-wheels/public/simple/\n",
            "Requirement already satisfied: numpy in /usr/local/lib/python3.8/dist-packages (1.21.6)\n",
            "Looking in indexes: https://pypi.org/simple, https://us-python.pkg.dev/colab-wheels/public/simple/\n",
            "Requirement already satisfied: pandas in /usr/local/lib/python3.8/dist-packages (1.5.2)\n",
            "Requirement already satisfied: pytz>=2020.1 in /usr/local/lib/python3.8/dist-packages (from pandas) (2022.6)\n",
            "Requirement already satisfied: python-dateutil>=2.8.1 in /usr/local/lib/python3.8/dist-packages (from pandas) (2.8.2)\n",
            "Requirement already satisfied: numpy>=1.20.3 in /usr/local/lib/python3.8/dist-packages (from pandas) (1.21.6)\n",
            "Requirement already satisfied: six>=1.5 in /usr/local/lib/python3.8/dist-packages (from python-dateutil>=2.8.1->pandas) (1.15.0)\n",
            "Looking in indexes: https://pypi.org/simple, https://us-python.pkg.dev/colab-wheels/public/simple/\n",
            "Requirement already satisfied: catboost in /usr/local/lib/python3.8/dist-packages (1.1.1)\n",
            "Requirement already satisfied: matplotlib in /usr/local/lib/python3.8/dist-packages (from catboost) (3.2.2)\n",
            "Requirement already satisfied: six in /usr/local/lib/python3.8/dist-packages (from catboost) (1.15.0)\n",
            "Requirement already satisfied: graphviz in /usr/local/lib/python3.8/dist-packages (from catboost) (0.10.1)\n",
            "Requirement already satisfied: pandas>=0.24.0 in /usr/local/lib/python3.8/dist-packages (from catboost) (1.5.2)\n",
            "Requirement already satisfied: numpy>=1.16.0 in /usr/local/lib/python3.8/dist-packages (from catboost) (1.21.6)\n",
            "Requirement already satisfied: scipy in /usr/local/lib/python3.8/dist-packages (from catboost) (1.7.3)\n",
            "Requirement already satisfied: plotly in /usr/local/lib/python3.8/dist-packages (from catboost) (5.5.0)\n",
            "Requirement already satisfied: python-dateutil>=2.8.1 in /usr/local/lib/python3.8/dist-packages (from pandas>=0.24.0->catboost) (2.8.2)\n",
            "Requirement already satisfied: pytz>=2020.1 in /usr/local/lib/python3.8/dist-packages (from pandas>=0.24.0->catboost) (2022.6)\n",
            "Requirement already satisfied: cycler>=0.10 in /usr/local/lib/python3.8/dist-packages (from matplotlib->catboost) (0.11.0)\n",
            "Requirement already satisfied: kiwisolver>=1.0.1 in /usr/local/lib/python3.8/dist-packages (from matplotlib->catboost) (1.4.4)\n",
            "Requirement already satisfied: pyparsing!=2.0.4,!=2.1.2,!=2.1.6,>=2.0.1 in /usr/local/lib/python3.8/dist-packages (from matplotlib->catboost) (3.0.9)\n",
            "Requirement already satisfied: tenacity>=6.2.0 in /usr/local/lib/python3.8/dist-packages (from plotly->catboost) (8.1.0)\n"
          ]
        }
      ],
      "source": [
        "!pip install gcsfs==2022.10.0\n",
        "!pip install wandb==0.13.4\n",
        "!pip install fastparquet\n",
        "!pip install numpy\n",
        "!pip install pandas\n",
        "!pip install catboost"
      ]
    },
    {
      "cell_type": "code",
      "execution_count": 2,
      "metadata": {
        "id": "7WXF7w4VyVgG"
      },
      "outputs": [],
      "source": [
        "from catboost import CatBoostClassifier, Pool\n",
        "import numpy as np\n",
        "\n",
        "import gcsfs\n",
        "import numpy as np\n",
        "import pandas as pd\n",
        "\n",
        "import wandb\n",
        "\n",
        "from sklearn.preprocessing import MinMaxScaler\n"
      ]
    },
    {
      "cell_type": "code",
      "execution_count": 3,
      "metadata": {
        "colab": {
          "base_uri": "https://localhost:8080/",
          "height": 104
        },
        "id": "KftC_bFhgwZt",
        "outputId": "67b2e2e9-4025-47fa-f42f-8b5ca225582a"
      },
      "outputs": [
        {
          "output_type": "stream",
          "name": "stderr",
          "text": [
            "\u001b[34m\u001b[1mwandb\u001b[0m: Currently logged in as: \u001b[33mkarelze\u001b[0m (\u001b[33mfbv\u001b[0m). Use \u001b[1m`wandb login --relogin`\u001b[0m to force relogin\n"
          ]
        },
        {
          "output_type": "display_data",
          "data": {
            "text/plain": [
              "<IPython.core.display.HTML object>"
            ],
            "text/html": [
              "wandb version 0.13.7 is available!  To upgrade, please run:\n",
              " $ pip install wandb --upgrade"
            ]
          },
          "metadata": {}
        },
        {
          "output_type": "display_data",
          "data": {
            "text/plain": [
              "<IPython.core.display.HTML object>"
            ],
            "text/html": [
              "Tracking run with wandb version 0.13.4"
            ]
          },
          "metadata": {}
        },
        {
          "output_type": "display_data",
          "data": {
            "text/plain": [
              "<IPython.core.display.HTML object>"
            ],
            "text/html": [
              "Run data is saved locally in <code>/content/wandb/run-20221217_125438-1y7x7tsj</code>"
            ]
          },
          "metadata": {}
        },
        {
          "output_type": "display_data",
          "data": {
            "text/plain": [
              "<IPython.core.display.HTML object>"
            ],
            "text/html": [
              "Syncing run <strong><a href=\"https://wandb.ai/fbv/thesis/runs/1y7x7tsj\" target=\"_blank\">hopeful-star-541</a></strong> to <a href=\"https://wandb.ai/fbv/thesis\" target=\"_blank\">Weights & Biases</a> (<a href=\"https://wandb.me/run\" target=\"_blank\">docs</a>)<br/>"
            ]
          },
          "metadata": {}
        }
      ],
      "source": [
        "name = \"classical_size_features_accuracy_branch\"\n",
        "\n",
        "# connect to weights and biases\n",
        "run = wandb.init(project=\"thesis\", job_type=\"dataset-creation\", entity=\"fbv\")\n",
        "\n",
        "dataset = wandb.Artifact(name=name, type=\"preprocessed_data\")\n"
      ]
    },
    {
      "cell_type": "code",
      "execution_count": 4,
      "metadata": {
        "id": "Xk8VWtSQces7"
      },
      "outputs": [],
      "source": [
        "import google.auth\n",
        "from google.colab import auth\n",
        "# connect to google cloud storage\n",
        "auth.authenticate_user()\n",
        "credentials, _ = google.auth.default()\n",
        "#fs = gcsfs.GCSFileSystem(project=\"thesis\")\n",
        "fs = gcsfs.GCSFileSystem(project=\"thesis\", credentials=credentials)"
      ]
    },
    {
      "cell_type": "code",
      "execution_count": 5,
      "metadata": {
        "id": "yJViJH1yl_S7"
      },
      "outputs": [],
      "source": [
        "# reduce number of imported cols due to memory issues\n",
        "columns = [\n",
        "    \"QUOTE_DATETIME\",\n",
        "    \"ROOT\",\n",
        "    \"EXPIRATION\",\n",
        "    \"STRK_PRC\",\n",
        "    \"OPTION_TYPE\",\n",
        "    \"TRADE_SIZE\",\n",
        "    \"TRADE_PRICE\",\n",
        "    \"BEST_BID\",\n",
        "    \"BEST_ASK\",\n",
        "    \"ask_ex\",\n",
        "    \"bid_ex\",\n",
        "    \"bid_size_ex\",\n",
        "    \"ask_size_ex\",\n",
        "    \"price_all_lead\",\n",
        "    \"price_all_lag\",\n",
        "    \"price_ex_lead\",\n",
        "    \"price_ex_lag\",\n",
        "    \"buy_sell\",\n",
        "]\n"
      ]
    },
    {
      "cell_type": "code",
      "execution_count": 6,
      "metadata": {
        "id": "WmXtH-PEqyQE"
      },
      "outputs": [],
      "source": [
        "train = pd.read_parquet(\n",
        "    f\"gs://thesis-bucket-option-trade-classification/data/preprocessed/train_set_extended_60.parquet\",\n",
        "    engine=\"fastparquet\",\n",
        "    columns=columns,\n",
        ").sample(frac=0.1)\n",
        "val = pd.read_parquet(\n",
        "    f\"gs://thesis-bucket-option-trade-classification/data/preprocessed/val_set_extended_20.parquet\",\n",
        "    engine=\"fastparquet\",\n",
        "    columns=columns,\n",
        ").sample(frac=0.1)"
      ]
    },
    {
      "cell_type": "code",
      "execution_count": 7,
      "metadata": {
        "id": "otufqJlha7aV"
      },
      "outputs": [],
      "source": [
        "from sklearn.preprocessing import MinMaxScaler#QuantileTransformer"
      ]
    },
    {
      "cell_type": "code",
      "execution_count": 8,
      "metadata": {
        "id": "-f1NBeZNcXpY"
      },
      "outputs": [],
      "source": [
        "# oe_option_type = OrdinalEncoder(\n",
        "#     unknown_value=-1, dtype=int, handle_unknown=\"use_encoded_value\"\n",
        "# )\n",
        "# oe_root = OrdinalEncoder(\n",
        "#     unknown_value=-1, dtype=int, handle_unknown=\"use_encoded_value\"\n",
        "# )\n",
        "# oe_issue_type = OrdinalEncoder(\n",
        "#     unknown_value=-1, dtype=int, handle_unknown=\"use_encoded_value\"\n",
        "# )\n",
        "\n",
        "scaler = MinMaxScaler(feature_range=[-1, 1])\n",
        "# scaler = QuantileTransformer(n_quantiles=256)\n",
        "\n",
        "def transform(data: pd.DataFrame) -> pd.DataFrame:\n",
        "\n",
        "    # # date features\n",
        "    x = pd.DataFrame(data={\"TRADE_PRICE\": data[\"TRADE_PRICE\"]}, index=data.index)\n",
        "\n",
        "    # log transformed features\n",
        "    x[\n",
        "         [\n",
        "             \"ask_ex\",\n",
        "             \"bid_ex\",\n",
        "             \"BEST_ASK\",\n",
        "             \"BEST_BID\",\n",
        "             \"TRADE_PRICE\",\n",
        "             \"price_all_lag\",\n",
        "             \"price_all_lead\",\n",
        "             \"price_ex_lag\",\n",
        "             \"price_ex_lead\",\n",
        "             \"TRADE_SIZE\", \n",
        "             \"bid_size_ex\", \n",
        "             \"ask_size_ex\",\n",
        "         ]\n",
        "     ] = data[\n",
        "         [\n",
        "             \"ask_ex\",\n",
        "             \"bid_ex\",\n",
        "             \"BEST_ASK\",\n",
        "             \"BEST_BID\",\n",
        "             \"TRADE_PRICE\",\n",
        "             \"price_all_lag\",\n",
        "             \"price_all_lead\",\n",
        "             \"price_ex_lag\",\n",
        "             \"price_ex_lead\",\n",
        "             \"TRADE_SIZE\", \n",
        "             \"bid_size_ex\", \n",
        "             \"ask_size_ex\"\n",
        "         ]\n",
        "     ]\n",
        "    \n",
        "\n",
        "    # TODO: speak with caroline\n",
        "    # x[\"bid_ex\"].replace({0.0:np.NaN}, inplace=True)\n",
        "    # x[\"ask_ex\"].replace({0.0:np.NaN}, inplace=True)\n",
        "\n",
        "\n",
        "\n",
        "\n",
        "    # size features\n",
        "    x[\"bid_ask_size_ratio_ex\"] = x[\"bid_size_ex\"] / x[\"ask_size_ex\"]\n",
        "    x[\"rel_bid_size_ex\"] = x[\"TRADE_SIZE\"] / x[\"bid_size_ex\"]\n",
        "    x[\"rel_ask_size_ex\"] = x[\"TRADE_SIZE\"] / x[\"ask_size_ex\"]\n",
        "     \n",
        "    \n",
        "    # classical\n",
        "    mid_ex = 0.5 * (x[\"ask_ex\"] + x[\"bid_ex\"])\n",
        "    mid_best = 0.5 * (x[\"BEST_ASK\"] + x[\"BEST_BID\"])\n",
        "    spread = (x[\"ask_ex\"] - x[\"bid_ex\"])\n",
        "    \n",
        "    \n",
        "    x[\"prox_ex\"] = (data[\"TRADE_PRICE\"] - mid_ex) / (0.5 * spread) # , (data[\"TRADE_PRICE\"] - mid_ex) / (0.5 * spread))  # combines rel. ask ex and bid ex \n",
        "    x[\"prox_best\"] = (data[\"TRADE_PRICE\"] - mid_best) / (0.5 * spread) #, (data[\"TRADE_PRICE\"]- mid_best) / (0.5 * spread))    \n",
        "\n",
        "\n",
        "\n",
        "    # x[\"BEST_rel_bid\"] = (data[\"TRADE_PRICE\"] - mid_best) / (data[\"BEST_ASK\"] - mid_best)\n",
        "    # x[\"BEST_rel_ask\"] = (mid_best - data[\"TRADE_PRICE\"]) / (mid_best - data[\"BEST_BID\"])\n",
        "\n",
        "    \n",
        "    # x[\"prox_ex\"].clip(-10,10, inplace=True)\n",
        "    # x[\"prox_best\"].clip(-10,10, inplace=True)\n",
        "    \n",
        "    # some uncovered comparsions\n",
        "    # x[\"ask_ex_best_ratio\"] = data[\"ask_ex\"] / data[\"BEST_ASK\"]\n",
        "    # x[\"bid_ex_best_ratio\"] = data[\"bid_ex\"] / data[\"BEST_BID\"]\n",
        "    # x[\"mid_ex_best_ratio\"] = mid_ex / mid_best\n",
        "    x[\"ask_ex_best_ratio\"] = x[\"ask_ex\"]  / x[\"BEST_ASK\"]\n",
        "    x[\"bid_ex_best_ratio\"] = x[\"bid_ex\"]  / x[\"BEST_BID\"]\n",
        "    x[\"mid_ex_best_ratio\"] = mid_ex  / mid_best\n",
        "    \n",
        "    x[\"ex_no_trade\"] = (x[\"ask_ex\"]==0) | (x[\"bid_ex\"]==0)\n",
        "    x[\"spread_ex\"] = spread\n",
        "\n",
        "    x[\"bid_ask_ratio_ex\"] = x[\"bid_ex\"] / x[\"ask_ex\"]\n",
        "    # x[\"price_norm_size\"] = data[\"TRADE_PRICE\"] / data[\"TRADE_SIZE\"]\n",
        "    x[\"price_rel_nbb\"] = (x[\"BEST_ASK\"] - data[\"TRADE_PRICE\"]) / (x[\"BEST_ASK\"] - mid_best)\n",
        "    x[\"price_rel_nbo\"] = (data[\"TRADE_PRICE\"] - x[\"BEST_BID\"]) / (mid_best - x[\"BEST_BID\"])\n",
        "    \n",
        "    \n",
        "        \n",
        "    # x[\"price_eq_ask_eq_bid\"] = (data[\"TRADE_PRICE\"] == data[\"ask_ex\"]) & (data[\"TRADE_PRICE\"] == data[\"bid_ex\"])\n",
        "    \n",
        "    # calculate change\n",
        "    x[\"chg_ex_lead\"] = data[\"TRADE_PRICE\"] - data[\"price_ex_lead\"]\n",
        "    x[\"chg_ex_lag\"] = data[\"TRADE_PRICE\"] - data[\"price_ex_lag\"]\n",
        "    x[\"chg_all_lead\"] = data[\"TRADE_PRICE\"] - data[\"price_all_lead\"]\n",
        "    x[\"chg_all_lag\"] = data[\"TRADE_PRICE\"] - data[\"price_all_lag\"]\n",
        "\n",
        "    # calculate change own creation\n",
        "    x[\"chg_ex_lag_lead\"] = data[\"price_ex_lag\"] - data[\"price_ex_lead\"]\n",
        "    x[\"chg_all_lag_lead\"] = data[\"price_all_lag\"] - data[\"price_all_lead\"]\n",
        "\n",
        "    # impute with zeros\n",
        "    x.replace([np.inf, -np.inf], np.nan, inplace=True)\n",
        "    x.fillna(-999, inplace=True)\n",
        "\n",
        "    # # scale to [-1, 1]\n",
        "    # if not hasattr(scaler, \"n_features_in_\"):\n",
        "    #     scaler.fit(x)\n",
        "    # x[x.columns] = scaler.transform(x)\n",
        "\n",
        "    # https://stackoverflow.com/questions/70727291/how-do-i-know-whether-a-sklearn-scaler-is-already-fitted-or-not\n",
        "\n",
        "    # if not hasattr(oe_option_type, \"n_features_in_\"):\n",
        "    #     oe_option_type.fit(data[\"OPTION_TYPE\"].astype(str).values.reshape(-1, 1))\n",
        "    # x[\"bin_option_type\"] = oe_option_type.transform(\n",
        "    #     data[\"OPTION_TYPE\"].astype(str).values.reshape(-1, 1)\n",
        "    # )\n",
        "\n",
        "    # if not hasattr(oe_root, \"n_features_in_\"):\n",
        "    #     oe_root.fit(data[\"ROOT\"].astype(str).values.reshape(-1, 1))\n",
        "    # x[\"bin_root\"] = oe_root.transform(data[\"ROOT\"].astype(str).values.reshape(-1, 1))\n",
        "\n",
        "    # if not hasattr(oe_issue_type, \"n_features_in_\"):\n",
        "    #     oe_issue_type.fit(data[\"issue_type\"].astype(str).values.reshape(-1, 1))\n",
        "    # x[\"bin_issue_type\"] = oe_issue_type.transform(\n",
        "    #     data[\"issue_type\"].astype(str).values.reshape(-1, 1)\n",
        "    # )\n",
        "\n",
        "    # x.replace([np.inf, -np.inf], np.nan, inplace=True)\n",
        "\n",
        "    x[\"buy_sell\"] = data[\"buy_sell\"]\n",
        "    return x\n"
      ]
    },
    {
      "cell_type": "code",
      "execution_count": 9,
      "metadata": {
        "id": "v4rfdI7Sjgi9"
      },
      "outputs": [],
      "source": [
        "X_train = transform(train)\n",
        "y_train = X_train.buy_sell\n",
        "X_train.drop(columns=[\"buy_sell\"], inplace=True)\n",
        "\n",
        "del train"
      ]
    },
    {
      "cell_type": "code",
      "source": [
        "X_val = transform(val)\n",
        "y_val = X_val.buy_sell\n",
        "X_val.drop(columns=[\"buy_sell\"], inplace=True)\n",
        "del val"
      ],
      "metadata": {
        "id": "-kWMoN7W3Htf"
      },
      "execution_count": 10,
      "outputs": []
    },
    {
      "cell_type": "code",
      "source": [
        "params = {\n",
        "        \"od_type\": \"Iter\",\n",
        "        \"logging_level\": \"Silent\",\n",
        "        \"loss_function\": \"Logloss\",\n",
        "        \"task_type\": \"GPU\",\n",
        "        \"cat_features\": None,\n",
        "        \"random_seed\": 42,\n",
        "        \"eval_metric\":\"Accuracy\",\n",
        "        \"iterations\":5000,\n",
        "        \"early_stopping_rounds\":100,\n",
        "        \"grow_policy\":\"Lossguide\"\n",
        "}\n",
        "\n",
        "#Lossguide, \"grow_policy\"\n",
        "\n",
        "# lam = 0#0.25\n",
        "\n",
        "#x = X_train.index.values / np.linalg.norm(X_train.index)\n",
        "#x = (X_train.index.values - X_train.index.min()) / (X_train.index.max() - X_train.index.min())\n",
        "\n",
        "# (v1-min(v1))/(max(v1)-min(v1))\n",
        "\n",
        "#print(x)\n",
        "# x = np.linspace(0,1, num=len(X_train))\n",
        "#weight = np.exp(-lam * x)[::-1]\n",
        "#weight = np.linspace(0,1, num=len(X_train))\n",
        "#weight = np.geomspace(1e-4,1,num=len(X_train))\n",
        "#print(weight)\n",
        "\n",
        "model = CatBoostClassifier(**params)\n",
        "train_pool = Pool(X_train, y_train,weight = X_train.index.values)\n",
        "model.fit(train_pool, eval_set=(X_val,y_val))\n",
        "\n",
        "print(model.score(X_val, y_val))"
      ],
      "metadata": {
        "colab": {
          "base_uri": "https://localhost:8080/"
        },
        "id": "fJ71ORhw3Hqe",
        "outputId": "1060b381-cbcd-47fd-a9a7-fda4e70917b0"
      },
      "execution_count": 54,
      "outputs": [
        {
          "output_type": "stream",
          "name": "stdout",
          "text": [
            "0.7472744193615647\n"
          ]
        }
      ]
    },
    {
      "cell_type": "markdown",
      "source": [
        "## Sanity Check against `lightgbm`"
      ],
      "metadata": {
        "id": "TCs4uyjKVX8L"
      }
    },
    {
      "cell_type": "code",
      "source": [
        "!pip install lightgbm"
      ],
      "metadata": {
        "colab": {
          "base_uri": "https://localhost:8080/"
        },
        "id": "xrMmNJHcFkPB",
        "outputId": "961c05e6-930e-406d-f6c8-27be5bc528ff"
      },
      "execution_count": 12,
      "outputs": [
        {
          "output_type": "stream",
          "name": "stdout",
          "text": [
            "Looking in indexes: https://pypi.org/simple, https://us-python.pkg.dev/colab-wheels/public/simple/\n",
            "Requirement already satisfied: lightgbm in /usr/local/lib/python3.8/dist-packages (2.2.3)\n",
            "Requirement already satisfied: scipy in /usr/local/lib/python3.8/dist-packages (from lightgbm) (1.7.3)\n",
            "Requirement already satisfied: scikit-learn in /usr/local/lib/python3.8/dist-packages (from lightgbm) (1.0.2)\n",
            "Requirement already satisfied: numpy in /usr/local/lib/python3.8/dist-packages (from lightgbm) (1.21.6)\n",
            "Requirement already satisfied: threadpoolctl>=2.0.0 in /usr/local/lib/python3.8/dist-packages (from scikit-learn->lightgbm) (3.1.0)\n",
            "Requirement already satisfied: joblib>=0.11 in /usr/local/lib/python3.8/dist-packages (from scikit-learn->lightgbm) (1.2.0)\n"
          ]
        }
      ]
    },
    {
      "cell_type": "code",
      "source": [
        "import lightgbm as lgb"
      ],
      "metadata": {
        "id": "C-am9nv7GpgH"
      },
      "execution_count": 13,
      "outputs": []
    },
    {
      "cell_type": "code",
      "source": [
        "lgb_params = {\n",
        "                    'objective':'binary',\n",
        "                    'boosting_type':'gbdt',\n",
        "                    'metric':None,\n",
        "                    'n_jobs':-1,\n",
        "                    'learning_rate':0.01,\n",
        "                    'num_leaves': 2**8,\n",
        "                    'max_depth':-1,\n",
        "                    'tree_learner':'serial',\n",
        "                    'colsample_bytree': 0.7,\n",
        "                    'subsample_freq':1,\n",
        "                    'subsample':0.7,\n",
        "                    'n_estimators':200,\n",
        "                    'max_bin':255,\n",
        "                    'verbose':-1,\n",
        "                    'seed': 42,\n",
        "                    'eval_metric':'accuracy',\n",
        "                    \"device\": \"cpu\",\n",
        "                }"
      ],
      "metadata": {
        "id": "5U4QJeVlFuW1"
      },
      "execution_count": 44,
      "outputs": []
    },
    {
      "cell_type": "code",
      "source": [
        "# create dataset for lightgbm\n",
        "# if you want to re-use data, remember to set free_raw_data=False\n",
        "lgb_train = lgb.Dataset(X_train, y_train,weight=X_train.index.values, free_raw_data=False)\n",
        "lgb_eval = lgb.Dataset(X_val, y_val, reference=lgb_train, free_raw_data=False)"
      ],
      "metadata": {
        "id": "FmChQhURHSLv"
      },
      "execution_count": 15,
      "outputs": []
    },
    {
      "cell_type": "code",
      "source": [
        "bst = lgb.LGBMClassifier(**lgb_params)\n",
        "bst = lgb.train(lgb_params,\n",
        "                train_set=lgb_train,\n",
        "                valid_sets=lgb_eval,\n",
        "                early_stopping_rounds=100\n",
        ")"
      ],
      "metadata": {
        "colab": {
          "base_uri": "https://localhost:8080/"
        },
        "id": "v3So6hg2GfOl",
        "outputId": "3c999a72-5b4b-4fd4-d679-181d6262ba84"
      },
      "execution_count": 46,
      "outputs": [
        {
          "output_type": "stream",
          "name": "stdout",
          "text": [
            "[1]\tvalid_0's binary_logloss: 0.688745\n",
            "Training until validation scores don't improve for 100 rounds.\n",
            "[2]\tvalid_0's binary_logloss: 0.685403\n",
            "[3]\tvalid_0's binary_logloss: 0.682149\n",
            "[4]\tvalid_0's binary_logloss: 0.678925\n",
            "[5]\tvalid_0's binary_logloss: 0.675801\n",
            "[6]\tvalid_0's binary_logloss: 0.672734\n",
            "[7]\tvalid_0's binary_logloss: 0.669728\n",
            "[8]\tvalid_0's binary_logloss: 0.666893\n",
            "[9]\tvalid_0's binary_logloss: 0.665231\n",
            "[10]\tvalid_0's binary_logloss: 0.662429\n",
            "[11]\tvalid_0's binary_logloss: 0.659956\n",
            "[12]\tvalid_0's binary_logloss: 0.657285\n",
            "[13]\tvalid_0's binary_logloss: 0.654607\n",
            "[14]\tvalid_0's binary_logloss: 0.652026\n",
            "[15]\tvalid_0's binary_logloss: 0.649538\n",
            "[16]\tvalid_0's binary_logloss: 0.647188\n",
            "[17]\tvalid_0's binary_logloss: 0.644708\n",
            "[18]\tvalid_0's binary_logloss: 0.64235\n",
            "[19]\tvalid_0's binary_logloss: 0.639979\n",
            "[20]\tvalid_0's binary_logloss: 0.637636\n",
            "[21]\tvalid_0's binary_logloss: 0.635597\n",
            "[22]\tvalid_0's binary_logloss: 0.633417\n",
            "[23]\tvalid_0's binary_logloss: 0.631188\n",
            "[24]\tvalid_0's binary_logloss: 0.629012\n",
            "[25]\tvalid_0's binary_logloss: 0.626904\n",
            "[26]\tvalid_0's binary_logloss: 0.624886\n",
            "[27]\tvalid_0's binary_logloss: 0.623357\n",
            "[28]\tvalid_0's binary_logloss: 0.621406\n",
            "[29]\tvalid_0's binary_logloss: 0.61945\n",
            "[30]\tvalid_0's binary_logloss: 0.617551\n",
            "[31]\tvalid_0's binary_logloss: 0.61571\n",
            "[32]\tvalid_0's binary_logloss: 0.613838\n",
            "[33]\tvalid_0's binary_logloss: 0.612062\n",
            "[34]\tvalid_0's binary_logloss: 0.610253\n",
            "[35]\tvalid_0's binary_logloss: 0.608488\n",
            "[36]\tvalid_0's binary_logloss: 0.606815\n",
            "[37]\tvalid_0's binary_logloss: 0.605119\n",
            "[38]\tvalid_0's binary_logloss: 0.603461\n",
            "[39]\tvalid_0's binary_logloss: 0.601815\n",
            "[40]\tvalid_0's binary_logloss: 0.600197\n",
            "[41]\tvalid_0's binary_logloss: 0.598649\n",
            "[42]\tvalid_0's binary_logloss: 0.597133\n",
            "[43]\tvalid_0's binary_logloss: 0.595653\n",
            "[44]\tvalid_0's binary_logloss: 0.594198\n",
            "[45]\tvalid_0's binary_logloss: 0.592755\n",
            "[46]\tvalid_0's binary_logloss: 0.591371\n",
            "[47]\tvalid_0's binary_logloss: 0.589969\n",
            "[48]\tvalid_0's binary_logloss: 0.588588\n",
            "[49]\tvalid_0's binary_logloss: 0.587301\n",
            "[50]\tvalid_0's binary_logloss: 0.586341\n",
            "[51]\tvalid_0's binary_logloss: 0.585027\n",
            "[52]\tvalid_0's binary_logloss: 0.58375\n",
            "[53]\tvalid_0's binary_logloss: 0.582455\n",
            "[54]\tvalid_0's binary_logloss: 0.581239\n",
            "[55]\tvalid_0's binary_logloss: 0.580047\n",
            "[56]\tvalid_0's binary_logloss: 0.57886\n",
            "[57]\tvalid_0's binary_logloss: 0.577758\n",
            "[58]\tvalid_0's binary_logloss: 0.576603\n",
            "[59]\tvalid_0's binary_logloss: 0.575792\n",
            "[60]\tvalid_0's binary_logloss: 0.574691\n",
            "[61]\tvalid_0's binary_logloss: 0.573593\n",
            "[62]\tvalid_0's binary_logloss: 0.572559\n",
            "[63]\tvalid_0's binary_logloss: 0.571494\n",
            "[64]\tvalid_0's binary_logloss: 0.57049\n",
            "[65]\tvalid_0's binary_logloss: 0.569509\n",
            "[66]\tvalid_0's binary_logloss: 0.568527\n",
            "[67]\tvalid_0's binary_logloss: 0.567613\n",
            "[68]\tvalid_0's binary_logloss: 0.566677\n",
            "[69]\tvalid_0's binary_logloss: 0.565731\n",
            "[70]\tvalid_0's binary_logloss: 0.565147\n",
            "[71]\tvalid_0's binary_logloss: 0.564216\n",
            "[72]\tvalid_0's binary_logloss: 0.563353\n",
            "[73]\tvalid_0's binary_logloss: 0.562459\n",
            "[74]\tvalid_0's binary_logloss: 0.56163\n",
            "[75]\tvalid_0's binary_logloss: 0.560792\n",
            "[76]\tvalid_0's binary_logloss: 0.559976\n",
            "[77]\tvalid_0's binary_logloss: 0.559151\n",
            "[78]\tvalid_0's binary_logloss: 0.558326\n",
            "[79]\tvalid_0's binary_logloss: 0.557782\n",
            "[80]\tvalid_0's binary_logloss: 0.556999\n",
            "[81]\tvalid_0's binary_logloss: 0.556244\n",
            "[82]\tvalid_0's binary_logloss: 0.555736\n",
            "[83]\tvalid_0's binary_logloss: 0.554988\n",
            "[84]\tvalid_0's binary_logloss: 0.554277\n",
            "[85]\tvalid_0's binary_logloss: 0.553573\n",
            "[86]\tvalid_0's binary_logloss: 0.552911\n",
            "[87]\tvalid_0's binary_logloss: 0.55223\n",
            "[88]\tvalid_0's binary_logloss: 0.551586\n",
            "[89]\tvalid_0's binary_logloss: 0.550957\n",
            "[90]\tvalid_0's binary_logloss: 0.550335\n",
            "[91]\tvalid_0's binary_logloss: 0.54971\n",
            "[92]\tvalid_0's binary_logloss: 0.549286\n",
            "[93]\tvalid_0's binary_logloss: 0.548696\n",
            "[94]\tvalid_0's binary_logloss: 0.548271\n",
            "[95]\tvalid_0's binary_logloss: 0.547869\n",
            "[96]\tvalid_0's binary_logloss: 0.547292\n",
            "[97]\tvalid_0's binary_logloss: 0.546727\n",
            "[98]\tvalid_0's binary_logloss: 0.546167\n",
            "[99]\tvalid_0's binary_logloss: 0.545621\n",
            "[100]\tvalid_0's binary_logloss: 0.545076\n",
            "[101]\tvalid_0's binary_logloss: 0.544504\n",
            "[102]\tvalid_0's binary_logloss: 0.543994\n",
            "[103]\tvalid_0's binary_logloss: 0.543478\n",
            "[104]\tvalid_0's binary_logloss: 0.542987\n",
            "[105]\tvalid_0's binary_logloss: 0.5425\n",
            "[106]\tvalid_0's binary_logloss: 0.542171\n",
            "[107]\tvalid_0's binary_logloss: 0.541701\n",
            "[108]\tvalid_0's binary_logloss: 0.54125\n",
            "[109]\tvalid_0's binary_logloss: 0.540801\n",
            "[110]\tvalid_0's binary_logloss: 0.540367\n",
            "[111]\tvalid_0's binary_logloss: 0.539936\n",
            "[112]\tvalid_0's binary_logloss: 0.539516\n",
            "[113]\tvalid_0's binary_logloss: 0.539092\n",
            "[114]\tvalid_0's binary_logloss: 0.538681\n",
            "[115]\tvalid_0's binary_logloss: 0.538267\n",
            "[116]\tvalid_0's binary_logloss: 0.537873\n",
            "[117]\tvalid_0's binary_logloss: 0.537483\n",
            "[118]\tvalid_0's binary_logloss: 0.537065\n",
            "[119]\tvalid_0's binary_logloss: 0.536661\n",
            "[120]\tvalid_0's binary_logloss: 0.536269\n",
            "[121]\tvalid_0's binary_logloss: 0.535911\n",
            "[122]\tvalid_0's binary_logloss: 0.535535\n",
            "[123]\tvalid_0's binary_logloss: 0.535155\n",
            "[124]\tvalid_0's binary_logloss: 0.534825\n",
            "[125]\tvalid_0's binary_logloss: 0.534452\n",
            "[126]\tvalid_0's binary_logloss: 0.534109\n",
            "[127]\tvalid_0's binary_logloss: 0.533904\n",
            "[128]\tvalid_0's binary_logloss: 0.533581\n",
            "[129]\tvalid_0's binary_logloss: 0.533274\n",
            "[130]\tvalid_0's binary_logloss: 0.532979\n",
            "[131]\tvalid_0's binary_logloss: 0.53268\n",
            "[132]\tvalid_0's binary_logloss: 0.53239\n",
            "[133]\tvalid_0's binary_logloss: 0.532208\n",
            "[134]\tvalid_0's binary_logloss: 0.531901\n",
            "[135]\tvalid_0's binary_logloss: 0.531605\n",
            "[136]\tvalid_0's binary_logloss: 0.531437\n",
            "[137]\tvalid_0's binary_logloss: 0.531163\n",
            "[138]\tvalid_0's binary_logloss: 0.530861\n",
            "[139]\tvalid_0's binary_logloss: 0.530583\n",
            "[140]\tvalid_0's binary_logloss: 0.530293\n",
            "[141]\tvalid_0's binary_logloss: 0.530023\n",
            "[142]\tvalid_0's binary_logloss: 0.529784\n",
            "[143]\tvalid_0's binary_logloss: 0.529528\n",
            "[144]\tvalid_0's binary_logloss: 0.529289\n",
            "[145]\tvalid_0's binary_logloss: 0.529047\n",
            "[146]\tvalid_0's binary_logloss: 0.528804\n",
            "[147]\tvalid_0's binary_logloss: 0.528553\n",
            "[148]\tvalid_0's binary_logloss: 0.528329\n",
            "[149]\tvalid_0's binary_logloss: 0.528099\n",
            "[150]\tvalid_0's binary_logloss: 0.527869\n",
            "[151]\tvalid_0's binary_logloss: 0.527656\n",
            "[152]\tvalid_0's binary_logloss: 0.527453\n",
            "[153]\tvalid_0's binary_logloss: 0.527225\n",
            "[154]\tvalid_0's binary_logloss: 0.527027\n",
            "[155]\tvalid_0's binary_logloss: 0.526822\n",
            "[156]\tvalid_0's binary_logloss: 0.526641\n",
            "[157]\tvalid_0's binary_logloss: 0.526441\n",
            "[158]\tvalid_0's binary_logloss: 0.526249\n",
            "[159]\tvalid_0's binary_logloss: 0.526067\n",
            "[160]\tvalid_0's binary_logloss: 0.525873\n",
            "[161]\tvalid_0's binary_logloss: 0.525685\n",
            "[162]\tvalid_0's binary_logloss: 0.525496\n",
            "[163]\tvalid_0's binary_logloss: 0.525323\n",
            "[164]\tvalid_0's binary_logloss: 0.525147\n",
            "[165]\tvalid_0's binary_logloss: 0.524965\n",
            "[166]\tvalid_0's binary_logloss: 0.524813\n",
            "[167]\tvalid_0's binary_logloss: 0.524634\n",
            "[168]\tvalid_0's binary_logloss: 0.524479\n",
            "[169]\tvalid_0's binary_logloss: 0.524322\n",
            "[170]\tvalid_0's binary_logloss: 0.524171\n",
            "[171]\tvalid_0's binary_logloss: 0.524025\n",
            "[172]\tvalid_0's binary_logloss: 0.523932\n",
            "[173]\tvalid_0's binary_logloss: 0.523786\n",
            "[174]\tvalid_0's binary_logloss: 0.523628\n",
            "[175]\tvalid_0's binary_logloss: 0.523495\n",
            "[176]\tvalid_0's binary_logloss: 0.523366\n",
            "[177]\tvalid_0's binary_logloss: 0.523235\n",
            "[178]\tvalid_0's binary_logloss: 0.523102\n",
            "[179]\tvalid_0's binary_logloss: 0.522957\n",
            "[180]\tvalid_0's binary_logloss: 0.522881\n",
            "[181]\tvalid_0's binary_logloss: 0.522748\n",
            "[182]\tvalid_0's binary_logloss: 0.522609\n",
            "[183]\tvalid_0's binary_logloss: 0.522463\n",
            "[184]\tvalid_0's binary_logloss: 0.522339\n",
            "[185]\tvalid_0's binary_logloss: 0.522213\n",
            "[186]\tvalid_0's binary_logloss: 0.522091\n",
            "[187]\tvalid_0's binary_logloss: 0.521974\n",
            "[188]\tvalid_0's binary_logloss: 0.521866\n",
            "[189]\tvalid_0's binary_logloss: 0.521752\n",
            "[190]\tvalid_0's binary_logloss: 0.521638\n",
            "[191]\tvalid_0's binary_logloss: 0.521529\n",
            "[192]\tvalid_0's binary_logloss: 0.521436\n",
            "[193]\tvalid_0's binary_logloss: 0.521333\n",
            "[194]\tvalid_0's binary_logloss: 0.521242\n",
            "[195]\tvalid_0's binary_logloss: 0.521051\n",
            "[196]\tvalid_0's binary_logloss: 0.520949\n",
            "[197]\tvalid_0's binary_logloss: 0.520855\n",
            "[198]\tvalid_0's binary_logloss: 0.520744\n",
            "[199]\tvalid_0's binary_logloss: 0.520664\n",
            "[200]\tvalid_0's binary_logloss: 0.520566\n",
            "Did not meet early stopping. Best iteration is:\n",
            "[200]\tvalid_0's binary_logloss: 0.520566\n"
          ]
        }
      ]
    },
    {
      "cell_type": "code",
      "source": [
        "pred = bst.predict(X_val)\n",
        "pred = np.rint(pred)\n",
        "pred[pred==0]=-1\n",
        "print((y_val == pred).mean())"
      ],
      "metadata": {
        "colab": {
          "base_uri": "https://localhost:8080/"
        },
        "id": "qoEhMRLg3HZF",
        "outputId": "fc8df7eb-9e39-423d-b670-094979e7850f"
      },
      "execution_count": 53,
      "outputs": [
        {
          "output_type": "stream",
          "name": "stdout",
          "text": [
            "0.734219907748796\n"
          ]
        }
      ]
    },
    {
      "cell_type": "code",
      "source": [
        "X_train.prox_ex.hist(bins=128, range=[-5,5], by=y_train)"
      ],
      "metadata": {
        "colab": {
          "base_uri": "https://localhost:8080/",
          "height": 346
        },
        "id": "PhEUKF0GlCyI",
        "outputId": "32418a2c-f598-4b42-d14f-3ef2353152ee"
      },
      "execution_count": 83,
      "outputs": [
        {
          "output_type": "execute_result",
          "data": {
            "text/plain": [
              "array([<matplotlib.axes._subplots.AxesSubplot object at 0x7f17fbce43a0>,\n",
              "       <matplotlib.axes._subplots.AxesSubplot object at 0x7f17fbff91c0>],\n",
              "      dtype=object)"
            ]
          },
          "metadata": {},
          "execution_count": 83
        },
        {
          "output_type": "display_data",
          "data": {
            "text/plain": [
              "<Figure size 432x288 with 2 Axes>"
            ],
            "image/png": "[encoded data removed]"
          },
          "metadata": {
            "needs_background": "light"
          }
        }
      ]
    },
    {
      "cell_type": "code",
      "source": [
        "X_train[\"bid_ask_ratio_ex\"].hist(bins=128, range=[-5,5], by=y_train)"
      ],
      "metadata": {
        "colab": {
          "base_uri": "https://localhost:8080/",
          "height": 346
        },
        "id": "MXgf666hmaN_",
        "outputId": "d4a70d94-56ec-4fe5-8831-56cb01b1d447"
      },
      "execution_count": 23,
      "outputs": [
        {
          "output_type": "execute_result",
          "data": {
            "text/plain": [
              "array([<matplotlib.axes._subplots.AxesSubplot object at 0x7f8851eb9ac0>,\n",
              "       <matplotlib.axes._subplots.AxesSubplot object at 0x7f8851e02f10>],\n",
              "      dtype=object)"
            ]
          },
          "metadata": {},
          "execution_count": 23
        },
        {
          "output_type": "display_data",
          "data": {
            "text/plain": [
              "<Figure size 432x288 with 2 Axes>"
            ],
            "image/png": "[encoded data removed]"
          },
          "metadata": {
            "needs_background": "light"
          }
        }
      ]
    },
    {
      "cell_type": "code",
      "source": [
        "X_train[\"rel_ask_size_ex\"].hist(bins=128, range=[-2,2], by=y_train)"
      ],
      "metadata": {
        "colab": {
          "base_uri": "https://localhost:8080/",
          "height": 337
        },
        "id": "P2SHPKUAnR1E",
        "outputId": "76e9ed5f-c3e6-49e7-dfaa-ba4f42c0c3d4"
      },
      "execution_count": 62,
      "outputs": [
        {
          "output_type": "execute_result",
          "data": {
            "text/plain": [
              "array([<matplotlib.axes._subplots.AxesSubplot object at 0x7f17fcce6520>,\n",
              "       <matplotlib.axes._subplots.AxesSubplot object at 0x7f17fc928a90>],\n",
              "      dtype=object)"
            ]
          },
          "metadata": {},
          "execution_count": 62
        },
        {
          "output_type": "display_data",
          "data": {
            "text/plain": [
              "<Figure size 432x288 with 2 Axes>"
            ],
            "image/png": "[encoded data removed]"
          },
          "metadata": {
            "needs_background": "light"
          }
        }
      ]
    },
    {
      "cell_type": "markdown",
      "source": [
        "## Results"
      ],
      "metadata": {
        "id": "SgxoJSK2VjyW"
      }
    },
    {
      "cell_type": "code",
      "source": [
        "# 0.7434765583282902 without any scaler, zero imputer, symmetric tree\n",
        "# 0.7445394305242655 \"grow_policy\" = \"Lossguide\" -> trained for 5000 iterations\n",
        "# 0.7450428963013065 impute with -999 instead of 0 -> trained for 5000 iterations\n",
        "# 0.7436240382023729 TODO: ask Caroline: What happens with LR if bid_ex = 0 or ask_ex is?   x[\"bid_ex\"].replace({0.0:np.NaN}, inplace=True) and  x[\"ask_ex\"].replace({0.0:np.NaN}, inplace=True)\n",
        "# 0.7447164063731647 chg from previous trade to successive trade\n",
        "# 0.7445821488326205 chg from previous trade + no trade indicator\n",
        "# 0.7476558328290199 \"spread\" feature  "
      ],
      "metadata": {
        "id": "UBj5wVPAg6QV"
      },
      "execution_count": null,
      "outputs": []
    },
    {
      "cell_type": "code",
      "execution_count": null,
      "metadata": {
        "id": "mk8kmZOWa7a_"
      },
      "outputs": [],
      "source": [
        "# 0.7333797810178145 (logs applied) to     x[\"bid_ask_size_ratio_ex\"] x[\"rel_bid_size_ex\"]   x[\"rel_ask_size_ex\"] \n",
        "# 0.7331946683482763 (all from above + log returns)\n",
        "# 0.734859665271541 (all above + compare mids, ask, and bid at exchange with nation wide)\n",
        "# 0.7349013664773161 (all above + trade_price == bid_ex == ask_ex)\n",
        "# 0.7351464881990674 (price normed size)\n",
        "# 0.7352807457396116 (all above +  x[\"price_rel_nbo\"] +  x[\"price_rel_nbb\"])\n",
        "# 0.74296292 (some removed, see above, max. iterations reached. Actually there is no reason to stop ensemble)\n",
        "# 0.745053067 convert some ratios to percentages (all other things the same as above)\n",
        "# robust scaler with log (ca. 74.4)\n",
        "# robust scaler without log 0.74342061\n",
        "\n",
        "# 0.74356606\n",
        "# 0.74381220"
      ]
    },
    {
      "cell_type": "code",
      "execution_count": 14,
      "metadata": {
        "colab": {
          "base_uri": "https://localhost:8080/",
          "height": 1000
        },
        "id": "RD9ff3z8a7bJ",
        "outputId": "fae7a30a-fcf1-4bbf-fd69-a31bfefd1cd9"
      },
      "outputs": [
        {
          "output_type": "execute_result",
          "data": {
            "text/plain": [
              "               Feature Id  Importances\n",
              "0   bid_ask_size_ratio_ex    14.776020\n",
              "1             ask_size_ex    14.110684\n",
              "2             bid_size_ex    12.555628\n",
              "3                 prox_ex    12.456708\n",
              "4           price_rel_nbb    10.617719\n",
              "5           price_rel_nbo     6.602805\n",
              "6               spread_ex     5.034344\n",
              "7         rel_bid_size_ex     4.628601\n",
              "8         rel_ask_size_ex     3.777252\n",
              "9               prox_best     3.334674\n",
              "10             TRADE_SIZE     3.058623\n",
              "11      bid_ex_best_ratio     1.041569\n",
              "12           chg_all_lead     1.039677\n",
              "13       bid_ask_ratio_ex     0.975260\n",
              "14            chg_all_lag     0.836876\n",
              "15         price_all_lead     0.662854\n",
              "16            TRADE_PRICE     0.561955\n",
              "17                 ask_ex     0.485300\n",
              "18            chg_ex_lead     0.483268\n",
              "19      ask_ex_best_ratio     0.466541\n",
              "20               BEST_BID     0.409724\n",
              "21             chg_ex_lag     0.373677\n",
              "22          price_ex_lead     0.359499\n",
              "23                 bid_ex     0.312025\n",
              "24      mid_ex_best_ratio     0.229714\n",
              "25               BEST_ASK     0.218803\n",
              "26           price_ex_lag     0.190066\n",
              "27        chg_ex_lag_lead     0.153104\n",
              "28          price_all_lag     0.121248\n",
              "29       chg_all_lag_lead     0.121135\n",
              "30            ex_no_trade     0.004647"
            ],
            "text/html": [
              "\n",
              "  <div id=\"df-d3a7b253-a5bd-4f26-af4f-7f905b53e56b\">\n",
              "    <div class=\"colab-df-container\">\n",
              "      <div>\n",
              "<style scoped>\n",
              "    .dataframe tbody tr th:only-of-type {\n",
              "        vertical-align: middle;\n",
              "    }\n",
              "\n",
              "    .dataframe tbody tr th {\n",
              "        vertical-align: top;\n",
              "    }\n",
              "\n",
              "    .dataframe thead th {\n",
              "        text-align: right;\n",
              "    }\n",
              "</style>\n",
              "<table border=\"1\" class=\"dataframe\">\n",
              "  <thead>\n",
              "    <tr style=\"text-align: right;\">\n",
              "      <th></th>\n",
              "      <th>Feature Id</th>\n",
              "      <th>Importances</th>\n",
              "    </tr>\n",
              "  </thead>\n",
              "  <tbody>\n",
              "    <tr>\n",
              "      <th>0</th>\n",
              "      <td>bid_ask_size_ratio_ex</td>\n",
              "      <td>14.776020</td>\n",
              "    </tr>\n",
              "    <tr>\n",
              "      <th>1</th>\n",
              "      <td>ask_size_ex</td>\n",
              "      <td>14.110684</td>\n",
              "    </tr>\n",
              "    <tr>\n",
              "      <th>2</th>\n",
              "      <td>bid_size_ex</td>\n",
              "      <td>12.555628</td>\n",
              "    </tr>\n",
              "    <tr>\n",
              "      <th>3</th>\n",
              "      <td>prox_ex</td>\n",
              "      <td>12.456708</td>\n",
              "    </tr>\n",
              "    <tr>\n",
              "      <th>4</th>\n",
              "      <td>price_rel_nbb</td>\n",
              "      <td>10.617719</td>\n",
              "    </tr>\n",
              "    <tr>\n",
              "      <th>5</th>\n",
              "      <td>price_rel_nbo</td>\n",
              "      <td>6.602805</td>\n",
              "    </tr>\n",
              "    <tr>\n",
              "      <th>6</th>\n",
              "      <td>spread_ex</td>\n",
              "      <td>5.034344</td>\n",
              "    </tr>\n",
              "    <tr>\n",
              "      <th>7</th>\n",
              "      <td>rel_bid_size_ex</td>\n",
              "      <td>4.628601</td>\n",
              "    </tr>\n",
              "    <tr>\n",
              "      <th>8</th>\n",
              "      <td>rel_ask_size_ex</td>\n",
              "      <td>3.777252</td>\n",
              "    </tr>\n",
              "    <tr>\n",
              "      <th>9</th>\n",
              "      <td>prox_best</td>\n",
              "      <td>3.334674</td>\n",
              "    </tr>\n",
              "    <tr>\n",
              "      <th>10</th>\n",
              "      <td>TRADE_SIZE</td>\n",
              "      <td>3.058623</td>\n",
              "    </tr>\n",
              "    <tr>\n",
              "      <th>11</th>\n",
              "      <td>bid_ex_best_ratio</td>\n",
              "      <td>1.041569</td>\n",
              "    </tr>\n",
              "    <tr>\n",
              "      <th>12</th>\n",
              "      <td>chg_all_lead</td>\n",
              "      <td>1.039677</td>\n",
              "    </tr>\n",
              "    <tr>\n",
              "      <th>13</th>\n",
              "      <td>bid_ask_ratio_ex</td>\n",
              "      <td>0.975260</td>\n",
              "    </tr>\n",
              "    <tr>\n",
              "      <th>14</th>\n",
              "      <td>chg_all_lag</td>\n",
              "      <td>0.836876</td>\n",
              "    </tr>\n",
              "    <tr>\n",
              "      <th>15</th>\n",
              "      <td>price_all_lead</td>\n",
              "      <td>0.662854</td>\n",
              "    </tr>\n",
              "    <tr>\n",
              "      <th>16</th>\n",
              "      <td>TRADE_PRICE</td>\n",
              "      <td>0.561955</td>\n",
              "    </tr>\n",
              "    <tr>\n",
              "      <th>17</th>\n",
              "      <td>ask_ex</td>\n",
              "      <td>0.485300</td>\n",
              "    </tr>\n",
              "    <tr>\n",
              "      <th>18</th>\n",
              "      <td>chg_ex_lead</td>\n",
              "      <td>0.483268</td>\n",
              "    </tr>\n",
              "    <tr>\n",
              "      <th>19</th>\n",
              "      <td>ask_ex_best_ratio</td>\n",
              "      <td>0.466541</td>\n",
              "    </tr>\n",
              "    <tr>\n",
              "      <th>20</th>\n",
              "      <td>BEST_BID</td>\n",
              "      <td>0.409724</td>\n",
              "    </tr>\n",
              "    <tr>\n",
              "      <th>21</th>\n",
              "      <td>chg_ex_lag</td>\n",
              "      <td>0.373677</td>\n",
              "    </tr>\n",
              "    <tr>\n",
              "      <th>22</th>\n",
              "      <td>price_ex_lead</td>\n",
              "      <td>0.359499</td>\n",
              "    </tr>\n",
              "    <tr>\n",
              "      <th>23</th>\n",
              "      <td>bid_ex</td>\n",
              "      <td>0.312025</td>\n",
              "    </tr>\n",
              "    <tr>\n",
              "      <th>24</th>\n",
              "      <td>mid_ex_best_ratio</td>\n",
              "      <td>0.229714</td>\n",
              "    </tr>\n",
              "    <tr>\n",
              "      <th>25</th>\n",
              "      <td>BEST_ASK</td>\n",
              "      <td>0.218803</td>\n",
              "    </tr>\n",
              "    <tr>\n",
              "      <th>26</th>\n",
              "      <td>price_ex_lag</td>\n",
              "      <td>0.190066</td>\n",
              "    </tr>\n",
              "    <tr>\n",
              "      <th>27</th>\n",
              "      <td>chg_ex_lag_lead</td>\n",
              "      <td>0.153104</td>\n",
              "    </tr>\n",
              "    <tr>\n",
              "      <th>28</th>\n",
              "      <td>price_all_lag</td>\n",
              "      <td>0.121248</td>\n",
              "    </tr>\n",
              "    <tr>\n",
              "      <th>29</th>\n",
              "      <td>chg_all_lag_lead</td>\n",
              "      <td>0.121135</td>\n",
              "    </tr>\n",
              "    <tr>\n",
              "      <th>30</th>\n",
              "      <td>ex_no_trade</td>\n",
              "      <td>0.004647</td>\n",
              "    </tr>\n",
              "  </tbody>\n",
              "</table>\n",
              "</div>\n",
              "      <button class=\"colab-df-convert\" onclick=\"convertToInteractive('df-d3a7b253-a5bd-4f26-af4f-7f905b53e56b')\"\n",
              "              title=\"Convert this dataframe to an interactive table.\"\n",
              "              style=\"display:none;\">\n",
              "        \n",
              "  <svg xmlns=\"http://www.w3.org/2000/svg\" height=\"24px\"viewBox=\"0 0 24 24\"\n",
              "       width=\"24px\">\n",
              "    <path d=\"M0 0h24v24H0V0z\" fill=\"none\"/>\n",
              "    <path d=\"M18.56 5.44l.94 2.06.94-2.06 2.06-.94-2.06-.94-.94-2.06-.94 2.06-2.06.94zm-11 1L8.5 8.5l.94-2.06 2.06-.94-2.06-.94L8.5 2.5l-.94 2.06-2.06.94zm10 10l.94 2.06.94-2.06 2.06-.94-2.06-.94-.94-2.06-.94 2.06-2.06.94z\"/><path d=\"M17.41 7.96l-1.37-1.37c-.4-.4-.92-.59-1.43-.59-.52 0-1.04.2-1.43.59L10.3 9.45l-7.72 7.72c-.78.78-.78 2.05 0 2.83L4 21.41c.39.39.9.59 1.41.59.51 0 1.02-.2 1.41-.59l7.78-7.78 2.81-2.81c.8-.78.8-2.07 0-2.86zM5.41 20L4 18.59l7.72-7.72 1.47 1.35L5.41 20z\"/>\n",
              "  </svg>\n",
              "      </button>\n",
              "      \n",
              "  <style>\n",
              "    .colab-df-container {\n",
              "      display:flex;\n",
              "      flex-wrap:wrap;\n",
              "      gap: 12px;\n",
              "    }\n",
              "\n",
              "    .colab-df-convert {\n",
              "      background-color: #E8F0FE;\n",
              "      border: none;\n",
              "      border-radius: 50%;\n",
              "      cursor: pointer;\n",
              "      display: none;\n",
              "      fill: #1967D2;\n",
              "      height: 32px;\n",
              "      padding: 0 0 0 0;\n",
              "      width: 32px;\n",
              "    }\n",
              "\n",
              "    .colab-df-convert:hover {\n",
              "      background-color: #E2EBFA;\n",
              "      box-shadow: 0px 1px 2px rgba(60, 64, 67, 0.3), 0px 1px 3px 1px rgba(60, 64, 67, 0.15);\n",
              "      fill: #174EA6;\n",
              "    }\n",
              "\n",
              "    [theme=dark] .colab-df-convert {\n",
              "      background-color: #3B4455;\n",
              "      fill: #D2E3FC;\n",
              "    }\n",
              "\n",
              "    [theme=dark] .colab-df-convert:hover {\n",
              "      background-color: #434B5C;\n",
              "      box-shadow: 0px 1px 3px 1px rgba(0, 0, 0, 0.15);\n",
              "      filter: drop-shadow(0px 1px 2px rgba(0, 0, 0, 0.3));\n",
              "      fill: #FFFFFF;\n",
              "    }\n",
              "  </style>\n",
              "\n",
              "      <script>\n",
              "        const buttonEl =\n",
              "          document.querySelector('#df-d3a7b253-a5bd-4f26-af4f-7f905b53e56b button.colab-df-convert');\n",
              "        buttonEl.style.display =\n",
              "          google.colab.kernel.accessAllowed ? 'block' : 'none';\n",
              "\n",
              "        async function convertToInteractive(key) {\n",
              "          const element = document.querySelector('#df-d3a7b253-a5bd-4f26-af4f-7f905b53e56b');\n",
              "          const dataTable =\n",
              "            await google.colab.kernel.invokeFunction('convertToInteractive',\n",
              "                                                     [key], {});\n",
              "          if (!dataTable) return;\n",
              "\n",
              "          const docLinkHtml = 'Like what you see? Visit the ' +\n",
              "            '<a target=\"_blank\" href=https://colab.research.google.com/notebooks/data_table.ipynb>data table notebook</a>'\n",
              "            + ' to learn more about interactive tables.';\n",
              "          element.innerHTML = '';\n",
              "          dataTable['output_type'] = 'display_data';\n",
              "          await google.colab.output.renderOutput(dataTable, element);\n",
              "          const docLink = document.createElement('div');\n",
              "          docLink.innerHTML = docLinkHtml;\n",
              "          element.appendChild(docLink);\n",
              "        }\n",
              "      </script>\n",
              "    </div>\n",
              "  </div>\n",
              "  "
            ]
          },
          "metadata": {},
          "execution_count": 14
        }
      ],
      "source": [
        "# feature importances of catboost\n",
        "feature_importance = model.get_feature_importance(prettified=True)\n",
        "feature_importance\n"
      ]
    },
    {
      "cell_type": "code",
      "execution_count": null,
      "metadata": {
        "id": "w7LDcwhwa7bN"
      },
      "outputs": [],
      "source": [
        "# \tFeature Id\tImportances\n",
        "# 0\task_size_ex\t12.525492\n",
        "# 1\tbid_size_ex\t11.546952\n",
        "# 2\trel_ask_ex\t10.194505\n",
        "# 3\tbid_ask_size_ratio_ex\t8.590138\n",
        "# 4\trel_bid_ex\t7.966504\n",
        "# 5\trel_bid_size_ex\t5.996297\n",
        "# 6\tBEST_rel_ask\t4.807563\n",
        "# 7\trel_ask_size_ex\t4.260232\n",
        "# 8\tprice_rel_nbo\t3.670372\n",
        "# 9\tbid_ask_ratio_ex\t3.384097\n",
        "# 10\tBEST_rel_bid\t3.284908\n",
        "# 11\tprice_rel_nbb\t3.269674\n",
        "# 12\tTRADE_SIZE\t3.073776\n",
        "# 13\tchg_all_lead\t2.350704\n",
        "# 14\tchg_all_lag\t1.966295\n",
        "# 15\tbid_ex_best_ratio\t1.587316\n",
        "# 16\task_ex\t1.578785\n",
        "# 17\task_ex_best_ratio\t1.347937\n",
        "# 18\tchg_ex_lead\t1.182017\n",
        "# 19\tTRADE_PRICE\t1.073262\n",
        "# 20\tBEST_ASK\t1.031167\n",
        "# 21\tbid_ex\t0.923878\n",
        "# 22\tmid_ex_best_ratio\t0.902499\n",
        "# 23\tBEST_BID\t0.847981\n",
        "# 24\tprice_all_lead\t0.784676\n",
        "# 25\tchg_ex_lag\t0.711833\n",
        "# 26\tprice_ex_lead\t0.594340\n",
        "# 27\tprice_ex_lag\t0.278488\n",
        "# 28\tprice_all_lag\t0.268311"
      ]
    },
    {
      "cell_type": "code",
      "execution_count": null,
      "metadata": {
        "id": "JG1sTG-qa7bP"
      },
      "outputs": [],
      "source": [
        "X_train.prox_ex.hist(bins=256)"
      ]
    },
    {
      "cell_type": "code",
      "execution_count": null,
      "metadata": {
        "id": "0UbiESwea7bX"
      },
      "outputs": [],
      "source": [
        "X_train.prox_ex.head(20)"
      ]
    },
    {
      "cell_type": "code",
      "execution_count": null,
      "metadata": {
        "id": "Svsw-sdua7bZ"
      },
      "outputs": [],
      "source": []
    },
    {
      "cell_type": "code",
      "execution_count": null,
      "metadata": {
        "id": "FkZ-LXiYa7bc"
      },
      "outputs": [],
      "source": []
    },
    {
      "cell_type": "code",
      "execution_count": null,
      "metadata": {
        "id": "SoNT1IOoa7bq"
      },
      "outputs": [],
      "source": []
    },
    {
      "cell_type": "code",
      "execution_count": null,
      "metadata": {
        "id": "Vu09AAB_a7br"
      },
      "outputs": [],
      "source": []
    },
    {
      "cell_type": "code",
      "execution_count": null,
      "metadata": {
        "id": "K1CnQNl5a7bv"
      },
      "outputs": [],
      "source": []
    }
  ],
  "metadata": {
    "colab": {
      "machine_shape": "hm",
      "name": "Untitled2.ipynb",
      "provenance": []
    },
    "gpuClass": "premium",
    "kernelspec": {
      "display_name": "Python (thesis)",
      "language": "python",
      "name": "thesis"
    },
    "language_info": {
      "codemirror_mode": {
        "name": "ipython",
        "version": 3
      },
      "file_extension": ".py",
      "mimetype": "text/x-python",
      "name": "python",
      "nbconvert_exporter": "python",
      "pygments_lexer": "ipython3",
      "version": "3.8.6"
    },
    "vscode": {
      "interpreter": {
        "hash": "e7370f93d1d0cde622a1f8e1c04877d8463912d04d973331ad4851f04de6915a"
      }
    },
    "accelerator": "GPU"
  },
  "nbformat": 4,
  "nbformat_minor": 0
}