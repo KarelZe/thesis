{
 "cells": [
  {
   "cell_type": "code",
   "execution_count": 2,
   "metadata": {
    "id": "7WXF7w4VyVgG"
   },
   "outputs": [],
   "source": [
    "import os\n",
    "import gc\n",
    "\n",
    "import gcsfs\n",
    "\n",
    "import numpy as np\n",
    "import numpy.typing as npt\n",
    "import pandas as pd\n",
    "\n",
    "import wandb\n",
    "\n",
    "from sklearn.preprocessing import StandardScaler, OrdinalEncoder, PowerTransformer\n",
    "from sklearn.exceptions import NotFittedError\n",
    "from sklearn.model_selection import cross_validate\n",
    "from sklearn.metrics import accuracy_score\n"
   ]
  },
  {
   "cell_type": "code",
   "execution_count": 3,
   "metadata": {
    "colab": {
     "base_uri": "https://localhost:8080/",
     "height": 191
    },
    "id": "KftC_bFhgwZt",
    "outputId": "933d7b6d-400b-4f98-fa1f-a9cae72bb733"
   },
   "outputs": [
    {
     "name": "stderr",
     "output_type": "stream",
     "text": [
      "Failed to detect the name of this notebook, you can set it manually with the WANDB_NOTEBOOK_NAME environment variable to enable code saving.\n",
      "\u001b[34m\u001b[1mwandb\u001b[0m: Currently logged in as: \u001b[33mkarelze\u001b[0m (\u001b[33mfbv\u001b[0m). Use \u001b[1m`wandb login --relogin`\u001b[0m to force relogin\n",
      "2023-01-23 11:32:41.019380: I tensorflow/core/platform/cpu_feature_guard.cc:193] This TensorFlow binary is optimized with oneAPI Deep Neural Network Library (oneDNN) to use the following CPU instructions in performance-critical operations:  AVX2 AVX512F AVX512_VNNI FMA\n",
      "To enable them in other operations, rebuild TensorFlow with the appropriate compiler flags.\n"
     ]
    },
    {
     "data": {
      "text/html": [
       "wandb version 0.13.9 is available!  To upgrade, please run:\n",
       " $ pip install wandb --upgrade"
      ],
      "text/plain": [
       "<IPython.core.display.HTML object>"
      ]
     },
     "metadata": {},
     "output_type": "display_data"
    },
    {
     "data": {
      "text/html": [
       "Tracking run with wandb version 0.13.5"
      ],
      "text/plain": [
       "<IPython.core.display.HTML object>"
      ]
     },
     "metadata": {},
     "output_type": "display_data"
    },
    {
     "data": {
      "text/html": [
       "Run data is saved locally in <code>/pfs/data5/home/kit/stud/uloak/thesis/notebooks/wandb/run-20230123_113239-16yahq7g</code>"
      ],
      "text/plain": [
       "<IPython.core.display.HTML object>"
      ]
     },
     "metadata": {},
     "output_type": "display_data"
    },
    {
     "data": {
      "text/html": [
       "Syncing run <strong><a href=\"https://wandb.ai/fbv/thesis/runs/16yahq7g\" target=\"_blank\">sleek-puddle-744</a></strong> to <a href=\"https://wandb.ai/fbv/thesis\" target=\"_blank\">Weights & Biases</a> (<a href=\"https://wandb.me/run\" target=\"_blank\">docs</a>)<br/>"
      ],
      "text/plain": [
       "<IPython.core.display.HTML object>"
      ]
     },
     "metadata": {},
     "output_type": "display_data"
    },
    {
     "name": "stderr",
     "output_type": "stream",
     "text": [
      "2023-01-23 11:32:47.400615: I tensorflow/core/util/port.cc:104] oneDNN custom operations are on. You may see slightly different numerical results due to floating-point round-off errors from different computation orders. To turn them off, set the environment variable `TF_ENABLE_ONEDNN_OPTS=0`.\n"
     ]
    }
   ],
   "source": [
    "# connect to weights and biases\n",
    "run = wandb.init(project=\"thesis\", job_type=\"dataset-creation\", entity=\"fbv\")\n"
   ]
  },
  {
   "cell_type": "code",
   "execution_count": 2,
   "metadata": {
    "id": "Xk8VWtSQces7"
   },
   "outputs": [
    {
     "name": "stderr",
     "output_type": "stream",
     "text": [
      "/home/kit/stud/uloak/.local/lib/python3.8/site-packages/google/auth/_default.py:83: UserWarning: Your application has authenticated using end user credentials from Google Cloud SDK without a quota project. You might receive a \"quota exceeded\" or \"API not enabled\" error. We recommend you rerun `gcloud auth application-default login` and make sure a quota project is added. Or you can use service accounts instead. For more information about service accounts, see https://cloud.google.com/docs/authentication/\n",
      "  warnings.warn(_CLOUD_SDK_CREDENTIALS_WARNING)\n"
     ]
    }
   ],
   "source": [
    "# import google.auth\n",
    "# from google.colab import auth\n",
    "\n",
    "# connect to google cloud storage\n",
    "# auth.authenticate_user()\n",
    "# credentials, _ = google.auth.default()\n",
    "# fs = gcsfs.GCSFileSystem(project=\"thesis\")\n",
    "# fs = gcsfs.GCSFileSystem(project=\"thesis\", credentials=credentials)\n"
   ]
  },
  {
   "cell_type": "code",
   "execution_count": null,
   "metadata": {
    "id": "yJViJH1yl_S7"
   },
   "outputs": [],
   "source": [
    "# reduce number of imported cols due to memory issues\n",
    "columns = [\n",
    "    \"QUOTE_DATETIME\",\n",
    "    \"ROOT\",\n",
    "    \"EXPIRATION\",\n",
    "    \"STRK_PRC\",\n",
    "    \"OPTION_TYPE\",\n",
    "    \"TRADE_SIZE\",\n",
    "    \"TRADE_PRICE\",\n",
    "    \"BEST_BID\",\n",
    "    \"BEST_ASK\",\n",
    "    \"ask_ex\",\n",
    "    \"bid_ex\",\n",
    "    \"bid_size_ex\",\n",
    "    \"ask_size_ex\",\n",
    "    \"price_all_lead\",\n",
    "    \"price_all_lag\",\n",
    "    \"price_ex_lead\",\n",
    "    \"price_ex_lag\",\n",
    "    \"buy_sell\",\n",
    "    \"day_vol\",\n",
    "    \"myn\",\n",
    "]\n"
   ]
  },
  {
   "cell_type": "code",
   "execution_count": null,
   "metadata": {
    "id": "WmXtH-PEqyQE",
    "outputId": "8c68b54f-0331-444a-d3d8-83a6e2a9e7c3"
   },
   "outputs": [
    {
     "name": "stderr",
     "output_type": "stream",
     "text": [
      "/home/kit/stud/uloak/.local/lib/python3.8/site-packages/google/auth/_default.py:83: UserWarning: Your application has authenticated using end user credentials from Google Cloud SDK without a quota project. You might receive a \"quota exceeded\" or \"API not enabled\" error. We recommend you rerun `gcloud auth application-default login` and make sure a quota project is added. Or you can use service accounts instead. For more information about service accounts, see https://cloud.google.com/docs/authentication/\n",
      "  warnings.warn(_CLOUD_SDK_CREDENTIALS_WARNING)\n"
     ]
    }
   ],
   "source": [
    "train = pd.read_parquet(\n",
    "    f\"gs://thesis-bucket-option-trade-classification/data/preprocessed/train_set_ultra_60.parquet\",\n",
    "    engine=\"fastparquet\",\n",
    "    columns=columns,\n",
    ")\n",
    "val = pd.read_parquet(\n",
    "    f\"gs://thesis-bucket-option-trade-classification/data/preprocessed/val_set_ultra_20.parquet\",\n",
    "    engine=\"fastparquet\",\n",
    "    columns=columns,\n",
    ")\n"
   ]
  },
  {
   "cell_type": "code",
   "execution_count": null,
   "metadata": {
    "id": "CZoGJyq_ivfG"
   },
   "outputs": [],
   "source": [
    "num_features = [\n",
    "    \"STRK_PRC\",\n",
    "    \"TRADE_SIZE\",\n",
    "    \"TRADE_PRICE\",\n",
    "    \"BEST_BID\",\n",
    "    \"BEST_ASK\",\n",
    "    \"ask_ex\",\n",
    "    \"bid_ex\",\n",
    "    \"bid_size_ex\",\n",
    "    \"ask_size_ex\",\n",
    "    \"price_all_lead\",\n",
    "    \"price_all_lag\",\n",
    "    \"price_ex_lead\",\n",
    "    \"price_ex_lag\",\n",
    "    \"day_vol\",\n",
    "    \"myn\",\n",
    "]\n"
   ]
  },
  {
   "cell_type": "markdown",
   "metadata": {
    "id": "xKfgJSqvivfH"
   },
   "source": [
    "## Yeo Johnson Test"
   ]
  },
  {
   "cell_type": "code",
   "execution_count": null,
   "metadata": {
    "colab": {
     "base_uri": "https://localhost:8080/"
    },
    "id": "6YcIDwQyivfJ",
    "outputId": "a3e699cc-9e1d-447c-efe2-b926e2ae7f95"
   },
   "outputs": [
    {
     "data": {
      "text/html": [
       "<style>#sk-container-id-1 {color: black;background-color: white;}#sk-container-id-1 pre{padding: 0;}#sk-container-id-1 div.sk-toggleable {background-color: white;}#sk-container-id-1 label.sk-toggleable__label {cursor: pointer;display: block;width: 100%;margin-bottom: 0;padding: 0.3em;box-sizing: border-box;text-align: center;}#sk-container-id-1 label.sk-toggleable__label-arrow:before {content: \"▸\";float: left;margin-right: 0.25em;color: #696969;}#sk-container-id-1 label.sk-toggleable__label-arrow:hover:before {color: black;}#sk-container-id-1 div.sk-estimator:hover label.sk-toggleable__label-arrow:before {color: black;}#sk-container-id-1 div.sk-toggleable__content {max-height: 0;max-width: 0;overflow: hidden;text-align: left;background-color: #f0f8ff;}#sk-container-id-1 div.sk-toggleable__content pre {margin: 0.2em;color: black;border-radius: 0.25em;background-color: #f0f8ff;}#sk-container-id-1 input.sk-toggleable__control:checked~div.sk-toggleable__content {max-height: 200px;max-width: 100%;overflow: auto;}#sk-container-id-1 input.sk-toggleable__control:checked~label.sk-toggleable__label-arrow:before {content: \"▾\";}#sk-container-id-1 div.sk-estimator input.sk-toggleable__control:checked~label.sk-toggleable__label {background-color: #d4ebff;}#sk-container-id-1 div.sk-label input.sk-toggleable__control:checked~label.sk-toggleable__label {background-color: #d4ebff;}#sk-container-id-1 input.sk-hidden--visually {border: 0;clip: rect(1px 1px 1px 1px);clip: rect(1px, 1px, 1px, 1px);height: 1px;margin: -1px;overflow: hidden;padding: 0;position: absolute;width: 1px;}#sk-container-id-1 div.sk-estimator {font-family: monospace;background-color: #f0f8ff;border: 1px dotted black;border-radius: 0.25em;box-sizing: border-box;margin-bottom: 0.5em;}#sk-container-id-1 div.sk-estimator:hover {background-color: #d4ebff;}#sk-container-id-1 div.sk-parallel-item::after {content: \"\";width: 100%;border-bottom: 1px solid gray;flex-grow: 1;}#sk-container-id-1 div.sk-label:hover label.sk-toggleable__label {background-color: #d4ebff;}#sk-container-id-1 div.sk-serial::before {content: \"\";position: absolute;border-left: 1px solid gray;box-sizing: border-box;top: 0;bottom: 0;left: 50%;z-index: 0;}#sk-container-id-1 div.sk-serial {display: flex;flex-direction: column;align-items: center;background-color: white;padding-right: 0.2em;padding-left: 0.2em;position: relative;}#sk-container-id-1 div.sk-item {position: relative;z-index: 1;}#sk-container-id-1 div.sk-parallel {display: flex;align-items: stretch;justify-content: center;background-color: white;position: relative;}#sk-container-id-1 div.sk-item::before, #sk-container-id-1 div.sk-parallel-item::before {content: \"\";position: absolute;border-left: 1px solid gray;box-sizing: border-box;top: 0;bottom: 0;left: 50%;z-index: -1;}#sk-container-id-1 div.sk-parallel-item {display: flex;flex-direction: column;z-index: 1;position: relative;background-color: white;}#sk-container-id-1 div.sk-parallel-item:first-child::after {align-self: flex-end;width: 50%;}#sk-container-id-1 div.sk-parallel-item:last-child::after {align-self: flex-start;width: 50%;}#sk-container-id-1 div.sk-parallel-item:only-child::after {width: 0;}#sk-container-id-1 div.sk-dashed-wrapped {border: 1px dashed gray;margin: 0 0.4em 0.5em 0.4em;box-sizing: border-box;padding-bottom: 0.4em;background-color: white;}#sk-container-id-1 div.sk-label label {font-family: monospace;font-weight: bold;display: inline-block;line-height: 1.2em;}#sk-container-id-1 div.sk-label-container {text-align: center;}#sk-container-id-1 div.sk-container {/* jupyter's `normalize.less` sets `[hidden] { display: none; }` but bootstrap.min.css set `[hidden] { display: none !important; }` so we also need the `!important` here to be able to override the default hidden behavior on the sphinx rendered scikit-learn.org. See: https://github.com/scikit-learn/scikit-learn/issues/21755 */display: inline-block !important;position: relative;}#sk-container-id-1 div.sk-text-repr-fallback {display: none;}</style><div id=\"sk-container-id-1\" class=\"sk-top-container\"><div class=\"sk-text-repr-fallback\"><pre>PowerTransformer()</pre><b>In a Jupyter environment, please rerun this cell to show the HTML representation or trust the notebook. <br />On GitHub, the HTML representation is unable to render, please try loading this page with nbviewer.org.</b></div><div class=\"sk-container\" hidden><div class=\"sk-item\"><div class=\"sk-estimator sk-toggleable\"><input class=\"sk-toggleable__control sk-hidden--visually\" id=\"sk-estimator-id-1\" type=\"checkbox\" checked><label for=\"sk-estimator-id-1\" class=\"sk-toggleable__label sk-toggleable__label-arrow\">PowerTransformer</label><div class=\"sk-toggleable__content\"><pre>PowerTransformer()</pre></div></div></div></div></div>"
      ],
      "text/plain": [
       "PowerTransformer()"
      ]
     },
     "execution_count": 7,
     "metadata": {},
     "output_type": "execute_result"
    }
   ],
   "source": [
    "yeo_johnson = PowerTransformer(method=\"yeo-johnson\")\n",
    "yeo_johnson.fit(train[num_features])\n"
   ]
  },
  {
   "cell_type": "code",
   "execution_count": null,
   "metadata": {
    "colab": {
     "base_uri": "https://localhost:8080/"
    },
    "id": "KVTGnmTFivfJ",
    "outputId": "c1c975e2-f8de-4ca9-d38c-444dda4ffa55"
   },
   "outputs": [
    {
     "data": {
      "text/plain": [
       "STRK_PRC         -0.126414\n",
       "TRADE_SIZE       -0.379786\n",
       "TRADE_PRICE      -0.446928\n",
       "BEST_BID         -0.442183\n",
       "BEST_ASK         -0.442264\n",
       "ask_ex           -0.441659\n",
       "bid_ex           -0.441708\n",
       "bid_size_ex       0.035735\n",
       "ask_size_ex      -0.011599\n",
       "price_all_lead   -0.447201\n",
       "price_all_lag    -0.451723\n",
       "price_ex_lead    -0.449795\n",
       "price_ex_lag     -0.453784\n",
       "day_vol          -0.210949\n",
       "myn              -1.113007\n",
       "dtype: float64"
      ]
     },
     "execution_count": 8,
     "metadata": {},
     "output_type": "execute_result"
    }
   ],
   "source": [
    "lambdas = pd.Series(data=yeo_johnson.lambdas_, index=num_features)\n",
    "lambdas\n"
   ]
  },
  {
   "cell_type": "markdown",
   "metadata": {
    "id": "e3_ot886ivfK"
   },
   "source": [
    "## Box Cox Test"
   ]
  },
  {
   "cell_type": "code",
   "execution_count": null,
   "metadata": {
    "colab": {
     "base_uri": "https://localhost:8080/"
    },
    "id": "v0MseONFivfL",
    "outputId": "3a3cf373-d246-4c42-cb9d-13c41570f7d1"
   },
   "outputs": [
    {
     "data": {
      "text/plain": [
       "STRK_PRC          5.000000e-01\n",
       "TRADE_SIZE        1.000000e+00\n",
       "TRADE_PRICE       1.000000e-02\n",
       "BEST_BID          0.000000e+00\n",
       "BEST_ASK          0.000000e+00\n",
       "ask_ex            0.000000e+00\n",
       "bid_ex            0.000000e+00\n",
       "bid_size_ex       0.000000e+00\n",
       "ask_size_ex       0.000000e+00\n",
       "price_all_lead    1.000000e-02\n",
       "price_all_lag     1.000000e-02\n",
       "price_ex_lead     1.000000e-02\n",
       "price_ex_lag      1.000000e-02\n",
       "day_vol           1.000000e+00\n",
       "myn               3.725289e-07\n",
       "dtype: float64"
      ]
     },
     "execution_count": 9,
     "metadata": {},
     "output_type": "execute_result"
    }
   ],
   "source": [
    "train[num_features].min()\n"
   ]
  },
  {
   "cell_type": "code",
   "execution_count": null,
   "metadata": {
    "colab": {
     "base_uri": "https://localhost:8080/"
    },
    "id": "ZAZFhnj9ivfM",
    "outputId": "e4792b28-6d0f-467b-f51a-3a617bb86694"
   },
   "outputs": [
    {
     "data": {
      "text/html": [
       "<style>#sk-container-id-2 {color: black;background-color: white;}#sk-container-id-2 pre{padding: 0;}#sk-container-id-2 div.sk-toggleable {background-color: white;}#sk-container-id-2 label.sk-toggleable__label {cursor: pointer;display: block;width: 100%;margin-bottom: 0;padding: 0.3em;box-sizing: border-box;text-align: center;}#sk-container-id-2 label.sk-toggleable__label-arrow:before {content: \"▸\";float: left;margin-right: 0.25em;color: #696969;}#sk-container-id-2 label.sk-toggleable__label-arrow:hover:before {color: black;}#sk-container-id-2 div.sk-estimator:hover label.sk-toggleable__label-arrow:before {color: black;}#sk-container-id-2 div.sk-toggleable__content {max-height: 0;max-width: 0;overflow: hidden;text-align: left;background-color: #f0f8ff;}#sk-container-id-2 div.sk-toggleable__content pre {margin: 0.2em;color: black;border-radius: 0.25em;background-color: #f0f8ff;}#sk-container-id-2 input.sk-toggleable__control:checked~div.sk-toggleable__content {max-height: 200px;max-width: 100%;overflow: auto;}#sk-container-id-2 input.sk-toggleable__control:checked~label.sk-toggleable__label-arrow:before {content: \"▾\";}#sk-container-id-2 div.sk-estimator input.sk-toggleable__control:checked~label.sk-toggleable__label {background-color: #d4ebff;}#sk-container-id-2 div.sk-label input.sk-toggleable__control:checked~label.sk-toggleable__label {background-color: #d4ebff;}#sk-container-id-2 input.sk-hidden--visually {border: 0;clip: rect(1px 1px 1px 1px);clip: rect(1px, 1px, 1px, 1px);height: 1px;margin: -1px;overflow: hidden;padding: 0;position: absolute;width: 1px;}#sk-container-id-2 div.sk-estimator {font-family: monospace;background-color: #f0f8ff;border: 1px dotted black;border-radius: 0.25em;box-sizing: border-box;margin-bottom: 0.5em;}#sk-container-id-2 div.sk-estimator:hover {background-color: #d4ebff;}#sk-container-id-2 div.sk-parallel-item::after {content: \"\";width: 100%;border-bottom: 1px solid gray;flex-grow: 1;}#sk-container-id-2 div.sk-label:hover label.sk-toggleable__label {background-color: #d4ebff;}#sk-container-id-2 div.sk-serial::before {content: \"\";position: absolute;border-left: 1px solid gray;box-sizing: border-box;top: 0;bottom: 0;left: 50%;z-index: 0;}#sk-container-id-2 div.sk-serial {display: flex;flex-direction: column;align-items: center;background-color: white;padding-right: 0.2em;padding-left: 0.2em;position: relative;}#sk-container-id-2 div.sk-item {position: relative;z-index: 1;}#sk-container-id-2 div.sk-parallel {display: flex;align-items: stretch;justify-content: center;background-color: white;position: relative;}#sk-container-id-2 div.sk-item::before, #sk-container-id-2 div.sk-parallel-item::before {content: \"\";position: absolute;border-left: 1px solid gray;box-sizing: border-box;top: 0;bottom: 0;left: 50%;z-index: -1;}#sk-container-id-2 div.sk-parallel-item {display: flex;flex-direction: column;z-index: 1;position: relative;background-color: white;}#sk-container-id-2 div.sk-parallel-item:first-child::after {align-self: flex-end;width: 50%;}#sk-container-id-2 div.sk-parallel-item:last-child::after {align-self: flex-start;width: 50%;}#sk-container-id-2 div.sk-parallel-item:only-child::after {width: 0;}#sk-container-id-2 div.sk-dashed-wrapped {border: 1px dashed gray;margin: 0 0.4em 0.5em 0.4em;box-sizing: border-box;padding-bottom: 0.4em;background-color: white;}#sk-container-id-2 div.sk-label label {font-family: monospace;font-weight: bold;display: inline-block;line-height: 1.2em;}#sk-container-id-2 div.sk-label-container {text-align: center;}#sk-container-id-2 div.sk-container {/* jupyter's `normalize.less` sets `[hidden] { display: none; }` but bootstrap.min.css set `[hidden] { display: none !important; }` so we also need the `!important` here to be able to override the default hidden behavior on the sphinx rendered scikit-learn.org. See: https://github.com/scikit-learn/scikit-learn/issues/21755 */display: inline-block !important;position: relative;}#sk-container-id-2 div.sk-text-repr-fallback {display: none;}</style><div id=\"sk-container-id-2\" class=\"sk-top-container\"><div class=\"sk-text-repr-fallback\"><pre>PowerTransformer(method=&#x27;box-cox&#x27;)</pre><b>In a Jupyter environment, please rerun this cell to show the HTML representation or trust the notebook. <br />On GitHub, the HTML representation is unable to render, please try loading this page with nbviewer.org.</b></div><div class=\"sk-container\" hidden><div class=\"sk-item\"><div class=\"sk-estimator sk-toggleable\"><input class=\"sk-toggleable__control sk-hidden--visually\" id=\"sk-estimator-id-2\" type=\"checkbox\" checked><label for=\"sk-estimator-id-2\" class=\"sk-toggleable__label sk-toggleable__label-arrow\">PowerTransformer</label><div class=\"sk-toggleable__content\"><pre>PowerTransformer(method=&#x27;box-cox&#x27;)</pre></div></div></div></div></div>"
      ],
      "text/plain": [
       "PowerTransformer(method='box-cox')"
      ]
     },
     "execution_count": 10,
     "metadata": {},
     "output_type": "execute_result"
    }
   ],
   "source": [
    "box_cox = PowerTransformer(method=\"box-cox\")\n",
    "# add constant as box cox works only on positive data\n",
    "box_cox.fit(train[num_features] + 1)\n"
   ]
  },
  {
   "cell_type": "code",
   "execution_count": null,
   "metadata": {
    "colab": {
     "base_uri": "https://localhost:8080/"
    },
    "id": "5pUOwPR4ivfM",
    "outputId": "24add8db-65d0-4eb5-c87e-c6f6aa8e2833"
   },
   "outputs": [
    {
     "data": {
      "text/plain": [
       "STRK_PRC         -0.126414\n",
       "TRADE_SIZE       -0.379786\n",
       "TRADE_PRICE      -0.446928\n",
       "BEST_BID         -0.442183\n",
       "BEST_ASK         -0.442264\n",
       "ask_ex           -0.441659\n",
       "bid_ex           -0.441708\n",
       "bid_size_ex       0.035735\n",
       "ask_size_ex      -0.011599\n",
       "price_all_lead   -0.447201\n",
       "price_all_lag    -0.451723\n",
       "price_ex_lead    -0.449795\n",
       "price_ex_lag     -0.453784\n",
       "day_vol          -0.210949\n",
       "myn              -1.113007\n",
       "dtype: float64"
      ]
     },
     "execution_count": 11,
     "metadata": {},
     "output_type": "execute_result"
    }
   ],
   "source": [
    "lambdas = pd.Series(data=box_cox.lambdas_, index=num_features)\n",
    "lambdas\n"
   ]
  },
  {
   "cell_type": "code",
   "execution_count": null,
   "metadata": {
    "colab": {
     "base_uri": "https://localhost:8080/"
    },
    "id": "owNjZgepivfN",
    "outputId": "2535b4d5-88ec-47ac-e0c6-310d12a0a6b7"
   },
   "outputs": [
    {
     "data": {
      "text/html": [
       "<style>#sk-container-id-3 {color: black;background-color: white;}#sk-container-id-3 pre{padding: 0;}#sk-container-id-3 div.sk-toggleable {background-color: white;}#sk-container-id-3 label.sk-toggleable__label {cursor: pointer;display: block;width: 100%;margin-bottom: 0;padding: 0.3em;box-sizing: border-box;text-align: center;}#sk-container-id-3 label.sk-toggleable__label-arrow:before {content: \"▸\";float: left;margin-right: 0.25em;color: #696969;}#sk-container-id-3 label.sk-toggleable__label-arrow:hover:before {color: black;}#sk-container-id-3 div.sk-estimator:hover label.sk-toggleable__label-arrow:before {color: black;}#sk-container-id-3 div.sk-toggleable__content {max-height: 0;max-width: 0;overflow: hidden;text-align: left;background-color: #f0f8ff;}#sk-container-id-3 div.sk-toggleable__content pre {margin: 0.2em;color: black;border-radius: 0.25em;background-color: #f0f8ff;}#sk-container-id-3 input.sk-toggleable__control:checked~div.sk-toggleable__content {max-height: 200px;max-width: 100%;overflow: auto;}#sk-container-id-3 input.sk-toggleable__control:checked~label.sk-toggleable__label-arrow:before {content: \"▾\";}#sk-container-id-3 div.sk-estimator input.sk-toggleable__control:checked~label.sk-toggleable__label {background-color: #d4ebff;}#sk-container-id-3 div.sk-label input.sk-toggleable__control:checked~label.sk-toggleable__label {background-color: #d4ebff;}#sk-container-id-3 input.sk-hidden--visually {border: 0;clip: rect(1px 1px 1px 1px);clip: rect(1px, 1px, 1px, 1px);height: 1px;margin: -1px;overflow: hidden;padding: 0;position: absolute;width: 1px;}#sk-container-id-3 div.sk-estimator {font-family: monospace;background-color: #f0f8ff;border: 1px dotted black;border-radius: 0.25em;box-sizing: border-box;margin-bottom: 0.5em;}#sk-container-id-3 div.sk-estimator:hover {background-color: #d4ebff;}#sk-container-id-3 div.sk-parallel-item::after {content: \"\";width: 100%;border-bottom: 1px solid gray;flex-grow: 1;}#sk-container-id-3 div.sk-label:hover label.sk-toggleable__label {background-color: #d4ebff;}#sk-container-id-3 div.sk-serial::before {content: \"\";position: absolute;border-left: 1px solid gray;box-sizing: border-box;top: 0;bottom: 0;left: 50%;z-index: 0;}#sk-container-id-3 div.sk-serial {display: flex;flex-direction: column;align-items: center;background-color: white;padding-right: 0.2em;padding-left: 0.2em;position: relative;}#sk-container-id-3 div.sk-item {position: relative;z-index: 1;}#sk-container-id-3 div.sk-parallel {display: flex;align-items: stretch;justify-content: center;background-color: white;position: relative;}#sk-container-id-3 div.sk-item::before, #sk-container-id-3 div.sk-parallel-item::before {content: \"\";position: absolute;border-left: 1px solid gray;box-sizing: border-box;top: 0;bottom: 0;left: 50%;z-index: -1;}#sk-container-id-3 div.sk-parallel-item {display: flex;flex-direction: column;z-index: 1;position: relative;background-color: white;}#sk-container-id-3 div.sk-parallel-item:first-child::after {align-self: flex-end;width: 50%;}#sk-container-id-3 div.sk-parallel-item:last-child::after {align-self: flex-start;width: 50%;}#sk-container-id-3 div.sk-parallel-item:only-child::after {width: 0;}#sk-container-id-3 div.sk-dashed-wrapped {border: 1px dashed gray;margin: 0 0.4em 0.5em 0.4em;box-sizing: border-box;padding-bottom: 0.4em;background-color: white;}#sk-container-id-3 div.sk-label label {font-family: monospace;font-weight: bold;display: inline-block;line-height: 1.2em;}#sk-container-id-3 div.sk-label-container {text-align: center;}#sk-container-id-3 div.sk-container {/* jupyter's `normalize.less` sets `[hidden] { display: none; }` but bootstrap.min.css set `[hidden] { display: none !important; }` so we also need the `!important` here to be able to override the default hidden behavior on the sphinx rendered scikit-learn.org. See: https://github.com/scikit-learn/scikit-learn/issues/21755 */display: inline-block !important;position: relative;}#sk-container-id-3 div.sk-text-repr-fallback {display: none;}</style><div id=\"sk-container-id-3\" class=\"sk-top-container\"><div class=\"sk-text-repr-fallback\"><pre>PowerTransformer(method=&#x27;box-cox&#x27;)</pre><b>In a Jupyter environment, please rerun this cell to show the HTML representation or trust the notebook. <br />On GitHub, the HTML representation is unable to render, please try loading this page with nbviewer.org.</b></div><div class=\"sk-container\" hidden><div class=\"sk-item\"><div class=\"sk-estimator sk-toggleable\"><input class=\"sk-toggleable__control sk-hidden--visually\" id=\"sk-estimator-id-3\" type=\"checkbox\" checked><label for=\"sk-estimator-id-3\" class=\"sk-toggleable__label sk-toggleable__label-arrow\">PowerTransformer</label><div class=\"sk-toggleable__content\"><pre>PowerTransformer(method=&#x27;box-cox&#x27;)</pre></div></div></div></div></div>"
      ],
      "text/plain": [
       "PowerTransformer(method='box-cox')"
      ]
     },
     "execution_count": 12,
     "metadata": {},
     "output_type": "execute_result"
    }
   ],
   "source": [
    "box_cox = PowerTransformer(method=\"box-cox\")\n",
    "# add constant as box cox works only on positive data\n",
    "box_cox.fit(train[num_features] + 0.01)\n"
   ]
  },
  {
   "cell_type": "code",
   "execution_count": null,
   "metadata": {
    "colab": {
     "base_uri": "https://localhost:8080/"
    },
    "id": "rfV5iVfuivfN",
    "outputId": "60a15dc2-6eac-45ef-e520-74208d0182a4"
   },
   "outputs": [
    {
     "data": {
      "text/plain": [
       "STRK_PRC         -0.082968\n",
       "TRADE_SIZE       -0.204893\n",
       "TRADE_PRICE       0.060425\n",
       "BEST_BID          0.110299\n",
       "BEST_ASK          0.056837\n",
       "ask_ex            0.049090\n",
       "bid_ex            0.113067\n",
       "bid_size_ex       0.140284\n",
       "ask_size_ex       0.029876\n",
       "price_all_lead    0.054975\n",
       "price_all_lag     0.049097\n",
       "price_ex_lead     0.053774\n",
       "price_ex_lag      0.042910\n",
       "day_vol          -0.116017\n",
       "myn              -0.109716\n",
       "dtype: float64"
      ]
     },
     "execution_count": 13,
     "metadata": {},
     "output_type": "execute_result"
    }
   ],
   "source": [
    "lambdas = pd.Series(data=box_cox.lambdas_, index=num_features)\n",
    "lambdas\n"
   ]
  },
  {
   "cell_type": "markdown",
   "metadata": {
    "id": "E7gne62JXAMc"
   },
   "source": [
    "Use smallest possible constant for Box-Cox test. All $\\lambda \\approx 0 \\implies \\log(\\cdot)$ for price, size, and quotes."
   ]
  },
  {
   "cell_type": "code",
   "execution_count": 4,
   "metadata": {
    "id": "6DiQFn82ivfP"
   },
   "outputs": [],
   "source": [
    "def sin_encode(x: pd.Series, period: int) -> npt.NDArray:\n",
    "    \"\"\"\n",
    "    Encode a series with a sin function.\n",
    "\n",
    "    Args:\n",
    "        x (pd.Series): input series\n",
    "        period (int): frequency\n",
    "\n",
    "    Returns:\n",
    "        npt.NDArray: encoded values\n",
    "    \"\"\"\n",
    "    return np.sin(x * 2 * np.pi / period)\n",
    "\n",
    "\n",
    "def cos_encode(x: pd.Series, period: int) -> npt.NDArray:\n",
    "    \"\"\"\n",
    "    Encode a series with a sin function.\n",
    "\n",
    "    Args:\n",
    "        x (pd.Series): input series\n",
    "        period (int): frequency\n",
    "\n",
    "    Returns:\n",
    "        npt.NDArray: encoded values\n",
    "    \"\"\"\n",
    "    return np.cos(x * 2 * np.pi / period)\n"
   ]
  },
  {
   "cell_type": "code",
   "execution_count": 5,
   "metadata": {
    "id": "-f1NBeZNcXpY"
   },
   "outputs": [],
   "source": [
    "scaler = StandardScaler()\n",
    "oe_option_type = OrdinalEncoder(\n",
    "    unknown_value=-1, dtype=int, handle_unknown=\"use_encoded_value\"\n",
    ")\n",
    "oe_root = OrdinalEncoder(\n",
    "    unknown_value=-1, dtype=int, handle_unknown=\"use_encoded_value\"\n",
    ")\n",
    "oe_issue_type = OrdinalEncoder(\n",
    "    unknown_value=-1, dtype=int, handle_unknown=\"use_encoded_value\"\n",
    ")\n",
    "\n",
    "\n",
    "def transform(data: pd.DataFrame) -> pd.DataFrame:\n",
    "    \"\"\"\n",
    "    Create features, impute, and scale.\n",
    "\n",
    "    Args:\n",
    "        data (pd.DataFrame): input data frame.\n",
    "    Returns:\n",
    "        pd.DataFrame: updated data frame.\n",
    "    \"\"\"\n",
    "\n",
    "    # set up df, overwrite later\n",
    "    x = pd.DataFrame(data={\"TRADE_PRICE\": data[\"TRADE_PRICE\"]}, index=data.index)\n",
    "\n",
    "    # size features\n",
    "    x[\"bid_ask_size_ratio_ex\"] = data[\"bid_size_ex\"] / data[\"ask_size_ex\"]\n",
    "    x[\"rel_bid_size_ex\"] = data[\"TRADE_SIZE\"] / data[\"bid_size_ex\"]\n",
    "    x[\"rel_ask_size_ex\"] = data[\"TRADE_SIZE\"] / data[\"ask_size_ex\"]\n",
    "    x[\"depth_ex\"] = data[\"bid_size_ex\"] - data[\"ask_size_ex\"]\n",
    "\n",
    "    # classical\n",
    "    mid_ex = 0.5 * (data[\"ask_ex\"] + data[\"bid_ex\"])\n",
    "    mid_best = 0.5 * (data[\"BEST_ASK\"] + data[\"BEST_BID\"])\n",
    "\n",
    "    spread_ex = data[\"ask_ex\"] - data[\"bid_ex\"]\n",
    "    spread_best = data[\"BEST_ASK\"] - data[\"BEST_BID\"]\n",
    "\n",
    "    x[\"prox_ex\"] = (data[\"TRADE_PRICE\"] - mid_ex) / (0.5 * spread_ex)\n",
    "    x[\"prox_best\"] = (data[\"TRADE_PRICE\"] - mid_best) / (0.5 * spread_best)\n",
    "\n",
    "    # custom features\n",
    "    x[\"spread_ex\"] = spread_ex\n",
    "    x[\"spread_best\"] = spread_best\n",
    "    x[\"bid_ask_ratio_ex\"] = data[\"bid_ex\"] / data[\"ask_ex\"]\n",
    "    x[\"price_rel_nbo\"] = (data[\"TRADE_PRICE\"] - data[\"BEST_ASK\"]) / (\n",
    "        data[\"BEST_ASK\"] - mid_best\n",
    "    )\n",
    "    x[\"price_rel_nbb\"] = (data[\"TRADE_PRICE\"] - data[\"BEST_BID\"]) / (\n",
    "        mid_best - data[\"BEST_BID\"]\n",
    "    )\n",
    "\n",
    "    # calculate change\n",
    "    x[\"chg_ex_lead\"] = data[\"TRADE_PRICE\"] - data[\"price_ex_lead\"]\n",
    "    x[\"chg_ex_lag\"] = data[\"TRADE_PRICE\"] - data[\"price_ex_lag\"]\n",
    "    x[\"chg_all_lead\"] = data[\"TRADE_PRICE\"] - data[\"price_all_lead\"]\n",
    "    x[\"chg_all_lag\"] = data[\"TRADE_PRICE\"] - data[\"price_all_lag\"]\n",
    "\n",
    "    # asks = [f\"ASK_{i}\" for i in range(1, 17)]\n",
    "    # bids = [f\"BID_{i}\" for i in range(1, 17)]\n",
    "    \n",
    "    # log transformed features\n",
    "    x[\n",
    "        [\n",
    "            \"ask_ex\",\n",
    "            \"bid_ex\",\n",
    "            \"BEST_ASK\",\n",
    "            \"BEST_BID\",\n",
    "            \"TRADE_PRICE\",\n",
    "            \"price_all_lag\",\n",
    "            \"price_all_lead\",\n",
    "            \"price_ex_lag\",\n",
    "            \"price_ex_lead\",\n",
    "            \"TRADE_SIZE\",\n",
    "            \"bid_size_ex\",\n",
    "            \"ask_size_ex\",\n",
    "            \"day_vol\",\n",
    "            \"myn\",\n",
    "            \"STRK_PRC\",\n",
    "            # *asks,\n",
    "            # *bids\n",
    "        ]\n",
    "    ] = np.log1p(\n",
    "        data[\n",
    "            [\n",
    "                \"ask_ex\",\n",
    "                \"bid_ex\",\n",
    "                \"BEST_ASK\",\n",
    "                \"BEST_BID\",\n",
    "                \"TRADE_PRICE\",\n",
    "                \"price_all_lag\",\n",
    "                \"price_all_lead\",\n",
    "                \"price_ex_lag\",\n",
    "                \"price_ex_lead\",\n",
    "                \"TRADE_SIZE\",\n",
    "                \"bid_size_ex\",\n",
    "                \"ask_size_ex\",\n",
    "                \"day_vol\",\n",
    "                \"myn\",\n",
    "                \"STRK_PRC\",\n",
    "                # *asks,\n",
    "                # *bids\n",
    "            ]\n",
    "        ]\n",
    "    )\n",
    "    x[\"mid_ex\"] = np.log1p(mid_ex)\n",
    "    x[\"mid_best\"] = np.log1p(mid_best)\n",
    "\n",
    "    x[\"ttm\"] = (\n",
    "        data[\"EXPIRATION\"].dt.to_period(\"M\") - data[\"QUOTE_DATETIME\"].dt.to_period(\"M\")\n",
    "    ).apply(lambda x: x.n)\n",
    "\n",
    "    # save num columns for scaler\n",
    "    num_cols = x.columns.tolist()\n",
    "\n",
    "    # date features\n",
    "    x[\"date_year\"] = data[\"QUOTE_DATETIME\"].dt.year\n",
    "\n",
    "    months_in_year = 12\n",
    "    x[\"date_month_sin\"] = sin_encode(data[\"QUOTE_DATETIME\"].dt.month, months_in_year)\n",
    "    x[\"date_month_cos\"] = cos_encode(data[\"QUOTE_DATETIME\"].dt.month, months_in_year)\n",
    "\n",
    "    days_in_month = 31  # at max :-)\n",
    "    x[\"date_day_sin\"] = sin_encode(data[\"QUOTE_DATETIME\"].dt.day, days_in_month)\n",
    "    x[\"date_day_cos\"] = cos_encode(data[\"QUOTE_DATETIME\"].dt.day, days_in_month)\n",
    "\n",
    "    days_in_week = 7\n",
    "    x[\"date_weekday_sin\"] = sin_encode(\n",
    "        data[\"QUOTE_DATETIME\"].dt.dayofweek, days_in_week\n",
    "    )\n",
    "    x[\"date_weekday_cos\"] = cos_encode(\n",
    "        data[\"QUOTE_DATETIME\"].dt.dayofweek, days_in_week\n",
    "    )\n",
    "\n",
    "    seconds_in_day = 24 * 60 * 60\n",
    "    seconds = (\n",
    "        data[\"QUOTE_DATETIME\"] - data[\"QUOTE_DATETIME\"].dt.normalize()\n",
    "    ).dt.total_seconds()\n",
    "\n",
    "    x[\"date_time_sin\"] = sin_encode(seconds, seconds_in_day)\n",
    "    x[\"date_time_cos\"] = cos_encode(seconds, seconds_in_day)\n",
    "\n",
    "    # impute with zeros\n",
    "    x.replace([np.inf, -np.inf], np.nan, inplace=True)\n",
    "    x.fillna(0, inplace=True)\n",
    "\n",
    "    # standardize continous columns (w/o date features)\n",
    "    # bin encode categorical features\n",
    "    try:\n",
    "        x[num_cols] = scaler.transform(x[num_cols])\n",
    "        x[\"bin_option_type\"] = oe_option_type.transform(\n",
    "            data[\"OPTION_TYPE\"].astype(str).values.reshape(-1, 1)\n",
    "        )\n",
    "        x[\"bin_issue_type\"] = oe_issue_type.transform(\n",
    "            data[\"issue_type\"].astype(str).values.reshape(-1, 1)\n",
    "        )\n",
    "        x[\"bin_root\"] = oe_root.transform(\n",
    "            data[\"ROOT\"].astype(str).values.reshape(-1, 1)\n",
    "        )\n",
    "        print(\"transform (val + test)\")\n",
    "    except NotFittedError as e:\n",
    "        x[num_cols] = scaler.fit_transform(x[num_cols])\n",
    "        x[\"bin_option_type\"] = oe_option_type.fit_transform(\n",
    "            data[\"OPTION_TYPE\"].astype(str).values.reshape(-1, 1)\n",
    "        )\n",
    "        x[\"bin_issue_type\"] = oe_issue_type.fit_transform(\n",
    "            data[\"issue_type\"].astype(str).values.reshape(-1, 1)\n",
    "        )\n",
    "        x[\"bin_root\"] = oe_root.fit_transform(\n",
    "            data[\"ROOT\"].astype(str).values.reshape(-1, 1)\n",
    "        )\n",
    "        print(\"fit_transform (train)\")\n",
    "\n",
    "    x[\"buy_sell\"] = data[\"buy_sell\"]\n",
    "    return x\n"
   ]
  },
  {
   "cell_type": "markdown",
   "metadata": {
    "id": "3gKBgTbBivfS"
   },
   "source": [
    "## Write to file"
   ]
  },
  {
   "cell_type": "code",
   "execution_count": 6,
   "metadata": {
    "colab": {
     "base_uri": "https://localhost:8080/"
    },
    "id": "0b-3AOjcivfT",
    "outputId": "241094f0-0cda-44a8-e377-d5809d6ca1bd"
   },
   "outputs": [
    {
     "name": "stderr",
     "output_type": "stream",
     "text": [
      "/home/kit/stud/uloak/.local/lib/python3.8/site-packages/google/auth/_default.py:83: UserWarning: Your application has authenticated using end user credentials from Google Cloud SDK without a quota project. You might receive a \"quota exceeded\" or \"API not enabled\" error. We recommend you rerun `gcloud auth application-default login` and make sure a quota project is added. Or you can use service accounts instead. For more information about service accounts, see https://cloud.google.com/docs/authentication/\n",
      "  warnings.warn(_CLOUD_SDK_CREDENTIALS_WARNING)\n"
     ]
    },
    {
     "name": "stdout",
     "output_type": "stream",
     "text": [
      "fit_transform (train)\n",
      "transform (val + test)\n",
      "transform (val + test)\n"
     ]
    }
   ],
   "source": [
    "os.environ[\"GCLOUD_PROJECT\"] = \"flowing-mantis-239216\"\n",
    "\n",
    "name = \"ise_log_standardized\"\n",
    "\n",
    "train = pd.read_parquet(\n",
    "    f\"gs://thesis-bucket-option-trade-classification/data/preprocessed/train_set_ultra_60.parquet\",\n",
    "    engine=\"fastparquet\",\n",
    ")\n",
    "\n",
    "output_path = (\n",
    "    f\"gs://thesis-bucket-option-trade-classification/data/{name}/train_set_60.parquet\"\n",
    ")\n",
    "train = transform(train)\n",
    "train.to_parquet(output_path)\n",
    "del train\n",
    "gc.collect()\n",
    "\n",
    "val = pd.read_parquet(\n",
    "    f\"gs://thesis-bucket-option-trade-classification/data/preprocessed/val_set_ultra_20.parquet\",\n",
    "    engine=\"fastparquet\",\n",
    ")\n",
    "\n",
    "output_path = (\n",
    "    f\"gs://thesis-bucket-option-trade-classification/data/{name}/val_set_20.parquet\"\n",
    ")\n",
    "val = transform(val)\n",
    "val.to_parquet(output_path)\n",
    "del val\n",
    "gc.collect()\n",
    "\n",
    "test = pd.read_parquet(\n",
    "    f\"gs://thesis-bucket-option-trade-classification/data/preprocessed/test_set_ultra_20.parquet\",\n",
    "    engine=\"fastparquet\",\n",
    ")\n",
    "\n",
    "output_path = (\n",
    "    f\"gs://thesis-bucket-option-trade-classification/data/{name}/test_set_20.parquet\"\n",
    ")\n",
    "test = transform(test)\n",
    "test.to_parquet(output_path)\n"
   ]
  },
  {
   "cell_type": "code",
   "execution_count": 7,
   "metadata": {
    "colab": {
     "base_uri": "https://localhost:8080/"
    },
    "id": "7nckXr-Zjbu_",
    "outputId": "6ed5f05b-414a-4ff7-f556-a9459237bcbd"
   },
   "outputs": [
    {
     "name": "stderr",
     "output_type": "stream",
     "text": [
      "/home/kit/stud/uloak/.local/lib/python3.8/site-packages/google/auth/_default.py:83: UserWarning: Your application has authenticated using end user credentials from Google Cloud SDK without a quota project. You might receive a \"quota exceeded\" or \"API not enabled\" error. We recommend you rerun `gcloud auth application-default login` and make sure a quota project is added. Or you can use service accounts instead. For more information about service accounts, see https://cloud.google.com/docs/authentication/\n",
      "  warnings.warn(_CLOUD_SDK_CREDENTIALS_WARNING)\n"
     ]
    },
    {
     "data": {
      "text/plain": [
       "<wandb.sdk.wandb_artifacts.Artifact at 0x14d575f70250>"
      ]
     },
     "execution_count": 7,
     "metadata": {},
     "output_type": "execute_result"
    }
   ],
   "source": [
    "name = \"ise_log_standardized\"\n",
    "dataset = wandb.Artifact(name=name, type=\"preprocessed_data\")\n",
    "dataset.add_reference(\n",
    "    \"gs://thesis-bucket-option-trade-classification/data/ise_log_standardized/train_set_60.parquet\"\n",
    ")\n",
    "dataset.add_reference(\n",
    "    \"gs://thesis-bucket-option-trade-classification/data/ise_log_standardized/val_set_20.parquet\"\n",
    ")\n",
    "dataset.add_reference(\n",
    "    \"gs://thesis-bucket-option-trade-classification/data/ise_log_standardized/test_set_20.parquet\"\n",
    ")\n",
    "run.log_artifact(dataset)\n"
   ]
  },
  {
   "cell_type": "code",
   "execution_count": 8,
   "metadata": {
    "colab": {
     "base_uri": "https://localhost:8080/",
     "height": 150,
     "referenced_widgets": [
      "ee5e1708a46e4482ac3cf3503b93768c",
      "1a4b7cb45af740c2a478d9c373ca5f29",
      "f20cba5b85034b5da27053bc8aa3654d",
      "7fe0647ce12c4bf692a7ac53012382e3",
      "d3dc706c028543b984c8c5d03c24f423",
      "bb64f157b299411a8b928170ad21eea0",
      "81bd7aeb297846c48d10d478f88ccf0d",
      "59a979cc57ab4d6eac3625bc79aa1fd5"
     ]
    },
    "id": "1S59KLUwivfX",
    "outputId": "9e761cc0-37cc-47c5-d936-bdb1f433db81"
   },
   "outputs": [
    {
     "data": {
      "text/html": [
       "Waiting for W&B process to finish... <strong style=\"color:green\">(success).</strong>"
      ],
      "text/plain": [
       "<IPython.core.display.HTML object>"
      ]
     },
     "metadata": {},
     "output_type": "display_data"
    },
    {
     "data": {
      "text/html": [
       "Synced <strong style=\"color:#cdcd00\">sleek-puddle-744</strong>: <a href=\"https://wandb.ai/fbv/thesis/runs/16yahq7g\" target=\"_blank\">https://wandb.ai/fbv/thesis/runs/16yahq7g</a><br/>Synced 5 W&B file(s), 0 media file(s), 0 artifact file(s) and 0 other file(s)"
      ],
      "text/plain": [
       "<IPython.core.display.HTML object>"
      ]
     },
     "metadata": {},
     "output_type": "display_data"
    },
    {
     "data": {
      "text/html": [
       "Find logs at: <code>./wandb/run-20230123_113239-16yahq7g/logs</code>"
      ],
      "text/plain": [
       "<IPython.core.display.HTML object>"
      ]
     },
     "metadata": {},
     "output_type": "display_data"
    }
   ],
   "source": [
    "run.finish()\n"
   ]
  },
  {
   "cell_type": "markdown",
   "metadata": {
    "id": "H8u4au_6XAMx"
   },
   "source": [
    "## Adversarial Validation\n",
    "> Adversarial Validation is a technique allowing you to easily estimate the degree of difference between your training and test data. This technique was long rumored among Kaggle participants and transmitted from team to team until it emerged publicly thanks to a post by Zygmunt Zając (https://www.kaggle.com/zygmunt) on his FastML blog. (adapted from Banchawicz et. al)"
   ]
  },
  {
   "cell_type": "code",
   "execution_count": null,
   "metadata": {
    "id": "GKpvTE4EXAM0",
    "outputId": "222f6a61-548f-4f1c-8064-caffcdfe637e"
   },
   "outputs": [
    {
     "name": "stderr",
     "output_type": "stream",
     "text": [
      "/scratch/slurm_tmpdir/job_21630142/ipykernel_178040/144586287.py:1: FutureWarning: The frame.append method is deprecated and will be removed from pandas in a future version. Use pandas.concat instead.\n",
      "  X = train.append(test)\n"
     ]
    }
   ],
   "source": [
    "X = train.append(test)\n",
    "X.drop(columns=[\"buy_sell\", \"date_year\"], inplace=True)\n",
    "# assign zeros to train set and ones to test set\n",
    "y = [0] * len(train) + [1] * len(test)\n"
   ]
  },
  {
   "cell_type": "code",
   "execution_count": null,
   "metadata": {
    "colab": {
     "base_uri": "https://localhost:8080/"
    },
    "id": "gD9UTJqf6e6Z",
    "outputId": "fac98d42-cf25-41e8-8c31-cf058d7f920f"
   },
   "outputs": [
    {
     "data": {
      "text/plain": [
       "Index(['TRADE_PRICE', 'bid_ask_size_ratio_ex', 'rel_bid_size_ex',\n",
       "       'rel_ask_size_ex', 'depth_ex', 'prox_ex', 'prox_best', 'spread_ex',\n",
       "       'spread_best', 'bid_ask_ratio_ex', 'price_rel_nbo', 'price_rel_nbb',\n",
       "       'chg_ex_lead', 'chg_ex_lag', 'chg_all_lead', 'chg_all_lag', 'ask_ex',\n",
       "       'bid_ex', 'BEST_ASK', 'BEST_BID', 'price_all_lag', 'price_all_lead',\n",
       "       'price_ex_lag', 'price_ex_lead', 'TRADE_SIZE', 'bid_size_ex',\n",
       "       'ask_size_ex', 'day_vol', 'myn', 'STRK_PRC', 'mid_ex', 'mid_best',\n",
       "       'ttm', 'date_month_sin', 'date_month_cos', 'date_day_sin',\n",
       "       'date_day_cos', 'date_weekday_sin', 'date_weekday_cos', 'date_time_sin',\n",
       "       'date_time_cos', 'bin_option_type', 'bin_issue_type', 'bin_root'],\n",
       "      dtype='object')"
      ]
     },
     "execution_count": 18,
     "metadata": {},
     "output_type": "execute_result"
    }
   ],
   "source": [
    "X.columns\n"
   ]
  },
  {
   "cell_type": "code",
   "execution_count": null,
   "metadata": {
    "id": "tperioc56aCt"
   },
   "outputs": [],
   "source": [
    "# perform cv with catboost classifier\n",
    "cat_features = [\"bin_option_type\", \"bin_root\", \"bin_issue_type\"]\n",
    "\n",
    "model = CatBoostClassifier(\n",
    "    max_depth=4,\n",
    "    task_type=\"CPU\",\n",
    "    # cat_features=cat_features,\n",
    "    logging_level=\"Silent\",\n",
    ")\n"
   ]
  },
  {
   "cell_type": "code",
   "execution_count": null,
   "metadata": {
    "id": "zCCzOGTF645w"
   },
   "outputs": [],
   "source": [
    "cv_results = cross_validate(model, X, y, cv=3, return_estimator=True)\n"
   ]
  },
  {
   "cell_type": "code",
   "execution_count": null,
   "metadata": {
    "colab": {
     "base_uri": "https://localhost:8080/"
    },
    "id": "0GJzmEJy_xg3",
    "outputId": "55c16c7a-2788-4575-8070-2237395bd797"
   },
   "outputs": [
    {
     "name": "stdout",
     "output_type": "stream",
     "text": [
      "{'fit_time': array([878.2867291 , 984.46557117, 990.86366677]), 'score_time': array([5.86397052, 4.73058748, 5.01639771]), 'estimator': [<catboost.core.CatBoostClassifier object at 0x147fbb147b50>, <catboost.core.CatBoostClassifier object at 0x147fb88c4e80>, <catboost.core.CatBoostClassifier object at 0x147fb88caf70>], 'test_score': array([0.79481789, 0.66661843, 0.69676893])}\n"
     ]
    }
   ],
   "source": [
    "print(cv_results)\n"
   ]
  },
  {
   "cell_type": "code",
   "execution_count": null,
   "metadata": {
    "colab": {
     "base_uri": "https://localhost:8080/",
     "height": 1000
    },
    "id": "-JQp6c5zC_QH",
    "outputId": "fddc4f2d-7917-4b15-c3f4-c57c15a20321"
   },
   "outputs": [
    {
     "data": {
      "text/html": [
       "<div>\n",
       "<style scoped>\n",
       "    .dataframe tbody tr th:only-of-type {\n",
       "        vertical-align: middle;\n",
       "    }\n",
       "\n",
       "    .dataframe tbody tr th {\n",
       "        vertical-align: top;\n",
       "    }\n",
       "\n",
       "    .dataframe thead th {\n",
       "        text-align: right;\n",
       "    }\n",
       "</style>\n",
       "<table border=\"1\" class=\"dataframe\">\n",
       "  <thead>\n",
       "    <tr style=\"text-align: right;\">\n",
       "      <th></th>\n",
       "      <th>Feature Id</th>\n",
       "      <th>Importances</th>\n",
       "    </tr>\n",
       "  </thead>\n",
       "  <tbody>\n",
       "    <tr>\n",
       "      <th>0</th>\n",
       "      <td>date_day_sin</td>\n",
       "      <td>24.495673</td>\n",
       "    </tr>\n",
       "    <tr>\n",
       "      <th>1</th>\n",
       "      <td>date_month_sin</td>\n",
       "      <td>18.708696</td>\n",
       "    </tr>\n",
       "    <tr>\n",
       "      <th>2</th>\n",
       "      <td>date_day_cos</td>\n",
       "      <td>15.879051</td>\n",
       "    </tr>\n",
       "    <tr>\n",
       "      <th>3</th>\n",
       "      <td>date_month_cos</td>\n",
       "      <td>11.996232</td>\n",
       "    </tr>\n",
       "    <tr>\n",
       "      <th>4</th>\n",
       "      <td>date_weekday_sin</td>\n",
       "      <td>9.701744</td>\n",
       "    </tr>\n",
       "    <tr>\n",
       "      <th>5</th>\n",
       "      <td>date_weekday_cos</td>\n",
       "      <td>9.242320</td>\n",
       "    </tr>\n",
       "    <tr>\n",
       "      <th>6</th>\n",
       "      <td>bin_root</td>\n",
       "      <td>3.893286</td>\n",
       "    </tr>\n",
       "    <tr>\n",
       "      <th>7</th>\n",
       "      <td>STRK_PRC</td>\n",
       "      <td>2.008321</td>\n",
       "    </tr>\n",
       "    <tr>\n",
       "      <th>8</th>\n",
       "      <td>spread_best</td>\n",
       "      <td>0.462539</td>\n",
       "    </tr>\n",
       "    <tr>\n",
       "      <th>9</th>\n",
       "      <td>bin_issue_type</td>\n",
       "      <td>0.424255</td>\n",
       "    </tr>\n",
       "    <tr>\n",
       "      <th>10</th>\n",
       "      <td>bid_ask_ratio_ex</td>\n",
       "      <td>0.384212</td>\n",
       "    </tr>\n",
       "    <tr>\n",
       "      <th>11</th>\n",
       "      <td>myn</td>\n",
       "      <td>0.372610</td>\n",
       "    </tr>\n",
       "    <tr>\n",
       "      <th>12</th>\n",
       "      <td>bid_size_ex</td>\n",
       "      <td>0.349803</td>\n",
       "    </tr>\n",
       "    <tr>\n",
       "      <th>13</th>\n",
       "      <td>spread_ex</td>\n",
       "      <td>0.335171</td>\n",
       "    </tr>\n",
       "    <tr>\n",
       "      <th>14</th>\n",
       "      <td>prox_ex</td>\n",
       "      <td>0.318147</td>\n",
       "    </tr>\n",
       "    <tr>\n",
       "      <th>15</th>\n",
       "      <td>ask_size_ex</td>\n",
       "      <td>0.314604</td>\n",
       "    </tr>\n",
       "    <tr>\n",
       "      <th>16</th>\n",
       "      <td>ttm</td>\n",
       "      <td>0.164527</td>\n",
       "    </tr>\n",
       "    <tr>\n",
       "      <th>17</th>\n",
       "      <td>price_rel_nbb</td>\n",
       "      <td>0.158942</td>\n",
       "    </tr>\n",
       "    <tr>\n",
       "      <th>18</th>\n",
       "      <td>price_rel_nbo</td>\n",
       "      <td>0.114546</td>\n",
       "    </tr>\n",
       "    <tr>\n",
       "      <th>19</th>\n",
       "      <td>chg_all_lag</td>\n",
       "      <td>0.079555</td>\n",
       "    </tr>\n",
       "    <tr>\n",
       "      <th>20</th>\n",
       "      <td>date_time_sin</td>\n",
       "      <td>0.061141</td>\n",
       "    </tr>\n",
       "    <tr>\n",
       "      <th>21</th>\n",
       "      <td>chg_all_lead</td>\n",
       "      <td>0.052258</td>\n",
       "    </tr>\n",
       "    <tr>\n",
       "      <th>22</th>\n",
       "      <td>bin_option_type</td>\n",
       "      <td>0.047362</td>\n",
       "    </tr>\n",
       "    <tr>\n",
       "      <th>23</th>\n",
       "      <td>BEST_BID</td>\n",
       "      <td>0.047204</td>\n",
       "    </tr>\n",
       "    <tr>\n",
       "      <th>24</th>\n",
       "      <td>day_vol</td>\n",
       "      <td>0.038539</td>\n",
       "    </tr>\n",
       "    <tr>\n",
       "      <th>25</th>\n",
       "      <td>rel_bid_size_ex</td>\n",
       "      <td>0.037698</td>\n",
       "    </tr>\n",
       "    <tr>\n",
       "      <th>26</th>\n",
       "      <td>price_ex_lag</td>\n",
       "      <td>0.035637</td>\n",
       "    </tr>\n",
       "    <tr>\n",
       "      <th>27</th>\n",
       "      <td>rel_ask_size_ex</td>\n",
       "      <td>0.031937</td>\n",
       "    </tr>\n",
       "    <tr>\n",
       "      <th>28</th>\n",
       "      <td>ask_ex</td>\n",
       "      <td>0.024018</td>\n",
       "    </tr>\n",
       "    <tr>\n",
       "      <th>29</th>\n",
       "      <td>price_ex_lead</td>\n",
       "      <td>0.023778</td>\n",
       "    </tr>\n",
       "    <tr>\n",
       "      <th>30</th>\n",
       "      <td>TRADE_SIZE</td>\n",
       "      <td>0.021590</td>\n",
       "    </tr>\n",
       "    <tr>\n",
       "      <th>31</th>\n",
       "      <td>BEST_ASK</td>\n",
       "      <td>0.021073</td>\n",
       "    </tr>\n",
       "    <tr>\n",
       "      <th>32</th>\n",
       "      <td>price_all_lag</td>\n",
       "      <td>0.018656</td>\n",
       "    </tr>\n",
       "    <tr>\n",
       "      <th>33</th>\n",
       "      <td>mid_ex</td>\n",
       "      <td>0.018557</td>\n",
       "    </tr>\n",
       "    <tr>\n",
       "      <th>34</th>\n",
       "      <td>chg_ex_lead</td>\n",
       "      <td>0.018215</td>\n",
       "    </tr>\n",
       "    <tr>\n",
       "      <th>35</th>\n",
       "      <td>price_all_lead</td>\n",
       "      <td>0.017053</td>\n",
       "    </tr>\n",
       "    <tr>\n",
       "      <th>36</th>\n",
       "      <td>bid_ask_size_ratio_ex</td>\n",
       "      <td>0.016729</td>\n",
       "    </tr>\n",
       "    <tr>\n",
       "      <th>37</th>\n",
       "      <td>depth_ex</td>\n",
       "      <td>0.016350</td>\n",
       "    </tr>\n",
       "    <tr>\n",
       "      <th>38</th>\n",
       "      <td>chg_ex_lag</td>\n",
       "      <td>0.014593</td>\n",
       "    </tr>\n",
       "    <tr>\n",
       "      <th>39</th>\n",
       "      <td>bid_ex</td>\n",
       "      <td>0.013866</td>\n",
       "    </tr>\n",
       "    <tr>\n",
       "      <th>40</th>\n",
       "      <td>TRADE_PRICE</td>\n",
       "      <td>0.012104</td>\n",
       "    </tr>\n",
       "    <tr>\n",
       "      <th>41</th>\n",
       "      <td>prox_best</td>\n",
       "      <td>0.003697</td>\n",
       "    </tr>\n",
       "    <tr>\n",
       "      <th>42</th>\n",
       "      <td>mid_best</td>\n",
       "      <td>0.002025</td>\n",
       "    </tr>\n",
       "    <tr>\n",
       "      <th>43</th>\n",
       "      <td>date_time_cos</td>\n",
       "      <td>0.001687</td>\n",
       "    </tr>\n",
       "  </tbody>\n",
       "</table>\n",
       "</div>"
      ],
      "text/plain": [
       "               Feature Id  Importances\n",
       "0            date_day_sin    24.495673\n",
       "1          date_month_sin    18.708696\n",
       "2            date_day_cos    15.879051\n",
       "3          date_month_cos    11.996232\n",
       "4        date_weekday_sin     9.701744\n",
       "5        date_weekday_cos     9.242320\n",
       "6                bin_root     3.893286\n",
       "7                STRK_PRC     2.008321\n",
       "8             spread_best     0.462539\n",
       "9          bin_issue_type     0.424255\n",
       "10       bid_ask_ratio_ex     0.384212\n",
       "11                    myn     0.372610\n",
       "12            bid_size_ex     0.349803\n",
       "13              spread_ex     0.335171\n",
       "14                prox_ex     0.318147\n",
       "15            ask_size_ex     0.314604\n",
       "16                    ttm     0.164527\n",
       "17          price_rel_nbb     0.158942\n",
       "18          price_rel_nbo     0.114546\n",
       "19            chg_all_lag     0.079555\n",
       "20          date_time_sin     0.061141\n",
       "21           chg_all_lead     0.052258\n",
       "22        bin_option_type     0.047362\n",
       "23               BEST_BID     0.047204\n",
       "24                day_vol     0.038539\n",
       "25        rel_bid_size_ex     0.037698\n",
       "26           price_ex_lag     0.035637\n",
       "27        rel_ask_size_ex     0.031937\n",
       "28                 ask_ex     0.024018\n",
       "29          price_ex_lead     0.023778\n",
       "30             TRADE_SIZE     0.021590\n",
       "31               BEST_ASK     0.021073\n",
       "32          price_all_lag     0.018656\n",
       "33                 mid_ex     0.018557\n",
       "34            chg_ex_lead     0.018215\n",
       "35         price_all_lead     0.017053\n",
       "36  bid_ask_size_ratio_ex     0.016729\n",
       "37               depth_ex     0.016350\n",
       "38             chg_ex_lag     0.014593\n",
       "39                 bid_ex     0.013866\n",
       "40            TRADE_PRICE     0.012104\n",
       "41              prox_best     0.003697\n",
       "42               mid_best     0.002025\n",
       "43          date_time_cos     0.001687"
      ]
     },
     "execution_count": 22,
     "metadata": {},
     "output_type": "execute_result"
    }
   ],
   "source": [
    "cv_results[\"estimator\"][0].get_feature_importance(prettified=True)\n"
   ]
  }
 ],
 "metadata": {
  "accelerator": "GPU",
  "colab": {
   "machine_shape": "hm",
   "name": "Untitled2.ipynb",
   "provenance": []
  },
  "gpuClass": "premium",
  "kernelspec": {
   "display_name": "Python 3",
   "language": "python",
   "name": "python3"
  },
  "language_info": {
   "codemirror_mode": {
    "name": "ipython",
    "version": 3
   },
   "file_extension": ".py",
   "mimetype": "text/x-python",
   "name": "python",
   "nbconvert_exporter": "python",
   "pygments_lexer": "ipython3",
   "version": "3.9.4"
  },
  "vscode": {
   "interpreter": {
    "hash": "f8ea8b642289b706932f10b33ee389827410dbaef0ce2c5bf73615e8d3267d88"
   }
  },
  "widgets": {
   "application/vnd.jupyter.widget-state+json": {
    "1a4b7cb45af740c2a478d9c373ca5f29": {
     "model_module": "@jupyter-widgets/controls",
     "model_module_version": "1.5.0",
     "model_name": "LabelModel",
     "state": {
      "_dom_classes": [],
      "_model_module": "@jupyter-widgets/controls",
      "_model_module_version": "1.5.0",
      "_model_name": "LabelModel",
      "_view_count": null,
      "_view_module": "@jupyter-widgets/controls",
      "_view_module_version": "1.5.0",
      "_view_name": "LabelView",
      "description": "",
      "description_tooltip": null,
      "layout": "IPY_MODEL_d3dc706c028543b984c8c5d03c24f423",
      "placeholder": "​",
      "style": "IPY_MODEL_bb64f157b299411a8b928170ad21eea0",
      "value": "0.009 MB of 0.009 MB uploaded (0.000 MB deduped)\r"
     }
    },
    "59a979cc57ab4d6eac3625bc79aa1fd5": {
     "model_module": "@jupyter-widgets/controls",
     "model_module_version": "1.5.0",
     "model_name": "ProgressStyleModel",
     "state": {
      "_model_module": "@jupyter-widgets/controls",
      "_model_module_version": "1.5.0",
      "_model_name": "ProgressStyleModel",
      "_view_count": null,
      "_view_module": "@jupyter-widgets/base",
      "_view_module_version": "1.2.0",
      "_view_name": "StyleView",
      "bar_color": null,
      "description_width": ""
     }
    },
    "7fe0647ce12c4bf692a7ac53012382e3": {
     "model_module": "@jupyter-widgets/base",
     "model_module_version": "1.2.0",
     "model_name": "LayoutModel",
     "state": {
      "_model_module": "@jupyter-widgets/base",
      "_model_module_version": "1.2.0",
      "_model_name": "LayoutModel",
      "_view_count": null,
      "_view_module": "@jupyter-widgets/base",
      "_view_module_version": "1.2.0",
      "_view_name": "LayoutView",
      "align_content": null,
      "align_items": null,
      "align_self": null,
      "border": null,
      "bottom": null,
      "display": null,
      "flex": null,
      "flex_flow": null,
      "grid_area": null,
      "grid_auto_columns": null,
      "grid_auto_flow": null,
      "grid_auto_rows": null,
      "grid_column": null,
      "grid_gap": null,
      "grid_row": null,
      "grid_template_areas": null,
      "grid_template_columns": null,
      "grid_template_rows": null,
      "height": null,
      "justify_content": null,
      "justify_items": null,
      "left": null,
      "margin": null,
      "max_height": null,
      "max_width": null,
      "min_height": null,
      "min_width": null,
      "object_fit": null,
      "object_position": null,
      "order": null,
      "overflow": null,
      "overflow_x": null,
      "overflow_y": null,
      "padding": null,
      "right": null,
      "top": null,
      "visibility": null,
      "width": null
     }
    },
    "81bd7aeb297846c48d10d478f88ccf0d": {
     "model_module": "@jupyter-widgets/base",
     "model_module_version": "1.2.0",
     "model_name": "LayoutModel",
     "state": {
      "_model_module": "@jupyter-widgets/base",
      "_model_module_version": "1.2.0",
      "_model_name": "LayoutModel",
      "_view_count": null,
      "_view_module": "@jupyter-widgets/base",
      "_view_module_version": "1.2.0",
      "_view_name": "LayoutView",
      "align_content": null,
      "align_items": null,
      "align_self": null,
      "border": null,
      "bottom": null,
      "display": null,
      "flex": null,
      "flex_flow": null,
      "grid_area": null,
      "grid_auto_columns": null,
      "grid_auto_flow": null,
      "grid_auto_rows": null,
      "grid_column": null,
      "grid_gap": null,
      "grid_row": null,
      "grid_template_areas": null,
      "grid_template_columns": null,
      "grid_template_rows": null,
      "height": null,
      "justify_content": null,
      "justify_items": null,
      "left": null,
      "margin": null,
      "max_height": null,
      "max_width": null,
      "min_height": null,
      "min_width": null,
      "object_fit": null,
      "object_position": null,
      "order": null,
      "overflow": null,
      "overflow_x": null,
      "overflow_y": null,
      "padding": null,
      "right": null,
      "top": null,
      "visibility": null,
      "width": null
     }
    },
    "bb64f157b299411a8b928170ad21eea0": {
     "model_module": "@jupyter-widgets/controls",
     "model_module_version": "1.5.0",
     "model_name": "DescriptionStyleModel",
     "state": {
      "_model_module": "@jupyter-widgets/controls",
      "_model_module_version": "1.5.0",
      "_model_name": "DescriptionStyleModel",
      "_view_count": null,
      "_view_module": "@jupyter-widgets/base",
      "_view_module_version": "1.2.0",
      "_view_name": "StyleView",
      "description_width": ""
     }
    },
    "d3dc706c028543b984c8c5d03c24f423": {
     "model_module": "@jupyter-widgets/base",
     "model_module_version": "1.2.0",
     "model_name": "LayoutModel",
     "state": {
      "_model_module": "@jupyter-widgets/base",
      "_model_module_version": "1.2.0",
      "_model_name": "LayoutModel",
      "_view_count": null,
      "_view_module": "@jupyter-widgets/base",
      "_view_module_version": "1.2.0",
      "_view_name": "LayoutView",
      "align_content": null,
      "align_items": null,
      "align_self": null,
      "border": null,
      "bottom": null,
      "display": null,
      "flex": null,
      "flex_flow": null,
      "grid_area": null,
      "grid_auto_columns": null,
      "grid_auto_flow": null,
      "grid_auto_rows": null,
      "grid_column": null,
      "grid_gap": null,
      "grid_row": null,
      "grid_template_areas": null,
      "grid_template_columns": null,
      "grid_template_rows": null,
      "height": null,
      "justify_content": null,
      "justify_items": null,
      "left": null,
      "margin": null,
      "max_height": null,
      "max_width": null,
      "min_height": null,
      "min_width": null,
      "object_fit": null,
      "object_position": null,
      "order": null,
      "overflow": null,
      "overflow_x": null,
      "overflow_y": null,
      "padding": null,
      "right": null,
      "top": null,
      "visibility": null,
      "width": null
     }
    },
    "ee5e1708a46e4482ac3cf3503b93768c": {
     "model_module": "@jupyter-widgets/controls",
     "model_module_version": "1.5.0",
     "model_name": "VBoxModel",
     "state": {
      "_dom_classes": [],
      "_model_module": "@jupyter-widgets/controls",
      "_model_module_version": "1.5.0",
      "_model_name": "VBoxModel",
      "_view_count": null,
      "_view_module": "@jupyter-widgets/controls",
      "_view_module_version": "1.5.0",
      "_view_name": "VBoxView",
      "box_style": "",
      "children": [
       "IPY_MODEL_1a4b7cb45af740c2a478d9c373ca5f29",
       "IPY_MODEL_f20cba5b85034b5da27053bc8aa3654d"
      ],
      "layout": "IPY_MODEL_7fe0647ce12c4bf692a7ac53012382e3"
     }
    },
    "f20cba5b85034b5da27053bc8aa3654d": {
     "model_module": "@jupyter-widgets/controls",
     "model_module_version": "1.5.0",
     "model_name": "FloatProgressModel",
     "state": {
      "_dom_classes": [],
      "_model_module": "@jupyter-widgets/controls",
      "_model_module_version": "1.5.0",
      "_model_name": "FloatProgressModel",
      "_view_count": null,
      "_view_module": "@jupyter-widgets/controls",
      "_view_module_version": "1.5.0",
      "_view_name": "ProgressView",
      "bar_style": "",
      "description": "",
      "description_tooltip": null,
      "layout": "IPY_MODEL_81bd7aeb297846c48d10d478f88ccf0d",
      "max": 1,
      "min": 0,
      "orientation": "horizontal",
      "style": "IPY_MODEL_59a979cc57ab4d6eac3625bc79aa1fd5",
      "value": 1
     }
    }
   }
  }
 },
 "nbformat": 4,
 "nbformat_minor": 4
}
