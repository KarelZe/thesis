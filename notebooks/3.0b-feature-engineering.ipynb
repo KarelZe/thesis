{
  "cells": [
    {
      "cell_type": "markdown",
      "metadata": {
        "id": "170uxVS5gwZl"
      },
      "source": [
        "Run `pip install -r requirements.txt` first to install all dependencies."
      ]
    },
    {
      "cell_type": "code",
      "source": [
        "!pip install gcsfs==2022.10.0\n",
        "!pip install wandb==0.13.4\n",
        "!pip install fastparquet"
      ],
      "metadata": {
        "colab": {
          "base_uri": "https://localhost:8080/"
        },
        "id": "Fc0zs5GkiZS2",
        "outputId": "06936fa9-fb50-45f3-f7f5-327c31043c30"
      },
      "execution_count": 1,
      "outputs": [
        {
          "output_type": "stream",
          "name": "stdout",
          "text": [
            "Looking in indexes: https://pypi.org/simple, https://us-python.pkg.dev/colab-wheels/public/simple/\n",
            "Requirement already satisfied: gcsfs==2022.10.0 in /usr/local/lib/python3.7/dist-packages (2022.10.0)\n",
            "Requirement already satisfied: requests in /usr/local/lib/python3.7/dist-packages (from gcsfs==2022.10.0) (2.23.0)\n",
            "Requirement already satisfied: decorator>4.1.2 in /usr/local/lib/python3.7/dist-packages (from gcsfs==2022.10.0) (4.4.2)\n",
            "Requirement already satisfied: aiohttp!=4.0.0a0,!=4.0.0a1 in /usr/local/lib/python3.7/dist-packages (from gcsfs==2022.10.0) (3.8.3)\n",
            "Requirement already satisfied: google-auth>=1.2 in /usr/local/lib/python3.7/dist-packages (from gcsfs==2022.10.0) (2.14.1)\n",
            "Requirement already satisfied: google-cloud-storage in /usr/local/lib/python3.7/dist-packages (from gcsfs==2022.10.0) (2.5.0)\n",
            "Requirement already satisfied: google-auth-oauthlib in /usr/local/lib/python3.7/dist-packages (from gcsfs==2022.10.0) (0.4.6)\n",
            "Requirement already satisfied: fsspec==2022.10.0 in /usr/local/lib/python3.7/dist-packages (from gcsfs==2022.10.0) (2022.10.0)\n",
            "Requirement already satisfied: asynctest==0.13.0 in /usr/local/lib/python3.7/dist-packages (from aiohttp!=4.0.0a0,!=4.0.0a1->gcsfs==2022.10.0) (0.13.0)\n",
            "Requirement already satisfied: aiosignal>=1.1.2 in /usr/local/lib/python3.7/dist-packages (from aiohttp!=4.0.0a0,!=4.0.0a1->gcsfs==2022.10.0) (1.3.1)\n",
            "Requirement already satisfied: multidict<7.0,>=4.5 in /usr/local/lib/python3.7/dist-packages (from aiohttp!=4.0.0a0,!=4.0.0a1->gcsfs==2022.10.0) (6.0.2)\n",
            "Requirement already satisfied: typing-extensions>=3.7.4 in /usr/local/lib/python3.7/dist-packages (from aiohttp!=4.0.0a0,!=4.0.0a1->gcsfs==2022.10.0) (4.1.1)\n",
            "Requirement already satisfied: attrs>=17.3.0 in /usr/local/lib/python3.7/dist-packages (from aiohttp!=4.0.0a0,!=4.0.0a1->gcsfs==2022.10.0) (22.1.0)\n",
            "Requirement already satisfied: frozenlist>=1.1.1 in /usr/local/lib/python3.7/dist-packages (from aiohttp!=4.0.0a0,!=4.0.0a1->gcsfs==2022.10.0) (1.3.3)\n",
            "Requirement already satisfied: yarl<2.0,>=1.0 in /usr/local/lib/python3.7/dist-packages (from aiohttp!=4.0.0a0,!=4.0.0a1->gcsfs==2022.10.0) (1.8.1)\n",
            "Requirement already satisfied: charset-normalizer<3.0,>=2.0 in /usr/local/lib/python3.7/dist-packages (from aiohttp!=4.0.0a0,!=4.0.0a1->gcsfs==2022.10.0) (2.1.1)\n",
            "Requirement already satisfied: async-timeout<5.0,>=4.0.0a3 in /usr/local/lib/python3.7/dist-packages (from aiohttp!=4.0.0a0,!=4.0.0a1->gcsfs==2022.10.0) (4.0.2)\n",
            "Requirement already satisfied: rsa<5,>=3.1.4 in /usr/local/lib/python3.7/dist-packages (from google-auth>=1.2->gcsfs==2022.10.0) (4.9)\n",
            "Requirement already satisfied: pyasn1-modules>=0.2.1 in /usr/local/lib/python3.7/dist-packages (from google-auth>=1.2->gcsfs==2022.10.0) (0.2.8)\n",
            "Requirement already satisfied: six>=1.9.0 in /usr/local/lib/python3.7/dist-packages (from google-auth>=1.2->gcsfs==2022.10.0) (1.15.0)\n",
            "Requirement already satisfied: cachetools<6.0,>=2.0.0 in /usr/local/lib/python3.7/dist-packages (from google-auth>=1.2->gcsfs==2022.10.0) (5.2.0)\n",
            "Requirement already satisfied: pyasn1<0.5.0,>=0.4.6 in /usr/local/lib/python3.7/dist-packages (from pyasn1-modules>=0.2.1->google-auth>=1.2->gcsfs==2022.10.0) (0.4.8)\n",
            "Requirement already satisfied: idna>=2.0 in /usr/local/lib/python3.7/dist-packages (from yarl<2.0,>=1.0->aiohttp!=4.0.0a0,!=4.0.0a1->gcsfs==2022.10.0) (2.10)\n",
            "Requirement already satisfied: requests-oauthlib>=0.7.0 in /usr/local/lib/python3.7/dist-packages (from google-auth-oauthlib->gcsfs==2022.10.0) (1.3.1)\n",
            "Requirement already satisfied: oauthlib>=3.0.0 in /usr/local/lib/python3.7/dist-packages (from requests-oauthlib>=0.7.0->google-auth-oauthlib->gcsfs==2022.10.0) (3.2.2)\n",
            "Requirement already satisfied: urllib3!=1.25.0,!=1.25.1,<1.26,>=1.21.1 in /usr/local/lib/python3.7/dist-packages (from requests->gcsfs==2022.10.0) (1.24.3)\n",
            "Requirement already satisfied: chardet<4,>=3.0.2 in /usr/local/lib/python3.7/dist-packages (from requests->gcsfs==2022.10.0) (3.0.4)\n",
            "Requirement already satisfied: certifi>=2017.4.17 in /usr/local/lib/python3.7/dist-packages (from requests->gcsfs==2022.10.0) (2022.9.24)\n",
            "Requirement already satisfied: google-resumable-media>=2.3.2 in /usr/local/lib/python3.7/dist-packages (from google-cloud-storage->gcsfs==2022.10.0) (2.4.0)\n",
            "Requirement already satisfied: google-api-core!=2.0.*,!=2.1.*,!=2.2.*,!=2.3.0,<3.0.0dev,>=1.31.5 in /usr/local/lib/python3.7/dist-packages (from google-cloud-storage->gcsfs==2022.10.0) (2.8.2)\n",
            "Requirement already satisfied: google-cloud-core<3.0dev,>=2.3.0 in /usr/local/lib/python3.7/dist-packages (from google-cloud-storage->gcsfs==2022.10.0) (2.3.2)\n",
            "Requirement already satisfied: googleapis-common-protos<2.0dev,>=1.56.2 in /usr/local/lib/python3.7/dist-packages (from google-api-core!=2.0.*,!=2.1.*,!=2.2.*,!=2.3.0,<3.0.0dev,>=1.31.5->google-cloud-storage->gcsfs==2022.10.0) (1.56.4)\n",
            "Requirement already satisfied: protobuf<5.0.0dev,>=3.15.0 in /usr/local/lib/python3.7/dist-packages (from google-api-core!=2.0.*,!=2.1.*,!=2.2.*,!=2.3.0,<3.0.0dev,>=1.31.5->google-cloud-storage->gcsfs==2022.10.0) (3.19.6)\n",
            "Requirement already satisfied: google-crc32c<2.0dev,>=1.0 in /usr/local/lib/python3.7/dist-packages (from google-resumable-media>=2.3.2->google-cloud-storage->gcsfs==2022.10.0) (1.5.0)\n",
            "Looking in indexes: https://pypi.org/simple, https://us-python.pkg.dev/colab-wheels/public/simple/\n",
            "Requirement already satisfied: wandb==0.13.4 in /usr/local/lib/python3.7/dist-packages (0.13.4)\n",
            "Requirement already satisfied: GitPython>=1.0.0 in /usr/local/lib/python3.7/dist-packages (from wandb==0.13.4) (3.1.29)\n",
            "Requirement already satisfied: PyYAML in /usr/local/lib/python3.7/dist-packages (from wandb==0.13.4) (6.0)\n",
            "Requirement already satisfied: Click!=8.0.0,>=7.0 in /usr/local/lib/python3.7/dist-packages (from wandb==0.13.4) (7.1.2)\n",
            "Requirement already satisfied: setuptools in /usr/local/lib/python3.7/dist-packages (from wandb==0.13.4) (57.4.0)\n",
            "Requirement already satisfied: psutil>=5.0.0 in /usr/local/lib/python3.7/dist-packages (from wandb==0.13.4) (5.4.8)\n",
            "Requirement already satisfied: protobuf!=4.0.*,!=4.21.0,<5,>=3.12.0 in /usr/local/lib/python3.7/dist-packages (from wandb==0.13.4) (3.19.6)\n",
            "Requirement already satisfied: pathtools in /usr/local/lib/python3.7/dist-packages (from wandb==0.13.4) (0.1.2)\n",
            "Requirement already satisfied: requests<3,>=2.0.0 in /usr/local/lib/python3.7/dist-packages (from wandb==0.13.4) (2.23.0)\n",
            "Requirement already satisfied: shortuuid>=0.5.0 in /usr/local/lib/python3.7/dist-packages (from wandb==0.13.4) (1.0.11)\n",
            "Requirement already satisfied: six>=1.13.0 in /usr/local/lib/python3.7/dist-packages (from wandb==0.13.4) (1.15.0)\n",
            "Requirement already satisfied: setproctitle in /usr/local/lib/python3.7/dist-packages (from wandb==0.13.4) (1.3.2)\n",
            "Requirement already satisfied: promise<3,>=2.0 in /usr/local/lib/python3.7/dist-packages (from wandb==0.13.4) (2.3)\n",
            "Requirement already satisfied: docker-pycreds>=0.4.0 in /usr/local/lib/python3.7/dist-packages (from wandb==0.13.4) (0.4.0)\n",
            "Requirement already satisfied: sentry-sdk>=1.0.0 in /usr/local/lib/python3.7/dist-packages (from wandb==0.13.4) (1.9.0)\n",
            "Requirement already satisfied: gitdb<5,>=4.0.1 in /usr/local/lib/python3.7/dist-packages (from GitPython>=1.0.0->wandb==0.13.4) (4.0.9)\n",
            "Requirement already satisfied: typing-extensions>=3.7.4.3 in /usr/local/lib/python3.7/dist-packages (from GitPython>=1.0.0->wandb==0.13.4) (4.1.1)\n",
            "Requirement already satisfied: smmap<6,>=3.0.1 in /usr/local/lib/python3.7/dist-packages (from gitdb<5,>=4.0.1->GitPython>=1.0.0->wandb==0.13.4) (5.0.0)\n",
            "Requirement already satisfied: urllib3!=1.25.0,!=1.25.1,<1.26,>=1.21.1 in /usr/local/lib/python3.7/dist-packages (from requests<3,>=2.0.0->wandb==0.13.4) (1.24.3)\n",
            "Requirement already satisfied: certifi>=2017.4.17 in /usr/local/lib/python3.7/dist-packages (from requests<3,>=2.0.0->wandb==0.13.4) (2022.9.24)\n",
            "Requirement already satisfied: chardet<4,>=3.0.2 in /usr/local/lib/python3.7/dist-packages (from requests<3,>=2.0.0->wandb==0.13.4) (3.0.4)\n",
            "Requirement already satisfied: idna<3,>=2.5 in /usr/local/lib/python3.7/dist-packages (from requests<3,>=2.0.0->wandb==0.13.4) (2.10)\n",
            "Looking in indexes: https://pypi.org/simple, https://us-python.pkg.dev/colab-wheels/public/simple/\n",
            "Requirement already satisfied: fastparquet in /usr/local/lib/python3.7/dist-packages (0.8.1)\n",
            "Requirement already satisfied: numpy>=1.18 in /usr/local/lib/python3.7/dist-packages (from fastparquet) (1.21.6)\n",
            "Requirement already satisfied: cramjam>=2.3.0 in /usr/local/lib/python3.7/dist-packages (from fastparquet) (2.6.2)\n",
            "Requirement already satisfied: fsspec in /usr/local/lib/python3.7/dist-packages (from fastparquet) (2022.10.0)\n",
            "Requirement already satisfied: pandas>=1.1.0 in /usr/local/lib/python3.7/dist-packages (from fastparquet) (1.3.5)\n",
            "Requirement already satisfied: python-dateutil>=2.7.3 in /usr/local/lib/python3.7/dist-packages (from pandas>=1.1.0->fastparquet) (2.8.2)\n",
            "Requirement already satisfied: pytz>=2017.3 in /usr/local/lib/python3.7/dist-packages (from pandas>=1.1.0->fastparquet) (2022.6)\n",
            "Requirement already satisfied: six>=1.5 in /usr/local/lib/python3.7/dist-packages (from python-dateutil>=2.7.3->pandas>=1.1.0->fastparquet) (1.15.0)\n"
          ]
        }
      ]
    },
    {
      "cell_type": "code",
      "execution_count": 2,
      "metadata": {
        "id": "7WXF7w4VyVgG"
      },
      "outputs": [],
      "source": [
        "import gcsfs\n",
        "\n",
        "import numpy as np\n",
        "import pandas as pd\n",
        "\n",
        "import wandb\n",
        "\n",
        "from typing import List, Optional\n",
        "\n",
        "import google.auth\n",
        "from google.colab import auth"
      ]
    },
    {
      "cell_type": "code",
      "execution_count": 3,
      "metadata": {
        "colab": {
          "base_uri": "https://localhost:8080/",
          "height": 104
        },
        "id": "KftC_bFhgwZt",
        "outputId": "44d273ed-1b52-4ab9-8c7c-023c56ba0e1b"
      },
      "outputs": [
        {
          "output_type": "stream",
          "name": "stderr",
          "text": [
            "\u001b[34m\u001b[1mwandb\u001b[0m: Currently logged in as: \u001b[33mkarelze\u001b[0m (\u001b[33mfbv\u001b[0m). Use \u001b[1m`wandb login --relogin`\u001b[0m to force relogin\n"
          ]
        },
        {
          "output_type": "display_data",
          "data": {
            "text/plain": [
              "<IPython.core.display.HTML object>"
            ],
            "text/html": [
              "wandb version 0.13.5 is available!  To upgrade, please run:\n",
              " $ pip install wandb --upgrade"
            ]
          },
          "metadata": {}
        },
        {
          "output_type": "display_data",
          "data": {
            "text/plain": [
              "<IPython.core.display.HTML object>"
            ],
            "text/html": [
              "Tracking run with wandb version 0.13.4"
            ]
          },
          "metadata": {}
        },
        {
          "output_type": "display_data",
          "data": {
            "text/plain": [
              "<IPython.core.display.HTML object>"
            ],
            "text/html": [
              "Run data is saved locally in <code>/content/wandb/run-20221118_121303-me4q3v00</code>"
            ]
          },
          "metadata": {}
        },
        {
          "output_type": "display_data",
          "data": {
            "text/plain": [
              "<IPython.core.display.HTML object>"
            ],
            "text/html": [
              "Syncing run <strong><a href=\"https://wandb.ai/fbv/thesis/runs/me4q3v00\" target=\"_blank\">smooth-thunder-182</a></strong> to <a href=\"https://wandb.ai/fbv/thesis\" target=\"_blank\">Weights & Biases</a> (<a href=\"https://wandb.me/run\" target=\"_blank\">docs</a>)<br/>"
            ]
          },
          "metadata": {}
        }
      ],
      "source": [
        "# connect to weights and biases\n",
        "run = wandb.init(project=\"thesis\", job_type=\"dataset-creation\", entity=\"fbv\")\n",
        "\n",
        "dataset = wandb.Artifact(name=\"train_val_test_w_trade_size\", description=\"train, val, and test set w/o imputation, w/o log, w binning, and additional trade size features.\", type=\"preprocessed_data\")"
      ]
    },
    {
      "cell_type": "code",
      "source": [
        "# connect to google cloud storage\n",
        "auth.authenticate_user()\n",
        "credentials, _ = google.auth.default()\n",
        "fs = gcsfs.GCSFileSystem(project=\"thesis\", token=credentials)"
      ],
      "metadata": {
        "id": "2gpvOcZxq2AP"
      },
      "execution_count": 4,
      "outputs": []
    },
    {
      "cell_type": "code",
      "source": [
        "# reduce number of imported cols due to memory issues\n",
        "columns = [\n",
        "    \"QUOTE_DATETIME\",\n",
        "    \"ROOT\",\n",
        "    \"EXPIRATION\",\n",
        "    \"STRK_PRC\",\n",
        "    \"OPTION_TYPE\",\n",
        "    \"TRADE_SIZE\",\n",
        "    \"TRADE_PRICE\",\n",
        "    \"BEST_BID\",\n",
        "    \"BEST_ASK\",\n",
        "    \"ask_ex\",\n",
        "    \"bid_ex\",\n",
        "    \"bid_size_ex\",\n",
        "    \"ask_size_ex\",\n",
        "    \"price_all_lead\",\n",
        "    \"price_all_lag\",\n",
        "    \"price_ex_lead\",\n",
        "    \"price_ex_lag\",\n",
        "    \"buy_sell\",\n",
        "]"
      ],
      "metadata": {
        "id": "yJViJH1yl_S7"
      },
      "execution_count": 5,
      "outputs": []
    },
    {
      "cell_type": "code",
      "execution_count": 6,
      "metadata": {
        "id": "WmXtH-PEqyQE"
      },
      "outputs": [],
      "source": [
        "train = pd.read_parquet(\n",
        "    f\"gs://thesis-bucket-option-trade-classification/data/preprocessed/train_set_60.parquet\",\n",
        "    engine=\"fastparquet\", columns=columns\n",
        ")\n",
        "val = pd.read_parquet(\n",
        "    f\"gs://thesis-bucket-option-trade-classification/data/preprocessed/val_set_20.parquet\",\n",
        "    engine=\"fastparquet\", columns=columns\n",
        ")\n",
        "test = pd.read_parquet(\n",
        "    f\"gs://thesis-bucket-option-trade-classification/data/preprocessed/test_set_20.parquet\",\n",
        "    engine=\"fastparquet\", columns=columns\n",
        ")\n"
      ]
    },
    {
      "cell_type": "code",
      "execution_count": 7,
      "metadata": {
        "id": "N2ZHX3MpqzKD"
      },
      "outputs": [],
      "source": [
        "# unify for common preprocessing\n",
        "X = pd.concat([train, val, test])"
      ]
    },
    {
      "cell_type": "code",
      "execution_count": 8,
      "metadata": {
        "id": "KWBd4uykoHcl"
      },
      "outputs": [],
      "source": [
        "# isolate target\n",
        "y = X[[\"buy_sell\"]]\n",
        "X = X.drop([\"buy_sell\"], axis=1)"
      ]
    },
    {
      "cell_type": "code",
      "execution_count": 9,
      "metadata": {
        "id": "G4RRb08pyo6p"
      },
      "outputs": [],
      "source": [
        "# option features\n",
        "X[\"time_to_maturity\"] = (X[\"EXPIRATION\"] - X[\"QUOTE_DATETIME\"]).dt.days"
      ]
    },
    {
      "cell_type": "code",
      "source": [
        "# Trade features\n",
        "mid = 0.5 * (X[\"ask_ex\"] + X[\"bid_ex\"])\n",
        "X[\"midpoint_ex\"] = mid\n",
        "X['dis_mid_ex'] = X['TRADE_PRICE'] - mid"
      ],
      "metadata": {
        "id": "7Z2-f0fvmeu-"
      },
      "execution_count": 10,
      "outputs": []
    },
    {
      "cell_type": "code",
      "source": [
        "# Trade size features\n",
        "X['rel_bid_size_ex'] = X['TRADE_SIZE'] / X['bid_size_ex']\n",
        "X['rel_ask_size_ex'] = X['TRADE_SIZE'] / X['ask_size_ex']\n",
        "X['diff_ask_bid_size_ex'] = X['bid_size_ex'] - X['ask_size_ex']"
      ],
      "metadata": {
        "id": "wPeuuNIohiKZ"
      },
      "execution_count": 11,
      "outputs": []
    },
    {
      "cell_type": "code",
      "execution_count": 12,
      "metadata": {
        "id": "BJDU5Wy02WWT"
      },
      "outputs": [],
      "source": [
        "# apply positional encoding to dates\n",
        "X[\"date_month_sin\"] = np.sin(2 * np.pi * X[\"QUOTE_DATETIME\"].dt.year / 12)\n",
        "X[\"date_month_cos\"] = np.cos(2 * np.pi * X[\"QUOTE_DATETIME\"].dt.year / 12)\n",
        "\n",
        "seconds_in_day = 24 * 60 * 60\n",
        "\n",
        "seconds = (X[\"QUOTE_DATETIME\"] - X[\"QUOTE_DATETIME\"].dt.normalize()).dt.total_seconds()\n",
        "\n",
        "X[\"date_time_sin\"] = np.sin(2 * np.pi * seconds / seconds_in_day)\n",
        "X[\"date_time_cos\"] = np.cos(2 * np.pi * seconds / seconds_in_day)\n",
        "\n",
        "# add year\n",
        "X[\"date_year\"] = (X[\"QUOTE_DATETIME\"].dt.year - 2005) / (2017 - 2005)"
      ]
    },
    {
      "cell_type": "code",
      "execution_count": 13,
      "metadata": {
        "id": "W9om1Qh4oHcm"
      },
      "outputs": [],
      "source": [
        "feature_set_date = [\n",
        "    \"date_month_sin\",\n",
        "    \"date_month_cos\",\n",
        "    \"date_time_sin\",\n",
        "    \"date_time_cos\",\n",
        "    \"date_year\",\n",
        "]\n",
        "feature_set_option = [\n",
        "    \"STRK_PRC\",\n",
        "    \"ROOT\",\n",
        "    \"time_to_maturity\",\n",
        "    \"OPTION_TYPE\",\n",
        "]\n",
        "\n",
        "feature_set_trade = [\n",
        "    \"TRADE_SIZE\",\n",
        "    \"TRADE_PRICE\",\n",
        "    \"BEST_ASK\",\n",
        "    \"BEST_BID\",\n",
        "    \"price_ex_lag\",\n",
        "    \"price_ex_lead\",\n",
        "    \"price_all_lag\",\n",
        "    \"price_all_lead\",\n",
        "    \"bid_ex\",\n",
        "    \"ask_ex\",\n",
        "    \"bid_size_ex\",\n",
        "    \"ask_size_ex\",    \n",
        "    \"midpoint_ex\",\n",
        "    \"dis_mid_ex\",\n",
        "    \"rel_bid_size_ex\",\n",
        "    \"rel_ask_size_ex\",\n",
        "    \"diff_ask_bid_size_ex\"\n",
        "]\n",
        "\n",
        "feature_set = [*feature_set_trade, *feature_set_date, *feature_set_option]\n",
        "ignored_features = [x for x in X.columns.tolist() if x not in feature_set]\n",
        "X.drop(columns=ignored_features, inplace=True)\n"
      ]
    },
    {
      "cell_type": "code",
      "execution_count": 14,
      "metadata": {
        "id": "hAZa9rO8oHcn"
      },
      "outputs": [],
      "source": [
        "# log transform\n",
        "log_columns = [\n",
        "    \"TRADE_PRICE\",\n",
        "    \"STRK_PRC\",\n",
        "    \"BEST_ASK\",\n",
        "    \"BEST_BID\",\n",
        "    \"price_ex_lag\",\n",
        "    \"price_ex_lead\",\n",
        "    \"price_all_lag\",\n",
        "    \"price_all_lead\",\n",
        "    \"bid_ex\",\n",
        "    \"ask_ex\",\n",
        "    \"midpoint_ex\",\n",
        "    \"TRADE_SIZE\",\n",
        "    \"bid_size_ex\",\n",
        "    \"ask_size_ex\",\n",
        "]\n",
        "\n",
        "# + 1 to prevent inf\n",
        "# X[log_columns] = np.log(X[log_columns] + 1)\n"
      ]
    },
    {
      "cell_type": "code",
      "execution_count": 15,
      "metadata": {
        "id": "6KmaiY0m5i8X",
        "outputId": "f0d77c1b-75b0-4cc4-ff14-5354bce49298",
        "colab": {
          "base_uri": "https://localhost:8080/"
        }
      },
      "outputs": [
        {
          "output_type": "stream",
          "name": "stdout",
          "text": [
            "['ROOT', 'OPTION_TYPE']\n"
          ]
        }
      ],
      "source": [
        "# binarize\n",
        "\n",
        "# select categorical e. g., option type and strings e. g., ticker\n",
        "cat_columns = X.select_dtypes(include=[\"category\", \"object\"]).columns.tolist()\n",
        "print(cat_columns)\n",
        "\n",
        "# binarize categorical similar to Borisov et al.\n",
        "X[cat_columns] = X[cat_columns].apply(lambda x: pd.factorize(x)[0])\n"
      ]
    },
    {
      "cell_type": "code",
      "execution_count": 16,
      "metadata": {
        "id": "ngZUqSLW_M_8"
      },
      "outputs": [],
      "source": [
        "# treat inf as nan useful for log\n",
        "# X.replace([np.inf, -np.inf], np.nan, inplace=True)"
      ]
    },
    {
      "cell_type": "code",
      "source": [
        "X[\"buy_sell\"] = y"
      ],
      "metadata": {
        "id": "6k-V--KPi-Nw"
      },
      "execution_count": 17,
      "outputs": []
    },
    {
      "cell_type": "code",
      "execution_count": 18,
      "metadata": {
        "id": "BIXLmMcZ5-aC"
      },
      "outputs": [],
      "source": [
        "# separate again for training scaling\n",
        "X_train = X.loc[train.index, :]\n",
        "X_val = X.loc[val.index, :]\n",
        "X_test = X.loc[test.index, :]"
      ]
    },
    {
      "cell_type": "code",
      "source": [
        "X_test.head().T"
      ],
      "metadata": {
        "colab": {
          "base_uri": "https://localhost:8080/",
          "height": 896
        },
        "id": "xaIkkJEbyJqr",
        "outputId": "a6a5491c-d38f-4447-93f1-4816d2e3514a"
      },
      "execution_count": 19,
      "outputs": [
        {
          "output_type": "execute_result",
          "data": {
            "text/plain": [
              "                         39342171     39342172     39342173     39342174  \\\n",
              "ROOT                  4728.000000  8258.000000  8258.000000  6110.000000   \n",
              "STRK_PRC                22.000000   230.000000   260.000000   115.000000   \n",
              "OPTION_TYPE              1.000000     0.000000     0.000000     0.000000   \n",
              "TRADE_SIZE               2.000000     1.000000     1.000000     1.000000   \n",
              "TRADE_PRICE              0.520000     7.820000    28.889999     2.250000   \n",
              "BEST_BID                 0.520000     7.600000    28.799999     1.850000   \n",
              "BEST_ASK                 0.600000     8.150000    32.049999     2.150000   \n",
              "ask_ex                   0.600000     8.150000    32.049999     2.250000   \n",
              "bid_ex                   0.520000     7.600000    28.799999     1.850000   \n",
              "bid_size_ex             31.000000     1.000000     1.000000    10.000000   \n",
              "ask_size_ex             11.000000     1.000000     1.000000    10.000000   \n",
              "price_all_lead           0.570000     8.160000    30.230000     0.640000   \n",
              "price_all_lag            0.460000     8.500000    30.799999     1.480000   \n",
              "price_ex_lead            0.590000     4.970000    29.900000          NaN   \n",
              "price_ex_lag             0.450000     8.370000    29.000000          NaN   \n",
              "time_to_maturity        41.000000    20.000000   440.000000    13.000000   \n",
              "midpoint_ex              0.560000     7.875000    30.424999     2.050000   \n",
              "dis_mid_ex              -0.040000    -0.055000    -1.535000     0.200000   \n",
              "rel_bid_size_ex          0.064516     1.000000     1.000000     0.100000   \n",
              "rel_ask_size_ex          0.181818     1.000000     1.000000     0.100000   \n",
              "diff_ask_bid_size_ex    20.000000     0.000000     0.000000     0.000000   \n",
              "date_month_sin          -0.500000    -0.500000    -0.500000    -0.500000   \n",
              "date_month_cos           0.866025     0.866025     0.866025     0.866025   \n",
              "date_time_sin            0.608761     0.608761     0.608761     0.608761   \n",
              "date_time_cos           -0.793353    -0.793353    -0.793353    -0.793353   \n",
              "date_year                0.833333     0.833333     0.833333     0.833333   \n",
              "buy_sell                -1.000000    -1.000000    -1.000000     1.000000   \n",
              "\n",
              "                         39342175  \n",
              "ROOT                  6110.000000  \n",
              "STRK_PRC               117.000000  \n",
              "OPTION_TYPE              0.000000  \n",
              "TRADE_SIZE               1.000000  \n",
              "TRADE_PRICE              1.700000  \n",
              "BEST_BID                 1.700000  \n",
              "BEST_ASK                 1.950000  \n",
              "ask_ex                   1.950000  \n",
              "bid_ex                   1.700000  \n",
              "bid_size_ex             10.000000  \n",
              "ask_size_ex             10.000000  \n",
              "price_all_lead           0.650000  \n",
              "price_all_lag            2.200000  \n",
              "price_ex_lead                 NaN  \n",
              "price_ex_lag                  NaN  \n",
              "time_to_maturity        41.000000  \n",
              "midpoint_ex              1.825000  \n",
              "dis_mid_ex              -0.125000  \n",
              "rel_bid_size_ex          0.100000  \n",
              "rel_ask_size_ex          0.100000  \n",
              "diff_ask_bid_size_ex     0.000000  \n",
              "date_month_sin          -0.500000  \n",
              "date_month_cos           0.866025  \n",
              "date_time_sin            0.608761  \n",
              "date_time_cos           -0.793353  \n",
              "date_year                0.833333  \n",
              "buy_sell                -1.000000  "
            ],
            "text/html": [
              "\n",
              "  <div id=\"df-30059741-e8c6-4b7c-afff-d47e9aadfae5\">\n",
              "    <div class=\"colab-df-container\">\n",
              "      <div>\n",
              "<style scoped>\n",
              "    .dataframe tbody tr th:only-of-type {\n",
              "        vertical-align: middle;\n",
              "    }\n",
              "\n",
              "    .dataframe tbody tr th {\n",
              "        vertical-align: top;\n",
              "    }\n",
              "\n",
              "    .dataframe thead th {\n",
              "        text-align: right;\n",
              "    }\n",
              "</style>\n",
              "<table border=\"1\" class=\"dataframe\">\n",
              "  <thead>\n",
              "    <tr style=\"text-align: right;\">\n",
              "      <th></th>\n",
              "      <th>39342171</th>\n",
              "      <th>39342172</th>\n",
              "      <th>39342173</th>\n",
              "      <th>39342174</th>\n",
              "      <th>39342175</th>\n",
              "    </tr>\n",
              "  </thead>\n",
              "  <tbody>\n",
              "    <tr>\n",
              "      <th>ROOT</th>\n",
              "      <td>4728.000000</td>\n",
              "      <td>8258.000000</td>\n",
              "      <td>8258.000000</td>\n",
              "      <td>6110.000000</td>\n",
              "      <td>6110.000000</td>\n",
              "    </tr>\n",
              "    <tr>\n",
              "      <th>STRK_PRC</th>\n",
              "      <td>22.000000</td>\n",
              "      <td>230.000000</td>\n",
              "      <td>260.000000</td>\n",
              "      <td>115.000000</td>\n",
              "      <td>117.000000</td>\n",
              "    </tr>\n",
              "    <tr>\n",
              "      <th>OPTION_TYPE</th>\n",
              "      <td>1.000000</td>\n",
              "      <td>0.000000</td>\n",
              "      <td>0.000000</td>\n",
              "      <td>0.000000</td>\n",
              "      <td>0.000000</td>\n",
              "    </tr>\n",
              "    <tr>\n",
              "      <th>TRADE_SIZE</th>\n",
              "      <td>2.000000</td>\n",
              "      <td>1.000000</td>\n",
              "      <td>1.000000</td>\n",
              "      <td>1.000000</td>\n",
              "      <td>1.000000</td>\n",
              "    </tr>\n",
              "    <tr>\n",
              "      <th>TRADE_PRICE</th>\n",
              "      <td>0.520000</td>\n",
              "      <td>7.820000</td>\n",
              "      <td>28.889999</td>\n",
              "      <td>2.250000</td>\n",
              "      <td>1.700000</td>\n",
              "    </tr>\n",
              "    <tr>\n",
              "      <th>BEST_BID</th>\n",
              "      <td>0.520000</td>\n",
              "      <td>7.600000</td>\n",
              "      <td>28.799999</td>\n",
              "      <td>1.850000</td>\n",
              "      <td>1.700000</td>\n",
              "    </tr>\n",
              "    <tr>\n",
              "      <th>BEST_ASK</th>\n",
              "      <td>0.600000</td>\n",
              "      <td>8.150000</td>\n",
              "      <td>32.049999</td>\n",
              "      <td>2.150000</td>\n",
              "      <td>1.950000</td>\n",
              "    </tr>\n",
              "    <tr>\n",
              "      <th>ask_ex</th>\n",
              "      <td>0.600000</td>\n",
              "      <td>8.150000</td>\n",
              "      <td>32.049999</td>\n",
              "      <td>2.250000</td>\n",
              "      <td>1.950000</td>\n",
              "    </tr>\n",
              "    <tr>\n",
              "      <th>bid_ex</th>\n",
              "      <td>0.520000</td>\n",
              "      <td>7.600000</td>\n",
              "      <td>28.799999</td>\n",
              "      <td>1.850000</td>\n",
              "      <td>1.700000</td>\n",
              "    </tr>\n",
              "    <tr>\n",
              "      <th>bid_size_ex</th>\n",
              "      <td>31.000000</td>\n",
              "      <td>1.000000</td>\n",
              "      <td>1.000000</td>\n",
              "      <td>10.000000</td>\n",
              "      <td>10.000000</td>\n",
              "    </tr>\n",
              "    <tr>\n",
              "      <th>ask_size_ex</th>\n",
              "      <td>11.000000</td>\n",
              "      <td>1.000000</td>\n",
              "      <td>1.000000</td>\n",
              "      <td>10.000000</td>\n",
              "      <td>10.000000</td>\n",
              "    </tr>\n",
              "    <tr>\n",
              "      <th>price_all_lead</th>\n",
              "      <td>0.570000</td>\n",
              "      <td>8.160000</td>\n",
              "      <td>30.230000</td>\n",
              "      <td>0.640000</td>\n",
              "      <td>0.650000</td>\n",
              "    </tr>\n",
              "    <tr>\n",
              "      <th>price_all_lag</th>\n",
              "      <td>0.460000</td>\n",
              "      <td>8.500000</td>\n",
              "      <td>30.799999</td>\n",
              "      <td>1.480000</td>\n",
              "      <td>2.200000</td>\n",
              "    </tr>\n",
              "    <tr>\n",
              "      <th>price_ex_lead</th>\n",
              "      <td>0.590000</td>\n",
              "      <td>4.970000</td>\n",
              "      <td>29.900000</td>\n",
              "      <td>NaN</td>\n",
              "      <td>NaN</td>\n",
              "    </tr>\n",
              "    <tr>\n",
              "      <th>price_ex_lag</th>\n",
              "      <td>0.450000</td>\n",
              "      <td>8.370000</td>\n",
              "      <td>29.000000</td>\n",
              "      <td>NaN</td>\n",
              "      <td>NaN</td>\n",
              "    </tr>\n",
              "    <tr>\n",
              "      <th>time_to_maturity</th>\n",
              "      <td>41.000000</td>\n",
              "      <td>20.000000</td>\n",
              "      <td>440.000000</td>\n",
              "      <td>13.000000</td>\n",
              "      <td>41.000000</td>\n",
              "    </tr>\n",
              "    <tr>\n",
              "      <th>midpoint_ex</th>\n",
              "      <td>0.560000</td>\n",
              "      <td>7.875000</td>\n",
              "      <td>30.424999</td>\n",
              "      <td>2.050000</td>\n",
              "      <td>1.825000</td>\n",
              "    </tr>\n",
              "    <tr>\n",
              "      <th>dis_mid_ex</th>\n",
              "      <td>-0.040000</td>\n",
              "      <td>-0.055000</td>\n",
              "      <td>-1.535000</td>\n",
              "      <td>0.200000</td>\n",
              "      <td>-0.125000</td>\n",
              "    </tr>\n",
              "    <tr>\n",
              "      <th>rel_bid_size_ex</th>\n",
              "      <td>0.064516</td>\n",
              "      <td>1.000000</td>\n",
              "      <td>1.000000</td>\n",
              "      <td>0.100000</td>\n",
              "      <td>0.100000</td>\n",
              "    </tr>\n",
              "    <tr>\n",
              "      <th>rel_ask_size_ex</th>\n",
              "      <td>0.181818</td>\n",
              "      <td>1.000000</td>\n",
              "      <td>1.000000</td>\n",
              "      <td>0.100000</td>\n",
              "      <td>0.100000</td>\n",
              "    </tr>\n",
              "    <tr>\n",
              "      <th>diff_ask_bid_size_ex</th>\n",
              "      <td>20.000000</td>\n",
              "      <td>0.000000</td>\n",
              "      <td>0.000000</td>\n",
              "      <td>0.000000</td>\n",
              "      <td>0.000000</td>\n",
              "    </tr>\n",
              "    <tr>\n",
              "      <th>date_month_sin</th>\n",
              "      <td>-0.500000</td>\n",
              "      <td>-0.500000</td>\n",
              "      <td>-0.500000</td>\n",
              "      <td>-0.500000</td>\n",
              "      <td>-0.500000</td>\n",
              "    </tr>\n",
              "    <tr>\n",
              "      <th>date_month_cos</th>\n",
              "      <td>0.866025</td>\n",
              "      <td>0.866025</td>\n",
              "      <td>0.866025</td>\n",
              "      <td>0.866025</td>\n",
              "      <td>0.866025</td>\n",
              "    </tr>\n",
              "    <tr>\n",
              "      <th>date_time_sin</th>\n",
              "      <td>0.608761</td>\n",
              "      <td>0.608761</td>\n",
              "      <td>0.608761</td>\n",
              "      <td>0.608761</td>\n",
              "      <td>0.608761</td>\n",
              "    </tr>\n",
              "    <tr>\n",
              "      <th>date_time_cos</th>\n",
              "      <td>-0.793353</td>\n",
              "      <td>-0.793353</td>\n",
              "      <td>-0.793353</td>\n",
              "      <td>-0.793353</td>\n",
              "      <td>-0.793353</td>\n",
              "    </tr>\n",
              "    <tr>\n",
              "      <th>date_year</th>\n",
              "      <td>0.833333</td>\n",
              "      <td>0.833333</td>\n",
              "      <td>0.833333</td>\n",
              "      <td>0.833333</td>\n",
              "      <td>0.833333</td>\n",
              "    </tr>\n",
              "    <tr>\n",
              "      <th>buy_sell</th>\n",
              "      <td>-1.000000</td>\n",
              "      <td>-1.000000</td>\n",
              "      <td>-1.000000</td>\n",
              "      <td>1.000000</td>\n",
              "      <td>-1.000000</td>\n",
              "    </tr>\n",
              "  </tbody>\n",
              "</table>\n",
              "</div>\n",
              "      <button class=\"colab-df-convert\" onclick=\"convertToInteractive('df-30059741-e8c6-4b7c-afff-d47e9aadfae5')\"\n",
              "              title=\"Convert this dataframe to an interactive table.\"\n",
              "              style=\"display:none;\">\n",
              "        \n",
              "  <svg xmlns=\"http://www.w3.org/2000/svg\" height=\"24px\"viewBox=\"0 0 24 24\"\n",
              "       width=\"24px\">\n",
              "    <path d=\"M0 0h24v24H0V0z\" fill=\"none\"/>\n",
              "    <path d=\"M18.56 5.44l.94 2.06.94-2.06 2.06-.94-2.06-.94-.94-2.06-.94 2.06-2.06.94zm-11 1L8.5 8.5l.94-2.06 2.06-.94-2.06-.94L8.5 2.5l-.94 2.06-2.06.94zm10 10l.94 2.06.94-2.06 2.06-.94-2.06-.94-.94-2.06-.94 2.06-2.06.94z\"/><path d=\"M17.41 7.96l-1.37-1.37c-.4-.4-.92-.59-1.43-.59-.52 0-1.04.2-1.43.59L10.3 9.45l-7.72 7.72c-.78.78-.78 2.05 0 2.83L4 21.41c.39.39.9.59 1.41.59.51 0 1.02-.2 1.41-.59l7.78-7.78 2.81-2.81c.8-.78.8-2.07 0-2.86zM5.41 20L4 18.59l7.72-7.72 1.47 1.35L5.41 20z\"/>\n",
              "  </svg>\n",
              "      </button>\n",
              "      \n",
              "  <style>\n",
              "    .colab-df-container {\n",
              "      display:flex;\n",
              "      flex-wrap:wrap;\n",
              "      gap: 12px;\n",
              "    }\n",
              "\n",
              "    .colab-df-convert {\n",
              "      background-color: #E8F0FE;\n",
              "      border: none;\n",
              "      border-radius: 50%;\n",
              "      cursor: pointer;\n",
              "      display: none;\n",
              "      fill: #1967D2;\n",
              "      height: 32px;\n",
              "      padding: 0 0 0 0;\n",
              "      width: 32px;\n",
              "    }\n",
              "\n",
              "    .colab-df-convert:hover {\n",
              "      background-color: #E2EBFA;\n",
              "      box-shadow: 0px 1px 2px rgba(60, 64, 67, 0.3), 0px 1px 3px 1px rgba(60, 64, 67, 0.15);\n",
              "      fill: #174EA6;\n",
              "    }\n",
              "\n",
              "    [theme=dark] .colab-df-convert {\n",
              "      background-color: #3B4455;\n",
              "      fill: #D2E3FC;\n",
              "    }\n",
              "\n",
              "    [theme=dark] .colab-df-convert:hover {\n",
              "      background-color: #434B5C;\n",
              "      box-shadow: 0px 1px 3px 1px rgba(0, 0, 0, 0.15);\n",
              "      filter: drop-shadow(0px 1px 2px rgba(0, 0, 0, 0.3));\n",
              "      fill: #FFFFFF;\n",
              "    }\n",
              "  </style>\n",
              "\n",
              "      <script>\n",
              "        const buttonEl =\n",
              "          document.querySelector('#df-30059741-e8c6-4b7c-afff-d47e9aadfae5 button.colab-df-convert');\n",
              "        buttonEl.style.display =\n",
              "          google.colab.kernel.accessAllowed ? 'block' : 'none';\n",
              "\n",
              "        async function convertToInteractive(key) {\n",
              "          const element = document.querySelector('#df-30059741-e8c6-4b7c-afff-d47e9aadfae5');\n",
              "          const dataTable =\n",
              "            await google.colab.kernel.invokeFunction('convertToInteractive',\n",
              "                                                     [key], {});\n",
              "          if (!dataTable) return;\n",
              "\n",
              "          const docLinkHtml = 'Like what you see? Visit the ' +\n",
              "            '<a target=\"_blank\" href=https://colab.research.google.com/notebooks/data_table.ipynb>data table notebook</a>'\n",
              "            + ' to learn more about interactive tables.';\n",
              "          element.innerHTML = '';\n",
              "          dataTable['output_type'] = 'display_data';\n",
              "          await google.colab.output.renderOutput(dataTable, element);\n",
              "          const docLink = document.createElement('div');\n",
              "          docLink.innerHTML = docLinkHtml;\n",
              "          element.appendChild(docLink);\n",
              "        }\n",
              "      </script>\n",
              "    </div>\n",
              "  </div>\n",
              "  "
            ]
          },
          "metadata": {},
          "execution_count": 19
        }
      ]
    },
    {
      "cell_type": "code",
      "source": [
        "output_path = f\"gs://thesis-bucket-option-trade-classification/data/fe_w_trade_size_data/train_set_60.parquet\"\n",
        "X_train.to_parquet(output_path)\n",
        "dataset.add_reference(output_path)"
      ],
      "metadata": {
        "colab": {
          "base_uri": "https://localhost:8080/"
        },
        "id": "v4rfdI7Sjgi9",
        "outputId": "c56e09c9-723e-46a4-8333-ab174359448f"
      },
      "execution_count": 20,
      "outputs": [
        {
          "output_type": "execute_result",
          "data": {
            "text/plain": [
              "[<ManifestEntry ref: gs://thesis-bucket-option-trade-classification/data/fe_w_trade_size_data/train_set_60.parquet/train_set_60.parquet>]"
            ]
          },
          "metadata": {},
          "execution_count": 20
        }
      ]
    },
    {
      "cell_type": "code",
      "source": [
        "output_path = f\"gs://thesis-bucket-option-trade-classification/data/fe_w_trade_size_data/val_set_20.parquet\"\n",
        "X_val.to_parquet(output_path)\n",
        "dataset.add_reference(output_path)"
      ],
      "metadata": {
        "colab": {
          "base_uri": "https://localhost:8080/"
        },
        "id": "sbrlb_jujbfT",
        "outputId": "28fe11ed-789c-409c-b8b4-8331a6750d86"
      },
      "execution_count": 21,
      "outputs": [
        {
          "output_type": "execute_result",
          "data": {
            "text/plain": [
              "[<ManifestEntry ref: gs://thesis-bucket-option-trade-classification/data/fe_w_trade_size_data/val_set_20.parquet/val_set_20.parquet>]"
            ]
          },
          "metadata": {},
          "execution_count": 21
        }
      ]
    },
    {
      "cell_type": "code",
      "source": [
        "output_path = f\"gs://thesis-bucket-option-trade-classification/data/fe_w_trade_size_data/test_set_20.parquet\"\n",
        "X_test.to_parquet(output_path)\n",
        "dataset.add_reference(output_path)"
      ],
      "metadata": {
        "colab": {
          "base_uri": "https://localhost:8080/"
        },
        "id": "_ExID71sjVhw",
        "outputId": "cad5d7ed-5bf7-4d2a-fd9d-27abb6647e1a"
      },
      "execution_count": 22,
      "outputs": [
        {
          "output_type": "execute_result",
          "data": {
            "text/plain": [
              "[<ManifestEntry ref: gs://thesis-bucket-option-trade-classification/data/fe_w_trade_size_data/test_set_20.parquet/test_set_20.parquet>]"
            ]
          },
          "metadata": {},
          "execution_count": 22
        }
      ]
    },
    {
      "cell_type": "code",
      "source": [
        "run.log_artifact(dataset)\n",
        "run.finish()"
      ],
      "metadata": {
        "id": "73iNZeBusW6k",
        "outputId": "f424ea86-49c4-47d4-9d2a-1f6d1d7a2477",
        "colab": {
          "base_uri": "https://localhost:8080/",
          "height": 150,
          "referenced_widgets": [
            "5ee8a10d4e9a471f97b30fdaf98f7ab2",
            "b9880d2c8c2142c0b8df11b80134316e",
            "8dadafb6544f46f897ec0d100363b46d",
            "aad40f461a284ca09e60d8aeb39e7d0e",
            "fa1edf9a54fc4c3c823782a9ed250cf9",
            "3f66842063a3417e900cc4643d5fbe9f",
            "e5b495949b7f45bdac204eae7d9e677f",
            "cc90b395b8864f209b646aba4464dcd3"
          ]
        }
      },
      "execution_count": 23,
      "outputs": [
        {
          "output_type": "display_data",
          "data": {
            "text/plain": [
              "<IPython.core.display.HTML object>"
            ],
            "text/html": [
              "Waiting for W&B process to finish... <strong style=\"color:green\">(success).</strong>"
            ]
          },
          "metadata": {}
        },
        {
          "output_type": "display_data",
          "data": {
            "text/plain": [
              "VBox(children=(Label(value='0.001 MB of 0.001 MB uploaded (0.000 MB deduped)\\r'), FloatProgress(value=1.0, max…"
            ],
            "application/vnd.jupyter.widget-view+json": {
              "version_major": 2,
              "version_minor": 0,
              "model_id": "5ee8a10d4e9a471f97b30fdaf98f7ab2"
            }
          },
          "metadata": {}
        },
        {
          "output_type": "display_data",
          "data": {
            "text/plain": [
              "<IPython.core.display.HTML object>"
            ],
            "text/html": [
              "Synced <strong style=\"color:#cdcd00\">smooth-thunder-182</strong>: <a href=\"https://wandb.ai/fbv/thesis/runs/me4q3v00\" target=\"_blank\">https://wandb.ai/fbv/thesis/runs/me4q3v00</a><br/>Synced 5 W&B file(s), 0 media file(s), 0 artifact file(s) and 0 other file(s)"
            ]
          },
          "metadata": {}
        },
        {
          "output_type": "display_data",
          "data": {
            "text/plain": [
              "<IPython.core.display.HTML object>"
            ],
            "text/html": [
              "Find logs at: <code>./wandb/run-20221118_121303-me4q3v00/logs</code>"
            ]
          },
          "metadata": {}
        }
      ]
    }
  ],
  "metadata": {
    "colab": {
      "machine_shape": "hm",
      "name": "Untitled2.ipynb",
      "provenance": []
    },
    "gpuClass": "premium",
    "kernelspec": {
      "display_name": "Python 3.9.4 64-bit",
      "language": "python",
      "name": "python3"
    },
    "language_info": {
      "codemirror_mode": {
        "name": "ipython",
        "version": 3
      },
      "file_extension": ".py",
      "mimetype": "text/x-python",
      "name": "python",
      "nbconvert_exporter": "python",
      "pygments_lexer": "ipython3",
      "version": "3.9.4"
    },
    "vscode": {
      "interpreter": {
        "hash": "f8ea8b642289b706932f10b33ee389827410dbaef0ce2c5bf73615e8d3267d88"
      }
    },
    "widgets": {
      "application/vnd.jupyter.widget-state+json": {
        "5ee8a10d4e9a471f97b30fdaf98f7ab2": {
          "model_module": "@jupyter-widgets/controls",
          "model_name": "VBoxModel",
          "model_module_version": "1.5.0",
          "state": {
            "_dom_classes": [],
            "_model_module": "@jupyter-widgets/controls",
            "_model_module_version": "1.5.0",
            "_model_name": "VBoxModel",
            "_view_count": null,
            "_view_module": "@jupyter-widgets/controls",
            "_view_module_version": "1.5.0",
            "_view_name": "VBoxView",
            "box_style": "",
            "children": [
              "IPY_MODEL_b9880d2c8c2142c0b8df11b80134316e",
              "IPY_MODEL_8dadafb6544f46f897ec0d100363b46d"
            ],
            "layout": "IPY_MODEL_aad40f461a284ca09e60d8aeb39e7d0e"
          }
        },
        "b9880d2c8c2142c0b8df11b80134316e": {
          "model_module": "@jupyter-widgets/controls",
          "model_name": "LabelModel",
          "model_module_version": "1.5.0",
          "state": {
            "_dom_classes": [],
            "_model_module": "@jupyter-widgets/controls",
            "_model_module_version": "1.5.0",
            "_model_name": "LabelModel",
            "_view_count": null,
            "_view_module": "@jupyter-widgets/controls",
            "_view_module_version": "1.5.0",
            "_view_name": "LabelView",
            "description": "",
            "description_tooltip": null,
            "layout": "IPY_MODEL_fa1edf9a54fc4c3c823782a9ed250cf9",
            "placeholder": "​",
            "style": "IPY_MODEL_3f66842063a3417e900cc4643d5fbe9f",
            "value": "0.001 MB of 0.008 MB uploaded (0.000 MB deduped)\r"
          }
        },
        "8dadafb6544f46f897ec0d100363b46d": {
          "model_module": "@jupyter-widgets/controls",
          "model_name": "FloatProgressModel",
          "model_module_version": "1.5.0",
          "state": {
            "_dom_classes": [],
            "_model_module": "@jupyter-widgets/controls",
            "_model_module_version": "1.5.0",
            "_model_name": "FloatProgressModel",
            "_view_count": null,
            "_view_module": "@jupyter-widgets/controls",
            "_view_module_version": "1.5.0",
            "_view_name": "ProgressView",
            "bar_style": "",
            "description": "",
            "description_tooltip": null,
            "layout": "IPY_MODEL_e5b495949b7f45bdac204eae7d9e677f",
            "max": 1,
            "min": 0,
            "orientation": "horizontal",
            "style": "IPY_MODEL_cc90b395b8864f209b646aba4464dcd3",
            "value": 0.06791292001893043
          }
        },
        "aad40f461a284ca09e60d8aeb39e7d0e": {
          "model_module": "@jupyter-widgets/base",
          "model_name": "LayoutModel",
          "model_module_version": "1.2.0",
          "state": {
            "_model_module": "@jupyter-widgets/base",
            "_model_module_version": "1.2.0",
            "_model_name": "LayoutModel",
            "_view_count": null,
            "_view_module": "@jupyter-widgets/base",
            "_view_module_version": "1.2.0",
            "_view_name": "LayoutView",
            "align_content": null,
            "align_items": null,
            "align_self": null,
            "border": null,
            "bottom": null,
            "display": null,
            "flex": null,
            "flex_flow": null,
            "grid_area": null,
            "grid_auto_columns": null,
            "grid_auto_flow": null,
            "grid_auto_rows": null,
            "grid_column": null,
            "grid_gap": null,
            "grid_row": null,
            "grid_template_areas": null,
            "grid_template_columns": null,
            "grid_template_rows": null,
            "height": null,
            "justify_content": null,
            "justify_items": null,
            "left": null,
            "margin": null,
            "max_height": null,
            "max_width": null,
            "min_height": null,
            "min_width": null,
            "object_fit": null,
            "object_position": null,
            "order": null,
            "overflow": null,
            "overflow_x": null,
            "overflow_y": null,
            "padding": null,
            "right": null,
            "top": null,
            "visibility": null,
            "width": null
          }
        },
        "fa1edf9a54fc4c3c823782a9ed250cf9": {
          "model_module": "@jupyter-widgets/base",
          "model_name": "LayoutModel",
          "model_module_version": "1.2.0",
          "state": {
            "_model_module": "@jupyter-widgets/base",
            "_model_module_version": "1.2.0",
            "_model_name": "LayoutModel",
            "_view_count": null,
            "_view_module": "@jupyter-widgets/base",
            "_view_module_version": "1.2.0",
            "_view_name": "LayoutView",
            "align_content": null,
            "align_items": null,
            "align_self": null,
            "border": null,
            "bottom": null,
            "display": null,
            "flex": null,
            "flex_flow": null,
            "grid_area": null,
            "grid_auto_columns": null,
            "grid_auto_flow": null,
            "grid_auto_rows": null,
            "grid_column": null,
            "grid_gap": null,
            "grid_row": null,
            "grid_template_areas": null,
            "grid_template_columns": null,
            "grid_template_rows": null,
            "height": null,
            "justify_content": null,
            "justify_items": null,
            "left": null,
            "margin": null,
            "max_height": null,
            "max_width": null,
            "min_height": null,
            "min_width": null,
            "object_fit": null,
            "object_position": null,
            "order": null,
            "overflow": null,
            "overflow_x": null,
            "overflow_y": null,
            "padding": null,
            "right": null,
            "top": null,
            "visibility": null,
            "width": null
          }
        },
        "3f66842063a3417e900cc4643d5fbe9f": {
          "model_module": "@jupyter-widgets/controls",
          "model_name": "DescriptionStyleModel",
          "model_module_version": "1.5.0",
          "state": {
            "_model_module": "@jupyter-widgets/controls",
            "_model_module_version": "1.5.0",
            "_model_name": "DescriptionStyleModel",
            "_view_count": null,
            "_view_module": "@jupyter-widgets/base",
            "_view_module_version": "1.2.0",
            "_view_name": "StyleView",
            "description_width": ""
          }
        },
        "e5b495949b7f45bdac204eae7d9e677f": {
          "model_module": "@jupyter-widgets/base",
          "model_name": "LayoutModel",
          "model_module_version": "1.2.0",
          "state": {
            "_model_module": "@jupyter-widgets/base",
            "_model_module_version": "1.2.0",
            "_model_name": "LayoutModel",
            "_view_count": null,
            "_view_module": "@jupyter-widgets/base",
            "_view_module_version": "1.2.0",
            "_view_name": "LayoutView",
            "align_content": null,
            "align_items": null,
            "align_self": null,
            "border": null,
            "bottom": null,
            "display": null,
            "flex": null,
            "flex_flow": null,
            "grid_area": null,
            "grid_auto_columns": null,
            "grid_auto_flow": null,
            "grid_auto_rows": null,
            "grid_column": null,
            "grid_gap": null,
            "grid_row": null,
            "grid_template_areas": null,
            "grid_template_columns": null,
            "grid_template_rows": null,
            "height": null,
            "justify_content": null,
            "justify_items": null,
            "left": null,
            "margin": null,
            "max_height": null,
            "max_width": null,
            "min_height": null,
            "min_width": null,
            "object_fit": null,
            "object_position": null,
            "order": null,
            "overflow": null,
            "overflow_x": null,
            "overflow_y": null,
            "padding": null,
            "right": null,
            "top": null,
            "visibility": null,
            "width": null
          }
        },
        "cc90b395b8864f209b646aba4464dcd3": {
          "model_module": "@jupyter-widgets/controls",
          "model_name": "ProgressStyleModel",
          "model_module_version": "1.5.0",
          "state": {
            "_model_module": "@jupyter-widgets/controls",
            "_model_module_version": "1.5.0",
            "_model_name": "ProgressStyleModel",
            "_view_count": null,
            "_view_module": "@jupyter-widgets/base",
            "_view_module_version": "1.2.0",
            "_view_name": "StyleView",
            "bar_color": null,
            "description_width": ""
          }
        }
      }
    }
  },
  "nbformat": 4,
  "nbformat_minor": 0
}