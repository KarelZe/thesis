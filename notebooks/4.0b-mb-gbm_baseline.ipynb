{
  "cells": [
    {
      "cell_type": "markdown",
      "metadata": {
        "colab_type": "text",
        "id": "view-in-github"
      },
      "source": [
        "<a href=\"https://colab.research.google.com/github/KarelZe/thesis/blob/accuracy/notebooks/4.0b-mb-gbm_baseline.ipynb\" target=\"_parent\"><img src=\"https://colab.research.google.com/assets/colab-badge.svg\" alt=\"Open In Colab\"/></a>"
      ]
    },
    {
      "cell_type": "code",
      "execution_count": 1,
      "metadata": {
        "colab": {
          "base_uri": "https://localhost:8080/",
          "height": 1000
        },
        "id": "nxXvpIDU2_t7",
        "outputId": "640d98d7-1bea-4563-ef2d-382b27e53e5d"
      },
      "outputs": [
        {
          "name": "stdout",
          "output_type": "stream",
          "text": [
            "Requirement already satisfied: catboost==1.1 in /usr/local/lib/python3.8/dist-packages (1.1)\n",
            "Requirement already satisfied: scipy in /usr/lib/python3/dist-packages (from catboost==1.1) (1.3.3)\n",
            "Requirement already satisfied: matplotlib in /usr/lib/python3/dist-packages (from catboost==1.1) (3.1.2)\n",
            "Requirement already satisfied: pandas>=0.24.0 in /usr/local/lib/python3.8/dist-packages (from catboost==1.1) (1.5.1)\n",
            "Requirement already satisfied: graphviz in /usr/local/lib/python3.8/dist-packages (from catboost==1.1) (0.20.1)\n",
            "Requirement already satisfied: numpy>=1.16.0 in /usr/local/lib/python3.8/dist-packages (from catboost==1.1) (1.23.4)\n",
            "Requirement already satisfied: six in /usr/lib/python3/dist-packages (from catboost==1.1) (1.14.0)\n",
            "Requirement already satisfied: plotly in /usr/local/lib/python3.8/dist-packages (from catboost==1.1) (5.11.0)\n",
            "Requirement already satisfied: python-dateutil>=2.8.1 in /usr/local/lib/python3.8/dist-packages (from pandas>=0.24.0->catboost==1.1) (2.8.2)\n",
            "Requirement already satisfied: pytz>=2020.1 in /usr/local/lib/python3.8/dist-packages (from pandas>=0.24.0->catboost==1.1) (2022.7)\n",
            "Requirement already satisfied: tenacity>=6.2.0 in /usr/local/lib/python3.8/dist-packages (from plotly->catboost==1.1) (8.1.0)\n",
            "Collecting gcsfs==2022.10.0\n",
            "  Using cached gcsfs-2022.10.0-py2.py3-none-any.whl (25 kB)\n",
            "Requirement already satisfied: google-cloud-storage in /usr/local/lib/python3.8/dist-packages (from gcsfs==2022.10.0) (2.7.0)\n",
            "Requirement already satisfied: aiohttp!=4.0.0a0,!=4.0.0a1 in /usr/local/lib/python3.8/dist-packages (from gcsfs==2022.10.0) (3.8.3)\n",
            "Requirement already satisfied: requests in /usr/local/lib/python3.8/dist-packages (from gcsfs==2022.10.0) (2.28.1)\n",
            "Collecting fsspec==2022.10.0\n",
            "  Using cached fsspec-2022.10.0-py3-none-any.whl (138 kB)\n",
            "Requirement already satisfied: google-auth-oauthlib in /usr/lib/python3/dist-packages (from gcsfs==2022.10.0) (0.4.1)\n",
            "Requirement already satisfied: google-auth>=1.2 in /usr/local/lib/python3.8/dist-packages (from gcsfs==2022.10.0) (2.15.0)\n",
            "Requirement already satisfied: decorator>4.1.2 in /usr/lib/python3/dist-packages (from gcsfs==2022.10.0) (4.4.2)\n",
            "Requirement already satisfied: google-resumable-media>=2.3.2 in /usr/local/lib/python3.8/dist-packages (from google-cloud-storage->gcsfs==2022.10.0) (2.4.0)\n",
            "Requirement already satisfied: google-api-core!=2.0.*,!=2.1.*,!=2.2.*,!=2.3.0,<3.0.0dev,>=1.31.5 in /usr/local/lib/python3.8/dist-packages (from google-cloud-storage->gcsfs==2022.10.0) (2.11.0)\n",
            "Requirement already satisfied: google-cloud-core<3.0dev,>=2.3.0 in /usr/local/lib/python3.8/dist-packages (from google-cloud-storage->gcsfs==2022.10.0) (2.3.2)\n",
            "Requirement already satisfied: async-timeout<5.0,>=4.0.0a3 in /usr/local/lib/python3.8/dist-packages (from aiohttp!=4.0.0a0,!=4.0.0a1->gcsfs==2022.10.0) (4.0.2)\n",
            "Requirement already satisfied: yarl<2.0,>=1.0 in /usr/local/lib/python3.8/dist-packages (from aiohttp!=4.0.0a0,!=4.0.0a1->gcsfs==2022.10.0) (1.8.2)\n",
            "Requirement already satisfied: multidict<7.0,>=4.5 in /usr/local/lib/python3.8/dist-packages (from aiohttp!=4.0.0a0,!=4.0.0a1->gcsfs==2022.10.0) (6.0.3)\n",
            "Requirement already satisfied: attrs>=17.3.0 in /usr/lib/python3/dist-packages (from aiohttp!=4.0.0a0,!=4.0.0a1->gcsfs==2022.10.0) (19.3.0)\n",
            "Requirement already satisfied: aiosignal>=1.1.2 in /usr/local/lib/python3.8/dist-packages (from aiohttp!=4.0.0a0,!=4.0.0a1->gcsfs==2022.10.0) (1.3.1)\n",
            "Requirement already satisfied: charset-normalizer<3.0,>=2.0 in /usr/local/lib/python3.8/dist-packages (from aiohttp!=4.0.0a0,!=4.0.0a1->gcsfs==2022.10.0) (2.1.1)\n",
            "Requirement already satisfied: frozenlist>=1.1.1 in /usr/local/lib/python3.8/dist-packages (from aiohttp!=4.0.0a0,!=4.0.0a1->gcsfs==2022.10.0) (1.3.3)\n",
            "Requirement already satisfied: certifi>=2017.4.17 in /usr/lib/python3/dist-packages (from requests->gcsfs==2022.10.0) (2019.11.28)\n",
            "Requirement already satisfied: idna<4,>=2.5 in /usr/lib/python3/dist-packages (from requests->gcsfs==2022.10.0) (2.8)\n",
            "Requirement already satisfied: urllib3<1.27,>=1.21.1 in /usr/local/lib/python3.8/dist-packages (from requests->gcsfs==2022.10.0) (1.26.13)\n",
            "Requirement already satisfied: six>=1.9.0 in /usr/lib/python3/dist-packages (from google-auth>=1.2->gcsfs==2022.10.0) (1.14.0)\n",
            "Requirement already satisfied: pyasn1-modules>=0.2.1 in /usr/lib/python3/dist-packages (from google-auth>=1.2->gcsfs==2022.10.0) (0.2.1)\n",
            "Requirement already satisfied: cachetools<6.0,>=2.0.0 in /usr/lib/python3/dist-packages (from google-auth>=1.2->gcsfs==2022.10.0) (4.0.0)\n",
            "Requirement already satisfied: rsa<5,>=3.1.4; python_version >= \"3.6\" in /usr/lib/python3/dist-packages (from google-auth>=1.2->gcsfs==2022.10.0) (4.0)\n",
            "Requirement already satisfied: google-crc32c<2.0dev,>=1.0 in /usr/local/lib/python3.8/dist-packages (from google-resumable-media>=2.3.2->google-cloud-storage->gcsfs==2022.10.0) (1.5.0)\n",
            "Requirement already satisfied: protobuf!=3.20.0,!=3.20.1,!=4.21.0,!=4.21.1,!=4.21.2,!=4.21.3,!=4.21.4,!=4.21.5,<5.0.0dev,>=3.19.5 in /usr/local/lib/python3.8/dist-packages (from google-api-core!=2.0.*,!=2.1.*,!=2.2.*,!=2.3.0,<3.0.0dev,>=1.31.5->google-cloud-storage->gcsfs==2022.10.0) (4.21.12)\n",
            "Requirement already satisfied: googleapis-common-protos<2.0dev,>=1.56.2 in /usr/local/lib/python3.8/dist-packages (from google-api-core!=2.0.*,!=2.1.*,!=2.2.*,!=2.3.0,<3.0.0dev,>=1.31.5->google-cloud-storage->gcsfs==2022.10.0) (1.57.0)\n",
            "\u001b[31mERROR: otc 0.0.1 has requirement gcsfs==2022.11.0, but you'll have gcsfs 2022.10.0 which is incompatible.\u001b[0m\n",
            "Installing collected packages: fsspec, gcsfs\n",
            "  Attempting uninstall: fsspec\n",
            "    Found existing installation: fsspec 2022.11.0\n",
            "    Uninstalling fsspec-2022.11.0:\n",
            "      Successfully uninstalled fsspec-2022.11.0\n",
            "  Attempting uninstall: gcsfs\n",
            "    Found existing installation: gcsfs 2022.11.0\n",
            "    Uninstalling gcsfs-2022.11.0:\n",
            "      Successfully uninstalled gcsfs-2022.11.0\n",
            "Successfully installed fsspec-2022.10.0 gcsfs-2022.10.0\n",
            "Requirement already satisfied: numpy==1.23.4 in /usr/local/lib/python3.8/dist-packages (1.23.4)\n",
            "Requirement already satisfied: pandas==1.5.1 in /usr/local/lib/python3.8/dist-packages (1.5.1)\n",
            "Requirement already satisfied: pytz>=2020.1 in /usr/local/lib/python3.8/dist-packages (from pandas==1.5.1) (2022.7)\n",
            "Requirement already satisfied: numpy>=1.20.3; python_version < \"3.10\" in /usr/local/lib/python3.8/dist-packages (from pandas==1.5.1) (1.23.4)\n",
            "Requirement already satisfied: python-dateutil>=2.8.1 in /usr/local/lib/python3.8/dist-packages (from pandas==1.5.1) (2.8.2)\n",
            "Requirement already satisfied: six>=1.5 in /usr/lib/python3/dist-packages (from python-dateutil>=2.8.1->pandas==1.5.1) (1.14.0)\n",
            "Requirement already satisfied: scikit-learn==1.1.3 in /usr/local/lib/python3.8/dist-packages (1.1.3)\n",
            "Requirement already satisfied: threadpoolctl>=2.0.0 in /usr/local/lib/python3.8/dist-packages (from scikit-learn==1.1.3) (3.1.0)\n",
            "Requirement already satisfied: scipy>=1.3.2 in /usr/lib/python3/dist-packages (from scikit-learn==1.1.3) (1.3.3)\n",
            "Requirement already satisfied: joblib>=1.0.0 in /usr/local/lib/python3.8/dist-packages (from scikit-learn==1.1.3) (1.2.0)\n",
            "Requirement already satisfied: numpy>=1.17.3 in /usr/local/lib/python3.8/dist-packages (from scikit-learn==1.1.3) (1.23.4)\n",
            "Requirement already satisfied: fastparquet in /usr/local/lib/python3.8/dist-packages (2022.12.0)\n",
            "Requirement already satisfied: pandas>=1.5.0 in /usr/local/lib/python3.8/dist-packages (from fastparquet) (1.5.1)\n",
            "Requirement already satisfied: cramjam>=2.3 in /usr/local/lib/python3.8/dist-packages (from fastparquet) (2.6.2)\n",
            "Requirement already satisfied: fsspec in /usr/local/lib/python3.8/dist-packages (from fastparquet) (2022.10.0)\n",
            "Requirement already satisfied: numpy>=1.20.3 in /usr/local/lib/python3.8/dist-packages (from fastparquet) (1.23.4)\n",
            "Requirement already satisfied: packaging in /usr/local/lib/python3.8/dist-packages (from fastparquet) (22.0)\n",
            "Requirement already satisfied: pytz>=2020.1 in /usr/local/lib/python3.8/dist-packages (from pandas>=1.5.0->fastparquet) (2022.7)\n",
            "Requirement already satisfied: python-dateutil>=2.8.1 in /usr/local/lib/python3.8/dist-packages (from pandas>=1.5.0->fastparquet) (2.8.2)\n",
            "Requirement already satisfied: six>=1.5 in /usr/lib/python3/dist-packages (from python-dateutil>=2.8.1->pandas>=1.5.0->fastparquet) (1.14.0)\n",
            "Collecting wandb\n",
            "  Downloading wandb-0.13.7-py2.py3-none-any.whl (1.9 MB)\n",
            "\u001b[K     |████████████████████████████████| 1.9 MB 1.9 MB/s eta 0:00:01\n",
            "\u001b[?25hRequirement already satisfied, skipping upgrade: GitPython>=1.0.0 in /usr/local/lib/python3.8/dist-packages (from wandb) (3.1.29)\n",
            "Requirement already satisfied, skipping upgrade: docker-pycreds>=0.4.0 in /usr/local/lib/python3.8/dist-packages (from wandb) (0.4.0)\n",
            "Requirement already satisfied, skipping upgrade: Click!=8.0.0,>=7.0 in /usr/local/lib/python3.8/dist-packages (from wandb) (8.1.3)\n",
            "Requirement already satisfied, skipping upgrade: protobuf!=4.21.0,<5,>=3.12.0; python_version < \"3.9\" and sys_platform == \"linux\" in /usr/local/lib/python3.8/dist-packages (from wandb) (4.21.12)\n",
            "Requirement already satisfied, skipping upgrade: requests<3,>=2.0.0 in /usr/local/lib/python3.8/dist-packages (from wandb) (2.28.1)\n",
            "Requirement already satisfied, skipping upgrade: pathtools in /usr/local/lib/python3.8/dist-packages (from wandb) (0.1.2)\n",
            "Requirement already satisfied, skipping upgrade: setproctitle in /usr/local/lib/python3.8/dist-packages (from wandb) (1.3.2)\n",
            "Requirement already satisfied, skipping upgrade: promise<3,>=2.0 in /usr/local/lib/python3.8/dist-packages (from wandb) (2.3)\n",
            "Requirement already satisfied, skipping upgrade: shortuuid>=0.5.0 in /usr/local/lib/python3.8/dist-packages (from wandb) (1.0.11)\n",
            "Requirement already satisfied, skipping upgrade: sentry-sdk>=1.0.0 in /usr/local/lib/python3.8/dist-packages (from wandb) (1.12.0)\n",
            "Requirement already satisfied, skipping upgrade: PyYAML in /usr/local/lib/python3.8/dist-packages (from wandb) (6.0)\n",
            "Requirement already satisfied, skipping upgrade: psutil>=5.0.0 in /usr/local/lib/python3.8/dist-packages (from wandb) (5.9.4)\n",
            "Requirement already satisfied, skipping upgrade: setuptools in /usr/lib/python3/dist-packages (from wandb) (45.2.0)\n",
            "Requirement already satisfied, skipping upgrade: gitdb<5,>=4.0.1 in /usr/local/lib/python3.8/dist-packages (from GitPython>=1.0.0->wandb) (4.0.10)\n",
            "Requirement already satisfied, skipping upgrade: six>=1.4.0 in /usr/lib/python3/dist-packages (from docker-pycreds>=0.4.0->wandb) (1.14.0)\n",
            "Requirement already satisfied, skipping upgrade: urllib3<1.27,>=1.21.1 in /usr/local/lib/python3.8/dist-packages (from requests<3,>=2.0.0->wandb) (1.26.13)\n",
            "Requirement already satisfied, skipping upgrade: certifi>=2017.4.17 in /usr/lib/python3/dist-packages (from requests<3,>=2.0.0->wandb) (2019.11.28)\n",
            "Requirement already satisfied, skipping upgrade: idna<4,>=2.5 in /usr/lib/python3/dist-packages (from requests<3,>=2.0.0->wandb) (2.8)\n",
            "Requirement already satisfied, skipping upgrade: charset-normalizer<3,>=2 in /usr/local/lib/python3.8/dist-packages (from requests<3,>=2.0.0->wandb) (2.1.1)\n",
            "Requirement already satisfied, skipping upgrade: smmap<6,>=3.0.1 in /usr/local/lib/python3.8/dist-packages (from gitdb<5,>=4.0.1->GitPython>=1.0.0->wandb) (5.0.0)\n",
            "\u001b[31mERROR: otc 0.0.1 has requirement gcsfs==2022.11.0, but you'll have gcsfs 2022.10.0 which is incompatible.\u001b[0m\n",
            "\u001b[31mERROR: otc 0.0.1 has requirement wandb==0.13.5, but you'll have wandb 0.13.7 which is incompatible.\u001b[0m\n",
            "Installing collected packages: wandb\n",
            "  Attempting uninstall: wandb\n",
            "    Found existing installation: wandb 0.13.5\n",
            "    Uninstalling wandb-0.13.5:\n",
            "      Successfully uninstalled wandb-0.13.5\n",
            "Successfully installed wandb-0.13.7\n",
            "Requirement already satisfied: optuna in /usr/local/lib/python3.8/dist-packages (3.0.3)\n",
            "Requirement already satisfied: sqlalchemy>=1.3.0 in /usr/local/lib/python3.8/dist-packages (from optuna) (1.4.45)\n",
            "Requirement already satisfied: cliff in /usr/local/lib/python3.8/dist-packages (from optuna) (4.1.0)\n",
            "Requirement already satisfied: importlib-metadata<5.0.0 in /usr/local/lib/python3.8/dist-packages (from optuna) (4.12.0)\n",
            "Collecting scipy<1.9.0,>=1.7.0\n",
            "  Downloading scipy-1.8.1-cp38-cp38-manylinux_2_17_x86_64.manylinux2014_x86_64.whl (41.6 MB)\n",
            "\u001b[K     |████████████████████████████████| 41.6 MB 1.9 MB/s eta 0:00:01\n",
            "\u001b[?25hRequirement already satisfied: colorlog in /usr/local/lib/python3.8/dist-packages (from optuna) (6.7.0)\n",
            "Requirement already satisfied: cmaes>=0.8.2 in /usr/local/lib/python3.8/dist-packages (from optuna) (0.9.0)\n",
            "Requirement already satisfied: tqdm in /usr/local/lib/python3.8/dist-packages (from optuna) (4.64.1)\n",
            "Requirement already satisfied: alembic>=1.5.0 in /usr/local/lib/python3.8/dist-packages (from optuna) (1.9.0)\n",
            "Requirement already satisfied: numpy in /usr/local/lib/python3.8/dist-packages (from optuna) (1.23.4)\n",
            "Requirement already satisfied: PyYAML in /usr/local/lib/python3.8/dist-packages (from optuna) (6.0)\n",
            "Requirement already satisfied: packaging>=20.0 in /usr/local/lib/python3.8/dist-packages (from optuna) (22.0)\n",
            "Requirement already satisfied: greenlet!=0.4.17; python_version >= \"3\" and (platform_machine == \"aarch64\" or (platform_machine == \"ppc64le\" or (platform_machine == \"x86_64\" or (platform_machine == \"amd64\" or (platform_machine == \"AMD64\" or (platform_machine == \"win32\" or platform_machine == \"WIN32\")))))) in /usr/local/lib/python3.8/dist-packages (from sqlalchemy>=1.3.0->optuna) (2.0.1)\n",
            "Requirement already satisfied: stevedore>=2.0.1 in /usr/local/lib/python3.8/dist-packages (from cliff->optuna) (4.1.1)\n",
            "Requirement already satisfied: cmd2>=1.0.0 in /usr/local/lib/python3.8/dist-packages (from cliff->optuna) (2.4.2)\n",
            "Requirement already satisfied: PrettyTable>=0.7.2 in /usr/local/lib/python3.8/dist-packages (from cliff->optuna) (3.5.0)\n",
            "Requirement already satisfied: autopage>=0.4.0 in /usr/local/lib/python3.8/dist-packages (from cliff->optuna) (0.5.1)\n",
            "Requirement already satisfied: zipp>=0.5 in /usr/lib/python3/dist-packages (from importlib-metadata<5.0.0->optuna) (1.0.0)\n",
            "Requirement already satisfied: Mako in /usr/lib/python3/dist-packages (from alembic>=1.5.0->optuna) (1.1.0)\n",
            "Requirement already satisfied: importlib-resources; python_version < \"3.9\" in /usr/local/lib/python3.8/dist-packages (from alembic>=1.5.0->optuna) (5.10.1)\n",
            "Requirement already satisfied: pbr!=2.1.0,>=2.0.0 in /usr/local/lib/python3.8/dist-packages (from stevedore>=2.0.1->cliff->optuna) (5.11.0)\n",
            "Requirement already satisfied: wcwidth>=0.1.7 in /usr/lib/python3/dist-packages (from cmd2>=1.0.0->cliff->optuna) (0.1.8)\n",
            "Requirement already satisfied: pyperclip>=1.6 in /usr/local/lib/python3.8/dist-packages (from cmd2>=1.0.0->cliff->optuna) (1.8.2)\n",
            "Requirement already satisfied: attrs>=16.3.0 in /usr/lib/python3/dist-packages (from cmd2>=1.0.0->cliff->optuna) (19.3.0)\n",
            "\u001b[31mERROR: otc 0.0.1 has requirement gcsfs==2022.11.0, but you'll have gcsfs 2022.10.0 which is incompatible.\u001b[0m\n",
            "\u001b[31mERROR: otc 0.0.1 has requirement wandb==0.13.5, but you'll have wandb 0.13.7 which is incompatible.\u001b[0m\n",
            "Installing collected packages: scipy\n",
            "  Attempting uninstall: scipy\n",
            "    Found existing installation: scipy 1.3.3\n",
            "    Not uninstalling scipy at /usr/lib/python3/dist-packages, outside environment /usr\n",
            "    Can't uninstall 'scipy'. No files were found to uninstall.\n",
            "Successfully installed scipy-1.8.1\n"
          ]
        }
      ],
      "source": [
        "!pip install catboost==1.1\n",
        "!pip install gcsfs==2022.10.0\n",
        "!pip install numpy==1.23.4\n",
        "!pip install pandas==1.5.1\n",
        "!pip install scikit-learn==1.1.3\n",
        "!pip install fastparquet\n",
        "!pip install wandb --upgrade\n",
        "!pip install optuna"
      ]
    },
    {
      "cell_type": "markdown",
      "metadata": {
        "id": "Gtz4jE9f2en7"
      },
      "source": [
        "Run `pip install .` first to install all dependencies."
      ]
    },
    {
      "cell_type": "code",
      "execution_count": 2,
      "metadata": {
        "id": "7WXF7w4VyVgG"
      },
      "outputs": [],
      "source": [
        "from catboost import CatBoostClassifier\n",
        "\n",
        "import json\n",
        "\n",
        "import gcsfs\n",
        "\n",
        "import numpy as np\n",
        "import pandas as pd\n",
        "\n",
        "import os\n",
        "from pathlib import Path\n",
        "\n",
        "from sklearn.metrics import accuracy_score\n",
        "import wandb\n",
        "\n",
        "from typing import List, Optional\n",
        "\n",
        "import pickle\n",
        "import optuna"
      ]
    },
    {
      "cell_type": "code",
      "execution_count": 3,
      "metadata": {
        "id": "DMpV9NTt25pj"
      },
      "outputs": [
        {
          "name": "stderr",
          "output_type": "stream",
          "text": [
            "/usr/local/lib/python3.8/dist-packages/google/auth/_default.py:83: UserWarning: Your application has authenticated using end user credentials from Google Cloud SDK without a quota project. You might receive a \"quota exceeded\" or \"API not enabled\" error. We recommend you rerun `gcloud auth application-default login` and make sure a quota project is added. Or you can use service accounts instead. For more information about service accounts, see https://cloud.google.com/docs/authentication/\n",
            "  warnings.warn(_CLOUD_SDK_CREDENTIALS_WARNING)\n"
          ]
        }
      ],
      "source": [
        "# connect to google cloud storage\n",
        "# import google.auth\n",
        "# from google.colab import auth, output\n",
        "# auth.authenticate_user()\n",
        "# credentials, _ = google.auth.default()\n",
        "# fs = gcsfs.GCSFileSystem(project=\"thesis\", token=credentials)\n",
        "fs = gcsfs.GCSFileSystem(project=\"thesis\")\n",
        "fs_prefix = \"gs://\""
      ]
    },
    {
      "cell_type": "code",
      "execution_count": 8,
      "metadata": {
        "id": "vFMHPh-nTcSI"
      },
      "outputs": [],
      "source": [
        "features_classical_size = [\n",
        "    \"TRADE_PRICE\",\n",
        "    \"bid_ask_size_ratio_ex\",\n",
        "    \"rel_bid_size_ex\",\n",
        "    \"rel_ask_size_ex\",\n",
        "    \"depth_ex\",\n",
        "    \"prox_ex\",\n",
        "    \"prox_best\",\n",
        "    \"spread_ex\",\n",
        "    \"spread_best\",\n",
        "    \"bid_ask_ratio_ex\",\n",
        "    \"price_rel_nbb\",\n",
        "    \"price_rel_nbo\",\n",
        "    \"chg_ex_lead\",\n",
        "    \"chg_ex_lag\",\n",
        "    \"chg_all_lead\",\n",
        "    \"chg_all_lag\",\n",
        "    \"ask_ex\",\n",
        "    \"bid_ex\",\n",
        "    \"BEST_ASK\",\n",
        "    \"BEST_BID\",\n",
        "    \"price_all_lag\",\n",
        "    \"price_all_lead\",\n",
        "    \"price_ex_lag\",\n",
        "    \"price_ex_lead\",\n",
        "    \"TRADE_SIZE\",\n",
        "    \"bid_size_ex\",\n",
        "    \"ask_size_ex\",\n",
        "]"
      ]
    },
    {
      "cell_type": "code",
      "execution_count": 9,
      "metadata": {
        "id": "8_7CKpqcONOy"
      },
      "outputs": [],
      "source": [
        "os.environ[\"GCLOUD_PROJECT\"] = \"flowing-mantis-239216\""
      ]
    },
    {
      "cell_type": "code",
      "execution_count": 10,
      "metadata": {
        "colab": {
          "base_uri": "https://localhost:8080/",
          "height": 324,
          "referenced_widgets": [
            "0520095a66c6494c84fc544b666d7e08",
            "6a627758a6ca4cabbb66511ec9fb896d",
            "e18f62a2204b4bc996153a61c450e9d0",
            "71220a6aefa64e308d0c27e71f2b97e7",
            "2b7f14124ba24d8fbca729c036e3e208",
            "5dbc22d0901d49da95336aa066c6ed1e",
            "6cc029b6d8254ece86654f23c2131346",
            "865c2f9c950b4710914ed4d7d11c9d7f"
          ]
        },
        "id": "ah1dofx3TdDj",
        "outputId": "6e4b9c14-2cc2-4246-ecc0-cf20546b886d"
      },
      "outputs": [
        {
          "data": {
            "text/html": [
              "Finishing last run (ID:12jic8ja) before initializing another..."
            ],
            "text/plain": [
              "<IPython.core.display.HTML object>"
            ]
          },
          "metadata": {},
          "output_type": "display_data"
        },
        {
          "data": {
            "text/html": [
              "Waiting for W&B process to finish... <strong style=\"color:green\">(success).</strong>"
            ],
            "text/plain": [
              "<IPython.core.display.HTML object>"
            ]
          },
          "metadata": {},
          "output_type": "display_data"
        },
        {
          "data": {
            "application/vnd.jupyter.widget-view+json": {
              "model_id": "7fa5b64f4a4a45e88928cac8f26fd97e",
              "version_major": 2,
              "version_minor": 0
            },
            "text/plain": [
              "VBox(children=(Label(value='0.004 MB of 0.004 MB uploaded (0.000 MB deduped)\\r'), FloatProgress(value=1.0, max…"
            ]
          },
          "metadata": {},
          "output_type": "display_data"
        },
        {
          "data": {
            "text/html": [
              "Synced <strong style=\"color:#cdcd00\">swift-moon-565</strong>: <a href=\"https://wandb.ai/fbv/thesis/runs/12jic8ja\" target=\"_blank\">https://wandb.ai/fbv/thesis/runs/12jic8ja</a><br/>Synced 5 W&B file(s), 0 media file(s), 0 artifact file(s) and 0 other file(s)"
            ],
            "text/plain": [
              "<IPython.core.display.HTML object>"
            ]
          },
          "metadata": {},
          "output_type": "display_data"
        },
        {
          "data": {
            "text/html": [
              "Find logs at: <code>./wandb/run-20221218_145612-12jic8ja/logs</code>"
            ],
            "text/plain": [
              "<IPython.core.display.HTML object>"
            ]
          },
          "metadata": {},
          "output_type": "display_data"
        },
        {
          "data": {
            "text/html": [
              "Successfully finished last run (ID:12jic8ja). Initializing new run:<br/>"
            ],
            "text/plain": [
              "<IPython.core.display.HTML object>"
            ]
          },
          "metadata": {},
          "output_type": "display_data"
        },
        {
          "data": {
            "application/vnd.jupyter.widget-view+json": {
              "model_id": "12312002fd664f9cb327a9b9ad47888e",
              "version_major": 2,
              "version_minor": 0
            },
            "text/plain": [
              "VBox(children=(Label(value='Waiting for wandb.init()...\\r'), FloatProgress(value=0.01667144976866742, max=1.0)…"
            ]
          },
          "metadata": {},
          "output_type": "display_data"
        },
        {
          "data": {
            "text/html": [
              "Tracking run with wandb version 0.13.7"
            ],
            "text/plain": [
              "<IPython.core.display.HTML object>"
            ]
          },
          "metadata": {},
          "output_type": "display_data"
        },
        {
          "data": {
            "text/html": [
              "Run data is saved locally in <code>/root/thesis/notebooks/wandb/run-20221218_145748-41srugf0</code>"
            ],
            "text/plain": [
              "<IPython.core.display.HTML object>"
            ]
          },
          "metadata": {},
          "output_type": "display_data"
        },
        {
          "data": {
            "text/html": [
              "Syncing run <strong><a href=\"https://wandb.ai/fbv/thesis/runs/41srugf0\" target=\"_blank\">dashing-deluge-566</a></strong> to <a href=\"https://wandb.ai/fbv/thesis\" target=\"_blank\">Weights & Biases</a> (<a href=\"https://wandb.me/run\" target=\"_blank\">docs</a>)<br/>"
            ],
            "text/plain": [
              "<IPython.core.display.HTML object>"
            ]
          },
          "metadata": {},
          "output_type": "display_data"
        },
        {
          "name": "stderr",
          "output_type": "stream",
          "text": [
            "\u001b[34m\u001b[1mwandb\u001b[0m: Downloading large artifact ise_classic_size_log_normalized:v0, 4345.50MB. 3 files... \n",
            "\u001b[34m\u001b[1mwandb\u001b[0m:   3 of 3 files downloaded.  \n",
            "Done. 0:0:0.0\n",
            "\u001b[34m\u001b[1mwandb\u001b[0m:   1 of 1 files downloaded.  \n",
            "\u001b[34m\u001b[1mwandb\u001b[0m:   2 of 2 files downloaded.  \n"
          ]
        }
      ],
      "source": [
        "# see https://wandb.ai/fbv/thesis/runs/kwlaw02g/overview?workspace=user-karelze\n",
        "run = wandb.init(project=\"thesis\",entity=\"fbv\")\n",
        "\n",
        "dataset = \"fbv/thesis/ise_classic_size_log_normalized:v0\"\n",
        "artifact = run.use_artifact(dataset)\n",
        "data_dir = artifact.download()\n",
        "\n",
        "study = \"fbv/thesis/37m52gu6.optuna:v19\"\n",
        "artifact = run.use_artifact(study)\n",
        "study_dir = artifact.download()\n",
        "\n",
        "\n",
        "model = \"fbv/thesis/37m52gu6_CatBoostClassifier_default.cbm:v5\"\n",
        "model_name = model.split(\"/\")[-1].split(\":\")[0]\n",
        "\n",
        "artifact = run.use_artifact(model)\n",
        "model_dir = artifact.download()"
      ]
    },
    {
      "cell_type": "code",
      "execution_count": 11,
      "metadata": {
        "colab": {
          "base_uri": "https://localhost:8080/"
        },
        "id": "WmXtH-PEqyQE",
        "outputId": "8e88f6da-35c2-4b83-c9d8-d3e817a449ec"
      },
      "outputs": [
        {
          "name": "stderr",
          "output_type": "stream",
          "text": [
            "<ipython-input-11-800bdc36999a>:4: SettingWithCopyWarning: \n",
            "A value is trying to be set on a copy of a slice from a DataFrame\n",
            "\n",
            "See the caveats in the documentation: https://pandas.pydata.org/pandas-docs/stable/user_guide/indexing.html#returning-a-view-versus-a-copy\n",
            "  y_test[y_test<0] = 0\n"
          ]
        }
      ],
      "source": [
        "X_test = pd.read_parquet(Path(data_dir, \"test_set_20.parquet\"), engine=\"fastparquet\")\n",
        "\n",
        "y_test = X_test[\"buy_sell\"]\n",
        "y_test[y_test<0] = 0\n",
        "X_test = X_test[features_classical_size]\n"
      ]
    },
    {
      "cell_type": "markdown",
      "metadata": {
        "id": "zMIOV1jA_ImH"
      },
      "source": [
        "## CatBoost Baseline 🐈‍⬛"
      ]
    },
    {
      "cell_type": "markdown",
      "metadata": {
        "id": "yLN65NSTQs49"
      },
      "source": [
        "## Visualize study"
      ]
    },
    {
      "cell_type": "code",
      "execution_count": 12,
      "metadata": {
        "colab": {
          "base_uri": "https://localhost:8080/",
          "height": 1000
        },
        "id": "X6yt3z98QrsN",
        "outputId": "72ab9e52-b0e0-440b-d234-ff4d76d3a0a4"
      },
      "outputs": [
        {
          "name": "stderr",
          "output_type": "stream",
          "text": [
            "<ipython-input-12-aa4a9ba97c8e>:4: ExperimentalWarning: plot_optimization_history is experimental (supported from v2.2.0). The interface can change in the future.\n",
            "  optuna.visualization.matplotlib.plot_optimization_history(study)\n",
            "<ipython-input-12-aa4a9ba97c8e>:5: ExperimentalWarning: plot_param_importances is experimental (supported from v2.2.0). The interface can change in the future.\n",
            "  optuna.visualization.matplotlib.plot_param_importances(study)\n",
            "<ipython-input-12-aa4a9ba97c8e>:6: ExperimentalWarning: plot_slice is experimental (supported from v2.2.0). The interface can change in the future.\n",
            "  optuna.visualization.matplotlib.plot_slice(study)\n",
            "<ipython-input-12-aa4a9ba97c8e>:7: ExperimentalWarning: plot_contour is experimental (supported from v2.2.0). The interface can change in the future.\n",
            "  optuna.visualization.matplotlib.plot_contour(\n",
            "\u001b[33m[W 2022-12-18 14:58:03,786]\u001b[0m Output figures of this Matplotlib-based `plot_contour` function would be different from those of the Plotly-based `plot_contour`.\u001b[0m\n"
          ]
        },
        {
          "data": {
            "text/plain": [
              "array([[<matplotlib.axes._subplots.AxesSubplot object at 0x7f46ddf87850>,\n",
              "        <matplotlib.axes._subplots.AxesSubplot object at 0x7f46ddf2aa90>,\n",
              "        <matplotlib.axes._subplots.AxesSubplot object at 0x7f46ddee3f40>,\n",
              "        <matplotlib.axes._subplots.AxesSubplot object at 0x7f46cd77fa00>],\n",
              "       [<matplotlib.axes._subplots.AxesSubplot object at 0x7f46cd7b6280>,\n",
              "        <matplotlib.axes._subplots.AxesSubplot object at 0x7f46cd76b8b0>,\n",
              "        <matplotlib.axes._subplots.AxesSubplot object at 0x7f46cd76b9d0>,\n",
              "        <matplotlib.axes._subplots.AxesSubplot object at 0x7f46f85555e0>],\n",
              "       [<matplotlib.axes._subplots.AxesSubplot object at 0x7f46cd6c6400>,\n",
              "        <matplotlib.axes._subplots.AxesSubplot object at 0x7f46cd6f1c40>,\n",
              "        <matplotlib.axes._subplots.AxesSubplot object at 0x7f46cd6a5520>,\n",
              "        <matplotlib.axes._subplots.AxesSubplot object at 0x7f46cd650d60>],\n",
              "       [<matplotlib.axes._subplots.AxesSubplot object at 0x7f46cd604640>,\n",
              "        <matplotlib.axes._subplots.AxesSubplot object at 0x7f46cd62de80>,\n",
              "        <matplotlib.axes._subplots.AxesSubplot object at 0x7f46cd5e5700>,\n",
              "        <matplotlib.axes._subplots.AxesSubplot object at 0x7f46cd58ef70>]],\n",
              "      dtype=object)"
            ]
          },
          "execution_count": 12,
          "metadata": {},
          "output_type": "execute_result"
        },
        {
          "data": {
            "image/png": "[encoded data removed]",
            "text/plain": [
              "<Figure size 432x288 with 1 Axes>"
            ]
          },
          "metadata": {},
          "output_type": "display_data"
        },
        {
          "data": {
            "image/png": "[encoded data removed]",
            "text/plain": [
              "<Figure size 432x288 with 1 Axes>"
            ]
          },
          "metadata": {},
          "output_type": "display_data"
        },
        {
          "data": {
            "image/png": "[encoded data removed]",
            "text/plain": [
              "<Figure size 1080x288 with 6 Axes>"
            ]
          },
          "metadata": {},
          "output_type": "display_data"
        },
        {
          "data": {
            "image/png": "[encoded data removed]",
            "text/plain": [
              "<Figure size 432x288 with 17 Axes>"
            ]
          },
          "metadata": {},
          "output_type": "display_data"
        }
      ],
      "source": [
        "file = file = open(\"./artifacts/37m52gu6.optuna:v19/37m52gu6.optuna\",'rb')\n",
        "study = pickle.load(file)\n",
        "\n",
        "optuna.visualization.matplotlib.plot_optimization_history(study)\n",
        "optuna.visualization.matplotlib.plot_param_importances(study)\n",
        "optuna.visualization.matplotlib.plot_slice(study)\n",
        "optuna.visualization.matplotlib.plot_contour(\n",
        "     study, [\"learning_rate\", \"depth\", \"bagging_temperature\", \"l2_leaf_reg\"]\n",
        ")"
      ]
    },
    {
      "cell_type": "markdown",
      "metadata": {
        "id": "2UnP6IydONPA"
      },
      "source": [
        "### Learning Curves Baseline 📉"
      ]
    },
    {
      "cell_type": "code",
      "execution_count": 13,
      "metadata": {
        "id": "wwt7Kn8lONPC"
      },
      "outputs": [],
      "source": [
        "%%script false --no-raise-error\n",
        "# visualize learning curves\n",
        "with open(Path(model_dir,model_name[:-4]+\"_training.json\"), 'r') as j:\n",
        "     contents = json.loads(j.read())\n",
        "\n",
        "# extract relevant keys\n",
        "test_metrics = [d['name'] for d in contents['meta']['test_metrics'] ]\n",
        "test_results = [d['test'] for d in iterations]\n",
        "learn_metrics = [d['name'] for d in contents['meta']['learn_metrics'] ]\n",
        "learn_results = [d['learn'] for d in iterations]\n",
        "\n",
        "metrics_learn = pd.DataFrame(learn_results, columns=learn_metrics).add_prefix(\"learn_\")\n",
        "metrics_test = pd.DataFrame(test_results, columns=test_metrics).add_prefix(\"test_\")\n",
        "\n",
        "learning_metrics = pd.concat([metrics_learn, metrics_test], axis=1)\n",
        "\n",
        "df.head()"
      ]
    },
    {
      "cell_type": "code",
      "execution_count": 14,
      "metadata": {
        "id": "ctjb901EONPF"
      },
      "outputs": [],
      "source": [
        "%%script false --no-raise-error\n",
        "learning_metrics.plot(kind=\"line\", figsize=(16,9))"
      ]
    },
    {
      "cell_type": "markdown",
      "metadata": {
        "id": "i7QUdErfONPH"
      },
      "source": [
        "### Accuracy Baseline 🎯"
      ]
    },
    {
      "cell_type": "code",
      "execution_count": 15,
      "metadata": {
        "colab": {
          "base_uri": "https://localhost:8080/"
        },
        "id": "VivmC-8L3YUc",
        "outputId": "ecbfd025-cbe5-4a69-87e8-1ea477babbb9"
      },
      "outputs": [
        {
          "data": {
            "text/plain": [
              "<catboost.core.CatBoostClassifier at 0x7f454c438f70>"
            ]
          },
          "execution_count": 15,
          "metadata": {},
          "output_type": "execute_result"
        }
      ],
      "source": [
        "model = CatBoostClassifier()\n",
        "model.load_model(fname=Path(model_dir, model_name))"
      ]
    },
    {
      "cell_type": "code",
      "execution_count": 16,
      "metadata": {
        "colab": {
          "base_uri": "https://localhost:8080/"
        },
        "id": "hlLETHiJZSoH",
        "outputId": "2fe4634d-39a4-4889-f322-1f526b528050"
      },
      "outputs": [
        {
          "name": "stderr",
          "output_type": "stream",
          "text": [
            "/usr/local/lib/python3.8/dist-packages/catboost/core.py:1419: FutureWarning: iteritems is deprecated and will be removed in a future version. Use .items instead.\n",
            "  self._init_pool(data, label, cat_features, text_features, embedding_features, embedding_features_data, pairs, weight,\n"
          ]
        },
        {
          "name": "stdout",
          "output_type": "stream",
          "text": [
            "0.7283596455576674\n"
          ]
        }
      ],
      "source": [
        "acc = model.score(X_test, y_test)\n",
        "print(acc)"
      ]
    },
    {
      "cell_type": "markdown",
      "metadata": {
        "id": "h3vzAVSc_DfD"
      },
      "source": [
        "### Robustness Baseline🥊"
      ]
    },
    {
      "cell_type": "code",
      "execution_count": 17,
      "metadata": {
        "id": "AMoxcj4YZXOs"
      },
      "outputs": [
        {
          "name": "stderr",
          "output_type": "stream",
          "text": [
            "/usr/local/lib/python3.8/dist-packages/google/auth/_default.py:83: UserWarning: Your application has authenticated using end user credentials from Google Cloud SDK without a quota project. You might receive a \"quota exceeded\" or \"API not enabled\" error. We recommend you rerun `gcloud auth application-default login` and make sure a quota project is added. Or you can use service accounts instead. For more information about service accounts, see https://cloud.google.com/docs/authentication/\n",
            "  warnings.warn(_CLOUD_SDK_CREDENTIALS_WARNING)\n"
          ]
        }
      ],
      "source": [
        "# load default data to use unscaled version with all possible columns\n",
        "X_print = pd.read_parquet(\n",
        "    f\"gs://thesis-bucket-option-trade-classification/data/preprocessed/test_set_extended_20.parquet\",\n",
        "    engine=\"fastparquet\",\n",
        "    columns=[\"EXPIRATION\", \"QUOTE_DATETIME\", \"OPTION_TYPE\", \"TRADE_SIZE\", \"myn\", \"buy_sell\", \"issue_type\"]\n",
        ")"
      ]
    },
    {
      "cell_type": "code",
      "execution_count": 18,
      "metadata": {
        "colab": {
          "base_uri": "https://localhost:8080/"
        },
        "id": "3evMG-KVA2eX",
        "outputId": "51a1ec12-51b3-462d-99a8-6e1a98278c2a"
      },
      "outputs": [
        {
          "name": "stderr",
          "output_type": "stream",
          "text": [
            "/usr/local/lib/python3.8/dist-packages/catboost/core.py:1419: FutureWarning: iteritems is deprecated and will be removed in a future version. Use .items instead.\n",
            "  self._init_pool(data, label, cat_features, text_features, embedding_features, embedding_features_data, pairs, weight,\n"
          ]
        }
      ],
      "source": [
        "# Copy unscaled columns\n",
        "X_print = X_print.copy()\n",
        "X_print[\"buy_sell\"] = (X_print[\"buy_sell\"] > 0).astype(int)\n",
        "\n",
        "# add baseline results\n",
        "X_print[\"rule\"] = \"Baseline\"\n",
        "X_print[\"buy_sell_predicted\"] = model.predict(X_test)\n",
        "\n",
        "# prepare columns for printing\n",
        "X_print[\"ttm\"] = (\n",
        "    X_print[\"EXPIRATION\"].dt.to_period(\"M\")\n",
        "    - X_print[\"QUOTE_DATETIME\"].dt.to_period(\"M\")\n",
        ").apply(lambda x: x.n)\n",
        "X_print[\"year\"] = X_print[\"QUOTE_DATETIME\"].dt.year\n",
        "\n",
        "bins_tradesize = [-np.inf, 1, 3, 5, 11, np.inf]\n",
        "trade_size_labels = [\"(0,1]\", \"(1,3]\", \"(3,5]\", \"(5,11]\", \">11\"]\n",
        "X_print[\"TRADE_SIZE_binned\"] = pd.cut(\n",
        "    X_print[\"TRADE_SIZE\"], bins_tradesize, labels=trade_size_labels\n",
        ")\n",
        "\n",
        "bins_years = [2004, 2007, 2010, 2011, 2012, 2013, 2014, 2015, 2016, 2017]\n",
        "year_labels = [\n",
        "    \"2005-2007\",\n",
        "    \"2008-2010\",\n",
        "    \"2011\",\n",
        "    \"2012\",\n",
        "    \"2013\",\n",
        "    \"2014\",\n",
        "    \"2015\",\n",
        "    \"2016\",\n",
        "    \"2017\",\n",
        "]\n",
        "X_print[\"year_binned\"] = pd.cut(X_print[\"year\"], bins_years, labels=year_labels)\n",
        "\n",
        "bins_ttm = [-np.inf, 1, 2, 3, 6, 12, np.inf]\n",
        "ttm_labels = [\n",
        "    \"ttm <= 1 month\",\n",
        "    \"ttm (1-2] month\",\n",
        "    \"ttm (2-3] month\",\n",
        "    \"ttm (3-6] month\",\n",
        "    \"ttm (6-12] month\",\n",
        "    \"ttm > 12 month\",\n",
        "]\n",
        "X_print[\"ttm_binned\"] = pd.cut(X_print[\"ttm\"], bins_ttm, labels=ttm_labels)\n",
        "\n",
        "\n",
        "bins_myn = [-np.inf, 0.7, 0.9, 1.1, 1.3, np.inf]\n",
        "myn_labels = [\n",
        "    \"mny <=0.7\",\n",
        "    \"mny (0.7-0.9]\",\n",
        "    \"mny (0.9-1.1]\",\n",
        "    \"mny (1.1-1.3]\",\n",
        "    \"mny > 1.3\",\n",
        "]\n",
        "X_print[\"myn_binned\"] = pd.cut(X_print[\"myn\"], bins_myn, labels=myn_labels)\n",
        "\n",
        "X_print[\"issue_type_binned\"] = X_print[\"issue_type\"].replace(\n",
        "    {\"0\": 'Stock options', 'A': 'Index options', '7': 'Others',\n",
        "     'F': 'Others', '%': 'Others', ' ': 'Others'})\n",
        "\n",
        "\n",
        "# TODO: time from previous trade; same underlying or any?\n"
      ]
    },
    {
      "cell_type": "code",
      "execution_count": 19,
      "metadata": {
        "colab": {
          "base_uri": "https://localhost:8080/",
          "height": 206
        },
        "id": "dFNzontzM_Xc",
        "outputId": "f5dcbd70-c2b4-48b7-f5a9-28b3f3ac07fc"
      },
      "outputs": [
        {
          "data": {
            "text/html": [
              "<div>\n",
              "<style scoped>\n",
              "    .dataframe tbody tr th:only-of-type {\n",
              "        vertical-align: middle;\n",
              "    }\n",
              "\n",
              "    .dataframe tbody tr th {\n",
              "        vertical-align: top;\n",
              "    }\n",
              "\n",
              "    .dataframe thead th {\n",
              "        text-align: right;\n",
              "    }\n",
              "</style>\n",
              "<table border=\"1\" class=\"dataframe\">\n",
              "  <thead>\n",
              "    <tr style=\"text-align: right;\">\n",
              "      <th></th>\n",
              "      <th>EXPIRATION</th>\n",
              "      <th>QUOTE_DATETIME</th>\n",
              "      <th>OPTION_TYPE</th>\n",
              "      <th>TRADE_SIZE</th>\n",
              "      <th>myn</th>\n",
              "      <th>buy_sell</th>\n",
              "      <th>issue_type</th>\n",
              "      <th>rule</th>\n",
              "      <th>buy_sell_predicted</th>\n",
              "      <th>ttm</th>\n",
              "      <th>year</th>\n",
              "      <th>TRADE_SIZE_binned</th>\n",
              "      <th>year_binned</th>\n",
              "      <th>ttm_binned</th>\n",
              "      <th>myn_binned</th>\n",
              "      <th>issue_type_binned</th>\n",
              "    </tr>\n",
              "  </thead>\n",
              "  <tbody>\n",
              "    <tr>\n",
              "      <th>39342171</th>\n",
              "      <td>2015-12-18</td>\n",
              "      <td>2015-11-06 09:30:00</td>\n",
              "      <td>P</td>\n",
              "      <td>2</td>\n",
              "      <td>0.921659</td>\n",
              "      <td>0</td>\n",
              "      <td>%</td>\n",
              "      <td>Baseline</td>\n",
              "      <td>0</td>\n",
              "      <td>1</td>\n",
              "      <td>2015</td>\n",
              "      <td>(1,3]</td>\n",
              "      <td>2015</td>\n",
              "      <td>ttm &lt;= 1 month</td>\n",
              "      <td>mny (0.9-1.1]</td>\n",
              "      <td>Others</td>\n",
              "    </tr>\n",
              "    <tr>\n",
              "      <th>39342172</th>\n",
              "      <td>2015-11-27</td>\n",
              "      <td>2015-11-06 09:30:00</td>\n",
              "      <td>C</td>\n",
              "      <td>1</td>\n",
              "      <td>1.001696</td>\n",
              "      <td>0</td>\n",
              "      <td>0</td>\n",
              "      <td>Baseline</td>\n",
              "      <td>0</td>\n",
              "      <td>0</td>\n",
              "      <td>2015</td>\n",
              "      <td>(0,1]</td>\n",
              "      <td>2015</td>\n",
              "      <td>ttm &lt;= 1 month</td>\n",
              "      <td>mny (0.9-1.1]</td>\n",
              "      <td>Stock options</td>\n",
              "    </tr>\n",
              "    <tr>\n",
              "      <th>39342173</th>\n",
              "      <td>2017-01-20</td>\n",
              "      <td>2015-11-06 09:30:00</td>\n",
              "      <td>C</td>\n",
              "      <td>1</td>\n",
              "      <td>0.886115</td>\n",
              "      <td>0</td>\n",
              "      <td>0</td>\n",
              "      <td>Baseline</td>\n",
              "      <td>0</td>\n",
              "      <td>14</td>\n",
              "      <td>2015</td>\n",
              "      <td>(0,1]</td>\n",
              "      <td>2015</td>\n",
              "      <td>ttm &gt; 12 month</td>\n",
              "      <td>mny (0.7-0.9]</td>\n",
              "      <td>Stock options</td>\n",
              "    </tr>\n",
              "    <tr>\n",
              "      <th>39342174</th>\n",
              "      <td>2015-11-20</td>\n",
              "      <td>2015-11-06 09:30:00</td>\n",
              "      <td>C</td>\n",
              "      <td>1</td>\n",
              "      <td>1.009261</td>\n",
              "      <td>1</td>\n",
              "      <td>%</td>\n",
              "      <td>Baseline</td>\n",
              "      <td>1</td>\n",
              "      <td>0</td>\n",
              "      <td>2015</td>\n",
              "      <td>(0,1]</td>\n",
              "      <td>2015</td>\n",
              "      <td>ttm &lt;= 1 month</td>\n",
              "      <td>mny (0.9-1.1]</td>\n",
              "      <td>Others</td>\n",
              "    </tr>\n",
              "    <tr>\n",
              "      <th>39342175</th>\n",
              "      <td>2015-12-18</td>\n",
              "      <td>2015-11-06 09:30:00</td>\n",
              "      <td>C</td>\n",
              "      <td>1</td>\n",
              "      <td>0.991880</td>\n",
              "      <td>0</td>\n",
              "      <td>%</td>\n",
              "      <td>Baseline</td>\n",
              "      <td>0</td>\n",
              "      <td>1</td>\n",
              "      <td>2015</td>\n",
              "      <td>(0,1]</td>\n",
              "      <td>2015</td>\n",
              "      <td>ttm &lt;= 1 month</td>\n",
              "      <td>mny (0.9-1.1]</td>\n",
              "      <td>Others</td>\n",
              "    </tr>\n",
              "  </tbody>\n",
              "</table>\n",
              "</div>"
            ],
            "text/plain": [
              "         EXPIRATION      QUOTE_DATETIME OPTION_TYPE  TRADE_SIZE       myn  \\\n",
              "39342171 2015-12-18 2015-11-06 09:30:00           P           2  0.921659   \n",
              "39342172 2015-11-27 2015-11-06 09:30:00           C           1  1.001696   \n",
              "39342173 2017-01-20 2015-11-06 09:30:00           C           1  0.886115   \n",
              "39342174 2015-11-20 2015-11-06 09:30:00           C           1  1.009261   \n",
              "39342175 2015-12-18 2015-11-06 09:30:00           C           1  0.991880   \n",
              "\n",
              "          buy_sell issue_type      rule  buy_sell_predicted  ttm  year  \\\n",
              "39342171         0          %  Baseline                   0    1  2015   \n",
              "39342172         0          0  Baseline                   0    0  2015   \n",
              "39342173         0          0  Baseline                   0   14  2015   \n",
              "39342174         1          %  Baseline                   1    0  2015   \n",
              "39342175         0          %  Baseline                   0    1  2015   \n",
              "\n",
              "         TRADE_SIZE_binned year_binned      ttm_binned     myn_binned  \\\n",
              "39342171             (1,3]        2015  ttm <= 1 month  mny (0.9-1.1]   \n",
              "39342172             (0,1]        2015  ttm <= 1 month  mny (0.9-1.1]   \n",
              "39342173             (0,1]        2015  ttm > 12 month  mny (0.7-0.9]   \n",
              "39342174             (0,1]        2015  ttm <= 1 month  mny (0.9-1.1]   \n",
              "39342175             (0,1]        2015  ttm <= 1 month  mny (0.9-1.1]   \n",
              "\n",
              "         issue_type_binned  \n",
              "39342171            Others  \n",
              "39342172     Stock options  \n",
              "39342173     Stock options  \n",
              "39342174            Others  \n",
              "39342175            Others  "
            ]
          },
          "execution_count": 19,
          "metadata": {},
          "output_type": "execute_result"
        }
      ],
      "source": [
        "X_print.head()"
      ]
    },
    {
      "cell_type": "code",
      "execution_count": 20,
      "metadata": {
        "id": "clDZ4Z95_0jj"
      },
      "outputs": [],
      "source": [
        "def check_robustness(criterion: str = \"year_binned\") -> pd.DataFrame:\n",
        "    \"\"\"\n",
        "    Check robustness of rules by calculating the accuracy for a given\n",
        "    criterion and rules.\n",
        "\n",
        "    Example:\n",
        "    rule\t\tBaseline\n",
        "    TRADE_SIZE_binned\n",
        "    (0,1]\t  0.710966\n",
        "    (1,3]\t  0.717664\n",
        "    (3,5]\t  0.715195\n",
        "    (5,11]\t0.699428\n",
        "    >11\t  \t0.688348\n",
        "\n",
        "    Args:\n",
        "        criterion (str, optional): criterion to check robustness for.\n",
        "        Defaults to \"year_binned\".\n",
        "\n",
        "    Returns:\n",
        "        pd.DataFrame: DataFrame with accuracy of rules. Rule in columns and\n",
        "        criterion values in rows.\n",
        "    \"\"\"\n",
        "\n",
        "    # fill others randomly with equal weight for every class.\n",
        "    X_print[\"buy_sell_predicted\"] = X_print[\"buy_sell_predicted\"].map(\n",
        "        lambda l: l if not np.isnan(l) else np.random.choice([0, 1])\n",
        "    )\n",
        "\n",
        "    # cuculate average over columns if multiple subsets are combined\n",
        "    results = (\n",
        "        X_print.groupby([\"rule\", criterion])[[\"buy_sell\", \"buy_sell_predicted\"]]\n",
        "        .apply(lambda x: accuracy_score(x[\"buy_sell\"], x[\"buy_sell_predicted\"]))\n",
        "        .unstack(level=0)\n",
        "        .assign(avg=lambda x: x.mean(axis=1))\n",
        "    )\n",
        "    return results\n"
      ]
    },
    {
      "cell_type": "code",
      "execution_count": 21,
      "metadata": {
        "colab": {
          "base_uri": "https://localhost:8080/",
          "height": 206
        },
        "id": "K6ZmGInebGkL",
        "outputId": "5b64188c-426d-4035-e06d-8b3c13ee0f9c"
      },
      "outputs": [
        {
          "data": {
            "text/html": [
              "<div>\n",
              "<style scoped>\n",
              "    .dataframe tbody tr th:only-of-type {\n",
              "        vertical-align: middle;\n",
              "    }\n",
              "\n",
              "    .dataframe tbody tr th {\n",
              "        vertical-align: top;\n",
              "    }\n",
              "\n",
              "    .dataframe thead th {\n",
              "        text-align: right;\n",
              "    }\n",
              "</style>\n",
              "<table border=\"1\" class=\"dataframe\">\n",
              "  <thead>\n",
              "    <tr style=\"text-align: right;\">\n",
              "      <th></th>\n",
              "      <th>EXPIRATION</th>\n",
              "      <th>QUOTE_DATETIME</th>\n",
              "      <th>OPTION_TYPE</th>\n",
              "      <th>TRADE_SIZE</th>\n",
              "      <th>myn</th>\n",
              "      <th>buy_sell</th>\n",
              "      <th>issue_type</th>\n",
              "      <th>rule</th>\n",
              "      <th>buy_sell_predicted</th>\n",
              "      <th>ttm</th>\n",
              "      <th>year</th>\n",
              "      <th>TRADE_SIZE_binned</th>\n",
              "      <th>year_binned</th>\n",
              "      <th>ttm_binned</th>\n",
              "      <th>myn_binned</th>\n",
              "      <th>issue_type_binned</th>\n",
              "    </tr>\n",
              "  </thead>\n",
              "  <tbody>\n",
              "    <tr>\n",
              "      <th>39342171</th>\n",
              "      <td>2015-12-18</td>\n",
              "      <td>2015-11-06 09:30:00</td>\n",
              "      <td>P</td>\n",
              "      <td>2</td>\n",
              "      <td>0.921659</td>\n",
              "      <td>0</td>\n",
              "      <td>%</td>\n",
              "      <td>Baseline</td>\n",
              "      <td>0</td>\n",
              "      <td>1</td>\n",
              "      <td>2015</td>\n",
              "      <td>(1,3]</td>\n",
              "      <td>2015</td>\n",
              "      <td>ttm &lt;= 1 month</td>\n",
              "      <td>mny (0.9-1.1]</td>\n",
              "      <td>Others</td>\n",
              "    </tr>\n",
              "    <tr>\n",
              "      <th>39342172</th>\n",
              "      <td>2015-11-27</td>\n",
              "      <td>2015-11-06 09:30:00</td>\n",
              "      <td>C</td>\n",
              "      <td>1</td>\n",
              "      <td>1.001696</td>\n",
              "      <td>0</td>\n",
              "      <td>0</td>\n",
              "      <td>Baseline</td>\n",
              "      <td>0</td>\n",
              "      <td>0</td>\n",
              "      <td>2015</td>\n",
              "      <td>(0,1]</td>\n",
              "      <td>2015</td>\n",
              "      <td>ttm &lt;= 1 month</td>\n",
              "      <td>mny (0.9-1.1]</td>\n",
              "      <td>Stock options</td>\n",
              "    </tr>\n",
              "    <tr>\n",
              "      <th>39342173</th>\n",
              "      <td>2017-01-20</td>\n",
              "      <td>2015-11-06 09:30:00</td>\n",
              "      <td>C</td>\n",
              "      <td>1</td>\n",
              "      <td>0.886115</td>\n",
              "      <td>0</td>\n",
              "      <td>0</td>\n",
              "      <td>Baseline</td>\n",
              "      <td>0</td>\n",
              "      <td>14</td>\n",
              "      <td>2015</td>\n",
              "      <td>(0,1]</td>\n",
              "      <td>2015</td>\n",
              "      <td>ttm &gt; 12 month</td>\n",
              "      <td>mny (0.7-0.9]</td>\n",
              "      <td>Stock options</td>\n",
              "    </tr>\n",
              "    <tr>\n",
              "      <th>39342174</th>\n",
              "      <td>2015-11-20</td>\n",
              "      <td>2015-11-06 09:30:00</td>\n",
              "      <td>C</td>\n",
              "      <td>1</td>\n",
              "      <td>1.009261</td>\n",
              "      <td>1</td>\n",
              "      <td>%</td>\n",
              "      <td>Baseline</td>\n",
              "      <td>1</td>\n",
              "      <td>0</td>\n",
              "      <td>2015</td>\n",
              "      <td>(0,1]</td>\n",
              "      <td>2015</td>\n",
              "      <td>ttm &lt;= 1 month</td>\n",
              "      <td>mny (0.9-1.1]</td>\n",
              "      <td>Others</td>\n",
              "    </tr>\n",
              "    <tr>\n",
              "      <th>39342175</th>\n",
              "      <td>2015-12-18</td>\n",
              "      <td>2015-11-06 09:30:00</td>\n",
              "      <td>C</td>\n",
              "      <td>1</td>\n",
              "      <td>0.991880</td>\n",
              "      <td>0</td>\n",
              "      <td>%</td>\n",
              "      <td>Baseline</td>\n",
              "      <td>0</td>\n",
              "      <td>1</td>\n",
              "      <td>2015</td>\n",
              "      <td>(0,1]</td>\n",
              "      <td>2015</td>\n",
              "      <td>ttm &lt;= 1 month</td>\n",
              "      <td>mny (0.9-1.1]</td>\n",
              "      <td>Others</td>\n",
              "    </tr>\n",
              "  </tbody>\n",
              "</table>\n",
              "</div>"
            ],
            "text/plain": [
              "         EXPIRATION      QUOTE_DATETIME OPTION_TYPE  TRADE_SIZE       myn  \\\n",
              "39342171 2015-12-18 2015-11-06 09:30:00           P           2  0.921659   \n",
              "39342172 2015-11-27 2015-11-06 09:30:00           C           1  1.001696   \n",
              "39342173 2017-01-20 2015-11-06 09:30:00           C           1  0.886115   \n",
              "39342174 2015-11-20 2015-11-06 09:30:00           C           1  1.009261   \n",
              "39342175 2015-12-18 2015-11-06 09:30:00           C           1  0.991880   \n",
              "\n",
              "          buy_sell issue_type      rule  buy_sell_predicted  ttm  year  \\\n",
              "39342171         0          %  Baseline                   0    1  2015   \n",
              "39342172         0          0  Baseline                   0    0  2015   \n",
              "39342173         0          0  Baseline                   0   14  2015   \n",
              "39342174         1          %  Baseline                   1    0  2015   \n",
              "39342175         0          %  Baseline                   0    1  2015   \n",
              "\n",
              "         TRADE_SIZE_binned year_binned      ttm_binned     myn_binned  \\\n",
              "39342171             (1,3]        2015  ttm <= 1 month  mny (0.9-1.1]   \n",
              "39342172             (0,1]        2015  ttm <= 1 month  mny (0.9-1.1]   \n",
              "39342173             (0,1]        2015  ttm > 12 month  mny (0.7-0.9]   \n",
              "39342174             (0,1]        2015  ttm <= 1 month  mny (0.9-1.1]   \n",
              "39342175             (0,1]        2015  ttm <= 1 month  mny (0.9-1.1]   \n",
              "\n",
              "         issue_type_binned  \n",
              "39342171            Others  \n",
              "39342172     Stock options  \n",
              "39342173     Stock options  \n",
              "39342174            Others  \n",
              "39342175            Others  "
            ]
          },
          "execution_count": 21,
          "metadata": {},
          "output_type": "execute_result"
        }
      ],
      "source": [
        "X_print.head()\n"
      ]
    },
    {
      "cell_type": "code",
      "execution_count": 22,
      "metadata": {
        "colab": {
          "base_uri": "https://localhost:8080/",
          "height": 175
        },
        "id": "4KRw_J0IJiFU",
        "outputId": "67881c87-2f86-4562-c0d2-c576c9c8a101"
      },
      "outputs": [
        {
          "data": {
            "text/html": [
              "<div>\n",
              "<style scoped>\n",
              "    .dataframe tbody tr th:only-of-type {\n",
              "        vertical-align: middle;\n",
              "    }\n",
              "\n",
              "    .dataframe tbody tr th {\n",
              "        vertical-align: top;\n",
              "    }\n",
              "\n",
              "    .dataframe thead th {\n",
              "        text-align: right;\n",
              "    }\n",
              "</style>\n",
              "<table border=\"1\" class=\"dataframe\">\n",
              "  <thead>\n",
              "    <tr style=\"text-align: right;\">\n",
              "      <th>rule</th>\n",
              "      <th>Baseline</th>\n",
              "      <th>avg</th>\n",
              "    </tr>\n",
              "    <tr>\n",
              "      <th>year_binned</th>\n",
              "      <th></th>\n",
              "      <th></th>\n",
              "    </tr>\n",
              "  </thead>\n",
              "  <tbody>\n",
              "    <tr>\n",
              "      <th>2015</th>\n",
              "      <td>0.697746</td>\n",
              "      <td>0.697746</td>\n",
              "    </tr>\n",
              "    <tr>\n",
              "      <th>2016</th>\n",
              "      <td>0.730686</td>\n",
              "      <td>0.730686</td>\n",
              "    </tr>\n",
              "    <tr>\n",
              "      <th>2017</th>\n",
              "      <td>0.733271</td>\n",
              "      <td>0.733271</td>\n",
              "    </tr>\n",
              "  </tbody>\n",
              "</table>\n",
              "</div>"
            ],
            "text/plain": [
              "rule         Baseline       avg\n",
              "year_binned                    \n",
              "2015         0.697746  0.697746\n",
              "2016         0.730686  0.730686\n",
              "2017         0.733271  0.733271"
            ]
          },
          "execution_count": 22,
          "metadata": {},
          "output_type": "execute_result"
        }
      ],
      "source": [
        "check_robustness(\"year_binned\")\n"
      ]
    },
    {
      "cell_type": "code",
      "execution_count": 23,
      "metadata": {
        "colab": {
          "base_uri": "https://localhost:8080/",
          "height": 143
        },
        "id": "fCey7G_tE6zt",
        "outputId": "9f605ee5-2cd5-43d5-8ac3-47e8e188582a"
      },
      "outputs": [
        {
          "data": {
            "text/html": [
              "<div>\n",
              "<style scoped>\n",
              "    .dataframe tbody tr th:only-of-type {\n",
              "        vertical-align: middle;\n",
              "    }\n",
              "\n",
              "    .dataframe tbody tr th {\n",
              "        vertical-align: top;\n",
              "    }\n",
              "\n",
              "    .dataframe thead th {\n",
              "        text-align: right;\n",
              "    }\n",
              "</style>\n",
              "<table border=\"1\" class=\"dataframe\">\n",
              "  <thead>\n",
              "    <tr style=\"text-align: right;\">\n",
              "      <th>rule</th>\n",
              "      <th>Baseline</th>\n",
              "      <th>avg</th>\n",
              "    </tr>\n",
              "    <tr>\n",
              "      <th>OPTION_TYPE</th>\n",
              "      <th></th>\n",
              "      <th></th>\n",
              "    </tr>\n",
              "  </thead>\n",
              "  <tbody>\n",
              "    <tr>\n",
              "      <th>C</th>\n",
              "      <td>0.723808</td>\n",
              "      <td>0.723808</td>\n",
              "    </tr>\n",
              "    <tr>\n",
              "      <th>P</th>\n",
              "      <td>0.733558</td>\n",
              "      <td>0.733558</td>\n",
              "    </tr>\n",
              "  </tbody>\n",
              "</table>\n",
              "</div>"
            ],
            "text/plain": [
              "rule         Baseline       avg\n",
              "OPTION_TYPE                    \n",
              "C            0.723808  0.723808\n",
              "P            0.733558  0.733558"
            ]
          },
          "execution_count": 23,
          "metadata": {},
          "output_type": "execute_result"
        }
      ],
      "source": [
        "check_robustness(\"OPTION_TYPE\")\n"
      ]
    },
    {
      "cell_type": "code",
      "execution_count": 24,
      "metadata": {
        "colab": {
          "base_uri": "https://localhost:8080/",
          "height": 175
        },
        "id": "AGbchxWfds_Y",
        "outputId": "8f4b035e-e596-4c43-d152-b66b06e75e5b"
      },
      "outputs": [
        {
          "data": {
            "text/html": [
              "<div>\n",
              "<style scoped>\n",
              "    .dataframe tbody tr th:only-of-type {\n",
              "        vertical-align: middle;\n",
              "    }\n",
              "\n",
              "    .dataframe tbody tr th {\n",
              "        vertical-align: top;\n",
              "    }\n",
              "\n",
              "    .dataframe thead th {\n",
              "        text-align: right;\n",
              "    }\n",
              "</style>\n",
              "<table border=\"1\" class=\"dataframe\">\n",
              "  <thead>\n",
              "    <tr style=\"text-align: right;\">\n",
              "      <th>rule</th>\n",
              "      <th>Baseline</th>\n",
              "      <th>avg</th>\n",
              "    </tr>\n",
              "    <tr>\n",
              "      <th>issue_type_binned</th>\n",
              "      <th></th>\n",
              "      <th></th>\n",
              "    </tr>\n",
              "  </thead>\n",
              "  <tbody>\n",
              "    <tr>\n",
              "      <th>Index options</th>\n",
              "      <td>0.579754</td>\n",
              "      <td>0.579754</td>\n",
              "    </tr>\n",
              "    <tr>\n",
              "      <th>Others</th>\n",
              "      <td>0.767997</td>\n",
              "      <td>0.767997</td>\n",
              "    </tr>\n",
              "    <tr>\n",
              "      <th>Stock options</th>\n",
              "      <td>0.714650</td>\n",
              "      <td>0.714650</td>\n",
              "    </tr>\n",
              "  </tbody>\n",
              "</table>\n",
              "</div>"
            ],
            "text/plain": [
              "rule               Baseline       avg\n",
              "issue_type_binned                    \n",
              "Index options      0.579754  0.579754\n",
              "Others             0.767997  0.767997\n",
              "Stock options      0.714650  0.714650"
            ]
          },
          "execution_count": 24,
          "metadata": {},
          "output_type": "execute_result"
        }
      ],
      "source": [
        "check_robustness(\"issue_type_binned\")"
      ]
    },
    {
      "cell_type": "code",
      "execution_count": 25,
      "metadata": {
        "colab": {
          "base_uri": "https://localhost:8080/",
          "height": 238
        },
        "id": "Zpg1yY2MEGFa",
        "outputId": "68c9f61e-5711-4420-ac91-4a728d419e9b"
      },
      "outputs": [
        {
          "data": {
            "text/html": [
              "<div>\n",
              "<style scoped>\n",
              "    .dataframe tbody tr th:only-of-type {\n",
              "        vertical-align: middle;\n",
              "    }\n",
              "\n",
              "    .dataframe tbody tr th {\n",
              "        vertical-align: top;\n",
              "    }\n",
              "\n",
              "    .dataframe thead th {\n",
              "        text-align: right;\n",
              "    }\n",
              "</style>\n",
              "<table border=\"1\" class=\"dataframe\">\n",
              "  <thead>\n",
              "    <tr style=\"text-align: right;\">\n",
              "      <th>rule</th>\n",
              "      <th>Baseline</th>\n",
              "      <th>avg</th>\n",
              "    </tr>\n",
              "    <tr>\n",
              "      <th>TRADE_SIZE_binned</th>\n",
              "      <th></th>\n",
              "      <th></th>\n",
              "    </tr>\n",
              "  </thead>\n",
              "  <tbody>\n",
              "    <tr>\n",
              "      <th>(0,1]</th>\n",
              "      <td>0.730615</td>\n",
              "      <td>0.730615</td>\n",
              "    </tr>\n",
              "    <tr>\n",
              "      <th>(1,3]</th>\n",
              "      <td>0.735080</td>\n",
              "      <td>0.735080</td>\n",
              "    </tr>\n",
              "    <tr>\n",
              "      <th>(3,5]</th>\n",
              "      <td>0.733318</td>\n",
              "      <td>0.733318</td>\n",
              "    </tr>\n",
              "    <tr>\n",
              "      <th>(5,11]</th>\n",
              "      <td>0.722385</td>\n",
              "      <td>0.722385</td>\n",
              "    </tr>\n",
              "    <tr>\n",
              "      <th>&gt;11</th>\n",
              "      <td>0.716861</td>\n",
              "      <td>0.716861</td>\n",
              "    </tr>\n",
              "  </tbody>\n",
              "</table>\n",
              "</div>"
            ],
            "text/plain": [
              "rule               Baseline       avg\n",
              "TRADE_SIZE_binned                    \n",
              "(0,1]              0.730615  0.730615\n",
              "(1,3]              0.735080  0.735080\n",
              "(3,5]              0.733318  0.733318\n",
              "(5,11]             0.722385  0.722385\n",
              ">11                0.716861  0.716861"
            ]
          },
          "execution_count": 25,
          "metadata": {},
          "output_type": "execute_result"
        }
      ],
      "source": [
        "check_robustness(\"TRADE_SIZE_binned\")\n"
      ]
    },
    {
      "cell_type": "code",
      "execution_count": 26,
      "metadata": {
        "colab": {
          "base_uri": "https://localhost:8080/",
          "height": 269
        },
        "id": "8624JR8wEN4D",
        "outputId": "aa8c130d-44df-4abd-e72d-4957ce154631"
      },
      "outputs": [
        {
          "data": {
            "text/html": [
              "<div>\n",
              "<style scoped>\n",
              "    .dataframe tbody tr th:only-of-type {\n",
              "        vertical-align: middle;\n",
              "    }\n",
              "\n",
              "    .dataframe tbody tr th {\n",
              "        vertical-align: top;\n",
              "    }\n",
              "\n",
              "    .dataframe thead th {\n",
              "        text-align: right;\n",
              "    }\n",
              "</style>\n",
              "<table border=\"1\" class=\"dataframe\">\n",
              "  <thead>\n",
              "    <tr style=\"text-align: right;\">\n",
              "      <th>rule</th>\n",
              "      <th>Baseline</th>\n",
              "      <th>avg</th>\n",
              "    </tr>\n",
              "    <tr>\n",
              "      <th>ttm_binned</th>\n",
              "      <th></th>\n",
              "      <th></th>\n",
              "    </tr>\n",
              "  </thead>\n",
              "  <tbody>\n",
              "    <tr>\n",
              "      <th>ttm &lt;= 1 month</th>\n",
              "      <td>0.732264</td>\n",
              "      <td>0.732264</td>\n",
              "    </tr>\n",
              "    <tr>\n",
              "      <th>ttm (1-2] month</th>\n",
              "      <td>0.732721</td>\n",
              "      <td>0.732721</td>\n",
              "    </tr>\n",
              "    <tr>\n",
              "      <th>ttm (2-3] month</th>\n",
              "      <td>0.723627</td>\n",
              "      <td>0.723627</td>\n",
              "    </tr>\n",
              "    <tr>\n",
              "      <th>ttm (3-6] month</th>\n",
              "      <td>0.718143</td>\n",
              "      <td>0.718143</td>\n",
              "    </tr>\n",
              "    <tr>\n",
              "      <th>ttm (6-12] month</th>\n",
              "      <td>0.716201</td>\n",
              "      <td>0.716201</td>\n",
              "    </tr>\n",
              "    <tr>\n",
              "      <th>ttm &gt; 12 month</th>\n",
              "      <td>0.695536</td>\n",
              "      <td>0.695536</td>\n",
              "    </tr>\n",
              "  </tbody>\n",
              "</table>\n",
              "</div>"
            ],
            "text/plain": [
              "rule              Baseline       avg\n",
              "ttm_binned                          \n",
              "ttm <= 1 month    0.732264  0.732264\n",
              "ttm (1-2] month   0.732721  0.732721\n",
              "ttm (2-3] month   0.723627  0.723627\n",
              "ttm (3-6] month   0.718143  0.718143\n",
              "ttm (6-12] month  0.716201  0.716201\n",
              "ttm > 12 month    0.695536  0.695536"
            ]
          },
          "execution_count": 26,
          "metadata": {},
          "output_type": "execute_result"
        }
      ],
      "source": [
        "check_robustness(\"ttm_binned\")\n"
      ]
    },
    {
      "cell_type": "code",
      "execution_count": 27,
      "metadata": {
        "colab": {
          "base_uri": "https://localhost:8080/",
          "height": 238
        },
        "id": "Z7Vn96hibEvM",
        "outputId": "95c61178-c0b1-4ee7-9f1a-6c66a247ec4e"
      },
      "outputs": [
        {
          "data": {
            "text/html": [
              "<div>\n",
              "<style scoped>\n",
              "    .dataframe tbody tr th:only-of-type {\n",
              "        vertical-align: middle;\n",
              "    }\n",
              "\n",
              "    .dataframe tbody tr th {\n",
              "        vertical-align: top;\n",
              "    }\n",
              "\n",
              "    .dataframe thead th {\n",
              "        text-align: right;\n",
              "    }\n",
              "</style>\n",
              "<table border=\"1\" class=\"dataframe\">\n",
              "  <thead>\n",
              "    <tr style=\"text-align: right;\">\n",
              "      <th>rule</th>\n",
              "      <th>Baseline</th>\n",
              "      <th>avg</th>\n",
              "    </tr>\n",
              "    <tr>\n",
              "      <th>myn_binned</th>\n",
              "      <th></th>\n",
              "      <th></th>\n",
              "    </tr>\n",
              "  </thead>\n",
              "  <tbody>\n",
              "    <tr>\n",
              "      <th>mny &lt;=0.7</th>\n",
              "      <td>0.720464</td>\n",
              "      <td>0.720464</td>\n",
              "    </tr>\n",
              "    <tr>\n",
              "      <th>mny (0.7-0.9]</th>\n",
              "      <td>0.744974</td>\n",
              "      <td>0.744974</td>\n",
              "    </tr>\n",
              "    <tr>\n",
              "      <th>mny (0.9-1.1]</th>\n",
              "      <td>0.733867</td>\n",
              "      <td>0.733867</td>\n",
              "    </tr>\n",
              "    <tr>\n",
              "      <th>mny (1.1-1.3]</th>\n",
              "      <td>0.677745</td>\n",
              "      <td>0.677745</td>\n",
              "    </tr>\n",
              "    <tr>\n",
              "      <th>mny &gt; 1.3</th>\n",
              "      <td>0.646164</td>\n",
              "      <td>0.646164</td>\n",
              "    </tr>\n",
              "  </tbody>\n",
              "</table>\n",
              "</div>"
            ],
            "text/plain": [
              "rule           Baseline       avg\n",
              "myn_binned                       \n",
              "mny <=0.7      0.720464  0.720464\n",
              "mny (0.7-0.9]  0.744974  0.744974\n",
              "mny (0.9-1.1]  0.733867  0.733867\n",
              "mny (1.1-1.3]  0.677745  0.677745\n",
              "mny > 1.3      0.646164  0.646164"
            ]
          },
          "execution_count": 27,
          "metadata": {},
          "output_type": "execute_result"
        }
      ],
      "source": [
        "check_robustness(\"myn_binned\")\n"
      ]
    }
  ],
  "metadata": {
    "accelerator": "GPU",
    "colab": {
      "include_colab_link": true,
      "machine_shape": "hm",
      "name": "Untitled2.ipynb",
      "provenance": []
    },
    "gpuClass": "premium",
    "kernelspec": {
      "display_name": "Python 3",
      "language": "python",
      "name": "python3"
    },
    "language_info": {
      "codemirror_mode": {
        "name": "ipython",
        "version": 3
      },
      "file_extension": ".py",
      "mimetype": "text/x-python",
      "name": "python",
      "nbconvert_exporter": "python",
      "pygments_lexer": "ipython3",
      "version": "3.8.10"
    },
    "vscode": {
      "interpreter": {
        "hash": "e7370f93d1d0cde622a1f8e1c04877d8463912d04d973331ad4851f04de6915a"
      }
    },
    "widgets": {
      "application/vnd.jupyter.widget-state+json": {
        "0520095a66c6494c84fc544b666d7e08": {
          "model_module": "@jupyter-widgets/controls",
          "model_module_version": "1.5.0",
          "model_name": "VBoxModel",
          "state": {
            "_dom_classes": [],
            "_model_module": "@jupyter-widgets/controls",
            "_model_module_version": "1.5.0",
            "_model_name": "VBoxModel",
            "_view_count": null,
            "_view_module": "@jupyter-widgets/controls",
            "_view_module_version": "1.5.0",
            "_view_name": "VBoxView",
            "box_style": "",
            "children": [
              "IPY_MODEL_6a627758a6ca4cabbb66511ec9fb896d",
              "IPY_MODEL_e18f62a2204b4bc996153a61c450e9d0"
            ],
            "layout": "IPY_MODEL_71220a6aefa64e308d0c27e71f2b97e7"
          }
        },
        "2b7f14124ba24d8fbca729c036e3e208": {
          "model_module": "@jupyter-widgets/base",
          "model_module_version": "1.2.0",
          "model_name": "LayoutModel",
          "state": {
            "_model_module": "@jupyter-widgets/base",
            "_model_module_version": "1.2.0",
            "_model_name": "LayoutModel",
            "_view_count": null,
            "_view_module": "@jupyter-widgets/base",
            "_view_module_version": "1.2.0",
            "_view_name": "LayoutView",
            "align_content": null,
            "align_items": null,
            "align_self": null,
            "border": null,
            "bottom": null,
            "display": null,
            "flex": null,
            "flex_flow": null,
            "grid_area": null,
            "grid_auto_columns": null,
            "grid_auto_flow": null,
            "grid_auto_rows": null,
            "grid_column": null,
            "grid_gap": null,
            "grid_row": null,
            "grid_template_areas": null,
            "grid_template_columns": null,
            "grid_template_rows": null,
            "height": null,
            "justify_content": null,
            "justify_items": null,
            "left": null,
            "margin": null,
            "max_height": null,
            "max_width": null,
            "min_height": null,
            "min_width": null,
            "object_fit": null,
            "object_position": null,
            "order": null,
            "overflow": null,
            "overflow_x": null,
            "overflow_y": null,
            "padding": null,
            "right": null,
            "top": null,
            "visibility": null,
            "width": null
          }
        },
        "5dbc22d0901d49da95336aa066c6ed1e": {
          "model_module": "@jupyter-widgets/controls",
          "model_module_version": "1.5.0",
          "model_name": "DescriptionStyleModel",
          "state": {
            "_model_module": "@jupyter-widgets/controls",
            "_model_module_version": "1.5.0",
            "_model_name": "DescriptionStyleModel",
            "_view_count": null,
            "_view_module": "@jupyter-widgets/base",
            "_view_module_version": "1.2.0",
            "_view_name": "StyleView",
            "description_width": ""
          }
        },
        "6a627758a6ca4cabbb66511ec9fb896d": {
          "model_module": "@jupyter-widgets/controls",
          "model_module_version": "1.5.0",
          "model_name": "LabelModel",
          "state": {
            "_dom_classes": [],
            "_model_module": "@jupyter-widgets/controls",
            "_model_module_version": "1.5.0",
            "_model_name": "LabelModel",
            "_view_count": null,
            "_view_module": "@jupyter-widgets/controls",
            "_view_module_version": "1.5.0",
            "_view_name": "LabelView",
            "description": "",
            "description_tooltip": null,
            "layout": "IPY_MODEL_2b7f14124ba24d8fbca729c036e3e208",
            "placeholder": "​",
            "style": "IPY_MODEL_5dbc22d0901d49da95336aa066c6ed1e",
            "value": "0.009 MB of 0.009 MB uploaded (0.000 MB deduped)\r"
          }
        },
        "6cc029b6d8254ece86654f23c2131346": {
          "model_module": "@jupyter-widgets/base",
          "model_module_version": "1.2.0",
          "model_name": "LayoutModel",
          "state": {
            "_model_module": "@jupyter-widgets/base",
            "_model_module_version": "1.2.0",
            "_model_name": "LayoutModel",
            "_view_count": null,
            "_view_module": "@jupyter-widgets/base",
            "_view_module_version": "1.2.0",
            "_view_name": "LayoutView",
            "align_content": null,
            "align_items": null,
            "align_self": null,
            "border": null,
            "bottom": null,
            "display": null,
            "flex": null,
            "flex_flow": null,
            "grid_area": null,
            "grid_auto_columns": null,
            "grid_auto_flow": null,
            "grid_auto_rows": null,
            "grid_column": null,
            "grid_gap": null,
            "grid_row": null,
            "grid_template_areas": null,
            "grid_template_columns": null,
            "grid_template_rows": null,
            "height": null,
            "justify_content": null,
            "justify_items": null,
            "left": null,
            "margin": null,
            "max_height": null,
            "max_width": null,
            "min_height": null,
            "min_width": null,
            "object_fit": null,
            "object_position": null,
            "order": null,
            "overflow": null,
            "overflow_x": null,
            "overflow_y": null,
            "padding": null,
            "right": null,
            "top": null,
            "visibility": null,
            "width": null
          }
        },
        "71220a6aefa64e308d0c27e71f2b97e7": {
          "model_module": "@jupyter-widgets/base",
          "model_module_version": "1.2.0",
          "model_name": "LayoutModel",
          "state": {
            "_model_module": "@jupyter-widgets/base",
            "_model_module_version": "1.2.0",
            "_model_name": "LayoutModel",
            "_view_count": null,
            "_view_module": "@jupyter-widgets/base",
            "_view_module_version": "1.2.0",
            "_view_name": "LayoutView",
            "align_content": null,
            "align_items": null,
            "align_self": null,
            "border": null,
            "bottom": null,
            "display": null,
            "flex": null,
            "flex_flow": null,
            "grid_area": null,
            "grid_auto_columns": null,
            "grid_auto_flow": null,
            "grid_auto_rows": null,
            "grid_column": null,
            "grid_gap": null,
            "grid_row": null,
            "grid_template_areas": null,
            "grid_template_columns": null,
            "grid_template_rows": null,
            "height": null,
            "justify_content": null,
            "justify_items": null,
            "left": null,
            "margin": null,
            "max_height": null,
            "max_width": null,
            "min_height": null,
            "min_width": null,
            "object_fit": null,
            "object_position": null,
            "order": null,
            "overflow": null,
            "overflow_x": null,
            "overflow_y": null,
            "padding": null,
            "right": null,
            "top": null,
            "visibility": null,
            "width": null
          }
        },
        "865c2f9c950b4710914ed4d7d11c9d7f": {
          "model_module": "@jupyter-widgets/controls",
          "model_module_version": "1.5.0",
          "model_name": "ProgressStyleModel",
          "state": {
            "_model_module": "@jupyter-widgets/controls",
            "_model_module_version": "1.5.0",
            "_model_name": "ProgressStyleModel",
            "_view_count": null,
            "_view_module": "@jupyter-widgets/base",
            "_view_module_version": "1.2.0",
            "_view_name": "StyleView",
            "bar_color": null,
            "description_width": ""
          }
        },
        "e18f62a2204b4bc996153a61c450e9d0": {
          "model_module": "@jupyter-widgets/controls",
          "model_module_version": "1.5.0",
          "model_name": "FloatProgressModel",
          "state": {
            "_dom_classes": [],
            "_model_module": "@jupyter-widgets/controls",
            "_model_module_version": "1.5.0",
            "_model_name": "FloatProgressModel",
            "_view_count": null,
            "_view_module": "@jupyter-widgets/controls",
            "_view_module_version": "1.5.0",
            "_view_name": "ProgressView",
            "bar_style": "",
            "description": "",
            "description_tooltip": null,
            "layout": "IPY_MODEL_6cc029b6d8254ece86654f23c2131346",
            "max": 1,
            "min": 0,
            "orientation": "horizontal",
            "style": "IPY_MODEL_865c2f9c950b4710914ed4d7d11c9d7f",
            "value": 1
          }
        }
      }
    }
  },
  "nbformat": 4,
  "nbformat_minor": 0
}
