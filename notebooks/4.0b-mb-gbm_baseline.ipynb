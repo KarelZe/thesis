{
 "cells": [
  {
   "cell_type": "code",
   "execution_count": 1,
   "metadata": {
    "colab": {
     "base_uri": "https://localhost:8080/",
     "height": 1000
    },
    "id": "nxXvpIDU2_t7",
    "outputId": "e44929e1-9073-4b69-ba35-f6eb0c3097d9"
   },
   "outputs": [
    {
     "name": "stdout",
     "output_type": "stream",
     "text": [
      "Defaulting to user installation because normal site-packages is not writeable\n",
      "Requirement already satisfied: catboost==1.1 in /pfs/data5/home/kit/stud/uloak/.local/lib/python3.8/site-packages (1.1)\n",
      "Requirement already satisfied: scipy in /pfs/data5/software_uc2/bwhpc/common/jupyter/base/2022-03-30/lib/python3.8/site-packages (from catboost==1.1) (1.8.0)\n",
      "Requirement already satisfied: numpy>=1.16.0 in /pfs/data5/software_uc2/bwhpc/common/jupyter/base/2022-03-30/lib/python3.8/site-packages (from catboost==1.1) (1.22.3)\n",
      "Requirement already satisfied: plotly in /pfs/data5/software_uc2/bwhpc/common/jupyter/base/2022-03-30/lib/python3.8/site-packages (from catboost==1.1) (5.6.0)\n",
      "Requirement already satisfied: pandas>=0.24.0 in /pfs/data5/software_uc2/bwhpc/common/jupyter/base/2022-03-30/lib/python3.8/site-packages (from catboost==1.1) (1.4.1)\n",
      "Requirement already satisfied: six in /pfs/data5/software_uc2/bwhpc/common/jupyter/base/2022-03-30/lib/python3.8/site-packages (from catboost==1.1) (1.16.0)\n",
      "Requirement already satisfied: matplotlib in /pfs/data5/software_uc2/bwhpc/common/jupyter/base/2022-03-30/lib/python3.8/site-packages (from catboost==1.1) (3.5.1)\n",
      "Requirement already satisfied: graphviz in /pfs/data5/home/kit/stud/uloak/.local/lib/python3.8/site-packages (from catboost==1.1) (0.20.1)\n",
      "Requirement already satisfied: python-dateutil>=2.8.1 in /pfs/data5/software_uc2/bwhpc/common/jupyter/base/2022-03-30/lib/python3.8/site-packages (from pandas>=0.24.0->catboost==1.1) (2.8.2)\n",
      "Requirement already satisfied: pytz>=2020.1 in /pfs/data5/software_uc2/bwhpc/common/jupyter/base/2022-03-30/lib/python3.8/site-packages (from pandas>=0.24.0->catboost==1.1) (2022.1)\n",
      "Requirement already satisfied: packaging>=20.0 in /pfs/data5/software_uc2/bwhpc/common/jupyter/base/2022-03-30/lib/python3.8/site-packages (from matplotlib->catboost==1.1) (21.3)\n",
      "Requirement already satisfied: pillow>=6.2.0 in /pfs/data5/software_uc2/bwhpc/common/jupyter/base/2022-03-30/lib/python3.8/site-packages (from matplotlib->catboost==1.1) (9.0.1)\n",
      "Requirement already satisfied: pyparsing>=2.2.1 in /pfs/data5/software_uc2/bwhpc/common/jupyter/base/2022-03-30/lib/python3.8/site-packages (from matplotlib->catboost==1.1) (3.0.7)\n",
      "Requirement already satisfied: fonttools>=4.22.0 in /pfs/data5/software_uc2/bwhpc/common/jupyter/base/2022-03-30/lib/python3.8/site-packages (from matplotlib->catboost==1.1) (4.31.2)\n",
      "Requirement already satisfied: kiwisolver>=1.0.1 in /pfs/data5/software_uc2/bwhpc/common/jupyter/base/2022-03-30/lib/python3.8/site-packages (from matplotlib->catboost==1.1) (1.4.2)\n",
      "Requirement already satisfied: cycler>=0.10 in /pfs/data5/software_uc2/bwhpc/common/jupyter/base/2022-03-30/lib/python3.8/site-packages (from matplotlib->catboost==1.1) (0.11.0)\n",
      "Requirement already satisfied: tenacity>=6.2.0 in /pfs/data5/software_uc2/bwhpc/common/jupyter/base/2022-03-30/lib/python3.8/site-packages (from plotly->catboost==1.1) (8.0.1)\n",
      "\u001b[33mWARNING: You are using pip version 22.0.4; however, version 22.3.1 is available.\n",
      "You should consider upgrading via the '/opt/bwhpc/common/jupyter/base/2022-03-30/bin/python3.8 -m pip install --upgrade pip' command.\u001b[0m\u001b[33m\n",
      "\u001b[0mDefaulting to user installation because normal site-packages is not writeable\n",
      "Collecting gcsfs==2022.10.0\n",
      "  Using cached gcsfs-2022.10.0-py2.py3-none-any.whl (25 kB)\n",
      "Collecting fsspec==2022.10.0\n",
      "  Using cached fsspec-2022.10.0-py3-none-any.whl (138 kB)\n",
      "Collecting google-auth-oauthlib\n",
      "  Using cached google_auth_oauthlib-0.8.0-py2.py3-none-any.whl (19 kB)\n",
      "Collecting google-cloud-storage\n",
      "  Using cached google_cloud_storage-2.7.0-py2.py3-none-any.whl (110 kB)\n",
      "Requirement already satisfied: decorator>4.1.2 in /pfs/data5/software_uc2/bwhpc/common/jupyter/base/2022-03-30/lib/python3.8/site-packages (from gcsfs==2022.10.0) (5.1.1)\n",
      "Requirement already satisfied: aiohttp!=4.0.0a0,!=4.0.0a1 in /pfs/data5/software_uc2/bwhpc/common/jupyter/base/2022-03-30/lib/python3.8/site-packages (from gcsfs==2022.10.0) (3.8.1)\n",
      "Collecting google-auth>=1.2\n",
      "  Using cached google_auth-2.15.0-py2.py3-none-any.whl (177 kB)\n",
      "Requirement already satisfied: requests in /pfs/data5/software_uc2/bwhpc/common/jupyter/base/2022-03-30/lib/python3.8/site-packages (from gcsfs==2022.10.0) (2.27.1)\n",
      "Requirement already satisfied: attrs>=17.3.0 in /pfs/data5/software_uc2/bwhpc/common/jupyter/base/2022-03-30/lib/python3.8/site-packages (from aiohttp!=4.0.0a0,!=4.0.0a1->gcsfs==2022.10.0) (21.4.0)\n",
      "Requirement already satisfied: async-timeout<5.0,>=4.0.0a3 in /pfs/data5/software_uc2/bwhpc/common/jupyter/base/2022-03-30/lib/python3.8/site-packages (from aiohttp!=4.0.0a0,!=4.0.0a1->gcsfs==2022.10.0) (4.0.2)\n",
      "Requirement already satisfied: charset-normalizer<3.0,>=2.0 in /pfs/data5/software_uc2/bwhpc/common/jupyter/base/2022-03-30/lib/python3.8/site-packages (from aiohttp!=4.0.0a0,!=4.0.0a1->gcsfs==2022.10.0) (2.0.12)\n",
      "Requirement already satisfied: multidict<7.0,>=4.5 in /pfs/data5/software_uc2/bwhpc/common/jupyter/base/2022-03-30/lib/python3.8/site-packages (from aiohttp!=4.0.0a0,!=4.0.0a1->gcsfs==2022.10.0) (6.0.2)\n",
      "Requirement already satisfied: aiosignal>=1.1.2 in /pfs/data5/software_uc2/bwhpc/common/jupyter/base/2022-03-30/lib/python3.8/site-packages (from aiohttp!=4.0.0a0,!=4.0.0a1->gcsfs==2022.10.0) (1.2.0)\n",
      "Requirement already satisfied: yarl<2.0,>=1.0 in /pfs/data5/software_uc2/bwhpc/common/jupyter/base/2022-03-30/lib/python3.8/site-packages (from aiohttp!=4.0.0a0,!=4.0.0a1->gcsfs==2022.10.0) (1.7.2)\n",
      "Requirement already satisfied: frozenlist>=1.1.1 in /pfs/data5/software_uc2/bwhpc/common/jupyter/base/2022-03-30/lib/python3.8/site-packages (from aiohttp!=4.0.0a0,!=4.0.0a1->gcsfs==2022.10.0) (1.3.0)\n",
      "Requirement already satisfied: six>=1.9.0 in /pfs/data5/software_uc2/bwhpc/common/jupyter/base/2022-03-30/lib/python3.8/site-packages (from google-auth>=1.2->gcsfs==2022.10.0) (1.16.0)\n",
      "Collecting pyasn1-modules>=0.2.1\n",
      "  Using cached pyasn1_modules-0.2.8-py2.py3-none-any.whl (155 kB)\n",
      "Collecting cachetools<6.0,>=2.0.0\n",
      "  Using cached cachetools-5.2.0-py3-none-any.whl (9.3 kB)\n",
      "Collecting rsa<5,>=3.1.4\n",
      "  Using cached rsa-4.9-py3-none-any.whl (34 kB)\n",
      "Collecting requests-oauthlib>=0.7.0\n",
      "  Using cached requests_oauthlib-1.3.1-py2.py3-none-any.whl (23 kB)\n",
      "Collecting google-resumable-media>=2.3.2\n",
      "  Using cached google_resumable_media-2.4.0-py2.py3-none-any.whl (77 kB)\n",
      "Collecting google-cloud-core<3.0dev,>=2.3.0\n",
      "  Using cached google_cloud_core-2.3.2-py2.py3-none-any.whl (29 kB)\n",
      "Collecting google-api-core!=2.0.*,!=2.1.*,!=2.2.*,!=2.3.0,<3.0.0dev,>=1.31.5\n",
      "  Using cached google_api_core-2.11.0-py3-none-any.whl (120 kB)\n",
      "Requirement already satisfied: urllib3<1.27,>=1.21.1 in /pfs/data5/software_uc2/bwhpc/common/jupyter/base/2022-03-30/lib/python3.8/site-packages (from requests->gcsfs==2022.10.0) (1.26.9)\n",
      "Requirement already satisfied: idna<4,>=2.5 in /pfs/data5/software_uc2/bwhpc/common/jupyter/base/2022-03-30/lib/python3.8/site-packages (from requests->gcsfs==2022.10.0) (3.3)\n",
      "Requirement already satisfied: certifi>=2017.4.17 in /pfs/data5/software_uc2/bwhpc/common/jupyter/base/2022-03-30/lib/python3.8/site-packages (from requests->gcsfs==2022.10.0) (2021.10.8)\n",
      "Collecting protobuf!=3.20.0,!=3.20.1,!=4.21.0,!=4.21.1,!=4.21.2,!=4.21.3,!=4.21.4,!=4.21.5,<5.0.0dev,>=3.19.5\n",
      "  Using cached protobuf-4.21.12-cp37-abi3-manylinux2014_x86_64.whl (409 kB)\n",
      "Collecting googleapis-common-protos<2.0dev,>=1.56.2\n",
      "  Using cached googleapis_common_protos-1.57.0-py2.py3-none-any.whl (217 kB)\n",
      "Collecting google-crc32c<2.0dev,>=1.0\n",
      "  Using cached google_crc32c-1.5.0-cp38-cp38-manylinux_2_17_x86_64.manylinux2014_x86_64.whl (32 kB)\n",
      "Collecting pyasn1<0.5.0,>=0.4.6\n",
      "  Using cached pyasn1-0.4.8-py2.py3-none-any.whl (77 kB)\n",
      "Requirement already satisfied: oauthlib>=3.0.0 in /pfs/data5/software_uc2/bwhpc/common/jupyter/base/2022-03-30/lib/python3.8/site-packages (from requests-oauthlib>=0.7.0->google-auth-oauthlib->gcsfs==2022.10.0) (3.2.0)\n",
      "\u001b[31mERROR: Will not install to the user site because it will lack sys.path precedence to fsspec in /pfs/data5/software_uc2/bwhpc/common/jupyter/base/2022-03-30/lib/python3.8/site-packages\u001b[0m\u001b[31m\n",
      "\u001b[0m\u001b[33mWARNING: You are using pip version 22.0.4; however, version 22.3.1 is available.\n",
      "You should consider upgrading via the '/opt/bwhpc/common/jupyter/base/2022-03-30/bin/python3.8 -m pip install --upgrade pip' command.\u001b[0m\u001b[33m\n",
      "\u001b[0mDefaulting to user installation because normal site-packages is not writeable\n",
      "Collecting ipywidgets==8.0.2\n",
      "  Using cached ipywidgets-8.0.2-py3-none-any.whl (134 kB)\n",
      "Requirement already satisfied: traitlets>=4.3.1 in /pfs/data5/software_uc2/bwhpc/common/jupyter/base/2022-03-30/lib/python3.8/site-packages (from ipywidgets==8.0.2) (5.1.1)\n",
      "Collecting jupyterlab-widgets~=3.0\n",
      "  Using cached jupyterlab_widgets-3.0.4-py3-none-any.whl (384 kB)\n",
      "Requirement already satisfied: ipykernel>=4.5.1 in /pfs/data5/software_uc2/bwhpc/common/jupyter/base/2022-03-30/lib/python3.8/site-packages (from ipywidgets==8.0.2) (6.11.0)\n",
      "Requirement already satisfied: ipython>=6.1.0 in /pfs/data5/software_uc2/bwhpc/common/jupyter/base/2022-03-30/lib/python3.8/site-packages (from ipywidgets==8.0.2) (8.2.0)\n",
      "Collecting widgetsnbextension~=4.0\n",
      "  Using cached widgetsnbextension-4.0.4-py3-none-any.whl (2.0 MB)\n",
      "Requirement already satisfied: debugpy>=1.0 in /pfs/data5/software_uc2/bwhpc/common/jupyter/base/2022-03-30/lib/python3.8/site-packages (from ipykernel>=4.5.1->ipywidgets==8.0.2) (1.6.0)\n",
      "Requirement already satisfied: setuptools>=60 in /pfs/data5/software_uc2/bwhpc/common/jupyter/base/2022-03-30/lib/python3.8/site-packages (from ipykernel>=4.5.1->ipywidgets==8.0.2) (61.2.0)\n",
      "Requirement already satisfied: matplotlib-inline>=0.1 in /pfs/data5/software_uc2/bwhpc/common/jupyter/base/2022-03-30/lib/python3.8/site-packages (from ipykernel>=4.5.1->ipywidgets==8.0.2) (0.1.3)\n",
      "Requirement already satisfied: nest-asyncio in /pfs/data5/software_uc2/bwhpc/common/jupyter/base/2022-03-30/lib/python3.8/site-packages (from ipykernel>=4.5.1->ipywidgets==8.0.2) (1.5.4)\n",
      "Requirement already satisfied: psutil in /pfs/data5/software_uc2/bwhpc/common/jupyter/base/2022-03-30/lib/python3.8/site-packages (from ipykernel>=4.5.1->ipywidgets==8.0.2) (5.9.0)\n",
      "Requirement already satisfied: jupyter-client>=6.1.12 in /pfs/data5/software_uc2/bwhpc/common/jupyter/base/2022-03-30/lib/python3.8/site-packages (from ipykernel>=4.5.1->ipywidgets==8.0.2) (7.2.1)\n",
      "Requirement already satisfied: tornado>=6.1 in /pfs/data5/software_uc2/bwhpc/common/jupyter/base/2022-03-30/lib/python3.8/site-packages (from ipykernel>=4.5.1->ipywidgets==8.0.2) (6.1)\n",
      "Requirement already satisfied: stack-data in /pfs/data5/software_uc2/bwhpc/common/jupyter/base/2022-03-30/lib/python3.8/site-packages (from ipython>=6.1.0->ipywidgets==8.0.2) (0.2.0)\n",
      "Requirement already satisfied: decorator in /pfs/data5/software_uc2/bwhpc/common/jupyter/base/2022-03-30/lib/python3.8/site-packages (from ipython>=6.1.0->ipywidgets==8.0.2) (5.1.1)\n",
      "Requirement already satisfied: pygments>=2.4.0 in /pfs/data5/software_uc2/bwhpc/common/jupyter/base/2022-03-30/lib/python3.8/site-packages (from ipython>=6.1.0->ipywidgets==8.0.2) (2.11.2)\n",
      "Requirement already satisfied: prompt-toolkit!=3.0.0,!=3.0.1,<3.1.0,>=2.0.0 in /pfs/data5/software_uc2/bwhpc/common/jupyter/base/2022-03-30/lib/python3.8/site-packages (from ipython>=6.1.0->ipywidgets==8.0.2) (3.0.28)\n",
      "Requirement already satisfied: backcall in /pfs/data5/software_uc2/bwhpc/common/jupyter/base/2022-03-30/lib/python3.8/site-packages (from ipython>=6.1.0->ipywidgets==8.0.2) (0.2.0)\n",
      "Requirement already satisfied: pickleshare in /pfs/data5/software_uc2/bwhpc/common/jupyter/base/2022-03-30/lib/python3.8/site-packages (from ipython>=6.1.0->ipywidgets==8.0.2) (0.7.5)\n",
      "Requirement already satisfied: jedi>=0.16 in /pfs/data5/software_uc2/bwhpc/common/jupyter/base/2022-03-30/lib/python3.8/site-packages (from ipython>=6.1.0->ipywidgets==8.0.2) (0.18.1)\n",
      "Requirement already satisfied: pexpect>4.3 in /pfs/data5/software_uc2/bwhpc/common/jupyter/base/2022-03-30/lib/python3.8/site-packages (from ipython>=6.1.0->ipywidgets==8.0.2) (4.8.0)\n",
      "Requirement already satisfied: parso<0.9.0,>=0.8.0 in /pfs/data5/software_uc2/bwhpc/common/jupyter/base/2022-03-30/lib/python3.8/site-packages (from jedi>=0.16->ipython>=6.1.0->ipywidgets==8.0.2) (0.8.3)\n",
      "Requirement already satisfied: python-dateutil>=2.8.2 in /pfs/data5/software_uc2/bwhpc/common/jupyter/base/2022-03-30/lib/python3.8/site-packages (from jupyter-client>=6.1.12->ipykernel>=4.5.1->ipywidgets==8.0.2) (2.8.2)\n",
      "Requirement already satisfied: entrypoints in /pfs/data5/software_uc2/bwhpc/common/jupyter/base/2022-03-30/lib/python3.8/site-packages (from jupyter-client>=6.1.12->ipykernel>=4.5.1->ipywidgets==8.0.2) (0.4)\n",
      "Requirement already satisfied: pyzmq>=22.3 in /pfs/data5/software_uc2/bwhpc/common/jupyter/base/2022-03-30/lib/python3.8/site-packages (from jupyter-client>=6.1.12->ipykernel>=4.5.1->ipywidgets==8.0.2) (22.3.0)\n",
      "Requirement already satisfied: jupyter-core>=4.9.2 in /pfs/data5/software_uc2/bwhpc/common/jupyter/base/2022-03-30/lib/python3.8/site-packages (from jupyter-client>=6.1.12->ipykernel>=4.5.1->ipywidgets==8.0.2) (4.9.2)\n",
      "Requirement already satisfied: ptyprocess>=0.5 in /pfs/data5/software_uc2/bwhpc/common/jupyter/base/2022-03-30/lib/python3.8/site-packages (from pexpect>4.3->ipython>=6.1.0->ipywidgets==8.0.2) (0.7.0)\n",
      "Requirement already satisfied: wcwidth in /pfs/data5/software_uc2/bwhpc/common/jupyter/base/2022-03-30/lib/python3.8/site-packages (from prompt-toolkit!=3.0.0,!=3.0.1,<3.1.0,>=2.0.0->ipython>=6.1.0->ipywidgets==8.0.2) (0.2.5)\n",
      "Requirement already satisfied: executing in /pfs/data5/software_uc2/bwhpc/common/jupyter/base/2022-03-30/lib/python3.8/site-packages (from stack-data->ipython>=6.1.0->ipywidgets==8.0.2) (0.8.3)\n",
      "Requirement already satisfied: asttokens in /pfs/data5/software_uc2/bwhpc/common/jupyter/base/2022-03-30/lib/python3.8/site-packages (from stack-data->ipython>=6.1.0->ipywidgets==8.0.2) (2.0.5)\n",
      "Requirement already satisfied: pure-eval in /pfs/data5/software_uc2/bwhpc/common/jupyter/base/2022-03-30/lib/python3.8/site-packages (from stack-data->ipython>=6.1.0->ipywidgets==8.0.2) (0.2.2)\n",
      "Requirement already satisfied: six>=1.5 in /pfs/data5/software_uc2/bwhpc/common/jupyter/base/2022-03-30/lib/python3.8/site-packages (from python-dateutil>=2.8.2->jupyter-client>=6.1.12->ipykernel>=4.5.1->ipywidgets==8.0.2) (1.16.0)\n",
      "\u001b[31mERROR: Will not install to the user site because it will lack sys.path precedence to ipywidgets in /pfs/data5/software_uc2/bwhpc/common/jupyter/base/2022-03-30/lib/python3.8/site-packages\u001b[0m\u001b[31m\n",
      "\u001b[0m\u001b[33mWARNING: You are using pip version 22.0.4; however, version 22.3.1 is available.\n",
      "You should consider upgrading via the '/opt/bwhpc/common/jupyter/base/2022-03-30/bin/python3.8 -m pip install --upgrade pip' command.\u001b[0m\u001b[33m\n",
      "\u001b[0mDefaulting to user installation because normal site-packages is not writeable\n",
      "Collecting numpy==1.23.4\n",
      "  Using cached numpy-1.23.4-cp38-cp38-manylinux_2_17_x86_64.manylinux2014_x86_64.whl (17.1 MB)\n",
      "\u001b[31mERROR: Will not install to the user site because it will lack sys.path precedence to numpy in /pfs/data5/software_uc2/bwhpc/common/jupyter/base/2022-03-30/lib/python3.8/site-packages\u001b[0m\u001b[31m\n",
      "\u001b[0m\u001b[33mWARNING: You are using pip version 22.0.4; however, version 22.3.1 is available.\n",
      "You should consider upgrading via the '/opt/bwhpc/common/jupyter/base/2022-03-30/bin/python3.8 -m pip install --upgrade pip' command.\u001b[0m\u001b[33m\n",
      "\u001b[0mDefaulting to user installation because normal site-packages is not writeable\n",
      "Collecting pandas==1.5.1\n",
      "  Using cached pandas-1.5.1-cp38-cp38-manylinux_2_17_x86_64.manylinux2014_x86_64.whl (12.2 MB)\n",
      "Requirement already satisfied: numpy>=1.20.3 in /pfs/data5/software_uc2/bwhpc/common/jupyter/base/2022-03-30/lib/python3.8/site-packages (from pandas==1.5.1) (1.22.3)\n",
      "Requirement already satisfied: pytz>=2020.1 in /pfs/data5/software_uc2/bwhpc/common/jupyter/base/2022-03-30/lib/python3.8/site-packages (from pandas==1.5.1) (2022.1)\n",
      "Requirement already satisfied: python-dateutil>=2.8.1 in /pfs/data5/software_uc2/bwhpc/common/jupyter/base/2022-03-30/lib/python3.8/site-packages (from pandas==1.5.1) (2.8.2)\n",
      "Requirement already satisfied: six>=1.5 in /pfs/data5/software_uc2/bwhpc/common/jupyter/base/2022-03-30/lib/python3.8/site-packages (from python-dateutil>=2.8.1->pandas==1.5.1) (1.16.0)\n",
      "\u001b[31mERROR: Will not install to the user site because it will lack sys.path precedence to pandas in /pfs/data5/software_uc2/bwhpc/common/jupyter/base/2022-03-30/lib/python3.8/site-packages\u001b[0m\u001b[31m\n",
      "\u001b[0m\u001b[33mWARNING: You are using pip version 22.0.4; however, version 22.3.1 is available.\n",
      "You should consider upgrading via the '/opt/bwhpc/common/jupyter/base/2022-03-30/bin/python3.8 -m pip install --upgrade pip' command.\u001b[0m\u001b[33m\n",
      "\u001b[0mDefaulting to user installation because normal site-packages is not writeable\n",
      "Requirement already satisfied: scikit-learn==1.1.3 in /pfs/data5/home/kit/stud/uloak/.local/lib/python3.8/site-packages (1.1.3)\n",
      "Requirement already satisfied: threadpoolctl>=2.0.0 in /pfs/data5/home/kit/stud/uloak/.local/lib/python3.8/site-packages (from scikit-learn==1.1.3) (3.1.0)\n",
      "Requirement already satisfied: joblib>=1.0.0 in /pfs/data5/home/kit/stud/uloak/.local/lib/python3.8/site-packages (from scikit-learn==1.1.3) (1.2.0)\n",
      "Requirement already satisfied: scipy>=1.3.2 in /pfs/data5/software_uc2/bwhpc/common/jupyter/base/2022-03-30/lib/python3.8/site-packages (from scikit-learn==1.1.3) (1.8.0)\n",
      "Requirement already satisfied: numpy>=1.17.3 in /pfs/data5/software_uc2/bwhpc/common/jupyter/base/2022-03-30/lib/python3.8/site-packages (from scikit-learn==1.1.3) (1.22.3)\n",
      "\u001b[33mWARNING: You are using pip version 22.0.4; however, version 22.3.1 is available.\n",
      "You should consider upgrading via the '/opt/bwhpc/common/jupyter/base/2022-03-30/bin/python3.8 -m pip install --upgrade pip' command.\u001b[0m\u001b[33m\n",
      "\u001b[0mDefaulting to user installation because normal site-packages is not writeable\n",
      "Collecting fastparquet\n",
      "  Using cached fastparquet-2022.12.0-cp38-cp38-manylinux_2_17_x86_64.manylinux2014_x86_64.whl (1.6 MB)\n",
      "Requirement already satisfied: numpy>=1.20.3 in /pfs/data5/software_uc2/bwhpc/common/jupyter/base/2022-03-30/lib/python3.8/site-packages (from fastparquet) (1.22.3)\n",
      "Collecting pandas>=1.5.0\n",
      "  Using cached pandas-1.5.2-cp38-cp38-manylinux_2_17_x86_64.manylinux2014_x86_64.whl (12.2 MB)\n",
      "Collecting cramjam>=2.3\n",
      "  Using cached cramjam-2.6.2-cp38-cp38-manylinux_2_17_x86_64.manylinux2014_x86_64.whl (2.0 MB)\n",
      "Requirement already satisfied: fsspec in /pfs/data5/software_uc2/bwhpc/common/jupyter/base/2022-03-30/lib/python3.8/site-packages (from fastparquet) (2022.2.0)\n",
      "Requirement already satisfied: packaging in /pfs/data5/software_uc2/bwhpc/common/jupyter/base/2022-03-30/lib/python3.8/site-packages (from fastparquet) (21.3)\n",
      "Requirement already satisfied: pytz>=2020.1 in /pfs/data5/software_uc2/bwhpc/common/jupyter/base/2022-03-30/lib/python3.8/site-packages (from pandas>=1.5.0->fastparquet) (2022.1)\n",
      "Requirement already satisfied: python-dateutil>=2.8.1 in /pfs/data5/software_uc2/bwhpc/common/jupyter/base/2022-03-30/lib/python3.8/site-packages (from pandas>=1.5.0->fastparquet) (2.8.2)\n",
      "Requirement already satisfied: pyparsing!=3.0.5,>=2.0.2 in /pfs/data5/software_uc2/bwhpc/common/jupyter/base/2022-03-30/lib/python3.8/site-packages (from packaging->fastparquet) (3.0.7)\n",
      "Requirement already satisfied: six>=1.5 in /pfs/data5/software_uc2/bwhpc/common/jupyter/base/2022-03-30/lib/python3.8/site-packages (from python-dateutil>=2.8.1->pandas>=1.5.0->fastparquet) (1.16.0)\n",
      "\u001b[31mERROR: Will not install to the user site because it will lack sys.path precedence to pandas in /pfs/data5/software_uc2/bwhpc/common/jupyter/base/2022-03-30/lib/python3.8/site-packages\u001b[0m\u001b[31m\n",
      "\u001b[0m\u001b[33mWARNING: You are using pip version 22.0.4; however, version 22.3.1 is available.\n",
      "You should consider upgrading via the '/opt/bwhpc/common/jupyter/base/2022-03-30/bin/python3.8 -m pip install --upgrade pip' command.\u001b[0m\u001b[33m\n",
      "\u001b[0mDefaulting to user installation because normal site-packages is not writeable\n",
      "Collecting wandb\n",
      "  Using cached wandb-0.13.7-py2.py3-none-any.whl (1.9 MB)\n",
      "Collecting promise<3,>=2.0\n",
      "  Using cached promise-2.3-py3-none-any.whl\n",
      "Collecting docker-pycreds>=0.4.0\n",
      "  Using cached docker_pycreds-0.4.0-py2.py3-none-any.whl (9.0 kB)\n",
      "Requirement already satisfied: PyYAML in /pfs/data5/software_uc2/bwhpc/common/jupyter/base/2022-03-30/lib/python3.8/site-packages (from wandb) (6.0)\n",
      "Requirement already satisfied: requests<3,>=2.0.0 in /pfs/data5/software_uc2/bwhpc/common/jupyter/base/2022-03-30/lib/python3.8/site-packages (from wandb) (2.27.1)\n",
      "Collecting protobuf!=4.21.0,<5,>=3.12.0\n",
      "  Using cached protobuf-4.21.12-cp37-abi3-manylinux2014_x86_64.whl (409 kB)\n",
      "Collecting sentry-sdk>=1.0.0\n",
      "  Using cached sentry_sdk-1.12.0-py2.py3-none-any.whl (173 kB)\n",
      "Requirement already satisfied: psutil>=5.0.0 in /pfs/data5/software_uc2/bwhpc/common/jupyter/base/2022-03-30/lib/python3.8/site-packages (from wandb) (5.9.0)\n",
      "Collecting pathtools\n",
      "  Using cached pathtools-0.1.2-py3-none-any.whl\n",
      "Requirement already satisfied: setuptools in /pfs/data5/software_uc2/bwhpc/common/jupyter/base/2022-03-30/lib/python3.8/site-packages (from wandb) (61.2.0)\n",
      "Requirement already satisfied: Click!=8.0.0,>=7.0 in /pfs/data5/software_uc2/bwhpc/common/jupyter/base/2022-03-30/lib/python3.8/site-packages (from wandb) (8.1.1)\n",
      "Requirement already satisfied: GitPython>=1.0.0 in /pfs/data5/home/kit/stud/uloak/.local/lib/python3.8/site-packages (from wandb) (3.1.29)\n",
      "Collecting shortuuid>=0.5.0\n",
      "  Using cached shortuuid-1.0.11-py3-none-any.whl (10 kB)\n",
      "Collecting setproctitle\n",
      "  Using cached setproctitle-1.3.2-cp38-cp38-manylinux_2_5_x86_64.manylinux1_x86_64.manylinux_2_17_x86_64.manylinux2014_x86_64.whl (31 kB)\n",
      "Requirement already satisfied: six>=1.4.0 in /pfs/data5/software_uc2/bwhpc/common/jupyter/base/2022-03-30/lib/python3.8/site-packages (from docker-pycreds>=0.4.0->wandb) (1.16.0)\n",
      "Requirement already satisfied: gitdb<5,>=4.0.1 in /pfs/data5/home/kit/stud/uloak/.local/lib/python3.8/site-packages (from GitPython>=1.0.0->wandb) (4.0.10)\n",
      "Requirement already satisfied: urllib3<1.27,>=1.21.1 in /pfs/data5/software_uc2/bwhpc/common/jupyter/base/2022-03-30/lib/python3.8/site-packages (from requests<3,>=2.0.0->wandb) (1.26.9)\n",
      "Requirement already satisfied: charset-normalizer~=2.0.0 in /pfs/data5/software_uc2/bwhpc/common/jupyter/base/2022-03-30/lib/python3.8/site-packages (from requests<3,>=2.0.0->wandb) (2.0.12)\n",
      "Requirement already satisfied: certifi>=2017.4.17 in /pfs/data5/software_uc2/bwhpc/common/jupyter/base/2022-03-30/lib/python3.8/site-packages (from requests<3,>=2.0.0->wandb) (2021.10.8)\n",
      "Requirement already satisfied: idna<4,>=2.5 in /pfs/data5/software_uc2/bwhpc/common/jupyter/base/2022-03-30/lib/python3.8/site-packages (from requests<3,>=2.0.0->wandb) (3.3)\n",
      "Collecting urllib3<1.27,>=1.21.1\n",
      "  Using cached urllib3-1.26.13-py2.py3-none-any.whl (140 kB)\n",
      "Collecting smmap<6,>=3.0.1\n",
      "  Using cached smmap-5.0.0-py3-none-any.whl (24 kB)\n",
      "\u001b[31mERROR: Will not install to the user site because it will lack sys.path precedence to urllib3 in /pfs/data5/software_uc2/bwhpc/common/jupyter/base/2022-03-30/lib/python3.8/site-packages\u001b[0m\u001b[31m\n",
      "\u001b[0m\u001b[33mWARNING: You are using pip version 22.0.4; however, version 22.3.1 is available.\n",
      "You should consider upgrading via the '/opt/bwhpc/common/jupyter/base/2022-03-30/bin/python3.8 -m pip install --upgrade pip' command.\u001b[0m\u001b[33m\n",
      "\u001b[0m"
     ]
    }
   ],
   "source": [
    "!pip install catboost==1.1\n",
    "!pip install gcsfs==2022.10.0\n",
    "!pip install numpy==1.23.4\n",
    "!pip install pandas==1.5.1\n",
    "!pip install scikit-learn==1.1.3\n",
    "!pip install fastparquet\n",
    "!pip install wandb --upgrade"
   ]
  },
  {
   "cell_type": "markdown",
   "metadata": {
    "id": "Gtz4jE9f2en7"
   },
   "source": [
    "Run `pip install .` first to install all dependencies."
   ]
  },
  {
   "cell_type": "code",
   "execution_count": 2,
   "metadata": {
    "id": "7WXF7w4VyVgG"
   },
   "outputs": [],
   "source": [
    "from catboost import CatBoostClassifier\n",
    "\n",
    "import json\n",
    "\n",
    "import gcsfs\n",
    "\n",
    "import numpy as np\n",
    "import pandas as pd\n",
    "\n",
    "import os\n",
    "from pathlib import Path\n",
    "\n",
    "from sklearn.metrics import accuracy_score\n",
    "import wandb\n",
    "\n",
    "from typing import List, Optional"
   ]
  },
  {
   "cell_type": "code",
   "execution_count": 4,
   "metadata": {
    "id": "DMpV9NTt25pj"
   },
   "outputs": [
    {
     "name": "stderr",
     "output_type": "stream",
     "text": [
      "/pfs/data5/home/kit/stud/uloak/thesis/thesis/lib64/python3.8/site-packages/google/auth/_default.py:83: UserWarning: Your application has authenticated using end user credentials from Google Cloud SDK without a quota project. You might receive a \"quota exceeded\" or \"API not enabled\" error. We recommend you rerun `gcloud auth application-default login` and make sure a quota project is added. Or you can use service accounts instead. For more information about service accounts, see https://cloud.google.com/docs/authentication/\n",
      "  warnings.warn(_CLOUD_SDK_CREDENTIALS_WARNING)\n"
     ]
    }
   ],
   "source": [
    "fs = gcsfs.GCSFileSystem(project=\"thesis\")\n",
    "fs_prefix = \"gs://\""
   ]
  },
  {
   "cell_type": "code",
   "execution_count": 5,
   "metadata": {
    "id": "vFMHPh-nTcSI"
   },
   "outputs": [],
   "source": [
    "features_classical_size = [\n",
    "    'TRADE_PRICE', 'bid_ask_size_ratio_ex', 'rel_bid_size_ex',\n",
    "       'rel_ask_size_ex', 'TRADE_SIZE', 'bid_size_ex', 'ask_size_ex',\n",
    "       'rel_ask_ex', 'rel_bid_ex', 'BEST_rel_bid', 'BEST_rel_ask',\n",
    "       'bid_ask_ratio_ex', 'chg_ex_lead', 'chg_ex_lag', 'chg_all_lead',\n",
    "       'chg_all_lag', 'ask_ex', 'bid_ex', 'BEST_ASK', 'BEST_BID',\n",
    "       'price_all_lag', 'price_all_lead', 'price_ex_lag', 'price_ex_lead'\n",
    "]"
   ]
  },
  {
   "cell_type": "code",
   "execution_count": 7,
   "metadata": {},
   "outputs": [],
   "source": [
    "os.environ[\"GCLOUD_PROJECT\"] = \"flowing-mantis-239216\""
   ]
  },
  {
   "cell_type": "code",
   "execution_count": 45,
   "metadata": {
    "colab": {
     "base_uri": "https://localhost:8080/",
     "height": 260
    },
    "id": "ah1dofx3TdDj",
    "outputId": "d0617151-a2f4-49c5-9748-8c9b5d81bebe"
   },
   "outputs": [
    {
     "data": {
      "text/html": [
       "Finishing last run (ID:2x5uh29y) before initializing another..."
      ],
      "text/plain": [
       "<IPython.core.display.HTML object>"
      ]
     },
     "metadata": {},
     "output_type": "display_data"
    },
    {
     "data": {
      "text/html": [
       "Waiting for W&B process to finish... <strong style=\"color:green\">(success).</strong>"
      ],
      "text/plain": [
       "<IPython.core.display.HTML object>"
      ]
     },
     "metadata": {},
     "output_type": "display_data"
    },
    {
     "data": {
      "application/vnd.jupyter.widget-view+json": {
       "model_id": "d528edd52b3f4cdaa089a8dceb2fb0b1",
       "version_major": 2,
       "version_minor": 0
      },
      "text/plain": [
       "VBox(children=(Label(value='0.009 MB of 0.013 MB uploaded (0.000 MB deduped)\\r'), FloatProgress(value=0.677205…"
      ]
     },
     "metadata": {},
     "output_type": "display_data"
    },
    {
     "data": {
      "text/html": [
       "Synced <strong style=\"color:#cdcd00\">daily-shape-524</strong>: <a href=\"https://wandb.ai/fbv/thesis/runs/2x5uh29y\" target=\"_blank\">https://wandb.ai/fbv/thesis/runs/2x5uh29y</a><br/>Synced 5 W&B file(s), 0 media file(s), 0 artifact file(s) and 0 other file(s)"
      ],
      "text/plain": [
       "<IPython.core.display.HTML object>"
      ]
     },
     "metadata": {},
     "output_type": "display_data"
    },
    {
     "data": {
      "text/html": [
       "Find logs at: <code>./wandb/run-20221216_114807-2x5uh29y/logs</code>"
      ],
      "text/plain": [
       "<IPython.core.display.HTML object>"
      ]
     },
     "metadata": {},
     "output_type": "display_data"
    },
    {
     "data": {
      "text/html": [
       "Successfully finished last run (ID:2x5uh29y). Initializing new run:<br/>"
      ],
      "text/plain": [
       "<IPython.core.display.HTML object>"
      ]
     },
     "metadata": {},
     "output_type": "display_data"
    },
    {
     "data": {
      "application/vnd.jupyter.widget-view+json": {
       "model_id": "bb1f34395fde4fe2afd0804289d4cbef",
       "version_major": 2,
       "version_minor": 0
      },
      "text/plain": [
       "VBox(children=(Label(value='Waiting for wandb.init()...\\r'), FloatProgress(value=0.01666961154745271, max=1.0)…"
      ]
     },
     "metadata": {},
     "output_type": "display_data"
    },
    {
     "data": {
      "text/html": [
       "wandb version 0.13.7 is available!  To upgrade, please run:\n",
       " $ pip install wandb --upgrade"
      ],
      "text/plain": [
       "<IPython.core.display.HTML object>"
      ]
     },
     "metadata": {},
     "output_type": "display_data"
    },
    {
     "data": {
      "text/html": [
       "Tracking run with wandb version 0.13.5"
      ],
      "text/plain": [
       "<IPython.core.display.HTML object>"
      ]
     },
     "metadata": {},
     "output_type": "display_data"
    },
    {
     "data": {
      "text/html": [
       "Run data is saved locally in <code>/pfs/data5/home/kit/stud/uloak/thesis/notebooks/wandb/run-20221216_115106-3kbvk124</code>"
      ],
      "text/plain": [
       "<IPython.core.display.HTML object>"
      ]
     },
     "metadata": {},
     "output_type": "display_data"
    },
    {
     "data": {
      "text/html": [
       "Syncing run <strong><a href=\"https://wandb.ai/fbv/thesis/runs/3kbvk124\" target=\"_blank\">playful-eon-525</a></strong> to <a href=\"https://wandb.ai/fbv/thesis\" target=\"_blank\">Weights & Biases</a> (<a href=\"https://wandb.me/run\" target=\"_blank\">docs</a>)<br/>"
      ],
      "text/plain": [
       "<IPython.core.display.HTML object>"
      ]
     },
     "metadata": {},
     "output_type": "display_data"
    },
    {
     "name": "stderr",
     "output_type": "stream",
     "text": [
      "\u001b[34m\u001b[1mwandb\u001b[0m: Downloading large artifact classical_size_features_log_normalized:v0, 2564.04MB. 3 files... \n",
      "\u001b[34m\u001b[1mwandb\u001b[0m:   3 of 3 files downloaded.  \n",
      "Done. 0:0:2.7\n",
      "\u001b[34m\u001b[1mwandb\u001b[0m:   2 of 2 files downloaded.  \n"
     ]
    }
   ],
   "source": [
    "# see https://wandb.ai/fbv/thesis/runs/kwlaw02g/overview?workspace=user-karelze\n",
    "run = wandb.init(project=\"thesis\",entity=\"fbv\")\n",
    "\n",
    "dataset = \"fbv/thesis/classical_size_features_log_normalized:v0\"\n",
    "artifact = run.use_artifact(dataset)\n",
    "data_dir = artifact.download()\n",
    "\n",
    "model = \"fbv/thesis/25h1sl6c_CatBoostClassifier_default.cbm:v1\"\n",
    "model_name = model_name = model.split(\"/\")[-1].split(\":\")[0]\n",
    "\n",
    "artifact = run.use_artifact(model)\n",
    "model_dir = artifact.download()"
   ]
  },
  {
   "cell_type": "code",
   "execution_count": 9,
   "metadata": {
    "colab": {
     "base_uri": "https://localhost:8080/"
    },
    "id": "WmXtH-PEqyQE",
    "outputId": "f559896f-fbaa-4e18-fc8d-7e79c97e8a5e"
   },
   "outputs": [
    {
     "name": "stderr",
     "output_type": "stream",
     "text": [
      "/scratch/slurm_tmpdir/job_21411297/ipykernel_261027/4082752507.py:4: SettingWithCopyWarning: \n",
      "A value is trying to be set on a copy of a slice from a DataFrame\n",
      "\n",
      "See the caveats in the documentation: https://pandas.pydata.org/pandas-docs/stable/user_guide/indexing.html#returning-a-view-versus-a-copy\n",
      "  y_test[y_test<0] = 0\n"
     ]
    }
   ],
   "source": [
    "X_test = pd.read_parquet(Path(data_dir, \"test_set_20.parquet\"), engine=\"fastparquet\")\n",
    "\n",
    "y_test = X_test[\"buy_sell\"]\n",
    "y_test[y_test<0] = 0\n",
    "X_test = X_test[features_classical_size]\n"
   ]
  },
  {
   "cell_type": "markdown",
   "metadata": {
    "id": "zMIOV1jA_ImH"
   },
   "source": [
    "## CatBoost Baseline 🐈‍⬛"
   ]
  },
  {
   "cell_type": "markdown",
   "metadata": {},
   "source": [
    "### Learning Curves Baseline 📉"
   ]
  },
  {
   "cell_type": "code",
   "execution_count": 23,
   "metadata": {},
   "outputs": [
    {
     "data": {
      "text/html": [
       "<div>\n",
       "<style scoped>\n",
       "    .dataframe tbody tr th:only-of-type {\n",
       "        vertical-align: middle;\n",
       "    }\n",
       "\n",
       "    .dataframe tbody tr th {\n",
       "        vertical-align: top;\n",
       "    }\n",
       "\n",
       "    .dataframe thead th {\n",
       "        text-align: right;\n",
       "    }\n",
       "</style>\n",
       "<table border=\"1\" class=\"dataframe\">\n",
       "  <thead>\n",
       "    <tr style=\"text-align: right;\">\n",
       "      <th></th>\n",
       "      <th>learn_Accuracy</th>\n",
       "      <th>learn_Logloss</th>\n",
       "      <th>test_Accuracy</th>\n",
       "      <th>test_Logloss</th>\n",
       "    </tr>\n",
       "  </thead>\n",
       "  <tbody>\n",
       "    <tr>\n",
       "      <th>0</th>\n",
       "      <td>0.798642</td>\n",
       "      <td>0.516719</td>\n",
       "      <td>0.685357</td>\n",
       "      <td>0.589861</td>\n",
       "    </tr>\n",
       "    <tr>\n",
       "      <th>1</th>\n",
       "      <td>0.810505</td>\n",
       "      <td>0.457868</td>\n",
       "      <td>0.705167</td>\n",
       "      <td>0.568153</td>\n",
       "    </tr>\n",
       "    <tr>\n",
       "      <th>2</th>\n",
       "      <td>0.819802</td>\n",
       "      <td>0.430606</td>\n",
       "      <td>0.713258</td>\n",
       "      <td>0.561582</td>\n",
       "    </tr>\n",
       "    <tr>\n",
       "      <th>3</th>\n",
       "      <td>0.821254</td>\n",
       "      <td>0.414877</td>\n",
       "      <td>0.715728</td>\n",
       "      <td>0.556678</td>\n",
       "    </tr>\n",
       "    <tr>\n",
       "      <th>4</th>\n",
       "      <td>0.822632</td>\n",
       "      <td>0.406146</td>\n",
       "      <td>0.717593</td>\n",
       "      <td>0.553737</td>\n",
       "    </tr>\n",
       "  </tbody>\n",
       "</table>\n",
       "</div>"
      ],
      "text/plain": [
       "   learn_Accuracy  learn_Logloss  test_Accuracy  test_Logloss\n",
       "0        0.798642       0.516719       0.685357      0.589861\n",
       "1        0.810505       0.457868       0.705167      0.568153\n",
       "2        0.819802       0.430606       0.713258      0.561582\n",
       "3        0.821254       0.414877       0.715728      0.556678\n",
       "4        0.822632       0.406146       0.717593      0.553737"
      ]
     },
     "execution_count": 23,
     "metadata": {},
     "output_type": "execute_result"
    }
   ],
   "source": [
    "# visualize learning curves\n",
    "with open(Path(model_dir,model_name[:-4]+\"_training.json\"), 'r') as j:\n",
    "     contents = json.loads(j.read())\n",
    "\n",
    "# extract relevant keys\n",
    "test_metrics = [d['name'] for d in contents['meta']['test_metrics'] ]\n",
    "test_results = [d['test'] for d in iterations]\n",
    "learn_metrics = [d['name'] for d in contents['meta']['learn_metrics'] ]\n",
    "learn_results = [d['learn'] for d in iterations]\n",
    "\n",
    "metrics_learn = pd.DataFrame(learn_results, columns=learn_metrics).add_prefix(\"learn_\")\n",
    "metrics_test = pd.DataFrame(test_results, columns=test_metrics).add_prefix(\"test_\")\n",
    "\n",
    "learning_metrics = pd.concat([metrics_learn, metrics_test], axis=1)\n",
    "\n",
    "df.head()"
   ]
  },
  {
   "cell_type": "code",
   "execution_count": 25,
   "metadata": {},
   "outputs": [
    {
     "data": {
      "text/plain": [
       "<AxesSubplot:>"
      ]
     },
     "execution_count": 25,
     "metadata": {},
     "output_type": "execute_result"
    },
    {
     "data": {
      "image/png": "[encoded data removed]",
      "text/plain": [
       "<Figure size 1152x648 with 1 Axes>"
      ]
     },
     "metadata": {
      "needs_background": "light"
     },
     "output_type": "display_data"
    }
   ],
   "source": [
    "learning_metrics.plot(kind=\"line\", figsize=(16,9))"
   ]
  },
  {
   "cell_type": "markdown",
   "metadata": {},
   "source": [
    "### Accuracy Baseline 🎯"
   ]
  },
  {
   "cell_type": "code",
   "execution_count": 11,
   "metadata": {
    "colab": {
     "base_uri": "https://localhost:8080/"
    },
    "id": "VivmC-8L3YUc",
    "outputId": "f07c0506-d002-4c1f-8da8-068724fafea7"
   },
   "outputs": [
    {
     "data": {
      "text/plain": [
       "<catboost.core.CatBoostClassifier at 0x152617362040>"
      ]
     },
     "execution_count": 11,
     "metadata": {},
     "output_type": "execute_result"
    }
   ],
   "source": [
    "model = CatBoostClassifier()\n",
    "model.load_model(fname=Path(model_dir, model_name))"
   ]
  },
  {
   "cell_type": "code",
   "execution_count": 12,
   "metadata": {
    "colab": {
     "base_uri": "https://localhost:8080/"
    },
    "id": "hlLETHiJZSoH",
    "outputId": "0db0becb-c1a4-4619-f1a6-3c9b00c2bdd5"
   },
   "outputs": [
    {
     "name": "stdout",
     "output_type": "stream",
     "text": [
      "0.7052623231824203\n"
     ]
    }
   ],
   "source": [
    "acc = model.score(X_test, y_test)\n",
    "print(acc)"
   ]
  },
  {
   "cell_type": "markdown",
   "metadata": {
    "id": "h3vzAVSc_DfD"
   },
   "source": [
    "### Robustness Baseline🥊"
   ]
  },
  {
   "cell_type": "code",
   "execution_count": 28,
   "metadata": {
    "id": "AMoxcj4YZXOs"
   },
   "outputs": [],
   "source": [
    "# load default data to use unscaled version with all possible columns\n",
    "X_print = pd.read_parquet(\n",
    "    f\"gs://thesis-bucket-option-trade-classification/data/preprocessed/test_set_extended_20.parquet\",\n",
    "    engine=\"fastparquet\",\n",
    "    columns=[\"EXPIRATION\", \"QUOTE_DATETIME\", \"OPTION_TYPE\", \"TRADE_SIZE\", \"myn\", \"buy_sell\", \"issue_type\"]\n",
    ")"
   ]
  },
  {
   "cell_type": "code",
   "execution_count": 29,
   "metadata": {
    "colab": {
     "base_uri": "https://localhost:8080/"
    },
    "id": "3evMG-KVA2eX",
    "outputId": "f5e46fd4-5065-4b9e-b265-480c61fb1c68"
   },
   "outputs": [],
   "source": [
    "# Copy unscaled columns\n",
    "X_print = X_print.copy()\n",
    "X_print[\"buy_sell\"] = (X_print[\"buy_sell\"] > 0).astype(int)\n",
    "\n",
    "# add baseline results\n",
    "X_print[\"rule\"] = \"Baseline\"\n",
    "X_print[\"buy_sell_predicted\"] = model.predict(X_test)\n",
    "\n",
    "# prepare columns for printing\n",
    "X_print[\"ttm\"] = (\n",
    "    X_print[\"EXPIRATION\"].dt.to_period(\"M\")\n",
    "    - X_print[\"QUOTE_DATETIME\"].dt.to_period(\"M\")\n",
    ").apply(lambda x: x.n)\n",
    "X_print[\"year\"] = X_print[\"QUOTE_DATETIME\"].dt.year\n",
    "\n",
    "bins_tradesize = [-np.inf, 1, 3, 5, 11, np.inf]\n",
    "trade_size_labels = [\"(0,1]\", \"(1,3]\", \"(3,5]\", \"(5,11]\", \">11\"]\n",
    "X_print[\"TRADE_SIZE_binned\"] = pd.cut(\n",
    "    X_print[\"TRADE_SIZE\"], bins_tradesize, labels=trade_size_labels\n",
    ")\n",
    "\n",
    "bins_years = [2004, 2007, 2010, 2011, 2012, 2013, 2014, 2015, 2016, 2017]\n",
    "year_labels = [\n",
    "    \"2005-2007\",\n",
    "    \"2008-2010\",\n",
    "    \"2011\",\n",
    "    \"2012\",\n",
    "    \"2013\",\n",
    "    \"2014\",\n",
    "    \"2015\",\n",
    "    \"2016\",\n",
    "    \"2017\",\n",
    "]\n",
    "X_print[\"year_binned\"] = pd.cut(X_print[\"year\"], bins_years, labels=year_labels)\n",
    "\n",
    "bins_ttm = [-np.inf, 1, 2, 3, 6, 12, np.inf]\n",
    "ttm_labels = [\n",
    "    \"ttm <= 1 month\",\n",
    "    \"ttm (1-2] month\",\n",
    "    \"ttm (2-3] month\",\n",
    "    \"ttm (3-6] month\",\n",
    "    \"ttm (6-12] month\",\n",
    "    \"ttm > 12 month\",\n",
    "]\n",
    "X_print[\"ttm_binned\"] = pd.cut(X_print[\"ttm\"], bins_ttm, labels=ttm_labels)\n",
    "\n",
    "\n",
    "bins_myn = [-np.inf, 0.7, 0.9, 1.1, 1.3, np.inf]\n",
    "myn_labels = [\n",
    "    \"mny <=0.7\",\n",
    "    \"mny (0.7-0.9]\",\n",
    "    \"mny (0.9-1.1]\",\n",
    "    \"mny (1.1-1.3]\",\n",
    "    \"mny > 1.3\",\n",
    "]\n",
    "X_print[\"myn_binned\"] = pd.cut(X_print[\"myn\"], bins_myn, labels=myn_labels)\n",
    "\n",
    "X_print[\"issue_type_binned\"] = X_print[\"issue_type\"].replace(\n",
    "    {\"0\": 'Stock options', 'A': 'Index options', '7': 'Others',\n",
    "     'F': 'Others', '%': 'Others', ' ': 'Others'})\n",
    "\n",
    "\n",
    "# TODO: time from previous trade; same underlying or any?\n"
   ]
  },
  {
   "cell_type": "code",
   "execution_count": 30,
   "metadata": {
    "colab": {
     "base_uri": "https://localhost:8080/",
     "height": 236
    },
    "id": "dFNzontzM_Xc",
    "outputId": "564fc847-11a6-4160-c9d1-ea898c77aa70"
   },
   "outputs": [
    {
     "data": {
      "text/html": [
       "<div>\n",
       "<style scoped>\n",
       "    .dataframe tbody tr th:only-of-type {\n",
       "        vertical-align: middle;\n",
       "    }\n",
       "\n",
       "    .dataframe tbody tr th {\n",
       "        vertical-align: top;\n",
       "    }\n",
       "\n",
       "    .dataframe thead th {\n",
       "        text-align: right;\n",
       "    }\n",
       "</style>\n",
       "<table border=\"1\" class=\"dataframe\">\n",
       "  <thead>\n",
       "    <tr style=\"text-align: right;\">\n",
       "      <th></th>\n",
       "      <th>EXPIRATION</th>\n",
       "      <th>QUOTE_DATETIME</th>\n",
       "      <th>OPTION_TYPE</th>\n",
       "      <th>TRADE_SIZE</th>\n",
       "      <th>myn</th>\n",
       "      <th>buy_sell</th>\n",
       "      <th>issue_type</th>\n",
       "      <th>rule</th>\n",
       "      <th>buy_sell_predicted</th>\n",
       "      <th>ttm</th>\n",
       "      <th>year</th>\n",
       "      <th>TRADE_SIZE_binned</th>\n",
       "      <th>year_binned</th>\n",
       "      <th>ttm_binned</th>\n",
       "      <th>myn_binned</th>\n",
       "      <th>issue_type_binned</th>\n",
       "    </tr>\n",
       "  </thead>\n",
       "  <tbody>\n",
       "    <tr>\n",
       "      <th>39342171</th>\n",
       "      <td>2015-12-18</td>\n",
       "      <td>2015-11-06 09:30:00</td>\n",
       "      <td>P</td>\n",
       "      <td>2</td>\n",
       "      <td>0.921659</td>\n",
       "      <td>0</td>\n",
       "      <td>%</td>\n",
       "      <td>Baseline</td>\n",
       "      <td>0</td>\n",
       "      <td>1</td>\n",
       "      <td>2015</td>\n",
       "      <td>(1,3]</td>\n",
       "      <td>2015</td>\n",
       "      <td>ttm &lt;= 1 month</td>\n",
       "      <td>mny (0.9-1.1]</td>\n",
       "      <td>Others</td>\n",
       "    </tr>\n",
       "    <tr>\n",
       "      <th>39342172</th>\n",
       "      <td>2015-11-27</td>\n",
       "      <td>2015-11-06 09:30:00</td>\n",
       "      <td>C</td>\n",
       "      <td>1</td>\n",
       "      <td>1.001696</td>\n",
       "      <td>0</td>\n",
       "      <td>0</td>\n",
       "      <td>Baseline</td>\n",
       "      <td>0</td>\n",
       "      <td>0</td>\n",
       "      <td>2015</td>\n",
       "      <td>(0,1]</td>\n",
       "      <td>2015</td>\n",
       "      <td>ttm &lt;= 1 month</td>\n",
       "      <td>mny (0.9-1.1]</td>\n",
       "      <td>Stock options</td>\n",
       "    </tr>\n",
       "    <tr>\n",
       "      <th>39342173</th>\n",
       "      <td>2017-01-20</td>\n",
       "      <td>2015-11-06 09:30:00</td>\n",
       "      <td>C</td>\n",
       "      <td>1</td>\n",
       "      <td>0.886115</td>\n",
       "      <td>0</td>\n",
       "      <td>0</td>\n",
       "      <td>Baseline</td>\n",
       "      <td>0</td>\n",
       "      <td>14</td>\n",
       "      <td>2015</td>\n",
       "      <td>(0,1]</td>\n",
       "      <td>2015</td>\n",
       "      <td>ttm &gt; 12 month</td>\n",
       "      <td>mny (0.7-0.9]</td>\n",
       "      <td>Stock options</td>\n",
       "    </tr>\n",
       "    <tr>\n",
       "      <th>39342174</th>\n",
       "      <td>2015-11-20</td>\n",
       "      <td>2015-11-06 09:30:00</td>\n",
       "      <td>C</td>\n",
       "      <td>1</td>\n",
       "      <td>1.009261</td>\n",
       "      <td>1</td>\n",
       "      <td>%</td>\n",
       "      <td>Baseline</td>\n",
       "      <td>1</td>\n",
       "      <td>0</td>\n",
       "      <td>2015</td>\n",
       "      <td>(0,1]</td>\n",
       "      <td>2015</td>\n",
       "      <td>ttm &lt;= 1 month</td>\n",
       "      <td>mny (0.9-1.1]</td>\n",
       "      <td>Others</td>\n",
       "    </tr>\n",
       "    <tr>\n",
       "      <th>39342175</th>\n",
       "      <td>2015-12-18</td>\n",
       "      <td>2015-11-06 09:30:00</td>\n",
       "      <td>C</td>\n",
       "      <td>1</td>\n",
       "      <td>0.991880</td>\n",
       "      <td>0</td>\n",
       "      <td>%</td>\n",
       "      <td>Baseline</td>\n",
       "      <td>0</td>\n",
       "      <td>1</td>\n",
       "      <td>2015</td>\n",
       "      <td>(0,1]</td>\n",
       "      <td>2015</td>\n",
       "      <td>ttm &lt;= 1 month</td>\n",
       "      <td>mny (0.9-1.1]</td>\n",
       "      <td>Others</td>\n",
       "    </tr>\n",
       "  </tbody>\n",
       "</table>\n",
       "</div>"
      ],
      "text/plain": [
       "         EXPIRATION      QUOTE_DATETIME OPTION_TYPE  TRADE_SIZE       myn  \\\n",
       "39342171 2015-12-18 2015-11-06 09:30:00           P           2  0.921659   \n",
       "39342172 2015-11-27 2015-11-06 09:30:00           C           1  1.001696   \n",
       "39342173 2017-01-20 2015-11-06 09:30:00           C           1  0.886115   \n",
       "39342174 2015-11-20 2015-11-06 09:30:00           C           1  1.009261   \n",
       "39342175 2015-12-18 2015-11-06 09:30:00           C           1  0.991880   \n",
       "\n",
       "          buy_sell issue_type      rule  buy_sell_predicted  ttm  year  \\\n",
       "39342171         0          %  Baseline                   0    1  2015   \n",
       "39342172         0          0  Baseline                   0    0  2015   \n",
       "39342173         0          0  Baseline                   0   14  2015   \n",
       "39342174         1          %  Baseline                   1    0  2015   \n",
       "39342175         0          %  Baseline                   0    1  2015   \n",
       "\n",
       "         TRADE_SIZE_binned year_binned      ttm_binned     myn_binned  \\\n",
       "39342171             (1,3]        2015  ttm <= 1 month  mny (0.9-1.1]   \n",
       "39342172             (0,1]        2015  ttm <= 1 month  mny (0.9-1.1]   \n",
       "39342173             (0,1]        2015  ttm > 12 month  mny (0.7-0.9]   \n",
       "39342174             (0,1]        2015  ttm <= 1 month  mny (0.9-1.1]   \n",
       "39342175             (0,1]        2015  ttm <= 1 month  mny (0.9-1.1]   \n",
       "\n",
       "         issue_type_binned  \n",
       "39342171            Others  \n",
       "39342172     Stock options  \n",
       "39342173     Stock options  \n",
       "39342174            Others  \n",
       "39342175            Others  "
      ]
     },
     "execution_count": 30,
     "metadata": {},
     "output_type": "execute_result"
    }
   ],
   "source": [
    "X_print.head()"
   ]
  },
  {
   "cell_type": "code",
   "execution_count": 31,
   "metadata": {
    "id": "clDZ4Z95_0jj"
   },
   "outputs": [],
   "source": [
    "def check_robustness(criterion: str = \"year_binned\") -> pd.DataFrame:\n",
    "    \"\"\"\n",
    "    Check robustness of rules by calculating the accuracy for a given\n",
    "    criterion and rules.\n",
    "\n",
    "    Example:\n",
    "    rule\t\tBaseline\n",
    "    TRADE_SIZE_binned\n",
    "    (0,1]\t  0.710966\n",
    "    (1,3]\t  0.717664\n",
    "    (3,5]\t  0.715195\n",
    "    (5,11]\t0.699428\n",
    "    >11\t  \t0.688348\n",
    "\n",
    "    Args:\n",
    "        criterion (str, optional): criterion to check robustness for.\n",
    "        Defaults to \"year_binned\".\n",
    "\n",
    "    Returns:\n",
    "        pd.DataFrame: DataFrame with accuracy of rules. Rule in columns and\n",
    "        criterion values in rows.\n",
    "    \"\"\"\n",
    "\n",
    "    # fill others randomly with equal weight for every class.\n",
    "    X_print[\"buy_sell_predicted\"] = X_print[\"buy_sell_predicted\"].map(\n",
    "        lambda l: l if not np.isnan(l) else np.random.choice([0, 1])\n",
    "    )\n",
    "\n",
    "    # cuculate average over columns if multiple subsets are combined\n",
    "    results = (\n",
    "        X_print.groupby([\"rule\", criterion])[[\"buy_sell\", \"buy_sell_predicted\"]]\n",
    "        .apply(lambda x: accuracy_score(x[\"buy_sell\"], x[\"buy_sell_predicted\"]))\n",
    "        .unstack(level=0)\n",
    "        .assign(avg=lambda x: x.mean(axis=1))\n",
    "    )\n",
    "    return results\n"
   ]
  },
  {
   "cell_type": "code",
   "execution_count": 32,
   "metadata": {
    "colab": {
     "base_uri": "https://localhost:8080/",
     "height": 236
    },
    "id": "K6ZmGInebGkL",
    "outputId": "92b9b903-bb73-4ad5-82f2-c87918bd2384"
   },
   "outputs": [
    {
     "data": {
      "text/html": [
       "<div>\n",
       "<style scoped>\n",
       "    .dataframe tbody tr th:only-of-type {\n",
       "        vertical-align: middle;\n",
       "    }\n",
       "\n",
       "    .dataframe tbody tr th {\n",
       "        vertical-align: top;\n",
       "    }\n",
       "\n",
       "    .dataframe thead th {\n",
       "        text-align: right;\n",
       "    }\n",
       "</style>\n",
       "<table border=\"1\" class=\"dataframe\">\n",
       "  <thead>\n",
       "    <tr style=\"text-align: right;\">\n",
       "      <th></th>\n",
       "      <th>EXPIRATION</th>\n",
       "      <th>QUOTE_DATETIME</th>\n",
       "      <th>OPTION_TYPE</th>\n",
       "      <th>TRADE_SIZE</th>\n",
       "      <th>myn</th>\n",
       "      <th>buy_sell</th>\n",
       "      <th>issue_type</th>\n",
       "      <th>rule</th>\n",
       "      <th>buy_sell_predicted</th>\n",
       "      <th>ttm</th>\n",
       "      <th>year</th>\n",
       "      <th>TRADE_SIZE_binned</th>\n",
       "      <th>year_binned</th>\n",
       "      <th>ttm_binned</th>\n",
       "      <th>myn_binned</th>\n",
       "      <th>issue_type_binned</th>\n",
       "    </tr>\n",
       "  </thead>\n",
       "  <tbody>\n",
       "    <tr>\n",
       "      <th>39342171</th>\n",
       "      <td>2015-12-18</td>\n",
       "      <td>2015-11-06 09:30:00</td>\n",
       "      <td>P</td>\n",
       "      <td>2</td>\n",
       "      <td>0.921659</td>\n",
       "      <td>0</td>\n",
       "      <td>%</td>\n",
       "      <td>Baseline</td>\n",
       "      <td>0</td>\n",
       "      <td>1</td>\n",
       "      <td>2015</td>\n",
       "      <td>(1,3]</td>\n",
       "      <td>2015</td>\n",
       "      <td>ttm &lt;= 1 month</td>\n",
       "      <td>mny (0.9-1.1]</td>\n",
       "      <td>Others</td>\n",
       "    </tr>\n",
       "    <tr>\n",
       "      <th>39342172</th>\n",
       "      <td>2015-11-27</td>\n",
       "      <td>2015-11-06 09:30:00</td>\n",
       "      <td>C</td>\n",
       "      <td>1</td>\n",
       "      <td>1.001696</td>\n",
       "      <td>0</td>\n",
       "      <td>0</td>\n",
       "      <td>Baseline</td>\n",
       "      <td>0</td>\n",
       "      <td>0</td>\n",
       "      <td>2015</td>\n",
       "      <td>(0,1]</td>\n",
       "      <td>2015</td>\n",
       "      <td>ttm &lt;= 1 month</td>\n",
       "      <td>mny (0.9-1.1]</td>\n",
       "      <td>Stock options</td>\n",
       "    </tr>\n",
       "    <tr>\n",
       "      <th>39342173</th>\n",
       "      <td>2017-01-20</td>\n",
       "      <td>2015-11-06 09:30:00</td>\n",
       "      <td>C</td>\n",
       "      <td>1</td>\n",
       "      <td>0.886115</td>\n",
       "      <td>0</td>\n",
       "      <td>0</td>\n",
       "      <td>Baseline</td>\n",
       "      <td>0</td>\n",
       "      <td>14</td>\n",
       "      <td>2015</td>\n",
       "      <td>(0,1]</td>\n",
       "      <td>2015</td>\n",
       "      <td>ttm &gt; 12 month</td>\n",
       "      <td>mny (0.7-0.9]</td>\n",
       "      <td>Stock options</td>\n",
       "    </tr>\n",
       "    <tr>\n",
       "      <th>39342174</th>\n",
       "      <td>2015-11-20</td>\n",
       "      <td>2015-11-06 09:30:00</td>\n",
       "      <td>C</td>\n",
       "      <td>1</td>\n",
       "      <td>1.009261</td>\n",
       "      <td>1</td>\n",
       "      <td>%</td>\n",
       "      <td>Baseline</td>\n",
       "      <td>1</td>\n",
       "      <td>0</td>\n",
       "      <td>2015</td>\n",
       "      <td>(0,1]</td>\n",
       "      <td>2015</td>\n",
       "      <td>ttm &lt;= 1 month</td>\n",
       "      <td>mny (0.9-1.1]</td>\n",
       "      <td>Others</td>\n",
       "    </tr>\n",
       "    <tr>\n",
       "      <th>39342175</th>\n",
       "      <td>2015-12-18</td>\n",
       "      <td>2015-11-06 09:30:00</td>\n",
       "      <td>C</td>\n",
       "      <td>1</td>\n",
       "      <td>0.991880</td>\n",
       "      <td>0</td>\n",
       "      <td>%</td>\n",
       "      <td>Baseline</td>\n",
       "      <td>0</td>\n",
       "      <td>1</td>\n",
       "      <td>2015</td>\n",
       "      <td>(0,1]</td>\n",
       "      <td>2015</td>\n",
       "      <td>ttm &lt;= 1 month</td>\n",
       "      <td>mny (0.9-1.1]</td>\n",
       "      <td>Others</td>\n",
       "    </tr>\n",
       "  </tbody>\n",
       "</table>\n",
       "</div>"
      ],
      "text/plain": [
       "         EXPIRATION      QUOTE_DATETIME OPTION_TYPE  TRADE_SIZE       myn  \\\n",
       "39342171 2015-12-18 2015-11-06 09:30:00           P           2  0.921659   \n",
       "39342172 2015-11-27 2015-11-06 09:30:00           C           1  1.001696   \n",
       "39342173 2017-01-20 2015-11-06 09:30:00           C           1  0.886115   \n",
       "39342174 2015-11-20 2015-11-06 09:30:00           C           1  1.009261   \n",
       "39342175 2015-12-18 2015-11-06 09:30:00           C           1  0.991880   \n",
       "\n",
       "          buy_sell issue_type      rule  buy_sell_predicted  ttm  year  \\\n",
       "39342171         0          %  Baseline                   0    1  2015   \n",
       "39342172         0          0  Baseline                   0    0  2015   \n",
       "39342173         0          0  Baseline                   0   14  2015   \n",
       "39342174         1          %  Baseline                   1    0  2015   \n",
       "39342175         0          %  Baseline                   0    1  2015   \n",
       "\n",
       "         TRADE_SIZE_binned year_binned      ttm_binned     myn_binned  \\\n",
       "39342171             (1,3]        2015  ttm <= 1 month  mny (0.9-1.1]   \n",
       "39342172             (0,1]        2015  ttm <= 1 month  mny (0.9-1.1]   \n",
       "39342173             (0,1]        2015  ttm > 12 month  mny (0.7-0.9]   \n",
       "39342174             (0,1]        2015  ttm <= 1 month  mny (0.9-1.1]   \n",
       "39342175             (0,1]        2015  ttm <= 1 month  mny (0.9-1.1]   \n",
       "\n",
       "         issue_type_binned  \n",
       "39342171            Others  \n",
       "39342172     Stock options  \n",
       "39342173     Stock options  \n",
       "39342174            Others  \n",
       "39342175            Others  "
      ]
     },
     "execution_count": 32,
     "metadata": {},
     "output_type": "execute_result"
    }
   ],
   "source": [
    "X_print.head()\n"
   ]
  },
  {
   "cell_type": "code",
   "execution_count": 33,
   "metadata": {
    "colab": {
     "base_uri": "https://localhost:8080/",
     "height": 175
    },
    "id": "4KRw_J0IJiFU",
    "outputId": "780b3a08-2058-4007-bdaa-be9909b8cde2"
   },
   "outputs": [
    {
     "data": {
      "text/html": [
       "<div>\n",
       "<style scoped>\n",
       "    .dataframe tbody tr th:only-of-type {\n",
       "        vertical-align: middle;\n",
       "    }\n",
       "\n",
       "    .dataframe tbody tr th {\n",
       "        vertical-align: top;\n",
       "    }\n",
       "\n",
       "    .dataframe thead th {\n",
       "        text-align: right;\n",
       "    }\n",
       "</style>\n",
       "<table border=\"1\" class=\"dataframe\">\n",
       "  <thead>\n",
       "    <tr style=\"text-align: right;\">\n",
       "      <th>rule</th>\n",
       "      <th>Baseline</th>\n",
       "      <th>avg</th>\n",
       "    </tr>\n",
       "    <tr>\n",
       "      <th>year_binned</th>\n",
       "      <th></th>\n",
       "      <th></th>\n",
       "    </tr>\n",
       "  </thead>\n",
       "  <tbody>\n",
       "    <tr>\n",
       "      <th>2015</th>\n",
       "      <td>0.669033</td>\n",
       "      <td>0.669033</td>\n",
       "    </tr>\n",
       "    <tr>\n",
       "      <th>2016</th>\n",
       "      <td>0.707365</td>\n",
       "      <td>0.707365</td>\n",
       "    </tr>\n",
       "    <tr>\n",
       "      <th>2017</th>\n",
       "      <td>0.712584</td>\n",
       "      <td>0.712584</td>\n",
       "    </tr>\n",
       "  </tbody>\n",
       "</table>\n",
       "</div>"
      ],
      "text/plain": [
       "rule         Baseline       avg\n",
       "year_binned                    \n",
       "2015         0.669033  0.669033\n",
       "2016         0.707365  0.707365\n",
       "2017         0.712584  0.712584"
      ]
     },
     "execution_count": 33,
     "metadata": {},
     "output_type": "execute_result"
    }
   ],
   "source": [
    "check_robustness(\"year_binned\")\n"
   ]
  },
  {
   "cell_type": "code",
   "execution_count": 34,
   "metadata": {
    "colab": {
     "base_uri": "https://localhost:8080/",
     "height": 143
    },
    "id": "fCey7G_tE6zt",
    "outputId": "49882ae7-ea5d-4144-f0d0-7121482f46ca"
   },
   "outputs": [
    {
     "data": {
      "text/html": [
       "<div>\n",
       "<style scoped>\n",
       "    .dataframe tbody tr th:only-of-type {\n",
       "        vertical-align: middle;\n",
       "    }\n",
       "\n",
       "    .dataframe tbody tr th {\n",
       "        vertical-align: top;\n",
       "    }\n",
       "\n",
       "    .dataframe thead th {\n",
       "        text-align: right;\n",
       "    }\n",
       "</style>\n",
       "<table border=\"1\" class=\"dataframe\">\n",
       "  <thead>\n",
       "    <tr style=\"text-align: right;\">\n",
       "      <th>rule</th>\n",
       "      <th>Baseline</th>\n",
       "      <th>avg</th>\n",
       "    </tr>\n",
       "    <tr>\n",
       "      <th>OPTION_TYPE</th>\n",
       "      <th></th>\n",
       "      <th></th>\n",
       "    </tr>\n",
       "  </thead>\n",
       "  <tbody>\n",
       "    <tr>\n",
       "      <th>C</th>\n",
       "      <td>0.701756</td>\n",
       "      <td>0.701756</td>\n",
       "    </tr>\n",
       "    <tr>\n",
       "      <th>P</th>\n",
       "      <td>0.709267</td>\n",
       "      <td>0.709267</td>\n",
       "    </tr>\n",
       "  </tbody>\n",
       "</table>\n",
       "</div>"
      ],
      "text/plain": [
       "rule         Baseline       avg\n",
       "OPTION_TYPE                    \n",
       "C            0.701756  0.701756\n",
       "P            0.709267  0.709267"
      ]
     },
     "execution_count": 34,
     "metadata": {},
     "output_type": "execute_result"
    }
   ],
   "source": [
    "check_robustness(\"OPTION_TYPE\")\n"
   ]
  },
  {
   "cell_type": "code",
   "execution_count": 35,
   "metadata": {
    "colab": {
     "base_uri": "https://localhost:8080/",
     "height": 175
    },
    "id": "AGbchxWfds_Y",
    "outputId": "073ff309-10c2-447c-9ae3-c2ded2a50c31"
   },
   "outputs": [
    {
     "data": {
      "text/html": [
       "<div>\n",
       "<style scoped>\n",
       "    .dataframe tbody tr th:only-of-type {\n",
       "        vertical-align: middle;\n",
       "    }\n",
       "\n",
       "    .dataframe tbody tr th {\n",
       "        vertical-align: top;\n",
       "    }\n",
       "\n",
       "    .dataframe thead th {\n",
       "        text-align: right;\n",
       "    }\n",
       "</style>\n",
       "<table border=\"1\" class=\"dataframe\">\n",
       "  <thead>\n",
       "    <tr style=\"text-align: right;\">\n",
       "      <th>rule</th>\n",
       "      <th>Baseline</th>\n",
       "      <th>avg</th>\n",
       "    </tr>\n",
       "    <tr>\n",
       "      <th>issue_type_binned</th>\n",
       "      <th></th>\n",
       "      <th></th>\n",
       "    </tr>\n",
       "  </thead>\n",
       "  <tbody>\n",
       "    <tr>\n",
       "      <th>Index options</th>\n",
       "      <td>0.557855</td>\n",
       "      <td>0.557855</td>\n",
       "    </tr>\n",
       "    <tr>\n",
       "      <th>Others</th>\n",
       "      <td>0.749185</td>\n",
       "      <td>0.749185</td>\n",
       "    </tr>\n",
       "    <tr>\n",
       "      <th>Stock options</th>\n",
       "      <td>0.689795</td>\n",
       "      <td>0.689795</td>\n",
       "    </tr>\n",
       "  </tbody>\n",
       "</table>\n",
       "</div>"
      ],
      "text/plain": [
       "rule               Baseline       avg\n",
       "issue_type_binned                    \n",
       "Index options      0.557855  0.557855\n",
       "Others             0.749185  0.749185\n",
       "Stock options      0.689795  0.689795"
      ]
     },
     "execution_count": 35,
     "metadata": {},
     "output_type": "execute_result"
    }
   ],
   "source": [
    "check_robustness(\"issue_type_binned\")"
   ]
  },
  {
   "cell_type": "code",
   "execution_count": 36,
   "metadata": {
    "colab": {
     "base_uri": "https://localhost:8080/",
     "height": 238
    },
    "id": "Zpg1yY2MEGFa",
    "outputId": "1fcdd8c9-f892-4e48-f412-dbd7f4ccf20e"
   },
   "outputs": [
    {
     "data": {
      "text/html": [
       "<div>\n",
       "<style scoped>\n",
       "    .dataframe tbody tr th:only-of-type {\n",
       "        vertical-align: middle;\n",
       "    }\n",
       "\n",
       "    .dataframe tbody tr th {\n",
       "        vertical-align: top;\n",
       "    }\n",
       "\n",
       "    .dataframe thead th {\n",
       "        text-align: right;\n",
       "    }\n",
       "</style>\n",
       "<table border=\"1\" class=\"dataframe\">\n",
       "  <thead>\n",
       "    <tr style=\"text-align: right;\">\n",
       "      <th>rule</th>\n",
       "      <th>Baseline</th>\n",
       "      <th>avg</th>\n",
       "    </tr>\n",
       "    <tr>\n",
       "      <th>TRADE_SIZE_binned</th>\n",
       "      <th></th>\n",
       "      <th></th>\n",
       "    </tr>\n",
       "  </thead>\n",
       "  <tbody>\n",
       "    <tr>\n",
       "      <th>(0,1]</th>\n",
       "      <td>0.710096</td>\n",
       "      <td>0.710096</td>\n",
       "    </tr>\n",
       "    <tr>\n",
       "      <th>(1,3]</th>\n",
       "      <td>0.714009</td>\n",
       "      <td>0.714009</td>\n",
       "    </tr>\n",
       "    <tr>\n",
       "      <th>(3,5]</th>\n",
       "      <td>0.711946</td>\n",
       "      <td>0.711946</td>\n",
       "    </tr>\n",
       "    <tr>\n",
       "      <th>(5,11]</th>\n",
       "      <td>0.703518</td>\n",
       "      <td>0.703518</td>\n",
       "    </tr>\n",
       "    <tr>\n",
       "      <th>&gt;11</th>\n",
       "      <td>0.679353</td>\n",
       "      <td>0.679353</td>\n",
       "    </tr>\n",
       "  </tbody>\n",
       "</table>\n",
       "</div>"
      ],
      "text/plain": [
       "rule               Baseline       avg\n",
       "TRADE_SIZE_binned                    \n",
       "(0,1]              0.710096  0.710096\n",
       "(1,3]              0.714009  0.714009\n",
       "(3,5]              0.711946  0.711946\n",
       "(5,11]             0.703518  0.703518\n",
       ">11                0.679353  0.679353"
      ]
     },
     "execution_count": 36,
     "metadata": {},
     "output_type": "execute_result"
    }
   ],
   "source": [
    "check_robustness(\"TRADE_SIZE_binned\")\n"
   ]
  },
  {
   "cell_type": "code",
   "execution_count": 37,
   "metadata": {
    "colab": {
     "base_uri": "https://localhost:8080/",
     "height": 269
    },
    "id": "8624JR8wEN4D",
    "outputId": "3d7dc318-e7d7-43f2-ac3a-965052b197b9"
   },
   "outputs": [
    {
     "data": {
      "text/html": [
       "<div>\n",
       "<style scoped>\n",
       "    .dataframe tbody tr th:only-of-type {\n",
       "        vertical-align: middle;\n",
       "    }\n",
       "\n",
       "    .dataframe tbody tr th {\n",
       "        vertical-align: top;\n",
       "    }\n",
       "\n",
       "    .dataframe thead th {\n",
       "        text-align: right;\n",
       "    }\n",
       "</style>\n",
       "<table border=\"1\" class=\"dataframe\">\n",
       "  <thead>\n",
       "    <tr style=\"text-align: right;\">\n",
       "      <th>rule</th>\n",
       "      <th>Baseline</th>\n",
       "      <th>avg</th>\n",
       "    </tr>\n",
       "    <tr>\n",
       "      <th>ttm_binned</th>\n",
       "      <th></th>\n",
       "      <th></th>\n",
       "    </tr>\n",
       "  </thead>\n",
       "  <tbody>\n",
       "    <tr>\n",
       "      <th>ttm &lt;= 1 month</th>\n",
       "      <td>0.707660</td>\n",
       "      <td>0.707660</td>\n",
       "    </tr>\n",
       "    <tr>\n",
       "      <th>ttm (1-2] month</th>\n",
       "      <td>0.711978</td>\n",
       "      <td>0.711978</td>\n",
       "    </tr>\n",
       "    <tr>\n",
       "      <th>ttm (2-3] month</th>\n",
       "      <td>0.702906</td>\n",
       "      <td>0.702906</td>\n",
       "    </tr>\n",
       "    <tr>\n",
       "      <th>ttm (3-6] month</th>\n",
       "      <td>0.698200</td>\n",
       "      <td>0.698200</td>\n",
       "    </tr>\n",
       "    <tr>\n",
       "      <th>ttm (6-12] month</th>\n",
       "      <td>0.698057</td>\n",
       "      <td>0.698057</td>\n",
       "    </tr>\n",
       "    <tr>\n",
       "      <th>ttm &gt; 12 month</th>\n",
       "      <td>0.675393</td>\n",
       "      <td>0.675393</td>\n",
       "    </tr>\n",
       "  </tbody>\n",
       "</table>\n",
       "</div>"
      ],
      "text/plain": [
       "rule              Baseline       avg\n",
       "ttm_binned                          \n",
       "ttm <= 1 month    0.707660  0.707660\n",
       "ttm (1-2] month   0.711978  0.711978\n",
       "ttm (2-3] month   0.702906  0.702906\n",
       "ttm (3-6] month   0.698200  0.698200\n",
       "ttm (6-12] month  0.698057  0.698057\n",
       "ttm > 12 month    0.675393  0.675393"
      ]
     },
     "execution_count": 37,
     "metadata": {},
     "output_type": "execute_result"
    }
   ],
   "source": [
    "check_robustness(\"ttm_binned\")\n"
   ]
  },
  {
   "cell_type": "code",
   "execution_count": 38,
   "metadata": {
    "colab": {
     "base_uri": "https://localhost:8080/",
     "height": 238
    },
    "id": "Z7Vn96hibEvM",
    "outputId": "eab571b5-01c9-4bfd-f3d6-2d1cef4c7ada"
   },
   "outputs": [
    {
     "data": {
      "text/html": [
       "<div>\n",
       "<style scoped>\n",
       "    .dataframe tbody tr th:only-of-type {\n",
       "        vertical-align: middle;\n",
       "    }\n",
       "\n",
       "    .dataframe tbody tr th {\n",
       "        vertical-align: top;\n",
       "    }\n",
       "\n",
       "    .dataframe thead th {\n",
       "        text-align: right;\n",
       "    }\n",
       "</style>\n",
       "<table border=\"1\" class=\"dataframe\">\n",
       "  <thead>\n",
       "    <tr style=\"text-align: right;\">\n",
       "      <th>rule</th>\n",
       "      <th>Baseline</th>\n",
       "      <th>avg</th>\n",
       "    </tr>\n",
       "    <tr>\n",
       "      <th>myn_binned</th>\n",
       "      <th></th>\n",
       "      <th></th>\n",
       "    </tr>\n",
       "  </thead>\n",
       "  <tbody>\n",
       "    <tr>\n",
       "      <th>mny &lt;=0.7</th>\n",
       "      <td>0.708647</td>\n",
       "      <td>0.708647</td>\n",
       "    </tr>\n",
       "    <tr>\n",
       "      <th>mny (0.7-0.9]</th>\n",
       "      <td>0.723103</td>\n",
       "      <td>0.723103</td>\n",
       "    </tr>\n",
       "    <tr>\n",
       "      <th>mny (0.9-1.1]</th>\n",
       "      <td>0.712586</td>\n",
       "      <td>0.712586</td>\n",
       "    </tr>\n",
       "    <tr>\n",
       "      <th>mny (1.1-1.3]</th>\n",
       "      <td>0.636541</td>\n",
       "      <td>0.636541</td>\n",
       "    </tr>\n",
       "    <tr>\n",
       "      <th>mny &gt; 1.3</th>\n",
       "      <td>0.607843</td>\n",
       "      <td>0.607843</td>\n",
       "    </tr>\n",
       "  </tbody>\n",
       "</table>\n",
       "</div>"
      ],
      "text/plain": [
       "rule           Baseline       avg\n",
       "myn_binned                       \n",
       "mny <=0.7      0.708647  0.708647\n",
       "mny (0.7-0.9]  0.723103  0.723103\n",
       "mny (0.9-1.1]  0.712586  0.712586\n",
       "mny (1.1-1.3]  0.636541  0.636541\n",
       "mny > 1.3      0.607843  0.607843"
      ]
     },
     "execution_count": 38,
     "metadata": {},
     "output_type": "execute_result"
    }
   ],
   "source": [
    "check_robustness(\"myn_binned\")\n"
   ]
  }
 ],
 "metadata": {
  "accelerator": "GPU",
  "colab": {
   "include_colab_link": true,
   "machine_shape": "hm",
   "name": "Untitled2.ipynb",
   "provenance": []
  },
  "gpuClass": "premium",
  "kernelspec": {
   "display_name": "Python (thesis)",
   "language": "python",
   "name": "thesis"
  },
  "language_info": {
   "codemirror_mode": {
    "name": "ipython",
    "version": 3
   },
   "file_extension": ".py",
   "mimetype": "text/x-python",
   "name": "python",
   "nbconvert_exporter": "python",
   "pygments_lexer": "ipython3",
   "version": "3.8.6"
  },
  "vscode": {
   "interpreter": {
    "hash": "f8ea8b642289b706932f10b33ee389827410dbaef0ce2c5bf73615e8d3267d88"
   }
  }
 },
 "nbformat": 4,
 "nbformat_minor": 4
}
