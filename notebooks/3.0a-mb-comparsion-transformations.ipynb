{
  "cells": [
    {
      "cell_type": "markdown",
      "metadata": {},
      "source": [
        "Run on runpods.io due to memory requirements. ⚠️"
      ]
    },
    {
      "cell_type": "code",
      "execution_count": null,
      "metadata": {
        "id": "EMApm-vLnME4"
      },
      "outputs": [],
      "source": [
        "import os\n",
        "import random\n",
        "\n",
        "from catboost import CatBoostClassifier\n",
        "\n",
        "\n",
        "import numpy as np\n",
        "import matplotlib.pyplot as plt\n",
        "import pandas as pd\n",
        "\n",
        "\n",
        "from sklearn.preprocessing import OrdinalEncoder\n",
        "from sklearn.model_selection import cross_validate\n",
        "\n",
        "from typing import List, Optional, Tuple\n"
      ]
    },
    {
      "cell_type": "code",
      "execution_count": null,
      "metadata": {
        "id": "a-f2aByNtJTK"
      },
      "outputs": [],
      "source": [
        "# set fixed seed\n",
        "def seed_everything(seed) -> None:\n",
        "    \"\"\"\n",
        "    Seeds basic parameters for reproducibility of results.\n",
        "    \"\"\"\n",
        "    os.environ[\"PYTHONHASHSEED\"] = str(seed)\n",
        "    random.seed(seed)\n",
        "    # pandas and numpy as discussed here: https://stackoverflow.com/a/52375474/5755604\n",
        "    np.random.seed(seed)\n",
        "\n",
        "\n",
        "seed = 42\n",
        "seed_everything(seed)\n"
      ]
    },
    {
      "cell_type": "markdown",
      "metadata": {
        "id": "60o0lQs6RS0m"
      },
      "source": [
        "# Cross-validation⛑️"
      ]
    },
    {
      "cell_type": "code",
      "execution_count": null,
      "metadata": {
        "id": "MJ0BUK3jkmdb"
      },
      "outputs": [],
      "source": [
        "oe_option_type = OrdinalEncoder(\n",
        "    unknown_value=-1, dtype=int, handle_unknown=\"use_encoded_value\"\n",
        ")\n",
        "oe_root = OrdinalEncoder(\n",
        "    unknown_value=-1, dtype=int, handle_unknown=\"use_encoded_value\"\n",
        ")\n",
        "oe_issue_type = OrdinalEncoder(\n",
        "    unknown_value=-1, dtype=int, handle_unknown=\"use_encoded_value\"\n",
        ")\n"
      ]
    },
    {
      "cell_type": "code",
      "execution_count": null,
      "metadata": {
        "id": "r5NCpF3z9P5b"
      },
      "outputs": [],
      "source": [
        "def transform(data: pd.DataFrame) -> Tuple[pd.DataFrame, pd.Series]:\n",
        "\n",
        "    # date features\n",
        "    x = pd.DataFrame(\n",
        "        data={\"date_year\": data[\"QUOTE_DATETIME\"].dt.year}, index=data.index\n",
        "    )\n",
        "\n",
        "    x[\"date_month_sin\"] = np.sin(2 * np.pi * data[\"QUOTE_DATETIME\"].dt.year / 12)\n",
        "    x[\"date_month_cos\"] = np.cos(2 * np.pi * data[\"QUOTE_DATETIME\"].dt.year / 12)\n",
        "\n",
        "    seconds_in_day = 24 * 60 * 60\n",
        "    seconds = (\n",
        "        data[\"QUOTE_DATETIME\"] - data[\"QUOTE_DATETIME\"].dt.normalize()\n",
        "    ).dt.total_seconds()\n",
        "\n",
        "    x[\"date_time_sin\"] = np.sin(2 * np.pi * seconds / seconds_in_day)\n",
        "    x[\"date_time_cos\"] = np.cos(2 * np.pi * seconds / seconds_in_day)\n",
        "\n",
        "    # option features\n",
        "    x[\"ttm\"] = (\n",
        "        data[\"EXPIRATION\"].dt.to_period(\"M\") - data[\"QUOTE_DATETIME\"].dt.to_period(\"M\")\n",
        "    ).apply(lambda x: x.n)\n",
        "    x[[\"myn\", \"day_vol\"]] = data[[\"myn\", \"day_vol\"]]\n",
        "    # FIXME: make consistent later\n",
        "    x[\"log_strk_prc\"] = np.log1p(data[\"STRK_PRC\"])\n",
        "\n",
        "    # binarize\n",
        "    # \"bin_OPTION_TYPE\", \"bin_issue_type\", \"bin_ROOT\",\n",
        "\n",
        "    # size features\n",
        "    x[\"bid_ask_size_ratio_ex\"] = data[\"bid_size_ex\"] / data[\"ask_size_ex\"]\n",
        "    x[\"rel_bid_size_ex\"] = data[\"TRADE_SIZE\"] / data[\"bid_size_ex\"]\n",
        "    x[\"rel_ask_size_ex\"] = data[\"TRADE_SIZE\"] / data[\"ask_size_ex\"]\n",
        "    x[[\"TRADE_SIZE\", \"bid_size_ex\", \"ask_size_ex\"]] = data[\n",
        "        [\"TRADE_SIZE\", \"bid_size_ex\", \"ask_size_ex\"]\n",
        "    ]\n",
        "\n",
        "    # classical\n",
        "    mid_ex = 0.5 * (data[\"ask_ex\"] + data[\"bid_ex\"])\n",
        "    mid_best = 0.5 * (data[\"BEST_ASK\"] + data[\"BEST_BID\"])\n",
        "    x[\"rel_ask_ex\"] = (data[\"TRADE_PRICE\"] - mid_ex) / (data[\"ask_ex\"] - mid_ex)\n",
        "    x[\"rel_bid_ex\"] = (mid_ex - data[\"TRADE_PRICE\"]) / (mid_ex - data[\"bid_ex\"])\n",
        "    x[\"BEST_rel_bid\"] = (data[\"TRADE_PRICE\"] - mid_best) / (data[\"BEST_ASK\"] - mid_best)\n",
        "    x[\"BEST_rel_ask\"] = (mid_best - data[\"TRADE_PRICE\"]) / (mid_best - data[\"BEST_BID\"])\n",
        "    x[\"bid_ask_ratio_ex\"] = data[\"bid_ex\"] / data[\"ask_ex\"]\n",
        "\n",
        "    x[\"chg_ex_lead\"] = data[\"TRADE_PRICE\"] - data[\"price_ex_lead\"]\n",
        "    x[\"chg_ex_lag\"] = data[\"TRADE_PRICE\"] - data[\"price_ex_lag\"]\n",
        "    x[\"chg_all_lead\"] = data[\"TRADE_PRICE\"] - data[\"price_all_lead\"]\n",
        "    x[\"chg_all_lag\"] = data[\"TRADE_PRICE\"] - data[\"price_all_lag\"]\n",
        "\n",
        "    # log(x + 0.01)\n",
        "    x[\n",
        "        [\n",
        "            \"log001p_ask_ex\",\n",
        "            \"log001p_bid_ex\",\n",
        "            \"log001p_BEST_ASK\",\n",
        "            \"log001p_BEST_BID\",\n",
        "            \"log001p_trade_price\",\n",
        "            \"log001p_price_all_lag\",\n",
        "            \"log001p_price_all_lead\",\n",
        "            \"log001p_price_ex_lag\",\n",
        "            \"log001p_price_ex_lead\",\n",
        "            \"log001p_TRADE_SIZE\",\n",
        "            \"log001p_bid_size_ex\",\n",
        "            \"log001p_ask_size_ex\",\n",
        "        ]\n",
        "    ] = np.log(\n",
        "        data[\n",
        "            [\n",
        "                \"ask_ex\",\n",
        "                \"bid_ex\",\n",
        "                \"BEST_ASK\",\n",
        "                \"BEST_BID\",\n",
        "                \"TRADE_PRICE\",\n",
        "                \"price_all_lag\",\n",
        "                \"price_all_lead\",\n",
        "                \"price_ex_lag\",\n",
        "                \"price_ex_lead\",\n",
        "                \"TRADE_SIZE\",\n",
        "                \"bid_size_ex\",\n",
        "                \"ask_size_ex\",\n",
        "            ]\n",
        "        ]\n",
        "        + 1e-2\n",
        "    )\n",
        "\n",
        "    # log(x + 1)\n",
        "    x[\n",
        "        [\n",
        "            \"log1p_ask_ex\",\n",
        "            \"log1p_bid_ex\",\n",
        "            \"log1p_BEST_ASK\",\n",
        "            \"log1p_BEST_BID\",\n",
        "            \"log1p_trade_price\",\n",
        "            \"log1p_price_all_lag\",\n",
        "            \"log1p_price_all_lead\",\n",
        "            \"log1p_price_ex_lag\",\n",
        "            \"log1p_price_ex_lead\",\n",
        "            \"log1p_TRADE_SIZE\",\n",
        "            \"log1p_bid_size_ex\",\n",
        "            \"log1p_ask_size_ex\",\n",
        "        ]\n",
        "    ] = np.log1p(\n",
        "        data[\n",
        "            [\n",
        "                \"ask_ex\",\n",
        "                \"bid_ex\",\n",
        "                \"BEST_ASK\",\n",
        "                \"BEST_BID\",\n",
        "                \"TRADE_PRICE\",\n",
        "                \"price_all_lag\",\n",
        "                \"price_all_lead\",\n",
        "                \"price_ex_lag\",\n",
        "                \"price_ex_lead\",\n",
        "                \"TRADE_SIZE\",\n",
        "                \"bid_size_ex\",\n",
        "                \"ask_size_ex\",\n",
        "            ]\n",
        "        ]\n",
        "    )\n",
        "\n",
        "    # https://stackoverflow.com/questions/70727291/how-do-i-know-whether-a-sklearn-scaler-is-already-fitted-or-not\n",
        "\n",
        "    if not hasattr(oe_option_type, \"n_features_in_\"):\n",
        "        oe_option_type.fit(data[\"OPTION_TYPE\"].astype(str).values.reshape(-1, 1))\n",
        "    x[\"bin_option_type\"] = oe_option_type.transform(\n",
        "        data[\"OPTION_TYPE\"].astype(str).values.reshape(-1, 1)\n",
        "    )\n",
        "\n",
        "    if not hasattr(oe_root, \"n_features_in_\"):\n",
        "        oe_root.fit(data[\"ROOT\"].astype(str).values.reshape(-1, 1))\n",
        "    x[\"bin_root\"] = oe_root.transform(data[\"ROOT\"].astype(str).values.reshape(-1, 1))\n",
        "\n",
        "    if not hasattr(oe_issue_type, \"n_features_in_\"):\n",
        "        oe_issue_type.fit(data[\"issue_type\"].astype(str).values.reshape(-1, 1))\n",
        "    x[\"bin_issue_type\"] = oe_issue_type.transform(\n",
        "        data[\"issue_type\"].astype(str).values.reshape(-1, 1)\n",
        "    )\n",
        "\n",
        "    x.replace([np.inf, -np.inf], np.nan, inplace=True)\n",
        "\n",
        "    y = data[\"buy_sell\"]\n",
        "    return x, y\n"
      ]
    },
    {
      "cell_type": "code",
      "execution_count": null,
      "metadata": {
        "id": "I2AtIJTW5x94"
      },
      "outputs": [],
      "source": [
        "train = pd.read_parquet(\n",
        "    \"gs://thesis-bucket-option-trade-classification/data/preprocessed/train_set_extended_60.parquet\"\n",
        ")\n",
        "x_train, y_train = transform(train)\n",
        "\n",
        "del train\n"
      ]
    },
    {
      "cell_type": "code",
      "execution_count": null,
      "metadata": {
        "id": "koZ_6245-lIM"
      },
      "outputs": [],
      "source": [
        "val = pd.read_parquet(\n",
        "    \"gs://thesis-bucket-option-trade-classification/data/preprocessed/val_set_extended_20.parquet\"\n",
        ")\n",
        "x_val, y_val = transform(val)\n",
        "\n",
        "del val\n"
      ]
    },
    {
      "cell_type": "code",
      "execution_count": null,
      "metadata": {
        "id": "B_dIB3C7-s8r"
      },
      "outputs": [],
      "source": [
        "test = pd.read_parquet(\n",
        "    \"gs://thesis-bucket-option-trade-classification/data/preprocessed/test_set_extended_20.parquet\"\n",
        ")\n",
        "x_test, y_test = transform(test)\n",
        "\n",
        "del test\n"
      ]
    },
    {
      "cell_type": "code",
      "execution_count": null,
      "metadata": {
        "id": "Jc1yrYD7TsqB"
      },
      "outputs": [],
      "source": [
        "classical_features_log001p = [\n",
        "    \"BEST_rel_bid\",\n",
        "    \"BEST_rel_ask\",\n",
        "    \"rel_ask_ex\",\n",
        "    \"rel_bid_ex\",\n",
        "    \"bid_ask_ratio_ex\",\n",
        "    \"log001p_ask_ex\",\n",
        "    \"log001p_bid_ex\",\n",
        "    \"log001p_BEST_ASK\",\n",
        "    \"log001p_BEST_BID\",\n",
        "    \"chg_ex_lag\",\n",
        "    \"chg_ex_lead\",\n",
        "    \"chg_all_lag\",\n",
        "    \"chg_all_lead\",\n",
        "    \"log001p_trade_price\",\n",
        "    \"log001p_price_all_lag\",\n",
        "    \"log001p_price_all_lead\",\n",
        "    \"log001p_price_ex_lag\",\n",
        "    \"log001p_price_ex_lead\",\n",
        "]\n",
        "\n",
        "classical_features_log1p = [\n",
        "    \"BEST_rel_bid\",\n",
        "    \"BEST_rel_ask\",\n",
        "    \"rel_ask_ex\",\n",
        "    \"rel_bid_ex\",\n",
        "    \"bid_ask_ratio_ex\",\n",
        "    \"log1p_ask_ex\",\n",
        "    \"log1p_bid_ex\",\n",
        "    \"log1p_BEST_ASK\",\n",
        "    \"log1p_BEST_BID\",\n",
        "    \"chg_ex_lag\",\n",
        "    \"chg_ex_lead\",\n",
        "    \"chg_all_lag\",\n",
        "    \"chg_all_lead\",\n",
        "    \"log1p_trade_price\",\n",
        "    \"log1p_price_all_lag\",\n",
        "    \"log1p_price_all_lead\",\n",
        "    \"log1p_price_ex_lag\",\n",
        "    \"log1p_price_ex_lead\",\n",
        "]\n",
        "\n",
        "classical_features_no_transform = [\n",
        "    \"BEST_rel_bid\",\n",
        "    \"BEST_rel_ask\",\n",
        "    \"rel_ask_ex\",\n",
        "    \"rel_bid_ex\",\n",
        "    \"bid_ask_ratio_ex\",\n",
        "    \"ask_ex\",\n",
        "    \"bid_ex\",\n",
        "    \"BEST_ASK\",\n",
        "    \"BEST_BID\",\n",
        "    \"chg_ex_lag\",\n",
        "    \"chg_ex_lead\",\n",
        "    \"chg_all_lag\",\n",
        "    \"chg_all_lead\",\n",
        "    \"trade_price\",\n",
        "    \"price_all_lag\",\n",
        "    \"price_all_lead\",\n",
        "    \"price_ex_lag\",\n",
        "    \"price_ex_lead\",\n",
        "]\n",
        "\n",
        "\n",
        "size_features_no_transform = [\n",
        "    \"TRADE_SIZE\",\n",
        "    \"bid_ask_size_ratio_ex\",\n",
        "    \"rel_bid_size_ex\",\n",
        "    \"rel_ask_size_ex\",\n",
        "    \"bid_size_ex\",\n",
        "    \"ask_size_ex\",\n",
        "]\n",
        "\n",
        "size_features_log001p= [\n",
        "    \"log001p_TRADE_SIZE\",\n",
        "    \"bid_ask_size_ratio_ex\",\n",
        "    \"rel_bid_size_ex\",\n",
        "    \"rel_ask_size_ex\",\n",
        "    \"log001p_bid_size_ex\",\n",
        "    \"log001p_ask_size_ex\",\n",
        "]\n",
        "\n",
        "\n",
        "size_features_log1p= [\n",
        "    \"log1p_TRADE_SIZE\",\n",
        "    \"bid_ask_size_ratio_ex\",\n",
        "    \"rel_bid_size_ex\",\n",
        "    \"rel_ask_size_ex\",\n",
        "    \"log1p_bid_size_ex\",\n",
        "    \"log1p_ask_size_ex\",\n",
        "]\n",
        "\n",
        "\n",
        "option_features = [\n",
        "    \"bin_option_type\",\n",
        "    \"bin_issue_type\",\n",
        "    \"bin_root\",\n",
        "    \"myn\",\n",
        "    \"log_strk_prc\",\n",
        "    \"ttm\",\n",
        "    \"day_vol\",\n",
        "]\n",
        "date_features = [\n",
        "    \"date_time_cos\",\n",
        "    \"date_time_sin\",\n",
        "    \"date_month_cos\",\n",
        "    \"date_month_sin\",\n",
        "    \"date_year\",\n",
        "]\n",
        "\n",
        "cat_features = [\"bin_root\", \"bin_issue_type\", \"bin_option_type\"]\n"
      ]
    },
    {
      "cell_type": "code",
      "execution_count": null,
      "metadata": {
        "id": "uwtNdpvFCLmj"
      },
      "outputs": [],
      "source": [
        "def evaluate(\n",
        "    features: List[str], cat_features: Optional[List[str]]\n",
        ") -> Tuple[pd.DataFrame, pd.DataFrame, pd.DataFrame]:\n",
        "\n",
        "    params = {\n",
        "        \"od_type\": \"Iter\",\n",
        "        \"logging_level\": \"Silent\",\n",
        "        \"depth\": 8,\n",
        "        \"loss_function\": \"Logloss\",\n",
        "        \"task_type\": \"GPU\",\n",
        "        \"cat_features\": cat_features,\n",
        "        \"random_seed\": 42,\n",
        "    }\n",
        "\n",
        "    res = cross_validate(\n",
        "        CatBoostClassifier(**params),\n",
        "        x_train[features],\n",
        "        y_train,\n",
        "        cv=3,\n",
        "        return_estimator=True,\n",
        "    )\n",
        "    results_cv = pd.DataFrame(res[\"test_score\"], columns=[\"test_score_cv\"])\n",
        "    print(res)\n",
        "\n",
        "    oos = []\n",
        "    feature_importances = []\n",
        "    for i, model in enumerate(res[\"estimator\"]):\n",
        "\n",
        "        oos.append(\n",
        "            [\n",
        "                i,\n",
        "                model.score(x_train[features], y_train),\n",
        "                model.score(x_val[features], y_val),\n",
        "                model.score(x_test[features], y_test),\n",
        "            ]\n",
        "        )\n",
        "\n",
        "        feature_importance = model.get_feature_importance(prettified=True).add_prefix(\n",
        "            f\"fold_{i}_\"\n",
        "        )\n",
        "        feature_importances.append(feature_importance)\n",
        "\n",
        "    results_oos = pd.DataFrame(\n",
        "        data=oos, columns=[\"fold\", \"acc_train\", \"acc_val\", \"acc_test\"]\n",
        "    )\n",
        "    results_fi = pd.concat(feature_importances, axis=1)\n",
        "\n",
        "    return results_cv, results_oos, results_fi\n"
      ]
    },
    {
      "cell_type": "code",
      "execution_count": null,
      "metadata": {
        "colab": {
          "base_uri": "https://localhost:8080/"
        },
        "id": "jW_6nldIPmny",
        "outputId": "a62caeb7-b888-4e02-9f31-684b49f0274c"
      },
      "outputs": [],
      "source": [
        "results_cv, results_oos, results_fi = evaluate(classical_features_no_transform, [])\n"
      ]
    },
    {
      "cell_type": "code",
      "execution_count": null,
      "metadata": {
        "colab": {
          "base_uri": "https://localhost:8080/",
          "height": 143
        },
        "id": "hVbszoC2QWvO",
        "outputId": "f4c8ca44-760c-4597-fa1c-7fa9493607e6"
      },
      "outputs": [],
      "source": [
        "results_cv\n"
      ]
    },
    {
      "cell_type": "code",
      "execution_count": null,
      "metadata": {
        "colab": {
          "base_uri": "https://localhost:8080/",
          "height": 143
        },
        "id": "q1GovnsAP1Zp",
        "outputId": "62f22903-41b8-4e25-82c2-1b95e1a9a15c"
      },
      "outputs": [],
      "source": [
        "results_oos\n"
      ]
    },
    {
      "cell_type": "code",
      "execution_count": null,
      "metadata": {
        "colab": {
          "base_uri": "https://localhost:8080/",
          "height": 614
        },
        "id": "rfCLBWI4Q0ol",
        "outputId": "1d4000ee-a023-4b06-e1b9-58ddf9b2c70c"
      },
      "outputs": [],
      "source": [
        "results_fi\n"
      ]
    },
    {
      "cell_type": "code",
      "execution_count": null,
      "metadata": {},
      "outputs": [],
      "source": [
        "results_cv, results_oos, results_fi = evaluate(classical_features_log001p, [])"
      ]
    },
    {
      "cell_type": "code",
      "execution_count": null,
      "metadata": {},
      "outputs": [],
      "source": [
        "results_cv"
      ]
    },
    {
      "cell_type": "code",
      "execution_count": null,
      "metadata": {},
      "outputs": [],
      "source": [
        "results_oos"
      ]
    },
    {
      "cell_type": "code",
      "execution_count": null,
      "metadata": {},
      "outputs": [],
      "source": [
        "results_fi"
      ]
    },
    {
      "cell_type": "code",
      "execution_count": null,
      "metadata": {},
      "outputs": [],
      "source": [
        "results_cv, results_oos, results_fi = evaluate(classical_features_log1p, [])"
      ]
    },
    {
      "cell_type": "code",
      "execution_count": null,
      "metadata": {},
      "outputs": [],
      "source": [
        "results_cv"
      ]
    },
    {
      "cell_type": "code",
      "execution_count": null,
      "metadata": {},
      "outputs": [],
      "source": [
        "results_oos"
      ]
    },
    {
      "cell_type": "code",
      "execution_count": null,
      "metadata": {},
      "outputs": [],
      "source": [
        "results_fi"
      ]
    },
    {
      "cell_type": "code",
      "execution_count": null,
      "metadata": {
        "colab": {
          "base_uri": "https://localhost:8080/"
        },
        "id": "7pKhIygQB6N8",
        "outputId": "b69b5a01-1269-47dc-a8ad-45b8bbf8203e"
      },
      "outputs": [],
      "source": [
        "results_cv, results_oos, results_fi = evaluate(\n",
        "    [*classical_features_no_transform, *size_features_no_transform], []\n",
        ")\n"
      ]
    },
    {
      "cell_type": "code",
      "execution_count": null,
      "metadata": {
        "colab": {
          "base_uri": "https://localhost:8080/",
          "height": 143
        },
        "id": "1GwuHPEZCBUf",
        "outputId": "2ef2e785-bb26-4b2b-ca51-a9043d011514"
      },
      "outputs": [],
      "source": [
        "results_cv\n"
      ]
    },
    {
      "cell_type": "code",
      "execution_count": null,
      "metadata": {
        "colab": {
          "base_uri": "https://localhost:8080/",
          "height": 143
        },
        "id": "eg0APGEcCF-Y",
        "outputId": "5fce7da6-e599-4bf5-d099-418cd083a8a2"
      },
      "outputs": [],
      "source": [
        "results_oos\n"
      ]
    },
    {
      "cell_type": "code",
      "execution_count": null,
      "metadata": {
        "colab": {
          "base_uri": "https://localhost:8080/",
          "height": 802
        },
        "id": "vjJ0r5P4CHO5",
        "outputId": "8ace8cec-c2fd-4e7b-c329-c34e86451369"
      },
      "outputs": [],
      "source": [
        "results_fi\n"
      ]
    },
    {
      "cell_type": "code",
      "execution_count": null,
      "metadata": {},
      "outputs": [],
      "source": [
        "results_cv, results_oos, results_fi = evaluate(\n",
        "    [*classical_features_no_transform, *size_features_log001p], []\n",
        ")"
      ]
    },
    {
      "cell_type": "code",
      "execution_count": null,
      "metadata": {},
      "outputs": [],
      "source": [
        "results_cv"
      ]
    },
    {
      "cell_type": "code",
      "execution_count": null,
      "metadata": {},
      "outputs": [],
      "source": [
        "results_oos"
      ]
    },
    {
      "cell_type": "code",
      "execution_count": null,
      "metadata": {},
      "outputs": [],
      "source": [
        "results_fi"
      ]
    },
    {
      "cell_type": "code",
      "execution_count": null,
      "metadata": {},
      "outputs": [],
      "source": [
        "results_cv, results_oos, results_fi = evaluate(\n",
        "    [*classical_features_no_transform, *size_features_log1p], []\n",
        ")"
      ]
    },
    {
      "cell_type": "code",
      "execution_count": null,
      "metadata": {},
      "outputs": [],
      "source": [
        "results_cv"
      ]
    },
    {
      "cell_type": "code",
      "execution_count": null,
      "metadata": {},
      "outputs": [],
      "source": [
        "results_oos"
      ]
    },
    {
      "cell_type": "code",
      "execution_count": null,
      "metadata": {},
      "outputs": [],
      "source": [
        "results_fi"
      ]
    },
    {
      "cell_type": "code",
      "execution_count": null,
      "metadata": {
        "colab": {
          "base_uri": "https://localhost:8080/"
        },
        "id": "CYig_w59CPii",
        "outputId": "fb19737e-5054-45d7-c3b7-2537501ee892"
      },
      "outputs": [],
      "source": [
        "results_cv, results_oos, results_fi = evaluate(\n",
        "    [*classical_features, *size_features, *date_features, *option_features],\n",
        "    cat_features,\n",
        ")\n"
      ]
    },
    {
      "cell_type": "code",
      "execution_count": null,
      "metadata": {
        "colab": {
          "base_uri": "https://localhost:8080/",
          "height": 143
        },
        "id": "0N0wdz83CTnD",
        "outputId": "40482a84-72c1-416f-eca5-7aec1c0f8dd4"
      },
      "outputs": [],
      "source": [
        "results_cv\n"
      ]
    },
    {
      "cell_type": "code",
      "execution_count": null,
      "metadata": {
        "colab": {
          "base_uri": "https://localhost:8080/",
          "height": 143
        },
        "id": "Vhw-JeLPDW1D",
        "outputId": "f613b490-efb8-4b6f-8a94-6d0d5766f0f0"
      },
      "outputs": [],
      "source": [
        "results_oos\n"
      ]
    },
    {
      "cell_type": "code",
      "execution_count": null,
      "metadata": {
        "colab": {
          "base_uri": "https://localhost:8080/",
          "height": 1000
        },
        "id": "Zp451jorEDpx",
        "outputId": "67cfa81e-1c5d-4441-88a2-797fdb17a842"
      },
      "outputs": [],
      "source": [
        "results_fi\n"
      ]
    }
  ],
  "metadata": {
    "accelerator": "GPU",
    "colab": {
      "include_colab_link": true,
      "machine_shape": "hm",
      "name": "Untitled2.ipynb",
      "provenance": []
    },
    "gpuClass": "premium",
    "kernelspec": {
      "display_name": "Python 3.9.4 64-bit",
      "language": "python",
      "name": "python3"
    },
    "language_info": {
      "codemirror_mode": {
        "name": "ipython",
        "version": 3
      },
      "file_extension": ".py",
      "mimetype": "text/x-python",
      "name": "python",
      "nbconvert_exporter": "python",
      "pygments_lexer": "ipython3",
      "version": "3.9.4"
    },
    "vscode": {
      "interpreter": {
        "hash": "f8ea8b642289b706932f10b33ee389827410dbaef0ce2c5bf73615e8d3267d88"
      }
    }
  },
  "nbformat": 4,
  "nbformat_minor": 0
}
