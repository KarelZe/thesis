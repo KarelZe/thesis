{
  "cells": [
    {
      "cell_type": "markdown",
      "metadata": {
        "id": "view-in-github",
        "colab_type": "text"
      },
      "source": [
        "<a href=\"https://colab.research.google.com/github/KarelZe/thesis/blob/baseline/notebooks/3.0-mb-feature_engineering_baseline.ipynb\" target=\"_parent\"><img src=\"https://colab.research.google.com/assets/colab-badge.svg\" alt=\"Open In Colab\"/></a>"
      ]
    },
    {
      "cell_type": "code",
      "source": [
        "!pip install catboost==1.1\n",
        "!pip install gcsfs==2022.10.0\n",
        "!pip install ipywidgets==8.0.2\n",
        "!pip install numpy==1.23.4\n",
        "!pip install pandas==1.5.1\n",
        "!pip install optuna==3.0.3\n",
        "!pip install scikit-learn==1.1.3\n",
        "!pip install seaborn==0.12.1\n",
        "!pip install wandb==0.13.4"
      ],
      "metadata": {
        "colab": {
          "base_uri": "https://localhost:8080/"
        },
        "id": "LQwYMQAr-0vu",
        "outputId": "446d8b9e-5661-49ae-c873-fee356bba228"
      },
      "execution_count": null,
      "outputs": [
        {
          "output_type": "stream",
          "name": "stdout",
          "text": [
            "Looking in indexes: https://pypi.org/simple, https://us-python.pkg.dev/colab-wheels/public/simple/\n",
            "Collecting catboost==1.1\n",
            "  Downloading catboost-1.1-cp37-none-manylinux1_x86_64.whl (76.8 MB)\n",
            "\u001b[K     |████████████████████████████████| 76.8 MB 1.2 MB/s \n",
            "\u001b[?25hRequirement already satisfied: six in /usr/local/lib/python3.7/dist-packages (from catboost==1.1) (1.15.0)\n",
            "Requirement already satisfied: scipy in /usr/local/lib/python3.7/dist-packages (from catboost==1.1) (1.7.3)\n",
            "Requirement already satisfied: matplotlib in /usr/local/lib/python3.7/dist-packages (from catboost==1.1) (3.2.2)\n",
            "Requirement already satisfied: plotly in /usr/local/lib/python3.7/dist-packages (from catboost==1.1) (5.5.0)\n",
            "Requirement already satisfied: pandas>=0.24.0 in /usr/local/lib/python3.7/dist-packages (from catboost==1.1) (1.3.5)\n",
            "Requirement already satisfied: graphviz in /usr/local/lib/python3.7/dist-packages (from catboost==1.1) (0.10.1)\n",
            "Requirement already satisfied: numpy>=1.16.0 in /usr/local/lib/python3.7/dist-packages (from catboost==1.1) (1.21.6)\n",
            "Requirement already satisfied: python-dateutil>=2.7.3 in /usr/local/lib/python3.7/dist-packages (from pandas>=0.24.0->catboost==1.1) (2.8.2)\n",
            "Requirement already satisfied: pytz>=2017.3 in /usr/local/lib/python3.7/dist-packages (from pandas>=0.24.0->catboost==1.1) (2022.5)\n",
            "Requirement already satisfied: kiwisolver>=1.0.1 in /usr/local/lib/python3.7/dist-packages (from matplotlib->catboost==1.1) (1.4.4)\n",
            "Requirement already satisfied: cycler>=0.10 in /usr/local/lib/python3.7/dist-packages (from matplotlib->catboost==1.1) (0.11.0)\n",
            "Requirement already satisfied: pyparsing!=2.0.4,!=2.1.2,!=2.1.6,>=2.0.1 in /usr/local/lib/python3.7/dist-packages (from matplotlib->catboost==1.1) (3.0.9)\n",
            "Requirement already satisfied: typing-extensions in /usr/local/lib/python3.7/dist-packages (from kiwisolver>=1.0.1->matplotlib->catboost==1.1) (4.1.1)\n",
            "Requirement already satisfied: tenacity>=6.2.0 in /usr/local/lib/python3.7/dist-packages (from plotly->catboost==1.1) (8.1.0)\n",
            "Installing collected packages: catboost\n",
            "Successfully installed catboost-1.1\n",
            "Looking in indexes: https://pypi.org/simple, https://us-python.pkg.dev/colab-wheels/public/simple/\n",
            "Collecting gcsfs==2022.10.0\n",
            "  Downloading gcsfs-2022.10.0-py2.py3-none-any.whl (25 kB)\n",
            "Requirement already satisfied: google-cloud-storage in /usr/local/lib/python3.7/dist-packages (from gcsfs==2022.10.0) (1.18.1)\n",
            "Requirement already satisfied: aiohttp!=4.0.0a0,!=4.0.0a1 in /usr/local/lib/python3.7/dist-packages (from gcsfs==2022.10.0) (3.8.3)\n",
            "Requirement already satisfied: decorator>4.1.2 in /usr/local/lib/python3.7/dist-packages (from gcsfs==2022.10.0) (4.4.2)\n",
            "Requirement already satisfied: fsspec==2022.10.0 in /usr/local/lib/python3.7/dist-packages (from gcsfs==2022.10.0) (2022.10.0)\n",
            "Requirement already satisfied: requests in /usr/local/lib/python3.7/dist-packages (from gcsfs==2022.10.0) (2.23.0)\n",
            "Requirement already satisfied: google-auth>=1.2 in /usr/local/lib/python3.7/dist-packages (from gcsfs==2022.10.0) (1.35.0)\n",
            "Requirement already satisfied: google-auth-oauthlib in /usr/local/lib/python3.7/dist-packages (from gcsfs==2022.10.0) (0.4.6)\n",
            "Requirement already satisfied: yarl<2.0,>=1.0 in /usr/local/lib/python3.7/dist-packages (from aiohttp!=4.0.0a0,!=4.0.0a1->gcsfs==2022.10.0) (1.8.1)\n",
            "Requirement already satisfied: charset-normalizer<3.0,>=2.0 in /usr/local/lib/python3.7/dist-packages (from aiohttp!=4.0.0a0,!=4.0.0a1->gcsfs==2022.10.0) (2.1.1)\n",
            "Requirement already satisfied: asynctest==0.13.0 in /usr/local/lib/python3.7/dist-packages (from aiohttp!=4.0.0a0,!=4.0.0a1->gcsfs==2022.10.0) (0.13.0)\n",
            "Requirement already satisfied: frozenlist>=1.1.1 in /usr/local/lib/python3.7/dist-packages (from aiohttp!=4.0.0a0,!=4.0.0a1->gcsfs==2022.10.0) (1.3.1)\n",
            "Requirement already satisfied: aiosignal>=1.1.2 in /usr/local/lib/python3.7/dist-packages (from aiohttp!=4.0.0a0,!=4.0.0a1->gcsfs==2022.10.0) (1.2.0)\n",
            "Requirement already satisfied: typing-extensions>=3.7.4 in /usr/local/lib/python3.7/dist-packages (from aiohttp!=4.0.0a0,!=4.0.0a1->gcsfs==2022.10.0) (4.1.1)\n",
            "Requirement already satisfied: multidict<7.0,>=4.5 in /usr/local/lib/python3.7/dist-packages (from aiohttp!=4.0.0a0,!=4.0.0a1->gcsfs==2022.10.0) (6.0.2)\n",
            "Requirement already satisfied: attrs>=17.3.0 in /usr/local/lib/python3.7/dist-packages (from aiohttp!=4.0.0a0,!=4.0.0a1->gcsfs==2022.10.0) (22.1.0)\n",
            "Requirement already satisfied: async-timeout<5.0,>=4.0.0a3 in /usr/local/lib/python3.7/dist-packages (from aiohttp!=4.0.0a0,!=4.0.0a1->gcsfs==2022.10.0) (4.0.2)\n",
            "Requirement already satisfied: rsa<5,>=3.1.4 in /usr/local/lib/python3.7/dist-packages (from google-auth>=1.2->gcsfs==2022.10.0) (4.9)\n",
            "Requirement already satisfied: cachetools<5.0,>=2.0.0 in /usr/local/lib/python3.7/dist-packages (from google-auth>=1.2->gcsfs==2022.10.0) (4.2.4)\n",
            "Requirement already satisfied: setuptools>=40.3.0 in /usr/local/lib/python3.7/dist-packages (from google-auth>=1.2->gcsfs==2022.10.0) (57.4.0)\n",
            "Requirement already satisfied: six>=1.9.0 in /usr/local/lib/python3.7/dist-packages (from google-auth>=1.2->gcsfs==2022.10.0) (1.15.0)\n",
            "Requirement already satisfied: pyasn1-modules>=0.2.1 in /usr/local/lib/python3.7/dist-packages (from google-auth>=1.2->gcsfs==2022.10.0) (0.2.8)\n",
            "Requirement already satisfied: pyasn1<0.5.0,>=0.4.6 in /usr/local/lib/python3.7/dist-packages (from pyasn1-modules>=0.2.1->google-auth>=1.2->gcsfs==2022.10.0) (0.4.8)\n",
            "Requirement already satisfied: idna>=2.0 in /usr/local/lib/python3.7/dist-packages (from yarl<2.0,>=1.0->aiohttp!=4.0.0a0,!=4.0.0a1->gcsfs==2022.10.0) (2.10)\n",
            "Requirement already satisfied: requests-oauthlib>=0.7.0 in /usr/local/lib/python3.7/dist-packages (from google-auth-oauthlib->gcsfs==2022.10.0) (1.3.1)\n",
            "Requirement already satisfied: oauthlib>=3.0.0 in /usr/local/lib/python3.7/dist-packages (from requests-oauthlib>=0.7.0->google-auth-oauthlib->gcsfs==2022.10.0) (3.2.2)\n",
            "Requirement already satisfied: urllib3!=1.25.0,!=1.25.1,<1.26,>=1.21.1 in /usr/local/lib/python3.7/dist-packages (from requests->gcsfs==2022.10.0) (1.24.3)\n",
            "Requirement already satisfied: chardet<4,>=3.0.2 in /usr/local/lib/python3.7/dist-packages (from requests->gcsfs==2022.10.0) (3.0.4)\n",
            "Requirement already satisfied: certifi>=2017.4.17 in /usr/local/lib/python3.7/dist-packages (from requests->gcsfs==2022.10.0) (2022.9.24)\n",
            "Requirement already satisfied: google-resumable-media<0.5.0dev,>=0.3.1 in /usr/local/lib/python3.7/dist-packages (from google-cloud-storage->gcsfs==2022.10.0) (0.4.1)\n",
            "Requirement already satisfied: google-cloud-core<2.0dev,>=1.0.0 in /usr/local/lib/python3.7/dist-packages (from google-cloud-storage->gcsfs==2022.10.0) (1.0.3)\n",
            "Requirement already satisfied: google-api-core<2.0.0dev,>=1.14.0 in /usr/local/lib/python3.7/dist-packages (from google-cloud-core<2.0dev,>=1.0.0->google-cloud-storage->gcsfs==2022.10.0) (1.31.6)\n",
            "Requirement already satisfied: pytz in /usr/local/lib/python3.7/dist-packages (from google-api-core<2.0.0dev,>=1.14.0->google-cloud-core<2.0dev,>=1.0.0->google-cloud-storage->gcsfs==2022.10.0) (2022.5)\n",
            "Requirement already satisfied: packaging>=14.3 in /usr/local/lib/python3.7/dist-packages (from google-api-core<2.0.0dev,>=1.14.0->google-cloud-core<2.0dev,>=1.0.0->google-cloud-storage->gcsfs==2022.10.0) (21.3)\n",
            "Requirement already satisfied: protobuf<4.0.0dev,>=3.12.0 in /usr/local/lib/python3.7/dist-packages (from google-api-core<2.0.0dev,>=1.14.0->google-cloud-core<2.0dev,>=1.0.0->google-cloud-storage->gcsfs==2022.10.0) (3.17.3)\n",
            "Requirement already satisfied: googleapis-common-protos<2.0dev,>=1.6.0 in /usr/local/lib/python3.7/dist-packages (from google-api-core<2.0.0dev,>=1.14.0->google-cloud-core<2.0dev,>=1.0.0->google-cloud-storage->gcsfs==2022.10.0) (1.56.4)\n",
            "Requirement already satisfied: pyparsing!=3.0.5,>=2.0.2 in /usr/local/lib/python3.7/dist-packages (from packaging>=14.3->google-api-core<2.0.0dev,>=1.14.0->google-cloud-core<2.0dev,>=1.0.0->google-cloud-storage->gcsfs==2022.10.0) (3.0.9)\n",
            "Installing collected packages: gcsfs\n",
            "Successfully installed gcsfs-2022.10.0\n",
            "Looking in indexes: https://pypi.org/simple, https://us-python.pkg.dev/colab-wheels/public/simple/\n",
            "\u001b[31mERROR: Could not find a version that satisfies the requirement numpy==1.23.4 (from versions: 1.3.0, 1.4.1, 1.5.0, 1.5.1, 1.6.0, 1.6.1, 1.6.2, 1.7.0, 1.7.1, 1.7.2, 1.8.0, 1.8.1, 1.8.2, 1.9.0, 1.9.1, 1.9.2, 1.9.3, 1.10.0.post2, 1.10.1, 1.10.2, 1.10.4, 1.11.0, 1.11.1, 1.11.2, 1.11.3, 1.12.0, 1.12.1, 1.13.0rc1, 1.13.0rc2, 1.13.0, 1.13.1, 1.13.3, 1.14.0rc1, 1.14.0, 1.14.1, 1.14.2, 1.14.3, 1.14.4, 1.14.5, 1.14.6, 1.15.0rc1, 1.15.0rc2, 1.15.0, 1.15.1, 1.15.2, 1.15.3, 1.15.4, 1.16.0rc1, 1.16.0rc2, 1.16.0, 1.16.1, 1.16.2, 1.16.3, 1.16.4, 1.16.5, 1.16.6, 1.17.0rc1, 1.17.0rc2, 1.17.0, 1.17.1, 1.17.2, 1.17.3, 1.17.4, 1.17.5, 1.18.0rc1, 1.18.0, 1.18.1, 1.18.2, 1.18.3, 1.18.4, 1.18.5, 1.19.0rc1, 1.19.0rc2, 1.19.0, 1.19.1, 1.19.2, 1.19.3, 1.19.4, 1.19.5, 1.20.0rc1, 1.20.0rc2, 1.20.0, 1.20.1, 1.20.2, 1.20.3, 1.21.0rc1, 1.21.0rc2, 1.21.0, 1.21.1, 1.21.2, 1.21.3, 1.21.4, 1.21.5, 1.21.6)\u001b[0m\n",
            "\u001b[31mERROR: No matching distribution found for numpy==1.23.4\u001b[0m\n",
            "Looking in indexes: https://pypi.org/simple, https://us-python.pkg.dev/colab-wheels/public/simple/\n",
            "\u001b[31mERROR: Could not find a version that satisfies the requirement pandas==1.5.1 (from versions: 0.1, 0.2, 0.3.0, 0.4.0, 0.4.1, 0.4.2, 0.4.3, 0.5.0, 0.6.0, 0.6.1, 0.7.0, 0.7.1, 0.7.2, 0.7.3, 0.8.0, 0.8.1, 0.9.0, 0.9.1, 0.10.0, 0.10.1, 0.11.0, 0.12.0, 0.13.0, 0.13.1, 0.14.0, 0.14.1, 0.15.0, 0.15.1, 0.15.2, 0.16.0, 0.16.1, 0.16.2, 0.17.0, 0.17.1, 0.18.0, 0.18.1, 0.19.0, 0.19.1, 0.19.2, 0.20.0, 0.20.1, 0.20.2, 0.20.3, 0.21.0, 0.21.1, 0.22.0, 0.23.0, 0.23.1, 0.23.2, 0.23.3, 0.23.4, 0.24.0, 0.24.1, 0.24.2, 0.25.0, 0.25.1, 0.25.2, 0.25.3, 1.0.0, 1.0.1, 1.0.2, 1.0.3, 1.0.4, 1.0.5, 1.1.0, 1.1.1, 1.1.2, 1.1.3, 1.1.4, 1.1.5, 1.2.0, 1.2.1, 1.2.2, 1.2.3, 1.2.4, 1.2.5, 1.3.0, 1.3.1, 1.3.2, 1.3.3, 1.3.4, 1.3.5)\u001b[0m\n",
            "\u001b[31mERROR: No matching distribution found for pandas==1.5.1\u001b[0m\n",
            "Looking in indexes: https://pypi.org/simple, https://us-python.pkg.dev/colab-wheels/public/simple/\n",
            "Collecting optuna==3.0.3\n",
            "  Downloading optuna-3.0.3-py3-none-any.whl (348 kB)\n",
            "\u001b[K     |████████████████████████████████| 348 kB 7.7 MB/s \n",
            "\u001b[?25hCollecting alembic>=1.5.0\n",
            "  Downloading alembic-1.8.1-py3-none-any.whl (209 kB)\n",
            "\u001b[K     |████████████████████████████████| 209 kB 82.9 MB/s \n",
            "\u001b[?25hCollecting colorlog\n",
            "  Downloading colorlog-6.7.0-py2.py3-none-any.whl (11 kB)\n",
            "Requirement already satisfied: numpy in /usr/local/lib/python3.7/dist-packages (from optuna==3.0.3) (1.21.6)\n",
            "Requirement already satisfied: scipy<1.9.0,>=1.7.0 in /usr/local/lib/python3.7/dist-packages (from optuna==3.0.3) (1.7.3)\n",
            "Requirement already satisfied: tqdm in /usr/local/lib/python3.7/dist-packages (from optuna==3.0.3) (4.64.1)\n",
            "Requirement already satisfied: importlib-metadata<5.0.0 in /usr/local/lib/python3.7/dist-packages (from optuna==3.0.3) (4.13.0)\n",
            "Collecting cliff\n",
            "  Downloading cliff-3.10.1-py3-none-any.whl (81 kB)\n",
            "\u001b[K     |████████████████████████████████| 81 kB 11.0 MB/s \n",
            "\u001b[?25hCollecting cmaes>=0.8.2\n",
            "  Downloading cmaes-0.8.2-py3-none-any.whl (15 kB)\n",
            "Requirement already satisfied: PyYAML in /usr/local/lib/python3.7/dist-packages (from optuna==3.0.3) (6.0)\n",
            "Requirement already satisfied: packaging>=20.0 in /usr/local/lib/python3.7/dist-packages (from optuna==3.0.3) (21.3)\n",
            "Requirement already satisfied: sqlalchemy>=1.3.0 in /usr/local/lib/python3.7/dist-packages (from optuna==3.0.3) (1.4.42)\n",
            "Requirement already satisfied: importlib-resources in /usr/local/lib/python3.7/dist-packages (from alembic>=1.5.0->optuna==3.0.3) (5.10.0)\n",
            "Collecting Mako\n",
            "  Downloading Mako-1.2.3-py3-none-any.whl (78 kB)\n",
            "\u001b[K     |████████████████████████████████| 78 kB 9.6 MB/s \n",
            "\u001b[?25hRequirement already satisfied: typing-extensions>=3.6.4 in /usr/local/lib/python3.7/dist-packages (from importlib-metadata<5.0.0->optuna==3.0.3) (4.1.1)\n",
            "Requirement already satisfied: zipp>=0.5 in /usr/local/lib/python3.7/dist-packages (from importlib-metadata<5.0.0->optuna==3.0.3) (3.10.0)\n",
            "Requirement already satisfied: pyparsing!=3.0.5,>=2.0.2 in /usr/local/lib/python3.7/dist-packages (from packaging>=20.0->optuna==3.0.3) (3.0.9)\n",
            "Requirement already satisfied: greenlet!=0.4.17 in /usr/local/lib/python3.7/dist-packages (from sqlalchemy>=1.3.0->optuna==3.0.3) (1.1.3.post0)\n",
            "Collecting stevedore>=2.0.1\n",
            "  Downloading stevedore-3.5.2-py3-none-any.whl (50 kB)\n",
            "\u001b[K     |████████████████████████████████| 50 kB 8.0 MB/s \n",
            "\u001b[?25hCollecting pbr!=2.1.0,>=2.0.0\n",
            "  Downloading pbr-5.11.0-py2.py3-none-any.whl (112 kB)\n",
            "\u001b[K     |████████████████████████████████| 112 kB 81.5 MB/s \n",
            "\u001b[?25hCollecting cmd2>=1.0.0\n",
            "  Downloading cmd2-2.4.2-py3-none-any.whl (147 kB)\n",
            "\u001b[K     |████████████████████████████████| 147 kB 86.6 MB/s \n",
            "\u001b[?25hRequirement already satisfied: PrettyTable>=0.7.2 in /usr/local/lib/python3.7/dist-packages (from cliff->optuna==3.0.3) (3.4.1)\n",
            "Collecting autopage>=0.4.0\n",
            "  Downloading autopage-0.5.1-py3-none-any.whl (29 kB)\n",
            "Collecting pyperclip>=1.6\n",
            "  Downloading pyperclip-1.8.2.tar.gz (20 kB)\n",
            "Requirement already satisfied: attrs>=16.3.0 in /usr/local/lib/python3.7/dist-packages (from cmd2>=1.0.0->cliff->optuna==3.0.3) (22.1.0)\n",
            "Requirement already satisfied: wcwidth>=0.1.7 in /usr/local/lib/python3.7/dist-packages (from cmd2>=1.0.0->cliff->optuna==3.0.3) (0.2.5)\n",
            "Requirement already satisfied: MarkupSafe>=0.9.2 in /usr/local/lib/python3.7/dist-packages (from Mako->alembic>=1.5.0->optuna==3.0.3) (2.0.1)\n",
            "Building wheels for collected packages: pyperclip\n",
            "  Building wheel for pyperclip (setup.py) ... \u001b[?25l\u001b[?25hdone\n",
            "  Created wheel for pyperclip: filename=pyperclip-1.8.2-py3-none-any.whl size=11137 sha256=d67b978840f70461d881a9c92df0acee9e285013c810f949bfc39de32d015426\n",
            "  Stored in directory: /root/.cache/pip/wheels/9f/18/84/8f69f8b08169c7bae2dde6bd7daf0c19fca8c8e500ee620a28\n",
            "Successfully built pyperclip\n",
            "Installing collected packages: pyperclip, pbr, stevedore, Mako, cmd2, autopage, colorlog, cmaes, cliff, alembic, optuna\n",
            "Successfully installed Mako-1.2.3 alembic-1.8.1 autopage-0.5.1 cliff-3.10.1 cmaes-0.8.2 cmd2-2.4.2 colorlog-6.7.0 optuna-3.0.3 pbr-5.11.0 pyperclip-1.8.2 stevedore-3.5.2\n",
            "Looking in indexes: https://pypi.org/simple, https://us-python.pkg.dev/colab-wheels/public/simple/\n",
            "\u001b[31mERROR: Could not find a version that satisfies the requirement scikit-learn==1.1.3 (from versions: 0.9, 0.10, 0.11, 0.12, 0.12.1, 0.13, 0.13.1, 0.14, 0.14.1, 0.15.0b1, 0.15.0b2, 0.15.0, 0.15.1, 0.15.2, 0.16b1, 0.16.0, 0.16.1, 0.17b1, 0.17, 0.17.1, 0.18, 0.18.1, 0.18.2, 0.19b2, 0.19.0, 0.19.1, 0.19.2, 0.20rc1, 0.20.0, 0.20.1, 0.20.2, 0.20.3, 0.20.4, 0.21rc2, 0.21.0, 0.21.1, 0.21.2, 0.21.3, 0.22rc2.post1, 0.22rc3, 0.22, 0.22.1, 0.22.2, 0.22.2.post1, 0.23.0rc1, 0.23.0, 0.23.1, 0.23.2, 0.24.dev0, 0.24.0rc1, 0.24.0, 0.24.1, 0.24.2, 1.0rc1, 1.0rc2, 1.0, 1.0.1, 1.0.2)\u001b[0m\n",
            "\u001b[31mERROR: No matching distribution found for scikit-learn==1.1.3\u001b[0m\n",
            "Looking in indexes: https://pypi.org/simple, https://us-python.pkg.dev/colab-wheels/public/simple/\n",
            "Collecting seaborn==0.12.1\n",
            "  Downloading seaborn-0.12.1-py3-none-any.whl (288 kB)\n",
            "\u001b[K     |████████████████████████████████| 288 kB 7.4 MB/s \n",
            "\u001b[?25hRequirement already satisfied: numpy>=1.17 in /usr/local/lib/python3.7/dist-packages (from seaborn==0.12.1) (1.21.6)\n",
            "Requirement already satisfied: pandas>=0.25 in /usr/local/lib/python3.7/dist-packages (from seaborn==0.12.1) (1.3.5)\n",
            "Requirement already satisfied: typing_extensions in /usr/local/lib/python3.7/dist-packages (from seaborn==0.12.1) (4.1.1)\n",
            "Requirement already satisfied: matplotlib!=3.6.1,>=3.1 in /usr/local/lib/python3.7/dist-packages (from seaborn==0.12.1) (3.2.2)\n",
            "Requirement already satisfied: cycler>=0.10 in /usr/local/lib/python3.7/dist-packages (from matplotlib!=3.6.1,>=3.1->seaborn==0.12.1) (0.11.0)\n",
            "Requirement already satisfied: kiwisolver>=1.0.1 in /usr/local/lib/python3.7/dist-packages (from matplotlib!=3.6.1,>=3.1->seaborn==0.12.1) (1.4.4)\n",
            "Requirement already satisfied: python-dateutil>=2.1 in /usr/local/lib/python3.7/dist-packages (from matplotlib!=3.6.1,>=3.1->seaborn==0.12.1) (2.8.2)\n",
            "Requirement already satisfied: pyparsing!=2.0.4,!=2.1.2,!=2.1.6,>=2.0.1 in /usr/local/lib/python3.7/dist-packages (from matplotlib!=3.6.1,>=3.1->seaborn==0.12.1) (3.0.9)\n",
            "Requirement already satisfied: pytz>=2017.3 in /usr/local/lib/python3.7/dist-packages (from pandas>=0.25->seaborn==0.12.1) (2022.5)\n",
            "Requirement already satisfied: six>=1.5 in /usr/local/lib/python3.7/dist-packages (from python-dateutil>=2.1->matplotlib!=3.6.1,>=3.1->seaborn==0.12.1) (1.15.0)\n",
            "Installing collected packages: seaborn\n",
            "  Attempting uninstall: seaborn\n",
            "    Found existing installation: seaborn 0.11.2\n",
            "    Uninstalling seaborn-0.11.2:\n",
            "      Successfully uninstalled seaborn-0.11.2\n",
            "Successfully installed seaborn-0.12.1\n",
            "Looking in indexes: https://pypi.org/simple, https://us-python.pkg.dev/colab-wheels/public/simple/\n",
            "Collecting wandb==0.13.4\n",
            "  Downloading wandb-0.13.4-py2.py3-none-any.whl (1.9 MB)\n",
            "\u001b[K     |████████████████████████████████| 1.9 MB 9.2 MB/s \n",
            "\u001b[?25hRequirement already satisfied: setuptools in /usr/local/lib/python3.7/dist-packages (from wandb==0.13.4) (57.4.0)\n",
            "Collecting pathtools\n",
            "  Downloading pathtools-0.1.2.tar.gz (11 kB)\n",
            "Collecting shortuuid>=0.5.0\n",
            "  Downloading shortuuid-1.0.9-py3-none-any.whl (9.4 kB)\n",
            "Requirement already satisfied: promise<3,>=2.0 in /usr/local/lib/python3.7/dist-packages (from wandb==0.13.4) (2.3)\n",
            "Collecting GitPython>=1.0.0\n",
            "  Downloading GitPython-3.1.29-py3-none-any.whl (182 kB)\n",
            "\u001b[K     |████████████████████████████████| 182 kB 73.5 MB/s \n",
            "\u001b[?25hRequirement already satisfied: psutil>=5.0.0 in /usr/local/lib/python3.7/dist-packages (from wandb==0.13.4) (5.4.8)\n",
            "Requirement already satisfied: Click!=8.0.0,>=7.0 in /usr/local/lib/python3.7/dist-packages (from wandb==0.13.4) (7.1.2)\n",
            "Collecting docker-pycreds>=0.4.0\n",
            "  Downloading docker_pycreds-0.4.0-py2.py3-none-any.whl (9.0 kB)\n",
            "Requirement already satisfied: protobuf!=4.0.*,!=4.21.0,<5,>=3.12.0 in /usr/local/lib/python3.7/dist-packages (from wandb==0.13.4) (3.17.3)\n",
            "Collecting sentry-sdk>=1.0.0\n",
            "  Downloading sentry_sdk-1.10.1-py2.py3-none-any.whl (166 kB)\n",
            "\u001b[K     |████████████████████████████████| 166 kB 75.2 MB/s \n",
            "\u001b[?25hCollecting setproctitle\n",
            "  Downloading setproctitle-1.3.2-cp37-cp37m-manylinux_2_5_x86_64.manylinux1_x86_64.manylinux_2_17_x86_64.manylinux2014_x86_64.whl (30 kB)\n",
            "Requirement already satisfied: six>=1.13.0 in /usr/local/lib/python3.7/dist-packages (from wandb==0.13.4) (1.15.0)\n",
            "Requirement already satisfied: requests<3,>=2.0.0 in /usr/local/lib/python3.7/dist-packages (from wandb==0.13.4) (2.23.0)\n",
            "Requirement already satisfied: PyYAML in /usr/local/lib/python3.7/dist-packages (from wandb==0.13.4) (6.0)\n",
            "Requirement already satisfied: typing-extensions>=3.7.4.3 in /usr/local/lib/python3.7/dist-packages (from GitPython>=1.0.0->wandb==0.13.4) (4.1.1)\n",
            "Collecting gitdb<5,>=4.0.1\n",
            "  Downloading gitdb-4.0.9-py3-none-any.whl (63 kB)\n",
            "\u001b[K     |████████████████████████████████| 63 kB 2.2 MB/s \n",
            "\u001b[?25hCollecting smmap<6,>=3.0.1\n",
            "  Downloading smmap-5.0.0-py3-none-any.whl (24 kB)\n",
            "Requirement already satisfied: urllib3!=1.25.0,!=1.25.1,<1.26,>=1.21.1 in /usr/local/lib/python3.7/dist-packages (from requests<3,>=2.0.0->wandb==0.13.4) (1.24.3)\n",
            "Requirement already satisfied: certifi>=2017.4.17 in /usr/local/lib/python3.7/dist-packages (from requests<3,>=2.0.0->wandb==0.13.4) (2022.9.24)\n",
            "Requirement already satisfied: idna<3,>=2.5 in /usr/local/lib/python3.7/dist-packages (from requests<3,>=2.0.0->wandb==0.13.4) (2.10)\n",
            "Requirement already satisfied: chardet<4,>=3.0.2 in /usr/local/lib/python3.7/dist-packages (from requests<3,>=2.0.0->wandb==0.13.4) (3.0.4)\n",
            "Collecting sentry-sdk>=1.0.0\n",
            "\u001b[33m  WARNING: Retrying (Retry(total=4, connect=None, read=None, redirect=None, status=None)) after connection broken by 'ProtocolError('Connection aborted.', ConnectionResetError(104, 'Connection reset by peer'))': /packages/68/0f/6986940f2c56d8eb65f0b1b9a4785d455fcf42a38bceaf22c0c979d13e47/sentry_sdk-1.10.0-py2.py3-none-any.whl\u001b[0m\n",
            "  Downloading sentry_sdk-1.10.0-py2.py3-none-any.whl (166 kB)\n",
            "\u001b[K     |████████████████████████████████| 166 kB 7.5 MB/s \n",
            "\u001b[?25h  Downloading sentry_sdk-1.9.10-py2.py3-none-any.whl (162 kB)\n",
            "\u001b[K     |████████████████████████████████| 162 kB 84.7 MB/s \n",
            "\u001b[?25h  Downloading sentry_sdk-1.9.9-py2.py3-none-any.whl (162 kB)\n",
            "\u001b[K     |████████████████████████████████| 162 kB 87.3 MB/s \n",
            "\u001b[?25h  Downloading sentry_sdk-1.9.8-py2.py3-none-any.whl (158 kB)\n",
            "\u001b[K     |████████████████████████████████| 158 kB 84.7 MB/s \n",
            "\u001b[?25h  Downloading sentry_sdk-1.9.7-py2.py3-none-any.whl (157 kB)\n",
            "\u001b[K     |████████████████████████████████| 157 kB 81.7 MB/s \n",
            "\u001b[?25h  Downloading sentry_sdk-1.9.6-py2.py3-none-any.whl (157 kB)\n",
            "\u001b[K     |████████████████████████████████| 157 kB 83.0 MB/s \n",
            "\u001b[?25h  Downloading sentry_sdk-1.9.5-py2.py3-none-any.whl (157 kB)\n",
            "\u001b[K     |████████████████████████████████| 157 kB 81.8 MB/s \n",
            "\u001b[?25h  Downloading sentry_sdk-1.9.4-py2.py3-none-any.whl (157 kB)\n",
            "\u001b[K     |████████████████████████████████| 157 kB 83.0 MB/s \n",
            "\u001b[?25h  Downloading sentry_sdk-1.9.3-py2.py3-none-any.whl (157 kB)\n",
            "\u001b[K     |████████████████████████████████| 157 kB 77.8 MB/s \n",
            "\u001b[?25h  Downloading sentry_sdk-1.9.2-py2.py3-none-any.whl (157 kB)\n",
            "\u001b[K     |████████████████████████████████| 157 kB 74.5 MB/s \n",
            "\u001b[?25h  Downloading sentry_sdk-1.9.1-py2.py3-none-any.whl (157 kB)\n",
            "\u001b[K     |████████████████████████████████| 157 kB 78.4 MB/s \n",
            "\u001b[?25h  Downloading sentry_sdk-1.9.0-py2.py3-none-any.whl (156 kB)\n",
            "\u001b[K     |████████████████████████████████| 156 kB 76.2 MB/s \n",
            "\u001b[?25hBuilding wheels for collected packages: pathtools\n",
            "  Building wheel for pathtools (setup.py) ... \u001b[?25l\u001b[?25hdone\n",
            "  Created wheel for pathtools: filename=pathtools-0.1.2-py3-none-any.whl size=8806 sha256=1c243fe36b7c1079426539564e5f453c5baa077ead9a9f7984c29fb0fc738699\n",
            "  Stored in directory: /root/.cache/pip/wheels/3e/31/09/fa59cef12cdcfecc627b3d24273699f390e71828921b2cbba2\n",
            "Successfully built pathtools\n",
            "Installing collected packages: smmap, gitdb, shortuuid, setproctitle, sentry-sdk, pathtools, GitPython, docker-pycreds, wandb\n",
            "Successfully installed GitPython-3.1.29 docker-pycreds-0.4.0 gitdb-4.0.9 pathtools-0.1.2 sentry-sdk-1.9.0 setproctitle-1.3.2 shortuuid-1.0.9 smmap-5.0.0 wandb-0.13.4\n"
          ]
        }
      ]
    },
    {
      "cell_type": "code",
      "source": [
        "import os\n",
        "import random\n",
        "\n",
        "from catboost import CatBoostClassifier, MetricVisualizer\n",
        "\n",
        "import gcsfs\n",
        "import google.auth\n",
        "from google.colab import auth, output\n",
        "\n",
        "import numpy as np\n",
        "import pandas as pd\n",
        "import optuna\n",
        "from optuna.integration.wandb import WeightsAndBiasesCallback\n",
        "\n",
        "from sklearn.preprocessing import StandardScaler\n",
        "from sklearn.metrics import accuracy_score\n",
        "\n",
        "import seaborn as sns\n",
        "\n",
        "from tqdm.notebook import tqdm\n",
        "import wandb"
      ],
      "metadata": {
        "id": "7WXF7w4VyVgG"
      },
      "execution_count": null,
      "outputs": []
    },
    {
      "cell_type": "code",
      "execution_count": null,
      "metadata": {
        "id": "tOtLR4B0R-ql",
        "colab": {
          "base_uri": "https://localhost:8080/",
          "height": 156
        },
        "outputId": "70de12eb-1991-44ea-d24d-b7c379f89fe3"
      },
      "outputs": [
        {
          "output_type": "display_data",
          "data": {
            "text/plain": [
              "<IPython.core.display.Javascript object>"
            ],
            "application/javascript": [
              "\n",
              "        window._wandbApiKey = new Promise((resolve, reject) => {\n",
              "            function loadScript(url) {\n",
              "            return new Promise(function(resolve, reject) {\n",
              "                let newScript = document.createElement(\"script\");\n",
              "                newScript.onerror = reject;\n",
              "                newScript.onload = resolve;\n",
              "                document.body.appendChild(newScript);\n",
              "                newScript.src = url;\n",
              "            });\n",
              "            }\n",
              "            loadScript(\"https://cdn.jsdelivr.net/npm/postmate/build/postmate.min.js\").then(() => {\n",
              "            const iframe = document.createElement('iframe')\n",
              "            iframe.style.cssText = \"width:0;height:0;border:none\"\n",
              "            document.body.appendChild(iframe)\n",
              "            const handshake = new Postmate({\n",
              "                container: iframe,\n",
              "                url: 'https://wandb.ai/authorize'\n",
              "            });\n",
              "            const timeout = setTimeout(() => reject(\"Couldn't auto authenticate\"), 5000)\n",
              "            handshake.then(function(child) {\n",
              "                child.on('authorize', data => {\n",
              "                    clearTimeout(timeout)\n",
              "                    resolve(data)\n",
              "                });\n",
              "            });\n",
              "            })\n",
              "        });\n",
              "    "
            ]
          },
          "metadata": {}
        },
        {
          "output_type": "stream",
          "name": "stderr",
          "text": [
            "\u001b[34m\u001b[1mwandb\u001b[0m: Logging into wandb.ai. (Learn how to deploy a W&B server locally: https://wandb.me/wandb-server)\n",
            "\u001b[34m\u001b[1mwandb\u001b[0m: You can find your API key in your browser here: https://wandb.ai/authorize\n",
            "wandb: Paste an API key from your profile and hit enter, or press ctrl+c to quit: "
          ]
        },
        {
          "name": "stdout",
          "output_type": "stream",
          "text": [
            "··········\n"
          ]
        },
        {
          "output_type": "stream",
          "name": "stderr",
          "text": [
            "\u001b[34m\u001b[1mwandb\u001b[0m: Appending key for api.wandb.ai to your netrc file: /root/.netrc\n"
          ]
        },
        {
          "output_type": "display_data",
          "data": {
            "text/plain": [
              "<IPython.core.display.HTML object>"
            ],
            "text/html": [
              "Tracking run with wandb version 0.13.4"
            ]
          },
          "metadata": {}
        },
        {
          "output_type": "display_data",
          "data": {
            "text/plain": [
              "<IPython.core.display.HTML object>"
            ],
            "text/html": [
              "Run data is saved locally in <code>/content/wandb/run-20221101_133508-f9f7fybp</code>"
            ]
          },
          "metadata": {}
        },
        {
          "output_type": "display_data",
          "data": {
            "text/plain": [
              "<IPython.core.display.HTML object>"
            ],
            "text/html": [
              "Syncing run <strong><a href=\"https://wandb.ai/fbv/thesis/runs/f9f7fybp\" target=\"_blank\">fluent-dream-32</a></strong> to <a href=\"https://wandb.ai/fbv/thesis\" target=\"_blank\">Weights & Biases</a> (<a href=\"https://wandb.me/run\" target=\"_blank\">docs</a>)<br/>"
            ]
          },
          "metadata": {}
        }
      ],
      "source": [
        "# connect to weights and biases\n",
        "run = wandb.init(project=\"thesis\", job_type=\"dataset-creation\", entity=\"fbv\")\n",
        "dataset = wandb.Artifact(name='train_val_test', type=\"preprocessed_data\")"
      ]
    },
    {
      "cell_type": "code",
      "source": [
        "# connect to google cloud storage\n",
        "auth.authenticate_user()\n",
        "credentials, _ = google.auth.default()\n",
        "fs = gcsfs.GCSFileSystem(project=\"thesis\", token=credentials)\n",
        "fs_prefix = \"gs://\""
      ],
      "metadata": {
        "id": "A-eGOVujp_TN"
      },
      "execution_count": null,
      "outputs": []
    },
    {
      "cell_type": "code",
      "source": [
        "output.enable_custom_widget_manager()"
      ],
      "metadata": {
        "id": "oUZrGE8U_kDA"
      },
      "execution_count": null,
      "outputs": []
    },
    {
      "cell_type": "code",
      "source": [
        "# set fixed seed\n",
        "def seed_everything(seed): \n",
        "  \"\"\" \n",
        "  Seeds basic parameters for reproducibility of results \n",
        "  \"\"\" \n",
        "  os.environ[\"PYTHONHASHSEED\"] = str(seed) \n",
        "  random.seed(seed)\n",
        "\n",
        "seed = 42\n",
        "seed_everything(seed)"
      ],
      "metadata": {
        "id": "EF0_Mz8DYjGz"
      },
      "execution_count": null,
      "outputs": []
    },
    {
      "cell_type": "code",
      "source": [
        "train = pd.read_parquet(f\"gs://thesis-bucket-option-trade-classification/data/preprocessed/train_set_60.parquet\")\n",
        "val = pd.read_parquet(f\"gs://thesis-bucket-option-trade-classification/data/preprocessed/val_set_20.parquet\")\n",
        "test = pd.read_parquet(f\"gs://thesis-bucket-option-trade-classification/data/preprocessed/test_set_20.parquet\")"
      ],
      "metadata": {
        "id": "WmXtH-PEqyQE"
      },
      "execution_count": null,
      "outputs": []
    },
    {
      "cell_type": "code",
      "source": [
        "train.head(10)"
      ],
      "metadata": {
        "colab": {
          "base_uri": "https://localhost:8080/",
          "height": 392
        },
        "id": "MYosl7qJwYFS",
        "outputId": "abccc946-2e8d-4af4-bbdc-7baa49124567"
      },
      "execution_count": null,
      "outputs": [
        {
          "output_type": "execute_result",
          "data": {
            "text/plain": [
              "  UNDERLYING_SYMBOL      QUOTE_DATETIME  SEQUENCE_NUMBER ROOT EXPIRATION  \\\n",
              "0              BRCD 2005-05-02 09:30:02            72515  YNU 2006-01-21   \n",
              "1              SYMC 2005-05-02 09:30:03            65366  SYQ 2005-06-18   \n",
              "2               SPY 2005-05-02 09:30:03            65373  SWG 2005-05-21   \n",
              "3              ADRX 2005-05-02 09:30:03            79195  QAX 2005-06-18   \n",
              "4              ORCL 2005-05-02 09:30:03            95870  ORQ 2005-12-17   \n",
              "5              YHOO 2005-05-02 09:30:03            73595  YHQ 2005-10-22   \n",
              "6              MATK 2005-05-02 09:30:03            80182  KQT 2005-09-17   \n",
              "7              VTSS 2005-05-02 09:30:04            80469  VQT 2005-10-22   \n",
              "8              ADRX 2005-05-02 09:30:04            80342  QAX 2005-09-17   \n",
              "9              IVGN 2005-05-02 09:30:04            97063  IUV 2005-08-20   \n",
              "\n",
              "   STRK_PRC OPTION_TYPE  TRADE_SIZE  TRADE_PRICE  BEST_BID  ...  bid_ex  \\\n",
              "0       2.5           C          10         2.05      1.90  ...    1.90   \n",
              "1      15.0           C          10         3.90      3.60  ...     NaN   \n",
              "2     105.0           C          50        11.20     11.10  ...   11.10   \n",
              "3      25.0           C          10         0.20      0.00  ...    0.00   \n",
              "4      14.0           C          15         0.25      0.30  ...    0.25   \n",
              "5      35.0           P          26         3.00      2.95  ...    2.90   \n",
              "6      65.0           C           2         0.55      0.30  ...    0.30   \n",
              "7       5.0           P          10         2.75      2.70  ...    2.70   \n",
              "8      25.0           C           1         0.60      0.45  ...    0.45   \n",
              "9      65.0           C          10        11.00      0.00  ...     NaN   \n",
              "\n",
              "   bid_size_ex  ask_size_ex  price_all_lead  price_all_lag    optionid  \\\n",
              "0        131.0         20.0            1.90           1.90  21060388.0   \n",
              "1          NaN          NaN            4.00           4.00  31624184.0   \n",
              "2        300.0        300.0           11.80          11.00  31620976.0   \n",
              "3          0.0         86.0            0.15           0.15  31560072.0   \n",
              "4       3356.0        399.0            0.35           0.35  25240212.0   \n",
              "5       1133.0        256.0            3.10           3.40  24020608.0   \n",
              "6         56.0         10.0            0.45           0.45  23989792.0   \n",
              "7         10.0         52.0            2.90           2.90  24019950.0   \n",
              "8         94.0         25.0            0.55           0.50  23983374.0   \n",
              "9          NaN          NaN           13.80           9.90  23797976.0   \n",
              "\n",
              "   day_vol  price_ex_lead  price_ex_lag  buy_sell  \n",
              "0     10.0           1.90          2.10         1  \n",
              "1     10.0           4.60          4.00         1  \n",
              "2     50.0          11.90         11.00        -1  \n",
              "3     10.0           0.15          0.15         1  \n",
              "4     17.0           0.35          0.35        -1  \n",
              "5     46.0           3.10          3.40        -1  \n",
              "6      2.0           0.65          0.45         1  \n",
              "7     40.0           2.90          2.90        -1  \n",
              "8     11.0           0.65          0.50         1  \n",
              "9     10.0          13.80          9.90         1  \n",
              "\n",
              "[10 rows x 23 columns]"
            ],
            "text/html": [
              "\n",
              "  <div id=\"df-b559ba69-f337-4811-acd1-9ad0d81fc3fd\">\n",
              "    <div class=\"colab-df-container\">\n",
              "      <div>\n",
              "<style scoped>\n",
              "    .dataframe tbody tr th:only-of-type {\n",
              "        vertical-align: middle;\n",
              "    }\n",
              "\n",
              "    .dataframe tbody tr th {\n",
              "        vertical-align: top;\n",
              "    }\n",
              "\n",
              "    .dataframe thead th {\n",
              "        text-align: right;\n",
              "    }\n",
              "</style>\n",
              "<table border=\"1\" class=\"dataframe\">\n",
              "  <thead>\n",
              "    <tr style=\"text-align: right;\">\n",
              "      <th></th>\n",
              "      <th>UNDERLYING_SYMBOL</th>\n",
              "      <th>QUOTE_DATETIME</th>\n",
              "      <th>SEQUENCE_NUMBER</th>\n",
              "      <th>ROOT</th>\n",
              "      <th>EXPIRATION</th>\n",
              "      <th>STRK_PRC</th>\n",
              "      <th>OPTION_TYPE</th>\n",
              "      <th>TRADE_SIZE</th>\n",
              "      <th>TRADE_PRICE</th>\n",
              "      <th>BEST_BID</th>\n",
              "      <th>...</th>\n",
              "      <th>bid_ex</th>\n",
              "      <th>bid_size_ex</th>\n",
              "      <th>ask_size_ex</th>\n",
              "      <th>price_all_lead</th>\n",
              "      <th>price_all_lag</th>\n",
              "      <th>optionid</th>\n",
              "      <th>day_vol</th>\n",
              "      <th>price_ex_lead</th>\n",
              "      <th>price_ex_lag</th>\n",
              "      <th>buy_sell</th>\n",
              "    </tr>\n",
              "  </thead>\n",
              "  <tbody>\n",
              "    <tr>\n",
              "      <th>0</th>\n",
              "      <td>BRCD</td>\n",
              "      <td>2005-05-02 09:30:02</td>\n",
              "      <td>72515</td>\n",
              "      <td>YNU</td>\n",
              "      <td>2006-01-21</td>\n",
              "      <td>2.5</td>\n",
              "      <td>C</td>\n",
              "      <td>10</td>\n",
              "      <td>2.05</td>\n",
              "      <td>1.90</td>\n",
              "      <td>...</td>\n",
              "      <td>1.90</td>\n",
              "      <td>131.0</td>\n",
              "      <td>20.0</td>\n",
              "      <td>1.90</td>\n",
              "      <td>1.90</td>\n",
              "      <td>21060388.0</td>\n",
              "      <td>10.0</td>\n",
              "      <td>1.90</td>\n",
              "      <td>2.10</td>\n",
              "      <td>1</td>\n",
              "    </tr>\n",
              "    <tr>\n",
              "      <th>1</th>\n",
              "      <td>SYMC</td>\n",
              "      <td>2005-05-02 09:30:03</td>\n",
              "      <td>65366</td>\n",
              "      <td>SYQ</td>\n",
              "      <td>2005-06-18</td>\n",
              "      <td>15.0</td>\n",
              "      <td>C</td>\n",
              "      <td>10</td>\n",
              "      <td>3.90</td>\n",
              "      <td>3.60</td>\n",
              "      <td>...</td>\n",
              "      <td>NaN</td>\n",
              "      <td>NaN</td>\n",
              "      <td>NaN</td>\n",
              "      <td>4.00</td>\n",
              "      <td>4.00</td>\n",
              "      <td>31624184.0</td>\n",
              "      <td>10.0</td>\n",
              "      <td>4.60</td>\n",
              "      <td>4.00</td>\n",
              "      <td>1</td>\n",
              "    </tr>\n",
              "    <tr>\n",
              "      <th>2</th>\n",
              "      <td>SPY</td>\n",
              "      <td>2005-05-02 09:30:03</td>\n",
              "      <td>65373</td>\n",
              "      <td>SWG</td>\n",
              "      <td>2005-05-21</td>\n",
              "      <td>105.0</td>\n",
              "      <td>C</td>\n",
              "      <td>50</td>\n",
              "      <td>11.20</td>\n",
              "      <td>11.10</td>\n",
              "      <td>...</td>\n",
              "      <td>11.10</td>\n",
              "      <td>300.0</td>\n",
              "      <td>300.0</td>\n",
              "      <td>11.80</td>\n",
              "      <td>11.00</td>\n",
              "      <td>31620976.0</td>\n",
              "      <td>50.0</td>\n",
              "      <td>11.90</td>\n",
              "      <td>11.00</td>\n",
              "      <td>-1</td>\n",
              "    </tr>\n",
              "    <tr>\n",
              "      <th>3</th>\n",
              "      <td>ADRX</td>\n",
              "      <td>2005-05-02 09:30:03</td>\n",
              "      <td>79195</td>\n",
              "      <td>QAX</td>\n",
              "      <td>2005-06-18</td>\n",
              "      <td>25.0</td>\n",
              "      <td>C</td>\n",
              "      <td>10</td>\n",
              "      <td>0.20</td>\n",
              "      <td>0.00</td>\n",
              "      <td>...</td>\n",
              "      <td>0.00</td>\n",
              "      <td>0.0</td>\n",
              "      <td>86.0</td>\n",
              "      <td>0.15</td>\n",
              "      <td>0.15</td>\n",
              "      <td>31560072.0</td>\n",
              "      <td>10.0</td>\n",
              "      <td>0.15</td>\n",
              "      <td>0.15</td>\n",
              "      <td>1</td>\n",
              "    </tr>\n",
              "    <tr>\n",
              "      <th>4</th>\n",
              "      <td>ORCL</td>\n",
              "      <td>2005-05-02 09:30:03</td>\n",
              "      <td>95870</td>\n",
              "      <td>ORQ</td>\n",
              "      <td>2005-12-17</td>\n",
              "      <td>14.0</td>\n",
              "      <td>C</td>\n",
              "      <td>15</td>\n",
              "      <td>0.25</td>\n",
              "      <td>0.30</td>\n",
              "      <td>...</td>\n",
              "      <td>0.25</td>\n",
              "      <td>3356.0</td>\n",
              "      <td>399.0</td>\n",
              "      <td>0.35</td>\n",
              "      <td>0.35</td>\n",
              "      <td>25240212.0</td>\n",
              "      <td>17.0</td>\n",
              "      <td>0.35</td>\n",
              "      <td>0.35</td>\n",
              "      <td>-1</td>\n",
              "    </tr>\n",
              "    <tr>\n",
              "      <th>5</th>\n",
              "      <td>YHOO</td>\n",
              "      <td>2005-05-02 09:30:03</td>\n",
              "      <td>73595</td>\n",
              "      <td>YHQ</td>\n",
              "      <td>2005-10-22</td>\n",
              "      <td>35.0</td>\n",
              "      <td>P</td>\n",
              "      <td>26</td>\n",
              "      <td>3.00</td>\n",
              "      <td>2.95</td>\n",
              "      <td>...</td>\n",
              "      <td>2.90</td>\n",
              "      <td>1133.0</td>\n",
              "      <td>256.0</td>\n",
              "      <td>3.10</td>\n",
              "      <td>3.40</td>\n",
              "      <td>24020608.0</td>\n",
              "      <td>46.0</td>\n",
              "      <td>3.10</td>\n",
              "      <td>3.40</td>\n",
              "      <td>-1</td>\n",
              "    </tr>\n",
              "    <tr>\n",
              "      <th>6</th>\n",
              "      <td>MATK</td>\n",
              "      <td>2005-05-02 09:30:03</td>\n",
              "      <td>80182</td>\n",
              "      <td>KQT</td>\n",
              "      <td>2005-09-17</td>\n",
              "      <td>65.0</td>\n",
              "      <td>C</td>\n",
              "      <td>2</td>\n",
              "      <td>0.55</td>\n",
              "      <td>0.30</td>\n",
              "      <td>...</td>\n",
              "      <td>0.30</td>\n",
              "      <td>56.0</td>\n",
              "      <td>10.0</td>\n",
              "      <td>0.45</td>\n",
              "      <td>0.45</td>\n",
              "      <td>23989792.0</td>\n",
              "      <td>2.0</td>\n",
              "      <td>0.65</td>\n",
              "      <td>0.45</td>\n",
              "      <td>1</td>\n",
              "    </tr>\n",
              "    <tr>\n",
              "      <th>7</th>\n",
              "      <td>VTSS</td>\n",
              "      <td>2005-05-02 09:30:04</td>\n",
              "      <td>80469</td>\n",
              "      <td>VQT</td>\n",
              "      <td>2005-10-22</td>\n",
              "      <td>5.0</td>\n",
              "      <td>P</td>\n",
              "      <td>10</td>\n",
              "      <td>2.75</td>\n",
              "      <td>2.70</td>\n",
              "      <td>...</td>\n",
              "      <td>2.70</td>\n",
              "      <td>10.0</td>\n",
              "      <td>52.0</td>\n",
              "      <td>2.90</td>\n",
              "      <td>2.90</td>\n",
              "      <td>24019950.0</td>\n",
              "      <td>40.0</td>\n",
              "      <td>2.90</td>\n",
              "      <td>2.90</td>\n",
              "      <td>-1</td>\n",
              "    </tr>\n",
              "    <tr>\n",
              "      <th>8</th>\n",
              "      <td>ADRX</td>\n",
              "      <td>2005-05-02 09:30:04</td>\n",
              "      <td>80342</td>\n",
              "      <td>QAX</td>\n",
              "      <td>2005-09-17</td>\n",
              "      <td>25.0</td>\n",
              "      <td>C</td>\n",
              "      <td>1</td>\n",
              "      <td>0.60</td>\n",
              "      <td>0.45</td>\n",
              "      <td>...</td>\n",
              "      <td>0.45</td>\n",
              "      <td>94.0</td>\n",
              "      <td>25.0</td>\n",
              "      <td>0.55</td>\n",
              "      <td>0.50</td>\n",
              "      <td>23983374.0</td>\n",
              "      <td>11.0</td>\n",
              "      <td>0.65</td>\n",
              "      <td>0.50</td>\n",
              "      <td>1</td>\n",
              "    </tr>\n",
              "    <tr>\n",
              "      <th>9</th>\n",
              "      <td>IVGN</td>\n",
              "      <td>2005-05-02 09:30:04</td>\n",
              "      <td>97063</td>\n",
              "      <td>IUV</td>\n",
              "      <td>2005-08-20</td>\n",
              "      <td>65.0</td>\n",
              "      <td>C</td>\n",
              "      <td>10</td>\n",
              "      <td>11.00</td>\n",
              "      <td>0.00</td>\n",
              "      <td>...</td>\n",
              "      <td>NaN</td>\n",
              "      <td>NaN</td>\n",
              "      <td>NaN</td>\n",
              "      <td>13.80</td>\n",
              "      <td>9.90</td>\n",
              "      <td>23797976.0</td>\n",
              "      <td>10.0</td>\n",
              "      <td>13.80</td>\n",
              "      <td>9.90</td>\n",
              "      <td>1</td>\n",
              "    </tr>\n",
              "  </tbody>\n",
              "</table>\n",
              "<p>10 rows × 23 columns</p>\n",
              "</div>\n",
              "      <button class=\"colab-df-convert\" onclick=\"convertToInteractive('df-b559ba69-f337-4811-acd1-9ad0d81fc3fd')\"\n",
              "              title=\"Convert this dataframe to an interactive table.\"\n",
              "              style=\"display:none;\">\n",
              "        \n",
              "  <svg xmlns=\"http://www.w3.org/2000/svg\" height=\"24px\"viewBox=\"0 0 24 24\"\n",
              "       width=\"24px\">\n",
              "    <path d=\"M0 0h24v24H0V0z\" fill=\"none\"/>\n",
              "    <path d=\"M18.56 5.44l.94 2.06.94-2.06 2.06-.94-2.06-.94-.94-2.06-.94 2.06-2.06.94zm-11 1L8.5 8.5l.94-2.06 2.06-.94-2.06-.94L8.5 2.5l-.94 2.06-2.06.94zm10 10l.94 2.06.94-2.06 2.06-.94-2.06-.94-.94-2.06-.94 2.06-2.06.94z\"/><path d=\"M17.41 7.96l-1.37-1.37c-.4-.4-.92-.59-1.43-.59-.52 0-1.04.2-1.43.59L10.3 9.45l-7.72 7.72c-.78.78-.78 2.05 0 2.83L4 21.41c.39.39.9.59 1.41.59.51 0 1.02-.2 1.41-.59l7.78-7.78 2.81-2.81c.8-.78.8-2.07 0-2.86zM5.41 20L4 18.59l7.72-7.72 1.47 1.35L5.41 20z\"/>\n",
              "  </svg>\n",
              "      </button>\n",
              "      \n",
              "  <style>\n",
              "    .colab-df-container {\n",
              "      display:flex;\n",
              "      flex-wrap:wrap;\n",
              "      gap: 12px;\n",
              "    }\n",
              "\n",
              "    .colab-df-convert {\n",
              "      background-color: #E8F0FE;\n",
              "      border: none;\n",
              "      border-radius: 50%;\n",
              "      cursor: pointer;\n",
              "      display: none;\n",
              "      fill: #1967D2;\n",
              "      height: 32px;\n",
              "      padding: 0 0 0 0;\n",
              "      width: 32px;\n",
              "    }\n",
              "\n",
              "    .colab-df-convert:hover {\n",
              "      background-color: #E2EBFA;\n",
              "      box-shadow: 0px 1px 2px rgba(60, 64, 67, 0.3), 0px 1px 3px 1px rgba(60, 64, 67, 0.15);\n",
              "      fill: #174EA6;\n",
              "    }\n",
              "\n",
              "    [theme=dark] .colab-df-convert {\n",
              "      background-color: #3B4455;\n",
              "      fill: #D2E3FC;\n",
              "    }\n",
              "\n",
              "    [theme=dark] .colab-df-convert:hover {\n",
              "      background-color: #434B5C;\n",
              "      box-shadow: 0px 1px 3px 1px rgba(0, 0, 0, 0.15);\n",
              "      filter: drop-shadow(0px 1px 2px rgba(0, 0, 0, 0.3));\n",
              "      fill: #FFFFFF;\n",
              "    }\n",
              "  </style>\n",
              "\n",
              "      <script>\n",
              "        const buttonEl =\n",
              "          document.querySelector('#df-b559ba69-f337-4811-acd1-9ad0d81fc3fd button.colab-df-convert');\n",
              "        buttonEl.style.display =\n",
              "          google.colab.kernel.accessAllowed ? 'block' : 'none';\n",
              "\n",
              "        async function convertToInteractive(key) {\n",
              "          const element = document.querySelector('#df-b559ba69-f337-4811-acd1-9ad0d81fc3fd');\n",
              "          const dataTable =\n",
              "            await google.colab.kernel.invokeFunction('convertToInteractive',\n",
              "                                                     [key], {});\n",
              "          if (!dataTable) return;\n",
              "\n",
              "          const docLinkHtml = 'Like what you see? Visit the ' +\n",
              "            '<a target=\"_blank\" href=https://colab.research.google.com/notebooks/data_table.ipynb>data table notebook</a>'\n",
              "            + ' to learn more about interactive tables.';\n",
              "          element.innerHTML = '';\n",
              "          dataTable['output_type'] = 'display_data';\n",
              "          await google.colab.output.renderOutput(dataTable, element);\n",
              "          const docLink = document.createElement('div');\n",
              "          docLink.innerHTML = docLinkHtml;\n",
              "          element.appendChild(docLink);\n",
              "        }\n",
              "      </script>\n",
              "    </div>\n",
              "  </div>\n",
              "  "
            ]
          },
          "metadata": {},
          "execution_count": 8
        }
      ]
    },
    {
      "cell_type": "code",
      "source": [
        "# randomly sample frac of rows\n",
        "frac = 0.02\n",
        "\n",
        "train = train.sample(frac=frac, random_state=seed)\n",
        "val = val.sample(frac=frac, random_state=seed)\n",
        "test = test.sample(frac=frac, random_state=seed)\n",
        "\n",
        "# unify for common preprocessing\n",
        "X = pd.concat([train, val, test])"
      ],
      "metadata": {
        "id": "N2ZHX3MpqzKD"
      },
      "execution_count": null,
      "outputs": []
    },
    {
      "cell_type": "code",
      "source": [
        "# calculate days to maturity\n",
        "X['time_to_maturity'] = (X['EXPIRATION'] - X['QUOTE_DATETIME']).dt.days"
      ],
      "metadata": {
        "id": "G4RRb08pyo6p"
      },
      "execution_count": null,
      "outputs": []
    },
    {
      "cell_type": "code",
      "source": [
        "# apply positional encoding to dates\n",
        "X[\"date_month_sin\"] = np.sin(2 * np.pi * X['QUOTE_DATETIME'].dt.year / 12)\n",
        "X[\"date_month_cos\"] = np.cos(2 * np.pi * X['QUOTE_DATETIME'].dt.year / 12)\n",
        "\n",
        "# add year\n",
        "X[\"date_year\"] = (X['QUOTE_DATETIME'].dt.year - 2005) / (2017-2005) \n",
        "# # scaling to range starting at zero up to one\n",
        "# data[\"yy\"] = data.apply(\n",
        "#     lambda x: (x.astype(float) - min(x)) / (max(x) - min(x)), axis=0\n",
        "# )[\"yy\"]\n",
        "\n",
        "date_columns = [\"date_month_sin\", \"date_month_cos\", \"date_year\"]"
      ],
      "metadata": {
        "id": "BJDU5Wy02WWT"
      },
      "execution_count": null,
      "outputs": []
    },
    {
      "cell_type": "code",
      "source": [
        "X.dtypes"
      ],
      "metadata": {
        "colab": {
          "base_uri": "https://localhost:8080/"
        },
        "id": "Dj79d4i90rhm",
        "outputId": "1ac8c279-fee5-4256-df9b-bf1707e13c64"
      },
      "execution_count": null,
      "outputs": [
        {
          "output_type": "execute_result",
          "data": {
            "text/plain": [
              "UNDERLYING_SYMBOL            object\n",
              "QUOTE_DATETIME       datetime64[ns]\n",
              "SEQUENCE_NUMBER               int64\n",
              "ROOT                         object\n",
              "EXPIRATION           datetime64[ns]\n",
              "STRK_PRC                    float32\n",
              "OPTION_TYPE                category\n",
              "TRADE_SIZE                    int64\n",
              "TRADE_PRICE                 float32\n",
              "BEST_BID                    float32\n",
              "BEST_ASK                    float32\n",
              "order_id                      int64\n",
              "ask_ex                      float32\n",
              "bid_ex                      float32\n",
              "bid_size_ex                 float32\n",
              "ask_size_ex                 float32\n",
              "price_all_lead              float32\n",
              "price_all_lag               float32\n",
              "optionid                    float32\n",
              "day_vol                     float32\n",
              "price_ex_lead               float32\n",
              "price_ex_lag                float32\n",
              "buy_sell                       int8\n",
              "time_to_maturity              int64\n",
              "date_month_sin              float64\n",
              "date_month_cos              float64\n",
              "date_year                   float64\n",
              "dtype: object"
            ]
          },
          "metadata": {},
          "execution_count": 12
        }
      ]
    },
    {
      "cell_type": "code",
      "source": [
        "# remove problematic features -> see notebook on aversarial validation\n",
        "X = X.drop([\"SEQUENCE_NUMBER\", \"order_id\", \"optionid\", \"EXPIRATION\", \"QUOTE_DATETIME\", \"ROOT\"], axis=1)"
      ],
      "metadata": {
        "id": "UlTiomjqw_QD"
      },
      "execution_count": null,
      "outputs": []
    },
    {
      "cell_type": "code",
      "source": [
        "# isolate target\n",
        "y = X[[\"buy_sell\"]]\n",
        "X = X.drop([\"buy_sell\"], axis=1)"
      ],
      "metadata": {
        "id": "x2kABLCA2CEb"
      },
      "execution_count": null,
      "outputs": []
    },
    {
      "cell_type": "code",
      "source": [
        "corr = X.corr()\n",
        "sns.heatmap(corr, \n",
        "            xticklabels=corr.columns.values,\n",
        "            yticklabels=corr.columns.values)"
      ],
      "metadata": {
        "colab": {
          "base_uri": "https://localhost:8080/",
          "height": 361
        },
        "id": "CUN8LxqeyX8n",
        "outputId": "4aa6f511-8b9a-4738-e6dc-6a5ed23c7c28"
      },
      "execution_count": null,
      "outputs": [
        {
          "output_type": "execute_result",
          "data": {
            "text/plain": [
              "<matplotlib.axes._subplots.AxesSubplot at 0x7fb406bd5810>"
            ]
          },
          "metadata": {},
          "execution_count": 15
        },
        {
          "output_type": "display_data",
          "data": {
            "text/plain": [
              "<Figure size 432x288 with 2 Axes>"
            ],
            "image/png": "[encoded data removed]"
          },
          "metadata": {
            "needs_background": "light"
          }
        }
      ]
    },
    {
      "cell_type": "code",
      "source": [
        "# Midspread\n",
        "mid = 0.5 * (X['ask_ex'] + X['bid_ex'])\n",
        "X['mid_ex'] = mid"
      ],
      "metadata": {
        "id": "QbIFNIc_3i_6"
      },
      "execution_count": null,
      "outputs": []
    },
    {
      "cell_type": "code",
      "source": [
        "# Absolute distance from mid\n",
        "X['abs_mid_ex'] = X['TRADE_PRICE'] - mid"
      ],
      "metadata": {
        "id": "546ZQQnm2lYx"
      },
      "execution_count": null,
      "outputs": []
    },
    {
      "cell_type": "code",
      "source": [
        "# Degree how much Trade size is filled\n",
        "X['rel_bid_size_ex'] = X['TRADE_SIZE'] / X['bid_size_ex']\n",
        "X['rel_ask_size_ex'] = X['TRADE_SIZE'] / X['ask_size_ex']"
      ],
      "metadata": {
        "id": "wx1Thx0Y3sU-"
      },
      "execution_count": null,
      "outputs": []
    },
    {
      "cell_type": "code",
      "source": [
        "# Calculate sign change from trade\n",
        "tt = np.where(X['TRADE_PRICE'] > X['price_ex_lead'], 1.0, -1.0)\n",
        "X['sgn_chg_ex_lead'] = tt"
      ],
      "metadata": {
        "id": "N6Dj2dd33Vwy"
      },
      "execution_count": null,
      "outputs": []
    },
    {
      "cell_type": "code",
      "source": [
        "# select categorical e. g., option type and strings e. g., ticker\n",
        "cat_columns = X.select_dtypes(include=['category', 'object']).columns.tolist()\n",
        "print(cat_columns)\n",
        "\n",
        "# binarize categorical similar to Borisov et al.\n",
        "X[cat_columns] = X[cat_columns].apply(lambda x : pd.factorize(x)[0])"
      ],
      "metadata": {
        "colab": {
          "base_uri": "https://localhost:8080/"
        },
        "id": "6KmaiY0m5i8X",
        "outputId": "19556906-181d-4946-8b1a-9e69c6af363c"
      },
      "execution_count": null,
      "outputs": [
        {
          "output_type": "stream",
          "name": "stdout",
          "text": [
            "['UNDERLYING_SYMBOL', 'OPTION_TYPE']\n"
          ]
        }
      ]
    },
    {
      "cell_type": "code",
      "source": [
        "# treat inf as nan\n",
        "X.replace([np.inf, -np.inf], np.nan, inplace=True)"
      ],
      "metadata": {
        "id": "ngZUqSLW_M_8"
      },
      "execution_count": null,
      "outputs": []
    },
    {
      "cell_type": "code",
      "source": [
        "# Fill NaN with 0\n",
        "# Do not fill, let CatBoost Handle NaNs\n",
        "# X = X.fillna(0)"
      ],
      "metadata": {
        "id": "W2HBaXLP5L4I"
      },
      "execution_count": null,
      "outputs": []
    },
    {
      "cell_type": "code",
      "source": [
        "# separate again for training scaling\n",
        "X_train = X.loc[train.index, :]\n",
        "X_val = X.loc[val.index, :]\n",
        "X_test = X.loc[test.index, :]\n",
        "\n",
        "y_train = y.loc[train.index, :]\n",
        "y_val = y.loc[val.index, :]\n",
        "y_test = y.loc[test.index, :]\n"
      ],
      "metadata": {
        "id": "BIXLmMcZ5-aC"
      },
      "execution_count": null,
      "outputs": []
    },
    {
      "cell_type": "code",
      "source": [
        "# Standardize numerical values\n",
        "num_columns = X_train.select_dtypes(include=[np.number]).columns.tolist()\n",
        "num_columns = [x for x in num_columns if x not in cat_columns]\n",
        "num_columns = [x for x in num_columns if x not in date_columns]\n",
        "scaler = StandardScaler()\n",
        "\n",
        "X_train[num_columns] = scaler.fit_transform(X_train[num_columns])\n",
        "X_val[num_columns] = scaler.transform(X_val[num_columns])\n",
        "X_test[num_columns] = scaler.transform(X_test[num_columns])"
      ],
      "metadata": {
        "id": "tV5a5st_2vrt"
      },
      "execution_count": null,
      "outputs": []
    },
    {
      "cell_type": "code",
      "source": [
        "# Train gradient boosting model\n",
        "model = CatBoostClassifier(max_depth=8, task_type=\"GPU\", random_state=seed, \n",
        "                           logging_level= \"Silent\", cat_features=cat_columns, \n",
        "                           od_type= \"Iter\", grow_policy=\"Depthwise\")\n",
        "model.fit(X_train, y_train, eval_set=(X_val,y_val), plot=True)"
      ],
      "metadata": {
        "id": "lwai2OOo25gr",
        "colab": {
          "base_uri": "https://localhost:8080/",
          "height": 34,
          "referenced_widgets": [
            "aa5a1d3224e14026be974ff20fdecd6b"
          ]
        },
        "outputId": "ce1725de-5791-4fd6-8884-eca9e173eb73"
      },
      "execution_count": null,
      "outputs": [
        {
          "output_type": "display_data",
          "data": {
            "text/plain": [
              "MetricVisualizer(layout=Layout(align_self='stretch', height='500px'))"
            ],
            "application/vnd.jupyter.widget-view+json": {
              "version_major": 2,
              "version_minor": 0,
              "model_id": "aa5a1d3224e14026be974ff20fdecd6b"
            }
          },
          "metadata": {}
        },
        {
          "output_type": "execute_result",
          "data": {
            "text/plain": [
              "<catboost.core.CatBoostClassifier at 0x7fb3f665ddd0>"
            ]
          },
          "metadata": {},
          "execution_count": 25
        }
      ]
    },
    {
      "cell_type": "code",
      "source": [
        "acc_train = model.score(X_train, y_train)\n",
        "acc_val = model.score(X_val, y_val)\n",
        "acc_test = model.score(X_test, y_test)\n",
        "\n",
        "print(f\"Accuracy (train): {acc_train}, (val) {acc_val}, and (test) {acc_test}\")"
      ],
      "metadata": {
        "colab": {
          "base_uri": "https://localhost:8080/"
        },
        "id": "hLeiGiqY7wo-",
        "outputId": "6b39232f-9432-49b4-c687-da608c3762ad"
      },
      "execution_count": null,
      "outputs": [
        {
          "output_type": "stream",
          "name": "stdout",
          "text": [
            "Accuracy (train): 0.8526847557058006, (val) 0.7085863079088567, and (test) 0.6748511596929334\n"
          ]
        }
      ]
    },
    {
      "cell_type": "code",
      "source": [
        "# Obtain feature importances\n",
        "ranks = sorted(list(zip(X.columns, model.feature_importances_)), \n",
        "               key=lambda x: x[1], reverse=True) \n",
        "for feature, score in ranks: \n",
        "  print(f\"{feature:10} : {score:0.4f}\")"
      ],
      "metadata": {
        "colab": {
          "base_uri": "https://localhost:8080/"
        },
        "id": "Sju4nygr82ap",
        "outputId": "e6a31b15-bccd-4b1a-8d77-cb2b04d7b8ca"
      },
      "execution_count": null,
      "outputs": [
        {
          "output_type": "stream",
          "name": "stdout",
          "text": [
            "ask_size_ex : 34.1995\n",
            "bid_size_ex : 27.5062\n",
            "abs_mid_ex : 19.4767\n",
            "rel_bid_size_ex : 5.2702\n",
            "day_vol    : 4.3461\n",
            "rel_ask_size_ex : 2.9701\n",
            "TRADE_SIZE : 2.1874\n",
            "ask_ex     : 0.8219\n",
            "BEST_BID   : 0.5341\n",
            "date_month_sin : 0.4454\n",
            "date_year  : 0.3927\n",
            "time_to_maturity : 0.3715\n",
            "BEST_ASK   : 0.3002\n",
            "STRK_PRC   : 0.2630\n",
            "UNDERLYING_SYMBOL : 0.2347\n",
            "bid_ex     : 0.2084\n",
            "date_month_cos : 0.1063\n",
            "price_all_lead : 0.1046\n",
            "mid_ex     : 0.0958\n",
            "TRADE_PRICE : 0.0708\n",
            "price_ex_lead : 0.0491\n",
            "sgn_chg_ex_lead : 0.0185\n",
            "price_all_lag : 0.0152\n",
            "OPTION_TYPE : 0.0082\n",
            "price_ex_lag : 0.0031\n"
          ]
        }
      ]
    },
    {
      "cell_type": "markdown",
      "source": [
        "## CatBoost Baseline 🐈‍⬛"
      ],
      "metadata": {
        "id": "zMIOV1jA_ImH"
      }
    },
    {
      "cell_type": "markdown",
      "source": [
        "### Hyperparameter Search Baseline🗃️"
      ],
      "metadata": {
        "id": "MmbM8by1WO5J"
      }
    },
    {
      "cell_type": "code",
      "source": [
        "def objective(trial:optuna.Trial):\n",
        "    # See docs for recommendations on tuning hyperparameters\n",
        "    #  https://catboost.ai/en/docs/concepts/parameter-tuning\n",
        "    iterations = trial.suggest_int(\"iterations\", 10, 1000, log=False)\n",
        "    learning_rate = trial.suggest_float(\"learning_rate\", 0.005, 1, log=True)\n",
        "    # random_strength = trial.suggest_float(\"random_strength\", 1e-9, 10, log=True)\n",
        "    depth = trial.suggest_int(\"depth\", 1, 8, log=False)\n",
        "    loss_function = trial.suggest_categorical(\"loss_function\", [\"Logloss\"])\n",
        "    grow_policy = trial.suggest_categorical(\"grow_policy\", [\"SymmetricTree\", \"Depthwise\"])\n",
        "    params = {\n",
        "          \"iterations\": iterations,\n",
        "          \"depth\": depth,\n",
        "          \"grow_policy\": grow_policy,\n",
        "          \"learning_rate\": learning_rate,\n",
        "          # \"random_strength\": random_strength,\n",
        "          \"loss_function\": loss_function,\n",
        "          \"od_type\": \"Iter\",\n",
        "          \"logging_level\": \"Silent\",\n",
        "          \"task_type\": \"GPU\"}  \n",
        "\n",
        "    model = CatBoostClassifier(**params)\n",
        "\n",
        "    model.fit(\n",
        "          X_train,\n",
        "          y_train,\n",
        "        )\n",
        "\n",
        "    y_pred = model.predict(X_val, prediction_type='Class')\n",
        "    return accuracy_score(y_val, y_pred)\n"
      ],
      "metadata": {
        "id": "Z4hMoRaVQa64"
      },
      "execution_count": null,
      "outputs": []
    },
    {
      "cell_type": "code",
      "source": [
        "wandb_kwargs = {\"project\": \"thesis\"}\n",
        "wandbc = WeightsAndBiasesCallback(wandb_kwargs=wandb_kwargs)"
      ],
      "metadata": {
        "colab": {
          "base_uri": "https://localhost:8080/",
          "height": 272,
          "referenced_widgets": [
            "9d8d45e266be4958a21d1a2c39c3971b",
            "6ac4f1d960d3487f8b7e4eafdc4e80b8",
            "8862044d679542689d925644e94e82c8",
            "e0c2eed9570144bf8c1fe18ad466c267",
            "5f67c12459554230bda9fb2fd41a56f4",
            "076ae5398fe144e69e51d3ca26c526be",
            "b61b4627e54b4a1fabe0d752bd9075dd",
            "90f26168628347b8abff8fc8ecc5abf3",
            "e4d818315f3744a897edc9579fe5de0d",
            "ce77ed890fce490db9acee909e8a3d0a",
            "abe03a518fea434696c894d525fd06fd",
            "d894fc59e38c4fb0ba625130cbc6ae9e",
            "16f2c47218c542e1a36429cc04612e32",
            "59e75f57f92749a986f81f245dd5b6cf",
            "f46b5fab2dad424c8838e6fad4cda33b"
          ]
        },
        "id": "wfchJ_dGYfHe",
        "outputId": "0be3c610-b431-49a7-8f83-5f1e7993b9bf"
      },
      "execution_count": null,
      "outputs": [
        {
          "output_type": "stream",
          "name": "stderr",
          "text": [
            "/usr/local/lib/python3.7/dist-packages/ipykernel_launcher.py:2: ExperimentalWarning: WeightsAndBiasesCallback is experimental (supported from v2.9.0). The interface can change in the future.\n",
            "  \n"
          ]
        },
        {
          "output_type": "display_data",
          "data": {
            "text/plain": [
              "<IPython.core.display.HTML object>"
            ],
            "text/html": [
              "Finishing last run (ID:23hpqdfs) before initializing another..."
            ]
          },
          "metadata": {}
        },
        {
          "output_type": "display_data",
          "data": {
            "text/plain": [
              "<IPython.core.display.HTML object>"
            ],
            "text/html": [
              "Waiting for W&B process to finish... <strong style=\"color:green\">(success).</strong>"
            ]
          },
          "metadata": {}
        },
        {
          "output_type": "display_data",
          "data": {
            "text/plain": [
              "VBox(children=(Label(value='0.001 MB of 0.001 MB uploaded (0.000 MB deduped)\\r'), FloatProgress(value=1.0, max…"
            ],
            "application/vnd.jupyter.widget-view+json": {
              "version_major": 2,
              "version_minor": 0,
              "model_id": "9d8d45e266be4958a21d1a2c39c3971b"
            }
          },
          "metadata": {
            "application/vnd.jupyter.widget-view+json": {
              "colab": {
                "custom_widget_manager": {
                  "url": "https://ssl.gstatic.com/colaboratory-static/widgets/colab-cdn-widget-manager/d2e234f7cc04bf79/manager.min.js"
                }
              }
            }
          }
        },
        {
          "output_type": "display_data",
          "data": {
            "text/plain": [
              "<IPython.core.display.HTML object>"
            ],
            "text/html": [
              "Synced <strong style=\"color:#cdcd00\">sleek-darkness-33</strong>: <a href=\"https://wandb.ai/fbv/thesis/runs/23hpqdfs\" target=\"_blank\">https://wandb.ai/fbv/thesis/runs/23hpqdfs</a><br/>Synced 5 W&B file(s), 0 media file(s), 0 artifact file(s) and 0 other file(s)"
            ]
          },
          "metadata": {}
        },
        {
          "output_type": "display_data",
          "data": {
            "text/plain": [
              "<IPython.core.display.HTML object>"
            ],
            "text/html": [
              "Find logs at: <code>./wandb/run-20221101_133952-23hpqdfs/logs</code>"
            ]
          },
          "metadata": {}
        },
        {
          "output_type": "display_data",
          "data": {
            "text/plain": [
              "<IPython.core.display.HTML object>"
            ],
            "text/html": [
              "Successfully finished last run (ID:23hpqdfs). Initializing new run:<br/>"
            ]
          },
          "metadata": {}
        },
        {
          "output_type": "display_data",
          "data": {
            "text/plain": [
              "<IPython.core.display.HTML object>"
            ],
            "text/html": [
              "Tracking run with wandb version 0.13.4"
            ]
          },
          "metadata": {}
        },
        {
          "output_type": "display_data",
          "data": {
            "text/plain": [
              "<IPython.core.display.HTML object>"
            ],
            "text/html": [
              "Run data is saved locally in <code>/content/wandb/run-20221101_134953-3ttcnpi4</code>"
            ]
          },
          "metadata": {}
        },
        {
          "output_type": "display_data",
          "data": {
            "text/plain": [
              "<IPython.core.display.HTML object>"
            ],
            "text/html": [
              "Syncing run <strong><a href=\"https://wandb.ai/fbv/thesis/runs/3ttcnpi4\" target=\"_blank\">clear-breeze-34</a></strong> to <a href=\"https://wandb.ai/fbv/thesis\" target=\"_blank\">Weights & Biases</a> (<a href=\"https://wandb.me/run\" target=\"_blank\">docs</a>)<br/>"
            ]
          },
          "metadata": {}
        }
      ]
    },
    {
      "cell_type": "code",
      "source": [
        "# Implement hyperparameter search\n",
        "study = optuna.create_study(direction=\"maximize\", sampler=optuna.samplers.TPESampler(seed=seed), study_name=\"baseline_gbm\")\n",
        "study.optimize(objective, n_trials=2, callbacks=[wandbc])"
      ],
      "metadata": {
        "id": "UgdvLxBI3Cs3",
        "colab": {
          "base_uri": "https://localhost:8080/"
        },
        "outputId": "1e2eadcf-700c-4548-d247-531f0ee88396"
      },
      "execution_count": null,
      "outputs": [
        {
          "output_type": "stream",
          "name": "stderr",
          "text": [
            "\u001b[32m[I 2022-11-01 14:43:40,644]\u001b[0m A new study created in memory with name: baseline_gbm\u001b[0m\n",
            "\u001b[32m[I 2022-11-01 14:44:19,517]\u001b[0m Trial 0 finished with value: 0.7360473628007584 and parameters: {'iterations': 381, 'lr': 0.7701798297509621, 'depth': 6, 'loss': 'Logloss', 'grow_policy': 'SymmetricTree'}. Best is trial 0 with value: 0.7360473628007584.\u001b[0m\n",
            "\u001b[32m[I 2022-11-01 14:44:48,113]\u001b[0m Trial 1 finished with value: 0.7070839458409205 and parameters: {'iterations': 164, 'lr': 0.006801773068059042, 'depth': 7, 'loss': 'Logloss', 'grow_policy': 'Depthwise'}. Best is trial 0 with value: 0.7360473628007584.\u001b[0m\n"
          ]
        }
      ]
    },
    {
      "cell_type": "code",
      "source": [
        "ax_history = optuna.visualization.matplotlib.plot_optimization_history(study)\n",
        "ax_param_importance = optuna.visualization.matplotlib.plot_param_importances(study)\n",
        "fig_contour = optuna.visualization.matplotlib.plot_contour(\n",
        "    study, [\"iterations\", \"depth\", \"grow_policy\", \"learning_rate\"]\n",
        ")"
      ],
      "metadata": {
        "id": "ujM_aozLILeQ"
      },
      "execution_count": null,
      "outputs": []
    },
    {
      "cell_type": "code",
      "source": [
        "print(f\"Number of finished trials: {len(study.trials)}\")\n",
        "\n",
        "trial = study.best_trial\n",
        "\n",
        "print(f\"Best trial: {trial}\")\n",
        "\n",
        "print(f\"Value: {trial.value}\")\n",
        "\n",
        "print(\"Params:\")\n",
        "for key, value in trial.params.items():\n",
        "    print(f\"{key}: {value}\")"
      ],
      "metadata": {
        "colab": {
          "base_uri": "https://localhost:8080/"
        },
        "id": "tVfXVspgQia0",
        "outputId": "f1db08e0-8767-4e50-ca01-6dba5274ff26"
      },
      "execution_count": null,
      "outputs": [
        {
          "output_type": "stream",
          "name": "stdout",
          "text": [
            "Number of finished trials: 50\n",
            "Best trial: FrozenTrial(number=44, values=[0.7470570902671329], datetime_start=datetime.datetime(2022, 11, 1, 14, 23, 46, 726304), datetime_complete=datetime.datetime(2022, 11, 1, 14, 25, 16, 546737), params={'iterations': 610, 'lr': 0.3845969764559549, 'depth': 8, 'loss': 'Logloss', 'grow_policy': 'Depthwise'}, distributions={'iterations': IntDistribution(high=1000, log=False, low=10, step=1), 'lr': FloatDistribution(high=1.0, log=True, low=0.005, step=None), 'depth': IntDistribution(high=8, log=False, low=1, step=1), 'loss': CategoricalDistribution(choices=('Logloss',)), 'grow_policy': CategoricalDistribution(choices=('SymmetricTree', 'Depthwise'))}, user_attrs={}, system_attrs={}, intermediate_values={}, trial_id=44, state=TrialState.COMPLETE, value=None)\n",
            "Value: 0.7470570902671329\n",
            "Params:\n",
            "iterations: 610\n",
            "lr: 0.3845969764559549\n",
            "depth: 8\n",
            "loss: Logloss\n",
            "grow_policy: Depthwise\n"
          ]
        }
      ]
    },
    {
      "cell_type": "code",
      "source": [
        "static_params = {\"od_type\": \"Iter\",\n",
        "          \"logging_level\": \"Silent\",\n",
        "          \"task_type\": \"GPU\"} \n",
        "\n",
        "params = {**static_params, **trial.params}\n",
        "print(params)"
      ],
      "metadata": {
        "colab": {
          "base_uri": "https://localhost:8080/"
        },
        "id": "t6cNgPVLnPFu",
        "outputId": "7d44ca31-0402-40ff-cd56-a5c43ebf3d25"
      },
      "execution_count": null,
      "outputs": [
        {
          "output_type": "stream",
          "name": "stdout",
          "text": [
            "{'od_type': 'Iter', 'logging_level': 'Silent', 'task_type': 'GPU', 'iterations': 610, 'lr': 0.3845969764559549, 'depth': 8, 'loss': 'Logloss', 'grow_policy': 'Depthwise'}\n"
          ]
        }
      ]
    },
    {
      "cell_type": "code",
      "source": [
        "model = CatBoostClassifier(**params)\n",
        "model.fit(X_train,y_train, plot=True)"
      ],
      "metadata": {
        "colab": {
          "base_uri": "https://localhost:8080/"
        },
        "id": "thy1Ic73l4Ri",
        "outputId": "1ee57619-6745-45f4-bafe-a0c847f3daf3"
      },
      "execution_count": null,
      "outputs": [
        {
          "output_type": "execute_result",
          "data": {
            "text/plain": [
              "<catboost.core.CatBoostClassifier at 0x7fb37ce0ba10>"
            ]
          },
          "metadata": {},
          "execution_count": 46
        }
      ]
    },
    {
      "cell_type": "code",
      "source": [
        "w = catboost.MetricVisualizer('/', subdirs=True)\n",
        "w.start()"
      ],
      "metadata": {
        "id": "tYo4vrBFG02l"
      },
      "execution_count": null,
      "outputs": []
    },
    {
      "cell_type": "code",
      "source": [
        "acc_train = model.score(X_train, y_train)\n",
        "acc_val = model.score(X_val, y_val)\n",
        "acc_test = model.score(X_test, y_test)\n",
        "\n",
        "print(f\"Accuracy (train): {acc_train}, (val) {acc_val}, and (test) {acc_test}\")"
      ],
      "metadata": {
        "colab": {
          "base_uri": "https://localhost:8080/"
        },
        "id": "6h7GTJBmmFXq",
        "outputId": "b626a3e2-8ad7-4d5a-88e8-ff5d9106b3aa"
      },
      "execution_count": null,
      "outputs": [
        {
          "output_type": "stream",
          "name": "stdout",
          "text": [
            "Accuracy (train): 0.8968277199298414, (val) 0.7453677847640287, and (test) 0.7065052279676189\n"
          ]
        }
      ]
    },
    {
      "cell_type": "markdown",
      "source": [
        "### Robustness Baseline🥊"
      ],
      "metadata": {
        "id": "h3vzAVSc_DfD"
      }
    },
    {
      "cell_type": "code",
      "source": [
        "# Copy unscaled columns\n",
        "X_print = test.copy()\n",
        "\n",
        "# add baseline results\n",
        "X_print[\"rule\"] = \"Baseline\"\n",
        "X_print[\"buy_sell_predicted\"] = model.predict(X_test)\n",
        "\n",
        "# prepare columns for printing\n",
        "X_print[\"ttm\"] = (X_print['EXPIRATION'] - X_print['QUOTE_DATETIME']).dt.months\n",
        "X_print[\"year\"] = X_print['QUOTE_DATETIME'].dt.year\n",
        "\n",
        "bins_tradesize = [0, 1, 3, 5, 11, np.inf]\n",
        "X_print[\"TRADE_SIZE_binned\"] = pd.cut(X_print[\"TRADE_SIZE\"], bins_tradesize)\n",
        "\n",
        "bins_years = [2005, 2007, 2010, 2011, 2012, 2013, 2014, 2015, 2016, 2017]\n",
        "X_print[\"year_binned\"] = pd.cut(X_print[\"year\"], bins_years)\n",
        "\n",
        "bins_ttm = [0, 1, 2, 3, 6, 12, np.inf]\n",
        "X_print[\"ttm_binned\"] = pd.cut(X_print[\"ttm\"], bins_ttm)\n",
        "\n",
        "# TODO: Security type\n",
        "# TODO: Moneyness\n",
        "# TODO: time from previous trade; same underlying or any?"
      ],
      "metadata": {
        "id": "3evMG-KVA2eX"
      },
      "execution_count": null,
      "outputs": []
    },
    {
      "cell_type": "code",
      "source": [
        "def check_robustness(criterion: str=\"year_binned\") -> pd.DataFrame:\n",
        "    \"\"\"\n",
        "    Check robustness of rules by calculating the accuracy for a given\n",
        "    criterion and rules.\n",
        "\n",
        "    Example:\n",
        "    rule\tGBM\tQuote Rule (ISE)\n",
        "    trade_size_binned\t\t\n",
        "    (0.0, 1.0]\t0.493827\t0.494118\n",
        "    (1.0, 3.0]\t0.500000\t0.466667\n",
        "    (3.0, 5.0]\t0.578947\t0.494118\n",
        "    (5.0, 11.0]\t0.422680\t0.465909\n",
        "    (11.0, inf]\t0.500000\t0.571429\n",
        "\n",
        "    Args:\n",
        "        criterion (str, optional): criterion to check robustness for. \n",
        "        Defaults to \"year_binned\".\n",
        "\n",
        "    Returns:\n",
        "        pd.DataFrame: DataFrame with accuracy of rules. Rule in columns and \n",
        "        criterion values in rows.\n",
        "    \"\"\"\n",
        "    results = (\n",
        "        df.groupby([\"rule\", criterion])[[\"buy_sell\", \"buy_sell_predicted\"]]\n",
        "        .apply(lambda x: accuracy_score(x[\"buy_sell\"], x[\"buy_sell_predicted\"]))\n",
        "        .unstack(level=0)\n",
        "    )\n",
        "    return results"
      ],
      "metadata": {
        "id": "clDZ4Z95_0jj"
      },
      "execution_count": null,
      "outputs": []
    },
    {
      "cell_type": "code",
      "source": [
        "check_robustness(\"years_binned\")"
      ],
      "metadata": {
        "id": "4KRw_J0IJiFU"
      },
      "execution_count": null,
      "outputs": []
    },
    {
      "cell_type": "code",
      "source": [
        "check_robustness(\"OPTION_TYPE\")"
      ],
      "metadata": {
        "id": "fCey7G_tE6zt"
      },
      "execution_count": null,
      "outputs": []
    },
    {
      "cell_type": "code",
      "source": [
        "check_robustness(\"TRADE_SIZE_binned\")"
      ],
      "metadata": {
        "id": "Zpg1yY2MEGFa"
      },
      "execution_count": null,
      "outputs": []
    },
    {
      "cell_type": "code",
      "source": [
        "check_robustness(\"ttm_binned\")"
      ],
      "metadata": {
        "id": "8624JR8wEN4D"
      },
      "execution_count": null,
      "outputs": []
    },
    {
      "cell_type": "code",
      "source": [
        "# TODO: print some metrics\n",
        "\n",
        "# cv_dataset = Pool(data=cv_data,\n",
        "#                   label=labels,\n",
        "#                   cat_features=cat_features)\n",
        "\n",
        "# params = {\"iterations\": 100,\n",
        "#           \"depth\": 2,\n",
        "#           \"loss_function\": \"Logloss\",\n",
        "#           \"verbose\": False}\n",
        "\n",
        "# scores = cv(cv_dataset,\n",
        "#             params,\n",
        "#             fold_count=2, \n",
        "#             plot=\"True\")"
      ],
      "metadata": {
        "id": "IGKtBlnz4COM"
      },
      "execution_count": null,
      "outputs": []
    },
    {
      "cell_type": "markdown",
      "source": [
        "## Classical rules"
      ],
      "metadata": {
        "id": "2P3UVsQb2T_V"
      }
    },
    {
      "cell_type": "code",
      "source": [
        "df.head().T"
      ],
      "metadata": {
        "colab": {
          "base_uri": "https://localhost:8080/",
          "height": 771
        },
        "id": "gHnFz65rZnOZ",
        "outputId": "cdb54c20-c5ba-42df-e6a0-38fac64b281e"
      },
      "execution_count": null,
      "outputs": [
        {
          "output_type": "execute_result",
          "data": {
            "text/plain": [
              "                              34736684             34736685  \\\n",
              "UNDERLYING_SYMBOL                 LINE                 LINE   \n",
              "QUOTE_DATETIME     2015-01-02 09:30:00  2015-01-02 09:30:00   \n",
              "SEQUENCE_NUMBER                  74466             67183330   \n",
              "ROOT                              LINE                 LINE   \n",
              "EXPIRATION         2015-04-17 00:00:00  2015-04-17 00:00:00   \n",
              "STRK_PRC                           9.0                 18.0   \n",
              "OPTION_TYPE                          C                    C   \n",
              "TRADE_SIZE                           5                    5   \n",
              "TRADE_PRICE                       2.14                 0.04   \n",
              "BEST_BID                           1.8                  0.0   \n",
              "BEST_ASK                          2.15                  0.5   \n",
              "order_id                    1624705991           1624706010   \n",
              "ask_ex                            2.15                  0.5   \n",
              "bid_ex                             1.8                  0.0   \n",
              "bid_size_ex                       11.0                  0.0   \n",
              "ask_size_ex                       11.0                 31.0   \n",
              "price_all_lead                    2.83                 0.28   \n",
              "price_all_lag                     2.25                 0.21   \n",
              "optionid                   106126248.0          105166752.0   \n",
              "day_vol                           10.0                 10.0   \n",
              "price_ex_lead                     3.29                 0.22   \n",
              "price_ex_lag                       2.3                  0.2   \n",
              "buy_sell                           1.0                 -1.0   \n",
              "\n",
              "                              34736686             34736687  \\\n",
              "UNDERLYING_SYMBOL                 AMZN                  TLT   \n",
              "QUOTE_DATETIME     2015-01-02 09:30:00  2015-01-02 09:30:00   \n",
              "SEQUENCE_NUMBER                8588013              7331304   \n",
              "ROOT                              AMZN                  TLT   \n",
              "EXPIRATION         2015-02-20 00:00:00  2015-01-02 00:00:00   \n",
              "STRK_PRC                         390.0                124.0   \n",
              "OPTION_TYPE                          C                    P   \n",
              "TRADE_SIZE                           1                   20   \n",
              "TRADE_PRICE                       1.42                 0.01   \n",
              "BEST_BID                           0.0                  0.0   \n",
              "BEST_ASK                           0.0                 0.14   \n",
              "order_id                    1624706024           1624706072   \n",
              "ask_ex                             NaN                 0.14   \n",
              "bid_ex                             NaN                  0.0   \n",
              "bid_size_ex                        NaN                  0.0   \n",
              "ask_size_ex                        NaN                 56.0   \n",
              "price_all_lead                     1.3                 0.03   \n",
              "price_all_lag                     1.35                 0.03   \n",
              "optionid                   106064528.0          105919880.0   \n",
              "day_vol                            1.0                 20.0   \n",
              "price_ex_lead                     0.37                  NaN   \n",
              "price_ex_lag                      1.35                 0.04   \n",
              "buy_sell                          -1.0                 -1.0   \n",
              "\n",
              "                              34736688  \n",
              "UNDERLYING_SYMBOL                  TLT  \n",
              "QUOTE_DATETIME     2015-01-02 09:30:00  \n",
              "SEQUENCE_NUMBER                7331305  \n",
              "ROOT                               TLT  \n",
              "EXPIRATION         2015-01-02 00:00:00  \n",
              "STRK_PRC                         126.0  \n",
              "OPTION_TYPE                          P  \n",
              "TRADE_SIZE                          20  \n",
              "TRADE_PRICE                       0.18  \n",
              "BEST_BID                          0.05  \n",
              "BEST_ASK                          0.19  \n",
              "order_id                    1624706073  \n",
              "ask_ex                            0.19  \n",
              "bid_ex                            0.05  \n",
              "bid_size_ex                       80.0  \n",
              "ask_size_ex                       21.0  \n",
              "price_all_lead                    0.15  \n",
              "price_all_lag                     0.42  \n",
              "optionid                   105919880.0  \n",
              "day_vol                           20.0  \n",
              "price_ex_lead                      NaN  \n",
              "price_ex_lag                       0.4  \n",
              "buy_sell                           1.0  "
            ],
            "text/html": [
              "<div>\n",
              "<style scoped>\n",
              "    .dataframe tbody tr th:only-of-type {\n",
              "        vertical-align: middle;\n",
              "    }\n",
              "\n",
              "    .dataframe tbody tr th {\n",
              "        vertical-align: top;\n",
              "    }\n",
              "\n",
              "    .dataframe thead th {\n",
              "        text-align: right;\n",
              "    }\n",
              "</style>\n",
              "<table border=\"1\" class=\"dataframe\">\n",
              "  <thead>\n",
              "    <tr style=\"text-align: right;\">\n",
              "      <th></th>\n",
              "      <th>34736684</th>\n",
              "      <th>34736685</th>\n",
              "      <th>34736686</th>\n",
              "      <th>34736687</th>\n",
              "      <th>34736688</th>\n",
              "    </tr>\n",
              "  </thead>\n",
              "  <tbody>\n",
              "    <tr>\n",
              "      <th>UNDERLYING_SYMBOL</th>\n",
              "      <td>LINE</td>\n",
              "      <td>LINE</td>\n",
              "      <td>AMZN</td>\n",
              "      <td>TLT</td>\n",
              "      <td>TLT</td>\n",
              "    </tr>\n",
              "    <tr>\n",
              "      <th>QUOTE_DATETIME</th>\n",
              "      <td>2015-01-02 09:30:00</td>\n",
              "      <td>2015-01-02 09:30:00</td>\n",
              "      <td>2015-01-02 09:30:00</td>\n",
              "      <td>2015-01-02 09:30:00</td>\n",
              "      <td>2015-01-02 09:30:00</td>\n",
              "    </tr>\n",
              "    <tr>\n",
              "      <th>SEQUENCE_NUMBER</th>\n",
              "      <td>74466</td>\n",
              "      <td>67183330</td>\n",
              "      <td>8588013</td>\n",
              "      <td>7331304</td>\n",
              "      <td>7331305</td>\n",
              "    </tr>\n",
              "    <tr>\n",
              "      <th>ROOT</th>\n",
              "      <td>LINE</td>\n",
              "      <td>LINE</td>\n",
              "      <td>AMZN</td>\n",
              "      <td>TLT</td>\n",
              "      <td>TLT</td>\n",
              "    </tr>\n",
              "    <tr>\n",
              "      <th>EXPIRATION</th>\n",
              "      <td>2015-04-17 00:00:00</td>\n",
              "      <td>2015-04-17 00:00:00</td>\n",
              "      <td>2015-02-20 00:00:00</td>\n",
              "      <td>2015-01-02 00:00:00</td>\n",
              "      <td>2015-01-02 00:00:00</td>\n",
              "    </tr>\n",
              "    <tr>\n",
              "      <th>STRK_PRC</th>\n",
              "      <td>9.0</td>\n",
              "      <td>18.0</td>\n",
              "      <td>390.0</td>\n",
              "      <td>124.0</td>\n",
              "      <td>126.0</td>\n",
              "    </tr>\n",
              "    <tr>\n",
              "      <th>OPTION_TYPE</th>\n",
              "      <td>C</td>\n",
              "      <td>C</td>\n",
              "      <td>C</td>\n",
              "      <td>P</td>\n",
              "      <td>P</td>\n",
              "    </tr>\n",
              "    <tr>\n",
              "      <th>TRADE_SIZE</th>\n",
              "      <td>5</td>\n",
              "      <td>5</td>\n",
              "      <td>1</td>\n",
              "      <td>20</td>\n",
              "      <td>20</td>\n",
              "    </tr>\n",
              "    <tr>\n",
              "      <th>TRADE_PRICE</th>\n",
              "      <td>2.14</td>\n",
              "      <td>0.04</td>\n",
              "      <td>1.42</td>\n",
              "      <td>0.01</td>\n",
              "      <td>0.18</td>\n",
              "    </tr>\n",
              "    <tr>\n",
              "      <th>BEST_BID</th>\n",
              "      <td>1.8</td>\n",
              "      <td>0.0</td>\n",
              "      <td>0.0</td>\n",
              "      <td>0.0</td>\n",
              "      <td>0.05</td>\n",
              "    </tr>\n",
              "    <tr>\n",
              "      <th>BEST_ASK</th>\n",
              "      <td>2.15</td>\n",
              "      <td>0.5</td>\n",
              "      <td>0.0</td>\n",
              "      <td>0.14</td>\n",
              "      <td>0.19</td>\n",
              "    </tr>\n",
              "    <tr>\n",
              "      <th>order_id</th>\n",
              "      <td>1624705991</td>\n",
              "      <td>1624706010</td>\n",
              "      <td>1624706024</td>\n",
              "      <td>1624706072</td>\n",
              "      <td>1624706073</td>\n",
              "    </tr>\n",
              "    <tr>\n",
              "      <th>ask_ex</th>\n",
              "      <td>2.15</td>\n",
              "      <td>0.5</td>\n",
              "      <td>NaN</td>\n",
              "      <td>0.14</td>\n",
              "      <td>0.19</td>\n",
              "    </tr>\n",
              "    <tr>\n",
              "      <th>bid_ex</th>\n",
              "      <td>1.8</td>\n",
              "      <td>0.0</td>\n",
              "      <td>NaN</td>\n",
              "      <td>0.0</td>\n",
              "      <td>0.05</td>\n",
              "    </tr>\n",
              "    <tr>\n",
              "      <th>bid_size_ex</th>\n",
              "      <td>11.0</td>\n",
              "      <td>0.0</td>\n",
              "      <td>NaN</td>\n",
              "      <td>0.0</td>\n",
              "      <td>80.0</td>\n",
              "    </tr>\n",
              "    <tr>\n",
              "      <th>ask_size_ex</th>\n",
              "      <td>11.0</td>\n",
              "      <td>31.0</td>\n",
              "      <td>NaN</td>\n",
              "      <td>56.0</td>\n",
              "      <td>21.0</td>\n",
              "    </tr>\n",
              "    <tr>\n",
              "      <th>price_all_lead</th>\n",
              "      <td>2.83</td>\n",
              "      <td>0.28</td>\n",
              "      <td>1.3</td>\n",
              "      <td>0.03</td>\n",
              "      <td>0.15</td>\n",
              "    </tr>\n",
              "    <tr>\n",
              "      <th>price_all_lag</th>\n",
              "      <td>2.25</td>\n",
              "      <td>0.21</td>\n",
              "      <td>1.35</td>\n",
              "      <td>0.03</td>\n",
              "      <td>0.42</td>\n",
              "    </tr>\n",
              "    <tr>\n",
              "      <th>optionid</th>\n",
              "      <td>106126248.0</td>\n",
              "      <td>105166752.0</td>\n",
              "      <td>106064528.0</td>\n",
              "      <td>105919880.0</td>\n",
              "      <td>105919880.0</td>\n",
              "    </tr>\n",
              "    <tr>\n",
              "      <th>day_vol</th>\n",
              "      <td>10.0</td>\n",
              "      <td>10.0</td>\n",
              "      <td>1.0</td>\n",
              "      <td>20.0</td>\n",
              "      <td>20.0</td>\n",
              "    </tr>\n",
              "    <tr>\n",
              "      <th>price_ex_lead</th>\n",
              "      <td>3.29</td>\n",
              "      <td>0.22</td>\n",
              "      <td>0.37</td>\n",
              "      <td>NaN</td>\n",
              "      <td>NaN</td>\n",
              "    </tr>\n",
              "    <tr>\n",
              "      <th>price_ex_lag</th>\n",
              "      <td>2.3</td>\n",
              "      <td>0.2</td>\n",
              "      <td>1.35</td>\n",
              "      <td>0.04</td>\n",
              "      <td>0.4</td>\n",
              "    </tr>\n",
              "    <tr>\n",
              "      <th>buy_sell</th>\n",
              "      <td>1.0</td>\n",
              "      <td>-1.0</td>\n",
              "      <td>-1.0</td>\n",
              "      <td>-1.0</td>\n",
              "      <td>1.0</td>\n",
              "    </tr>\n",
              "  </tbody>\n",
              "</table>\n",
              "</div>"
            ]
          },
          "metadata": {},
          "execution_count": 6
        }
      ]
    },
    {
      "cell_type": "code",
      "source": [
        "# test if if a lead price is different from the trade price?\n",
        "sum = (df['TRADE_PRICE'] == df['price_ex_lead']).sum()\n",
        "print(sum)"
      ],
      "metadata": {
        "colab": {
          "base_uri": "https://localhost:8080/"
        },
        "id": "1E0cyFEW7OHh",
        "outputId": "138fe32e-7270-4800-a591-4524519db004"
      },
      "execution_count": null,
      "outputs": [
        {
          "output_type": "stream",
          "name": "stdout",
          "text": [
            "0\n"
          ]
        }
      ]
    },
    {
      "cell_type": "code",
      "source": [
        "# quote rule\n",
        "mid = 0.5 * (df['ask_ex'] + df['bid_ex'])\n",
        "qr = np.where(df['TRADE_PRICE'] > mid, 1, np.where(df['TRADE_PRICE'] < mid, -1, np.nan))\n",
        "df['pred_quote_rule'] = qr"
      ],
      "metadata": {
        "id": "GTr6C0gPEAlh"
      },
      "execution_count": null,
      "outputs": []
    },
    {
      "cell_type": "code",
      "source": [
        "sum = (df['TRADE_PRICE'] == mid).sum()\n",
        "print(sum)"
      ],
      "metadata": {
        "colab": {
          "base_uri": "https://localhost:8080/"
        },
        "id": "As1GilUfF2On",
        "outputId": "176b48f3-3b1a-4eea-84c1-3330c6a9b701"
      },
      "execution_count": null,
      "outputs": [
        {
          "output_type": "stream",
          "name": "stdout",
          "text": [
            "632780\n"
          ]
        }
      ]
    },
    {
      "cell_type": "code",
      "source": [
        "# depth rule p. 14\n",
        "dr = np.where((df['TRADE_PRICE'] == mid) & (df['ask_size_ex'] > df['bid_size_ex']),1,np.where((df['TRADE_PRICE'] == mid) & (df['ask_size_ex'] < df['bid_size_ex']),-1,np.nan))\n",
        "df['pred_depth_rule'] = dr"
      ],
      "metadata": {
        "id": "I_8zfiyGVZfG"
      },
      "execution_count": null,
      "outputs": []
    },
    {
      "cell_type": "code",
      "source": [
        "# tick rule\n",
        "# FIXME: Disqus with Grauer et al what is used in table 9 ISE or all?\n",
        "tt = np.where(df['TRADE_PRICE'] > df['price_ex_lead'], 1.0, -1.0)\n",
        "df['pred_tick_test'] = tt"
      ],
      "metadata": {
        "id": "FXOz7eU-T0dj"
      },
      "execution_count": null,
      "outputs": []
    },
    {
      "cell_type": "code",
      "source": [
        "# main idea of our new “trade size rule” is that when the trade size matches exactly either the bid or ask quote size, it is likely that the quote came from a customer, the market maker found it attractive and, therefore, decided to fill it completely.\n",
        "# we propose to classify trades for which the trade size is equal to the quoted bid size as customer buys and those with a trade size equal to the ask size as customer sells.\n",
        "\n",
        "ts_eq_bid = (df['TRADE_SIZE'] == df['bid_size_ex'])\n",
        "ts_eq_ask = (df['TRADE_SIZE'] == df['ask_size_ex'])\n",
        "\n",
        "df['pred_trade_size_quote_rule'] = np.where(ts_eq_bid,1.0, np.where(ts_eq_ask,-1.0, qr))\n",
        "df['pred_trade_size_tick_test'] = np.where(ts_eq_bid,1.0, np.where(ts_eq_ask,-1.0, tt))"
      ],
      "metadata": {
        "id": "uKFUz1AHxFHQ"
      },
      "execution_count": null,
      "outputs": []
    },
    {
      "cell_type": "code",
      "source": [
        "df['pred_trade_size_depth_rule'] = np.where(ts_eq_bid,1.0, np.where(ts_eq_ask,-1.0, dr))"
      ],
      "metadata": {
        "id": "Ym31mXboWRUL"
      },
      "execution_count": null,
      "outputs": []
    },
    {
      "cell_type": "code",
      "source": [
        "# reverse tick rule\n",
        "df['pred_rev_tick_test'] = np.where(df['TRADE_PRICE'] > df['price_all_lag'], 1.0, -1.0)"
      ],
      "metadata": {
        "id": "dfsKw6JuBIKd"
      },
      "execution_count": null,
      "outputs": []
    },
    {
      "cell_type": "code",
      "source": [
        "df.head().T"
      ],
      "metadata": {
        "colab": {
          "base_uri": "https://localhost:8080/",
          "height": 990
        },
        "id": "etb4IaTvUdx5",
        "outputId": "69f87245-bf76-4c82-f0ee-84844a666a08"
      },
      "execution_count": null,
      "outputs": [
        {
          "output_type": "execute_result",
          "data": {
            "text/plain": [
              "                                       34736684             34736685  \\\n",
              "UNDERLYING_SYMBOL                          LINE                 LINE   \n",
              "QUOTE_DATETIME              2015-01-02 09:30:00  2015-01-02 09:30:00   \n",
              "SEQUENCE_NUMBER                           74466             67183330   \n",
              "ROOT                                       LINE                 LINE   \n",
              "EXPIRATION                  2015-04-17 00:00:00  2015-04-17 00:00:00   \n",
              "STRK_PRC                                    9.0                 18.0   \n",
              "OPTION_TYPE                                   C                    C   \n",
              "TRADE_SIZE                                    5                    5   \n",
              "TRADE_PRICE                                2.14                 0.04   \n",
              "BEST_BID                                    1.8                  0.0   \n",
              "BEST_ASK                                   2.15                  0.5   \n",
              "order_id                             1624705991           1624706010   \n",
              "ask_ex                                     2.15                  0.5   \n",
              "bid_ex                                      1.8                  0.0   \n",
              "bid_size_ex                                11.0                  0.0   \n",
              "ask_size_ex                                11.0                 31.0   \n",
              "price_all_lead                             2.83                 0.28   \n",
              "price_all_lag                              2.25                 0.21   \n",
              "optionid                            106126248.0          105166752.0   \n",
              "day_vol                                    10.0                 10.0   \n",
              "price_ex_lead                              3.29                 0.22   \n",
              "price_ex_lag                                2.3                  0.2   \n",
              "buy_sell                                    1.0                 -1.0   \n",
              "pred_quote_rule                             1.0                 -1.0   \n",
              "pred_tick_test                             -1.0                 -1.0   \n",
              "pred_trade_size_quote_rule                  1.0                 -1.0   \n",
              "pred_trade_size_tick_test                  -1.0                 -1.0   \n",
              "pred_rev_tick_test                         -1.0                 -1.0   \n",
              "pred_trade_size_depth_rule                  NaN                  NaN   \n",
              "pred_depth_rule                             NaN                  NaN   \n",
              "\n",
              "                                       34736686             34736687  \\\n",
              "UNDERLYING_SYMBOL                          AMZN                  TLT   \n",
              "QUOTE_DATETIME              2015-01-02 09:30:00  2015-01-02 09:30:00   \n",
              "SEQUENCE_NUMBER                         8588013              7331304   \n",
              "ROOT                                       AMZN                  TLT   \n",
              "EXPIRATION                  2015-02-20 00:00:00  2015-01-02 00:00:00   \n",
              "STRK_PRC                                  390.0                124.0   \n",
              "OPTION_TYPE                                   C                    P   \n",
              "TRADE_SIZE                                    1                   20   \n",
              "TRADE_PRICE                                1.42                 0.01   \n",
              "BEST_BID                                    0.0                  0.0   \n",
              "BEST_ASK                                    0.0                 0.14   \n",
              "order_id                             1624706024           1624706072   \n",
              "ask_ex                                      NaN                 0.14   \n",
              "bid_ex                                      NaN                  0.0   \n",
              "bid_size_ex                                 NaN                  0.0   \n",
              "ask_size_ex                                 NaN                 56.0   \n",
              "price_all_lead                              1.3                 0.03   \n",
              "price_all_lag                              1.35                 0.03   \n",
              "optionid                            106064528.0          105919880.0   \n",
              "day_vol                                     1.0                 20.0   \n",
              "price_ex_lead                              0.37                  NaN   \n",
              "price_ex_lag                               1.35                 0.04   \n",
              "buy_sell                                   -1.0                 -1.0   \n",
              "pred_quote_rule                             NaN                 -1.0   \n",
              "pred_tick_test                              1.0                 -1.0   \n",
              "pred_trade_size_quote_rule                  NaN                 -1.0   \n",
              "pred_trade_size_tick_test                   1.0                 -1.0   \n",
              "pred_rev_tick_test                          1.0                 -1.0   \n",
              "pred_trade_size_depth_rule                  NaN                  NaN   \n",
              "pred_depth_rule                             NaN                  NaN   \n",
              "\n",
              "                                       34736688  \n",
              "UNDERLYING_SYMBOL                           TLT  \n",
              "QUOTE_DATETIME              2015-01-02 09:30:00  \n",
              "SEQUENCE_NUMBER                         7331305  \n",
              "ROOT                                        TLT  \n",
              "EXPIRATION                  2015-01-02 00:00:00  \n",
              "STRK_PRC                                  126.0  \n",
              "OPTION_TYPE                                   P  \n",
              "TRADE_SIZE                                   20  \n",
              "TRADE_PRICE                                0.18  \n",
              "BEST_BID                                   0.05  \n",
              "BEST_ASK                                   0.19  \n",
              "order_id                             1624706073  \n",
              "ask_ex                                     0.19  \n",
              "bid_ex                                     0.05  \n",
              "bid_size_ex                                80.0  \n",
              "ask_size_ex                                21.0  \n",
              "price_all_lead                             0.15  \n",
              "price_all_lag                              0.42  \n",
              "optionid                            105919880.0  \n",
              "day_vol                                    20.0  \n",
              "price_ex_lead                               NaN  \n",
              "price_ex_lag                                0.4  \n",
              "buy_sell                                    1.0  \n",
              "pred_quote_rule                             1.0  \n",
              "pred_tick_test                             -1.0  \n",
              "pred_trade_size_quote_rule                  1.0  \n",
              "pred_trade_size_tick_test                  -1.0  \n",
              "pred_rev_tick_test                         -1.0  \n",
              "pred_trade_size_depth_rule                  NaN  \n",
              "pred_depth_rule                             NaN  "
            ],
            "text/html": [
              "<div>\n",
              "<style scoped>\n",
              "    .dataframe tbody tr th:only-of-type {\n",
              "        vertical-align: middle;\n",
              "    }\n",
              "\n",
              "    .dataframe tbody tr th {\n",
              "        vertical-align: top;\n",
              "    }\n",
              "\n",
              "    .dataframe thead th {\n",
              "        text-align: right;\n",
              "    }\n",
              "</style>\n",
              "<table border=\"1\" class=\"dataframe\">\n",
              "  <thead>\n",
              "    <tr style=\"text-align: right;\">\n",
              "      <th></th>\n",
              "      <th>34736684</th>\n",
              "      <th>34736685</th>\n",
              "      <th>34736686</th>\n",
              "      <th>34736687</th>\n",
              "      <th>34736688</th>\n",
              "    </tr>\n",
              "  </thead>\n",
              "  <tbody>\n",
              "    <tr>\n",
              "      <th>UNDERLYING_SYMBOL</th>\n",
              "      <td>LINE</td>\n",
              "      <td>LINE</td>\n",
              "      <td>AMZN</td>\n",
              "      <td>TLT</td>\n",
              "      <td>TLT</td>\n",
              "    </tr>\n",
              "    <tr>\n",
              "      <th>QUOTE_DATETIME</th>\n",
              "      <td>2015-01-02 09:30:00</td>\n",
              "      <td>2015-01-02 09:30:00</td>\n",
              "      <td>2015-01-02 09:30:00</td>\n",
              "      <td>2015-01-02 09:30:00</td>\n",
              "      <td>2015-01-02 09:30:00</td>\n",
              "    </tr>\n",
              "    <tr>\n",
              "      <th>SEQUENCE_NUMBER</th>\n",
              "      <td>74466</td>\n",
              "      <td>67183330</td>\n",
              "      <td>8588013</td>\n",
              "      <td>7331304</td>\n",
              "      <td>7331305</td>\n",
              "    </tr>\n",
              "    <tr>\n",
              "      <th>ROOT</th>\n",
              "      <td>LINE</td>\n",
              "      <td>LINE</td>\n",
              "      <td>AMZN</td>\n",
              "      <td>TLT</td>\n",
              "      <td>TLT</td>\n",
              "    </tr>\n",
              "    <tr>\n",
              "      <th>EXPIRATION</th>\n",
              "      <td>2015-04-17 00:00:00</td>\n",
              "      <td>2015-04-17 00:00:00</td>\n",
              "      <td>2015-02-20 00:00:00</td>\n",
              "      <td>2015-01-02 00:00:00</td>\n",
              "      <td>2015-01-02 00:00:00</td>\n",
              "    </tr>\n",
              "    <tr>\n",
              "      <th>STRK_PRC</th>\n",
              "      <td>9.0</td>\n",
              "      <td>18.0</td>\n",
              "      <td>390.0</td>\n",
              "      <td>124.0</td>\n",
              "      <td>126.0</td>\n",
              "    </tr>\n",
              "    <tr>\n",
              "      <th>OPTION_TYPE</th>\n",
              "      <td>C</td>\n",
              "      <td>C</td>\n",
              "      <td>C</td>\n",
              "      <td>P</td>\n",
              "      <td>P</td>\n",
              "    </tr>\n",
              "    <tr>\n",
              "      <th>TRADE_SIZE</th>\n",
              "      <td>5</td>\n",
              "      <td>5</td>\n",
              "      <td>1</td>\n",
              "      <td>20</td>\n",
              "      <td>20</td>\n",
              "    </tr>\n",
              "    <tr>\n",
              "      <th>TRADE_PRICE</th>\n",
              "      <td>2.14</td>\n",
              "      <td>0.04</td>\n",
              "      <td>1.42</td>\n",
              "      <td>0.01</td>\n",
              "      <td>0.18</td>\n",
              "    </tr>\n",
              "    <tr>\n",
              "      <th>BEST_BID</th>\n",
              "      <td>1.8</td>\n",
              "      <td>0.0</td>\n",
              "      <td>0.0</td>\n",
              "      <td>0.0</td>\n",
              "      <td>0.05</td>\n",
              "    </tr>\n",
              "    <tr>\n",
              "      <th>BEST_ASK</th>\n",
              "      <td>2.15</td>\n",
              "      <td>0.5</td>\n",
              "      <td>0.0</td>\n",
              "      <td>0.14</td>\n",
              "      <td>0.19</td>\n",
              "    </tr>\n",
              "    <tr>\n",
              "      <th>order_id</th>\n",
              "      <td>1624705991</td>\n",
              "      <td>1624706010</td>\n",
              "      <td>1624706024</td>\n",
              "      <td>1624706072</td>\n",
              "      <td>1624706073</td>\n",
              "    </tr>\n",
              "    <tr>\n",
              "      <th>ask_ex</th>\n",
              "      <td>2.15</td>\n",
              "      <td>0.5</td>\n",
              "      <td>NaN</td>\n",
              "      <td>0.14</td>\n",
              "      <td>0.19</td>\n",
              "    </tr>\n",
              "    <tr>\n",
              "      <th>bid_ex</th>\n",
              "      <td>1.8</td>\n",
              "      <td>0.0</td>\n",
              "      <td>NaN</td>\n",
              "      <td>0.0</td>\n",
              "      <td>0.05</td>\n",
              "    </tr>\n",
              "    <tr>\n",
              "      <th>bid_size_ex</th>\n",
              "      <td>11.0</td>\n",
              "      <td>0.0</td>\n",
              "      <td>NaN</td>\n",
              "      <td>0.0</td>\n",
              "      <td>80.0</td>\n",
              "    </tr>\n",
              "    <tr>\n",
              "      <th>ask_size_ex</th>\n",
              "      <td>11.0</td>\n",
              "      <td>31.0</td>\n",
              "      <td>NaN</td>\n",
              "      <td>56.0</td>\n",
              "      <td>21.0</td>\n",
              "    </tr>\n",
              "    <tr>\n",
              "      <th>price_all_lead</th>\n",
              "      <td>2.83</td>\n",
              "      <td>0.28</td>\n",
              "      <td>1.3</td>\n",
              "      <td>0.03</td>\n",
              "      <td>0.15</td>\n",
              "    </tr>\n",
              "    <tr>\n",
              "      <th>price_all_lag</th>\n",
              "      <td>2.25</td>\n",
              "      <td>0.21</td>\n",
              "      <td>1.35</td>\n",
              "      <td>0.03</td>\n",
              "      <td>0.42</td>\n",
              "    </tr>\n",
              "    <tr>\n",
              "      <th>optionid</th>\n",
              "      <td>106126248.0</td>\n",
              "      <td>105166752.0</td>\n",
              "      <td>106064528.0</td>\n",
              "      <td>105919880.0</td>\n",
              "      <td>105919880.0</td>\n",
              "    </tr>\n",
              "    <tr>\n",
              "      <th>day_vol</th>\n",
              "      <td>10.0</td>\n",
              "      <td>10.0</td>\n",
              "      <td>1.0</td>\n",
              "      <td>20.0</td>\n",
              "      <td>20.0</td>\n",
              "    </tr>\n",
              "    <tr>\n",
              "      <th>price_ex_lead</th>\n",
              "      <td>3.29</td>\n",
              "      <td>0.22</td>\n",
              "      <td>0.37</td>\n",
              "      <td>NaN</td>\n",
              "      <td>NaN</td>\n",
              "    </tr>\n",
              "    <tr>\n",
              "      <th>price_ex_lag</th>\n",
              "      <td>2.3</td>\n",
              "      <td>0.2</td>\n",
              "      <td>1.35</td>\n",
              "      <td>0.04</td>\n",
              "      <td>0.4</td>\n",
              "    </tr>\n",
              "    <tr>\n",
              "      <th>buy_sell</th>\n",
              "      <td>1.0</td>\n",
              "      <td>-1.0</td>\n",
              "      <td>-1.0</td>\n",
              "      <td>-1.0</td>\n",
              "      <td>1.0</td>\n",
              "    </tr>\n",
              "    <tr>\n",
              "      <th>pred_quote_rule</th>\n",
              "      <td>1.0</td>\n",
              "      <td>-1.0</td>\n",
              "      <td>NaN</td>\n",
              "      <td>-1.0</td>\n",
              "      <td>1.0</td>\n",
              "    </tr>\n",
              "    <tr>\n",
              "      <th>pred_tick_test</th>\n",
              "      <td>-1.0</td>\n",
              "      <td>-1.0</td>\n",
              "      <td>1.0</td>\n",
              "      <td>-1.0</td>\n",
              "      <td>-1.0</td>\n",
              "    </tr>\n",
              "    <tr>\n",
              "      <th>pred_trade_size_quote_rule</th>\n",
              "      <td>1.0</td>\n",
              "      <td>-1.0</td>\n",
              "      <td>NaN</td>\n",
              "      <td>-1.0</td>\n",
              "      <td>1.0</td>\n",
              "    </tr>\n",
              "    <tr>\n",
              "      <th>pred_trade_size_tick_test</th>\n",
              "      <td>-1.0</td>\n",
              "      <td>-1.0</td>\n",
              "      <td>1.0</td>\n",
              "      <td>-1.0</td>\n",
              "      <td>-1.0</td>\n",
              "    </tr>\n",
              "    <tr>\n",
              "      <th>pred_rev_tick_test</th>\n",
              "      <td>-1.0</td>\n",
              "      <td>-1.0</td>\n",
              "      <td>1.0</td>\n",
              "      <td>-1.0</td>\n",
              "      <td>-1.0</td>\n",
              "    </tr>\n",
              "    <tr>\n",
              "      <th>pred_trade_size_depth_rule</th>\n",
              "      <td>NaN</td>\n",
              "      <td>NaN</td>\n",
              "      <td>NaN</td>\n",
              "      <td>NaN</td>\n",
              "      <td>NaN</td>\n",
              "    </tr>\n",
              "    <tr>\n",
              "      <th>pred_depth_rule</th>\n",
              "      <td>NaN</td>\n",
              "      <td>NaN</td>\n",
              "      <td>NaN</td>\n",
              "      <td>NaN</td>\n",
              "      <td>NaN</td>\n",
              "    </tr>\n",
              "  </tbody>\n",
              "</table>\n",
              "</div>"
            ]
          },
          "metadata": {},
          "execution_count": 33
        }
      ]
    },
    {
      "cell_type": "code",
      "source": [
        "# Discuss with C. Grauer how results were calculated in table 9. Assign randomly (table 3) (?)\n",
        "pred_quote_rule_random = df['pred_quote_rule'].applymap(lambda l: l if not np.isnan(l) else np.random.choice([-1, 1]))\n",
        "\n",
        "acc = accuracy_score(df['buy_sell'], pred_quote_rule_random)\n",
        "print(f\"{acc:.3%}\")"
      ],
      "metadata": {
        "colab": {
          "base_uri": "https://localhost:8080/"
        },
        "id": "MLUaR_bAG_ox",
        "outputId": "b7648d47-05f9-436d-d865-d9552cbdcf75"
      },
      "execution_count": null,
      "outputs": [
        {
          "output_type": "stream",
          "name": "stdout",
          "text": [
            "56.073%\n"
          ]
        }
      ]
    },
    {
      "cell_type": "code",
      "source": [
        "# Discuss with C. Grauer how results were calculated in table 9. Assign randomly (table 3) (?)\n",
        "pred_trade_size_quote_rule_random = df['pred_trade_size_quote_rule'].applymap(lambda l: l if not np.isnan(l) else np.random.choice([-1, 1]))\n",
        "\n",
        "acc = accuracy_score(df['buy_sell'], pred_trade_size_quote_rule_random)\n",
        "print(f\"{acc:.3%}\")"
      ],
      "metadata": {
        "colab": {
          "base_uri": "https://localhost:8080/"
        },
        "id": "l82-BShY0Rou",
        "outputId": "7f304c6a-0300-470b-9558-9b1a320fbe3b"
      },
      "execution_count": null,
      "outputs": [
        {
          "output_type": "stream",
          "name": "stdout",
          "text": [
            "65.387%\n"
          ]
        }
      ]
    },
    {
      "cell_type": "code",
      "source": [
        "# Discuss with C. Grauer how results were calculated in table 9. Assign randomly (table 3) (?)\n",
        "pred_depth_rule_random = df['pred_depth_rule'].map(lambda l: l if not np.isnan(l) else np.random.choice([-1, 1]))\n",
        "\n",
        "acc = accuracy_score(df['buy_sell'], pred_depth_rule_random)\n",
        "print(f\"{acc:.3%}\")"
      ],
      "metadata": {
        "id": "_XGO8jIUXzrQ",
        "outputId": "33749476-e124-46e9-dd9f-4f5bb71ed6b4",
        "colab": {
          "base_uri": "https://localhost:8080/"
        }
      },
      "execution_count": null,
      "outputs": [
        {
          "output_type": "stream",
          "name": "stdout",
          "text": [
            "51.728%\n"
          ]
        }
      ]
    },
    {
      "cell_type": "code",
      "source": [
        "# Discuss with C. Grauer how results were calculated in table 9. Assign randomly (table 3) (?)\n",
        "pred_trade_size_depth_rule_random = df['pred_trade_size_depth_rule'].map(lambda l: l if not np.isnan(l) else np.random.choice([-1, 1]))\n",
        "\n",
        "acc = accuracy_score(df['buy_sell'], pred_trade_size_depth_rule_random)\n",
        "print(f\"{acc:.3%}\")"
      ],
      "metadata": {
        "id": "_mnfkK6vXb_s",
        "outputId": "f82b32cc-9d6e-47fe-ef59-c4ac68feac9a",
        "colab": {
          "base_uri": "https://localhost:8080/"
        }
      },
      "execution_count": null,
      "outputs": [
        {
          "output_type": "stream",
          "name": "stdout",
          "text": [
            "56.629%\n"
          ]
        }
      ]
    },
    {
      "cell_type": "code",
      "source": [
        "acc = accuracy_score(df['buy_sell'], df['pred_trade_size_tick_test'])\n",
        "print(f\"{acc:.3%}\")"
      ],
      "metadata": {
        "colab": {
          "base_uri": "https://localhost:8080/"
        },
        "id": "M4DQhLAH0l27",
        "outputId": "e45e2709-877a-4443-ce2f-08b1b15c2189"
      },
      "execution_count": null,
      "outputs": [
        {
          "output_type": "stream",
          "name": "stdout",
          "text": [
            "54.617%\n"
          ]
        }
      ]
    },
    {
      "cell_type": "code",
      "source": [
        "acc = accuracy_score(df['buy_sell'], df['pred_tick_test'])\n",
        "print(f\"{acc:.3%}\")"
      ],
      "metadata": {
        "colab": {
          "base_uri": "https://localhost:8080/"
        },
        "id": "YNkA2orOrdac",
        "outputId": "5c625a54-9447-4336-f12e-ade3509686f1"
      },
      "execution_count": null,
      "outputs": [
        {
          "output_type": "stream",
          "name": "stdout",
          "text": [
            "49.181%\n"
          ]
        }
      ]
    },
    {
      "cell_type": "code",
      "source": [
        "acc = accuracy_score(df['buy_sell'], df['pred_rev_tick_test'])\n",
        "print(f\"{acc:.3%}\")"
      ],
      "metadata": {
        "id": "mRGOt63GFsmS",
        "outputId": "acfece1d-7519-4f16-9636-112af66ef8c8",
        "colab": {
          "base_uri": "https://localhost:8080/"
        }
      },
      "execution_count": null,
      "outputs": [
        {
          "output_type": "stream",
          "name": "stdout",
          "text": [
            "53.864%\n"
          ]
        }
      ]
    }
  ],
  "metadata": {
    "colab": {
      "name": "Untitled2.ipynb",
      "provenance": [],
      "machine_shape": "hm",
      "include_colab_link": true
    },
    "kernelspec": {
      "display_name": "Python 3",
      "name": "python3"
    },
    "language_info": {
      "name": "python"
    },
    "gpuClass": "premium",
    "accelerator": "GPU",
    "widgets": {
      "application/vnd.jupyter.widget-state+json": {
        "aa5a1d3224e14026be974ff20fdecd6b": {
          "model_module": "catboost-widget",
          "model_name": "CatboostWidgetModel",
          "model_module_version": "^1.0.0",
          "state": {
            "_dom_classes": [],
            "_model_module": "catboost-widget",
            "_model_module_version": "^1.0.0",
            "_model_name": "CatboostWidgetModel",
            "_view_count": null,
            "_view_module": "catboost-widget",
            "_view_module_version": "^1.0.0",
            "_view_name": "CatboostWidgetView",
            "data": {
              "catboost_info": {
                "path": "catboost_info",
                "name": "catboost_info",
                "content": {
                  "passed_iterations": 49,
                  "total_iterations": 1000,
                  "data": {
                    "iterations": [
                      {
                        "learn": [
                          0.6666513274
                        ],
                        "iteration": 0,
                        "passed_time": 0.191433392,
                        "remaining_time": 191.2419586,
                        "test": [
                          0.6783558355
                        ]
                      },
                      {
                        "learn": [
                          0.6428894028
                        ],
                        "iteration": 1,
                        "passed_time": 0.372779047,
                        "remaining_time": 186.0167445,
                        "test": [
                          0.6648241516
                        ]
                      },
                      {
                        "learn": [
                          0.6206756823
                        ],
                        "iteration": 2,
                        "passed_time": 0.55256298,
                        "remaining_time": 183.635097,
                        "test": [
                          0.6538368004
                        ]
                      },
                      {
                        "learn": [
                          0.6009356727
                        ],
                        "iteration": 3,
                        "passed_time": 0.72058093,
                        "remaining_time": 179.4246516,
                        "test": [
                          0.6427009522
                        ]
                      },
                      {
                        "learn": [
                          0.5825567463
                        ],
                        "iteration": 4,
                        "passed_time": 0.8999862564,
                        "remaining_time": 179.097265,
                        "test": [
                          0.6328367873
                        ]
                      },
                      {
                        "learn": [
                          0.5657781075
                        ],
                        "iteration": 5,
                        "passed_time": 1.06968654,
                        "remaining_time": 177.2114035,
                        "test": [
                          0.6239254439
                        ]
                      },
                      {
                        "learn": [
                          0.5505802038
                        ],
                        "iteration": 6,
                        "passed_time": 1.241010321,
                        "remaining_time": 176.0461784,
                        "test": [
                          0.6161712581
                        ]
                      },
                      {
                        "learn": [
                          0.5364829998
                        ],
                        "iteration": 7,
                        "passed_time": 1.418151043,
                        "remaining_time": 175.8507293,
                        "test": [
                          0.6093323119
                        ]
                      },
                      {
                        "learn": [
                          0.5230931417
                        ],
                        "iteration": 8,
                        "passed_time": 1.595850092,
                        "remaining_time": 175.7208268,
                        "test": [
                          0.6031286479
                        ]
                      },
                      {
                        "learn": [
                          0.5110686024
                        ],
                        "iteration": 9,
                        "passed_time": 1.769532536,
                        "remaining_time": 175.183721,
                        "test": [
                          0.5977414121
                        ]
                      },
                      {
                        "learn": [
                          0.4997846177
                        ],
                        "iteration": 10,
                        "passed_time": 1.944823625,
                        "remaining_time": 174.8573241,
                        "test": [
                          0.5928793062
                        ]
                      },
                      {
                        "learn": [
                          0.4894406431
                        ],
                        "iteration": 11,
                        "passed_time": 2.111631888,
                        "remaining_time": 173.8576921,
                        "test": [
                          0.5887120848
                        ]
                      },
                      {
                        "learn": [
                          0.4797325817
                        ],
                        "iteration": 12,
                        "passed_time": 2.284726777,
                        "remaining_time": 173.4634868,
                        "test": [
                          0.5852479355
                        ]
                      },
                      {
                        "learn": [
                          0.4709789321
                        ],
                        "iteration": 13,
                        "passed_time": 2.457714723,
                        "remaining_time": 173.093337,
                        "test": [
                          0.5820297724
                        ]
                      },
                      {
                        "learn": [
                          0.4627177882
                        ],
                        "iteration": 14,
                        "passed_time": 2.625395454,
                        "remaining_time": 172.4009682,
                        "test": [
                          0.5789712944
                        ]
                      },
                      {
                        "learn": [
                          0.4552065515
                        ],
                        "iteration": 15,
                        "passed_time": 2.798739892,
                        "remaining_time": 172.1225034,
                        "test": [
                          0.5764110949
                        ]
                      },
                      {
                        "learn": [
                          0.4481125586
                        ],
                        "iteration": 16,
                        "passed_time": 2.980773318,
                        "remaining_time": 172.3588336,
                        "test": [
                          0.5742286473
                        ]
                      },
                      {
                        "learn": [
                          0.441390605
                        ],
                        "iteration": 17,
                        "passed_time": 3.157586853,
                        "remaining_time": 172.263905,
                        "test": [
                          0.5723817926
                        ]
                      },
                      {
                        "learn": [
                          0.4352234066
                        ],
                        "iteration": 18,
                        "passed_time": 3.329427299,
                        "remaining_time": 171.9035885,
                        "test": [
                          0.5708274057
                        ]
                      },
                      {
                        "learn": [
                          0.4295586425
                        ],
                        "iteration": 19,
                        "passed_time": 3.503139028,
                        "remaining_time": 171.6538124,
                        "test": [
                          0.5694125653
                        ]
                      },
                      {
                        "learn": [
                          0.4242041428
                        ],
                        "iteration": 20,
                        "passed_time": 3.680753889,
                        "remaining_time": 171.5932408,
                        "test": [
                          0.5684760682
                        ]
                      },
                      {
                        "learn": [
                          0.4192701062
                        ],
                        "iteration": 21,
                        "passed_time": 3.855105046,
                        "remaining_time": 171.3769425,
                        "test": [
                          0.5676111751
                        ]
                      },
                      {
                        "learn": [
                          0.4147314567
                        ],
                        "iteration": 22,
                        "passed_time": 4.023888156,
                        "remaining_time": 170.9277708,
                        "test": [
                          0.5669502111
                        ]
                      },
                      {
                        "learn": [
                          0.4103740319
                        ],
                        "iteration": 23,
                        "passed_time": 4.195092009,
                        "remaining_time": 170.6004083,
                        "test": [
                          0.5663887705
                        ]
                      },
                      {
                        "learn": [
                          0.4062113864
                        ],
                        "iteration": 24,
                        "passed_time": 4.372466933,
                        "remaining_time": 170.5262104,
                        "test": [
                          0.5658869322
                        ]
                      },
                      {
                        "learn": [
                          0.4025228801
                        ],
                        "iteration": 25,
                        "passed_time": 4.555767884,
                        "remaining_time": 170.6660738,
                        "test": [
                          0.5654535957
                        ]
                      },
                      {
                        "learn": [
                          0.3984774479
                        ],
                        "iteration": 26,
                        "passed_time": 4.73014716,
                        "remaining_time": 170.4604884,
                        "test": [
                          0.5650675036
                        ]
                      },
                      {
                        "learn": [
                          0.3953324125
                        ],
                        "iteration": 27,
                        "passed_time": 4.910423983,
                        "remaining_time": 170.4618611,
                        "test": [
                          0.5648583873
                        ]
                      },
                      {
                        "learn": [
                          0.3920183854
                        ],
                        "iteration": 28,
                        "passed_time": 5.081071142,
                        "remaining_time": 170.1282786,
                        "test": [
                          0.5646408291
                        ]
                      },
                      {
                        "learn": [
                          0.3889535932
                        ],
                        "iteration": 29,
                        "passed_time": 5.250439162,
                        "remaining_time": 169.7641996,
                        "test": [
                          0.5644019117
                        ]
                      },
                      {
                        "learn": [
                          0.3859315317
                        ],
                        "iteration": 30,
                        "passed_time": 5.427532492,
                        "remaining_time": 169.6541608,
                        "test": [
                          0.564450936
                        ]
                      },
                      {
                        "learn": [
                          0.3832822213
                        ],
                        "iteration": 31,
                        "passed_time": 5.598763103,
                        "remaining_time": 169.3625839,
                        "test": [
                          0.5645470522
                        ]
                      },
                      {
                        "learn": [
                          0.3807110191
                        ],
                        "iteration": 32,
                        "passed_time": 5.770290759,
                        "remaining_time": 169.087005,
                        "test": [
                          0.5647129416
                        ]
                      },
                      {
                        "learn": [
                          0.3785061294
                        ],
                        "iteration": 33,
                        "passed_time": 5.945121028,
                        "remaining_time": 168.9113798,
                        "test": [
                          0.5648713554
                        ]
                      },
                      {
                        "learn": [
                          0.3762129994
                        ],
                        "iteration": 34,
                        "passed_time": 6.119844997,
                        "remaining_time": 168.7328692,
                        "test": [
                          0.5651888947
                        ]
                      },
                      {
                        "learn": [
                          0.3740700203
                        ],
                        "iteration": 35,
                        "passed_time": 6.297168481,
                        "remaining_time": 168.6241782,
                        "test": [
                          0.5653750245
                        ]
                      },
                      {
                        "learn": [
                          0.3718496445
                        ],
                        "iteration": 36,
                        "passed_time": 6.465605971,
                        "remaining_time": 168.2805014,
                        "test": [
                          0.565525454
                        ]
                      },
                      {
                        "learn": [
                          0.3699910065
                        ],
                        "iteration": 37,
                        "passed_time": 6.645699413,
                        "remaining_time": 168.2411272,
                        "test": [
                          0.5657572008
                        ]
                      },
                      {
                        "learn": [
                          0.3681133922
                        ],
                        "iteration": 38,
                        "passed_time": 6.818965444,
                        "remaining_time": 168.0263023,
                        "test": [
                          0.5661855026
                        ]
                      },
                      {
                        "learn": [
                          0.3663863015
                        ],
                        "iteration": 39,
                        "passed_time": 6.997400358,
                        "remaining_time": 167.9376086,
                        "test": [
                          0.5663410684
                        ]
                      },
                      {
                        "learn": [
                          0.364617361
                        ],
                        "iteration": 40,
                        "passed_time": 7.16786792,
                        "remaining_time": 167.6581789,
                        "test": [
                          0.5666684737
                        ]
                      },
                      {
                        "learn": [
                          0.3629818653
                        ],
                        "iteration": 41,
                        "passed_time": 7.342598004,
                        "remaining_time": 167.481164,
                        "test": [
                          0.5670743993
                        ]
                      },
                      {
                        "learn": [
                          0.3614376259
                        ],
                        "iteration": 42,
                        "passed_time": 7.523030326,
                        "remaining_time": 167.4311633,
                        "test": [
                          0.5673109774
                        ]
                      },
                      {
                        "learn": [
                          0.3599571607
                        ],
                        "iteration": 43,
                        "passed_time": 7.707416742,
                        "remaining_time": 167.4611456,
                        "test": [
                          0.5673806997
                        ]
                      },
                      {
                        "learn": [
                          0.3584467739
                        ],
                        "iteration": 44,
                        "passed_time": 7.883263865,
                        "remaining_time": 167.3003776,
                        "test": [
                          0.5679325287
                        ]
                      },
                      {
                        "learn": [
                          0.3570642067
                        ],
                        "iteration": 45,
                        "passed_time": 8.062059497,
                        "remaining_time": 167.2001035,
                        "test": [
                          0.5684755088
                        ]
                      },
                      {
                        "learn": [
                          0.3557813673
                        ],
                        "iteration": 46,
                        "passed_time": 8.247219775,
                        "remaining_time": 167.2255414,
                        "test": [
                          0.5687386332
                        ]
                      },
                      {
                        "learn": [
                          0.3545721293
                        ],
                        "iteration": 47,
                        "passed_time": 8.429022859,
                        "remaining_time": 167.17562,
                        "test": [
                          0.5689762792
                        ]
                      },
                      {
                        "learn": [
                          0.3533778353
                        ],
                        "iteration": 48,
                        "passed_time": 8.610525277,
                        "remaining_time": 167.1144804,
                        "test": [
                          0.5690286092
                        ]
                      },
                      {
                        "learn": [
                          0.3521470455
                        ],
                        "iteration": 49,
                        "passed_time": 8.789036803,
                        "remaining_time": 166.9916993,
                        "test": [
                          0.5693339942
                        ]
                      }
                    ],
                    "meta": {
                      "test_sets": [
                        "test"
                      ],
                      "test_metrics": [
                        {
                          "best_value": "Min",
                          "name": "Logloss"
                        }
                      ],
                      "learn_metrics": [
                        {
                          "best_value": "Min",
                          "name": "Logloss"
                        }
                      ],
                      "launch_mode": "Train",
                      "parameters": "",
                      "iteration_count": 1000,
                      "learn_sets": [
                        "learn"
                      ],
                      "name": "experiment"
                    }
                  }
                }
              }
            },
            "layout": "IPY_MODEL_de407a13416642e6afa3b4c6bc353044"
          }
        },
        "9d8d45e266be4958a21d1a2c39c3971b": {
          "model_module": "@jupyter-widgets/controls",
          "model_name": "VBoxModel",
          "model_module_version": "1.5.0",
          "state": {
            "_dom_classes": [],
            "_model_module": "@jupyter-widgets/controls",
            "_model_module_version": "1.5.0",
            "_model_name": "VBoxModel",
            "_view_count": null,
            "_view_module": "@jupyter-widgets/controls",
            "_view_module_version": "1.5.0",
            "_view_name": "VBoxView",
            "box_style": "",
            "children": [
              "IPY_MODEL_6ac4f1d960d3487f8b7e4eafdc4e80b8",
              "IPY_MODEL_8862044d679542689d925644e94e82c8"
            ],
            "layout": "IPY_MODEL_e0c2eed9570144bf8c1fe18ad466c267"
          }
        },
        "6ac4f1d960d3487f8b7e4eafdc4e80b8": {
          "model_module": "@jupyter-widgets/controls",
          "model_name": "LabelModel",
          "model_module_version": "1.5.0",
          "state": {
            "_dom_classes": [],
            "_model_module": "@jupyter-widgets/controls",
            "_model_module_version": "1.5.0",
            "_model_name": "LabelModel",
            "_view_count": null,
            "_view_module": "@jupyter-widgets/controls",
            "_view_module_version": "1.5.0",
            "_view_name": "LabelView",
            "description": "",
            "description_tooltip": null,
            "layout": "IPY_MODEL_5f67c12459554230bda9fb2fd41a56f4",
            "placeholder": "​",
            "style": "IPY_MODEL_076ae5398fe144e69e51d3ca26c526be",
            "value": "0.001 MB of 0.014 MB uploaded (0.000 MB deduped)\r"
          }
        },
        "8862044d679542689d925644e94e82c8": {
          "model_module": "@jupyter-widgets/controls",
          "model_name": "FloatProgressModel",
          "model_module_version": "1.5.0",
          "state": {
            "_dom_classes": [],
            "_model_module": "@jupyter-widgets/controls",
            "_model_module_version": "1.5.0",
            "_model_name": "FloatProgressModel",
            "_view_count": null,
            "_view_module": "@jupyter-widgets/controls",
            "_view_module_version": "1.5.0",
            "_view_name": "ProgressView",
            "bar_style": "",
            "description": "",
            "description_tooltip": null,
            "layout": "IPY_MODEL_b61b4627e54b4a1fabe0d752bd9075dd",
            "max": 1,
            "min": 0,
            "orientation": "horizontal",
            "style": "IPY_MODEL_90f26168628347b8abff8fc8ecc5abf3",
            "value": 0.043255233605989186
          }
        },
        "e0c2eed9570144bf8c1fe18ad466c267": {
          "model_module": "@jupyter-widgets/base",
          "model_name": "LayoutModel",
          "model_module_version": "1.2.0",
          "state": {
            "_model_module": "@jupyter-widgets/base",
            "_model_module_version": "1.2.0",
            "_model_name": "LayoutModel",
            "_view_count": null,
            "_view_module": "@jupyter-widgets/base",
            "_view_module_version": "1.2.0",
            "_view_name": "LayoutView",
            "align_content": null,
            "align_items": null,
            "align_self": null,
            "border": null,
            "bottom": null,
            "display": null,
            "flex": null,
            "flex_flow": null,
            "grid_area": null,
            "grid_auto_columns": null,
            "grid_auto_flow": null,
            "grid_auto_rows": null,
            "grid_column": null,
            "grid_gap": null,
            "grid_row": null,
            "grid_template_areas": null,
            "grid_template_columns": null,
            "grid_template_rows": null,
            "height": null,
            "justify_content": null,
            "justify_items": null,
            "left": null,
            "margin": null,
            "max_height": null,
            "max_width": null,
            "min_height": null,
            "min_width": null,
            "object_fit": null,
            "object_position": null,
            "order": null,
            "overflow": null,
            "overflow_x": null,
            "overflow_y": null,
            "padding": null,
            "right": null,
            "top": null,
            "visibility": null,
            "width": null
          }
        },
        "5f67c12459554230bda9fb2fd41a56f4": {
          "model_module": "@jupyter-widgets/base",
          "model_name": "LayoutModel",
          "model_module_version": "1.2.0",
          "state": {
            "_model_module": "@jupyter-widgets/base",
            "_model_module_version": "1.2.0",
            "_model_name": "LayoutModel",
            "_view_count": null,
            "_view_module": "@jupyter-widgets/base",
            "_view_module_version": "1.2.0",
            "_view_name": "LayoutView",
            "align_content": null,
            "align_items": null,
            "align_self": null,
            "border": null,
            "bottom": null,
            "display": null,
            "flex": null,
            "flex_flow": null,
            "grid_area": null,
            "grid_auto_columns": null,
            "grid_auto_flow": null,
            "grid_auto_rows": null,
            "grid_column": null,
            "grid_gap": null,
            "grid_row": null,
            "grid_template_areas": null,
            "grid_template_columns": null,
            "grid_template_rows": null,
            "height": null,
            "justify_content": null,
            "justify_items": null,
            "left": null,
            "margin": null,
            "max_height": null,
            "max_width": null,
            "min_height": null,
            "min_width": null,
            "object_fit": null,
            "object_position": null,
            "order": null,
            "overflow": null,
            "overflow_x": null,
            "overflow_y": null,
            "padding": null,
            "right": null,
            "top": null,
            "visibility": null,
            "width": null
          }
        },
        "076ae5398fe144e69e51d3ca26c526be": {
          "model_module": "@jupyter-widgets/controls",
          "model_name": "DescriptionStyleModel",
          "model_module_version": "1.5.0",
          "state": {
            "_model_module": "@jupyter-widgets/controls",
            "_model_module_version": "1.5.0",
            "_model_name": "DescriptionStyleModel",
            "_view_count": null,
            "_view_module": "@jupyter-widgets/base",
            "_view_module_version": "1.2.0",
            "_view_name": "StyleView",
            "description_width": ""
          }
        },
        "b61b4627e54b4a1fabe0d752bd9075dd": {
          "model_module": "@jupyter-widgets/base",
          "model_name": "LayoutModel",
          "model_module_version": "1.2.0",
          "state": {
            "_model_module": "@jupyter-widgets/base",
            "_model_module_version": "1.2.0",
            "_model_name": "LayoutModel",
            "_view_count": null,
            "_view_module": "@jupyter-widgets/base",
            "_view_module_version": "1.2.0",
            "_view_name": "LayoutView",
            "align_content": null,
            "align_items": null,
            "align_self": null,
            "border": null,
            "bottom": null,
            "display": null,
            "flex": null,
            "flex_flow": null,
            "grid_area": null,
            "grid_auto_columns": null,
            "grid_auto_flow": null,
            "grid_auto_rows": null,
            "grid_column": null,
            "grid_gap": null,
            "grid_row": null,
            "grid_template_areas": null,
            "grid_template_columns": null,
            "grid_template_rows": null,
            "height": null,
            "justify_content": null,
            "justify_items": null,
            "left": null,
            "margin": null,
            "max_height": null,
            "max_width": null,
            "min_height": null,
            "min_width": null,
            "object_fit": null,
            "object_position": null,
            "order": null,
            "overflow": null,
            "overflow_x": null,
            "overflow_y": null,
            "padding": null,
            "right": null,
            "top": null,
            "visibility": null,
            "width": null
          }
        },
        "90f26168628347b8abff8fc8ecc5abf3": {
          "model_module": "@jupyter-widgets/controls",
          "model_name": "ProgressStyleModel",
          "model_module_version": "1.5.0",
          "state": {
            "_model_module": "@jupyter-widgets/controls",
            "_model_module_version": "1.5.0",
            "_model_name": "ProgressStyleModel",
            "_view_count": null,
            "_view_module": "@jupyter-widgets/base",
            "_view_module_version": "1.2.0",
            "_view_name": "StyleView",
            "bar_color": null,
            "description_width": ""
          }
        },
        "e4d818315f3744a897edc9579fe5de0d": {
          "model_module": "@jupyter-widgets/base",
          "model_name": "LayoutModel",
          "model_module_version": "1.2.0",
          "state": {
            "_model_module": "@jupyter-widgets/base",
            "_model_module_version": "1.2.0",
            "_model_name": "LayoutModel",
            "_view_count": null,
            "_view_module": "@jupyter-widgets/base",
            "_view_module_version": "1.2.0",
            "_view_name": "LayoutView",
            "align_content": null,
            "align_items": null,
            "align_self": null,
            "border": null,
            "bottom": null,
            "display": null,
            "flex": null,
            "flex_flow": null,
            "grid_area": null,
            "grid_auto_columns": null,
            "grid_auto_flow": null,
            "grid_auto_rows": null,
            "grid_column": null,
            "grid_gap": null,
            "grid_row": null,
            "grid_template_areas": null,
            "grid_template_columns": null,
            "grid_template_rows": null,
            "height": null,
            "justify_content": null,
            "justify_items": null,
            "left": null,
            "margin": null,
            "max_height": null,
            "max_width": null,
            "min_height": null,
            "min_width": null,
            "object_fit": null,
            "object_position": null,
            "order": null,
            "overflow": null,
            "overflow_x": null,
            "overflow_y": null,
            "padding": null,
            "right": null,
            "top": null,
            "visibility": null,
            "width": null
          }
        },
        "ce77ed890fce490db9acee909e8a3d0a": {
          "model_module": "@jupyter-widgets/controls",
          "model_name": "ProgressStyleModel",
          "model_module_version": "1.5.0",
          "state": {
            "_model_module": "@jupyter-widgets/controls",
            "_model_module_version": "1.5.0",
            "_model_name": "ProgressStyleModel",
            "_view_count": null,
            "_view_module": "@jupyter-widgets/base",
            "_view_module_version": "1.2.0",
            "_view_name": "StyleView",
            "bar_color": null,
            "description_width": ""
          }
        },
        "abe03a518fea434696c894d525fd06fd": {
          "model_module": "@jupyter-widgets/base",
          "model_name": "LayoutModel",
          "model_module_version": "1.2.0",
          "state": {
            "_model_module": "@jupyter-widgets/base",
            "_model_module_version": "1.2.0",
            "_model_name": "LayoutModel",
            "_view_count": null,
            "_view_module": "@jupyter-widgets/base",
            "_view_module_version": "1.2.0",
            "_view_name": "LayoutView",
            "align_content": null,
            "align_items": null,
            "align_self": null,
            "border": null,
            "bottom": null,
            "display": null,
            "flex": null,
            "flex_flow": null,
            "grid_area": null,
            "grid_auto_columns": null,
            "grid_auto_flow": null,
            "grid_auto_rows": null,
            "grid_column": null,
            "grid_gap": null,
            "grid_row": null,
            "grid_template_areas": null,
            "grid_template_columns": null,
            "grid_template_rows": null,
            "height": null,
            "justify_content": null,
            "justify_items": null,
            "left": null,
            "margin": null,
            "max_height": null,
            "max_width": null,
            "min_height": null,
            "min_width": null,
            "object_fit": null,
            "object_position": null,
            "order": null,
            "overflow": null,
            "overflow_x": null,
            "overflow_y": null,
            "padding": null,
            "right": null,
            "top": null,
            "visibility": null,
            "width": null
          }
        },
        "d894fc59e38c4fb0ba625130cbc6ae9e": {
          "model_module": "@jupyter-widgets/controls",
          "model_name": "DescriptionStyleModel",
          "model_module_version": "1.5.0",
          "state": {
            "_model_module": "@jupyter-widgets/controls",
            "_model_module_version": "1.5.0",
            "_model_name": "DescriptionStyleModel",
            "_view_count": null,
            "_view_module": "@jupyter-widgets/base",
            "_view_module_version": "1.2.0",
            "_view_name": "StyleView",
            "description_width": ""
          }
        },
        "16f2c47218c542e1a36429cc04612e32": {
          "model_module": "@jupyter-widgets/controls",
          "model_name": "LabelModel",
          "model_module_version": "1.5.0",
          "state": {
            "_dom_classes": [],
            "_model_module": "@jupyter-widgets/controls",
            "_model_module_version": "1.5.0",
            "_model_name": "LabelModel",
            "_view_count": null,
            "_view_module": "@jupyter-widgets/controls",
            "_view_module_version": "1.5.0",
            "_view_name": "LabelView",
            "description": "",
            "description_tooltip": null,
            "layout": "IPY_MODEL_abe03a518fea434696c894d525fd06fd",
            "placeholder": "​",
            "style": "IPY_MODEL_d894fc59e38c4fb0ba625130cbc6ae9e",
            "value": ""
          }
        },
        "59e75f57f92749a986f81f245dd5b6cf": {
          "model_module": "@jupyter-widgets/controls",
          "model_name": "FloatProgressModel",
          "model_module_version": "1.5.0",
          "state": {
            "_dom_classes": [],
            "_model_module": "@jupyter-widgets/controls",
            "_model_module_version": "1.5.0",
            "_model_name": "FloatProgressModel",
            "_view_count": null,
            "_view_module": "@jupyter-widgets/controls",
            "_view_module_version": "1.5.0",
            "_view_name": "ProgressView",
            "bar_style": "",
            "description": "",
            "description_tooltip": null,
            "layout": "IPY_MODEL_e4d818315f3744a897edc9579fe5de0d",
            "max": 1,
            "min": 0,
            "orientation": "horizontal",
            "style": "IPY_MODEL_ce77ed890fce490db9acee909e8a3d0a",
            "value": 0
          }
        },
        "f46b5fab2dad424c8838e6fad4cda33b": {
          "model_module": "@jupyter-widgets/base",
          "model_name": "LayoutModel",
          "model_module_version": "1.2.0",
          "state": {
            "_model_module": "@jupyter-widgets/base",
            "_model_module_version": "1.2.0",
            "_model_name": "LayoutModel",
            "_view_count": null,
            "_view_module": "@jupyter-widgets/base",
            "_view_module_version": "1.2.0",
            "_view_name": "LayoutView",
            "align_content": null,
            "align_items": null,
            "align_self": null,
            "border": null,
            "bottom": null,
            "display": null,
            "flex": null,
            "flex_flow": null,
            "grid_area": null,
            "grid_auto_columns": null,
            "grid_auto_flow": null,
            "grid_auto_rows": null,
            "grid_column": null,
            "grid_gap": null,
            "grid_row": null,
            "grid_template_areas": null,
            "grid_template_columns": null,
            "grid_template_rows": null,
            "height": null,
            "justify_content": null,
            "justify_items": null,
            "left": null,
            "margin": null,
            "max_height": null,
            "max_width": null,
            "min_height": null,
            "min_width": null,
            "object_fit": null,
            "object_position": null,
            "order": null,
            "overflow": null,
            "overflow_x": null,
            "overflow_y": null,
            "padding": null,
            "right": null,
            "top": null,
            "visibility": null,
            "width": null
          }
        }
      }
    }
  },
  "nbformat": 4,
  "nbformat_minor": 0
}