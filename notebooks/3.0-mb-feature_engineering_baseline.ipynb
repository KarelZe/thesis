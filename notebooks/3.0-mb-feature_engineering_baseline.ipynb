{
  "cells": [
    {
      "cell_type": "markdown",
      "metadata": {
        "id": "view-in-github",
        "colab_type": "text"
      },
      "source": [
        "<a href=\"https://colab.research.google.com/github/KarelZe/thesis/blob/baseline/notebooks/3.0-mb-feature_engineering_baseline.ipynb\" target=\"_parent\"><img src=\"https://colab.research.google.com/assets/colab-badge.svg\" alt=\"Open In Colab\"/></a>"
      ]
    },
    {
      "cell_type": "code",
      "source": [
        "!pip install catboost==1.1\n",
        "!pip install gcsfs==2022.10.0\n",
        "!pip install numpy==1.23.4\n",
        "!pip install pandas==1.5.1\n",
        "!pip install scikit-learn==1.1.3\n",
        "!pip install seaborn==0.12.1\n",
        "!pip install wandb==0.13.4"
      ],
      "metadata": {
        "colab": {
          "base_uri": "https://localhost:8080/"
        },
        "id": "LQwYMQAr-0vu",
        "outputId": "af1b4bc8-aed6-4fc7-91c0-f371e10d29c9"
      },
      "execution_count": 1,
      "outputs": [
        {
          "output_type": "stream",
          "name": "stdout",
          "text": [
            "Looking in indexes: https://pypi.org/simple, https://us-python.pkg.dev/colab-wheels/public/simple/\n",
            "Requirement already satisfied: catboost==1.1 in /usr/local/lib/python3.7/dist-packages (1.1)\n",
            "Requirement already satisfied: six in /usr/local/lib/python3.7/dist-packages (from catboost==1.1) (1.15.0)\n",
            "Requirement already satisfied: scipy in /usr/local/lib/python3.7/dist-packages (from catboost==1.1) (1.7.3)\n",
            "Requirement already satisfied: matplotlib in /usr/local/lib/python3.7/dist-packages (from catboost==1.1) (3.2.2)\n",
            "Requirement already satisfied: numpy>=1.16.0 in /usr/local/lib/python3.7/dist-packages (from catboost==1.1) (1.21.6)\n",
            "Requirement already satisfied: graphviz in /usr/local/lib/python3.7/dist-packages (from catboost==1.1) (0.10.1)\n",
            "Requirement already satisfied: plotly in /usr/local/lib/python3.7/dist-packages (from catboost==1.1) (5.5.0)\n",
            "Requirement already satisfied: pandas>=0.24.0 in /usr/local/lib/python3.7/dist-packages (from catboost==1.1) (1.3.5)\n",
            "Requirement already satisfied: python-dateutil>=2.7.3 in /usr/local/lib/python3.7/dist-packages (from pandas>=0.24.0->catboost==1.1) (2.8.2)\n",
            "Requirement already satisfied: pytz>=2017.3 in /usr/local/lib/python3.7/dist-packages (from pandas>=0.24.0->catboost==1.1) (2022.5)\n",
            "Requirement already satisfied: pyparsing!=2.0.4,!=2.1.2,!=2.1.6,>=2.0.1 in /usr/local/lib/python3.7/dist-packages (from matplotlib->catboost==1.1) (3.0.9)\n",
            "Requirement already satisfied: cycler>=0.10 in /usr/local/lib/python3.7/dist-packages (from matplotlib->catboost==1.1) (0.11.0)\n",
            "Requirement already satisfied: kiwisolver>=1.0.1 in /usr/local/lib/python3.7/dist-packages (from matplotlib->catboost==1.1) (1.4.4)\n",
            "Requirement already satisfied: typing-extensions in /usr/local/lib/python3.7/dist-packages (from kiwisolver>=1.0.1->matplotlib->catboost==1.1) (4.1.1)\n",
            "Requirement already satisfied: tenacity>=6.2.0 in /usr/local/lib/python3.7/dist-packages (from plotly->catboost==1.1) (8.1.0)\n",
            "Looking in indexes: https://pypi.org/simple, https://us-python.pkg.dev/colab-wheels/public/simple/\n",
            "Requirement already satisfied: gcsfs==2022.10.0 in /usr/local/lib/python3.7/dist-packages (2022.10.0)\n",
            "Requirement already satisfied: google-auth-oauthlib in /usr/local/lib/python3.7/dist-packages (from gcsfs==2022.10.0) (0.4.6)\n",
            "Requirement already satisfied: decorator>4.1.2 in /usr/local/lib/python3.7/dist-packages (from gcsfs==2022.10.0) (4.4.2)\n",
            "Requirement already satisfied: fsspec==2022.10.0 in /usr/local/lib/python3.7/dist-packages (from gcsfs==2022.10.0) (2022.10.0)\n",
            "Requirement already satisfied: aiohttp!=4.0.0a0,!=4.0.0a1 in /usr/local/lib/python3.7/dist-packages (from gcsfs==2022.10.0) (3.8.3)\n",
            "Requirement already satisfied: requests in /usr/local/lib/python3.7/dist-packages (from gcsfs==2022.10.0) (2.23.0)\n",
            "Requirement already satisfied: google-auth>=1.2 in /usr/local/lib/python3.7/dist-packages (from gcsfs==2022.10.0) (1.35.0)\n",
            "Requirement already satisfied: google-cloud-storage in /usr/local/lib/python3.7/dist-packages (from gcsfs==2022.10.0) (1.18.1)\n",
            "Requirement already satisfied: asynctest==0.13.0 in /usr/local/lib/python3.7/dist-packages (from aiohttp!=4.0.0a0,!=4.0.0a1->gcsfs==2022.10.0) (0.13.0)\n",
            "Requirement already satisfied: yarl<2.0,>=1.0 in /usr/local/lib/python3.7/dist-packages (from aiohttp!=4.0.0a0,!=4.0.0a1->gcsfs==2022.10.0) (1.8.1)\n",
            "Requirement already satisfied: attrs>=17.3.0 in /usr/local/lib/python3.7/dist-packages (from aiohttp!=4.0.0a0,!=4.0.0a1->gcsfs==2022.10.0) (22.1.0)\n",
            "Requirement already satisfied: typing-extensions>=3.7.4 in /usr/local/lib/python3.7/dist-packages (from aiohttp!=4.0.0a0,!=4.0.0a1->gcsfs==2022.10.0) (4.1.1)\n",
            "Requirement already satisfied: frozenlist>=1.1.1 in /usr/local/lib/python3.7/dist-packages (from aiohttp!=4.0.0a0,!=4.0.0a1->gcsfs==2022.10.0) (1.3.1)\n",
            "Requirement already satisfied: aiosignal>=1.1.2 in /usr/local/lib/python3.7/dist-packages (from aiohttp!=4.0.0a0,!=4.0.0a1->gcsfs==2022.10.0) (1.2.0)\n",
            "Requirement already satisfied: multidict<7.0,>=4.5 in /usr/local/lib/python3.7/dist-packages (from aiohttp!=4.0.0a0,!=4.0.0a1->gcsfs==2022.10.0) (6.0.2)\n",
            "Requirement already satisfied: charset-normalizer<3.0,>=2.0 in /usr/local/lib/python3.7/dist-packages (from aiohttp!=4.0.0a0,!=4.0.0a1->gcsfs==2022.10.0) (2.1.1)\n",
            "Requirement already satisfied: async-timeout<5.0,>=4.0.0a3 in /usr/local/lib/python3.7/dist-packages (from aiohttp!=4.0.0a0,!=4.0.0a1->gcsfs==2022.10.0) (4.0.2)\n",
            "Requirement already satisfied: setuptools>=40.3.0 in /usr/local/lib/python3.7/dist-packages (from google-auth>=1.2->gcsfs==2022.10.0) (57.4.0)\n",
            "Requirement already satisfied: rsa<5,>=3.1.4 in /usr/local/lib/python3.7/dist-packages (from google-auth>=1.2->gcsfs==2022.10.0) (4.9)\n",
            "Requirement already satisfied: pyasn1-modules>=0.2.1 in /usr/local/lib/python3.7/dist-packages (from google-auth>=1.2->gcsfs==2022.10.0) (0.2.8)\n",
            "Requirement already satisfied: cachetools<5.0,>=2.0.0 in /usr/local/lib/python3.7/dist-packages (from google-auth>=1.2->gcsfs==2022.10.0) (4.2.4)\n",
            "Requirement already satisfied: six>=1.9.0 in /usr/local/lib/python3.7/dist-packages (from google-auth>=1.2->gcsfs==2022.10.0) (1.15.0)\n",
            "Requirement already satisfied: pyasn1<0.5.0,>=0.4.6 in /usr/local/lib/python3.7/dist-packages (from pyasn1-modules>=0.2.1->google-auth>=1.2->gcsfs==2022.10.0) (0.4.8)\n",
            "Requirement already satisfied: idna>=2.0 in /usr/local/lib/python3.7/dist-packages (from yarl<2.0,>=1.0->aiohttp!=4.0.0a0,!=4.0.0a1->gcsfs==2022.10.0) (2.10)\n",
            "Requirement already satisfied: requests-oauthlib>=0.7.0 in /usr/local/lib/python3.7/dist-packages (from google-auth-oauthlib->gcsfs==2022.10.0) (1.3.1)\n",
            "Requirement already satisfied: oauthlib>=3.0.0 in /usr/local/lib/python3.7/dist-packages (from requests-oauthlib>=0.7.0->google-auth-oauthlib->gcsfs==2022.10.0) (3.2.2)\n",
            "Requirement already satisfied: chardet<4,>=3.0.2 in /usr/local/lib/python3.7/dist-packages (from requests->gcsfs==2022.10.0) (3.0.4)\n",
            "Requirement already satisfied: urllib3!=1.25.0,!=1.25.1,<1.26,>=1.21.1 in /usr/local/lib/python3.7/dist-packages (from requests->gcsfs==2022.10.0) (1.24.3)\n",
            "Requirement already satisfied: certifi>=2017.4.17 in /usr/local/lib/python3.7/dist-packages (from requests->gcsfs==2022.10.0) (2022.9.24)\n",
            "Requirement already satisfied: google-resumable-media<0.5.0dev,>=0.3.1 in /usr/local/lib/python3.7/dist-packages (from google-cloud-storage->gcsfs==2022.10.0) (0.4.1)\n",
            "Requirement already satisfied: google-cloud-core<2.0dev,>=1.0.0 in /usr/local/lib/python3.7/dist-packages (from google-cloud-storage->gcsfs==2022.10.0) (1.0.3)\n",
            "Requirement already satisfied: google-api-core<2.0.0dev,>=1.14.0 in /usr/local/lib/python3.7/dist-packages (from google-cloud-core<2.0dev,>=1.0.0->google-cloud-storage->gcsfs==2022.10.0) (1.31.6)\n",
            "Requirement already satisfied: packaging>=14.3 in /usr/local/lib/python3.7/dist-packages (from google-api-core<2.0.0dev,>=1.14.0->google-cloud-core<2.0dev,>=1.0.0->google-cloud-storage->gcsfs==2022.10.0) (21.3)\n",
            "Requirement already satisfied: pytz in /usr/local/lib/python3.7/dist-packages (from google-api-core<2.0.0dev,>=1.14.0->google-cloud-core<2.0dev,>=1.0.0->google-cloud-storage->gcsfs==2022.10.0) (2022.5)\n",
            "Requirement already satisfied: protobuf<4.0.0dev,>=3.12.0 in /usr/local/lib/python3.7/dist-packages (from google-api-core<2.0.0dev,>=1.14.0->google-cloud-core<2.0dev,>=1.0.0->google-cloud-storage->gcsfs==2022.10.0) (3.17.3)\n",
            "Requirement already satisfied: googleapis-common-protos<2.0dev,>=1.6.0 in /usr/local/lib/python3.7/dist-packages (from google-api-core<2.0.0dev,>=1.14.0->google-cloud-core<2.0dev,>=1.0.0->google-cloud-storage->gcsfs==2022.10.0) (1.56.4)\n",
            "Requirement already satisfied: pyparsing!=3.0.5,>=2.0.2 in /usr/local/lib/python3.7/dist-packages (from packaging>=14.3->google-api-core<2.0.0dev,>=1.14.0->google-cloud-core<2.0dev,>=1.0.0->google-cloud-storage->gcsfs==2022.10.0) (3.0.9)\n",
            "Looking in indexes: https://pypi.org/simple, https://us-python.pkg.dev/colab-wheels/public/simple/\n",
            "Requirement already satisfied: wandb==0.13.4 in /usr/local/lib/python3.7/dist-packages (0.13.4)\n",
            "Requirement already satisfied: requests<3,>=2.0.0 in /usr/local/lib/python3.7/dist-packages (from wandb==0.13.4) (2.23.0)\n",
            "Requirement already satisfied: pathtools in /usr/local/lib/python3.7/dist-packages (from wandb==0.13.4) (0.1.2)\n",
            "Requirement already satisfied: GitPython>=1.0.0 in /usr/local/lib/python3.7/dist-packages (from wandb==0.13.4) (3.1.29)\n",
            "Requirement already satisfied: psutil>=5.0.0 in /usr/local/lib/python3.7/dist-packages (from wandb==0.13.4) (5.4.8)\n",
            "Requirement already satisfied: setuptools in /usr/local/lib/python3.7/dist-packages (from wandb==0.13.4) (57.4.0)\n",
            "Requirement already satisfied: shortuuid>=0.5.0 in /usr/local/lib/python3.7/dist-packages (from wandb==0.13.4) (1.0.9)\n",
            "Requirement already satisfied: six>=1.13.0 in /usr/local/lib/python3.7/dist-packages (from wandb==0.13.4) (1.15.0)\n",
            "Requirement already satisfied: protobuf!=4.0.*,!=4.21.0,<5,>=3.12.0 in /usr/local/lib/python3.7/dist-packages (from wandb==0.13.4) (3.17.3)\n",
            "Requirement already satisfied: docker-pycreds>=0.4.0 in /usr/local/lib/python3.7/dist-packages (from wandb==0.13.4) (0.4.0)\n",
            "Requirement already satisfied: setproctitle in /usr/local/lib/python3.7/dist-packages (from wandb==0.13.4) (1.3.2)\n",
            "Requirement already satisfied: Click!=8.0.0,>=7.0 in /usr/local/lib/python3.7/dist-packages (from wandb==0.13.4) (7.1.2)\n",
            "Requirement already satisfied: promise<3,>=2.0 in /usr/local/lib/python3.7/dist-packages (from wandb==0.13.4) (2.3)\n",
            "Requirement already satisfied: sentry-sdk>=1.0.0 in /usr/local/lib/python3.7/dist-packages (from wandb==0.13.4) (1.9.0)\n",
            "Requirement already satisfied: PyYAML in /usr/local/lib/python3.7/dist-packages (from wandb==0.13.4) (6.0)\n",
            "Requirement already satisfied: gitdb<5,>=4.0.1 in /usr/local/lib/python3.7/dist-packages (from GitPython>=1.0.0->wandb==0.13.4) (4.0.9)\n",
            "Requirement already satisfied: typing-extensions>=3.7.4.3 in /usr/local/lib/python3.7/dist-packages (from GitPython>=1.0.0->wandb==0.13.4) (4.1.1)\n",
            "Requirement already satisfied: smmap<6,>=3.0.1 in /usr/local/lib/python3.7/dist-packages (from gitdb<5,>=4.0.1->GitPython>=1.0.0->wandb==0.13.4) (5.0.0)\n",
            "Requirement already satisfied: chardet<4,>=3.0.2 in /usr/local/lib/python3.7/dist-packages (from requests<3,>=2.0.0->wandb==0.13.4) (3.0.4)\n",
            "Requirement already satisfied: certifi>=2017.4.17 in /usr/local/lib/python3.7/dist-packages (from requests<3,>=2.0.0->wandb==0.13.4) (2022.9.24)\n",
            "Requirement already satisfied: urllib3!=1.25.0,!=1.25.1,<1.26,>=1.21.1 in /usr/local/lib/python3.7/dist-packages (from requests<3,>=2.0.0->wandb==0.13.4) (1.24.3)\n",
            "Requirement already satisfied: idna<3,>=2.5 in /usr/local/lib/python3.7/dist-packages (from requests<3,>=2.0.0->wandb==0.13.4) (2.10)\n",
            "Looking in indexes: https://pypi.org/simple, https://us-python.pkg.dev/colab-wheels/public/simple/\n",
            "\u001b[31mERROR: Could not find a version that satisfies the requirement scikit-learn==1.1.3 (from versions: 0.9, 0.10, 0.11, 0.12, 0.12.1, 0.13, 0.13.1, 0.14, 0.14.1, 0.15.0b1, 0.15.0b2, 0.15.0, 0.15.1, 0.15.2, 0.16b1, 0.16.0, 0.16.1, 0.17b1, 0.17, 0.17.1, 0.18, 0.18.1, 0.18.2, 0.19b2, 0.19.0, 0.19.1, 0.19.2, 0.20rc1, 0.20.0, 0.20.1, 0.20.2, 0.20.3, 0.20.4, 0.21rc2, 0.21.0, 0.21.1, 0.21.2, 0.21.3, 0.22rc2.post1, 0.22rc3, 0.22, 0.22.1, 0.22.2, 0.22.2.post1, 0.23.0rc1, 0.23.0, 0.23.1, 0.23.2, 0.24.dev0, 0.24.0rc1, 0.24.0, 0.24.1, 0.24.2, 1.0rc1, 1.0rc2, 1.0, 1.0.1, 1.0.2)\u001b[0m\n",
            "\u001b[31mERROR: No matching distribution found for scikit-learn==1.1.3\u001b[0m\n",
            "Looking in indexes: https://pypi.org/simple, https://us-python.pkg.dev/colab-wheels/public/simple/\n",
            "Collecting seaborn==0.12.1\n",
            "  Downloading seaborn-0.12.1-py3-none-any.whl (288 kB)\n",
            "\u001b[K     |████████████████████████████████| 288 kB 5.1 MB/s \n",
            "\u001b[?25hRequirement already satisfied: matplotlib!=3.6.1,>=3.1 in /usr/local/lib/python3.7/dist-packages (from seaborn==0.12.1) (3.2.2)\n",
            "Requirement already satisfied: typing_extensions in /usr/local/lib/python3.7/dist-packages (from seaborn==0.12.1) (4.1.1)\n",
            "Requirement already satisfied: pandas>=0.25 in /usr/local/lib/python3.7/dist-packages (from seaborn==0.12.1) (1.3.5)\n",
            "Requirement already satisfied: numpy>=1.17 in /usr/local/lib/python3.7/dist-packages (from seaborn==0.12.1) (1.21.6)\n",
            "Requirement already satisfied: kiwisolver>=1.0.1 in /usr/local/lib/python3.7/dist-packages (from matplotlib!=3.6.1,>=3.1->seaborn==0.12.1) (1.4.4)\n",
            "Requirement already satisfied: pyparsing!=2.0.4,!=2.1.2,!=2.1.6,>=2.0.1 in /usr/local/lib/python3.7/dist-packages (from matplotlib!=3.6.1,>=3.1->seaborn==0.12.1) (3.0.9)\n",
            "Requirement already satisfied: cycler>=0.10 in /usr/local/lib/python3.7/dist-packages (from matplotlib!=3.6.1,>=3.1->seaborn==0.12.1) (0.11.0)\n",
            "Requirement already satisfied: python-dateutil>=2.1 in /usr/local/lib/python3.7/dist-packages (from matplotlib!=3.6.1,>=3.1->seaborn==0.12.1) (2.8.2)\n",
            "Requirement already satisfied: pytz>=2017.3 in /usr/local/lib/python3.7/dist-packages (from pandas>=0.25->seaborn==0.12.1) (2022.5)\n",
            "Requirement already satisfied: six>=1.5 in /usr/local/lib/python3.7/dist-packages (from python-dateutil>=2.1->matplotlib!=3.6.1,>=3.1->seaborn==0.12.1) (1.15.0)\n",
            "Installing collected packages: seaborn\n",
            "  Attempting uninstall: seaborn\n",
            "    Found existing installation: seaborn 0.11.2\n",
            "    Uninstalling seaborn-0.11.2:\n",
            "      Successfully uninstalled seaborn-0.11.2\n",
            "Successfully installed seaborn-0.12.1\n"
          ]
        }
      ]
    },
    {
      "cell_type": "code",
      "source": [
        "import os\n",
        "import random\n",
        "\n",
        "import gcsfs\n",
        "import google.auth\n",
        "from google.colab import auth\n",
        "\n",
        "import numpy as np\n",
        "import pandas as pd\n",
        "\n",
        "import seaborn as sns\n",
        "\n",
        "from tqdm.notebook import tqdm\n",
        "import wandb"
      ],
      "metadata": {
        "id": "7WXF7w4VyVgG"
      },
      "execution_count": 2,
      "outputs": []
    },
    {
      "cell_type": "code",
      "execution_count": 3,
      "metadata": {
        "id": "tOtLR4B0R-ql",
        "colab": {
          "base_uri": "https://localhost:8080/",
          "height": 86
        },
        "outputId": "e40fecef-6ef3-420d-84a3-a5f8d629dbfc"
      },
      "outputs": [
        {
          "output_type": "stream",
          "name": "stderr",
          "text": [
            "\u001b[34m\u001b[1mwandb\u001b[0m: Currently logged in as: \u001b[33mkarelze\u001b[0m (\u001b[33mfbv\u001b[0m). Use \u001b[1m`wandb login --relogin`\u001b[0m to force relogin\n"
          ]
        },
        {
          "output_type": "display_data",
          "data": {
            "text/plain": [
              "<IPython.core.display.HTML object>"
            ],
            "text/html": [
              "Tracking run with wandb version 0.13.4"
            ]
          },
          "metadata": {}
        },
        {
          "output_type": "display_data",
          "data": {
            "text/plain": [
              "<IPython.core.display.HTML object>"
            ],
            "text/html": [
              "Run data is saved locally in <code>/content/wandb/run-20221031_161605-x3dy595v</code>"
            ]
          },
          "metadata": {}
        },
        {
          "output_type": "display_data",
          "data": {
            "text/plain": [
              "<IPython.core.display.HTML object>"
            ],
            "text/html": [
              "Syncing run <strong><a href=\"https://wandb.ai/fbv/thesis/runs/x3dy595v\" target=\"_blank\">paranormal-candy-19</a></strong> to <a href=\"https://wandb.ai/fbv/thesis\" target=\"_blank\">Weights & Biases</a> (<a href=\"https://wandb.me/run\" target=\"_blank\">docs</a>)<br/>"
            ]
          },
          "metadata": {}
        }
      ],
      "source": [
        "# connect to weights and biases\n",
        "run = wandb.init(project=\"thesis\", job_type=\"dataset-creation\", entity=\"fbv\")\n",
        "dataset = wandb.Artifact(name='train_val_test', type=\"preprocessed_data\")"
      ]
    },
    {
      "cell_type": "code",
      "source": [
        "# connect to google cloud storage\n",
        "auth.authenticate_user()\n",
        "credentials, _ = google.auth.default()\n",
        "fs = gcsfs.GCSFileSystem(project=\"thesis\", token=credentials)\n",
        "fs_prefix = \"gs://\""
      ],
      "metadata": {
        "id": "A-eGOVujp_TN"
      },
      "execution_count": 4,
      "outputs": []
    },
    {
      "cell_type": "code",
      "source": [
        "# set fixed seed\n",
        "def seed_everything(seed): \n",
        "  \"\"\" \n",
        "  Seeds basic parameters for reproducibility of results \n",
        "  \"\"\" \n",
        "  os.environ[\"PYTHONHASHSEED\"] = str(seed) \n",
        "  random.seed(seed)\n",
        "\n",
        "seed = 42\n",
        "seed_everything(seed)"
      ],
      "metadata": {
        "id": "EF0_Mz8DYjGz"
      },
      "execution_count": 5,
      "outputs": []
    },
    {
      "cell_type": "code",
      "source": [
        "train = pd.read_parquet(f\"gs://thesis-bucket-option-trade-classification/data/preprocessed/train_set_60.parquet\")"
      ],
      "metadata": {
        "id": "WmXtH-PEqyQE"
      },
      "execution_count": 6,
      "outputs": []
    },
    {
      "cell_type": "code",
      "source": [
        "train.head(10)"
      ],
      "metadata": {
        "colab": {
          "base_uri": "https://localhost:8080/",
          "height": 630
        },
        "id": "MYosl7qJwYFS",
        "outputId": "fc7d43c4-3f4f-4443-b5e4-e494bc367cce"
      },
      "execution_count": 7,
      "outputs": [
        {
          "output_type": "execute_result",
          "data": {
            "text/plain": [
              "  UNDERLYING_SYMBOL      QUOTE_DATETIME  SEQUENCE_NUMBER ROOT EXPIRATION  \\\n",
              "0              BRCD 2005-05-02 09:30:02            72515  YNU 2006-01-21   \n",
              "1              SYMC 2005-05-02 09:30:03            65366  SYQ 2005-06-18   \n",
              "2               SPY 2005-05-02 09:30:03            65373  SWG 2005-05-21   \n",
              "3              ADRX 2005-05-02 09:30:03            79195  QAX 2005-06-18   \n",
              "4              ORCL 2005-05-02 09:30:03            95870  ORQ 2005-12-17   \n",
              "5              YHOO 2005-05-02 09:30:03            73595  YHQ 2005-10-22   \n",
              "6              MATK 2005-05-02 09:30:03            80182  KQT 2005-09-17   \n",
              "7              VTSS 2005-05-02 09:30:04            80469  VQT 2005-10-22   \n",
              "8              ADRX 2005-05-02 09:30:04            80342  QAX 2005-09-17   \n",
              "9              IVGN 2005-05-02 09:30:04            97063  IUV 2005-08-20   \n",
              "\n",
              "   STRK_PRC OPTION_TYPE  TRADE_SIZE  TRADE_PRICE  BEST_BID  ...  bid_ex  \\\n",
              "0       2.5           C          10         2.05      1.90  ...    1.90   \n",
              "1      15.0           C          10         3.90      3.60  ...     NaN   \n",
              "2     105.0           C          50        11.20     11.10  ...   11.10   \n",
              "3      25.0           C          10         0.20      0.00  ...    0.00   \n",
              "4      14.0           C          15         0.25      0.30  ...    0.25   \n",
              "5      35.0           P          26         3.00      2.95  ...    2.90   \n",
              "6      65.0           C           2         0.55      0.30  ...    0.30   \n",
              "7       5.0           P          10         2.75      2.70  ...    2.70   \n",
              "8      25.0           C           1         0.60      0.45  ...    0.45   \n",
              "9      65.0           C          10        11.00      0.00  ...     NaN   \n",
              "\n",
              "   bid_size_ex  ask_size_ex  price_all_lead  price_all_lag    optionid  \\\n",
              "0        131.0         20.0            1.90           1.90  21060388.0   \n",
              "1          NaN          NaN            4.00           4.00  31624184.0   \n",
              "2        300.0        300.0           11.80          11.00  31620976.0   \n",
              "3          0.0         86.0            0.15           0.15  31560072.0   \n",
              "4       3356.0        399.0            0.35           0.35  25240212.0   \n",
              "5       1133.0        256.0            3.10           3.40  24020608.0   \n",
              "6         56.0         10.0            0.45           0.45  23989792.0   \n",
              "7         10.0         52.0            2.90           2.90  24019950.0   \n",
              "8         94.0         25.0            0.55           0.50  23983374.0   \n",
              "9          NaN          NaN           13.80           9.90  23797976.0   \n",
              "\n",
              "   day_vol  price_ex_lead  price_ex_lag  buy_sell  \n",
              "0     10.0           1.90          2.10         1  \n",
              "1     10.0           4.60          4.00         1  \n",
              "2     50.0          11.90         11.00        -1  \n",
              "3     10.0           0.15          0.15         1  \n",
              "4     17.0           0.35          0.35        -1  \n",
              "5     46.0           3.10          3.40        -1  \n",
              "6      2.0           0.65          0.45         1  \n",
              "7     40.0           2.90          2.90        -1  \n",
              "8     11.0           0.65          0.50         1  \n",
              "9     10.0          13.80          9.90         1  \n",
              "\n",
              "[10 rows x 23 columns]"
            ],
            "text/html": [
              "\n",
              "  <div id=\"df-e5802d68-ae49-4028-88e0-b1321a543512\">\n",
              "    <div class=\"colab-df-container\">\n",
              "      <div>\n",
              "<style scoped>\n",
              "    .dataframe tbody tr th:only-of-type {\n",
              "        vertical-align: middle;\n",
              "    }\n",
              "\n",
              "    .dataframe tbody tr th {\n",
              "        vertical-align: top;\n",
              "    }\n",
              "\n",
              "    .dataframe thead th {\n",
              "        text-align: right;\n",
              "    }\n",
              "</style>\n",
              "<table border=\"1\" class=\"dataframe\">\n",
              "  <thead>\n",
              "    <tr style=\"text-align: right;\">\n",
              "      <th></th>\n",
              "      <th>UNDERLYING_SYMBOL</th>\n",
              "      <th>QUOTE_DATETIME</th>\n",
              "      <th>SEQUENCE_NUMBER</th>\n",
              "      <th>ROOT</th>\n",
              "      <th>EXPIRATION</th>\n",
              "      <th>STRK_PRC</th>\n",
              "      <th>OPTION_TYPE</th>\n",
              "      <th>TRADE_SIZE</th>\n",
              "      <th>TRADE_PRICE</th>\n",
              "      <th>BEST_BID</th>\n",
              "      <th>...</th>\n",
              "      <th>bid_ex</th>\n",
              "      <th>bid_size_ex</th>\n",
              "      <th>ask_size_ex</th>\n",
              "      <th>price_all_lead</th>\n",
              "      <th>price_all_lag</th>\n",
              "      <th>optionid</th>\n",
              "      <th>day_vol</th>\n",
              "      <th>price_ex_lead</th>\n",
              "      <th>price_ex_lag</th>\n",
              "      <th>buy_sell</th>\n",
              "    </tr>\n",
              "  </thead>\n",
              "  <tbody>\n",
              "    <tr>\n",
              "      <th>0</th>\n",
              "      <td>BRCD</td>\n",
              "      <td>2005-05-02 09:30:02</td>\n",
              "      <td>72515</td>\n",
              "      <td>YNU</td>\n",
              "      <td>2006-01-21</td>\n",
              "      <td>2.5</td>\n",
              "      <td>C</td>\n",
              "      <td>10</td>\n",
              "      <td>2.05</td>\n",
              "      <td>1.90</td>\n",
              "      <td>...</td>\n",
              "      <td>1.90</td>\n",
              "      <td>131.0</td>\n",
              "      <td>20.0</td>\n",
              "      <td>1.90</td>\n",
              "      <td>1.90</td>\n",
              "      <td>21060388.0</td>\n",
              "      <td>10.0</td>\n",
              "      <td>1.90</td>\n",
              "      <td>2.10</td>\n",
              "      <td>1</td>\n",
              "    </tr>\n",
              "    <tr>\n",
              "      <th>1</th>\n",
              "      <td>SYMC</td>\n",
              "      <td>2005-05-02 09:30:03</td>\n",
              "      <td>65366</td>\n",
              "      <td>SYQ</td>\n",
              "      <td>2005-06-18</td>\n",
              "      <td>15.0</td>\n",
              "      <td>C</td>\n",
              "      <td>10</td>\n",
              "      <td>3.90</td>\n",
              "      <td>3.60</td>\n",
              "      <td>...</td>\n",
              "      <td>NaN</td>\n",
              "      <td>NaN</td>\n",
              "      <td>NaN</td>\n",
              "      <td>4.00</td>\n",
              "      <td>4.00</td>\n",
              "      <td>31624184.0</td>\n",
              "      <td>10.0</td>\n",
              "      <td>4.60</td>\n",
              "      <td>4.00</td>\n",
              "      <td>1</td>\n",
              "    </tr>\n",
              "    <tr>\n",
              "      <th>2</th>\n",
              "      <td>SPY</td>\n",
              "      <td>2005-05-02 09:30:03</td>\n",
              "      <td>65373</td>\n",
              "      <td>SWG</td>\n",
              "      <td>2005-05-21</td>\n",
              "      <td>105.0</td>\n",
              "      <td>C</td>\n",
              "      <td>50</td>\n",
              "      <td>11.20</td>\n",
              "      <td>11.10</td>\n",
              "      <td>...</td>\n",
              "      <td>11.10</td>\n",
              "      <td>300.0</td>\n",
              "      <td>300.0</td>\n",
              "      <td>11.80</td>\n",
              "      <td>11.00</td>\n",
              "      <td>31620976.0</td>\n",
              "      <td>50.0</td>\n",
              "      <td>11.90</td>\n",
              "      <td>11.00</td>\n",
              "      <td>-1</td>\n",
              "    </tr>\n",
              "    <tr>\n",
              "      <th>3</th>\n",
              "      <td>ADRX</td>\n",
              "      <td>2005-05-02 09:30:03</td>\n",
              "      <td>79195</td>\n",
              "      <td>QAX</td>\n",
              "      <td>2005-06-18</td>\n",
              "      <td>25.0</td>\n",
              "      <td>C</td>\n",
              "      <td>10</td>\n",
              "      <td>0.20</td>\n",
              "      <td>0.00</td>\n",
              "      <td>...</td>\n",
              "      <td>0.00</td>\n",
              "      <td>0.0</td>\n",
              "      <td>86.0</td>\n",
              "      <td>0.15</td>\n",
              "      <td>0.15</td>\n",
              "      <td>31560072.0</td>\n",
              "      <td>10.0</td>\n",
              "      <td>0.15</td>\n",
              "      <td>0.15</td>\n",
              "      <td>1</td>\n",
              "    </tr>\n",
              "    <tr>\n",
              "      <th>4</th>\n",
              "      <td>ORCL</td>\n",
              "      <td>2005-05-02 09:30:03</td>\n",
              "      <td>95870</td>\n",
              "      <td>ORQ</td>\n",
              "      <td>2005-12-17</td>\n",
              "      <td>14.0</td>\n",
              "      <td>C</td>\n",
              "      <td>15</td>\n",
              "      <td>0.25</td>\n",
              "      <td>0.30</td>\n",
              "      <td>...</td>\n",
              "      <td>0.25</td>\n",
              "      <td>3356.0</td>\n",
              "      <td>399.0</td>\n",
              "      <td>0.35</td>\n",
              "      <td>0.35</td>\n",
              "      <td>25240212.0</td>\n",
              "      <td>17.0</td>\n",
              "      <td>0.35</td>\n",
              "      <td>0.35</td>\n",
              "      <td>-1</td>\n",
              "    </tr>\n",
              "    <tr>\n",
              "      <th>5</th>\n",
              "      <td>YHOO</td>\n",
              "      <td>2005-05-02 09:30:03</td>\n",
              "      <td>73595</td>\n",
              "      <td>YHQ</td>\n",
              "      <td>2005-10-22</td>\n",
              "      <td>35.0</td>\n",
              "      <td>P</td>\n",
              "      <td>26</td>\n",
              "      <td>3.00</td>\n",
              "      <td>2.95</td>\n",
              "      <td>...</td>\n",
              "      <td>2.90</td>\n",
              "      <td>1133.0</td>\n",
              "      <td>256.0</td>\n",
              "      <td>3.10</td>\n",
              "      <td>3.40</td>\n",
              "      <td>24020608.0</td>\n",
              "      <td>46.0</td>\n",
              "      <td>3.10</td>\n",
              "      <td>3.40</td>\n",
              "      <td>-1</td>\n",
              "    </tr>\n",
              "    <tr>\n",
              "      <th>6</th>\n",
              "      <td>MATK</td>\n",
              "      <td>2005-05-02 09:30:03</td>\n",
              "      <td>80182</td>\n",
              "      <td>KQT</td>\n",
              "      <td>2005-09-17</td>\n",
              "      <td>65.0</td>\n",
              "      <td>C</td>\n",
              "      <td>2</td>\n",
              "      <td>0.55</td>\n",
              "      <td>0.30</td>\n",
              "      <td>...</td>\n",
              "      <td>0.30</td>\n",
              "      <td>56.0</td>\n",
              "      <td>10.0</td>\n",
              "      <td>0.45</td>\n",
              "      <td>0.45</td>\n",
              "      <td>23989792.0</td>\n",
              "      <td>2.0</td>\n",
              "      <td>0.65</td>\n",
              "      <td>0.45</td>\n",
              "      <td>1</td>\n",
              "    </tr>\n",
              "    <tr>\n",
              "      <th>7</th>\n",
              "      <td>VTSS</td>\n",
              "      <td>2005-05-02 09:30:04</td>\n",
              "      <td>80469</td>\n",
              "      <td>VQT</td>\n",
              "      <td>2005-10-22</td>\n",
              "      <td>5.0</td>\n",
              "      <td>P</td>\n",
              "      <td>10</td>\n",
              "      <td>2.75</td>\n",
              "      <td>2.70</td>\n",
              "      <td>...</td>\n",
              "      <td>2.70</td>\n",
              "      <td>10.0</td>\n",
              "      <td>52.0</td>\n",
              "      <td>2.90</td>\n",
              "      <td>2.90</td>\n",
              "      <td>24019950.0</td>\n",
              "      <td>40.0</td>\n",
              "      <td>2.90</td>\n",
              "      <td>2.90</td>\n",
              "      <td>-1</td>\n",
              "    </tr>\n",
              "    <tr>\n",
              "      <th>8</th>\n",
              "      <td>ADRX</td>\n",
              "      <td>2005-05-02 09:30:04</td>\n",
              "      <td>80342</td>\n",
              "      <td>QAX</td>\n",
              "      <td>2005-09-17</td>\n",
              "      <td>25.0</td>\n",
              "      <td>C</td>\n",
              "      <td>1</td>\n",
              "      <td>0.60</td>\n",
              "      <td>0.45</td>\n",
              "      <td>...</td>\n",
              "      <td>0.45</td>\n",
              "      <td>94.0</td>\n",
              "      <td>25.0</td>\n",
              "      <td>0.55</td>\n",
              "      <td>0.50</td>\n",
              "      <td>23983374.0</td>\n",
              "      <td>11.0</td>\n",
              "      <td>0.65</td>\n",
              "      <td>0.50</td>\n",
              "      <td>1</td>\n",
              "    </tr>\n",
              "    <tr>\n",
              "      <th>9</th>\n",
              "      <td>IVGN</td>\n",
              "      <td>2005-05-02 09:30:04</td>\n",
              "      <td>97063</td>\n",
              "      <td>IUV</td>\n",
              "      <td>2005-08-20</td>\n",
              "      <td>65.0</td>\n",
              "      <td>C</td>\n",
              "      <td>10</td>\n",
              "      <td>11.00</td>\n",
              "      <td>0.00</td>\n",
              "      <td>...</td>\n",
              "      <td>NaN</td>\n",
              "      <td>NaN</td>\n",
              "      <td>NaN</td>\n",
              "      <td>13.80</td>\n",
              "      <td>9.90</td>\n",
              "      <td>23797976.0</td>\n",
              "      <td>10.0</td>\n",
              "      <td>13.80</td>\n",
              "      <td>9.90</td>\n",
              "      <td>1</td>\n",
              "    </tr>\n",
              "  </tbody>\n",
              "</table>\n",
              "<p>10 rows × 23 columns</p>\n",
              "</div>\n",
              "      <button class=\"colab-df-convert\" onclick=\"convertToInteractive('df-e5802d68-ae49-4028-88e0-b1321a543512')\"\n",
              "              title=\"Convert this dataframe to an interactive table.\"\n",
              "              style=\"display:none;\">\n",
              "        \n",
              "  <svg xmlns=\"http://www.w3.org/2000/svg\" height=\"24px\"viewBox=\"0 0 24 24\"\n",
              "       width=\"24px\">\n",
              "    <path d=\"M0 0h24v24H0V0z\" fill=\"none\"/>\n",
              "    <path d=\"M18.56 5.44l.94 2.06.94-2.06 2.06-.94-2.06-.94-.94-2.06-.94 2.06-2.06.94zm-11 1L8.5 8.5l.94-2.06 2.06-.94-2.06-.94L8.5 2.5l-.94 2.06-2.06.94zm10 10l.94 2.06.94-2.06 2.06-.94-2.06-.94-.94-2.06-.94 2.06-2.06.94z\"/><path d=\"M17.41 7.96l-1.37-1.37c-.4-.4-.92-.59-1.43-.59-.52 0-1.04.2-1.43.59L10.3 9.45l-7.72 7.72c-.78.78-.78 2.05 0 2.83L4 21.41c.39.39.9.59 1.41.59.51 0 1.02-.2 1.41-.59l7.78-7.78 2.81-2.81c.8-.78.8-2.07 0-2.86zM5.41 20L4 18.59l7.72-7.72 1.47 1.35L5.41 20z\"/>\n",
              "  </svg>\n",
              "      </button>\n",
              "      \n",
              "  <style>\n",
              "    .colab-df-container {\n",
              "      display:flex;\n",
              "      flex-wrap:wrap;\n",
              "      gap: 12px;\n",
              "    }\n",
              "\n",
              "    .colab-df-convert {\n",
              "      background-color: #E8F0FE;\n",
              "      border: none;\n",
              "      border-radius: 50%;\n",
              "      cursor: pointer;\n",
              "      display: none;\n",
              "      fill: #1967D2;\n",
              "      height: 32px;\n",
              "      padding: 0 0 0 0;\n",
              "      width: 32px;\n",
              "    }\n",
              "\n",
              "    .colab-df-convert:hover {\n",
              "      background-color: #E2EBFA;\n",
              "      box-shadow: 0px 1px 2px rgba(60, 64, 67, 0.3), 0px 1px 3px 1px rgba(60, 64, 67, 0.15);\n",
              "      fill: #174EA6;\n",
              "    }\n",
              "\n",
              "    [theme=dark] .colab-df-convert {\n",
              "      background-color: #3B4455;\n",
              "      fill: #D2E3FC;\n",
              "    }\n",
              "\n",
              "    [theme=dark] .colab-df-convert:hover {\n",
              "      background-color: #434B5C;\n",
              "      box-shadow: 0px 1px 3px 1px rgba(0, 0, 0, 0.15);\n",
              "      filter: drop-shadow(0px 1px 2px rgba(0, 0, 0, 0.3));\n",
              "      fill: #FFFFFF;\n",
              "    }\n",
              "  </style>\n",
              "\n",
              "      <script>\n",
              "        const buttonEl =\n",
              "          document.querySelector('#df-e5802d68-ae49-4028-88e0-b1321a543512 button.colab-df-convert');\n",
              "        buttonEl.style.display =\n",
              "          google.colab.kernel.accessAllowed ? 'block' : 'none';\n",
              "\n",
              "        async function convertToInteractive(key) {\n",
              "          const element = document.querySelector('#df-e5802d68-ae49-4028-88e0-b1321a543512');\n",
              "          const dataTable =\n",
              "            await google.colab.kernel.invokeFunction('convertToInteractive',\n",
              "                                                     [key], {});\n",
              "          if (!dataTable) return;\n",
              "\n",
              "          const docLinkHtml = 'Like what you see? Visit the ' +\n",
              "            '<a target=\"_blank\" href=https://colab.research.google.com/notebooks/data_table.ipynb>data table notebook</a>'\n",
              "            + ' to learn more about interactive tables.';\n",
              "          element.innerHTML = '';\n",
              "          dataTable['output_type'] = 'display_data';\n",
              "          await google.colab.output.renderOutput(dataTable, element);\n",
              "          const docLink = document.createElement('div');\n",
              "          docLink.innerHTML = docLinkHtml;\n",
              "          element.appendChild(docLink);\n",
              "        }\n",
              "      </script>\n",
              "    </div>\n",
              "  </div>\n",
              "  "
            ]
          },
          "metadata": {},
          "execution_count": 7
        }
      ]
    },
    {
      "cell_type": "code",
      "source": [
        "# randomly sample 10 % of rows\n",
        "train = train.sample(frac=0.1, random_state=seed)"
      ],
      "metadata": {
        "id": "N2ZHX3MpqzKD"
      },
      "execution_count": 8,
      "outputs": []
    },
    {
      "cell_type": "code",
      "source": [
        "# calculate days to maturity\n",
        "train['time_to_maturity'] = (train['EXPIRATION'] - train['QUOTE_DATETIME']).dt.days"
      ],
      "metadata": {
        "id": "G4RRb08pyo6p"
      },
      "execution_count": 9,
      "outputs": []
    },
    {
      "cell_type": "code",
      "source": [
        "train.dtypes"
      ],
      "metadata": {
        "colab": {
          "base_uri": "https://localhost:8080/"
        },
        "id": "Dj79d4i90rhm",
        "outputId": "509eefd5-46f4-40b0-dc14-880b4b3c18b1"
      },
      "execution_count": 10,
      "outputs": [
        {
          "output_type": "execute_result",
          "data": {
            "text/plain": [
              "UNDERLYING_SYMBOL            object\n",
              "QUOTE_DATETIME       datetime64[ns]\n",
              "SEQUENCE_NUMBER               int64\n",
              "ROOT                         object\n",
              "EXPIRATION           datetime64[ns]\n",
              "STRK_PRC                    float32\n",
              "OPTION_TYPE                category\n",
              "TRADE_SIZE                    int64\n",
              "TRADE_PRICE                 float32\n",
              "BEST_BID                    float32\n",
              "BEST_ASK                    float32\n",
              "order_id                      int64\n",
              "ask_ex                      float32\n",
              "bid_ex                      float32\n",
              "bid_size_ex                 float32\n",
              "ask_size_ex                 float32\n",
              "price_all_lead              float32\n",
              "price_all_lag               float32\n",
              "optionid                    float32\n",
              "day_vol                     float32\n",
              "price_ex_lead               float32\n",
              "price_ex_lag                float32\n",
              "buy_sell                       int8\n",
              "time_to_maturity              int64\n",
              "dtype: object"
            ]
          },
          "metadata": {},
          "execution_count": 10
        }
      ]
    },
    {
      "cell_type": "code",
      "source": [
        "# select categorical e. g., option type and strings e. g., ticker\n",
        "cat_columns = train.select_dtypes(include=['category', 'object']).columns.tolist()\n",
        "print(cat_columns)\n",
        "\n",
        "# binarize categorical similar to Borisov et al.\n",
        "train[cat_columns] = train[cat_columns].apply(lambda x : pd.factorize(x)[0])"
      ],
      "metadata": {
        "colab": {
          "base_uri": "https://localhost:8080/"
        },
        "id": "Duj4rD8Ix5KJ",
        "outputId": "ccaeeb4a-31a4-42d1-b30a-5661f8a5d88d"
      },
      "execution_count": 11,
      "outputs": [
        {
          "output_type": "stream",
          "name": "stdout",
          "text": [
            "['UNDERLYING_SYMBOL', 'ROOT', 'OPTION_TYPE']\n"
          ]
        }
      ]
    },
    {
      "cell_type": "code",
      "source": [
        "corr = train.corr()\n",
        "sns.heatmap(corr, \n",
        "            xticklabels=corr.columns.values,\n",
        "            yticklabels=corr.columns.values)"
      ],
      "metadata": {
        "colab": {
          "base_uri": "https://localhost:8080/",
          "height": 386
        },
        "id": "lMKqBYjDsYy7",
        "outputId": "2a74a52c-f7f6-489a-8300-3469e8d901b7"
      },
      "execution_count": 14,
      "outputs": [
        {
          "output_type": "execute_result",
          "data": {
            "text/plain": [
              "<matplotlib.axes._subplots.AxesSubplot at 0x7f0290eb0fd0>"
            ]
          },
          "metadata": {},
          "execution_count": 14
        },
        {
          "output_type": "display_data",
          "data": {
            "text/plain": [
              "<Figure size 432x288 with 2 Axes>"
            ],
            "image/png": "[encoded data removed]"
          },
          "metadata": {
            "needs_background": "light"
          }
        }
      ]
    },
    {
      "cell_type": "code",
      "source": [
        "# remove problematic features -> see notebook on aversarial validation\n",
        "train = train.drop([\"SEQUENCE_NUMBER\", \"order_id\", \"optionid\", \"EXPIRATION\", \"QUOTE_DATETIME\", \"ROOT\"], axis=1)"
      ],
      "metadata": {
        "id": "UlTiomjqw_QD"
      },
      "execution_count": 15,
      "outputs": []
    },
    {
      "cell_type": "code",
      "source": [
        "# isolate target\n",
        "y = train[[\"buy_sell\"]]\n",
        "train = train.drop([\"buy_sell\"], axis=1)"
      ],
      "metadata": {
        "id": "x2kABLCA2CEb"
      },
      "execution_count": 18,
      "outputs": []
    },
    {
      "cell_type": "code",
      "source": [
        "corr = train.corr()\n",
        "sns.heatmap(corr, \n",
        "            xticklabels=corr.columns.values,\n",
        "            yticklabels=corr.columns.values)"
      ],
      "metadata": {
        "colab": {
          "base_uri": "https://localhost:8080/",
          "height": 386
        },
        "id": "CUN8LxqeyX8n",
        "outputId": "f96df97d-33b7-47e7-9e18-a869a967ca99"
      },
      "execution_count": 19,
      "outputs": [
        {
          "output_type": "execute_result",
          "data": {
            "text/plain": [
              "<matplotlib.axes._subplots.AxesSubplot at 0x7f02906d4790>"
            ]
          },
          "metadata": {},
          "execution_count": 19
        },
        {
          "output_type": "display_data",
          "data": {
            "text/plain": [
              "<Figure size 432x288 with 2 Axes>"
            ],
            "image/png": "[encoded data removed]"
          },
          "metadata": {
            "needs_background": "light"
          }
        }
      ]
    },
    {
      "cell_type": "code",
      "source": [
        "y = train[[\"buy_sell\"]]\n",
        "train.drop([\"buy_sell\"], axis=1)"
      ],
      "metadata": {
        "id": "Zdf9L8aizNrC"
      },
      "execution_count": null,
      "outputs": []
    },
    {
      "cell_type": "code",
      "source": [
        "# TODO: Add midspread feature"
      ],
      "metadata": {
        "id": "QbIFNIc_3i_6"
      },
      "execution_count": null,
      "outputs": []
    },
    {
      "cell_type": "code",
      "source": [
        "# TODO: Calculate rel distance from mid"
      ],
      "metadata": {
        "id": "546ZQQnm2lYx"
      },
      "execution_count": null,
      "outputs": []
    },
    {
      "cell_type": "code",
      "source": [
        "# TODO: Degree how much Trade size is filled (-1 to 1)"
      ],
      "metadata": {
        "id": "wx1Thx0Y3sU-"
      },
      "execution_count": null,
      "outputs": []
    },
    {
      "cell_type": "code",
      "source": [
        "# TODO: Calculate sign change from trade"
      ],
      "metadata": {
        "id": "N6Dj2dd33Vwy"
      },
      "execution_count": null,
      "outputs": []
    },
    {
      "cell_type": "code",
      "source": [
        "# TODO: Standardize numerical values"
      ],
      "metadata": {
        "id": "tV5a5st_2vrt"
      },
      "execution_count": null,
      "outputs": []
    },
    {
      "cell_type": "code",
      "source": [
        "# TODO: Train gradient boosting model"
      ],
      "metadata": {
        "id": "lwai2OOo25gr"
      },
      "execution_count": null,
      "outputs": []
    },
    {
      "cell_type": "code",
      "source": [
        "# TODO: Add positional encoding of date"
      ],
      "metadata": {
        "id": "7HP6t6ii4R3R"
      },
      "execution_count": null,
      "outputs": []
    },
    {
      "cell_type": "code",
      "source": [
        "# TODO: Implement hyperparameter search"
      ],
      "metadata": {
        "id": "UgdvLxBI3Cs3"
      },
      "execution_count": null,
      "outputs": []
    },
    {
      "cell_type": "code",
      "source": [
        "# TODO: print some metrics"
      ],
      "metadata": {
        "id": "IGKtBlnz4COM"
      },
      "execution_count": null,
      "outputs": []
    },
    {
      "cell_type": "code",
      "source": [
        "# TODO: Set up simple robustness checks"
      ],
      "metadata": {
        "id": "jOby-HQF4pMV"
      },
      "execution_count": null,
      "outputs": []
    },
    {
      "cell_type": "markdown",
      "source": [
        "## Classical rules"
      ],
      "metadata": {
        "id": "2P3UVsQb2T_V"
      }
    },
    {
      "cell_type": "code",
      "source": [
        "df.head().T"
      ],
      "metadata": {
        "colab": {
          "base_uri": "https://localhost:8080/",
          "height": 771
        },
        "id": "gHnFz65rZnOZ",
        "outputId": "cdb54c20-c5ba-42df-e6a0-38fac64b281e"
      },
      "execution_count": null,
      "outputs": [
        {
          "output_type": "execute_result",
          "data": {
            "text/plain": [
              "                              34736684             34736685  \\\n",
              "UNDERLYING_SYMBOL                 LINE                 LINE   \n",
              "QUOTE_DATETIME     2015-01-02 09:30:00  2015-01-02 09:30:00   \n",
              "SEQUENCE_NUMBER                  74466             67183330   \n",
              "ROOT                              LINE                 LINE   \n",
              "EXPIRATION         2015-04-17 00:00:00  2015-04-17 00:00:00   \n",
              "STRK_PRC                           9.0                 18.0   \n",
              "OPTION_TYPE                          C                    C   \n",
              "TRADE_SIZE                           5                    5   \n",
              "TRADE_PRICE                       2.14                 0.04   \n",
              "BEST_BID                           1.8                  0.0   \n",
              "BEST_ASK                          2.15                  0.5   \n",
              "order_id                    1624705991           1624706010   \n",
              "ask_ex                            2.15                  0.5   \n",
              "bid_ex                             1.8                  0.0   \n",
              "bid_size_ex                       11.0                  0.0   \n",
              "ask_size_ex                       11.0                 31.0   \n",
              "price_all_lead                    2.83                 0.28   \n",
              "price_all_lag                     2.25                 0.21   \n",
              "optionid                   106126248.0          105166752.0   \n",
              "day_vol                           10.0                 10.0   \n",
              "price_ex_lead                     3.29                 0.22   \n",
              "price_ex_lag                       2.3                  0.2   \n",
              "buy_sell                           1.0                 -1.0   \n",
              "\n",
              "                              34736686             34736687  \\\n",
              "UNDERLYING_SYMBOL                 AMZN                  TLT   \n",
              "QUOTE_DATETIME     2015-01-02 09:30:00  2015-01-02 09:30:00   \n",
              "SEQUENCE_NUMBER                8588013              7331304   \n",
              "ROOT                              AMZN                  TLT   \n",
              "EXPIRATION         2015-02-20 00:00:00  2015-01-02 00:00:00   \n",
              "STRK_PRC                         390.0                124.0   \n",
              "OPTION_TYPE                          C                    P   \n",
              "TRADE_SIZE                           1                   20   \n",
              "TRADE_PRICE                       1.42                 0.01   \n",
              "BEST_BID                           0.0                  0.0   \n",
              "BEST_ASK                           0.0                 0.14   \n",
              "order_id                    1624706024           1624706072   \n",
              "ask_ex                             NaN                 0.14   \n",
              "bid_ex                             NaN                  0.0   \n",
              "bid_size_ex                        NaN                  0.0   \n",
              "ask_size_ex                        NaN                 56.0   \n",
              "price_all_lead                     1.3                 0.03   \n",
              "price_all_lag                     1.35                 0.03   \n",
              "optionid                   106064528.0          105919880.0   \n",
              "day_vol                            1.0                 20.0   \n",
              "price_ex_lead                     0.37                  NaN   \n",
              "price_ex_lag                      1.35                 0.04   \n",
              "buy_sell                          -1.0                 -1.0   \n",
              "\n",
              "                              34736688  \n",
              "UNDERLYING_SYMBOL                  TLT  \n",
              "QUOTE_DATETIME     2015-01-02 09:30:00  \n",
              "SEQUENCE_NUMBER                7331305  \n",
              "ROOT                               TLT  \n",
              "EXPIRATION         2015-01-02 00:00:00  \n",
              "STRK_PRC                         126.0  \n",
              "OPTION_TYPE                          P  \n",
              "TRADE_SIZE                          20  \n",
              "TRADE_PRICE                       0.18  \n",
              "BEST_BID                          0.05  \n",
              "BEST_ASK                          0.19  \n",
              "order_id                    1624706073  \n",
              "ask_ex                            0.19  \n",
              "bid_ex                            0.05  \n",
              "bid_size_ex                       80.0  \n",
              "ask_size_ex                       21.0  \n",
              "price_all_lead                    0.15  \n",
              "price_all_lag                     0.42  \n",
              "optionid                   105919880.0  \n",
              "day_vol                           20.0  \n",
              "price_ex_lead                      NaN  \n",
              "price_ex_lag                       0.4  \n",
              "buy_sell                           1.0  "
            ],
            "text/html": [
              "<div>\n",
              "<style scoped>\n",
              "    .dataframe tbody tr th:only-of-type {\n",
              "        vertical-align: middle;\n",
              "    }\n",
              "\n",
              "    .dataframe tbody tr th {\n",
              "        vertical-align: top;\n",
              "    }\n",
              "\n",
              "    .dataframe thead th {\n",
              "        text-align: right;\n",
              "    }\n",
              "</style>\n",
              "<table border=\"1\" class=\"dataframe\">\n",
              "  <thead>\n",
              "    <tr style=\"text-align: right;\">\n",
              "      <th></th>\n",
              "      <th>34736684</th>\n",
              "      <th>34736685</th>\n",
              "      <th>34736686</th>\n",
              "      <th>34736687</th>\n",
              "      <th>34736688</th>\n",
              "    </tr>\n",
              "  </thead>\n",
              "  <tbody>\n",
              "    <tr>\n",
              "      <th>UNDERLYING_SYMBOL</th>\n",
              "      <td>LINE</td>\n",
              "      <td>LINE</td>\n",
              "      <td>AMZN</td>\n",
              "      <td>TLT</td>\n",
              "      <td>TLT</td>\n",
              "    </tr>\n",
              "    <tr>\n",
              "      <th>QUOTE_DATETIME</th>\n",
              "      <td>2015-01-02 09:30:00</td>\n",
              "      <td>2015-01-02 09:30:00</td>\n",
              "      <td>2015-01-02 09:30:00</td>\n",
              "      <td>2015-01-02 09:30:00</td>\n",
              "      <td>2015-01-02 09:30:00</td>\n",
              "    </tr>\n",
              "    <tr>\n",
              "      <th>SEQUENCE_NUMBER</th>\n",
              "      <td>74466</td>\n",
              "      <td>67183330</td>\n",
              "      <td>8588013</td>\n",
              "      <td>7331304</td>\n",
              "      <td>7331305</td>\n",
              "    </tr>\n",
              "    <tr>\n",
              "      <th>ROOT</th>\n",
              "      <td>LINE</td>\n",
              "      <td>LINE</td>\n",
              "      <td>AMZN</td>\n",
              "      <td>TLT</td>\n",
              "      <td>TLT</td>\n",
              "    </tr>\n",
              "    <tr>\n",
              "      <th>EXPIRATION</th>\n",
              "      <td>2015-04-17 00:00:00</td>\n",
              "      <td>2015-04-17 00:00:00</td>\n",
              "      <td>2015-02-20 00:00:00</td>\n",
              "      <td>2015-01-02 00:00:00</td>\n",
              "      <td>2015-01-02 00:00:00</td>\n",
              "    </tr>\n",
              "    <tr>\n",
              "      <th>STRK_PRC</th>\n",
              "      <td>9.0</td>\n",
              "      <td>18.0</td>\n",
              "      <td>390.0</td>\n",
              "      <td>124.0</td>\n",
              "      <td>126.0</td>\n",
              "    </tr>\n",
              "    <tr>\n",
              "      <th>OPTION_TYPE</th>\n",
              "      <td>C</td>\n",
              "      <td>C</td>\n",
              "      <td>C</td>\n",
              "      <td>P</td>\n",
              "      <td>P</td>\n",
              "    </tr>\n",
              "    <tr>\n",
              "      <th>TRADE_SIZE</th>\n",
              "      <td>5</td>\n",
              "      <td>5</td>\n",
              "      <td>1</td>\n",
              "      <td>20</td>\n",
              "      <td>20</td>\n",
              "    </tr>\n",
              "    <tr>\n",
              "      <th>TRADE_PRICE</th>\n",
              "      <td>2.14</td>\n",
              "      <td>0.04</td>\n",
              "      <td>1.42</td>\n",
              "      <td>0.01</td>\n",
              "      <td>0.18</td>\n",
              "    </tr>\n",
              "    <tr>\n",
              "      <th>BEST_BID</th>\n",
              "      <td>1.8</td>\n",
              "      <td>0.0</td>\n",
              "      <td>0.0</td>\n",
              "      <td>0.0</td>\n",
              "      <td>0.05</td>\n",
              "    </tr>\n",
              "    <tr>\n",
              "      <th>BEST_ASK</th>\n",
              "      <td>2.15</td>\n",
              "      <td>0.5</td>\n",
              "      <td>0.0</td>\n",
              "      <td>0.14</td>\n",
              "      <td>0.19</td>\n",
              "    </tr>\n",
              "    <tr>\n",
              "      <th>order_id</th>\n",
              "      <td>1624705991</td>\n",
              "      <td>1624706010</td>\n",
              "      <td>1624706024</td>\n",
              "      <td>1624706072</td>\n",
              "      <td>1624706073</td>\n",
              "    </tr>\n",
              "    <tr>\n",
              "      <th>ask_ex</th>\n",
              "      <td>2.15</td>\n",
              "      <td>0.5</td>\n",
              "      <td>NaN</td>\n",
              "      <td>0.14</td>\n",
              "      <td>0.19</td>\n",
              "    </tr>\n",
              "    <tr>\n",
              "      <th>bid_ex</th>\n",
              "      <td>1.8</td>\n",
              "      <td>0.0</td>\n",
              "      <td>NaN</td>\n",
              "      <td>0.0</td>\n",
              "      <td>0.05</td>\n",
              "    </tr>\n",
              "    <tr>\n",
              "      <th>bid_size_ex</th>\n",
              "      <td>11.0</td>\n",
              "      <td>0.0</td>\n",
              "      <td>NaN</td>\n",
              "      <td>0.0</td>\n",
              "      <td>80.0</td>\n",
              "    </tr>\n",
              "    <tr>\n",
              "      <th>ask_size_ex</th>\n",
              "      <td>11.0</td>\n",
              "      <td>31.0</td>\n",
              "      <td>NaN</td>\n",
              "      <td>56.0</td>\n",
              "      <td>21.0</td>\n",
              "    </tr>\n",
              "    <tr>\n",
              "      <th>price_all_lead</th>\n",
              "      <td>2.83</td>\n",
              "      <td>0.28</td>\n",
              "      <td>1.3</td>\n",
              "      <td>0.03</td>\n",
              "      <td>0.15</td>\n",
              "    </tr>\n",
              "    <tr>\n",
              "      <th>price_all_lag</th>\n",
              "      <td>2.25</td>\n",
              "      <td>0.21</td>\n",
              "      <td>1.35</td>\n",
              "      <td>0.03</td>\n",
              "      <td>0.42</td>\n",
              "    </tr>\n",
              "    <tr>\n",
              "      <th>optionid</th>\n",
              "      <td>106126248.0</td>\n",
              "      <td>105166752.0</td>\n",
              "      <td>106064528.0</td>\n",
              "      <td>105919880.0</td>\n",
              "      <td>105919880.0</td>\n",
              "    </tr>\n",
              "    <tr>\n",
              "      <th>day_vol</th>\n",
              "      <td>10.0</td>\n",
              "      <td>10.0</td>\n",
              "      <td>1.0</td>\n",
              "      <td>20.0</td>\n",
              "      <td>20.0</td>\n",
              "    </tr>\n",
              "    <tr>\n",
              "      <th>price_ex_lead</th>\n",
              "      <td>3.29</td>\n",
              "      <td>0.22</td>\n",
              "      <td>0.37</td>\n",
              "      <td>NaN</td>\n",
              "      <td>NaN</td>\n",
              "    </tr>\n",
              "    <tr>\n",
              "      <th>price_ex_lag</th>\n",
              "      <td>2.3</td>\n",
              "      <td>0.2</td>\n",
              "      <td>1.35</td>\n",
              "      <td>0.04</td>\n",
              "      <td>0.4</td>\n",
              "    </tr>\n",
              "    <tr>\n",
              "      <th>buy_sell</th>\n",
              "      <td>1.0</td>\n",
              "      <td>-1.0</td>\n",
              "      <td>-1.0</td>\n",
              "      <td>-1.0</td>\n",
              "      <td>1.0</td>\n",
              "    </tr>\n",
              "  </tbody>\n",
              "</table>\n",
              "</div>"
            ]
          },
          "metadata": {},
          "execution_count": 6
        }
      ]
    },
    {
      "cell_type": "code",
      "source": [
        "# test if if a lead price is different from the trade price?\n",
        "sum = (df['TRADE_PRICE'] == df['price_ex_lead']).sum()\n",
        "print(sum)"
      ],
      "metadata": {
        "colab": {
          "base_uri": "https://localhost:8080/"
        },
        "id": "1E0cyFEW7OHh",
        "outputId": "138fe32e-7270-4800-a591-4524519db004"
      },
      "execution_count": null,
      "outputs": [
        {
          "output_type": "stream",
          "name": "stdout",
          "text": [
            "0\n"
          ]
        }
      ]
    },
    {
      "cell_type": "code",
      "source": [
        "# quote rule\n",
        "mid = 0.5 * (df['ask_ex'] + df['bid_ex'])\n",
        "qr = np.where(df['TRADE_PRICE'] > mid, 1, np.where(df['TRADE_PRICE'] < mid, -1, np.nan))\n",
        "df['pred_quote_rule'] = qr"
      ],
      "metadata": {
        "id": "GTr6C0gPEAlh"
      },
      "execution_count": null,
      "outputs": []
    },
    {
      "cell_type": "code",
      "source": [
        "sum = (df['TRADE_PRICE'] == mid).sum()\n",
        "print(sum)"
      ],
      "metadata": {
        "colab": {
          "base_uri": "https://localhost:8080/"
        },
        "id": "As1GilUfF2On",
        "outputId": "176b48f3-3b1a-4eea-84c1-3330c6a9b701"
      },
      "execution_count": null,
      "outputs": [
        {
          "output_type": "stream",
          "name": "stdout",
          "text": [
            "632780\n"
          ]
        }
      ]
    },
    {
      "cell_type": "code",
      "source": [
        "# depth rule p. 14\n",
        "dr = np.where((df['TRADE_PRICE'] == mid) & (df['ask_size_ex'] > df['bid_size_ex']),1,np.where((df['TRADE_PRICE'] == mid) & (df['ask_size_ex'] < df['bid_size_ex']),-1,np.nan))\n",
        "df['pred_depth_rule'] = dr"
      ],
      "metadata": {
        "id": "I_8zfiyGVZfG"
      },
      "execution_count": null,
      "outputs": []
    },
    {
      "cell_type": "code",
      "source": [
        "# tick rule\n",
        "# FIXME: Disqus with Grauer et al what is used in table 9 ISE or all?\n",
        "tt = np.where(df['TRADE_PRICE'] > df['price_ex_lead'], 1.0, -1.0)\n",
        "df['pred_tick_test'] = tt"
      ],
      "metadata": {
        "id": "FXOz7eU-T0dj"
      },
      "execution_count": null,
      "outputs": []
    },
    {
      "cell_type": "code",
      "source": [
        "# main idea of our new “trade size rule” is that when the trade size matches exactly either the bid or ask quote size, it is likely that the quote came from a customer, the market maker found it attractive and, therefore, decided to fill it completely.\n",
        "# we propose to classify trades for which the trade size is equal to the quoted bid size as customer buys and those with a trade size equal to the ask size as customer sells.\n",
        "\n",
        "ts_eq_bid = (df['TRADE_SIZE'] == df['bid_size_ex'])\n",
        "ts_eq_ask = (df['TRADE_SIZE'] == df['ask_size_ex'])\n",
        "\n",
        "df['pred_trade_size_quote_rule'] = np.where(ts_eq_bid,1.0, np.where(ts_eq_ask,-1.0, qr))\n",
        "df['pred_trade_size_tick_test'] = np.where(ts_eq_bid,1.0, np.where(ts_eq_ask,-1.0, tt))"
      ],
      "metadata": {
        "id": "uKFUz1AHxFHQ"
      },
      "execution_count": null,
      "outputs": []
    },
    {
      "cell_type": "code",
      "source": [
        "df['pred_trade_size_depth_rule'] = np.where(ts_eq_bid,1.0, np.where(ts_eq_ask,-1.0, dr))"
      ],
      "metadata": {
        "id": "Ym31mXboWRUL"
      },
      "execution_count": null,
      "outputs": []
    },
    {
      "cell_type": "code",
      "source": [
        "# reverse tick rule\n",
        "df['pred_rev_tick_test'] = np.where(df['TRADE_PRICE'] > df['price_all_lag'], 1.0, -1.0)"
      ],
      "metadata": {
        "id": "dfsKw6JuBIKd"
      },
      "execution_count": null,
      "outputs": []
    },
    {
      "cell_type": "code",
      "source": [
        "df.head().T"
      ],
      "metadata": {
        "colab": {
          "base_uri": "https://localhost:8080/",
          "height": 990
        },
        "id": "etb4IaTvUdx5",
        "outputId": "69f87245-bf76-4c82-f0ee-84844a666a08"
      },
      "execution_count": null,
      "outputs": [
        {
          "output_type": "execute_result",
          "data": {
            "text/plain": [
              "                                       34736684             34736685  \\\n",
              "UNDERLYING_SYMBOL                          LINE                 LINE   \n",
              "QUOTE_DATETIME              2015-01-02 09:30:00  2015-01-02 09:30:00   \n",
              "SEQUENCE_NUMBER                           74466             67183330   \n",
              "ROOT                                       LINE                 LINE   \n",
              "EXPIRATION                  2015-04-17 00:00:00  2015-04-17 00:00:00   \n",
              "STRK_PRC                                    9.0                 18.0   \n",
              "OPTION_TYPE                                   C                    C   \n",
              "TRADE_SIZE                                    5                    5   \n",
              "TRADE_PRICE                                2.14                 0.04   \n",
              "BEST_BID                                    1.8                  0.0   \n",
              "BEST_ASK                                   2.15                  0.5   \n",
              "order_id                             1624705991           1624706010   \n",
              "ask_ex                                     2.15                  0.5   \n",
              "bid_ex                                      1.8                  0.0   \n",
              "bid_size_ex                                11.0                  0.0   \n",
              "ask_size_ex                                11.0                 31.0   \n",
              "price_all_lead                             2.83                 0.28   \n",
              "price_all_lag                              2.25                 0.21   \n",
              "optionid                            106126248.0          105166752.0   \n",
              "day_vol                                    10.0                 10.0   \n",
              "price_ex_lead                              3.29                 0.22   \n",
              "price_ex_lag                                2.3                  0.2   \n",
              "buy_sell                                    1.0                 -1.0   \n",
              "pred_quote_rule                             1.0                 -1.0   \n",
              "pred_tick_test                             -1.0                 -1.0   \n",
              "pred_trade_size_quote_rule                  1.0                 -1.0   \n",
              "pred_trade_size_tick_test                  -1.0                 -1.0   \n",
              "pred_rev_tick_test                         -1.0                 -1.0   \n",
              "pred_trade_size_depth_rule                  NaN                  NaN   \n",
              "pred_depth_rule                             NaN                  NaN   \n",
              "\n",
              "                                       34736686             34736687  \\\n",
              "UNDERLYING_SYMBOL                          AMZN                  TLT   \n",
              "QUOTE_DATETIME              2015-01-02 09:30:00  2015-01-02 09:30:00   \n",
              "SEQUENCE_NUMBER                         8588013              7331304   \n",
              "ROOT                                       AMZN                  TLT   \n",
              "EXPIRATION                  2015-02-20 00:00:00  2015-01-02 00:00:00   \n",
              "STRK_PRC                                  390.0                124.0   \n",
              "OPTION_TYPE                                   C                    P   \n",
              "TRADE_SIZE                                    1                   20   \n",
              "TRADE_PRICE                                1.42                 0.01   \n",
              "BEST_BID                                    0.0                  0.0   \n",
              "BEST_ASK                                    0.0                 0.14   \n",
              "order_id                             1624706024           1624706072   \n",
              "ask_ex                                      NaN                 0.14   \n",
              "bid_ex                                      NaN                  0.0   \n",
              "bid_size_ex                                 NaN                  0.0   \n",
              "ask_size_ex                                 NaN                 56.0   \n",
              "price_all_lead                              1.3                 0.03   \n",
              "price_all_lag                              1.35                 0.03   \n",
              "optionid                            106064528.0          105919880.0   \n",
              "day_vol                                     1.0                 20.0   \n",
              "price_ex_lead                              0.37                  NaN   \n",
              "price_ex_lag                               1.35                 0.04   \n",
              "buy_sell                                   -1.0                 -1.0   \n",
              "pred_quote_rule                             NaN                 -1.0   \n",
              "pred_tick_test                              1.0                 -1.0   \n",
              "pred_trade_size_quote_rule                  NaN                 -1.0   \n",
              "pred_trade_size_tick_test                   1.0                 -1.0   \n",
              "pred_rev_tick_test                          1.0                 -1.0   \n",
              "pred_trade_size_depth_rule                  NaN                  NaN   \n",
              "pred_depth_rule                             NaN                  NaN   \n",
              "\n",
              "                                       34736688  \n",
              "UNDERLYING_SYMBOL                           TLT  \n",
              "QUOTE_DATETIME              2015-01-02 09:30:00  \n",
              "SEQUENCE_NUMBER                         7331305  \n",
              "ROOT                                        TLT  \n",
              "EXPIRATION                  2015-01-02 00:00:00  \n",
              "STRK_PRC                                  126.0  \n",
              "OPTION_TYPE                                   P  \n",
              "TRADE_SIZE                                   20  \n",
              "TRADE_PRICE                                0.18  \n",
              "BEST_BID                                   0.05  \n",
              "BEST_ASK                                   0.19  \n",
              "order_id                             1624706073  \n",
              "ask_ex                                     0.19  \n",
              "bid_ex                                     0.05  \n",
              "bid_size_ex                                80.0  \n",
              "ask_size_ex                                21.0  \n",
              "price_all_lead                             0.15  \n",
              "price_all_lag                              0.42  \n",
              "optionid                            105919880.0  \n",
              "day_vol                                    20.0  \n",
              "price_ex_lead                               NaN  \n",
              "price_ex_lag                                0.4  \n",
              "buy_sell                                    1.0  \n",
              "pred_quote_rule                             1.0  \n",
              "pred_tick_test                             -1.0  \n",
              "pred_trade_size_quote_rule                  1.0  \n",
              "pred_trade_size_tick_test                  -1.0  \n",
              "pred_rev_tick_test                         -1.0  \n",
              "pred_trade_size_depth_rule                  NaN  \n",
              "pred_depth_rule                             NaN  "
            ],
            "text/html": [
              "<div>\n",
              "<style scoped>\n",
              "    .dataframe tbody tr th:only-of-type {\n",
              "        vertical-align: middle;\n",
              "    }\n",
              "\n",
              "    .dataframe tbody tr th {\n",
              "        vertical-align: top;\n",
              "    }\n",
              "\n",
              "    .dataframe thead th {\n",
              "        text-align: right;\n",
              "    }\n",
              "</style>\n",
              "<table border=\"1\" class=\"dataframe\">\n",
              "  <thead>\n",
              "    <tr style=\"text-align: right;\">\n",
              "      <th></th>\n",
              "      <th>34736684</th>\n",
              "      <th>34736685</th>\n",
              "      <th>34736686</th>\n",
              "      <th>34736687</th>\n",
              "      <th>34736688</th>\n",
              "    </tr>\n",
              "  </thead>\n",
              "  <tbody>\n",
              "    <tr>\n",
              "      <th>UNDERLYING_SYMBOL</th>\n",
              "      <td>LINE</td>\n",
              "      <td>LINE</td>\n",
              "      <td>AMZN</td>\n",
              "      <td>TLT</td>\n",
              "      <td>TLT</td>\n",
              "    </tr>\n",
              "    <tr>\n",
              "      <th>QUOTE_DATETIME</th>\n",
              "      <td>2015-01-02 09:30:00</td>\n",
              "      <td>2015-01-02 09:30:00</td>\n",
              "      <td>2015-01-02 09:30:00</td>\n",
              "      <td>2015-01-02 09:30:00</td>\n",
              "      <td>2015-01-02 09:30:00</td>\n",
              "    </tr>\n",
              "    <tr>\n",
              "      <th>SEQUENCE_NUMBER</th>\n",
              "      <td>74466</td>\n",
              "      <td>67183330</td>\n",
              "      <td>8588013</td>\n",
              "      <td>7331304</td>\n",
              "      <td>7331305</td>\n",
              "    </tr>\n",
              "    <tr>\n",
              "      <th>ROOT</th>\n",
              "      <td>LINE</td>\n",
              "      <td>LINE</td>\n",
              "      <td>AMZN</td>\n",
              "      <td>TLT</td>\n",
              "      <td>TLT</td>\n",
              "    </tr>\n",
              "    <tr>\n",
              "      <th>EXPIRATION</th>\n",
              "      <td>2015-04-17 00:00:00</td>\n",
              "      <td>2015-04-17 00:00:00</td>\n",
              "      <td>2015-02-20 00:00:00</td>\n",
              "      <td>2015-01-02 00:00:00</td>\n",
              "      <td>2015-01-02 00:00:00</td>\n",
              "    </tr>\n",
              "    <tr>\n",
              "      <th>STRK_PRC</th>\n",
              "      <td>9.0</td>\n",
              "      <td>18.0</td>\n",
              "      <td>390.0</td>\n",
              "      <td>124.0</td>\n",
              "      <td>126.0</td>\n",
              "    </tr>\n",
              "    <tr>\n",
              "      <th>OPTION_TYPE</th>\n",
              "      <td>C</td>\n",
              "      <td>C</td>\n",
              "      <td>C</td>\n",
              "      <td>P</td>\n",
              "      <td>P</td>\n",
              "    </tr>\n",
              "    <tr>\n",
              "      <th>TRADE_SIZE</th>\n",
              "      <td>5</td>\n",
              "      <td>5</td>\n",
              "      <td>1</td>\n",
              "      <td>20</td>\n",
              "      <td>20</td>\n",
              "    </tr>\n",
              "    <tr>\n",
              "      <th>TRADE_PRICE</th>\n",
              "      <td>2.14</td>\n",
              "      <td>0.04</td>\n",
              "      <td>1.42</td>\n",
              "      <td>0.01</td>\n",
              "      <td>0.18</td>\n",
              "    </tr>\n",
              "    <tr>\n",
              "      <th>BEST_BID</th>\n",
              "      <td>1.8</td>\n",
              "      <td>0.0</td>\n",
              "      <td>0.0</td>\n",
              "      <td>0.0</td>\n",
              "      <td>0.05</td>\n",
              "    </tr>\n",
              "    <tr>\n",
              "      <th>BEST_ASK</th>\n",
              "      <td>2.15</td>\n",
              "      <td>0.5</td>\n",
              "      <td>0.0</td>\n",
              "      <td>0.14</td>\n",
              "      <td>0.19</td>\n",
              "    </tr>\n",
              "    <tr>\n",
              "      <th>order_id</th>\n",
              "      <td>1624705991</td>\n",
              "      <td>1624706010</td>\n",
              "      <td>1624706024</td>\n",
              "      <td>1624706072</td>\n",
              "      <td>1624706073</td>\n",
              "    </tr>\n",
              "    <tr>\n",
              "      <th>ask_ex</th>\n",
              "      <td>2.15</td>\n",
              "      <td>0.5</td>\n",
              "      <td>NaN</td>\n",
              "      <td>0.14</td>\n",
              "      <td>0.19</td>\n",
              "    </tr>\n",
              "    <tr>\n",
              "      <th>bid_ex</th>\n",
              "      <td>1.8</td>\n",
              "      <td>0.0</td>\n",
              "      <td>NaN</td>\n",
              "      <td>0.0</td>\n",
              "      <td>0.05</td>\n",
              "    </tr>\n",
              "    <tr>\n",
              "      <th>bid_size_ex</th>\n",
              "      <td>11.0</td>\n",
              "      <td>0.0</td>\n",
              "      <td>NaN</td>\n",
              "      <td>0.0</td>\n",
              "      <td>80.0</td>\n",
              "    </tr>\n",
              "    <tr>\n",
              "      <th>ask_size_ex</th>\n",
              "      <td>11.0</td>\n",
              "      <td>31.0</td>\n",
              "      <td>NaN</td>\n",
              "      <td>56.0</td>\n",
              "      <td>21.0</td>\n",
              "    </tr>\n",
              "    <tr>\n",
              "      <th>price_all_lead</th>\n",
              "      <td>2.83</td>\n",
              "      <td>0.28</td>\n",
              "      <td>1.3</td>\n",
              "      <td>0.03</td>\n",
              "      <td>0.15</td>\n",
              "    </tr>\n",
              "    <tr>\n",
              "      <th>price_all_lag</th>\n",
              "      <td>2.25</td>\n",
              "      <td>0.21</td>\n",
              "      <td>1.35</td>\n",
              "      <td>0.03</td>\n",
              "      <td>0.42</td>\n",
              "    </tr>\n",
              "    <tr>\n",
              "      <th>optionid</th>\n",
              "      <td>106126248.0</td>\n",
              "      <td>105166752.0</td>\n",
              "      <td>106064528.0</td>\n",
              "      <td>105919880.0</td>\n",
              "      <td>105919880.0</td>\n",
              "    </tr>\n",
              "    <tr>\n",
              "      <th>day_vol</th>\n",
              "      <td>10.0</td>\n",
              "      <td>10.0</td>\n",
              "      <td>1.0</td>\n",
              "      <td>20.0</td>\n",
              "      <td>20.0</td>\n",
              "    </tr>\n",
              "    <tr>\n",
              "      <th>price_ex_lead</th>\n",
              "      <td>3.29</td>\n",
              "      <td>0.22</td>\n",
              "      <td>0.37</td>\n",
              "      <td>NaN</td>\n",
              "      <td>NaN</td>\n",
              "    </tr>\n",
              "    <tr>\n",
              "      <th>price_ex_lag</th>\n",
              "      <td>2.3</td>\n",
              "      <td>0.2</td>\n",
              "      <td>1.35</td>\n",
              "      <td>0.04</td>\n",
              "      <td>0.4</td>\n",
              "    </tr>\n",
              "    <tr>\n",
              "      <th>buy_sell</th>\n",
              "      <td>1.0</td>\n",
              "      <td>-1.0</td>\n",
              "      <td>-1.0</td>\n",
              "      <td>-1.0</td>\n",
              "      <td>1.0</td>\n",
              "    </tr>\n",
              "    <tr>\n",
              "      <th>pred_quote_rule</th>\n",
              "      <td>1.0</td>\n",
              "      <td>-1.0</td>\n",
              "      <td>NaN</td>\n",
              "      <td>-1.0</td>\n",
              "      <td>1.0</td>\n",
              "    </tr>\n",
              "    <tr>\n",
              "      <th>pred_tick_test</th>\n",
              "      <td>-1.0</td>\n",
              "      <td>-1.0</td>\n",
              "      <td>1.0</td>\n",
              "      <td>-1.0</td>\n",
              "      <td>-1.0</td>\n",
              "    </tr>\n",
              "    <tr>\n",
              "      <th>pred_trade_size_quote_rule</th>\n",
              "      <td>1.0</td>\n",
              "      <td>-1.0</td>\n",
              "      <td>NaN</td>\n",
              "      <td>-1.0</td>\n",
              "      <td>1.0</td>\n",
              "    </tr>\n",
              "    <tr>\n",
              "      <th>pred_trade_size_tick_test</th>\n",
              "      <td>-1.0</td>\n",
              "      <td>-1.0</td>\n",
              "      <td>1.0</td>\n",
              "      <td>-1.0</td>\n",
              "      <td>-1.0</td>\n",
              "    </tr>\n",
              "    <tr>\n",
              "      <th>pred_rev_tick_test</th>\n",
              "      <td>-1.0</td>\n",
              "      <td>-1.0</td>\n",
              "      <td>1.0</td>\n",
              "      <td>-1.0</td>\n",
              "      <td>-1.0</td>\n",
              "    </tr>\n",
              "    <tr>\n",
              "      <th>pred_trade_size_depth_rule</th>\n",
              "      <td>NaN</td>\n",
              "      <td>NaN</td>\n",
              "      <td>NaN</td>\n",
              "      <td>NaN</td>\n",
              "      <td>NaN</td>\n",
              "    </tr>\n",
              "    <tr>\n",
              "      <th>pred_depth_rule</th>\n",
              "      <td>NaN</td>\n",
              "      <td>NaN</td>\n",
              "      <td>NaN</td>\n",
              "      <td>NaN</td>\n",
              "      <td>NaN</td>\n",
              "    </tr>\n",
              "  </tbody>\n",
              "</table>\n",
              "</div>"
            ]
          },
          "metadata": {},
          "execution_count": 33
        }
      ]
    },
    {
      "cell_type": "code",
      "source": [
        "# Discuss with C. Grauer how results were calculated in table 9. Assign randomly (table 3) (?)\n",
        "pred_quote_rule_random = df['pred_quote_rule'].applymap(lambda l: l if not np.isnan(l) else np.random.choice([-1, 1]))\n",
        "\n",
        "acc = accuracy_score(df['buy_sell'], pred_quote_rule_random)\n",
        "print(f\"{acc:.3%}\")"
      ],
      "metadata": {
        "colab": {
          "base_uri": "https://localhost:8080/"
        },
        "id": "MLUaR_bAG_ox",
        "outputId": "b7648d47-05f9-436d-d865-d9552cbdcf75"
      },
      "execution_count": null,
      "outputs": [
        {
          "output_type": "stream",
          "name": "stdout",
          "text": [
            "56.073%\n"
          ]
        }
      ]
    },
    {
      "cell_type": "code",
      "source": [
        "# Discuss with C. Grauer how results were calculated in table 9. Assign randomly (table 3) (?)\n",
        "pred_trade_size_quote_rule_random = df['pred_trade_size_quote_rule'].applymap(lambda l: l if not np.isnan(l) else np.random.choice([-1, 1]))\n",
        "\n",
        "acc = accuracy_score(df['buy_sell'], pred_trade_size_quote_rule_random)\n",
        "print(f\"{acc:.3%}\")"
      ],
      "metadata": {
        "colab": {
          "base_uri": "https://localhost:8080/"
        },
        "id": "l82-BShY0Rou",
        "outputId": "7f304c6a-0300-470b-9558-9b1a320fbe3b"
      },
      "execution_count": null,
      "outputs": [
        {
          "output_type": "stream",
          "name": "stdout",
          "text": [
            "65.387%\n"
          ]
        }
      ]
    },
    {
      "cell_type": "code",
      "source": [
        "# Discuss with C. Grauer how results were calculated in table 9. Assign randomly (table 3) (?)\n",
        "pred_depth_rule_random = df['pred_depth_rule'].map(lambda l: l if not np.isnan(l) else np.random.choice([-1, 1]))\n",
        "\n",
        "acc = accuracy_score(df['buy_sell'], pred_depth_rule_random)\n",
        "print(f\"{acc:.3%}\")"
      ],
      "metadata": {
        "id": "_XGO8jIUXzrQ",
        "outputId": "33749476-e124-46e9-dd9f-4f5bb71ed6b4",
        "colab": {
          "base_uri": "https://localhost:8080/"
        }
      },
      "execution_count": null,
      "outputs": [
        {
          "output_type": "stream",
          "name": "stdout",
          "text": [
            "51.728%\n"
          ]
        }
      ]
    },
    {
      "cell_type": "code",
      "source": [
        "# Discuss with C. Grauer how results were calculated in table 9. Assign randomly (table 3) (?)\n",
        "pred_trade_size_depth_rule_random = df['pred_trade_size_depth_rule'].map(lambda l: l if not np.isnan(l) else np.random.choice([-1, 1]))\n",
        "\n",
        "acc = accuracy_score(df['buy_sell'], pred_trade_size_depth_rule_random)\n",
        "print(f\"{acc:.3%}\")"
      ],
      "metadata": {
        "id": "_mnfkK6vXb_s",
        "outputId": "f82b32cc-9d6e-47fe-ef59-c4ac68feac9a",
        "colab": {
          "base_uri": "https://localhost:8080/"
        }
      },
      "execution_count": null,
      "outputs": [
        {
          "output_type": "stream",
          "name": "stdout",
          "text": [
            "56.629%\n"
          ]
        }
      ]
    },
    {
      "cell_type": "code",
      "source": [
        "acc = accuracy_score(df['buy_sell'], df['pred_trade_size_tick_test'])\n",
        "print(f\"{acc:.3%}\")"
      ],
      "metadata": {
        "colab": {
          "base_uri": "https://localhost:8080/"
        },
        "id": "M4DQhLAH0l27",
        "outputId": "e45e2709-877a-4443-ce2f-08b1b15c2189"
      },
      "execution_count": null,
      "outputs": [
        {
          "output_type": "stream",
          "name": "stdout",
          "text": [
            "54.617%\n"
          ]
        }
      ]
    },
    {
      "cell_type": "code",
      "source": [
        "acc = accuracy_score(df['buy_sell'], df['pred_tick_test'])\n",
        "print(f\"{acc:.3%}\")"
      ],
      "metadata": {
        "colab": {
          "base_uri": "https://localhost:8080/"
        },
        "id": "YNkA2orOrdac",
        "outputId": "5c625a54-9447-4336-f12e-ade3509686f1"
      },
      "execution_count": null,
      "outputs": [
        {
          "output_type": "stream",
          "name": "stdout",
          "text": [
            "49.181%\n"
          ]
        }
      ]
    },
    {
      "cell_type": "code",
      "source": [
        "acc = accuracy_score(df['buy_sell'], df['pred_rev_tick_test'])\n",
        "print(f\"{acc:.3%}\")"
      ],
      "metadata": {
        "id": "mRGOt63GFsmS",
        "outputId": "acfece1d-7519-4f16-9636-112af66ef8c8",
        "colab": {
          "base_uri": "https://localhost:8080/"
        }
      },
      "execution_count": null,
      "outputs": [
        {
          "output_type": "stream",
          "name": "stdout",
          "text": [
            "53.864%\n"
          ]
        }
      ]
    }
  ],
  "metadata": {
    "colab": {
      "name": "Untitled2.ipynb",
      "provenance": [],
      "machine_shape": "hm",
      "include_colab_link": true
    },
    "kernelspec": {
      "display_name": "Python 3",
      "name": "python3"
    },
    "language_info": {
      "name": "python"
    },
    "gpuClass": "standard"
  },
  "nbformat": 4,
  "nbformat_minor": 0
}