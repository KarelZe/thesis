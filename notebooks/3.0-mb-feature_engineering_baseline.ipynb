{
  "cells": [
    {
      "cell_type": "markdown",
      "metadata": {
        "id": "view-in-github",
        "colab_type": "text"
      },
      "source": [
        "<a href=\"https://colab.research.google.com/github/KarelZe/thesis/blob/baseline/notebooks/3.0-mb-feature_engineering_baseline.ipynb\" target=\"_parent\"><img src=\"https://colab.research.google.com/assets/colab-badge.svg\" alt=\"Open In Colab\"/></a>"
      ]
    },
    {
      "cell_type": "code",
      "source": [
        "!pip install catboost==1.1\n",
        "!pip install gcsfs==2022.10.0\n",
        "!pip install ipywidgets==8.0.2\n",
        "!pip install numpy==1.23.4\n",
        "!pip install pandas==1.5.1\n",
        "!pip install optuna==3.0.3\n",
        "!pip install scikit-learn==1.1.3\n",
        "!pip install seaborn==0.12.1\n",
        "!pip install wandb==0.13.4"
      ],
      "metadata": {
        "colab": {
          "base_uri": "https://localhost:8080/"
        },
        "id": "LQwYMQAr-0vu",
        "outputId": "9b7d732e-2204-4dbe-b83b-0786e86d74a8"
      },
      "execution_count": 45,
      "outputs": [
        {
          "output_type": "stream",
          "name": "stdout",
          "text": [
            "Looking in indexes: https://pypi.org/simple, https://us-python.pkg.dev/colab-wheels/public/simple/\n",
            "Requirement already satisfied: catboost==1.1 in /usr/local/lib/python3.7/dist-packages (1.1)\n",
            "Requirement already satisfied: pandas>=0.24.0 in /usr/local/lib/python3.7/dist-packages (from catboost==1.1) (1.3.5)\n",
            "Requirement already satisfied: graphviz in /usr/local/lib/python3.7/dist-packages (from catboost==1.1) (0.10.1)\n",
            "Requirement already satisfied: matplotlib in /usr/local/lib/python3.7/dist-packages (from catboost==1.1) (3.2.2)\n",
            "Requirement already satisfied: numpy>=1.16.0 in /usr/local/lib/python3.7/dist-packages (from catboost==1.1) (1.21.6)\n",
            "Requirement already satisfied: six in /usr/local/lib/python3.7/dist-packages (from catboost==1.1) (1.15.0)\n",
            "Requirement already satisfied: scipy in /usr/local/lib/python3.7/dist-packages (from catboost==1.1) (1.7.3)\n",
            "Requirement already satisfied: plotly in /usr/local/lib/python3.7/dist-packages (from catboost==1.1) (5.5.0)\n",
            "Requirement already satisfied: pytz>=2017.3 in /usr/local/lib/python3.7/dist-packages (from pandas>=0.24.0->catboost==1.1) (2022.5)\n",
            "Requirement already satisfied: python-dateutil>=2.7.3 in /usr/local/lib/python3.7/dist-packages (from pandas>=0.24.0->catboost==1.1) (2.8.2)\n",
            "Requirement already satisfied: cycler>=0.10 in /usr/local/lib/python3.7/dist-packages (from matplotlib->catboost==1.1) (0.11.0)\n",
            "Requirement already satisfied: kiwisolver>=1.0.1 in /usr/local/lib/python3.7/dist-packages (from matplotlib->catboost==1.1) (1.4.4)\n",
            "Requirement already satisfied: pyparsing!=2.0.4,!=2.1.2,!=2.1.6,>=2.0.1 in /usr/local/lib/python3.7/dist-packages (from matplotlib->catboost==1.1) (3.0.9)\n",
            "Requirement already satisfied: typing-extensions in /usr/local/lib/python3.7/dist-packages (from kiwisolver>=1.0.1->matplotlib->catboost==1.1) (4.1.1)\n",
            "Requirement already satisfied: tenacity>=6.2.0 in /usr/local/lib/python3.7/dist-packages (from plotly->catboost==1.1) (8.1.0)\n",
            "Looking in indexes: https://pypi.org/simple, https://us-python.pkg.dev/colab-wheels/public/simple/\n",
            "Requirement already satisfied: gcsfs==2022.10.0 in /usr/local/lib/python3.7/dist-packages (2022.10.0)\n",
            "Requirement already satisfied: fsspec==2022.10.0 in /usr/local/lib/python3.7/dist-packages (from gcsfs==2022.10.0) (2022.10.0)\n",
            "Requirement already satisfied: google-auth-oauthlib in /usr/local/lib/python3.7/dist-packages (from gcsfs==2022.10.0) (0.4.6)\n",
            "Requirement already satisfied: google-cloud-storage in /usr/local/lib/python3.7/dist-packages (from gcsfs==2022.10.0) (1.18.1)\n",
            "Requirement already satisfied: decorator>4.1.2 in /usr/local/lib/python3.7/dist-packages (from gcsfs==2022.10.0) (4.4.2)\n",
            "Requirement already satisfied: google-auth>=1.2 in /usr/local/lib/python3.7/dist-packages (from gcsfs==2022.10.0) (1.35.0)\n",
            "Requirement already satisfied: aiohttp!=4.0.0a0,!=4.0.0a1 in /usr/local/lib/python3.7/dist-packages (from gcsfs==2022.10.0) (3.8.3)\n",
            "Requirement already satisfied: requests in /usr/local/lib/python3.7/dist-packages (from gcsfs==2022.10.0) (2.23.0)\n",
            "Requirement already satisfied: multidict<7.0,>=4.5 in /usr/local/lib/python3.7/dist-packages (from aiohttp!=4.0.0a0,!=4.0.0a1->gcsfs==2022.10.0) (6.0.2)\n",
            "Requirement already satisfied: typing-extensions>=3.7.4 in /usr/local/lib/python3.7/dist-packages (from aiohttp!=4.0.0a0,!=4.0.0a1->gcsfs==2022.10.0) (4.1.1)\n",
            "Requirement already satisfied: attrs>=17.3.0 in /usr/local/lib/python3.7/dist-packages (from aiohttp!=4.0.0a0,!=4.0.0a1->gcsfs==2022.10.0) (22.1.0)\n",
            "Requirement already satisfied: asynctest==0.13.0 in /usr/local/lib/python3.7/dist-packages (from aiohttp!=4.0.0a0,!=4.0.0a1->gcsfs==2022.10.0) (0.13.0)\n",
            "Requirement already satisfied: yarl<2.0,>=1.0 in /usr/local/lib/python3.7/dist-packages (from aiohttp!=4.0.0a0,!=4.0.0a1->gcsfs==2022.10.0) (1.8.1)\n",
            "Requirement already satisfied: aiosignal>=1.1.2 in /usr/local/lib/python3.7/dist-packages (from aiohttp!=4.0.0a0,!=4.0.0a1->gcsfs==2022.10.0) (1.2.0)\n",
            "Requirement already satisfied: async-timeout<5.0,>=4.0.0a3 in /usr/local/lib/python3.7/dist-packages (from aiohttp!=4.0.0a0,!=4.0.0a1->gcsfs==2022.10.0) (4.0.2)\n",
            "Requirement already satisfied: frozenlist>=1.1.1 in /usr/local/lib/python3.7/dist-packages (from aiohttp!=4.0.0a0,!=4.0.0a1->gcsfs==2022.10.0) (1.3.1)\n",
            "Requirement already satisfied: charset-normalizer<3.0,>=2.0 in /usr/local/lib/python3.7/dist-packages (from aiohttp!=4.0.0a0,!=4.0.0a1->gcsfs==2022.10.0) (2.1.1)\n",
            "Requirement already satisfied: setuptools>=40.3.0 in /usr/local/lib/python3.7/dist-packages (from google-auth>=1.2->gcsfs==2022.10.0) (57.4.0)\n",
            "Requirement already satisfied: six>=1.9.0 in /usr/local/lib/python3.7/dist-packages (from google-auth>=1.2->gcsfs==2022.10.0) (1.15.0)\n",
            "Requirement already satisfied: rsa<5,>=3.1.4 in /usr/local/lib/python3.7/dist-packages (from google-auth>=1.2->gcsfs==2022.10.0) (4.9)\n",
            "Requirement already satisfied: pyasn1-modules>=0.2.1 in /usr/local/lib/python3.7/dist-packages (from google-auth>=1.2->gcsfs==2022.10.0) (0.2.8)\n",
            "Requirement already satisfied: cachetools<5.0,>=2.0.0 in /usr/local/lib/python3.7/dist-packages (from google-auth>=1.2->gcsfs==2022.10.0) (4.2.4)\n",
            "Requirement already satisfied: pyasn1<0.5.0,>=0.4.6 in /usr/local/lib/python3.7/dist-packages (from pyasn1-modules>=0.2.1->google-auth>=1.2->gcsfs==2022.10.0) (0.4.8)\n",
            "Requirement already satisfied: idna>=2.0 in /usr/local/lib/python3.7/dist-packages (from yarl<2.0,>=1.0->aiohttp!=4.0.0a0,!=4.0.0a1->gcsfs==2022.10.0) (2.10)\n",
            "Requirement already satisfied: requests-oauthlib>=0.7.0 in /usr/local/lib/python3.7/dist-packages (from google-auth-oauthlib->gcsfs==2022.10.0) (1.3.1)\n",
            "Requirement already satisfied: oauthlib>=3.0.0 in /usr/local/lib/python3.7/dist-packages (from requests-oauthlib>=0.7.0->google-auth-oauthlib->gcsfs==2022.10.0) (3.2.2)\n",
            "Requirement already satisfied: chardet<4,>=3.0.2 in /usr/local/lib/python3.7/dist-packages (from requests->gcsfs==2022.10.0) (3.0.4)\n",
            "Requirement already satisfied: certifi>=2017.4.17 in /usr/local/lib/python3.7/dist-packages (from requests->gcsfs==2022.10.0) (2022.9.24)\n",
            "Requirement already satisfied: urllib3!=1.25.0,!=1.25.1,<1.26,>=1.21.1 in /usr/local/lib/python3.7/dist-packages (from requests->gcsfs==2022.10.0) (1.24.3)\n",
            "Requirement already satisfied: google-resumable-media<0.5.0dev,>=0.3.1 in /usr/local/lib/python3.7/dist-packages (from google-cloud-storage->gcsfs==2022.10.0) (0.4.1)\n",
            "Requirement already satisfied: google-cloud-core<2.0dev,>=1.0.0 in /usr/local/lib/python3.7/dist-packages (from google-cloud-storage->gcsfs==2022.10.0) (1.0.3)\n",
            "Requirement already satisfied: google-api-core<2.0.0dev,>=1.14.0 in /usr/local/lib/python3.7/dist-packages (from google-cloud-core<2.0dev,>=1.0.0->google-cloud-storage->gcsfs==2022.10.0) (1.31.6)\n",
            "Requirement already satisfied: packaging>=14.3 in /usr/local/lib/python3.7/dist-packages (from google-api-core<2.0.0dev,>=1.14.0->google-cloud-core<2.0dev,>=1.0.0->google-cloud-storage->gcsfs==2022.10.0) (21.3)\n",
            "Requirement already satisfied: googleapis-common-protos<2.0dev,>=1.6.0 in /usr/local/lib/python3.7/dist-packages (from google-api-core<2.0.0dev,>=1.14.0->google-cloud-core<2.0dev,>=1.0.0->google-cloud-storage->gcsfs==2022.10.0) (1.56.4)\n",
            "Requirement already satisfied: pytz in /usr/local/lib/python3.7/dist-packages (from google-api-core<2.0.0dev,>=1.14.0->google-cloud-core<2.0dev,>=1.0.0->google-cloud-storage->gcsfs==2022.10.0) (2022.5)\n",
            "Requirement already satisfied: protobuf<4.0.0dev,>=3.12.0 in /usr/local/lib/python3.7/dist-packages (from google-api-core<2.0.0dev,>=1.14.0->google-cloud-core<2.0dev,>=1.0.0->google-cloud-storage->gcsfs==2022.10.0) (3.17.3)\n",
            "Requirement already satisfied: pyparsing!=3.0.5,>=2.0.2 in /usr/local/lib/python3.7/dist-packages (from packaging>=14.3->google-api-core<2.0.0dev,>=1.14.0->google-cloud-core<2.0dev,>=1.0.0->google-cloud-storage->gcsfs==2022.10.0) (3.0.9)\n",
            "Looking in indexes: https://pypi.org/simple, https://us-python.pkg.dev/colab-wheels/public/simple/\n",
            "Requirement already satisfied: ipywidgets==8.0.2 in /usr/local/lib/python3.7/dist-packages (8.0.2)\n",
            "Requirement already satisfied: ipython>=6.1.0 in /usr/local/lib/python3.7/dist-packages (from ipywidgets==8.0.2) (7.9.0)\n",
            "Requirement already satisfied: jupyterlab-widgets~=3.0 in /usr/local/lib/python3.7/dist-packages (from ipywidgets==8.0.2) (3.0.3)\n",
            "Requirement already satisfied: traitlets>=4.3.1 in /usr/local/lib/python3.7/dist-packages (from ipywidgets==8.0.2) (5.1.1)\n",
            "Requirement already satisfied: ipykernel>=4.5.1 in /usr/local/lib/python3.7/dist-packages (from ipywidgets==8.0.2) (5.3.4)\n",
            "Requirement already satisfied: widgetsnbextension~=4.0 in /usr/local/lib/python3.7/dist-packages (from ipywidgets==8.0.2) (4.0.3)\n",
            "Requirement already satisfied: tornado>=4.2 in /usr/local/lib/python3.7/dist-packages (from ipykernel>=4.5.1->ipywidgets==8.0.2) (5.1.1)\n",
            "Requirement already satisfied: jupyter-client in /usr/local/lib/python3.7/dist-packages (from ipykernel>=4.5.1->ipywidgets==8.0.2) (6.1.12)\n",
            "Requirement already satisfied: setuptools>=18.5 in /usr/local/lib/python3.7/dist-packages (from ipython>=6.1.0->ipywidgets==8.0.2) (57.4.0)\n",
            "Requirement already satisfied: decorator in /usr/local/lib/python3.7/dist-packages (from ipython>=6.1.0->ipywidgets==8.0.2) (4.4.2)\n",
            "Requirement already satisfied: jedi>=0.10 in /usr/local/lib/python3.7/dist-packages (from ipython>=6.1.0->ipywidgets==8.0.2) (0.18.1)\n",
            "Requirement already satisfied: prompt-toolkit<2.1.0,>=2.0.0 in /usr/local/lib/python3.7/dist-packages (from ipython>=6.1.0->ipywidgets==8.0.2) (2.0.10)\n",
            "Requirement already satisfied: backcall in /usr/local/lib/python3.7/dist-packages (from ipython>=6.1.0->ipywidgets==8.0.2) (0.2.0)\n",
            "Requirement already satisfied: pexpect in /usr/local/lib/python3.7/dist-packages (from ipython>=6.1.0->ipywidgets==8.0.2) (4.8.0)\n",
            "Requirement already satisfied: pickleshare in /usr/local/lib/python3.7/dist-packages (from ipython>=6.1.0->ipywidgets==8.0.2) (0.7.5)\n",
            "Requirement already satisfied: pygments in /usr/local/lib/python3.7/dist-packages (from ipython>=6.1.0->ipywidgets==8.0.2) (2.6.1)\n",
            "Requirement already satisfied: parso<0.9.0,>=0.8.0 in /usr/local/lib/python3.7/dist-packages (from jedi>=0.10->ipython>=6.1.0->ipywidgets==8.0.2) (0.8.3)\n",
            "Requirement already satisfied: wcwidth in /usr/local/lib/python3.7/dist-packages (from prompt-toolkit<2.1.0,>=2.0.0->ipython>=6.1.0->ipywidgets==8.0.2) (0.2.5)\n",
            "Requirement already satisfied: six>=1.9.0 in /usr/local/lib/python3.7/dist-packages (from prompt-toolkit<2.1.0,>=2.0.0->ipython>=6.1.0->ipywidgets==8.0.2) (1.15.0)\n",
            "Requirement already satisfied: jupyter-core>=4.6.0 in /usr/local/lib/python3.7/dist-packages (from jupyter-client->ipykernel>=4.5.1->ipywidgets==8.0.2) (4.11.2)\n",
            "Requirement already satisfied: pyzmq>=13 in /usr/local/lib/python3.7/dist-packages (from jupyter-client->ipykernel>=4.5.1->ipywidgets==8.0.2) (23.2.1)\n",
            "Requirement already satisfied: python-dateutil>=2.1 in /usr/local/lib/python3.7/dist-packages (from jupyter-client->ipykernel>=4.5.1->ipywidgets==8.0.2) (2.8.2)\n",
            "Requirement already satisfied: ptyprocess>=0.5 in /usr/local/lib/python3.7/dist-packages (from pexpect->ipython>=6.1.0->ipywidgets==8.0.2) (0.7.0)\n",
            "Looking in indexes: https://pypi.org/simple, https://us-python.pkg.dev/colab-wheels/public/simple/\n",
            "\u001b[31mERROR: Could not find a version that satisfies the requirement numpy==1.23.4 (from versions: 1.3.0, 1.4.1, 1.5.0, 1.5.1, 1.6.0, 1.6.1, 1.6.2, 1.7.0, 1.7.1, 1.7.2, 1.8.0, 1.8.1, 1.8.2, 1.9.0, 1.9.1, 1.9.2, 1.9.3, 1.10.0.post2, 1.10.1, 1.10.2, 1.10.4, 1.11.0, 1.11.1, 1.11.2, 1.11.3, 1.12.0, 1.12.1, 1.13.0rc1, 1.13.0rc2, 1.13.0, 1.13.1, 1.13.3, 1.14.0rc1, 1.14.0, 1.14.1, 1.14.2, 1.14.3, 1.14.4, 1.14.5, 1.14.6, 1.15.0rc1, 1.15.0rc2, 1.15.0, 1.15.1, 1.15.2, 1.15.3, 1.15.4, 1.16.0rc1, 1.16.0rc2, 1.16.0, 1.16.1, 1.16.2, 1.16.3, 1.16.4, 1.16.5, 1.16.6, 1.17.0rc1, 1.17.0rc2, 1.17.0, 1.17.1, 1.17.2, 1.17.3, 1.17.4, 1.17.5, 1.18.0rc1, 1.18.0, 1.18.1, 1.18.2, 1.18.3, 1.18.4, 1.18.5, 1.19.0rc1, 1.19.0rc2, 1.19.0, 1.19.1, 1.19.2, 1.19.3, 1.19.4, 1.19.5, 1.20.0rc1, 1.20.0rc2, 1.20.0, 1.20.1, 1.20.2, 1.20.3, 1.21.0rc1, 1.21.0rc2, 1.21.0, 1.21.1, 1.21.2, 1.21.3, 1.21.4, 1.21.5, 1.21.6)\u001b[0m\n",
            "\u001b[31mERROR: No matching distribution found for numpy==1.23.4\u001b[0m\n",
            "Looking in indexes: https://pypi.org/simple, https://us-python.pkg.dev/colab-wheels/public/simple/\n",
            "\u001b[31mERROR: Could not find a version that satisfies the requirement pandas==1.5.1 (from versions: 0.1, 0.2, 0.3.0, 0.4.0, 0.4.1, 0.4.2, 0.4.3, 0.5.0, 0.6.0, 0.6.1, 0.7.0, 0.7.1, 0.7.2, 0.7.3, 0.8.0, 0.8.1, 0.9.0, 0.9.1, 0.10.0, 0.10.1, 0.11.0, 0.12.0, 0.13.0, 0.13.1, 0.14.0, 0.14.1, 0.15.0, 0.15.1, 0.15.2, 0.16.0, 0.16.1, 0.16.2, 0.17.0, 0.17.1, 0.18.0, 0.18.1, 0.19.0, 0.19.1, 0.19.2, 0.20.0, 0.20.1, 0.20.2, 0.20.3, 0.21.0, 0.21.1, 0.22.0, 0.23.0, 0.23.1, 0.23.2, 0.23.3, 0.23.4, 0.24.0, 0.24.1, 0.24.2, 0.25.0, 0.25.1, 0.25.2, 0.25.3, 1.0.0, 1.0.1, 1.0.2, 1.0.3, 1.0.4, 1.0.5, 1.1.0, 1.1.1, 1.1.2, 1.1.3, 1.1.4, 1.1.5, 1.2.0, 1.2.1, 1.2.2, 1.2.3, 1.2.4, 1.2.5, 1.3.0, 1.3.1, 1.3.2, 1.3.3, 1.3.4, 1.3.5)\u001b[0m\n",
            "\u001b[31mERROR: No matching distribution found for pandas==1.5.1\u001b[0m\n",
            "Looking in indexes: https://pypi.org/simple, https://us-python.pkg.dev/colab-wheels/public/simple/\n",
            "Requirement already satisfied: optuna==3.0.3 in /usr/local/lib/python3.7/dist-packages (3.0.3)\n",
            "Requirement already satisfied: sqlalchemy>=1.3.0 in /usr/local/lib/python3.7/dist-packages (from optuna==3.0.3) (1.4.42)\n",
            "Requirement already satisfied: scipy<1.9.0,>=1.7.0 in /usr/local/lib/python3.7/dist-packages (from optuna==3.0.3) (1.7.3)\n",
            "Requirement already satisfied: colorlog in /usr/local/lib/python3.7/dist-packages (from optuna==3.0.3) (6.7.0)\n",
            "Requirement already satisfied: cliff in /usr/local/lib/python3.7/dist-packages (from optuna==3.0.3) (3.10.1)\n",
            "Requirement already satisfied: alembic>=1.5.0 in /usr/local/lib/python3.7/dist-packages (from optuna==3.0.3) (1.8.1)\n",
            "Requirement already satisfied: PyYAML in /usr/local/lib/python3.7/dist-packages (from optuna==3.0.3) (6.0)\n",
            "Requirement already satisfied: cmaes>=0.8.2 in /usr/local/lib/python3.7/dist-packages (from optuna==3.0.3) (0.8.2)\n",
            "Requirement already satisfied: importlib-metadata<5.0.0 in /usr/local/lib/python3.7/dist-packages (from optuna==3.0.3) (4.13.0)\n",
            "Requirement already satisfied: numpy in /usr/local/lib/python3.7/dist-packages (from optuna==3.0.3) (1.21.6)\n",
            "Requirement already satisfied: packaging>=20.0 in /usr/local/lib/python3.7/dist-packages (from optuna==3.0.3) (21.3)\n",
            "Requirement already satisfied: tqdm in /usr/local/lib/python3.7/dist-packages (from optuna==3.0.3) (4.64.1)\n",
            "Requirement already satisfied: importlib-resources in /usr/local/lib/python3.7/dist-packages (from alembic>=1.5.0->optuna==3.0.3) (5.10.0)\n",
            "Requirement already satisfied: Mako in /usr/local/lib/python3.7/dist-packages (from alembic>=1.5.0->optuna==3.0.3) (1.2.3)\n",
            "Requirement already satisfied: typing-extensions>=3.6.4 in /usr/local/lib/python3.7/dist-packages (from importlib-metadata<5.0.0->optuna==3.0.3) (4.1.1)\n",
            "Requirement already satisfied: zipp>=0.5 in /usr/local/lib/python3.7/dist-packages (from importlib-metadata<5.0.0->optuna==3.0.3) (3.10.0)\n",
            "Requirement already satisfied: pyparsing!=3.0.5,>=2.0.2 in /usr/local/lib/python3.7/dist-packages (from packaging>=20.0->optuna==3.0.3) (3.0.9)\n",
            "Requirement already satisfied: greenlet!=0.4.17 in /usr/local/lib/python3.7/dist-packages (from sqlalchemy>=1.3.0->optuna==3.0.3) (1.1.3.post0)\n",
            "Requirement already satisfied: PrettyTable>=0.7.2 in /usr/local/lib/python3.7/dist-packages (from cliff->optuna==3.0.3) (3.4.1)\n",
            "Requirement already satisfied: cmd2>=1.0.0 in /usr/local/lib/python3.7/dist-packages (from cliff->optuna==3.0.3) (2.4.2)\n",
            "Requirement already satisfied: autopage>=0.4.0 in /usr/local/lib/python3.7/dist-packages (from cliff->optuna==3.0.3) (0.5.1)\n",
            "Requirement already satisfied: pbr!=2.1.0,>=2.0.0 in /usr/local/lib/python3.7/dist-packages (from cliff->optuna==3.0.3) (5.11.0)\n",
            "Requirement already satisfied: stevedore>=2.0.1 in /usr/local/lib/python3.7/dist-packages (from cliff->optuna==3.0.3) (3.5.2)\n",
            "Requirement already satisfied: attrs>=16.3.0 in /usr/local/lib/python3.7/dist-packages (from cmd2>=1.0.0->cliff->optuna==3.0.3) (22.1.0)\n",
            "Requirement already satisfied: pyperclip>=1.6 in /usr/local/lib/python3.7/dist-packages (from cmd2>=1.0.0->cliff->optuna==3.0.3) (1.8.2)\n",
            "Requirement already satisfied: wcwidth>=0.1.7 in /usr/local/lib/python3.7/dist-packages (from cmd2>=1.0.0->cliff->optuna==3.0.3) (0.2.5)\n",
            "Requirement already satisfied: MarkupSafe>=0.9.2 in /usr/local/lib/python3.7/dist-packages (from Mako->alembic>=1.5.0->optuna==3.0.3) (2.0.1)\n",
            "Looking in indexes: https://pypi.org/simple, https://us-python.pkg.dev/colab-wheels/public/simple/\n",
            "\u001b[31mERROR: Could not find a version that satisfies the requirement scikit-learn==1.1.3 (from versions: 0.9, 0.10, 0.11, 0.12, 0.12.1, 0.13, 0.13.1, 0.14, 0.14.1, 0.15.0b1, 0.15.0b2, 0.15.0, 0.15.1, 0.15.2, 0.16b1, 0.16.0, 0.16.1, 0.17b1, 0.17, 0.17.1, 0.18, 0.18.1, 0.18.2, 0.19b2, 0.19.0, 0.19.1, 0.19.2, 0.20rc1, 0.20.0, 0.20.1, 0.20.2, 0.20.3, 0.20.4, 0.21rc2, 0.21.0, 0.21.1, 0.21.2, 0.21.3, 0.22rc2.post1, 0.22rc3, 0.22, 0.22.1, 0.22.2, 0.22.2.post1, 0.23.0rc1, 0.23.0, 0.23.1, 0.23.2, 0.24.dev0, 0.24.0rc1, 0.24.0, 0.24.1, 0.24.2, 1.0rc1, 1.0rc2, 1.0, 1.0.1, 1.0.2)\u001b[0m\n",
            "\u001b[31mERROR: No matching distribution found for scikit-learn==1.1.3\u001b[0m\n",
            "Looking in indexes: https://pypi.org/simple, https://us-python.pkg.dev/colab-wheels/public/simple/\n",
            "Requirement already satisfied: seaborn==0.12.1 in /usr/local/lib/python3.7/dist-packages (0.12.1)\n",
            "Requirement already satisfied: matplotlib!=3.6.1,>=3.1 in /usr/local/lib/python3.7/dist-packages (from seaborn==0.12.1) (3.2.2)\n",
            "Requirement already satisfied: typing_extensions in /usr/local/lib/python3.7/dist-packages (from seaborn==0.12.1) (4.1.1)\n",
            "Requirement already satisfied: numpy>=1.17 in /usr/local/lib/python3.7/dist-packages (from seaborn==0.12.1) (1.21.6)\n",
            "Requirement already satisfied: pandas>=0.25 in /usr/local/lib/python3.7/dist-packages (from seaborn==0.12.1) (1.3.5)\n",
            "Requirement already satisfied: cycler>=0.10 in /usr/local/lib/python3.7/dist-packages (from matplotlib!=3.6.1,>=3.1->seaborn==0.12.1) (0.11.0)\n",
            "Requirement already satisfied: kiwisolver>=1.0.1 in /usr/local/lib/python3.7/dist-packages (from matplotlib!=3.6.1,>=3.1->seaborn==0.12.1) (1.4.4)\n",
            "Requirement already satisfied: pyparsing!=2.0.4,!=2.1.2,!=2.1.6,>=2.0.1 in /usr/local/lib/python3.7/dist-packages (from matplotlib!=3.6.1,>=3.1->seaborn==0.12.1) (3.0.9)\n",
            "Requirement already satisfied: python-dateutil>=2.1 in /usr/local/lib/python3.7/dist-packages (from matplotlib!=3.6.1,>=3.1->seaborn==0.12.1) (2.8.2)\n",
            "Requirement already satisfied: pytz>=2017.3 in /usr/local/lib/python3.7/dist-packages (from pandas>=0.25->seaborn==0.12.1) (2022.5)\n",
            "Requirement already satisfied: six>=1.5 in /usr/local/lib/python3.7/dist-packages (from python-dateutil>=2.1->matplotlib!=3.6.1,>=3.1->seaborn==0.12.1) (1.15.0)\n",
            "Looking in indexes: https://pypi.org/simple, https://us-python.pkg.dev/colab-wheels/public/simple/\n",
            "Requirement already satisfied: wandb==0.13.4 in /usr/local/lib/python3.7/dist-packages (0.13.4)\n",
            "Requirement already satisfied: GitPython>=1.0.0 in /usr/local/lib/python3.7/dist-packages (from wandb==0.13.4) (3.1.29)\n",
            "Requirement already satisfied: shortuuid>=0.5.0 in /usr/local/lib/python3.7/dist-packages (from wandb==0.13.4) (1.0.9)\n",
            "Requirement already satisfied: setuptools in /usr/local/lib/python3.7/dist-packages (from wandb==0.13.4) (57.4.0)\n",
            "Requirement already satisfied: six>=1.13.0 in /usr/local/lib/python3.7/dist-packages (from wandb==0.13.4) (1.15.0)\n",
            "Requirement already satisfied: PyYAML in /usr/local/lib/python3.7/dist-packages (from wandb==0.13.4) (6.0)\n",
            "Requirement already satisfied: Click!=8.0.0,>=7.0 in /usr/local/lib/python3.7/dist-packages (from wandb==0.13.4) (7.1.2)\n",
            "Requirement already satisfied: requests<3,>=2.0.0 in /usr/local/lib/python3.7/dist-packages (from wandb==0.13.4) (2.23.0)\n",
            "Requirement already satisfied: protobuf!=4.0.*,!=4.21.0,<5,>=3.12.0 in /usr/local/lib/python3.7/dist-packages (from wandb==0.13.4) (3.17.3)\n",
            "Requirement already satisfied: psutil>=5.0.0 in /usr/local/lib/python3.7/dist-packages (from wandb==0.13.4) (5.4.8)\n",
            "Requirement already satisfied: docker-pycreds>=0.4.0 in /usr/local/lib/python3.7/dist-packages (from wandb==0.13.4) (0.4.0)\n",
            "Requirement already satisfied: promise<3,>=2.0 in /usr/local/lib/python3.7/dist-packages (from wandb==0.13.4) (2.3)\n",
            "Requirement already satisfied: pathtools in /usr/local/lib/python3.7/dist-packages (from wandb==0.13.4) (0.1.2)\n",
            "Requirement already satisfied: setproctitle in /usr/local/lib/python3.7/dist-packages (from wandb==0.13.4) (1.3.2)\n",
            "Requirement already satisfied: sentry-sdk>=1.0.0 in /usr/local/lib/python3.7/dist-packages (from wandb==0.13.4) (1.9.0)\n",
            "Requirement already satisfied: typing-extensions>=3.7.4.3 in /usr/local/lib/python3.7/dist-packages (from GitPython>=1.0.0->wandb==0.13.4) (4.1.1)\n",
            "Requirement already satisfied: gitdb<5,>=4.0.1 in /usr/local/lib/python3.7/dist-packages (from GitPython>=1.0.0->wandb==0.13.4) (4.0.9)\n",
            "Requirement already satisfied: smmap<6,>=3.0.1 in /usr/local/lib/python3.7/dist-packages (from gitdb<5,>=4.0.1->GitPython>=1.0.0->wandb==0.13.4) (5.0.0)\n",
            "Requirement already satisfied: chardet<4,>=3.0.2 in /usr/local/lib/python3.7/dist-packages (from requests<3,>=2.0.0->wandb==0.13.4) (3.0.4)\n",
            "Requirement already satisfied: certifi>=2017.4.17 in /usr/local/lib/python3.7/dist-packages (from requests<3,>=2.0.0->wandb==0.13.4) (2022.9.24)\n",
            "Requirement already satisfied: idna<3,>=2.5 in /usr/local/lib/python3.7/dist-packages (from requests<3,>=2.0.0->wandb==0.13.4) (2.10)\n",
            "Requirement already satisfied: urllib3!=1.25.0,!=1.25.1,<1.26,>=1.21.1 in /usr/local/lib/python3.7/dist-packages (from requests<3,>=2.0.0->wandb==0.13.4) (1.24.3)\n"
          ]
        }
      ]
    },
    {
      "cell_type": "code",
      "source": [
        "import os\n",
        "import random\n",
        "\n",
        "from catboost import CatBoostClassifier, MetricVisualizer\n",
        "\n",
        "import gcsfs\n",
        "import google.auth\n",
        "from google.colab import auth, output\n",
        "\n",
        "import numpy as np\n",
        "import pandas as pd\n",
        "import optuna\n",
        "from optuna.integration.wandb import WeightsAndBiasesCallback\n",
        "\n",
        "from sklearn.preprocessing import StandardScaler\n",
        "from sklearn.metrics import accuracy_score\n",
        "\n",
        "import seaborn as sns\n",
        "\n",
        "from tqdm.notebook import tqdm\n",
        "import wandb"
      ],
      "metadata": {
        "id": "7WXF7w4VyVgG"
      },
      "execution_count": 46,
      "outputs": []
    },
    {
      "cell_type": "code",
      "execution_count": 47,
      "metadata": {
        "id": "tOtLR4B0R-ql",
        "colab": {
          "base_uri": "https://localhost:8080/",
          "height": 399
        },
        "outputId": "5925dee4-beea-4a86-b10f-48a482c42652"
      },
      "outputs": [
        {
          "output_type": "display_data",
          "data": {
            "text/plain": [
              "<IPython.core.display.HTML object>"
            ],
            "text/html": [
              "Finishing last run (ID:sv26un2y) before initializing another..."
            ]
          },
          "metadata": {}
        },
        {
          "output_type": "display_data",
          "data": {
            "text/plain": [
              "<IPython.core.display.HTML object>"
            ],
            "text/html": [
              "Waiting for W&B process to finish... <strong style=\"color:green\">(success).</strong>"
            ]
          },
          "metadata": {}
        },
        {
          "output_type": "display_data",
          "data": {
            "text/plain": [
              "<IPython.core.display.HTML object>"
            ],
            "text/html": [
              "<style>\n",
              "    table.wandb td:nth-child(1) { padding: 0 10px; text-align: left ; width: auto;} td:nth-child(2) {text-align: left ; width: 100%}\n",
              "    .wandb-row { display: flex; flex-direction: row; flex-wrap: wrap; justify-content: flex-start; width: 100% }\n",
              "    .wandb-col { display: flex; flex-direction: column; flex-basis: 100%; flex: 1; padding: 10px; }\n",
              "    </style>\n",
              "<div class=\"wandb-row\"><div class=\"wandb-col\"><h3>Run history:</h3><br/><table class=\"wandb\"><tr><td>depth</td><td>▁█</td></tr><tr><td>iterations</td><td>█▁</td></tr><tr><td>learning_rate</td><td>█▁</td></tr><tr><td>value</td><td>█▁</td></tr></table><br/></div><div class=\"wandb-col\"><h3>Run summary:</h3><br/><table class=\"wandb\"><tr><td>depth</td><td>7</td></tr><tr><td>grow_policy</td><td>Depthwise</td></tr><tr><td>iterations</td><td>164</td></tr><tr><td>learning_rate</td><td>0.0068</td></tr><tr><td>loss_function</td><td>Logloss</td></tr><tr><td>value</td><td>0.70572</td></tr></table><br/></div></div>"
            ]
          },
          "metadata": {}
        },
        {
          "output_type": "display_data",
          "data": {
            "text/plain": [
              "<IPython.core.display.HTML object>"
            ],
            "text/html": [
              "Synced <strong style=\"color:#cdcd00\">mild-elevator-38</strong>: <a href=\"https://wandb.ai/fbv/thesis/runs/sv26un2y\" target=\"_blank\">https://wandb.ai/fbv/thesis/runs/sv26un2y</a><br/>Synced 5 W&B file(s), 0 media file(s), 0 artifact file(s) and 0 other file(s)"
            ]
          },
          "metadata": {}
        },
        {
          "output_type": "display_data",
          "data": {
            "text/plain": [
              "<IPython.core.display.HTML object>"
            ],
            "text/html": [
              "Find logs at: <code>./wandb/run-20221103_071116-sv26un2y/logs</code>"
            ]
          },
          "metadata": {}
        },
        {
          "output_type": "display_data",
          "data": {
            "text/plain": [
              "<IPython.core.display.HTML object>"
            ],
            "text/html": [
              "Successfully finished last run (ID:sv26un2y). Initializing new run:<br/>"
            ]
          },
          "metadata": {}
        },
        {
          "output_type": "display_data",
          "data": {
            "text/plain": [
              "<IPython.core.display.HTML object>"
            ],
            "text/html": [
              "Tracking run with wandb version 0.13.4"
            ]
          },
          "metadata": {}
        },
        {
          "output_type": "display_data",
          "data": {
            "text/plain": [
              "<IPython.core.display.HTML object>"
            ],
            "text/html": [
              "Run data is saved locally in <code>/content/wandb/run-20221103_071813-3hrdoceg</code>"
            ]
          },
          "metadata": {}
        },
        {
          "output_type": "display_data",
          "data": {
            "text/plain": [
              "<IPython.core.display.HTML object>"
            ],
            "text/html": [
              "Syncing run <strong><a href=\"https://wandb.ai/fbv/thesis/runs/3hrdoceg\" target=\"_blank\">twilight-vortex-39</a></strong> to <a href=\"https://wandb.ai/fbv/thesis\" target=\"_blank\">Weights & Biases</a> (<a href=\"https://wandb.me/run\" target=\"_blank\">docs</a>)<br/>"
            ]
          },
          "metadata": {}
        }
      ],
      "source": [
        "# connect to weights and biases\n",
        "run = wandb.init(project=\"thesis\", job_type=\"dataset-creation\", entity=\"fbv\")\n",
        "dataset = wandb.Artifact(name='train_val_test', type=\"preprocessed_data\")"
      ]
    },
    {
      "cell_type": "code",
      "source": [
        "# connect to google cloud storage\n",
        "auth.authenticate_user()\n",
        "credentials, _ = google.auth.default()\n",
        "fs = gcsfs.GCSFileSystem(project=\"thesis\", token=credentials)\n",
        "fs_prefix = \"gs://\""
      ],
      "metadata": {
        "id": "A-eGOVujp_TN"
      },
      "execution_count": 48,
      "outputs": []
    },
    {
      "cell_type": "code",
      "source": [
        "output.enable_custom_widget_manager()"
      ],
      "metadata": {
        "id": "oUZrGE8U_kDA"
      },
      "execution_count": 49,
      "outputs": []
    },
    {
      "cell_type": "code",
      "source": [
        "# set fixed seed\n",
        "def seed_everything(seed): \n",
        "  \"\"\" \n",
        "  Seeds basic parameters for reproducibility of results \n",
        "  \"\"\" \n",
        "  os.environ[\"PYTHONHASHSEED\"] = str(seed) \n",
        "  random.seed(seed)\n",
        "\n",
        "seed = 42\n",
        "seed_everything(seed)"
      ],
      "metadata": {
        "id": "EF0_Mz8DYjGz"
      },
      "execution_count": 50,
      "outputs": []
    },
    {
      "cell_type": "code",
      "source": [
        "train = pd.read_parquet(f\"gs://thesis-bucket-option-trade-classification/data/preprocessed/train_set_60.parquet\")\n",
        "val = pd.read_parquet(f\"gs://thesis-bucket-option-trade-classification/data/preprocessed/val_set_20.parquet\")\n",
        "test = pd.read_parquet(f\"gs://thesis-bucket-option-trade-classification/data/preprocessed/test_set_20.parquet\")"
      ],
      "metadata": {
        "id": "WmXtH-PEqyQE"
      },
      "execution_count": 51,
      "outputs": []
    },
    {
      "cell_type": "code",
      "source": [
        "train.head(10)"
      ],
      "metadata": {
        "colab": {
          "base_uri": "https://localhost:8080/",
          "height": 630
        },
        "id": "MYosl7qJwYFS",
        "outputId": "0355a05e-14f6-4c17-ce96-8862cefa24e0"
      },
      "execution_count": 52,
      "outputs": [
        {
          "output_type": "execute_result",
          "data": {
            "text/plain": [
              "  UNDERLYING_SYMBOL      QUOTE_DATETIME  SEQUENCE_NUMBER ROOT EXPIRATION  \\\n",
              "0              BRCD 2005-05-02 09:30:02            72515  YNU 2006-01-21   \n",
              "1              SYMC 2005-05-02 09:30:03            65366  SYQ 2005-06-18   \n",
              "2               SPY 2005-05-02 09:30:03            65373  SWG 2005-05-21   \n",
              "3              ADRX 2005-05-02 09:30:03            79195  QAX 2005-06-18   \n",
              "4              ORCL 2005-05-02 09:30:03            95870  ORQ 2005-12-17   \n",
              "5              YHOO 2005-05-02 09:30:03            73595  YHQ 2005-10-22   \n",
              "6              MATK 2005-05-02 09:30:03            80182  KQT 2005-09-17   \n",
              "7              VTSS 2005-05-02 09:30:04            80469  VQT 2005-10-22   \n",
              "8              ADRX 2005-05-02 09:30:04            80342  QAX 2005-09-17   \n",
              "9              IVGN 2005-05-02 09:30:04            97063  IUV 2005-08-20   \n",
              "\n",
              "   STRK_PRC OPTION_TYPE  TRADE_SIZE  TRADE_PRICE  BEST_BID  ...  bid_ex  \\\n",
              "0       2.5           C          10         2.05      1.90  ...    1.90   \n",
              "1      15.0           C          10         3.90      3.60  ...     NaN   \n",
              "2     105.0           C          50        11.20     11.10  ...   11.10   \n",
              "3      25.0           C          10         0.20      0.00  ...    0.00   \n",
              "4      14.0           C          15         0.25      0.30  ...    0.25   \n",
              "5      35.0           P          26         3.00      2.95  ...    2.90   \n",
              "6      65.0           C           2         0.55      0.30  ...    0.30   \n",
              "7       5.0           P          10         2.75      2.70  ...    2.70   \n",
              "8      25.0           C           1         0.60      0.45  ...    0.45   \n",
              "9      65.0           C          10        11.00      0.00  ...     NaN   \n",
              "\n",
              "   bid_size_ex  ask_size_ex  price_all_lead  price_all_lag    optionid  \\\n",
              "0        131.0         20.0            1.90           1.90  21060388.0   \n",
              "1          NaN          NaN            4.00           4.00  31624184.0   \n",
              "2        300.0        300.0           11.80          11.00  31620976.0   \n",
              "3          0.0         86.0            0.15           0.15  31560072.0   \n",
              "4       3356.0        399.0            0.35           0.35  25240212.0   \n",
              "5       1133.0        256.0            3.10           3.40  24020608.0   \n",
              "6         56.0         10.0            0.45           0.45  23989792.0   \n",
              "7         10.0         52.0            2.90           2.90  24019950.0   \n",
              "8         94.0         25.0            0.55           0.50  23983374.0   \n",
              "9          NaN          NaN           13.80           9.90  23797976.0   \n",
              "\n",
              "   day_vol  price_ex_lead  price_ex_lag  buy_sell  \n",
              "0     10.0           1.90          2.10         1  \n",
              "1     10.0           4.60          4.00         1  \n",
              "2     50.0          11.90         11.00        -1  \n",
              "3     10.0           0.15          0.15         1  \n",
              "4     17.0           0.35          0.35        -1  \n",
              "5     46.0           3.10          3.40        -1  \n",
              "6      2.0           0.65          0.45         1  \n",
              "7     40.0           2.90          2.90        -1  \n",
              "8     11.0           0.65          0.50         1  \n",
              "9     10.0          13.80          9.90         1  \n",
              "\n",
              "[10 rows x 23 columns]"
            ],
            "text/html": [
              "\n",
              "  <div id=\"df-76afd25d-e01a-4252-9459-bd10a2cef956\">\n",
              "    <div class=\"colab-df-container\">\n",
              "      <div>\n",
              "<style scoped>\n",
              "    .dataframe tbody tr th:only-of-type {\n",
              "        vertical-align: middle;\n",
              "    }\n",
              "\n",
              "    .dataframe tbody tr th {\n",
              "        vertical-align: top;\n",
              "    }\n",
              "\n",
              "    .dataframe thead th {\n",
              "        text-align: right;\n",
              "    }\n",
              "</style>\n",
              "<table border=\"1\" class=\"dataframe\">\n",
              "  <thead>\n",
              "    <tr style=\"text-align: right;\">\n",
              "      <th></th>\n",
              "      <th>UNDERLYING_SYMBOL</th>\n",
              "      <th>QUOTE_DATETIME</th>\n",
              "      <th>SEQUENCE_NUMBER</th>\n",
              "      <th>ROOT</th>\n",
              "      <th>EXPIRATION</th>\n",
              "      <th>STRK_PRC</th>\n",
              "      <th>OPTION_TYPE</th>\n",
              "      <th>TRADE_SIZE</th>\n",
              "      <th>TRADE_PRICE</th>\n",
              "      <th>BEST_BID</th>\n",
              "      <th>...</th>\n",
              "      <th>bid_ex</th>\n",
              "      <th>bid_size_ex</th>\n",
              "      <th>ask_size_ex</th>\n",
              "      <th>price_all_lead</th>\n",
              "      <th>price_all_lag</th>\n",
              "      <th>optionid</th>\n",
              "      <th>day_vol</th>\n",
              "      <th>price_ex_lead</th>\n",
              "      <th>price_ex_lag</th>\n",
              "      <th>buy_sell</th>\n",
              "    </tr>\n",
              "  </thead>\n",
              "  <tbody>\n",
              "    <tr>\n",
              "      <th>0</th>\n",
              "      <td>BRCD</td>\n",
              "      <td>2005-05-02 09:30:02</td>\n",
              "      <td>72515</td>\n",
              "      <td>YNU</td>\n",
              "      <td>2006-01-21</td>\n",
              "      <td>2.5</td>\n",
              "      <td>C</td>\n",
              "      <td>10</td>\n",
              "      <td>2.05</td>\n",
              "      <td>1.90</td>\n",
              "      <td>...</td>\n",
              "      <td>1.90</td>\n",
              "      <td>131.0</td>\n",
              "      <td>20.0</td>\n",
              "      <td>1.90</td>\n",
              "      <td>1.90</td>\n",
              "      <td>21060388.0</td>\n",
              "      <td>10.0</td>\n",
              "      <td>1.90</td>\n",
              "      <td>2.10</td>\n",
              "      <td>1</td>\n",
              "    </tr>\n",
              "    <tr>\n",
              "      <th>1</th>\n",
              "      <td>SYMC</td>\n",
              "      <td>2005-05-02 09:30:03</td>\n",
              "      <td>65366</td>\n",
              "      <td>SYQ</td>\n",
              "      <td>2005-06-18</td>\n",
              "      <td>15.0</td>\n",
              "      <td>C</td>\n",
              "      <td>10</td>\n",
              "      <td>3.90</td>\n",
              "      <td>3.60</td>\n",
              "      <td>...</td>\n",
              "      <td>NaN</td>\n",
              "      <td>NaN</td>\n",
              "      <td>NaN</td>\n",
              "      <td>4.00</td>\n",
              "      <td>4.00</td>\n",
              "      <td>31624184.0</td>\n",
              "      <td>10.0</td>\n",
              "      <td>4.60</td>\n",
              "      <td>4.00</td>\n",
              "      <td>1</td>\n",
              "    </tr>\n",
              "    <tr>\n",
              "      <th>2</th>\n",
              "      <td>SPY</td>\n",
              "      <td>2005-05-02 09:30:03</td>\n",
              "      <td>65373</td>\n",
              "      <td>SWG</td>\n",
              "      <td>2005-05-21</td>\n",
              "      <td>105.0</td>\n",
              "      <td>C</td>\n",
              "      <td>50</td>\n",
              "      <td>11.20</td>\n",
              "      <td>11.10</td>\n",
              "      <td>...</td>\n",
              "      <td>11.10</td>\n",
              "      <td>300.0</td>\n",
              "      <td>300.0</td>\n",
              "      <td>11.80</td>\n",
              "      <td>11.00</td>\n",
              "      <td>31620976.0</td>\n",
              "      <td>50.0</td>\n",
              "      <td>11.90</td>\n",
              "      <td>11.00</td>\n",
              "      <td>-1</td>\n",
              "    </tr>\n",
              "    <tr>\n",
              "      <th>3</th>\n",
              "      <td>ADRX</td>\n",
              "      <td>2005-05-02 09:30:03</td>\n",
              "      <td>79195</td>\n",
              "      <td>QAX</td>\n",
              "      <td>2005-06-18</td>\n",
              "      <td>25.0</td>\n",
              "      <td>C</td>\n",
              "      <td>10</td>\n",
              "      <td>0.20</td>\n",
              "      <td>0.00</td>\n",
              "      <td>...</td>\n",
              "      <td>0.00</td>\n",
              "      <td>0.0</td>\n",
              "      <td>86.0</td>\n",
              "      <td>0.15</td>\n",
              "      <td>0.15</td>\n",
              "      <td>31560072.0</td>\n",
              "      <td>10.0</td>\n",
              "      <td>0.15</td>\n",
              "      <td>0.15</td>\n",
              "      <td>1</td>\n",
              "    </tr>\n",
              "    <tr>\n",
              "      <th>4</th>\n",
              "      <td>ORCL</td>\n",
              "      <td>2005-05-02 09:30:03</td>\n",
              "      <td>95870</td>\n",
              "      <td>ORQ</td>\n",
              "      <td>2005-12-17</td>\n",
              "      <td>14.0</td>\n",
              "      <td>C</td>\n",
              "      <td>15</td>\n",
              "      <td>0.25</td>\n",
              "      <td>0.30</td>\n",
              "      <td>...</td>\n",
              "      <td>0.25</td>\n",
              "      <td>3356.0</td>\n",
              "      <td>399.0</td>\n",
              "      <td>0.35</td>\n",
              "      <td>0.35</td>\n",
              "      <td>25240212.0</td>\n",
              "      <td>17.0</td>\n",
              "      <td>0.35</td>\n",
              "      <td>0.35</td>\n",
              "      <td>-1</td>\n",
              "    </tr>\n",
              "    <tr>\n",
              "      <th>5</th>\n",
              "      <td>YHOO</td>\n",
              "      <td>2005-05-02 09:30:03</td>\n",
              "      <td>73595</td>\n",
              "      <td>YHQ</td>\n",
              "      <td>2005-10-22</td>\n",
              "      <td>35.0</td>\n",
              "      <td>P</td>\n",
              "      <td>26</td>\n",
              "      <td>3.00</td>\n",
              "      <td>2.95</td>\n",
              "      <td>...</td>\n",
              "      <td>2.90</td>\n",
              "      <td>1133.0</td>\n",
              "      <td>256.0</td>\n",
              "      <td>3.10</td>\n",
              "      <td>3.40</td>\n",
              "      <td>24020608.0</td>\n",
              "      <td>46.0</td>\n",
              "      <td>3.10</td>\n",
              "      <td>3.40</td>\n",
              "      <td>-1</td>\n",
              "    </tr>\n",
              "    <tr>\n",
              "      <th>6</th>\n",
              "      <td>MATK</td>\n",
              "      <td>2005-05-02 09:30:03</td>\n",
              "      <td>80182</td>\n",
              "      <td>KQT</td>\n",
              "      <td>2005-09-17</td>\n",
              "      <td>65.0</td>\n",
              "      <td>C</td>\n",
              "      <td>2</td>\n",
              "      <td>0.55</td>\n",
              "      <td>0.30</td>\n",
              "      <td>...</td>\n",
              "      <td>0.30</td>\n",
              "      <td>56.0</td>\n",
              "      <td>10.0</td>\n",
              "      <td>0.45</td>\n",
              "      <td>0.45</td>\n",
              "      <td>23989792.0</td>\n",
              "      <td>2.0</td>\n",
              "      <td>0.65</td>\n",
              "      <td>0.45</td>\n",
              "      <td>1</td>\n",
              "    </tr>\n",
              "    <tr>\n",
              "      <th>7</th>\n",
              "      <td>VTSS</td>\n",
              "      <td>2005-05-02 09:30:04</td>\n",
              "      <td>80469</td>\n",
              "      <td>VQT</td>\n",
              "      <td>2005-10-22</td>\n",
              "      <td>5.0</td>\n",
              "      <td>P</td>\n",
              "      <td>10</td>\n",
              "      <td>2.75</td>\n",
              "      <td>2.70</td>\n",
              "      <td>...</td>\n",
              "      <td>2.70</td>\n",
              "      <td>10.0</td>\n",
              "      <td>52.0</td>\n",
              "      <td>2.90</td>\n",
              "      <td>2.90</td>\n",
              "      <td>24019950.0</td>\n",
              "      <td>40.0</td>\n",
              "      <td>2.90</td>\n",
              "      <td>2.90</td>\n",
              "      <td>-1</td>\n",
              "    </tr>\n",
              "    <tr>\n",
              "      <th>8</th>\n",
              "      <td>ADRX</td>\n",
              "      <td>2005-05-02 09:30:04</td>\n",
              "      <td>80342</td>\n",
              "      <td>QAX</td>\n",
              "      <td>2005-09-17</td>\n",
              "      <td>25.0</td>\n",
              "      <td>C</td>\n",
              "      <td>1</td>\n",
              "      <td>0.60</td>\n",
              "      <td>0.45</td>\n",
              "      <td>...</td>\n",
              "      <td>0.45</td>\n",
              "      <td>94.0</td>\n",
              "      <td>25.0</td>\n",
              "      <td>0.55</td>\n",
              "      <td>0.50</td>\n",
              "      <td>23983374.0</td>\n",
              "      <td>11.0</td>\n",
              "      <td>0.65</td>\n",
              "      <td>0.50</td>\n",
              "      <td>1</td>\n",
              "    </tr>\n",
              "    <tr>\n",
              "      <th>9</th>\n",
              "      <td>IVGN</td>\n",
              "      <td>2005-05-02 09:30:04</td>\n",
              "      <td>97063</td>\n",
              "      <td>IUV</td>\n",
              "      <td>2005-08-20</td>\n",
              "      <td>65.0</td>\n",
              "      <td>C</td>\n",
              "      <td>10</td>\n",
              "      <td>11.00</td>\n",
              "      <td>0.00</td>\n",
              "      <td>...</td>\n",
              "      <td>NaN</td>\n",
              "      <td>NaN</td>\n",
              "      <td>NaN</td>\n",
              "      <td>13.80</td>\n",
              "      <td>9.90</td>\n",
              "      <td>23797976.0</td>\n",
              "      <td>10.0</td>\n",
              "      <td>13.80</td>\n",
              "      <td>9.90</td>\n",
              "      <td>1</td>\n",
              "    </tr>\n",
              "  </tbody>\n",
              "</table>\n",
              "<p>10 rows × 23 columns</p>\n",
              "</div>\n",
              "      <button class=\"colab-df-convert\" onclick=\"convertToInteractive('df-76afd25d-e01a-4252-9459-bd10a2cef956')\"\n",
              "              title=\"Convert this dataframe to an interactive table.\"\n",
              "              style=\"display:none;\">\n",
              "        \n",
              "  <svg xmlns=\"http://www.w3.org/2000/svg\" height=\"24px\"viewBox=\"0 0 24 24\"\n",
              "       width=\"24px\">\n",
              "    <path d=\"M0 0h24v24H0V0z\" fill=\"none\"/>\n",
              "    <path d=\"M18.56 5.44l.94 2.06.94-2.06 2.06-.94-2.06-.94-.94-2.06-.94 2.06-2.06.94zm-11 1L8.5 8.5l.94-2.06 2.06-.94-2.06-.94L8.5 2.5l-.94 2.06-2.06.94zm10 10l.94 2.06.94-2.06 2.06-.94-2.06-.94-.94-2.06-.94 2.06-2.06.94z\"/><path d=\"M17.41 7.96l-1.37-1.37c-.4-.4-.92-.59-1.43-.59-.52 0-1.04.2-1.43.59L10.3 9.45l-7.72 7.72c-.78.78-.78 2.05 0 2.83L4 21.41c.39.39.9.59 1.41.59.51 0 1.02-.2 1.41-.59l7.78-7.78 2.81-2.81c.8-.78.8-2.07 0-2.86zM5.41 20L4 18.59l7.72-7.72 1.47 1.35L5.41 20z\"/>\n",
              "  </svg>\n",
              "      </button>\n",
              "      \n",
              "  <style>\n",
              "    .colab-df-container {\n",
              "      display:flex;\n",
              "      flex-wrap:wrap;\n",
              "      gap: 12px;\n",
              "    }\n",
              "\n",
              "    .colab-df-convert {\n",
              "      background-color: #E8F0FE;\n",
              "      border: none;\n",
              "      border-radius: 50%;\n",
              "      cursor: pointer;\n",
              "      display: none;\n",
              "      fill: #1967D2;\n",
              "      height: 32px;\n",
              "      padding: 0 0 0 0;\n",
              "      width: 32px;\n",
              "    }\n",
              "\n",
              "    .colab-df-convert:hover {\n",
              "      background-color: #E2EBFA;\n",
              "      box-shadow: 0px 1px 2px rgba(60, 64, 67, 0.3), 0px 1px 3px 1px rgba(60, 64, 67, 0.15);\n",
              "      fill: #174EA6;\n",
              "    }\n",
              "\n",
              "    [theme=dark] .colab-df-convert {\n",
              "      background-color: #3B4455;\n",
              "      fill: #D2E3FC;\n",
              "    }\n",
              "\n",
              "    [theme=dark] .colab-df-convert:hover {\n",
              "      background-color: #434B5C;\n",
              "      box-shadow: 0px 1px 3px 1px rgba(0, 0, 0, 0.15);\n",
              "      filter: drop-shadow(0px 1px 2px rgba(0, 0, 0, 0.3));\n",
              "      fill: #FFFFFF;\n",
              "    }\n",
              "  </style>\n",
              "\n",
              "      <script>\n",
              "        const buttonEl =\n",
              "          document.querySelector('#df-76afd25d-e01a-4252-9459-bd10a2cef956 button.colab-df-convert');\n",
              "        buttonEl.style.display =\n",
              "          google.colab.kernel.accessAllowed ? 'block' : 'none';\n",
              "\n",
              "        async function convertToInteractive(key) {\n",
              "          const element = document.querySelector('#df-76afd25d-e01a-4252-9459-bd10a2cef956');\n",
              "          const dataTable =\n",
              "            await google.colab.kernel.invokeFunction('convertToInteractive',\n",
              "                                                     [key], {});\n",
              "          if (!dataTable) return;\n",
              "\n",
              "          const docLinkHtml = 'Like what you see? Visit the ' +\n",
              "            '<a target=\"_blank\" href=https://colab.research.google.com/notebooks/data_table.ipynb>data table notebook</a>'\n",
              "            + ' to learn more about interactive tables.';\n",
              "          element.innerHTML = '';\n",
              "          dataTable['output_type'] = 'display_data';\n",
              "          await google.colab.output.renderOutput(dataTable, element);\n",
              "          const docLink = document.createElement('div');\n",
              "          docLink.innerHTML = docLinkHtml;\n",
              "          element.appendChild(docLink);\n",
              "        }\n",
              "      </script>\n",
              "    </div>\n",
              "  </div>\n",
              "  "
            ]
          },
          "metadata": {},
          "execution_count": 52
        }
      ]
    },
    {
      "cell_type": "code",
      "source": [
        "# randomly sample frac of rows\n",
        "# frac = 0.02\n",
        "\n",
        "# train = train.sample(frac=frac, random_state=seed)\n",
        "# val = val.sample(frac=frac, random_state=seed)\n",
        "# test = test.sample(frac=frac, random_state=seed)\n",
        "\n",
        "# unify for common preprocessing\n",
        "X = pd.concat([train, val, test])"
      ],
      "metadata": {
        "id": "N2ZHX3MpqzKD"
      },
      "execution_count": 53,
      "outputs": []
    },
    {
      "cell_type": "code",
      "source": [
        "# calculate days to maturity\n",
        "X['time_to_maturity'] = (X['EXPIRATION'] - X['QUOTE_DATETIME']).dt.days"
      ],
      "metadata": {
        "id": "G4RRb08pyo6p"
      },
      "execution_count": 54,
      "outputs": []
    },
    {
      "cell_type": "code",
      "source": [
        "# apply positional encoding to dates\n",
        "X[\"date_month_sin\"] = np.sin(2 * np.pi * X['QUOTE_DATETIME'].dt.year / 12)\n",
        "X[\"date_month_cos\"] = np.cos(2 * np.pi * X['QUOTE_DATETIME'].dt.year / 12)\n",
        "\n",
        "# add year\n",
        "X[\"date_year\"] = (X['QUOTE_DATETIME'].dt.year - 2005) / (2017-2005) \n",
        "\n",
        "date_columns = [\"date_month_sin\", \"date_month_cos\", \"date_year\"]"
      ],
      "metadata": {
        "id": "BJDU5Wy02WWT"
      },
      "execution_count": 55,
      "outputs": []
    },
    {
      "cell_type": "code",
      "source": [
        "X.dtypes"
      ],
      "metadata": {
        "colab": {
          "base_uri": "https://localhost:8080/"
        },
        "id": "Dj79d4i90rhm",
        "outputId": "80504080-b2ba-4f67-c353-761e94de9226"
      },
      "execution_count": 56,
      "outputs": [
        {
          "output_type": "execute_result",
          "data": {
            "text/plain": [
              "UNDERLYING_SYMBOL            object\n",
              "QUOTE_DATETIME       datetime64[ns]\n",
              "SEQUENCE_NUMBER               int64\n",
              "ROOT                         object\n",
              "EXPIRATION           datetime64[ns]\n",
              "STRK_PRC                    float32\n",
              "OPTION_TYPE                category\n",
              "TRADE_SIZE                    int64\n",
              "TRADE_PRICE                 float32\n",
              "BEST_BID                    float32\n",
              "BEST_ASK                    float32\n",
              "order_id                      int64\n",
              "ask_ex                      float32\n",
              "bid_ex                      float32\n",
              "bid_size_ex                 float32\n",
              "ask_size_ex                 float32\n",
              "price_all_lead              float32\n",
              "price_all_lag               float32\n",
              "optionid                    float32\n",
              "day_vol                     float32\n",
              "price_ex_lead               float32\n",
              "price_ex_lag                float32\n",
              "buy_sell                       int8\n",
              "time_to_maturity              int64\n",
              "date_month_sin              float64\n",
              "date_month_cos              float64\n",
              "date_year                   float64\n",
              "dtype: object"
            ]
          },
          "metadata": {},
          "execution_count": 56
        }
      ]
    },
    {
      "cell_type": "code",
      "source": [
        "# remove problematic features -> see notebook on aversarial validation\n",
        "X = X.drop([\"SEQUENCE_NUMBER\", \"order_id\", \"optionid\", \"EXPIRATION\", \"QUOTE_DATETIME\", \"ROOT\"], axis=1)"
      ],
      "metadata": {
        "id": "UlTiomjqw_QD"
      },
      "execution_count": 57,
      "outputs": []
    },
    {
      "cell_type": "code",
      "source": [
        "# isolate target\n",
        "y = X[[\"buy_sell\"]]\n",
        "X = X.drop([\"buy_sell\"], axis=1)"
      ],
      "metadata": {
        "id": "x2kABLCA2CEb"
      },
      "execution_count": 58,
      "outputs": []
    },
    {
      "cell_type": "code",
      "source": [
        "corr = X.corr()\n",
        "sns.heatmap(corr, \n",
        "            xticklabels=corr.columns.values,\n",
        "            yticklabels=corr.columns.values)"
      ],
      "metadata": {
        "colab": {
          "base_uri": "https://localhost:8080/",
          "height": 361
        },
        "id": "CUN8LxqeyX8n",
        "outputId": "82c28f17-1071-4915-e9df-c333b54c8027"
      },
      "execution_count": 59,
      "outputs": [
        {
          "output_type": "execute_result",
          "data": {
            "text/plain": [
              "<matplotlib.axes._subplots.AxesSubplot at 0x7fe2f68b0cd0>"
            ]
          },
          "metadata": {},
          "execution_count": 59
        },
        {
          "output_type": "display_data",
          "data": {
            "text/plain": [
              "<Figure size 432x288 with 2 Axes>"
            ],
            "image/png": "[encoded data removed]"
          },
          "metadata": {}
        }
      ]
    },
    {
      "cell_type": "code",
      "source": [
        "# Midspread\n",
        "mid = 0.5 * (X['ask_ex'] + X['bid_ex'])\n",
        "X['mid_ex'] = mid"
      ],
      "metadata": {
        "id": "QbIFNIc_3i_6"
      },
      "execution_count": 60,
      "outputs": []
    },
    {
      "cell_type": "code",
      "source": [
        "# Absolute distance from mid\n",
        "X['abs_mid_ex'] = X['TRADE_PRICE'] - mid"
      ],
      "metadata": {
        "id": "546ZQQnm2lYx"
      },
      "execution_count": 61,
      "outputs": []
    },
    {
      "cell_type": "code",
      "source": [
        "# Degree how much Trade size is filled\n",
        "X['rel_bid_size_ex'] = X['TRADE_SIZE'] / X['bid_size_ex']\n",
        "X['rel_ask_size_ex'] = X['TRADE_SIZE'] / X['ask_size_ex']"
      ],
      "metadata": {
        "id": "wx1Thx0Y3sU-"
      },
      "execution_count": 62,
      "outputs": []
    },
    {
      "cell_type": "code",
      "source": [
        "# Calculate sign change from trade\n",
        "tt = np.where(X['TRADE_PRICE'] > X['price_ex_lead'], 1.0, -1.0)\n",
        "X['sgn_chg_ex_lead'] = tt"
      ],
      "metadata": {
        "id": "N6Dj2dd33Vwy"
      },
      "execution_count": 63,
      "outputs": []
    },
    {
      "cell_type": "code",
      "source": [
        "# select categorical e. g., option type and strings e. g., ticker\n",
        "cat_columns = X.select_dtypes(include=['category', 'object']).columns.tolist()\n",
        "print(cat_columns)\n",
        "\n",
        "# binarize categorical similar to Borisov et al.\n",
        "X[cat_columns] = X[cat_columns].apply(lambda x : pd.factorize(x)[0])"
      ],
      "metadata": {
        "colab": {
          "base_uri": "https://localhost:8080/"
        },
        "id": "6KmaiY0m5i8X",
        "outputId": "88d92499-ebc1-4e82-b553-63d766f3b98a"
      },
      "execution_count": 64,
      "outputs": [
        {
          "output_type": "stream",
          "name": "stdout",
          "text": [
            "['UNDERLYING_SYMBOL', 'OPTION_TYPE']\n"
          ]
        }
      ]
    },
    {
      "cell_type": "code",
      "source": [
        "# treat inf as nan\n",
        "X.replace([np.inf, -np.inf], np.nan, inplace=True)"
      ],
      "metadata": {
        "id": "ngZUqSLW_M_8"
      },
      "execution_count": 65,
      "outputs": []
    },
    {
      "cell_type": "code",
      "source": [
        "# Fill NaN with 0\n",
        "# Do not fill, let CatBoost Handle NaNs\n",
        "# X = X.fillna(0)"
      ],
      "metadata": {
        "id": "W2HBaXLP5L4I"
      },
      "execution_count": 66,
      "outputs": []
    },
    {
      "cell_type": "code",
      "source": [
        "# separate again for training scaling\n",
        "X_train = X.loc[train.index, :]\n",
        "X_val = X.loc[val.index, :]\n",
        "X_test = X.loc[test.index, :]\n",
        "\n",
        "y_train = y.loc[train.index, :]\n",
        "y_val = y.loc[val.index, :]\n",
        "y_test = y.loc[test.index, :]\n"
      ],
      "metadata": {
        "id": "BIXLmMcZ5-aC"
      },
      "execution_count": 67,
      "outputs": []
    },
    {
      "cell_type": "code",
      "source": [
        "# Standardize numerical values\n",
        "num_columns = X_train.select_dtypes(include=[np.number]).columns.tolist()\n",
        "num_columns = [x for x in num_columns if x not in cat_columns]\n",
        "num_columns = [x for x in num_columns if x not in date_columns]\n",
        "scaler = StandardScaler()\n",
        "\n",
        "X_train[num_columns] = scaler.fit_transform(X_train[num_columns])\n",
        "X_val[num_columns] = scaler.transform(X_val[num_columns])\n",
        "X_test[num_columns] = scaler.transform(X_test[num_columns])"
      ],
      "metadata": {
        "id": "tV5a5st_2vrt"
      },
      "execution_count": 68,
      "outputs": []
    },
    {
      "cell_type": "code",
      "source": [
        "# Train gradient boosting model\n",
        "model = CatBoostClassifier(max_depth=8, task_type=\"GPU\", random_state=seed, \n",
        "                           logging_level= \"Silent\", cat_features=cat_columns, \n",
        "                           od_type= \"Iter\", grow_policy=\"Depthwise\")\n",
        "model.fit(X_train, y_train, eval_set=(X_val,y_val), plot=True)"
      ],
      "metadata": {
        "id": "lwai2OOo25gr",
        "colab": {
          "base_uri": "https://localhost:8080/",
          "height": 34,
          "referenced_widgets": [
            "2dfd116630fb48e5b94411c8357ca1d3"
          ]
        },
        "outputId": "fb77b566-a281-44f5-9da8-a5ee7a945aea"
      },
      "execution_count": 69,
      "outputs": [
        {
          "output_type": "display_data",
          "data": {
            "text/plain": [
              "MetricVisualizer(layout=Layout(align_self='stretch', height='500px'))"
            ],
            "application/vnd.jupyter.widget-view+json": {
              "version_major": 2,
              "version_minor": 0,
              "model_id": "2dfd116630fb48e5b94411c8357ca1d3"
            }
          },
          "metadata": {}
        },
        {
          "output_type": "execute_result",
          "data": {
            "text/plain": [
              "<catboost.core.CatBoostClassifier at 0x7fe2f52fef10>"
            ]
          },
          "metadata": {},
          "execution_count": 69
        }
      ]
    },
    {
      "cell_type": "code",
      "source": [
        "acc_train = model.score(X_train, y_train)\n",
        "acc_val = model.score(X_val, y_val)\n",
        "acc_test = model.score(X_test, y_test)\n",
        "\n",
        "print(f\"Accuracy (train): {acc_train}, (val) {acc_val}, and (test) {acc_test}\")"
      ],
      "metadata": {
        "colab": {
          "base_uri": "https://localhost:8080/"
        },
        "id": "hLeiGiqY7wo-",
        "outputId": "c4ce5b65-ab2d-4117-fe3d-771107044ff0"
      },
      "execution_count": 70,
      "outputs": [
        {
          "output_type": "stream",
          "name": "stdout",
          "text": [
            "Accuracy (train): 0.8526849929109546, (val) 0.7085929190749535, and (test) 0.6747843346742954\n"
          ]
        }
      ]
    },
    {
      "cell_type": "code",
      "source": [
        "# Obtain feature importances\n",
        "ranks = sorted(list(zip(X.columns, model.feature_importances_)), \n",
        "               key=lambda x: x[1], reverse=True) \n",
        "for feature, score in ranks: \n",
        "  print(f\"{feature:10} : {score:0.4f}\")"
      ],
      "metadata": {
        "colab": {
          "base_uri": "https://localhost:8080/"
        },
        "id": "Sju4nygr82ap",
        "outputId": "660c0286-bf33-4d6f-9045-70c6328103d7"
      },
      "execution_count": 71,
      "outputs": [
        {
          "output_type": "stream",
          "name": "stdout",
          "text": [
            "ask_size_ex : 34.1854\n",
            "bid_size_ex : 27.4466\n",
            "abs_mid_ex : 19.4757\n",
            "rel_bid_size_ex : 5.2592\n",
            "day_vol    : 4.3462\n",
            "rel_ask_size_ex : 2.9696\n",
            "TRADE_SIZE : 2.2801\n",
            "ask_ex     : 0.8218\n",
            "BEST_BID   : 0.5341\n",
            "date_month_sin : 0.4815\n",
            "time_to_maturity : 0.3715\n",
            "date_year  : 0.3527\n",
            "BEST_ASK   : 0.3003\n",
            "STRK_PRC   : 0.2631\n",
            "UNDERLYING_SYMBOL : 0.2347\n",
            "bid_ex     : 0.2019\n",
            "date_month_cos : 0.1101\n",
            "price_all_lead : 0.1046\n",
            "mid_ex     : 0.0951\n",
            "TRADE_PRICE : 0.0716\n",
            "price_ex_lead : 0.0491\n",
            "sgn_chg_ex_lead : 0.0185\n",
            "price_all_lag : 0.0152\n",
            "OPTION_TYPE : 0.0082\n",
            "price_ex_lag : 0.0031\n"
          ]
        }
      ]
    },
    {
      "cell_type": "markdown",
      "source": [
        "## CatBoost Baseline 🐈‍⬛"
      ],
      "metadata": {
        "id": "zMIOV1jA_ImH"
      }
    },
    {
      "cell_type": "markdown",
      "source": [
        "### Hyperparameter Search Baseline🗃️"
      ],
      "metadata": {
        "id": "MmbM8by1WO5J"
      }
    },
    {
      "cell_type": "code",
      "source": [
        "def objective(trial:optuna.Trial):\n",
        "    # See docs for recommendations on tuning hyperparameters\n",
        "    #  https://catboost.ai/en/docs/concepts/parameter-tuning\n",
        "    iterations = trial.suggest_int(\"iterations\", 10, 1000, log=False)\n",
        "    learning_rate = trial.suggest_float(\"learning_rate\", 0.005, 1, log=True)\n",
        "    # random_strength = trial.suggest_float(\"random_strength\", 1e-9, 10, log=True)\n",
        "    depth = trial.suggest_int(\"depth\", 1, 8, log=False)\n",
        "    loss_function = trial.suggest_categorical(\"loss_function\", [\"Logloss\"])\n",
        "    grow_policy = trial.suggest_categorical(\"grow_policy\", [\"SymmetricTree\", \"Depthwise\"])\n",
        "    params = {\n",
        "          \"iterations\": iterations,\n",
        "          \"depth\": depth,\n",
        "          \"grow_policy\": grow_policy,\n",
        "          \"learning_rate\": learning_rate,\n",
        "          # \"random_strength\": random_strength,\n",
        "          \"loss_function\": loss_function,\n",
        "          \"od_type\": \"Iter\",\n",
        "          \"logging_level\": \"Silent\",\n",
        "          \"task_type\": \"GPU\"}  \n",
        "\n",
        "    model = CatBoostClassifier(**params)\n",
        "\n",
        "    model.fit(\n",
        "          X_train,\n",
        "          y_train,\n",
        "        )\n",
        "\n",
        "    y_pred = model.predict(X_val, prediction_type='Class')\n",
        "    return accuracy_score(y_val, y_pred)\n"
      ],
      "metadata": {
        "id": "Z4hMoRaVQa64"
      },
      "execution_count": 72,
      "outputs": []
    },
    {
      "cell_type": "code",
      "source": [
        "wandb_kwargs = {\"project\": \"thesis\"}\n",
        "wandbc = WeightsAndBiasesCallback(wandb_kwargs=wandb_kwargs)"
      ],
      "metadata": {
        "colab": {
          "base_uri": "https://localhost:8080/",
          "height": 228
        },
        "id": "wfchJ_dGYfHe",
        "outputId": "9804f486-4298-4244-c3e4-5861a899980b"
      },
      "execution_count": 73,
      "outputs": [
        {
          "output_type": "stream",
          "name": "stderr",
          "text": [
            "/usr/local/lib/python3.7/dist-packages/ipykernel_launcher.py:2: ExperimentalWarning: WeightsAndBiasesCallback is experimental (supported from v2.9.0). The interface can change in the future.\n",
            "  \n"
          ]
        },
        {
          "output_type": "display_data",
          "data": {
            "text/plain": [
              "<IPython.core.display.HTML object>"
            ],
            "text/html": [
              "Finishing last run (ID:3hrdoceg) before initializing another..."
            ]
          },
          "metadata": {}
        },
        {
          "output_type": "display_data",
          "data": {
            "text/plain": [
              "<IPython.core.display.HTML object>"
            ],
            "text/html": [
              "Waiting for W&B process to finish... <strong style=\"color:green\">(success).</strong>"
            ]
          },
          "metadata": {}
        },
        {
          "output_type": "display_data",
          "data": {
            "text/plain": [
              "<IPython.core.display.HTML object>"
            ],
            "text/html": [
              "Synced <strong style=\"color:#cdcd00\">twilight-vortex-39</strong>: <a href=\"https://wandb.ai/fbv/thesis/runs/3hrdoceg\" target=\"_blank\">https://wandb.ai/fbv/thesis/runs/3hrdoceg</a><br/>Synced 5 W&B file(s), 0 media file(s), 0 artifact file(s) and 0 other file(s)"
            ]
          },
          "metadata": {}
        },
        {
          "output_type": "display_data",
          "data": {
            "text/plain": [
              "<IPython.core.display.HTML object>"
            ],
            "text/html": [
              "Find logs at: <code>./wandb/run-20221103_071813-3hrdoceg/logs</code>"
            ]
          },
          "metadata": {}
        },
        {
          "output_type": "display_data",
          "data": {
            "text/plain": [
              "<IPython.core.display.HTML object>"
            ],
            "text/html": [
              "Successfully finished last run (ID:3hrdoceg). Initializing new run:<br/>"
            ]
          },
          "metadata": {}
        },
        {
          "output_type": "display_data",
          "data": {
            "text/plain": [
              "<IPython.core.display.HTML object>"
            ],
            "text/html": [
              "Tracking run with wandb version 0.13.4"
            ]
          },
          "metadata": {}
        },
        {
          "output_type": "display_data",
          "data": {
            "text/plain": [
              "<IPython.core.display.HTML object>"
            ],
            "text/html": [
              "Run data is saved locally in <code>/content/wandb/run-20221103_072336-1lw5b926</code>"
            ]
          },
          "metadata": {}
        },
        {
          "output_type": "display_data",
          "data": {
            "text/plain": [
              "<IPython.core.display.HTML object>"
            ],
            "text/html": [
              "Syncing run <strong><a href=\"https://wandb.ai/fbv/thesis/runs/1lw5b926\" target=\"_blank\">magic-moon-40</a></strong> to <a href=\"https://wandb.ai/fbv/thesis\" target=\"_blank\">Weights & Biases</a> (<a href=\"https://wandb.me/run\" target=\"_blank\">docs</a>)<br/>"
            ]
          },
          "metadata": {}
        }
      ]
    },
    {
      "cell_type": "code",
      "source": [
        "# Implement hyperparameter search\n",
        "study = optuna.create_study(direction=\"maximize\", sampler=optuna.samplers.TPESampler(seed=seed), study_name=\"baseline_gbm\")\n",
        "study.optimize(objective, n_trials=50, callbacks=[wandbc])"
      ],
      "metadata": {
        "id": "UgdvLxBI3Cs3",
        "colab": {
          "base_uri": "https://localhost:8080/"
        },
        "outputId": "0a9dba62-2138-4aa7-9728-d79969adf920"
      },
      "execution_count": 74,
      "outputs": [
        {
          "output_type": "stream",
          "name": "stderr",
          "text": [
            "\u001b[32m[I 2022-11-03 07:23:45,928]\u001b[0m A new study created in memory with name: baseline_gbm\u001b[0m\n",
            "\u001b[32m[I 2022-11-03 07:24:25,061]\u001b[0m Trial 0 finished with value: 0.7326730236249512 and parameters: {'iterations': 381, 'learning_rate': 0.7701798297509621, 'depth': 6, 'loss_function': 'Logloss', 'grow_policy': 'SymmetricTree'}. Best is trial 0 with value: 0.7326730236249512.\u001b[0m\n",
            "\u001b[32m[I 2022-11-03 07:24:53,917]\u001b[0m Trial 1 finished with value: 0.7072063032688352 and parameters: {'iterations': 164, 'learning_rate': 0.006801773068059042, 'depth': 7, 'loss_function': 'Logloss', 'grow_policy': 'Depthwise'}. Best is trial 0 with value: 0.7326730236249512.\u001b[0m\n",
            "\u001b[32m[I 2022-11-03 07:25:07,034]\u001b[0m Trial 2 finished with value: 0.7199931121820297 and parameters: {'iterations': 30, 'learning_rate': 0.8526320769491548, 'depth': 7, 'loss_function': 'Logloss', 'grow_policy': 'SymmetricTree'}. Best is trial 0 with value: 0.7326730236249512.\u001b[0m\n",
            "\u001b[32m[I 2022-11-03 07:25:29,796]\u001b[0m Trial 3 finished with value: 0.7073168623080232 and parameters: {'iterations': 191, 'learning_rate': 0.02506343151217439, 'depth': 5, 'loss_function': 'Logloss', 'grow_policy': 'SymmetricTree'}. Best is trial 0 with value: 0.7326730236249512.\u001b[0m\n",
            "\u001b[32m[I 2022-11-03 07:26:14,321]\u001b[0m Trial 4 finished with value: 0.7073645644141678 and parameters: {'iterations': 616, 'learning_rate': 0.010470069436968722, 'depth': 3, 'loss_function': 'Logloss', 'grow_policy': 'Depthwise'}. Best is trial 0 with value: 0.7326730236249512.\u001b[0m\n",
            "\u001b[32m[I 2022-11-03 07:27:17,122]\u001b[0m Trial 5 finished with value: 0.712283475410683 and parameters: {'iterations': 788, 'learning_rate': 0.014402084889402762, 'depth': 5, 'loss_function': 'Logloss', 'grow_policy': 'SymmetricTree'}. Best is trial 0 with value: 0.7326730236249512.\u001b[0m\n",
            "\u001b[32m[I 2022-11-03 07:27:49,191]\u001b[0m Trial 6 finished with value: 0.692520869162887 and parameters: {'iterations': 612, 'learning_rate': 0.012341022039945061, 'depth': 1, 'loss_function': 'Logloss', 'grow_policy': 'Depthwise'}. Best is trial 0 with value: 0.7326730236249512.\u001b[0m\n",
            "\u001b[32m[I 2022-11-03 07:28:25,529]\u001b[0m Trial 7 finished with value: 0.7007054927907268 and parameters: {'iterations': 811, 'learning_rate': 0.02511281655997384, 'depth': 1, 'loss_function': 'Logloss', 'grow_policy': 'SymmetricTree'}. Best is trial 0 with value: 0.7326730236249512.\u001b[0m\n",
            "\u001b[32m[I 2022-11-03 07:28:39,735]\u001b[0m Trial 8 finished with value: 0.6939901754003391 and parameters: {'iterations': 130, 'learning_rate': 0.0689266113392399, 'depth': 1, 'loss_function': 'Logloss', 'grow_policy': 'SymmetricTree'}. Best is trial 0 with value: 0.7326730236249512.\u001b[0m\n",
            "\u001b[32m[I 2022-11-03 07:29:34,432]\u001b[0m Trial 9 finished with value: 0.7157585077316571 and parameters: {'iterations': 666, 'learning_rate': 0.026075133487058314, 'depth': 5, 'loss_function': 'Logloss', 'grow_policy': 'SymmetricTree'}. Best is trial 0 with value: 0.7326730236249512.\u001b[0m\n",
            "\u001b[32m[I 2022-11-03 07:30:35,283]\u001b[0m Trial 10 finished with value: 0.7398971973842973 and parameters: {'iterations': 381, 'learning_rate': 0.7006698789278818, 'depth': 8, 'loss_function': 'Logloss', 'grow_policy': 'Depthwise'}. Best is trial 10 with value: 0.7398971973842973.\u001b[0m\n",
            "\u001b[32m[I 2022-11-03 07:31:35,200]\u001b[0m Trial 11 finished with value: 0.7356365551105281 and parameters: {'iterations': 379, 'learning_rate': 0.6131036819923589, 'depth': 8, 'loss_function': 'Logloss', 'grow_policy': 'Depthwise'}. Best is trial 10 with value: 0.7398971973842973.\u001b[0m\n",
            "\u001b[32m[I 2022-11-03 07:32:34,228]\u001b[0m Trial 12 finished with value: 0.7419439126976192 and parameters: {'iterations': 369, 'learning_rate': 0.32887630119088684, 'depth': 8, 'loss_function': 'Logloss', 'grow_policy': 'Depthwise'}. Best is trial 12 with value: 0.7419439126976192.\u001b[0m\n",
            "\u001b[32m[I 2022-11-03 07:33:36,000]\u001b[0m Trial 13 finished with value: 0.7425918069751057 and parameters: {'iterations': 391, 'learning_rate': 0.25895398790055285, 'depth': 8, 'loss_function': 'Logloss', 'grow_policy': 'Depthwise'}. Best is trial 13 with value: 0.7425918069751057.\u001b[0m\n",
            "\u001b[32m[I 2022-11-03 07:34:12,166]\u001b[0m Trial 14 finished with value: 0.7250665210447148 and parameters: {'iterations': 471, 'learning_rate': 0.24115507385056112, 'depth': 3, 'loss_function': 'Logloss', 'grow_policy': 'Depthwise'}. Best is trial 13 with value: 0.7425918069751057.\u001b[0m\n",
            "\u001b[32m[I 2022-11-03 07:34:52,715]\u001b[0m Trial 15 finished with value: 0.7374375384655443 and parameters: {'iterations': 272, 'learning_rate': 0.19302537578669102, 'depth': 7, 'loss_function': 'Logloss', 'grow_policy': 'Depthwise'}. Best is trial 13 with value: 0.7425918069751057.\u001b[0m\n",
            "\u001b[32m[I 2022-11-03 07:36:11,429]\u001b[0m Trial 16 finished with value: 0.7446484898926967 and parameters: {'iterations': 523, 'learning_rate': 0.2704966733913418, 'depth': 8, 'loss_function': 'Logloss', 'grow_policy': 'Depthwise'}. Best is trial 16 with value: 0.7446484898926967.\u001b[0m\n",
            "\u001b[32m[I 2022-11-03 07:37:50,134]\u001b[0m Trial 17 finished with value: 0.7397940631931871 and parameters: {'iterations': 968, 'learning_rate': 0.11114192545876088, 'depth': 6, 'loss_function': 'Logloss', 'grow_policy': 'Depthwise'}. Best is trial 16 with value: 0.7446484898926967.\u001b[0m\n",
            "\u001b[32m[I 2022-11-03 07:38:28,073]\u001b[0m Trial 18 finished with value: 0.7211834272101968 and parameters: {'iterations': 502, 'learning_rate': 0.09487975191696654, 'depth': 3, 'loss_function': 'Logloss', 'grow_policy': 'Depthwise'}. Best is trial 16 with value: 0.7446484898926967.\u001b[0m\n",
            "\u001b[32m[I 2022-11-03 07:39:43,725]\u001b[0m Trial 19 finished with value: 0.7432257669486652 and parameters: {'iterations': 717, 'learning_rate': 0.4033297224450787, 'depth': 6, 'loss_function': 'Logloss', 'grow_policy': 'Depthwise'}. Best is trial 16 with value: 0.7446484898926967.\u001b[0m\n",
            "\u001b[32m[I 2022-11-03 07:41:03,080]\u001b[0m Trial 20 finished with value: 0.7411371470133141 and parameters: {'iterations': 756, 'learning_rate': 0.4189833875285996, 'depth': 6, 'loss_function': 'Logloss', 'grow_policy': 'Depthwise'}. Best is trial 16 with value: 0.7446484898926967.\u001b[0m\n",
            "\u001b[32m[I 2022-11-03 07:42:10,991]\u001b[0m Trial 21 finished with value: 0.7399932118580723 and parameters: {'iterations': 530, 'learning_rate': 0.16421566827260736, 'depth': 7, 'loss_function': 'Logloss', 'grow_policy': 'Depthwise'}. Best is trial 16 with value: 0.7446484898926967.\u001b[0m\n",
            "\u001b[32m[I 2022-11-03 07:44:22,474]\u001b[0m Trial 22 finished with value: 0.7458398220233403 and parameters: {'iterations': 939, 'learning_rate': 0.3744262812696564, 'depth': 8, 'loss_function': 'Logloss', 'grow_policy': 'Depthwise'}. Best is trial 22 with value: 0.7458398220233403.\u001b[0m\n",
            "\u001b[32m[I 2022-11-03 07:45:36,935]\u001b[0m Trial 23 finished with value: 0.7372393051928879 and parameters: {'iterations': 983, 'learning_rate': 0.49039984209835713, 'depth': 4, 'loss_function': 'Logloss', 'grow_policy': 'Depthwise'}. Best is trial 22 with value: 0.7458398220233403.\u001b[0m\n",
            "\u001b[32m[I 2022-11-03 07:47:19,582]\u001b[0m Trial 24 finished with value: 0.7365516422085729 and parameters: {'iterations': 841, 'learning_rate': 0.053598299038038956, 'depth': 7, 'loss_function': 'Logloss', 'grow_policy': 'Depthwise'}. Best is trial 22 with value: 0.7458398220233403.\u001b[0m\n",
            "\u001b[32m[I 2022-11-03 07:48:50,786]\u001b[0m Trial 25 finished with value: 0.743244888475222 and parameters: {'iterations': 897, 'learning_rate': 0.39233646992752697, 'depth': 6, 'loss_function': 'Logloss', 'grow_policy': 'Depthwise'}. Best is trial 22 with value: 0.7458398220233403.\u001b[0m\n",
            "\u001b[32m[I 2022-11-03 07:50:55,940]\u001b[0m Trial 26 finished with value: 0.7460131362853241 and parameters: {'iterations': 887, 'learning_rate': 0.13834376667774453, 'depth': 8, 'loss_function': 'Logloss', 'grow_policy': 'Depthwise'}. Best is trial 26 with value: 0.7460131362853241.\u001b[0m\n",
            "\u001b[32m[I 2022-11-03 07:53:01,823]\u001b[0m Trial 27 finished with value: 0.744855877087641 and parameters: {'iterations': 897, 'learning_rate': 0.1353553832110231, 'depth': 8, 'loss_function': 'Logloss', 'grow_policy': 'Depthwise'}. Best is trial 26 with value: 0.7460131362853241.\u001b[0m\n",
            "\u001b[32m[I 2022-11-03 07:55:07,940]\u001b[0m Trial 28 finished with value: 0.745123171618447 and parameters: {'iterations': 894, 'learning_rate': 0.13809410065052036, 'depth': 8, 'loss_function': 'Logloss', 'grow_policy': 'Depthwise'}. Best is trial 26 with value: 0.7460131362853241.\u001b[0m\n",
            "\u001b[32m[I 2022-11-03 07:56:57,008]\u001b[0m Trial 29 finished with value: 0.7355523390254796 and parameters: {'iterations': 899, 'learning_rate': 0.045328862186455016, 'depth': 7, 'loss_function': 'Logloss', 'grow_policy': 'Depthwise'}. Best is trial 26 with value: 0.7460131362853241.\u001b[0m\n",
            "\u001b[32m[I 2022-11-03 07:59:10,473]\u001b[0m Trial 30 finished with value: 0.7436058581441074 and parameters: {'iterations': 946, 'learning_rate': 0.08824230939099965, 'depth': 8, 'loss_function': 'Logloss', 'grow_policy': 'Depthwise'}. Best is trial 26 with value: 0.7460131362853241.\u001b[0m\n",
            "\u001b[32m[I 2022-11-03 08:01:11,880]\u001b[0m Trial 31 finished with value: 0.7448649292996812 and parameters: {'iterations': 863, 'learning_rate': 0.13629561225211342, 'depth': 8, 'loss_function': 'Logloss', 'grow_policy': 'Depthwise'}. Best is trial 26 with value: 0.7460131362853241.\u001b[0m\n",
            "\u001b[32m[I 2022-11-03 08:02:54,556]\u001b[0m Trial 32 finished with value: 0.7424847060843375 and parameters: {'iterations': 865, 'learning_rate': 0.16816828372736733, 'depth': 7, 'loss_function': 'Logloss', 'grow_policy': 'Depthwise'}. Best is trial 26 with value: 0.7460131362853241.\u001b[0m\n",
            "\u001b[32m[I 2022-11-03 08:05:14,296]\u001b[0m Trial 33 finished with value: 0.7463736991132188 and parameters: {'iterations': 997, 'learning_rate': 0.12543050474675696, 'depth': 8, 'loss_function': 'Logloss', 'grow_policy': 'Depthwise'}. Best is trial 33 with value: 0.7463736991132188.\u001b[0m\n",
            "\u001b[32m[I 2022-11-03 08:07:12,317]\u001b[0m Trial 34 finished with value: 0.7372870072990325 and parameters: {'iterations': 987, 'learning_rate': 0.05268536604182006, 'depth': 7, 'loss_function': 'Logloss', 'grow_policy': 'Depthwise'}. Best is trial 33 with value: 0.7463736991132188.\u001b[0m\n",
            "\u001b[32m[I 2022-11-03 08:08:27,201]\u001b[0m Trial 35 finished with value: 0.7301077894691447 and parameters: {'iterations': 730, 'learning_rate': 0.0704703298776872, 'depth': 7, 'loss_function': 'Logloss', 'grow_policy': 'SymmetricTree'}. Best is trial 33 with value: 0.7463736991132188.\u001b[0m\n",
            "\u001b[32m[I 2022-11-03 08:10:38,555]\u001b[0m Trial 36 finished with value: 0.7295328214392183 and parameters: {'iterations': 926, 'learning_rate': 0.9141729889751623, 'depth': 8, 'loss_function': 'Logloss', 'grow_policy': 'Depthwise'}. Best is trial 33 with value: 0.7463736991132188.\u001b[0m\n",
            "\u001b[32m[I 2022-11-03 08:11:25,586]\u001b[0m Trial 37 finished with value: 0.7106332266426739 and parameters: {'iterations': 812, 'learning_rate': 0.033676912203152394, 'depth': 2, 'loss_function': 'Logloss', 'grow_policy': 'Depthwise'}. Best is trial 33 with value: 0.7463736991132188.\u001b[0m\n",
            "\u001b[32m[I 2022-11-03 08:12:33,971]\u001b[0m Trial 38 finished with value: 0.7352635836324208 and parameters: {'iterations': 774, 'learning_rate': 0.21510577808545076, 'depth': 6, 'loss_function': 'Logloss', 'grow_policy': 'SymmetricTree'}. Best is trial 33 with value: 0.7463736991132188.\u001b[0m\n",
            "\u001b[32m[I 2022-11-03 08:13:27,559]\u001b[0m Trial 39 finished with value: 0.7077616412209664 and parameters: {'iterations': 648, 'learning_rate': 0.005822308408241313, 'depth': 4, 'loss_function': 'Logloss', 'grow_policy': 'Depthwise'}. Best is trial 33 with value: 0.7463736991132188.\u001b[0m\n",
            "\u001b[32m[I 2022-11-03 08:14:43,048]\u001b[0m Trial 40 finished with value: 0.7301868183315634 and parameters: {'iterations': 1000, 'learning_rate': 0.11730956914505117, 'depth': 5, 'loss_function': 'Logloss', 'grow_policy': 'SymmetricTree'}. Best is trial 33 with value: 0.7463736991132188.\u001b[0m\n",
            "\u001b[32m[I 2022-11-03 08:16:42,156]\u001b[0m Trial 41 finished with value: 0.7465814931491537 and parameters: {'iterations': 845, 'learning_rate': 0.1636173905919589, 'depth': 8, 'loss_function': 'Logloss', 'grow_policy': 'Depthwise'}. Best is trial 41 with value: 0.7465814931491537.\u001b[0m\n",
            "\u001b[32m[I 2022-11-03 08:18:52,742]\u001b[0m Trial 42 finished with value: 0.7462292705615656 and parameters: {'iterations': 931, 'learning_rate': 0.15993449027035544, 'depth': 8, 'loss_function': 'Logloss', 'grow_policy': 'Depthwise'}. Best is trial 41 with value: 0.7465814931491537.\u001b[0m\n",
            "\u001b[32m[I 2022-11-03 08:20:42,549]\u001b[0m Trial 43 finished with value: 0.7465993941527389 and parameters: {'iterations': 937, 'learning_rate': 0.3058653348615673, 'depth': 7, 'loss_function': 'Logloss', 'grow_policy': 'Depthwise'}. Best is trial 43 with value: 0.7465993941527389.\u001b[0m\n",
            "\u001b[32m[I 2022-11-03 08:22:22,668]\u001b[0m Trial 44 finished with value: 0.739033473961312 and parameters: {'iterations': 825, 'learning_rate': 0.08606243746921743, 'depth': 7, 'loss_function': 'Logloss', 'grow_policy': 'Depthwise'}. Best is trial 43 with value: 0.7465993941527389.\u001b[0m\n",
            "\u001b[32m[I 2022-11-03 08:22:35,925]\u001b[0m Trial 45 finished with value: 0.7229583727418164 and parameters: {'iterations': 25, 'learning_rate': 0.29399778050115766, 'depth': 7, 'loss_function': 'Logloss', 'grow_policy': 'Depthwise'}. Best is trial 43 with value: 0.7465993941527389.\u001b[0m\n",
            "\u001b[32m[I 2022-11-03 08:23:58,087]\u001b[0m Trial 46 finished with value: 0.7399026897376699 and parameters: {'iterations': 699, 'learning_rate': 0.1846405726234585, 'depth': 8, 'loss_function': 'Logloss', 'grow_policy': 'SymmetricTree'}. Best is trial 43 with value: 0.7465993941527389.\u001b[0m\n",
            "\u001b[32m[I 2022-11-03 08:26:09,445]\u001b[0m Trial 47 finished with value: 0.7421523169950399 and parameters: {'iterations': 938, 'learning_rate': 0.5286385652182398, 'depth': 8, 'loss_function': 'Logloss', 'grow_policy': 'Depthwise'}. Best is trial 43 with value: 0.7465993941527389.\u001b[0m\n",
            "\u001b[32m[I 2022-11-03 08:28:01,661]\u001b[0m Trial 48 finished with value: 0.7461311201725901 and parameters: {'iterations': 791, 'learning_rate': 0.22756571968008488, 'depth': 8, 'loss_function': 'Logloss', 'grow_policy': 'Depthwise'}. Best is trial 43 with value: 0.7465993941527389.\u001b[0m\n",
            "\u001b[32m[I 2022-11-03 08:29:36,777]\u001b[0m Trial 49 finished with value: 0.7421291270585773 and parameters: {'iterations': 791, 'learning_rate': 0.22643662228583866, 'depth': 7, 'loss_function': 'Logloss', 'grow_policy': 'Depthwise'}. Best is trial 43 with value: 0.7465993941527389.\u001b[0m\n"
          ]
        }
      ]
    },
    {
      "cell_type": "code",
      "source": [
        "ax_history = optuna.visualization.matplotlib.plot_optimization_history(study)\n",
        "ax_param_importance = optuna.visualization.matplotlib.plot_param_importances(study)\n",
        "fig_contour = optuna.visualization.matplotlib.plot_contour(\n",
        "    study, [\"iterations\", \"depth\", \"grow_policy\", \"learning_rate\"]\n",
        ")"
      ],
      "metadata": {
        "colab": {
          "base_uri": "https://localhost:8080/",
          "height": 1000
        },
        "id": "ujM_aozLILeQ",
        "outputId": "899798db-7ebc-471b-db90-e6a1b2502db2"
      },
      "execution_count": 75,
      "outputs": [
        {
          "output_type": "stream",
          "name": "stderr",
          "text": [
            "/usr/local/lib/python3.7/dist-packages/ipykernel_launcher.py:1: ExperimentalWarning: plot_optimization_history is experimental (supported from v2.2.0). The interface can change in the future.\n",
            "  \"\"\"Entry point for launching an IPython kernel.\n",
            "/usr/local/lib/python3.7/dist-packages/ipykernel_launcher.py:2: ExperimentalWarning: plot_param_importances is experimental (supported from v2.2.0). The interface can change in the future.\n",
            "  \n",
            "/usr/local/lib/python3.7/dist-packages/ipykernel_launcher.py:4: ExperimentalWarning: plot_contour is experimental (supported from v2.2.0). The interface can change in the future.\n",
            "  after removing the cwd from sys.path.\n",
            "\u001b[33m[W 2022-11-03 08:29:37,702]\u001b[0m Output figures of this Matplotlib-based `plot_contour` function would be different from those of the Plotly-based `plot_contour`.\u001b[0m\n"
          ]
        },
        {
          "output_type": "display_data",
          "data": {
            "text/plain": [
              "<Figure size 432x288 with 1 Axes>"
            ],
            "image/png": "[encoded data removed]"
          },
          "metadata": {}
        },
        {
          "output_type": "display_data",
          "data": {
            "text/plain": [
              "<Figure size 432x288 with 1 Axes>"
            ],
            "image/png": "[encoded data removed]"
          },
          "metadata": {}
        },
        {
          "output_type": "display_data",
          "data": {
            "text/plain": [
              "<Figure size 432x288 with 17 Axes>"
            ],
            "image/png": "[encoded data removed]"
          },
          "metadata": {}
        }
      ]
    },
    {
      "cell_type": "code",
      "source": [
        "print(f\"Number of finished trials: {len(study.trials)}\")\n",
        "\n",
        "trial = study.best_trial\n",
        "\n",
        "print(f\"Best trial: {trial}\")\n",
        "\n",
        "print(f\"Value: {trial.value}\")\n",
        "\n",
        "print(\"Params:\")\n",
        "for key, value in trial.params.items():\n",
        "    print(f\"{key}: {value}\")"
      ],
      "metadata": {
        "colab": {
          "base_uri": "https://localhost:8080/"
        },
        "id": "tVfXVspgQia0",
        "outputId": "d29ef470-c585-48b1-e05f-5a62da231811"
      },
      "execution_count": 76,
      "outputs": [
        {
          "output_type": "stream",
          "name": "stdout",
          "text": [
            "Number of finished trials: 50\n",
            "Best trial: FrozenTrial(number=43, values=[0.7465993941527389], datetime_start=datetime.datetime(2022, 11, 3, 8, 18, 52, 746012), datetime_complete=datetime.datetime(2022, 11, 3, 8, 20, 42, 548804), params={'iterations': 937, 'learning_rate': 0.3058653348615673, 'depth': 7, 'loss_function': 'Logloss', 'grow_policy': 'Depthwise'}, distributions={'iterations': IntDistribution(high=1000, log=False, low=10, step=1), 'learning_rate': FloatDistribution(high=1.0, log=True, low=0.005, step=None), 'depth': IntDistribution(high=8, log=False, low=1, step=1), 'loss_function': CategoricalDistribution(choices=('Logloss',)), 'grow_policy': CategoricalDistribution(choices=('SymmetricTree', 'Depthwise'))}, user_attrs={}, system_attrs={}, intermediate_values={}, trial_id=43, state=TrialState.COMPLETE, value=None)\n",
            "Value: 0.7465993941527389\n",
            "Params:\n",
            "iterations: 937\n",
            "learning_rate: 0.3058653348615673\n",
            "depth: 7\n",
            "loss_function: Logloss\n",
            "grow_policy: Depthwise\n"
          ]
        }
      ]
    },
    {
      "cell_type": "code",
      "source": [
        "static_params = {\"od_type\": \"Iter\",\n",
        "          \"logging_level\": \"Silent\",\n",
        "          \"task_type\": \"GPU\"} \n",
        "\n",
        "params = {**static_params, **trial.params}\n",
        "print(params)"
      ],
      "metadata": {
        "colab": {
          "base_uri": "https://localhost:8080/"
        },
        "id": "t6cNgPVLnPFu",
        "outputId": "833e1783-6e77-40de-8218-8f461e6cd56a"
      },
      "execution_count": 77,
      "outputs": [
        {
          "output_type": "stream",
          "name": "stdout",
          "text": [
            "{'od_type': 'Iter', 'logging_level': 'Silent', 'task_type': 'GPU', 'iterations': 937, 'learning_rate': 0.3058653348615673, 'depth': 7, 'loss_function': 'Logloss', 'grow_policy': 'Depthwise'}\n"
          ]
        }
      ]
    },
    {
      "cell_type": "code",
      "source": [
        "model = CatBoostClassifier(**params)\n",
        "model.fit(X_train,y_train, plot=True)"
      ],
      "metadata": {
        "colab": {
          "base_uri": "https://localhost:8080/",
          "height": 34,
          "referenced_widgets": [
            "70e4f97051a7440eb04c95ae36cbfee0"
          ]
        },
        "id": "thy1Ic73l4Ri",
        "outputId": "2d30e45f-263b-4013-a626-4ebd90e84c41"
      },
      "execution_count": 78,
      "outputs": [
        {
          "output_type": "display_data",
          "data": {
            "text/plain": [
              "MetricVisualizer(layout=Layout(align_self='stretch', height='500px'))"
            ],
            "application/vnd.jupyter.widget-view+json": {
              "version_major": 2,
              "version_minor": 0,
              "model_id": "70e4f97051a7440eb04c95ae36cbfee0"
            }
          },
          "metadata": {}
        },
        {
          "output_type": "execute_result",
          "data": {
            "text/plain": [
              "<catboost.core.CatBoostClassifier at 0x7fde84cc8c90>"
            ]
          },
          "metadata": {},
          "execution_count": 78
        }
      ]
    },
    {
      "cell_type": "code",
      "source": [
        "# w = MetricVisualizer('/', subdirs=True)\n",
        "# w.start()"
      ],
      "metadata": {
        "id": "tYo4vrBFG02l"
      },
      "execution_count": 79,
      "outputs": []
    },
    {
      "cell_type": "code",
      "source": [
        "acc_train = model.score(X_train, y_train)\n",
        "acc_val = model.score(X_val, y_val)\n",
        "acc_test = model.score(X_test, y_test)\n",
        "\n",
        "print(f\"Accuracy (train): {acc_train}, (val) {acc_val}, and (test) {acc_test}\")"
      ],
      "metadata": {
        "colab": {
          "base_uri": "https://localhost:8080/"
        },
        "id": "6h7GTJBmmFXq",
        "outputId": "55f28a63-13eb-44ff-b8ab-91156e26c137"
      },
      "execution_count": 80,
      "outputs": [
        {
          "output_type": "stream",
          "name": "stdout",
          "text": [
            "Accuracy (train): 0.8937393765977462, (val) 0.7453826344601846, and (test) 0.7074389529624879\n"
          ]
        }
      ]
    },
    {
      "cell_type": "markdown",
      "source": [
        "### Robustness Baseline🥊"
      ],
      "metadata": {
        "id": "h3vzAVSc_DfD"
      }
    },
    {
      "cell_type": "code",
      "source": [
        "# Copy unscaled columns\n",
        "X_print = test.copy()\n",
        "\n",
        "# add baseline results\n",
        "X_print[\"rule\"] = \"Baseline\"\n",
        "X_print[\"buy_sell_predicted\"] = model.predict(X_test)\n",
        "\n",
        "# prepare columns for printing\n",
        "X_print[\"ttm\"] = (X_print['EXPIRATION'].dt.to_period('M') - X_print['QUOTE_DATETIME'].dt.to_period('M')).apply(lambda x: x.n)\n",
        "X_print[\"year\"] = X_print['QUOTE_DATETIME'].dt.year\n",
        "\n",
        "bins_tradesize = [0, 1, 3, 5, 11, np.inf]\n",
        "trade_size_labels = [\"(0,1]\", \"(1,3]\", \"(3,5]\", \"(5,11]\", \">11\"]\n",
        "X_print[\"TRADE_SIZE_binned\"] = pd.cut(X_print[\"TRADE_SIZE\"], bins_tradesize,\n",
        "                                      labels=trade_size_labels)\n",
        "\n",
        "bins_years = [2005, 2007, 2010, 2011, 2012, 2013, 2014, 2015, 2016, 2017]\n",
        "year_labels = [\"2005-2007\", \"2008-2010\", \"2011\", \"2012\", \"2013\", \"2014\", \n",
        "                \"2015\", \"2016\", \"2017\"]\n",
        "X_print[\"year_binned\"] = pd.cut(X_print[\"year\"], bins_years, labels=year_labels)\n",
        "\n",
        "bins_ttm = [0, 1, 2, 3, 6, 12, np.inf]\n",
        "ttm_labels = [\"ttm <= 1 month\", \"ttm (1-2] month\", \"ttm (2-3] month\", \n",
        "              \"ttm (3-6] month\", \"ttm (6-12] month\", \"ttm > 12 month\"]\n",
        "X_print[\"ttm_binned\"] = pd.cut(X_print[\"ttm\"], bins_ttm, labels=ttm_labels)\n",
        "\n",
        "# TODO: Security type\n",
        "# TODO: Moneyness\n",
        "# TODO: time from previous trade; same underlying or any?"
      ],
      "metadata": {
        "id": "3evMG-KVA2eX"
      },
      "execution_count": 81,
      "outputs": []
    },
    {
      "cell_type": "code",
      "source": [
        "def check_robustness(criterion: str=\"year_binned\") -> pd.DataFrame:\n",
        "    \"\"\"\n",
        "    Check robustness of rules by calculating the accuracy for a given\n",
        "    criterion and rules.\n",
        "\n",
        "    Example:\n",
        "    rule\tGBM\tQuote Rule (ISE)\n",
        "    trade_size_binned\t\t\n",
        "    (0.0, 1.0]\t0.493827\t0.494118\n",
        "    (1.0, 3.0]\t0.500000\t0.466667\n",
        "    (3.0, 5.0]\t0.578947\t0.494118\n",
        "    (5.0, 11.0]\t0.422680\t0.465909\n",
        "    (11.0, inf]\t0.500000\t0.571429\n",
        "\n",
        "    Args:\n",
        "        criterion (str, optional): criterion to check robustness for. \n",
        "        Defaults to \"year_binned\".\n",
        "\n",
        "    Returns:\n",
        "        pd.DataFrame: DataFrame with accuracy of rules. Rule in columns and \n",
        "        criterion values in rows.\n",
        "    \"\"\"\n",
        "    results = (\n",
        "        X_print.groupby([\"rule\", criterion])[[\"buy_sell\", \"buy_sell_predicted\"]]\n",
        "        .apply(lambda x: accuracy_score(x[\"buy_sell\"], x[\"buy_sell_predicted\"]))\n",
        "        .unstack(level=0)\n",
        "    )\n",
        "    return results"
      ],
      "metadata": {
        "id": "clDZ4Z95_0jj"
      },
      "execution_count": 82,
      "outputs": []
    },
    {
      "cell_type": "code",
      "source": [
        "check_robustness(\"year_binned\")"
      ],
      "metadata": {
        "colab": {
          "base_uri": "https://localhost:8080/",
          "height": 175
        },
        "id": "4KRw_J0IJiFU",
        "outputId": "9a6f768d-1a49-4da1-8d37-3484dde8578a"
      },
      "execution_count": 83,
      "outputs": [
        {
          "output_type": "execute_result",
          "data": {
            "text/plain": [
              "rule         Baseline\n",
              "year_binned          \n",
              "2015         0.690299\n",
              "2016         0.711732\n",
              "2017         0.703244"
            ],
            "text/html": [
              "\n",
              "  <div id=\"df-9a78ac60-5924-4297-9a56-1baa56a6968f\">\n",
              "    <div class=\"colab-df-container\">\n",
              "      <div>\n",
              "<style scoped>\n",
              "    .dataframe tbody tr th:only-of-type {\n",
              "        vertical-align: middle;\n",
              "    }\n",
              "\n",
              "    .dataframe tbody tr th {\n",
              "        vertical-align: top;\n",
              "    }\n",
              "\n",
              "    .dataframe thead th {\n",
              "        text-align: right;\n",
              "    }\n",
              "</style>\n",
              "<table border=\"1\" class=\"dataframe\">\n",
              "  <thead>\n",
              "    <tr style=\"text-align: right;\">\n",
              "      <th>rule</th>\n",
              "      <th>Baseline</th>\n",
              "    </tr>\n",
              "    <tr>\n",
              "      <th>year_binned</th>\n",
              "      <th></th>\n",
              "    </tr>\n",
              "  </thead>\n",
              "  <tbody>\n",
              "    <tr>\n",
              "      <th>2015</th>\n",
              "      <td>0.690299</td>\n",
              "    </tr>\n",
              "    <tr>\n",
              "      <th>2016</th>\n",
              "      <td>0.711732</td>\n",
              "    </tr>\n",
              "    <tr>\n",
              "      <th>2017</th>\n",
              "      <td>0.703244</td>\n",
              "    </tr>\n",
              "  </tbody>\n",
              "</table>\n",
              "</div>\n",
              "      <button class=\"colab-df-convert\" onclick=\"convertToInteractive('df-9a78ac60-5924-4297-9a56-1baa56a6968f')\"\n",
              "              title=\"Convert this dataframe to an interactive table.\"\n",
              "              style=\"display:none;\">\n",
              "        \n",
              "  <svg xmlns=\"http://www.w3.org/2000/svg\" height=\"24px\"viewBox=\"0 0 24 24\"\n",
              "       width=\"24px\">\n",
              "    <path d=\"M0 0h24v24H0V0z\" fill=\"none\"/>\n",
              "    <path d=\"M18.56 5.44l.94 2.06.94-2.06 2.06-.94-2.06-.94-.94-2.06-.94 2.06-2.06.94zm-11 1L8.5 8.5l.94-2.06 2.06-.94-2.06-.94L8.5 2.5l-.94 2.06-2.06.94zm10 10l.94 2.06.94-2.06 2.06-.94-2.06-.94-.94-2.06-.94 2.06-2.06.94z\"/><path d=\"M17.41 7.96l-1.37-1.37c-.4-.4-.92-.59-1.43-.59-.52 0-1.04.2-1.43.59L10.3 9.45l-7.72 7.72c-.78.78-.78 2.05 0 2.83L4 21.41c.39.39.9.59 1.41.59.51 0 1.02-.2 1.41-.59l7.78-7.78 2.81-2.81c.8-.78.8-2.07 0-2.86zM5.41 20L4 18.59l7.72-7.72 1.47 1.35L5.41 20z\"/>\n",
              "  </svg>\n",
              "      </button>\n",
              "      \n",
              "  <style>\n",
              "    .colab-df-container {\n",
              "      display:flex;\n",
              "      flex-wrap:wrap;\n",
              "      gap: 12px;\n",
              "    }\n",
              "\n",
              "    .colab-df-convert {\n",
              "      background-color: #E8F0FE;\n",
              "      border: none;\n",
              "      border-radius: 50%;\n",
              "      cursor: pointer;\n",
              "      display: none;\n",
              "      fill: #1967D2;\n",
              "      height: 32px;\n",
              "      padding: 0 0 0 0;\n",
              "      width: 32px;\n",
              "    }\n",
              "\n",
              "    .colab-df-convert:hover {\n",
              "      background-color: #E2EBFA;\n",
              "      box-shadow: 0px 1px 2px rgba(60, 64, 67, 0.3), 0px 1px 3px 1px rgba(60, 64, 67, 0.15);\n",
              "      fill: #174EA6;\n",
              "    }\n",
              "\n",
              "    [theme=dark] .colab-df-convert {\n",
              "      background-color: #3B4455;\n",
              "      fill: #D2E3FC;\n",
              "    }\n",
              "\n",
              "    [theme=dark] .colab-df-convert:hover {\n",
              "      background-color: #434B5C;\n",
              "      box-shadow: 0px 1px 3px 1px rgba(0, 0, 0, 0.15);\n",
              "      filter: drop-shadow(0px 1px 2px rgba(0, 0, 0, 0.3));\n",
              "      fill: #FFFFFF;\n",
              "    }\n",
              "  </style>\n",
              "\n",
              "      <script>\n",
              "        const buttonEl =\n",
              "          document.querySelector('#df-9a78ac60-5924-4297-9a56-1baa56a6968f button.colab-df-convert');\n",
              "        buttonEl.style.display =\n",
              "          google.colab.kernel.accessAllowed ? 'block' : 'none';\n",
              "\n",
              "        async function convertToInteractive(key) {\n",
              "          const element = document.querySelector('#df-9a78ac60-5924-4297-9a56-1baa56a6968f');\n",
              "          const dataTable =\n",
              "            await google.colab.kernel.invokeFunction('convertToInteractive',\n",
              "                                                     [key], {});\n",
              "          if (!dataTable) return;\n",
              "\n",
              "          const docLinkHtml = 'Like what you see? Visit the ' +\n",
              "            '<a target=\"_blank\" href=https://colab.research.google.com/notebooks/data_table.ipynb>data table notebook</a>'\n",
              "            + ' to learn more about interactive tables.';\n",
              "          element.innerHTML = '';\n",
              "          dataTable['output_type'] = 'display_data';\n",
              "          await google.colab.output.renderOutput(dataTable, element);\n",
              "          const docLink = document.createElement('div');\n",
              "          docLink.innerHTML = docLinkHtml;\n",
              "          element.appendChild(docLink);\n",
              "        }\n",
              "      </script>\n",
              "    </div>\n",
              "  </div>\n",
              "  "
            ]
          },
          "metadata": {},
          "execution_count": 83
        }
      ]
    },
    {
      "cell_type": "code",
      "source": [
        "check_robustness(\"OPTION_TYPE\")"
      ],
      "metadata": {
        "colab": {
          "base_uri": "https://localhost:8080/",
          "height": 143
        },
        "id": "fCey7G_tE6zt",
        "outputId": "31a6f574-3559-414a-9614-c3ad52c1d6a0"
      },
      "execution_count": 84,
      "outputs": [
        {
          "output_type": "execute_result",
          "data": {
            "text/plain": [
              "rule         Baseline\n",
              "OPTION_TYPE          \n",
              "C            0.704503\n",
              "P            0.710793"
            ],
            "text/html": [
              "\n",
              "  <div id=\"df-efc5e237-7e45-4c5b-b1f1-bfa0035bd348\">\n",
              "    <div class=\"colab-df-container\">\n",
              "      <div>\n",
              "<style scoped>\n",
              "    .dataframe tbody tr th:only-of-type {\n",
              "        vertical-align: middle;\n",
              "    }\n",
              "\n",
              "    .dataframe tbody tr th {\n",
              "        vertical-align: top;\n",
              "    }\n",
              "\n",
              "    .dataframe thead th {\n",
              "        text-align: right;\n",
              "    }\n",
              "</style>\n",
              "<table border=\"1\" class=\"dataframe\">\n",
              "  <thead>\n",
              "    <tr style=\"text-align: right;\">\n",
              "      <th>rule</th>\n",
              "      <th>Baseline</th>\n",
              "    </tr>\n",
              "    <tr>\n",
              "      <th>OPTION_TYPE</th>\n",
              "      <th></th>\n",
              "    </tr>\n",
              "  </thead>\n",
              "  <tbody>\n",
              "    <tr>\n",
              "      <th>C</th>\n",
              "      <td>0.704503</td>\n",
              "    </tr>\n",
              "    <tr>\n",
              "      <th>P</th>\n",
              "      <td>0.710793</td>\n",
              "    </tr>\n",
              "  </tbody>\n",
              "</table>\n",
              "</div>\n",
              "      <button class=\"colab-df-convert\" onclick=\"convertToInteractive('df-efc5e237-7e45-4c5b-b1f1-bfa0035bd348')\"\n",
              "              title=\"Convert this dataframe to an interactive table.\"\n",
              "              style=\"display:none;\">\n",
              "        \n",
              "  <svg xmlns=\"http://www.w3.org/2000/svg\" height=\"24px\"viewBox=\"0 0 24 24\"\n",
              "       width=\"24px\">\n",
              "    <path d=\"M0 0h24v24H0V0z\" fill=\"none\"/>\n",
              "    <path d=\"M18.56 5.44l.94 2.06.94-2.06 2.06-.94-2.06-.94-.94-2.06-.94 2.06-2.06.94zm-11 1L8.5 8.5l.94-2.06 2.06-.94-2.06-.94L8.5 2.5l-.94 2.06-2.06.94zm10 10l.94 2.06.94-2.06 2.06-.94-2.06-.94-.94-2.06-.94 2.06-2.06.94z\"/><path d=\"M17.41 7.96l-1.37-1.37c-.4-.4-.92-.59-1.43-.59-.52 0-1.04.2-1.43.59L10.3 9.45l-7.72 7.72c-.78.78-.78 2.05 0 2.83L4 21.41c.39.39.9.59 1.41.59.51 0 1.02-.2 1.41-.59l7.78-7.78 2.81-2.81c.8-.78.8-2.07 0-2.86zM5.41 20L4 18.59l7.72-7.72 1.47 1.35L5.41 20z\"/>\n",
              "  </svg>\n",
              "      </button>\n",
              "      \n",
              "  <style>\n",
              "    .colab-df-container {\n",
              "      display:flex;\n",
              "      flex-wrap:wrap;\n",
              "      gap: 12px;\n",
              "    }\n",
              "\n",
              "    .colab-df-convert {\n",
              "      background-color: #E8F0FE;\n",
              "      border: none;\n",
              "      border-radius: 50%;\n",
              "      cursor: pointer;\n",
              "      display: none;\n",
              "      fill: #1967D2;\n",
              "      height: 32px;\n",
              "      padding: 0 0 0 0;\n",
              "      width: 32px;\n",
              "    }\n",
              "\n",
              "    .colab-df-convert:hover {\n",
              "      background-color: #E2EBFA;\n",
              "      box-shadow: 0px 1px 2px rgba(60, 64, 67, 0.3), 0px 1px 3px 1px rgba(60, 64, 67, 0.15);\n",
              "      fill: #174EA6;\n",
              "    }\n",
              "\n",
              "    [theme=dark] .colab-df-convert {\n",
              "      background-color: #3B4455;\n",
              "      fill: #D2E3FC;\n",
              "    }\n",
              "\n",
              "    [theme=dark] .colab-df-convert:hover {\n",
              "      background-color: #434B5C;\n",
              "      box-shadow: 0px 1px 3px 1px rgba(0, 0, 0, 0.15);\n",
              "      filter: drop-shadow(0px 1px 2px rgba(0, 0, 0, 0.3));\n",
              "      fill: #FFFFFF;\n",
              "    }\n",
              "  </style>\n",
              "\n",
              "      <script>\n",
              "        const buttonEl =\n",
              "          document.querySelector('#df-efc5e237-7e45-4c5b-b1f1-bfa0035bd348 button.colab-df-convert');\n",
              "        buttonEl.style.display =\n",
              "          google.colab.kernel.accessAllowed ? 'block' : 'none';\n",
              "\n",
              "        async function convertToInteractive(key) {\n",
              "          const element = document.querySelector('#df-efc5e237-7e45-4c5b-b1f1-bfa0035bd348');\n",
              "          const dataTable =\n",
              "            await google.colab.kernel.invokeFunction('convertToInteractive',\n",
              "                                                     [key], {});\n",
              "          if (!dataTable) return;\n",
              "\n",
              "          const docLinkHtml = 'Like what you see? Visit the ' +\n",
              "            '<a target=\"_blank\" href=https://colab.research.google.com/notebooks/data_table.ipynb>data table notebook</a>'\n",
              "            + ' to learn more about interactive tables.';\n",
              "          element.innerHTML = '';\n",
              "          dataTable['output_type'] = 'display_data';\n",
              "          await google.colab.output.renderOutput(dataTable, element);\n",
              "          const docLink = document.createElement('div');\n",
              "          docLink.innerHTML = docLinkHtml;\n",
              "          element.appendChild(docLink);\n",
              "        }\n",
              "      </script>\n",
              "    </div>\n",
              "  </div>\n",
              "  "
            ]
          },
          "metadata": {},
          "execution_count": 84
        }
      ]
    },
    {
      "cell_type": "code",
      "source": [
        "check_robustness(\"TRADE_SIZE_binned\")"
      ],
      "metadata": {
        "colab": {
          "base_uri": "https://localhost:8080/",
          "height": 238
        },
        "id": "Zpg1yY2MEGFa",
        "outputId": "9816ff1f-0bf9-4042-944c-66b11fc5718d"
      },
      "execution_count": 85,
      "outputs": [
        {
          "output_type": "execute_result",
          "data": {
            "text/plain": [
              "rule               Baseline\n",
              "TRADE_SIZE_binned          \n",
              "(0,1]              0.710966\n",
              "(1,3]              0.717664\n",
              "(3,5]              0.715195\n",
              "(5,11]             0.699428\n",
              ">11                0.688348"
            ],
            "text/html": [
              "\n",
              "  <div id=\"df-386fea8e-069f-432d-9f49-e88313980afc\">\n",
              "    <div class=\"colab-df-container\">\n",
              "      <div>\n",
              "<style scoped>\n",
              "    .dataframe tbody tr th:only-of-type {\n",
              "        vertical-align: middle;\n",
              "    }\n",
              "\n",
              "    .dataframe tbody tr th {\n",
              "        vertical-align: top;\n",
              "    }\n",
              "\n",
              "    .dataframe thead th {\n",
              "        text-align: right;\n",
              "    }\n",
              "</style>\n",
              "<table border=\"1\" class=\"dataframe\">\n",
              "  <thead>\n",
              "    <tr style=\"text-align: right;\">\n",
              "      <th>rule</th>\n",
              "      <th>Baseline</th>\n",
              "    </tr>\n",
              "    <tr>\n",
              "      <th>TRADE_SIZE_binned</th>\n",
              "      <th></th>\n",
              "    </tr>\n",
              "  </thead>\n",
              "  <tbody>\n",
              "    <tr>\n",
              "      <th>(0,1]</th>\n",
              "      <td>0.710966</td>\n",
              "    </tr>\n",
              "    <tr>\n",
              "      <th>(1,3]</th>\n",
              "      <td>0.717664</td>\n",
              "    </tr>\n",
              "    <tr>\n",
              "      <th>(3,5]</th>\n",
              "      <td>0.715195</td>\n",
              "    </tr>\n",
              "    <tr>\n",
              "      <th>(5,11]</th>\n",
              "      <td>0.699428</td>\n",
              "    </tr>\n",
              "    <tr>\n",
              "      <th>&gt;11</th>\n",
              "      <td>0.688348</td>\n",
              "    </tr>\n",
              "  </tbody>\n",
              "</table>\n",
              "</div>\n",
              "      <button class=\"colab-df-convert\" onclick=\"convertToInteractive('df-386fea8e-069f-432d-9f49-e88313980afc')\"\n",
              "              title=\"Convert this dataframe to an interactive table.\"\n",
              "              style=\"display:none;\">\n",
              "        \n",
              "  <svg xmlns=\"http://www.w3.org/2000/svg\" height=\"24px\"viewBox=\"0 0 24 24\"\n",
              "       width=\"24px\">\n",
              "    <path d=\"M0 0h24v24H0V0z\" fill=\"none\"/>\n",
              "    <path d=\"M18.56 5.44l.94 2.06.94-2.06 2.06-.94-2.06-.94-.94-2.06-.94 2.06-2.06.94zm-11 1L8.5 8.5l.94-2.06 2.06-.94-2.06-.94L8.5 2.5l-.94 2.06-2.06.94zm10 10l.94 2.06.94-2.06 2.06-.94-2.06-.94-.94-2.06-.94 2.06-2.06.94z\"/><path d=\"M17.41 7.96l-1.37-1.37c-.4-.4-.92-.59-1.43-.59-.52 0-1.04.2-1.43.59L10.3 9.45l-7.72 7.72c-.78.78-.78 2.05 0 2.83L4 21.41c.39.39.9.59 1.41.59.51 0 1.02-.2 1.41-.59l7.78-7.78 2.81-2.81c.8-.78.8-2.07 0-2.86zM5.41 20L4 18.59l7.72-7.72 1.47 1.35L5.41 20z\"/>\n",
              "  </svg>\n",
              "      </button>\n",
              "      \n",
              "  <style>\n",
              "    .colab-df-container {\n",
              "      display:flex;\n",
              "      flex-wrap:wrap;\n",
              "      gap: 12px;\n",
              "    }\n",
              "\n",
              "    .colab-df-convert {\n",
              "      background-color: #E8F0FE;\n",
              "      border: none;\n",
              "      border-radius: 50%;\n",
              "      cursor: pointer;\n",
              "      display: none;\n",
              "      fill: #1967D2;\n",
              "      height: 32px;\n",
              "      padding: 0 0 0 0;\n",
              "      width: 32px;\n",
              "    }\n",
              "\n",
              "    .colab-df-convert:hover {\n",
              "      background-color: #E2EBFA;\n",
              "      box-shadow: 0px 1px 2px rgba(60, 64, 67, 0.3), 0px 1px 3px 1px rgba(60, 64, 67, 0.15);\n",
              "      fill: #174EA6;\n",
              "    }\n",
              "\n",
              "    [theme=dark] .colab-df-convert {\n",
              "      background-color: #3B4455;\n",
              "      fill: #D2E3FC;\n",
              "    }\n",
              "\n",
              "    [theme=dark] .colab-df-convert:hover {\n",
              "      background-color: #434B5C;\n",
              "      box-shadow: 0px 1px 3px 1px rgba(0, 0, 0, 0.15);\n",
              "      filter: drop-shadow(0px 1px 2px rgba(0, 0, 0, 0.3));\n",
              "      fill: #FFFFFF;\n",
              "    }\n",
              "  </style>\n",
              "\n",
              "      <script>\n",
              "        const buttonEl =\n",
              "          document.querySelector('#df-386fea8e-069f-432d-9f49-e88313980afc button.colab-df-convert');\n",
              "        buttonEl.style.display =\n",
              "          google.colab.kernel.accessAllowed ? 'block' : 'none';\n",
              "\n",
              "        async function convertToInteractive(key) {\n",
              "          const element = document.querySelector('#df-386fea8e-069f-432d-9f49-e88313980afc');\n",
              "          const dataTable =\n",
              "            await google.colab.kernel.invokeFunction('convertToInteractive',\n",
              "                                                     [key], {});\n",
              "          if (!dataTable) return;\n",
              "\n",
              "          const docLinkHtml = 'Like what you see? Visit the ' +\n",
              "            '<a target=\"_blank\" href=https://colab.research.google.com/notebooks/data_table.ipynb>data table notebook</a>'\n",
              "            + ' to learn more about interactive tables.';\n",
              "          element.innerHTML = '';\n",
              "          dataTable['output_type'] = 'display_data';\n",
              "          await google.colab.output.renderOutput(dataTable, element);\n",
              "          const docLink = document.createElement('div');\n",
              "          docLink.innerHTML = docLinkHtml;\n",
              "          element.appendChild(docLink);\n",
              "        }\n",
              "      </script>\n",
              "    </div>\n",
              "  </div>\n",
              "  "
            ]
          },
          "metadata": {},
          "execution_count": 85
        }
      ]
    },
    {
      "cell_type": "code",
      "source": [
        "check_robustness(\"ttm_binned\")"
      ],
      "metadata": {
        "colab": {
          "base_uri": "https://localhost:8080/",
          "height": 269
        },
        "id": "8624JR8wEN4D",
        "outputId": "c225e327-35e9-47c5-ad56-c406aca87540"
      },
      "execution_count": 86,
      "outputs": [
        {
          "output_type": "execute_result",
          "data": {
            "text/plain": [
              "rule              Baseline\n",
              "ttm_binned                \n",
              "ttm <= 1 month    0.707404\n",
              "ttm (1-2] month   0.701838\n",
              "ttm (2-3] month   0.692040\n",
              "ttm (3-6] month   0.686761\n",
              "ttm (6-12] month  0.686906\n",
              "ttm > 12 month    0.678862"
            ],
            "text/html": [
              "\n",
              "  <div id=\"df-c978c985-9d9b-47a2-afc9-efbcea469788\">\n",
              "    <div class=\"colab-df-container\">\n",
              "      <div>\n",
              "<style scoped>\n",
              "    .dataframe tbody tr th:only-of-type {\n",
              "        vertical-align: middle;\n",
              "    }\n",
              "\n",
              "    .dataframe tbody tr th {\n",
              "        vertical-align: top;\n",
              "    }\n",
              "\n",
              "    .dataframe thead th {\n",
              "        text-align: right;\n",
              "    }\n",
              "</style>\n",
              "<table border=\"1\" class=\"dataframe\">\n",
              "  <thead>\n",
              "    <tr style=\"text-align: right;\">\n",
              "      <th>rule</th>\n",
              "      <th>Baseline</th>\n",
              "    </tr>\n",
              "    <tr>\n",
              "      <th>ttm_binned</th>\n",
              "      <th></th>\n",
              "    </tr>\n",
              "  </thead>\n",
              "  <tbody>\n",
              "    <tr>\n",
              "      <th>ttm &lt;= 1 month</th>\n",
              "      <td>0.707404</td>\n",
              "    </tr>\n",
              "    <tr>\n",
              "      <th>ttm (1-2] month</th>\n",
              "      <td>0.701838</td>\n",
              "    </tr>\n",
              "    <tr>\n",
              "      <th>ttm (2-3] month</th>\n",
              "      <td>0.692040</td>\n",
              "    </tr>\n",
              "    <tr>\n",
              "      <th>ttm (3-6] month</th>\n",
              "      <td>0.686761</td>\n",
              "    </tr>\n",
              "    <tr>\n",
              "      <th>ttm (6-12] month</th>\n",
              "      <td>0.686906</td>\n",
              "    </tr>\n",
              "    <tr>\n",
              "      <th>ttm &gt; 12 month</th>\n",
              "      <td>0.678862</td>\n",
              "    </tr>\n",
              "  </tbody>\n",
              "</table>\n",
              "</div>\n",
              "      <button class=\"colab-df-convert\" onclick=\"convertToInteractive('df-c978c985-9d9b-47a2-afc9-efbcea469788')\"\n",
              "              title=\"Convert this dataframe to an interactive table.\"\n",
              "              style=\"display:none;\">\n",
              "        \n",
              "  <svg xmlns=\"http://www.w3.org/2000/svg\" height=\"24px\"viewBox=\"0 0 24 24\"\n",
              "       width=\"24px\">\n",
              "    <path d=\"M0 0h24v24H0V0z\" fill=\"none\"/>\n",
              "    <path d=\"M18.56 5.44l.94 2.06.94-2.06 2.06-.94-2.06-.94-.94-2.06-.94 2.06-2.06.94zm-11 1L8.5 8.5l.94-2.06 2.06-.94-2.06-.94L8.5 2.5l-.94 2.06-2.06.94zm10 10l.94 2.06.94-2.06 2.06-.94-2.06-.94-.94-2.06-.94 2.06-2.06.94z\"/><path d=\"M17.41 7.96l-1.37-1.37c-.4-.4-.92-.59-1.43-.59-.52 0-1.04.2-1.43.59L10.3 9.45l-7.72 7.72c-.78.78-.78 2.05 0 2.83L4 21.41c.39.39.9.59 1.41.59.51 0 1.02-.2 1.41-.59l7.78-7.78 2.81-2.81c.8-.78.8-2.07 0-2.86zM5.41 20L4 18.59l7.72-7.72 1.47 1.35L5.41 20z\"/>\n",
              "  </svg>\n",
              "      </button>\n",
              "      \n",
              "  <style>\n",
              "    .colab-df-container {\n",
              "      display:flex;\n",
              "      flex-wrap:wrap;\n",
              "      gap: 12px;\n",
              "    }\n",
              "\n",
              "    .colab-df-convert {\n",
              "      background-color: #E8F0FE;\n",
              "      border: none;\n",
              "      border-radius: 50%;\n",
              "      cursor: pointer;\n",
              "      display: none;\n",
              "      fill: #1967D2;\n",
              "      height: 32px;\n",
              "      padding: 0 0 0 0;\n",
              "      width: 32px;\n",
              "    }\n",
              "\n",
              "    .colab-df-convert:hover {\n",
              "      background-color: #E2EBFA;\n",
              "      box-shadow: 0px 1px 2px rgba(60, 64, 67, 0.3), 0px 1px 3px 1px rgba(60, 64, 67, 0.15);\n",
              "      fill: #174EA6;\n",
              "    }\n",
              "\n",
              "    [theme=dark] .colab-df-convert {\n",
              "      background-color: #3B4455;\n",
              "      fill: #D2E3FC;\n",
              "    }\n",
              "\n",
              "    [theme=dark] .colab-df-convert:hover {\n",
              "      background-color: #434B5C;\n",
              "      box-shadow: 0px 1px 3px 1px rgba(0, 0, 0, 0.15);\n",
              "      filter: drop-shadow(0px 1px 2px rgba(0, 0, 0, 0.3));\n",
              "      fill: #FFFFFF;\n",
              "    }\n",
              "  </style>\n",
              "\n",
              "      <script>\n",
              "        const buttonEl =\n",
              "          document.querySelector('#df-c978c985-9d9b-47a2-afc9-efbcea469788 button.colab-df-convert');\n",
              "        buttonEl.style.display =\n",
              "          google.colab.kernel.accessAllowed ? 'block' : 'none';\n",
              "\n",
              "        async function convertToInteractive(key) {\n",
              "          const element = document.querySelector('#df-c978c985-9d9b-47a2-afc9-efbcea469788');\n",
              "          const dataTable =\n",
              "            await google.colab.kernel.invokeFunction('convertToInteractive',\n",
              "                                                     [key], {});\n",
              "          if (!dataTable) return;\n",
              "\n",
              "          const docLinkHtml = 'Like what you see? Visit the ' +\n",
              "            '<a target=\"_blank\" href=https://colab.research.google.com/notebooks/data_table.ipynb>data table notebook</a>'\n",
              "            + ' to learn more about interactive tables.';\n",
              "          element.innerHTML = '';\n",
              "          dataTable['output_type'] = 'display_data';\n",
              "          await google.colab.output.renderOutput(dataTable, element);\n",
              "          const docLink = document.createElement('div');\n",
              "          docLink.innerHTML = docLinkHtml;\n",
              "          element.appendChild(docLink);\n",
              "        }\n",
              "      </script>\n",
              "    </div>\n",
              "  </div>\n",
              "  "
            ]
          },
          "metadata": {},
          "execution_count": 86
        }
      ]
    },
    {
      "cell_type": "code",
      "source": [
        "# TODO: print some metrics\n",
        "\n",
        "# cv_dataset = Pool(data=cv_data,\n",
        "#                   label=labels,\n",
        "#                   cat_features=cat_features)\n",
        "\n",
        "# params = {\"iterations\": 100,\n",
        "#           \"depth\": 2,\n",
        "#           \"loss_function\": \"Logloss\",\n",
        "#           \"verbose\": False}\n",
        "\n",
        "# scores = cv(cv_dataset,\n",
        "#             params,\n",
        "#             fold_count=2, \n",
        "#             plot=\"True\")"
      ],
      "metadata": {
        "id": "IGKtBlnz4COM"
      },
      "execution_count": null,
      "outputs": []
    },
    {
      "cell_type": "markdown",
      "source": [
        "## Classical rules"
      ],
      "metadata": {
        "id": "2P3UVsQb2T_V"
      }
    },
    {
      "cell_type": "code",
      "source": [
        "df.head().T"
      ],
      "metadata": {
        "colab": {
          "base_uri": "https://localhost:8080/",
          "height": 771
        },
        "id": "gHnFz65rZnOZ",
        "outputId": "cdb54c20-c5ba-42df-e6a0-38fac64b281e"
      },
      "execution_count": null,
      "outputs": [
        {
          "output_type": "execute_result",
          "data": {
            "text/plain": [
              "                              34736684             34736685  \\\n",
              "UNDERLYING_SYMBOL                 LINE                 LINE   \n",
              "QUOTE_DATETIME     2015-01-02 09:30:00  2015-01-02 09:30:00   \n",
              "SEQUENCE_NUMBER                  74466             67183330   \n",
              "ROOT                              LINE                 LINE   \n",
              "EXPIRATION         2015-04-17 00:00:00  2015-04-17 00:00:00   \n",
              "STRK_PRC                           9.0                 18.0   \n",
              "OPTION_TYPE                          C                    C   \n",
              "TRADE_SIZE                           5                    5   \n",
              "TRADE_PRICE                       2.14                 0.04   \n",
              "BEST_BID                           1.8                  0.0   \n",
              "BEST_ASK                          2.15                  0.5   \n",
              "order_id                    1624705991           1624706010   \n",
              "ask_ex                            2.15                  0.5   \n",
              "bid_ex                             1.8                  0.0   \n",
              "bid_size_ex                       11.0                  0.0   \n",
              "ask_size_ex                       11.0                 31.0   \n",
              "price_all_lead                    2.83                 0.28   \n",
              "price_all_lag                     2.25                 0.21   \n",
              "optionid                   106126248.0          105166752.0   \n",
              "day_vol                           10.0                 10.0   \n",
              "price_ex_lead                     3.29                 0.22   \n",
              "price_ex_lag                       2.3                  0.2   \n",
              "buy_sell                           1.0                 -1.0   \n",
              "\n",
              "                              34736686             34736687  \\\n",
              "UNDERLYING_SYMBOL                 AMZN                  TLT   \n",
              "QUOTE_DATETIME     2015-01-02 09:30:00  2015-01-02 09:30:00   \n",
              "SEQUENCE_NUMBER                8588013              7331304   \n",
              "ROOT                              AMZN                  TLT   \n",
              "EXPIRATION         2015-02-20 00:00:00  2015-01-02 00:00:00   \n",
              "STRK_PRC                         390.0                124.0   \n",
              "OPTION_TYPE                          C                    P   \n",
              "TRADE_SIZE                           1                   20   \n",
              "TRADE_PRICE                       1.42                 0.01   \n",
              "BEST_BID                           0.0                  0.0   \n",
              "BEST_ASK                           0.0                 0.14   \n",
              "order_id                    1624706024           1624706072   \n",
              "ask_ex                             NaN                 0.14   \n",
              "bid_ex                             NaN                  0.0   \n",
              "bid_size_ex                        NaN                  0.0   \n",
              "ask_size_ex                        NaN                 56.0   \n",
              "price_all_lead                     1.3                 0.03   \n",
              "price_all_lag                     1.35                 0.03   \n",
              "optionid                   106064528.0          105919880.0   \n",
              "day_vol                            1.0                 20.0   \n",
              "price_ex_lead                     0.37                  NaN   \n",
              "price_ex_lag                      1.35                 0.04   \n",
              "buy_sell                          -1.0                 -1.0   \n",
              "\n",
              "                              34736688  \n",
              "UNDERLYING_SYMBOL                  TLT  \n",
              "QUOTE_DATETIME     2015-01-02 09:30:00  \n",
              "SEQUENCE_NUMBER                7331305  \n",
              "ROOT                               TLT  \n",
              "EXPIRATION         2015-01-02 00:00:00  \n",
              "STRK_PRC                         126.0  \n",
              "OPTION_TYPE                          P  \n",
              "TRADE_SIZE                          20  \n",
              "TRADE_PRICE                       0.18  \n",
              "BEST_BID                          0.05  \n",
              "BEST_ASK                          0.19  \n",
              "order_id                    1624706073  \n",
              "ask_ex                            0.19  \n",
              "bid_ex                            0.05  \n",
              "bid_size_ex                       80.0  \n",
              "ask_size_ex                       21.0  \n",
              "price_all_lead                    0.15  \n",
              "price_all_lag                     0.42  \n",
              "optionid                   105919880.0  \n",
              "day_vol                           20.0  \n",
              "price_ex_lead                      NaN  \n",
              "price_ex_lag                       0.4  \n",
              "buy_sell                           1.0  "
            ],
            "text/html": [
              "<div>\n",
              "<style scoped>\n",
              "    .dataframe tbody tr th:only-of-type {\n",
              "        vertical-align: middle;\n",
              "    }\n",
              "\n",
              "    .dataframe tbody tr th {\n",
              "        vertical-align: top;\n",
              "    }\n",
              "\n",
              "    .dataframe thead th {\n",
              "        text-align: right;\n",
              "    }\n",
              "</style>\n",
              "<table border=\"1\" class=\"dataframe\">\n",
              "  <thead>\n",
              "    <tr style=\"text-align: right;\">\n",
              "      <th></th>\n",
              "      <th>34736684</th>\n",
              "      <th>34736685</th>\n",
              "      <th>34736686</th>\n",
              "      <th>34736687</th>\n",
              "      <th>34736688</th>\n",
              "    </tr>\n",
              "  </thead>\n",
              "  <tbody>\n",
              "    <tr>\n",
              "      <th>UNDERLYING_SYMBOL</th>\n",
              "      <td>LINE</td>\n",
              "      <td>LINE</td>\n",
              "      <td>AMZN</td>\n",
              "      <td>TLT</td>\n",
              "      <td>TLT</td>\n",
              "    </tr>\n",
              "    <tr>\n",
              "      <th>QUOTE_DATETIME</th>\n",
              "      <td>2015-01-02 09:30:00</td>\n",
              "      <td>2015-01-02 09:30:00</td>\n",
              "      <td>2015-01-02 09:30:00</td>\n",
              "      <td>2015-01-02 09:30:00</td>\n",
              "      <td>2015-01-02 09:30:00</td>\n",
              "    </tr>\n",
              "    <tr>\n",
              "      <th>SEQUENCE_NUMBER</th>\n",
              "      <td>74466</td>\n",
              "      <td>67183330</td>\n",
              "      <td>8588013</td>\n",
              "      <td>7331304</td>\n",
              "      <td>7331305</td>\n",
              "    </tr>\n",
              "    <tr>\n",
              "      <th>ROOT</th>\n",
              "      <td>LINE</td>\n",
              "      <td>LINE</td>\n",
              "      <td>AMZN</td>\n",
              "      <td>TLT</td>\n",
              "      <td>TLT</td>\n",
              "    </tr>\n",
              "    <tr>\n",
              "      <th>EXPIRATION</th>\n",
              "      <td>2015-04-17 00:00:00</td>\n",
              "      <td>2015-04-17 00:00:00</td>\n",
              "      <td>2015-02-20 00:00:00</td>\n",
              "      <td>2015-01-02 00:00:00</td>\n",
              "      <td>2015-01-02 00:00:00</td>\n",
              "    </tr>\n",
              "    <tr>\n",
              "      <th>STRK_PRC</th>\n",
              "      <td>9.0</td>\n",
              "      <td>18.0</td>\n",
              "      <td>390.0</td>\n",
              "      <td>124.0</td>\n",
              "      <td>126.0</td>\n",
              "    </tr>\n",
              "    <tr>\n",
              "      <th>OPTION_TYPE</th>\n",
              "      <td>C</td>\n",
              "      <td>C</td>\n",
              "      <td>C</td>\n",
              "      <td>P</td>\n",
              "      <td>P</td>\n",
              "    </tr>\n",
              "    <tr>\n",
              "      <th>TRADE_SIZE</th>\n",
              "      <td>5</td>\n",
              "      <td>5</td>\n",
              "      <td>1</td>\n",
              "      <td>20</td>\n",
              "      <td>20</td>\n",
              "    </tr>\n",
              "    <tr>\n",
              "      <th>TRADE_PRICE</th>\n",
              "      <td>2.14</td>\n",
              "      <td>0.04</td>\n",
              "      <td>1.42</td>\n",
              "      <td>0.01</td>\n",
              "      <td>0.18</td>\n",
              "    </tr>\n",
              "    <tr>\n",
              "      <th>BEST_BID</th>\n",
              "      <td>1.8</td>\n",
              "      <td>0.0</td>\n",
              "      <td>0.0</td>\n",
              "      <td>0.0</td>\n",
              "      <td>0.05</td>\n",
              "    </tr>\n",
              "    <tr>\n",
              "      <th>BEST_ASK</th>\n",
              "      <td>2.15</td>\n",
              "      <td>0.5</td>\n",
              "      <td>0.0</td>\n",
              "      <td>0.14</td>\n",
              "      <td>0.19</td>\n",
              "    </tr>\n",
              "    <tr>\n",
              "      <th>order_id</th>\n",
              "      <td>1624705991</td>\n",
              "      <td>1624706010</td>\n",
              "      <td>1624706024</td>\n",
              "      <td>1624706072</td>\n",
              "      <td>1624706073</td>\n",
              "    </tr>\n",
              "    <tr>\n",
              "      <th>ask_ex</th>\n",
              "      <td>2.15</td>\n",
              "      <td>0.5</td>\n",
              "      <td>NaN</td>\n",
              "      <td>0.14</td>\n",
              "      <td>0.19</td>\n",
              "    </tr>\n",
              "    <tr>\n",
              "      <th>bid_ex</th>\n",
              "      <td>1.8</td>\n",
              "      <td>0.0</td>\n",
              "      <td>NaN</td>\n",
              "      <td>0.0</td>\n",
              "      <td>0.05</td>\n",
              "    </tr>\n",
              "    <tr>\n",
              "      <th>bid_size_ex</th>\n",
              "      <td>11.0</td>\n",
              "      <td>0.0</td>\n",
              "      <td>NaN</td>\n",
              "      <td>0.0</td>\n",
              "      <td>80.0</td>\n",
              "    </tr>\n",
              "    <tr>\n",
              "      <th>ask_size_ex</th>\n",
              "      <td>11.0</td>\n",
              "      <td>31.0</td>\n",
              "      <td>NaN</td>\n",
              "      <td>56.0</td>\n",
              "      <td>21.0</td>\n",
              "    </tr>\n",
              "    <tr>\n",
              "      <th>price_all_lead</th>\n",
              "      <td>2.83</td>\n",
              "      <td>0.28</td>\n",
              "      <td>1.3</td>\n",
              "      <td>0.03</td>\n",
              "      <td>0.15</td>\n",
              "    </tr>\n",
              "    <tr>\n",
              "      <th>price_all_lag</th>\n",
              "      <td>2.25</td>\n",
              "      <td>0.21</td>\n",
              "      <td>1.35</td>\n",
              "      <td>0.03</td>\n",
              "      <td>0.42</td>\n",
              "    </tr>\n",
              "    <tr>\n",
              "      <th>optionid</th>\n",
              "      <td>106126248.0</td>\n",
              "      <td>105166752.0</td>\n",
              "      <td>106064528.0</td>\n",
              "      <td>105919880.0</td>\n",
              "      <td>105919880.0</td>\n",
              "    </tr>\n",
              "    <tr>\n",
              "      <th>day_vol</th>\n",
              "      <td>10.0</td>\n",
              "      <td>10.0</td>\n",
              "      <td>1.0</td>\n",
              "      <td>20.0</td>\n",
              "      <td>20.0</td>\n",
              "    </tr>\n",
              "    <tr>\n",
              "      <th>price_ex_lead</th>\n",
              "      <td>3.29</td>\n",
              "      <td>0.22</td>\n",
              "      <td>0.37</td>\n",
              "      <td>NaN</td>\n",
              "      <td>NaN</td>\n",
              "    </tr>\n",
              "    <tr>\n",
              "      <th>price_ex_lag</th>\n",
              "      <td>2.3</td>\n",
              "      <td>0.2</td>\n",
              "      <td>1.35</td>\n",
              "      <td>0.04</td>\n",
              "      <td>0.4</td>\n",
              "    </tr>\n",
              "    <tr>\n",
              "      <th>buy_sell</th>\n",
              "      <td>1.0</td>\n",
              "      <td>-1.0</td>\n",
              "      <td>-1.0</td>\n",
              "      <td>-1.0</td>\n",
              "      <td>1.0</td>\n",
              "    </tr>\n",
              "  </tbody>\n",
              "</table>\n",
              "</div>"
            ]
          },
          "metadata": {},
          "execution_count": 6
        }
      ]
    },
    {
      "cell_type": "code",
      "source": [
        "# test if if a lead price is different from the trade price?\n",
        "sum = (df['TRADE_PRICE'] == df['price_ex_lead']).sum()\n",
        "print(sum)"
      ],
      "metadata": {
        "colab": {
          "base_uri": "https://localhost:8080/"
        },
        "id": "1E0cyFEW7OHh",
        "outputId": "138fe32e-7270-4800-a591-4524519db004"
      },
      "execution_count": null,
      "outputs": [
        {
          "output_type": "stream",
          "name": "stdout",
          "text": [
            "0\n"
          ]
        }
      ]
    },
    {
      "cell_type": "code",
      "source": [
        "# quote rule\n",
        "mid = 0.5 * (df['ask_ex'] + df['bid_ex'])\n",
        "qr = np.where(df['TRADE_PRICE'] > mid, 1, np.where(df['TRADE_PRICE'] < mid, -1, np.nan))\n",
        "df['pred_quote_rule'] = qr"
      ],
      "metadata": {
        "id": "GTr6C0gPEAlh"
      },
      "execution_count": null,
      "outputs": []
    },
    {
      "cell_type": "code",
      "source": [
        "sum = (df['TRADE_PRICE'] == mid).sum()\n",
        "print(sum)"
      ],
      "metadata": {
        "colab": {
          "base_uri": "https://localhost:8080/"
        },
        "id": "As1GilUfF2On",
        "outputId": "176b48f3-3b1a-4eea-84c1-3330c6a9b701"
      },
      "execution_count": null,
      "outputs": [
        {
          "output_type": "stream",
          "name": "stdout",
          "text": [
            "632780\n"
          ]
        }
      ]
    },
    {
      "cell_type": "code",
      "source": [
        "# depth rule p. 14\n",
        "dr = np.where((df['TRADE_PRICE'] == mid) & (df['ask_size_ex'] > df['bid_size_ex']),1,np.where((df['TRADE_PRICE'] == mid) & (df['ask_size_ex'] < df['bid_size_ex']),-1,np.nan))\n",
        "df['pred_depth_rule'] = dr"
      ],
      "metadata": {
        "id": "I_8zfiyGVZfG"
      },
      "execution_count": null,
      "outputs": []
    },
    {
      "cell_type": "code",
      "source": [
        "# tick rule\n",
        "# FIXME: Disqus with Grauer et al what is used in table 9 ISE or all?\n",
        "tt = np.where(df['TRADE_PRICE'] > df['price_ex_lead'], 1.0, -1.0)\n",
        "df['pred_tick_test'] = tt"
      ],
      "metadata": {
        "id": "FXOz7eU-T0dj"
      },
      "execution_count": null,
      "outputs": []
    },
    {
      "cell_type": "code",
      "source": [
        "# main idea of our new “trade size rule” is that when the trade size matches exactly either the bid or ask quote size, it is likely that the quote came from a customer, the market maker found it attractive and, therefore, decided to fill it completely.\n",
        "# we propose to classify trades for which the trade size is equal to the quoted bid size as customer buys and those with a trade size equal to the ask size as customer sells.\n",
        "\n",
        "ts_eq_bid = (df['TRADE_SIZE'] == df['bid_size_ex'])\n",
        "ts_eq_ask = (df['TRADE_SIZE'] == df['ask_size_ex'])\n",
        "\n",
        "df['pred_trade_size_quote_rule'] = np.where(ts_eq_bid,1.0, np.where(ts_eq_ask,-1.0, qr))\n",
        "df['pred_trade_size_tick_test'] = np.where(ts_eq_bid,1.0, np.where(ts_eq_ask,-1.0, tt))"
      ],
      "metadata": {
        "id": "uKFUz1AHxFHQ"
      },
      "execution_count": null,
      "outputs": []
    },
    {
      "cell_type": "code",
      "source": [
        "df['pred_trade_size_depth_rule'] = np.where(ts_eq_bid,1.0, np.where(ts_eq_ask,-1.0, dr))"
      ],
      "metadata": {
        "id": "Ym31mXboWRUL"
      },
      "execution_count": null,
      "outputs": []
    },
    {
      "cell_type": "code",
      "source": [
        "# reverse tick rule\n",
        "df['pred_rev_tick_test'] = np.where(df['TRADE_PRICE'] > df['price_all_lag'], 1.0, -1.0)"
      ],
      "metadata": {
        "id": "dfsKw6JuBIKd"
      },
      "execution_count": null,
      "outputs": []
    },
    {
      "cell_type": "code",
      "source": [
        "df.head().T"
      ],
      "metadata": {
        "colab": {
          "base_uri": "https://localhost:8080/",
          "height": 990
        },
        "id": "etb4IaTvUdx5",
        "outputId": "69f87245-bf76-4c82-f0ee-84844a666a08"
      },
      "execution_count": null,
      "outputs": [
        {
          "output_type": "execute_result",
          "data": {
            "text/plain": [
              "                                       34736684             34736685  \\\n",
              "UNDERLYING_SYMBOL                          LINE                 LINE   \n",
              "QUOTE_DATETIME              2015-01-02 09:30:00  2015-01-02 09:30:00   \n",
              "SEQUENCE_NUMBER                           74466             67183330   \n",
              "ROOT                                       LINE                 LINE   \n",
              "EXPIRATION                  2015-04-17 00:00:00  2015-04-17 00:00:00   \n",
              "STRK_PRC                                    9.0                 18.0   \n",
              "OPTION_TYPE                                   C                    C   \n",
              "TRADE_SIZE                                    5                    5   \n",
              "TRADE_PRICE                                2.14                 0.04   \n",
              "BEST_BID                                    1.8                  0.0   \n",
              "BEST_ASK                                   2.15                  0.5   \n",
              "order_id                             1624705991           1624706010   \n",
              "ask_ex                                     2.15                  0.5   \n",
              "bid_ex                                      1.8                  0.0   \n",
              "bid_size_ex                                11.0                  0.0   \n",
              "ask_size_ex                                11.0                 31.0   \n",
              "price_all_lead                             2.83                 0.28   \n",
              "price_all_lag                              2.25                 0.21   \n",
              "optionid                            106126248.0          105166752.0   \n",
              "day_vol                                    10.0                 10.0   \n",
              "price_ex_lead                              3.29                 0.22   \n",
              "price_ex_lag                                2.3                  0.2   \n",
              "buy_sell                                    1.0                 -1.0   \n",
              "pred_quote_rule                             1.0                 -1.0   \n",
              "pred_tick_test                             -1.0                 -1.0   \n",
              "pred_trade_size_quote_rule                  1.0                 -1.0   \n",
              "pred_trade_size_tick_test                  -1.0                 -1.0   \n",
              "pred_rev_tick_test                         -1.0                 -1.0   \n",
              "pred_trade_size_depth_rule                  NaN                  NaN   \n",
              "pred_depth_rule                             NaN                  NaN   \n",
              "\n",
              "                                       34736686             34736687  \\\n",
              "UNDERLYING_SYMBOL                          AMZN                  TLT   \n",
              "QUOTE_DATETIME              2015-01-02 09:30:00  2015-01-02 09:30:00   \n",
              "SEQUENCE_NUMBER                         8588013              7331304   \n",
              "ROOT                                       AMZN                  TLT   \n",
              "EXPIRATION                  2015-02-20 00:00:00  2015-01-02 00:00:00   \n",
              "STRK_PRC                                  390.0                124.0   \n",
              "OPTION_TYPE                                   C                    P   \n",
              "TRADE_SIZE                                    1                   20   \n",
              "TRADE_PRICE                                1.42                 0.01   \n",
              "BEST_BID                                    0.0                  0.0   \n",
              "BEST_ASK                                    0.0                 0.14   \n",
              "order_id                             1624706024           1624706072   \n",
              "ask_ex                                      NaN                 0.14   \n",
              "bid_ex                                      NaN                  0.0   \n",
              "bid_size_ex                                 NaN                  0.0   \n",
              "ask_size_ex                                 NaN                 56.0   \n",
              "price_all_lead                              1.3                 0.03   \n",
              "price_all_lag                              1.35                 0.03   \n",
              "optionid                            106064528.0          105919880.0   \n",
              "day_vol                                     1.0                 20.0   \n",
              "price_ex_lead                              0.37                  NaN   \n",
              "price_ex_lag                               1.35                 0.04   \n",
              "buy_sell                                   -1.0                 -1.0   \n",
              "pred_quote_rule                             NaN                 -1.0   \n",
              "pred_tick_test                              1.0                 -1.0   \n",
              "pred_trade_size_quote_rule                  NaN                 -1.0   \n",
              "pred_trade_size_tick_test                   1.0                 -1.0   \n",
              "pred_rev_tick_test                          1.0                 -1.0   \n",
              "pred_trade_size_depth_rule                  NaN                  NaN   \n",
              "pred_depth_rule                             NaN                  NaN   \n",
              "\n",
              "                                       34736688  \n",
              "UNDERLYING_SYMBOL                           TLT  \n",
              "QUOTE_DATETIME              2015-01-02 09:30:00  \n",
              "SEQUENCE_NUMBER                         7331305  \n",
              "ROOT                                        TLT  \n",
              "EXPIRATION                  2015-01-02 00:00:00  \n",
              "STRK_PRC                                  126.0  \n",
              "OPTION_TYPE                                   P  \n",
              "TRADE_SIZE                                   20  \n",
              "TRADE_PRICE                                0.18  \n",
              "BEST_BID                                   0.05  \n",
              "BEST_ASK                                   0.19  \n",
              "order_id                             1624706073  \n",
              "ask_ex                                     0.19  \n",
              "bid_ex                                     0.05  \n",
              "bid_size_ex                                80.0  \n",
              "ask_size_ex                                21.0  \n",
              "price_all_lead                             0.15  \n",
              "price_all_lag                              0.42  \n",
              "optionid                            105919880.0  \n",
              "day_vol                                    20.0  \n",
              "price_ex_lead                               NaN  \n",
              "price_ex_lag                                0.4  \n",
              "buy_sell                                    1.0  \n",
              "pred_quote_rule                             1.0  \n",
              "pred_tick_test                             -1.0  \n",
              "pred_trade_size_quote_rule                  1.0  \n",
              "pred_trade_size_tick_test                  -1.0  \n",
              "pred_rev_tick_test                         -1.0  \n",
              "pred_trade_size_depth_rule                  NaN  \n",
              "pred_depth_rule                             NaN  "
            ],
            "text/html": [
              "<div>\n",
              "<style scoped>\n",
              "    .dataframe tbody tr th:only-of-type {\n",
              "        vertical-align: middle;\n",
              "    }\n",
              "\n",
              "    .dataframe tbody tr th {\n",
              "        vertical-align: top;\n",
              "    }\n",
              "\n",
              "    .dataframe thead th {\n",
              "        text-align: right;\n",
              "    }\n",
              "</style>\n",
              "<table border=\"1\" class=\"dataframe\">\n",
              "  <thead>\n",
              "    <tr style=\"text-align: right;\">\n",
              "      <th></th>\n",
              "      <th>34736684</th>\n",
              "      <th>34736685</th>\n",
              "      <th>34736686</th>\n",
              "      <th>34736687</th>\n",
              "      <th>34736688</th>\n",
              "    </tr>\n",
              "  </thead>\n",
              "  <tbody>\n",
              "    <tr>\n",
              "      <th>UNDERLYING_SYMBOL</th>\n",
              "      <td>LINE</td>\n",
              "      <td>LINE</td>\n",
              "      <td>AMZN</td>\n",
              "      <td>TLT</td>\n",
              "      <td>TLT</td>\n",
              "    </tr>\n",
              "    <tr>\n",
              "      <th>QUOTE_DATETIME</th>\n",
              "      <td>2015-01-02 09:30:00</td>\n",
              "      <td>2015-01-02 09:30:00</td>\n",
              "      <td>2015-01-02 09:30:00</td>\n",
              "      <td>2015-01-02 09:30:00</td>\n",
              "      <td>2015-01-02 09:30:00</td>\n",
              "    </tr>\n",
              "    <tr>\n",
              "      <th>SEQUENCE_NUMBER</th>\n",
              "      <td>74466</td>\n",
              "      <td>67183330</td>\n",
              "      <td>8588013</td>\n",
              "      <td>7331304</td>\n",
              "      <td>7331305</td>\n",
              "    </tr>\n",
              "    <tr>\n",
              "      <th>ROOT</th>\n",
              "      <td>LINE</td>\n",
              "      <td>LINE</td>\n",
              "      <td>AMZN</td>\n",
              "      <td>TLT</td>\n",
              "      <td>TLT</td>\n",
              "    </tr>\n",
              "    <tr>\n",
              "      <th>EXPIRATION</th>\n",
              "      <td>2015-04-17 00:00:00</td>\n",
              "      <td>2015-04-17 00:00:00</td>\n",
              "      <td>2015-02-20 00:00:00</td>\n",
              "      <td>2015-01-02 00:00:00</td>\n",
              "      <td>2015-01-02 00:00:00</td>\n",
              "    </tr>\n",
              "    <tr>\n",
              "      <th>STRK_PRC</th>\n",
              "      <td>9.0</td>\n",
              "      <td>18.0</td>\n",
              "      <td>390.0</td>\n",
              "      <td>124.0</td>\n",
              "      <td>126.0</td>\n",
              "    </tr>\n",
              "    <tr>\n",
              "      <th>OPTION_TYPE</th>\n",
              "      <td>C</td>\n",
              "      <td>C</td>\n",
              "      <td>C</td>\n",
              "      <td>P</td>\n",
              "      <td>P</td>\n",
              "    </tr>\n",
              "    <tr>\n",
              "      <th>TRADE_SIZE</th>\n",
              "      <td>5</td>\n",
              "      <td>5</td>\n",
              "      <td>1</td>\n",
              "      <td>20</td>\n",
              "      <td>20</td>\n",
              "    </tr>\n",
              "    <tr>\n",
              "      <th>TRADE_PRICE</th>\n",
              "      <td>2.14</td>\n",
              "      <td>0.04</td>\n",
              "      <td>1.42</td>\n",
              "      <td>0.01</td>\n",
              "      <td>0.18</td>\n",
              "    </tr>\n",
              "    <tr>\n",
              "      <th>BEST_BID</th>\n",
              "      <td>1.8</td>\n",
              "      <td>0.0</td>\n",
              "      <td>0.0</td>\n",
              "      <td>0.0</td>\n",
              "      <td>0.05</td>\n",
              "    </tr>\n",
              "    <tr>\n",
              "      <th>BEST_ASK</th>\n",
              "      <td>2.15</td>\n",
              "      <td>0.5</td>\n",
              "      <td>0.0</td>\n",
              "      <td>0.14</td>\n",
              "      <td>0.19</td>\n",
              "    </tr>\n",
              "    <tr>\n",
              "      <th>order_id</th>\n",
              "      <td>1624705991</td>\n",
              "      <td>1624706010</td>\n",
              "      <td>1624706024</td>\n",
              "      <td>1624706072</td>\n",
              "      <td>1624706073</td>\n",
              "    </tr>\n",
              "    <tr>\n",
              "      <th>ask_ex</th>\n",
              "      <td>2.15</td>\n",
              "      <td>0.5</td>\n",
              "      <td>NaN</td>\n",
              "      <td>0.14</td>\n",
              "      <td>0.19</td>\n",
              "    </tr>\n",
              "    <tr>\n",
              "      <th>bid_ex</th>\n",
              "      <td>1.8</td>\n",
              "      <td>0.0</td>\n",
              "      <td>NaN</td>\n",
              "      <td>0.0</td>\n",
              "      <td>0.05</td>\n",
              "    </tr>\n",
              "    <tr>\n",
              "      <th>bid_size_ex</th>\n",
              "      <td>11.0</td>\n",
              "      <td>0.0</td>\n",
              "      <td>NaN</td>\n",
              "      <td>0.0</td>\n",
              "      <td>80.0</td>\n",
              "    </tr>\n",
              "    <tr>\n",
              "      <th>ask_size_ex</th>\n",
              "      <td>11.0</td>\n",
              "      <td>31.0</td>\n",
              "      <td>NaN</td>\n",
              "      <td>56.0</td>\n",
              "      <td>21.0</td>\n",
              "    </tr>\n",
              "    <tr>\n",
              "      <th>price_all_lead</th>\n",
              "      <td>2.83</td>\n",
              "      <td>0.28</td>\n",
              "      <td>1.3</td>\n",
              "      <td>0.03</td>\n",
              "      <td>0.15</td>\n",
              "    </tr>\n",
              "    <tr>\n",
              "      <th>price_all_lag</th>\n",
              "      <td>2.25</td>\n",
              "      <td>0.21</td>\n",
              "      <td>1.35</td>\n",
              "      <td>0.03</td>\n",
              "      <td>0.42</td>\n",
              "    </tr>\n",
              "    <tr>\n",
              "      <th>optionid</th>\n",
              "      <td>106126248.0</td>\n",
              "      <td>105166752.0</td>\n",
              "      <td>106064528.0</td>\n",
              "      <td>105919880.0</td>\n",
              "      <td>105919880.0</td>\n",
              "    </tr>\n",
              "    <tr>\n",
              "      <th>day_vol</th>\n",
              "      <td>10.0</td>\n",
              "      <td>10.0</td>\n",
              "      <td>1.0</td>\n",
              "      <td>20.0</td>\n",
              "      <td>20.0</td>\n",
              "    </tr>\n",
              "    <tr>\n",
              "      <th>price_ex_lead</th>\n",
              "      <td>3.29</td>\n",
              "      <td>0.22</td>\n",
              "      <td>0.37</td>\n",
              "      <td>NaN</td>\n",
              "      <td>NaN</td>\n",
              "    </tr>\n",
              "    <tr>\n",
              "      <th>price_ex_lag</th>\n",
              "      <td>2.3</td>\n",
              "      <td>0.2</td>\n",
              "      <td>1.35</td>\n",
              "      <td>0.04</td>\n",
              "      <td>0.4</td>\n",
              "    </tr>\n",
              "    <tr>\n",
              "      <th>buy_sell</th>\n",
              "      <td>1.0</td>\n",
              "      <td>-1.0</td>\n",
              "      <td>-1.0</td>\n",
              "      <td>-1.0</td>\n",
              "      <td>1.0</td>\n",
              "    </tr>\n",
              "    <tr>\n",
              "      <th>pred_quote_rule</th>\n",
              "      <td>1.0</td>\n",
              "      <td>-1.0</td>\n",
              "      <td>NaN</td>\n",
              "      <td>-1.0</td>\n",
              "      <td>1.0</td>\n",
              "    </tr>\n",
              "    <tr>\n",
              "      <th>pred_tick_test</th>\n",
              "      <td>-1.0</td>\n",
              "      <td>-1.0</td>\n",
              "      <td>1.0</td>\n",
              "      <td>-1.0</td>\n",
              "      <td>-1.0</td>\n",
              "    </tr>\n",
              "    <tr>\n",
              "      <th>pred_trade_size_quote_rule</th>\n",
              "      <td>1.0</td>\n",
              "      <td>-1.0</td>\n",
              "      <td>NaN</td>\n",
              "      <td>-1.0</td>\n",
              "      <td>1.0</td>\n",
              "    </tr>\n",
              "    <tr>\n",
              "      <th>pred_trade_size_tick_test</th>\n",
              "      <td>-1.0</td>\n",
              "      <td>-1.0</td>\n",
              "      <td>1.0</td>\n",
              "      <td>-1.0</td>\n",
              "      <td>-1.0</td>\n",
              "    </tr>\n",
              "    <tr>\n",
              "      <th>pred_rev_tick_test</th>\n",
              "      <td>-1.0</td>\n",
              "      <td>-1.0</td>\n",
              "      <td>1.0</td>\n",
              "      <td>-1.0</td>\n",
              "      <td>-1.0</td>\n",
              "    </tr>\n",
              "    <tr>\n",
              "      <th>pred_trade_size_depth_rule</th>\n",
              "      <td>NaN</td>\n",
              "      <td>NaN</td>\n",
              "      <td>NaN</td>\n",
              "      <td>NaN</td>\n",
              "      <td>NaN</td>\n",
              "    </tr>\n",
              "    <tr>\n",
              "      <th>pred_depth_rule</th>\n",
              "      <td>NaN</td>\n",
              "      <td>NaN</td>\n",
              "      <td>NaN</td>\n",
              "      <td>NaN</td>\n",
              "      <td>NaN</td>\n",
              "    </tr>\n",
              "  </tbody>\n",
              "</table>\n",
              "</div>"
            ]
          },
          "metadata": {},
          "execution_count": 33
        }
      ]
    },
    {
      "cell_type": "code",
      "source": [
        "# Discuss with C. Grauer how results were calculated in table 9. Assign randomly (table 3) (?)\n",
        "pred_quote_rule_random = df['pred_quote_rule'].applymap(lambda l: l if not np.isnan(l) else np.random.choice([-1, 1]))\n",
        "\n",
        "acc = accuracy_score(df['buy_sell'], pred_quote_rule_random)\n",
        "print(f\"{acc:.3%}\")"
      ],
      "metadata": {
        "colab": {
          "base_uri": "https://localhost:8080/"
        },
        "id": "MLUaR_bAG_ox",
        "outputId": "b7648d47-05f9-436d-d865-d9552cbdcf75"
      },
      "execution_count": null,
      "outputs": [
        {
          "output_type": "stream",
          "name": "stdout",
          "text": [
            "56.073%\n"
          ]
        }
      ]
    },
    {
      "cell_type": "code",
      "source": [
        "# Discuss with C. Grauer how results were calculated in table 9. Assign randomly (table 3) (?)\n",
        "pred_trade_size_quote_rule_random = df['pred_trade_size_quote_rule'].applymap(lambda l: l if not np.isnan(l) else np.random.choice([-1, 1]))\n",
        "\n",
        "acc = accuracy_score(df['buy_sell'], pred_trade_size_quote_rule_random)\n",
        "print(f\"{acc:.3%}\")"
      ],
      "metadata": {
        "colab": {
          "base_uri": "https://localhost:8080/"
        },
        "id": "l82-BShY0Rou",
        "outputId": "7f304c6a-0300-470b-9558-9b1a320fbe3b"
      },
      "execution_count": null,
      "outputs": [
        {
          "output_type": "stream",
          "name": "stdout",
          "text": [
            "65.387%\n"
          ]
        }
      ]
    },
    {
      "cell_type": "code",
      "source": [
        "# Discuss with C. Grauer how results were calculated in table 9. Assign randomly (table 3) (?)\n",
        "pred_depth_rule_random = df['pred_depth_rule'].map(lambda l: l if not np.isnan(l) else np.random.choice([-1, 1]))\n",
        "\n",
        "acc = accuracy_score(df['buy_sell'], pred_depth_rule_random)\n",
        "print(f\"{acc:.3%}\")"
      ],
      "metadata": {
        "id": "_XGO8jIUXzrQ",
        "outputId": "33749476-e124-46e9-dd9f-4f5bb71ed6b4",
        "colab": {
          "base_uri": "https://localhost:8080/"
        }
      },
      "execution_count": null,
      "outputs": [
        {
          "output_type": "stream",
          "name": "stdout",
          "text": [
            "51.728%\n"
          ]
        }
      ]
    },
    {
      "cell_type": "code",
      "source": [
        "# Discuss with C. Grauer how results were calculated in table 9. Assign randomly (table 3) (?)\n",
        "pred_trade_size_depth_rule_random = df['pred_trade_size_depth_rule'].map(lambda l: l if not np.isnan(l) else np.random.choice([-1, 1]))\n",
        "\n",
        "acc = accuracy_score(df['buy_sell'], pred_trade_size_depth_rule_random)\n",
        "print(f\"{acc:.3%}\")"
      ],
      "metadata": {
        "id": "_mnfkK6vXb_s",
        "outputId": "f82b32cc-9d6e-47fe-ef59-c4ac68feac9a",
        "colab": {
          "base_uri": "https://localhost:8080/"
        }
      },
      "execution_count": null,
      "outputs": [
        {
          "output_type": "stream",
          "name": "stdout",
          "text": [
            "56.629%\n"
          ]
        }
      ]
    },
    {
      "cell_type": "code",
      "source": [
        "acc = accuracy_score(df['buy_sell'], df['pred_trade_size_tick_test'])\n",
        "print(f\"{acc:.3%}\")"
      ],
      "metadata": {
        "colab": {
          "base_uri": "https://localhost:8080/"
        },
        "id": "M4DQhLAH0l27",
        "outputId": "e45e2709-877a-4443-ce2f-08b1b15c2189"
      },
      "execution_count": null,
      "outputs": [
        {
          "output_type": "stream",
          "name": "stdout",
          "text": [
            "54.617%\n"
          ]
        }
      ]
    },
    {
      "cell_type": "code",
      "source": [
        "acc = accuracy_score(df['buy_sell'], df['pred_tick_test'])\n",
        "print(f\"{acc:.3%}\")"
      ],
      "metadata": {
        "colab": {
          "base_uri": "https://localhost:8080/"
        },
        "id": "YNkA2orOrdac",
        "outputId": "5c625a54-9447-4336-f12e-ade3509686f1"
      },
      "execution_count": null,
      "outputs": [
        {
          "output_type": "stream",
          "name": "stdout",
          "text": [
            "49.181%\n"
          ]
        }
      ]
    },
    {
      "cell_type": "code",
      "source": [
        "acc = accuracy_score(df['buy_sell'], df['pred_rev_tick_test'])\n",
        "print(f\"{acc:.3%}\")"
      ],
      "metadata": {
        "id": "mRGOt63GFsmS",
        "outputId": "acfece1d-7519-4f16-9636-112af66ef8c8",
        "colab": {
          "base_uri": "https://localhost:8080/"
        }
      },
      "execution_count": null,
      "outputs": [
        {
          "output_type": "stream",
          "name": "stdout",
          "text": [
            "53.864%\n"
          ]
        }
      ]
    }
  ],
  "metadata": {
    "colab": {
      "name": "Untitled2.ipynb",
      "provenance": [],
      "machine_shape": "hm",
      "include_colab_link": true
    },
    "kernelspec": {
      "display_name": "Python 3",
      "name": "python3"
    },
    "language_info": {
      "name": "python"
    },
    "gpuClass": "premium",
    "accelerator": "GPU",
    "widgets": {
      "application/vnd.jupyter.widget-state+json": {
        "2dfd116630fb48e5b94411c8357ca1d3": {
          "model_module": "catboost-widget",
          "model_name": "CatboostWidgetModel",
          "model_module_version": "^1.0.0",
          "state": {
            "_dom_classes": [],
            "_model_module": "catboost-widget",
            "_model_module_version": "^1.0.0",
            "_model_name": "CatboostWidgetModel",
            "_view_count": null,
            "_view_module": "catboost-widget",
            "_view_module_version": "^1.0.0",
            "_view_name": "CatboostWidgetView",
            "data": {
              "catboost_info": {
                "path": "catboost_info",
                "name": "catboost_info",
                "content": {
                  "passed_iterations": 49,
                  "total_iterations": 1000,
                  "data": {
                    "iterations": [
                      {
                        "learn": [
                          0.6666512596
                        ],
                        "iteration": 0,
                        "passed_time": 0.1871099641,
                        "remaining_time": 186.9228541,
                        "test": [
                          0.6783559372
                        ]
                      },
                      {
                        "learn": [
                          0.6428894028
                        ],
                        "iteration": 1,
                        "passed_time": 0.364035093,
                        "remaining_time": 181.6535114,
                        "test": [
                          0.6656917909
                        ]
                      },
                      {
                        "learn": [
                          0.6206739879
                        ],
                        "iteration": 2,
                        "passed_time": 0.5407767153,
                        "remaining_time": 179.7181284,
                        "test": [
                          0.6543588791
                        ]
                      },
                      {
                        "learn": [
                          0.6009349272
                        ],
                        "iteration": 3,
                        "passed_time": 0.7067324795,
                        "remaining_time": 175.9763874,
                        "test": [
                          0.6431748203
                        ]
                      },
                      {
                        "learn": [
                          0.5825496979
                        ],
                        "iteration": 4,
                        "passed_time": 0.8844661076,
                        "remaining_time": 176.0087554,
                        "test": [
                          0.6332731751
                        ]
                      },
                      {
                        "learn": [
                          0.5657725501
                        ],
                        "iteration": 5,
                        "passed_time": 1.052641987,
                        "remaining_time": 174.3876892,
                        "test": [
                          0.6243247584
                        ]
                      },
                      {
                        "learn": [
                          0.5505751547
                        ],
                        "iteration": 6,
                        "passed_time": 1.223459998,
                        "remaining_time": 173.5565398,
                        "test": [
                          0.616540924
                        ]
                      },
                      {
                        "learn": [
                          0.536477883
                        ],
                        "iteration": 7,
                        "passed_time": 1.400577987,
                        "remaining_time": 173.6716703,
                        "test": [
                          0.6096725835
                        ]
                      },
                      {
                        "learn": [
                          0.523088262
                        ],
                        "iteration": 8,
                        "passed_time": 1.577509566,
                        "remaining_time": 173.7013311,
                        "test": [
                          0.6034370842
                        ]
                      },
                      {
                        "learn": [
                          0.5110648072
                        ],
                        "iteration": 9,
                        "passed_time": 1.748688088,
                        "remaining_time": 173.1201207,
                        "test": [
                          0.5980298623
                        ]
                      },
                      {
                        "learn": [
                          0.4997806869
                        ],
                        "iteration": 10,
                        "passed_time": 1.922430102,
                        "remaining_time": 172.8439428,
                        "test": [
                          0.5935538995
                        ]
                      },
                      {
                        "learn": [
                          0.4894373223
                        ],
                        "iteration": 11,
                        "passed_time": 2.0887682,
                        "remaining_time": 171.9752485,
                        "test": [
                          0.5893323139
                        ]
                      },
                      {
                        "learn": [
                          0.4797294641
                        ],
                        "iteration": 12,
                        "passed_time": 2.260445318,
                        "remaining_time": 171.6199638,
                        "test": [
                          0.5858372447
                        ]
                      },
                      {
                        "learn": [
                          0.4709760518
                        ],
                        "iteration": 13,
                        "passed_time": 2.434748885,
                        "remaining_time": 171.4758857,
                        "test": [
                          0.5825729051
                        ]
                      },
                      {
                        "learn": [
                          0.4627147723
                        ],
                        "iteration": 14,
                        "passed_time": 2.601483394,
                        "remaining_time": 170.8307429,
                        "test": [
                          0.5794697255
                        ]
                      },
                      {
                        "learn": [
                          0.4552038406
                        ],
                        "iteration": 15,
                        "passed_time": 2.774249139,
                        "remaining_time": 170.6163221,
                        "test": [
                          0.5768694013
                        ]
                      },
                      {
                        "learn": [
                          0.4481119825
                        ],
                        "iteration": 16,
                        "passed_time": 2.953054782,
                        "remaining_time": 170.7560501,
                        "test": [
                          0.5746525247
                        ]
                      },
                      {
                        "learn": [
                          0.4413906389
                        ],
                        "iteration": 17,
                        "passed_time": 3.127819187,
                        "remaining_time": 170.6399134,
                        "test": [
                          0.5727655962
                        ]
                      },
                      {
                        "learn": [
                          0.4352231016
                        ],
                        "iteration": 18,
                        "passed_time": 3.299149892,
                        "remaining_time": 170.3403181,
                        "test": [
                          0.5711799843
                        ]
                      },
                      {
                        "learn": [
                          0.4295583714
                        ],
                        "iteration": 19,
                        "passed_time": 3.472045276,
                        "remaining_time": 170.1302185,
                        "test": [
                          0.5697315287
                        ]
                      },
                      {
                        "learn": [
                          0.4242033973
                        ],
                        "iteration": 20,
                        "passed_time": 3.647583883,
                        "remaining_time": 170.0468867,
                        "test": [
                          0.5687728587
                        ]
                      },
                      {
                        "learn": [
                          0.4192693607
                        ],
                        "iteration": 21,
                        "passed_time": 3.820272266,
                        "remaining_time": 169.8284671,
                        "test": [
                          0.567885386
                        ]
                      },
                      {
                        "learn": [
                          0.4147311517
                        ],
                        "iteration": 22,
                        "passed_time": 3.996679823,
                        "remaining_time": 169.7720081,
                        "test": [
                          0.5672172514
                        ]
                      },
                      {
                        "learn": [
                          0.4103768783
                        ],
                        "iteration": 23,
                        "passed_time": 4.16531214,
                        "remaining_time": 169.3893604,
                        "test": [
                          0.5666299764
                        ]
                      },
                      {
                        "learn": [
                          0.406213894
                        ],
                        "iteration": 24,
                        "passed_time": 4.335878956,
                        "remaining_time": 169.0992793,
                        "test": [
                          0.5661515822
                        ]
                      },
                      {
                        "learn": [
                          0.4025249811
                        ],
                        "iteration": 25,
                        "passed_time": 4.510808706,
                        "remaining_time": 168.9818338,
                        "test": [
                          0.5656861561
                        ]
                      },
                      {
                        "learn": [
                          0.3984796166
                        ],
                        "iteration": 26,
                        "passed_time": 4.685517138,
                        "remaining_time": 168.8521547,
                        "test": [
                          0.5652420384
                        ]
                      },
                      {
                        "learn": [
                          0.3953343441
                        ],
                        "iteration": 27,
                        "passed_time": 4.864219982,
                        "remaining_time": 168.8579222,
                        "test": [
                          0.5650200049
                        ]
                      },
                      {
                        "learn": [
                          0.392020317
                        ],
                        "iteration": 28,
                        "passed_time": 5.035511187,
                        "remaining_time": 168.6028056,
                        "test": [
                          0.5647889192
                        ]
                      },
                      {
                        "learn": [
                          0.388955152
                        ],
                        "iteration": 29,
                        "passed_time": 5.207122213,
                        "remaining_time": 168.3636182,
                        "test": [
                          0.5645774636
                        ]
                      },
                      {
                        "learn": [
                          0.3859323789
                        ],
                        "iteration": 30,
                        "passed_time": 5.385617446,
                        "remaining_time": 168.3439776,
                        "test": [
                          0.5646183511
                        ]
                      },
                      {
                        "learn": [
                          0.3832834412
                        ],
                        "iteration": 31,
                        "passed_time": 5.559979665,
                        "remaining_time": 168.1893849,
                        "test": [
                          0.5647032283
                        ]
                      },
                      {
                        "learn": [
                          0.3807115274
                        ],
                        "iteration": 32,
                        "passed_time": 5.730090998,
                        "remaining_time": 167.9090302,
                        "test": [
                          0.564798124
                        ]
                      },
                      {
                        "learn": [
                          0.378506231
                        ],
                        "iteration": 33,
                        "passed_time": 5.905326121,
                        "remaining_time": 167.7807363,
                        "test": [
                          0.5649568937
                        ]
                      },
                      {
                        "learn": [
                          0.376213711
                        ],
                        "iteration": 34,
                        "passed_time": 6.07961535,
                        "remaining_time": 167.6236804,
                        "test": [
                          0.5652971144
                        ]
                      },
                      {
                        "learn": [
                          0.3740708335
                        ],
                        "iteration": 35,
                        "passed_time": 6.257312311,
                        "remaining_time": 167.5569186,
                        "test": [
                          0.5654832442
                        ]
                      },
                      {
                        "learn": [
                          0.3718506949
                        ],
                        "iteration": 36,
                        "passed_time": 6.425351131,
                        "remaining_time": 167.2327875,
                        "test": [
                          0.5656312835
                        ]
                      },
                      {
                        "learn": [
                          0.3699903627
                        ],
                        "iteration": 37,
                        "passed_time": 6.605005764,
                        "remaining_time": 167.2109354,
                        "test": [
                          0.5658641999
                        ]
                      },
                      {
                        "learn": [
                          0.3681139005
                        ],
                        "iteration": 38,
                        "passed_time": 6.778241479,
                        "remaining_time": 167.0228221,
                        "test": [
                          0.5662874671
                        ]
                      },
                      {
                        "learn": [
                          0.3663863692
                        ],
                        "iteration": 39,
                        "passed_time": 6.956902891,
                        "remaining_time": 166.9656694,
                        "test": [
                          0.5664315397
                        ]
                      },
                      {
                        "learn": [
                          0.3646173949
                        ],
                        "iteration": 40,
                        "passed_time": 7.127631454,
                        "remaining_time": 166.7170382,
                        "test": [
                          0.5667614369
                        ]
                      },
                      {
                        "learn": [
                          0.3629822381
                        ],
                        "iteration": 41,
                        "passed_time": 7.300934492,
                        "remaining_time": 166.5308391,
                        "test": [
                          0.5671704646
                        ]
                      },
                      {
                        "learn": [
                          0.361438202
                        ],
                        "iteration": 42,
                        "passed_time": 7.475993969,
                        "remaining_time": 166.3843309,
                        "test": [
                          0.5674449297
                        ]
                      },
                      {
                        "learn": [
                          0.3599566525
                        ],
                        "iteration": 43,
                        "passed_time": 7.654479303,
                        "remaining_time": 166.3109594,
                        "test": [
                          0.5675159744
                        ]
                      },
                      {
                        "learn": [
                          0.3584472483
                        ],
                        "iteration": 44,
                        "passed_time": 7.827631442,
                        "remaining_time": 166.1197339,
                        "test": [
                          0.5681275581
                        ]
                      },
                      {
                        "learn": [
                          0.3570646811
                        ],
                        "iteration": 45,
                        "passed_time": 8.002347992,
                        "remaining_time": 165.9617388,
                        "test": [
                          0.5686376858
                        ]
                      },
                      {
                        "learn": [
                          0.3557811979
                        ],
                        "iteration": 46,
                        "passed_time": 8.185975493,
                        "remaining_time": 165.9837159,
                        "test": [
                          0.5689112355
                        ]
                      },
                      {
                        "learn": [
                          0.3545712822
                        ],
                        "iteration": 47,
                        "passed_time": 8.361922864,
                        "remaining_time": 165.8448035,
                        "test": [
                          0.5691527465
                        ]
                      },
                      {
                        "learn": [
                          0.3533776997
                        ],
                        "iteration": 48,
                        "passed_time": 8.537244557,
                        "remaining_time": 165.6922362,
                        "test": [
                          0.5691763433
                        ]
                      },
                      {
                        "learn": [
                          0.3521447073
                        ],
                        "iteration": 49,
                        "passed_time": 8.714880767,
                        "remaining_time": 165.5827346,
                        "test": [
                          0.5695646222
                        ]
                      }
                    ],
                    "meta": {
                      "test_sets": [
                        "test"
                      ],
                      "test_metrics": [
                        {
                          "best_value": "Min",
                          "name": "Logloss"
                        }
                      ],
                      "learn_metrics": [
                        {
                          "best_value": "Min",
                          "name": "Logloss"
                        }
                      ],
                      "launch_mode": "Train",
                      "parameters": "",
                      "iteration_count": 1000,
                      "learn_sets": [
                        "learn"
                      ],
                      "name": "experiment"
                    }
                  }
                }
              }
            },
            "layout": "IPY_MODEL_b7870ccd248246e9821af6af5343c44a",
            "tabbable": null,
            "tooltip": null
          }
        },
        "70e4f97051a7440eb04c95ae36cbfee0": {
          "model_module": "catboost-widget",
          "model_name": "CatboostWidgetModel",
          "model_module_version": "^1.0.0",
          "state": {
            "_dom_classes": [],
            "_model_module": "catboost-widget",
            "_model_module_version": "^1.0.0",
            "_model_name": "CatboostWidgetModel",
            "_view_count": null,
            "_view_module": "catboost-widget",
            "_view_module_version": "^1.0.0",
            "_view_name": "CatboostWidgetView",
            "data": {
              "catboost_info": {
                "path": "catboost_info",
                "name": "catboost_info",
                "content": {
                  "passed_iterations": 936,
                  "total_iterations": 937,
                  "data": {
                    "iterations": [
                      {
                        "learn": [
                          0.4966130154
                        ],
                        "iteration": 0,
                        "passed_time": 0.08952992462,
                        "remaining_time": 83.80000945
                      },
                      {
                        "learn": [
                          0.4224514339
                        ],
                        "iteration": 1,
                        "passed_time": 0.1737534285,
                        "remaining_time": 81.22972783
                      },
                      {
                        "learn": [
                          0.387774548
                        ],
                        "iteration": 2,
                        "passed_time": 0.2537334278,
                        "remaining_time": 78.99567386
                      },
                      {
                        "learn": [
                          0.3699957168
                        ],
                        "iteration": 3,
                        "passed_time": 0.3300554065,
                        "remaining_time": 76.98542356
                      },
                      {
                        "learn": [
                          0.3566224629
                        ],
                        "iteration": 4,
                        "passed_time": 0.4077550394,
                        "remaining_time": 76.00553935
                      },
                      {
                        "learn": [
                          0.3504280875
                        ],
                        "iteration": 5,
                        "passed_time": 0.4910659832,
                        "remaining_time": 76.19707172
                      },
                      {
                        "learn": [
                          0.3445236107
                        ],
                        "iteration": 6,
                        "passed_time": 0.5693432019,
                        "remaining_time": 75.64131112
                      },
                      {
                        "learn": [
                          0.3409589256
                        ],
                        "iteration": 7,
                        "passed_time": 0.6501130852,
                        "remaining_time": 75.49438202
                      },
                      {
                        "learn": [
                          0.3367507367
                        ],
                        "iteration": 8,
                        "passed_time": 0.735909009,
                        "remaining_time": 75.88039559
                      },
                      {
                        "learn": [
                          0.3344670949
                        ],
                        "iteration": 9,
                        "passed_time": 0.8092702145,
                        "remaining_time": 75.01934889
                      },
                      {
                        "learn": [
                          0.3316220224
                        ],
                        "iteration": 10,
                        "passed_time": 0.8857601144,
                        "remaining_time": 74.56489691
                      },
                      {
                        "learn": [
                          0.329428078
                        ],
                        "iteration": 11,
                        "passed_time": 0.9629128776,
                        "remaining_time": 74.22453432
                      },
                      {
                        "learn": [
                          0.3279960705
                        ],
                        "iteration": 12,
                        "passed_time": 1.039379965,
                        "remaining_time": 73.87592982
                      },
                      {
                        "learn": [
                          0.3263189623
                        ],
                        "iteration": 13,
                        "passed_time": 1.109201662,
                        "remaining_time": 73.12808098
                      },
                      {
                        "learn": [
                          0.3252264293
                        ],
                        "iteration": 14,
                        "passed_time": 1.189371171,
                        "remaining_time": 73.10668132
                      },
                      {
                        "learn": [
                          0.3242704586
                        ],
                        "iteration": 15,
                        "passed_time": 1.265486122,
                        "remaining_time": 72.84454487
                      },
                      {
                        "learn": [
                          0.3223841016
                        ],
                        "iteration": 16,
                        "passed_time": 1.340096852,
                        "remaining_time": 72.52288844
                      },
                      {
                        "learn": [
                          0.320935083
                        ],
                        "iteration": 17,
                        "passed_time": 1.414398263,
                        "remaining_time": 72.21288912
                      },
                      {
                        "learn": [
                          0.3198742677
                        ],
                        "iteration": 18,
                        "passed_time": 1.486205851,
                        "remaining_time": 71.807209
                      },
                      {
                        "learn": [
                          0.3187655369
                        ],
                        "iteration": 19,
                        "passed_time": 1.560054976,
                        "remaining_time": 71.52852064
                      },
                      {
                        "learn": [
                          0.3172114365
                        ],
                        "iteration": 20,
                        "passed_time": 1.634359098,
                        "remaining_time": 71.2891873
                      },
                      {
                        "learn": [
                          0.3163496024
                        ],
                        "iteration": 21,
                        "passed_time": 1.709099866,
                        "remaining_time": 71.08301713
                      },
                      {
                        "learn": [
                          0.3156853264
                        ],
                        "iteration": 22,
                        "passed_time": 1.779471936,
                        "remaining_time": 70.71466739
                      },
                      {
                        "learn": [
                          0.3148409777
                        ],
                        "iteration": 23,
                        "passed_time": 1.852323064,
                        "remaining_time": 70.46545655
                      },
                      {
                        "learn": [
                          0.3138279083
                        ],
                        "iteration": 24,
                        "passed_time": 1.939567761,
                        "remaining_time": 70.75543192
                      },
                      {
                        "learn": [
                          0.31300972
                        ],
                        "iteration": 25,
                        "passed_time": 2.012582676,
                        "remaining_time": 70.51780069
                      },
                      {
                        "learn": [
                          0.3126242955
                        ],
                        "iteration": 26,
                        "passed_time": 2.091630983,
                        "remaining_time": 70.4957109
                      },
                      {
                        "learn": [
                          0.3119410769
                        ],
                        "iteration": 27,
                        "passed_time": 2.168650102,
                        "remaining_time": 70.40367654
                      },
                      {
                        "learn": [
                          0.3115756793
                        ],
                        "iteration": 28,
                        "passed_time": 2.239031162,
                        "remaining_time": 70.10483777
                      },
                      {
                        "learn": [
                          0.310750307
                        ],
                        "iteration": 29,
                        "passed_time": 2.312513394,
                        "remaining_time": 69.91498828
                      },
                      {
                        "learn": [
                          0.310122425
                        ],
                        "iteration": 30,
                        "passed_time": 2.386732302,
                        "remaining_time": 69.75417631
                      },
                      {
                        "learn": [
                          0.3094473391
                        ],
                        "iteration": 31,
                        "passed_time": 2.469043798,
                        "remaining_time": 69.82764492
                      },
                      {
                        "learn": [
                          0.309222367
                        ],
                        "iteration": 32,
                        "passed_time": 2.550302344,
                        "remaining_time": 69.86282784
                      },
                      {
                        "learn": [
                          0.308747855
                        ],
                        "iteration": 33,
                        "passed_time": 2.626804663,
                        "remaining_time": 69.7648415
                      },
                      {
                        "learn": [
                          0.3082731397
                        ],
                        "iteration": 34,
                        "passed_time": 2.70087543,
                        "remaining_time": 69.60541822
                      },
                      {
                        "learn": [
                          0.3077437656
                        ],
                        "iteration": 35,
                        "passed_time": 2.778946383,
                        "remaining_time": 69.55085254
                      },
                      {
                        "learn": [
                          0.3073985643
                        ],
                        "iteration": 36,
                        "passed_time": 2.852223958,
                        "remaining_time": 69.37842059
                      },
                      {
                        "learn": [
                          0.3069634623
                        ],
                        "iteration": 37,
                        "passed_time": 2.927824424,
                        "remaining_time": 69.26616202
                      },
                      {
                        "learn": [
                          0.3065448629
                        ],
                        "iteration": 38,
                        "passed_time": 3.004411274,
                        "remaining_time": 69.17849548
                      },
                      {
                        "learn": [
                          0.3061432746
                        ],
                        "iteration": 39,
                        "passed_time": 3.082948527,
                        "remaining_time": 69.13512071
                      },
                      {
                        "learn": [
                          0.3058223361
                        ],
                        "iteration": 40,
                        "passed_time": 3.151011833,
                        "remaining_time": 68.86113665
                      },
                      {
                        "learn": [
                          0.3053023146
                        ],
                        "iteration": 41,
                        "passed_time": 3.222601973,
                        "remaining_time": 68.67211348
                      },
                      {
                        "learn": [
                          0.3049800205
                        ],
                        "iteration": 42,
                        "passed_time": 3.300989514,
                        "remaining_time": 68.62987501
                      },
                      {
                        "learn": [
                          0.304463015
                        ],
                        "iteration": 43,
                        "passed_time": 3.373101466,
                        "remaining_time": 68.45862748
                      },
                      {
                        "learn": [
                          0.3040823007
                        ],
                        "iteration": 44,
                        "passed_time": 3.437179803,
                        "remaining_time": 68.13254187
                      },
                      {
                        "learn": [
                          0.3038133101
                        ],
                        "iteration": 45,
                        "passed_time": 3.511500036,
                        "remaining_time": 68.01622896
                      },
                      {
                        "learn": [
                          0.3036290694
                        ],
                        "iteration": 46,
                        "passed_time": 3.587994928,
                        "remaining_time": 67.94288268
                      },
                      {
                        "learn": [
                          0.3032641462
                        ],
                        "iteration": 47,
                        "passed_time": 3.656835083,
                        "remaining_time": 67.7276331
                      },
                      {
                        "learn": [
                          0.3028941062
                        ],
                        "iteration": 48,
                        "passed_time": 3.734222121,
                        "remaining_time": 67.67324986
                      },
                      {
                        "learn": [
                          0.3025163062
                        ],
                        "iteration": 49,
                        "passed_time": 3.804308473,
                        "remaining_time": 67.48843231
                      },
                      {
                        "learn": [
                          0.3020877103
                        ],
                        "iteration": 50,
                        "passed_time": 3.877363718,
                        "remaining_time": 67.35969125
                      },
                      {
                        "learn": [
                          0.3018504713
                        ],
                        "iteration": 51,
                        "passed_time": 3.940883508,
                        "remaining_time": 67.07080585
                      },
                      {
                        "learn": [
                          0.3014925965
                        ],
                        "iteration": 52,
                        "passed_time": 4.018199691,
                        "remaining_time": 67.02053825
                      },
                      {
                        "learn": [
                          0.3012401763
                        ],
                        "iteration": 53,
                        "passed_time": 4.098036092,
                        "remaining_time": 67.01047906
                      },
                      {
                        "learn": [
                          0.3009500066
                        ],
                        "iteration": 54,
                        "passed_time": 4.180894979,
                        "remaining_time": 67.0463522
                      },
                      {
                        "learn": [
                          0.3006385902
                        ],
                        "iteration": 55,
                        "passed_time": 4.258680251,
                        "remaining_time": 66.99816609
                      },
                      {
                        "learn": [
                          0.3003265637
                        ],
                        "iteration": 56,
                        "passed_time": 4.339942442,
                        "remaining_time": 67.00262015
                      },
                      {
                        "learn": [
                          0.3001032859
                        ],
                        "iteration": 57,
                        "passed_time": 4.41511394,
                        "remaining_time": 66.91181299
                      },
                      {
                        "learn": [
                          0.2998279246
                        ],
                        "iteration": 58,
                        "passed_time": 4.484623025,
                        "remaining_time": 66.73727146
                      },
                      {
                        "learn": [
                          0.299663982
                        ],
                        "iteration": 59,
                        "passed_time": 4.554844655,
                        "remaining_time": 66.57664604
                      },
                      {
                        "learn": [
                          0.2994089864
                        ],
                        "iteration": 60,
                        "passed_time": 4.633389741,
                        "remaining_time": 66.53851497
                      },
                      {
                        "learn": [
                          0.2991869963
                        ],
                        "iteration": 61,
                        "passed_time": 4.709674326,
                        "remaining_time": 66.46717799
                      },
                      {
                        "learn": [
                          0.2990606337
                        ],
                        "iteration": 62,
                        "passed_time": 4.77362619,
                        "remaining_time": 66.22459191
                      },
                      {
                        "learn": [
                          0.298971919
                        ],
                        "iteration": 63,
                        "passed_time": 4.847640194,
                        "remaining_time": 66.12484203
                      },
                      {
                        "learn": [
                          0.2985116054
                        ],
                        "iteration": 64,
                        "passed_time": 4.910298475,
                        "remaining_time": 65.87354262
                      },
                      {
                        "learn": [
                          0.2983259077
                        ],
                        "iteration": 65,
                        "passed_time": 4.977112851,
                        "remaining_time": 65.68280748
                      },
                      {
                        "learn": [
                          0.2982089994
                        ],
                        "iteration": 66,
                        "passed_time": 5.042066158,
                        "remaining_time": 65.47160533
                      },
                      {
                        "learn": [
                          0.2978647131
                        ],
                        "iteration": 67,
                        "passed_time": 5.111269746,
                        "remaining_time": 65.31902073
                      },
                      {
                        "learn": [
                          0.2976028047
                        ],
                        "iteration": 68,
                        "passed_time": 5.176564304,
                        "remaining_time": 65.1196785
                      },
                      {
                        "learn": [
                          0.2974601766
                        ],
                        "iteration": 69,
                        "passed_time": 5.244423036,
                        "remaining_time": 64.95592532
                      },
                      {
                        "learn": [
                          0.2970944741
                        ],
                        "iteration": 70,
                        "passed_time": 5.313289874,
                        "remaining_time": 64.80716945
                      },
                      {
                        "learn": [
                          0.2969457464
                        ],
                        "iteration": 71,
                        "passed_time": 5.38075438,
                        "remaining_time": 64.64378526
                      },
                      {
                        "learn": [
                          0.2967875984
                        ],
                        "iteration": 72,
                        "passed_time": 5.466351432,
                        "remaining_time": 64.69763887
                      },
                      {
                        "learn": [
                          0.296536737
                        ],
                        "iteration": 73,
                        "passed_time": 5.547938477,
                        "remaining_time": 64.70095818
                      },
                      {
                        "learn": [
                          0.2961914002
                        ],
                        "iteration": 74,
                        "passed_time": 5.620979279,
                        "remaining_time": 64.60378851
                      },
                      {
                        "learn": [
                          0.2960324388
                        ],
                        "iteration": 75,
                        "passed_time": 5.689983592,
                        "remaining_time": 64.46152464
                      },
                      {
                        "learn": [
                          0.2957106192
                        ],
                        "iteration": 76,
                        "passed_time": 5.76550647,
                        "remaining_time": 64.39396837
                      },
                      {
                        "learn": [
                          0.2954587751
                        ],
                        "iteration": 77,
                        "passed_time": 5.836945393,
                        "remaining_time": 64.28123196
                      },
                      {
                        "learn": [
                          0.2951982561
                        ],
                        "iteration": 78,
                        "passed_time": 5.912744214,
                        "remaining_time": 64.21689285
                      },
                      {
                        "learn": [
                          0.2950691487
                        ],
                        "iteration": 79,
                        "passed_time": 5.99434174,
                        "remaining_time": 64.21438589
                      },
                      {
                        "learn": [
                          0.2948175079
                        ],
                        "iteration": 80,
                        "passed_time": 6.070545357,
                        "remaining_time": 64.15292377
                      },
                      {
                        "learn": [
                          0.2945309302
                        ],
                        "iteration": 81,
                        "passed_time": 6.141458582,
                        "remaining_time": 64.03594009
                      },
                      {
                        "learn": [
                          0.2943241551
                        ],
                        "iteration": 82,
                        "passed_time": 6.216581122,
                        "remaining_time": 63.96337685
                      },
                      {
                        "learn": [
                          0.2940618739
                        ],
                        "iteration": 83,
                        "passed_time": 6.298914745,
                        "remaining_time": 63.9639795
                      },
                      {
                        "learn": [
                          0.2937963397
                        ],
                        "iteration": 84,
                        "passed_time": 6.374409877,
                        "remaining_time": 63.89408488
                      },
                      {
                        "learn": [
                          0.2935685889
                        ],
                        "iteration": 85,
                        "passed_time": 6.438342264,
                        "remaining_time": 63.70964264
                      },
                      {
                        "learn": [
                          0.2933052234
                        ],
                        "iteration": 86,
                        "passed_time": 6.505520125,
                        "remaining_time": 63.55967938
                      },
                      {
                        "learn": [
                          0.293214306
                        ],
                        "iteration": 87,
                        "passed_time": 6.591925324,
                        "remaining_time": 63.59709773
                      },
                      {
                        "learn": [
                          0.2930404347
                        ],
                        "iteration": 88,
                        "passed_time": 6.666703973,
                        "remaining_time": 63.52095471
                      },
                      {
                        "learn": [
                          0.2928211554
                        ],
                        "iteration": 89,
                        "passed_time": 6.746439798,
                        "remaining_time": 63.49149454
                      },
                      {
                        "learn": [
                          0.2925694469
                        ],
                        "iteration": 90,
                        "passed_time": 6.828355889,
                        "remaining_time": 63.48119871
                      },
                      {
                        "learn": [
                          0.2924273271
                        ],
                        "iteration": 91,
                        "passed_time": 6.905720885,
                        "remaining_time": 63.42754508
                      },
                      {
                        "learn": [
                          0.2922076074
                        ],
                        "iteration": 92,
                        "passed_time": 6.974242052,
                        "remaining_time": 63.29312142
                      },
                      {
                        "learn": [
                          0.2921003906
                        ],
                        "iteration": 93,
                        "passed_time": 7.040779013,
                        "remaining_time": 63.1423054
                      },
                      {
                        "learn": [
                          0.2919097455
                        ],
                        "iteration": 94,
                        "passed_time": 7.11163971,
                        "remaining_time": 63.03158564
                      },
                      {
                        "learn": [
                          0.2917766056
                        ],
                        "iteration": 95,
                        "passed_time": 7.191285374,
                        "remaining_time": 62.99865624
                      },
                      {
                        "learn": [
                          0.2915510913
                        ],
                        "iteration": 96,
                        "passed_time": 7.270372918,
                        "remaining_time": 62.95993042
                      },
                      {
                        "learn": [
                          0.2914435357
                        ],
                        "iteration": 97,
                        "passed_time": 7.332559438,
                        "remaining_time": 62.77568743
                      },
                      {
                        "learn": [
                          0.2913627165
                        ],
                        "iteration": 98,
                        "passed_time": 7.395383635,
                        "remaining_time": 62.59930794
                      },
                      {
                        "learn": [
                          0.2912600406
                        ],
                        "iteration": 99,
                        "passed_time": 7.458941455,
                        "remaining_time": 62.43133998
                      },
                      {
                        "learn": [
                          0.2910554003
                        ],
                        "iteration": 100,
                        "passed_time": 7.524040779,
                        "remaining_time": 62.27819892
                      },
                      {
                        "learn": [
                          0.2909114506
                        ],
                        "iteration": 101,
                        "passed_time": 7.601919883,
                        "remaining_time": 62.23140297
                      },
                      {
                        "learn": [
                          0.2907477452
                        ],
                        "iteration": 102,
                        "passed_time": 7.682545882,
                        "remaining_time": 62.2062453
                      },
                      {
                        "learn": [
                          0.2905283982
                        ],
                        "iteration": 103,
                        "passed_time": 7.751551309,
                        "remaining_time": 62.08694462
                      },
                      {
                        "learn": [
                          0.2903951228
                        ],
                        "iteration": 104,
                        "passed_time": 7.820163476,
                        "remaining_time": 61.96548583
                      },
                      {
                        "learn": [
                          0.2901753014
                        ],
                        "iteration": 105,
                        "passed_time": 7.883714964,
                        "remaining_time": 61.80535033
                      },
                      {
                        "learn": [
                          0.2900842146
                        ],
                        "iteration": 106,
                        "passed_time": 7.953940542,
                        "remaining_time": 61.69879112
                      },
                      {
                        "learn": [
                          0.2899573776
                        ],
                        "iteration": 107,
                        "passed_time": 8.026341046,
                        "remaining_time": 61.60959933
                      },
                      {
                        "learn": [
                          0.2898481616
                        ],
                        "iteration": 108,
                        "passed_time": 8.0911608,
                        "remaining_time": 61.46312974
                      },
                      {
                        "learn": [
                          0.2896575164
                        ],
                        "iteration": 109,
                        "passed_time": 8.161559461,
                        "remaining_time": 61.36008795
                      },
                      {
                        "learn": [
                          0.2894954036
                        ],
                        "iteration": 110,
                        "passed_time": 8.236951598,
                        "remaining_time": 61.29479297
                      },
                      {
                        "learn": [
                          0.2893518268
                        ],
                        "iteration": 111,
                        "passed_time": 8.305931605,
                        "remaining_time": 61.18208548
                      },
                      {
                        "learn": [
                          0.2891384438
                        ],
                        "iteration": 112,
                        "passed_time": 8.376878837,
                        "remaining_time": 61.08449701
                      },
                      {
                        "learn": [
                          0.2889802957
                        ],
                        "iteration": 113,
                        "passed_time": 8.455702973,
                        "remaining_time": 61.04424164
                      },
                      {
                        "learn": [
                          0.288810389
                        ],
                        "iteration": 114,
                        "passed_time": 8.529848596,
                        "remaining_time": 60.96987431
                      },
                      {
                        "learn": [
                          0.288653732
                        ],
                        "iteration": 115,
                        "passed_time": 8.589136416,
                        "remaining_time": 60.79035343
                      },
                      {
                        "learn": [
                          0.2885177795
                        ],
                        "iteration": 116,
                        "passed_time": 8.656165816,
                        "remaining_time": 60.66714504
                      },
                      {
                        "learn": [
                          0.2883255417
                        ],
                        "iteration": 117,
                        "passed_time": 8.732949159,
                        "remaining_time": 60.61258781
                      },
                      {
                        "learn": [
                          0.288236827
                        ],
                        "iteration": 118,
                        "passed_time": 8.799871106,
                        "remaining_time": 60.48987029
                      },
                      {
                        "learn": [
                          0.2880870489
                        ],
                        "iteration": 119,
                        "passed_time": 8.872829557,
                        "remaining_time": 60.40918124
                      },
                      {
                        "learn": [
                          0.2879597036
                        ],
                        "iteration": 120,
                        "passed_time": 8.945687928,
                        "remaining_time": 60.32794504
                      },
                      {
                        "learn": [
                          0.2878315789
                        ],
                        "iteration": 121,
                        "passed_time": 9.027939575,
                        "remaining_time": 60.30959634
                      },
                      {
                        "learn": [
                          0.287656386
                        ],
                        "iteration": 122,
                        "passed_time": 9.095767139,
                        "remaining_time": 60.19475163
                      },
                      {
                        "learn": [
                          0.2875216873
                        ],
                        "iteration": 123,
                        "passed_time": 9.167170846,
                        "remaining_time": 60.10411208
                      },
                      {
                        "learn": [
                          0.287366318
                        ],
                        "iteration": 124,
                        "passed_time": 9.241804338,
                        "remaining_time": 60.03476098
                      },
                      {
                        "learn": [
                          0.2872097626
                        ],
                        "iteration": 125,
                        "passed_time": 9.311406421,
                        "remaining_time": 59.93294133
                      },
                      {
                        "learn": [
                          0.2870484969
                        ],
                        "iteration": 126,
                        "passed_time": 9.379993934,
                        "remaining_time": 59.82515816
                      },
                      {
                        "learn": [
                          0.2869713714
                        ],
                        "iteration": 127,
                        "passed_time": 9.46034958,
                        "remaining_time": 59.7923657
                      },
                      {
                        "learn": [
                          0.2868513794
                        ],
                        "iteration": 128,
                        "passed_time": 9.526333101,
                        "remaining_time": 59.66881508
                      },
                      {
                        "learn": [
                          0.2867525327
                        ],
                        "iteration": 129,
                        "passed_time": 9.5962662,
                        "remaining_time": 59.57066787
                      },
                      {
                        "learn": [
                          0.2866870302
                        ],
                        "iteration": 130,
                        "passed_time": 9.66834314,
                        "remaining_time": 59.48614176
                      },
                      {
                        "learn": [
                          0.2864247152
                        ],
                        "iteration": 131,
                        "passed_time": 9.729391692,
                        "remaining_time": 59.33454782
                      },
                      {
                        "learn": [
                          0.2863168885
                        ],
                        "iteration": 132,
                        "passed_time": 9.804979149,
                        "remaining_time": 59.27220478
                      },
                      {
                        "learn": [
                          0.2862414911
                        ],
                        "iteration": 133,
                        "passed_time": 9.866874672,
                        "remaining_time": 59.12761464
                      },
                      {
                        "learn": [
                          0.286182732
                        ],
                        "iteration": 134,
                        "passed_time": 9.936150574,
                        "remaining_time": 59.02809452
                      },
                      {
                        "learn": [
                          0.286071415
                        ],
                        "iteration": 135,
                        "passed_time": 10.00677741,
                        "remaining_time": 58.93697575
                      },
                      {
                        "learn": [
                          0.2858717899
                        ],
                        "iteration": 136,
                        "passed_time": 10.07936947,
                        "remaining_time": 58.85763197
                      },
                      {
                        "learn": [
                          0.2856792471
                        ],
                        "iteration": 137,
                        "passed_time": 10.15253924,
                        "remaining_time": 58.78173085
                      },
                      {
                        "learn": [
                          0.2855782316
                        ],
                        "iteration": 138,
                        "passed_time": 10.22093879,
                        "remaining_time": 58.67848312
                      },
                      {
                        "learn": [
                          0.2854295718
                        ],
                        "iteration": 139,
                        "passed_time": 10.29006481,
                        "remaining_time": 58.57986898
                      },
                      {
                        "learn": [
                          0.2852282862
                        ],
                        "iteration": 140,
                        "passed_time": 10.35176055,
                        "remaining_time": 58.43972625
                      },
                      {
                        "learn": [
                          0.2851640036
                        ],
                        "iteration": 141,
                        "passed_time": 10.42726525,
                        "remaining_time": 58.37799911
                      },
                      {
                        "learn": [
                          0.2849261885
                        ],
                        "iteration": 142,
                        "passed_time": 10.50141114,
                        "remaining_time": 58.3085346
                      },
                      {
                        "learn": [
                          0.2848914888
                        ],
                        "iteration": 143,
                        "passed_time": 10.56544309,
                        "remaining_time": 58.18330811
                      },
                      {
                        "learn": [
                          0.2847761732
                        ],
                        "iteration": 144,
                        "passed_time": 10.63881402,
                        "remaining_time": 58.10993588
                      },
                      {
                        "learn": [
                          0.2847236492
                        ],
                        "iteration": 145,
                        "passed_time": 10.7292272,
                        "remaining_time": 58.12889533
                      },
                      {
                        "learn": [
                          0.2846136199
                        ],
                        "iteration": 146,
                        "passed_time": 10.79698861,
                        "remaining_time": 58.02463268
                      },
                      {
                        "learn": [
                          0.28447333
                        ],
                        "iteration": 147,
                        "passed_time": 10.86111481,
                        "remaining_time": 57.9014837
                      },
                      {
                        "learn": [
                          0.2843717723
                        ],
                        "iteration": 148,
                        "passed_time": 10.9378342,
                        "remaining_time": 57.8457272
                      },
                      {
                        "learn": [
                          0.2842261792
                        ],
                        "iteration": 149,
                        "passed_time": 10.99990039,
                        "remaining_time": 57.7128107
                      },
                      {
                        "learn": [
                          0.2840718603
                        ],
                        "iteration": 150,
                        "passed_time": 11.06902178,
                        "remaining_time": 57.61755708
                      },
                      {
                        "learn": [
                          0.2839756058
                        ],
                        "iteration": 151,
                        "passed_time": 11.13965942,
                        "remaining_time": 57.53047794
                      },
                      {
                        "learn": [
                          0.2838761999
                        ],
                        "iteration": 152,
                        "passed_time": 11.21346625,
                        "remaining_time": 57.45985319
                      },
                      {
                        "learn": [
                          0.2837327586
                        ],
                        "iteration": 153,
                        "passed_time": 11.27685649,
                        "remaining_time": 57.33622486
                      },
                      {
                        "learn": [
                          0.2836230851
                        ],
                        "iteration": 154,
                        "passed_time": 11.34440397,
                        "remaining_time": 57.23434775
                      },
                      {
                        "learn": [
                          0.2834955365
                        ],
                        "iteration": 155,
                        "passed_time": 11.41741086,
                        "remaining_time": 57.16024283
                      },
                      {
                        "learn": [
                          0.2833671238
                        ],
                        "iteration": 156,
                        "passed_time": 11.48479134,
                        "remaining_time": 57.05819903
                      },
                      {
                        "learn": [
                          0.2832141773
                        ],
                        "iteration": 157,
                        "passed_time": 11.55241204,
                        "remaining_time": 56.95777834
                      },
                      {
                        "learn": [
                          0.2831112133
                        ],
                        "iteration": 158,
                        "passed_time": 11.62891213,
                        "remaining_time": 56.90121783
                      },
                      {
                        "learn": [
                          0.2829869856
                        ],
                        "iteration": 159,
                        "passed_time": 11.70698348,
                        "remaining_time": 56.85203854
                      },
                      {
                        "learn": [
                          0.2828959327
                        ],
                        "iteration": 160,
                        "passed_time": 11.78167586,
                        "remaining_time": 56.78621408
                      },
                      {
                        "learn": [
                          0.2827951544
                        ],
                        "iteration": 161,
                        "passed_time": 11.84998485,
                        "remaining_time": 56.68974234
                      },
                      {
                        "learn": [
                          0.2827246197
                        ],
                        "iteration": 162,
                        "passed_time": 11.921245,
                        "remaining_time": 56.60762965
                      },
                      {
                        "learn": [
                          0.2825929709
                        ],
                        "iteration": 163,
                        "passed_time": 11.99656633,
                        "remaining_time": 56.54479131
                      },
                      {
                        "learn": [
                          0.2824043758
                        ],
                        "iteration": 164,
                        "passed_time": 12.05847528,
                        "remaining_time": 56.41904797
                      },
                      {
                        "learn": [
                          0.282297786
                        ],
                        "iteration": 165,
                        "passed_time": 12.14011049,
                        "remaining_time": 56.38569392
                      },
                      {
                        "learn": [
                          0.2822096643
                        ],
                        "iteration": 166,
                        "passed_time": 12.20672479,
                        "remaining_time": 56.28250351
                      },
                      {
                        "learn": [
                          0.2821176795
                        ],
                        "iteration": 167,
                        "passed_time": 12.27929591,
                        "remaining_time": 56.2070152
                      },
                      {
                        "learn": [
                          0.2819675795
                        ],
                        "iteration": 168,
                        "passed_time": 12.35019051,
                        "remaining_time": 56.12394267
                      },
                      {
                        "learn": [
                          0.281872528
                        ],
                        "iteration": 169,
                        "passed_time": 12.42578999,
                        "remaining_time": 56.06224073
                      },
                      {
                        "learn": [
                          0.281785389
                        ],
                        "iteration": 170,
                        "passed_time": 12.49250411,
                        "remaining_time": 55.96057398
                      },
                      {
                        "learn": [
                          0.281727477
                        ],
                        "iteration": 171,
                        "passed_time": 12.5686424,
                        "remaining_time": 55.90122928
                      },
                      {
                        "learn": [
                          0.2815890339
                        ],
                        "iteration": 172,
                        "passed_time": 12.6308458,
                        "remaining_time": 55.7801514
                      },
                      {
                        "learn": [
                          0.2815196853
                        ],
                        "iteration": 173,
                        "passed_time": 12.69982531,
                        "remaining_time": 55.68946388
                      },
                      {
                        "learn": [
                          0.2814377818
                        ],
                        "iteration": 174,
                        "passed_time": 12.76121617,
                        "remaining_time": 55.56598127
                      },
                      {
                        "learn": [
                          0.2813231947
                        ],
                        "iteration": 175,
                        "passed_time": 12.82840361,
                        "remaining_time": 55.46826788
                      },
                      {
                        "learn": [
                          0.28126491
                        ],
                        "iteration": 176,
                        "passed_time": 12.88969349,
                        "remaining_time": 55.34557658
                      },
                      {
                        "learn": [
                          0.2811881233
                        ],
                        "iteration": 177,
                        "passed_time": 12.96475979,
                        "remaining_time": 55.28231844
                      },
                      {
                        "learn": [
                          0.2810665218
                        ],
                        "iteration": 178,
                        "passed_time": 13.03442942,
                        "remaining_time": 55.19607542
                      },
                      {
                        "learn": [
                          0.2809843302
                        ],
                        "iteration": 179,
                        "passed_time": 13.11575714,
                        "remaining_time": 55.15904531
                      },
                      {
                        "learn": [
                          0.2808652871
                        ],
                        "iteration": 180,
                        "passed_time": 13.19526959,
                        "remaining_time": 55.1139437
                      },
                      {
                        "learn": [
                          0.2808296386
                        ],
                        "iteration": 181,
                        "passed_time": 13.26457881,
                        "remaining_time": 55.02613739
                      },
                      {
                        "learn": [
                          0.2806792675
                        ],
                        "iteration": 182,
                        "passed_time": 13.33407761,
                        "remaining_time": 54.9393143
                      },
                      {
                        "learn": [
                          0.2805987702
                        ],
                        "iteration": 183,
                        "passed_time": 13.40617192,
                        "remaining_time": 54.8633014
                      },
                      {
                        "learn": [
                          0.2805175952
                        ],
                        "iteration": 184,
                        "passed_time": 13.47901971,
                        "remaining_time": 54.79039361
                      },
                      {
                        "learn": [
                          0.2803953668
                        ],
                        "iteration": 185,
                        "passed_time": 13.53925756,
                        "remaining_time": 54.6665722
                      },
                      {
                        "learn": [
                          0.2802390316
                        ],
                        "iteration": 186,
                        "passed_time": 13.60344159,
                        "remaining_time": 54.55925772
                      },
                      {
                        "learn": [
                          0.2801679379
                        ],
                        "iteration": 187,
                        "passed_time": 13.67868275,
                        "remaining_time": 54.49645413
                      },
                      {
                        "learn": [
                          0.2800746146
                        ],
                        "iteration": 188,
                        "passed_time": 13.74094592,
                        "remaining_time": 54.38215632
                      },
                      {
                        "learn": [
                          0.2799842733
                        ],
                        "iteration": 189,
                        "passed_time": 13.81190044,
                        "remaining_time": 54.30257701
                      },
                      {
                        "learn": [
                          0.2798869853
                        ],
                        "iteration": 190,
                        "passed_time": 13.87397234,
                        "remaining_time": 54.18839459
                      },
                      {
                        "learn": [
                          0.2798298358
                        ],
                        "iteration": 191,
                        "passed_time": 13.95691865,
                        "remaining_time": 54.15575205
                      },
                      {
                        "learn": [
                          0.2797759394
                        ],
                        "iteration": 192,
                        "passed_time": 14.03244428,
                        "remaining_time": 54.09398211
                      },
                      {
                        "learn": [
                          0.2797025075
                        ],
                        "iteration": 193,
                        "passed_time": 14.0985723,
                        "remaining_time": 53.99607845
                      },
                      {
                        "learn": [
                          0.2795747894
                        ],
                        "iteration": 194,
                        "passed_time": 14.16899936,
                        "remaining_time": 53.9148591
                      },
                      {
                        "learn": [
                          0.2795201814
                        ],
                        "iteration": 195,
                        "passed_time": 14.24189744,
                        "remaining_time": 53.84309184
                      },
                      {
                        "learn": [
                          0.2794540689
                        ],
                        "iteration": 196,
                        "passed_time": 14.31195842,
                        "remaining_time": 53.760656
                      },
                      {
                        "learn": [
                          0.2793768756
                        ],
                        "iteration": 197,
                        "passed_time": 14.38607215,
                        "remaining_time": 53.69347131
                      },
                      {
                        "learn": [
                          0.2792487001
                        ],
                        "iteration": 198,
                        "passed_time": 14.45188764,
                        "remaining_time": 53.59544259
                      },
                      {
                        "learn": [
                          0.2791909576
                        ],
                        "iteration": 199,
                        "passed_time": 14.52337532,
                        "remaining_time": 53.51863806
                      },
                      {
                        "learn": [
                          0.2791504464
                        ],
                        "iteration": 200,
                        "passed_time": 14.59452125,
                        "remaining_time": 53.44063501
                      },
                      {
                        "learn": [
                          0.2791076986
                        ],
                        "iteration": 201,
                        "passed_time": 14.65691918,
                        "remaining_time": 53.33086931
                      },
                      {
                        "learn": [
                          0.2790381128
                        ],
                        "iteration": 202,
                        "passed_time": 14.72554243,
                        "remaining_time": 53.24407953
                      },
                      {
                        "learn": [
                          0.2789433663
                        ],
                        "iteration": 203,
                        "passed_time": 14.79706688,
                        "remaining_time": 53.16789226
                      },
                      {
                        "learn": [
                          0.2789030244
                        ],
                        "iteration": 204,
                        "passed_time": 14.8615288,
                        "remaining_time": 53.06653211
                      },
                      {
                        "learn": [
                          0.2787871667
                        ],
                        "iteration": 205,
                        "passed_time": 14.93520826,
                        "remaining_time": 52.99823901
                      },
                      {
                        "learn": [
                          0.2786927421
                        ],
                        "iteration": 206,
                        "passed_time": 14.99700007,
                        "remaining_time": 52.88797128
                      },
                      {
                        "learn": [
                          0.2786146677
                        ],
                        "iteration": 207,
                        "passed_time": 15.07490526,
                        "remaining_time": 52.83464391
                      },
                      {
                        "learn": [
                          0.2785520455
                        ],
                        "iteration": 208,
                        "passed_time": 15.13860502,
                        "remaining_time": 52.73160025
                      },
                      {
                        "learn": [
                          0.2784726665
                        ],
                        "iteration": 209,
                        "passed_time": 15.19945716,
                        "remaining_time": 52.61907313
                      },
                      {
                        "learn": [
                          0.2783852056
                        ],
                        "iteration": 210,
                        "passed_time": 15.27520421,
                        "remaining_time": 52.55828558
                      },
                      {
                        "learn": [
                          0.2783180765
                        ],
                        "iteration": 211,
                        "passed_time": 15.34840679,
                        "remaining_time": 52.48865529
                      },
                      {
                        "learn": [
                          0.2782505069
                        ],
                        "iteration": 212,
                        "passed_time": 15.41964728,
                        "remaining_time": 52.41232221
                      },
                      {
                        "learn": [
                          0.2781823443
                        ],
                        "iteration": 213,
                        "passed_time": 15.4997932,
                        "remaining_time": 52.36612376
                      },
                      {
                        "learn": [
                          0.2780924266
                        ],
                        "iteration": 214,
                        "passed_time": 15.57640408,
                        "remaining_time": 52.30773836
                      },
                      {
                        "learn": [
                          0.2780149283
                        ],
                        "iteration": 215,
                        "passed_time": 15.64852627,
                        "remaining_time": 52.23420112
                      },
                      {
                        "learn": [
                          0.2779404967
                        ],
                        "iteration": 216,
                        "passed_time": 15.72419273,
                        "remaining_time": 52.1724367
                      },
                      {
                        "learn": [
                          0.2778467329
                        ],
                        "iteration": 217,
                        "passed_time": 15.79355479,
                        "remaining_time": 52.08975179
                      },
                      {
                        "learn": [
                          0.2776732682
                        ],
                        "iteration": 218,
                        "passed_time": 15.86323648,
                        "remaining_time": 52.0082365
                      },
                      {
                        "learn": [
                          0.2776305882
                        ],
                        "iteration": 219,
                        "passed_time": 15.93335429,
                        "remaining_time": 51.92825013
                      },
                      {
                        "learn": [
                          0.2775618495
                        ],
                        "iteration": 220,
                        "passed_time": 16.00297975,
                        "remaining_time": 51.84675793
                      },
                      {
                        "learn": [
                          0.2775364686
                        ],
                        "iteration": 221,
                        "passed_time": 16.06223235,
                        "remaining_time": 51.73196456
                      },
                      {
                        "learn": [
                          0.2774340129
                        ],
                        "iteration": 222,
                        "passed_time": 16.13946564,
                        "remaining_time": 51.67523976
                      },
                      {
                        "learn": [
                          0.2773431972
                        ],
                        "iteration": 223,
                        "passed_time": 16.21520739,
                        "remaining_time": 51.61358425
                      },
                      {
                        "learn": [
                          0.2771562965
                        ],
                        "iteration": 224,
                        "passed_time": 16.27751549,
                        "remaining_time": 51.50929347
                      },
                      {
                        "learn": [
                          0.2770137701
                        ],
                        "iteration": 225,
                        "passed_time": 16.34892991,
                        "remaining_time": 51.43402285
                      },
                      {
                        "learn": [
                          0.2769411175
                        ],
                        "iteration": 226,
                        "passed_time": 16.42850379,
                        "remaining_time": 51.38430702
                      },
                      {
                        "learn": [
                          0.2768779193
                        ],
                        "iteration": 227,
                        "passed_time": 16.49075783,
                        "remaining_time": 51.28047062
                      },
                      {
                        "learn": [
                          0.2767687711
                        ],
                        "iteration": 228,
                        "passed_time": 16.56480039,
                        "remaining_time": 51.21344401
                      },
                      {
                        "learn": [
                          0.2766960338
                        ],
                        "iteration": 229,
                        "passed_time": 16.6426665,
                        "remaining_time": 51.15810963
                      },
                      {
                        "learn": [
                          0.2766399009
                        ],
                        "iteration": 230,
                        "passed_time": 16.71163069,
                        "remaining_time": 51.07537345
                      },
                      {
                        "learn": [
                          0.2764951719
                        ],
                        "iteration": 231,
                        "passed_time": 16.768261,
                        "remaining_time": 50.9552759
                      },
                      {
                        "learn": [
                          0.2764505773
                        ],
                        "iteration": 232,
                        "passed_time": 16.83987161,
                        "remaining_time": 50.88098547
                      },
                      {
                        "learn": [
                          0.2763986463
                        ],
                        "iteration": 233,
                        "passed_time": 16.90185581,
                        "remaining_time": 50.77779758
                      },
                      {
                        "learn": [
                          0.2762582886
                        ],
                        "iteration": 234,
                        "passed_time": 16.97108476,
                        "remaining_time": 50.69660214
                      },
                      {
                        "learn": [
                          0.2761383814
                        ],
                        "iteration": 235,
                        "passed_time": 17.03515083,
                        "remaining_time": 50.60017258
                      },
                      {
                        "learn": [
                          0.276036739
                        ],
                        "iteration": 236,
                        "passed_time": 17.09405195,
                        "remaining_time": 50.48876102
                      },
                      {
                        "learn": [
                          0.2759650183
                        ],
                        "iteration": 237,
                        "passed_time": 17.15627976,
                        "remaining_time": 50.38756113
                      },
                      {
                        "learn": [
                          0.2758625457
                        ],
                        "iteration": 238,
                        "passed_time": 17.22449147,
                        "remaining_time": 50.30416336
                      },
                      {
                        "learn": [
                          0.2758308619
                        ],
                        "iteration": 239,
                        "passed_time": 17.30043436,
                        "remaining_time": 50.24334478
                      },
                      {
                        "learn": [
                          0.2757900457
                        ],
                        "iteration": 240,
                        "passed_time": 17.37918924,
                        "remaining_time": 50.19052162
                      },
                      {
                        "learn": [
                          0.2757347769
                        ],
                        "iteration": 241,
                        "passed_time": 17.45967578,
                        "remaining_time": 50.14245731
                      },
                      {
                        "learn": [
                          0.2756764922
                        ],
                        "iteration": 242,
                        "passed_time": 17.52249049,
                        "remaining_time": 50.04365596
                      },
                      {
                        "learn": [
                          0.2756496202
                        ],
                        "iteration": 243,
                        "passed_time": 17.5948997,
                        "remaining_time": 49.97239956
                      },
                      {
                        "learn": [
                          0.2755944022
                        ],
                        "iteration": 244,
                        "passed_time": 17.67262994,
                        "remaining_time": 49.91616292
                      },
                      {
                        "learn": [
                          0.2755188016
                        ],
                        "iteration": 245,
                        "passed_time": 17.74598956,
                        "remaining_time": 49.84747473
                      },
                      {
                        "learn": [
                          0.2754683616
                        ],
                        "iteration": 246,
                        "passed_time": 17.82071567,
                        "remaining_time": 49.78256604
                      },
                      {
                        "learn": [
                          0.2754074676
                        ],
                        "iteration": 247,
                        "passed_time": 17.89471551,
                        "remaining_time": 49.71556044
                      },
                      {
                        "learn": [
                          0.2752675335
                        ],
                        "iteration": 248,
                        "passed_time": 17.97155387,
                        "remaining_time": 49.65634162
                      },
                      {
                        "learn": [
                          0.2752099435
                        ],
                        "iteration": 249,
                        "passed_time": 18.03919748,
                        "remaining_time": 49.57171466
                      },
                      {
                        "learn": [
                          0.2751187042
                        ],
                        "iteration": 250,
                        "passed_time": 18.11342708,
                        "remaining_time": 49.50522303
                      },
                      {
                        "learn": [
                          0.2750567767
                        ],
                        "iteration": 251,
                        "passed_time": 18.19081652,
                        "remaining_time": 49.4472592
                      },
                      {
                        "learn": [
                          0.2749969163
                        ],
                        "iteration": 252,
                        "passed_time": 18.25225513,
                        "remaining_time": 49.34601783
                      },
                      {
                        "learn": [
                          0.2749235183
                        ],
                        "iteration": 253,
                        "passed_time": 18.31619795,
                        "remaining_time": 49.25182362
                      },
                      {
                        "learn": [
                          0.2748807705
                        ],
                        "iteration": 254,
                        "passed_time": 18.37848152,
                        "remaining_time": 49.15342901
                      },
                      {
                        "learn": [
                          0.2748479684
                        ],
                        "iteration": 255,
                        "passed_time": 18.46111161,
                        "remaining_time": 49.10944144
                      },
                      {
                        "learn": [
                          0.2747823473
                        ],
                        "iteration": 256,
                        "passed_time": 18.53189049,
                        "remaining_time": 49.03379585
                      },
                      {
                        "learn": [
                          0.2747252995
                        ],
                        "iteration": 257,
                        "passed_time": 18.59525542,
                        "remaining_time": 48.93867609
                      },
                      {
                        "learn": [
                          0.2746648291
                        ],
                        "iteration": 258,
                        "passed_time": 18.67045646,
                        "remaining_time": 48.87478563
                      },
                      {
                        "learn": [
                          0.2745769277
                        ],
                        "iteration": 259,
                        "passed_time": 18.74265463,
                        "remaining_time": 48.80298918
                      },
                      {
                        "learn": [
                          0.2744670339
                        ],
                        "iteration": 260,
                        "passed_time": 18.80376354,
                        "remaining_time": 48.70246803
                      },
                      {
                        "learn": [
                          0.2743694748
                        ],
                        "iteration": 261,
                        "passed_time": 18.87244406,
                        "remaining_time": 48.62175473
                      },
                      {
                        "learn": [
                          0.2743409763
                        ],
                        "iteration": 262,
                        "passed_time": 18.95843889,
                        "remaining_time": 48.585505
                      },
                      {
                        "learn": [
                          0.2742549047
                        ],
                        "iteration": 263,
                        "passed_time": 19.02468968,
                        "remaining_time": 48.49854603
                      },
                      {
                        "learn": [
                          0.2742000934
                        ],
                        "iteration": 264,
                        "passed_time": 19.10001705,
                        "remaining_time": 48.43476023
                      },
                      {
                        "learn": [
                          0.2741803715
                        ],
                        "iteration": 265,
                        "passed_time": 19.17195888,
                        "remaining_time": 48.36234739
                      },
                      {
                        "learn": [
                          0.2741502464
                        ],
                        "iteration": 266,
                        "passed_time": 19.24323237,
                        "remaining_time": 48.288261
                      },
                      {
                        "learn": [
                          0.2740913857
                        ],
                        "iteration": 267,
                        "passed_time": 19.31055061,
                        "remaining_time": 48.20432223
                      },
                      {
                        "learn": [
                          0.2740393361
                        ],
                        "iteration": 268,
                        "passed_time": 19.39277616,
                        "remaining_time": 48.15752593
                      },
                      {
                        "learn": [
                          0.2740019932
                        ],
                        "iteration": 269,
                        "passed_time": 19.47762697,
                        "remaining_time": 48.11695256
                      },
                      {
                        "learn": [
                          0.2739152269
                        ],
                        "iteration": 270,
                        "passed_time": 19.5492014,
                        "remaining_time": 48.04342484
                      },
                      {
                        "learn": [
                          0.2738535028
                        ],
                        "iteration": 271,
                        "passed_time": 19.62173106,
                        "remaining_time": 47.97224689
                      },
                      {
                        "learn": [
                          0.2738128051
                        ],
                        "iteration": 272,
                        "passed_time": 19.68646024,
                        "remaining_time": 47.88208644
                      },
                      {
                        "learn": [
                          0.2737488445
                        ],
                        "iteration": 273,
                        "passed_time": 19.75625587,
                        "remaining_time": 47.80437096
                      },
                      {
                        "learn": [
                          0.2736729727
                        ],
                        "iteration": 274,
                        "passed_time": 19.82097986,
                        "remaining_time": 47.71450425
                      },
                      {
                        "learn": [
                          0.2735944917
                        ],
                        "iteration": 275,
                        "passed_time": 19.90191419,
                        "remaining_time": 47.66364232
                      },
                      {
                        "learn": [
                          0.2735175017
                        ],
                        "iteration": 276,
                        "passed_time": 19.97584263,
                        "remaining_time": 47.59587051
                      },
                      {
                        "learn": [
                          0.2734517111
                        ],
                        "iteration": 277,
                        "passed_time": 20.05477888,
                        "remaining_time": 47.53992546
                      },
                      {
                        "learn": [
                          0.273437428
                        ],
                        "iteration": 278,
                        "passed_time": 20.12592551,
                        "remaining_time": 47.4654444
                      },
                      {
                        "learn": [
                          0.2733839213
                        ],
                        "iteration": 279,
                        "passed_time": 20.18792781,
                        "remaining_time": 47.3695306
                      },
                      {
                        "learn": [
                          0.2733151826
                        ],
                        "iteration": 280,
                        "passed_time": 20.26452967,
                        "remaining_time": 47.30794114
                      },
                      {
                        "learn": [
                          0.2732343126
                        ],
                        "iteration": 281,
                        "passed_time": 20.33911023,
                        "remaining_time": 47.24155035
                      },
                      {
                        "learn": [
                          0.2731631341
                        ],
                        "iteration": 282,
                        "passed_time": 20.40432959,
                        "remaining_time": 47.15346839
                      },
                      {
                        "learn": [
                          0.2731173027
                        ],
                        "iteration": 283,
                        "passed_time": 20.4689894,
                        "remaining_time": 47.06426085
                      },
                      {
                        "learn": [
                          0.2730688112
                        ],
                        "iteration": 284,
                        "passed_time": 20.54268206,
                        "remaining_time": 46.9958902
                      },
                      {
                        "learn": [
                          0.2730095607
                        ],
                        "iteration": 285,
                        "passed_time": 20.61373045,
                        "remaining_time": 46.92146338
                      },
                      {
                        "learn": [
                          0.2729534956
                        ],
                        "iteration": 286,
                        "passed_time": 20.68572979,
                        "remaining_time": 46.84921381
                      },
                      {
                        "learn": [
                          0.2729192533
                        ],
                        "iteration": 287,
                        "passed_time": 20.7491704,
                        "remaining_time": 46.75767914
                      },
                      {
                        "learn": [
                          0.2728595115
                        ],
                        "iteration": 288,
                        "passed_time": 20.81297789,
                        "remaining_time": 46.66716149
                      },
                      {
                        "learn": [
                          0.2728235072
                        ],
                        "iteration": 289,
                        "passed_time": 20.89259256,
                        "remaining_time": 46.61209444
                      },
                      {
                        "learn": [
                          0.2727363851
                        ],
                        "iteration": 290,
                        "passed_time": 20.96457553,
                        "remaining_time": 46.53991682
                      },
                      {
                        "learn": [
                          0.2726763044
                        ],
                        "iteration": 291,
                        "passed_time": 21.03302103,
                        "remaining_time": 46.45992658
                      },
                      {
                        "learn": [
                          0.272630185
                        ],
                        "iteration": 292,
                        "passed_time": 21.09703085,
                        "remaining_time": 46.37026575
                      },
                      {
                        "learn": [
                          0.2725459602
                        ],
                        "iteration": 293,
                        "passed_time": 21.15738581,
                        "remaining_time": 46.27278598
                      },
                      {
                        "learn": [
                          0.2724802544
                        ],
                        "iteration": 294,
                        "passed_time": 21.23749339,
                        "remaining_time": 46.21854494
                      },
                      {
                        "learn": [
                          0.2724355243
                        ],
                        "iteration": 295,
                        "passed_time": 21.31359909,
                        "remaining_time": 46.15546288
                      },
                      {
                        "learn": [
                          0.2723891676
                        ],
                        "iteration": 296,
                        "passed_time": 21.38371355,
                        "remaining_time": 46.07938274
                      },
                      {
                        "learn": [
                          0.2723519094
                        ],
                        "iteration": 297,
                        "passed_time": 21.44487585,
                        "remaining_time": 45.98414655
                      },
                      {
                        "learn": [
                          0.2722789519
                        ],
                        "iteration": 298,
                        "passed_time": 21.51931201,
                        "remaining_time": 45.91746175
                      },
                      {
                        "learn": [
                          0.2721666353
                        ],
                        "iteration": 299,
                        "passed_time": 21.57888807,
                        "remaining_time": 45.81917233
                      },
                      {
                        "learn": [
                          0.2721212274
                        ],
                        "iteration": 300,
                        "passed_time": 21.64950375,
                        "remaining_time": 45.7444664
                      },
                      {
                        "learn": [
                          0.2720961853
                        ],
                        "iteration": 301,
                        "passed_time": 21.72778444,
                        "remaining_time": 45.68590437
                      },
                      {
                        "learn": [
                          0.2720441019
                        ],
                        "iteration": 302,
                        "passed_time": 21.78857302,
                        "remaining_time": 45.59061153
                      },
                      {
                        "learn": [
                          0.2720122994
                        ],
                        "iteration": 303,
                        "passed_time": 21.84891489,
                        "remaining_time": 45.49461555
                      },
                      {
                        "learn": [
                          0.2719773794
                        ],
                        "iteration": 304,
                        "passed_time": 21.91435459,
                        "remaining_time": 45.40941673
                      },
                      {
                        "learn": [
                          0.2719268547
                        ],
                        "iteration": 305,
                        "passed_time": 21.98530814,
                        "remaining_time": 45.33571712
                      },
                      {
                        "learn": [
                          0.2718883089
                        ],
                        "iteration": 306,
                        "passed_time": 22.0593183,
                        "remaining_time": 45.26830792
                      },
                      {
                        "learn": [
                          0.2717778221
                        ],
                        "iteration": 307,
                        "passed_time": 22.1280342,
                        "remaining_time": 45.19004388
                      },
                      {
                        "learn": [
                          0.2716822115
                        ],
                        "iteration": 308,
                        "passed_time": 22.19963526,
                        "remaining_time": 45.11770531
                      },
                      {
                        "learn": [
                          0.2716082204
                        ],
                        "iteration": 309,
                        "passed_time": 22.2712886,
                        "remaining_time": 45.04547726
                      },
                      {
                        "learn": [
                          0.2715531719
                        ],
                        "iteration": 310,
                        "passed_time": 22.34586612,
                        "remaining_time": 44.97913889
                      },
                      {
                        "learn": [
                          0.2715133045
                        ],
                        "iteration": 311,
                        "passed_time": 22.41721877,
                        "remaining_time": 44.90628761
                      },
                      {
                        "learn": [
                          0.2714078668
                        ],
                        "iteration": 312,
                        "passed_time": 22.48502036,
                        "remaining_time": 44.82636646
                      },
                      {
                        "learn": [
                          0.271327522
                        ],
                        "iteration": 313,
                        "passed_time": 22.54867655,
                        "remaining_time": 44.73829774
                      },
                      {
                        "learn": [
                          0.2712480752
                        ],
                        "iteration": 314,
                        "passed_time": 22.63024417,
                        "remaining_time": 44.68575198
                      },
                      {
                        "learn": [
                          0.2711886045
                        ],
                        "iteration": 315,
                        "passed_time": 22.70062232,
                        "remaining_time": 44.61103309
                      },
                      {
                        "learn": [
                          0.2711295066
                        ],
                        "iteration": 316,
                        "passed_time": 22.77842516,
                        "remaining_time": 44.55086309
                      },
                      {
                        "learn": [
                          0.2711000931
                        ],
                        "iteration": 317,
                        "passed_time": 22.83834794,
                        "remaining_time": 44.4557779
                      },
                      {
                        "learn": [
                          0.2710119375
                        ],
                        "iteration": 318,
                        "passed_time": 22.91133768,
                        "remaining_time": 44.38622786
                      },
                      {
                        "learn": [
                          0.2709546355
                        ],
                        "iteration": 319,
                        "passed_time": 22.98186358,
                        "remaining_time": 44.31190572
                      },
                      {
                        "learn": [
                          0.270905856
                        ],
                        "iteration": 320,
                        "passed_time": 23.04409914,
                        "remaining_time": 44.22169803
                      },
                      {
                        "learn": [
                          0.2708385236
                        ],
                        "iteration": 321,
                        "passed_time": 23.1069261,
                        "remaining_time": 44.13279363
                      },
                      {
                        "learn": [
                          0.2707856946
                        ],
                        "iteration": 322,
                        "passed_time": 23.17304119,
                        "remaining_time": 44.05030121
                      },
                      {
                        "learn": [
                          0.270729477
                        ],
                        "iteration": 323,
                        "passed_time": 23.2440109,
                        "remaining_time": 43.9770947
                      },
                      {
                        "learn": [
                          0.2706753434
                        ],
                        "iteration": 324,
                        "passed_time": 23.31349609,
                        "remaining_time": 43.90110649
                      },
                      {
                        "learn": [
                          0.2706280718
                        ],
                        "iteration": 325,
                        "passed_time": 23.3799514,
                        "remaining_time": 43.81947946
                      },
                      {
                        "learn": [
                          0.2706075536
                        ],
                        "iteration": 326,
                        "passed_time": 23.43870671,
                        "remaining_time": 43.72358132
                      },
                      {
                        "learn": [
                          0.2705434743
                        ],
                        "iteration": 327,
                        "passed_time": 23.50428256,
                        "remaining_time": 43.64057342
                      },
                      {
                        "learn": [
                          0.270488951
                        ],
                        "iteration": 328,
                        "passed_time": 23.5679745,
                        "remaining_time": 43.55418995
                      },
                      {
                        "learn": [
                          0.2704472706
                        ],
                        "iteration": 329,
                        "passed_time": 23.63618534,
                        "remaining_time": 43.47625606
                      },
                      {
                        "learn": [
                          0.2704043535
                        ],
                        "iteration": 330,
                        "passed_time": 23.70343558,
                        "remaining_time": 43.39662224
                      },
                      {
                        "learn": [
                          0.2703498132
                        ],
                        "iteration": 331,
                        "passed_time": 23.77683896,
                        "remaining_time": 43.32827582
                      },
                      {
                        "learn": [
                          0.2702946461
                        ],
                        "iteration": 332,
                        "passed_time": 23.84419478,
                        "remaining_time": 43.24892988
                      },
                      {
                        "learn": [
                          0.2702413088
                        ],
                        "iteration": 333,
                        "passed_time": 23.93390308,
                        "remaining_time": 43.21001066
                      },
                      {
                        "learn": [
                          0.2701923429
                        ],
                        "iteration": 334,
                        "passed_time": 24.01265663,
                        "remaining_time": 43.15110236
                      },
                      {
                        "learn": [
                          0.2700794332
                        ],
                        "iteration": 335,
                        "passed_time": 24.08586243,
                        "remaining_time": 43.08215274
                      },
                      {
                        "learn": [
                          0.2700505959
                        ],
                        "iteration": 336,
                        "passed_time": 24.15594152,
                        "remaining_time": 43.00761102
                      },
                      {
                        "learn": [
                          0.269989668
                        ],
                        "iteration": 337,
                        "passed_time": 24.22904163,
                        "remaining_time": 42.93844951
                      },
                      {
                        "learn": [
                          0.2699592041
                        ],
                        "iteration": 338,
                        "passed_time": 24.29072499,
                        "remaining_time": 42.8491255
                      },
                      {
                        "learn": [
                          0.2698884831
                        ],
                        "iteration": 339,
                        "passed_time": 24.37510685,
                        "remaining_time": 42.79981998
                      },
                      {
                        "learn": [
                          0.2698358574
                        ],
                        "iteration": 340,
                        "passed_time": 24.44038586,
                        "remaining_time": 42.71692075
                      },
                      {
                        "learn": [
                          0.2698008527
                        ],
                        "iteration": 341,
                        "passed_time": 24.50529469,
                        "remaining_time": 42.63348052
                      },
                      {
                        "learn": [
                          0.2697672374
                        ],
                        "iteration": 342,
                        "passed_time": 24.57281733,
                        "remaining_time": 42.55467491
                      },
                      {
                        "learn": [
                          0.269710647
                        ],
                        "iteration": 343,
                        "passed_time": 24.63315887,
                        "remaining_time": 42.46355584
                      },
                      {
                        "learn": [
                          0.2696881972
                        ],
                        "iteration": 344,
                        "passed_time": 24.69790682,
                        "remaining_time": 42.38017634
                      },
                      {
                        "learn": [
                          0.2696151211
                        ],
                        "iteration": 345,
                        "passed_time": 24.77279936,
                        "remaining_time": 42.31423244
                      },
                      {
                        "learn": [
                          0.2695488392
                        ],
                        "iteration": 346,
                        "passed_time": 24.84610441,
                        "remaining_time": 42.24553776
                      },
                      {
                        "learn": [
                          0.269504431
                        ],
                        "iteration": 347,
                        "passed_time": 24.9201743,
                        "remaining_time": 42.17811111
                      },
                      {
                        "learn": [
                          0.2694786773
                        ],
                        "iteration": 348,
                        "passed_time": 24.98684674,
                        "remaining_time": 42.09818305
                      },
                      {
                        "learn": [
                          0.2694348282
                        ],
                        "iteration": 349,
                        "passed_time": 25.05895123,
                        "remaining_time": 42.02744107
                      },
                      {
                        "learn": [
                          0.2693859809
                        ],
                        "iteration": 350,
                        "passed_time": 25.13605571,
                        "remaining_time": 41.96503887
                      },
                      {
                        "learn": [
                          0.2693298141
                        ],
                        "iteration": 351,
                        "passed_time": 25.20764202,
                        "remaining_time": 41.89338233
                      },
                      {
                        "learn": [
                          0.269305077
                        ],
                        "iteration": 352,
                        "passed_time": 25.29984674,
                        "remaining_time": 41.8558371
                      },
                      {
                        "learn": [
                          0.2692836269
                        ],
                        "iteration": 353,
                        "passed_time": 25.35943924,
                        "remaining_time": 41.76427423
                      },
                      {
                        "learn": [
                          0.269219124
                        ],
                        "iteration": 354,
                        "passed_time": 25.43063327,
                        "remaining_time": 41.69191145
                      },
                      {
                        "learn": [
                          0.2691315953
                        ],
                        "iteration": 355,
                        "passed_time": 25.49763822,
                        "remaining_time": 41.61271856
                      },
                      {
                        "learn": [
                          0.2691014025
                        ],
                        "iteration": 356,
                        "passed_time": 25.56840011,
                        "remaining_time": 41.53969765
                      },
                      {
                        "learn": [
                          0.2690820872
                        ],
                        "iteration": 357,
                        "passed_time": 25.64369748,
                        "remaining_time": 41.47402469
                      },
                      {
                        "learn": [
                          0.2690469809
                        ],
                        "iteration": 358,
                        "passed_time": 25.70876456,
                        "remaining_time": 41.39182706
                      },
                      {
                        "learn": [
                          0.2689909666
                        ],
                        "iteration": 359,
                        "passed_time": 25.78032659,
                        "remaining_time": 41.32013456
                      },
                      {
                        "learn": [
                          0.2689400183
                        ],
                        "iteration": 360,
                        "passed_time": 25.83702256,
                        "remaining_time": 41.22472298
                      },
                      {
                        "learn": [
                          0.2688929839
                        ],
                        "iteration": 361,
                        "passed_time": 25.89670771,
                        "remaining_time": 41.1342733
                      },
                      {
                        "learn": [
                          0.2688063023
                        ],
                        "iteration": 362,
                        "passed_time": 25.96008075,
                        "remaining_time": 41.04982466
                      },
                      {
                        "learn": [
                          0.2687367504
                        ],
                        "iteration": 363,
                        "passed_time": 26.02578732,
                        "remaining_time": 40.9691652
                      },
                      {
                        "learn": [
                          0.2686924439
                        ],
                        "iteration": 364,
                        "passed_time": 26.09088338,
                        "remaining_time": 40.88763094
                      },
                      {
                        "learn": [
                          0.268649442
                        ],
                        "iteration": 365,
                        "passed_time": 26.15331426,
                        "remaining_time": 40.80202853
                      },
                      {
                        "learn": [
                          0.268614217
                        ],
                        "iteration": 366,
                        "passed_time": 26.22043751,
                        "remaining_time": 40.72384028
                      },
                      {
                        "learn": [
                          0.2685499683
                        ],
                        "iteration": 367,
                        "passed_time": 26.29224408,
                        "remaining_time": 40.65295349
                      },
                      {
                        "learn": [
                          0.2684865667
                        ],
                        "iteration": 368,
                        "passed_time": 26.35680588,
                        "remaining_time": 40.57090987
                      },
                      {
                        "learn": [
                          0.2684623888
                        ],
                        "iteration": 369,
                        "passed_time": 26.4257387,
                        "remaining_time": 40.49565903
                      },
                      {
                        "learn": [
                          0.2683890924
                        ],
                        "iteration": 370,
                        "passed_time": 26.49259944,
                        "remaining_time": 40.41728109
                      },
                      {
                        "learn": [
                          0.2683477678
                        ],
                        "iteration": 371,
                        "passed_time": 26.55622663,
                        "remaining_time": 40.33405389
                      },
                      {
                        "learn": [
                          0.2683019195
                        ],
                        "iteration": 372,
                        "passed_time": 26.61420349,
                        "remaining_time": 40.24238812
                      },
                      {
                        "learn": [
                          0.2682442617
                        ],
                        "iteration": 373,
                        "passed_time": 26.69670782,
                        "remaining_time": 40.18782488
                      },
                      {
                        "learn": [
                          0.2682064105
                        ],
                        "iteration": 374,
                        "passed_time": 26.77055886,
                        "remaining_time": 40.12014421
                      },
                      {
                        "learn": [
                          0.2681457368
                        ],
                        "iteration": 375,
                        "passed_time": 26.840209,
                        "remaining_time": 40.0461629
                      },
                      {
                        "learn": [
                          0.2681022944
                        ],
                        "iteration": 376,
                        "passed_time": 26.9056722,
                        "remaining_time": 39.96598522
                      },
                      {
                        "learn": [
                          0.2680370969
                        ],
                        "iteration": 377,
                        "passed_time": 26.96871705,
                        "remaining_time": 39.88230908
                      },
                      {
                        "learn": [
                          0.2680011094
                        ],
                        "iteration": 378,
                        "passed_time": 27.04532262,
                        "remaining_time": 39.81870719
                      },
                      {
                        "learn": [
                          0.2679727295
                        ],
                        "iteration": 379,
                        "passed_time": 27.11912426,
                        "remaining_time": 39.75092687
                      },
                      {
                        "learn": [
                          0.2679290838
                        ],
                        "iteration": 380,
                        "passed_time": 27.1832811,
                        "remaining_time": 39.66904013
                      },
                      {
                        "learn": [
                          0.2678807448
                        ],
                        "iteration": 381,
                        "passed_time": 27.2456059,
                        "remaining_time": 39.58458449
                      },
                      {
                        "learn": [
                          0.2677928433
                        ],
                        "iteration": 382,
                        "passed_time": 27.30344281,
                        "remaining_time": 39.49375278
                      },
                      {
                        "learn": [
                          0.2677527726
                        ],
                        "iteration": 383,
                        "passed_time": 27.36329338,
                        "remaining_time": 39.4059928
                      },
                      {
                        "learn": [
                          0.267726985
                        ],
                        "iteration": 384,
                        "passed_time": 27.43798237,
                        "remaining_time": 39.33965265
                      },
                      {
                        "learn": [
                          0.2676778835
                        ],
                        "iteration": 385,
                        "passed_time": 27.51053349,
                        "remaining_time": 39.27021749
                      },
                      {
                        "learn": [
                          0.2676278671
                        ],
                        "iteration": 386,
                        "passed_time": 27.58022346,
                        "remaining_time": 39.1967
                      },
                      {
                        "learn": [
                          0.2676075861
                        ],
                        "iteration": 387,
                        "passed_time": 27.66276787,
                        "remaining_time": 39.14139062
                      },
                      {
                        "learn": [
                          0.2675778846
                        ],
                        "iteration": 388,
                        "passed_time": 27.73243572,
                        "remaining_time": 39.06780148
                      },
                      {
                        "learn": [
                          0.2675339339
                        ],
                        "iteration": 389,
                        "passed_time": 27.80504654,
                        "remaining_time": 38.99836015
                      },
                      {
                        "learn": [
                          0.267493321
                        ],
                        "iteration": 390,
                        "passed_time": 27.8834071,
                        "remaining_time": 38.93693165
                      },
                      {
                        "learn": [
                          0.2674638737
                        ],
                        "iteration": 391,
                        "passed_time": 27.95407831,
                        "remaining_time": 38.86472622
                      },
                      {
                        "learn": [
                          0.2674131118
                        ],
                        "iteration": 392,
                        "passed_time": 28.02714179,
                        "remaining_time": 38.79584004
                      },
                      {
                        "learn": [
                          0.2673852571
                        ],
                        "iteration": 393,
                        "passed_time": 28.09614856,
                        "remaining_time": 38.72134179
                      },
                      {
                        "learn": [
                          0.2673644
                        ],
                        "iteration": 394,
                        "passed_time": 28.16761903,
                        "remaining_time": 38.65025194
                      },
                      {
                        "learn": [
                          0.2672695857
                        ],
                        "iteration": 395,
                        "passed_time": 28.22522431,
                        "remaining_time": 38.56021806
                      },
                      {
                        "learn": [
                          0.2672069466
                        ],
                        "iteration": 396,
                        "passed_time": 28.29828568,
                        "remaining_time": 38.49137095
                      },
                      {
                        "learn": [
                          0.2671817859
                        ],
                        "iteration": 397,
                        "passed_time": 28.37607863,
                        "remaining_time": 38.42891051
                      },
                      {
                        "learn": [
                          0.2671644191
                        ],
                        "iteration": 398,
                        "passed_time": 28.44203305,
                        "remaining_time": 38.35041047
                      },
                      {
                        "learn": [
                          0.2671324472
                        ],
                        "iteration": 399,
                        "passed_time": 28.50555339,
                        "remaining_time": 38.26870543
                      },
                      {
                        "learn": [
                          0.2671060836
                        ],
                        "iteration": 400,
                        "passed_time": 28.58615561,
                        "remaining_time": 38.20992371
                      },
                      {
                        "learn": [
                          0.2670739253
                        ],
                        "iteration": 401,
                        "passed_time": 28.65126438,
                        "remaining_time": 38.13041403
                      },
                      {
                        "learn": [
                          0.267023892
                        ],
                        "iteration": 402,
                        "passed_time": 28.72753078,
                        "remaining_time": 38.06576039
                      },
                      {
                        "learn": [
                          0.2669950546
                        ],
                        "iteration": 403,
                        "passed_time": 28.81148817,
                        "remaining_time": 38.01119603
                      },
                      {
                        "learn": [
                          0.2669649804
                        ],
                        "iteration": 404,
                        "passed_time": 28.87381761,
                        "remaining_time": 37.92807647
                      },
                      {
                        "learn": [
                          0.2669198267
                        ],
                        "iteration": 405,
                        "passed_time": 28.94703502,
                        "remaining_time": 37.85929949
                      },
                      {
                        "learn": [
                          0.26689675
                        ],
                        "iteration": 406,
                        "passed_time": 29.00990568,
                        "remaining_time": 37.77702705
                      },
                      {
                        "learn": [
                          0.2668387025
                        ],
                        "iteration": 407,
                        "passed_time": 29.07732711,
                        "remaining_time": 37.7007501
                      },
                      {
                        "learn": [
                          0.2667717598
                        ],
                        "iteration": 408,
                        "passed_time": 29.14526765,
                        "remaining_time": 37.6251866
                      },
                      {
                        "learn": [
                          0.2667489882
                        ],
                        "iteration": 409,
                        "passed_time": 29.20957536,
                        "remaining_time": 37.54499077
                      },
                      {
                        "learn": [
                          0.2666743702
                        ],
                        "iteration": 410,
                        "passed_time": 29.28419662,
                        "remaining_time": 37.47807159
                      },
                      {
                        "learn": [
                          0.2665790137
                        ],
                        "iteration": 411,
                        "passed_time": 29.35766102,
                        "remaining_time": 37.40964086
                      },
                      {
                        "learn": [
                          0.2665136976
                        ],
                        "iteration": 412,
                        "passed_time": 29.42399955,
                        "remaining_time": 37.33214471
                      },
                      {
                        "learn": [
                          0.2664714412
                        ],
                        "iteration": 413,
                        "passed_time": 29.49895441,
                        "remaining_time": 37.26558734
                      },
                      {
                        "learn": [
                          0.2664283884
                        ],
                        "iteration": 414,
                        "passed_time": 29.57375921,
                        "remaining_time": 37.19880074
                      },
                      {
                        "learn": [
                          0.2663557359
                        ],
                        "iteration": 415,
                        "passed_time": 29.63279055,
                        "remaining_time": 37.11222086
                      },
                      {
                        "learn": [
                          0.2663304566
                        ],
                        "iteration": 416,
                        "passed_time": 29.70733504,
                        "remaining_time": 37.04511803
                      },
                      {
                        "learn": [
                          0.2663075324
                        ],
                        "iteration": 417,
                        "passed_time": 29.78627353,
                        "remaining_time": 36.98343532
                      },
                      {
                        "learn": [
                          0.2662775599
                        ],
                        "iteration": 418,
                        "passed_time": 29.84785779,
                        "remaining_time": 36.9002156
                      },
                      {
                        "learn": [
                          0.2662315929
                        ],
                        "iteration": 419,
                        "passed_time": 29.92217854,
                        "remaining_time": 36.83277691
                      },
                      {
                        "learn": [
                          0.2661773407
                        ],
                        "iteration": 420,
                        "passed_time": 29.99196307,
                        "remaining_time": 36.75974571
                      },
                      {
                        "learn": [
                          0.2661165992
                        ],
                        "iteration": 421,
                        "passed_time": 30.06523418,
                        "remaining_time": 36.69098484
                      },
                      {
                        "learn": [
                          0.2660715641
                        ],
                        "iteration": 422,
                        "passed_time": 30.13556318,
                        "remaining_time": 36.6186276
                      },
                      {
                        "learn": [
                          0.2660408291
                        ],
                        "iteration": 423,
                        "passed_time": 30.20222218,
                        "remaining_time": 36.54183957
                      },
                      {
                        "learn": [
                          0.2659985896
                        ],
                        "iteration": 424,
                        "passed_time": 30.27232201,
                        "remaining_time": 36.4692444
                      },
                      {
                        "learn": [
                          0.2659362386
                        ],
                        "iteration": 425,
                        "passed_time": 30.34767245,
                        "remaining_time": 36.4029592
                      },
                      {
                        "learn": [
                          0.2659054527
                        ],
                        "iteration": 426,
                        "passed_time": 30.41869466,
                        "remaining_time": 36.331462
                      },
                      {
                        "learn": [
                          0.2658772592
                        ],
                        "iteration": 427,
                        "passed_time": 30.48490937,
                        "remaining_time": 36.2542497
                      },
                      {
                        "learn": [
                          0.2658224479
                        ],
                        "iteration": 428,
                        "passed_time": 30.54421259,
                        "remaining_time": 36.16890442
                      },
                      {
                        "learn": [
                          0.2657933055
                        ],
                        "iteration": 429,
                        "passed_time": 30.61030925,
                        "remaining_time": 36.0916902
                      },
                      {
                        "learn": [
                          0.2657407307
                        ],
                        "iteration": 430,
                        "passed_time": 30.67257783,
                        "remaining_time": 36.01003337
                      },
                      {
                        "learn": [
                          0.2657185012
                        ],
                        "iteration": 431,
                        "passed_time": 30.73188991,
                        "remaining_time": 35.9250102
                      },
                      {
                        "learn": [
                          0.2656727545
                        ],
                        "iteration": 432,
                        "passed_time": 30.79999538,
                        "remaining_time": 35.85034104
                      },
                      {
                        "learn": [
                          0.2656397999
                        ],
                        "iteration": 433,
                        "passed_time": 30.86281616,
                        "remaining_time": 35.76957726
                      },
                      {
                        "learn": [
                          0.2656124197
                        ],
                        "iteration": 434,
                        "passed_time": 30.9265447,
                        "remaining_time": 35.68994354
                      },
                      {
                        "learn": [
                          0.2655393774
                        ],
                        "iteration": 435,
                        "passed_time": 30.99154272,
                        "remaining_time": 35.61184152
                      },
                      {
                        "learn": [
                          0.2655180628
                        ],
                        "iteration": 436,
                        "passed_time": 31.07561179,
                        "remaining_time": 35.55561989
                      },
                      {
                        "learn": [
                          0.2654698255
                        ],
                        "iteration": 437,
                        "passed_time": 31.15094017,
                        "remaining_time": 35.48931312
                      },
                      {
                        "learn": [
                          0.2654190297
                        ],
                        "iteration": 438,
                        "passed_time": 31.20829288,
                        "remaining_time": 35.4025737
                      },
                      {
                        "learn": [
                          0.2653550859
                        ],
                        "iteration": 439,
                        "passed_time": 31.28095845,
                        "remaining_time": 35.33326443
                      },
                      {
                        "learn": [
                          0.265298377
                        ],
                        "iteration": 440,
                        "passed_time": 31.35861401,
                        "remaining_time": 35.26955226
                      },
                      {
                        "learn": [
                          0.2652788753
                        ],
                        "iteration": 441,
                        "passed_time": 31.43656485,
                        "remaining_time": 35.20610769
                      },
                      {
                        "learn": [
                          0.2652326542
                        ],
                        "iteration": 442,
                        "passed_time": 31.51308727,
                        "remaining_time": 35.14100477
                      },
                      {
                        "learn": [
                          0.2651994455
                        ],
                        "iteration": 443,
                        "passed_time": 31.59236772,
                        "remaining_time": 35.0789128
                      },
                      {
                        "learn": [
                          0.2651507676
                        ],
                        "iteration": 444,
                        "passed_time": 31.66466282,
                        "remaining_time": 35.00902047
                      },
                      {
                        "learn": [
                          0.2651062747
                        ],
                        "iteration": 445,
                        "passed_time": 31.73858417,
                        "remaining_time": 34.94090768
                      },
                      {
                        "learn": [
                          0.2650713039
                        ],
                        "iteration": 446,
                        "passed_time": 31.80947913,
                        "remaining_time": 34.86945139
                      },
                      {
                        "learn": [
                          0.2650004473
                        ],
                        "iteration": 447,
                        "passed_time": 31.8719137,
                        "remaining_time": 34.78876294
                      },
                      {
                        "learn": [
                          0.2649829958
                        ],
                        "iteration": 448,
                        "passed_time": 31.94185426,
                        "remaining_time": 34.71631376
                      },
                      {
                        "learn": [
                          0.2649653579
                        ],
                        "iteration": 449,
                        "passed_time": 32.00960865,
                        "remaining_time": 34.64150981
                      },
                      {
                        "learn": [
                          0.2649350126
                        ],
                        "iteration": 450,
                        "passed_time": 32.07508726,
                        "remaining_time": 34.56428472
                      },
                      {
                        "learn": [
                          0.2649062091
                        ],
                        "iteration": 451,
                        "passed_time": 32.13701827,
                        "remaining_time": 34.48330501
                      },
                      {
                        "learn": [
                          0.264848941
                        ],
                        "iteration": 452,
                        "passed_time": 32.21022174,
                        "remaining_time": 34.41445325
                      },
                      {
                        "learn": [
                          0.2648278297
                        ],
                        "iteration": 453,
                        "passed_time": 32.2875288,
                        "remaining_time": 34.34994804
                      },
                      {
                        "learn": [
                          0.2647798635
                        ],
                        "iteration": 454,
                        "passed_time": 32.34672725,
                        "remaining_time": 34.26620337
                      },
                      {
                        "learn": [
                          0.2647554991
                        ],
                        "iteration": 455,
                        "passed_time": 32.41167962,
                        "remaining_time": 34.18863574
                      },
                      {
                        "learn": [
                          0.2647206977
                        ],
                        "iteration": 456,
                        "passed_time": 32.47549272,
                        "remaining_time": 34.10992671
                      },
                      {
                        "learn": [
                          0.2646684279
                        ],
                        "iteration": 457,
                        "passed_time": 32.54896543,
                        "remaining_time": 34.04138524
                      },
                      {
                        "learn": [
                          0.264633474
                        ],
                        "iteration": 458,
                        "passed_time": 32.61305533,
                        "remaining_time": 33.96305109
                      },
                      {
                        "learn": [
                          0.2645975035
                        ],
                        "iteration": 459,
                        "passed_time": 32.68022693,
                        "remaining_time": 33.88797444
                      },
                      {
                        "learn": [
                          0.2645362029
                        ],
                        "iteration": 460,
                        "passed_time": 32.75108503,
                        "remaining_time": 33.81673856
                      },
                      {
                        "learn": [
                          0.2645090091
                        ],
                        "iteration": 461,
                        "passed_time": 32.8249114,
                        "remaining_time": 33.74855609
                      },
                      {
                        "learn": [
                          0.264482171
                        ],
                        "iteration": 462,
                        "passed_time": 32.91158416,
                        "remaining_time": 33.69350084
                      },
                      {
                        "learn": [
                          0.2644372375
                        ],
                        "iteration": 463,
                        "passed_time": 32.97264928,
                        "remaining_time": 33.61220498
                      },
                      {
                        "learn": [
                          0.2643861198
                        ],
                        "iteration": 464,
                        "passed_time": 33.04271944,
                        "remaining_time": 33.54013672
                      },
                      {
                        "learn": [
                          0.2643639412
                        ],
                        "iteration": 465,
                        "passed_time": 33.10667796,
                        "remaining_time": 33.46189983
                      },
                      {
                        "learn": [
                          0.2643512676
                        ],
                        "iteration": 466,
                        "passed_time": 33.1809277,
                        "remaining_time": 33.39408141
                      },
                      {
                        "learn": [
                          0.2643091637
                        ],
                        "iteration": 467,
                        "passed_time": 33.24639647,
                        "remaining_time": 33.31743578
                      },
                      {
                        "learn": [
                          0.2642846807
                        ],
                        "iteration": 468,
                        "passed_time": 33.32638545,
                        "remaining_time": 33.25532706
                      },
                      {
                        "learn": [
                          0.2642322415
                        ],
                        "iteration": 469,
                        "passed_time": 33.38978342,
                        "remaining_time": 33.17665714
                      },
                      {
                        "learn": [
                          0.2641890024
                        ],
                        "iteration": 470,
                        "passed_time": 33.4539691,
                        "remaining_time": 33.09883142
                      },
                      {
                        "learn": [
                          0.2641632487
                        ],
                        "iteration": 471,
                        "passed_time": 33.51843769,
                        "remaining_time": 33.02134221
                      },
                      {
                        "learn": [
                          0.2641379863
                        ],
                        "iteration": 472,
                        "passed_time": 33.58664601,
                        "remaining_time": 32.94757663
                      },
                      {
                        "learn": [
                          0.2640830903
                        ],
                        "iteration": 473,
                        "passed_time": 33.65166726,
                        "remaining_time": 32.8707214
                      },
                      {
                        "learn": [
                          0.2640165881
                        ],
                        "iteration": 474,
                        "passed_time": 33.70702787,
                        "remaining_time": 32.78451974
                      },
                      {
                        "learn": [
                          0.2639895467
                        ],
                        "iteration": 475,
                        "passed_time": 33.77261455,
                        "remaining_time": 32.70835148
                      },
                      {
                        "learn": [
                          0.2639606246
                        ],
                        "iteration": 476,
                        "passed_time": 33.83591487,
                        "remaining_time": 32.63002273
                      },
                      {
                        "learn": [
                          0.2639046103
                        ],
                        "iteration": 477,
                        "passed_time": 33.89956115,
                        "remaining_time": 32.55208905
                      },
                      {
                        "learn": [
                          0.2638840751
                        ],
                        "iteration": 478,
                        "passed_time": 33.96386614,
                        "remaining_time": 32.47484487
                      },
                      {
                        "learn": [
                          0.2638666914
                        ],
                        "iteration": 479,
                        "passed_time": 34.02809147,
                        "remaining_time": 32.39757876
                      },
                      {
                        "learn": [
                          0.2638410393
                        ],
                        "iteration": 480,
                        "passed_time": 34.10732444,
                        "remaining_time": 32.33459448
                      },
                      {
                        "learn": [
                          0.26381188
                        ],
                        "iteration": 481,
                        "passed_time": 34.18908447,
                        "remaining_time": 32.27392829
                      },
                      {
                        "learn": [
                          0.263779959
                        ],
                        "iteration": 482,
                        "passed_time": 34.25965814,
                        "remaining_time": 32.20266003
                      },
                      {
                        "learn": [
                          0.2637376857
                        ],
                        "iteration": 483,
                        "passed_time": 34.33733906,
                        "remaining_time": 32.13804668
                      },
                      {
                        "learn": [
                          0.2637030029
                        ],
                        "iteration": 484,
                        "passed_time": 34.41173045,
                        "remaining_time": 32.07031374
                      },
                      {
                        "learn": [
                          0.263652817
                        ],
                        "iteration": 485,
                        "passed_time": 34.48141555,
                        "remaining_time": 31.99818604
                      },
                      {
                        "learn": [
                          0.263597311
                        ],
                        "iteration": 486,
                        "passed_time": 34.54462444,
                        "remaining_time": 31.92008418
                      },
                      {
                        "learn": [
                          0.2635653731
                        ],
                        "iteration": 487,
                        "passed_time": 34.61287564,
                        "remaining_time": 31.84668271
                      },
                      {
                        "learn": [
                          0.2635435332
                        ],
                        "iteration": 488,
                        "passed_time": 34.68736178,
                        "remaining_time": 31.77901447
                      },
                      {
                        "learn": [
                          0.2634980237
                        ],
                        "iteration": 489,
                        "passed_time": 34.74688421,
                        "remaining_time": 31.69766784
                      },
                      {
                        "learn": [
                          0.263474981
                        ],
                        "iteration": 490,
                        "passed_time": 34.82380488,
                        "remaining_time": 31.6322138
                      },
                      {
                        "learn": [
                          0.2634380786
                        ],
                        "iteration": 491,
                        "passed_time": 34.89910906,
                        "remaining_time": 31.56525108
                      },
                      {
                        "learn": [
                          0.2633969405
                        ],
                        "iteration": 492,
                        "passed_time": 34.96177997,
                        "remaining_time": 31.48687689
                      },
                      {
                        "learn": [
                          0.2633670526
                        ],
                        "iteration": 493,
                        "passed_time": 35.02522518,
                        "remaining_time": 31.40926064
                      },
                      {
                        "learn": [
                          0.263317104
                        ],
                        "iteration": 494,
                        "passed_time": 35.08680998,
                        "remaining_time": 31.33004043
                      },
                      {
                        "learn": [
                          0.2632972465
                        ],
                        "iteration": 495,
                        "passed_time": 35.1643905,
                        "remaining_time": 31.26511333
                      },
                      {
                        "learn": [
                          0.2632509746
                        ],
                        "iteration": 496,
                        "passed_time": 35.23206457,
                        "remaining_time": 31.19136501
                      },
                      {
                        "learn": [
                          0.2632047535
                        ],
                        "iteration": 497,
                        "passed_time": 35.30409755,
                        "remaining_time": 31.12148358
                      },
                      {
                        "learn": [
                          0.2631726291
                        ],
                        "iteration": 498,
                        "passed_time": 35.37154749,
                        "remaining_time": 31.04757075
                      },
                      {
                        "learn": [
                          0.2631430293
                        ],
                        "iteration": 499,
                        "passed_time": 35.44436522,
                        "remaining_time": 30.9783752
                      },
                      {
                        "learn": [
                          0.2631114979
                        ],
                        "iteration": 500,
                        "passed_time": 35.51542555,
                        "remaining_time": 30.90763581
                      },
                      {
                        "learn": [
                          0.2630704784
                        ],
                        "iteration": 501,
                        "passed_time": 35.58986745,
                        "remaining_time": 30.83982538
                      },
                      {
                        "learn": [
                          0.2630402517
                        ],
                        "iteration": 502,
                        "passed_time": 35.67274988,
                        "remaining_time": 30.77927127
                      },
                      {
                        "learn": [
                          0.2629557389
                        ],
                        "iteration": 503,
                        "passed_time": 35.74457275,
                        "remaining_time": 30.70912699
                      },
                      {
                        "learn": [
                          0.2629292905
                        ],
                        "iteration": 504,
                        "passed_time": 35.80705323,
                        "remaining_time": 30.63098415
                      },
                      {
                        "learn": [
                          0.2629036893
                        ],
                        "iteration": 505,
                        "passed_time": 35.8799453,
                        "remaining_time": 30.56177159
                      },
                      {
                        "learn": [
                          0.2628811548
                        ],
                        "iteration": 506,
                        "passed_time": 35.94717571,
                        "remaining_time": 30.48774272
                      },
                      {
                        "learn": [
                          0.2628519108
                        ],
                        "iteration": 507,
                        "passed_time": 36.02823985,
                        "remaining_time": 30.42542302
                      },
                      {
                        "learn": [
                          0.2628192781
                        ],
                        "iteration": 508,
                        "passed_time": 36.10726584,
                        "remaining_time": 30.36131588
                      },
                      {
                        "learn": [
                          0.26278917
                        ],
                        "iteration": 509,
                        "passed_time": 36.16643846,
                        "remaining_time": 30.28052789
                      },
                      {
                        "learn": [
                          0.26276589
                        ],
                        "iteration": 510,
                        "passed_time": 36.23385616,
                        "remaining_time": 30.20669809
                      },
                      {
                        "learn": [
                          0.2627323594
                        ],
                        "iteration": 511,
                        "passed_time": 36.30291915,
                        "remaining_time": 30.13425906
                      },
                      {
                        "learn": [
                          0.262672482
                        ],
                        "iteration": 512,
                        "passed_time": 36.3774456,
                        "remaining_time": 30.0663488
                      },
                      {
                        "learn": [
                          0.2626541664
                        ],
                        "iteration": 513,
                        "passed_time": 36.44631616,
                        "remaining_time": 29.99375824
                      },
                      {
                        "learn": [
                          0.2626179079
                        ],
                        "iteration": 514,
                        "passed_time": 36.52475382,
                        "remaining_time": 29.92902157
                      },
                      {
                        "learn": [
                          0.2625928489
                        ],
                        "iteration": 515,
                        "passed_time": 36.59358789,
                        "remaining_time": 29.85639632
                      },
                      {
                        "learn": [
                          0.2625565565
                        ],
                        "iteration": 516,
                        "passed_time": 36.66067166,
                        "remaining_time": 29.78236383
                      },
                      {
                        "learn": [
                          0.2624854797
                        ],
                        "iteration": 517,
                        "passed_time": 36.72309211,
                        "remaining_time": 29.70458609
                      },
                      {
                        "learn": [
                          0.2624605053
                        ],
                        "iteration": 518,
                        "passed_time": 36.78987746,
                        "remaining_time": 29.63038301
                      },
                      {
                        "learn": [
                          0.2624290418
                        ],
                        "iteration": 519,
                        "passed_time": 36.87091797,
                        "remaining_time": 29.56763999
                      },
                      {
                        "learn": [
                          0.2624100315
                        ],
                        "iteration": 520,
                        "passed_time": 36.93033542,
                        "remaining_time": 29.48756149
                      },
                      {
                        "learn": [
                          0.2623757892
                        ],
                        "iteration": 521,
                        "passed_time": 36.99332407,
                        "remaining_time": 29.41040132
                      },
                      {
                        "learn": [
                          0.2623160813
                        ],
                        "iteration": 522,
                        "passed_time": 37.06902157,
                        "remaining_time": 29.34335551
                      },
                      {
                        "learn": [
                          0.2622696569
                        ],
                        "iteration": 523,
                        "passed_time": 37.13688297,
                        "remaining_time": 29.27010051
                      },
                      {
                        "learn": [
                          0.262229637
                        ],
                        "iteration": 524,
                        "passed_time": 37.20178998,
                        "remaining_time": 29.19454756
                      },
                      {
                        "learn": [
                          0.2622037308
                        ],
                        "iteration": 525,
                        "passed_time": 37.27306976,
                        "remaining_time": 29.12401458
                      },
                      {
                        "learn": [
                          0.2621736057
                        ],
                        "iteration": 526,
                        "passed_time": 37.34028703,
                        "remaining_time": 29.05031818
                      },
                      {
                        "learn": [
                          0.262156798
                        ],
                        "iteration": 527,
                        "passed_time": 37.40249224,
                        "remaining_time": 28.97276388
                      },
                      {
                        "learn": [
                          0.2621470726
                        ],
                        "iteration": 528,
                        "passed_time": 37.46672189,
                        "remaining_time": 28.89682898
                      },
                      {
                        "learn": [
                          0.2621329081
                        ],
                        "iteration": 529,
                        "passed_time": 37.54077091,
                        "remaining_time": 28.82847879
                      },
                      {
                        "learn": [
                          0.2621124237
                        ],
                        "iteration": 530,
                        "passed_time": 37.61839456,
                        "remaining_time": 28.76284029
                      },
                      {
                        "learn": [
                          0.2620920749
                        ],
                        "iteration": 531,
                        "passed_time": 37.69253767,
                        "remaining_time": 28.69450706
                      },
                      {
                        "learn": [
                          0.2620363995
                        ],
                        "iteration": 532,
                        "passed_time": 37.76704763,
                        "remaining_time": 28.6264301
                      },
                      {
                        "learn": [
                          0.2620089853
                        ],
                        "iteration": 533,
                        "passed_time": 37.8339696,
                        "remaining_time": 28.55260253
                      },
                      {
                        "learn": [
                          0.2619602058
                        ],
                        "iteration": 534,
                        "passed_time": 37.90119187,
                        "remaining_time": 28.47902641
                      },
                      {
                        "learn": [
                          0.2619023277
                        ],
                        "iteration": 535,
                        "passed_time": 37.98145478,
                        "remaining_time": 28.41523016
                      },
                      {
                        "learn": [
                          0.2618539379
                        ],
                        "iteration": 536,
                        "passed_time": 38.0456212,
                        "remaining_time": 28.33938265
                      },
                      {
                        "learn": [
                          0.2618192382
                        ],
                        "iteration": 537,
                        "passed_time": 38.11145613,
                        "remaining_time": 28.26481598
                      },
                      {
                        "learn": [
                          0.261788554
                        ],
                        "iteration": 538,
                        "passed_time": 38.17548365,
                        "remaining_time": 28.18894711
                      },
                      {
                        "learn": [
                          0.2617693912
                        ],
                        "iteration": 539,
                        "passed_time": 38.25847562,
                        "remaining_time": 28.12706448
                      },
                      {
                        "learn": [
                          0.2617433325
                        ],
                        "iteration": 540,
                        "passed_time": 38.32298501,
                        "remaining_time": 28.05157498
                      },
                      {
                        "learn": [
                          0.2617120384
                        ],
                        "iteration": 541,
                        "passed_time": 38.38702131,
                        "remaining_time": 27.97578121
                      },
                      {
                        "learn": [
                          0.2616863694
                        ],
                        "iteration": 542,
                        "passed_time": 38.45575109,
                        "remaining_time": 27.90343633
                      },
                      {
                        "learn": [
                          0.2616495856
                        ],
                        "iteration": 543,
                        "passed_time": 38.53296113,
                        "remaining_time": 27.83723111
                      },
                      {
                        "learn": [
                          0.261622019
                        ],
                        "iteration": 544,
                        "passed_time": 38.5965756,
                        "remaining_time": 27.76120667
                      },
                      {
                        "learn": [
                          0.2615728159
                        ],
                        "iteration": 545,
                        "passed_time": 38.65589441,
                        "remaining_time": 27.68215149
                      },
                      {
                        "learn": [
                          0.2615403357
                        ],
                        "iteration": 546,
                        "passed_time": 38.73980071,
                        "remaining_time": 27.62069886
                      },
                      {
                        "learn": [
                          0.2615228842
                        ],
                        "iteration": 547,
                        "passed_time": 38.81017593,
                        "remaining_time": 27.54955919
                      },
                      {
                        "learn": [
                          0.261471326
                        ],
                        "iteration": 548,
                        "passed_time": 38.8778997,
                        "remaining_time": 27.47654842
                      },
                      {
                        "learn": [
                          0.2614437254
                        ],
                        "iteration": 549,
                        "passed_time": 38.9451943,
                        "remaining_time": 27.4032549
                      },
                      {
                        "learn": [
                          0.2613925061
                        ],
                        "iteration": 550,
                        "passed_time": 39.0191807,
                        "remaining_time": 27.33467105
                      },
                      {
                        "learn": [
                          0.2613796462
                        ],
                        "iteration": 551,
                        "passed_time": 39.08418091,
                        "remaining_time": 27.25980009
                      },
                      {
                        "learn": [
                          0.2613508596
                        ],
                        "iteration": 552,
                        "passed_time": 39.16400076,
                        "remaining_time": 27.1952555
                      },
                      {
                        "learn": [
                          0.2613150586
                        ],
                        "iteration": 553,
                        "passed_time": 39.23123854,
                        "remaining_time": 27.12195733
                      },
                      {
                        "learn": [
                          0.2612883222
                        ],
                        "iteration": 554,
                        "passed_time": 39.2977495,
                        "remaining_time": 27.04818074
                      },
                      {
                        "learn": [
                          0.2612725819
                        ],
                        "iteration": 555,
                        "passed_time": 39.37060058,
                        "remaining_time": 26.97877486
                      },
                      {
                        "learn": [
                          0.2612317149
                        ],
                        "iteration": 556,
                        "passed_time": 39.44665952,
                        "remaining_time": 26.91154509
                      },
                      {
                        "learn": [
                          0.2612167879
                        ],
                        "iteration": 557,
                        "passed_time": 39.50592729,
                        "remaining_time": 26.83287893
                      },
                      {
                        "learn": [
                          0.2611670934
                        ],
                        "iteration": 558,
                        "passed_time": 39.5708957,
                        "remaining_time": 26.75813699
                      },
                      {
                        "learn": [
                          0.2611320548
                        ],
                        "iteration": 559,
                        "passed_time": 39.64377549,
                        "remaining_time": 26.688756
                      },
                      {
                        "learn": [
                          0.2610905778
                        ],
                        "iteration": 560,
                        "passed_time": 39.7057728,
                        "remaining_time": 26.61206876
                      },
                      {
                        "learn": [
                          0.2610650952
                        ],
                        "iteration": 561,
                        "passed_time": 39.783621,
                        "remaining_time": 26.54601045
                      },
                      {
                        "learn": [
                          0.2610474742
                        ],
                        "iteration": 562,
                        "passed_time": 39.85222756,
                        "remaining_time": 26.47377106
                      },
                      {
                        "learn": [
                          0.2610054381
                        ],
                        "iteration": 563,
                        "passed_time": 39.91882227,
                        "remaining_time": 26.40021402
                      },
                      {
                        "learn": [
                          0.2609806163
                        ],
                        "iteration": 564,
                        "passed_time": 40.00606676,
                        "remaining_time": 26.34027758
                      },
                      {
                        "learn": [
                          0.2609466451
                        ],
                        "iteration": 565,
                        "passed_time": 40.07899391,
                        "remaining_time": 26.27085997
                      },
                      {
                        "learn": [
                          0.2609175197
                        ],
                        "iteration": 566,
                        "passed_time": 40.15450503,
                        "remaining_time": 26.20311615
                      },
                      {
                        "learn": [
                          0.260892647
                        ],
                        "iteration": 567,
                        "passed_time": 40.2281926,
                        "remaining_time": 26.13416033
                      },
                      {
                        "learn": [
                          0.2608692146
                        ],
                        "iteration": 568,
                        "passed_time": 40.30490885,
                        "remaining_time": 26.06714667
                      },
                      {
                        "learn": [
                          0.2608221971
                        ],
                        "iteration": 569,
                        "passed_time": 40.37066797,
                        "remaining_time": 25.99304411
                      },
                      {
                        "learn": [
                          0.2607878193
                        ],
                        "iteration": 570,
                        "passed_time": 40.4337066,
                        "remaining_time": 25.917227
                      },
                      {
                        "learn": [
                          0.2607566438
                        ],
                        "iteration": 571,
                        "passed_time": 40.51078011,
                        "remaining_time": 25.85041038
                      },
                      {
                        "learn": [
                          0.2607220965
                        ],
                        "iteration": 572,
                        "passed_time": 40.57766947,
                        "remaining_time": 25.77708846
                      },
                      {
                        "learn": [
                          0.2606865158
                        ],
                        "iteration": 573,
                        "passed_time": 40.64549433,
                        "remaining_time": 25.70438056
                      },
                      {
                        "learn": [
                          0.2606629816
                        ],
                        "iteration": 574,
                        "passed_time": 40.71528476,
                        "remaining_time": 25.6329271
                      },
                      {
                        "learn": [
                          0.2606393797
                        ],
                        "iteration": 575,
                        "passed_time": 40.77957106,
                        "remaining_time": 25.55802978
                      },
                      {
                        "learn": [
                          0.2606151848
                        ],
                        "iteration": 576,
                        "passed_time": 40.84907757,
                        "remaining_time": 25.48642622
                      },
                      {
                        "learn": [
                          0.2605871099
                        ],
                        "iteration": 577,
                        "passed_time": 40.9086136,
                        "remaining_time": 25.40863717
                      },
                      {
                        "learn": [
                          0.2605503431
                        ],
                        "iteration": 578,
                        "passed_time": 40.98175822,
                        "remaining_time": 25.33932546
                      },
                      {
                        "learn": [
                          0.2605280119
                        ],
                        "iteration": 579,
                        "passed_time": 41.04960058,
                        "remaining_time": 25.26673691
                      },
                      {
                        "learn": [
                          0.2604731667
                        ],
                        "iteration": 580,
                        "passed_time": 41.11223544,
                        "remaining_time": 25.19097387
                      },
                      {
                        "learn": [
                          0.2604293346
                        ],
                        "iteration": 581,
                        "passed_time": 41.184072,
                        "remaining_time": 25.12086866
                      },
                      {
                        "learn": [
                          0.2604161697
                        ],
                        "iteration": 582,
                        "passed_time": 41.26432679,
                        "remaining_time": 25.0558691
                      },
                      {
                        "learn": [
                          0.2604028523
                        ],
                        "iteration": 583,
                        "passed_time": 41.3256676,
                        "remaining_time": 24.9793847
                      },
                      {
                        "learn": [
                          0.2603707788
                        ],
                        "iteration": 584,
                        "passed_time": 41.39294861,
                        "remaining_time": 24.90652634
                      },
                      {
                        "learn": [
                          0.2603519548
                        ],
                        "iteration": 585,
                        "passed_time": 41.46184584,
                        "remaining_time": 24.8346551
                      },
                      {
                        "learn": [
                          0.2603129346
                        ],
                        "iteration": 586,
                        "passed_time": 41.52826961,
                        "remaining_time": 24.76131919
                      },
                      {
                        "learn": [
                          0.2602821488
                        ],
                        "iteration": 587,
                        "passed_time": 41.60029186,
                        "remaining_time": 24.69132969
                      },
                      {
                        "learn": [
                          0.2602499736
                        ],
                        "iteration": 588,
                        "passed_time": 41.67007378,
                        "remaining_time": 24.62000964
                      },
                      {
                        "learn": [
                          0.2602019565
                        ],
                        "iteration": 589,
                        "passed_time": 41.73586859,
                        "remaining_time": 24.54634983
                      },
                      {
                        "learn": [
                          0.2601667823
                        ],
                        "iteration": 590,
                        "passed_time": 41.80267841,
                        "remaining_time": 24.47331088
                      },
                      {
                        "learn": [
                          0.2601384194
                        ],
                        "iteration": 591,
                        "passed_time": 41.87232566,
                        "remaining_time": 24.40194654
                      },
                      {
                        "learn": [
                          0.26010333
                        ],
                        "iteration": 592,
                        "passed_time": 41.94255845,
                        "remaining_time": 24.33092767
                      },
                      {
                        "learn": [
                          0.260077051
                        ],
                        "iteration": 593,
                        "passed_time": 42.01084264,
                        "remaining_time": 24.25878624
                      },
                      {
                        "learn": [
                          0.2600396404
                        ],
                        "iteration": 594,
                        "passed_time": 42.07752332,
                        "remaining_time": 24.18573609
                      },
                      {
                        "learn": [
                          0.260006923
                        ],
                        "iteration": 595,
                        "passed_time": 42.14949724,
                        "remaining_time": 24.11573584
                      },
                      {
                        "learn": [
                          0.2599768488
                        ],
                        "iteration": 596,
                        "passed_time": 42.21881878,
                        "remaining_time": 24.0442184
                      },
                      {
                        "learn": [
                          0.2599582451
                        ],
                        "iteration": 597,
                        "passed_time": 42.29006215,
                        "remaining_time": 23.97379777
                      },
                      {
                        "learn": [
                          0.2599134642
                        ],
                        "iteration": 598,
                        "passed_time": 42.36171248,
                        "remaining_time": 23.90360404
                      },
                      {
                        "learn": [
                          0.2598941828
                        ],
                        "iteration": 599,
                        "passed_time": 42.42262655,
                        "remaining_time": 23.82737525
                      },
                      {
                        "learn": [
                          0.2598789847
                        ],
                        "iteration": 600,
                        "passed_time": 42.50364901,
                        "remaining_time": 23.76243938
                      },
                      {
                        "learn": [
                          0.2598416757
                        ],
                        "iteration": 601,
                        "passed_time": 42.57449661,
                        "remaining_time": 23.69178798
                      },
                      {
                        "learn": [
                          0.2598300188
                        ],
                        "iteration": 602,
                        "passed_time": 42.64646032,
                        "remaining_time": 23.62175414
                      },
                      {
                        "learn": [
                          0.2598142955
                        ],
                        "iteration": 603,
                        "passed_time": 42.70991737,
                        "remaining_time": 23.54702398
                      },
                      {
                        "learn": [
                          0.2597854073
                        ],
                        "iteration": 604,
                        "passed_time": 42.77850246,
                        "remaining_time": 23.47514515
                      },
                      {
                        "learn": [
                          0.2597704295
                        ],
                        "iteration": 605,
                        "passed_time": 42.84291371,
                        "remaining_time": 23.40099742
                      },
                      {
                        "learn": [
                          0.2597514022
                        ],
                        "iteration": 606,
                        "passed_time": 42.9326641,
                        "remaining_time": 23.34065758
                      },
                      {
                        "learn": [
                          0.2597151945
                        ],
                        "iteration": 607,
                        "passed_time": 43.00439502,
                        "remaining_time": 23.27047033
                      },
                      {
                        "learn": [
                          0.2597023177
                        ],
                        "iteration": 608,
                        "passed_time": 43.07456678,
                        "remaining_time": 23.19943827
                      },
                      {
                        "learn": [
                          0.2596704305
                        ],
                        "iteration": 609,
                        "passed_time": 43.14664724,
                        "remaining_time": 23.12943221
                      },
                      {
                        "learn": [
                          0.2596517083
                        ],
                        "iteration": 610,
                        "passed_time": 43.2289665,
                        "remaining_time": 23.06488229
                      },
                      {
                        "learn": [
                          0.2596092655
                        ],
                        "iteration": 611,
                        "passed_time": 43.29630637,
                        "remaining_time": 22.99231956
                      },
                      {
                        "learn": [
                          0.2595677715
                        ],
                        "iteration": 612,
                        "passed_time": 43.35875623,
                        "remaining_time": 22.91718926
                      },
                      {
                        "learn": [
                          0.2595415265
                        ],
                        "iteration": 613,
                        "passed_time": 43.42591231,
                        "remaining_time": 22.84457602
                      },
                      {
                        "learn": [
                          0.2595066234
                        ],
                        "iteration": 614,
                        "passed_time": 43.50355495,
                        "remaining_time": 22.77747105
                      },
                      {
                        "learn": [
                          0.259480209
                        ],
                        "iteration": 615,
                        "passed_time": 43.57541856,
                        "remaining_time": 22.70732039
                      },
                      {
                        "learn": [
                          0.2594709241
                        ],
                        "iteration": 616,
                        "passed_time": 43.64978915,
                        "remaining_time": 22.63846439
                      },
                      {
                        "learn": [
                          0.2594369868
                        ],
                        "iteration": 617,
                        "passed_time": 43.7234278,
                        "remaining_time": 22.56921273
                      },
                      {
                        "learn": [
                          0.2593943237
                        ],
                        "iteration": 618,
                        "passed_time": 43.79301448,
                        "remaining_time": 22.49786528
                      },
                      {
                        "learn": [
                          0.2593445107
                        ],
                        "iteration": 619,
                        "passed_time": 43.85721326,
                        "remaining_time": 22.42376872
                      },
                      {
                        "learn": [
                          0.2593090316
                        ],
                        "iteration": 620,
                        "passed_time": 43.94450333,
                        "remaining_time": 22.36145419
                      },
                      {
                        "learn": [
                          0.2592909023
                        ],
                        "iteration": 621,
                        "passed_time": 44.01595605,
                        "remaining_time": 22.29103884
                      },
                      {
                        "learn": [
                          0.2592764836
                        ],
                        "iteration": 622,
                        "passed_time": 44.09505408,
                        "remaining_time": 22.22447348
                      },
                      {
                        "learn": [
                          0.2592543727
                        ],
                        "iteration": 623,
                        "passed_time": 44.17093431,
                        "remaining_time": 22.15625391
                      },
                      {
                        "learn": [
                          0.2592180973
                        ],
                        "iteration": 624,
                        "passed_time": 44.24660924,
                        "remaining_time": 22.08790733
                      },
                      {
                        "learn": [
                          0.2591789923
                        ],
                        "iteration": 625,
                        "passed_time": 44.31264365,
                        "remaining_time": 22.01474788
                      },
                      {
                        "learn": [
                          0.2591529506
                        ],
                        "iteration": 626,
                        "passed_time": 44.38190134,
                        "remaining_time": 21.94320481
                      },
                      {
                        "learn": [
                          0.2591228594
                        ],
                        "iteration": 627,
                        "passed_time": 44.45205575,
                        "remaining_time": 21.87211023
                      },
                      {
                        "learn": [
                          0.2590995963
                        ],
                        "iteration": 628,
                        "passed_time": 44.53373067,
                        "remaining_time": 21.80665985
                      },
                      {
                        "learn": [
                          0.2590752659
                        ],
                        "iteration": 629,
                        "passed_time": 44.59425763,
                        "remaining_time": 21.73085253
                      },
                      {
                        "learn": [
                          0.2590555101
                        ],
                        "iteration": 630,
                        "passed_time": 44.66190274,
                        "remaining_time": 21.65854555
                      },
                      {
                        "learn": [
                          0.2590143211
                        ],
                        "iteration": 631,
                        "passed_time": 44.7330491,
                        "remaining_time": 21.587943
                      },
                      {
                        "learn": [
                          0.2590013934
                        ],
                        "iteration": 632,
                        "passed_time": 44.79975482,
                        "remaining_time": 21.51520611
                      },
                      {
                        "learn": [
                          0.2589811801
                        ],
                        "iteration": 633,
                        "passed_time": 44.87223969,
                        "remaining_time": 21.4452502
                      },
                      {
                        "learn": [
                          0.2589524614
                        ],
                        "iteration": 634,
                        "passed_time": 44.94212526,
                        "remaining_time": 21.37405012
                      },
                      {
                        "learn": [
                          0.2589410078
                        ],
                        "iteration": 635,
                        "passed_time": 45.01744865,
                        "remaining_time": 21.30542774
                      },
                      {
                        "learn": [
                          0.2589270635
                        ],
                        "iteration": 636,
                        "passed_time": 45.07627222,
                        "remaining_time": 21.2290136
                      },
                      {
                        "learn": [
                          0.2589021569
                        ],
                        "iteration": 637,
                        "passed_time": 45.14353475,
                        "remaining_time": 21.15660955
                      },
                      {
                        "learn": [
                          0.2588918893
                        ],
                        "iteration": 638,
                        "passed_time": 45.22124733,
                        "remaining_time": 21.089095
                      },
                      {
                        "learn": [
                          0.2588655257
                        ],
                        "iteration": 639,
                        "passed_time": 45.28065338,
                        "remaining_time": 21.01305321
                      },
                      {
                        "learn": [
                          0.2588547837
                        ],
                        "iteration": 640,
                        "passed_time": 45.35428198,
                        "remaining_time": 20.94363099
                      },
                      {
                        "learn": [
                          0.2588275729
                        ],
                        "iteration": 641,
                        "passed_time": 45.42710146,
                        "remaining_time": 20.87382388
                      },
                      {
                        "learn": [
                          0.2587949572
                        ],
                        "iteration": 642,
                        "passed_time": 45.49622857,
                        "remaining_time": 20.80231913
                      },
                      {
                        "learn": [
                          0.2587654759
                        ],
                        "iteration": 643,
                        "passed_time": 45.55648708,
                        "remaining_time": 20.72678682
                      },
                      {
                        "learn": [
                          0.2587427381
                        ],
                        "iteration": 644,
                        "passed_time": 45.62125554,
                        "remaining_time": 20.65334359
                      },
                      {
                        "learn": [
                          0.2587145785
                        ],
                        "iteration": 645,
                        "passed_time": 45.69223854,
                        "remaining_time": 20.58272665
                      },
                      {
                        "learn": [
                          0.2586976014
                        ],
                        "iteration": 646,
                        "passed_time": 45.75323572,
                        "remaining_time": 20.5076327
                      },
                      {
                        "learn": [
                          0.2586797941
                        ],
                        "iteration": 647,
                        "passed_time": 45.81854909,
                        "remaining_time": 20.43450723
                      },
                      {
                        "learn": [
                          0.2586613429
                        ],
                        "iteration": 648,
                        "passed_time": 45.88704625,
                        "remaining_time": 20.36281867
                      },
                      {
                        "learn": [
                          0.2586429256
                        ],
                        "iteration": 649,
                        "passed_time": 45.94662463,
                        "remaining_time": 20.28720195
                      },
                      {
                        "learn": [
                          0.2586222718
                        ],
                        "iteration": 650,
                        "passed_time": 46.01662309,
                        "remaining_time": 20.21621229
                      },
                      {
                        "learn": [
                          0.2586044645
                        ],
                        "iteration": 651,
                        "passed_time": 46.08285054,
                        "remaining_time": 20.14357731
                      },
                      {
                        "learn": [
                          0.2585681721
                        ],
                        "iteration": 652,
                        "passed_time": 46.14898366,
                        "remaining_time": 20.07092092
                      },
                      {
                        "learn": [
                          0.2585445193
                        ],
                        "iteration": 653,
                        "passed_time": 46.21414808,
                        "remaining_time": 19.9978653
                      },
                      {
                        "learn": [
                          0.2585305412
                        ],
                        "iteration": 654,
                        "passed_time": 46.27388311,
                        "remaining_time": 19.92249624
                      },
                      {
                        "learn": [
                          0.2585038217
                        ],
                        "iteration": 655,
                        "passed_time": 46.34651731,
                        "remaining_time": 19.85270025
                      },
                      {
                        "learn": [
                          0.2584921648
                        ],
                        "iteration": 656,
                        "passed_time": 46.42065165,
                        "remaining_time": 19.78353495
                      },
                      {
                        "learn": [
                          0.2584758146
                        ],
                        "iteration": 657,
                        "passed_time": 46.48452889,
                        "remaining_time": 19.71000541
                      },
                      {
                        "learn": [
                          0.2584619042
                        ],
                        "iteration": 658,
                        "passed_time": 46.55387388,
                        "remaining_time": 19.63881174
                      },
                      {
                        "learn": [
                          0.2584358963
                        ],
                        "iteration": 659,
                        "passed_time": 46.63305128,
                        "remaining_time": 19.57175031
                      },
                      {
                        "learn": [
                          0.2584062457
                        ],
                        "iteration": 660,
                        "passed_time": 46.69593723,
                        "remaining_time": 19.49784974
                      },
                      {
                        "learn": [
                          0.2583782894
                        ],
                        "iteration": 661,
                        "passed_time": 46.77396695,
                        "remaining_time": 19.43027328
                      },
                      {
                        "learn": [
                          0.2583512988
                        ],
                        "iteration": 662,
                        "passed_time": 46.84224474,
                        "remaining_time": 19.35863508
                      },
                      {
                        "learn": [
                          0.2583228511
                        ],
                        "iteration": 663,
                        "passed_time": 46.90751774,
                        "remaining_time": 19.2857716
                      },
                      {
                        "learn": [
                          0.2582789682
                        ],
                        "iteration": 664,
                        "passed_time": 46.96857371,
                        "remaining_time": 19.21120609
                      },
                      {
                        "learn": [
                          0.2582373048
                        ],
                        "iteration": 665,
                        "passed_time": 47.02542184,
                        "remaining_time": 19.13496895
                      },
                      {
                        "learn": [
                          0.2581855432
                        ],
                        "iteration": 666,
                        "passed_time": 47.09442766,
                        "remaining_time": 19.06371135
                      },
                      {
                        "learn": [
                          0.2581613822
                        ],
                        "iteration": 667,
                        "passed_time": 47.16131528,
                        "remaining_time": 18.9916075
                      },
                      {
                        "learn": [
                          0.2581418975
                        ],
                        "iteration": 668,
                        "passed_time": 47.22909383,
                        "remaining_time": 18.91987615
                      },
                      {
                        "learn": [
                          0.2581325956
                        ],
                        "iteration": 669,
                        "passed_time": 47.30455116,
                        "remaining_time": 18.85121666
                      },
                      {
                        "learn": [
                          0.2581019962
                        ],
                        "iteration": 670,
                        "passed_time": 47.36506893,
                        "remaining_time": 18.77661451
                      },
                      {
                        "learn": [
                          0.2580849682
                        ],
                        "iteration": 671,
                        "passed_time": 47.43196014,
                        "remaining_time": 18.70456761
                      },
                      {
                        "learn": [
                          0.2580508954
                        ],
                        "iteration": 672,
                        "passed_time": 47.50472385,
                        "remaining_time": 18.63483967
                      },
                      {
                        "learn": [
                          0.2580361887
                        ],
                        "iteration": 673,
                        "passed_time": 47.57485903,
                        "remaining_time": 18.56407704
                      },
                      {
                        "learn": [
                          0.2580170429
                        ],
                        "iteration": 674,
                        "passed_time": 47.64912137,
                        "remaining_time": 18.49491822
                      },
                      {
                        "learn": [
                          0.2579902556
                        ],
                        "iteration": 675,
                        "passed_time": 47.7096344,
                        "remaining_time": 18.42043577
                      },
                      {
                        "learn": [
                          0.2579686361
                        ],
                        "iteration": 676,
                        "passed_time": 47.78061006,
                        "remaining_time": 18.35001273
                      },
                      {
                        "learn": [
                          0.2579535058
                        ],
                        "iteration": 677,
                        "passed_time": 47.84309323,
                        "remaining_time": 18.27634387
                      },
                      {
                        "learn": [
                          0.257919416
                        ],
                        "iteration": 678,
                        "passed_time": 47.91624886,
                        "remaining_time": 18.20676319
                      },
                      {
                        "learn": [
                          0.257897915
                        ],
                        "iteration": 679,
                        "passed_time": 47.98325597,
                        "remaining_time": 18.13484821
                      },
                      {
                        "learn": [
                          0.257883615
                        ],
                        "iteration": 680,
                        "passed_time": 48.05179158,
                        "remaining_time": 18.06352224
                      },
                      {
                        "learn": [
                          0.2578487289
                        ],
                        "iteration": 681,
                        "passed_time": 48.12431403,
                        "remaining_time": 17.99369513
                      },
                      {
                        "learn": [
                          0.2578195187
                        ],
                        "iteration": 682,
                        "passed_time": 48.20126199,
                        "remaining_time": 17.92550592
                      },
                      {
                        "learn": [
                          0.2578076585
                        ],
                        "iteration": 683,
                        "passed_time": 48.27640621,
                        "remaining_time": 17.85662393
                      },
                      {
                        "learn": [
                          0.2577758052
                        ],
                        "iteration": 684,
                        "passed_time": 48.33982308,
                        "remaining_time": 17.78340937
                      },
                      {
                        "learn": [
                          0.2577521016
                        ],
                        "iteration": 685,
                        "passed_time": 48.40649127,
                        "remaining_time": 17.71141299
                      },
                      {
                        "learn": [
                          0.2577293638
                        ],
                        "iteration": 686,
                        "passed_time": 48.47450299,
                        "remaining_time": 17.63992103
                      },
                      {
                        "learn": [
                          0.2576939186
                        ],
                        "iteration": 687,
                        "passed_time": 48.55274273,
                        "remaining_time": 17.5721409
                      },
                      {
                        "learn": [
                          0.2576647424
                        ],
                        "iteration": 688,
                        "passed_time": 48.62463528,
                        "remaining_time": 17.50204579
                      },
                      {
                        "learn": [
                          0.2576347867
                        ],
                        "iteration": 689,
                        "passed_time": 48.7038518,
                        "remaining_time": 17.43456724
                      },
                      {
                        "learn": [
                          0.2576202325
                        ],
                        "iteration": 690,
                        "passed_time": 48.78525138,
                        "remaining_time": 17.3678319
                      },
                      {
                        "learn": [
                          0.2575935639
                        ],
                        "iteration": 691,
                        "passed_time": 48.85707675,
                        "remaining_time": 17.29766446
                      },
                      {
                        "learn": [
                          0.2575780947
                        ],
                        "iteration": 692,
                        "passed_time": 48.92855477,
                        "remaining_time": 17.22736993
                      },
                      {
                        "learn": [
                          0.2575458856
                        ],
                        "iteration": 693,
                        "passed_time": 49.0018122,
                        "remaining_time": 17.15769505
                      },
                      {
                        "learn": [
                          0.257512948
                        ],
                        "iteration": 694,
                        "passed_time": 49.08166664,
                        "remaining_time": 17.09030694
                      },
                      {
                        "learn": [
                          0.2574755204
                        ],
                        "iteration": 695,
                        "passed_time": 49.15624537,
                        "remaining_time": 17.02105623
                      },
                      {
                        "learn": [
                          0.2574406004
                        ],
                        "iteration": 696,
                        "passed_time": 49.2118774,
                        "remaining_time": 16.94526625
                      },
                      {
                        "learn": [
                          0.2574280794
                        ],
                        "iteration": 697,
                        "passed_time": 49.28363942,
                        "remaining_time": 16.87505705
                      },
                      {
                        "learn": [
                          0.2573915498
                        ],
                        "iteration": 698,
                        "passed_time": 49.35472535,
                        "remaining_time": 16.80461321
                      },
                      {
                        "learn": [
                          0.257358053
                        ],
                        "iteration": 699,
                        "passed_time": 49.4274664,
                        "remaining_time": 16.73472791
                      },
                      {
                        "learn": [
                          0.2573185923
                        ],
                        "iteration": 700,
                        "passed_time": 49.48630032,
                        "remaining_time": 16.66015246
                      },
                      {
                        "learn": [
                          0.2572790637
                        ],
                        "iteration": 701,
                        "passed_time": 49.55661075,
                        "remaining_time": 16.58946371
                      },
                      {
                        "learn": [
                          0.2572551568
                        ],
                        "iteration": 702,
                        "passed_time": 49.62805123,
                        "remaining_time": 16.51915219
                      },
                      {
                        "learn": [
                          0.2572340456
                        ],
                        "iteration": 703,
                        "passed_time": 49.6869337,
                        "remaining_time": 16.44468118
                      },
                      {
                        "learn": [
                          0.2571903829
                        ],
                        "iteration": 704,
                        "passed_time": 49.75985532,
                        "remaining_time": 16.37487438
                      },
                      {
                        "learn": [
                          0.2571657813
                        ],
                        "iteration": 705,
                        "passed_time": 49.82658404,
                        "remaining_time": 16.30303246
                      },
                      {
                        "learn": [
                          0.2571373845
                        ],
                        "iteration": 706,
                        "passed_time": 49.90025421,
                        "remaining_time": 16.23346318
                      },
                      {
                        "learn": [
                          0.2571216612
                        ],
                        "iteration": 707,
                        "passed_time": 49.97162563,
                        "remaining_time": 16.1631388
                      },
                      {
                        "learn": [
                          0.2570954331
                        ],
                        "iteration": 708,
                        "passed_time": 50.05159078,
                        "remaining_time": 16.09557503
                      },
                      {
                        "learn": [
                          0.2570590729
                        ],
                        "iteration": 709,
                        "passed_time": 50.12329447,
                        "remaining_time": 16.02533499
                      },
                      {
                        "learn": [
                          0.2570340647
                        ],
                        "iteration": 710,
                        "passed_time": 50.1953805,
                        "remaining_time": 15.95521237
                      },
                      {
                        "learn": [
                          0.257001737
                        ],
                        "iteration": 711,
                        "passed_time": 50.26460177,
                        "remaining_time": 15.88417893
                      },
                      {
                        "learn": [
                          0.2569864373
                        ],
                        "iteration": 712,
                        "passed_time": 50.3317317,
                        "remaining_time": 15.81249355
                      },
                      {
                        "learn": [
                          0.2569660038
                        ],
                        "iteration": 713,
                        "passed_time": 50.39709841,
                        "remaining_time": 15.74027023
                      },
                      {
                        "learn": [
                          0.256952195
                        ],
                        "iteration": 714,
                        "passed_time": 50.4629679,
                        "remaining_time": 15.6682222
                      },
                      {
                        "learn": [
                          0.2569176478
                        ],
                        "iteration": 715,
                        "passed_time": 50.52701513,
                        "remaining_time": 15.59562897
                      },
                      {
                        "learn": [
                          0.2568982647
                        ],
                        "iteration": 716,
                        "passed_time": 50.59426342,
                        "remaining_time": 15.52404177
                      },
                      {
                        "learn": [
                          0.2568859809
                        ],
                        "iteration": 717,
                        "passed_time": 50.65518409,
                        "remaining_time": 15.45053665
                      },
                      {
                        "learn": [
                          0.2568495021
                        ],
                        "iteration": 718,
                        "passed_time": 50.72423586,
                        "remaining_time": 15.37953188
                      },
                      {
                        "learn": [
                          0.2568196312
                        ],
                        "iteration": 719,
                        "passed_time": 50.80588654,
                        "remaining_time": 15.31232969
                      },
                      {
                        "learn": [
                          0.256799706
                        ],
                        "iteration": 720,
                        "passed_time": 50.86583137,
                        "remaining_time": 15.23858471
                      },
                      {
                        "learn": [
                          0.2567807465
                        ],
                        "iteration": 721,
                        "passed_time": 50.93435503,
                        "remaining_time": 15.16743259
                      },
                      {
                        "learn": [
                          0.2567668531
                        ],
                        "iteration": 722,
                        "passed_time": 51.00320077,
                        "remaining_time": 15.09638308
                      },
                      {
                        "learn": [
                          0.2567539762
                        ],
                        "iteration": 723,
                        "passed_time": 51.06155652,
                        "remaining_time": 15.02225351
                      },
                      {
                        "learn": [
                          0.2567413366
                        ],
                        "iteration": 724,
                        "passed_time": 51.12112562,
                        "remaining_time": 14.94852225
                      },
                      {
                        "learn": [
                          0.2567152949
                        ],
                        "iteration": 725,
                        "passed_time": 51.19847288,
                        "remaining_time": 14.87999694
                      },
                      {
                        "learn": [
                          0.2566970809
                        ],
                        "iteration": 726,
                        "passed_time": 51.26869786,
                        "remaining_time": 14.80939003
                      },
                      {
                        "learn": [
                          0.2566622117
                        ],
                        "iteration": 727,
                        "passed_time": 51.34836772,
                        "remaining_time": 14.74149568
                      },
                      {
                        "learn": [
                          0.2566293927
                        ],
                        "iteration": 728,
                        "passed_time": 51.41633913,
                        "remaining_time": 14.67023119
                      },
                      {
                        "learn": [
                          0.2566112973
                        ],
                        "iteration": 729,
                        "passed_time": 51.47613301,
                        "remaining_time": 14.5966569
                      },
                      {
                        "learn": [
                          0.2565907621
                        ],
                        "iteration": 730,
                        "passed_time": 51.54739943,
                        "remaining_time": 14.52635333
                      },
                      {
                        "learn": [
                          0.2565691595
                        ],
                        "iteration": 731,
                        "passed_time": 51.60845302,
                        "remaining_time": 14.45318698
                      },
                      {
                        "learn": [
                          0.2565602982
                        ],
                        "iteration": 732,
                        "passed_time": 51.67123718,
                        "remaining_time": 14.38053531
                      },
                      {
                        "learn": [
                          0.2565411693
                        ],
                        "iteration": 733,
                        "passed_time": 51.75481859,
                        "remaining_time": 14.31366236
                      },
                      {
                        "learn": [
                          0.2565242769
                        ],
                        "iteration": 734,
                        "passed_time": 51.82543053,
                        "remaining_time": 14.24317955
                      },
                      {
                        "learn": [
                          0.2565034707
                        ],
                        "iteration": 735,
                        "passed_time": 51.89684574,
                        "remaining_time": 14.17291575
                      },
                      {
                        "learn": [
                          0.2564747858
                        ],
                        "iteration": 736,
                        "passed_time": 51.9662936,
                        "remaining_time": 14.10211495
                      },
                      {
                        "learn": [
                          0.2564482018
                        ],
                        "iteration": 737,
                        "passed_time": 52.04183333,
                        "remaining_time": 14.03296048
                      },
                      {
                        "learn": [
                          0.256418907
                        ],
                        "iteration": 738,
                        "passed_time": 52.09868116,
                        "remaining_time": 13.95878061
                      },
                      {
                        "learn": [
                          0.2564023365
                        ],
                        "iteration": 739,
                        "passed_time": 52.17091912,
                        "remaining_time": 13.88874469
                      },
                      {
                        "learn": [
                          0.2563823266
                        ],
                        "iteration": 740,
                        "passed_time": 52.23982077,
                        "remaining_time": 13.81782034
                      },
                      {
                        "learn": [
                          0.2563597582
                        ],
                        "iteration": 741,
                        "passed_time": 52.30722733,
                        "remaining_time": 13.74650853
                      },
                      {
                        "learn": [
                          0.2563289046
                        ],
                        "iteration": 742,
                        "passed_time": 52.37789686,
                        "remaining_time": 13.67605921
                      },
                      {
                        "learn": [
                          0.2563049977
                        ],
                        "iteration": 743,
                        "passed_time": 52.44616549,
                        "remaining_time": 13.60498648
                      },
                      {
                        "learn": [
                          0.2562874615
                        ],
                        "iteration": 744,
                        "passed_time": 52.51691492,
                        "remaining_time": 13.53456062
                      },
                      {
                        "learn": [
                          0.2562745846
                        ],
                        "iteration": 745,
                        "passed_time": 52.60232775,
                        "remaining_time": 13.4678882
                      },
                      {
                        "learn": [
                          0.2562570484
                        ],
                        "iteration": 746,
                        "passed_time": 52.66594956,
                        "remaining_time": 13.39562305
                      },
                      {
                        "learn": [
                          0.2562410031
                        ],
                        "iteration": 747,
                        "passed_time": 52.72585689,
                        "remaining_time": 13.32244245
                      },
                      {
                        "learn": [
                          0.2562015254
                        ],
                        "iteration": 748,
                        "passed_time": 52.78733173,
                        "remaining_time": 13.24969074
                      },
                      {
                        "learn": [
                          0.2561872423
                        ],
                        "iteration": 749,
                        "passed_time": 52.86999397,
                        "remaining_time": 13.18225183
                      },
                      {
                        "learn": [
                          0.2561663174
                        ],
                        "iteration": 750,
                        "passed_time": 52.95050591,
                        "remaining_time": 13.11423981
                      },
                      {
                        "learn": [
                          0.2561434271
                        ],
                        "iteration": 751,
                        "passed_time": 53.02203513,
                        "remaining_time": 13.04398471
                      },
                      {
                        "learn": [
                          0.2561242982
                        ],
                        "iteration": 752,
                        "passed_time": 53.09512899,
                        "remaining_time": 12.97410854
                      },
                      {
                        "learn": [
                          0.2560997983
                        ],
                        "iteration": 753,
                        "passed_time": 53.1656279,
                        "remaining_time": 12.90359404
                      },
                      {
                        "learn": [
                          0.2560778399
                        ],
                        "iteration": 754,
                        "passed_time": 53.2315947,
                        "remaining_time": 12.83198707
                      },
                      {
                        "learn": [
                          0.2560328048
                        ],
                        "iteration": 755,
                        "passed_time": 53.29488681,
                        "remaining_time": 12.75975465
                      },
                      {
                        "learn": [
                          0.2560168612
                        ],
                        "iteration": 756,
                        "passed_time": 53.36556372,
                        "remaining_time": 12.68930181
                      },
                      {
                        "learn": [
                          0.256004984
                        ],
                        "iteration": 757,
                        "passed_time": 53.4349377,
                        "remaining_time": 12.6185407
                      },
                      {
                        "learn": [
                          0.2559650488
                        ],
                        "iteration": 758,
                        "passed_time": 53.49649759,
                        "remaining_time": 12.54595069
                      },
                      {
                        "learn": [
                          0.2559474279
                        ],
                        "iteration": 759,
                        "passed_time": 53.55827244,
                        "remaining_time": 12.47343977
                      },
                      {
                        "learn": [
                          0.2558896684
                        ],
                        "iteration": 760,
                        "passed_time": 53.62494561,
                        "remaining_time": 12.40208992
                      },
                      {
                        "learn": [
                          0.2558686419
                        ],
                        "iteration": 761,
                        "passed_time": 53.69639307,
                        "remaining_time": 12.3318488
                      },
                      {
                        "learn": [
                          0.2558544096
                        ],
                        "iteration": 762,
                        "passed_time": 53.76527005,
                        "remaining_time": 12.26101833
                      },
                      {
                        "learn": [
                          0.2558444978
                        ],
                        "iteration": 763,
                        "passed_time": 53.83539038,
                        "remaining_time": 12.19047452
                      },
                      {
                        "learn": [
                          0.2558203537
                        ],
                        "iteration": 764,
                        "passed_time": 53.90111811,
                        "remaining_time": 12.1189442
                      },
                      {
                        "learn": [
                          0.2558041729
                        ],
                        "iteration": 765,
                        "passed_time": 53.97046707,
                        "remaining_time": 12.04823743
                      },
                      {
                        "learn": [
                          0.2557924143
                        ],
                        "iteration": 766,
                        "passed_time": 54.04612242,
                        "remaining_time": 11.97893196
                      },
                      {
                        "learn": [
                          0.2557756914
                        ],
                        "iteration": 767,
                        "passed_time": 54.12316151,
                        "remaining_time": 11.90991445
                      },
                      {
                        "learn": [
                          0.2557598325
                        ],
                        "iteration": 768,
                        "passed_time": 54.19428481,
                        "remaining_time": 11.83958368
                      },
                      {
                        "learn": [
                          0.255734028
                        ],
                        "iteration": 769,
                        "passed_time": 54.25825637,
                        "remaining_time": 11.76769976
                      },
                      {
                        "learn": [
                          0.2557203717
                        ],
                        "iteration": 770,
                        "passed_time": 54.32644003,
                        "remaining_time": 11.69674325
                      },
                      {
                        "learn": [
                          0.255699091
                        ],
                        "iteration": 771,
                        "passed_time": 54.38691741,
                        "remaining_time": 11.62414686
                      },
                      {
                        "learn": [
                          0.2556858245
                        ],
                        "iteration": 772,
                        "passed_time": 54.45176834,
                        "remaining_time": 11.55250971
                      },
                      {
                        "learn": [
                          0.2556580715
                        ],
                        "iteration": 773,
                        "passed_time": 54.5263957,
                        "remaining_time": 11.48294897
                      },
                      {
                        "learn": [
                          0.2556233379
                        ],
                        "iteration": 774,
                        "passed_time": 54.59241829,
                        "remaining_time": 11.41157647
                      },
                      {
                        "learn": [
                          0.2555935178
                        ],
                        "iteration": 775,
                        "passed_time": 54.6655492,
                        "remaining_time": 11.34169255
                      },
                      {
                        "learn": [
                          0.2555718135
                        ],
                        "iteration": 776,
                        "passed_time": 54.73318965,
                        "remaining_time": 11.27066968
                      },
                      {
                        "learn": [
                          0.2555339115
                        ],
                        "iteration": 777,
                        "passed_time": 54.80599899,
                        "remaining_time": 11.20071188
                      },
                      {
                        "learn": [
                          0.2555135119
                        ],
                        "iteration": 778,
                        "passed_time": 54.87142661,
                        "remaining_time": 11.12924956
                      },
                      {
                        "learn": [
                          0.2555063618
                        ],
                        "iteration": 779,
                        "passed_time": 54.95371491,
                        "remaining_time": 11.06119646
                      },
                      {
                        "learn": [
                          0.2554963315
                        ],
                        "iteration": 780,
                        "passed_time": 55.0182256,
                        "remaining_time": 10.98955595
                      },
                      {
                        "learn": [
                          0.2554638513
                        ],
                        "iteration": 781,
                        "passed_time": 55.08560982,
                        "remaining_time": 10.91850323
                      },
                      {
                        "learn": [
                          0.2554354375
                        ],
                        "iteration": 782,
                        "passed_time": 55.16402432,
                        "remaining_time": 10.8496293
                      },
                      {
                        "learn": [
                          0.2554107343
                        ],
                        "iteration": 783,
                        "passed_time": 55.22720558,
                        "remaining_time": 10.77775823
                      },
                      {
                        "learn": [
                          0.2553907921
                        ],
                        "iteration": 784,
                        "passed_time": 55.29175919,
                        "remaining_time": 10.70617503
                      },
                      {
                        "learn": [
                          0.2553602096
                        ],
                        "iteration": 785,
                        "passed_time": 55.35802593,
                        "remaining_time": 10.63493882
                      },
                      {
                        "learn": [
                          0.2553237647
                        ],
                        "iteration": 786,
                        "passed_time": 55.42426628,
                        "remaining_time": 10.56371022
                      },
                      {
                        "learn": [
                          0.2553135479
                        ],
                        "iteration": 787,
                        "passed_time": 55.48968321,
                        "remaining_time": 10.49233858
                      },
                      {
                        "learn": [
                          0.2552984346
                        ],
                        "iteration": 788,
                        "passed_time": 55.56390336,
                        "remaining_time": 10.42263333
                      },
                      {
                        "learn": [
                          0.2552770522
                        ],
                        "iteration": 789,
                        "passed_time": 55.63073797,
                        "remaining_time": 10.35154238
                      },
                      {
                        "learn": [
                          0.2552520271
                        ],
                        "iteration": 790,
                        "passed_time": 55.69544172,
                        "remaining_time": 10.28006889
                      },
                      {
                        "learn": [
                          0.2552022818
                        ],
                        "iteration": 791,
                        "passed_time": 55.76306122,
                        "remaining_time": 10.20914631
                      },
                      {
                        "learn": [
                          0.2551718856
                        ],
                        "iteration": 792,
                        "passed_time": 55.82909369,
                        "remaining_time": 10.13794387
                      },
                      {
                        "learn": [
                          0.2551372706
                        ],
                        "iteration": 793,
                        "passed_time": 55.89412142,
                        "remaining_time": 10.06657351
                      },
                      {
                        "learn": [
                          0.2551110425
                        ],
                        "iteration": 794,
                        "passed_time": 55.96457525,
                        "remaining_time": 9.996188284
                      },
                      {
                        "learn": [
                          0.2550800364
                        ],
                        "iteration": 795,
                        "passed_time": 56.03707775,
                        "remaining_time": 9.926165782
                      },
                      {
                        "learn": [
                          0.2550666004
                        ],
                        "iteration": 796,
                        "passed_time": 56.10673423,
                        "remaining_time": 9.855637129
                      },
                      {
                        "learn": [
                          0.2550310366
                        ],
                        "iteration": 797,
                        "passed_time": 56.18008365,
                        "remaining_time": 9.78575392
                      },
                      {
                        "learn": [
                          0.2550090443
                        ],
                        "iteration": 798,
                        "passed_time": 56.25932728,
                        "remaining_time": 9.716880056
                      },
                      {
                        "learn": [
                          0.2549950661
                        ],
                        "iteration": 799,
                        "passed_time": 56.32092038,
                        "remaining_time": 9.644957615
                      },
                      {
                        "learn": [
                          0.2549766319
                        ],
                        "iteration": 800,
                        "passed_time": 56.38664247,
                        "remaining_time": 9.573762017
                      },
                      {
                        "learn": [
                          0.2549573675
                        ],
                        "iteration": 801,
                        "passed_time": 56.45725536,
                        "remaining_time": 9.503403334
                      },
                      {
                        "learn": [
                          0.254940187
                        ],
                        "iteration": 802,
                        "passed_time": 56.51747624,
                        "remaining_time": 9.431309859
                      },
                      {
                        "learn": [
                          0.2549250398
                        ],
                        "iteration": 803,
                        "passed_time": 56.58803736,
                        "remaining_time": 9.360956428
                      },
                      {
                        "learn": [
                          0.2548976934
                        ],
                        "iteration": 804,
                        "passed_time": 56.66903491,
                        "remaining_time": 9.292313799
                      },
                      {
                        "learn": [
                          0.2548641628
                        ],
                        "iteration": 805,
                        "passed_time": 56.73969658,
                        "remaining_time": 9.22196061
                      },
                      {
                        "learn": [
                          0.254851574
                        ],
                        "iteration": 806,
                        "passed_time": 56.80687791,
                        "remaining_time": 9.151046008
                      },
                      {
                        "learn": [
                          0.2548418485
                        ],
                        "iteration": 807,
                        "passed_time": 56.89342111,
                        "remaining_time": 9.083231836
                      },
                      {
                        "learn": [
                          0.2548251425
                        ],
                        "iteration": 808,
                        "passed_time": 56.95395218,
                        "remaining_time": 9.011255722
                      },
                      {
                        "learn": [
                          0.2548008121
                        ],
                        "iteration": 809,
                        "passed_time": 57.03571997,
                        "remaining_time": 8.942637576
                      },
                      {
                        "learn": [
                          0.2547904089
                        ],
                        "iteration": 810,
                        "passed_time": 57.09626695,
                        "remaining_time": 8.870690057
                      },
                      {
                        "learn": [
                          0.2547758886
                        ],
                        "iteration": 811,
                        "passed_time": 57.15853809,
                        "remaining_time": 8.799036036
                      },
                      {
                        "learn": [
                          0.2547485422
                        ],
                        "iteration": 812,
                        "passed_time": 57.21984053,
                        "remaining_time": 8.72725735
                      },
                      {
                        "learn": [
                          0.2547316159
                        ],
                        "iteration": 813,
                        "passed_time": 57.29002375,
                        "remaining_time": 8.65684634
                      },
                      {
                        "learn": [
                          0.2547097083
                        ],
                        "iteration": 814,
                        "passed_time": 57.36119215,
                        "remaining_time": 8.586583365
                      },
                      {
                        "learn": [
                          0.2546884446
                        ],
                        "iteration": 815,
                        "passed_time": 57.43479572,
                        "remaining_time": 8.516679268
                      },
                      {
                        "learn": [
                          0.25466325
                        ],
                        "iteration": 816,
                        "passed_time": 57.51005858,
                        "remaining_time": 8.447009828
                      },
                      {
                        "learn": [
                          0.254647137
                        ],
                        "iteration": 817,
                        "passed_time": 57.57749643,
                        "remaining_time": 8.376188356
                      },
                      {
                        "learn": [
                          0.2546202142
                        ],
                        "iteration": 818,
                        "passed_time": 57.64458051,
                        "remaining_time": 8.305324176
                      },
                      {
                        "learn": [
                          0.254580872
                        ],
                        "iteration": 819,
                        "passed_time": 57.71914648,
                        "remaining_time": 8.235536754
                      },
                      {
                        "learn": [
                          0.2545650301
                        ],
                        "iteration": 820,
                        "passed_time": 57.79120068,
                        "remaining_time": 8.1653828
                      },
                      {
                        "learn": [
                          0.2545396661
                        ],
                        "iteration": 821,
                        "passed_time": 57.86420038,
                        "remaining_time": 8.095356502
                      },
                      {
                        "learn": [
                          0.2545227907
                        ],
                        "iteration": 822,
                        "passed_time": 57.92843174,
                        "remaining_time": 8.024108406
                      },
                      {
                        "learn": [
                          0.254504492
                        ],
                        "iteration": 823,
                        "passed_time": 57.9856258,
                        "remaining_time": 7.951912276
                      },
                      {
                        "learn": [
                          0.2544786027
                        ],
                        "iteration": 824,
                        "passed_time": 58.05165561,
                        "remaining_time": 7.880952034
                      },
                      {
                        "learn": [
                          0.2544622017
                        ],
                        "iteration": 825,
                        "passed_time": 58.11839841,
                        "remaining_time": 7.810099544
                      },
                      {
                        "learn": [
                          0.25444392
                        ],
                        "iteration": 826,
                        "passed_time": 58.18670092,
                        "remaining_time": 7.739464451
                      },
                      {
                        "learn": [
                          0.2544276206
                        ],
                        "iteration": 827,
                        "passed_time": 58.24989975,
                        "remaining_time": 7.668163131
                      },
                      {
                        "learn": [
                          0.2544047472
                        ],
                        "iteration": 828,
                        "passed_time": 58.32194736,
                        "remaining_time": 7.598034155
                      },
                      {
                        "learn": [
                          0.2543858386
                        ],
                        "iteration": 829,
                        "passed_time": 58.39198978,
                        "remaining_time": 7.527642056
                      },
                      {
                        "learn": [
                          0.2543547478
                        ],
                        "iteration": 830,
                        "passed_time": 58.4682726,
                        "remaining_time": 7.458046806
                      },
                      {
                        "learn": [
                          0.2543391769
                        ],
                        "iteration": 831,
                        "passed_time": 58.53351233,
                        "remaining_time": 7.387041821
                      },
                      {
                        "learn": [
                          0.2543195736
                        ],
                        "iteration": 832,
                        "passed_time": 58.60640344,
                        "remaining_time": 7.317005952
                      },
                      {
                        "learn": [
                          0.2542950907
                        ],
                        "iteration": 833,
                        "passed_time": 58.67575029,
                        "remaining_time": 7.246525516
                      },
                      {
                        "learn": [
                          0.2542766734
                        ],
                        "iteration": 834,
                        "passed_time": 58.74781365,
                        "remaining_time": 7.176379632
                      },
                      {
                        "learn": [
                          0.25426156
                        ],
                        "iteration": 835,
                        "passed_time": 58.81024483,
                        "remaining_time": 7.105065464
                      },
                      {
                        "learn": [
                          0.2542465822
                        ],
                        "iteration": 836,
                        "passed_time": 58.88780703,
                        "remaining_time": 7.03558029
                      },
                      {
                        "learn": [
                          0.254233824
                        ],
                        "iteration": 837,
                        "passed_time": 58.96376441,
                        "remaining_time": 6.965886248
                      },
                      {
                        "learn": [
                          0.2542220823
                        ],
                        "iteration": 838,
                        "passed_time": 59.03865686,
                        "remaining_time": 6.896052887
                      },
                      {
                        "learn": [
                          0.2542070198
                        ],
                        "iteration": 839,
                        "passed_time": 59.10672623,
                        "remaining_time": 6.825419577
                      },
                      {
                        "learn": [
                          0.25419621
                        ],
                        "iteration": 840,
                        "passed_time": 59.18083939,
                        "remaining_time": 6.755482261
                      },
                      {
                        "learn": [
                          0.2541845361
                        ],
                        "iteration": 841,
                        "passed_time": 59.25507559,
                        "remaining_time": 6.685548909
                      },
                      {
                        "learn": [
                          0.2541686434
                        ],
                        "iteration": 842,
                        "passed_time": 59.32087366,
                        "remaining_time": 6.614664441
                      },
                      {
                        "learn": [
                          0.2541511749
                        ],
                        "iteration": 843,
                        "passed_time": 59.39872597,
                        "remaining_time": 6.545120278
                      },
                      {
                        "learn": [
                          0.2541381625
                        ],
                        "iteration": 844,
                        "passed_time": 59.47115629,
                        "remaining_time": 6.474966129
                      },
                      {
                        "learn": [
                          0.2541195927
                        ],
                        "iteration": 845,
                        "passed_time": 59.54556799,
                        "remaining_time": 6.405019725
                      },
                      {
                        "learn": [
                          0.2541030731
                        ],
                        "iteration": 846,
                        "passed_time": 59.616944,
                        "remaining_time": 6.334740212
                      },
                      {
                        "learn": [
                          0.2540823176
                        ],
                        "iteration": 847,
                        "passed_time": 59.69330367,
                        "remaining_time": 6.264981164
                      },
                      {
                        "learn": [
                          0.2540545308
                        ],
                        "iteration": 848,
                        "passed_time": 59.758488,
                        "remaining_time": 6.194048227
                      },
                      {
                        "learn": [
                          0.2540477365
                        ],
                        "iteration": 849,
                        "passed_time": 59.82581828,
                        "remaining_time": 6.123348459
                      },
                      {
                        "learn": [
                          0.2540384008
                        ],
                        "iteration": 850,
                        "passed_time": 59.89093041,
                        "remaining_time": 6.052432451
                      },
                      {
                        "learn": [
                          0.2540165271
                        ],
                        "iteration": 851,
                        "passed_time": 59.95680186,
                        "remaining_time": 5.981605819
                      },
                      {
                        "learn": [
                          0.2539896721
                        ],
                        "iteration": 852,
                        "passed_time": 60.03111644,
                        "remaining_time": 5.911622252
                      },
                      {
                        "learn": [
                          0.2539755753
                        ],
                        "iteration": 853,
                        "passed_time": 60.11725028,
                        "remaining_time": 5.842777252
                      },
                      {
                        "learn": [
                          0.253964037
                        ],
                        "iteration": 854,
                        "passed_time": 60.17858238,
                        "remaining_time": 5.771513164
                      },
                      {
                        "learn": [
                          0.2539322515
                        ],
                        "iteration": 855,
                        "passed_time": 60.24086526,
                        "remaining_time": 5.70036225
                      },
                      {
                        "learn": [
                          0.2539090393
                        ],
                        "iteration": 856,
                        "passed_time": 60.30798675,
                        "remaining_time": 5.629683711
                      },
                      {
                        "learn": [
                          0.2538666812
                        ],
                        "iteration": 857,
                        "passed_time": 60.38062224,
                        "remaining_time": 5.559521162
                      },
                      {
                        "learn": [
                          0.2538381658
                        ],
                        "iteration": 858,
                        "passed_time": 60.4397295,
                        "remaining_time": 5.488124449
                      },
                      {
                        "learn": [
                          0.2538203754
                        ],
                        "iteration": 859,
                        "passed_time": 60.50570416,
                        "remaining_time": 5.417371186
                      },
                      {
                        "learn": [
                          0.2537929782
                        ],
                        "iteration": 860,
                        "passed_time": 60.57591698,
                        "remaining_time": 5.347003125
                      },
                      {
                        "learn": [
                          0.2537782376
                        ],
                        "iteration": 861,
                        "passed_time": 60.63909833,
                        "remaining_time": 5.276023636
                      },
                      {
                        "learn": [
                          0.2537571772
                        ],
                        "iteration": 862,
                        "passed_time": 60.71915703,
                        "remaining_time": 5.206509409
                      },
                      {
                        "learn": [
                          0.2537353712
                        ],
                        "iteration": 863,
                        "passed_time": 60.78960229,
                        "remaining_time": 5.136158527
                      },
                      {
                        "learn": [
                          0.2537219691
                        ],
                        "iteration": 864,
                        "passed_time": 60.85600949,
                        "remaining_time": 5.06547131
                      },
                      {
                        "learn": [
                          0.2536974692
                        ],
                        "iteration": 865,
                        "passed_time": 60.92412933,
                        "remaining_time": 4.994934391
                      },
                      {
                        "learn": [
                          0.2536735623
                        ],
                        "iteration": 866,
                        "passed_time": 60.98979752,
                        "remaining_time": 4.924205105
                      },
                      {
                        "learn": [
                          0.2536543657
                        ],
                        "iteration": 867,
                        "passed_time": 61.06097269,
                        "remaining_time": 4.853925248
                      },
                      {
                        "learn": [
                          0.2536435389
                        ],
                        "iteration": 868,
                        "passed_time": 61.14523978,
                        "remaining_time": 4.784667785
                      },
                      {
                        "learn": [
                          0.2536309332
                        ],
                        "iteration": 869,
                        "passed_time": 61.20756584,
                        "remaining_time": 4.713686105
                      },
                      {
                        "learn": [
                          0.2536195134
                        ],
                        "iteration": 870,
                        "passed_time": 61.28254896,
                        "remaining_time": 4.643683388
                      },
                      {
                        "learn": [
                          0.2536004184
                        ],
                        "iteration": 871,
                        "passed_time": 61.34632623,
                        "remaining_time": 4.572833951
                      },
                      {
                        "learn": [
                          0.2535800527
                        ],
                        "iteration": 872,
                        "passed_time": 61.40701409,
                        "remaining_time": 4.501774229
                      },
                      {
                        "learn": [
                          0.2535639566
                        ],
                        "iteration": 873,
                        "passed_time": 61.4751065,
                        "remaining_time": 4.431271979
                      },
                      {
                        "learn": [
                          0.2535494532
                        ],
                        "iteration": 874,
                        "passed_time": 61.54405273,
                        "remaining_time": 4.360835737
                      },
                      {
                        "learn": [
                          0.2535351362
                        ],
                        "iteration": 875,
                        "passed_time": 61.61897173,
                        "remaining_time": 4.290818808
                      },
                      {
                        "learn": [
                          0.2535142452
                        ],
                        "iteration": 876,
                        "passed_time": 61.69201132,
                        "remaining_time": 4.22066212
                      },
                      {
                        "learn": [
                          0.2535038759
                        ],
                        "iteration": 877,
                        "passed_time": 61.7517693,
                        "remaining_time": 4.149606366
                      },
                      {
                        "learn": [
                          0.2534803079
                        ],
                        "iteration": 878,
                        "passed_time": 61.82449719,
                        "remaining_time": 4.079432124
                      },
                      {
                        "learn": [
                          0.2534435919
                        ],
                        "iteration": 879,
                        "passed_time": 61.89547631,
                        "remaining_time": 4.009138807
                      },
                      {
                        "learn": [
                          0.2534249374
                        ],
                        "iteration": 880,
                        "passed_time": 61.96218321,
                        "remaining_time": 3.938572372
                      },
                      {
                        "learn": [
                          0.2534003189
                        ],
                        "iteration": 881,
                        "passed_time": 62.02785974,
                        "remaining_time": 3.867950437
                      },
                      {
                        "learn": [
                          0.2533672627
                        ],
                        "iteration": 882,
                        "passed_time": 62.09754797,
                        "remaining_time": 3.79758504
                      },
                      {
                        "learn": [
                          0.2533231256
                        ],
                        "iteration": 883,
                        "passed_time": 62.15712456,
                        "remaining_time": 3.726614934
                      },
                      {
                        "learn": [
                          0.2533053013
                        ],
                        "iteration": 884,
                        "passed_time": 62.22014884,
                        "remaining_time": 3.655873152
                      },
                      {
                        "learn": [
                          0.25329644
                        ],
                        "iteration": 885,
                        "passed_time": 62.28446746,
                        "remaining_time": 3.585223296
                      },
                      {
                        "learn": [
                          0.2532551155
                        ],
                        "iteration": 886,
                        "passed_time": 62.35053162,
                        "remaining_time": 3.514686112
                      },
                      {
                        "learn": [
                          0.2532223981
                        ],
                        "iteration": 887,
                        "passed_time": 62.4136679,
                        "remaining_time": 3.44399744
                      },
                      {
                        "learn": [
                          0.253208708
                        ],
                        "iteration": 888,
                        "passed_time": 62.49498507,
                        "remaining_time": 3.374307405
                      },
                      {
                        "learn": [
                          0.2531870715
                        ],
                        "iteration": 889,
                        "passed_time": 62.56750313,
                        "remaining_time": 3.30412657
                      },
                      {
                        "learn": [
                          0.2531650623
                        ],
                        "iteration": 890,
                        "passed_time": 62.62722475,
                        "remaining_time": 3.233279841
                      },
                      {
                        "learn": [
                          0.2531500675
                        ],
                        "iteration": 891,
                        "passed_time": 62.6913124,
                        "remaining_time": 3.162678316
                      },
                      {
                        "learn": [
                          0.2531252965
                        ],
                        "iteration": 892,
                        "passed_time": 62.75819887,
                        "remaining_time": 3.092229284
                      },
                      {
                        "learn": [
                          0.2531105728
                        ],
                        "iteration": 893,
                        "passed_time": 62.82306549,
                        "remaining_time": 3.021691069
                      },
                      {
                        "learn": [
                          0.2530995597
                        ],
                        "iteration": 894,
                        "passed_time": 62.89732064,
                        "remaining_time": 2.951606108
                      },
                      {
                        "learn": [
                          0.2530754157
                        ],
                        "iteration": 895,
                        "passed_time": 62.96617386,
                        "remaining_time": 2.881264652
                      },
                      {
                        "learn": [
                          0.2530492214
                        ],
                        "iteration": 896,
                        "passed_time": 63.03061291,
                        "remaining_time": 2.810729673
                      },
                      {
                        "learn": [
                          0.2530224342
                        ],
                        "iteration": 897,
                        "passed_time": 63.09228118,
                        "remaining_time": 2.740087936
                      },
                      {
                        "learn": [
                          0.2530003741
                        ],
                        "iteration": 898,
                        "passed_time": 63.15729526,
                        "remaining_time": 2.669607586
                      },
                      {
                        "learn": [
                          0.2529753828
                        ],
                        "iteration": 899,
                        "passed_time": 63.23011601,
                        "remaining_time": 2.599460325
                      },
                      {
                        "learn": [
                          0.2529542885
                        ],
                        "iteration": 900,
                        "passed_time": 63.29536565,
                        "remaining_time": 2.529004621
                      },
                      {
                        "learn": [
                          0.2529390057
                        ],
                        "iteration": 901,
                        "passed_time": 63.36651435,
                        "remaining_time": 2.458789359
                      },
                      {
                        "learn": [
                          0.2529243837
                        ],
                        "iteration": 902,
                        "passed_time": 63.43871718,
                        "remaining_time": 2.388611721
                      },
                      {
                        "learn": [
                          0.2529124388
                        ],
                        "iteration": 903,
                        "passed_time": 63.50488629,
                        "remaining_time": 2.318209345
                      },
                      {
                        "learn": [
                          0.2528962241
                        ],
                        "iteration": 904,
                        "passed_time": 63.56736442,
                        "remaining_time": 2.247685814
                      },
                      {
                        "learn": [
                          0.2528851602
                        ],
                        "iteration": 905,
                        "passed_time": 63.65078783,
                        "remaining_time": 2.177896714
                      },
                      {
                        "learn": [
                          0.2528660482
                        ],
                        "iteration": 906,
                        "passed_time": 63.72057569,
                        "remaining_time": 2.107626539
                      },
                      {
                        "learn": [
                          0.2528544421
                        ],
                        "iteration": 907,
                        "passed_time": 63.79624017,
                        "remaining_time": 2.037545116
                      },
                      {
                        "learn": [
                          0.2528386341
                        ],
                        "iteration": 908,
                        "passed_time": 63.8700548,
                        "remaining_time": 1.967394427
                      },
                      {
                        "learn": [
                          0.2528299253
                        ],
                        "iteration": 909,
                        "passed_time": 63.94988552,
                        "remaining_time": 1.897414186
                      },
                      {
                        "learn": [
                          0.2528042902
                        ],
                        "iteration": 910,
                        "passed_time": 64.01855101,
                        "remaining_time": 1.827093662
                      },
                      {
                        "learn": [
                          0.252776893
                        ],
                        "iteration": 911,
                        "passed_time": 64.08429957,
                        "remaining_time": 1.756696808
                      },
                      {
                        "learn": [
                          0.2527643041
                        ],
                        "iteration": 912,
                        "passed_time": 64.15162601,
                        "remaining_time": 1.686351615
                      },
                      {
                        "learn": [
                          0.2527466832
                        ],
                        "iteration": 913,
                        "passed_time": 64.22589161,
                        "remaining_time": 1.616187645
                      },
                      {
                        "learn": [
                          0.2527221663
                        ],
                        "iteration": 914,
                        "passed_time": 64.28931239,
                        "remaining_time": 1.545753959
                      },
                      {
                        "learn": [
                          0.2527083915
                        ],
                        "iteration": 915,
                        "passed_time": 64.35553242,
                        "remaining_time": 1.475399761
                      },
                      {
                        "learn": [
                          0.2526851285
                        ],
                        "iteration": 916,
                        "passed_time": 64.42924229,
                        "remaining_time": 1.405217934
                      },
                      {
                        "learn": [
                          0.2526632039
                        ],
                        "iteration": 917,
                        "passed_time": 64.4941718,
                        "remaining_time": 1.334846693
                      },
                      {
                        "learn": [
                          0.2526546645
                        ],
                        "iteration": 918,
                        "passed_time": 64.56356808,
                        "remaining_time": 1.264574783
                      },
                      {
                        "learn": [
                          0.2526319098
                        ],
                        "iteration": 919,
                        "passed_time": 64.64206543,
                        "remaining_time": 1.194472948
                      },
                      {
                        "learn": [
                          0.2526104597
                        ],
                        "iteration": 920,
                        "passed_time": 64.7027349,
                        "remaining_time": 1.124043169
                      },
                      {
                        "learn": [
                          0.2525983114
                        ],
                        "iteration": 921,
                        "passed_time": 64.76466386,
                        "remaining_time": 1.053655052
                      },
                      {
                        "learn": [
                          0.2525862986
                        ],
                        "iteration": 922,
                        "passed_time": 64.84320331,
                        "remaining_time": 0.9835372116
                      },
                      {
                        "learn": [
                          0.2525698637
                        ],
                        "iteration": 923,
                        "passed_time": 64.90633353,
                        "remaining_time": 0.9131843462
                      },
                      {
                        "learn": [
                          0.2525554958
                        ],
                        "iteration": 924,
                        "passed_time": 64.98233603,
                        "remaining_time": 0.843014089
                      },
                      {
                        "learn": [
                          0.2525430595
                        ],
                        "iteration": 925,
                        "passed_time": 65.05679839,
                        "remaining_time": 0.7728129399
                      },
                      {
                        "learn": [
                          0.2525332324
                        ],
                        "iteration": 926,
                        "passed_time": 65.1288286,
                        "remaining_time": 0.7025763603
                      },
                      {
                        "learn": [
                          0.2525218635
                        ],
                        "iteration": 927,
                        "passed_time": 65.20031805,
                        "remaining_time": 0.6323306708
                      },
                      {
                        "learn": [
                          0.2525078007
                        ],
                        "iteration": 928,
                        "passed_time": 65.27239006,
                        "remaining_time": 0.5620873202
                      },
                      {
                        "learn": [
                          0.2524857914
                        ],
                        "iteration": 929,
                        "passed_time": 65.34421169,
                        "remaining_time": 0.4918381525
                      },
                      {
                        "learn": [
                          0.252473067
                        ],
                        "iteration": 930,
                        "passed_time": 65.41594709,
                        "remaining_time": 0.421585051
                      },
                      {
                        "learn": [
                          0.2524421287
                        ],
                        "iteration": 931,
                        "passed_time": 65.48692287,
                        "remaining_time": 0.3513246935
                      },
                      {
                        "learn": [
                          0.2524235081
                        ],
                        "iteration": 932,
                        "passed_time": 65.55220133,
                        "remaining_time": 0.2810383765
                      },
                      {
                        "learn": [
                          0.2523982458
                        ],
                        "iteration": 933,
                        "passed_time": 65.61200182,
                        "remaining_time": 0.2107451879
                      },
                      {
                        "learn": [
                          0.2523869446
                        ],
                        "iteration": 934,
                        "passed_time": 65.671097,
                        "remaining_time": 0.1404729348
                      },
                      {
                        "learn": [
                          0.2523639696
                        ],
                        "iteration": 935,
                        "passed_time": 65.73933953,
                        "remaining_time": 0.0702343371
                      },
                      {
                        "learn": [
                          0.2523412149
                        ],
                        "iteration": 936,
                        "passed_time": 65.80874315,
                        "remaining_time": 0
                      }
                    ],
                    "meta": {
                      "test_sets": [],
                      "test_metrics": [],
                      "learn_metrics": [
                        {
                          "best_value": "Min",
                          "name": "Logloss"
                        }
                      ],
                      "launch_mode": "Train",
                      "parameters": "",
                      "iteration_count": 937,
                      "learn_sets": [
                        "learn"
                      ],
                      "name": "experiment"
                    }
                  }
                }
              }
            },
            "layout": "IPY_MODEL_0b3978163fbe4eea9e14f8497759f854",
            "tabbable": null,
            "tooltip": null
          }
        }
      }
    }
  },
  "nbformat": 4,
  "nbformat_minor": 0
}