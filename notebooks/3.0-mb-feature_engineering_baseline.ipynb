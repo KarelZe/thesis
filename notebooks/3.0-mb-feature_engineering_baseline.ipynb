{
  "cells": [
    {
      "cell_type": "markdown",
      "metadata": {
        "id": "view-in-github",
        "colab_type": "text"
      },
      "source": [
        "<a href=\"https://colab.research.google.com/github/KarelZe/thesis/blob/baseline/notebooks/3.0-mb-feature_engineering_baseline.ipynb\" target=\"_parent\"><img src=\"https://colab.research.google.com/assets/colab-badge.svg\" alt=\"Open In Colab\"/></a>"
      ]
    },
    {
      "cell_type": "code",
      "source": [
        "!pip install catboost==1.1\n",
        "!pip install gcsfs==2022.10.0\n",
        "!pip install ipywidgets==8.0.2\n",
        "!pip install numpy==1.23.4\n",
        "!pip install pandas==1.5.1\n",
        "!pip install optuna==3.0.3\n",
        "!pip install scikit-learn==1.1.3\n",
        "!pip install seaborn==0.12.1\n",
        "!pip install wandb==0.13.4"
      ],
      "metadata": {
        "colab": {
          "base_uri": "https://localhost:8080/"
        },
        "id": "LQwYMQAr-0vu",
        "outputId": "48e898c0-3478-4ac9-b7fe-9309d0b5aca0"
      },
      "execution_count": 1,
      "outputs": [
        {
          "output_type": "stream",
          "name": "stdout",
          "text": [
            "Looking in indexes: https://pypi.org/simple, https://us-python.pkg.dev/colab-wheels/public/simple/\n",
            "Collecting catboost==1.1\n",
            "  Downloading catboost-1.1-cp37-none-manylinux1_x86_64.whl (76.8 MB)\n",
            "\u001b[K     |████████████████████████████████| 76.8 MB 1.2 MB/s \n",
            "\u001b[?25hRequirement already satisfied: plotly in /usr/local/lib/python3.7/dist-packages (from catboost==1.1) (5.5.0)\n",
            "Requirement already satisfied: six in /usr/local/lib/python3.7/dist-packages (from catboost==1.1) (1.15.0)\n",
            "Requirement already satisfied: matplotlib in /usr/local/lib/python3.7/dist-packages (from catboost==1.1) (3.2.2)\n",
            "Requirement already satisfied: scipy in /usr/local/lib/python3.7/dist-packages (from catboost==1.1) (1.7.3)\n",
            "Requirement already satisfied: numpy>=1.16.0 in /usr/local/lib/python3.7/dist-packages (from catboost==1.1) (1.21.6)\n",
            "Requirement already satisfied: pandas>=0.24.0 in /usr/local/lib/python3.7/dist-packages (from catboost==1.1) (1.3.5)\n",
            "Requirement already satisfied: graphviz in /usr/local/lib/python3.7/dist-packages (from catboost==1.1) (0.10.1)\n",
            "Requirement already satisfied: pytz>=2017.3 in /usr/local/lib/python3.7/dist-packages (from pandas>=0.24.0->catboost==1.1) (2022.5)\n",
            "Requirement already satisfied: python-dateutil>=2.7.3 in /usr/local/lib/python3.7/dist-packages (from pandas>=0.24.0->catboost==1.1) (2.8.2)\n",
            "Requirement already satisfied: kiwisolver>=1.0.1 in /usr/local/lib/python3.7/dist-packages (from matplotlib->catboost==1.1) (1.4.4)\n",
            "Requirement already satisfied: cycler>=0.10 in /usr/local/lib/python3.7/dist-packages (from matplotlib->catboost==1.1) (0.11.0)\n",
            "Requirement already satisfied: pyparsing!=2.0.4,!=2.1.2,!=2.1.6,>=2.0.1 in /usr/local/lib/python3.7/dist-packages (from matplotlib->catboost==1.1) (3.0.9)\n",
            "Requirement already satisfied: typing-extensions in /usr/local/lib/python3.7/dist-packages (from kiwisolver>=1.0.1->matplotlib->catboost==1.1) (4.1.1)\n",
            "Requirement already satisfied: tenacity>=6.2.0 in /usr/local/lib/python3.7/dist-packages (from plotly->catboost==1.1) (8.1.0)\n",
            "Installing collected packages: catboost\n",
            "Successfully installed catboost-1.1\n",
            "Looking in indexes: https://pypi.org/simple, https://us-python.pkg.dev/colab-wheels/public/simple/\n",
            "Collecting gcsfs==2022.10.0\n",
            "  Downloading gcsfs-2022.10.0-py2.py3-none-any.whl (25 kB)\n",
            "Requirement already satisfied: fsspec==2022.10.0 in /usr/local/lib/python3.7/dist-packages (from gcsfs==2022.10.0) (2022.10.0)\n",
            "Requirement already satisfied: google-auth>=1.2 in /usr/local/lib/python3.7/dist-packages (from gcsfs==2022.10.0) (1.35.0)\n",
            "Requirement already satisfied: google-auth-oauthlib in /usr/local/lib/python3.7/dist-packages (from gcsfs==2022.10.0) (0.4.6)\n",
            "Requirement already satisfied: decorator>4.1.2 in /usr/local/lib/python3.7/dist-packages (from gcsfs==2022.10.0) (4.4.2)\n",
            "Requirement already satisfied: requests in /usr/local/lib/python3.7/dist-packages (from gcsfs==2022.10.0) (2.23.0)\n",
            "Requirement already satisfied: aiohttp!=4.0.0a0,!=4.0.0a1 in /usr/local/lib/python3.7/dist-packages (from gcsfs==2022.10.0) (3.8.3)\n",
            "Requirement already satisfied: google-cloud-storage in /usr/local/lib/python3.7/dist-packages (from gcsfs==2022.10.0) (1.18.1)\n",
            "Requirement already satisfied: attrs>=17.3.0 in /usr/local/lib/python3.7/dist-packages (from aiohttp!=4.0.0a0,!=4.0.0a1->gcsfs==2022.10.0) (22.1.0)\n",
            "Requirement already satisfied: yarl<2.0,>=1.0 in /usr/local/lib/python3.7/dist-packages (from aiohttp!=4.0.0a0,!=4.0.0a1->gcsfs==2022.10.0) (1.8.1)\n",
            "Requirement already satisfied: charset-normalizer<3.0,>=2.0 in /usr/local/lib/python3.7/dist-packages (from aiohttp!=4.0.0a0,!=4.0.0a1->gcsfs==2022.10.0) (2.1.1)\n",
            "Requirement already satisfied: async-timeout<5.0,>=4.0.0a3 in /usr/local/lib/python3.7/dist-packages (from aiohttp!=4.0.0a0,!=4.0.0a1->gcsfs==2022.10.0) (4.0.2)\n",
            "Requirement already satisfied: multidict<7.0,>=4.5 in /usr/local/lib/python3.7/dist-packages (from aiohttp!=4.0.0a0,!=4.0.0a1->gcsfs==2022.10.0) (6.0.2)\n",
            "Requirement already satisfied: asynctest==0.13.0 in /usr/local/lib/python3.7/dist-packages (from aiohttp!=4.0.0a0,!=4.0.0a1->gcsfs==2022.10.0) (0.13.0)\n",
            "Requirement already satisfied: aiosignal>=1.1.2 in /usr/local/lib/python3.7/dist-packages (from aiohttp!=4.0.0a0,!=4.0.0a1->gcsfs==2022.10.0) (1.2.0)\n",
            "Requirement already satisfied: typing-extensions>=3.7.4 in /usr/local/lib/python3.7/dist-packages (from aiohttp!=4.0.0a0,!=4.0.0a1->gcsfs==2022.10.0) (4.1.1)\n",
            "Requirement already satisfied: frozenlist>=1.1.1 in /usr/local/lib/python3.7/dist-packages (from aiohttp!=4.0.0a0,!=4.0.0a1->gcsfs==2022.10.0) (1.3.1)\n",
            "Requirement already satisfied: six>=1.9.0 in /usr/local/lib/python3.7/dist-packages (from google-auth>=1.2->gcsfs==2022.10.0) (1.15.0)\n",
            "Requirement already satisfied: cachetools<5.0,>=2.0.0 in /usr/local/lib/python3.7/dist-packages (from google-auth>=1.2->gcsfs==2022.10.0) (4.2.4)\n",
            "Requirement already satisfied: pyasn1-modules>=0.2.1 in /usr/local/lib/python3.7/dist-packages (from google-auth>=1.2->gcsfs==2022.10.0) (0.2.8)\n",
            "Requirement already satisfied: setuptools>=40.3.0 in /usr/local/lib/python3.7/dist-packages (from google-auth>=1.2->gcsfs==2022.10.0) (57.4.0)\n",
            "Requirement already satisfied: rsa<5,>=3.1.4 in /usr/local/lib/python3.7/dist-packages (from google-auth>=1.2->gcsfs==2022.10.0) (4.9)\n",
            "Requirement already satisfied: pyasn1<0.5.0,>=0.4.6 in /usr/local/lib/python3.7/dist-packages (from pyasn1-modules>=0.2.1->google-auth>=1.2->gcsfs==2022.10.0) (0.4.8)\n",
            "Requirement already satisfied: idna>=2.0 in /usr/local/lib/python3.7/dist-packages (from yarl<2.0,>=1.0->aiohttp!=4.0.0a0,!=4.0.0a1->gcsfs==2022.10.0) (2.10)\n",
            "Requirement already satisfied: requests-oauthlib>=0.7.0 in /usr/local/lib/python3.7/dist-packages (from google-auth-oauthlib->gcsfs==2022.10.0) (1.3.1)\n",
            "Requirement already satisfied: oauthlib>=3.0.0 in /usr/local/lib/python3.7/dist-packages (from requests-oauthlib>=0.7.0->google-auth-oauthlib->gcsfs==2022.10.0) (3.2.2)\n",
            "Requirement already satisfied: certifi>=2017.4.17 in /usr/local/lib/python3.7/dist-packages (from requests->gcsfs==2022.10.0) (2022.9.24)\n",
            "Requirement already satisfied: chardet<4,>=3.0.2 in /usr/local/lib/python3.7/dist-packages (from requests->gcsfs==2022.10.0) (3.0.4)\n",
            "Requirement already satisfied: urllib3!=1.25.0,!=1.25.1,<1.26,>=1.21.1 in /usr/local/lib/python3.7/dist-packages (from requests->gcsfs==2022.10.0) (1.24.3)\n",
            "Requirement already satisfied: google-resumable-media<0.5.0dev,>=0.3.1 in /usr/local/lib/python3.7/dist-packages (from google-cloud-storage->gcsfs==2022.10.0) (0.4.1)\n",
            "Requirement already satisfied: google-cloud-core<2.0dev,>=1.0.0 in /usr/local/lib/python3.7/dist-packages (from google-cloud-storage->gcsfs==2022.10.0) (1.0.3)\n",
            "Requirement already satisfied: google-api-core<2.0.0dev,>=1.14.0 in /usr/local/lib/python3.7/dist-packages (from google-cloud-core<2.0dev,>=1.0.0->google-cloud-storage->gcsfs==2022.10.0) (1.31.6)\n",
            "Requirement already satisfied: pytz in /usr/local/lib/python3.7/dist-packages (from google-api-core<2.0.0dev,>=1.14.0->google-cloud-core<2.0dev,>=1.0.0->google-cloud-storage->gcsfs==2022.10.0) (2022.5)\n",
            "Requirement already satisfied: googleapis-common-protos<2.0dev,>=1.6.0 in /usr/local/lib/python3.7/dist-packages (from google-api-core<2.0.0dev,>=1.14.0->google-cloud-core<2.0dev,>=1.0.0->google-cloud-storage->gcsfs==2022.10.0) (1.56.4)\n",
            "Requirement already satisfied: packaging>=14.3 in /usr/local/lib/python3.7/dist-packages (from google-api-core<2.0.0dev,>=1.14.0->google-cloud-core<2.0dev,>=1.0.0->google-cloud-storage->gcsfs==2022.10.0) (21.3)\n",
            "Requirement already satisfied: protobuf<4.0.0dev,>=3.12.0 in /usr/local/lib/python3.7/dist-packages (from google-api-core<2.0.0dev,>=1.14.0->google-cloud-core<2.0dev,>=1.0.0->google-cloud-storage->gcsfs==2022.10.0) (3.17.3)\n",
            "Requirement already satisfied: pyparsing!=3.0.5,>=2.0.2 in /usr/local/lib/python3.7/dist-packages (from packaging>=14.3->google-api-core<2.0.0dev,>=1.14.0->google-cloud-core<2.0dev,>=1.0.0->google-cloud-storage->gcsfs==2022.10.0) (3.0.9)\n",
            "Installing collected packages: gcsfs\n",
            "Successfully installed gcsfs-2022.10.0\n",
            "Looking in indexes: https://pypi.org/simple, https://us-python.pkg.dev/colab-wheels/public/simple/\n",
            "Collecting ipywidgets==8.0.2\n",
            "  Downloading ipywidgets-8.0.2-py3-none-any.whl (134 kB)\n",
            "\u001b[K     |████████████████████████████████| 134 kB 32.8 MB/s \n",
            "\u001b[?25hRequirement already satisfied: ipykernel>=4.5.1 in /usr/local/lib/python3.7/dist-packages (from ipywidgets==8.0.2) (5.3.4)\n",
            "Requirement already satisfied: jupyterlab-widgets~=3.0 in /usr/local/lib/python3.7/dist-packages (from ipywidgets==8.0.2) (3.0.3)\n",
            "Collecting widgetsnbextension~=4.0\n",
            "  Downloading widgetsnbextension-4.0.3-py3-none-any.whl (2.0 MB)\n",
            "\u001b[K     |████████████████████████████████| 2.0 MB 88.8 MB/s \n",
            "\u001b[?25hRequirement already satisfied: traitlets>=4.3.1 in /usr/local/lib/python3.7/dist-packages (from ipywidgets==8.0.2) (5.1.1)\n",
            "Requirement already satisfied: ipython>=6.1.0 in /usr/local/lib/python3.7/dist-packages (from ipywidgets==8.0.2) (7.9.0)\n",
            "Requirement already satisfied: tornado>=4.2 in /usr/local/lib/python3.7/dist-packages (from ipykernel>=4.5.1->ipywidgets==8.0.2) (5.1.1)\n",
            "Requirement already satisfied: jupyter-client in /usr/local/lib/python3.7/dist-packages (from ipykernel>=4.5.1->ipywidgets==8.0.2) (6.1.12)\n",
            "Requirement already satisfied: pygments in /usr/local/lib/python3.7/dist-packages (from ipython>=6.1.0->ipywidgets==8.0.2) (2.6.1)\n",
            "Requirement already satisfied: backcall in /usr/local/lib/python3.7/dist-packages (from ipython>=6.1.0->ipywidgets==8.0.2) (0.2.0)\n",
            "Requirement already satisfied: pexpect in /usr/local/lib/python3.7/dist-packages (from ipython>=6.1.0->ipywidgets==8.0.2) (4.8.0)\n",
            "Requirement already satisfied: prompt-toolkit<2.1.0,>=2.0.0 in /usr/local/lib/python3.7/dist-packages (from ipython>=6.1.0->ipywidgets==8.0.2) (2.0.10)\n",
            "Requirement already satisfied: decorator in /usr/local/lib/python3.7/dist-packages (from ipython>=6.1.0->ipywidgets==8.0.2) (4.4.2)\n",
            "Requirement already satisfied: setuptools>=18.5 in /usr/local/lib/python3.7/dist-packages (from ipython>=6.1.0->ipywidgets==8.0.2) (57.4.0)\n",
            "Requirement already satisfied: pickleshare in /usr/local/lib/python3.7/dist-packages (from ipython>=6.1.0->ipywidgets==8.0.2) (0.7.5)\n",
            "Collecting jedi>=0.10\n",
            "  Downloading jedi-0.18.1-py2.py3-none-any.whl (1.6 MB)\n",
            "\u001b[K     |████████████████████████████████| 1.6 MB 75.6 MB/s \n",
            "\u001b[?25hRequirement already satisfied: parso<0.9.0,>=0.8.0 in /usr/local/lib/python3.7/dist-packages (from jedi>=0.10->ipython>=6.1.0->ipywidgets==8.0.2) (0.8.3)\n",
            "Requirement already satisfied: wcwidth in /usr/local/lib/python3.7/dist-packages (from prompt-toolkit<2.1.0,>=2.0.0->ipython>=6.1.0->ipywidgets==8.0.2) (0.2.5)\n",
            "Requirement already satisfied: six>=1.9.0 in /usr/local/lib/python3.7/dist-packages (from prompt-toolkit<2.1.0,>=2.0.0->ipython>=6.1.0->ipywidgets==8.0.2) (1.15.0)\n",
            "Requirement already satisfied: python-dateutil>=2.1 in /usr/local/lib/python3.7/dist-packages (from jupyter-client->ipykernel>=4.5.1->ipywidgets==8.0.2) (2.8.2)\n",
            "Requirement already satisfied: pyzmq>=13 in /usr/local/lib/python3.7/dist-packages (from jupyter-client->ipykernel>=4.5.1->ipywidgets==8.0.2) (23.2.1)\n",
            "Requirement already satisfied: jupyter-core>=4.6.0 in /usr/local/lib/python3.7/dist-packages (from jupyter-client->ipykernel>=4.5.1->ipywidgets==8.0.2) (4.11.2)\n",
            "Requirement already satisfied: ptyprocess>=0.5 in /usr/local/lib/python3.7/dist-packages (from pexpect->ipython>=6.1.0->ipywidgets==8.0.2) (0.7.0)\n",
            "Installing collected packages: jedi, widgetsnbextension, ipywidgets\n",
            "  Attempting uninstall: widgetsnbextension\n",
            "    Found existing installation: widgetsnbextension 3.6.1\n",
            "    Uninstalling widgetsnbextension-3.6.1:\n",
            "      Successfully uninstalled widgetsnbextension-3.6.1\n",
            "  Attempting uninstall: ipywidgets\n",
            "    Found existing installation: ipywidgets 7.7.1\n",
            "    Uninstalling ipywidgets-7.7.1:\n",
            "      Successfully uninstalled ipywidgets-7.7.1\n",
            "Successfully installed ipywidgets-8.0.2 jedi-0.18.1 widgetsnbextension-4.0.3\n",
            "Looking in indexes: https://pypi.org/simple, https://us-python.pkg.dev/colab-wheels/public/simple/\n",
            "\u001b[31mERROR: Could not find a version that satisfies the requirement numpy==1.23.4 (from versions: 1.3.0, 1.4.1, 1.5.0, 1.5.1, 1.6.0, 1.6.1, 1.6.2, 1.7.0, 1.7.1, 1.7.2, 1.8.0, 1.8.1, 1.8.2, 1.9.0, 1.9.1, 1.9.2, 1.9.3, 1.10.0.post2, 1.10.1, 1.10.2, 1.10.4, 1.11.0, 1.11.1, 1.11.2, 1.11.3, 1.12.0, 1.12.1, 1.13.0rc1, 1.13.0rc2, 1.13.0, 1.13.1, 1.13.3, 1.14.0rc1, 1.14.0, 1.14.1, 1.14.2, 1.14.3, 1.14.4, 1.14.5, 1.14.6, 1.15.0rc1, 1.15.0rc2, 1.15.0, 1.15.1, 1.15.2, 1.15.3, 1.15.4, 1.16.0rc1, 1.16.0rc2, 1.16.0, 1.16.1, 1.16.2, 1.16.3, 1.16.4, 1.16.5, 1.16.6, 1.17.0rc1, 1.17.0rc2, 1.17.0, 1.17.1, 1.17.2, 1.17.3, 1.17.4, 1.17.5, 1.18.0rc1, 1.18.0, 1.18.1, 1.18.2, 1.18.3, 1.18.4, 1.18.5, 1.19.0rc1, 1.19.0rc2, 1.19.0, 1.19.1, 1.19.2, 1.19.3, 1.19.4, 1.19.5, 1.20.0rc1, 1.20.0rc2, 1.20.0, 1.20.1, 1.20.2, 1.20.3, 1.21.0rc1, 1.21.0rc2, 1.21.0, 1.21.1, 1.21.2, 1.21.3, 1.21.4, 1.21.5, 1.21.6)\u001b[0m\n",
            "\u001b[31mERROR: No matching distribution found for numpy==1.23.4\u001b[0m\n",
            "Looking in indexes: https://pypi.org/simple, https://us-python.pkg.dev/colab-wheels/public/simple/\n",
            "\u001b[31mERROR: Could not find a version that satisfies the requirement pandas==1.5.1 (from versions: 0.1, 0.2, 0.3.0, 0.4.0, 0.4.1, 0.4.2, 0.4.3, 0.5.0, 0.6.0, 0.6.1, 0.7.0, 0.7.1, 0.7.2, 0.7.3, 0.8.0, 0.8.1, 0.9.0, 0.9.1, 0.10.0, 0.10.1, 0.11.0, 0.12.0, 0.13.0, 0.13.1, 0.14.0, 0.14.1, 0.15.0, 0.15.1, 0.15.2, 0.16.0, 0.16.1, 0.16.2, 0.17.0, 0.17.1, 0.18.0, 0.18.1, 0.19.0, 0.19.1, 0.19.2, 0.20.0, 0.20.1, 0.20.2, 0.20.3, 0.21.0, 0.21.1, 0.22.0, 0.23.0, 0.23.1, 0.23.2, 0.23.3, 0.23.4, 0.24.0, 0.24.1, 0.24.2, 0.25.0, 0.25.1, 0.25.2, 0.25.3, 1.0.0, 1.0.1, 1.0.2, 1.0.3, 1.0.4, 1.0.5, 1.1.0, 1.1.1, 1.1.2, 1.1.3, 1.1.4, 1.1.5, 1.2.0, 1.2.1, 1.2.2, 1.2.3, 1.2.4, 1.2.5, 1.3.0, 1.3.1, 1.3.2, 1.3.3, 1.3.4, 1.3.5)\u001b[0m\n",
            "\u001b[31mERROR: No matching distribution found for pandas==1.5.1\u001b[0m\n",
            "Looking in indexes: https://pypi.org/simple, https://us-python.pkg.dev/colab-wheels/public/simple/\n",
            "Collecting optuna==3.0.3\n",
            "  Downloading optuna-3.0.3-py3-none-any.whl (348 kB)\n",
            "\u001b[K     |████████████████████████████████| 348 kB 37.9 MB/s \n",
            "\u001b[?25hRequirement already satisfied: importlib-metadata<5.0.0 in /usr/local/lib/python3.7/dist-packages (from optuna==3.0.3) (4.13.0)\n",
            "Requirement already satisfied: scipy<1.9.0,>=1.7.0 in /usr/local/lib/python3.7/dist-packages (from optuna==3.0.3) (1.7.3)\n",
            "Requirement already satisfied: sqlalchemy>=1.3.0 in /usr/local/lib/python3.7/dist-packages (from optuna==3.0.3) (1.4.42)\n",
            "Requirement already satisfied: packaging>=20.0 in /usr/local/lib/python3.7/dist-packages (from optuna==3.0.3) (21.3)\n",
            "Collecting cliff\n",
            "  Downloading cliff-3.10.1-py3-none-any.whl (81 kB)\n",
            "\u001b[K     |████████████████████████████████| 81 kB 8.3 MB/s \n",
            "\u001b[?25hCollecting colorlog\n",
            "  Downloading colorlog-6.7.0-py2.py3-none-any.whl (11 kB)\n",
            "Requirement already satisfied: numpy in /usr/local/lib/python3.7/dist-packages (from optuna==3.0.3) (1.21.6)\n",
            "Collecting cmaes>=0.8.2\n",
            "  Downloading cmaes-0.8.2-py3-none-any.whl (15 kB)\n",
            "Requirement already satisfied: tqdm in /usr/local/lib/python3.7/dist-packages (from optuna==3.0.3) (4.64.1)\n",
            "Collecting alembic>=1.5.0\n",
            "  Downloading alembic-1.8.1-py3-none-any.whl (209 kB)\n",
            "\u001b[K     |████████████████████████████████| 209 kB 83.8 MB/s \n",
            "\u001b[?25hRequirement already satisfied: PyYAML in /usr/local/lib/python3.7/dist-packages (from optuna==3.0.3) (6.0)\n",
            "Requirement already satisfied: importlib-resources in /usr/local/lib/python3.7/dist-packages (from alembic>=1.5.0->optuna==3.0.3) (5.10.0)\n",
            "Collecting Mako\n",
            "  Downloading Mako-1.2.3-py3-none-any.whl (78 kB)\n",
            "\u001b[K     |████████████████████████████████| 78 kB 8.4 MB/s \n",
            "\u001b[?25hRequirement already satisfied: zipp>=0.5 in /usr/local/lib/python3.7/dist-packages (from importlib-metadata<5.0.0->optuna==3.0.3) (3.10.0)\n",
            "Requirement already satisfied: typing-extensions>=3.6.4 in /usr/local/lib/python3.7/dist-packages (from importlib-metadata<5.0.0->optuna==3.0.3) (4.1.1)\n",
            "Requirement already satisfied: pyparsing!=3.0.5,>=2.0.2 in /usr/local/lib/python3.7/dist-packages (from packaging>=20.0->optuna==3.0.3) (3.0.9)\n",
            "Requirement already satisfied: greenlet!=0.4.17 in /usr/local/lib/python3.7/dist-packages (from sqlalchemy>=1.3.0->optuna==3.0.3) (1.1.3.post0)\n",
            "Collecting stevedore>=2.0.1\n",
            "  Downloading stevedore-3.5.2-py3-none-any.whl (50 kB)\n",
            "\u001b[K     |████████████████████████████████| 50 kB 8.2 MB/s \n",
            "\u001b[?25hCollecting pbr!=2.1.0,>=2.0.0\n",
            "  Downloading pbr-5.11.0-py2.py3-none-any.whl (112 kB)\n",
            "\u001b[K     |████████████████████████████████| 112 kB 83.9 MB/s \n",
            "\u001b[?25hCollecting cmd2>=1.0.0\n",
            "  Downloading cmd2-2.4.2-py3-none-any.whl (147 kB)\n",
            "\u001b[K     |████████████████████████████████| 147 kB 86.6 MB/s \n",
            "\u001b[?25hRequirement already satisfied: PrettyTable>=0.7.2 in /usr/local/lib/python3.7/dist-packages (from cliff->optuna==3.0.3) (3.4.1)\n",
            "Collecting autopage>=0.4.0\n",
            "  Downloading autopage-0.5.1-py3-none-any.whl (29 kB)\n",
            "Collecting pyperclip>=1.6\n",
            "  Downloading pyperclip-1.8.2.tar.gz (20 kB)\n",
            "Requirement already satisfied: attrs>=16.3.0 in /usr/local/lib/python3.7/dist-packages (from cmd2>=1.0.0->cliff->optuna==3.0.3) (22.1.0)\n",
            "Requirement already satisfied: wcwidth>=0.1.7 in /usr/local/lib/python3.7/dist-packages (from cmd2>=1.0.0->cliff->optuna==3.0.3) (0.2.5)\n",
            "Requirement already satisfied: MarkupSafe>=0.9.2 in /usr/local/lib/python3.7/dist-packages (from Mako->alembic>=1.5.0->optuna==3.0.3) (2.0.1)\n",
            "Building wheels for collected packages: pyperclip\n",
            "  Building wheel for pyperclip (setup.py) ... \u001b[?25l\u001b[?25hdone\n",
            "  Created wheel for pyperclip: filename=pyperclip-1.8.2-py3-none-any.whl size=11137 sha256=571f439909c5ee8c98b6f66ec62f07336920bbefcf40876fd14e39841086605f\n",
            "  Stored in directory: /root/.cache/pip/wheels/9f/18/84/8f69f8b08169c7bae2dde6bd7daf0c19fca8c8e500ee620a28\n",
            "Successfully built pyperclip\n",
            "Installing collected packages: pyperclip, pbr, stevedore, Mako, cmd2, autopage, colorlog, cmaes, cliff, alembic, optuna\n",
            "Successfully installed Mako-1.2.3 alembic-1.8.1 autopage-0.5.1 cliff-3.10.1 cmaes-0.8.2 cmd2-2.4.2 colorlog-6.7.0 optuna-3.0.3 pbr-5.11.0 pyperclip-1.8.2 stevedore-3.5.2\n",
            "Looking in indexes: https://pypi.org/simple, https://us-python.pkg.dev/colab-wheels/public/simple/\n",
            "\u001b[31mERROR: Could not find a version that satisfies the requirement scikit-learn==1.1.3 (from versions: 0.9, 0.10, 0.11, 0.12, 0.12.1, 0.13, 0.13.1, 0.14, 0.14.1, 0.15.0b1, 0.15.0b2, 0.15.0, 0.15.1, 0.15.2, 0.16b1, 0.16.0, 0.16.1, 0.17b1, 0.17, 0.17.1, 0.18, 0.18.1, 0.18.2, 0.19b2, 0.19.0, 0.19.1, 0.19.2, 0.20rc1, 0.20.0, 0.20.1, 0.20.2, 0.20.3, 0.20.4, 0.21rc2, 0.21.0, 0.21.1, 0.21.2, 0.21.3, 0.22rc2.post1, 0.22rc3, 0.22, 0.22.1, 0.22.2, 0.22.2.post1, 0.23.0rc1, 0.23.0, 0.23.1, 0.23.2, 0.24.dev0, 0.24.0rc1, 0.24.0, 0.24.1, 0.24.2, 1.0rc1, 1.0rc2, 1.0, 1.0.1, 1.0.2)\u001b[0m\n",
            "\u001b[31mERROR: No matching distribution found for scikit-learn==1.1.3\u001b[0m\n",
            "Looking in indexes: https://pypi.org/simple, https://us-python.pkg.dev/colab-wheels/public/simple/\n",
            "Collecting seaborn==0.12.1\n",
            "  Downloading seaborn-0.12.1-py3-none-any.whl (288 kB)\n",
            "\u001b[K     |████████████████████████████████| 288 kB 32.1 MB/s \n",
            "\u001b[?25hRequirement already satisfied: typing_extensions in /usr/local/lib/python3.7/dist-packages (from seaborn==0.12.1) (4.1.1)\n",
            "Requirement already satisfied: pandas>=0.25 in /usr/local/lib/python3.7/dist-packages (from seaborn==0.12.1) (1.3.5)\n",
            "Requirement already satisfied: numpy>=1.17 in /usr/local/lib/python3.7/dist-packages (from seaborn==0.12.1) (1.21.6)\n",
            "Requirement already satisfied: matplotlib!=3.6.1,>=3.1 in /usr/local/lib/python3.7/dist-packages (from seaborn==0.12.1) (3.2.2)\n",
            "Requirement already satisfied: pyparsing!=2.0.4,!=2.1.2,!=2.1.6,>=2.0.1 in /usr/local/lib/python3.7/dist-packages (from matplotlib!=3.6.1,>=3.1->seaborn==0.12.1) (3.0.9)\n",
            "Requirement already satisfied: kiwisolver>=1.0.1 in /usr/local/lib/python3.7/dist-packages (from matplotlib!=3.6.1,>=3.1->seaborn==0.12.1) (1.4.4)\n",
            "Requirement already satisfied: cycler>=0.10 in /usr/local/lib/python3.7/dist-packages (from matplotlib!=3.6.1,>=3.1->seaborn==0.12.1) (0.11.0)\n",
            "Requirement already satisfied: python-dateutil>=2.1 in /usr/local/lib/python3.7/dist-packages (from matplotlib!=3.6.1,>=3.1->seaborn==0.12.1) (2.8.2)\n",
            "Requirement already satisfied: pytz>=2017.3 in /usr/local/lib/python3.7/dist-packages (from pandas>=0.25->seaborn==0.12.1) (2022.5)\n",
            "Requirement already satisfied: six>=1.5 in /usr/local/lib/python3.7/dist-packages (from python-dateutil>=2.1->matplotlib!=3.6.1,>=3.1->seaborn==0.12.1) (1.15.0)\n",
            "Installing collected packages: seaborn\n",
            "  Attempting uninstall: seaborn\n",
            "    Found existing installation: seaborn 0.11.2\n",
            "    Uninstalling seaborn-0.11.2:\n",
            "      Successfully uninstalled seaborn-0.11.2\n",
            "Successfully installed seaborn-0.12.1\n",
            "Looking in indexes: https://pypi.org/simple, https://us-python.pkg.dev/colab-wheels/public/simple/\n",
            "Collecting wandb==0.13.4\n",
            "  Downloading wandb-0.13.4-py2.py3-none-any.whl (1.9 MB)\n",
            "\u001b[K     |████████████████████████████████| 1.9 MB 26.7 MB/s \n",
            "\u001b[?25hCollecting GitPython>=1.0.0\n",
            "  Downloading GitPython-3.1.29-py3-none-any.whl (182 kB)\n",
            "\u001b[K     |████████████████████████████████| 182 kB 84.2 MB/s \n",
            "\u001b[?25hCollecting sentry-sdk>=1.0.0\n",
            "  Downloading sentry_sdk-1.10.1-py2.py3-none-any.whl (166 kB)\n",
            "\u001b[K     |████████████████████████████████| 166 kB 84.7 MB/s \n",
            "\u001b[?25hRequirement already satisfied: PyYAML in /usr/local/lib/python3.7/dist-packages (from wandb==0.13.4) (6.0)\n",
            "Requirement already satisfied: setuptools in /usr/local/lib/python3.7/dist-packages (from wandb==0.13.4) (57.4.0)\n",
            "Requirement already satisfied: promise<3,>=2.0 in /usr/local/lib/python3.7/dist-packages (from wandb==0.13.4) (2.3)\n",
            "Requirement already satisfied: Click!=8.0.0,>=7.0 in /usr/local/lib/python3.7/dist-packages (from wandb==0.13.4) (7.1.2)\n",
            "Collecting setproctitle\n",
            "  Downloading setproctitle-1.3.2-cp37-cp37m-manylinux_2_5_x86_64.manylinux1_x86_64.manylinux_2_17_x86_64.manylinux2014_x86_64.whl (30 kB)\n",
            "Requirement already satisfied: six>=1.13.0 in /usr/local/lib/python3.7/dist-packages (from wandb==0.13.4) (1.15.0)\n",
            "Requirement already satisfied: psutil>=5.0.0 in /usr/local/lib/python3.7/dist-packages (from wandb==0.13.4) (5.4.8)\n",
            "Requirement already satisfied: protobuf!=4.0.*,!=4.21.0,<5,>=3.12.0 in /usr/local/lib/python3.7/dist-packages (from wandb==0.13.4) (3.17.3)\n",
            "Requirement already satisfied: requests<3,>=2.0.0 in /usr/local/lib/python3.7/dist-packages (from wandb==0.13.4) (2.23.0)\n",
            "Collecting docker-pycreds>=0.4.0\n",
            "  Downloading docker_pycreds-0.4.0-py2.py3-none-any.whl (9.0 kB)\n",
            "Collecting shortuuid>=0.5.0\n",
            "  Downloading shortuuid-1.0.9-py3-none-any.whl (9.4 kB)\n",
            "Collecting pathtools\n",
            "  Downloading pathtools-0.1.2.tar.gz (11 kB)\n",
            "Requirement already satisfied: typing-extensions>=3.7.4.3 in /usr/local/lib/python3.7/dist-packages (from GitPython>=1.0.0->wandb==0.13.4) (4.1.1)\n",
            "Collecting gitdb<5,>=4.0.1\n",
            "  Downloading gitdb-4.0.9-py3-none-any.whl (63 kB)\n",
            "\u001b[K     |████████████████████████████████| 63 kB 2.0 MB/s \n",
            "\u001b[?25hCollecting smmap<6,>=3.0.1\n",
            "  Downloading smmap-5.0.0-py3-none-any.whl (24 kB)\n",
            "Requirement already satisfied: idna<3,>=2.5 in /usr/local/lib/python3.7/dist-packages (from requests<3,>=2.0.0->wandb==0.13.4) (2.10)\n",
            "Requirement already satisfied: chardet<4,>=3.0.2 in /usr/local/lib/python3.7/dist-packages (from requests<3,>=2.0.0->wandb==0.13.4) (3.0.4)\n",
            "Requirement already satisfied: urllib3!=1.25.0,!=1.25.1,<1.26,>=1.21.1 in /usr/local/lib/python3.7/dist-packages (from requests<3,>=2.0.0->wandb==0.13.4) (1.24.3)\n",
            "Requirement already satisfied: certifi>=2017.4.17 in /usr/local/lib/python3.7/dist-packages (from requests<3,>=2.0.0->wandb==0.13.4) (2022.9.24)\n",
            "Collecting sentry-sdk>=1.0.0\n",
            "  Downloading sentry_sdk-1.10.0-py2.py3-none-any.whl (166 kB)\n",
            "\u001b[K     |████████████████████████████████| 166 kB 82.5 MB/s \n",
            "\u001b[?25h  Downloading sentry_sdk-1.9.10-py2.py3-none-any.whl (162 kB)\n",
            "\u001b[K     |████████████████████████████████| 162 kB 80.9 MB/s \n",
            "\u001b[?25h  Downloading sentry_sdk-1.9.9-py2.py3-none-any.whl (162 kB)\n",
            "\u001b[K     |████████████████████████████████| 162 kB 85.9 MB/s \n",
            "\u001b[?25h  Downloading sentry_sdk-1.9.8-py2.py3-none-any.whl (158 kB)\n",
            "\u001b[K     |████████████████████████████████| 158 kB 85.4 MB/s \n",
            "\u001b[?25h  Downloading sentry_sdk-1.9.7-py2.py3-none-any.whl (157 kB)\n",
            "\u001b[K     |████████████████████████████████| 157 kB 83.0 MB/s \n",
            "\u001b[?25h  Downloading sentry_sdk-1.9.6-py2.py3-none-any.whl (157 kB)\n",
            "\u001b[K     |████████████████████████████████| 157 kB 84.8 MB/s \n",
            "\u001b[?25h  Downloading sentry_sdk-1.9.5-py2.py3-none-any.whl (157 kB)\n",
            "\u001b[K     |████████████████████████████████| 157 kB 85.5 MB/s \n",
            "\u001b[?25h  Downloading sentry_sdk-1.9.4-py2.py3-none-any.whl (157 kB)\n",
            "\u001b[K     |████████████████████████████████| 157 kB 87.0 MB/s \n",
            "\u001b[?25h  Downloading sentry_sdk-1.9.3-py2.py3-none-any.whl (157 kB)\n",
            "\u001b[K     |████████████████████████████████| 157 kB 83.1 MB/s \n",
            "\u001b[?25h  Downloading sentry_sdk-1.9.2-py2.py3-none-any.whl (157 kB)\n",
            "\u001b[K     |████████████████████████████████| 157 kB 86.8 MB/s \n",
            "\u001b[?25h  Downloading sentry_sdk-1.9.1-py2.py3-none-any.whl (157 kB)\n",
            "\u001b[K     |████████████████████████████████| 157 kB 68.3 MB/s \n",
            "\u001b[?25h  Downloading sentry_sdk-1.9.0-py2.py3-none-any.whl (156 kB)\n",
            "\u001b[K     |████████████████████████████████| 156 kB 68.6 MB/s \n",
            "\u001b[?25hBuilding wheels for collected packages: pathtools\n",
            "  Building wheel for pathtools (setup.py) ... \u001b[?25l\u001b[?25hdone\n",
            "  Created wheel for pathtools: filename=pathtools-0.1.2-py3-none-any.whl size=8806 sha256=7c2ee0bb61a592bd48ab952980c93d4e761a85d7331e8c224c9972731edaaa0e\n",
            "  Stored in directory: /root/.cache/pip/wheels/3e/31/09/fa59cef12cdcfecc627b3d24273699f390e71828921b2cbba2\n",
            "Successfully built pathtools\n",
            "Installing collected packages: smmap, gitdb, shortuuid, setproctitle, sentry-sdk, pathtools, GitPython, docker-pycreds, wandb\n",
            "Successfully installed GitPython-3.1.29 docker-pycreds-0.4.0 gitdb-4.0.9 pathtools-0.1.2 sentry-sdk-1.9.0 setproctitle-1.3.2 shortuuid-1.0.9 smmap-5.0.0 wandb-0.13.4\n"
          ]
        }
      ]
    },
    {
      "cell_type": "code",
      "source": [
        "import os\n",
        "import random\n",
        "\n",
        "from catboost import CatBoostClassifier, MetricVisualizer\n",
        "\n",
        "import gcsfs\n",
        "import google.auth\n",
        "from google.colab import auth, output\n",
        "\n",
        "import numpy as np\n",
        "import pandas as pd\n",
        "import optuna\n",
        "from optuna.integration.wandb import WeightsAndBiasesCallback\n",
        "\n",
        "from sklearn.preprocessing import StandardScaler\n",
        "from sklearn.metrics import accuracy_score\n",
        "\n",
        "import seaborn as sns\n",
        "\n",
        "from tqdm.notebook import tqdm\n",
        "import wandb"
      ],
      "metadata": {
        "id": "7WXF7w4VyVgG"
      },
      "execution_count": 2,
      "outputs": []
    },
    {
      "cell_type": "code",
      "execution_count": 3,
      "metadata": {
        "id": "tOtLR4B0R-ql",
        "colab": {
          "base_uri": "https://localhost:8080/",
          "height": 176
        },
        "outputId": "88e812b5-1551-4613-f13a-55b1ea24e68d"
      },
      "outputs": [
        {
          "output_type": "display_data",
          "data": {
            "text/plain": [
              "<IPython.core.display.Javascript object>"
            ],
            "application/javascript": [
              "\n",
              "        window._wandbApiKey = new Promise((resolve, reject) => {\n",
              "            function loadScript(url) {\n",
              "            return new Promise(function(resolve, reject) {\n",
              "                let newScript = document.createElement(\"script\");\n",
              "                newScript.onerror = reject;\n",
              "                newScript.onload = resolve;\n",
              "                document.body.appendChild(newScript);\n",
              "                newScript.src = url;\n",
              "            });\n",
              "            }\n",
              "            loadScript(\"https://cdn.jsdelivr.net/npm/postmate/build/postmate.min.js\").then(() => {\n",
              "            const iframe = document.createElement('iframe')\n",
              "            iframe.style.cssText = \"width:0;height:0;border:none\"\n",
              "            document.body.appendChild(iframe)\n",
              "            const handshake = new Postmate({\n",
              "                container: iframe,\n",
              "                url: 'https://wandb.ai/authorize'\n",
              "            });\n",
              "            const timeout = setTimeout(() => reject(\"Couldn't auto authenticate\"), 5000)\n",
              "            handshake.then(function(child) {\n",
              "                child.on('authorize', data => {\n",
              "                    clearTimeout(timeout)\n",
              "                    resolve(data)\n",
              "                });\n",
              "            });\n",
              "            })\n",
              "        });\n",
              "    "
            ]
          },
          "metadata": {}
        },
        {
          "output_type": "stream",
          "name": "stderr",
          "text": [
            "\u001b[34m\u001b[1mwandb\u001b[0m: Logging into wandb.ai. (Learn how to deploy a W&B server locally: https://wandb.me/wandb-server)\n",
            "\u001b[34m\u001b[1mwandb\u001b[0m: You can find your API key in your browser here: https://wandb.ai/authorize\n",
            "wandb: Paste an API key from your profile and hit enter, or press ctrl+c to quit: "
          ]
        },
        {
          "name": "stdout",
          "output_type": "stream",
          "text": [
            "··········\n"
          ]
        },
        {
          "output_type": "stream",
          "name": "stderr",
          "text": [
            "\u001b[34m\u001b[1mwandb\u001b[0m: Appending key for api.wandb.ai to your netrc file: /root/.netrc\n"
          ]
        },
        {
          "output_type": "display_data",
          "data": {
            "text/plain": [
              "<IPython.core.display.HTML object>"
            ],
            "text/html": [
              "Tracking run with wandb version 0.13.4"
            ]
          },
          "metadata": {}
        },
        {
          "output_type": "display_data",
          "data": {
            "text/plain": [
              "<IPython.core.display.HTML object>"
            ],
            "text/html": [
              "Run data is saved locally in <code>/content/wandb/run-20221103_070730-r7bdpgfb</code>"
            ]
          },
          "metadata": {}
        },
        {
          "output_type": "display_data",
          "data": {
            "text/plain": [
              "<IPython.core.display.HTML object>"
            ],
            "text/html": [
              "Syncing run <strong><a href=\"https://wandb.ai/fbv/thesis/runs/r7bdpgfb\" target=\"_blank\">peach-deluge-37</a></strong> to <a href=\"https://wandb.ai/fbv/thesis\" target=\"_blank\">Weights & Biases</a> (<a href=\"https://wandb.me/run\" target=\"_blank\">docs</a>)<br/>"
            ]
          },
          "metadata": {}
        }
      ],
      "source": [
        "# connect to weights and biases\n",
        "run = wandb.init(project=\"thesis\", job_type=\"dataset-creation\", entity=\"fbv\")\n",
        "dataset = wandb.Artifact(name='train_val_test', type=\"preprocessed_data\")"
      ]
    },
    {
      "cell_type": "code",
      "source": [
        "# connect to google cloud storage\n",
        "auth.authenticate_user()\n",
        "credentials, _ = google.auth.default()\n",
        "fs = gcsfs.GCSFileSystem(project=\"thesis\", token=credentials)\n",
        "fs_prefix = \"gs://\""
      ],
      "metadata": {
        "id": "A-eGOVujp_TN"
      },
      "execution_count": 4,
      "outputs": []
    },
    {
      "cell_type": "code",
      "source": [
        "output.enable_custom_widget_manager()"
      ],
      "metadata": {
        "id": "oUZrGE8U_kDA"
      },
      "execution_count": 5,
      "outputs": []
    },
    {
      "cell_type": "code",
      "source": [
        "# set fixed seed\n",
        "def seed_everything(seed): \n",
        "  \"\"\" \n",
        "  Seeds basic parameters for reproducibility of results \n",
        "  \"\"\" \n",
        "  os.environ[\"PYTHONHASHSEED\"] = str(seed) \n",
        "  random.seed(seed)\n",
        "\n",
        "seed = 42\n",
        "seed_everything(seed)"
      ],
      "metadata": {
        "id": "EF0_Mz8DYjGz"
      },
      "execution_count": 6,
      "outputs": []
    },
    {
      "cell_type": "code",
      "source": [
        "train = pd.read_parquet(f\"gs://thesis-bucket-option-trade-classification/data/preprocessed/train_set_60.parquet\")\n",
        "val = pd.read_parquet(f\"gs://thesis-bucket-option-trade-classification/data/preprocessed/val_set_20.parquet\")\n",
        "test = pd.read_parquet(f\"gs://thesis-bucket-option-trade-classification/data/preprocessed/test_set_20.parquet\")"
      ],
      "metadata": {
        "id": "WmXtH-PEqyQE"
      },
      "execution_count": 7,
      "outputs": []
    },
    {
      "cell_type": "code",
      "source": [
        "train.head(10)"
      ],
      "metadata": {
        "colab": {
          "base_uri": "https://localhost:8080/",
          "height": 630
        },
        "id": "MYosl7qJwYFS",
        "outputId": "cd8d7691-0e6c-4a80-f82e-36efcc7c1680"
      },
      "execution_count": 8,
      "outputs": [
        {
          "output_type": "execute_result",
          "data": {
            "text/plain": [
              "  UNDERLYING_SYMBOL      QUOTE_DATETIME  SEQUENCE_NUMBER ROOT EXPIRATION  \\\n",
              "0              BRCD 2005-05-02 09:30:02            72515  YNU 2006-01-21   \n",
              "1              SYMC 2005-05-02 09:30:03            65366  SYQ 2005-06-18   \n",
              "2               SPY 2005-05-02 09:30:03            65373  SWG 2005-05-21   \n",
              "3              ADRX 2005-05-02 09:30:03            79195  QAX 2005-06-18   \n",
              "4              ORCL 2005-05-02 09:30:03            95870  ORQ 2005-12-17   \n",
              "5              YHOO 2005-05-02 09:30:03            73595  YHQ 2005-10-22   \n",
              "6              MATK 2005-05-02 09:30:03            80182  KQT 2005-09-17   \n",
              "7              VTSS 2005-05-02 09:30:04            80469  VQT 2005-10-22   \n",
              "8              ADRX 2005-05-02 09:30:04            80342  QAX 2005-09-17   \n",
              "9              IVGN 2005-05-02 09:30:04            97063  IUV 2005-08-20   \n",
              "\n",
              "   STRK_PRC OPTION_TYPE  TRADE_SIZE  TRADE_PRICE  BEST_BID  ...  bid_ex  \\\n",
              "0       2.5           C          10         2.05      1.90  ...    1.90   \n",
              "1      15.0           C          10         3.90      3.60  ...     NaN   \n",
              "2     105.0           C          50        11.20     11.10  ...   11.10   \n",
              "3      25.0           C          10         0.20      0.00  ...    0.00   \n",
              "4      14.0           C          15         0.25      0.30  ...    0.25   \n",
              "5      35.0           P          26         3.00      2.95  ...    2.90   \n",
              "6      65.0           C           2         0.55      0.30  ...    0.30   \n",
              "7       5.0           P          10         2.75      2.70  ...    2.70   \n",
              "8      25.0           C           1         0.60      0.45  ...    0.45   \n",
              "9      65.0           C          10        11.00      0.00  ...     NaN   \n",
              "\n",
              "   bid_size_ex  ask_size_ex  price_all_lead  price_all_lag    optionid  \\\n",
              "0        131.0         20.0            1.90           1.90  21060388.0   \n",
              "1          NaN          NaN            4.00           4.00  31624184.0   \n",
              "2        300.0        300.0           11.80          11.00  31620976.0   \n",
              "3          0.0         86.0            0.15           0.15  31560072.0   \n",
              "4       3356.0        399.0            0.35           0.35  25240212.0   \n",
              "5       1133.0        256.0            3.10           3.40  24020608.0   \n",
              "6         56.0         10.0            0.45           0.45  23989792.0   \n",
              "7         10.0         52.0            2.90           2.90  24019950.0   \n",
              "8         94.0         25.0            0.55           0.50  23983374.0   \n",
              "9          NaN          NaN           13.80           9.90  23797976.0   \n",
              "\n",
              "   day_vol  price_ex_lead  price_ex_lag  buy_sell  \n",
              "0     10.0           1.90          2.10         1  \n",
              "1     10.0           4.60          4.00         1  \n",
              "2     50.0          11.90         11.00        -1  \n",
              "3     10.0           0.15          0.15         1  \n",
              "4     17.0           0.35          0.35        -1  \n",
              "5     46.0           3.10          3.40        -1  \n",
              "6      2.0           0.65          0.45         1  \n",
              "7     40.0           2.90          2.90        -1  \n",
              "8     11.0           0.65          0.50         1  \n",
              "9     10.0          13.80          9.90         1  \n",
              "\n",
              "[10 rows x 23 columns]"
            ],
            "text/html": [
              "\n",
              "  <div id=\"df-c406a818-f7a9-4d06-81fb-b52b48310400\">\n",
              "    <div class=\"colab-df-container\">\n",
              "      <div>\n",
              "<style scoped>\n",
              "    .dataframe tbody tr th:only-of-type {\n",
              "        vertical-align: middle;\n",
              "    }\n",
              "\n",
              "    .dataframe tbody tr th {\n",
              "        vertical-align: top;\n",
              "    }\n",
              "\n",
              "    .dataframe thead th {\n",
              "        text-align: right;\n",
              "    }\n",
              "</style>\n",
              "<table border=\"1\" class=\"dataframe\">\n",
              "  <thead>\n",
              "    <tr style=\"text-align: right;\">\n",
              "      <th></th>\n",
              "      <th>UNDERLYING_SYMBOL</th>\n",
              "      <th>QUOTE_DATETIME</th>\n",
              "      <th>SEQUENCE_NUMBER</th>\n",
              "      <th>ROOT</th>\n",
              "      <th>EXPIRATION</th>\n",
              "      <th>STRK_PRC</th>\n",
              "      <th>OPTION_TYPE</th>\n",
              "      <th>TRADE_SIZE</th>\n",
              "      <th>TRADE_PRICE</th>\n",
              "      <th>BEST_BID</th>\n",
              "      <th>...</th>\n",
              "      <th>bid_ex</th>\n",
              "      <th>bid_size_ex</th>\n",
              "      <th>ask_size_ex</th>\n",
              "      <th>price_all_lead</th>\n",
              "      <th>price_all_lag</th>\n",
              "      <th>optionid</th>\n",
              "      <th>day_vol</th>\n",
              "      <th>price_ex_lead</th>\n",
              "      <th>price_ex_lag</th>\n",
              "      <th>buy_sell</th>\n",
              "    </tr>\n",
              "  </thead>\n",
              "  <tbody>\n",
              "    <tr>\n",
              "      <th>0</th>\n",
              "      <td>BRCD</td>\n",
              "      <td>2005-05-02 09:30:02</td>\n",
              "      <td>72515</td>\n",
              "      <td>YNU</td>\n",
              "      <td>2006-01-21</td>\n",
              "      <td>2.5</td>\n",
              "      <td>C</td>\n",
              "      <td>10</td>\n",
              "      <td>2.05</td>\n",
              "      <td>1.90</td>\n",
              "      <td>...</td>\n",
              "      <td>1.90</td>\n",
              "      <td>131.0</td>\n",
              "      <td>20.0</td>\n",
              "      <td>1.90</td>\n",
              "      <td>1.90</td>\n",
              "      <td>21060388.0</td>\n",
              "      <td>10.0</td>\n",
              "      <td>1.90</td>\n",
              "      <td>2.10</td>\n",
              "      <td>1</td>\n",
              "    </tr>\n",
              "    <tr>\n",
              "      <th>1</th>\n",
              "      <td>SYMC</td>\n",
              "      <td>2005-05-02 09:30:03</td>\n",
              "      <td>65366</td>\n",
              "      <td>SYQ</td>\n",
              "      <td>2005-06-18</td>\n",
              "      <td>15.0</td>\n",
              "      <td>C</td>\n",
              "      <td>10</td>\n",
              "      <td>3.90</td>\n",
              "      <td>3.60</td>\n",
              "      <td>...</td>\n",
              "      <td>NaN</td>\n",
              "      <td>NaN</td>\n",
              "      <td>NaN</td>\n",
              "      <td>4.00</td>\n",
              "      <td>4.00</td>\n",
              "      <td>31624184.0</td>\n",
              "      <td>10.0</td>\n",
              "      <td>4.60</td>\n",
              "      <td>4.00</td>\n",
              "      <td>1</td>\n",
              "    </tr>\n",
              "    <tr>\n",
              "      <th>2</th>\n",
              "      <td>SPY</td>\n",
              "      <td>2005-05-02 09:30:03</td>\n",
              "      <td>65373</td>\n",
              "      <td>SWG</td>\n",
              "      <td>2005-05-21</td>\n",
              "      <td>105.0</td>\n",
              "      <td>C</td>\n",
              "      <td>50</td>\n",
              "      <td>11.20</td>\n",
              "      <td>11.10</td>\n",
              "      <td>...</td>\n",
              "      <td>11.10</td>\n",
              "      <td>300.0</td>\n",
              "      <td>300.0</td>\n",
              "      <td>11.80</td>\n",
              "      <td>11.00</td>\n",
              "      <td>31620976.0</td>\n",
              "      <td>50.0</td>\n",
              "      <td>11.90</td>\n",
              "      <td>11.00</td>\n",
              "      <td>-1</td>\n",
              "    </tr>\n",
              "    <tr>\n",
              "      <th>3</th>\n",
              "      <td>ADRX</td>\n",
              "      <td>2005-05-02 09:30:03</td>\n",
              "      <td>79195</td>\n",
              "      <td>QAX</td>\n",
              "      <td>2005-06-18</td>\n",
              "      <td>25.0</td>\n",
              "      <td>C</td>\n",
              "      <td>10</td>\n",
              "      <td>0.20</td>\n",
              "      <td>0.00</td>\n",
              "      <td>...</td>\n",
              "      <td>0.00</td>\n",
              "      <td>0.0</td>\n",
              "      <td>86.0</td>\n",
              "      <td>0.15</td>\n",
              "      <td>0.15</td>\n",
              "      <td>31560072.0</td>\n",
              "      <td>10.0</td>\n",
              "      <td>0.15</td>\n",
              "      <td>0.15</td>\n",
              "      <td>1</td>\n",
              "    </tr>\n",
              "    <tr>\n",
              "      <th>4</th>\n",
              "      <td>ORCL</td>\n",
              "      <td>2005-05-02 09:30:03</td>\n",
              "      <td>95870</td>\n",
              "      <td>ORQ</td>\n",
              "      <td>2005-12-17</td>\n",
              "      <td>14.0</td>\n",
              "      <td>C</td>\n",
              "      <td>15</td>\n",
              "      <td>0.25</td>\n",
              "      <td>0.30</td>\n",
              "      <td>...</td>\n",
              "      <td>0.25</td>\n",
              "      <td>3356.0</td>\n",
              "      <td>399.0</td>\n",
              "      <td>0.35</td>\n",
              "      <td>0.35</td>\n",
              "      <td>25240212.0</td>\n",
              "      <td>17.0</td>\n",
              "      <td>0.35</td>\n",
              "      <td>0.35</td>\n",
              "      <td>-1</td>\n",
              "    </tr>\n",
              "    <tr>\n",
              "      <th>5</th>\n",
              "      <td>YHOO</td>\n",
              "      <td>2005-05-02 09:30:03</td>\n",
              "      <td>73595</td>\n",
              "      <td>YHQ</td>\n",
              "      <td>2005-10-22</td>\n",
              "      <td>35.0</td>\n",
              "      <td>P</td>\n",
              "      <td>26</td>\n",
              "      <td>3.00</td>\n",
              "      <td>2.95</td>\n",
              "      <td>...</td>\n",
              "      <td>2.90</td>\n",
              "      <td>1133.0</td>\n",
              "      <td>256.0</td>\n",
              "      <td>3.10</td>\n",
              "      <td>3.40</td>\n",
              "      <td>24020608.0</td>\n",
              "      <td>46.0</td>\n",
              "      <td>3.10</td>\n",
              "      <td>3.40</td>\n",
              "      <td>-1</td>\n",
              "    </tr>\n",
              "    <tr>\n",
              "      <th>6</th>\n",
              "      <td>MATK</td>\n",
              "      <td>2005-05-02 09:30:03</td>\n",
              "      <td>80182</td>\n",
              "      <td>KQT</td>\n",
              "      <td>2005-09-17</td>\n",
              "      <td>65.0</td>\n",
              "      <td>C</td>\n",
              "      <td>2</td>\n",
              "      <td>0.55</td>\n",
              "      <td>0.30</td>\n",
              "      <td>...</td>\n",
              "      <td>0.30</td>\n",
              "      <td>56.0</td>\n",
              "      <td>10.0</td>\n",
              "      <td>0.45</td>\n",
              "      <td>0.45</td>\n",
              "      <td>23989792.0</td>\n",
              "      <td>2.0</td>\n",
              "      <td>0.65</td>\n",
              "      <td>0.45</td>\n",
              "      <td>1</td>\n",
              "    </tr>\n",
              "    <tr>\n",
              "      <th>7</th>\n",
              "      <td>VTSS</td>\n",
              "      <td>2005-05-02 09:30:04</td>\n",
              "      <td>80469</td>\n",
              "      <td>VQT</td>\n",
              "      <td>2005-10-22</td>\n",
              "      <td>5.0</td>\n",
              "      <td>P</td>\n",
              "      <td>10</td>\n",
              "      <td>2.75</td>\n",
              "      <td>2.70</td>\n",
              "      <td>...</td>\n",
              "      <td>2.70</td>\n",
              "      <td>10.0</td>\n",
              "      <td>52.0</td>\n",
              "      <td>2.90</td>\n",
              "      <td>2.90</td>\n",
              "      <td>24019950.0</td>\n",
              "      <td>40.0</td>\n",
              "      <td>2.90</td>\n",
              "      <td>2.90</td>\n",
              "      <td>-1</td>\n",
              "    </tr>\n",
              "    <tr>\n",
              "      <th>8</th>\n",
              "      <td>ADRX</td>\n",
              "      <td>2005-05-02 09:30:04</td>\n",
              "      <td>80342</td>\n",
              "      <td>QAX</td>\n",
              "      <td>2005-09-17</td>\n",
              "      <td>25.0</td>\n",
              "      <td>C</td>\n",
              "      <td>1</td>\n",
              "      <td>0.60</td>\n",
              "      <td>0.45</td>\n",
              "      <td>...</td>\n",
              "      <td>0.45</td>\n",
              "      <td>94.0</td>\n",
              "      <td>25.0</td>\n",
              "      <td>0.55</td>\n",
              "      <td>0.50</td>\n",
              "      <td>23983374.0</td>\n",
              "      <td>11.0</td>\n",
              "      <td>0.65</td>\n",
              "      <td>0.50</td>\n",
              "      <td>1</td>\n",
              "    </tr>\n",
              "    <tr>\n",
              "      <th>9</th>\n",
              "      <td>IVGN</td>\n",
              "      <td>2005-05-02 09:30:04</td>\n",
              "      <td>97063</td>\n",
              "      <td>IUV</td>\n",
              "      <td>2005-08-20</td>\n",
              "      <td>65.0</td>\n",
              "      <td>C</td>\n",
              "      <td>10</td>\n",
              "      <td>11.00</td>\n",
              "      <td>0.00</td>\n",
              "      <td>...</td>\n",
              "      <td>NaN</td>\n",
              "      <td>NaN</td>\n",
              "      <td>NaN</td>\n",
              "      <td>13.80</td>\n",
              "      <td>9.90</td>\n",
              "      <td>23797976.0</td>\n",
              "      <td>10.0</td>\n",
              "      <td>13.80</td>\n",
              "      <td>9.90</td>\n",
              "      <td>1</td>\n",
              "    </tr>\n",
              "  </tbody>\n",
              "</table>\n",
              "<p>10 rows × 23 columns</p>\n",
              "</div>\n",
              "      <button class=\"colab-df-convert\" onclick=\"convertToInteractive('df-c406a818-f7a9-4d06-81fb-b52b48310400')\"\n",
              "              title=\"Convert this dataframe to an interactive table.\"\n",
              "              style=\"display:none;\">\n",
              "        \n",
              "  <svg xmlns=\"http://www.w3.org/2000/svg\" height=\"24px\"viewBox=\"0 0 24 24\"\n",
              "       width=\"24px\">\n",
              "    <path d=\"M0 0h24v24H0V0z\" fill=\"none\"/>\n",
              "    <path d=\"M18.56 5.44l.94 2.06.94-2.06 2.06-.94-2.06-.94-.94-2.06-.94 2.06-2.06.94zm-11 1L8.5 8.5l.94-2.06 2.06-.94-2.06-.94L8.5 2.5l-.94 2.06-2.06.94zm10 10l.94 2.06.94-2.06 2.06-.94-2.06-.94-.94-2.06-.94 2.06-2.06.94z\"/><path d=\"M17.41 7.96l-1.37-1.37c-.4-.4-.92-.59-1.43-.59-.52 0-1.04.2-1.43.59L10.3 9.45l-7.72 7.72c-.78.78-.78 2.05 0 2.83L4 21.41c.39.39.9.59 1.41.59.51 0 1.02-.2 1.41-.59l7.78-7.78 2.81-2.81c.8-.78.8-2.07 0-2.86zM5.41 20L4 18.59l7.72-7.72 1.47 1.35L5.41 20z\"/>\n",
              "  </svg>\n",
              "      </button>\n",
              "      \n",
              "  <style>\n",
              "    .colab-df-container {\n",
              "      display:flex;\n",
              "      flex-wrap:wrap;\n",
              "      gap: 12px;\n",
              "    }\n",
              "\n",
              "    .colab-df-convert {\n",
              "      background-color: #E8F0FE;\n",
              "      border: none;\n",
              "      border-radius: 50%;\n",
              "      cursor: pointer;\n",
              "      display: none;\n",
              "      fill: #1967D2;\n",
              "      height: 32px;\n",
              "      padding: 0 0 0 0;\n",
              "      width: 32px;\n",
              "    }\n",
              "\n",
              "    .colab-df-convert:hover {\n",
              "      background-color: #E2EBFA;\n",
              "      box-shadow: 0px 1px 2px rgba(60, 64, 67, 0.3), 0px 1px 3px 1px rgba(60, 64, 67, 0.15);\n",
              "      fill: #174EA6;\n",
              "    }\n",
              "\n",
              "    [theme=dark] .colab-df-convert {\n",
              "      background-color: #3B4455;\n",
              "      fill: #D2E3FC;\n",
              "    }\n",
              "\n",
              "    [theme=dark] .colab-df-convert:hover {\n",
              "      background-color: #434B5C;\n",
              "      box-shadow: 0px 1px 3px 1px rgba(0, 0, 0, 0.15);\n",
              "      filter: drop-shadow(0px 1px 2px rgba(0, 0, 0, 0.3));\n",
              "      fill: #FFFFFF;\n",
              "    }\n",
              "  </style>\n",
              "\n",
              "      <script>\n",
              "        const buttonEl =\n",
              "          document.querySelector('#df-c406a818-f7a9-4d06-81fb-b52b48310400 button.colab-df-convert');\n",
              "        buttonEl.style.display =\n",
              "          google.colab.kernel.accessAllowed ? 'block' : 'none';\n",
              "\n",
              "        async function convertToInteractive(key) {\n",
              "          const element = document.querySelector('#df-c406a818-f7a9-4d06-81fb-b52b48310400');\n",
              "          const dataTable =\n",
              "            await google.colab.kernel.invokeFunction('convertToInteractive',\n",
              "                                                     [key], {});\n",
              "          if (!dataTable) return;\n",
              "\n",
              "          const docLinkHtml = 'Like what you see? Visit the ' +\n",
              "            '<a target=\"_blank\" href=https://colab.research.google.com/notebooks/data_table.ipynb>data table notebook</a>'\n",
              "            + ' to learn more about interactive tables.';\n",
              "          element.innerHTML = '';\n",
              "          dataTable['output_type'] = 'display_data';\n",
              "          await google.colab.output.renderOutput(dataTable, element);\n",
              "          const docLink = document.createElement('div');\n",
              "          docLink.innerHTML = docLinkHtml;\n",
              "          element.appendChild(docLink);\n",
              "        }\n",
              "      </script>\n",
              "    </div>\n",
              "  </div>\n",
              "  "
            ]
          },
          "metadata": {},
          "execution_count": 8
        }
      ]
    },
    {
      "cell_type": "code",
      "source": [
        "# randomly sample frac of rows\n",
        "frac = 0.02\n",
        "\n",
        "train = train.sample(frac=frac, random_state=seed)\n",
        "val = val.sample(frac=frac, random_state=seed)\n",
        "test = test.sample(frac=frac, random_state=seed)\n",
        "\n",
        "# unify for common preprocessing\n",
        "X = pd.concat([train, val, test])"
      ],
      "metadata": {
        "id": "N2ZHX3MpqzKD"
      },
      "execution_count": 9,
      "outputs": []
    },
    {
      "cell_type": "code",
      "source": [
        "# calculate days to maturity\n",
        "X['time_to_maturity'] = (X['EXPIRATION'] - X['QUOTE_DATETIME']).dt.days"
      ],
      "metadata": {
        "id": "G4RRb08pyo6p"
      },
      "execution_count": 10,
      "outputs": []
    },
    {
      "cell_type": "code",
      "source": [
        "# apply positional encoding to dates\n",
        "X[\"date_month_sin\"] = np.sin(2 * np.pi * X['QUOTE_DATETIME'].dt.year / 12)\n",
        "X[\"date_month_cos\"] = np.cos(2 * np.pi * X['QUOTE_DATETIME'].dt.year / 12)\n",
        "\n",
        "# add year\n",
        "X[\"date_year\"] = (X['QUOTE_DATETIME'].dt.year - 2005) / (2017-2005) \n",
        "\n",
        "date_columns = [\"date_month_sin\", \"date_month_cos\", \"date_year\"]"
      ],
      "metadata": {
        "id": "BJDU5Wy02WWT"
      },
      "execution_count": 11,
      "outputs": []
    },
    {
      "cell_type": "code",
      "source": [
        "X.dtypes"
      ],
      "metadata": {
        "colab": {
          "base_uri": "https://localhost:8080/"
        },
        "id": "Dj79d4i90rhm",
        "outputId": "08202411-0902-4194-b3f2-b2ce33bc571a"
      },
      "execution_count": 12,
      "outputs": [
        {
          "output_type": "execute_result",
          "data": {
            "text/plain": [
              "UNDERLYING_SYMBOL            object\n",
              "QUOTE_DATETIME       datetime64[ns]\n",
              "SEQUENCE_NUMBER               int64\n",
              "ROOT                         object\n",
              "EXPIRATION           datetime64[ns]\n",
              "STRK_PRC                    float32\n",
              "OPTION_TYPE                category\n",
              "TRADE_SIZE                    int64\n",
              "TRADE_PRICE                 float32\n",
              "BEST_BID                    float32\n",
              "BEST_ASK                    float32\n",
              "order_id                      int64\n",
              "ask_ex                      float32\n",
              "bid_ex                      float32\n",
              "bid_size_ex                 float32\n",
              "ask_size_ex                 float32\n",
              "price_all_lead              float32\n",
              "price_all_lag               float32\n",
              "optionid                    float32\n",
              "day_vol                     float32\n",
              "price_ex_lead               float32\n",
              "price_ex_lag                float32\n",
              "buy_sell                       int8\n",
              "time_to_maturity              int64\n",
              "date_month_sin              float64\n",
              "date_month_cos              float64\n",
              "date_year                   float64\n",
              "dtype: object"
            ]
          },
          "metadata": {},
          "execution_count": 12
        }
      ]
    },
    {
      "cell_type": "code",
      "source": [
        "# remove problematic features -> see notebook on aversarial validation\n",
        "X = X.drop([\"SEQUENCE_NUMBER\", \"order_id\", \"optionid\", \"EXPIRATION\", \"QUOTE_DATETIME\", \"ROOT\"], axis=1)"
      ],
      "metadata": {
        "id": "UlTiomjqw_QD"
      },
      "execution_count": 13,
      "outputs": []
    },
    {
      "cell_type": "code",
      "source": [
        "# isolate target\n",
        "y = X[[\"buy_sell\"]]\n",
        "X = X.drop([\"buy_sell\"], axis=1)"
      ],
      "metadata": {
        "id": "x2kABLCA2CEb"
      },
      "execution_count": 14,
      "outputs": []
    },
    {
      "cell_type": "code",
      "source": [
        "corr = X.corr()\n",
        "sns.heatmap(corr, \n",
        "            xticklabels=corr.columns.values,\n",
        "            yticklabels=corr.columns.values)"
      ],
      "metadata": {
        "colab": {
          "base_uri": "https://localhost:8080/",
          "height": 361
        },
        "id": "CUN8LxqeyX8n",
        "outputId": "f2ab936a-0ccb-420d-9492-b7cec93fd5eb"
      },
      "execution_count": 15,
      "outputs": [
        {
          "output_type": "execute_result",
          "data": {
            "text/plain": [
              "<matplotlib.axes._subplots.AxesSubplot at 0x7fe2f685b350>"
            ]
          },
          "metadata": {},
          "execution_count": 15
        },
        {
          "output_type": "display_data",
          "data": {
            "text/plain": [
              "<Figure size 432x288 with 2 Axes>"
            ],
            "image/png": "[encoded data removed]"
          },
          "metadata": {
            "needs_background": "light"
          }
        }
      ]
    },
    {
      "cell_type": "code",
      "source": [
        "# Midspread\n",
        "mid = 0.5 * (X['ask_ex'] + X['bid_ex'])\n",
        "X['mid_ex'] = mid"
      ],
      "metadata": {
        "id": "QbIFNIc_3i_6"
      },
      "execution_count": 16,
      "outputs": []
    },
    {
      "cell_type": "code",
      "source": [
        "# Absolute distance from mid\n",
        "X['abs_mid_ex'] = X['TRADE_PRICE'] - mid"
      ],
      "metadata": {
        "id": "546ZQQnm2lYx"
      },
      "execution_count": 17,
      "outputs": []
    },
    {
      "cell_type": "code",
      "source": [
        "# Degree how much Trade size is filled\n",
        "X['rel_bid_size_ex'] = X['TRADE_SIZE'] / X['bid_size_ex']\n",
        "X['rel_ask_size_ex'] = X['TRADE_SIZE'] / X['ask_size_ex']"
      ],
      "metadata": {
        "id": "wx1Thx0Y3sU-"
      },
      "execution_count": 18,
      "outputs": []
    },
    {
      "cell_type": "code",
      "source": [
        "# Calculate sign change from trade\n",
        "tt = np.where(X['TRADE_PRICE'] > X['price_ex_lead'], 1.0, -1.0)\n",
        "X['sgn_chg_ex_lead'] = tt"
      ],
      "metadata": {
        "id": "N6Dj2dd33Vwy"
      },
      "execution_count": 19,
      "outputs": []
    },
    {
      "cell_type": "code",
      "source": [
        "# select categorical e. g., option type and strings e. g., ticker\n",
        "cat_columns = X.select_dtypes(include=['category', 'object']).columns.tolist()\n",
        "print(cat_columns)\n",
        "\n",
        "# binarize categorical similar to Borisov et al.\n",
        "X[cat_columns] = X[cat_columns].apply(lambda x : pd.factorize(x)[0])"
      ],
      "metadata": {
        "colab": {
          "base_uri": "https://localhost:8080/"
        },
        "id": "6KmaiY0m5i8X",
        "outputId": "52e843bf-781b-42cc-94c3-abd8615f5530"
      },
      "execution_count": 20,
      "outputs": [
        {
          "output_type": "stream",
          "name": "stdout",
          "text": [
            "['UNDERLYING_SYMBOL', 'OPTION_TYPE']\n"
          ]
        }
      ]
    },
    {
      "cell_type": "code",
      "source": [
        "# treat inf as nan\n",
        "X.replace([np.inf, -np.inf], np.nan, inplace=True)"
      ],
      "metadata": {
        "id": "ngZUqSLW_M_8"
      },
      "execution_count": 21,
      "outputs": []
    },
    {
      "cell_type": "code",
      "source": [
        "# Fill NaN with 0\n",
        "# Do not fill, let CatBoost Handle NaNs\n",
        "# X = X.fillna(0)"
      ],
      "metadata": {
        "id": "W2HBaXLP5L4I"
      },
      "execution_count": 22,
      "outputs": []
    },
    {
      "cell_type": "code",
      "source": [
        "# separate again for training scaling\n",
        "X_train = X.loc[train.index, :]\n",
        "X_val = X.loc[val.index, :]\n",
        "X_test = X.loc[test.index, :]\n",
        "\n",
        "y_train = y.loc[train.index, :]\n",
        "y_val = y.loc[val.index, :]\n",
        "y_test = y.loc[test.index, :]\n"
      ],
      "metadata": {
        "id": "BIXLmMcZ5-aC"
      },
      "execution_count": 23,
      "outputs": []
    },
    {
      "cell_type": "code",
      "source": [
        "# Standardize numerical values\n",
        "num_columns = X_train.select_dtypes(include=[np.number]).columns.tolist()\n",
        "num_columns = [x for x in num_columns if x not in cat_columns]\n",
        "num_columns = [x for x in num_columns if x not in date_columns]\n",
        "scaler = StandardScaler()\n",
        "\n",
        "X_train[num_columns] = scaler.fit_transform(X_train[num_columns])\n",
        "X_val[num_columns] = scaler.transform(X_val[num_columns])\n",
        "X_test[num_columns] = scaler.transform(X_test[num_columns])"
      ],
      "metadata": {
        "id": "tV5a5st_2vrt"
      },
      "execution_count": 24,
      "outputs": []
    },
    {
      "cell_type": "code",
      "source": [
        "# Train gradient boosting model\n",
        "model = CatBoostClassifier(max_depth=8, task_type=\"GPU\", random_state=seed, \n",
        "                           logging_level= \"Silent\", cat_features=cat_columns, \n",
        "                           od_type= \"Iter\", grow_policy=\"Depthwise\")\n",
        "model.fit(X_train, y_train, eval_set=(X_val,y_val), plot=True)"
      ],
      "metadata": {
        "id": "lwai2OOo25gr",
        "colab": {
          "base_uri": "https://localhost:8080/",
          "height": 34,
          "referenced_widgets": [
            "afe7ec1dc75c482eb53f8b177c2d7ff3"
          ]
        },
        "outputId": "be28badc-40d4-4188-d106-f807dcda5eeb"
      },
      "execution_count": 25,
      "outputs": [
        {
          "output_type": "display_data",
          "data": {
            "text/plain": [
              "MetricVisualizer(layout=Layout(align_self='stretch', height='500px'))"
            ],
            "application/vnd.jupyter.widget-view+json": {
              "version_major": 2,
              "version_minor": 0,
              "model_id": "afe7ec1dc75c482eb53f8b177c2d7ff3"
            }
          },
          "metadata": {}
        },
        {
          "output_type": "execute_result",
          "data": {
            "text/plain": [
              "<catboost.core.CatBoostClassifier at 0x7fe2f6914e50>"
            ]
          },
          "metadata": {},
          "execution_count": 25
        }
      ]
    },
    {
      "cell_type": "code",
      "source": [
        "acc_train = model.score(X_train, y_train)\n",
        "acc_val = model.score(X_val, y_val)\n",
        "acc_test = model.score(X_test, y_test)\n",
        "\n",
        "print(f\"Accuracy (train): {acc_train}, (val) {acc_val}, and (test) {acc_test}\")"
      ],
      "metadata": {
        "colab": {
          "base_uri": "https://localhost:8080/"
        },
        "id": "hLeiGiqY7wo-",
        "outputId": "5aa7a88c-ea7f-4a89-a519-7be507441bca"
      },
      "execution_count": 26,
      "outputs": [
        {
          "output_type": "stream",
          "name": "stdout",
          "text": [
            "Accuracy (train): 0.8541932816677567, (val) 0.7071405686620524, and (test) 0.6773393769773668\n"
          ]
        }
      ]
    },
    {
      "cell_type": "code",
      "source": [
        "# Obtain feature importances\n",
        "ranks = sorted(list(zip(X.columns, model.feature_importances_)), \n",
        "               key=lambda x: x[1], reverse=True) \n",
        "for feature, score in ranks: \n",
        "  print(f\"{feature:10} : {score:0.4f}\")"
      ],
      "metadata": {
        "colab": {
          "base_uri": "https://localhost:8080/"
        },
        "id": "Sju4nygr82ap",
        "outputId": "ca11a78d-f287-4539-aa8c-2bbc4c030d52"
      },
      "execution_count": 27,
      "outputs": [
        {
          "output_type": "stream",
          "name": "stdout",
          "text": [
            "ask_size_ex : 33.2637\n",
            "bid_size_ex : 28.2954\n",
            "abs_mid_ex : 19.7073\n",
            "rel_bid_size_ex : 4.8483\n",
            "day_vol    : 4.5206\n",
            "rel_ask_size_ex : 3.0259\n",
            "TRADE_SIZE : 2.2936\n",
            "ask_ex     : 0.6108\n",
            "date_month_sin : 0.5034\n",
            "BEST_BID   : 0.4799\n",
            "time_to_maturity : 0.3696\n",
            "STRK_PRC   : 0.3385\n",
            "UNDERLYING_SYMBOL : 0.2850\n",
            "bid_ex     : 0.2628\n",
            "BEST_ASK   : 0.2563\n",
            "date_year  : 0.2398\n",
            "price_all_lead : 0.2045\n",
            "mid_ex     : 0.1241\n",
            "TRADE_PRICE : 0.0979\n",
            "price_ex_lead : 0.0966\n",
            "date_month_cos : 0.0709\n",
            "price_all_lag : 0.0535\n",
            "price_ex_lag : 0.0320\n",
            "sgn_chg_ex_lead : 0.0157\n",
            "OPTION_TYPE : 0.0039\n"
          ]
        }
      ]
    },
    {
      "cell_type": "markdown",
      "source": [
        "## CatBoost Baseline 🐈‍⬛"
      ],
      "metadata": {
        "id": "zMIOV1jA_ImH"
      }
    },
    {
      "cell_type": "markdown",
      "source": [
        "### Hyperparameter Search Baseline🗃️"
      ],
      "metadata": {
        "id": "MmbM8by1WO5J"
      }
    },
    {
      "cell_type": "code",
      "source": [
        "def objective(trial:optuna.Trial):\n",
        "    # See docs for recommendations on tuning hyperparameters\n",
        "    #  https://catboost.ai/en/docs/concepts/parameter-tuning\n",
        "    iterations = trial.suggest_int(\"iterations\", 10, 1000, log=False)\n",
        "    learning_rate = trial.suggest_float(\"learning_rate\", 0.005, 1, log=True)\n",
        "    # random_strength = trial.suggest_float(\"random_strength\", 1e-9, 10, log=True)\n",
        "    depth = trial.suggest_int(\"depth\", 1, 8, log=False)\n",
        "    loss_function = trial.suggest_categorical(\"loss_function\", [\"Logloss\"])\n",
        "    grow_policy = trial.suggest_categorical(\"grow_policy\", [\"SymmetricTree\", \"Depthwise\"])\n",
        "    params = {\n",
        "          \"iterations\": iterations,\n",
        "          \"depth\": depth,\n",
        "          \"grow_policy\": grow_policy,\n",
        "          \"learning_rate\": learning_rate,\n",
        "          # \"random_strength\": random_strength,\n",
        "          \"loss_function\": loss_function,\n",
        "          \"od_type\": \"Iter\",\n",
        "          \"logging_level\": \"Silent\",\n",
        "          \"task_type\": \"GPU\"}  \n",
        "\n",
        "    model = CatBoostClassifier(**params)\n",
        "\n",
        "    model.fit(\n",
        "          X_train,\n",
        "          y_train,\n",
        "        )\n",
        "\n",
        "    y_pred = model.predict(X_val, prediction_type='Class')\n",
        "    return accuracy_score(y_val, y_pred)\n"
      ],
      "metadata": {
        "id": "Z4hMoRaVQa64"
      },
      "execution_count": 28,
      "outputs": []
    },
    {
      "cell_type": "code",
      "source": [
        "wandb_kwargs = {\"project\": \"thesis\"}\n",
        "wandbc = WeightsAndBiasesCallback(wandb_kwargs=wandb_kwargs)"
      ],
      "metadata": {
        "colab": {
          "base_uri": "https://localhost:8080/",
          "height": 228,
          "referenced_widgets": [
            "bdb2498016cc4774b383639b0ce82442",
            "aa68c6952df34632afa627ff8d46ec1f",
            "9bdfb7c66f374217b4db0d9caa226eaa",
            "5ec7a403e59145048f4a76b51d7c4302",
            "8dfb2f33a1e148988175e29503a48b11",
            "12abb0bca0d84feb9d2ea5da1253dc2b",
            "ef475a42aac44f8ea950fe6527edbc89",
            "1c0e6f048b844f6ea43d1f01153ac061",
            "e94e4aa96eff4dc5bae38e7d9ecfd20b",
            "ed75225ceaec47959c1486471d8d2aa1",
            "ade2eba9986d476da2f005f55b45260b",
            "3cafff1d0e764954b574f45d6a73f21f",
            "680d6e629135422fb93bdc37690a01fa",
            "4299a8c732c941978a04160d2d6402dc",
            "f346a639f1fd4c50ab67f2cfe3e1e20e"
          ]
        },
        "id": "wfchJ_dGYfHe",
        "outputId": "757191c4-cb7a-4407-d368-0a3ae60f1046"
      },
      "execution_count": 29,
      "outputs": [
        {
          "output_type": "stream",
          "name": "stderr",
          "text": [
            "/usr/local/lib/python3.7/dist-packages/ipykernel_launcher.py:2: ExperimentalWarning: WeightsAndBiasesCallback is experimental (supported from v2.9.0). The interface can change in the future.\n",
            "  \n"
          ]
        },
        {
          "output_type": "display_data",
          "data": {
            "text/plain": [
              "<IPython.core.display.HTML object>"
            ],
            "text/html": [
              "Finishing last run (ID:r7bdpgfb) before initializing another..."
            ]
          },
          "metadata": {}
        },
        {
          "output_type": "display_data",
          "data": {
            "text/plain": [
              "<IPython.core.display.HTML object>"
            ],
            "text/html": [
              "Waiting for W&B process to finish... <strong style=\"color:green\">(success).</strong>"
            ]
          },
          "metadata": {}
        },
        {
          "output_type": "display_data",
          "data": {
            "text/plain": [
              "VBox(children=(Label(value='0.001 MB of 0.001 MB uploaded (0.000 MB deduped)\\r'), FloatProgress(value=1.0, max…"
            ],
            "application/vnd.jupyter.widget-view+json": {
              "version_major": 2,
              "version_minor": 0,
              "model_id": "bdb2498016cc4774b383639b0ce82442"
            }
          },
          "metadata": {
            "application/vnd.jupyter.widget-view+json": {
              "colab": {
                "custom_widget_manager": {
                  "url": "https://ssl.gstatic.com/colaboratory-static/widgets/colab-cdn-widget-manager/d2e234f7cc04bf79/manager.min.js"
                }
              }
            }
          }
        },
        {
          "output_type": "display_data",
          "data": {
            "text/plain": [
              "<IPython.core.display.HTML object>"
            ],
            "text/html": [
              "Synced <strong style=\"color:#cdcd00\">peach-deluge-37</strong>: <a href=\"https://wandb.ai/fbv/thesis/runs/r7bdpgfb\" target=\"_blank\">https://wandb.ai/fbv/thesis/runs/r7bdpgfb</a><br/>Synced 5 W&B file(s), 0 media file(s), 0 artifact file(s) and 0 other file(s)"
            ]
          },
          "metadata": {}
        },
        {
          "output_type": "display_data",
          "data": {
            "text/plain": [
              "<IPython.core.display.HTML object>"
            ],
            "text/html": [
              "Find logs at: <code>./wandb/run-20221103_070730-r7bdpgfb/logs</code>"
            ]
          },
          "metadata": {}
        },
        {
          "output_type": "display_data",
          "data": {
            "text/plain": [
              "<IPython.core.display.HTML object>"
            ],
            "text/html": [
              "Successfully finished last run (ID:r7bdpgfb). Initializing new run:<br/>"
            ]
          },
          "metadata": {}
        },
        {
          "output_type": "display_data",
          "data": {
            "text/plain": [
              "<IPython.core.display.HTML object>"
            ],
            "text/html": [
              "Tracking run with wandb version 0.13.4"
            ]
          },
          "metadata": {}
        },
        {
          "output_type": "display_data",
          "data": {
            "text/plain": [
              "<IPython.core.display.HTML object>"
            ],
            "text/html": [
              "Run data is saved locally in <code>/content/wandb/run-20221103_071116-sv26un2y</code>"
            ]
          },
          "metadata": {}
        },
        {
          "output_type": "display_data",
          "data": {
            "text/plain": [
              "<IPython.core.display.HTML object>"
            ],
            "text/html": [
              "Syncing run <strong><a href=\"https://wandb.ai/fbv/thesis/runs/sv26un2y\" target=\"_blank\">mild-elevator-38</a></strong> to <a href=\"https://wandb.ai/fbv/thesis\" target=\"_blank\">Weights & Biases</a> (<a href=\"https://wandb.me/run\" target=\"_blank\">docs</a>)<br/>"
            ]
          },
          "metadata": {}
        }
      ]
    },
    {
      "cell_type": "code",
      "source": [
        "# Implement hyperparameter search\n",
        "study = optuna.create_study(direction=\"maximize\", sampler=optuna.samplers.TPESampler(seed=seed), study_name=\"baseline_gbm\")\n",
        "study.optimize(objective, n_trials=2, callbacks=[wandbc])"
      ],
      "metadata": {
        "id": "UgdvLxBI3Cs3",
        "colab": {
          "base_uri": "https://localhost:8080/"
        },
        "outputId": "d7818112-8386-4e4f-8c45-8328e87bc0aa"
      },
      "execution_count": 30,
      "outputs": [
        {
          "output_type": "stream",
          "name": "stderr",
          "text": [
            "\u001b[32m[I 2022-11-03 07:11:28,267]\u001b[0m A new study created in memory with name: baseline_gbm\u001b[0m\n",
            "\u001b[32m[I 2022-11-03 07:11:31,053]\u001b[0m Trial 0 finished with value: 0.7234650650691375 and parameters: {'iterations': 381, 'learning_rate': 0.7701798297509621, 'depth': 6, 'loss_function': 'Logloss', 'grow_policy': 'SymmetricTree'}. Best is trial 0 with value: 0.7234650650691375.\u001b[0m\n",
            "\u001b[32m[I 2022-11-03 07:11:34,520]\u001b[0m Trial 1 finished with value: 0.7057217105631188 and parameters: {'iterations': 164, 'learning_rate': 0.006801773068059042, 'depth': 7, 'loss_function': 'Logloss', 'grow_policy': 'Depthwise'}. Best is trial 0 with value: 0.7234650650691375.\u001b[0m\n"
          ]
        }
      ]
    },
    {
      "cell_type": "code",
      "source": [
        "ax_history = optuna.visualization.matplotlib.plot_optimization_history(study)\n",
        "ax_param_importance = optuna.visualization.matplotlib.plot_param_importances(study)\n",
        "fig_contour = optuna.visualization.matplotlib.plot_contour(\n",
        "    study, [\"iterations\", \"depth\", \"grow_policy\", \"learning_rate\"]\n",
        ")"
      ],
      "metadata": {
        "colab": {
          "base_uri": "https://localhost:8080/",
          "height": 1000
        },
        "id": "ujM_aozLILeQ",
        "outputId": "ce1536f0-be40-48b7-cfe9-897626018b51"
      },
      "execution_count": 31,
      "outputs": [
        {
          "output_type": "stream",
          "name": "stderr",
          "text": [
            "/usr/local/lib/python3.7/dist-packages/ipykernel_launcher.py:1: ExperimentalWarning: plot_optimization_history is experimental (supported from v2.2.0). The interface can change in the future.\n",
            "  \"\"\"Entry point for launching an IPython kernel.\n",
            "/usr/local/lib/python3.7/dist-packages/ipykernel_launcher.py:2: ExperimentalWarning: plot_param_importances is experimental (supported from v2.2.0). The interface can change in the future.\n",
            "  \n",
            "/usr/local/lib/python3.7/dist-packages/ipykernel_launcher.py:4: ExperimentalWarning: plot_contour is experimental (supported from v2.2.0). The interface can change in the future.\n",
            "  after removing the cwd from sys.path.\n",
            "\u001b[33m[W 2022-11-03 07:11:35,055]\u001b[0m Output figures of this Matplotlib-based `plot_contour` function would be different from those of the Plotly-based `plot_contour`.\u001b[0m\n"
          ]
        },
        {
          "output_type": "display_data",
          "data": {
            "text/plain": [
              "<Figure size 432x288 with 1 Axes>"
            ],
            "image/png": "[encoded data removed]"
          },
          "metadata": {}
        },
        {
          "output_type": "display_data",
          "data": {
            "text/plain": [
              "<Figure size 432x288 with 1 Axes>"
            ],
            "image/png": "[encoded data removed]"
          },
          "metadata": {}
        },
        {
          "output_type": "display_data",
          "data": {
            "text/plain": [
              "<Figure size 432x288 with 17 Axes>"
            ],
            "image/png": "[encoded data removed]"
          },
          "metadata": {}
        }
      ]
    },
    {
      "cell_type": "code",
      "source": [
        "print(f\"Number of finished trials: {len(study.trials)}\")\n",
        "\n",
        "trial = study.best_trial\n",
        "\n",
        "print(f\"Best trial: {trial}\")\n",
        "\n",
        "print(f\"Value: {trial.value}\")\n",
        "\n",
        "print(\"Params:\")\n",
        "for key, value in trial.params.items():\n",
        "    print(f\"{key}: {value}\")"
      ],
      "metadata": {
        "colab": {
          "base_uri": "https://localhost:8080/"
        },
        "id": "tVfXVspgQia0",
        "outputId": "fb847186-1883-45d4-d0c5-3a31aa50731f"
      },
      "execution_count": 32,
      "outputs": [
        {
          "output_type": "stream",
          "name": "stdout",
          "text": [
            "Number of finished trials: 2\n",
            "Best trial: FrozenTrial(number=0, values=[0.7234650650691375], datetime_start=datetime.datetime(2022, 11, 3, 7, 11, 28, 270187), datetime_complete=datetime.datetime(2022, 11, 3, 7, 11, 31, 52961), params={'iterations': 381, 'learning_rate': 0.7701798297509621, 'depth': 6, 'loss_function': 'Logloss', 'grow_policy': 'SymmetricTree'}, distributions={'iterations': IntDistribution(high=1000, log=False, low=10, step=1), 'learning_rate': FloatDistribution(high=1.0, log=True, low=0.005, step=None), 'depth': IntDistribution(high=8, log=False, low=1, step=1), 'loss_function': CategoricalDistribution(choices=('Logloss',)), 'grow_policy': CategoricalDistribution(choices=('SymmetricTree', 'Depthwise'))}, user_attrs={}, system_attrs={}, intermediate_values={}, trial_id=0, state=TrialState.COMPLETE, value=None)\n",
            "Value: 0.7234650650691375\n",
            "Params:\n",
            "iterations: 381\n",
            "learning_rate: 0.7701798297509621\n",
            "depth: 6\n",
            "loss_function: Logloss\n",
            "grow_policy: SymmetricTree\n"
          ]
        }
      ]
    },
    {
      "cell_type": "code",
      "source": [
        "static_params = {\"od_type\": \"Iter\",\n",
        "          \"logging_level\": \"Silent\",\n",
        "          \"task_type\": \"GPU\"} \n",
        "\n",
        "params = {**static_params, **trial.params}\n",
        "print(params)"
      ],
      "metadata": {
        "colab": {
          "base_uri": "https://localhost:8080/"
        },
        "id": "t6cNgPVLnPFu",
        "outputId": "1abe1c06-cad6-4288-e1ed-8d3b0a75e8ee"
      },
      "execution_count": 33,
      "outputs": [
        {
          "output_type": "stream",
          "name": "stdout",
          "text": [
            "{'od_type': 'Iter', 'logging_level': 'Silent', 'task_type': 'GPU', 'iterations': 381, 'learning_rate': 0.7701798297509621, 'depth': 6, 'loss_function': 'Logloss', 'grow_policy': 'SymmetricTree'}\n"
          ]
        }
      ]
    },
    {
      "cell_type": "code",
      "source": [
        "model = CatBoostClassifier(**params)\n",
        "model.fit(X_train,y_train, plot=True)"
      ],
      "metadata": {
        "colab": {
          "base_uri": "https://localhost:8080/",
          "height": 34,
          "referenced_widgets": [
            "51e1909f4d4c480eb3ce65a040e93d8b"
          ]
        },
        "id": "thy1Ic73l4Ri",
        "outputId": "35b23afe-905b-47ad-b786-064b6e1339fe"
      },
      "execution_count": 34,
      "outputs": [
        {
          "output_type": "display_data",
          "data": {
            "text/plain": [
              "MetricVisualizer(layout=Layout(align_self='stretch', height='500px'))"
            ],
            "application/vnd.jupyter.widget-view+json": {
              "version_major": 2,
              "version_minor": 0,
              "model_id": "51e1909f4d4c480eb3ce65a040e93d8b"
            }
          },
          "metadata": {}
        },
        {
          "output_type": "execute_result",
          "data": {
            "text/plain": [
              "<catboost.core.CatBoostClassifier at 0x7fe2ff216650>"
            ]
          },
          "metadata": {},
          "execution_count": 34
        }
      ]
    },
    {
      "cell_type": "code",
      "source": [
        "# w = MetricVisualizer('/', subdirs=True)\n",
        "# w.start()"
      ],
      "metadata": {
        "id": "tYo4vrBFG02l"
      },
      "execution_count": 35,
      "outputs": []
    },
    {
      "cell_type": "code",
      "source": [
        "acc_train = model.score(X_train, y_train)\n",
        "acc_val = model.score(X_val, y_val)\n",
        "acc_test = model.score(X_test, y_test)\n",
        "\n",
        "print(f\"Accuracy (train): {acc_train}, (val) {acc_val}, and (test) {acc_test}\")"
      ],
      "metadata": {
        "colab": {
          "base_uri": "https://localhost:8080/"
        },
        "id": "6h7GTJBmmFXq",
        "outputId": "ab22ca1a-4eb1-4ab3-fa55-13b4e56479c1"
      },
      "execution_count": 36,
      "outputs": [
        {
          "output_type": "stream",
          "name": "stdout",
          "text": [
            "Accuracy (train): 0.8817277357397247, (val) 0.7250364885550532, and (test) 0.6947402044293015\n"
          ]
        }
      ]
    },
    {
      "cell_type": "markdown",
      "source": [
        "### Robustness Baseline🥊"
      ],
      "metadata": {
        "id": "h3vzAVSc_DfD"
      }
    },
    {
      "cell_type": "code",
      "source": [
        "# Copy unscaled columns\n",
        "X_print = test.copy()\n",
        "\n",
        "# add baseline results\n",
        "X_print[\"rule\"] = \"Baseline\"\n",
        "X_print[\"buy_sell_predicted\"] = model.predict(X_test)\n",
        "\n",
        "# prepare columns for printing\n",
        "X_print[\"ttm\"] = (X_print['EXPIRATION'].dt.to_period('M') - X_print['QUOTE_DATETIME'].dt.to_period('M')).apply(lambda x: x.n)\n",
        "X_print[\"year\"] = X_print['QUOTE_DATETIME'].dt.year\n",
        "\n",
        "bins_tradesize = [0, 1, 3, 5, 11, np.inf]\n",
        "trade_size_labels = [\"(0,1]\", \"(1,3]\", \"(3,5]\", \"(5,11]\", \">11\"]\n",
        "X_print[\"TRADE_SIZE_binned\"] = pd.cut(X_print[\"TRADE_SIZE\"], bins_tradesize,\n",
        "                                      labels=trade_size_labels)\n",
        "\n",
        "bins_years = [2005, 2007, 2010, 2011, 2012, 2013, 2014, 2015, 2016, 2017]\n",
        "year_labels = [\"2005-2007\", \"2008-2010\", \"2011\", \"2012\", \"2013\", \"2014\", \n",
        "                \"2015\", \"2016\", \"2017\"]\n",
        "X_print[\"year_binned\"] = pd.cut(X_print[\"year\"], bins_years, labels=year_labels)\n",
        "\n",
        "bins_ttm = [0, 1, 2, 3, 6, 12, np.inf]\n",
        "ttm_labels = [\"ttm <= 1 month\", \"ttm (1-2] month\", \"ttm (2-3] month\", \n",
        "              \"ttm (3-6] month\", \"ttm (6-12] month\", \"ttm > 12 month\"]\n",
        "X_print[\"ttm_binned\"] = pd.cut(X_print[\"ttm\"], bins_ttm, labels=ttm_labels)\n",
        "\n",
        "# TODO: Security type\n",
        "# TODO: Moneyness\n",
        "# TODO: time from previous trade; same underlying or any?"
      ],
      "metadata": {
        "id": "3evMG-KVA2eX"
      },
      "execution_count": 39,
      "outputs": []
    },
    {
      "cell_type": "code",
      "source": [
        "def check_robustness(criterion: str=\"year_binned\") -> pd.DataFrame:\n",
        "    \"\"\"\n",
        "    Check robustness of rules by calculating the accuracy for a given\n",
        "    criterion and rules.\n",
        "\n",
        "    Example:\n",
        "    rule\tGBM\tQuote Rule (ISE)\n",
        "    trade_size_binned\t\t\n",
        "    (0.0, 1.0]\t0.493827\t0.494118\n",
        "    (1.0, 3.0]\t0.500000\t0.466667\n",
        "    (3.0, 5.0]\t0.578947\t0.494118\n",
        "    (5.0, 11.0]\t0.422680\t0.465909\n",
        "    (11.0, inf]\t0.500000\t0.571429\n",
        "\n",
        "    Args:\n",
        "        criterion (str, optional): criterion to check robustness for. \n",
        "        Defaults to \"year_binned\".\n",
        "\n",
        "    Returns:\n",
        "        pd.DataFrame: DataFrame with accuracy of rules. Rule in columns and \n",
        "        criterion values in rows.\n",
        "    \"\"\"\n",
        "    results = (\n",
        "        X_print.groupby([\"rule\", criterion])[[\"buy_sell\", \"buy_sell_predicted\"]]\n",
        "        .apply(lambda x: accuracy_score(x[\"buy_sell\"], x[\"buy_sell_predicted\"]))\n",
        "        .unstack(level=0)\n",
        "    )\n",
        "    return results"
      ],
      "metadata": {
        "id": "clDZ4Z95_0jj"
      },
      "execution_count": 40,
      "outputs": []
    },
    {
      "cell_type": "code",
      "source": [
        "check_robustness(\"year_binned\")"
      ],
      "metadata": {
        "colab": {
          "base_uri": "https://localhost:8080/",
          "height": 175
        },
        "id": "4KRw_J0IJiFU",
        "outputId": "75b04e8c-2141-45ed-a873-5ce987b525a4"
      },
      "execution_count": 41,
      "outputs": [
        {
          "output_type": "execute_result",
          "data": {
            "text/plain": [
              "rule         Baseline\n",
              "year_binned          \n",
              "2015         0.673201\n",
              "2016         0.701105\n",
              "2017         0.687173"
            ],
            "text/html": [
              "\n",
              "  <div id=\"df-c12ebc58-3057-4fde-a528-6eec92b6055e\">\n",
              "    <div class=\"colab-df-container\">\n",
              "      <div>\n",
              "<style scoped>\n",
              "    .dataframe tbody tr th:only-of-type {\n",
              "        vertical-align: middle;\n",
              "    }\n",
              "\n",
              "    .dataframe tbody tr th {\n",
              "        vertical-align: top;\n",
              "    }\n",
              "\n",
              "    .dataframe thead th {\n",
              "        text-align: right;\n",
              "    }\n",
              "</style>\n",
              "<table border=\"1\" class=\"dataframe\">\n",
              "  <thead>\n",
              "    <tr style=\"text-align: right;\">\n",
              "      <th>rule</th>\n",
              "      <th>Baseline</th>\n",
              "    </tr>\n",
              "    <tr>\n",
              "      <th>year_binned</th>\n",
              "      <th></th>\n",
              "    </tr>\n",
              "  </thead>\n",
              "  <tbody>\n",
              "    <tr>\n",
              "      <th>2015</th>\n",
              "      <td>0.673201</td>\n",
              "    </tr>\n",
              "    <tr>\n",
              "      <th>2016</th>\n",
              "      <td>0.701105</td>\n",
              "    </tr>\n",
              "    <tr>\n",
              "      <th>2017</th>\n",
              "      <td>0.687173</td>\n",
              "    </tr>\n",
              "  </tbody>\n",
              "</table>\n",
              "</div>\n",
              "      <button class=\"colab-df-convert\" onclick=\"convertToInteractive('df-c12ebc58-3057-4fde-a528-6eec92b6055e')\"\n",
              "              title=\"Convert this dataframe to an interactive table.\"\n",
              "              style=\"display:none;\">\n",
              "        \n",
              "  <svg xmlns=\"http://www.w3.org/2000/svg\" height=\"24px\"viewBox=\"0 0 24 24\"\n",
              "       width=\"24px\">\n",
              "    <path d=\"M0 0h24v24H0V0z\" fill=\"none\"/>\n",
              "    <path d=\"M18.56 5.44l.94 2.06.94-2.06 2.06-.94-2.06-.94-.94-2.06-.94 2.06-2.06.94zm-11 1L8.5 8.5l.94-2.06 2.06-.94-2.06-.94L8.5 2.5l-.94 2.06-2.06.94zm10 10l.94 2.06.94-2.06 2.06-.94-2.06-.94-.94-2.06-.94 2.06-2.06.94z\"/><path d=\"M17.41 7.96l-1.37-1.37c-.4-.4-.92-.59-1.43-.59-.52 0-1.04.2-1.43.59L10.3 9.45l-7.72 7.72c-.78.78-.78 2.05 0 2.83L4 21.41c.39.39.9.59 1.41.59.51 0 1.02-.2 1.41-.59l7.78-7.78 2.81-2.81c.8-.78.8-2.07 0-2.86zM5.41 20L4 18.59l7.72-7.72 1.47 1.35L5.41 20z\"/>\n",
              "  </svg>\n",
              "      </button>\n",
              "      \n",
              "  <style>\n",
              "    .colab-df-container {\n",
              "      display:flex;\n",
              "      flex-wrap:wrap;\n",
              "      gap: 12px;\n",
              "    }\n",
              "\n",
              "    .colab-df-convert {\n",
              "      background-color: #E8F0FE;\n",
              "      border: none;\n",
              "      border-radius: 50%;\n",
              "      cursor: pointer;\n",
              "      display: none;\n",
              "      fill: #1967D2;\n",
              "      height: 32px;\n",
              "      padding: 0 0 0 0;\n",
              "      width: 32px;\n",
              "    }\n",
              "\n",
              "    .colab-df-convert:hover {\n",
              "      background-color: #E2EBFA;\n",
              "      box-shadow: 0px 1px 2px rgba(60, 64, 67, 0.3), 0px 1px 3px 1px rgba(60, 64, 67, 0.15);\n",
              "      fill: #174EA6;\n",
              "    }\n",
              "\n",
              "    [theme=dark] .colab-df-convert {\n",
              "      background-color: #3B4455;\n",
              "      fill: #D2E3FC;\n",
              "    }\n",
              "\n",
              "    [theme=dark] .colab-df-convert:hover {\n",
              "      background-color: #434B5C;\n",
              "      box-shadow: 0px 1px 3px 1px rgba(0, 0, 0, 0.15);\n",
              "      filter: drop-shadow(0px 1px 2px rgba(0, 0, 0, 0.3));\n",
              "      fill: #FFFFFF;\n",
              "    }\n",
              "  </style>\n",
              "\n",
              "      <script>\n",
              "        const buttonEl =\n",
              "          document.querySelector('#df-c12ebc58-3057-4fde-a528-6eec92b6055e button.colab-df-convert');\n",
              "        buttonEl.style.display =\n",
              "          google.colab.kernel.accessAllowed ? 'block' : 'none';\n",
              "\n",
              "        async function convertToInteractive(key) {\n",
              "          const element = document.querySelector('#df-c12ebc58-3057-4fde-a528-6eec92b6055e');\n",
              "          const dataTable =\n",
              "            await google.colab.kernel.invokeFunction('convertToInteractive',\n",
              "                                                     [key], {});\n",
              "          if (!dataTable) return;\n",
              "\n",
              "          const docLinkHtml = 'Like what you see? Visit the ' +\n",
              "            '<a target=\"_blank\" href=https://colab.research.google.com/notebooks/data_table.ipynb>data table notebook</a>'\n",
              "            + ' to learn more about interactive tables.';\n",
              "          element.innerHTML = '';\n",
              "          dataTable['output_type'] = 'display_data';\n",
              "          await google.colab.output.renderOutput(dataTable, element);\n",
              "          const docLink = document.createElement('div');\n",
              "          docLink.innerHTML = docLinkHtml;\n",
              "          element.appendChild(docLink);\n",
              "        }\n",
              "      </script>\n",
              "    </div>\n",
              "  </div>\n",
              "  "
            ]
          },
          "metadata": {},
          "execution_count": 41
        }
      ]
    },
    {
      "cell_type": "code",
      "source": [
        "check_robustness(\"OPTION_TYPE\")"
      ],
      "metadata": {
        "colab": {
          "base_uri": "https://localhost:8080/",
          "height": 143
        },
        "id": "fCey7G_tE6zt",
        "outputId": "ef86c15e-db8c-4887-e90d-be06b4e5129d"
      },
      "execution_count": 42,
      "outputs": [
        {
          "output_type": "execute_result",
          "data": {
            "text/plain": [
              "rule         Baseline\n",
              "OPTION_TYPE          \n",
              "C            0.691567\n",
              "P            0.698357"
            ],
            "text/html": [
              "\n",
              "  <div id=\"df-e4772657-a439-4081-b2b8-c66f1e9c3138\">\n",
              "    <div class=\"colab-df-container\">\n",
              "      <div>\n",
              "<style scoped>\n",
              "    .dataframe tbody tr th:only-of-type {\n",
              "        vertical-align: middle;\n",
              "    }\n",
              "\n",
              "    .dataframe tbody tr th {\n",
              "        vertical-align: top;\n",
              "    }\n",
              "\n",
              "    .dataframe thead th {\n",
              "        text-align: right;\n",
              "    }\n",
              "</style>\n",
              "<table border=\"1\" class=\"dataframe\">\n",
              "  <thead>\n",
              "    <tr style=\"text-align: right;\">\n",
              "      <th>rule</th>\n",
              "      <th>Baseline</th>\n",
              "    </tr>\n",
              "    <tr>\n",
              "      <th>OPTION_TYPE</th>\n",
              "      <th></th>\n",
              "    </tr>\n",
              "  </thead>\n",
              "  <tbody>\n",
              "    <tr>\n",
              "      <th>C</th>\n",
              "      <td>0.691567</td>\n",
              "    </tr>\n",
              "    <tr>\n",
              "      <th>P</th>\n",
              "      <td>0.698357</td>\n",
              "    </tr>\n",
              "  </tbody>\n",
              "</table>\n",
              "</div>\n",
              "      <button class=\"colab-df-convert\" onclick=\"convertToInteractive('df-e4772657-a439-4081-b2b8-c66f1e9c3138')\"\n",
              "              title=\"Convert this dataframe to an interactive table.\"\n",
              "              style=\"display:none;\">\n",
              "        \n",
              "  <svg xmlns=\"http://www.w3.org/2000/svg\" height=\"24px\"viewBox=\"0 0 24 24\"\n",
              "       width=\"24px\">\n",
              "    <path d=\"M0 0h24v24H0V0z\" fill=\"none\"/>\n",
              "    <path d=\"M18.56 5.44l.94 2.06.94-2.06 2.06-.94-2.06-.94-.94-2.06-.94 2.06-2.06.94zm-11 1L8.5 8.5l.94-2.06 2.06-.94-2.06-.94L8.5 2.5l-.94 2.06-2.06.94zm10 10l.94 2.06.94-2.06 2.06-.94-2.06-.94-.94-2.06-.94 2.06-2.06.94z\"/><path d=\"M17.41 7.96l-1.37-1.37c-.4-.4-.92-.59-1.43-.59-.52 0-1.04.2-1.43.59L10.3 9.45l-7.72 7.72c-.78.78-.78 2.05 0 2.83L4 21.41c.39.39.9.59 1.41.59.51 0 1.02-.2 1.41-.59l7.78-7.78 2.81-2.81c.8-.78.8-2.07 0-2.86zM5.41 20L4 18.59l7.72-7.72 1.47 1.35L5.41 20z\"/>\n",
              "  </svg>\n",
              "      </button>\n",
              "      \n",
              "  <style>\n",
              "    .colab-df-container {\n",
              "      display:flex;\n",
              "      flex-wrap:wrap;\n",
              "      gap: 12px;\n",
              "    }\n",
              "\n",
              "    .colab-df-convert {\n",
              "      background-color: #E8F0FE;\n",
              "      border: none;\n",
              "      border-radius: 50%;\n",
              "      cursor: pointer;\n",
              "      display: none;\n",
              "      fill: #1967D2;\n",
              "      height: 32px;\n",
              "      padding: 0 0 0 0;\n",
              "      width: 32px;\n",
              "    }\n",
              "\n",
              "    .colab-df-convert:hover {\n",
              "      background-color: #E2EBFA;\n",
              "      box-shadow: 0px 1px 2px rgba(60, 64, 67, 0.3), 0px 1px 3px 1px rgba(60, 64, 67, 0.15);\n",
              "      fill: #174EA6;\n",
              "    }\n",
              "\n",
              "    [theme=dark] .colab-df-convert {\n",
              "      background-color: #3B4455;\n",
              "      fill: #D2E3FC;\n",
              "    }\n",
              "\n",
              "    [theme=dark] .colab-df-convert:hover {\n",
              "      background-color: #434B5C;\n",
              "      box-shadow: 0px 1px 3px 1px rgba(0, 0, 0, 0.15);\n",
              "      filter: drop-shadow(0px 1px 2px rgba(0, 0, 0, 0.3));\n",
              "      fill: #FFFFFF;\n",
              "    }\n",
              "  </style>\n",
              "\n",
              "      <script>\n",
              "        const buttonEl =\n",
              "          document.querySelector('#df-e4772657-a439-4081-b2b8-c66f1e9c3138 button.colab-df-convert');\n",
              "        buttonEl.style.display =\n",
              "          google.colab.kernel.accessAllowed ? 'block' : 'none';\n",
              "\n",
              "        async function convertToInteractive(key) {\n",
              "          const element = document.querySelector('#df-e4772657-a439-4081-b2b8-c66f1e9c3138');\n",
              "          const dataTable =\n",
              "            await google.colab.kernel.invokeFunction('convertToInteractive',\n",
              "                                                     [key], {});\n",
              "          if (!dataTable) return;\n",
              "\n",
              "          const docLinkHtml = 'Like what you see? Visit the ' +\n",
              "            '<a target=\"_blank\" href=https://colab.research.google.com/notebooks/data_table.ipynb>data table notebook</a>'\n",
              "            + ' to learn more about interactive tables.';\n",
              "          element.innerHTML = '';\n",
              "          dataTable['output_type'] = 'display_data';\n",
              "          await google.colab.output.renderOutput(dataTable, element);\n",
              "          const docLink = document.createElement('div');\n",
              "          docLink.innerHTML = docLinkHtml;\n",
              "          element.appendChild(docLink);\n",
              "        }\n",
              "      </script>\n",
              "    </div>\n",
              "  </div>\n",
              "  "
            ]
          },
          "metadata": {},
          "execution_count": 42
        }
      ]
    },
    {
      "cell_type": "code",
      "source": [
        "check_robustness(\"TRADE_SIZE_binned\")"
      ],
      "metadata": {
        "colab": {
          "base_uri": "https://localhost:8080/",
          "height": 238
        },
        "id": "Zpg1yY2MEGFa",
        "outputId": "7b9b4a81-b6ca-476a-da07-c839171d0ef0"
      },
      "execution_count": 43,
      "outputs": [
        {
          "output_type": "execute_result",
          "data": {
            "text/plain": [
              "rule               Baseline\n",
              "TRADE_SIZE_binned          \n",
              "(0,1]              0.699346\n",
              "(1,3]              0.705831\n",
              "(3,5]              0.706499\n",
              "(5,11]             0.682339\n",
              ">11                0.673423"
            ],
            "text/html": [
              "\n",
              "  <div id=\"df-2dcc56ec-8cfc-4f7b-a5b5-d26d9849aed6\">\n",
              "    <div class=\"colab-df-container\">\n",
              "      <div>\n",
              "<style scoped>\n",
              "    .dataframe tbody tr th:only-of-type {\n",
              "        vertical-align: middle;\n",
              "    }\n",
              "\n",
              "    .dataframe tbody tr th {\n",
              "        vertical-align: top;\n",
              "    }\n",
              "\n",
              "    .dataframe thead th {\n",
              "        text-align: right;\n",
              "    }\n",
              "</style>\n",
              "<table border=\"1\" class=\"dataframe\">\n",
              "  <thead>\n",
              "    <tr style=\"text-align: right;\">\n",
              "      <th>rule</th>\n",
              "      <th>Baseline</th>\n",
              "    </tr>\n",
              "    <tr>\n",
              "      <th>TRADE_SIZE_binned</th>\n",
              "      <th></th>\n",
              "    </tr>\n",
              "  </thead>\n",
              "  <tbody>\n",
              "    <tr>\n",
              "      <th>(0,1]</th>\n",
              "      <td>0.699346</td>\n",
              "    </tr>\n",
              "    <tr>\n",
              "      <th>(1,3]</th>\n",
              "      <td>0.705831</td>\n",
              "    </tr>\n",
              "    <tr>\n",
              "      <th>(3,5]</th>\n",
              "      <td>0.706499</td>\n",
              "    </tr>\n",
              "    <tr>\n",
              "      <th>(5,11]</th>\n",
              "      <td>0.682339</td>\n",
              "    </tr>\n",
              "    <tr>\n",
              "      <th>&gt;11</th>\n",
              "      <td>0.673423</td>\n",
              "    </tr>\n",
              "  </tbody>\n",
              "</table>\n",
              "</div>\n",
              "      <button class=\"colab-df-convert\" onclick=\"convertToInteractive('df-2dcc56ec-8cfc-4f7b-a5b5-d26d9849aed6')\"\n",
              "              title=\"Convert this dataframe to an interactive table.\"\n",
              "              style=\"display:none;\">\n",
              "        \n",
              "  <svg xmlns=\"http://www.w3.org/2000/svg\" height=\"24px\"viewBox=\"0 0 24 24\"\n",
              "       width=\"24px\">\n",
              "    <path d=\"M0 0h24v24H0V0z\" fill=\"none\"/>\n",
              "    <path d=\"M18.56 5.44l.94 2.06.94-2.06 2.06-.94-2.06-.94-.94-2.06-.94 2.06-2.06.94zm-11 1L8.5 8.5l.94-2.06 2.06-.94-2.06-.94L8.5 2.5l-.94 2.06-2.06.94zm10 10l.94 2.06.94-2.06 2.06-.94-2.06-.94-.94-2.06-.94 2.06-2.06.94z\"/><path d=\"M17.41 7.96l-1.37-1.37c-.4-.4-.92-.59-1.43-.59-.52 0-1.04.2-1.43.59L10.3 9.45l-7.72 7.72c-.78.78-.78 2.05 0 2.83L4 21.41c.39.39.9.59 1.41.59.51 0 1.02-.2 1.41-.59l7.78-7.78 2.81-2.81c.8-.78.8-2.07 0-2.86zM5.41 20L4 18.59l7.72-7.72 1.47 1.35L5.41 20z\"/>\n",
              "  </svg>\n",
              "      </button>\n",
              "      \n",
              "  <style>\n",
              "    .colab-df-container {\n",
              "      display:flex;\n",
              "      flex-wrap:wrap;\n",
              "      gap: 12px;\n",
              "    }\n",
              "\n",
              "    .colab-df-convert {\n",
              "      background-color: #E8F0FE;\n",
              "      border: none;\n",
              "      border-radius: 50%;\n",
              "      cursor: pointer;\n",
              "      display: none;\n",
              "      fill: #1967D2;\n",
              "      height: 32px;\n",
              "      padding: 0 0 0 0;\n",
              "      width: 32px;\n",
              "    }\n",
              "\n",
              "    .colab-df-convert:hover {\n",
              "      background-color: #E2EBFA;\n",
              "      box-shadow: 0px 1px 2px rgba(60, 64, 67, 0.3), 0px 1px 3px 1px rgba(60, 64, 67, 0.15);\n",
              "      fill: #174EA6;\n",
              "    }\n",
              "\n",
              "    [theme=dark] .colab-df-convert {\n",
              "      background-color: #3B4455;\n",
              "      fill: #D2E3FC;\n",
              "    }\n",
              "\n",
              "    [theme=dark] .colab-df-convert:hover {\n",
              "      background-color: #434B5C;\n",
              "      box-shadow: 0px 1px 3px 1px rgba(0, 0, 0, 0.15);\n",
              "      filter: drop-shadow(0px 1px 2px rgba(0, 0, 0, 0.3));\n",
              "      fill: #FFFFFF;\n",
              "    }\n",
              "  </style>\n",
              "\n",
              "      <script>\n",
              "        const buttonEl =\n",
              "          document.querySelector('#df-2dcc56ec-8cfc-4f7b-a5b5-d26d9849aed6 button.colab-df-convert');\n",
              "        buttonEl.style.display =\n",
              "          google.colab.kernel.accessAllowed ? 'block' : 'none';\n",
              "\n",
              "        async function convertToInteractive(key) {\n",
              "          const element = document.querySelector('#df-2dcc56ec-8cfc-4f7b-a5b5-d26d9849aed6');\n",
              "          const dataTable =\n",
              "            await google.colab.kernel.invokeFunction('convertToInteractive',\n",
              "                                                     [key], {});\n",
              "          if (!dataTable) return;\n",
              "\n",
              "          const docLinkHtml = 'Like what you see? Visit the ' +\n",
              "            '<a target=\"_blank\" href=https://colab.research.google.com/notebooks/data_table.ipynb>data table notebook</a>'\n",
              "            + ' to learn more about interactive tables.';\n",
              "          element.innerHTML = '';\n",
              "          dataTable['output_type'] = 'display_data';\n",
              "          await google.colab.output.renderOutput(dataTable, element);\n",
              "          const docLink = document.createElement('div');\n",
              "          docLink.innerHTML = docLinkHtml;\n",
              "          element.appendChild(docLink);\n",
              "        }\n",
              "      </script>\n",
              "    </div>\n",
              "  </div>\n",
              "  "
            ]
          },
          "metadata": {},
          "execution_count": 43
        }
      ]
    },
    {
      "cell_type": "code",
      "source": [
        "check_robustness(\"ttm_binned\")"
      ],
      "metadata": {
        "colab": {
          "base_uri": "https://localhost:8080/",
          "height": 269
        },
        "id": "8624JR8wEN4D",
        "outputId": "305f996f-7c75-4e9f-bdb2-7a4640dfc17e"
      },
      "execution_count": 44,
      "outputs": [
        {
          "output_type": "execute_result",
          "data": {
            "text/plain": [
              "rule              Baseline\n",
              "ttm_binned                \n",
              "ttm <= 1 month    0.693681\n",
              "ttm (1-2] month   0.697003\n",
              "ttm (2-3] month   0.681344\n",
              "ttm (3-6] month   0.673472\n",
              "ttm (6-12] month  0.685347\n",
              "ttm > 12 month    0.678186"
            ],
            "text/html": [
              "\n",
              "  <div id=\"df-4ab4fce5-5f3c-42ec-b18e-e5067d1f6899\">\n",
              "    <div class=\"colab-df-container\">\n",
              "      <div>\n",
              "<style scoped>\n",
              "    .dataframe tbody tr th:only-of-type {\n",
              "        vertical-align: middle;\n",
              "    }\n",
              "\n",
              "    .dataframe tbody tr th {\n",
              "        vertical-align: top;\n",
              "    }\n",
              "\n",
              "    .dataframe thead th {\n",
              "        text-align: right;\n",
              "    }\n",
              "</style>\n",
              "<table border=\"1\" class=\"dataframe\">\n",
              "  <thead>\n",
              "    <tr style=\"text-align: right;\">\n",
              "      <th>rule</th>\n",
              "      <th>Baseline</th>\n",
              "    </tr>\n",
              "    <tr>\n",
              "      <th>ttm_binned</th>\n",
              "      <th></th>\n",
              "    </tr>\n",
              "  </thead>\n",
              "  <tbody>\n",
              "    <tr>\n",
              "      <th>ttm &lt;= 1 month</th>\n",
              "      <td>0.693681</td>\n",
              "    </tr>\n",
              "    <tr>\n",
              "      <th>ttm (1-2] month</th>\n",
              "      <td>0.697003</td>\n",
              "    </tr>\n",
              "    <tr>\n",
              "      <th>ttm (2-3] month</th>\n",
              "      <td>0.681344</td>\n",
              "    </tr>\n",
              "    <tr>\n",
              "      <th>ttm (3-6] month</th>\n",
              "      <td>0.673472</td>\n",
              "    </tr>\n",
              "    <tr>\n",
              "      <th>ttm (6-12] month</th>\n",
              "      <td>0.685347</td>\n",
              "    </tr>\n",
              "    <tr>\n",
              "      <th>ttm &gt; 12 month</th>\n",
              "      <td>0.678186</td>\n",
              "    </tr>\n",
              "  </tbody>\n",
              "</table>\n",
              "</div>\n",
              "      <button class=\"colab-df-convert\" onclick=\"convertToInteractive('df-4ab4fce5-5f3c-42ec-b18e-e5067d1f6899')\"\n",
              "              title=\"Convert this dataframe to an interactive table.\"\n",
              "              style=\"display:none;\">\n",
              "        \n",
              "  <svg xmlns=\"http://www.w3.org/2000/svg\" height=\"24px\"viewBox=\"0 0 24 24\"\n",
              "       width=\"24px\">\n",
              "    <path d=\"M0 0h24v24H0V0z\" fill=\"none\"/>\n",
              "    <path d=\"M18.56 5.44l.94 2.06.94-2.06 2.06-.94-2.06-.94-.94-2.06-.94 2.06-2.06.94zm-11 1L8.5 8.5l.94-2.06 2.06-.94-2.06-.94L8.5 2.5l-.94 2.06-2.06.94zm10 10l.94 2.06.94-2.06 2.06-.94-2.06-.94-.94-2.06-.94 2.06-2.06.94z\"/><path d=\"M17.41 7.96l-1.37-1.37c-.4-.4-.92-.59-1.43-.59-.52 0-1.04.2-1.43.59L10.3 9.45l-7.72 7.72c-.78.78-.78 2.05 0 2.83L4 21.41c.39.39.9.59 1.41.59.51 0 1.02-.2 1.41-.59l7.78-7.78 2.81-2.81c.8-.78.8-2.07 0-2.86zM5.41 20L4 18.59l7.72-7.72 1.47 1.35L5.41 20z\"/>\n",
              "  </svg>\n",
              "      </button>\n",
              "      \n",
              "  <style>\n",
              "    .colab-df-container {\n",
              "      display:flex;\n",
              "      flex-wrap:wrap;\n",
              "      gap: 12px;\n",
              "    }\n",
              "\n",
              "    .colab-df-convert {\n",
              "      background-color: #E8F0FE;\n",
              "      border: none;\n",
              "      border-radius: 50%;\n",
              "      cursor: pointer;\n",
              "      display: none;\n",
              "      fill: #1967D2;\n",
              "      height: 32px;\n",
              "      padding: 0 0 0 0;\n",
              "      width: 32px;\n",
              "    }\n",
              "\n",
              "    .colab-df-convert:hover {\n",
              "      background-color: #E2EBFA;\n",
              "      box-shadow: 0px 1px 2px rgba(60, 64, 67, 0.3), 0px 1px 3px 1px rgba(60, 64, 67, 0.15);\n",
              "      fill: #174EA6;\n",
              "    }\n",
              "\n",
              "    [theme=dark] .colab-df-convert {\n",
              "      background-color: #3B4455;\n",
              "      fill: #D2E3FC;\n",
              "    }\n",
              "\n",
              "    [theme=dark] .colab-df-convert:hover {\n",
              "      background-color: #434B5C;\n",
              "      box-shadow: 0px 1px 3px 1px rgba(0, 0, 0, 0.15);\n",
              "      filter: drop-shadow(0px 1px 2px rgba(0, 0, 0, 0.3));\n",
              "      fill: #FFFFFF;\n",
              "    }\n",
              "  </style>\n",
              "\n",
              "      <script>\n",
              "        const buttonEl =\n",
              "          document.querySelector('#df-4ab4fce5-5f3c-42ec-b18e-e5067d1f6899 button.colab-df-convert');\n",
              "        buttonEl.style.display =\n",
              "          google.colab.kernel.accessAllowed ? 'block' : 'none';\n",
              "\n",
              "        async function convertToInteractive(key) {\n",
              "          const element = document.querySelector('#df-4ab4fce5-5f3c-42ec-b18e-e5067d1f6899');\n",
              "          const dataTable =\n",
              "            await google.colab.kernel.invokeFunction('convertToInteractive',\n",
              "                                                     [key], {});\n",
              "          if (!dataTable) return;\n",
              "\n",
              "          const docLinkHtml = 'Like what you see? Visit the ' +\n",
              "            '<a target=\"_blank\" href=https://colab.research.google.com/notebooks/data_table.ipynb>data table notebook</a>'\n",
              "            + ' to learn more about interactive tables.';\n",
              "          element.innerHTML = '';\n",
              "          dataTable['output_type'] = 'display_data';\n",
              "          await google.colab.output.renderOutput(dataTable, element);\n",
              "          const docLink = document.createElement('div');\n",
              "          docLink.innerHTML = docLinkHtml;\n",
              "          element.appendChild(docLink);\n",
              "        }\n",
              "      </script>\n",
              "    </div>\n",
              "  </div>\n",
              "  "
            ]
          },
          "metadata": {},
          "execution_count": 44
        }
      ]
    },
    {
      "cell_type": "code",
      "source": [
        "# TODO: print some metrics\n",
        "\n",
        "# cv_dataset = Pool(data=cv_data,\n",
        "#                   label=labels,\n",
        "#                   cat_features=cat_features)\n",
        "\n",
        "# params = {\"iterations\": 100,\n",
        "#           \"depth\": 2,\n",
        "#           \"loss_function\": \"Logloss\",\n",
        "#           \"verbose\": False}\n",
        "\n",
        "# scores = cv(cv_dataset,\n",
        "#             params,\n",
        "#             fold_count=2, \n",
        "#             plot=\"True\")"
      ],
      "metadata": {
        "id": "IGKtBlnz4COM"
      },
      "execution_count": null,
      "outputs": []
    },
    {
      "cell_type": "markdown",
      "source": [
        "## Classical rules"
      ],
      "metadata": {
        "id": "2P3UVsQb2T_V"
      }
    },
    {
      "cell_type": "code",
      "source": [
        "df.head().T"
      ],
      "metadata": {
        "colab": {
          "base_uri": "https://localhost:8080/",
          "height": 771
        },
        "id": "gHnFz65rZnOZ",
        "outputId": "cdb54c20-c5ba-42df-e6a0-38fac64b281e"
      },
      "execution_count": null,
      "outputs": [
        {
          "output_type": "execute_result",
          "data": {
            "text/plain": [
              "                              34736684             34736685  \\\n",
              "UNDERLYING_SYMBOL                 LINE                 LINE   \n",
              "QUOTE_DATETIME     2015-01-02 09:30:00  2015-01-02 09:30:00   \n",
              "SEQUENCE_NUMBER                  74466             67183330   \n",
              "ROOT                              LINE                 LINE   \n",
              "EXPIRATION         2015-04-17 00:00:00  2015-04-17 00:00:00   \n",
              "STRK_PRC                           9.0                 18.0   \n",
              "OPTION_TYPE                          C                    C   \n",
              "TRADE_SIZE                           5                    5   \n",
              "TRADE_PRICE                       2.14                 0.04   \n",
              "BEST_BID                           1.8                  0.0   \n",
              "BEST_ASK                          2.15                  0.5   \n",
              "order_id                    1624705991           1624706010   \n",
              "ask_ex                            2.15                  0.5   \n",
              "bid_ex                             1.8                  0.0   \n",
              "bid_size_ex                       11.0                  0.0   \n",
              "ask_size_ex                       11.0                 31.0   \n",
              "price_all_lead                    2.83                 0.28   \n",
              "price_all_lag                     2.25                 0.21   \n",
              "optionid                   106126248.0          105166752.0   \n",
              "day_vol                           10.0                 10.0   \n",
              "price_ex_lead                     3.29                 0.22   \n",
              "price_ex_lag                       2.3                  0.2   \n",
              "buy_sell                           1.0                 -1.0   \n",
              "\n",
              "                              34736686             34736687  \\\n",
              "UNDERLYING_SYMBOL                 AMZN                  TLT   \n",
              "QUOTE_DATETIME     2015-01-02 09:30:00  2015-01-02 09:30:00   \n",
              "SEQUENCE_NUMBER                8588013              7331304   \n",
              "ROOT                              AMZN                  TLT   \n",
              "EXPIRATION         2015-02-20 00:00:00  2015-01-02 00:00:00   \n",
              "STRK_PRC                         390.0                124.0   \n",
              "OPTION_TYPE                          C                    P   \n",
              "TRADE_SIZE                           1                   20   \n",
              "TRADE_PRICE                       1.42                 0.01   \n",
              "BEST_BID                           0.0                  0.0   \n",
              "BEST_ASK                           0.0                 0.14   \n",
              "order_id                    1624706024           1624706072   \n",
              "ask_ex                             NaN                 0.14   \n",
              "bid_ex                             NaN                  0.0   \n",
              "bid_size_ex                        NaN                  0.0   \n",
              "ask_size_ex                        NaN                 56.0   \n",
              "price_all_lead                     1.3                 0.03   \n",
              "price_all_lag                     1.35                 0.03   \n",
              "optionid                   106064528.0          105919880.0   \n",
              "day_vol                            1.0                 20.0   \n",
              "price_ex_lead                     0.37                  NaN   \n",
              "price_ex_lag                      1.35                 0.04   \n",
              "buy_sell                          -1.0                 -1.0   \n",
              "\n",
              "                              34736688  \n",
              "UNDERLYING_SYMBOL                  TLT  \n",
              "QUOTE_DATETIME     2015-01-02 09:30:00  \n",
              "SEQUENCE_NUMBER                7331305  \n",
              "ROOT                               TLT  \n",
              "EXPIRATION         2015-01-02 00:00:00  \n",
              "STRK_PRC                         126.0  \n",
              "OPTION_TYPE                          P  \n",
              "TRADE_SIZE                          20  \n",
              "TRADE_PRICE                       0.18  \n",
              "BEST_BID                          0.05  \n",
              "BEST_ASK                          0.19  \n",
              "order_id                    1624706073  \n",
              "ask_ex                            0.19  \n",
              "bid_ex                            0.05  \n",
              "bid_size_ex                       80.0  \n",
              "ask_size_ex                       21.0  \n",
              "price_all_lead                    0.15  \n",
              "price_all_lag                     0.42  \n",
              "optionid                   105919880.0  \n",
              "day_vol                           20.0  \n",
              "price_ex_lead                      NaN  \n",
              "price_ex_lag                       0.4  \n",
              "buy_sell                           1.0  "
            ],
            "text/html": [
              "<div>\n",
              "<style scoped>\n",
              "    .dataframe tbody tr th:only-of-type {\n",
              "        vertical-align: middle;\n",
              "    }\n",
              "\n",
              "    .dataframe tbody tr th {\n",
              "        vertical-align: top;\n",
              "    }\n",
              "\n",
              "    .dataframe thead th {\n",
              "        text-align: right;\n",
              "    }\n",
              "</style>\n",
              "<table border=\"1\" class=\"dataframe\">\n",
              "  <thead>\n",
              "    <tr style=\"text-align: right;\">\n",
              "      <th></th>\n",
              "      <th>34736684</th>\n",
              "      <th>34736685</th>\n",
              "      <th>34736686</th>\n",
              "      <th>34736687</th>\n",
              "      <th>34736688</th>\n",
              "    </tr>\n",
              "  </thead>\n",
              "  <tbody>\n",
              "    <tr>\n",
              "      <th>UNDERLYING_SYMBOL</th>\n",
              "      <td>LINE</td>\n",
              "      <td>LINE</td>\n",
              "      <td>AMZN</td>\n",
              "      <td>TLT</td>\n",
              "      <td>TLT</td>\n",
              "    </tr>\n",
              "    <tr>\n",
              "      <th>QUOTE_DATETIME</th>\n",
              "      <td>2015-01-02 09:30:00</td>\n",
              "      <td>2015-01-02 09:30:00</td>\n",
              "      <td>2015-01-02 09:30:00</td>\n",
              "      <td>2015-01-02 09:30:00</td>\n",
              "      <td>2015-01-02 09:30:00</td>\n",
              "    </tr>\n",
              "    <tr>\n",
              "      <th>SEQUENCE_NUMBER</th>\n",
              "      <td>74466</td>\n",
              "      <td>67183330</td>\n",
              "      <td>8588013</td>\n",
              "      <td>7331304</td>\n",
              "      <td>7331305</td>\n",
              "    </tr>\n",
              "    <tr>\n",
              "      <th>ROOT</th>\n",
              "      <td>LINE</td>\n",
              "      <td>LINE</td>\n",
              "      <td>AMZN</td>\n",
              "      <td>TLT</td>\n",
              "      <td>TLT</td>\n",
              "    </tr>\n",
              "    <tr>\n",
              "      <th>EXPIRATION</th>\n",
              "      <td>2015-04-17 00:00:00</td>\n",
              "      <td>2015-04-17 00:00:00</td>\n",
              "      <td>2015-02-20 00:00:00</td>\n",
              "      <td>2015-01-02 00:00:00</td>\n",
              "      <td>2015-01-02 00:00:00</td>\n",
              "    </tr>\n",
              "    <tr>\n",
              "      <th>STRK_PRC</th>\n",
              "      <td>9.0</td>\n",
              "      <td>18.0</td>\n",
              "      <td>390.0</td>\n",
              "      <td>124.0</td>\n",
              "      <td>126.0</td>\n",
              "    </tr>\n",
              "    <tr>\n",
              "      <th>OPTION_TYPE</th>\n",
              "      <td>C</td>\n",
              "      <td>C</td>\n",
              "      <td>C</td>\n",
              "      <td>P</td>\n",
              "      <td>P</td>\n",
              "    </tr>\n",
              "    <tr>\n",
              "      <th>TRADE_SIZE</th>\n",
              "      <td>5</td>\n",
              "      <td>5</td>\n",
              "      <td>1</td>\n",
              "      <td>20</td>\n",
              "      <td>20</td>\n",
              "    </tr>\n",
              "    <tr>\n",
              "      <th>TRADE_PRICE</th>\n",
              "      <td>2.14</td>\n",
              "      <td>0.04</td>\n",
              "      <td>1.42</td>\n",
              "      <td>0.01</td>\n",
              "      <td>0.18</td>\n",
              "    </tr>\n",
              "    <tr>\n",
              "      <th>BEST_BID</th>\n",
              "      <td>1.8</td>\n",
              "      <td>0.0</td>\n",
              "      <td>0.0</td>\n",
              "      <td>0.0</td>\n",
              "      <td>0.05</td>\n",
              "    </tr>\n",
              "    <tr>\n",
              "      <th>BEST_ASK</th>\n",
              "      <td>2.15</td>\n",
              "      <td>0.5</td>\n",
              "      <td>0.0</td>\n",
              "      <td>0.14</td>\n",
              "      <td>0.19</td>\n",
              "    </tr>\n",
              "    <tr>\n",
              "      <th>order_id</th>\n",
              "      <td>1624705991</td>\n",
              "      <td>1624706010</td>\n",
              "      <td>1624706024</td>\n",
              "      <td>1624706072</td>\n",
              "      <td>1624706073</td>\n",
              "    </tr>\n",
              "    <tr>\n",
              "      <th>ask_ex</th>\n",
              "      <td>2.15</td>\n",
              "      <td>0.5</td>\n",
              "      <td>NaN</td>\n",
              "      <td>0.14</td>\n",
              "      <td>0.19</td>\n",
              "    </tr>\n",
              "    <tr>\n",
              "      <th>bid_ex</th>\n",
              "      <td>1.8</td>\n",
              "      <td>0.0</td>\n",
              "      <td>NaN</td>\n",
              "      <td>0.0</td>\n",
              "      <td>0.05</td>\n",
              "    </tr>\n",
              "    <tr>\n",
              "      <th>bid_size_ex</th>\n",
              "      <td>11.0</td>\n",
              "      <td>0.0</td>\n",
              "      <td>NaN</td>\n",
              "      <td>0.0</td>\n",
              "      <td>80.0</td>\n",
              "    </tr>\n",
              "    <tr>\n",
              "      <th>ask_size_ex</th>\n",
              "      <td>11.0</td>\n",
              "      <td>31.0</td>\n",
              "      <td>NaN</td>\n",
              "      <td>56.0</td>\n",
              "      <td>21.0</td>\n",
              "    </tr>\n",
              "    <tr>\n",
              "      <th>price_all_lead</th>\n",
              "      <td>2.83</td>\n",
              "      <td>0.28</td>\n",
              "      <td>1.3</td>\n",
              "      <td>0.03</td>\n",
              "      <td>0.15</td>\n",
              "    </tr>\n",
              "    <tr>\n",
              "      <th>price_all_lag</th>\n",
              "      <td>2.25</td>\n",
              "      <td>0.21</td>\n",
              "      <td>1.35</td>\n",
              "      <td>0.03</td>\n",
              "      <td>0.42</td>\n",
              "    </tr>\n",
              "    <tr>\n",
              "      <th>optionid</th>\n",
              "      <td>106126248.0</td>\n",
              "      <td>105166752.0</td>\n",
              "      <td>106064528.0</td>\n",
              "      <td>105919880.0</td>\n",
              "      <td>105919880.0</td>\n",
              "    </tr>\n",
              "    <tr>\n",
              "      <th>day_vol</th>\n",
              "      <td>10.0</td>\n",
              "      <td>10.0</td>\n",
              "      <td>1.0</td>\n",
              "      <td>20.0</td>\n",
              "      <td>20.0</td>\n",
              "    </tr>\n",
              "    <tr>\n",
              "      <th>price_ex_lead</th>\n",
              "      <td>3.29</td>\n",
              "      <td>0.22</td>\n",
              "      <td>0.37</td>\n",
              "      <td>NaN</td>\n",
              "      <td>NaN</td>\n",
              "    </tr>\n",
              "    <tr>\n",
              "      <th>price_ex_lag</th>\n",
              "      <td>2.3</td>\n",
              "      <td>0.2</td>\n",
              "      <td>1.35</td>\n",
              "      <td>0.04</td>\n",
              "      <td>0.4</td>\n",
              "    </tr>\n",
              "    <tr>\n",
              "      <th>buy_sell</th>\n",
              "      <td>1.0</td>\n",
              "      <td>-1.0</td>\n",
              "      <td>-1.0</td>\n",
              "      <td>-1.0</td>\n",
              "      <td>1.0</td>\n",
              "    </tr>\n",
              "  </tbody>\n",
              "</table>\n",
              "</div>"
            ]
          },
          "metadata": {},
          "execution_count": 6
        }
      ]
    },
    {
      "cell_type": "code",
      "source": [
        "# test if if a lead price is different from the trade price?\n",
        "sum = (df['TRADE_PRICE'] == df['price_ex_lead']).sum()\n",
        "print(sum)"
      ],
      "metadata": {
        "colab": {
          "base_uri": "https://localhost:8080/"
        },
        "id": "1E0cyFEW7OHh",
        "outputId": "138fe32e-7270-4800-a591-4524519db004"
      },
      "execution_count": null,
      "outputs": [
        {
          "output_type": "stream",
          "name": "stdout",
          "text": [
            "0\n"
          ]
        }
      ]
    },
    {
      "cell_type": "code",
      "source": [
        "# quote rule\n",
        "mid = 0.5 * (df['ask_ex'] + df['bid_ex'])\n",
        "qr = np.where(df['TRADE_PRICE'] > mid, 1, np.where(df['TRADE_PRICE'] < mid, -1, np.nan))\n",
        "df['pred_quote_rule'] = qr"
      ],
      "metadata": {
        "id": "GTr6C0gPEAlh"
      },
      "execution_count": null,
      "outputs": []
    },
    {
      "cell_type": "code",
      "source": [
        "sum = (df['TRADE_PRICE'] == mid).sum()\n",
        "print(sum)"
      ],
      "metadata": {
        "colab": {
          "base_uri": "https://localhost:8080/"
        },
        "id": "As1GilUfF2On",
        "outputId": "176b48f3-3b1a-4eea-84c1-3330c6a9b701"
      },
      "execution_count": null,
      "outputs": [
        {
          "output_type": "stream",
          "name": "stdout",
          "text": [
            "632780\n"
          ]
        }
      ]
    },
    {
      "cell_type": "code",
      "source": [
        "# depth rule p. 14\n",
        "dr = np.where((df['TRADE_PRICE'] == mid) & (df['ask_size_ex'] > df['bid_size_ex']),1,np.where((df['TRADE_PRICE'] == mid) & (df['ask_size_ex'] < df['bid_size_ex']),-1,np.nan))\n",
        "df['pred_depth_rule'] = dr"
      ],
      "metadata": {
        "id": "I_8zfiyGVZfG"
      },
      "execution_count": null,
      "outputs": []
    },
    {
      "cell_type": "code",
      "source": [
        "# tick rule\n",
        "# FIXME: Disqus with Grauer et al what is used in table 9 ISE or all?\n",
        "tt = np.where(df['TRADE_PRICE'] > df['price_ex_lead'], 1.0, -1.0)\n",
        "df['pred_tick_test'] = tt"
      ],
      "metadata": {
        "id": "FXOz7eU-T0dj"
      },
      "execution_count": null,
      "outputs": []
    },
    {
      "cell_type": "code",
      "source": [
        "# main idea of our new “trade size rule” is that when the trade size matches exactly either the bid or ask quote size, it is likely that the quote came from a customer, the market maker found it attractive and, therefore, decided to fill it completely.\n",
        "# we propose to classify trades for which the trade size is equal to the quoted bid size as customer buys and those with a trade size equal to the ask size as customer sells.\n",
        "\n",
        "ts_eq_bid = (df['TRADE_SIZE'] == df['bid_size_ex'])\n",
        "ts_eq_ask = (df['TRADE_SIZE'] == df['ask_size_ex'])\n",
        "\n",
        "df['pred_trade_size_quote_rule'] = np.where(ts_eq_bid,1.0, np.where(ts_eq_ask,-1.0, qr))\n",
        "df['pred_trade_size_tick_test'] = np.where(ts_eq_bid,1.0, np.where(ts_eq_ask,-1.0, tt))"
      ],
      "metadata": {
        "id": "uKFUz1AHxFHQ"
      },
      "execution_count": null,
      "outputs": []
    },
    {
      "cell_type": "code",
      "source": [
        "df['pred_trade_size_depth_rule'] = np.where(ts_eq_bid,1.0, np.where(ts_eq_ask,-1.0, dr))"
      ],
      "metadata": {
        "id": "Ym31mXboWRUL"
      },
      "execution_count": null,
      "outputs": []
    },
    {
      "cell_type": "code",
      "source": [
        "# reverse tick rule\n",
        "df['pred_rev_tick_test'] = np.where(df['TRADE_PRICE'] > df['price_all_lag'], 1.0, -1.0)"
      ],
      "metadata": {
        "id": "dfsKw6JuBIKd"
      },
      "execution_count": null,
      "outputs": []
    },
    {
      "cell_type": "code",
      "source": [
        "df.head().T"
      ],
      "metadata": {
        "colab": {
          "base_uri": "https://localhost:8080/",
          "height": 990
        },
        "id": "etb4IaTvUdx5",
        "outputId": "69f87245-bf76-4c82-f0ee-84844a666a08"
      },
      "execution_count": null,
      "outputs": [
        {
          "output_type": "execute_result",
          "data": {
            "text/plain": [
              "                                       34736684             34736685  \\\n",
              "UNDERLYING_SYMBOL                          LINE                 LINE   \n",
              "QUOTE_DATETIME              2015-01-02 09:30:00  2015-01-02 09:30:00   \n",
              "SEQUENCE_NUMBER                           74466             67183330   \n",
              "ROOT                                       LINE                 LINE   \n",
              "EXPIRATION                  2015-04-17 00:00:00  2015-04-17 00:00:00   \n",
              "STRK_PRC                                    9.0                 18.0   \n",
              "OPTION_TYPE                                   C                    C   \n",
              "TRADE_SIZE                                    5                    5   \n",
              "TRADE_PRICE                                2.14                 0.04   \n",
              "BEST_BID                                    1.8                  0.0   \n",
              "BEST_ASK                                   2.15                  0.5   \n",
              "order_id                             1624705991           1624706010   \n",
              "ask_ex                                     2.15                  0.5   \n",
              "bid_ex                                      1.8                  0.0   \n",
              "bid_size_ex                                11.0                  0.0   \n",
              "ask_size_ex                                11.0                 31.0   \n",
              "price_all_lead                             2.83                 0.28   \n",
              "price_all_lag                              2.25                 0.21   \n",
              "optionid                            106126248.0          105166752.0   \n",
              "day_vol                                    10.0                 10.0   \n",
              "price_ex_lead                              3.29                 0.22   \n",
              "price_ex_lag                                2.3                  0.2   \n",
              "buy_sell                                    1.0                 -1.0   \n",
              "pred_quote_rule                             1.0                 -1.0   \n",
              "pred_tick_test                             -1.0                 -1.0   \n",
              "pred_trade_size_quote_rule                  1.0                 -1.0   \n",
              "pred_trade_size_tick_test                  -1.0                 -1.0   \n",
              "pred_rev_tick_test                         -1.0                 -1.0   \n",
              "pred_trade_size_depth_rule                  NaN                  NaN   \n",
              "pred_depth_rule                             NaN                  NaN   \n",
              "\n",
              "                                       34736686             34736687  \\\n",
              "UNDERLYING_SYMBOL                          AMZN                  TLT   \n",
              "QUOTE_DATETIME              2015-01-02 09:30:00  2015-01-02 09:30:00   \n",
              "SEQUENCE_NUMBER                         8588013              7331304   \n",
              "ROOT                                       AMZN                  TLT   \n",
              "EXPIRATION                  2015-02-20 00:00:00  2015-01-02 00:00:00   \n",
              "STRK_PRC                                  390.0                124.0   \n",
              "OPTION_TYPE                                   C                    P   \n",
              "TRADE_SIZE                                    1                   20   \n",
              "TRADE_PRICE                                1.42                 0.01   \n",
              "BEST_BID                                    0.0                  0.0   \n",
              "BEST_ASK                                    0.0                 0.14   \n",
              "order_id                             1624706024           1624706072   \n",
              "ask_ex                                      NaN                 0.14   \n",
              "bid_ex                                      NaN                  0.0   \n",
              "bid_size_ex                                 NaN                  0.0   \n",
              "ask_size_ex                                 NaN                 56.0   \n",
              "price_all_lead                              1.3                 0.03   \n",
              "price_all_lag                              1.35                 0.03   \n",
              "optionid                            106064528.0          105919880.0   \n",
              "day_vol                                     1.0                 20.0   \n",
              "price_ex_lead                              0.37                  NaN   \n",
              "price_ex_lag                               1.35                 0.04   \n",
              "buy_sell                                   -1.0                 -1.0   \n",
              "pred_quote_rule                             NaN                 -1.0   \n",
              "pred_tick_test                              1.0                 -1.0   \n",
              "pred_trade_size_quote_rule                  NaN                 -1.0   \n",
              "pred_trade_size_tick_test                   1.0                 -1.0   \n",
              "pred_rev_tick_test                          1.0                 -1.0   \n",
              "pred_trade_size_depth_rule                  NaN                  NaN   \n",
              "pred_depth_rule                             NaN                  NaN   \n",
              "\n",
              "                                       34736688  \n",
              "UNDERLYING_SYMBOL                           TLT  \n",
              "QUOTE_DATETIME              2015-01-02 09:30:00  \n",
              "SEQUENCE_NUMBER                         7331305  \n",
              "ROOT                                        TLT  \n",
              "EXPIRATION                  2015-01-02 00:00:00  \n",
              "STRK_PRC                                  126.0  \n",
              "OPTION_TYPE                                   P  \n",
              "TRADE_SIZE                                   20  \n",
              "TRADE_PRICE                                0.18  \n",
              "BEST_BID                                   0.05  \n",
              "BEST_ASK                                   0.19  \n",
              "order_id                             1624706073  \n",
              "ask_ex                                     0.19  \n",
              "bid_ex                                     0.05  \n",
              "bid_size_ex                                80.0  \n",
              "ask_size_ex                                21.0  \n",
              "price_all_lead                             0.15  \n",
              "price_all_lag                              0.42  \n",
              "optionid                            105919880.0  \n",
              "day_vol                                    20.0  \n",
              "price_ex_lead                               NaN  \n",
              "price_ex_lag                                0.4  \n",
              "buy_sell                                    1.0  \n",
              "pred_quote_rule                             1.0  \n",
              "pred_tick_test                             -1.0  \n",
              "pred_trade_size_quote_rule                  1.0  \n",
              "pred_trade_size_tick_test                  -1.0  \n",
              "pred_rev_tick_test                         -1.0  \n",
              "pred_trade_size_depth_rule                  NaN  \n",
              "pred_depth_rule                             NaN  "
            ],
            "text/html": [
              "<div>\n",
              "<style scoped>\n",
              "    .dataframe tbody tr th:only-of-type {\n",
              "        vertical-align: middle;\n",
              "    }\n",
              "\n",
              "    .dataframe tbody tr th {\n",
              "        vertical-align: top;\n",
              "    }\n",
              "\n",
              "    .dataframe thead th {\n",
              "        text-align: right;\n",
              "    }\n",
              "</style>\n",
              "<table border=\"1\" class=\"dataframe\">\n",
              "  <thead>\n",
              "    <tr style=\"text-align: right;\">\n",
              "      <th></th>\n",
              "      <th>34736684</th>\n",
              "      <th>34736685</th>\n",
              "      <th>34736686</th>\n",
              "      <th>34736687</th>\n",
              "      <th>34736688</th>\n",
              "    </tr>\n",
              "  </thead>\n",
              "  <tbody>\n",
              "    <tr>\n",
              "      <th>UNDERLYING_SYMBOL</th>\n",
              "      <td>LINE</td>\n",
              "      <td>LINE</td>\n",
              "      <td>AMZN</td>\n",
              "      <td>TLT</td>\n",
              "      <td>TLT</td>\n",
              "    </tr>\n",
              "    <tr>\n",
              "      <th>QUOTE_DATETIME</th>\n",
              "      <td>2015-01-02 09:30:00</td>\n",
              "      <td>2015-01-02 09:30:00</td>\n",
              "      <td>2015-01-02 09:30:00</td>\n",
              "      <td>2015-01-02 09:30:00</td>\n",
              "      <td>2015-01-02 09:30:00</td>\n",
              "    </tr>\n",
              "    <tr>\n",
              "      <th>SEQUENCE_NUMBER</th>\n",
              "      <td>74466</td>\n",
              "      <td>67183330</td>\n",
              "      <td>8588013</td>\n",
              "      <td>7331304</td>\n",
              "      <td>7331305</td>\n",
              "    </tr>\n",
              "    <tr>\n",
              "      <th>ROOT</th>\n",
              "      <td>LINE</td>\n",
              "      <td>LINE</td>\n",
              "      <td>AMZN</td>\n",
              "      <td>TLT</td>\n",
              "      <td>TLT</td>\n",
              "    </tr>\n",
              "    <tr>\n",
              "      <th>EXPIRATION</th>\n",
              "      <td>2015-04-17 00:00:00</td>\n",
              "      <td>2015-04-17 00:00:00</td>\n",
              "      <td>2015-02-20 00:00:00</td>\n",
              "      <td>2015-01-02 00:00:00</td>\n",
              "      <td>2015-01-02 00:00:00</td>\n",
              "    </tr>\n",
              "    <tr>\n",
              "      <th>STRK_PRC</th>\n",
              "      <td>9.0</td>\n",
              "      <td>18.0</td>\n",
              "      <td>390.0</td>\n",
              "      <td>124.0</td>\n",
              "      <td>126.0</td>\n",
              "    </tr>\n",
              "    <tr>\n",
              "      <th>OPTION_TYPE</th>\n",
              "      <td>C</td>\n",
              "      <td>C</td>\n",
              "      <td>C</td>\n",
              "      <td>P</td>\n",
              "      <td>P</td>\n",
              "    </tr>\n",
              "    <tr>\n",
              "      <th>TRADE_SIZE</th>\n",
              "      <td>5</td>\n",
              "      <td>5</td>\n",
              "      <td>1</td>\n",
              "      <td>20</td>\n",
              "      <td>20</td>\n",
              "    </tr>\n",
              "    <tr>\n",
              "      <th>TRADE_PRICE</th>\n",
              "      <td>2.14</td>\n",
              "      <td>0.04</td>\n",
              "      <td>1.42</td>\n",
              "      <td>0.01</td>\n",
              "      <td>0.18</td>\n",
              "    </tr>\n",
              "    <tr>\n",
              "      <th>BEST_BID</th>\n",
              "      <td>1.8</td>\n",
              "      <td>0.0</td>\n",
              "      <td>0.0</td>\n",
              "      <td>0.0</td>\n",
              "      <td>0.05</td>\n",
              "    </tr>\n",
              "    <tr>\n",
              "      <th>BEST_ASK</th>\n",
              "      <td>2.15</td>\n",
              "      <td>0.5</td>\n",
              "      <td>0.0</td>\n",
              "      <td>0.14</td>\n",
              "      <td>0.19</td>\n",
              "    </tr>\n",
              "    <tr>\n",
              "      <th>order_id</th>\n",
              "      <td>1624705991</td>\n",
              "      <td>1624706010</td>\n",
              "      <td>1624706024</td>\n",
              "      <td>1624706072</td>\n",
              "      <td>1624706073</td>\n",
              "    </tr>\n",
              "    <tr>\n",
              "      <th>ask_ex</th>\n",
              "      <td>2.15</td>\n",
              "      <td>0.5</td>\n",
              "      <td>NaN</td>\n",
              "      <td>0.14</td>\n",
              "      <td>0.19</td>\n",
              "    </tr>\n",
              "    <tr>\n",
              "      <th>bid_ex</th>\n",
              "      <td>1.8</td>\n",
              "      <td>0.0</td>\n",
              "      <td>NaN</td>\n",
              "      <td>0.0</td>\n",
              "      <td>0.05</td>\n",
              "    </tr>\n",
              "    <tr>\n",
              "      <th>bid_size_ex</th>\n",
              "      <td>11.0</td>\n",
              "      <td>0.0</td>\n",
              "      <td>NaN</td>\n",
              "      <td>0.0</td>\n",
              "      <td>80.0</td>\n",
              "    </tr>\n",
              "    <tr>\n",
              "      <th>ask_size_ex</th>\n",
              "      <td>11.0</td>\n",
              "      <td>31.0</td>\n",
              "      <td>NaN</td>\n",
              "      <td>56.0</td>\n",
              "      <td>21.0</td>\n",
              "    </tr>\n",
              "    <tr>\n",
              "      <th>price_all_lead</th>\n",
              "      <td>2.83</td>\n",
              "      <td>0.28</td>\n",
              "      <td>1.3</td>\n",
              "      <td>0.03</td>\n",
              "      <td>0.15</td>\n",
              "    </tr>\n",
              "    <tr>\n",
              "      <th>price_all_lag</th>\n",
              "      <td>2.25</td>\n",
              "      <td>0.21</td>\n",
              "      <td>1.35</td>\n",
              "      <td>0.03</td>\n",
              "      <td>0.42</td>\n",
              "    </tr>\n",
              "    <tr>\n",
              "      <th>optionid</th>\n",
              "      <td>106126248.0</td>\n",
              "      <td>105166752.0</td>\n",
              "      <td>106064528.0</td>\n",
              "      <td>105919880.0</td>\n",
              "      <td>105919880.0</td>\n",
              "    </tr>\n",
              "    <tr>\n",
              "      <th>day_vol</th>\n",
              "      <td>10.0</td>\n",
              "      <td>10.0</td>\n",
              "      <td>1.0</td>\n",
              "      <td>20.0</td>\n",
              "      <td>20.0</td>\n",
              "    </tr>\n",
              "    <tr>\n",
              "      <th>price_ex_lead</th>\n",
              "      <td>3.29</td>\n",
              "      <td>0.22</td>\n",
              "      <td>0.37</td>\n",
              "      <td>NaN</td>\n",
              "      <td>NaN</td>\n",
              "    </tr>\n",
              "    <tr>\n",
              "      <th>price_ex_lag</th>\n",
              "      <td>2.3</td>\n",
              "      <td>0.2</td>\n",
              "      <td>1.35</td>\n",
              "      <td>0.04</td>\n",
              "      <td>0.4</td>\n",
              "    </tr>\n",
              "    <tr>\n",
              "      <th>buy_sell</th>\n",
              "      <td>1.0</td>\n",
              "      <td>-1.0</td>\n",
              "      <td>-1.0</td>\n",
              "      <td>-1.0</td>\n",
              "      <td>1.0</td>\n",
              "    </tr>\n",
              "    <tr>\n",
              "      <th>pred_quote_rule</th>\n",
              "      <td>1.0</td>\n",
              "      <td>-1.0</td>\n",
              "      <td>NaN</td>\n",
              "      <td>-1.0</td>\n",
              "      <td>1.0</td>\n",
              "    </tr>\n",
              "    <tr>\n",
              "      <th>pred_tick_test</th>\n",
              "      <td>-1.0</td>\n",
              "      <td>-1.0</td>\n",
              "      <td>1.0</td>\n",
              "      <td>-1.0</td>\n",
              "      <td>-1.0</td>\n",
              "    </tr>\n",
              "    <tr>\n",
              "      <th>pred_trade_size_quote_rule</th>\n",
              "      <td>1.0</td>\n",
              "      <td>-1.0</td>\n",
              "      <td>NaN</td>\n",
              "      <td>-1.0</td>\n",
              "      <td>1.0</td>\n",
              "    </tr>\n",
              "    <tr>\n",
              "      <th>pred_trade_size_tick_test</th>\n",
              "      <td>-1.0</td>\n",
              "      <td>-1.0</td>\n",
              "      <td>1.0</td>\n",
              "      <td>-1.0</td>\n",
              "      <td>-1.0</td>\n",
              "    </tr>\n",
              "    <tr>\n",
              "      <th>pred_rev_tick_test</th>\n",
              "      <td>-1.0</td>\n",
              "      <td>-1.0</td>\n",
              "      <td>1.0</td>\n",
              "      <td>-1.0</td>\n",
              "      <td>-1.0</td>\n",
              "    </tr>\n",
              "    <tr>\n",
              "      <th>pred_trade_size_depth_rule</th>\n",
              "      <td>NaN</td>\n",
              "      <td>NaN</td>\n",
              "      <td>NaN</td>\n",
              "      <td>NaN</td>\n",
              "      <td>NaN</td>\n",
              "    </tr>\n",
              "    <tr>\n",
              "      <th>pred_depth_rule</th>\n",
              "      <td>NaN</td>\n",
              "      <td>NaN</td>\n",
              "      <td>NaN</td>\n",
              "      <td>NaN</td>\n",
              "      <td>NaN</td>\n",
              "    </tr>\n",
              "  </tbody>\n",
              "</table>\n",
              "</div>"
            ]
          },
          "metadata": {},
          "execution_count": 33
        }
      ]
    },
    {
      "cell_type": "code",
      "source": [
        "# Discuss with C. Grauer how results were calculated in table 9. Assign randomly (table 3) (?)\n",
        "pred_quote_rule_random = df['pred_quote_rule'].applymap(lambda l: l if not np.isnan(l) else np.random.choice([-1, 1]))\n",
        "\n",
        "acc = accuracy_score(df['buy_sell'], pred_quote_rule_random)\n",
        "print(f\"{acc:.3%}\")"
      ],
      "metadata": {
        "colab": {
          "base_uri": "https://localhost:8080/"
        },
        "id": "MLUaR_bAG_ox",
        "outputId": "b7648d47-05f9-436d-d865-d9552cbdcf75"
      },
      "execution_count": null,
      "outputs": [
        {
          "output_type": "stream",
          "name": "stdout",
          "text": [
            "56.073%\n"
          ]
        }
      ]
    },
    {
      "cell_type": "code",
      "source": [
        "# Discuss with C. Grauer how results were calculated in table 9. Assign randomly (table 3) (?)\n",
        "pred_trade_size_quote_rule_random = df['pred_trade_size_quote_rule'].applymap(lambda l: l if not np.isnan(l) else np.random.choice([-1, 1]))\n",
        "\n",
        "acc = accuracy_score(df['buy_sell'], pred_trade_size_quote_rule_random)\n",
        "print(f\"{acc:.3%}\")"
      ],
      "metadata": {
        "colab": {
          "base_uri": "https://localhost:8080/"
        },
        "id": "l82-BShY0Rou",
        "outputId": "7f304c6a-0300-470b-9558-9b1a320fbe3b"
      },
      "execution_count": null,
      "outputs": [
        {
          "output_type": "stream",
          "name": "stdout",
          "text": [
            "65.387%\n"
          ]
        }
      ]
    },
    {
      "cell_type": "code",
      "source": [
        "# Discuss with C. Grauer how results were calculated in table 9. Assign randomly (table 3) (?)\n",
        "pred_depth_rule_random = df['pred_depth_rule'].map(lambda l: l if not np.isnan(l) else np.random.choice([-1, 1]))\n",
        "\n",
        "acc = accuracy_score(df['buy_sell'], pred_depth_rule_random)\n",
        "print(f\"{acc:.3%}\")"
      ],
      "metadata": {
        "id": "_XGO8jIUXzrQ",
        "outputId": "33749476-e124-46e9-dd9f-4f5bb71ed6b4",
        "colab": {
          "base_uri": "https://localhost:8080/"
        }
      },
      "execution_count": null,
      "outputs": [
        {
          "output_type": "stream",
          "name": "stdout",
          "text": [
            "51.728%\n"
          ]
        }
      ]
    },
    {
      "cell_type": "code",
      "source": [
        "# Discuss with C. Grauer how results were calculated in table 9. Assign randomly (table 3) (?)\n",
        "pred_trade_size_depth_rule_random = df['pred_trade_size_depth_rule'].map(lambda l: l if not np.isnan(l) else np.random.choice([-1, 1]))\n",
        "\n",
        "acc = accuracy_score(df['buy_sell'], pred_trade_size_depth_rule_random)\n",
        "print(f\"{acc:.3%}\")"
      ],
      "metadata": {
        "id": "_mnfkK6vXb_s",
        "outputId": "f82b32cc-9d6e-47fe-ef59-c4ac68feac9a",
        "colab": {
          "base_uri": "https://localhost:8080/"
        }
      },
      "execution_count": null,
      "outputs": [
        {
          "output_type": "stream",
          "name": "stdout",
          "text": [
            "56.629%\n"
          ]
        }
      ]
    },
    {
      "cell_type": "code",
      "source": [
        "acc = accuracy_score(df['buy_sell'], df['pred_trade_size_tick_test'])\n",
        "print(f\"{acc:.3%}\")"
      ],
      "metadata": {
        "colab": {
          "base_uri": "https://localhost:8080/"
        },
        "id": "M4DQhLAH0l27",
        "outputId": "e45e2709-877a-4443-ce2f-08b1b15c2189"
      },
      "execution_count": null,
      "outputs": [
        {
          "output_type": "stream",
          "name": "stdout",
          "text": [
            "54.617%\n"
          ]
        }
      ]
    },
    {
      "cell_type": "code",
      "source": [
        "acc = accuracy_score(df['buy_sell'], df['pred_tick_test'])\n",
        "print(f\"{acc:.3%}\")"
      ],
      "metadata": {
        "colab": {
          "base_uri": "https://localhost:8080/"
        },
        "id": "YNkA2orOrdac",
        "outputId": "5c625a54-9447-4336-f12e-ade3509686f1"
      },
      "execution_count": null,
      "outputs": [
        {
          "output_type": "stream",
          "name": "stdout",
          "text": [
            "49.181%\n"
          ]
        }
      ]
    },
    {
      "cell_type": "code",
      "source": [
        "acc = accuracy_score(df['buy_sell'], df['pred_rev_tick_test'])\n",
        "print(f\"{acc:.3%}\")"
      ],
      "metadata": {
        "id": "mRGOt63GFsmS",
        "outputId": "acfece1d-7519-4f16-9636-112af66ef8c8",
        "colab": {
          "base_uri": "https://localhost:8080/"
        }
      },
      "execution_count": null,
      "outputs": [
        {
          "output_type": "stream",
          "name": "stdout",
          "text": [
            "53.864%\n"
          ]
        }
      ]
    }
  ],
  "metadata": {
    "colab": {
      "name": "Untitled2.ipynb",
      "provenance": [],
      "machine_shape": "hm",
      "include_colab_link": true
    },
    "kernelspec": {
      "display_name": "Python 3",
      "name": "python3"
    },
    "language_info": {
      "name": "python"
    },
    "gpuClass": "premium",
    "accelerator": "GPU",
    "widgets": {
      "application/vnd.jupyter.widget-state+json": {
        "afe7ec1dc75c482eb53f8b177c2d7ff3": {
          "model_module": "catboost-widget",
          "model_name": "CatboostWidgetModel",
          "model_module_version": "^1.0.0",
          "state": {
            "_dom_classes": [],
            "_model_module": "catboost-widget",
            "_model_module_version": "^1.0.0",
            "_model_name": "CatboostWidgetModel",
            "_view_count": null,
            "_view_module": "catboost-widget",
            "_view_module_version": "^1.0.0",
            "_view_name": "CatboostWidgetView",
            "data": {
              "catboost_info": {
                "path": "catboost_info",
                "name": "catboost_info",
                "content": {
                  "passed_iterations": 39,
                  "total_iterations": 1000,
                  "data": {
                    "iterations": [
                      {
                        "learn": [
                          0.6565345934
                        ],
                        "iteration": 0,
                        "passed_time": 0.03747422399,
                        "remaining_time": 37.43674977,
                        "test": [
                          0.6732944938
                        ]
                      },
                      {
                        "learn": [
                          0.6248185485
                        ],
                        "iteration": 1,
                        "passed_time": 0.07565518179,
                        "remaining_time": 37.75193571,
                        "test": [
                          0.6555766066
                        ]
                      },
                      {
                        "learn": [
                          0.5964113589
                        ],
                        "iteration": 2,
                        "passed_time": 0.1124394127,
                        "remaining_time": 37.36736484,
                        "test": [
                          0.6409395469
                        ]
                      },
                      {
                        "learn": [
                          0.5712677014
                        ],
                        "iteration": 3,
                        "passed_time": 0.1488857748,
                        "remaining_time": 37.07255794,
                        "test": [
                          0.6274654408
                        ]
                      },
                      {
                        "learn": [
                          0.5489333915
                        ],
                        "iteration": 4,
                        "passed_time": 0.185030455,
                        "remaining_time": 36.82106055,
                        "test": [
                          0.6163793008
                        ]
                      },
                      {
                        "learn": [
                          0.5296309678
                        ],
                        "iteration": 5,
                        "passed_time": 0.2204822531,
                        "remaining_time": 36.52655994,
                        "test": [
                          0.6071297858
                        ]
                      },
                      {
                        "learn": [
                          0.5119954939
                        ],
                        "iteration": 6,
                        "passed_time": 0.2553750343,
                        "remaining_time": 36.22677273,
                        "test": [
                          0.5990800148
                        ]
                      },
                      {
                        "learn": [
                          0.4962709524
                        ],
                        "iteration": 7,
                        "passed_time": 0.2864382955,
                        "remaining_time": 35.51834864,
                        "test": [
                          0.5926884389
                        ]
                      },
                      {
                        "learn": [
                          0.482230198
                        ],
                        "iteration": 8,
                        "passed_time": 0.3178427145,
                        "remaining_time": 34.99801446,
                        "test": [
                          0.587020158
                        ]
                      },
                      {
                        "learn": [
                          0.4696587399
                        ],
                        "iteration": 9,
                        "passed_time": 0.3491761879,
                        "remaining_time": 34.5684426,
                        "test": [
                          0.5824793512
                        ]
                      },
                      {
                        "learn": [
                          0.4581760436
                        ],
                        "iteration": 10,
                        "passed_time": 0.3802373554,
                        "remaining_time": 34.18679495,
                        "test": [
                          0.5783921483
                        ]
                      },
                      {
                        "learn": [
                          0.4477771321
                        ],
                        "iteration": 11,
                        "passed_time": 0.4112603023,
                        "remaining_time": 33.86043156,
                        "test": [
                          0.5749379329
                        ]
                      },
                      {
                        "learn": [
                          0.4388101358
                        ],
                        "iteration": 12,
                        "passed_time": 0.4420724529,
                        "remaining_time": 33.56350085,
                        "test": [
                          0.5723705832
                        ]
                      },
                      {
                        "learn": [
                          0.4304197126
                        ],
                        "iteration": 13,
                        "passed_time": 0.473513199,
                        "remaining_time": 33.34885815,
                        "test": [
                          0.5703479397
                        ]
                      },
                      {
                        "learn": [
                          0.422500682
                        ],
                        "iteration": 14,
                        "passed_time": 0.5053247226,
                        "remaining_time": 33.18299012,
                        "test": [
                          0.5685543826
                        ]
                      },
                      {
                        "learn": [
                          0.4156941866
                        ],
                        "iteration": 15,
                        "passed_time": 0.5367352771,
                        "remaining_time": 33.00921954,
                        "test": [
                          0.5672905134
                        ]
                      },
                      {
                        "learn": [
                          0.4093705471
                        ],
                        "iteration": 16,
                        "passed_time": 0.5684130592,
                        "remaining_time": 32.86764925,
                        "test": [
                          0.5665329707
                        ]
                      },
                      {
                        "learn": [
                          0.4040757327
                        ],
                        "iteration": 17,
                        "passed_time": 0.5997793304,
                        "remaining_time": 32.72129458,
                        "test": [
                          0.5659107105
                        ]
                      },
                      {
                        "learn": [
                          0.3985120238
                        ],
                        "iteration": 18,
                        "passed_time": 0.6321119195,
                        "remaining_time": 32.63693648,
                        "test": [
                          0.5651694572
                        ]
                      },
                      {
                        "learn": [
                          0.3937170348
                        ],
                        "iteration": 19,
                        "passed_time": 0.6634995351,
                        "remaining_time": 32.51147722,
                        "test": [
                          0.564841839
                        ]
                      },
                      {
                        "learn": [
                          0.3895820644
                        ],
                        "iteration": 20,
                        "passed_time": 0.6947689753,
                        "remaining_time": 32.38946794,
                        "test": [
                          0.5648449777
                        ]
                      },
                      {
                        "learn": [
                          0.3853732849
                        ],
                        "iteration": 21,
                        "passed_time": 0.7261618854,
                        "remaining_time": 32.28119654,
                        "test": [
                          0.5650806594
                        ]
                      },
                      {
                        "learn": [
                          0.3813983486
                        ],
                        "iteration": 22,
                        "passed_time": 0.7582899163,
                        "remaining_time": 32.21083688,
                        "test": [
                          0.5649680232
                        ]
                      },
                      {
                        "learn": [
                          0.3778970023
                        ],
                        "iteration": 23,
                        "passed_time": 0.7898209142,
                        "remaining_time": 32.11938385,
                        "test": [
                          0.5649349277
                        ]
                      },
                      {
                        "learn": [
                          0.3746331789
                        ],
                        "iteration": 24,
                        "passed_time": 0.8211270023,
                        "remaining_time": 32.02395309,
                        "test": [
                          0.5653592104
                        ]
                      },
                      {
                        "learn": [
                          0.3716853734
                        ],
                        "iteration": 25,
                        "passed_time": 0.8525938217,
                        "remaining_time": 31.93947625,
                        "test": [
                          0.5659743191
                        ]
                      },
                      {
                        "learn": [
                          0.3688945841
                        ],
                        "iteration": 26,
                        "passed_time": 0.8841454241,
                        "remaining_time": 31.86198139,
                        "test": [
                          0.5662652661
                        ]
                      },
                      {
                        "learn": [
                          0.3660512707
                        ],
                        "iteration": 27,
                        "passed_time": 0.9157210725,
                        "remaining_time": 31.78860295,
                        "test": [
                          0.5667366296
                        ]
                      },
                      {
                        "learn": [
                          0.3636347945
                        ],
                        "iteration": 28,
                        "passed_time": 0.9468640875,
                        "remaining_time": 31.70362169,
                        "test": [
                          0.5668808912
                        ]
                      },
                      {
                        "learn": [
                          0.3611940153
                        ],
                        "iteration": 29,
                        "passed_time": 0.9781839273,
                        "remaining_time": 31.62794698,
                        "test": [
                          0.5674217832
                        ]
                      },
                      {
                        "learn": [
                          0.3590016399
                        ],
                        "iteration": 30,
                        "passed_time": 1.009596878,
                        "remaining_time": 31.55804435,
                        "test": [
                          0.5676780454
                        ]
                      },
                      {
                        "learn": [
                          0.356834547
                        ],
                        "iteration": 31,
                        "passed_time": 1.040895054,
                        "remaining_time": 31.4870754,
                        "test": [
                          0.5681117443
                        ]
                      },
                      {
                        "learn": [
                          0.3549283005
                        ],
                        "iteration": 32,
                        "passed_time": 1.072080681,
                        "remaining_time": 31.41521268,
                        "test": [
                          0.568445203
                        ]
                      },
                      {
                        "learn": [
                          0.3530108555
                        ],
                        "iteration": 33,
                        "passed_time": 1.10374195,
                        "remaining_time": 31.35925657,
                        "test": [
                          0.5685937556
                        ]
                      },
                      {
                        "learn": [
                          0.3513080338
                        ],
                        "iteration": 34,
                        "passed_time": 1.135631766,
                        "remaining_time": 31.31099012,
                        "test": [
                          0.5693922605
                        ]
                      },
                      {
                        "learn": [
                          0.3495134008
                        ],
                        "iteration": 35,
                        "passed_time": 1.166816447,
                        "remaining_time": 31.24475153,
                        "test": [
                          0.569525358
                        ]
                      },
                      {
                        "learn": [
                          0.3478895769
                        ],
                        "iteration": 36,
                        "passed_time": 1.19783582,
                        "remaining_time": 31.17610527,
                        "test": [
                          0.5700111436
                        ]
                      },
                      {
                        "learn": [
                          0.3464119943
                        ],
                        "iteration": 37,
                        "passed_time": 1.229032803,
                        "remaining_time": 31.1139357,
                        "test": [
                          0.5703821874
                        ]
                      },
                      {
                        "learn": [
                          0.3450249521
                        ],
                        "iteration": 38,
                        "passed_time": 1.260360379,
                        "remaining_time": 31.05657242,
                        "test": [
                          0.5710789424
                        ]
                      },
                      {
                        "learn": [
                          0.343796541
                        ],
                        "iteration": 39,
                        "passed_time": 1.294413045,
                        "remaining_time": 31.06591308,
                        "test": [
                          0.5714023095
                        ]
                      }
                    ],
                    "meta": {
                      "test_sets": [
                        "test"
                      ],
                      "test_metrics": [
                        {
                          "best_value": "Min",
                          "name": "Logloss"
                        }
                      ],
                      "learn_metrics": [
                        {
                          "best_value": "Min",
                          "name": "Logloss"
                        }
                      ],
                      "launch_mode": "Train",
                      "parameters": "",
                      "iteration_count": 1000,
                      "learn_sets": [
                        "learn"
                      ],
                      "name": "experiment"
                    }
                  }
                }
              }
            },
            "layout": "IPY_MODEL_ab6ec1343620445c924874cbc9065452",
            "tabbable": null,
            "tooltip": null
          }
        },
        "bdb2498016cc4774b383639b0ce82442": {
          "model_module": "@jupyter-widgets/controls",
          "model_name": "VBoxModel",
          "model_module_version": "2.0.0",
          "state": {
            "_dom_classes": [],
            "_model_module": "@jupyter-widgets/controls",
            "_model_module_version": "2.0.0",
            "_model_name": "VBoxModel",
            "_view_count": null,
            "_view_module": "@jupyter-widgets/controls",
            "_view_module_version": "2.0.0",
            "_view_name": "VBoxView",
            "box_style": "",
            "children": [
              "IPY_MODEL_aa68c6952df34632afa627ff8d46ec1f",
              "IPY_MODEL_9bdfb7c66f374217b4db0d9caa226eaa"
            ],
            "layout": "IPY_MODEL_5ec7a403e59145048f4a76b51d7c4302",
            "tabbable": null,
            "tooltip": null
          }
        },
        "aa68c6952df34632afa627ff8d46ec1f": {
          "model_module": "@jupyter-widgets/controls",
          "model_name": "LabelModel",
          "model_module_version": "2.0.0",
          "state": {
            "_dom_classes": [],
            "_model_module": "@jupyter-widgets/controls",
            "_model_module_version": "2.0.0",
            "_model_name": "LabelModel",
            "_view_count": null,
            "_view_module": "@jupyter-widgets/controls",
            "_view_module_version": "2.0.0",
            "_view_name": "LabelView",
            "description": "",
            "description_allow_html": false,
            "layout": "IPY_MODEL_8dfb2f33a1e148988175e29503a48b11",
            "placeholder": "​",
            "style": "IPY_MODEL_12abb0bca0d84feb9d2ea5da1253dc2b",
            "tabbable": null,
            "tooltip": null,
            "value": "0.009 MB of 0.009 MB uploaded (0.000 MB deduped)\r"
          }
        },
        "9bdfb7c66f374217b4db0d9caa226eaa": {
          "model_module": "@jupyter-widgets/controls",
          "model_name": "FloatProgressModel",
          "model_module_version": "2.0.0",
          "state": {
            "_dom_classes": [],
            "_model_module": "@jupyter-widgets/controls",
            "_model_module_version": "2.0.0",
            "_model_name": "FloatProgressModel",
            "_view_count": null,
            "_view_module": "@jupyter-widgets/controls",
            "_view_module_version": "2.0.0",
            "_view_name": "ProgressView",
            "bar_style": "",
            "description": "",
            "description_allow_html": false,
            "layout": "IPY_MODEL_ef475a42aac44f8ea950fe6527edbc89",
            "max": 1,
            "min": 0,
            "orientation": "horizontal",
            "style": "IPY_MODEL_1c0e6f048b844f6ea43d1f01153ac061",
            "tabbable": null,
            "tooltip": null,
            "value": 1
          }
        },
        "5ec7a403e59145048f4a76b51d7c4302": {
          "model_module": "@jupyter-widgets/base",
          "model_name": "LayoutModel",
          "model_module_version": "2.0.0",
          "state": {
            "_model_module": "@jupyter-widgets/base",
            "_model_module_version": "2.0.0",
            "_model_name": "LayoutModel",
            "_view_count": null,
            "_view_module": "@jupyter-widgets/base",
            "_view_module_version": "2.0.0",
            "_view_name": "LayoutView",
            "align_content": null,
            "align_items": null,
            "align_self": null,
            "border_bottom": null,
            "border_left": null,
            "border_right": null,
            "border_top": null,
            "bottom": null,
            "display": null,
            "flex": null,
            "flex_flow": null,
            "grid_area": null,
            "grid_auto_columns": null,
            "grid_auto_flow": null,
            "grid_auto_rows": null,
            "grid_column": null,
            "grid_gap": null,
            "grid_row": null,
            "grid_template_areas": null,
            "grid_template_columns": null,
            "grid_template_rows": null,
            "height": null,
            "justify_content": null,
            "justify_items": null,
            "left": null,
            "margin": null,
            "max_height": null,
            "max_width": null,
            "min_height": null,
            "min_width": null,
            "object_fit": null,
            "object_position": null,
            "order": null,
            "overflow": null,
            "padding": null,
            "right": null,
            "top": null,
            "visibility": null,
            "width": null
          }
        },
        "8dfb2f33a1e148988175e29503a48b11": {
          "model_module": "@jupyter-widgets/base",
          "model_name": "LayoutModel",
          "model_module_version": "2.0.0",
          "state": {
            "_model_module": "@jupyter-widgets/base",
            "_model_module_version": "2.0.0",
            "_model_name": "LayoutModel",
            "_view_count": null,
            "_view_module": "@jupyter-widgets/base",
            "_view_module_version": "2.0.0",
            "_view_name": "LayoutView",
            "align_content": null,
            "align_items": null,
            "align_self": null,
            "border_bottom": null,
            "border_left": null,
            "border_right": null,
            "border_top": null,
            "bottom": null,
            "display": null,
            "flex": null,
            "flex_flow": null,
            "grid_area": null,
            "grid_auto_columns": null,
            "grid_auto_flow": null,
            "grid_auto_rows": null,
            "grid_column": null,
            "grid_gap": null,
            "grid_row": null,
            "grid_template_areas": null,
            "grid_template_columns": null,
            "grid_template_rows": null,
            "height": null,
            "justify_content": null,
            "justify_items": null,
            "left": null,
            "margin": null,
            "max_height": null,
            "max_width": null,
            "min_height": null,
            "min_width": null,
            "object_fit": null,
            "object_position": null,
            "order": null,
            "overflow": null,
            "padding": null,
            "right": null,
            "top": null,
            "visibility": null,
            "width": null
          }
        },
        "12abb0bca0d84feb9d2ea5da1253dc2b": {
          "model_module": "@jupyter-widgets/controls",
          "model_name": "LabelStyleModel",
          "model_module_version": "2.0.0",
          "state": {
            "_model_module": "@jupyter-widgets/controls",
            "_model_module_version": "2.0.0",
            "_model_name": "LabelStyleModel",
            "_view_count": null,
            "_view_module": "@jupyter-widgets/base",
            "_view_module_version": "2.0.0",
            "_view_name": "StyleView",
            "background": null,
            "description_width": "",
            "font_family": null,
            "font_size": null,
            "font_style": null,
            "font_variant": null,
            "font_weight": null,
            "text_color": null,
            "text_decoration": null
          }
        },
        "ef475a42aac44f8ea950fe6527edbc89": {
          "model_module": "@jupyter-widgets/base",
          "model_name": "LayoutModel",
          "model_module_version": "2.0.0",
          "state": {
            "_model_module": "@jupyter-widgets/base",
            "_model_module_version": "2.0.0",
            "_model_name": "LayoutModel",
            "_view_count": null,
            "_view_module": "@jupyter-widgets/base",
            "_view_module_version": "2.0.0",
            "_view_name": "LayoutView",
            "align_content": null,
            "align_items": null,
            "align_self": null,
            "border_bottom": null,
            "border_left": null,
            "border_right": null,
            "border_top": null,
            "bottom": null,
            "display": null,
            "flex": null,
            "flex_flow": null,
            "grid_area": null,
            "grid_auto_columns": null,
            "grid_auto_flow": null,
            "grid_auto_rows": null,
            "grid_column": null,
            "grid_gap": null,
            "grid_row": null,
            "grid_template_areas": null,
            "grid_template_columns": null,
            "grid_template_rows": null,
            "height": null,
            "justify_content": null,
            "justify_items": null,
            "left": null,
            "margin": null,
            "max_height": null,
            "max_width": null,
            "min_height": null,
            "min_width": null,
            "object_fit": null,
            "object_position": null,
            "order": null,
            "overflow": null,
            "padding": null,
            "right": null,
            "top": null,
            "visibility": null,
            "width": null
          }
        },
        "1c0e6f048b844f6ea43d1f01153ac061": {
          "model_module": "@jupyter-widgets/controls",
          "model_name": "ProgressStyleModel",
          "model_module_version": "2.0.0",
          "state": {
            "_model_module": "@jupyter-widgets/controls",
            "_model_module_version": "2.0.0",
            "_model_name": "ProgressStyleModel",
            "_view_count": null,
            "_view_module": "@jupyter-widgets/base",
            "_view_module_version": "2.0.0",
            "_view_name": "StyleView",
            "bar_color": null,
            "description_width": ""
          }
        },
        "e94e4aa96eff4dc5bae38e7d9ecfd20b": {
          "model_module": "@jupyter-widgets/base",
          "model_name": "LayoutModel",
          "model_module_version": "2.0.0",
          "state": {
            "_model_module": "@jupyter-widgets/base",
            "_model_module_version": "2.0.0",
            "_model_name": "LayoutModel",
            "_view_count": null,
            "_view_module": "@jupyter-widgets/base",
            "_view_module_version": "2.0.0",
            "_view_name": "LayoutView",
            "align_content": null,
            "align_items": null,
            "align_self": null,
            "border_bottom": null,
            "border_left": null,
            "border_right": null,
            "border_top": null,
            "bottom": null,
            "display": null,
            "flex": null,
            "flex_flow": null,
            "grid_area": null,
            "grid_auto_columns": null,
            "grid_auto_flow": null,
            "grid_auto_rows": null,
            "grid_column": null,
            "grid_gap": null,
            "grid_row": null,
            "grid_template_areas": null,
            "grid_template_columns": null,
            "grid_template_rows": null,
            "height": null,
            "justify_content": null,
            "justify_items": null,
            "left": null,
            "margin": null,
            "max_height": null,
            "max_width": null,
            "min_height": null,
            "min_width": null,
            "object_fit": null,
            "object_position": null,
            "order": null,
            "overflow": null,
            "padding": null,
            "right": null,
            "top": null,
            "visibility": null,
            "width": null
          }
        },
        "ed75225ceaec47959c1486471d8d2aa1": {
          "model_module": "@jupyter-widgets/controls",
          "model_name": "ProgressStyleModel",
          "model_module_version": "2.0.0",
          "state": {
            "_model_module": "@jupyter-widgets/controls",
            "_model_module_version": "2.0.0",
            "_model_name": "ProgressStyleModel",
            "_view_count": null,
            "_view_module": "@jupyter-widgets/base",
            "_view_module_version": "2.0.0",
            "_view_name": "StyleView",
            "bar_color": null,
            "description_width": ""
          }
        },
        "ade2eba9986d476da2f005f55b45260b": {
          "model_module": "@jupyter-widgets/base",
          "model_name": "LayoutModel",
          "model_module_version": "2.0.0",
          "state": {
            "_model_module": "@jupyter-widgets/base",
            "_model_module_version": "2.0.0",
            "_model_name": "LayoutModel",
            "_view_count": null,
            "_view_module": "@jupyter-widgets/base",
            "_view_module_version": "2.0.0",
            "_view_name": "LayoutView",
            "align_content": null,
            "align_items": null,
            "align_self": null,
            "border_bottom": null,
            "border_left": null,
            "border_right": null,
            "border_top": null,
            "bottom": null,
            "display": null,
            "flex": null,
            "flex_flow": null,
            "grid_area": null,
            "grid_auto_columns": null,
            "grid_auto_flow": null,
            "grid_auto_rows": null,
            "grid_column": null,
            "grid_gap": null,
            "grid_row": null,
            "grid_template_areas": null,
            "grid_template_columns": null,
            "grid_template_rows": null,
            "height": null,
            "justify_content": null,
            "justify_items": null,
            "left": null,
            "margin": null,
            "max_height": null,
            "max_width": null,
            "min_height": null,
            "min_width": null,
            "object_fit": null,
            "object_position": null,
            "order": null,
            "overflow": null,
            "padding": null,
            "right": null,
            "top": null,
            "visibility": null,
            "width": null
          }
        },
        "3cafff1d0e764954b574f45d6a73f21f": {
          "model_module": "@jupyter-widgets/controls",
          "model_name": "LabelStyleModel",
          "model_module_version": "2.0.0",
          "state": {
            "_model_module": "@jupyter-widgets/controls",
            "_model_module_version": "2.0.0",
            "_model_name": "LabelStyleModel",
            "_view_count": null,
            "_view_module": "@jupyter-widgets/base",
            "_view_module_version": "2.0.0",
            "_view_name": "StyleView",
            "background": null,
            "description_width": "",
            "font_family": null,
            "font_size": null,
            "font_style": null,
            "font_variant": null,
            "font_weight": null,
            "text_color": null,
            "text_decoration": null
          }
        },
        "680d6e629135422fb93bdc37690a01fa": {
          "model_module": "@jupyter-widgets/controls",
          "model_name": "LabelModel",
          "model_module_version": "2.0.0",
          "state": {
            "_dom_classes": [],
            "_model_module": "@jupyter-widgets/controls",
            "_model_module_version": "2.0.0",
            "_model_name": "LabelModel",
            "_view_count": null,
            "_view_module": "@jupyter-widgets/controls",
            "_view_module_version": "2.0.0",
            "_view_name": "LabelView",
            "description": "",
            "description_allow_html": false,
            "layout": "IPY_MODEL_ade2eba9986d476da2f005f55b45260b",
            "placeholder": "​",
            "style": "IPY_MODEL_3cafff1d0e764954b574f45d6a73f21f",
            "tabbable": null,
            "tooltip": null,
            "value": ""
          }
        },
        "4299a8c732c941978a04160d2d6402dc": {
          "model_module": "@jupyter-widgets/controls",
          "model_name": "FloatProgressModel",
          "model_module_version": "2.0.0",
          "state": {
            "_dom_classes": [],
            "_model_module": "@jupyter-widgets/controls",
            "_model_module_version": "2.0.0",
            "_model_name": "FloatProgressModel",
            "_view_count": null,
            "_view_module": "@jupyter-widgets/controls",
            "_view_module_version": "2.0.0",
            "_view_name": "ProgressView",
            "bar_style": "",
            "description": "",
            "description_allow_html": false,
            "layout": "IPY_MODEL_e94e4aa96eff4dc5bae38e7d9ecfd20b",
            "max": 1,
            "min": 0,
            "orientation": "horizontal",
            "style": "IPY_MODEL_ed75225ceaec47959c1486471d8d2aa1",
            "tabbable": null,
            "tooltip": null,
            "value": 0
          }
        },
        "f346a639f1fd4c50ab67f2cfe3e1e20e": {
          "model_module": "@jupyter-widgets/base",
          "model_name": "LayoutModel",
          "model_module_version": "2.0.0",
          "state": {
            "_model_module": "@jupyter-widgets/base",
            "_model_module_version": "2.0.0",
            "_model_name": "LayoutModel",
            "_view_count": null,
            "_view_module": "@jupyter-widgets/base",
            "_view_module_version": "2.0.0",
            "_view_name": "LayoutView",
            "align_content": null,
            "align_items": null,
            "align_self": null,
            "border_bottom": null,
            "border_left": null,
            "border_right": null,
            "border_top": null,
            "bottom": null,
            "display": null,
            "flex": null,
            "flex_flow": null,
            "grid_area": null,
            "grid_auto_columns": null,
            "grid_auto_flow": null,
            "grid_auto_rows": null,
            "grid_column": null,
            "grid_gap": null,
            "grid_row": null,
            "grid_template_areas": null,
            "grid_template_columns": null,
            "grid_template_rows": null,
            "height": null,
            "justify_content": null,
            "justify_items": null,
            "left": null,
            "margin": null,
            "max_height": null,
            "max_width": null,
            "min_height": null,
            "min_width": null,
            "object_fit": null,
            "object_position": null,
            "order": null,
            "overflow": null,
            "padding": null,
            "right": null,
            "top": null,
            "visibility": null,
            "width": null
          }
        },
        "51e1909f4d4c480eb3ce65a040e93d8b": {
          "model_module": "catboost-widget",
          "model_name": "CatboostWidgetModel",
          "model_module_version": "^1.0.0",
          "state": {
            "_dom_classes": [],
            "_model_module": "catboost-widget",
            "_model_module_version": "^1.0.0",
            "_model_name": "CatboostWidgetModel",
            "_view_count": null,
            "_view_module": "catboost-widget",
            "_view_module_version": "^1.0.0",
            "_view_name": "CatboostWidgetView",
            "data": {
              "catboost_info": {
                "path": "catboost_info",
                "name": "catboost_info",
                "content": {
                  "passed_iterations": 380,
                  "total_iterations": 381,
                  "data": {
                    "iterations": [
                      {
                        "learn": [
                          0.4567098712
                        ],
                        "iteration": 0,
                        "passed_time": 0.008832970697,
                        "remaining_time": 3.356528865
                      },
                      {
                        "learn": [
                          0.4221151704
                        ],
                        "iteration": 1,
                        "passed_time": 0.01580142411,
                        "remaining_time": 2.994369869
                      },
                      {
                        "learn": [
                          0.402676539
                        ],
                        "iteration": 2,
                        "passed_time": 0.02239791716,
                        "remaining_time": 2.822137562
                      },
                      {
                        "learn": [
                          0.3908947416
                        ],
                        "iteration": 3,
                        "passed_time": 0.02912104091,
                        "remaining_time": 2.744658105
                      },
                      {
                        "learn": [
                          0.3841752922
                        ],
                        "iteration": 4,
                        "passed_time": 0.03589655329,
                        "remaining_time": 2.699420807
                      },
                      {
                        "learn": [
                          0.3770248492
                        ],
                        "iteration": 5,
                        "passed_time": 0.04258789095,
                        "remaining_time": 2.661743185
                      },
                      {
                        "learn": [
                          0.3698620958
                        ],
                        "iteration": 6,
                        "passed_time": 0.04950120758,
                        "remaining_time": 2.644778805
                      },
                      {
                        "learn": [
                          0.3639589398
                        ],
                        "iteration": 7,
                        "passed_time": 0.05626266281,
                        "remaining_time": 2.623246654
                      },
                      {
                        "learn": [
                          0.3615726172
                        ],
                        "iteration": 8,
                        "passed_time": 0.06305852865,
                        "remaining_time": 2.606419184
                      },
                      {
                        "learn": [
                          0.3598628064
                        ],
                        "iteration": 9,
                        "passed_time": 0.07000813951,
                        "remaining_time": 2.597301976
                      },
                      {
                        "learn": [
                          0.3575750988
                        ],
                        "iteration": 10,
                        "passed_time": 0.07642734138,
                        "remaining_time": 2.570737846
                      },
                      {
                        "learn": [
                          0.3555320356
                        ],
                        "iteration": 11,
                        "passed_time": 0.08269431095,
                        "remaining_time": 2.542850062
                      },
                      {
                        "learn": [
                          0.3530519958
                        ],
                        "iteration": 12,
                        "passed_time": 0.08885196421,
                        "remaining_time": 2.515194064
                      },
                      {
                        "learn": [
                          0.3511318241
                        ],
                        "iteration": 13,
                        "passed_time": 0.0952645825,
                        "remaining_time": 2.497292984
                      },
                      {
                        "learn": [
                          0.348926503
                        ],
                        "iteration": 14,
                        "passed_time": 0.1014904342,
                        "remaining_time": 2.476366596
                      },
                      {
                        "learn": [
                          0.3478940774
                        ],
                        "iteration": 15,
                        "passed_time": 0.1078205378,
                        "remaining_time": 2.459656019
                      },
                      {
                        "learn": [
                          0.3464406125
                        ],
                        "iteration": 16,
                        "passed_time": 0.1141568304,
                        "remaining_time": 2.444299192
                      },
                      {
                        "learn": [
                          0.3454922677
                        ],
                        "iteration": 17,
                        "passed_time": 0.120443088,
                        "remaining_time": 2.428935608
                      },
                      {
                        "learn": [
                          0.3442256549
                        ],
                        "iteration": 18,
                        "passed_time": 0.1267749843,
                        "remaining_time": 2.415397069
                      },
                      {
                        "learn": [
                          0.3427466956
                        ],
                        "iteration": 19,
                        "passed_time": 0.132998876,
                        "remaining_time": 2.400629712
                      },
                      {
                        "learn": [
                          0.3420593297
                        ],
                        "iteration": 20,
                        "passed_time": 0.1394991326,
                        "remaining_time": 2.391413702
                      },
                      {
                        "learn": [
                          0.340870391
                        ],
                        "iteration": 21,
                        "passed_time": 0.145685552,
                        "remaining_time": 2.377323326
                      },
                      {
                        "learn": [
                          0.339435696
                        ],
                        "iteration": 22,
                        "passed_time": 0.1520649597,
                        "remaining_time": 2.366924155
                      },
                      {
                        "learn": [
                          0.3379945678
                        ],
                        "iteration": 23,
                        "passed_time": 0.1583612617,
                        "remaining_time": 2.355623768
                      },
                      {
                        "learn": [
                          0.3372668558
                        ],
                        "iteration": 24,
                        "passed_time": 0.1647699864,
                        "remaining_time": 2.346324607
                      },
                      {
                        "learn": [
                          0.3366563433
                        ],
                        "iteration": 25,
                        "passed_time": 0.1710502995,
                        "remaining_time": 2.335494474
                      },
                      {
                        "learn": [
                          0.3354928989
                        ],
                        "iteration": 26,
                        "passed_time": 0.1772725376,
                        "remaining_time": 2.324239938
                      },
                      {
                        "learn": [
                          0.3344488249
                        ],
                        "iteration": 27,
                        "passed_time": 0.183574416,
                        "remaining_time": 2.314348887
                      },
                      {
                        "learn": [
                          0.3336041516
                        ],
                        "iteration": 28,
                        "passed_time": 0.1899381147,
                        "remaining_time": 2.305455737
                      },
                      {
                        "learn": [
                          0.3326149313
                        ],
                        "iteration": 29,
                        "passed_time": 0.1962402958,
                        "remaining_time": 2.296011461
                      },
                      {
                        "learn": [
                          0.3313182442
                        ],
                        "iteration": 30,
                        "passed_time": 0.2025723666,
                        "remaining_time": 2.287107365
                      },
                      {
                        "learn": [
                          0.3303239939
                        ],
                        "iteration": 31,
                        "passed_time": 0.208895783,
                        "remaining_time": 2.278269633
                      },
                      {
                        "learn": [
                          0.3297778392
                        ],
                        "iteration": 32,
                        "passed_time": 0.2150661543,
                        "remaining_time": 2.267970354
                      },
                      {
                        "learn": [
                          0.3287120302
                        ],
                        "iteration": 33,
                        "passed_time": 0.2213401011,
                        "remaining_time": 2.258971032
                      },
                      {
                        "learn": [
                          0.328148747
                        ],
                        "iteration": 34,
                        "passed_time": 0.2275665001,
                        "remaining_time": 2.249657401
                      },
                      {
                        "learn": [
                          0.3275184586
                        ],
                        "iteration": 35,
                        "passed_time": 0.2339511014,
                        "remaining_time": 2.242031388
                      },
                      {
                        "learn": [
                          0.3272001111
                        ],
                        "iteration": 36,
                        "passed_time": 0.2403828577,
                        "remaining_time": 2.234910893
                      },
                      {
                        "learn": [
                          0.3268152084
                        ],
                        "iteration": 37,
                        "passed_time": 0.2468330047,
                        "remaining_time": 2.227992648
                      },
                      {
                        "learn": [
                          0.3261599022
                        ],
                        "iteration": 38,
                        "passed_time": 0.2529461311,
                        "remaining_time": 2.218142996
                      },
                      {
                        "learn": [
                          0.3257135274
                        ],
                        "iteration": 39,
                        "passed_time": 0.259111207,
                        "remaining_time": 2.20892304
                      },
                      {
                        "learn": [
                          0.3252353839
                        ],
                        "iteration": 40,
                        "passed_time": 0.2653051318,
                        "remaining_time": 2.200091337
                      },
                      {
                        "learn": [
                          0.3246272541
                        ],
                        "iteration": 41,
                        "passed_time": 0.2716193264,
                        "remaining_time": 2.192355991
                      },
                      {
                        "learn": [
                          0.3242024818
                        ],
                        "iteration": 42,
                        "passed_time": 0.2777461172,
                        "remaining_time": 2.183213665
                      },
                      {
                        "learn": [
                          0.3237060715
                        ],
                        "iteration": 43,
                        "passed_time": 0.2833881931,
                        "remaining_time": 2.170495934
                      },
                      {
                        "learn": [
                          0.3231901234
                        ],
                        "iteration": 44,
                        "passed_time": 0.2892004122,
                        "remaining_time": 2.159363077
                      },
                      {
                        "learn": [
                          0.3228491938
                        ],
                        "iteration": 45,
                        "passed_time": 0.2949587907,
                        "remaining_time": 2.148069454
                      },
                      {
                        "learn": [
                          0.3219818854
                        ],
                        "iteration": 46,
                        "passed_time": 0.3006297383,
                        "remaining_time": 2.136390055
                      },
                      {
                        "learn": [
                          0.3216515452
                        ],
                        "iteration": 47,
                        "passed_time": 0.3063990313,
                        "remaining_time": 2.12564328
                      },
                      {
                        "learn": [
                          0.3212088237
                        ],
                        "iteration": 48,
                        "passed_time": 0.3120274237,
                        "remaining_time": 2.114144993
                      },
                      {
                        "learn": [
                          0.3207878902
                        ],
                        "iteration": 49,
                        "passed_time": 0.3174808741,
                        "remaining_time": 2.101723386
                      },
                      {
                        "learn": [
                          0.3203605235
                        ],
                        "iteration": 50,
                        "passed_time": 0.3230120974,
                        "remaining_time": 2.090078277
                      },
                      {
                        "learn": [
                          0.3201079369
                        ],
                        "iteration": 51,
                        "passed_time": 0.3285918257,
                        "remaining_time": 2.078975205
                      },
                      {
                        "learn": [
                          0.319745987
                        ],
                        "iteration": 52,
                        "passed_time": 0.3345204464,
                        "remaining_time": 2.070239744
                      },
                      {
                        "learn": [
                          0.3195201654
                        ],
                        "iteration": 53,
                        "passed_time": 0.3403303791,
                        "remaining_time": 2.060889518
                      },
                      {
                        "learn": [
                          0.3193049334
                        ],
                        "iteration": 54,
                        "passed_time": 0.3460669224,
                        "remaining_time": 2.051233031
                      },
                      {
                        "learn": [
                          0.3187578786
                        ],
                        "iteration": 55,
                        "passed_time": 0.3516742432,
                        "remaining_time": 2.04096659
                      },
                      {
                        "learn": [
                          0.3183151836
                        ],
                        "iteration": 56,
                        "passed_time": 0.3574020457,
                        "remaining_time": 2.03154847
                      },
                      {
                        "learn": [
                          0.3180402002
                        ],
                        "iteration": 57,
                        "passed_time": 0.3631668588,
                        "remaining_time": 2.022463713
                      },
                      {
                        "learn": [
                          0.3175377802
                        ],
                        "iteration": 58,
                        "passed_time": 0.3686518361,
                        "remaining_time": 2.011964258
                      },
                      {
                        "learn": [
                          0.3172575815
                        ],
                        "iteration": 59,
                        "passed_time": 0.3742884185,
                        "remaining_time": 2.002443039
                      },
                      {
                        "learn": [
                          0.3170737738
                        ],
                        "iteration": 60,
                        "passed_time": 0.3798953247,
                        "remaining_time": 1.992893507
                      },
                      {
                        "learn": [
                          0.3168286528
                        ],
                        "iteration": 61,
                        "passed_time": 0.3855009083,
                        "remaining_time": 1.983464351
                      },
                      {
                        "learn": [
                          0.3165203389
                        ],
                        "iteration": 62,
                        "passed_time": 0.3911245635,
                        "remaining_time": 1.974247797
                      },
                      {
                        "learn": [
                          0.316165987
                        ],
                        "iteration": 63,
                        "passed_time": 0.3967963138,
                        "remaining_time": 1.965381742
                      },
                      {
                        "learn": [
                          0.3159656332
                        ],
                        "iteration": 64,
                        "passed_time": 0.4024750021,
                        "remaining_time": 1.956647703
                      },
                      {
                        "learn": [
                          0.315481136
                        ],
                        "iteration": 65,
                        "passed_time": 0.4081606341,
                        "remaining_time": 1.94803939
                      },
                      {
                        "learn": [
                          0.3152151007
                        ],
                        "iteration": 66,
                        "passed_time": 0.414151507,
                        "remaining_time": 1.940948854
                      },
                      {
                        "learn": [
                          0.3149539896
                        ],
                        "iteration": 67,
                        "passed_time": 0.419720019,
                        "remaining_time": 1.931946558
                      },
                      {
                        "learn": [
                          0.3146934344
                        ],
                        "iteration": 68,
                        "passed_time": 0.4253063091,
                        "remaining_time": 1.92312418
                      },
                      {
                        "learn": [
                          0.3144455336
                        ],
                        "iteration": 69,
                        "passed_time": 0.4309895602,
                        "remaining_time": 1.914825046
                      },
                      {
                        "learn": [
                          0.3142866643
                        ],
                        "iteration": 70,
                        "passed_time": 0.4365436278,
                        "remaining_time": 1.906035558
                      },
                      {
                        "learn": [
                          0.3141089192
                        ],
                        "iteration": 71,
                        "passed_time": 0.4426227318,
                        "remaining_time": 1.899589224
                      },
                      {
                        "learn": [
                          0.3139369188
                        ],
                        "iteration": 72,
                        "passed_time": 0.4488581043,
                        "remaining_time": 1.893812276
                      },
                      {
                        "learn": [
                          0.3135397058
                        ],
                        "iteration": 73,
                        "passed_time": 0.4548803524,
                        "remaining_time": 1.887138759
                      },
                      {
                        "learn": [
                          0.3132417431
                        ],
                        "iteration": 74,
                        "passed_time": 0.4607443091,
                        "remaining_time": 1.879836781
                      },
                      {
                        "learn": [
                          0.312939677
                        ],
                        "iteration": 75,
                        "passed_time": 0.4666041668,
                        "remaining_time": 1.872556196
                      },
                      {
                        "learn": [
                          0.3127443797
                        ],
                        "iteration": 76,
                        "passed_time": 0.472433013,
                        "remaining_time": 1.865190077
                      },
                      {
                        "learn": [
                          0.3123970698
                        ],
                        "iteration": 77,
                        "passed_time": 0.4782438384,
                        "remaining_time": 1.857793372
                      },
                      {
                        "learn": [
                          0.3122615504
                        ],
                        "iteration": 78,
                        "passed_time": 0.4841600974,
                        "remaining_time": 1.850839866
                      },
                      {
                        "learn": [
                          0.3119930795
                        ],
                        "iteration": 79,
                        "passed_time": 0.4900411221,
                        "remaining_time": 1.843779722
                      },
                      {
                        "learn": [
                          0.3117820303
                        ],
                        "iteration": 80,
                        "passed_time": 0.4960083207,
                        "remaining_time": 1.837067854
                      },
                      {
                        "learn": [
                          0.3115639126
                        ],
                        "iteration": 81,
                        "passed_time": 0.5019527913,
                        "remaining_time": 1.830291276
                      },
                      {
                        "learn": [
                          0.3112956006
                        ],
                        "iteration": 82,
                        "passed_time": 0.5079029209,
                        "remaining_time": 1.823555065
                      },
                      {
                        "learn": [
                          0.3111413113
                        ],
                        "iteration": 83,
                        "passed_time": 0.5136316916,
                        "remaining_time": 1.816054909
                      },
                      {
                        "learn": [
                          0.31101977
                        ],
                        "iteration": 84,
                        "passed_time": 0.5195211335,
                        "remaining_time": 1.809155947
                      },
                      {
                        "learn": [
                          0.3108057293
                        ],
                        "iteration": 85,
                        "passed_time": 0.5254091246,
                        "remaining_time": 1.802275486
                      },
                      {
                        "learn": [
                          0.3105992865
                        ],
                        "iteration": 86,
                        "passed_time": 0.5312233809,
                        "remaining_time": 1.795168666
                      },
                      {
                        "learn": [
                          0.3104316014
                        ],
                        "iteration": 87,
                        "passed_time": 0.5369926212,
                        "remaining_time": 1.787941341
                      },
                      {
                        "learn": [
                          0.3102287856
                        ],
                        "iteration": 88,
                        "passed_time": 0.5430183638,
                        "remaining_time": 1.78158834
                      },
                      {
                        "learn": [
                          0.3099992312
                        ],
                        "iteration": 89,
                        "passed_time": 0.5491144239,
                        "remaining_time": 1.775469971
                      },
                      {
                        "learn": [
                          0.3097800545
                        ],
                        "iteration": 90,
                        "passed_time": 0.5549354911,
                        "remaining_time": 1.768475741
                      },
                      {
                        "learn": [
                          0.3094252261
                        ],
                        "iteration": 91,
                        "passed_time": 0.5607390856,
                        "remaining_time": 1.761452128
                      },
                      {
                        "learn": [
                          0.3092820822
                        ],
                        "iteration": 92,
                        "passed_time": 0.5667728899,
                        "remaining_time": 1.755167659
                      },
                      {
                        "learn": [
                          0.3090661089
                        ],
                        "iteration": 93,
                        "passed_time": 0.5726152078,
                        "remaining_time": 1.748303879
                      },
                      {
                        "learn": [
                          0.3089522186
                        ],
                        "iteration": 94,
                        "passed_time": 0.5784941226,
                        "remaining_time": 1.74157178
                      },
                      {
                        "learn": [
                          0.3088192671
                        ],
                        "iteration": 95,
                        "passed_time": 0.5843894409,
                        "remaining_time": 1.734906153
                      },
                      {
                        "learn": [
                          0.3085604592
                        ],
                        "iteration": 96,
                        "passed_time": 0.5902162234,
                        "remaining_time": 1.728055747
                      },
                      {
                        "learn": [
                          0.3083911592
                        ],
                        "iteration": 97,
                        "passed_time": 0.5960232688,
                        "remaining_time": 1.721169235
                      },
                      {
                        "learn": [
                          0.3081775156
                        ],
                        "iteration": 98,
                        "passed_time": 0.6018487804,
                        "remaining_time": 1.714357132
                      },
                      {
                        "learn": [
                          0.3080438493
                        ],
                        "iteration": 99,
                        "passed_time": 0.6206608136,
                        "remaining_time": 1.744056886
                      },
                      {
                        "learn": [
                          0.3078998583
                        ],
                        "iteration": 100,
                        "passed_time": 0.6264126895,
                        "remaining_time": 1.736589634
                      },
                      {
                        "learn": [
                          0.307725793
                        ],
                        "iteration": 101,
                        "passed_time": 0.6323376239,
                        "remaining_time": 1.729629383
                      },
                      {
                        "learn": [
                          0.3076111349
                        ],
                        "iteration": 102,
                        "passed_time": 0.6382623656,
                        "remaining_time": 1.722688715
                      },
                      {
                        "learn": [
                          0.3075189531
                        ],
                        "iteration": 103,
                        "passed_time": 0.644238474,
                        "remaining_time": 1.715904397
                      },
                      {
                        "learn": [
                          0.3073941027
                        ],
                        "iteration": 104,
                        "passed_time": 0.650123746,
                        "remaining_time": 1.708896704
                      },
                      {
                        "learn": [
                          0.3070893627
                        ],
                        "iteration": 105,
                        "passed_time": 0.6559677757,
                        "remaining_time": 1.701803192
                      },
                      {
                        "learn": [
                          0.3069817466
                        ],
                        "iteration": 106,
                        "passed_time": 0.6618763357,
                        "remaining_time": 1.69489828
                      },
                      {
                        "learn": [
                          0.3068630645
                        ],
                        "iteration": 107,
                        "passed_time": 0.6676311988,
                        "remaining_time": 1.687623308
                      },
                      {
                        "learn": [
                          0.3066416111
                        ],
                        "iteration": 108,
                        "passed_time": 0.6733913419,
                        "remaining_time": 1.680389404
                      },
                      {
                        "learn": [
                          0.3065525003
                        ],
                        "iteration": 109,
                        "passed_time": 0.6791043182,
                        "remaining_time": 1.673066093
                      },
                      {
                        "learn": [
                          0.3063242696
                        ],
                        "iteration": 110,
                        "passed_time": 0.6848773848,
                        "remaining_time": 1.665917963
                      },
                      {
                        "learn": [
                          0.3061579082
                        ],
                        "iteration": 111,
                        "passed_time": 0.6907347425,
                        "remaining_time": 1.658996837
                      },
                      {
                        "learn": [
                          0.3060143937
                        ],
                        "iteration": 112,
                        "passed_time": 0.6963790939,
                        "remaining_time": 1.651589355
                      },
                      {
                        "learn": [
                          0.3058939379
                        ],
                        "iteration": 113,
                        "passed_time": 0.7022338753,
                        "remaining_time": 1.644705655
                      },
                      {
                        "learn": [
                          0.305754315
                        ],
                        "iteration": 114,
                        "passed_time": 0.708083054,
                        "remaining_time": 1.63782689
                      },
                      {
                        "learn": [
                          0.3056291469
                        ],
                        "iteration": 115,
                        "passed_time": 0.7143093594,
                        "remaining_time": 1.631827416
                      },
                      {
                        "learn": [
                          0.3053370084
                        ],
                        "iteration": 116,
                        "passed_time": 0.7201228147,
                        "remaining_time": 1.624892505
                      },
                      {
                        "learn": [
                          0.3050107187
                        ],
                        "iteration": 117,
                        "passed_time": 0.7257939613,
                        "remaining_time": 1.617659422
                      },
                      {
                        "learn": [
                          0.3048045937
                        ],
                        "iteration": 118,
                        "passed_time": 0.7315376755,
                        "remaining_time": 1.610612361
                      },
                      {
                        "learn": [
                          0.3046569228
                        ],
                        "iteration": 119,
                        "passed_time": 0.7371065494,
                        "remaining_time": 1.603206745
                      },
                      {
                        "learn": [
                          0.3044314453
                        ],
                        "iteration": 120,
                        "passed_time": 0.7426776496,
                        "remaining_time": 1.595836272
                      },
                      {
                        "learn": [
                          0.3043125515
                        ],
                        "iteration": 121,
                        "passed_time": 0.7482138365,
                        "remaining_time": 1.588421177
                      },
                      {
                        "learn": [
                          0.3041651718
                        ],
                        "iteration": 122,
                        "passed_time": 0.7537781377,
                        "remaining_time": 1.581095606
                      },
                      {
                        "learn": [
                          0.3040320879
                        ],
                        "iteration": 123,
                        "passed_time": 0.7594921366,
                        "remaining_time": 1.574108703
                      },
                      {
                        "learn": [
                          0.3038720803
                        ],
                        "iteration": 124,
                        "passed_time": 0.765067625,
                        "remaining_time": 1.566858496
                      },
                      {
                        "learn": [
                          0.3038285308
                        ],
                        "iteration": 125,
                        "passed_time": 0.7709850822,
                        "remaining_time": 1.560326952
                      },
                      {
                        "learn": [
                          0.3036476353
                        ],
                        "iteration": 126,
                        "passed_time": 0.7765794931,
                        "remaining_time": 1.553158986
                      },
                      {
                        "learn": [
                          0.3035641634
                        ],
                        "iteration": 127,
                        "passed_time": 0.7821787331,
                        "remaining_time": 1.546025152
                      },
                      {
                        "learn": [
                          0.3034167837
                        ],
                        "iteration": 128,
                        "passed_time": 0.78781691,
                        "remaining_time": 1.538991173
                      },
                      {
                        "learn": [
                          0.303351817
                        ],
                        "iteration": 129,
                        "passed_time": 0.7934714886,
                        "remaining_time": 1.532010336
                      },
                      {
                        "learn": [
                          0.3031795255
                        ],
                        "iteration": 130,
                        "passed_time": 0.7991747104,
                        "remaining_time": 1.525142577
                      },
                      {
                        "learn": [
                          0.3030211591
                        ],
                        "iteration": 131,
                        "passed_time": 0.8048548696,
                        "remaining_time": 1.518248959
                      },
                      {
                        "learn": [
                          0.3029068982
                        ],
                        "iteration": 132,
                        "passed_time": 0.8104841211,
                        "remaining_time": 1.511278662
                      },
                      {
                        "learn": [
                          0.3027880573
                        ],
                        "iteration": 133,
                        "passed_time": 0.8160191099,
                        "remaining_time": 1.504154628
                      },
                      {
                        "learn": [
                          0.3026977022
                        ],
                        "iteration": 134,
                        "passed_time": 0.8216440605,
                        "remaining_time": 1.497218066
                      },
                      {
                        "learn": [
                          0.3025358942
                        ],
                        "iteration": 135,
                        "passed_time": 0.8273098354,
                        "remaining_time": 1.490374336
                      },
                      {
                        "learn": [
                          0.302342609
                        ],
                        "iteration": 136,
                        "passed_time": 0.8329886665,
                        "remaining_time": 1.483571056
                      },
                      {
                        "learn": [
                          0.3022044951
                        ],
                        "iteration": 137,
                        "passed_time": 0.8386732057,
                        "remaining_time": 1.476794123
                      },
                      {
                        "learn": [
                          0.3019942137
                        ],
                        "iteration": 138,
                        "passed_time": 0.8446069282,
                        "remaining_time": 1.470466738
                      },
                      {
                        "learn": [
                          0.3019109271
                        ],
                        "iteration": 139,
                        "passed_time": 0.8502485487,
                        "remaining_time": 1.463642145
                      },
                      {
                        "learn": [
                          0.3017892005
                        ],
                        "iteration": 140,
                        "passed_time": 0.8559505378,
                        "remaining_time": 1.456937086
                      },
                      {
                        "learn": [
                          0.3016838083
                        ],
                        "iteration": 141,
                        "passed_time": 0.8619085928,
                        "remaining_time": 1.450677139
                      },
                      {
                        "learn": [
                          0.3015806928
                        ],
                        "iteration": 142,
                        "passed_time": 0.8676647877,
                        "remaining_time": 1.444085451
                      },
                      {
                        "learn": [
                          0.3014807012
                        ],
                        "iteration": 143,
                        "passed_time": 0.8733298444,
                        "remaining_time": 1.437355369
                      },
                      {
                        "learn": [
                          0.3012763764
                        ],
                        "iteration": 144,
                        "passed_time": 0.8789700531,
                        "remaining_time": 1.430599535
                      },
                      {
                        "learn": [
                          0.301164551
                        ],
                        "iteration": 145,
                        "passed_time": 0.8850580779,
                        "remaining_time": 1.424579783
                      },
                      {
                        "learn": [
                          0.30107364
                        ],
                        "iteration": 146,
                        "passed_time": 0.890671745,
                        "remaining_time": 1.417804002
                      },
                      {
                        "learn": [
                          0.3009775665
                        ],
                        "iteration": 147,
                        "passed_time": 0.8965290154,
                        "remaining_time": 1.411427436
                      },
                      {
                        "learn": [
                          0.3007413143
                        ],
                        "iteration": 148,
                        "passed_time": 0.9021995566,
                        "remaining_time": 1.404767095
                      },
                      {
                        "learn": [
                          0.3006350749
                        ],
                        "iteration": 149,
                        "passed_time": 0.9079732632,
                        "remaining_time": 1.398278825
                      },
                      {
                        "learn": [
                          0.3005120511
                        ],
                        "iteration": 150,
                        "passed_time": 0.9135659232,
                        "remaining_time": 1.391524254
                      },
                      {
                        "learn": [
                          0.3004058382
                        ],
                        "iteration": 151,
                        "passed_time": 0.9191744586,
                        "remaining_time": 1.384808888
                      },
                      {
                        "learn": [
                          0.3002784197
                        ],
                        "iteration": 152,
                        "passed_time": 0.9250115365,
                        "remaining_time": 1.378448564
                      },
                      {
                        "learn": [
                          0.3001576198
                        ],
                        "iteration": 153,
                        "passed_time": 0.9307038438,
                        "remaining_time": 1.37188164
                      },
                      {
                        "learn": [
                          0.3000022979
                        ],
                        "iteration": 154,
                        "passed_time": 0.9362185991,
                        "remaining_time": 1.365067119
                      },
                      {
                        "learn": [
                          0.2998493323
                        ],
                        "iteration": 155,
                        "passed_time": 0.941835518,
                        "remaining_time": 1.358416612
                      },
                      {
                        "learn": [
                          0.2996837915
                        ],
                        "iteration": 156,
                        "passed_time": 0.9475448661,
                        "remaining_time": 1.351911147
                      },
                      {
                        "learn": [
                          0.2995916627
                        ],
                        "iteration": 157,
                        "passed_time": 0.9533042237,
                        "remaining_time": 1.345486341
                      },
                      {
                        "learn": [
                          0.2993387849
                        ],
                        "iteration": 158,
                        "passed_time": 0.9590059519,
                        "remaining_time": 1.338989442
                      },
                      {
                        "learn": [
                          0.2992328897
                        ],
                        "iteration": 159,
                        "passed_time": 0.9647011938,
                        "remaining_time": 1.332493524
                      },
                      {
                        "learn": [
                          0.2991136252
                        ],
                        "iteration": 160,
                        "passed_time": 0.9704088392,
                        "remaining_time": 1.326024501
                      },
                      {
                        "learn": [
                          0.2990571301
                        ],
                        "iteration": 161,
                        "passed_time": 0.9761688223,
                        "remaining_time": 1.31963563
                      },
                      {
                        "learn": [
                          0.2989365419
                        ],
                        "iteration": 162,
                        "passed_time": 0.9817193499,
                        "remaining_time": 1.312974345
                      },
                      {
                        "learn": [
                          0.2987805847
                        ],
                        "iteration": 163,
                        "passed_time": 0.9873364716,
                        "remaining_time": 1.306414722
                      },
                      {
                        "learn": [
                          0.2986002716
                        ],
                        "iteration": 164,
                        "passed_time": 0.9930882811,
                        "remaining_time": 1.300042841
                      },
                      {
                        "learn": [
                          0.298541685
                        ],
                        "iteration": 165,
                        "passed_time": 0.9987367507,
                        "remaining_time": 1.293544587
                      },
                      {
                        "learn": [
                          0.298418423
                        ],
                        "iteration": 166,
                        "passed_time": 1.004584366,
                        "remaining_time": 1.287311702
                      },
                      {
                        "learn": [
                          0.2983353217
                        ],
                        "iteration": 167,
                        "passed_time": 1.010175489,
                        "remaining_time": 1.28075821
                      },
                      {
                        "learn": [
                          0.298213251
                        ],
                        "iteration": 168,
                        "passed_time": 1.016017058,
                        "remaining_time": 1.274530274
                      },
                      {
                        "learn": [
                          0.2981043377
                        ],
                        "iteration": 169,
                        "passed_time": 1.021958678,
                        "remaining_time": 1.268431065
                      },
                      {
                        "learn": [
                          0.2978517247
                        ],
                        "iteration": 170,
                        "passed_time": 1.027603686,
                        "remaining_time": 1.261969438
                      },
                      {
                        "learn": [
                          0.2977666114
                        ],
                        "iteration": 171,
                        "passed_time": 1.033371166,
                        "remaining_time": 1.255666126
                      },
                      {
                        "learn": [
                          0.2976961116
                        ],
                        "iteration": 172,
                        "passed_time": 1.039112536,
                        "remaining_time": 1.249337615
                      },
                      {
                        "learn": [
                          0.297555721
                        ],
                        "iteration": 173,
                        "passed_time": 1.044812613,
                        "remaining_time": 1.242966729
                      },
                      {
                        "learn": [
                          0.2974527379
                        ],
                        "iteration": 174,
                        "passed_time": 1.050707439,
                        "remaining_time": 1.236832757
                      },
                      {
                        "learn": [
                          0.2973395888
                        ],
                        "iteration": 175,
                        "passed_time": 1.056424074,
                        "remaining_time": 1.230493949
                      },
                      {
                        "learn": [
                          0.2972551109
                        ],
                        "iteration": 176,
                        "passed_time": 1.062167481,
                        "remaining_time": 1.224193028
                      },
                      {
                        "learn": [
                          0.297081231
                        ],
                        "iteration": 177,
                        "passed_time": 1.067824494,
                        "remaining_time": 1.217799844
                      },
                      {
                        "learn": [
                          0.2969590279
                        ],
                        "iteration": 178,
                        "passed_time": 1.073537144,
                        "remaining_time": 1.21147767
                      },
                      {
                        "learn": [
                          0.2968607041
                        ],
                        "iteration": 179,
                        "passed_time": 1.079299662,
                        "remaining_time": 1.205217956
                      },
                      {
                        "learn": [
                          0.2965055315
                        ],
                        "iteration": 180,
                        "passed_time": 1.084963062,
                        "remaining_time": 1.198854213
                      },
                      {
                        "learn": [
                          0.2964284133
                        ],
                        "iteration": 181,
                        "passed_time": 1.090624311,
                        "remaining_time": 1.192495813
                      },
                      {
                        "learn": [
                          0.2963277599
                        ],
                        "iteration": 182,
                        "passed_time": 1.096334804,
                        "remaining_time": 1.186198312
                      },
                      {
                        "learn": [
                          0.2962582662
                        ],
                        "iteration": 183,
                        "passed_time": 1.102021424,
                        "remaining_time": 1.179881633
                      },
                      {
                        "learn": [
                          0.2961607102
                        ],
                        "iteration": 184,
                        "passed_time": 1.107590278,
                        "remaining_time": 1.173446997
                      },
                      {
                        "learn": [
                          0.2960859482
                        ],
                        "iteration": 185,
                        "passed_time": 1.113165184,
                        "remaining_time": 1.167028016
                      },
                      {
                        "learn": [
                          0.2960268057
                        ],
                        "iteration": 186,
                        "passed_time": 1.118864469,
                        "remaining_time": 1.160747096
                      },
                      {
                        "learn": [
                          0.2959230548
                        ],
                        "iteration": 187,
                        "passed_time": 1.124566676,
                        "remaining_time": 1.154475364
                      },
                      {
                        "learn": [
                          0.2958602325
                        ],
                        "iteration": 188,
                        "passed_time": 1.130298358,
                        "remaining_time": 1.148239602
                      },
                      {
                        "learn": [
                          0.2957552374
                        ],
                        "iteration": 189,
                        "passed_time": 1.135876823,
                        "remaining_time": 1.141855122
                      },
                      {
                        "learn": [
                          0.2955929265
                        ],
                        "iteration": 190,
                        "passed_time": 1.141625149,
                        "remaining_time": 1.135648054
                      },
                      {
                        "learn": [
                          0.2955048481
                        ],
                        "iteration": 191,
                        "passed_time": 1.147391831,
                        "remaining_time": 1.129463834
                      },
                      {
                        "learn": [
                          0.2954514769
                        ],
                        "iteration": 192,
                        "passed_time": 1.153052906,
                        "remaining_time": 1.123181069
                      },
                      {
                        "learn": [
                          0.2953736704
                        ],
                        "iteration": 193,
                        "passed_time": 1.158682509,
                        "remaining_time": 1.116874378
                      },
                      {
                        "learn": [
                          0.295280059
                        ],
                        "iteration": 194,
                        "passed_time": 1.164394752,
                        "remaining_time": 1.110653456
                      },
                      {
                        "learn": [
                          0.295216416
                        ],
                        "iteration": 195,
                        "passed_time": 1.170122473,
                        "remaining_time": 1.104452334
                      },
                      {
                        "learn": [
                          0.2951094353
                        ],
                        "iteration": 196,
                        "passed_time": 1.175834154,
                        "remaining_time": 1.098241038
                      },
                      {
                        "learn": [
                          0.2950331378
                        ],
                        "iteration": 197,
                        "passed_time": 1.181730927,
                        "remaining_time": 1.092205857
                      },
                      {
                        "learn": [
                          0.2949937183
                        ],
                        "iteration": 198,
                        "passed_time": 1.187606057,
                        "remaining_time": 1.086152273
                      },
                      {
                        "learn": [
                          0.2948491713
                        ],
                        "iteration": 199,
                        "passed_time": 1.19337882,
                        "remaining_time": 1.080007832
                      },
                      {
                        "learn": [
                          0.2947173317
                        ],
                        "iteration": 200,
                        "passed_time": 1.19906333,
                        "remaining_time": 1.073788056
                      },
                      {
                        "learn": [
                          0.2946598836
                        ],
                        "iteration": 201,
                        "passed_time": 1.204831162,
                        "remaining_time": 1.067647416
                      },
                      {
                        "learn": [
                          0.2945940432
                        ],
                        "iteration": 202,
                        "passed_time": 1.210352172,
                        "remaining_time": 1.061294022
                      },
                      {
                        "learn": [
                          0.2945374422
                        ],
                        "iteration": 203,
                        "passed_time": 1.215983001,
                        "remaining_time": 1.055044075
                      },
                      {
                        "learn": [
                          0.2944568824
                        ],
                        "iteration": 204,
                        "passed_time": 1.22172161,
                        "remaining_time": 1.048892699
                      },
                      {
                        "learn": [
                          0.2943478368
                        ],
                        "iteration": 205,
                        "passed_time": 1.227518123,
                        "remaining_time": 1.042794522
                      },
                      {
                        "learn": [
                          0.2942704803
                        ],
                        "iteration": 206,
                        "passed_time": 1.233268116,
                        "remaining_time": 1.036660155
                      },
                      {
                        "learn": [
                          0.294163685
                        ],
                        "iteration": 207,
                        "passed_time": 1.239005502,
                        "remaining_time": 1.030518999
                      },
                      {
                        "learn": [
                          0.2940759508
                        ],
                        "iteration": 208,
                        "passed_time": 1.24476465,
                        "remaining_time": 1.024399616
                      },
                      {
                        "learn": [
                          0.2938967761
                        ],
                        "iteration": 209,
                        "passed_time": 1.250477111,
                        "remaining_time": 1.018245648
                      },
                      {
                        "learn": [
                          0.2937888688
                        ],
                        "iteration": 210,
                        "passed_time": 1.256149338,
                        "remaining_time": 1.012063448
                      },
                      {
                        "learn": [
                          0.2937086797
                        ],
                        "iteration": 211,
                        "passed_time": 1.261709697,
                        "remaining_time": 1.005796881
                      },
                      {
                        "learn": [
                          0.2935551316
                        ],
                        "iteration": 212,
                        "passed_time": 1.267295062,
                        "remaining_time": 0.9995566687
                      },
                      {
                        "learn": [
                          0.2934192151
                        ],
                        "iteration": 213,
                        "passed_time": 1.272844821,
                        "remaining_time": 0.99329479
                      },
                      {
                        "learn": [
                          0.2933100106
                        ],
                        "iteration": 214,
                        "passed_time": 1.278507946,
                        "remaining_time": 0.9871270649
                      },
                      {
                        "learn": [
                          0.2931936847
                        ],
                        "iteration": 215,
                        "passed_time": 1.284260716,
                        "remaining_time": 0.9810324914
                      },
                      {
                        "learn": [
                          0.2931232379
                        ],
                        "iteration": 216,
                        "passed_time": 1.290001364,
                        "remaining_time": 0.9749319063
                      },
                      {
                        "learn": [
                          0.2930512556
                        ],
                        "iteration": 217,
                        "passed_time": 1.295647218,
                        "remaining_time": 0.9687637455
                      },
                      {
                        "learn": [
                          0.2929891481
                        ],
                        "iteration": 218,
                        "passed_time": 1.301363311,
                        "remaining_time": 0.9626523125
                      },
                      {
                        "learn": [
                          0.2928432774
                        ],
                        "iteration": 219,
                        "passed_time": 1.306966892,
                        "remaining_time": 0.9564621348
                      },
                      {
                        "learn": [
                          0.2927815934
                        ],
                        "iteration": 220,
                        "passed_time": 1.312462173,
                        "remaining_time": 0.9501988584
                      },
                      {
                        "learn": [
                          0.2926693974
                        ],
                        "iteration": 221,
                        "passed_time": 1.318259886,
                        "remaining_time": 0.9441591075
                      },
                      {
                        "learn": [
                          0.292572265
                        ],
                        "iteration": 222,
                        "passed_time": 1.323908421,
                        "remaining_time": 0.9380158318
                      },
                      {
                        "learn": [
                          0.2925102369
                        ],
                        "iteration": 223,
                        "passed_time": 1.329669121,
                        "remaining_time": 0.9319555895
                      },
                      {
                        "learn": [
                          0.292460572
                        ],
                        "iteration": 224,
                        "passed_time": 1.335543788,
                        "remaining_time": 0.9259770263
                      },
                      {
                        "learn": [
                          0.2924017208
                        ],
                        "iteration": 225,
                        "passed_time": 1.341570625,
                        "remaining_time": 0.9201037473
                      },
                      {
                        "learn": [
                          0.2923455963
                        ],
                        "iteration": 226,
                        "passed_time": 1.34716101,
                        "remaining_time": 0.9139330198
                      },
                      {
                        "learn": [
                          0.2921415891
                        ],
                        "iteration": 227,
                        "passed_time": 1.35276499,
                        "remaining_time": 0.9077765062
                      },
                      {
                        "learn": [
                          0.2920145413
                        ],
                        "iteration": 228,
                        "passed_time": 1.358385146,
                        "remaining_time": 0.9016355552
                      },
                      {
                        "learn": [
                          0.2919104993
                        ],
                        "iteration": 229,
                        "passed_time": 1.36391333,
                        "remaining_time": 0.8954387514
                      },
                      {
                        "learn": [
                          0.2918017713
                        ],
                        "iteration": 230,
                        "passed_time": 1.369541522,
                        "remaining_time": 0.8893126769
                      },
                      {
                        "learn": [
                          0.2916205052
                        ],
                        "iteration": 231,
                        "passed_time": 1.375456963,
                        "remaining_time": 0.8833753773
                      },
                      {
                        "learn": [
                          0.2915178133
                        ],
                        "iteration": 232,
                        "passed_time": 1.381603989,
                        "remaining_time": 0.8775853666
                      },
                      {
                        "learn": [
                          0.2914317469
                        ],
                        "iteration": 233,
                        "passed_time": 1.387702863,
                        "remaining_time": 0.871762055
                      },
                      {
                        "learn": [
                          0.2913229131
                        ],
                        "iteration": 234,
                        "passed_time": 1.393589006,
                        "remaining_time": 0.8658042335
                      },
                      {
                        "learn": [
                          0.2912181562
                        ],
                        "iteration": 235,
                        "passed_time": 1.399355438,
                        "remaining_time": 0.8597734684
                      },
                      {
                        "learn": [
                          0.2911333606
                        ],
                        "iteration": 236,
                        "passed_time": 1.405216554,
                        "remaining_time": 0.8538024632
                      },
                      {
                        "learn": [
                          0.2910835634
                        ],
                        "iteration": 237,
                        "passed_time": 1.411089547,
                        "remaining_time": 0.8478395178
                      },
                      {
                        "learn": [
                          0.2910079542
                        ],
                        "iteration": 238,
                        "passed_time": 1.417190849,
                        "remaining_time": 0.842012973
                      },
                      {
                        "learn": [
                          0.2908680137
                        ],
                        "iteration": 239,
                        "passed_time": 1.423045084,
                        "remaining_time": 0.8360389868
                      },
                      {
                        "learn": [
                          0.2907524555
                        ],
                        "iteration": 240,
                        "passed_time": 1.428962143,
                        "remaining_time": 0.8301024897
                      },
                      {
                        "learn": [
                          0.290675655
                        ],
                        "iteration": 241,
                        "passed_time": 1.434608585,
                        "remaining_time": 0.8240107163
                      },
                      {
                        "learn": [
                          0.2905915477
                        ],
                        "iteration": 242,
                        "passed_time": 1.440150138,
                        "remaining_time": 0.8178630411
                      },
                      {
                        "learn": [
                          0.2905373029
                        ],
                        "iteration": 243,
                        "passed_time": 1.445685983,
                        "remaining_time": 0.8117171296
                      },
                      {
                        "learn": [
                          0.2903640847
                        ],
                        "iteration": 244,
                        "passed_time": 1.451308445,
                        "remaining_time": 0.8056242797
                      },
                      {
                        "learn": [
                          0.2902317422
                        ],
                        "iteration": 245,
                        "passed_time": 1.456959703,
                        "remaining_time": 0.7995510564
                      },
                      {
                        "learn": [
                          0.2901132719
                        ],
                        "iteration": 246,
                        "passed_time": 1.462653518,
                        "remaining_time": 0.7935043379
                      },
                      {
                        "learn": [
                          0.2900382716
                        ],
                        "iteration": 247,
                        "passed_time": 1.468276768,
                        "remaining_time": 0.7874226216
                      },
                      {
                        "learn": [
                          0.2899469634
                        ],
                        "iteration": 248,
                        "passed_time": 1.473787418,
                        "remaining_time": 0.7812848963
                      },
                      {
                        "learn": [
                          0.2898302669
                        ],
                        "iteration": 249,
                        "passed_time": 1.479439866,
                        "remaining_time": 0.7752264896
                      },
                      {
                        "learn": [
                          0.2897592641
                        ],
                        "iteration": 250,
                        "passed_time": 1.485240245,
                        "remaining_time": 0.7692479355
                      },
                      {
                        "learn": [
                          0.2896206473
                        ],
                        "iteration": 251,
                        "passed_time": 1.490711931,
                        "remaining_time": 0.7631025363
                      },
                      {
                        "learn": [
                          0.2895487709
                        ],
                        "iteration": 252,
                        "passed_time": 1.49686804,
                        "remaining_time": 0.7573087317
                      },
                      {
                        "learn": [
                          0.2894768945
                        ],
                        "iteration": 253,
                        "passed_time": 1.50271277,
                        "remaining_time": 0.7513563848
                      },
                      {
                        "learn": [
                          0.2894133838
                        ],
                        "iteration": 254,
                        "passed_time": 1.508667061,
                        "remaining_time": 0.7454590184
                      },
                      {
                        "learn": [
                          0.2893145306
                        ],
                        "iteration": 255,
                        "passed_time": 1.514455601,
                        "remaining_time": 0.739480274
                      },
                      {
                        "learn": [
                          0.289276223
                        ],
                        "iteration": 256,
                        "passed_time": 1.520328019,
                        "remaining_time": 0.7335434799
                      },
                      {
                        "learn": [
                          0.2892257904
                        ],
                        "iteration": 257,
                        "passed_time": 1.526044979,
                        "remaining_time": 0.7275330712
                      },
                      {
                        "learn": [
                          0.2891695866
                        ],
                        "iteration": 258,
                        "passed_time": 1.531927673,
                        "remaining_time": 0.7216029967
                      },
                      {
                        "learn": [
                          0.2890885767
                        ],
                        "iteration": 259,
                        "passed_time": 1.537942872,
                        "remaining_time": 0.7157349522
                      },
                      {
                        "learn": [
                          0.2890088905
                        ],
                        "iteration": 260,
                        "passed_time": 1.543818245,
                        "remaining_time": 0.7098014922
                      },
                      {
                        "learn": [
                          0.2888952914
                        ],
                        "iteration": 261,
                        "passed_time": 1.549643868,
                        "remaining_time": 0.703845879
                      },
                      {
                        "learn": [
                          0.2888242093
                        ],
                        "iteration": 262,
                        "passed_time": 1.555630945,
                        "remaining_time": 0.6979636937
                      },
                      {
                        "learn": [
                          0.2887571776
                        ],
                        "iteration": 263,
                        "passed_time": 1.561549551,
                        "remaining_time": 0.6920503691
                      },
                      {
                        "learn": [
                          0.2886605482
                        ],
                        "iteration": 264,
                        "passed_time": 1.567505931,
                        "remaining_time": 0.6861535397
                      },
                      {
                        "learn": [
                          0.2886006644
                        ],
                        "iteration": 265,
                        "passed_time": 1.573277728,
                        "remaining_time": 0.6801764613
                      },
                      {
                        "learn": [
                          0.2885169013
                        ],
                        "iteration": 266,
                        "passed_time": 1.578985091,
                        "remaining_time": 0.6741734098
                      },
                      {
                        "learn": [
                          0.2884364209
                        ],
                        "iteration": 267,
                        "passed_time": 1.584839763,
                        "remaining_time": 0.6682346761
                      },
                      {
                        "learn": [
                          0.2883807465
                        ],
                        "iteration": 268,
                        "passed_time": 1.590725829,
                        "remaining_time": 0.662309639
                      },
                      {
                        "learn": [
                          0.2882910533
                        ],
                        "iteration": 269,
                        "passed_time": 1.596508311,
                        "remaining_time": 0.6563423058
                      },
                      {
                        "learn": [
                          0.2882221684
                        ],
                        "iteration": 270,
                        "passed_time": 1.602321266,
                        "remaining_time": 0.6503887057
                      },
                      {
                        "learn": [
                          0.28814325
                        ],
                        "iteration": 271,
                        "passed_time": 1.608134959,
                        "remaining_time": 0.6444364359
                      },
                      {
                        "learn": [
                          0.288057819
                        ],
                        "iteration": 272,
                        "passed_time": 1.613886438,
                        "remaining_time": 0.6384605689
                      },
                      {
                        "learn": [
                          0.2879828717
                        ],
                        "iteration": 273,
                        "passed_time": 1.620020088,
                        "remaining_time": 0.6326355818
                      },
                      {
                        "learn": [
                          0.2878948198
                        ],
                        "iteration": 274,
                        "passed_time": 1.627800068,
                        "remaining_time": 0.6274429352
                      },
                      {
                        "learn": [
                          0.2877946694
                        ],
                        "iteration": 275,
                        "passed_time": 1.633731299,
                        "remaining_time": 0.6215282114
                      },
                      {
                        "learn": [
                          0.2876933806
                        ],
                        "iteration": 276,
                        "passed_time": 1.639582417,
                        "remaining_time": 0.6155832902
                      },
                      {
                        "learn": [
                          0.2875025044
                        ],
                        "iteration": 277,
                        "passed_time": 1.645507336,
                        "remaining_time": 0.6096663871
                      },
                      {
                        "learn": [
                          0.2874118846
                        ],
                        "iteration": 278,
                        "passed_time": 1.651403647,
                        "remaining_time": 0.6037389678
                      },
                      {
                        "learn": [
                          0.2873337604
                        ],
                        "iteration": 279,
                        "passed_time": 1.65712662,
                        "remaining_time": 0.5977492449
                      },
                      {
                        "learn": [
                          0.2872560597
                        ],
                        "iteration": 280,
                        "passed_time": 1.66298052,
                        "remaining_time": 0.5918080143
                      },
                      {
                        "learn": [
                          0.287163825
                        ],
                        "iteration": 281,
                        "passed_time": 1.668732162,
                        "remaining_time": 0.5858315038
                      },
                      {
                        "learn": [
                          0.2870779175
                        ],
                        "iteration": 282,
                        "passed_time": 1.674475317,
                        "remaining_time": 0.5798536432
                      },
                      {
                        "learn": [
                          0.2870022024
                        ],
                        "iteration": 283,
                        "passed_time": 1.680356213,
                        "remaining_time": 0.5739244812
                      },
                      {
                        "learn": [
                          0.2869538877
                        ],
                        "iteration": 284,
                        "passed_time": 1.686216064,
                        "remaining_time": 0.5679885691
                      },
                      {
                        "learn": [
                          0.2868951423
                        ],
                        "iteration": 285,
                        "passed_time": 1.69200107,
                        "remaining_time": 0.5620283275
                      },
                      {
                        "learn": [
                          0.2868349409
                        ],
                        "iteration": 286,
                        "passed_time": 1.697875204,
                        "remaining_time": 0.5560984989
                      },
                      {
                        "learn": [
                          0.2867819403
                        ],
                        "iteration": 287,
                        "passed_time": 1.704038455,
                        "remaining_time": 0.5502624179
                      },
                      {
                        "learn": [
                          0.2867331491
                        ],
                        "iteration": 288,
                        "passed_time": 1.710351643,
                        "remaining_time": 0.5444718032
                      },
                      {
                        "learn": [
                          0.2866750391
                        ],
                        "iteration": 289,
                        "passed_time": 1.716653615,
                        "remaining_time": 0.5386740653
                      },
                      {
                        "learn": [
                          0.2865451851
                        ],
                        "iteration": 290,
                        "passed_time": 1.722454139,
                        "remaining_time": 0.532717775
                      },
                      {
                        "learn": [
                          0.2864708201
                        ],
                        "iteration": 291,
                        "passed_time": 1.728239644,
                        "remaining_time": 0.5267579737
                      },
                      {
                        "learn": [
                          0.2863637336
                        ],
                        "iteration": 292,
                        "passed_time": 1.733993768,
                        "remaining_time": 0.5207899372
                      },
                      {
                        "learn": [
                          0.2862906394
                        ],
                        "iteration": 293,
                        "passed_time": 1.739764192,
                        "remaining_time": 0.5148281793
                      },
                      {
                        "learn": [
                          0.286235415
                        ],
                        "iteration": 294,
                        "passed_time": 1.745961931,
                        "remaining_time": 0.5089922918
                      },
                      {
                        "learn": [
                          0.2861903831
                        ],
                        "iteration": 295,
                        "passed_time": 1.753529248,
                        "remaining_time": 0.5035472502
                      },
                      {
                        "learn": [
                          0.2860965599
                        ],
                        "iteration": 296,
                        "passed_time": 1.761163587,
                        "remaining_time": 0.4981068731
                      },
                      {
                        "learn": [
                          0.2860214537
                        ],
                        "iteration": 297,
                        "passed_time": 1.768774201,
                        "remaining_time": 0.4926451634
                      },
                      {
                        "learn": [
                          0.2859471682
                        ],
                        "iteration": 298,
                        "passed_time": 1.776482103,
                        "remaining_time": 0.4871957606
                      },
                      {
                        "learn": [
                          0.2858909643
                        ],
                        "iteration": 299,
                        "passed_time": 1.783932194,
                        "remaining_time": 0.4816616923
                      },
                      {
                        "learn": [
                          0.285843285
                        ],
                        "iteration": 300,
                        "passed_time": 1.791379273,
                        "remaining_time": 0.4761140925
                      },
                      {
                        "learn": [
                          0.2857940437
                        ],
                        "iteration": 301,
                        "passed_time": 1.798947623,
                        "remaining_time": 0.4705856364
                      },
                      {
                        "learn": [
                          0.2857420227
                        ],
                        "iteration": 302,
                        "passed_time": 1.805261341,
                        "remaining_time": 0.4647207413
                      },
                      {
                        "learn": [
                          0.285683595
                        ],
                        "iteration": 303,
                        "passed_time": 1.811045519,
                        "remaining_time": 0.4587187662
                      },
                      {
                        "learn": [
                          0.2856057091
                        ],
                        "iteration": 304,
                        "passed_time": 1.816989414,
                        "remaining_time": 0.4527580178
                      },
                      {
                        "learn": [
                          0.2854720958
                        ],
                        "iteration": 305,
                        "passed_time": 1.822805248,
                        "remaining_time": 0.4467659922
                      },
                      {
                        "learn": [
                          0.2854250518
                        ],
                        "iteration": 306,
                        "passed_time": 1.828632602,
                        "remaining_time": 0.4407778909
                      },
                      {
                        "learn": [
                          0.2853730308
                        ],
                        "iteration": 307,
                        "passed_time": 1.834505009,
                        "remaining_time": 0.4348015119
                      },
                      {
                        "learn": [
                          0.2853274164
                        ],
                        "iteration": 308,
                        "passed_time": 1.8404204,
                        "remaining_time": 0.4288358213
                      },
                      {
                        "learn": [
                          0.2852828345
                        ],
                        "iteration": 309,
                        "passed_time": 1.846354516,
                        "remaining_time": 0.422874744
                      },
                      {
                        "learn": [
                          0.2852236126
                        ],
                        "iteration": 310,
                        "passed_time": 1.852424489,
                        "remaining_time": 0.4169444188
                      },
                      {
                        "learn": [
                          0.2851285716
                        ],
                        "iteration": 311,
                        "passed_time": 1.858151154,
                        "remaining_time": 0.4109372745
                      },
                      {
                        "learn": [
                          0.2850672848
                        ],
                        "iteration": 312,
                        "passed_time": 1.864014095,
                        "remaining_time": 0.4049615286
                      },
                      {
                        "learn": [
                          0.2849932375
                        ],
                        "iteration": 313,
                        "passed_time": 1.869930329,
                        "remaining_time": 0.3989978728
                      },
                      {
                        "learn": [
                          0.2849049474
                        ],
                        "iteration": 314,
                        "passed_time": 1.875591105,
                        "remaining_time": 0.3929809934
                      },
                      {
                        "learn": [
                          0.2847613535
                        ],
                        "iteration": 315,
                        "passed_time": 1.8812974,
                        "remaining_time": 0.3869757309
                      },
                      {
                        "learn": [
                          0.2846999342
                        ],
                        "iteration": 316,
                        "passed_time": 1.887197816,
                        "remaining_time": 0.3810115464
                      },
                      {
                        "learn": [
                          0.2846574438
                        ],
                        "iteration": 317,
                        "passed_time": 1.893030318,
                        "remaining_time": 0.3750343082
                      },
                      {
                        "learn": [
                          0.2845873146
                        ],
                        "iteration": 318,
                        "passed_time": 1.898899842,
                        "remaining_time": 0.3690651731
                      },
                      {
                        "learn": [
                          0.2845171591
                        ],
                        "iteration": 319,
                        "passed_time": 1.904769206,
                        "remaining_time": 0.36309663
                      },
                      {
                        "learn": [
                          0.2844339519
                        ],
                        "iteration": 320,
                        "passed_time": 1.910718796,
                        "remaining_time": 0.3571437002
                      },
                      {
                        "learn": [
                          0.2843020858
                        ],
                        "iteration": 321,
                        "passed_time": 1.916540678,
                        "remaining_time": 0.3511673912
                      },
                      {
                        "learn": [
                          0.2842485029
                        ],
                        "iteration": 322,
                        "passed_time": 1.922432162,
                        "remaining_time": 0.3452045369
                      },
                      {
                        "learn": [
                          0.2840338797
                        ],
                        "iteration": 323,
                        "passed_time": 1.92832454,
                        "remaining_time": 0.3392422801
                      },
                      {
                        "learn": [
                          0.2839843207
                        ],
                        "iteration": 324,
                        "passed_time": 1.934330155,
                        "remaining_time": 0.3332999652
                      },
                      {
                        "learn": [
                          0.283910247
                        ],
                        "iteration": 325,
                        "passed_time": 1.94026,
                        "remaining_time": 0.3273444786
                      },
                      {
                        "learn": [
                          0.2838544667
                        ],
                        "iteration": 326,
                        "passed_time": 1.946323071,
                        "remaining_time": 0.3214111493
                      },
                      {
                        "learn": [
                          0.2837900295
                        ],
                        "iteration": 327,
                        "passed_time": 1.952087791,
                        "remaining_time": 0.3154288199
                      },
                      {
                        "learn": [
                          0.2837539986
                        ],
                        "iteration": 328,
                        "passed_time": 1.958059831,
                        "remaining_time": 0.3094805811
                      },
                      {
                        "learn": [
                          0.2836896673
                        ],
                        "iteration": 329,
                        "passed_time": 1.963801784,
                        "remaining_time": 0.3034966393
                      },
                      {
                        "learn": [
                          0.2835800922
                        ],
                        "iteration": 330,
                        "passed_time": 1.969525622,
                        "remaining_time": 0.2975114233
                      },
                      {
                        "learn": [
                          0.2834403369
                        ],
                        "iteration": 331,
                        "passed_time": 1.975323592,
                        "remaining_time": 0.2915387229
                      },
                      {
                        "learn": [
                          0.2833788118
                        ],
                        "iteration": 332,
                        "passed_time": 1.981127317,
                        "remaining_time": 0.2855679016
                      },
                      {
                        "learn": [
                          0.283326526
                        ],
                        "iteration": 333,
                        "passed_time": 1.986841897,
                        "remaining_time": 0.2795855364
                      },
                      {
                        "learn": [
                          0.2832678866
                        ],
                        "iteration": 334,
                        "passed_time": 1.992862184,
                        "remaining_time": 0.2736467476
                      },
                      {
                        "learn": [
                          0.2831836734
                        ],
                        "iteration": 335,
                        "passed_time": 1.999170162,
                        "remaining_time": 0.2677460038
                      },
                      {
                        "learn": [
                          0.2831219365
                        ],
                        "iteration": 336,
                        "passed_time": 2.005254061,
                        "remaining_time": 0.2618135866
                      },
                      {
                        "learn": [
                          0.2830818816
                        ],
                        "iteration": 337,
                        "passed_time": 2.011284277,
                        "remaining_time": 0.2558734436
                      },
                      {
                        "learn": [
                          0.2830290663
                        ],
                        "iteration": 338,
                        "passed_time": 2.017433901,
                        "remaining_time": 0.2499475629
                      },
                      {
                        "learn": [
                          0.2829726507
                        ],
                        "iteration": 339,
                        "passed_time": 2.023469228,
                        "remaining_time": 0.2440065834
                      },
                      {
                        "learn": [
                          0.2829286512
                        ],
                        "iteration": 340,
                        "passed_time": 2.029369748,
                        "remaining_time": 0.2380492373
                      },
                      {
                        "learn": [
                          0.2828604547
                        ],
                        "iteration": 341,
                        "passed_time": 2.035070411,
                        "remaining_time": 0.2320694328
                      },
                      {
                        "learn": [
                          0.2827992472
                        ],
                        "iteration": 342,
                        "passed_time": 2.040854003,
                        "remaining_time": 0.2261004435
                      },
                      {
                        "learn": [
                          0.2827563067
                        ],
                        "iteration": 343,
                        "passed_time": 2.046664284,
                        "remaining_time": 0.2201354027
                      },
                      {
                        "learn": [
                          0.2826858864
                        ],
                        "iteration": 344,
                        "passed_time": 2.053027438,
                        "remaining_time": 0.21422895
                      },
                      {
                        "learn": [
                          0.2826405367
                        ],
                        "iteration": 345,
                        "passed_time": 2.058879904,
                        "remaining_time": 0.2082681984
                      },
                      {
                        "learn": [
                          0.2825138596
                        ],
                        "iteration": 346,
                        "passed_time": 2.064792654,
                        "remaining_time": 0.2023139777
                      },
                      {
                        "learn": [
                          0.2824394682
                        ],
                        "iteration": 347,
                        "passed_time": 2.070651841,
                        "remaining_time": 0.196354916
                      },
                      {
                        "learn": [
                          0.2823769635
                        ],
                        "iteration": 348,
                        "passed_time": 2.0764532,
                        "remaining_time": 0.1903911244
                      },
                      {
                        "learn": [
                          0.282303234
                        ],
                        "iteration": 349,
                        "passed_time": 2.082277227,
                        "remaining_time": 0.1844302687
                      },
                      {
                        "learn": [
                          0.2822004891
                        ],
                        "iteration": 350,
                        "passed_time": 2.088098073,
                        "remaining_time": 0.1784699207
                      },
                      {
                        "learn": [
                          0.2821291157
                        ],
                        "iteration": 351,
                        "passed_time": 2.093869864,
                        "remaining_time": 0.172506324
                      },
                      {
                        "learn": [
                          0.2820663463
                        ],
                        "iteration": 352,
                        "passed_time": 2.099692264,
                        "remaining_time": 0.1665478283
                      },
                      {
                        "learn": [
                          0.2819918755
                        ],
                        "iteration": 353,
                        "passed_time": 2.105507645,
                        "remaining_time": 0.1605895662
                      },
                      {
                        "learn": [
                          0.2818602477
                        ],
                        "iteration": 354,
                        "passed_time": 2.111312127,
                        "remaining_time": 0.1546313107
                      },
                      {
                        "learn": [
                          0.2818133097
                        ],
                        "iteration": 355,
                        "passed_time": 2.11723053,
                        "remaining_time": 0.1486819192
                      },
                      {
                        "learn": [
                          0.2817651009
                        ],
                        "iteration": 356,
                        "passed_time": 2.123037968,
                        "remaining_time": 0.1427252415
                      },
                      {
                        "learn": [
                          0.2816783992
                        ],
                        "iteration": 357,
                        "passed_time": 2.12873752,
                        "remaining_time": 0.1367624664
                      },
                      {
                        "learn": [
                          0.2816202627
                        ],
                        "iteration": 358,
                        "passed_time": 2.134614131,
                        "remaining_time": 0.130812008
                      },
                      {
                        "learn": [
                          0.281589103
                        ],
                        "iteration": 359,
                        "passed_time": 2.140620755,
                        "remaining_time": 0.124869544
                      },
                      {
                        "learn": [
                          0.2814840549
                        ],
                        "iteration": 360,
                        "passed_time": 2.146598971,
                        "remaining_time": 0.1189251508
                      },
                      {
                        "learn": [
                          0.2814464886
                        ],
                        "iteration": 361,
                        "passed_time": 2.152734718,
                        "remaining_time": 0.1129888388
                      },
                      {
                        "learn": [
                          0.2814012449
                        ],
                        "iteration": 362,
                        "passed_time": 2.158647957,
                        "remaining_time": 0.1070403946
                      },
                      {
                        "learn": [
                          0.2813144637
                        ],
                        "iteration": 363,
                        "passed_time": 2.164540966,
                        "remaining_time": 0.101091199
                      },
                      {
                        "learn": [
                          0.2812752295
                        ],
                        "iteration": 364,
                        "passed_time": 2.170499892,
                        "remaining_time": 0.09514520073
                      },
                      {
                        "learn": [
                          0.281211057
                        ],
                        "iteration": 365,
                        "passed_time": 2.176435613,
                        "remaining_time": 0.08919818087
                      },
                      {
                        "learn": [
                          0.2811755027
                        ],
                        "iteration": 366,
                        "passed_time": 2.182349439,
                        "remaining_time": 0.0832503873
                      },
                      {
                        "learn": [
                          0.2811141629
                        ],
                        "iteration": 367,
                        "passed_time": 2.188164149,
                        "remaining_time": 0.07729927699
                      },
                      {
                        "learn": [
                          0.2810570589
                        ],
                        "iteration": 368,
                        "passed_time": 2.194144927,
                        "remaining_time": 0.07135430657
                      },
                      {
                        "learn": [
                          0.280966439
                        ],
                        "iteration": 369,
                        "passed_time": 2.200094902,
                        "remaining_time": 0.06540822682
                      },
                      {
                        "learn": [
                          0.2809332409
                        ],
                        "iteration": 370,
                        "passed_time": 2.205962573,
                        "remaining_time": 0.05945990764
                      },
                      {
                        "learn": [
                          0.2808764281
                        ],
                        "iteration": 371,
                        "passed_time": 2.211773749,
                        "remaining_time": 0.05351065521
                      },
                      {
                        "learn": [
                          0.280750201
                        ],
                        "iteration": 372,
                        "passed_time": 2.217533252,
                        "remaining_time": 0.04756103489
                      },
                      {
                        "learn": [
                          0.2806389316
                        ],
                        "iteration": 373,
                        "passed_time": 2.223308092,
                        "remaining_time": 0.0416127183
                      },
                      {
                        "learn": [
                          0.2805557509
                        ],
                        "iteration": 374,
                        "passed_time": 2.229035228,
                        "remaining_time": 0.03566456365
                      },
                      {
                        "learn": [
                          0.2805017178
                        ],
                        "iteration": 375,
                        "passed_time": 2.234742955,
                        "remaining_time": 0.02971732653
                      },
                      {
                        "learn": [
                          0.2804311916
                        ],
                        "iteration": 376,
                        "passed_time": 2.240574977,
                        "remaining_time": 0.0237726788
                      },
                      {
                        "learn": [
                          0.2803668603
                        ],
                        "iteration": 377,
                        "passed_time": 2.246498018,
                        "remaining_time": 0.01782934935
                      },
                      {
                        "learn": [
                          0.2802828059
                        ],
                        "iteration": 378,
                        "passed_time": 2.252246513,
                        "remaining_time": 0.01188520587
                      },
                      {
                        "learn": [
                          0.2802222338
                        ],
                        "iteration": 379,
                        "passed_time": 2.257994152,
                        "remaining_time": 0.005942089875
                      },
                      {
                        "learn": [
                          0.280140218
                        ],
                        "iteration": 380,
                        "passed_time": 2.263674645,
                        "remaining_time": 0
                      }
                    ],
                    "meta": {
                      "test_sets": [],
                      "test_metrics": [],
                      "learn_metrics": [
                        {
                          "best_value": "Min",
                          "name": "Logloss"
                        }
                      ],
                      "launch_mode": "Train",
                      "parameters": "",
                      "iteration_count": 381,
                      "learn_sets": [
                        "learn"
                      ],
                      "name": "experiment"
                    }
                  }
                }
              }
            },
            "layout": "IPY_MODEL_5f8716eccc424743967171fb6b87a837",
            "tabbable": null,
            "tooltip": null
          }
        }
      }
    }
  },
  "nbformat": 4,
  "nbformat_minor": 0
}