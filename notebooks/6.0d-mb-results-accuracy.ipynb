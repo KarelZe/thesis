{
 "cells": [
  {
   "cell_type": "code",
   "execution_count": 4,
   "metadata": {
    "id": "7WXF7w4VyVgG"
   },
   "outputs": [],
   "source": [
    "import os\n",
    "import sys\n",
    "from pathlib import Path\n",
    "\n",
    "import numpy as np\n",
    "import pandas as pd\n",
    "from sklearn.metrics import accuracy_score\n",
    "\n",
    "sys.path.append(\"..\")\n",
    "\n",
    "\n",
    "import wandb\n"
   ]
  },
  {
   "cell_type": "code",
   "execution_count": 5,
   "metadata": {},
   "outputs": [
    {
     "data": {
      "text/html": [
       "Finishing last run (ID:38r7vfh0) before initializing another..."
      ],
      "text/plain": [
       "<IPython.core.display.HTML object>"
      ]
     },
     "metadata": {},
     "output_type": "display_data"
    },
    {
     "data": {
      "text/html": [
       "Waiting for W&B process to finish... <strong style=\"color:green\">(success).</strong>"
      ],
      "text/plain": [
       "<IPython.core.display.HTML object>"
      ]
     },
     "metadata": {},
     "output_type": "display_data"
    },
    {
     "data": {
      "application/vnd.jupyter.widget-view+json": {
       "model_id": "f4e709be5c4a437fafe0269942a3578d",
       "version_major": 2,
       "version_minor": 0
      },
      "text/plain": [
       "VBox(children=(Label(value='0.009 MB of 0.009 MB uploaded (0.000 MB deduped)\\r'), FloatProgress(value=1.0, max…"
      ]
     },
     "metadata": {},
     "output_type": "display_data"
    },
    {
     "data": {
      "text/html": [
       "Synced <strong style=\"color:#cdcd00\">summer-snowball-800</strong>: <a href=\"https://wandb.ai/fbv/thesis/runs/38r7vfh0\" target=\"_blank\">https://wandb.ai/fbv/thesis/runs/38r7vfh0</a><br/>Synced 5 W&B file(s), 0 media file(s), 0 artifact file(s) and 0 other file(s)"
      ],
      "text/plain": [
       "<IPython.core.display.HTML object>"
      ]
     },
     "metadata": {},
     "output_type": "display_data"
    },
    {
     "data": {
      "text/html": [
       "Find logs at: <code>./wandb/run-20230313_163403-38r7vfh0/logs</code>"
      ],
      "text/plain": [
       "<IPython.core.display.HTML object>"
      ]
     },
     "metadata": {},
     "output_type": "display_data"
    },
    {
     "data": {
      "text/html": [
       "Successfully finished last run (ID:38r7vfh0). Initializing new run:<br/>"
      ],
      "text/plain": [
       "<IPython.core.display.HTML object>"
      ]
     },
     "metadata": {},
     "output_type": "display_data"
    },
    {
     "data": {
      "application/vnd.jupyter.widget-view+json": {
       "model_id": "43e41a1cc21545f1b999d87c8d6cdb1e",
       "version_major": 2,
       "version_minor": 0
      },
      "text/plain": [
       "VBox(children=(Label(value='Waiting for wandb.init()...\\r'), FloatProgress(value=0.016669095059235892, max=1.0…"
      ]
     },
     "metadata": {},
     "output_type": "display_data"
    },
    {
     "data": {
      "text/html": [
       "wandb version 0.13.11 is available!  To upgrade, please run:\n",
       " $ pip install wandb --upgrade"
      ],
      "text/plain": [
       "<IPython.core.display.HTML object>"
      ]
     },
     "metadata": {},
     "output_type": "display_data"
    },
    {
     "data": {
      "text/html": [
       "Tracking run with wandb version 0.13.5"
      ],
      "text/plain": [
       "<IPython.core.display.HTML object>"
      ]
     },
     "metadata": {},
     "output_type": "display_data"
    },
    {
     "data": {
      "text/html": [
       "Run data is saved locally in <code>/pfs/data5/home/kit/stud/uloak/thesis/notebooks/wandb/run-20230313_163425-1d0jabbx</code>"
      ],
      "text/plain": [
       "<IPython.core.display.HTML object>"
      ]
     },
     "metadata": {},
     "output_type": "display_data"
    },
    {
     "data": {
      "text/html": [
       "Syncing run <strong><a href=\"https://wandb.ai/fbv/thesis/runs/1d0jabbx\" target=\"_blank\">peach-leaf-801</a></strong> to <a href=\"https://wandb.ai/fbv/thesis\" target=\"_blank\">Weights & Biases</a> (<a href=\"https://wandb.me/run\" target=\"_blank\">docs</a>)<br/>"
      ],
      "text/plain": [
       "<IPython.core.display.HTML object>"
      ]
     },
     "metadata": {},
     "output_type": "display_data"
    },
    {
     "name": "stderr",
     "output_type": "stream",
     "text": [
      "\u001b[34m\u001b[1mwandb\u001b[0m: Downloading large artifact train_val_test_ultra:v0, 3391.53MB. 3 files... \n",
      "\u001b[34m\u001b[1mwandb\u001b[0m:   3 of 3 files downloaded.  \n",
      "Done. 0:0:0.0\n"
     ]
    }
   ],
   "source": [
    "os.environ[\"GCLOUD_PROJECT\"] = \"flowing-mantis-239216\"\n",
    "\n",
    "run = wandb.init(project=\"thesis\", entity=\"fbv\")\n",
    "\n",
    "dataset = \"fbv/thesis/train_val_test_ultra:v0\"\n",
    "results = \"fbv/thesis/results_classical_clf:v0\"\n",
    "\n",
    "fname_dataset = \"test_set_extended_20\"\n",
    "fname_results = \"results_classical_clf_ise\"\n",
    "\n",
    "\n",
    "# load unscaled data\n",
    "artifact = run.use_artifact(dataset) # type: ignore\n",
    "data_dir = artifact.download()\n",
    "\n",
    "# load results\n",
    "artifact = run.use_artifact(results) # type: ignore\n",
    "results_dir = artifact.download()\n"
   ]
  },
  {
   "cell_type": "code",
   "execution_count": 6,
   "metadata": {
    "id": "WmXtH-PEqyQE"
   },
   "outputs": [],
   "source": [
    "# p. 35-38\n",
    "\n",
    "columns = [\n",
    "    \"buy_sell\",\n",
    "    \"EXPIRATION\",\n",
    "    \"QUOTE_DATETIME\",\n",
    "    \"TRADE_SIZE\",\n",
    "    \"myn\",\n",
    "    \"otion_type\",\n",
    "    \"issue_type\"\n",
    "]\n",
    "\n",
    "eval_data = pd.read_parquet(\n",
    "    Path(data_dir, fname_dataset), engine=\"fastparquet\", columns=columns\n",
    ")\n",
    "results_data = pd.read_parquet(\n",
    "    Path(results_dir, fname_results), engine=\"fastparquet\"\n",
    ")\n",
    "\n",
    "assert len(eval_data) == len(results_data)\n",
    "\n",
    "# X_print = pd.concat([eval_data, results_data], axis=1)\n",
    "X_print = eval_data.copy()\n"
   ]
  },
  {
   "cell_type": "markdown",
   "metadata": {
    "id": "h3vzAVSc_DfD"
   },
   "source": [
    "### Robustness Checks"
   ]
  },
  {
   "cell_type": "code",
   "execution_count": 8,
   "metadata": {
    "id": "3evMG-KVA2eX"
   },
   "outputs": [],
   "source": [
    "\n",
    "# # prepare columns for printing\n",
    "# self.X_[\"ttm\"] = (\n",
    "#     self.X_[\"EXPIRATION\"].dt.to_period(\"M\")\n",
    "#     - self.X_[\"QUOTE_DATETIME\"].dt.to_period(\"M\")\n",
    "# ).apply(lambda x: x.n)\n",
    "\n",
    "X_print[\"year\"] = X_print[\"QUOTE_DATETIME\"].dt.year\n",
    "\n",
    "bins_tradesize = [-1, 1, 3, 5, 11, np.inf]\n",
    "trade_size_labels = [\"(0,1]\", \"(1,3]\", \"(3,5]\", \"(5,11]\", \">11\"]\n",
    "X_print[\"TRADE_SIZE_binned\"] = pd.cut(\n",
    "    X_print[\"TRADE_SIZE\"], bins_tradesize, labels=trade_size_labels\n",
    ")\n",
    "\n",
    "bins_years = [2004, 2007, 2010, 2011, 2012, 2013, 2014, 2015, 2016, 2017]\n",
    "year_labels = [\n",
    "    \"2005-2007\",\n",
    "    \"2008-2010\",\n",
    "    \"2011\",\n",
    "    \"2012\",\n",
    "    \"2013\",\n",
    "    \"2014\",\n",
    "    \"2015\",\n",
    "    \"2016\",\n",
    "    \"2017\",\n",
    "]\n",
    "X_print[\"year_binned\"] = pd.cut(X_print[\"year\"], bins_years, labels=year_labels)\n",
    "\n",
    "bins_ttm = [-1, 1, 2, 3, 6, 12, np.inf]\n",
    "ttm_labels = [\n",
    "    \"ttm <= 1 month\",\n",
    "    \"ttm (1-2] month\",\n",
    "    \"ttm (2-3] month\",\n",
    "    \"ttm (3-6] month\",\n",
    "    \"ttm (6-12] month\",\n",
    "    \"ttm > 12 month\",\n",
    "]\n",
    "X_print[\"ttm_binned\"] = pd.cut(X_print[\"ttm\"], bins_ttm, labels=ttm_labels)\n",
    "\n",
    "# TODO: Security type\n",
    "# TODO: Moneyness\n",
    "# TODO: time from previous trade; same underlying or any?\n",
    "\n",
    "\n"
   ]
  },
  {
   "cell_type": "code",
   "execution_count": 9,
   "metadata": {
    "id": "clDZ4Z95_0jj"
   },
   "outputs": [],
   "source": [
    "def check_robustness(criterion: str = \"year_binned\") -> pd.DataFrame:\n",
    "    \"\"\"\n",
    "    Check robustness of rules by calculating the accuracy for a given\n",
    "    criterion and rules.\n",
    "\n",
    "    Example:\n",
    "    rule\t\tBaseline\n",
    "    TRADE_SIZE_binned\n",
    "    (0,1]\t  0.710966\n",
    "    (1,3]\t  0.717664\n",
    "    (3,5]\t  0.715195\n",
    "    (5,11]\t0.699428\n",
    "    >11\t  \t0.688348\n",
    "\n",
    "    Args:\n",
    "        criterion (str, optional): criterion to check robustness for.\n",
    "        Defaults to \"year_binned\".\n",
    "\n",
    "    Returns:\n",
    "        pd.DataFrame: DataFrame with accuracy of rules. Rule in columns and\n",
    "        criterion values in rows.\n",
    "    \"\"\"\n",
    "\n",
    "    # fill others randomly with equal weights\n",
    "    X_print[\"buy_sell_predicted\"] = X_print[\"buy_sell_predicted\"].map(\n",
    "        lambda l: l if not np.isnan(l) else np.random.choice([-1, 1])\n",
    "    )\n",
    "\n",
    "    # cuculate average over columns if multiple subsets are combined\n",
    "    results = (\n",
    "        X_print.groupby([\"rule\", criterion])[[\"buy_sell\", \"buy_sell_predicted\"]]\n",
    "        .apply(lambda x: accuracy_score(x[\"buy_sell\"], x[\"buy_sell_predicted\"]))\n",
    "        .unstack(level=0)\n",
    "        # .assign(avg=lambda x: x.mean(axis=1))\n",
    "        .mul(100)\n",
    "    )\n",
    "    return results\n"
   ]
  },
  {
   "cell_type": "code",
   "execution_count": 10,
   "metadata": {
    "id": "bbI1lWosVoCj"
   },
   "outputs": [],
   "source": [
    "def combine_results(revised: pd.DataFrame, base: pd.DataFrame) -> pd.DataFrame:\n",
    "    \"\"\"\n",
    "    Generate print layout like in Grauer et al.\n",
    "\n",
    "    Example:\n",
    "    TRADE_SIZE_binned\t(0,1]\t(1,3]\t(3,5]\t(5,11]\t>11\n",
    "    rule\n",
    "    tick rule (all)\t62.29 (10.38)\t62.91 (10.27)\t63.54 (11.08)\t58.64 (5.62)\t55.41 (-0.94)\n",
    "    \"\"\"\n",
    "    combo = base.copy()\n",
    "    for i, col in enumerate(combo.columns):\n",
    "        col_other = revised.columns[i]\n",
    "        combo[col] = (\n",
    "            revised[col_other].round(2).astype(str)\n",
    "            + \" (\"\n",
    "            + (revised[col_other] - base[col]).round(2).astype(str)\n",
    "            + \")\"\n",
    "        )\n",
    "    return combo.T\n"
   ]
  }
 ],
 "metadata": {
  "colab": {
   "include_colab_link": true,
   "machine_shape": "hm",
   "name": "Untitled2.ipynb",
   "provenance": []
  },
  "gpuClass": "premium",
  "kernelspec": {
   "display_name": "mykernel",
   "language": "python",
   "name": "mykernel"
  },
  "language_info": {
   "codemirror_mode": {
    "name": "ipython",
    "version": 3
   },
   "file_extension": ".py",
   "mimetype": "text/x-python",
   "name": "python",
   "nbconvert_exporter": "python",
   "pygments_lexer": "ipython3",
   "version": "3.8.6"
  },
  "vscode": {
   "interpreter": {
    "hash": "f8ea8b642289b706932f10b33ee389827410dbaef0ce2c5bf73615e8d3267d88"
   }
  }
 },
 "nbformat": 4,
 "nbformat_minor": 4
}
